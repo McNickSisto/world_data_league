{
  "nbformat": 4,
  "nbformat_minor": 0,
  "metadata": {
    "colab": {
      "name": "Untitled0.ipynb",
      "provenance": [],
      "authorship_tag": "ABX9TyOs1anw84l6L6d12m4r18Hn",
      "include_colab_link": true
    },
    "kernelspec": {
      "name": "python3",
      "display_name": "Python 3"
    },
    "language_info": {
      "name": "python"
    }
  },
  "cells": [
    {
      "cell_type": "markdown",
      "metadata": {
        "id": "view-in-github",
        "colab_type": "text"
      },
      "source": [
        "<a href=\"https://colab.research.google.com/github/McNickSisto/world_data_league/blob/activities/challenge_4/mg_green_vis.ipynb\" target=\"_parent\"><img src=\"https://colab.research.google.com/assets/colab-badge.svg\" alt=\"Open In Colab\"/></a>"
      ]
    },
    {
      "cell_type": "markdown",
      "metadata": {
        "id": "mS4o9zUb5g_K"
      },
      "source": [
        "# Intro"
      ]
    },
    {
      "cell_type": "markdown",
      "metadata": {
        "id": "sRtejeGf5XKz"
      },
      "source": [
        "## Challenge Goals: \n",
        "Attracting people to green spaces in metropolitan areas is one of the most recent challenges for big cities. Encouraging people to spend more time in green spaces is one of the priority goals of municipal governments. It is fundamental to understand how various dimensions are linked to the search for green space in large Metropolitan Areas, such as in the metropolitan area of Porto and Lisbon. How can socio-demographic dimensions, tourist attraction, and people’s mobility level non-resident in the influence area of the green spaces explain the demand for these spaces?\n",
        "\n",
        "## Outcome The challenge is composed of two outcomes:\n",
        "\n",
        "Create a model that predicts the daily average demand of a green space and which factors contribute the most to the prediction—example of these factors: socio-demographic, touristic attraction points, mobility and others.\n",
        "\n",
        "Based on the previous outcome, suggest action points that can be taken by the city hall to increase the usage of the green spaces in the city.\n",
        "\n"
      ]
    },
    {
      "cell_type": "markdown",
      "metadata": {
        "id": "-TLr0NB05RUZ"
      },
      "source": [
        "# Imports"
      ]
    },
    {
      "cell_type": "code",
      "metadata": {
        "id": "uRXwo33O5nHx"
      },
      "source": [
        "bb"
      ],
      "execution_count": null,
      "outputs": []
    },
    {
      "cell_type": "code",
      "metadata": {
        "id": "qIFNZ1Gq6bWu"
      },
      "source": [
        ""
      ],
      "execution_count": null,
      "outputs": []
    },
    {
      "cell_type": "code",
      "metadata": {
        "id": "RqHH72Wc6bZS"
      },
      "source": [
        "url = https://wdl-data.fra1.digitaloceanspaces.com/pse/WDL_Green_Areas_Dataset_V1\n"
      ],
      "execution_count": null,
      "outputs": []
    },
    {
      "cell_type": "code",
      "metadata": {
        "id": "X5ViyNh96bcI"
      },
      "source": [
        ""
      ],
      "execution_count": null,
      "outputs": []
    },
    {
      "cell_type": "code",
      "metadata": {
        "id": "SC8DZ4ip6bfA"
      },
      "source": [
        ""
      ],
      "execution_count": null,
      "outputs": []
    }
  ]
}