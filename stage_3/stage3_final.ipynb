{
 "cells": [
  {
   "cell_type": "markdown",
   "metadata": {
    "id": "JeP6xkRIBJco"
   },
   "source": [
    "# World Data League 2021 🚲"
   ]
  },
  {
   "cell_type": "markdown",
   "metadata": {},
   "source": [
    "**Sub:** Predicting the demand for shared bicycles in Medellín, CO<br>\n",
    "**Team:** NextEpoch"
   ]
  },
  {
   "cell_type": "markdown",
   "metadata": {
    "id": "JeP6xkRIBJco"
   },
   "source": [
    "## Notebook Template (WDL content)"
   ]
  },
  {
   "cell_type": "markdown",
   "metadata": {
    "id": "JeP6xkRIBJco"
   },
   "source": [
    "This notebook is one of the mandatory deliverables when you submit your solution (alongside the video pitch). Its structure follows the WDL evaluation criteria and it has dedicated cells where you can add descriptions. Make sure your code is readable as it will be the only technical support the jury will have to evaluate your work.\n",
    "The notebook must:\n",
    "*   💻 have all the code that you want the jury to evaluate\n",
    "*   🧱 follow the predefined structure\n",
    "*   📄 have markdown descriptions where you find necessary\n",
    "*   👀 be saved with all the output that you want the jury to see\n",
    "*   🏃‍♂️ be runnable"
   ]
  },
  {
   "cell_type": "markdown",
   "metadata": {
    "id": "1QNcZrkVu9xf"
   },
   "source": [
    "## External links and resources 🔗"
   ]
  },
  {
   "cell_type": "markdown",
   "metadata": {
    "id": "1QNcZrkVu9xf"
   },
   "source": [
    "All used data was acquired through the following links:"
   ]
  },
  {
   "cell_type": "markdown",
   "metadata": {},
   "source": [
    "1. Metro link: https://wdl-data.fra1.digitaloceanspaces.com/medellin/medellin_metro_stations_and_routes.zip\n",
    "2. Bike load csv: https://wdl-data.fra1.digitaloceanspaces.com/medellin/bike_loans.zip\n",
    "3. Bus routes: https://wdl-data.fra1.digitaloceanspaces.com/medellin/medellin_bus_routes.zip\n",
    "4. Weather API: https://openweathermap.org/history\n",
    "5. HERE API Route calculation: https://route.ls.hereapi.com/routing/7.2/calculateroute.json\n",
    "6. Climate of Medellin: https://en.wikipedia.org/wiki/Medell%C3%ADn#Climate\n",
    "7. Academic holiday info of Medellin: https://www.mineducacion.gov.co/1759/articles-402903_m_07.pdf"
   ]
  },
  {
   "cell_type": "markdown",
   "metadata": {
    "id": "63ltgxp_rOpI"
   },
   "source": [
    "## Introduction 👩‍🏫"
   ]
  },
  {
   "cell_type": "markdown",
   "metadata": {
    "id": "63ltgxp_rOpI"
   },
   "source": [
    "**Overview:**\n",
    "During this 2-week’s sprint we are working on historical bike rental data from the provider 'EnCicla' in Medellin, Colombia. The company is government owned and provides over 1,600 bicycles distributed in over 101 stations in Medellin and its greater area. The bike rental is for free for everyone who is registered in the system. However, it has operating hours at which the rentals are permitted, usually between 5am to 10pm. Additionally, on Sundays it seems that EnCicla does not run.\n",
    "\n",
    "_from challenge description_\n",
    "<blockquote>\n",
    "One of the main challenges that the system has is to keep bicycles available by the time the user approaches the station to make a loan and have anchor points available for the moment the user wants to deliver the borrowed bike.\n",
    "</blockquote>\n",
    "\n",
    "The heart of the provided **data** is a transaction log for each bike pick-up and drop-off since 2014. In total there are aprox. 14m rows in the data set. One of the main challenges is to preprocess the data and make it usable for a system balance prediction model. The data includes pre and post covid rentals. \n",
    "\n",
    "We decided to narrow it down to a pre-covid analysis because we assumed that the data would be more appropriate in trying to predict future post-covid trends. \n",
    "\n",
    "In our project, we:\n",
    "\n",
    "* Extracted the information\n",
    "* Explored & Visualized the data\n",
    "* Preprocessed & Feature Engineered\n",
    "* Developed Time-Series Model to predict demand per station "
   ]
  },
  {
   "cell_type": "markdown",
   "metadata": {},
   "source": [
    "**Research:**\n",
    "\n",
    "EnCicla is a public bicycle renting service in Medellín, Colombia, which began in 2011. It is one of two the public bike sharing programs in Colombia and was the first such program created in Latin America. It is part of the Aburrá Valley Integrated Transport System (Sistema Integrado de Transporte del Valle de Aburrá, SITVA).\n",
    "\n",
    "To start using Encicla, you just need to go to an Encicla station and take your first bike. However, you need to know that there are two different types of stations: **manual and automatic**. On the manual stations, there is an Encicla employee to whom you need to show your cívica card. On the automatic stations, you need to place your card over the electronic totem to unblock it.\n",
    "When you already have the bike with you, you have 1 hour to use it. In case you need more time, you can renew the rent in any of the Encicla stations of Medellin.\n",
    "\n",
    "**Monday to Friday:** \n",
    "* 5:30 am to 10:00 pm\n",
    "* Last loan: 9:00 pm\n",
    "\n",
    "**Saturday:**\n",
    "* 6:30 am to 9:00 pm\n",
    "\n",
    "**Special Stations:**\n",
    "However, there is a special schedule for the Cisneros, Unaula and Museo de Antioquia stations: on Monday to Friday from 5:30 a.m to 5:30 p.m for rent and reception and it is the normal schedule on Sunday."
   ]
  },
  {
   "cell_type": "markdown",
   "metadata": {
    "id": "C8rCpNajszur"
   },
   "source": [
    "## Development ⚙️"
   ]
  },
  {
   "cell_type": "markdown",
   "metadata": {
    "id": "afB4W0KnutpV"
   },
   "source": [
    "### Imports (libraries) 📚"
   ]
  },
  {
   "cell_type": "code",
   "execution_count": 1,
   "metadata": {
    "ExecuteTime": {
     "end_time": "2021-05-15T09:08:30.410322Z",
     "start_time": "2021-05-15T09:08:19.356417Z"
    },
    "id": "J4jPpcKOutZ5"
   },
   "outputs": [],
   "source": [
    "## TABULAR\n",
    "import pandas as pd \n",
    "import numpy as np\n",
    "import matplotlib\n",
    "\n",
    "## GEO\n",
    "import geopandas as gpd\n",
    "import fiona\n",
    "import folium\n",
    "from folium.plugins import MarkerCluster, HeatMap, BeautifyIcon\n",
    "from folium.map import LayerControl, Layer, FeatureGroup\n",
    "from folium.vector_layers import Circle, CircleMarker\n",
    "from shapely.geometry import LineString, Point\n",
    "from shapely import wkt\n",
    "\n",
    "\n",
    "## DATA\n",
    "import os\n",
    "import zipfile\n",
    "from collections import Counter\n",
    "import re\n",
    "from datetime import datetime\n",
    "import requests\n",
    "from dotenv import load_dotenv, find_dotenv\n",
    "import ast\n",
    "import datetime as dt\n",
    "\n",
    "## VIS\n",
    "from ipywidgets import interact, interactive, fixed, interact_manual, IntSlider\n",
    "import seaborn as sns\n",
    "import matplotlib.pyplot as plt\n",
    "import statsmodels.tsa\n",
    "import branca"
   ]
  },
  {
   "cell_type": "markdown",
   "metadata": {
    "heading_collapsed": true
   },
   "source": [
    "### Data Extraction 🏗"
   ]
  },
  {
   "cell_type": "markdown",
   "metadata": {
    "hidden": true
   },
   "source": [
    "The provided data comes in different types of file extensions.  <br> \n",
    "Some of the files are **very big** and for this reason is easier to call them just when we need them. <br>\n",
    "For this reason we are going to create a class that will be able to read and extract the data, already operating the first **cleaning** steps."
   ]
  },
  {
   "cell_type": "code",
   "execution_count": 2,
   "metadata": {
    "ExecuteTime": {
     "end_time": "2021-05-15T09:08:30.454071Z",
     "start_time": "2021-05-15T09:08:30.420103Z"
    },
    "hidden": true
   },
   "outputs": [],
   "source": [
    "gpd.io.file.fiona.drvsupport.supported_drivers['KML'] = 'rw' # necessary for kml files\n",
    "class Databases:\n",
    "    def __init__(self, csv, anva, smm, metro): # pass the file names stored in 'raw_data/'\n",
    "        self.csv = csv\n",
    "        self.anva = anva \n",
    "        self.smm = smm\n",
    "        self.metro = metro\n",
    "\n",
    "    def extract_csv(self):\n",
    "        # bike rental logs\n",
    "        file = pd.read_csv(f'data/bike_loans/{self.csv}', sep=';').drop(columns=['Importe', \n",
    "                                                                        'DescripcionImporte', \n",
    "                                                                        'operario']) # drop irrelevant columns\n",
    "        file['Fecha_Prestamo'] = pd.to_datetime(file['Fecha_Prestamo'])\n",
    "        file['Fecha_Devolucion'] = pd.to_datetime(file['Fecha_Devolucion'])\n",
    "        return file\n",
    "        \n",
    "    \n",
    "    def extract_anva(self):\n",
    "        # regional bus routes\n",
    "        bus_routes_AMVA = gpd.GeoDataFrame()\n",
    "        for root, dirs, files in os.walk(f'data/bus_routes/medellin_bus_routes/{self.anva}'):\n",
    "            for file in files:\n",
    "                path = os.path.join(root, file)\n",
    "                df = gpd.read_file(path, driver='KML')\n",
    "                bus_routes_AMVA = gpd.GeoDataFrame(pd.concat([bus_routes_AMVA, df], ignore_index=True))\n",
    "        return bus_routes_AMVA\n",
    "    \n",
    "    def extract_smm(self):\n",
    "        # municipal bus routes medellin\n",
    "        smm_bus_routes = gpd.GeoDataFrame()\n",
    "        for root, dirs, files in os.walk(f'data/bus_routes/medellin_bus_routes/{self.smm}'):\n",
    "            for file in files:\n",
    "                path = os.path.join(root, file)\n",
    "                df = gpd.read_file(path, driver='KML')\n",
    "                smm_bus_routes = gpd.GeoDataFrame(pd.concat([smm_bus_routes, df], ignore_index=True))\n",
    "        return smm_bus_routes\n",
    "    \n",
    "    def extract_metro(self):\n",
    "        # metro routes\n",
    "        metro_routes = gpd.GeoDataFrame()\n",
    "        for root, dirs, files in os.walk(f'data/medellin_metro/{self.metro}'):\n",
    "            for file in files:\n",
    "                path = os.path.join(root, file)\n",
    "                print(path)\n",
    "                if path.endswith('.kmz'):\n",
    "                    kmz = zipfile.ZipFile(path, 'r')\n",
    "                    kml = kmz.open('doc.kml', 'r')\n",
    "                    df = gpd.read_file(kml, driver='KML')\n",
    "                    metro_routes = gpd.GeoDataFrame(pd.concat([metro_routes, df], ignore_index=True))\n",
    "        return metro_routes"
   ]
  },
  {
   "cell_type": "code",
   "execution_count": 3,
   "metadata": {
    "ExecuteTime": {
     "end_time": "2021-05-15T09:08:30.482295Z",
     "start_time": "2021-05-15T09:08:30.459696Z"
    },
    "hidden": true
   },
   "outputs": [],
   "source": [
    "databases = Databases('bike_loans.csv','Kml Ruta AMVA','kml Ruta SMM','medellin_metro_stations')"
   ]
  },
  {
   "cell_type": "code",
   "execution_count": 4,
   "metadata": {
    "ExecuteTime": {
     "end_time": "2021-05-15T09:09:30.824176Z",
     "start_time": "2021-05-15T09:08:30.487169Z"
    },
    "hidden": true
   },
   "outputs": [
    {
     "data": {
      "text/plain": [
       "Id_Historico_Prestamo               int64\n",
       "Id_Usuario                          int64\n",
       "Id_Tag_Bicicleta                   object\n",
       "Fecha_Prestamo             datetime64[ns]\n",
       "Fecha_Devolucion           datetime64[ns]\n",
       "Id_Aparcamiento_Origen              int64\n",
       "Posicion_Origen                     int64\n",
       "Id_Aparcamiento_Destino           float64\n",
       "Posicion_Destino                  float64\n",
       "Num_Bici_Hist                     float64\n",
       "dtype: object"
      ]
     },
     "execution_count": 4,
     "metadata": {},
     "output_type": "execute_result"
    }
   ],
   "source": [
    "bikes = databases.extract_csv() # for our preliminary analysis we only need the bike logs (no public transportation)\n",
    "bikes.dtypes"
   ]
  },
  {
   "cell_type": "markdown",
   "metadata": {},
   "source": [
    "### Preliminary Analysis 📊"
   ]
  },
  {
   "cell_type": "markdown",
   "metadata": {},
   "source": [
    "We can start our analy|sis with a general description of the dataset. <br>\n",
    "**NB**: In our dataset we are dealing with all categorical features or timeseries: there is no need to run ```describe()``` "
   ]
  },
  {
   "cell_type": "markdown",
   "metadata": {},
   "source": [
    "#### Bike usage"
   ]
  },
  {
   "cell_type": "markdown",
   "metadata": {},
   "source": [
    "- Id_Tag_Bicicleta : column regarding unique id of each bicycle \n",
    "***let's have a look on how many times the same bike is used (how many times the unique id is present in the df)**"
   ]
  },
  {
   "cell_type": "code",
   "execution_count": 5,
   "metadata": {
    "ExecuteTime": {
     "end_time": "2021-05-15T09:09:32.232640Z",
     "start_time": "2021-05-15T09:09:30.827334Z"
    }
   },
   "outputs": [
    {
     "data": {
      "text/plain": [
       "1    2776075\n",
       "2    2774889\n",
       "3    2737945\n",
       "4    2648630\n",
       "0    2221272\n",
       "5    1066059\n",
       "6        485\n",
       "Name: Fecha_Prestamo, dtype: int64"
      ]
     },
     "execution_count": 5,
     "metadata": {},
     "output_type": "execute_result"
    }
   ],
   "source": [
    "# sunday EnCicla is closed\n",
    "bikes.Fecha_Prestamo.dt.weekday.value_counts()"
   ]
  },
  {
   "cell_type": "code",
   "execution_count": 6,
   "metadata": {
    "ExecuteTime": {
     "end_time": "2021-05-15T09:09:36.209931Z",
     "start_time": "2021-05-15T09:09:32.236341Z"
    }
   },
   "outputs": [
    {
     "data": {
      "image/png": "[encoded data removed]",
      "text/plain": [
       "<Figure size 720x360 with 1 Axes>"
      ]
     },
     "metadata": {
      "needs_background": "light"
     },
     "output_type": "display_data"
    }
   ],
   "source": [
    "# plot the usage of unique bikes and its distribution\n",
    "plt.figure(figsize=(10,5))\n",
    "plt.title('Bike usage distribution', size=20)\n",
    "counts = bikes.Id_Tag_Bicicleta.value_counts()[::66]\n",
    "y_pos = np.arange(len(counts))\n",
    "plt.bar(y_pos, counts)\n",
    "plt.xlabel('Bikes available in %', size=15)\n",
    "# plt.text(x=22, y=6000, s=f'Cutoff: 20% of highest usage', size='x-large')\n",
    "plt.axvline(16, color='r', linestyle='--')\n",
    "\n",
    "plt.show()"
   ]
  },
  {
   "cell_type": "markdown",
   "metadata": {},
   "source": [
    "**Note**<br>\n",
    "There is a strong elbow visible between the 10th and 20th percentile. This could either derive from a highly rising bike usage over the years and thus, underrepresented usage for depreciated bikes. It could also mean that some bikes are significantly standing around too much because they are put to the wrong stations at wrong times and therefore not used enough. "
   ]
  },
  {
   "cell_type": "code",
   "execution_count": 7,
   "metadata": {
    "ExecuteTime": {
     "end_time": "2021-05-15T09:09:37.582013Z",
     "start_time": "2021-05-15T09:09:36.212744Z"
    }
   },
   "outputs": [
    {
     "name": "stdout",
     "output_type": "stream",
     "text": [
      "In total we have 6698 unique bikes over all recorded time\n"
     ]
    }
   ],
   "source": [
    "print(f'In total we have {len(bikes.Id_Tag_Bicicleta.unique())} unique bikes over all recorded time')"
   ]
  },
  {
   "cell_type": "markdown",
   "metadata": {},
   "source": [
    "#### Rental distribution"
   ]
  },
  {
   "cell_type": "markdown",
   "metadata": {},
   "source": [
    "In our dataset we have information about the bike itself, the station of arrival and departures and the costumer. To characterized all this information we have also 2 time series: ```Fecha_Prestamo``` & ```Fecha_Devolucion``` \n",
    "\n",
    "<br>\n",
    "Thanks to these we can have an idea of the time in which the bike are more used, which routes are more popular during a certain range of time and also how the data collected has changed during the years, according maybe to the change in habits of the population. "
   ]
  },
  {
   "cell_type": "code",
   "execution_count": 8,
   "metadata": {
    "ExecuteTime": {
     "end_time": "2021-05-15T09:09:41.282244Z",
     "start_time": "2021-05-15T09:09:37.586103Z"
    }
   },
   "outputs": [
    {
     "data": {
      "text/html": [
       "<div>\n",
       "<style scoped>\n",
       "    .dataframe tbody tr th:only-of-type {\n",
       "        vertical-align: middle;\n",
       "    }\n",
       "\n",
       "    .dataframe tbody tr th {\n",
       "        vertical-align: top;\n",
       "    }\n",
       "\n",
       "    .dataframe thead th {\n",
       "        text-align: right;\n",
       "    }\n",
       "</style>\n",
       "<table border=\"1\" class=\"dataframe\">\n",
       "  <thead>\n",
       "    <tr style=\"text-align: right;\">\n",
       "      <th></th>\n",
       "      <th>Id_Historico_Prestamo</th>\n",
       "      <th>Id_Usuario</th>\n",
       "      <th>Id_Tag_Bicicleta</th>\n",
       "      <th>Fecha_Prestamo</th>\n",
       "      <th>Fecha_Devolucion</th>\n",
       "      <th>Id_Aparcamiento_Origen</th>\n",
       "      <th>Posicion_Origen</th>\n",
       "      <th>Id_Aparcamiento_Destino</th>\n",
       "      <th>Posicion_Destino</th>\n",
       "      <th>Num_Bici_Hist</th>\n",
       "      <th>hour_init</th>\n",
       "      <th>hour_end</th>\n",
       "    </tr>\n",
       "  </thead>\n",
       "  <tbody>\n",
       "    <tr>\n",
       "      <th>0</th>\n",
       "      <td>6501462</td>\n",
       "      <td>18701</td>\n",
       "      <td>000017B00743</td>\n",
       "      <td>2017-06-21 14:22:11</td>\n",
       "      <td>2017-06-21 14:38:29</td>\n",
       "      <td>8</td>\n",
       "      <td>1</td>\n",
       "      <td>43.0</td>\n",
       "      <td>1.0</td>\n",
       "      <td>929.0</td>\n",
       "      <td>14</td>\n",
       "      <td>14</td>\n",
       "    </tr>\n",
       "    <tr>\n",
       "      <th>1</th>\n",
       "      <td>6501318</td>\n",
       "      <td>41811</td>\n",
       "      <td>000017AFF83C</td>\n",
       "      <td>2017-06-21 14:07:18</td>\n",
       "      <td>2017-06-21 14:39:06</td>\n",
       "      <td>56</td>\n",
       "      <td>6</td>\n",
       "      <td>54.0</td>\n",
       "      <td>NaN</td>\n",
       "      <td>1612.0</td>\n",
       "      <td>14</td>\n",
       "      <td>14</td>\n",
       "    </tr>\n",
       "    <tr>\n",
       "      <th>2</th>\n",
       "      <td>6501489</td>\n",
       "      <td>96620</td>\n",
       "      <td>000017AFFB6F</td>\n",
       "      <td>2017-06-21 14:25:11</td>\n",
       "      <td>2017-06-21 14:39:07</td>\n",
       "      <td>36</td>\n",
       "      <td>25</td>\n",
       "      <td>9.0</td>\n",
       "      <td>13.0</td>\n",
       "      <td>1679.0</td>\n",
       "      <td>14</td>\n",
       "      <td>14</td>\n",
       "    </tr>\n",
       "    <tr>\n",
       "      <th>3</th>\n",
       "      <td>6501001</td>\n",
       "      <td>16055</td>\n",
       "      <td>0000182A3B7B</td>\n",
       "      <td>2017-06-21 13:35:52</td>\n",
       "      <td>2017-06-21 14:39:22</td>\n",
       "      <td>8</td>\n",
       "      <td>1</td>\n",
       "      <td>9.0</td>\n",
       "      <td>6.0</td>\n",
       "      <td>1076.0</td>\n",
       "      <td>13</td>\n",
       "      <td>14</td>\n",
       "    </tr>\n",
       "    <tr>\n",
       "      <th>4</th>\n",
       "      <td>6501421</td>\n",
       "      <td>6431</td>\n",
       "      <td>000017AFE810</td>\n",
       "      <td>2017-06-21 14:17:56</td>\n",
       "      <td>2017-06-21 14:39:26</td>\n",
       "      <td>56</td>\n",
       "      <td>14</td>\n",
       "      <td>54.0</td>\n",
       "      <td>NaN</td>\n",
       "      <td>1176.0</td>\n",
       "      <td>14</td>\n",
       "      <td>14</td>\n",
       "    </tr>\n",
       "  </tbody>\n",
       "</table>\n",
       "</div>"
      ],
      "text/plain": [
       "   Id_Historico_Prestamo  Id_Usuario Id_Tag_Bicicleta      Fecha_Prestamo  \\\n",
       "0                6501462       18701     000017B00743 2017-06-21 14:22:11   \n",
       "1                6501318       41811     000017AFF83C 2017-06-21 14:07:18   \n",
       "2                6501489       96620     000017AFFB6F 2017-06-21 14:25:11   \n",
       "3                6501001       16055     0000182A3B7B 2017-06-21 13:35:52   \n",
       "4                6501421        6431     000017AFE810 2017-06-21 14:17:56   \n",
       "\n",
       "     Fecha_Devolucion  Id_Aparcamiento_Origen  Posicion_Origen  \\\n",
       "0 2017-06-21 14:38:29                       8                1   \n",
       "1 2017-06-21 14:39:06                      56                6   \n",
       "2 2017-06-21 14:39:07                      36               25   \n",
       "3 2017-06-21 14:39:22                       8                1   \n",
       "4 2017-06-21 14:39:26                      56               14   \n",
       "\n",
       "   Id_Aparcamiento_Destino  Posicion_Destino  Num_Bici_Hist  hour_init  \\\n",
       "0                     43.0               1.0          929.0         14   \n",
       "1                     54.0               NaN         1612.0         14   \n",
       "2                      9.0              13.0         1679.0         14   \n",
       "3                      9.0               6.0         1076.0         13   \n",
       "4                     54.0               NaN         1176.0         14   \n",
       "\n",
       "   hour_end  \n",
       "0        14  \n",
       "1        14  \n",
       "2        14  \n",
       "3        14  \n",
       "4        14  "
      ]
     },
     "execution_count": 8,
     "metadata": {},
     "output_type": "execute_result"
    }
   ],
   "source": [
    "# Extracting just the hour: \n",
    "bikes['hour_init']= bikes['Fecha_Prestamo'].dt.hour\n",
    "bikes['hour_end']=bikes['Fecha_Devolucion'].dt.hour\n",
    "bikes.head(5)"
   ]
  },
  {
   "cell_type": "code",
   "execution_count": 9,
   "metadata": {
    "ExecuteTime": {
     "end_time": "2021-05-15T09:09:41.909267Z",
     "start_time": "2021-05-15T09:09:41.288721Z"
    },
    "scrolled": false
   },
   "outputs": [
    {
     "name": "stderr",
     "output_type": "stream",
     "text": [
      "/home/sisto/.pyenv/versions/3.8.6/envs/lewagon/lib/python3.8/site-packages/seaborn/_decorators.py:36: FutureWarning: Pass the following variables as keyword args: x, y. From version 0.12, the only valid positional argument will be `data`, and passing other arguments without an explicit keyword will result in an error or misinterpretation.\n",
      "  warnings.warn(\n"
     ]
    },
    {
     "name": "stdout",
     "output_type": "stream",
     "text": [
      "The highest usage of bikes is at 17h and 7h\n"
     ]
    },
    {
     "data": {
      "image/png": "[encoded data removed]",
      "text/plain": [
       "<Figure size 1080x576 with 1 Axes>"
      ]
     },
     "metadata": {
      "needs_background": "light"
     },
     "output_type": "display_data"
    }
   ],
   "source": [
    "# plot the mean distribution of bike rentals over the day\n",
    "plt.figure(figsize=(15,8))\n",
    "hours = pd.DataFrame(bikes.hour_init.value_counts())\n",
    "hours = hours.drop(index=[1,2,3,4,23,0]) # out of operation hours\n",
    "sns.barplot(hours.index,hours.hour_init)\n",
    "plt.title('Rental distribution over the day', size=20)\n",
    "plt.xlabel('Hours', size=15)\n",
    "plt.ylabel('Count/Hours', size=15)\n",
    "print(f'The highest usage of bikes is at 17h and 7h')"
   ]
  },
  {
   "cell_type": "markdown",
   "metadata": {},
   "source": [
    "**Note**<br>\n",
    "As you can imagine, the bike usage is significantly higher at the start of the day i.e. **7:00** and at the end of the day between **16:00 and 18:00**"
   ]
  },
  {
   "cell_type": "markdown",
   "metadata": {},
   "source": [
    "#### Bike Routes"
   ]
  },
  {
   "cell_type": "code",
   "execution_count": 10,
   "metadata": {
    "ExecuteTime": {
     "end_time": "2021-05-15T09:22:51.739742Z",
     "start_time": "2021-05-15T09:09:41.912996Z"
    }
   },
   "outputs": [],
   "source": [
    "# engineer new feature 'routes'  with a string <start>_<finish>\n",
    "bikes = bikes.dropna()\n",
    "bikes['routes'] = bikes.apply(lambda x: f'{x.Id_Aparcamiento_Origen}_{int(x.Id_Aparcamiento_Destino)}', axis=1)"
   ]
  },
  {
   "cell_type": "markdown",
   "metadata": {},
   "source": [
    "- We can now try to understand the routes depending on the hour of the day.\n",
    "- During all the analysis we will focus on the hours as main indicator as our target regard the best distribution of bikes **xhour**"
   ]
  },
  {
   "cell_type": "code",
   "execution_count": 11,
   "metadata": {
    "ExecuteTime": {
     "end_time": "2021-05-15T09:22:59.159876Z",
     "start_time": "2021-05-15T09:22:51.742111Z"
    }
   },
   "outputs": [],
   "source": [
    "# grouping by hour\n",
    "bikes['hour'] = bikes.Fecha_Prestamo.dt.hour\n",
    "agg = {'Id_Aparcamiento_Origen':'count', \n",
    "      'routes': lambda x: list(x)}\n",
    "routes_by_hr = bikes.groupby('hour').agg(agg).rename(columns={'Id_Aparcamiento_Origen':'count_rentals'})"
   ]
  },
  {
   "cell_type": "code",
   "execution_count": 12,
   "metadata": {
    "ExecuteTime": {
     "end_time": "2021-05-15T09:22:59.225425Z",
     "start_time": "2021-05-15T09:22:59.163378Z"
    }
   },
   "outputs": [
    {
     "data": {
      "text/html": [
       "<div>\n",
       "<style scoped>\n",
       "    .dataframe tbody tr th:only-of-type {\n",
       "        vertical-align: middle;\n",
       "    }\n",
       "\n",
       "    .dataframe tbody tr th {\n",
       "        vertical-align: top;\n",
       "    }\n",
       "\n",
       "    .dataframe thead th {\n",
       "        text-align: right;\n",
       "    }\n",
       "</style>\n",
       "<table border=\"1\" class=\"dataframe\">\n",
       "  <thead>\n",
       "    <tr style=\"text-align: right;\">\n",
       "      <th></th>\n",
       "      <th>count_rentals</th>\n",
       "      <th>routes</th>\n",
       "    </tr>\n",
       "    <tr>\n",
       "      <th>hour</th>\n",
       "      <th></th>\n",
       "      <th></th>\n",
       "    </tr>\n",
       "  </thead>\n",
       "  <tbody>\n",
       "    <tr>\n",
       "      <th>0</th>\n",
       "      <td>1</td>\n",
       "      <td>[24_12]</td>\n",
       "    </tr>\n",
       "    <tr>\n",
       "      <th>1</th>\n",
       "      <td>7</td>\n",
       "      <td>[59_64, 59_64, 59_64, 59_60, 45_65, 1_10, 22_22]</td>\n",
       "    </tr>\n",
       "    <tr>\n",
       "      <th>2</th>\n",
       "      <td>11</td>\n",
       "      <td>[67_66, 67_47, 67_60, 67_45, 67_5, 67_2, 67_19...</td>\n",
       "    </tr>\n",
       "    <tr>\n",
       "      <th>3</th>\n",
       "      <td>7</td>\n",
       "      <td>[67_5, 31_31, 66_44, 66_8, 62_62, 47_7, 47_89]</td>\n",
       "    </tr>\n",
       "    <tr>\n",
       "      <th>4</th>\n",
       "      <td>3562</td>\n",
       "      <td>[66_24, 7_13, 34_67, 7_4, 7_12, 7_8, 7_2, 7_38...</td>\n",
       "    </tr>\n",
       "    <tr>\n",
       "      <th>5</th>\n",
       "      <td>320956</td>\n",
       "      <td>[23_57, 8_51, 23_43, 20_57, 8_51, 12_57, 66_57...</td>\n",
       "    </tr>\n",
       "    <tr>\n",
       "      <th>6</th>\n",
       "      <td>769732</td>\n",
       "      <td>[7_57, 40_6, 9_39, 39_39, 11_33, 67_53, 58_33,...</td>\n",
       "    </tr>\n",
       "    <tr>\n",
       "      <th>7</th>\n",
       "      <td>1044284</td>\n",
       "      <td>[21_33, 21_24, 56_64, 3_41, 32_62, 11_62, 41_4...</td>\n",
       "    </tr>\n",
       "    <tr>\n",
       "      <th>8</th>\n",
       "      <td>730651</td>\n",
       "      <td>[5_5, 66_34, 21_21, 32_47, 57_53, 42_60, 13_62...</td>\n",
       "    </tr>\n",
       "    <tr>\n",
       "      <th>9</th>\n",
       "      <td>766305</td>\n",
       "      <td>[5_7, 23_45, 9_5, 65_45, 3_4, 10_7, 55_36, 38_...</td>\n",
       "    </tr>\n",
       "    <tr>\n",
       "      <th>10</th>\n",
       "      <td>744608</td>\n",
       "      <td>[43_13, 33_36, 8_10, 8_10, 3_4, 7_5, 41_8, 7_5...</td>\n",
       "    </tr>\n",
       "    <tr>\n",
       "      <th>11</th>\n",
       "      <td>877001</td>\n",
       "      <td>[67_67, 8_22, 12_4, 9_58, 21_21, 2_1, 8_12, 64...</td>\n",
       "    </tr>\n",
       "    <tr>\n",
       "      <th>12</th>\n",
       "      <td>945247</td>\n",
       "      <td>[59_41, 34_61, 39_44, 41_41, 63_57, 9_9, 59_64...</td>\n",
       "    </tr>\n",
       "    <tr>\n",
       "      <th>13</th>\n",
       "      <td>932651</td>\n",
       "      <td>[8_9, 46_46, 65_57, 10_3, 10_32, 56_36, 12_48,...</td>\n",
       "    </tr>\n",
       "    <tr>\n",
       "      <th>14</th>\n",
       "      <td>879876</td>\n",
       "      <td>[8_43, 36_9, 22_47, 19_11, 21_44, 45_66, 36_56...</td>\n",
       "    </tr>\n",
       "    <tr>\n",
       "      <th>15</th>\n",
       "      <td>874269</td>\n",
       "      <td>[70_70, 33_33, 34_34, 23_45, 42_42, 64_59, 64_...</td>\n",
       "    </tr>\n",
       "    <tr>\n",
       "      <th>16</th>\n",
       "      <td>1052131</td>\n",
       "      <td>[11_5, 7_5, 62_7, 5_20, 42_38, 11_8, 2_1, 57_2...</td>\n",
       "    </tr>\n",
       "    <tr>\n",
       "      <th>17</th>\n",
       "      <td>1362734</td>\n",
       "      <td>[56_64, 33_34, 19_19, 41_43, 9_11, 41_20, 37_2...</td>\n",
       "    </tr>\n",
       "    <tr>\n",
       "      <th>18</th>\n",
       "      <td>984228</td>\n",
       "      <td>[70_41, 34_41, 41_41, 7_41, 5_2, 7_41, 40_12, ...</td>\n",
       "    </tr>\n",
       "    <tr>\n",
       "      <th>19</th>\n",
       "      <td>520589</td>\n",
       "      <td>[2_1, 12_8, 66_24, 2_1, 21_40, 10_66, 47_8, 7_...</td>\n",
       "    </tr>\n",
       "    <tr>\n",
       "      <th>20</th>\n",
       "      <td>343666</td>\n",
       "      <td>[2_55, 70_7, 23_66, 10_8, 6_21, 8_39, 70_6, 23...</td>\n",
       "    </tr>\n",
       "    <tr>\n",
       "      <th>21</th>\n",
       "      <td>5299</td>\n",
       "      <td>[7_49, 5_2, 38_12, 16_47, 23_8, 16_19, 2_1, 21...</td>\n",
       "    </tr>\n",
       "    <tr>\n",
       "      <th>22</th>\n",
       "      <td>2725</td>\n",
       "      <td>[4_2, 1_2, 12_16, 5_2, 5_2, 5_2, 1_2, 5_2, 5_2...</td>\n",
       "    </tr>\n",
       "    <tr>\n",
       "      <th>23</th>\n",
       "      <td>13</td>\n",
       "      <td>[38_53, 1_2, 2_2, 2_1, 32_45, 12_2, 38_66, 3_6...</td>\n",
       "    </tr>\n",
       "  </tbody>\n",
       "</table>\n",
       "</div>"
      ],
      "text/plain": [
       "      count_rentals                                             routes\n",
       "hour                                                                  \n",
       "0                 1                                            [24_12]\n",
       "1                 7   [59_64, 59_64, 59_64, 59_60, 45_65, 1_10, 22_22]\n",
       "2                11  [67_66, 67_47, 67_60, 67_45, 67_5, 67_2, 67_19...\n",
       "3                 7     [67_5, 31_31, 66_44, 66_8, 62_62, 47_7, 47_89]\n",
       "4              3562  [66_24, 7_13, 34_67, 7_4, 7_12, 7_8, 7_2, 7_38...\n",
       "5            320956  [23_57, 8_51, 23_43, 20_57, 8_51, 12_57, 66_57...\n",
       "6            769732  [7_57, 40_6, 9_39, 39_39, 11_33, 67_53, 58_33,...\n",
       "7           1044284  [21_33, 21_24, 56_64, 3_41, 32_62, 11_62, 41_4...\n",
       "8            730651  [5_5, 66_34, 21_21, 32_47, 57_53, 42_60, 13_62...\n",
       "9            766305  [5_7, 23_45, 9_5, 65_45, 3_4, 10_7, 55_36, 38_...\n",
       "10           744608  [43_13, 33_36, 8_10, 8_10, 3_4, 7_5, 41_8, 7_5...\n",
       "11           877001  [67_67, 8_22, 12_4, 9_58, 21_21, 2_1, 8_12, 64...\n",
       "12           945247  [59_41, 34_61, 39_44, 41_41, 63_57, 9_9, 59_64...\n",
       "13           932651  [8_9, 46_46, 65_57, 10_3, 10_32, 56_36, 12_48,...\n",
       "14           879876  [8_43, 36_9, 22_47, 19_11, 21_44, 45_66, 36_56...\n",
       "15           874269  [70_70, 33_33, 34_34, 23_45, 42_42, 64_59, 64_...\n",
       "16          1052131  [11_5, 7_5, 62_7, 5_20, 42_38, 11_8, 2_1, 57_2...\n",
       "17          1362734  [56_64, 33_34, 19_19, 41_43, 9_11, 41_20, 37_2...\n",
       "18           984228  [70_41, 34_41, 41_41, 7_41, 5_2, 7_41, 40_12, ...\n",
       "19           520589  [2_1, 12_8, 66_24, 2_1, 21_40, 10_66, 47_8, 7_...\n",
       "20           343666  [2_55, 70_7, 23_66, 10_8, 6_21, 8_39, 70_6, 23...\n",
       "21             5299  [7_49, 5_2, 38_12, 16_47, 23_8, 16_19, 2_1, 21...\n",
       "22             2725  [4_2, 1_2, 12_16, 5_2, 5_2, 5_2, 1_2, 5_2, 5_2...\n",
       "23               13  [38_53, 1_2, 2_2, 2_1, 32_45, 12_2, 38_66, 3_6..."
      ]
     },
     "execution_count": 12,
     "metadata": {},
     "output_type": "execute_result"
    }
   ],
   "source": [
    "routes_by_hr"
   ]
  },
  {
   "cell_type": "code",
   "execution_count": 13,
   "metadata": {
    "ExecuteTime": {
     "end_time": "2021-05-15T09:23:02.045792Z",
     "start_time": "2021-05-15T09:22:59.229459Z"
    }
   },
   "outputs": [],
   "source": [
    "# count the amount of occuring routes per hour (counting the ocurrences in the lists)\n",
    "routes_dict = {}\n",
    "for c, row in routes_by_hr.iterrows():\n",
    "    routes_dict[c] = dict(Counter(row.routes))\n",
    "\n",
    "routes_usage = pd.DataFrame.from_dict(routes_dict)"
   ]
  },
  {
   "cell_type": "code",
   "execution_count": 14,
   "metadata": {
    "ExecuteTime": {
     "end_time": "2021-05-15T09:23:02.080087Z",
     "start_time": "2021-05-15T09:23:02.047937Z"
    }
   },
   "outputs": [
    {
     "data": {
      "text/html": [
       "<div>\n",
       "<style scoped>\n",
       "    .dataframe tbody tr th:only-of-type {\n",
       "        vertical-align: middle;\n",
       "    }\n",
       "\n",
       "    .dataframe tbody tr th {\n",
       "        vertical-align: top;\n",
       "    }\n",
       "\n",
       "    .dataframe thead th {\n",
       "        text-align: right;\n",
       "    }\n",
       "</style>\n",
       "<table border=\"1\" class=\"dataframe\">\n",
       "  <thead>\n",
       "    <tr style=\"text-align: right;\">\n",
       "      <th></th>\n",
       "      <th>0</th>\n",
       "      <th>1</th>\n",
       "      <th>2</th>\n",
       "      <th>3</th>\n",
       "      <th>4</th>\n",
       "      <th>5</th>\n",
       "      <th>6</th>\n",
       "      <th>7</th>\n",
       "      <th>8</th>\n",
       "      <th>9</th>\n",
       "      <th>...</th>\n",
       "      <th>14</th>\n",
       "      <th>15</th>\n",
       "      <th>16</th>\n",
       "      <th>17</th>\n",
       "      <th>18</th>\n",
       "      <th>19</th>\n",
       "      <th>20</th>\n",
       "      <th>21</th>\n",
       "      <th>22</th>\n",
       "      <th>23</th>\n",
       "    </tr>\n",
       "  </thead>\n",
       "  <tbody>\n",
       "    <tr>\n",
       "      <th>24_12</th>\n",
       "      <td>1.0</td>\n",
       "      <td>NaN</td>\n",
       "      <td>NaN</td>\n",
       "      <td>NaN</td>\n",
       "      <td>NaN</td>\n",
       "      <td>76.0</td>\n",
       "      <td>201.0</td>\n",
       "      <td>177.0</td>\n",
       "      <td>120.0</td>\n",
       "      <td>153.0</td>\n",
       "      <td>...</td>\n",
       "      <td>278.0</td>\n",
       "      <td>264.0</td>\n",
       "      <td>486.0</td>\n",
       "      <td>946.0</td>\n",
       "      <td>786.0</td>\n",
       "      <td>474.0</td>\n",
       "      <td>451.0</td>\n",
       "      <td>4.0</td>\n",
       "      <td>NaN</td>\n",
       "      <td>NaN</td>\n",
       "    </tr>\n",
       "    <tr>\n",
       "      <th>59_64</th>\n",
       "      <td>NaN</td>\n",
       "      <td>3.0</td>\n",
       "      <td>NaN</td>\n",
       "      <td>NaN</td>\n",
       "      <td>1.0</td>\n",
       "      <td>437.0</td>\n",
       "      <td>1555.0</td>\n",
       "      <td>2872.0</td>\n",
       "      <td>1954.0</td>\n",
       "      <td>862.0</td>\n",
       "      <td>...</td>\n",
       "      <td>760.0</td>\n",
       "      <td>626.0</td>\n",
       "      <td>778.0</td>\n",
       "      <td>702.0</td>\n",
       "      <td>374.0</td>\n",
       "      <td>186.0</td>\n",
       "      <td>163.0</td>\n",
       "      <td>NaN</td>\n",
       "      <td>NaN</td>\n",
       "      <td>NaN</td>\n",
       "    </tr>\n",
       "    <tr>\n",
       "      <th>59_60</th>\n",
       "      <td>NaN</td>\n",
       "      <td>1.0</td>\n",
       "      <td>NaN</td>\n",
       "      <td>NaN</td>\n",
       "      <td>4.0</td>\n",
       "      <td>125.0</td>\n",
       "      <td>588.0</td>\n",
       "      <td>445.0</td>\n",
       "      <td>319.0</td>\n",
       "      <td>281.0</td>\n",
       "      <td>...</td>\n",
       "      <td>287.0</td>\n",
       "      <td>328.0</td>\n",
       "      <td>417.0</td>\n",
       "      <td>397.0</td>\n",
       "      <td>134.0</td>\n",
       "      <td>52.0</td>\n",
       "      <td>39.0</td>\n",
       "      <td>NaN</td>\n",
       "      <td>NaN</td>\n",
       "      <td>NaN</td>\n",
       "    </tr>\n",
       "    <tr>\n",
       "      <th>45_65</th>\n",
       "      <td>NaN</td>\n",
       "      <td>1.0</td>\n",
       "      <td>NaN</td>\n",
       "      <td>NaN</td>\n",
       "      <td>NaN</td>\n",
       "      <td>34.0</td>\n",
       "      <td>139.0</td>\n",
       "      <td>247.0</td>\n",
       "      <td>186.0</td>\n",
       "      <td>180.0</td>\n",
       "      <td>...</td>\n",
       "      <td>296.0</td>\n",
       "      <td>270.0</td>\n",
       "      <td>411.0</td>\n",
       "      <td>603.0</td>\n",
       "      <td>1026.0</td>\n",
       "      <td>477.0</td>\n",
       "      <td>360.0</td>\n",
       "      <td>NaN</td>\n",
       "      <td>NaN</td>\n",
       "      <td>NaN</td>\n",
       "    </tr>\n",
       "    <tr>\n",
       "      <th>1_10</th>\n",
       "      <td>NaN</td>\n",
       "      <td>1.0</td>\n",
       "      <td>NaN</td>\n",
       "      <td>NaN</td>\n",
       "      <td>NaN</td>\n",
       "      <td>46.0</td>\n",
       "      <td>126.0</td>\n",
       "      <td>214.0</td>\n",
       "      <td>53.0</td>\n",
       "      <td>134.0</td>\n",
       "      <td>...</td>\n",
       "      <td>58.0</td>\n",
       "      <td>51.0</td>\n",
       "      <td>67.0</td>\n",
       "      <td>81.0</td>\n",
       "      <td>30.0</td>\n",
       "      <td>13.0</td>\n",
       "      <td>8.0</td>\n",
       "      <td>NaN</td>\n",
       "      <td>NaN</td>\n",
       "      <td>NaN</td>\n",
       "    </tr>\n",
       "  </tbody>\n",
       "</table>\n",
       "<p>5 rows × 24 columns</p>\n",
       "</div>"
      ],
      "text/plain": [
       "        0    1   2   3    4      5       6       7       8      9   ...  \\\n",
       "24_12  1.0  NaN NaN NaN  NaN   76.0   201.0   177.0   120.0  153.0  ...   \n",
       "59_64  NaN  3.0 NaN NaN  1.0  437.0  1555.0  2872.0  1954.0  862.0  ...   \n",
       "59_60  NaN  1.0 NaN NaN  4.0  125.0   588.0   445.0   319.0  281.0  ...   \n",
       "45_65  NaN  1.0 NaN NaN  NaN   34.0   139.0   247.0   186.0  180.0  ...   \n",
       "1_10   NaN  1.0 NaN NaN  NaN   46.0   126.0   214.0    53.0  134.0  ...   \n",
       "\n",
       "          14     15     16     17      18     19     20   21  22  23  \n",
       "24_12  278.0  264.0  486.0  946.0   786.0  474.0  451.0  4.0 NaN NaN  \n",
       "59_64  760.0  626.0  778.0  702.0   374.0  186.0  163.0  NaN NaN NaN  \n",
       "59_60  287.0  328.0  417.0  397.0   134.0   52.0   39.0  NaN NaN NaN  \n",
       "45_65  296.0  270.0  411.0  603.0  1026.0  477.0  360.0  NaN NaN NaN  \n",
       "1_10    58.0   51.0   67.0   81.0    30.0   13.0    8.0  NaN NaN NaN  \n",
       "\n",
       "[5 rows x 24 columns]"
      ]
     },
     "execution_count": 14,
     "metadata": {},
     "output_type": "execute_result"
    }
   ],
   "source": [
    "routes_usage.head()"
   ]
  },
  {
   "cell_type": "code",
   "execution_count": 15,
   "metadata": {
    "ExecuteTime": {
     "end_time": "2021-05-15T09:23:05.577313Z",
     "start_time": "2021-05-15T09:23:02.083783Z"
    }
   },
   "outputs": [],
   "source": [
    "# grouping by hour\n",
    "agg = {'Id_Aparcamiento_Origen':'count', \n",
    "      'routes': lambda x: list(x)}\n",
    "routes_by_hr = bikes.groupby('hour_init').agg(agg).rename(columns={'Id_Aparcamiento_Origen':'count_rentals'})"
   ]
  },
  {
   "cell_type": "code",
   "execution_count": 16,
   "metadata": {
    "ExecuteTime": {
     "end_time": "2021-05-15T09:23:05.597780Z",
     "start_time": "2021-05-15T09:23:05.580479Z"
    }
   },
   "outputs": [
    {
     "data": {
      "text/html": [
       "<div>\n",
       "<style scoped>\n",
       "    .dataframe tbody tr th:only-of-type {\n",
       "        vertical-align: middle;\n",
       "    }\n",
       "\n",
       "    .dataframe tbody tr th {\n",
       "        vertical-align: top;\n",
       "    }\n",
       "\n",
       "    .dataframe thead th {\n",
       "        text-align: right;\n",
       "    }\n",
       "</style>\n",
       "<table border=\"1\" class=\"dataframe\">\n",
       "  <thead>\n",
       "    <tr style=\"text-align: right;\">\n",
       "      <th></th>\n",
       "      <th>count_rentals</th>\n",
       "      <th>routes</th>\n",
       "    </tr>\n",
       "    <tr>\n",
       "      <th>hour_init</th>\n",
       "      <th></th>\n",
       "      <th></th>\n",
       "    </tr>\n",
       "  </thead>\n",
       "  <tbody>\n",
       "    <tr>\n",
       "      <th>0</th>\n",
       "      <td>1</td>\n",
       "      <td>[24_12]</td>\n",
       "    </tr>\n",
       "    <tr>\n",
       "      <th>1</th>\n",
       "      <td>7</td>\n",
       "      <td>[59_64, 59_64, 59_64, 59_60, 45_65, 1_10, 22_22]</td>\n",
       "    </tr>\n",
       "    <tr>\n",
       "      <th>2</th>\n",
       "      <td>11</td>\n",
       "      <td>[67_66, 67_47, 67_60, 67_45, 67_5, 67_2, 67_19...</td>\n",
       "    </tr>\n",
       "    <tr>\n",
       "      <th>3</th>\n",
       "      <td>7</td>\n",
       "      <td>[67_5, 31_31, 66_44, 66_8, 62_62, 47_7, 47_89]</td>\n",
       "    </tr>\n",
       "    <tr>\n",
       "      <th>4</th>\n",
       "      <td>3562</td>\n",
       "      <td>[66_24, 7_13, 34_67, 7_4, 7_12, 7_8, 7_2, 7_38...</td>\n",
       "    </tr>\n",
       "  </tbody>\n",
       "</table>\n",
       "</div>"
      ],
      "text/plain": [
       "           count_rentals                                             routes\n",
       "hour_init                                                                  \n",
       "0                      1                                            [24_12]\n",
       "1                      7   [59_64, 59_64, 59_64, 59_60, 45_65, 1_10, 22_22]\n",
       "2                     11  [67_66, 67_47, 67_60, 67_45, 67_5, 67_2, 67_19...\n",
       "3                      7     [67_5, 31_31, 66_44, 66_8, 62_62, 47_7, 47_89]\n",
       "4                   3562  [66_24, 7_13, 34_67, 7_4, 7_12, 7_8, 7_2, 7_38..."
      ]
     },
     "execution_count": 16,
     "metadata": {},
     "output_type": "execute_result"
    }
   ],
   "source": [
    "routes_by_hr.head()"
   ]
  },
  {
   "cell_type": "markdown",
   "metadata": {},
   "source": [
    "##### Route usage graph"
   ]
  },
  {
   "cell_type": "markdown",
   "metadata": {},
   "source": [
    "Let's see which routes were used most in which times of the day."
   ]
  },
  {
   "cell_type": "code",
   "execution_count": 17,
   "metadata": {
    "ExecuteTime": {
     "end_time": "2021-05-15T09:23:06.302721Z",
     "start_time": "2021-05-15T09:23:05.601070Z"
    }
   },
   "outputs": [],
   "source": [
    "# take the top3 routes per hour\n",
    "rank_routes = {}\n",
    "for hour in routes_usage.columns:\n",
    "    top3 = dict(routes_usage[hour].sort_values(ascending=False)[:3])\n",
    "    rank_routes[hour] = top3\n",
    "rank_routes_df = pd.DataFrame(rank_routes).T"
   ]
  },
  {
   "cell_type": "code",
   "execution_count": 18,
   "metadata": {
    "ExecuteTime": {
     "end_time": "2021-05-15T09:23:06.788109Z",
     "start_time": "2021-05-15T09:23:06.305534Z"
    }
   },
   "outputs": [
    {
     "data": {
      "text/html": [
       "<div>\n",
       "<style scoped>\n",
       "    .dataframe tbody tr th:only-of-type {\n",
       "        vertical-align: middle;\n",
       "    }\n",
       "\n",
       "    .dataframe tbody tr th {\n",
       "        vertical-align: top;\n",
       "    }\n",
       "\n",
       "    .dataframe thead th {\n",
       "        text-align: right;\n",
       "    }\n",
       "</style>\n",
       "<table border=\"1\" class=\"dataframe\">\n",
       "  <thead>\n",
       "    <tr style=\"text-align: right;\">\n",
       "      <th></th>\n",
       "      <th>24_12</th>\n",
       "      <th>59_64</th>\n",
       "      <th>59_60</th>\n",
       "      <th>45_65</th>\n",
       "      <th>67_66</th>\n",
       "      <th>67_47</th>\n",
       "      <th>67_60</th>\n",
       "      <th>67_5</th>\n",
       "      <th>31_31</th>\n",
       "      <th>66_44</th>\n",
       "      <th>...</th>\n",
       "      <th>2_1</th>\n",
       "      <th>5_7</th>\n",
       "      <th>66_23</th>\n",
       "      <th>8_12</th>\n",
       "      <th>3_1</th>\n",
       "      <th>8_7</th>\n",
       "      <th>12_7</th>\n",
       "      <th>6_7</th>\n",
       "      <th>2_2</th>\n",
       "      <th>3_67</th>\n",
       "    </tr>\n",
       "  </thead>\n",
       "  <tbody>\n",
       "    <tr>\n",
       "      <th>0</th>\n",
       "      <td>1.0</td>\n",
       "      <td>NaN</td>\n",
       "      <td>NaN</td>\n",
       "      <td>NaN</td>\n",
       "      <td>NaN</td>\n",
       "      <td>NaN</td>\n",
       "      <td>NaN</td>\n",
       "      <td>NaN</td>\n",
       "      <td>NaN</td>\n",
       "      <td>NaN</td>\n",
       "      <td>...</td>\n",
       "      <td>NaN</td>\n",
       "      <td>NaN</td>\n",
       "      <td>NaN</td>\n",
       "      <td>NaN</td>\n",
       "      <td>NaN</td>\n",
       "      <td>NaN</td>\n",
       "      <td>NaN</td>\n",
       "      <td>NaN</td>\n",
       "      <td>NaN</td>\n",
       "      <td>NaN</td>\n",
       "    </tr>\n",
       "    <tr>\n",
       "      <th>1</th>\n",
       "      <td>NaN</td>\n",
       "      <td>3.0</td>\n",
       "      <td>1.0</td>\n",
       "      <td>1.0</td>\n",
       "      <td>NaN</td>\n",
       "      <td>NaN</td>\n",
       "      <td>NaN</td>\n",
       "      <td>NaN</td>\n",
       "      <td>NaN</td>\n",
       "      <td>NaN</td>\n",
       "      <td>...</td>\n",
       "      <td>NaN</td>\n",
       "      <td>NaN</td>\n",
       "      <td>NaN</td>\n",
       "      <td>NaN</td>\n",
       "      <td>NaN</td>\n",
       "      <td>NaN</td>\n",
       "      <td>NaN</td>\n",
       "      <td>NaN</td>\n",
       "      <td>NaN</td>\n",
       "      <td>NaN</td>\n",
       "    </tr>\n",
       "    <tr>\n",
       "      <th>2</th>\n",
       "      <td>NaN</td>\n",
       "      <td>NaN</td>\n",
       "      <td>NaN</td>\n",
       "      <td>NaN</td>\n",
       "      <td>1.0</td>\n",
       "      <td>1.0</td>\n",
       "      <td>1.0</td>\n",
       "      <td>NaN</td>\n",
       "      <td>NaN</td>\n",
       "      <td>NaN</td>\n",
       "      <td>...</td>\n",
       "      <td>NaN</td>\n",
       "      <td>NaN</td>\n",
       "      <td>NaN</td>\n",
       "      <td>NaN</td>\n",
       "      <td>NaN</td>\n",
       "      <td>NaN</td>\n",
       "      <td>NaN</td>\n",
       "      <td>NaN</td>\n",
       "      <td>NaN</td>\n",
       "      <td>NaN</td>\n",
       "    </tr>\n",
       "    <tr>\n",
       "      <th>3</th>\n",
       "      <td>NaN</td>\n",
       "      <td>NaN</td>\n",
       "      <td>NaN</td>\n",
       "      <td>NaN</td>\n",
       "      <td>NaN</td>\n",
       "      <td>NaN</td>\n",
       "      <td>NaN</td>\n",
       "      <td>1.0</td>\n",
       "      <td>1.0</td>\n",
       "      <td>1.0</td>\n",
       "      <td>...</td>\n",
       "      <td>NaN</td>\n",
       "      <td>NaN</td>\n",
       "      <td>NaN</td>\n",
       "      <td>NaN</td>\n",
       "      <td>NaN</td>\n",
       "      <td>NaN</td>\n",
       "      <td>NaN</td>\n",
       "      <td>NaN</td>\n",
       "      <td>NaN</td>\n",
       "      <td>NaN</td>\n",
       "    </tr>\n",
       "    <tr>\n",
       "      <th>4</th>\n",
       "      <td>NaN</td>\n",
       "      <td>NaN</td>\n",
       "      <td>NaN</td>\n",
       "      <td>NaN</td>\n",
       "      <td>NaN</td>\n",
       "      <td>NaN</td>\n",
       "      <td>NaN</td>\n",
       "      <td>NaN</td>\n",
       "      <td>NaN</td>\n",
       "      <td>NaN</td>\n",
       "      <td>...</td>\n",
       "      <td>NaN</td>\n",
       "      <td>NaN</td>\n",
       "      <td>NaN</td>\n",
       "      <td>NaN</td>\n",
       "      <td>NaN</td>\n",
       "      <td>NaN</td>\n",
       "      <td>NaN</td>\n",
       "      <td>NaN</td>\n",
       "      <td>NaN</td>\n",
       "      <td>NaN</td>\n",
       "    </tr>\n",
       "  </tbody>\n",
       "</table>\n",
       "<p>5 rows × 32 columns</p>\n",
       "</div>"
      ],
      "text/plain": [
       "   24_12  59_64  59_60  45_65  67_66  67_47  67_60  67_5  31_31  66_44  ...  \\\n",
       "0    1.0    NaN    NaN    NaN    NaN    NaN    NaN   NaN    NaN    NaN  ...   \n",
       "1    NaN    3.0    1.0    1.0    NaN    NaN    NaN   NaN    NaN    NaN  ...   \n",
       "2    NaN    NaN    NaN    NaN    1.0    1.0    1.0   NaN    NaN    NaN  ...   \n",
       "3    NaN    NaN    NaN    NaN    NaN    NaN    NaN   1.0    1.0    1.0  ...   \n",
       "4    NaN    NaN    NaN    NaN    NaN    NaN    NaN   NaN    NaN    NaN  ...   \n",
       "\n",
       "   2_1  5_7  66_23  8_12  3_1  8_7  12_7  6_7  2_2  3_67  \n",
       "0  NaN  NaN    NaN   NaN  NaN  NaN   NaN  NaN  NaN   NaN  \n",
       "1  NaN  NaN    NaN   NaN  NaN  NaN   NaN  NaN  NaN   NaN  \n",
       "2  NaN  NaN    NaN   NaN  NaN  NaN   NaN  NaN  NaN   NaN  \n",
       "3  NaN  NaN    NaN   NaN  NaN  NaN   NaN  NaN  NaN   NaN  \n",
       "4  NaN  NaN    NaN   NaN  NaN  NaN   NaN  NaN  NaN   NaN  \n",
       "\n",
       "[5 rows x 32 columns]"
      ]
     },
     "execution_count": 18,
     "metadata": {},
     "output_type": "execute_result"
    }
   ],
   "source": [
    "rank_routes_df.head()"
   ]
  },
  {
   "cell_type": "code",
   "execution_count": 19,
   "metadata": {
    "ExecuteTime": {
     "end_time": "2021-05-15T09:23:10.630360Z",
     "start_time": "2021-05-15T09:23:06.791245Z"
    },
    "scrolled": false
   },
   "outputs": [
    {
     "data": {
      "image/png": "[encoded data removed]",
      "text/plain": [
       "<Figure size 1440x720 with 1 Axes>"
      ]
     },
     "metadata": {
      "needs_background": "light"
     },
     "output_type": "display_data"
    }
   ],
   "source": [
    "rank_routes_df.loc[5:21].plot(kind='bar', figsize=(20,10), width=5, stacked=False, align='center') # only take operating hours\n",
    "plt.title('Usage of top 3 routes per hour', size=18)\n",
    "plt.xlabel('Hours', size=15)\n",
    "plt.ylabel('Count/Hours', size=15)\n",
    "plt.grid()\n",
    "plt.show()"
   ]
  },
  {
   "cell_type": "markdown",
   "metadata": {},
   "source": [
    "**Note**<br>\n",
    "- In the morning hours the route ```8_10``` is represented in high numbers followed by ```7_70```\n",
    "- In the evening hours there are more ```2_1``` and ```10_8``` rentals recorded\n",
    "- Noons and afternoons have a stable distribution of ```70_7``` (returns of the mornings)\n",
    "- Way less people go back the same way they came from (```8_10``` vs. ```10_8```)"
   ]
  },
  {
   "cell_type": "markdown",
   "metadata": {},
   "source": [
    "##### Road usage map"
   ]
  },
  {
   "cell_type": "markdown",
   "metadata": {},
   "source": [
    "The routes balance can also be visualized in a **map.**"
   ]
  },
  {
   "cell_type": "markdown",
   "metadata": {},
   "source": [
    "In order to show the routes in a more realistic way, we transformed them into routes (LineStrings) computed by the ```HERE API```. The code for this you can find here in the [appendix](#Calculate-routes-with-HERE-API)."
   ]
  },
  {
   "cell_type": "code",
   "execution_count": 20,
   "metadata": {
    "ExecuteTime": {
     "end_time": "2021-05-15T09:23:11.156486Z",
     "start_time": "2021-05-15T09:23:10.633683Z"
    }
   },
   "outputs": [],
   "source": [
    "# reload file after using HERE API\n",
    "# already contains coordinates\n",
    "routes_usage_x = pd.read_csv('data/routes_usage.csv', \n",
    "                             index_col=0, \n",
    "                             converters={'start_coord':ast.literal_eval}).dropna(subset=['geometry'])\n",
    "routes_usage_x = gpd.GeoDataFrame(routes_usage_x)\n",
    "routes_usage_x['geometry'] = routes_usage_x['geometry'].apply(wkt.loads)"
   ]
  },
  {
   "cell_type": "code",
   "execution_count": 21,
   "metadata": {
    "ExecuteTime": {
     "end_time": "2021-05-15T09:23:11.239555Z",
     "start_time": "2021-05-15T09:23:11.159403Z"
    }
   },
   "outputs": [
    {
     "data": {
      "text/html": [
       "<div>\n",
       "<style scoped>\n",
       "    .dataframe tbody tr th:only-of-type {\n",
       "        vertical-align: middle;\n",
       "    }\n",
       "\n",
       "    .dataframe tbody tr th {\n",
       "        vertical-align: top;\n",
       "    }\n",
       "\n",
       "    .dataframe thead th {\n",
       "        text-align: right;\n",
       "    }\n",
       "</style>\n",
       "<table border=\"1\" class=\"dataframe\">\n",
       "  <thead>\n",
       "    <tr style=\"text-align: right;\">\n",
       "      <th></th>\n",
       "      <th>0</th>\n",
       "      <th>1</th>\n",
       "      <th>2</th>\n",
       "      <th>3</th>\n",
       "      <th>4</th>\n",
       "      <th>5</th>\n",
       "      <th>6</th>\n",
       "      <th>7</th>\n",
       "      <th>8</th>\n",
       "      <th>9</th>\n",
       "      <th>...</th>\n",
       "      <th>20</th>\n",
       "      <th>21</th>\n",
       "      <th>22</th>\n",
       "      <th>23</th>\n",
       "      <th>start_id</th>\n",
       "      <th>finish_id</th>\n",
       "      <th>no_move</th>\n",
       "      <th>start_coord</th>\n",
       "      <th>finish_coord</th>\n",
       "      <th>geometry</th>\n",
       "    </tr>\n",
       "  </thead>\n",
       "  <tbody>\n",
       "    <tr>\n",
       "      <th>24_12</th>\n",
       "      <td>1.0</td>\n",
       "      <td>NaN</td>\n",
       "      <td>NaN</td>\n",
       "      <td>NaN</td>\n",
       "      <td>NaN</td>\n",
       "      <td>55.0</td>\n",
       "      <td>175.0</td>\n",
       "      <td>140.0</td>\n",
       "      <td>91.0</td>\n",
       "      <td>114.0</td>\n",
       "      <td>...</td>\n",
       "      <td>336.0</td>\n",
       "      <td>2.0</td>\n",
       "      <td>NaN</td>\n",
       "      <td>NaN</td>\n",
       "      <td>24</td>\n",
       "      <td>12</td>\n",
       "      <td>False</td>\n",
       "      <td>(-75.593096, 6.21553)</td>\n",
       "      <td>(-75.597366, 6.258628)</td>\n",
       "      <td>LINESTRING (-75.59343 6.21559, -75.59338 6.215...</td>\n",
       "    </tr>\n",
       "    <tr>\n",
       "      <th>59_64</th>\n",
       "      <td>NaN</td>\n",
       "      <td>3.0</td>\n",
       "      <td>NaN</td>\n",
       "      <td>NaN</td>\n",
       "      <td>1.0</td>\n",
       "      <td>404.0</td>\n",
       "      <td>1357.0</td>\n",
       "      <td>2623.0</td>\n",
       "      <td>1825.0</td>\n",
       "      <td>745.0</td>\n",
       "      <td>...</td>\n",
       "      <td>153.0</td>\n",
       "      <td>NaN</td>\n",
       "      <td>NaN</td>\n",
       "      <td>NaN</td>\n",
       "      <td>59</td>\n",
       "      <td>64</td>\n",
       "      <td>False</td>\n",
       "      <td>(-75.574658, 6.22851)</td>\n",
       "      <td>(-75.574966, 6.22378)</td>\n",
       "      <td>LINESTRING (-75.57464 6.22853, -75.57472 6.228...</td>\n",
       "    </tr>\n",
       "    <tr>\n",
       "      <th>59_60</th>\n",
       "      <td>NaN</td>\n",
       "      <td>1.0</td>\n",
       "      <td>NaN</td>\n",
       "      <td>NaN</td>\n",
       "      <td>4.0</td>\n",
       "      <td>114.0</td>\n",
       "      <td>555.0</td>\n",
       "      <td>391.0</td>\n",
       "      <td>277.0</td>\n",
       "      <td>246.0</td>\n",
       "      <td>...</td>\n",
       "      <td>36.0</td>\n",
       "      <td>NaN</td>\n",
       "      <td>NaN</td>\n",
       "      <td>NaN</td>\n",
       "      <td>59</td>\n",
       "      <td>60</td>\n",
       "      <td>False</td>\n",
       "      <td>(-75.574658, 6.22851)</td>\n",
       "      <td>(-75.575431, 6.220012)</td>\n",
       "      <td>LINESTRING (-75.57464 6.22853, -75.57472 6.228...</td>\n",
       "    </tr>\n",
       "    <tr>\n",
       "      <th>45_65</th>\n",
       "      <td>NaN</td>\n",
       "      <td>1.0</td>\n",
       "      <td>NaN</td>\n",
       "      <td>NaN</td>\n",
       "      <td>NaN</td>\n",
       "      <td>32.0</td>\n",
       "      <td>83.0</td>\n",
       "      <td>195.0</td>\n",
       "      <td>146.0</td>\n",
       "      <td>154.0</td>\n",
       "      <td>...</td>\n",
       "      <td>339.0</td>\n",
       "      <td>NaN</td>\n",
       "      <td>NaN</td>\n",
       "      <td>NaN</td>\n",
       "      <td>45</td>\n",
       "      <td>65</td>\n",
       "      <td>False</td>\n",
       "      <td>(-75.587564, 6.232526)</td>\n",
       "      <td>(-75.592235, 6.222392)</td>\n",
       "      <td>LINESTRING (-75.58754 6.23241, -75.58731 6.232...</td>\n",
       "    </tr>\n",
       "    <tr>\n",
       "      <th>1_10</th>\n",
       "      <td>NaN</td>\n",
       "      <td>1.0</td>\n",
       "      <td>NaN</td>\n",
       "      <td>NaN</td>\n",
       "      <td>NaN</td>\n",
       "      <td>46.0</td>\n",
       "      <td>121.0</td>\n",
       "      <td>184.0</td>\n",
       "      <td>47.0</td>\n",
       "      <td>121.0</td>\n",
       "      <td>...</td>\n",
       "      <td>8.0</td>\n",
       "      <td>NaN</td>\n",
       "      <td>NaN</td>\n",
       "      <td>NaN</td>\n",
       "      <td>1</td>\n",
       "      <td>10</td>\n",
       "      <td>False</td>\n",
       "      <td>(-75.564804, 6.276585)</td>\n",
       "      <td>(-75.589188, 6.244998)</td>\n",
       "      <td>LINESTRING (-75.56484 6.27663, -75.56504 6.276...</td>\n",
       "    </tr>\n",
       "    <tr>\n",
       "      <th>...</th>\n",
       "      <td>...</td>\n",
       "      <td>...</td>\n",
       "      <td>...</td>\n",
       "      <td>...</td>\n",
       "      <td>...</td>\n",
       "      <td>...</td>\n",
       "      <td>...</td>\n",
       "      <td>...</td>\n",
       "      <td>...</td>\n",
       "      <td>...</td>\n",
       "      <td>...</td>\n",
       "      <td>...</td>\n",
       "      <td>...</td>\n",
       "      <td>...</td>\n",
       "      <td>...</td>\n",
       "      <td>...</td>\n",
       "      <td>...</td>\n",
       "      <td>...</td>\n",
       "      <td>...</td>\n",
       "      <td>...</td>\n",
       "      <td>...</td>\n",
       "    </tr>\n",
       "    <tr>\n",
       "      <th>111_44</th>\n",
       "      <td>NaN</td>\n",
       "      <td>NaN</td>\n",
       "      <td>NaN</td>\n",
       "      <td>NaN</td>\n",
       "      <td>NaN</td>\n",
       "      <td>NaN</td>\n",
       "      <td>NaN</td>\n",
       "      <td>NaN</td>\n",
       "      <td>NaN</td>\n",
       "      <td>NaN</td>\n",
       "      <td>...</td>\n",
       "      <td>1.0</td>\n",
       "      <td>NaN</td>\n",
       "      <td>NaN</td>\n",
       "      <td>NaN</td>\n",
       "      <td>111</td>\n",
       "      <td>44</td>\n",
       "      <td>False</td>\n",
       "      <td>(-75.59117854, 6.17315299)</td>\n",
       "      <td>(-75.583459, 6.248949)</td>\n",
       "      <td>LINESTRING (-75.59118 6.17315, -75.59106 6.173...</td>\n",
       "    </tr>\n",
       "    <tr>\n",
       "      <th>110_95</th>\n",
       "      <td>NaN</td>\n",
       "      <td>NaN</td>\n",
       "      <td>NaN</td>\n",
       "      <td>NaN</td>\n",
       "      <td>NaN</td>\n",
       "      <td>NaN</td>\n",
       "      <td>NaN</td>\n",
       "      <td>NaN</td>\n",
       "      <td>NaN</td>\n",
       "      <td>NaN</td>\n",
       "      <td>...</td>\n",
       "      <td>1.0</td>\n",
       "      <td>NaN</td>\n",
       "      <td>NaN</td>\n",
       "      <td>NaN</td>\n",
       "      <td>110</td>\n",
       "      <td>95</td>\n",
       "      <td>False</td>\n",
       "      <td>(-75.59330016, 6.16997966)</td>\n",
       "      <td>(-75.56905568, 6.24841132)</td>\n",
       "      <td>LINESTRING (-75.59330 6.16998, -75.59292 6.169...</td>\n",
       "    </tr>\n",
       "    <tr>\n",
       "      <th>115_92</th>\n",
       "      <td>NaN</td>\n",
       "      <td>NaN</td>\n",
       "      <td>NaN</td>\n",
       "      <td>NaN</td>\n",
       "      <td>NaN</td>\n",
       "      <td>NaN</td>\n",
       "      <td>NaN</td>\n",
       "      <td>NaN</td>\n",
       "      <td>NaN</td>\n",
       "      <td>NaN</td>\n",
       "      <td>...</td>\n",
       "      <td>1.0</td>\n",
       "      <td>NaN</td>\n",
       "      <td>NaN</td>\n",
       "      <td>NaN</td>\n",
       "      <td>115</td>\n",
       "      <td>92</td>\n",
       "      <td>False</td>\n",
       "      <td>(-75.59021294, 6.17715296)</td>\n",
       "      <td>(-75.580543, 6.245546)</td>\n",
       "      <td>LINESTRING (-75.59015 6.17724, -75.59001 6.177...</td>\n",
       "    </tr>\n",
       "    <tr>\n",
       "      <th>115_33</th>\n",
       "      <td>NaN</td>\n",
       "      <td>NaN</td>\n",
       "      <td>NaN</td>\n",
       "      <td>NaN</td>\n",
       "      <td>NaN</td>\n",
       "      <td>NaN</td>\n",
       "      <td>NaN</td>\n",
       "      <td>NaN</td>\n",
       "      <td>NaN</td>\n",
       "      <td>NaN</td>\n",
       "      <td>...</td>\n",
       "      <td>1.0</td>\n",
       "      <td>NaN</td>\n",
       "      <td>NaN</td>\n",
       "      <td>NaN</td>\n",
       "      <td>115</td>\n",
       "      <td>33</td>\n",
       "      <td>False</td>\n",
       "      <td>(-75.59021294, 6.17715296)</td>\n",
       "      <td>(-75.577011, 6.245512)</td>\n",
       "      <td>LINESTRING (-75.59015 6.17724, -75.59001 6.177...</td>\n",
       "    </tr>\n",
       "    <tr>\n",
       "      <th>2_114</th>\n",
       "      <td>NaN</td>\n",
       "      <td>NaN</td>\n",
       "      <td>NaN</td>\n",
       "      <td>NaN</td>\n",
       "      <td>NaN</td>\n",
       "      <td>NaN</td>\n",
       "      <td>NaN</td>\n",
       "      <td>NaN</td>\n",
       "      <td>NaN</td>\n",
       "      <td>NaN</td>\n",
       "      <td>...</td>\n",
       "      <td>1.0</td>\n",
       "      <td>NaN</td>\n",
       "      <td>NaN</td>\n",
       "      <td>NaN</td>\n",
       "      <td>2</td>\n",
       "      <td>114</td>\n",
       "      <td>False</td>\n",
       "      <td>(-75.5653, 6.269267)</td>\n",
       "      <td>(-75.58939487, 6.17058766)</td>\n",
       "      <td>LINESTRING (-75.56533 6.26916, -75.56550 6.269...</td>\n",
       "    </tr>\n",
       "  </tbody>\n",
       "</table>\n",
       "<p>5720 rows × 30 columns</p>\n",
       "</div>"
      ],
      "text/plain": [
       "          0    1   2   3    4      5       6       7       8      9  ...  \\\n",
       "24_12   1.0  NaN NaN NaN  NaN   55.0   175.0   140.0    91.0  114.0  ...   \n",
       "59_64   NaN  3.0 NaN NaN  1.0  404.0  1357.0  2623.0  1825.0  745.0  ...   \n",
       "59_60   NaN  1.0 NaN NaN  4.0  114.0   555.0   391.0   277.0  246.0  ...   \n",
       "45_65   NaN  1.0 NaN NaN  NaN   32.0    83.0   195.0   146.0  154.0  ...   \n",
       "1_10    NaN  1.0 NaN NaN  NaN   46.0   121.0   184.0    47.0  121.0  ...   \n",
       "...     ...  ...  ..  ..  ...    ...     ...     ...     ...    ...  ...   \n",
       "111_44  NaN  NaN NaN NaN  NaN    NaN     NaN     NaN     NaN    NaN  ...   \n",
       "110_95  NaN  NaN NaN NaN  NaN    NaN     NaN     NaN     NaN    NaN  ...   \n",
       "115_92  NaN  NaN NaN NaN  NaN    NaN     NaN     NaN     NaN    NaN  ...   \n",
       "115_33  NaN  NaN NaN NaN  NaN    NaN     NaN     NaN     NaN    NaN  ...   \n",
       "2_114   NaN  NaN NaN NaN  NaN    NaN     NaN     NaN     NaN    NaN  ...   \n",
       "\n",
       "           20   21  22  23  start_id  finish_id  no_move  \\\n",
       "24_12   336.0  2.0 NaN NaN        24         12    False   \n",
       "59_64   153.0  NaN NaN NaN        59         64    False   \n",
       "59_60    36.0  NaN NaN NaN        59         60    False   \n",
       "45_65   339.0  NaN NaN NaN        45         65    False   \n",
       "1_10      8.0  NaN NaN NaN         1         10    False   \n",
       "...       ...  ...  ..  ..       ...        ...      ...   \n",
       "111_44    1.0  NaN NaN NaN       111         44    False   \n",
       "110_95    1.0  NaN NaN NaN       110         95    False   \n",
       "115_92    1.0  NaN NaN NaN       115         92    False   \n",
       "115_33    1.0  NaN NaN NaN       115         33    False   \n",
       "2_114     1.0  NaN NaN NaN         2        114    False   \n",
       "\n",
       "                       start_coord                finish_coord  \\\n",
       "24_12        (-75.593096, 6.21553)      (-75.597366, 6.258628)   \n",
       "59_64        (-75.574658, 6.22851)       (-75.574966, 6.22378)   \n",
       "59_60        (-75.574658, 6.22851)      (-75.575431, 6.220012)   \n",
       "45_65       (-75.587564, 6.232526)      (-75.592235, 6.222392)   \n",
       "1_10        (-75.564804, 6.276585)      (-75.589188, 6.244998)   \n",
       "...                            ...                         ...   \n",
       "111_44  (-75.59117854, 6.17315299)      (-75.583459, 6.248949)   \n",
       "110_95  (-75.59330016, 6.16997966)  (-75.56905568, 6.24841132)   \n",
       "115_92  (-75.59021294, 6.17715296)      (-75.580543, 6.245546)   \n",
       "115_33  (-75.59021294, 6.17715296)      (-75.577011, 6.245512)   \n",
       "2_114         (-75.5653, 6.269267)  (-75.58939487, 6.17058766)   \n",
       "\n",
       "                                                 geometry  \n",
       "24_12   LINESTRING (-75.59343 6.21559, -75.59338 6.215...  \n",
       "59_64   LINESTRING (-75.57464 6.22853, -75.57472 6.228...  \n",
       "59_60   LINESTRING (-75.57464 6.22853, -75.57472 6.228...  \n",
       "45_65   LINESTRING (-75.58754 6.23241, -75.58731 6.232...  \n",
       "1_10    LINESTRING (-75.56484 6.27663, -75.56504 6.276...  \n",
       "...                                                   ...  \n",
       "111_44  LINESTRING (-75.59118 6.17315, -75.59106 6.173...  \n",
       "110_95  LINESTRING (-75.59330 6.16998, -75.59292 6.169...  \n",
       "115_92  LINESTRING (-75.59015 6.17724, -75.59001 6.177...  \n",
       "115_33  LINESTRING (-75.59015 6.17724, -75.59001 6.177...  \n",
       "2_114   LINESTRING (-75.56533 6.26916, -75.56550 6.269...  \n",
       "\n",
       "[5720 rows x 30 columns]"
      ]
     },
     "execution_count": 21,
     "metadata": {},
     "output_type": "execute_result"
    }
   ],
   "source": [
    "routes_usage_x"
   ]
  },
  {
   "cell_type": "code",
   "execution_count": 22,
   "metadata": {
    "ExecuteTime": {
     "end_time": "2021-05-15T09:23:11.536144Z",
     "start_time": "2021-05-15T09:23:11.241882Z"
    }
   },
   "outputs": [
    {
     "data": {
      "text/plain": [
       "5720"
      ]
     },
     "execution_count": 22,
     "metadata": {},
     "output_type": "execute_result"
    }
   ],
   "source": [
    "# check for valid coords\n",
    "(routes_usage_x.geometry == routes_usage_x.geometry).sum()"
   ]
  },
  {
   "cell_type": "code",
   "execution_count": 23,
   "metadata": {
    "ExecuteTime": {
     "end_time": "2021-05-15T09:23:12.342224Z",
     "start_time": "2021-05-15T09:23:11.546004Z"
    }
   },
   "outputs": [
    {
     "name": "stdout",
     "output_type": "stream",
     "text": [
      "####################################### Density flow daily bike usage ########################################\n",
      "\n",
      "Move 'hour' bar to see the flow change\n"
     ]
    },
    {
     "data": {
      "application/vnd.jupyter.widget-view+json": {
       "model_id": "cb75b30d26904c25aa98bc1fd73e185d",
       "version_major": 2,
       "version_minor": 0
      },
      "text/plain": [
       "interactive(children=(IntSlider(value=8, description='hour', max=21, min=5), Checkbox(value=True, description=…"
      ]
     },
     "metadata": {},
     "output_type": "display_data"
    },
    {
     "data": {
      "text/plain": [
       "<function __main__.mapa(hour, show_routes, show_stations)>"
      ]
     },
     "execution_count": 23,
     "metadata": {},
     "output_type": "execute_result"
    }
   ],
   "source": [
    "# plot route density and station demand\n",
    "def mapa(hour, show_routes, show_stations):\n",
    "    hour = str(hour) # col names are read in str\n",
    "    m = folium.Map([6.25, -75.58], zoom_start=13, tiles='cartodbpositron')\n",
    "    \n",
    "    hour_df = routes_usage_x[routes_usage_x[hour] == routes_usage_x[hour]][[hour, 'start_id', 'start_coord', 'geometry']]\n",
    "    hour_df = hour_df[hour_df.geometry == hour_df.geometry].sort_values(by=hour, ascending=False)\n",
    "    hour_df = hour_df.dropna().head(100)\n",
    "    hour_df = gpd.GeoDataFrame(hour_df)\n",
    "    \n",
    "    # routes\n",
    "#     cmap = matplotlib.cm.get_cmap('BuPu')\n",
    "    cmap = branca.colormap.linear.BuPu_09.scale(0, 1)\n",
    "    routes = FeatureGroup(name='Routes', show=show_routes)\n",
    "    for c, row in hour_df.iterrows():\n",
    "        # routes\n",
    "        hexa = matplotlib.colors.to_hex(cmap(row[hour]/hour_df[hour].max()))\n",
    "        xy = row.geometry.coords.xy\n",
    "        coords = [[x[i] for x in [xy[1], xy[0]]] for i in range(len(xy[0]))]\n",
    "        folium.PolyLine(coords, \n",
    "                        color=hexa, \n",
    "                        weight=10, \n",
    "                        tooltip=f'Route: {c}',\n",
    "                        opacity=.3).add_to(routes)\n",
    "    \n",
    "    # circles\n",
    "    pickup_df = hour_df.groupby('start_id').agg({hour:'sum', 'start_coord':'first'})\n",
    "    cmapa = branca.colormap.linear.YlOrRd_09.scale(0, 1)\n",
    "#     cmapa = matplotlib.cm.get_cmap('YlOrRd')\n",
    "    stations = FeatureGroup(name='Stations', show=show_stations)\n",
    "    for c, row in pickup_df.iterrows():\n",
    "        size = (np.sqrt(row[hour])/19)**2\n",
    "        hexe = matplotlib.colors.to_hex(cmapa(row[hour]/hour_df[hour].max()))\n",
    "\n",
    "        CircleMarker((row.start_coord[1],row.start_coord[0]), \n",
    "                     radius=size, \n",
    "                     fill=True, \n",
    "                     tooltip=f'Station: {c}', \n",
    "                     color=hexe,\n",
    "                     weight=0,\n",
    "                     fill_opacity=.2\n",
    "                    ).add_to(stations)\n",
    "    \n",
    "    # add layer stations to m\n",
    "    cmapa.caption = 'Relative demand per station and hour of the day'\n",
    "    cmapa.add_to(m)\n",
    "    stations.add_to(m)\n",
    "    \n",
    "    # add layer routes to m\n",
    "    routes.add_to(m)\n",
    "    cmap.caption = 'Density of route usage per hour of the day'\n",
    "    cmap.add_to(m)\n",
    "    LayerControl().add_to(m)\n",
    "    return m\n",
    "title = ' Density flow daily bike usage '\n",
    "print (title.center(110, '#'))\n",
    "print('\\nMove \\'hour\\' bar to see the flow change')\n",
    "interact(mapa, hour=IntSlider(min=5, max=21, step=1, value=8), show_routes=True, show_stations=True)"
   ]
  },
  {
   "cell_type": "markdown",
   "metadata": {},
   "source": [
    "**Note**<br>\n",
    "The data for the circles of stations is beautified for better displaying purposes.\n",
    "We can clearly see what has been described in the previous [graph](#Route-usage-graph). The most popular destinations are the three campuses of universities in the city of Medellin.\n",
    "- Universidad Pontificia Bolivariana (Station: 10)\n",
    "- Universidad Nacional de Colombia (Station: 70)\n",
    "- Universidad de Antioquia (Stations: 2 & 3)\n",
    "\n",
    "The biggest demand for bikes is visible in the two Metro stations: \n",
    "- Suramericana (Station: 7)\n",
    "- Estadio (Station: 8)"
   ]
  },
  {
   "cell_type": "markdown",
   "metadata": {
    "heading_collapsed": true
   },
   "source": [
    "#### Rental behavior"
   ]
  },
  {
   "cell_type": "markdown",
   "metadata": {
    "hidden": true
   },
   "source": [
    "To understand the rental behavior it is important to look at the rental details.\n",
    "- how many times were bikes returned to the **same** station?\n",
    "- how many times were bikes rented **less** than 2 mins?"
   ]
  },
  {
   "cell_type": "code",
   "execution_count": 24,
   "metadata": {
    "ExecuteTime": {
     "end_time": "2021-05-15T09:23:13.162980Z",
     "start_time": "2021-05-15T09:23:12.347757Z"
    },
    "hidden": true
   },
   "outputs": [],
   "source": [
    "bikes['timespan_min'] = (bikes.Fecha_Devolucion - bikes.Fecha_Prestamo).dt.seconds/60"
   ]
  },
  {
   "cell_type": "code",
   "execution_count": 25,
   "metadata": {
    "ExecuteTime": {
     "end_time": "2021-05-15T09:23:16.581732Z",
     "start_time": "2021-05-15T09:23:13.167508Z"
    },
    "hidden": true
   },
   "outputs": [
    {
     "data": {
      "image/png": "[encoded data removed]",
      "text/plain": [
       "<Figure size 1080x576 with 1 Axes>"
      ]
     },
     "metadata": {
      "needs_background": "light"
     },
     "output_type": "display_data"
    }
   ],
   "source": [
    "# plot the time spans of bike rentals\n",
    "bikes.timespan_min.hist(bins=1000, figsize=(15,8), edgecolor='white')\n",
    "plt.xlim(0,125)\n",
    "plt.title('Distribution of rental time in minutes', size=18)\n",
    "plt.text(50, 500000, s='Understand \"unrented\" bikes', c='r', rotation='horizontal', fontsize=20)\n",
    "plt.arrow(1, 400000, 50, 80000, color='r', width=1)\n",
    "plt.xlabel('Rental time in mins', size=15)\n",
    "plt.show()"
   ]
  },
  {
   "cell_type": "code",
   "execution_count": 26,
   "metadata": {
    "ExecuteTime": {
     "end_time": "2021-05-15T09:23:16.634271Z",
     "start_time": "2021-05-15T09:23:16.588779Z"
    },
    "hidden": true
   },
   "outputs": [],
   "source": [
    "# re split the df to see start and finish ids separately\n",
    "routes_usage['start_id'] = routes_usage.index.map(lambda x: x.split('_')[0])\n",
    "routes_usage['finish_id'] = routes_usage.index.map(lambda x: x.split('_')[1])\n",
    "routes_usage['no_move'] = routes_usage.start_id == routes_usage.finish_id # tag routes which returned to the same station"
   ]
  },
  {
   "cell_type": "code",
   "execution_count": 27,
   "metadata": {
    "ExecuteTime": {
     "end_time": "2021-05-15T09:23:17.592518Z",
     "start_time": "2021-05-15T09:23:16.636997Z"
    },
    "hidden": true
   },
   "outputs": [
    {
     "name": "stderr",
     "output_type": "stream",
     "text": [
      "/home/sisto/.pyenv/versions/3.8.6/envs/lewagon/lib/python3.8/site-packages/seaborn/distributions.py:2557: FutureWarning: `distplot` is a deprecated function and will be removed in a future version. Please adapt your code to use either `displot` (a figure-level function with similar flexibility) or `histplot` (an axes-level function for histograms).\n",
      "  warnings.warn(msg, FutureWarning)\n",
      "/home/sisto/.pyenv/versions/3.8.6/envs/lewagon/lib/python3.8/site-packages/seaborn/distributions.py:2557: FutureWarning: `distplot` is a deprecated function and will be removed in a future version. Please adapt your code to use either `displot` (a figure-level function with similar flexibility) or `histplot` (an axes-level function for histograms).\n",
      "  warnings.warn(msg, FutureWarning)\n"
     ]
    },
    {
     "data": {
      "image/png": "[encoded data removed]",
      "text/plain": [
       "<Figure size 1440x360 with 2 Axes>"
      ]
     },
     "metadata": {
      "needs_background": "light"
     },
     "output_type": "display_data"
    }
   ],
   "source": [
    "# how many times were bikes returned to the same station?\n",
    "# how many times were bikes rented less than 2 mins?\n",
    "plt.figure(figsize=(20,5))\n",
    "plt.subplot(1,2,1)\n",
    "sns.distplot(routes_usage.no_move, bins=2, kde=False)\n",
    "plt.title('Bikes returned to the same station')\n",
    "plt.subplot(1,2,2)\n",
    "under_2 = bikes.timespan_min < 2\n",
    "sns.distplot(under_2, bins=2, kde=False)\n",
    "plt.title('Bikes rented less than 2 mins')\n",
    "plt.show()"
   ]
  },
  {
   "cell_type": "markdown",
   "metadata": {
    "hidden": true
   },
   "source": [
    "**Note**<br>\n",
    "The distribution of rentals to the same station is rather small but it is of course likely for people to drop off bikes at the same station as they picked them up. That data should be kept in the data set."
   ]
  },
  {
   "cell_type": "markdown",
   "metadata": {
    "heading_collapsed": true
   },
   "source": [
    "### Pandemic analysis 😷"
   ]
  },
  {
   "cell_type": "markdown",
   "metadata": {
    "hidden": true
   },
   "source": [
    "In the last year our habits changed a lot due to the pandemic we are dealing day by day with. For this reason we cannot avoid to take this factor into account.\n",
    "\n",
    "**Let's see how our data changed before and after the spreading of the Corona Virus:**"
   ]
  },
  {
   "cell_type": "code",
   "execution_count": 28,
   "metadata": {
    "ExecuteTime": {
     "end_time": "2021-05-15T09:23:29.435937Z",
     "start_time": "2021-05-15T09:23:17.595938Z"
    },
    "hidden": true
   },
   "outputs": [],
   "source": [
    "bikes['year'] = bikes.Fecha_Prestamo.dt.year\n",
    "evolution_bikes = {}\n",
    "for year in sorted(bikes.year.unique())[::-1]:\n",
    "    df_filter = bikes[bikes.year == year]\n",
    "    df_filter_prev = bikes[bikes.year == year-1]\n",
    "    bikes_ = df_filter.Id_Tag_Bicicleta.unique()\n",
    "    bikes_prev = df_filter_prev.Id_Tag_Bicicleta.unique()\n",
    "    count_up = len([bike for bike in bikes_ if bike not in bikes_prev])\n",
    "    count_down = -len([bike for bike in bikes_prev if bike not in bikes_])\n",
    "    evolution_bikes[year] = {'loss': count_down, 'win': count_up}"
   ]
  },
  {
   "cell_type": "code",
   "execution_count": 29,
   "metadata": {
    "ExecuteTime": {
     "end_time": "2021-05-15T09:23:29.998578Z",
     "start_time": "2021-05-15T09:23:29.439651Z"
    },
    "hidden": true
   },
   "outputs": [
    {
     "data": {
      "image/png": "[encoded data removed]",
      "text/plain": [
       "<Figure size 1080x720 with 1 Axes>"
      ]
     },
     "metadata": {
      "needs_background": "light"
     },
     "output_type": "display_data"
    }
   ],
   "source": [
    "pd.DataFrame(evolution_bikes).T.sort_index().plot(kind='bar', figsize=(15,10))\n",
    "plt.grid()"
   ]
  },
  {
   "cell_type": "markdown",
   "metadata": {
    "hidden": true
   },
   "source": [
    "**Note**<br>\n",
    "we can see that a lot of bikes stopped appearing in 2021. The highest investments for new bikes have been made in 2020."
   ]
  },
  {
   "cell_type": "markdown",
   "metadata": {
    "hidden": true
   },
   "source": [
    "**What about route exploration by users**"
   ]
  },
  {
   "cell_type": "code",
   "execution_count": 30,
   "metadata": {
    "ExecuteTime": {
     "end_time": "2021-05-15T09:23:49.892949Z",
     "start_time": "2021-05-15T09:23:30.002658Z"
    },
    "hidden": true
   },
   "outputs": [],
   "source": [
    "evolution_routes = {}\n",
    "for year in sorted(bikes.year.unique())[::-1]:\n",
    "    df_filter = bikes[bikes.year == year]\n",
    "    df_filter_prev = bikes[bikes.year == year-1]\n",
    "    routes_ = df_filter.routes.unique()\n",
    "    routes_prev = df_filter_prev.routes.unique()\n",
    "    count_up = len([route for route in routes_ if route not in routes_prev])\n",
    "    count_down = -len([route for route in routes_prev if route not in routes_])\n",
    "    evolution_routes[year] = {'loss': count_down, 'win': count_up}"
   ]
  },
  {
   "cell_type": "code",
   "execution_count": 31,
   "metadata": {
    "ExecuteTime": {
     "end_time": "2021-05-15T09:23:50.252474Z",
     "start_time": "2021-05-15T09:23:49.895913Z"
    },
    "hidden": true
   },
   "outputs": [
    {
     "data": {
      "image/png": "[encoded data removed]",
      "text/plain": [
       "<Figure size 1440x720 with 1 Axes>"
      ]
     },
     "metadata": {
      "needs_background": "light"
     },
     "output_type": "display_data"
    }
   ],
   "source": [
    "pd.DataFrame(evolution_routes).T.sort_index().plot(kind='bar', figsize=(20,10))\n",
    "plt.grid()"
   ]
  },
  {
   "cell_type": "markdown",
   "metadata": {
    "hidden": true
   },
   "source": [
    "**Note**<br>\n",
    "In 2019 and 2020 a lot of new routes were explored by the bike users. This might be due to more private and recreational use of bikes during covid. \n",
    "\n",
    "**Did the total of rentals change during the years?**"
   ]
  },
  {
   "cell_type": "code",
   "execution_count": 32,
   "metadata": {
    "ExecuteTime": {
     "end_time": "2021-05-15T09:23:52.316277Z",
     "start_time": "2021-05-15T09:23:50.255944Z"
    },
    "hidden": true
   },
   "outputs": [
    {
     "data": {
      "image/png": "[encoded data removed]",
      "text/plain": [
       "<Figure size 1080x576 with 1 Axes>"
      ]
     },
     "metadata": {
      "needs_background": "light"
     },
     "output_type": "display_data"
    }
   ],
   "source": [
    "# calculate evolution of rentals\n",
    "evolution_rentals = {}\n",
    "for year in sorted(bikes.year.unique()):\n",
    "    df_filter = bikes[bikes.year == year]\n",
    "    count = df_filter.Id_Historico_Prestamo.count()\n",
    "    evolution_rentals[year] = count\n",
    "evolution_rentals_df = pd.DataFrame.from_dict(evolution_rentals, orient='index').rename(columns={0:'count'})\n",
    "evolution_rentals_df.plot(kind='bar', figsize=(15,8))\n",
    "plt.grid()\n",
    "plt.title(\"Evolution of bike rentals from 2014 to 2021\", size=16)\n",
    "plt.show()"
   ]
  },
  {
   "cell_type": "markdown",
   "metadata": {
    "hidden": true
   },
   "source": [
    "**Rentals plummet in 2020 and 2021.**\n",
    "1. we cannot run a model without taking this real world event into account\n",
    "2. we decide to split the data and work just on the pre-pandemic information to get a more normalized prediction model.\n",
    "\n",
    "**Split of dataframe**"
   ]
  },
  {
   "cell_type": "code",
   "execution_count": 33,
   "metadata": {
    "ExecuteTime": {
     "end_time": "2021-05-15T09:23:53.534298Z",
     "start_time": "2021-05-15T09:23:52.324251Z"
    },
    "hidden": true
   },
   "outputs": [],
   "source": [
    "bikes_nocov = bikes[bikes.Fecha_Devolucion <= '31/12/2019']"
   ]
  },
  {
   "cell_type": "code",
   "execution_count": 34,
   "metadata": {
    "ExecuteTime": {
     "end_time": "2021-05-15T09:23:53.544226Z",
     "start_time": "2021-05-15T09:23:53.536863Z"
    },
    "hidden": true
   },
   "outputs": [
    {
     "name": "stdout",
     "output_type": "stream",
     "text": [
      "Pre pandemic data with no nan values amounts to \n",
      "10737486 rows.\n"
     ]
    }
   ],
   "source": [
    "print(f'Pre pandemic data with no nan values amounts to \\n{bikes_nocov.shape[0]} rows.')"
   ]
  },
  {
   "cell_type": "markdown",
   "metadata": {},
   "source": [
    "### Data Preparation 🧑‍💻"
   ]
  },
  {
   "cell_type": "markdown",
   "metadata": {},
   "source": [
    "Following some review, we decided to focus entirely on the data from **2019**. \n",
    "\n",
    "There are several reasons for this:\n",
    "\n",
    "1. We believe that using data at the beginning of the project might be unrepresentative of how it is currently operated (just before COVID). \n",
    "2. For dimensionality purposes, the more rows and dates we turn into time series, the great amount of data to process.\n",
    "\n",
    "**NOTE:** \n",
    "<br>\n",
    "We are focusing solely on 2019, therefore we are removing the bikes that were loaned **AND** deposited back in 2019. Therefore, bikes dropped after 31/12/2019 wouldn't be counted."
   ]
  },
  {
   "cell_type": "markdown",
   "metadata": {
    "ExecuteTime": {
     "end_time": "2021-05-15T08:34:29.165951Z",
     "start_time": "2021-05-15T08:34:29.157688Z"
    }
   },
   "source": [
    "We are building a model to predict the demand of rental bicycles for each station for any time in the future in the city of Medellin, CO.<br>\n",
    "For that, we need to compute:<br>\n",
    "1. The actual amount of bikes available at each station for each hour of the year.\n",
    "2. The demand for bikes per station per hour.\n",
    "3. We will add weather data for each hour of the year because we believe that weather has an impact on bike usage. \n",
    "4. We will add another categorical holiday feature to the df."
   ]
  },
  {
   "cell_type": "markdown",
   "metadata": {},
   "source": [
    "#### Demand & Supply "
   ]
  },
  {
   "cell_type": "markdown",
   "metadata": {},
   "source": [
    "**Note**\n",
    "\n",
    "Originally, we wanted to compute the original supply of bikes per station per hour. We have attached the code in Appendix under *Building Original Supply of Bikes per Station* for this. Unfortunately, we did not account for possible transfers of bikes from EnCicla that were not recorded in the bike loans. \n",
    "\n",
    "The problem with the dataset or computing Demand & Supply is that we cannot account for potential demand such as when stations are 0 but individuals would like to rent a bike or vice versa for potential supply when stations are full but individuals would like to drop their bikes. \n",
    "\n",
    "Therefore, we decided to compute Demand & Supply based on bike loans only. For the **demand**, we will calculate the amount of bikes loaned per station per hour. For the **supply**, we will calculate the amount of bikes dropped off per station per hour.\n"
   ]
  },
  {
   "cell_type": "code",
   "execution_count": 35,
   "metadata": {
    "ExecuteTime": {
     "end_time": "2021-05-15T09:23:56.681235Z",
     "start_time": "2021-05-15T09:23:53.547475Z"
    }
   },
   "outputs": [
    {
     "data": {
      "text/html": [
       "<div>\n",
       "<style scoped>\n",
       "    .dataframe tbody tr th:only-of-type {\n",
       "        vertical-align: middle;\n",
       "    }\n",
       "\n",
       "    .dataframe tbody tr th {\n",
       "        vertical-align: top;\n",
       "    }\n",
       "\n",
       "    .dataframe thead th {\n",
       "        text-align: right;\n",
       "    }\n",
       "</style>\n",
       "<table border=\"1\" class=\"dataframe\">\n",
       "  <thead>\n",
       "    <tr style=\"text-align: right;\">\n",
       "      <th></th>\n",
       "      <th>Id_Historico_Prestamo</th>\n",
       "      <th>Id_Usuario</th>\n",
       "      <th>Id_Tag_Bicicleta</th>\n",
       "      <th>Fecha_Prestamo</th>\n",
       "      <th>Fecha_Devolucion</th>\n",
       "      <th>Id_Aparcamiento_Origen</th>\n",
       "      <th>Posicion_Origen</th>\n",
       "      <th>Id_Aparcamiento_Destino</th>\n",
       "      <th>Posicion_Destino</th>\n",
       "      <th>Num_Bici_Hist</th>\n",
       "      <th>hour_init</th>\n",
       "      <th>hour_end</th>\n",
       "      <th>routes</th>\n",
       "      <th>hour</th>\n",
       "      <th>timespan_min</th>\n",
       "      <th>year</th>\n",
       "    </tr>\n",
       "  </thead>\n",
       "  <tbody>\n",
       "    <tr>\n",
       "      <th>440864</th>\n",
       "      <td>10948569</td>\n",
       "      <td>20272</td>\n",
       "      <td>00FB73222B5E</td>\n",
       "      <td>2019-02-20 14:08:04</td>\n",
       "      <td>2019-02-20 14:26:08</td>\n",
       "      <td>9</td>\n",
       "      <td>1</td>\n",
       "      <td>43.0</td>\n",
       "      <td>1.0</td>\n",
       "      <td>1366.0</td>\n",
       "      <td>14</td>\n",
       "      <td>14</td>\n",
       "      <td>9_43</td>\n",
       "      <td>14</td>\n",
       "      <td>18.066667</td>\n",
       "      <td>2019</td>\n",
       "    </tr>\n",
       "    <tr>\n",
       "      <th>586995</th>\n",
       "      <td>12896369</td>\n",
       "      <td>135209</td>\n",
       "      <td>002772222B5E</td>\n",
       "      <td>2019-08-22 09:19:51</td>\n",
       "      <td>2019-08-22 09:20:31</td>\n",
       "      <td>44</td>\n",
       "      <td>15</td>\n",
       "      <td>44.0</td>\n",
       "      <td>15.0</td>\n",
       "      <td>976.0</td>\n",
       "      <td>9</td>\n",
       "      <td>9</td>\n",
       "      <td>44_44</td>\n",
       "      <td>9</td>\n",
       "      <td>0.666667</td>\n",
       "      <td>2019</td>\n",
       "    </tr>\n",
       "    <tr>\n",
       "      <th>726893</th>\n",
       "      <td>12896264</td>\n",
       "      <td>26536</td>\n",
       "      <td>00094A72BF5B</td>\n",
       "      <td>2019-08-22 09:11:22</td>\n",
       "      <td>2019-08-22 09:20:53</td>\n",
       "      <td>9</td>\n",
       "      <td>1</td>\n",
       "      <td>70.0</td>\n",
       "      <td>1.0</td>\n",
       "      <td>2699.0</td>\n",
       "      <td>9</td>\n",
       "      <td>9</td>\n",
       "      <td>9_70</td>\n",
       "      <td>9</td>\n",
       "      <td>9.516667</td>\n",
       "      <td>2019</td>\n",
       "    </tr>\n",
       "    <tr>\n",
       "      <th>1028721</th>\n",
       "      <td>10948678</td>\n",
       "      <td>124512</td>\n",
       "      <td>00233C222B5E</td>\n",
       "      <td>2019-02-20 14:15:54</td>\n",
       "      <td>2019-02-20 14:26:28</td>\n",
       "      <td>89</td>\n",
       "      <td>2</td>\n",
       "      <td>56.0</td>\n",
       "      <td>1.0</td>\n",
       "      <td>638.0</td>\n",
       "      <td>14</td>\n",
       "      <td>14</td>\n",
       "      <td>89_56</td>\n",
       "      <td>14</td>\n",
       "      <td>10.566667</td>\n",
       "      <td>2019</td>\n",
       "    </tr>\n",
       "    <tr>\n",
       "      <th>2665185</th>\n",
       "      <td>10948590</td>\n",
       "      <td>31795</td>\n",
       "      <td>003491222B5E</td>\n",
       "      <td>2019-02-20 14:09:15</td>\n",
       "      <td>2019-02-20 14:26:31</td>\n",
       "      <td>44</td>\n",
       "      <td>16</td>\n",
       "      <td>56.0</td>\n",
       "      <td>23.0</td>\n",
       "      <td>1362.0</td>\n",
       "      <td>14</td>\n",
       "      <td>14</td>\n",
       "      <td>44_56</td>\n",
       "      <td>14</td>\n",
       "      <td>17.266667</td>\n",
       "      <td>2019</td>\n",
       "    </tr>\n",
       "    <tr>\n",
       "      <th>...</th>\n",
       "      <td>...</td>\n",
       "      <td>...</td>\n",
       "      <td>...</td>\n",
       "      <td>...</td>\n",
       "      <td>...</td>\n",
       "      <td>...</td>\n",
       "      <td>...</td>\n",
       "      <td>...</td>\n",
       "      <td>...</td>\n",
       "      <td>...</td>\n",
       "      <td>...</td>\n",
       "      <td>...</td>\n",
       "      <td>...</td>\n",
       "      <td>...</td>\n",
       "      <td>...</td>\n",
       "      <td>...</td>\n",
       "    </tr>\n",
       "    <tr>\n",
       "      <th>11767100</th>\n",
       "      <td>14454800</td>\n",
       "      <td>27944</td>\n",
       "      <td>0000F69A5A88</td>\n",
       "      <td>2019-12-31 13:58:55</td>\n",
       "      <td>2019-12-31 14:25:38</td>\n",
       "      <td>40</td>\n",
       "      <td>1</td>\n",
       "      <td>50.0</td>\n",
       "      <td>1.0</td>\n",
       "      <td>541.0</td>\n",
       "      <td>13</td>\n",
       "      <td>14</td>\n",
       "      <td>40_50</td>\n",
       "      <td>13</td>\n",
       "      <td>26.716667</td>\n",
       "      <td>2019</td>\n",
       "    </tr>\n",
       "    <tr>\n",
       "      <th>11767101</th>\n",
       "      <td>14454778</td>\n",
       "      <td>108800</td>\n",
       "      <td>00029A222B5E</td>\n",
       "      <td>2019-12-31 13:52:48</td>\n",
       "      <td>2019-12-31 14:40:52</td>\n",
       "      <td>28</td>\n",
       "      <td>1</td>\n",
       "      <td>50.0</td>\n",
       "      <td>1.0</td>\n",
       "      <td>715.0</td>\n",
       "      <td>13</td>\n",
       "      <td>14</td>\n",
       "      <td>28_50</td>\n",
       "      <td>13</td>\n",
       "      <td>48.066667</td>\n",
       "      <td>2019</td>\n",
       "    </tr>\n",
       "    <tr>\n",
       "      <th>11767102</th>\n",
       "      <td>14454793</td>\n",
       "      <td>98449</td>\n",
       "      <td>00001619CE0A</td>\n",
       "      <td>2019-12-31 13:55:47</td>\n",
       "      <td>2019-12-31 14:41:39</td>\n",
       "      <td>113</td>\n",
       "      <td>1</td>\n",
       "      <td>28.0</td>\n",
       "      <td>1.0</td>\n",
       "      <td>3497.0</td>\n",
       "      <td>13</td>\n",
       "      <td>14</td>\n",
       "      <td>113_28</td>\n",
       "      <td>13</td>\n",
       "      <td>45.866667</td>\n",
       "      <td>2019</td>\n",
       "    </tr>\n",
       "    <tr>\n",
       "      <th>11767103</th>\n",
       "      <td>14454774</td>\n",
       "      <td>129665</td>\n",
       "      <td>000036885A88</td>\n",
       "      <td>2019-12-31 13:51:28</td>\n",
       "      <td>2019-12-31 16:27:12</td>\n",
       "      <td>39</td>\n",
       "      <td>15</td>\n",
       "      <td>41.0</td>\n",
       "      <td>15.0</td>\n",
       "      <td>534.0</td>\n",
       "      <td>13</td>\n",
       "      <td>16</td>\n",
       "      <td>39_41</td>\n",
       "      <td>13</td>\n",
       "      <td>155.733333</td>\n",
       "      <td>2019</td>\n",
       "    </tr>\n",
       "    <tr>\n",
       "      <th>11767179</th>\n",
       "      <td>14454588</td>\n",
       "      <td>121316</td>\n",
       "      <td>000026FE5A88</td>\n",
       "      <td>2019-12-31 13:15:55</td>\n",
       "      <td>2019-12-31 15:01:31</td>\n",
       "      <td>103</td>\n",
       "      <td>4</td>\n",
       "      <td>118.0</td>\n",
       "      <td>4.0</td>\n",
       "      <td>2092.0</td>\n",
       "      <td>13</td>\n",
       "      <td>15</td>\n",
       "      <td>103_118</td>\n",
       "      <td>13</td>\n",
       "      <td>105.600000</td>\n",
       "      <td>2019</td>\n",
       "    </tr>\n",
       "  </tbody>\n",
       "</table>\n",
       "<p>3780278 rows × 16 columns</p>\n",
       "</div>"
      ],
      "text/plain": [
       "          Id_Historico_Prestamo  Id_Usuario Id_Tag_Bicicleta  \\\n",
       "440864                 10948569       20272     00FB73222B5E   \n",
       "586995                 12896369      135209     002772222B5E   \n",
       "726893                 12896264       26536     00094A72BF5B   \n",
       "1028721                10948678      124512     00233C222B5E   \n",
       "2665185                10948590       31795     003491222B5E   \n",
       "...                         ...         ...              ...   \n",
       "11767100               14454800       27944     0000F69A5A88   \n",
       "11767101               14454778      108800     00029A222B5E   \n",
       "11767102               14454793       98449     00001619CE0A   \n",
       "11767103               14454774      129665     000036885A88   \n",
       "11767179               14454588      121316     000026FE5A88   \n",
       "\n",
       "              Fecha_Prestamo    Fecha_Devolucion  Id_Aparcamiento_Origen  \\\n",
       "440864   2019-02-20 14:08:04 2019-02-20 14:26:08                       9   \n",
       "586995   2019-08-22 09:19:51 2019-08-22 09:20:31                      44   \n",
       "726893   2019-08-22 09:11:22 2019-08-22 09:20:53                       9   \n",
       "1028721  2019-02-20 14:15:54 2019-02-20 14:26:28                      89   \n",
       "2665185  2019-02-20 14:09:15 2019-02-20 14:26:31                      44   \n",
       "...                      ...                 ...                     ...   \n",
       "11767100 2019-12-31 13:58:55 2019-12-31 14:25:38                      40   \n",
       "11767101 2019-12-31 13:52:48 2019-12-31 14:40:52                      28   \n",
       "11767102 2019-12-31 13:55:47 2019-12-31 14:41:39                     113   \n",
       "11767103 2019-12-31 13:51:28 2019-12-31 16:27:12                      39   \n",
       "11767179 2019-12-31 13:15:55 2019-12-31 15:01:31                     103   \n",
       "\n",
       "          Posicion_Origen  Id_Aparcamiento_Destino  Posicion_Destino  \\\n",
       "440864                  1                     43.0               1.0   \n",
       "586995                 15                     44.0              15.0   \n",
       "726893                  1                     70.0               1.0   \n",
       "1028721                 2                     56.0               1.0   \n",
       "2665185                16                     56.0              23.0   \n",
       "...                   ...                      ...               ...   \n",
       "11767100                1                     50.0               1.0   \n",
       "11767101                1                     50.0               1.0   \n",
       "11767102                1                     28.0               1.0   \n",
       "11767103               15                     41.0              15.0   \n",
       "11767179                4                    118.0               4.0   \n",
       "\n",
       "          Num_Bici_Hist  hour_init  hour_end   routes  hour  timespan_min  \\\n",
       "440864           1366.0         14        14     9_43    14     18.066667   \n",
       "586995            976.0          9         9    44_44     9      0.666667   \n",
       "726893           2699.0          9         9     9_70     9      9.516667   \n",
       "1028721           638.0         14        14    89_56    14     10.566667   \n",
       "2665185          1362.0         14        14    44_56    14     17.266667   \n",
       "...                 ...        ...       ...      ...   ...           ...   \n",
       "11767100          541.0         13        14    40_50    13     26.716667   \n",
       "11767101          715.0         13        14    28_50    13     48.066667   \n",
       "11767102         3497.0         13        14   113_28    13     45.866667   \n",
       "11767103          534.0         13        16    39_41    13    155.733333   \n",
       "11767179         2092.0         13        15  103_118    13    105.600000   \n",
       "\n",
       "          year  \n",
       "440864    2019  \n",
       "586995    2019  \n",
       "726893    2019  \n",
       "1028721   2019  \n",
       "2665185   2019  \n",
       "...        ...  \n",
       "11767100  2019  \n",
       "11767101  2019  \n",
       "11767102  2019  \n",
       "11767103  2019  \n",
       "11767179  2019  \n",
       "\n",
       "[3780278 rows x 16 columns]"
      ]
     },
     "execution_count": 35,
     "metadata": {},
     "output_type": "execute_result"
    }
   ],
   "source": [
    "bikes_2019 = bikes[(bikes['Fecha_Prestamo'].dt.year == 2019) & (bikes['Fecha_Devolucion'].dt.year == 2019)]\n",
    "bikes_2019"
   ]
  },
  {
   "cell_type": "code",
   "execution_count": 36,
   "metadata": {
    "ExecuteTime": {
     "end_time": "2021-05-15T09:23:56.699731Z",
     "start_time": "2021-05-15T09:23:56.683796Z"
    }
   },
   "outputs": [
    {
     "data": {
      "text/plain": [
       "(0, 0)"
      ]
     },
     "execution_count": 36,
     "metadata": {},
     "output_type": "execute_result"
    }
   ],
   "source": [
    "bikes_2019['Id_Aparcamiento_Origen'].isna().sum(), bikes_2019['Id_Aparcamiento_Destino'].isna().sum()"
   ]
  },
  {
   "cell_type": "markdown",
   "metadata": {},
   "source": [
    "**Note**\n",
    "\n",
    "We are seeing below the amount of NaN values for the columns - station of origin and station of destination. What is happening is that there are no NaN values station of origins and 1009 for stations of destination. What we assume could have happened, is a common problem: drunk people took their bikes and threw them into the river or something along those lines, hence never reached their destination. "
   ]
  },
  {
   "cell_type": "code",
   "execution_count": 37,
   "metadata": {
    "ExecuteTime": {
     "end_time": "2021-05-15T09:23:57.267596Z",
     "start_time": "2021-05-15T09:23:56.702622Z"
    }
   },
   "outputs": [
    {
     "name": "stderr",
     "output_type": "stream",
     "text": [
      "<ipython-input-37-c65db0f1f3d8>:1: SettingWithCopyWarning: \n",
      "A value is trying to be set on a copy of a slice from a DataFrame.\n",
      "Try using .loc[row_indexer,col_indexer] = value instead\n",
      "\n",
      "See the caveats in the documentation: https://pandas.pydata.org/pandas-docs/stable/user_guide/indexing.html#returning-a-view-versus-a-copy\n",
      "  bikes_2019['Id_Aparcamiento_Destino'] = bikes_2019['Id_Aparcamiento_Destino'].fillna(np.NaN)\n",
      "<ipython-input-37-c65db0f1f3d8>:2: SettingWithCopyWarning: \n",
      "A value is trying to be set on a copy of a slice from a DataFrame.\n",
      "Try using .loc[row_indexer,col_indexer] = value instead\n",
      "\n",
      "See the caveats in the documentation: https://pandas.pydata.org/pandas-docs/stable/user_guide/indexing.html#returning-a-view-versus-a-copy\n",
      "  bikes_2019['Posicion_Destino'] = bikes_2019['Posicion_Destino'].fillna(np.NaN)\n"
     ]
    }
   ],
   "source": [
    "bikes_2019['Id_Aparcamiento_Destino'] = bikes_2019['Id_Aparcamiento_Destino'].fillna(np.NaN)\n",
    "bikes_2019['Posicion_Destino'] = bikes_2019['Posicion_Destino'].fillna(np.NaN)"
   ]
  },
  {
   "cell_type": "markdown",
   "metadata": {},
   "source": [
    "Filling those NaN values with -1 for conversion purposes, so that we can more easily use the .apply function when creating new features"
   ]
  },
  {
   "cell_type": "markdown",
   "metadata": {},
   "source": [
    "We can see from above that some similar columns are of different types such as Id_Aparcamiento_Destino = float64 AND Id_Aparcamiento_Origen = int64"
   ]
  },
  {
   "cell_type": "code",
   "execution_count": 38,
   "metadata": {
    "ExecuteTime": {
     "end_time": "2021-05-15T09:23:57.686295Z",
     "start_time": "2021-05-15T09:23:57.270917Z"
    }
   },
   "outputs": [
    {
     "name": "stderr",
     "output_type": "stream",
     "text": [
      "<ipython-input-38-fcaa38a6f3e6>:1: SettingWithCopyWarning: \n",
      "A value is trying to be set on a copy of a slice from a DataFrame.\n",
      "Try using .loc[row_indexer,col_indexer] = value instead\n",
      "\n",
      "See the caveats in the documentation: https://pandas.pydata.org/pandas-docs/stable/user_guide/indexing.html#returning-a-view-versus-a-copy\n",
      "  bikes_2019['Id_Aparcamiento_Origen'] = bikes_2019['Id_Aparcamiento_Origen'].astype(float)\n",
      "<ipython-input-38-fcaa38a6f3e6>:2: SettingWithCopyWarning: \n",
      "A value is trying to be set on a copy of a slice from a DataFrame.\n",
      "Try using .loc[row_indexer,col_indexer] = value instead\n",
      "\n",
      "See the caveats in the documentation: https://pandas.pydata.org/pandas-docs/stable/user_guide/indexing.html#returning-a-view-versus-a-copy\n",
      "  bikes_2019['Posicion_Origen'] = bikes_2019['Posicion_Origen'].astype(float)\n"
     ]
    }
   ],
   "source": [
    "bikes_2019['Id_Aparcamiento_Origen'] = bikes_2019['Id_Aparcamiento_Origen'].astype(float)                                                                                \n",
    "bikes_2019['Posicion_Origen'] = bikes_2019['Posicion_Origen'].astype(float)"
   ]
  },
  {
   "cell_type": "markdown",
   "metadata": {
    "ExecuteTime": {
     "end_time": "2021-05-15T08:45:54.729857Z",
     "start_time": "2021-05-15T08:45:54.725536Z"
    }
   },
   "source": [
    "##### Feature Creation"
   ]
  },
  {
   "cell_type": "code",
   "execution_count": 39,
   "metadata": {
    "ExecuteTime": {
     "end_time": "2021-05-15T09:23:57.797343Z",
     "start_time": "2021-05-15T09:23:57.689644Z"
    }
   },
   "outputs": [],
   "source": [
    "def create_supply_demand(x):\n",
    "        if x >= 0:\n",
    "            return 1\n",
    "        elif x != x:\n",
    "            return 0"
   ]
  },
  {
   "cell_type": "markdown",
   "metadata": {},
   "source": [
    "**Note** \n",
    "\n",
    "What the function above does is to return 0 or 1 depending on whether each row has a station of origin or station of destination. Each time someone loans a new bike this is/can be represented as demand = 1. When they drop their bikes this can be represented as supply = 1. However, if the row does not have a station of destination i.e. the bike got lost/thrown in the river, then supply should be = 0. For later use, this will be to find out if there is an imbalance of demand and supply for some stations.m"
   ]
  },
  {
   "cell_type": "code",
   "execution_count": 40,
   "metadata": {
    "ExecuteTime": {
     "end_time": "2021-05-15T09:23:59.616238Z",
     "start_time": "2021-05-15T09:23:57.800684Z"
    }
   },
   "outputs": [
    {
     "name": "stderr",
     "output_type": "stream",
     "text": [
      "<ipython-input-40-ca16beb607f6>:1: SettingWithCopyWarning: \n",
      "A value is trying to be set on a copy of a slice from a DataFrame.\n",
      "Try using .loc[row_indexer,col_indexer] = value instead\n",
      "\n",
      "See the caveats in the documentation: https://pandas.pydata.org/pandas-docs/stable/user_guide/indexing.html#returning-a-view-versus-a-copy\n",
      "  bikes_2019['demand'] = bikes_2019['Id_Aparcamiento_Origen'].apply(create_supply_demand)\n"
     ]
    }
   ],
   "source": [
    "bikes_2019['demand'] = bikes_2019['Id_Aparcamiento_Origen'].apply(create_supply_demand)"
   ]
  },
  {
   "cell_type": "code",
   "execution_count": 41,
   "metadata": {
    "ExecuteTime": {
     "end_time": "2021-05-15T09:24:01.281185Z",
     "start_time": "2021-05-15T09:23:59.619250Z"
    }
   },
   "outputs": [
    {
     "name": "stderr",
     "output_type": "stream",
     "text": [
      "<ipython-input-41-b005562818c7>:1: SettingWithCopyWarning: \n",
      "A value is trying to be set on a copy of a slice from a DataFrame.\n",
      "Try using .loc[row_indexer,col_indexer] = value instead\n",
      "\n",
      "See the caveats in the documentation: https://pandas.pydata.org/pandas-docs/stable/user_guide/indexing.html#returning-a-view-versus-a-copy\n",
      "  bikes_2019['supply'] = bikes_2019['Id_Aparcamiento_Destino'].apply(create_supply_demand)\n"
     ]
    }
   ],
   "source": [
    "bikes_2019['supply'] = bikes_2019['Id_Aparcamiento_Destino'].apply(create_supply_demand)"
   ]
  },
  {
   "cell_type": "code",
   "execution_count": 42,
   "metadata": {
    "ExecuteTime": {
     "end_time": "2021-05-15T09:24:01.308068Z",
     "start_time": "2021-05-15T09:24:01.285305Z"
    }
   },
   "outputs": [
    {
     "data": {
      "text/plain": [
       "0"
      ]
     },
     "execution_count": 42,
     "metadata": {},
     "output_type": "execute_result"
    }
   ],
   "source": [
    "# this should equal 1009 because there are 1009 NaN values\n",
    "bikes_2019['supply'].isin([0]).sum()"
   ]
  },
  {
   "cell_type": "markdown",
   "metadata": {
    "ExecuteTime": {
     "end_time": "2021-05-15T08:47:54.681695Z",
     "start_time": "2021-05-15T08:47:54.678150Z"
    }
   },
   "source": [
    "##### Group By Features"
   ]
  },
  {
   "cell_type": "markdown",
   "metadata": {},
   "source": [
    "**Note**\n",
    "\n",
    "For simplification purposes, we created a new feature with the ID Station, date and hour to facilitate a groupby function. "
   ]
  },
  {
   "cell_type": "code",
   "execution_count": 43,
   "metadata": {
    "ExecuteTime": {
     "end_time": "2021-05-15T09:24:20.229495Z",
     "start_time": "2021-05-15T09:24:01.312082Z"
    }
   },
   "outputs": [
    {
     "name": "stderr",
     "output_type": "stream",
     "text": [
      "<ipython-input-43-d2b376fabb1f>:1: SettingWithCopyWarning: \n",
      "A value is trying to be set on a copy of a slice from a DataFrame.\n",
      "Try using .loc[row_indexer,col_indexer] = value instead\n",
      "\n",
      "See the caveats in the documentation: https://pandas.pydata.org/pandas-docs/stable/user_guide/indexing.html#returning-a-view-versus-a-copy\n",
      "  bikes_2019['loan_station_date_time'] = bikes_2019['Id_Aparcamiento_Origen'].astype('string') + \" \" +\\\n"
     ]
    }
   ],
   "source": [
    "bikes_2019['loan_station_date_time'] = bikes_2019['Id_Aparcamiento_Origen'].astype('string') + \" \" +\\\n",
    "        bikes_2019['Fecha_Prestamo'].dt.date.astype('string') + \" \" +\\\n",
    "        bikes_2019['Fecha_Prestamo'].dt.hour.astype('string')"
   ]
  },
  {
   "cell_type": "code",
   "execution_count": 44,
   "metadata": {
    "ExecuteTime": {
     "end_time": "2021-05-15T09:24:36.841000Z",
     "start_time": "2021-05-15T09:24:20.233288Z"
    }
   },
   "outputs": [
    {
     "name": "stderr",
     "output_type": "stream",
     "text": [
      "<ipython-input-44-7cc76053d955>:1: SettingWithCopyWarning: \n",
      "A value is trying to be set on a copy of a slice from a DataFrame.\n",
      "Try using .loc[row_indexer,col_indexer] = value instead\n",
      "\n",
      "See the caveats in the documentation: https://pandas.pydata.org/pandas-docs/stable/user_guide/indexing.html#returning-a-view-versus-a-copy\n",
      "  bikes_2019['deposit_station_date_time'] = bikes_2019['Id_Aparcamiento_Destino'].astype('string') + \" \" +\\\n"
     ]
    }
   ],
   "source": [
    "bikes_2019['deposit_station_date_time'] = bikes_2019['Id_Aparcamiento_Destino'].astype('string') + \" \" +\\\n",
    "        bikes_2019['Fecha_Devolucion'].dt.date.astype('string') + \" \" + \\\n",
    "        bikes_2019['Fecha_Devolucion'].dt.hour.astype('string')"
   ]
  },
  {
   "cell_type": "code",
   "execution_count": 45,
   "metadata": {
    "ExecuteTime": {
     "end_time": "2021-05-15T09:24:36.942828Z",
     "start_time": "2021-05-15T09:24:36.844719Z"
    }
   },
   "outputs": [
    {
     "data": {
      "text/html": [
       "<div>\n",
       "<style scoped>\n",
       "    .dataframe tbody tr th:only-of-type {\n",
       "        vertical-align: middle;\n",
       "    }\n",
       "\n",
       "    .dataframe tbody tr th {\n",
       "        vertical-align: top;\n",
       "    }\n",
       "\n",
       "    .dataframe thead th {\n",
       "        text-align: right;\n",
       "    }\n",
       "</style>\n",
       "<table border=\"1\" class=\"dataframe\">\n",
       "  <thead>\n",
       "    <tr style=\"text-align: right;\">\n",
       "      <th></th>\n",
       "      <th>Id_Historico_Prestamo</th>\n",
       "      <th>Id_Usuario</th>\n",
       "      <th>Id_Tag_Bicicleta</th>\n",
       "      <th>Fecha_Prestamo</th>\n",
       "      <th>Fecha_Devolucion</th>\n",
       "      <th>Id_Aparcamiento_Origen</th>\n",
       "      <th>Posicion_Origen</th>\n",
       "      <th>Id_Aparcamiento_Destino</th>\n",
       "      <th>Posicion_Destino</th>\n",
       "      <th>Num_Bici_Hist</th>\n",
       "      <th>hour_init</th>\n",
       "      <th>hour_end</th>\n",
       "      <th>routes</th>\n",
       "      <th>hour</th>\n",
       "      <th>timespan_min</th>\n",
       "      <th>year</th>\n",
       "      <th>demand</th>\n",
       "      <th>supply</th>\n",
       "      <th>loan_station_date_time</th>\n",
       "      <th>deposit_station_date_time</th>\n",
       "    </tr>\n",
       "  </thead>\n",
       "  <tbody>\n",
       "    <tr>\n",
       "      <th>440864</th>\n",
       "      <td>10948569</td>\n",
       "      <td>20272</td>\n",
       "      <td>00FB73222B5E</td>\n",
       "      <td>2019-02-20 14:08:04</td>\n",
       "      <td>2019-02-20 14:26:08</td>\n",
       "      <td>9.0</td>\n",
       "      <td>1.0</td>\n",
       "      <td>43.0</td>\n",
       "      <td>1.0</td>\n",
       "      <td>1366.0</td>\n",
       "      <td>14</td>\n",
       "      <td>14</td>\n",
       "      <td>9_43</td>\n",
       "      <td>14</td>\n",
       "      <td>18.066667</td>\n",
       "      <td>2019</td>\n",
       "      <td>1</td>\n",
       "      <td>1</td>\n",
       "      <td>9.0 2019-02-20 14</td>\n",
       "      <td>43.0 2019-02-20 14</td>\n",
       "    </tr>\n",
       "    <tr>\n",
       "      <th>586995</th>\n",
       "      <td>12896369</td>\n",
       "      <td>135209</td>\n",
       "      <td>002772222B5E</td>\n",
       "      <td>2019-08-22 09:19:51</td>\n",
       "      <td>2019-08-22 09:20:31</td>\n",
       "      <td>44.0</td>\n",
       "      <td>15.0</td>\n",
       "      <td>44.0</td>\n",
       "      <td>15.0</td>\n",
       "      <td>976.0</td>\n",
       "      <td>9</td>\n",
       "      <td>9</td>\n",
       "      <td>44_44</td>\n",
       "      <td>9</td>\n",
       "      <td>0.666667</td>\n",
       "      <td>2019</td>\n",
       "      <td>1</td>\n",
       "      <td>1</td>\n",
       "      <td>44.0 2019-08-22 9</td>\n",
       "      <td>44.0 2019-08-22 9</td>\n",
       "    </tr>\n",
       "    <tr>\n",
       "      <th>726893</th>\n",
       "      <td>12896264</td>\n",
       "      <td>26536</td>\n",
       "      <td>00094A72BF5B</td>\n",
       "      <td>2019-08-22 09:11:22</td>\n",
       "      <td>2019-08-22 09:20:53</td>\n",
       "      <td>9.0</td>\n",
       "      <td>1.0</td>\n",
       "      <td>70.0</td>\n",
       "      <td>1.0</td>\n",
       "      <td>2699.0</td>\n",
       "      <td>9</td>\n",
       "      <td>9</td>\n",
       "      <td>9_70</td>\n",
       "      <td>9</td>\n",
       "      <td>9.516667</td>\n",
       "      <td>2019</td>\n",
       "      <td>1</td>\n",
       "      <td>1</td>\n",
       "      <td>9.0 2019-08-22 9</td>\n",
       "      <td>70.0 2019-08-22 9</td>\n",
       "    </tr>\n",
       "    <tr>\n",
       "      <th>1028721</th>\n",
       "      <td>10948678</td>\n",
       "      <td>124512</td>\n",
       "      <td>00233C222B5E</td>\n",
       "      <td>2019-02-20 14:15:54</td>\n",
       "      <td>2019-02-20 14:26:28</td>\n",
       "      <td>89.0</td>\n",
       "      <td>2.0</td>\n",
       "      <td>56.0</td>\n",
       "      <td>1.0</td>\n",
       "      <td>638.0</td>\n",
       "      <td>14</td>\n",
       "      <td>14</td>\n",
       "      <td>89_56</td>\n",
       "      <td>14</td>\n",
       "      <td>10.566667</td>\n",
       "      <td>2019</td>\n",
       "      <td>1</td>\n",
       "      <td>1</td>\n",
       "      <td>89.0 2019-02-20 14</td>\n",
       "      <td>56.0 2019-02-20 14</td>\n",
       "    </tr>\n",
       "    <tr>\n",
       "      <th>2665185</th>\n",
       "      <td>10948590</td>\n",
       "      <td>31795</td>\n",
       "      <td>003491222B5E</td>\n",
       "      <td>2019-02-20 14:09:15</td>\n",
       "      <td>2019-02-20 14:26:31</td>\n",
       "      <td>44.0</td>\n",
       "      <td>16.0</td>\n",
       "      <td>56.0</td>\n",
       "      <td>23.0</td>\n",
       "      <td>1362.0</td>\n",
       "      <td>14</td>\n",
       "      <td>14</td>\n",
       "      <td>44_56</td>\n",
       "      <td>14</td>\n",
       "      <td>17.266667</td>\n",
       "      <td>2019</td>\n",
       "      <td>1</td>\n",
       "      <td>1</td>\n",
       "      <td>44.0 2019-02-20 14</td>\n",
       "      <td>56.0 2019-02-20 14</td>\n",
       "    </tr>\n",
       "    <tr>\n",
       "      <th>...</th>\n",
       "      <td>...</td>\n",
       "      <td>...</td>\n",
       "      <td>...</td>\n",
       "      <td>...</td>\n",
       "      <td>...</td>\n",
       "      <td>...</td>\n",
       "      <td>...</td>\n",
       "      <td>...</td>\n",
       "      <td>...</td>\n",
       "      <td>...</td>\n",
       "      <td>...</td>\n",
       "      <td>...</td>\n",
       "      <td>...</td>\n",
       "      <td>...</td>\n",
       "      <td>...</td>\n",
       "      <td>...</td>\n",
       "      <td>...</td>\n",
       "      <td>...</td>\n",
       "      <td>...</td>\n",
       "      <td>...</td>\n",
       "    </tr>\n",
       "    <tr>\n",
       "      <th>11767100</th>\n",
       "      <td>14454800</td>\n",
       "      <td>27944</td>\n",
       "      <td>0000F69A5A88</td>\n",
       "      <td>2019-12-31 13:58:55</td>\n",
       "      <td>2019-12-31 14:25:38</td>\n",
       "      <td>40.0</td>\n",
       "      <td>1.0</td>\n",
       "      <td>50.0</td>\n",
       "      <td>1.0</td>\n",
       "      <td>541.0</td>\n",
       "      <td>13</td>\n",
       "      <td>14</td>\n",
       "      <td>40_50</td>\n",
       "      <td>13</td>\n",
       "      <td>26.716667</td>\n",
       "      <td>2019</td>\n",
       "      <td>1</td>\n",
       "      <td>1</td>\n",
       "      <td>40.0 2019-12-31 13</td>\n",
       "      <td>50.0 2019-12-31 14</td>\n",
       "    </tr>\n",
       "    <tr>\n",
       "      <th>11767101</th>\n",
       "      <td>14454778</td>\n",
       "      <td>108800</td>\n",
       "      <td>00029A222B5E</td>\n",
       "      <td>2019-12-31 13:52:48</td>\n",
       "      <td>2019-12-31 14:40:52</td>\n",
       "      <td>28.0</td>\n",
       "      <td>1.0</td>\n",
       "      <td>50.0</td>\n",
       "      <td>1.0</td>\n",
       "      <td>715.0</td>\n",
       "      <td>13</td>\n",
       "      <td>14</td>\n",
       "      <td>28_50</td>\n",
       "      <td>13</td>\n",
       "      <td>48.066667</td>\n",
       "      <td>2019</td>\n",
       "      <td>1</td>\n",
       "      <td>1</td>\n",
       "      <td>28.0 2019-12-31 13</td>\n",
       "      <td>50.0 2019-12-31 14</td>\n",
       "    </tr>\n",
       "    <tr>\n",
       "      <th>11767102</th>\n",
       "      <td>14454793</td>\n",
       "      <td>98449</td>\n",
       "      <td>00001619CE0A</td>\n",
       "      <td>2019-12-31 13:55:47</td>\n",
       "      <td>2019-12-31 14:41:39</td>\n",
       "      <td>113.0</td>\n",
       "      <td>1.0</td>\n",
       "      <td>28.0</td>\n",
       "      <td>1.0</td>\n",
       "      <td>3497.0</td>\n",
       "      <td>13</td>\n",
       "      <td>14</td>\n",
       "      <td>113_28</td>\n",
       "      <td>13</td>\n",
       "      <td>45.866667</td>\n",
       "      <td>2019</td>\n",
       "      <td>1</td>\n",
       "      <td>1</td>\n",
       "      <td>113.0 2019-12-31 13</td>\n",
       "      <td>28.0 2019-12-31 14</td>\n",
       "    </tr>\n",
       "    <tr>\n",
       "      <th>11767103</th>\n",
       "      <td>14454774</td>\n",
       "      <td>129665</td>\n",
       "      <td>000036885A88</td>\n",
       "      <td>2019-12-31 13:51:28</td>\n",
       "      <td>2019-12-31 16:27:12</td>\n",
       "      <td>39.0</td>\n",
       "      <td>15.0</td>\n",
       "      <td>41.0</td>\n",
       "      <td>15.0</td>\n",
       "      <td>534.0</td>\n",
       "      <td>13</td>\n",
       "      <td>16</td>\n",
       "      <td>39_41</td>\n",
       "      <td>13</td>\n",
       "      <td>155.733333</td>\n",
       "      <td>2019</td>\n",
       "      <td>1</td>\n",
       "      <td>1</td>\n",
       "      <td>39.0 2019-12-31 13</td>\n",
       "      <td>41.0 2019-12-31 16</td>\n",
       "    </tr>\n",
       "    <tr>\n",
       "      <th>11767179</th>\n",
       "      <td>14454588</td>\n",
       "      <td>121316</td>\n",
       "      <td>000026FE5A88</td>\n",
       "      <td>2019-12-31 13:15:55</td>\n",
       "      <td>2019-12-31 15:01:31</td>\n",
       "      <td>103.0</td>\n",
       "      <td>4.0</td>\n",
       "      <td>118.0</td>\n",
       "      <td>4.0</td>\n",
       "      <td>2092.0</td>\n",
       "      <td>13</td>\n",
       "      <td>15</td>\n",
       "      <td>103_118</td>\n",
       "      <td>13</td>\n",
       "      <td>105.600000</td>\n",
       "      <td>2019</td>\n",
       "      <td>1</td>\n",
       "      <td>1</td>\n",
       "      <td>103.0 2019-12-31 13</td>\n",
       "      <td>118.0 2019-12-31 15</td>\n",
       "    </tr>\n",
       "  </tbody>\n",
       "</table>\n",
       "<p>3780278 rows × 20 columns</p>\n",
       "</div>"
      ],
      "text/plain": [
       "          Id_Historico_Prestamo  Id_Usuario Id_Tag_Bicicleta  \\\n",
       "440864                 10948569       20272     00FB73222B5E   \n",
       "586995                 12896369      135209     002772222B5E   \n",
       "726893                 12896264       26536     00094A72BF5B   \n",
       "1028721                10948678      124512     00233C222B5E   \n",
       "2665185                10948590       31795     003491222B5E   \n",
       "...                         ...         ...              ...   \n",
       "11767100               14454800       27944     0000F69A5A88   \n",
       "11767101               14454778      108800     00029A222B5E   \n",
       "11767102               14454793       98449     00001619CE0A   \n",
       "11767103               14454774      129665     000036885A88   \n",
       "11767179               14454588      121316     000026FE5A88   \n",
       "\n",
       "              Fecha_Prestamo    Fecha_Devolucion  Id_Aparcamiento_Origen  \\\n",
       "440864   2019-02-20 14:08:04 2019-02-20 14:26:08                     9.0   \n",
       "586995   2019-08-22 09:19:51 2019-08-22 09:20:31                    44.0   \n",
       "726893   2019-08-22 09:11:22 2019-08-22 09:20:53                     9.0   \n",
       "1028721  2019-02-20 14:15:54 2019-02-20 14:26:28                    89.0   \n",
       "2665185  2019-02-20 14:09:15 2019-02-20 14:26:31                    44.0   \n",
       "...                      ...                 ...                     ...   \n",
       "11767100 2019-12-31 13:58:55 2019-12-31 14:25:38                    40.0   \n",
       "11767101 2019-12-31 13:52:48 2019-12-31 14:40:52                    28.0   \n",
       "11767102 2019-12-31 13:55:47 2019-12-31 14:41:39                   113.0   \n",
       "11767103 2019-12-31 13:51:28 2019-12-31 16:27:12                    39.0   \n",
       "11767179 2019-12-31 13:15:55 2019-12-31 15:01:31                   103.0   \n",
       "\n",
       "          Posicion_Origen  Id_Aparcamiento_Destino  Posicion_Destino  \\\n",
       "440864                1.0                     43.0               1.0   \n",
       "586995               15.0                     44.0              15.0   \n",
       "726893                1.0                     70.0               1.0   \n",
       "1028721               2.0                     56.0               1.0   \n",
       "2665185              16.0                     56.0              23.0   \n",
       "...                   ...                      ...               ...   \n",
       "11767100              1.0                     50.0               1.0   \n",
       "11767101              1.0                     50.0               1.0   \n",
       "11767102              1.0                     28.0               1.0   \n",
       "11767103             15.0                     41.0              15.0   \n",
       "11767179              4.0                    118.0               4.0   \n",
       "\n",
       "          Num_Bici_Hist  hour_init  hour_end   routes  hour  timespan_min  \\\n",
       "440864           1366.0         14        14     9_43    14     18.066667   \n",
       "586995            976.0          9         9    44_44     9      0.666667   \n",
       "726893           2699.0          9         9     9_70     9      9.516667   \n",
       "1028721           638.0         14        14    89_56    14     10.566667   \n",
       "2665185          1362.0         14        14    44_56    14     17.266667   \n",
       "...                 ...        ...       ...      ...   ...           ...   \n",
       "11767100          541.0         13        14    40_50    13     26.716667   \n",
       "11767101          715.0         13        14    28_50    13     48.066667   \n",
       "11767102         3497.0         13        14   113_28    13     45.866667   \n",
       "11767103          534.0         13        16    39_41    13    155.733333   \n",
       "11767179         2092.0         13        15  103_118    13    105.600000   \n",
       "\n",
       "          year  demand  supply loan_station_date_time  \\\n",
       "440864    2019       1       1      9.0 2019-02-20 14   \n",
       "586995    2019       1       1      44.0 2019-08-22 9   \n",
       "726893    2019       1       1       9.0 2019-08-22 9   \n",
       "1028721   2019       1       1     89.0 2019-02-20 14   \n",
       "2665185   2019       1       1     44.0 2019-02-20 14   \n",
       "...        ...     ...     ...                    ...   \n",
       "11767100  2019       1       1     40.0 2019-12-31 13   \n",
       "11767101  2019       1       1     28.0 2019-12-31 13   \n",
       "11767102  2019       1       1    113.0 2019-12-31 13   \n",
       "11767103  2019       1       1     39.0 2019-12-31 13   \n",
       "11767179  2019       1       1    103.0 2019-12-31 13   \n",
       "\n",
       "         deposit_station_date_time  \n",
       "440864          43.0 2019-02-20 14  \n",
       "586995           44.0 2019-08-22 9  \n",
       "726893           70.0 2019-08-22 9  \n",
       "1028721         56.0 2019-02-20 14  \n",
       "2665185         56.0 2019-02-20 14  \n",
       "...                            ...  \n",
       "11767100        50.0 2019-12-31 14  \n",
       "11767101        50.0 2019-12-31 14  \n",
       "11767102        28.0 2019-12-31 14  \n",
       "11767103        41.0 2019-12-31 16  \n",
       "11767179       118.0 2019-12-31 15  \n",
       "\n",
       "[3780278 rows x 20 columns]"
      ]
     },
     "execution_count": 45,
     "metadata": {},
     "output_type": "execute_result"
    }
   ],
   "source": [
    "bikes_2019"
   ]
  },
  {
   "cell_type": "code",
   "execution_count": 46,
   "metadata": {
    "ExecuteTime": {
     "end_time": "2021-05-15T09:24:36.979813Z",
     "start_time": "2021-05-15T09:24:36.957651Z"
    }
   },
   "outputs": [
    {
     "data": {
      "text/html": [
       "<div>\n",
       "<style scoped>\n",
       "    .dataframe tbody tr th:only-of-type {\n",
       "        vertical-align: middle;\n",
       "    }\n",
       "\n",
       "    .dataframe tbody tr th {\n",
       "        vertical-align: top;\n",
       "    }\n",
       "\n",
       "    .dataframe thead th {\n",
       "        text-align: right;\n",
       "    }\n",
       "</style>\n",
       "<table border=\"1\" class=\"dataframe\">\n",
       "  <thead>\n",
       "    <tr style=\"text-align: right;\">\n",
       "      <th></th>\n",
       "      <th>loan_station_date_time</th>\n",
       "    </tr>\n",
       "  </thead>\n",
       "  <tbody>\n",
       "    <tr>\n",
       "      <th>440864</th>\n",
       "      <td>9.0 2019-02-20 14</td>\n",
       "    </tr>\n",
       "    <tr>\n",
       "      <th>586995</th>\n",
       "      <td>44.0 2019-08-22 9</td>\n",
       "    </tr>\n",
       "    <tr>\n",
       "      <th>726893</th>\n",
       "      <td>9.0 2019-08-22 9</td>\n",
       "    </tr>\n",
       "    <tr>\n",
       "      <th>1028721</th>\n",
       "      <td>89.0 2019-02-20 14</td>\n",
       "    </tr>\n",
       "    <tr>\n",
       "      <th>2665185</th>\n",
       "      <td>44.0 2019-02-20 14</td>\n",
       "    </tr>\n",
       "    <tr>\n",
       "      <th>...</th>\n",
       "      <td>...</td>\n",
       "    </tr>\n",
       "    <tr>\n",
       "      <th>11767100</th>\n",
       "      <td>40.0 2019-12-31 13</td>\n",
       "    </tr>\n",
       "    <tr>\n",
       "      <th>11767101</th>\n",
       "      <td>28.0 2019-12-31 13</td>\n",
       "    </tr>\n",
       "    <tr>\n",
       "      <th>11767102</th>\n",
       "      <td>113.0 2019-12-31 13</td>\n",
       "    </tr>\n",
       "    <tr>\n",
       "      <th>11767103</th>\n",
       "      <td>39.0 2019-12-31 13</td>\n",
       "    </tr>\n",
       "    <tr>\n",
       "      <th>11767179</th>\n",
       "      <td>103.0 2019-12-31 13</td>\n",
       "    </tr>\n",
       "  </tbody>\n",
       "</table>\n",
       "<p>3780278 rows × 1 columns</p>\n",
       "</div>"
      ],
      "text/plain": [
       "         loan_station_date_time\n",
       "440864        9.0 2019-02-20 14\n",
       "586995        44.0 2019-08-22 9\n",
       "726893         9.0 2019-08-22 9\n",
       "1028721      89.0 2019-02-20 14\n",
       "2665185      44.0 2019-02-20 14\n",
       "...                         ...\n",
       "11767100     40.0 2019-12-31 13\n",
       "11767101     28.0 2019-12-31 13\n",
       "11767102    113.0 2019-12-31 13\n",
       "11767103     39.0 2019-12-31 13\n",
       "11767179    103.0 2019-12-31 13\n",
       "\n",
       "[3780278 rows x 1 columns]"
      ]
     },
     "execution_count": 46,
     "metadata": {},
     "output_type": "execute_result"
    }
   ],
   "source": [
    "# we decided to create new features based on several columns that we wanted to merge together.\n",
    "# basically, our goal would be to group by station, date and time\n",
    "bikes_2019.iloc[:,-2:-1]"
   ]
  },
  {
   "cell_type": "markdown",
   "metadata": {
    "ExecuteTime": {
     "end_time": "2021-05-15T08:49:29.119124Z",
     "start_time": "2021-05-15T08:49:29.115478Z"
    }
   },
   "source": [
    "##### New DFs"
   ]
  },
  {
   "cell_type": "code",
   "execution_count": 47,
   "metadata": {
    "ExecuteTime": {
     "end_time": "2021-05-15T09:24:41.906557Z",
     "start_time": "2021-05-15T09:24:36.984365Z"
    }
   },
   "outputs": [],
   "source": [
    "demand_per_station_per_hour = bikes_2019[['demand']].groupby(bikes_2019['loan_station_date_time']).sum()\n",
    "supply_per_station_per_hour = bikes_2019[['supply']].groupby(bikes_2019['deposit_station_date_time']).sum()"
   ]
  },
  {
   "cell_type": "code",
   "execution_count": 48,
   "metadata": {
    "ExecuteTime": {
     "end_time": "2021-05-15T09:24:41.984477Z",
     "start_time": "2021-05-15T09:24:41.911165Z"
    }
   },
   "outputs": [],
   "source": [
    "demand_per_station_per_hour.reset_index(inplace=True)\n",
    "supply_per_station_per_hour.reset_index(inplace=True)"
   ]
  },
  {
   "cell_type": "code",
   "execution_count": 49,
   "metadata": {
    "ExecuteTime": {
     "end_time": "2021-05-15T09:24:42.035783Z",
     "start_time": "2021-05-15T09:24:41.989579Z"
    }
   },
   "outputs": [
    {
     "data": {
      "text/html": [
       "<div>\n",
       "<style scoped>\n",
       "    .dataframe tbody tr th:only-of-type {\n",
       "        vertical-align: middle;\n",
       "    }\n",
       "\n",
       "    .dataframe tbody tr th {\n",
       "        vertical-align: top;\n",
       "    }\n",
       "\n",
       "    .dataframe thead th {\n",
       "        text-align: right;\n",
       "    }\n",
       "</style>\n",
       "<table border=\"1\" class=\"dataframe\">\n",
       "  <thead>\n",
       "    <tr style=\"text-align: right;\">\n",
       "      <th></th>\n",
       "      <th>deposit_station_date_time</th>\n",
       "      <th>supply</th>\n",
       "    </tr>\n",
       "  </thead>\n",
       "  <tbody>\n",
       "    <tr>\n",
       "      <th>0</th>\n",
       "      <td>1.0 2019-01-02 10</td>\n",
       "      <td>4</td>\n",
       "    </tr>\n",
       "    <tr>\n",
       "      <th>1</th>\n",
       "      <td>1.0 2019-01-02 11</td>\n",
       "      <td>8</td>\n",
       "    </tr>\n",
       "    <tr>\n",
       "      <th>2</th>\n",
       "      <td>1.0 2019-01-02 12</td>\n",
       "      <td>12</td>\n",
       "    </tr>\n",
       "    <tr>\n",
       "      <th>3</th>\n",
       "      <td>1.0 2019-01-02 13</td>\n",
       "      <td>7</td>\n",
       "    </tr>\n",
       "    <tr>\n",
       "      <th>4</th>\n",
       "      <td>1.0 2019-01-02 14</td>\n",
       "      <td>8</td>\n",
       "    </tr>\n",
       "    <tr>\n",
       "      <th>...</th>\n",
       "      <td>...</td>\n",
       "      <td>...</td>\n",
       "    </tr>\n",
       "    <tr>\n",
       "      <th>292901</th>\n",
       "      <td>99.0 2019-12-31 5</td>\n",
       "      <td>1</td>\n",
       "    </tr>\n",
       "    <tr>\n",
       "      <th>292902</th>\n",
       "      <td>99.0 2019-12-31 6</td>\n",
       "      <td>1</td>\n",
       "    </tr>\n",
       "    <tr>\n",
       "      <th>292903</th>\n",
       "      <td>99.0 2019-12-31 7</td>\n",
       "      <td>1</td>\n",
       "    </tr>\n",
       "    <tr>\n",
       "      <th>292904</th>\n",
       "      <td>99.0 2019-12-31 8</td>\n",
       "      <td>2</td>\n",
       "    </tr>\n",
       "    <tr>\n",
       "      <th>292905</th>\n",
       "      <td>99.0 2019-12-31 9</td>\n",
       "      <td>2</td>\n",
       "    </tr>\n",
       "  </tbody>\n",
       "</table>\n",
       "<p>292906 rows × 2 columns</p>\n",
       "</div>"
      ],
      "text/plain": [
       "       deposit_station_date_time  supply\n",
       "0              1.0 2019-01-02 10       4\n",
       "1              1.0 2019-01-02 11       8\n",
       "2              1.0 2019-01-02 12      12\n",
       "3              1.0 2019-01-02 13       7\n",
       "4              1.0 2019-01-02 14       8\n",
       "...                          ...     ...\n",
       "292901         99.0 2019-12-31 5       1\n",
       "292902         99.0 2019-12-31 6       1\n",
       "292903         99.0 2019-12-31 7       1\n",
       "292904         99.0 2019-12-31 8       2\n",
       "292905         99.0 2019-12-31 9       2\n",
       "\n",
       "[292906 rows x 2 columns]"
      ]
     },
     "execution_count": 49,
     "metadata": {},
     "output_type": "execute_result"
    }
   ],
   "source": [
    "demand_per_station_per_hour\n",
    "supply_per_station_per_hour"
   ]
  },
  {
   "cell_type": "code",
   "execution_count": 50,
   "metadata": {
    "ExecuteTime": {
     "end_time": "2021-05-15T09:24:44.267647Z",
     "start_time": "2021-05-15T09:24:42.043441Z"
    }
   },
   "outputs": [],
   "source": [
    "demand_per_station_per_hour[['station','date','time']] = demand_per_station_per_hour.loan_station_date_time.str.split(\" \",expand=True)\n",
    "supply_per_station_per_hour[['station','date','time']] = supply_per_station_per_hour.deposit_station_date_time.str.split(\" \",expand=True)"
   ]
  },
  {
   "cell_type": "code",
   "execution_count": 51,
   "metadata": {
    "ExecuteTime": {
     "end_time": "2021-05-15T09:24:44.314695Z",
     "start_time": "2021-05-15T09:24:44.271408Z"
    }
   },
   "outputs": [
    {
     "data": {
      "text/html": [
       "<div>\n",
       "<style scoped>\n",
       "    .dataframe tbody tr th:only-of-type {\n",
       "        vertical-align: middle;\n",
       "    }\n",
       "\n",
       "    .dataframe tbody tr th {\n",
       "        vertical-align: top;\n",
       "    }\n",
       "\n",
       "    .dataframe thead th {\n",
       "        text-align: right;\n",
       "    }\n",
       "</style>\n",
       "<table border=\"1\" class=\"dataframe\">\n",
       "  <thead>\n",
       "    <tr style=\"text-align: right;\">\n",
       "      <th></th>\n",
       "      <th>deposit_station_date_time</th>\n",
       "      <th>supply</th>\n",
       "      <th>station</th>\n",
       "      <th>date</th>\n",
       "      <th>time</th>\n",
       "    </tr>\n",
       "  </thead>\n",
       "  <tbody>\n",
       "    <tr>\n",
       "      <th>0</th>\n",
       "      <td>1.0 2019-01-02 10</td>\n",
       "      <td>4</td>\n",
       "      <td>1.0</td>\n",
       "      <td>2019-01-02</td>\n",
       "      <td>10</td>\n",
       "    </tr>\n",
       "    <tr>\n",
       "      <th>1</th>\n",
       "      <td>1.0 2019-01-02 11</td>\n",
       "      <td>8</td>\n",
       "      <td>1.0</td>\n",
       "      <td>2019-01-02</td>\n",
       "      <td>11</td>\n",
       "    </tr>\n",
       "    <tr>\n",
       "      <th>2</th>\n",
       "      <td>1.0 2019-01-02 12</td>\n",
       "      <td>12</td>\n",
       "      <td>1.0</td>\n",
       "      <td>2019-01-02</td>\n",
       "      <td>12</td>\n",
       "    </tr>\n",
       "    <tr>\n",
       "      <th>3</th>\n",
       "      <td>1.0 2019-01-02 13</td>\n",
       "      <td>7</td>\n",
       "      <td>1.0</td>\n",
       "      <td>2019-01-02</td>\n",
       "      <td>13</td>\n",
       "    </tr>\n",
       "    <tr>\n",
       "      <th>4</th>\n",
       "      <td>1.0 2019-01-02 14</td>\n",
       "      <td>8</td>\n",
       "      <td>1.0</td>\n",
       "      <td>2019-01-02</td>\n",
       "      <td>14</td>\n",
       "    </tr>\n",
       "  </tbody>\n",
       "</table>\n",
       "</div>"
      ],
      "text/plain": [
       "  deposit_station_date_time  supply station        date time\n",
       "0         1.0 2019-01-02 10       4     1.0  2019-01-02   10\n",
       "1         1.0 2019-01-02 11       8     1.0  2019-01-02   11\n",
       "2         1.0 2019-01-02 12      12     1.0  2019-01-02   12\n",
       "3         1.0 2019-01-02 13       7     1.0  2019-01-02   13\n",
       "4         1.0 2019-01-02 14       8     1.0  2019-01-02   14"
      ]
     },
     "execution_count": 51,
     "metadata": {},
     "output_type": "execute_result"
    }
   ],
   "source": [
    "demand_per_station_per_hour.head()\n",
    "supply_per_station_per_hour.head()"
   ]
  },
  {
   "cell_type": "markdown",
   "metadata": {
    "ExecuteTime": {
     "end_time": "2021-05-15T08:51:54.610639Z",
     "start_time": "2021-05-15T08:51:54.607139Z"
    }
   },
   "source": [
    "##### Cleaning New DFs"
   ]
  },
  {
   "cell_type": "code",
   "execution_count": 52,
   "metadata": {
    "ExecuteTime": {
     "end_time": "2021-05-15T09:24:44.394118Z",
     "start_time": "2021-05-15T09:24:44.318347Z"
    }
   },
   "outputs": [
    {
     "data": {
      "text/html": [
       "<div>\n",
       "<style scoped>\n",
       "    .dataframe tbody tr th:only-of-type {\n",
       "        vertical-align: middle;\n",
       "    }\n",
       "\n",
       "    .dataframe tbody tr th {\n",
       "        vertical-align: top;\n",
       "    }\n",
       "\n",
       "    .dataframe thead th {\n",
       "        text-align: right;\n",
       "    }\n",
       "</style>\n",
       "<table border=\"1\" class=\"dataframe\">\n",
       "  <thead>\n",
       "    <tr style=\"text-align: right;\">\n",
       "      <th></th>\n",
       "      <th>loan_station_date_time</th>\n",
       "      <th>demand</th>\n",
       "      <th>station</th>\n",
       "      <th>date</th>\n",
       "      <th>time</th>\n",
       "    </tr>\n",
       "  </thead>\n",
       "  <tbody>\n",
       "    <tr>\n",
       "      <th>0</th>\n",
       "      <td>1.0 2019-01-02 10</td>\n",
       "      <td>5</td>\n",
       "      <td>1.0</td>\n",
       "      <td>2019-01-02</td>\n",
       "      <td>10</td>\n",
       "    </tr>\n",
       "    <tr>\n",
       "      <th>1</th>\n",
       "      <td>1.0 2019-01-02 11</td>\n",
       "      <td>8</td>\n",
       "      <td>1.0</td>\n",
       "      <td>2019-01-02</td>\n",
       "      <td>11</td>\n",
       "    </tr>\n",
       "    <tr>\n",
       "      <th>2</th>\n",
       "      <td>1.0 2019-01-02 12</td>\n",
       "      <td>17</td>\n",
       "      <td>1.0</td>\n",
       "      <td>2019-01-02</td>\n",
       "      <td>12</td>\n",
       "    </tr>\n",
       "    <tr>\n",
       "      <th>3</th>\n",
       "      <td>1.0 2019-01-02 13</td>\n",
       "      <td>7</td>\n",
       "      <td>1.0</td>\n",
       "      <td>2019-01-02</td>\n",
       "      <td>13</td>\n",
       "    </tr>\n",
       "    <tr>\n",
       "      <th>4</th>\n",
       "      <td>1.0 2019-01-02 14</td>\n",
       "      <td>12</td>\n",
       "      <td>1.0</td>\n",
       "      <td>2019-01-02</td>\n",
       "      <td>14</td>\n",
       "    </tr>\n",
       "    <tr>\n",
       "      <th>...</th>\n",
       "      <td>...</td>\n",
       "      <td>...</td>\n",
       "      <td>...</td>\n",
       "      <td>...</td>\n",
       "      <td>...</td>\n",
       "    </tr>\n",
       "    <tr>\n",
       "      <th>279669</th>\n",
       "      <td>99.0 2019-12-31 11</td>\n",
       "      <td>7</td>\n",
       "      <td>99.0</td>\n",
       "      <td>2019-12-31</td>\n",
       "      <td>11</td>\n",
       "    </tr>\n",
       "    <tr>\n",
       "      <th>279670</th>\n",
       "      <td>99.0 2019-12-31 12</td>\n",
       "      <td>13</td>\n",
       "      <td>99.0</td>\n",
       "      <td>2019-12-31</td>\n",
       "      <td>12</td>\n",
       "    </tr>\n",
       "    <tr>\n",
       "      <th>279671</th>\n",
       "      <td>99.0 2019-12-31 13</td>\n",
       "      <td>6</td>\n",
       "      <td>99.0</td>\n",
       "      <td>2019-12-31</td>\n",
       "      <td>13</td>\n",
       "    </tr>\n",
       "    <tr>\n",
       "      <th>279672</th>\n",
       "      <td>99.0 2019-12-31 8</td>\n",
       "      <td>1</td>\n",
       "      <td>99.0</td>\n",
       "      <td>2019-12-31</td>\n",
       "      <td>8</td>\n",
       "    </tr>\n",
       "    <tr>\n",
       "      <th>279673</th>\n",
       "      <td>99.0 2019-12-31 9</td>\n",
       "      <td>3</td>\n",
       "      <td>99.0</td>\n",
       "      <td>2019-12-31</td>\n",
       "      <td>9</td>\n",
       "    </tr>\n",
       "  </tbody>\n",
       "</table>\n",
       "<p>279674 rows × 5 columns</p>\n",
       "</div>"
      ],
      "text/plain": [
       "       loan_station_date_time  demand station        date time\n",
       "0           1.0 2019-01-02 10       5     1.0  2019-01-02   10\n",
       "1           1.0 2019-01-02 11       8     1.0  2019-01-02   11\n",
       "2           1.0 2019-01-02 12      17     1.0  2019-01-02   12\n",
       "3           1.0 2019-01-02 13       7     1.0  2019-01-02   13\n",
       "4           1.0 2019-01-02 14      12     1.0  2019-01-02   14\n",
       "...                       ...     ...     ...         ...  ...\n",
       "279669     99.0 2019-12-31 11       7    99.0  2019-12-31   11\n",
       "279670     99.0 2019-12-31 12      13    99.0  2019-12-31   12\n",
       "279671     99.0 2019-12-31 13       6    99.0  2019-12-31   13\n",
       "279672      99.0 2019-12-31 8       1    99.0  2019-12-31    8\n",
       "279673      99.0 2019-12-31 9       3    99.0  2019-12-31    9\n",
       "\n",
       "[279674 rows x 5 columns]"
      ]
     },
     "execution_count": 52,
     "metadata": {},
     "output_type": "execute_result"
    }
   ],
   "source": [
    "df1 = demand_per_station_per_hour.copy()\n",
    "df1"
   ]
  },
  {
   "cell_type": "code",
   "execution_count": 53,
   "metadata": {
    "ExecuteTime": {
     "end_time": "2021-05-15T09:24:44.468858Z",
     "start_time": "2021-05-15T09:24:44.398645Z"
    }
   },
   "outputs": [
    {
     "data": {
      "text/html": [
       "<div>\n",
       "<style scoped>\n",
       "    .dataframe tbody tr th:only-of-type {\n",
       "        vertical-align: middle;\n",
       "    }\n",
       "\n",
       "    .dataframe tbody tr th {\n",
       "        vertical-align: top;\n",
       "    }\n",
       "\n",
       "    .dataframe thead th {\n",
       "        text-align: right;\n",
       "    }\n",
       "</style>\n",
       "<table border=\"1\" class=\"dataframe\">\n",
       "  <thead>\n",
       "    <tr style=\"text-align: right;\">\n",
       "      <th></th>\n",
       "      <th>deposit_station_date_time</th>\n",
       "      <th>supply</th>\n",
       "      <th>station</th>\n",
       "      <th>date</th>\n",
       "      <th>time</th>\n",
       "    </tr>\n",
       "  </thead>\n",
       "  <tbody>\n",
       "    <tr>\n",
       "      <th>0</th>\n",
       "      <td>1.0 2019-01-02 10</td>\n",
       "      <td>4</td>\n",
       "      <td>1.0</td>\n",
       "      <td>2019-01-02</td>\n",
       "      <td>10</td>\n",
       "    </tr>\n",
       "    <tr>\n",
       "      <th>1</th>\n",
       "      <td>1.0 2019-01-02 11</td>\n",
       "      <td>8</td>\n",
       "      <td>1.0</td>\n",
       "      <td>2019-01-02</td>\n",
       "      <td>11</td>\n",
       "    </tr>\n",
       "    <tr>\n",
       "      <th>2</th>\n",
       "      <td>1.0 2019-01-02 12</td>\n",
       "      <td>12</td>\n",
       "      <td>1.0</td>\n",
       "      <td>2019-01-02</td>\n",
       "      <td>12</td>\n",
       "    </tr>\n",
       "    <tr>\n",
       "      <th>3</th>\n",
       "      <td>1.0 2019-01-02 13</td>\n",
       "      <td>7</td>\n",
       "      <td>1.0</td>\n",
       "      <td>2019-01-02</td>\n",
       "      <td>13</td>\n",
       "    </tr>\n",
       "    <tr>\n",
       "      <th>4</th>\n",
       "      <td>1.0 2019-01-02 14</td>\n",
       "      <td>8</td>\n",
       "      <td>1.0</td>\n",
       "      <td>2019-01-02</td>\n",
       "      <td>14</td>\n",
       "    </tr>\n",
       "    <tr>\n",
       "      <th>...</th>\n",
       "      <td>...</td>\n",
       "      <td>...</td>\n",
       "      <td>...</td>\n",
       "      <td>...</td>\n",
       "      <td>...</td>\n",
       "    </tr>\n",
       "    <tr>\n",
       "      <th>292901</th>\n",
       "      <td>99.0 2019-12-31 5</td>\n",
       "      <td>1</td>\n",
       "      <td>99.0</td>\n",
       "      <td>2019-12-31</td>\n",
       "      <td>5</td>\n",
       "    </tr>\n",
       "    <tr>\n",
       "      <th>292902</th>\n",
       "      <td>99.0 2019-12-31 6</td>\n",
       "      <td>1</td>\n",
       "      <td>99.0</td>\n",
       "      <td>2019-12-31</td>\n",
       "      <td>6</td>\n",
       "    </tr>\n",
       "    <tr>\n",
       "      <th>292903</th>\n",
       "      <td>99.0 2019-12-31 7</td>\n",
       "      <td>1</td>\n",
       "      <td>99.0</td>\n",
       "      <td>2019-12-31</td>\n",
       "      <td>7</td>\n",
       "    </tr>\n",
       "    <tr>\n",
       "      <th>292904</th>\n",
       "      <td>99.0 2019-12-31 8</td>\n",
       "      <td>2</td>\n",
       "      <td>99.0</td>\n",
       "      <td>2019-12-31</td>\n",
       "      <td>8</td>\n",
       "    </tr>\n",
       "    <tr>\n",
       "      <th>292905</th>\n",
       "      <td>99.0 2019-12-31 9</td>\n",
       "      <td>2</td>\n",
       "      <td>99.0</td>\n",
       "      <td>2019-12-31</td>\n",
       "      <td>9</td>\n",
       "    </tr>\n",
       "  </tbody>\n",
       "</table>\n",
       "<p>292906 rows × 5 columns</p>\n",
       "</div>"
      ],
      "text/plain": [
       "       deposit_station_date_time  supply station        date time\n",
       "0              1.0 2019-01-02 10       4     1.0  2019-01-02   10\n",
       "1              1.0 2019-01-02 11       8     1.0  2019-01-02   11\n",
       "2              1.0 2019-01-02 12      12     1.0  2019-01-02   12\n",
       "3              1.0 2019-01-02 13       7     1.0  2019-01-02   13\n",
       "4              1.0 2019-01-02 14       8     1.0  2019-01-02   14\n",
       "...                          ...     ...     ...         ...  ...\n",
       "292901         99.0 2019-12-31 5       1    99.0  2019-12-31    5\n",
       "292902         99.0 2019-12-31 6       1    99.0  2019-12-31    6\n",
       "292903         99.0 2019-12-31 7       1    99.0  2019-12-31    7\n",
       "292904         99.0 2019-12-31 8       2    99.0  2019-12-31    8\n",
       "292905         99.0 2019-12-31 9       2    99.0  2019-12-31    9\n",
       "\n",
       "[292906 rows x 5 columns]"
      ]
     },
     "execution_count": 53,
     "metadata": {},
     "output_type": "execute_result"
    }
   ],
   "source": [
    "df2 = supply_per_station_per_hour.copy()\n",
    "df2"
   ]
  },
  {
   "cell_type": "code",
   "execution_count": 54,
   "metadata": {
    "ExecuteTime": {
     "end_time": "2021-05-15T09:24:44.484954Z",
     "start_time": "2021-05-15T09:24:44.472707Z"
    }
   },
   "outputs": [
    {
     "data": {
      "text/plain": [
       "(loan_station_date_time    object\n",
       " demand                     int64\n",
       " station                   object\n",
       " date                      object\n",
       " time                      object\n",
       " dtype: object,\n",
       " deposit_station_date_time    object\n",
       " supply                        int64\n",
       " station                      object\n",
       " date                         object\n",
       " time                         object\n",
       " dtype: object)"
      ]
     },
     "execution_count": 54,
     "metadata": {},
     "output_type": "execute_result"
    }
   ],
   "source": [
    "df1.dtypes , df2.dtypes"
   ]
  },
  {
   "cell_type": "code",
   "execution_count": 55,
   "metadata": {
    "ExecuteTime": {
     "end_time": "2021-05-15T09:24:44.504217Z",
     "start_time": "2021-05-15T09:24:44.489097Z"
    }
   },
   "outputs": [],
   "source": [
    "def clean_df(df, cols, index):\n",
    "    df[cols] =  df[cols].astype(float) # string to float\n",
    "    df.iloc[:,index]=  df.iloc[:,index].str.strip() #left strip\n",
    "    return df"
   ]
  },
  {
   "cell_type": "code",
   "execution_count": 56,
   "metadata": {
    "ExecuteTime": {
     "end_time": "2021-05-15T09:24:46.081514Z",
     "start_time": "2021-05-15T09:24:44.507955Z"
    }
   },
   "outputs": [],
   "source": [
    "df1_clean = clean_df(df1,['station','time'], 0)\n",
    "df2_clean = clean_df(df2,['station','time'], 0)"
   ]
  },
  {
   "cell_type": "code",
   "execution_count": 57,
   "metadata": {
    "ExecuteTime": {
     "end_time": "2021-05-15T09:24:46.141417Z",
     "start_time": "2021-05-15T09:24:46.086314Z"
    }
   },
   "outputs": [
    {
     "data": {
      "text/plain": [
       "(       loan_station_date_time  demand  station        date  time\n",
       " 0           1.0 2019-01-02 10       5      1.0  2019-01-02  10.0\n",
       " 1           1.0 2019-01-02 11       8      1.0  2019-01-02  11.0\n",
       " 2           1.0 2019-01-02 12      17      1.0  2019-01-02  12.0\n",
       " 3           1.0 2019-01-02 13       7      1.0  2019-01-02  13.0\n",
       " 4           1.0 2019-01-02 14      12      1.0  2019-01-02  14.0\n",
       " ...                       ...     ...      ...         ...   ...\n",
       " 279669     99.0 2019-12-31 11       7     99.0  2019-12-31  11.0\n",
       " 279670     99.0 2019-12-31 12      13     99.0  2019-12-31  12.0\n",
       " 279671     99.0 2019-12-31 13       6     99.0  2019-12-31  13.0\n",
       " 279672      99.0 2019-12-31 8       1     99.0  2019-12-31   8.0\n",
       " 279673      99.0 2019-12-31 9       3     99.0  2019-12-31   9.0\n",
       " \n",
       " [279674 rows x 5 columns],\n",
       "        deposit_station_date_time  supply  station        date  time\n",
       " 0              1.0 2019-01-02 10       4      1.0  2019-01-02  10.0\n",
       " 1              1.0 2019-01-02 11       8      1.0  2019-01-02  11.0\n",
       " 2              1.0 2019-01-02 12      12      1.0  2019-01-02  12.0\n",
       " 3              1.0 2019-01-02 13       7      1.0  2019-01-02  13.0\n",
       " 4              1.0 2019-01-02 14       8      1.0  2019-01-02  14.0\n",
       " ...                          ...     ...      ...         ...   ...\n",
       " 292901         99.0 2019-12-31 5       1     99.0  2019-12-31   5.0\n",
       " 292902         99.0 2019-12-31 6       1     99.0  2019-12-31   6.0\n",
       " 292903         99.0 2019-12-31 7       1     99.0  2019-12-31   7.0\n",
       " 292904         99.0 2019-12-31 8       2     99.0  2019-12-31   8.0\n",
       " 292905         99.0 2019-12-31 9       2     99.0  2019-12-31   9.0\n",
       " \n",
       " [292906 rows x 5 columns])"
      ]
     },
     "execution_count": 57,
     "metadata": {},
     "output_type": "execute_result"
    }
   ],
   "source": [
    "df1_clean, df2_clean"
   ]
  },
  {
   "cell_type": "code",
   "execution_count": 58,
   "metadata": {
    "ExecuteTime": {
     "end_time": "2021-05-15T09:24:46.154557Z",
     "start_time": "2021-05-15T09:24:46.147393Z"
    }
   },
   "outputs": [],
   "source": [
    "pattern = re.compile(r'2019.*') # a bit of regular expressions to look cool"
   ]
  },
  {
   "cell_type": "code",
   "execution_count": 59,
   "metadata": {
    "ExecuteTime": {
     "end_time": "2021-05-15T09:24:46.180232Z",
     "start_time": "2021-05-15T09:24:46.158226Z"
    }
   },
   "outputs": [],
   "source": [
    "def year_month_day_hour(x):\n",
    "    return pattern.search(x).group()"
   ]
  },
  {
   "cell_type": "code",
   "execution_count": 60,
   "metadata": {
    "ExecuteTime": {
     "end_time": "2021-05-15T09:24:46.641734Z",
     "start_time": "2021-05-15T09:24:46.184815Z"
    }
   },
   "outputs": [],
   "source": [
    "df1_clean['year_month_day_hour'] = df1_clean['loan_station_date_time'].apply(year_month_day_hour)"
   ]
  },
  {
   "cell_type": "code",
   "execution_count": 61,
   "metadata": {
    "ExecuteTime": {
     "end_time": "2021-05-15T09:24:47.014734Z",
     "start_time": "2021-05-15T09:24:46.645538Z"
    }
   },
   "outputs": [],
   "source": [
    "df2_clean['year_month_day_hour'] = df2_clean['deposit_station_date_time'].apply(year_month_day_hour)"
   ]
  },
  {
   "cell_type": "code",
   "execution_count": 62,
   "metadata": {
    "ExecuteTime": {
     "end_time": "2021-05-15T09:24:47.022008Z",
     "start_time": "2021-05-15T09:24:47.017000Z"
    }
   },
   "outputs": [],
   "source": [
    "def drop_col(df):\n",
    "    return df.iloc[:,1:]"
   ]
  },
  {
   "cell_type": "code",
   "execution_count": 63,
   "metadata": {
    "ExecuteTime": {
     "end_time": "2021-05-15T09:24:47.682455Z",
     "start_time": "2021-05-15T09:24:47.026034Z"
    }
   },
   "outputs": [],
   "source": [
    "df1_clean_drop = drop_col(df1_clean)\n",
    "df2_clean_drop = drop_col(df2_clean)"
   ]
  },
  {
   "cell_type": "code",
   "execution_count": 64,
   "metadata": {
    "ExecuteTime": {
     "end_time": "2021-05-15T09:24:47.949664Z",
     "start_time": "2021-05-15T09:24:47.685048Z"
    }
   },
   "outputs": [],
   "source": [
    "def convert_to_date(x):\n",
    "    return datetime.strptime(x, '%Y-%m-%d %H')"
   ]
  },
  {
   "cell_type": "code",
   "execution_count": 65,
   "metadata": {
    "ExecuteTime": {
     "end_time": "2021-05-15T09:24:54.608411Z",
     "start_time": "2021-05-15T09:24:47.953340Z"
    }
   },
   "outputs": [],
   "source": [
    "df1_clean_drop['year_month_day_hour'] = df1_clean_drop['year_month_day_hour'].apply(convert_to_date)\n",
    "df2_clean_drop['year_month_day_hour'] = df2_clean_drop['year_month_day_hour'].apply(convert_to_date)"
   ]
  },
  {
   "cell_type": "code",
   "execution_count": 66,
   "metadata": {
    "ExecuteTime": {
     "end_time": "2021-05-15T09:24:54.630247Z",
     "start_time": "2021-05-15T09:24:54.610769Z"
    }
   },
   "outputs": [],
   "source": [
    "df1_final = df1_clean_drop.copy()\n",
    "df2_final = df2_clean_drop.copy()"
   ]
  },
  {
   "cell_type": "code",
   "execution_count": 67,
   "metadata": {
    "ExecuteTime": {
     "end_time": "2021-05-15T09:24:54.942184Z",
     "start_time": "2021-05-15T09:24:54.633682Z"
    }
   },
   "outputs": [
    {
     "data": {
      "text/html": [
       "<div>\n",
       "<style scoped>\n",
       "    .dataframe tbody tr th:only-of-type {\n",
       "        vertical-align: middle;\n",
       "    }\n",
       "\n",
       "    .dataframe tbody tr th {\n",
       "        vertical-align: top;\n",
       "    }\n",
       "\n",
       "    .dataframe thead th {\n",
       "        text-align: right;\n",
       "    }\n",
       "</style>\n",
       "<table border=\"1\" class=\"dataframe\">\n",
       "  <thead>\n",
       "    <tr style=\"text-align: right;\">\n",
       "      <th></th>\n",
       "      <th>demand</th>\n",
       "      <th>station</th>\n",
       "      <th>date</th>\n",
       "      <th>time</th>\n",
       "      <th>year_month_day_hour</th>\n",
       "    </tr>\n",
       "  </thead>\n",
       "  <tbody>\n",
       "    <tr>\n",
       "      <th>0</th>\n",
       "      <td>5</td>\n",
       "      <td>1.0</td>\n",
       "      <td>2019-01-02</td>\n",
       "      <td>10.0</td>\n",
       "      <td>2019-01-02 10:00:00</td>\n",
       "    </tr>\n",
       "    <tr>\n",
       "      <th>1</th>\n",
       "      <td>8</td>\n",
       "      <td>1.0</td>\n",
       "      <td>2019-01-02</td>\n",
       "      <td>11.0</td>\n",
       "      <td>2019-01-02 11:00:00</td>\n",
       "    </tr>\n",
       "    <tr>\n",
       "      <th>2</th>\n",
       "      <td>17</td>\n",
       "      <td>1.0</td>\n",
       "      <td>2019-01-02</td>\n",
       "      <td>12.0</td>\n",
       "      <td>2019-01-02 12:00:00</td>\n",
       "    </tr>\n",
       "    <tr>\n",
       "      <th>3</th>\n",
       "      <td>7</td>\n",
       "      <td>1.0</td>\n",
       "      <td>2019-01-02</td>\n",
       "      <td>13.0</td>\n",
       "      <td>2019-01-02 13:00:00</td>\n",
       "    </tr>\n",
       "    <tr>\n",
       "      <th>4</th>\n",
       "      <td>12</td>\n",
       "      <td>1.0</td>\n",
       "      <td>2019-01-02</td>\n",
       "      <td>14.0</td>\n",
       "      <td>2019-01-02 14:00:00</td>\n",
       "    </tr>\n",
       "    <tr>\n",
       "      <th>...</th>\n",
       "      <td>...</td>\n",
       "      <td>...</td>\n",
       "      <td>...</td>\n",
       "      <td>...</td>\n",
       "      <td>...</td>\n",
       "    </tr>\n",
       "    <tr>\n",
       "      <th>279669</th>\n",
       "      <td>7</td>\n",
       "      <td>99.0</td>\n",
       "      <td>2019-12-31</td>\n",
       "      <td>11.0</td>\n",
       "      <td>2019-12-31 11:00:00</td>\n",
       "    </tr>\n",
       "    <tr>\n",
       "      <th>279670</th>\n",
       "      <td>13</td>\n",
       "      <td>99.0</td>\n",
       "      <td>2019-12-31</td>\n",
       "      <td>12.0</td>\n",
       "      <td>2019-12-31 12:00:00</td>\n",
       "    </tr>\n",
       "    <tr>\n",
       "      <th>279671</th>\n",
       "      <td>6</td>\n",
       "      <td>99.0</td>\n",
       "      <td>2019-12-31</td>\n",
       "      <td>13.0</td>\n",
       "      <td>2019-12-31 13:00:00</td>\n",
       "    </tr>\n",
       "    <tr>\n",
       "      <th>279672</th>\n",
       "      <td>1</td>\n",
       "      <td>99.0</td>\n",
       "      <td>2019-12-31</td>\n",
       "      <td>8.0</td>\n",
       "      <td>2019-12-31 08:00:00</td>\n",
       "    </tr>\n",
       "    <tr>\n",
       "      <th>279673</th>\n",
       "      <td>3</td>\n",
       "      <td>99.0</td>\n",
       "      <td>2019-12-31</td>\n",
       "      <td>9.0</td>\n",
       "      <td>2019-12-31 09:00:00</td>\n",
       "    </tr>\n",
       "  </tbody>\n",
       "</table>\n",
       "<p>279674 rows × 5 columns</p>\n",
       "</div>"
      ],
      "text/plain": [
       "        demand  station        date  time year_month_day_hour\n",
       "0            5      1.0  2019-01-02  10.0 2019-01-02 10:00:00\n",
       "1            8      1.0  2019-01-02  11.0 2019-01-02 11:00:00\n",
       "2           17      1.0  2019-01-02  12.0 2019-01-02 12:00:00\n",
       "3            7      1.0  2019-01-02  13.0 2019-01-02 13:00:00\n",
       "4           12      1.0  2019-01-02  14.0 2019-01-02 14:00:00\n",
       "...        ...      ...         ...   ...                 ...\n",
       "279669       7     99.0  2019-12-31  11.0 2019-12-31 11:00:00\n",
       "279670      13     99.0  2019-12-31  12.0 2019-12-31 12:00:00\n",
       "279671       6     99.0  2019-12-31  13.0 2019-12-31 13:00:00\n",
       "279672       1     99.0  2019-12-31   8.0 2019-12-31 08:00:00\n",
       "279673       3     99.0  2019-12-31   9.0 2019-12-31 09:00:00\n",
       "\n",
       "[279674 rows x 5 columns]"
      ]
     },
     "execution_count": 67,
     "metadata": {},
     "output_type": "execute_result"
    }
   ],
   "source": [
    "df1_final"
   ]
  },
  {
   "cell_type": "code",
   "execution_count": 68,
   "metadata": {
    "ExecuteTime": {
     "end_time": "2021-05-15T09:24:55.290142Z",
     "start_time": "2021-05-15T09:24:54.954738Z"
    },
    "scrolled": true
   },
   "outputs": [
    {
     "data": {
      "text/html": [
       "<div>\n",
       "<style scoped>\n",
       "    .dataframe tbody tr th:only-of-type {\n",
       "        vertical-align: middle;\n",
       "    }\n",
       "\n",
       "    .dataframe tbody tr th {\n",
       "        vertical-align: top;\n",
       "    }\n",
       "\n",
       "    .dataframe thead th {\n",
       "        text-align: right;\n",
       "    }\n",
       "</style>\n",
       "<table border=\"1\" class=\"dataframe\">\n",
       "  <thead>\n",
       "    <tr style=\"text-align: right;\">\n",
       "      <th></th>\n",
       "      <th>supply</th>\n",
       "      <th>station</th>\n",
       "      <th>date</th>\n",
       "      <th>time</th>\n",
       "      <th>year_month_day_hour</th>\n",
       "    </tr>\n",
       "  </thead>\n",
       "  <tbody>\n",
       "    <tr>\n",
       "      <th>0</th>\n",
       "      <td>4</td>\n",
       "      <td>1.0</td>\n",
       "      <td>2019-01-02</td>\n",
       "      <td>10.0</td>\n",
       "      <td>2019-01-02 10:00:00</td>\n",
       "    </tr>\n",
       "    <tr>\n",
       "      <th>1</th>\n",
       "      <td>8</td>\n",
       "      <td>1.0</td>\n",
       "      <td>2019-01-02</td>\n",
       "      <td>11.0</td>\n",
       "      <td>2019-01-02 11:00:00</td>\n",
       "    </tr>\n",
       "    <tr>\n",
       "      <th>2</th>\n",
       "      <td>12</td>\n",
       "      <td>1.0</td>\n",
       "      <td>2019-01-02</td>\n",
       "      <td>12.0</td>\n",
       "      <td>2019-01-02 12:00:00</td>\n",
       "    </tr>\n",
       "    <tr>\n",
       "      <th>3</th>\n",
       "      <td>7</td>\n",
       "      <td>1.0</td>\n",
       "      <td>2019-01-02</td>\n",
       "      <td>13.0</td>\n",
       "      <td>2019-01-02 13:00:00</td>\n",
       "    </tr>\n",
       "    <tr>\n",
       "      <th>4</th>\n",
       "      <td>8</td>\n",
       "      <td>1.0</td>\n",
       "      <td>2019-01-02</td>\n",
       "      <td>14.0</td>\n",
       "      <td>2019-01-02 14:00:00</td>\n",
       "    </tr>\n",
       "    <tr>\n",
       "      <th>...</th>\n",
       "      <td>...</td>\n",
       "      <td>...</td>\n",
       "      <td>...</td>\n",
       "      <td>...</td>\n",
       "      <td>...</td>\n",
       "    </tr>\n",
       "    <tr>\n",
       "      <th>292901</th>\n",
       "      <td>1</td>\n",
       "      <td>99.0</td>\n",
       "      <td>2019-12-31</td>\n",
       "      <td>5.0</td>\n",
       "      <td>2019-12-31 05:00:00</td>\n",
       "    </tr>\n",
       "    <tr>\n",
       "      <th>292902</th>\n",
       "      <td>1</td>\n",
       "      <td>99.0</td>\n",
       "      <td>2019-12-31</td>\n",
       "      <td>6.0</td>\n",
       "      <td>2019-12-31 06:00:00</td>\n",
       "    </tr>\n",
       "    <tr>\n",
       "      <th>292903</th>\n",
       "      <td>1</td>\n",
       "      <td>99.0</td>\n",
       "      <td>2019-12-31</td>\n",
       "      <td>7.0</td>\n",
       "      <td>2019-12-31 07:00:00</td>\n",
       "    </tr>\n",
       "    <tr>\n",
       "      <th>292904</th>\n",
       "      <td>2</td>\n",
       "      <td>99.0</td>\n",
       "      <td>2019-12-31</td>\n",
       "      <td>8.0</td>\n",
       "      <td>2019-12-31 08:00:00</td>\n",
       "    </tr>\n",
       "    <tr>\n",
       "      <th>292905</th>\n",
       "      <td>2</td>\n",
       "      <td>99.0</td>\n",
       "      <td>2019-12-31</td>\n",
       "      <td>9.0</td>\n",
       "      <td>2019-12-31 09:00:00</td>\n",
       "    </tr>\n",
       "  </tbody>\n",
       "</table>\n",
       "<p>292906 rows × 5 columns</p>\n",
       "</div>"
      ],
      "text/plain": [
       "        supply  station        date  time year_month_day_hour\n",
       "0            4      1.0  2019-01-02  10.0 2019-01-02 10:00:00\n",
       "1            8      1.0  2019-01-02  11.0 2019-01-02 11:00:00\n",
       "2           12      1.0  2019-01-02  12.0 2019-01-02 12:00:00\n",
       "3            7      1.0  2019-01-02  13.0 2019-01-02 13:00:00\n",
       "4            8      1.0  2019-01-02  14.0 2019-01-02 14:00:00\n",
       "...        ...      ...         ...   ...                 ...\n",
       "292901       1     99.0  2019-12-31   5.0 2019-12-31 05:00:00\n",
       "292902       1     99.0  2019-12-31   6.0 2019-12-31 06:00:00\n",
       "292903       1     99.0  2019-12-31   7.0 2019-12-31 07:00:00\n",
       "292904       2     99.0  2019-12-31   8.0 2019-12-31 08:00:00\n",
       "292905       2     99.0  2019-12-31   9.0 2019-12-31 09:00:00\n",
       "\n",
       "[292906 rows x 5 columns]"
      ]
     },
     "execution_count": 68,
     "metadata": {},
     "output_type": "execute_result"
    }
   ],
   "source": [
    "df2_final"
   ]
  },
  {
   "cell_type": "markdown",
   "metadata": {
    "ExecuteTime": {
     "end_time": "2021-05-15T09:53:27.993060Z",
     "start_time": "2021-05-15T09:53:27.988468Z"
    }
   },
   "source": [
    "##### Merging Dataframes"
   ]
  },
  {
   "cell_type": "code",
   "execution_count": null,
   "metadata": {},
   "outputs": [],
   "source": [
    "df_merged = pd.merge(df1, B_df,  how='left', left_on=['A_c1','c2'], right_on = ['B_c1','c2'])\n"
   ]
  },
  {
   "cell_type": "markdown",
   "metadata": {},
   "source": [
    "#### Add weather information to the df"
   ]
  },
  {
   "cell_type": "markdown",
   "metadata": {
    "ExecuteTime": {
     "end_time": "2021-05-13T06:03:29.461587Z",
     "start_time": "2021-05-13T06:03:29.453981Z"
    }
   },
   "source": [
    "The historical weather information will be added for each hour of the year 2019. We will transform it into a categorical feature of ```rain``` (1) or ```no_rain``` given that the highest climate volatility in Medellin lies in the rainfall with an average temperature of 22.5°C and a variance of ±1°C."
   ]
  },
  {
   "cell_type": "markdown",
   "metadata": {},
   "source": [
    "The API request for weather data was pushed to the [appendix .2](#Retrieve-weather-information)"
   ]
  },
  {
   "cell_type": "code",
   "execution_count": 69,
   "metadata": {
    "ExecuteTime": {
     "end_time": "2021-05-15T09:24:55.450535Z",
     "start_time": "2021-05-15T09:24:55.294222Z"
    }
   },
   "outputs": [],
   "source": [
    "# merge weather data with df"
   ]
  },
  {
   "cell_type": "markdown",
   "metadata": {},
   "source": [
    "#### Add holiday information to the df"
   ]
  },
  {
   "cell_type": "markdown",
   "metadata": {},
   "source": [
    "Holiday seasons in Medellin (universities, see [sources](#External-links-and-resources-🔗)):<br>\n",
    "- 01.-24. January\n",
    "- 29.-31. March\n",
    "- 01.-04. April\n",
    "- 21.06.-11.07.\n",
    "- 11.-17. October\n",
    "- 06.-31. December"
   ]
  },
  {
   "cell_type": "code",
   "execution_count": 70,
   "metadata": {
    "ExecuteTime": {
     "end_time": "2021-05-15T09:24:55.796933Z",
     "start_time": "2021-05-15T09:24:55.454214Z"
    }
   },
   "outputs": [
    {
     "ename": "NameError",
     "evalue": "name 'bikes_19_agg' is not defined",
     "output_type": "error",
     "traceback": [
      "\u001b[0;31m---------------------------------------------------------------------------\u001b[0m",
      "\u001b[0;31mNameError\u001b[0m                                 Traceback (most recent call last)",
      "\u001b[0;32m<ipython-input-70-83e3ac931a1a>\u001b[0m in \u001b[0;36m<module>\u001b[0;34m\u001b[0m\n\u001b[1;32m      7\u001b[0m \u001b[0mholidays\u001b[0m\u001b[0;34m.\u001b[0m\u001b[0mloc\u001b[0m\u001b[0;34m[\u001b[0m\u001b[0;36m6\u001b[0m\u001b[0;34m]\u001b[0m \u001b[0;34m=\u001b[0m \u001b[0;34m[\u001b[0m\u001b[0mdt\u001b[0m\u001b[0;34m.\u001b[0m\u001b[0mdatetime\u001b[0m\u001b[0;34m.\u001b[0m\u001b[0mstrptime\u001b[0m\u001b[0;34m(\u001b[0m\u001b[0;34m'011219'\u001b[0m\u001b[0;34m,\u001b[0m\u001b[0;34m'%d%m%y'\u001b[0m\u001b[0;34m)\u001b[0m\u001b[0;34m,\u001b[0m\u001b[0mdt\u001b[0m\u001b[0;34m.\u001b[0m\u001b[0mdatetime\u001b[0m\u001b[0;34m.\u001b[0m\u001b[0mstrptime\u001b[0m\u001b[0;34m(\u001b[0m\u001b[0;34m'010120'\u001b[0m\u001b[0;34m,\u001b[0m\u001b[0;34m'%d%m%y'\u001b[0m\u001b[0;34m)\u001b[0m\u001b[0;34m]\u001b[0m\u001b[0;34m\u001b[0m\u001b[0;34m\u001b[0m\u001b[0m\n\u001b[1;32m      8\u001b[0m \u001b[0;34m\u001b[0m\u001b[0m\n\u001b[0;32m----> 9\u001b[0;31m \u001b[0mbikes_19_agg\u001b[0m\u001b[0;34m[\u001b[0m\u001b[0;34m'holiday'\u001b[0m\u001b[0;34m]\u001b[0m \u001b[0;34m=\u001b[0m \u001b[0;32mNone\u001b[0m\u001b[0;34m\u001b[0m\u001b[0;34m\u001b[0m\u001b[0m\n\u001b[0m\u001b[1;32m     10\u001b[0m \u001b[0;32mfor\u001b[0m \u001b[0mc\u001b[0m\u001b[0;34m,\u001b[0m \u001b[0mrow\u001b[0m \u001b[0;32min\u001b[0m \u001b[0mbikes_19_agg\u001b[0m\u001b[0;34m.\u001b[0m\u001b[0miterrows\u001b[0m\u001b[0;34m(\u001b[0m\u001b[0;34m)\u001b[0m\u001b[0;34m:\u001b[0m\u001b[0;34m\u001b[0m\u001b[0;34m\u001b[0m\u001b[0m\n\u001b[1;32m     11\u001b[0m     \u001b[0;32mfor\u001b[0m \u001b[0mi\u001b[0m\u001b[0;34m,\u001b[0m \u001b[0mdate\u001b[0m \u001b[0;32min\u001b[0m \u001b[0mholidays\u001b[0m\u001b[0;34m.\u001b[0m\u001b[0miterrows\u001b[0m\u001b[0;34m(\u001b[0m\u001b[0;34m)\u001b[0m\u001b[0;34m:\u001b[0m\u001b[0;34m\u001b[0m\u001b[0;34m\u001b[0m\u001b[0m\n",
      "\u001b[0;31mNameError\u001b[0m: name 'bikes_19_agg' is not defined"
     ]
    }
   ],
   "source": [
    "holidays = pd.DataFrame(index=list(range(1,7)), columns=['start', 'end'])\n",
    "holidays.loc[1] = [dt.datetime.strptime('010119','%d%m%y'),dt.datetime.strptime('250119','%d%m%y')]\n",
    "holidays.loc[2] = [dt.datetime.strptime('290319','%d%m%y'),dt.datetime.strptime('010419','%d%m%y')]\n",
    "holidays.loc[3] = [dt.datetime.strptime('010419','%d%m%y'),dt.datetime.strptime('050419','%d%m%y')]\n",
    "holidays.loc[4] = [dt.datetime.strptime('210619','%d%m%y'),dt.datetime.strptime('120719','%d%m%y')]\n",
    "holidays.loc[5] = [dt.datetime.strptime('111019','%d%m%y'),dt.datetime.strptime('181019','%d%m%y')]\n",
    "holidays.loc[6] = [dt.datetime.strptime('011219','%d%m%y'),dt.datetime.strptime('010120','%d%m%y')]\n",
    "\n",
    "bikes_19_agg['holiday'] = None\n",
    "for c, row in bikes_19_agg.iterrows():\n",
    "    for i, date in holidays.iterrows():\n",
    "#         print(row.hour_dropoff)\n",
    "        if date['start'] <= row.hour_dropoff <= date['end']:\n",
    "            bikes_19_agg.loc[c, 'holiday'] = 1\n",
    "            \n",
    "bikes_19_agg['holiday'].fillna(0, inplace=True)"
   ]
  },
  {
   "cell_type": "markdown",
   "metadata": {},
   "source": [
    "#### Terrain and Public transportation data"
   ]
  },
  {
   "cell_type": "markdown",
   "metadata": {},
   "source": [
    "Terrain and transportation data, such as bus stops are constant features and thus, do not change or influence a bike station depending on time (such as holiday or weather data).<br>\n",
    "\n",
    "We decided **_NOT_** to take the provided data for our model. "
   ]
  },
  {
   "cell_type": "markdown",
   "metadata": {
    "ExecuteTime": {
     "end_time": "2021-05-15T07:40:03.648685Z",
     "start_time": "2021-05-15T07:40:03.644616Z"
    }
   },
   "source": [
    "### Time Series"
   ]
  },
  {
   "cell_type": "markdown",
   "metadata": {},
   "source": [
    "#### EnCicla Business Hours"
   ]
  },
  {
   "cell_type": "markdown",
   "metadata": {},
   "source": [
    "A year has a total of 8,713 hours. We believed at first that in order to have a consistent time increment of one hour per row we need to pad the dataframe. However, after some review we decided to create our own frequency for EnCicla's business hours. THe reason is that if we end up with 0 demand, in other words loans taken, during or outside their business hours, this could affect the time series model. 0 demand outside of business hours is normal however, 0 demand at certain times during business hours could prove useful for our modelling."
   ]
  },
  {
   "cell_type": "code",
   "execution_count": null,
   "metadata": {
    "ExecuteTime": {
     "end_time": "2021-05-15T09:24:55.801207Z",
     "start_time": "2021-05-15T09:08:20.218Z"
    }
   },
   "outputs": [],
   "source": [
    "from pandas.tseries.offsets import CustomBusinessHour"
   ]
  },
  {
   "cell_type": "code",
   "execution_count": null,
   "metadata": {
    "ExecuteTime": {
     "end_time": "2021-05-15T09:24:55.803301Z",
     "start_time": "2021-05-15T09:08:20.222Z"
    }
   },
   "outputs": [],
   "source": [
    "# creating our own CustomBusinessHours from Monday to Friday between 5:30 until 22:00 \n",
    "# easier to set the time as 5:00 than 5:30\n",
    "# we decided not to take into account the weekend as this would be too time consuming, and does not represent the crux of the information\n",
    "encicla_bh = CustomBusinessHour(n=1, weekmask = 'Mon Tue Wed Thu Fri', start = \"05:00\", end = \"22:00\", holidays=None)"
   ]
  },
  {
   "cell_type": "code",
   "execution_count": null,
   "metadata": {
    "ExecuteTime": {
     "end_time": "2021-05-15T09:24:55.805695Z",
     "start_time": "2021-05-15T09:08:20.227Z"
    }
   },
   "outputs": [],
   "source": [
    "encicla_bh"
   ]
  },
  {
   "cell_type": "code",
   "execution_count": null,
   "metadata": {
    "ExecuteTime": {
     "end_time": "2021-05-15T09:24:55.808047Z",
     "start_time": "2021-05-15T09:08:20.231Z"
    }
   },
   "outputs": [],
   "source": [
    "hours = pd.DataFrame({'year_month_day_hour': pd.date_range(start='2019-01-01', end='2019-12-31', freq=encicla_bh)})"
   ]
  },
  {
   "cell_type": "code",
   "execution_count": null,
   "metadata": {
    "ExecuteTime": {
     "end_time": "2021-05-15T09:24:55.810914Z",
     "start_time": "2021-05-15T09:08:20.235Z"
    }
   },
   "outputs": [],
   "source": [
    "hours"
   ]
  },
  {
   "cell_type": "markdown",
   "metadata": {
    "ExecuteTime": {
     "end_time": "2021-05-15T08:15:22.058164Z",
     "start_time": "2021-05-15T08:15:22.054314Z"
    }
   },
   "source": [
    "#### Padding Time Series"
   ]
  },
  {
   "cell_type": "markdown",
   "metadata": {
    "heading_collapsed": true
   },
   "source": [
    "#### Split train test set for model"
   ]
  },
  {
   "cell_type": "code",
   "execution_count": null,
   "metadata": {
    "ExecuteTime": {
     "end_time": "2021-05-15T09:24:55.813673Z",
     "start_time": "2021-05-15T09:08:20.241Z"
    },
    "hidden": true
   },
   "outputs": [],
   "source": [
    "# take away the last couple of weeks"
   ]
  },
  {
   "cell_type": "code",
   "execution_count": null,
   "metadata": {
    "ExecuteTime": {
     "end_time": "2021-05-15T09:24:55.815330Z",
     "start_time": "2021-05-15T09:08:20.245Z"
    },
    "hidden": true
   },
   "outputs": [],
   "source": [
    "# bikes_19_agg"
   ]
  },
  {
   "cell_type": "code",
   "execution_count": null,
   "metadata": {
    "hidden": true
   },
   "outputs": [],
   "source": []
  },
  {
   "cell_type": "markdown",
   "metadata": {
    "heading_collapsed": true
   },
   "source": [
    "### Model 🤖"
   ]
  },
  {
   "cell_type": "markdown",
   "metadata": {
    "hidden": true
   },
   "source": [
    "#### Baseline"
   ]
  },
  {
   "cell_type": "markdown",
   "metadata": {
    "hidden": true
   },
   "source": [
    "Let's have a look at the average bike coverage for each bike station for each **hour of the day.**"
   ]
  },
  {
   "cell_type": "code",
   "execution_count": null,
   "metadata": {
    "ExecuteTime": {
     "end_time": "2021-05-15T09:24:55.817815Z",
     "start_time": "2021-05-15T09:08:20.255Z"
    },
    "hidden": true
   },
   "outputs": [],
   "source": [
    "bikes_19_pad.tail(3).style.set_properties(subset=['station_count'], **{'width': '50'})"
   ]
  },
  {
   "cell_type": "markdown",
   "metadata": {
    "hidden": true
   },
   "source": [
    "**Note, IMPORTANT**<br>\n",
    "While checking the bikes per station and hour we discovered that the bike logs are not sufficient enough to give an accurate count on the stations. Looking at the tail of ```bikes_19_pad``` (the end of the year) we can see an unrealistic number of bikes on each station. We assume that some of the logs are missing _OR_ bike transitions done by the company from station to station weren't recorded. Therefore it is **not possible** to give an accurate prediction of a station load balance. <br>\n",
    "\n",
    "**What can be done with the data**:<br>\n",
    "1. Show the most demanded and most supplied stations in the city.\n",
    "2. Show an hourly demand or supply prediction. This model will be unable to take overloads (station full) or under supply (station empty) into account. \n"
   ]
  },
  {
   "cell_type": "markdown",
   "metadata": {
    "hidden": true
   },
   "source": [
    "##### Most demanded and supplied stations"
   ]
  },
  {
   "cell_type": "markdown",
   "metadata": {
    "hidden": true
   },
   "source": [
    "The function in [Section 1.4.5.1](#Compute-bike-count-per-station-per-hour) computed the real addings and pullings at each station done by customers of enCicla. Now, the stations with the ```.max()``` and ```.min()``` values by the end of the year will show their inbalanced behavior."
   ]
  },
  {
   "cell_type": "code",
   "execution_count": null,
   "metadata": {
    "ExecuteTime": {
     "end_time": "2021-05-15T09:24:55.819401Z",
     "start_time": "2021-05-15T09:08:20.262Z"
    },
    "hidden": true
   },
   "outputs": [],
   "source": [
    "# get the last entry in the bikes df (31.12.2019)\n",
    "stations_tail = pd.DataFrame(dict(bikes_19_pad.tail(1).station_count))\n",
    "stations_tail = stations_tail.merge(unique_stations[['ID', 'Description', 'isManual']], left_index=True, right_on='ID')\n",
    "# plot the most extreme ends\n",
    "plt.figure(figsize=(15,8))\n",
    "plt.title('Stations with most undersupply and oversupply')\n",
    "x = stations_tail.sort_values(by=8712)\n",
    "clrs = ['r' if x else 'm' for x in x.head(10)['isManual']]\n",
    "plt.bar(x=x.head(10)['Description'], # filter by last hour of 2019 -> 8712\n",
    "        height=x.head(10)[8712], \n",
    "       color=clrs)\n",
    "clr = ['b' if x else 'y' for x in x.tail(10)['isManual']]\n",
    "plt.bar(x=x.tail(10)['Description'], \n",
    "        height=x.tail(10)[8712], \n",
    "       color=clr)\n",
    "# ax2 = ax1.twinx()\n",
    "# ax2 = plt.plot(x.isManual[-10:10])\n",
    "plt.xticks(rotation=90)\n",
    "plt.ylabel('Net bikes needed over the year')\n",
    "plt.show()\n",
    "print('Reds and blues are manually operated stations.')\n"
   ]
  },
  {
   "cell_type": "markdown",
   "metadata": {
    "hidden": true
   },
   "source": [
    "**Note**<br>\n",
    "- Reds and blues are manually operated stations.\n",
    "- Manual stations are overrepresented in the top 5 extreme stations."
   ]
  },
  {
   "cell_type": "markdown",
   "metadata": {
    "hidden": true
   },
   "source": [
    "##### Hourly supply and demand avg. per station"
   ]
  },
  {
   "cell_type": "markdown",
   "metadata": {
    "hidden": true
   },
   "source": [
    "Lets transform the ```bikes_19_agg``` and create a demand df and supply df which can be aggregated later on."
   ]
  },
  {
   "cell_type": "code",
   "execution_count": null,
   "metadata": {
    "ExecuteTime": {
     "end_time": "2021-05-15T09:24:55.820878Z",
     "start_time": "2021-05-15T09:08:20.269Z"
    },
    "hidden": true
   },
   "outputs": [],
   "source": [
    "# create picks df\n",
    "picks_dict = dict(bikes_19_pad.picks)\n",
    "hours_dict = dict(bikes_19_pad.hour)\n",
    "picks_df = pd.DataFrame(picks_dict).T\n",
    "picks_df = picks_df.rename(index=hours_dict).sort_index()\n",
    "picks_df['hour'] = picks_df.index.hour\n",
    "picks_df['holiday'] = None\n",
    "for c, row in picks_df.iterrows():\n",
    "    for i, date in holidays.iterrows():\n",
    "        if date['start'] <= c <= date['end']:\n",
    "            picks_df.loc[c, 'holiday'] = 1\n",
    "            \n",
    "picks_df['holiday'].fillna(0, inplace=True)\n",
    "\n",
    "# create drops df\n",
    "drops_dict = dict(bikes_19_pad.drops)\n",
    "hours_dict = dict(bikes_19_pad.hour)\n",
    "drops_df = pd.DataFrame(drops_dict).T\n",
    "drops_df = drops_df.rename(index=hours_dict).sort_index()\n",
    "drops_df['hour'] = drops_df.index.hour"
   ]
  },
  {
   "cell_type": "code",
   "execution_count": null,
   "metadata": {
    "ExecuteTime": {
     "end_time": "2021-05-15T09:24:55.830291Z",
     "start_time": "2021-05-15T09:08:20.274Z"
    },
    "hidden": true,
    "scrolled": false
   },
   "outputs": [],
   "source": [
    "# create df which only takes the 5 most popular stations\n",
    "# plot the impact of holidays in the graph\n",
    "holiday_df = picks_df.groupby(['holiday', \n",
    "                  'hour']).mean().T.sort_values(by=[(0,17)], ascending=False).head().T.unstack().T\n",
    "\n",
    "holiday_df.plot(figsize=(18,5))\n",
    "plt.grid()\n",
    "plt.title('Top 5 stations and their impact on holidays')\n",
    "plt.xlabel('(Station, hour)')\n",
    "plt.ylabel('Bikes picked up per hour')"
   ]
  },
  {
   "cell_type": "code",
   "execution_count": null,
   "metadata": {
    "ExecuteTime": {
     "end_time": "2021-05-15T09:24:55.833876Z",
     "start_time": "2021-05-15T09:08:20.279Z"
    },
    "hidden": true,
    "scrolled": true
   },
   "outputs": [],
   "source": [
    "print(f'Station 66 is named {unique_stations[unique_stations.ID == 66][\"Description\"].values[0]}. \\nIt is the least affectionate to holidays.')\n",
    "print(f'Station 3 is named {unique_stations[unique_stations.ID == 3][\"Description\"].values[0]}. \\nIt is the most affectionate to holidays.')\n",
    "print(f'Station 8 is named {unique_stations[unique_stations.ID == 8][\"Description\"].values[0]}. \\nIt is the most affectionate to holidays.')\n"
   ]
  },
  {
   "cell_type": "code",
   "execution_count": null,
   "metadata": {
    "ExecuteTime": {
     "end_time": "2021-05-15T09:24:55.836745Z",
     "start_time": "2021-05-15T09:08:20.283Z"
    },
    "hidden": true
   },
   "outputs": [],
   "source": [
    "# plot the mean supply over the day per station\n",
    "drops_df.groupby('hour').mean().T.sort_values(by=17, ascending=False).head().T.plot(figsize=(15,8))\n",
    "plt.title('Most supplied stations over the day (avg)')\n",
    "plt.ylabel('Bikes dropped off per hour')\n",
    "plt.show()"
   ]
  },
  {
   "cell_type": "markdown",
   "metadata": {
    "hidden": true
   },
   "source": [
    "#### Time series model"
   ]
  },
  {
   "cell_type": "code",
   "execution_count": null,
   "metadata": {
    "ExecuteTime": {
     "end_time": "2021-05-15T09:24:55.838442Z",
     "start_time": "2021-05-15T09:08:20.289Z"
    },
    "hidden": true
   },
   "outputs": [],
   "source": [
    "# create drops df\n",
    "# transform the dfs to have the time in the x-axis\n",
    "drops_df_fin = drops_df.drop(columns='hour').T\n",
    "picks_df_fin = picks_df.drop(columns='hour').T"
   ]
  },
  {
   "cell_type": "markdown",
   "metadata": {
    "hidden": true
   },
   "source": [
    "Let's first have a look at the most demanded stations ```8, 66, 7, 89, 3```."
   ]
  },
  {
   "cell_type": "code",
   "execution_count": null,
   "metadata": {
    "ExecuteTime": {
     "end_time": "2021-05-15T09:24:55.840005Z",
     "start_time": "2021-05-15T09:08:20.294Z"
    },
    "hidden": true
   },
   "outputs": [],
   "source": [
    "include = [8, 66, 7, 89, 3]\n",
    "drops_df_subs = drops_df_fin.loc[include]\n",
    "drops_df_subs"
   ]
  },
  {
   "cell_type": "code",
   "execution_count": null,
   "metadata": {
    "ExecuteTime": {
     "end_time": "2021-05-15T09:24:55.842339Z",
     "start_time": "2021-05-15T09:08:20.298Z"
    },
    "hidden": true
   },
   "outputs": [],
   "source": [
    "from statsmodels.tsa.seasonal import seasonal_decompose"
   ]
  },
  {
   "cell_type": "code",
   "execution_count": null,
   "metadata": {
    "ExecuteTime": {
     "end_time": "2021-05-15T09:24:55.846170Z",
     "start_time": "2021-05-15T09:08:20.302Z"
    },
    "hidden": true
   },
   "outputs": [],
   "source": [
    "# glimpse on station 8\n",
    "station = 8\n",
    "plt.figure(figsize=(17, 8))\n",
    "plt.plot(drops_df_subs.loc[station])\n",
    "plt.title(f'Demand for Station {station}')\n",
    "plt.ylabel('Demand')\n",
    "plt.xlabel('Hours')\n",
    "plt.grid(False)\n",
    "plt.show()"
   ]
  },
  {
   "cell_type": "code",
   "execution_count": null,
   "metadata": {
    "ExecuteTime": {
     "end_time": "2021-05-15T09:24:55.848087Z",
     "start_time": "2021-05-15T09:08:20.306Z"
    },
    "hidden": true
   },
   "outputs": [],
   "source": [
    "from sklearn.metrics import r2_score, median_absolute_error, mean_absolute_error\n",
    "from sklearn.metrics import median_absolute_error, mean_squared_error, mean_squared_log_error"
   ]
  },
  {
   "cell_type": "code",
   "execution_count": null,
   "metadata": {
    "ExecuteTime": {
     "end_time": "2021-05-15T09:24:55.849999Z",
     "start_time": "2021-05-15T09:08:20.311Z"
    },
    "hidden": true
   },
   "outputs": [],
   "source": [
    "#### SISTO CONTINUE with station 8\n",
    "drops_df_subs.loc[[8]]"
   ]
  },
  {
   "cell_type": "code",
   "execution_count": null,
   "metadata": {
    "hidden": true
   },
   "outputs": [],
   "source": []
  },
  {
   "cell_type": "code",
   "execution_count": null,
   "metadata": {
    "hidden": true
   },
   "outputs": [],
   "source": []
  },
  {
   "cell_type": "code",
   "execution_count": null,
   "metadata": {
    "hidden": true
   },
   "outputs": [],
   "source": []
  },
  {
   "cell_type": "markdown",
   "metadata": {
    "heading_collapsed": true,
    "id": "gSDath2nr1fq"
   },
   "source": [
    "## Conclusions 💡"
   ]
  },
  {
   "cell_type": "markdown",
   "metadata": {
    "hidden": true,
    "id": "gSDath2nr1fq"
   },
   "source": [
    "### Scalability and Impact\n",
    "Tell us how applicable and scalable your solution is if you were to implement it in a city. Identify possible limitations and measure the potential social impact of your solution."
   ]
  },
  {
   "cell_type": "markdown",
   "metadata": {
    "hidden": true,
    "id": "CGmbES9GszEv"
   },
   "source": [
    "1. Hard to compute over all years due to high computational demand\n",
    "2. Log data is inconsistent and thus doesn't give full information for balancing prediction (see [here](#Baseline))\n",
    "2. MODEL??\n",
    "3. For simpler calculations it is enough to get an average demand per station and act accordingly (no time series needed)\n"
   ]
  },
  {
   "cell_type": "markdown",
   "metadata": {
    "hidden": true,
    "id": "0XBiBOyAl2Sv"
   },
   "source": [
    "### Future Work"
   ]
  },
  {
   "cell_type": "markdown",
   "metadata": {
    "hidden": true,
    "id": "5gK3heTKl7qz"
   },
   "source": [
    "1. Get absolute station bike counts per each hour to\n",
    "    - to measure real time numbers with real time absolute data\n",
    "    - to be able to measure if a bike station is notoriously oversupplied (full) or undersupplied (empty)\n",
    "2. Compute prediciton model for each station (not only most popular ones)\n",
    "3. Push to production: \n",
    "    - get real time numbers of bikes per station\n",
    "    - predict demand over the upcoming day\n",
    "    - balance the real time numbers with the demanded bikes\n",
    "    - create a balance sheet to instruct bike operators to shift the bikes from station to station\n",
    "4. Other Models\n",
    "    - Deep Learning \n",
    "    - FB Prophet"
   ]
  },
  {
   "cell_type": "markdown",
   "metadata": {},
   "source": [
    "# Appendix 🎒"
   ]
  },
  {
   "cell_type": "markdown",
   "metadata": {
    "heading_collapsed": true
   },
   "source": [
    "## Calculate routes with HERE API"
   ]
  },
  {
   "cell_type": "code",
   "execution_count": null,
   "metadata": {
    "ExecuteTime": {
     "end_time": "2021-05-15T09:24:55.853709Z",
     "start_time": "2021-05-15T09:08:20.328Z"
    },
    "hidden": true
   },
   "outputs": [],
   "source": [
    "stations_df = pd.read_csv('data/station_location_with_id.csv', sep=';').drop(columns=['photo', 'webDescription'])\n"
   ]
  },
  {
   "cell_type": "code",
   "execution_count": null,
   "metadata": {
    "ExecuteTime": {
     "end_time": "2021-05-15T09:24:55.856790Z",
     "start_time": "2021-05-15T09:08:20.332Z"
    },
    "hidden": true
   },
   "outputs": [],
   "source": [
    "def app_coords(x):\n",
    "    x['start_coord'] = None\n",
    "    x['finish_coord'] = None\n",
    "    for c, row in x.iterrows():\n",
    "        start = float(row.start_id)\n",
    "        # basically a left join to get the coordinates per station\n",
    "        try:\n",
    "            x.at[c, 'start_coord'] = stations_coords.loc[start, 'longlat']\n",
    "        except Exception as e:\n",
    "            continue\n",
    "        stop = float(row.finish_id)\n",
    "        try:\n",
    "            x.at[c, 'finish_coord'] = stations_coords.loc[stop, 'longlat']\n",
    "        except:\n",
    "            continue\n",
    "    \n",
    "    return x"
   ]
  },
  {
   "cell_type": "code",
   "execution_count": null,
   "metadata": {
    "ExecuteTime": {
     "end_time": "2021-05-15T09:24:55.858666Z",
     "start_time": "2021-05-15T09:08:20.336Z"
    },
    "hidden": true
   },
   "outputs": [],
   "source": [
    "# assign coords to stations\n",
    "routes_usage_x = routes_usage.copy()\n",
    "routes_usage_x = app_coords(routes_usage_x)"
   ]
  },
  {
   "cell_type": "code",
   "execution_count": null,
   "metadata": {
    "ExecuteTime": {
     "end_time": "2021-05-15T09:24:55.860882Z",
     "start_time": "2021-05-15T09:08:20.340Z"
    },
    "hidden": true
   },
   "outputs": [],
   "source": [
    "# retrieve bike routes\n",
    "load_dotenv(find_dotenv())\n",
    "HERE_API = os.environ.get(\"HERE_API\")\n",
    "def here_routes(x):\n",
    "    \"\"\"\n",
    "    takes in the row of the bikes df and returns a LineString \n",
    "    of the computed bike route from start to destination\n",
    "    \"\"\"\n",
    "#     x = x.dropna(subset=['start_coord', 'finish_coord'])\n",
    "    # check if both coords are available\n",
    "    if x.start_coord and x.finish_coord:\n",
    "        base_url = 'https://route.ls.hereapi.com/routing/7.2/calculateroute.json'\n",
    "        start = f'{x.start_coord[1]},{x.start_coord[0]}' # latlon flipped to lonlat\n",
    "        stop = f'{x.finish_coord[1]},{x.finish_coord[0]}'\n",
    "        params_i = {'apiKey':HERE_API,\n",
    "                    'waypoint0':f'geo!{start}',\n",
    "                    'waypoint1':f'geo!{stop}',\n",
    "                    'mode':'shortest;bicycle;traffic:disabled'\n",
    "                   }\n",
    "        ri = requests.get(url=base_url, params=params_i)\n",
    "        lst = []\n",
    "        try:\n",
    "            for i in ri.json()['response']['route'][0]['leg'][0]['maneuver']:\n",
    "                lat = i.get('position').get('latitude')\n",
    "                long = i.get('position').get('longitude')\n",
    "                lst.append((long, lat))\n",
    "            line = LineString(lst)\n",
    "            print(line)\n",
    "            return line\n",
    "        except Exeption as e:\n",
    "            print(f'Couldn\\'t get route {start}, {stop}, Error: {e}')\n",
    "            \n",
    "# dont run if routes already retrieved\n",
    "# save all retrieved data in dict before assigning (in case it breaks)\n",
    "if 'routes_dict' not in locals():\n",
    "    routes_dict = {}\n",
    "if 'geometry' not in routes_usage_x.columns:\n",
    "    routes_usage_x['geometry'] = None\n",
    "for c, row in routes_usage_x.iterrows():\n",
    "    if not row.geometry:\n",
    "        line = here_routes(row) # run the function\n",
    "        routes_dict[c] = line\n",
    "        routes_usage_x.at[c, 'geometry'] = line\n",
    "    else:\n",
    "        print(f'satisfied with: {c}') # if route has already been retrieved\n",
    "\n",
    "routes_usage_x.to_csv('raw_data/routes_usage.csv')"
   ]
  },
  {
   "cell_type": "markdown",
   "metadata": {
    "heading_collapsed": true
   },
   "source": [
    "## Retrieve weather information"
   ]
  },
  {
   "cell_type": "code",
   "execution_count": null,
   "metadata": {
    "ExecuteTime": {
     "end_time": "2021-05-15T09:24:55.862826Z",
     "start_time": "2021-05-15T09:08:20.345Z"
    },
    "hidden": true
   },
   "outputs": [],
   "source": [
    "# retrieve all weather data for 2019\n",
    "req = 'http://history.openweathermap.org/data/2.5/history/city'\n",
    "start = bike_df.Fecha_Prestamo.min().value\n",
    "end = bike_df.Fecha_Devolucion.max().value\n",
    "params = {\n",
    "    'id':'3674962', # ID of medellin\n",
    "    'type':'hour',\n",
    "    'start':str(start)[:10], # unix time\n",
    "    'end':str(end)[:10],\n",
    "    'appid': OWM_API\n",
    "}\n",
    "\n",
    "r = requests.get(req, params=params)\n",
    "r.status_code"
   ]
  },
  {
   "cell_type": "markdown",
   "metadata": {
    "ExecuteTime": {
     "end_time": "2021-05-15T08:17:08.639108Z",
     "start_time": "2021-05-15T08:17:08.634812Z"
    }
   },
   "source": [
    "## Building Original Supply of Bikes per Station"
   ]
  },
  {
   "cell_type": "code",
   "execution_count": null,
   "metadata": {
    "ExecuteTime": {
     "end_time": "2021-05-15T09:24:55.869766Z",
     "start_time": "2021-05-15T09:08:20.351Z"
    }
   },
   "outputs": [],
   "source": [
    "url  = \"https://wdl-data.fra1.digitaloceanspaces.com/medellin/station_location_with_id.csv\""
   ]
  },
  {
   "cell_type": "code",
   "execution_count": null,
   "metadata": {
    "ExecuteTime": {
     "end_time": "2021-05-15T09:24:55.871630Z",
     "start_time": "2021-05-15T09:08:20.355Z"
    }
   },
   "outputs": [],
   "source": [
    "!wget https://wdl-data.fra1.digitaloceanspaces.com/medellin/station_location_with_id.csv"
   ]
  },
  {
   "cell_type": "code",
   "execution_count": null,
   "metadata": {
    "ExecuteTime": {
     "end_time": "2021-05-15T09:24:55.874216Z",
     "start_time": "2021-05-15T09:08:20.360Z"
    }
   },
   "outputs": [],
   "source": [
    "# filter to 2019 data => most representative year\n",
    "bikes_19 = bikes[bikes.Fecha_Devolucion.dt.year == 2019].reset_index()\n",
    "bikes_19['Id_Aparcamiento_Destino'] = bikes_19['Id_Aparcamiento_Destino'].astype(int)\n",
    "\n",
    "# split the previous data (needed for init state of bikes)\n",
    "bikes_pre = bikes[bikes.Fecha_Devolucion.dt.year < 2019].reset_index()\n",
    "bikes_pre['Id_Aparcamiento_Destino'] = bikes_pre['Id_Aparcamiento_Destino'].astype(int)\n",
    "bikes_pre = bikes_pre[['Id_Tag_Bicicleta', 'Fecha_Devolucion', 'Id_Aparcamiento_Destino']].dropna()"
   ]
  },
  {
   "cell_type": "code",
   "execution_count": null,
   "metadata": {
    "ExecuteTime": {
     "end_time": "2021-05-15T09:24:55.875871Z",
     "start_time": "2021-05-15T09:08:20.364Z"
    }
   },
   "outputs": [],
   "source": [
    "# get all unique stations\n",
    "unique_stations = pd.read_csv('station_location_with_id.csv', sep=';').drop(columns=['photo', 'webDescription'])"
   ]
  },
  {
   "cell_type": "code",
   "execution_count": null,
   "metadata": {
    "ExecuteTime": {
     "end_time": "2021-05-15T09:24:55.877779Z",
     "start_time": "2021-05-15T09:08:20.368Z"
    }
   },
   "outputs": [],
   "source": [
    "# assign df a individual hour of the year per row\n",
    "# ~30secs\n",
    "def get_hr(x):\n",
    "    time = x\n",
    "    hour = dt.datetime(time.year, time.month,time.day,time.hour)\n",
    "    return hour\n",
    "    \n",
    "bikes_19.loc[:,'hour_dropoff'] = bikes_19.Fecha_Devolucion.apply(get_hr) # get hr of dropoff\n",
    "bikes_19.loc[:,'hour_pickup'] = bikes_19.Fecha_Prestamo.apply(get_hr) # get hr of pickup\n"
   ]
  },
  {
   "cell_type": "markdown",
   "metadata": {},
   "source": [
    "**Note**<br>\n",
    "- We are slicing the bike logs in pre-2019 and 2019 data. \n",
    "- We accumulate the amount of pick-ups and drop-offs per each hour of the year 2019."
   ]
  },
  {
   "cell_type": "code",
   "execution_count": null,
   "metadata": {
    "ExecuteTime": {
     "end_time": "2021-05-15T09:24:55.879236Z",
     "start_time": "2021-05-15T09:08:20.373Z"
    }
   },
   "outputs": [],
   "source": [
    "# make sure df is sorted chronologically\n",
    "bikes_19 = bikes_19.sort_values(by='Fecha_Devolucion')\n",
    "\n",
    "# list all the appearing bikes and stations per individual hour of the year\n",
    "bikes_19_drops = bikes_19.copy().groupby('hour_dropoff').agg({'Id_Aparcamiento_Destino':lambda x: list(x)}) # list only the stations which had interaction moved\n",
    "bikes_19_picks = bikes_19.copy().groupby('hour_pickup').agg({'Id_Aparcamiento_Origen':lambda x: list(x)})\n",
    "bikes_19_agg = bikes_19_drops.join(bikes_19_picks) # merge on the matching hour (some bikes are picked up in a different hour)\n",
    "idx = bikes_19_agg.Id_Aparcamiento_Origen != bikes_19_agg.Id_Aparcamiento_Origen\n",
    "bikes_19_agg.loc[idx, 'Id_Aparcamiento_Origen'] = [{-99:0} for i in idx if i] # pad hours with no pickup. .fillna() doesnt work (lists are recognized as NaN)\n"
   ]
  },
  {
   "cell_type": "code",
   "execution_count": null,
   "metadata": {
    "ExecuteTime": {
     "end_time": "2021-05-15T09:24:55.886071Z",
     "start_time": "2021-05-15T09:08:20.378Z"
    }
   },
   "outputs": [],
   "source": [
    "# compute the init state of all bikes prior to 2019 to get a starting balance of bikes\n",
    "# we assume that the bike in its last position wasn't 'touched', thus remained in the station until the 02.01.2019\n",
    "bikes_pre = bikes_pre.sort_values(by='Fecha_Devolucion', ascending=False) # walk backwards through df to find 'last' position of each bike\n",
    "stations_init_df = bikes_pre.groupby('Id_Tag_Bicicleta').agg({'Id_Aparcamiento_Destino':'first'}) # first means last in this case\n"
   ]
  },
  {
   "cell_type": "code",
   "execution_count": null,
   "metadata": {
    "ExecuteTime": {
     "end_time": "2021-05-15T09:24:55.888996Z",
     "start_time": "2021-05-15T09:08:20.383Z"
    }
   },
   "outputs": [],
   "source": [
    "\n",
    "# count the bikes at the stations\n",
    "stations_init_pre = Counter({i:0 for i in unique_stations.ID}) # pad the non appearing ones from the stations df\n",
    "stations_init_pre.update(Counter(dict(stations_init_df.Id_Aparcamiento_Destino.value_counts()))) # fill up the stations"
   ]
  },
  {
   "cell_type": "markdown",
   "metadata": {},
   "source": [
    "**Note**<br>\n",
    "We are calculating the amount of bikes by the _END_ of each hour. Therefore we need to follow each individual movement of the hour of 2019. \n",
    "\n",
    "In the first iteration we will add all the ```bikes_19_drops``` per station and hour. In the second iteration we will subtract all ```bikes_19_picks``` which were picked up at its hour (some bikes are picked up at another hour then dropped off).\n",
    "\n",
    "**Example**:"
   ]
  },
  {
   "cell_type": "code",
   "execution_count": null,
   "metadata": {
    "ExecuteTime": {
     "end_time": "2021-05-15T09:24:55.890564Z",
     "start_time": "2021-05-15T09:08:20.388Z"
    }
   },
   "outputs": [],
   "source": [
    "ex = bikes_19.loc[[1635]]\n",
    "print(f'''\n",
    "        Bike {ex.Id_Tag_Bicicleta.values[0]} was dropped off in the hour {ex.Fecha_Devolucion.dt.hour.values[0]} \n",
    "        of day {ex.Fecha_Devolucion.dt.strftime('%d/%m/%Y').values[0]}. Station {ex.Id_Aparcamiento_Destino.values[0]} will have \n",
    "        +1 bike and {ex.Id_Aparcamiento_Origen.values[0]} will be counted -1 bike in the second iteration.''')\n",
    "      \n",
    "ex\n"
   ]
  },
  {
   "cell_type": "code",
   "execution_count": null,
   "metadata": {
    "ExecuteTime": {
     "end_time": "2021-05-15T09:24:55.895259Z",
     "start_time": "2021-05-15T09:08:20.393Z"
    }
   },
   "outputs": [],
   "source": [
    "\n",
    "# Only run once, the .update method will always add +1 bike per iteration\n",
    "# reset bikes_19_drops otherwise\n",
    "bikes_19_agg['drops'] = None\n",
    "bikes_19_agg['picks'] = None\n",
    "bikes_19_agg['station_count'] = None\n",
    "\n",
    "for c, row in bikes_19_agg.iterrows():\n",
    "#     print(c)\n",
    "    drops = Counter(row.Id_Aparcamiento_Destino) # count all dropoffs per hour\n",
    "    picks = Counter(row.Id_Aparcamiento_Origen) # count all pickups per hour\n",
    "    stations_init_pre.update(drops) # add dropped bikes\n",
    "    stations_init_pre.subtract(picks) # subtract picked up bikes\n",
    "    bikes_19_agg.at[c, 'station_count'] = dict(stations_init_pre)\n",
    "    bikes_19_agg.at[c, 'drops'] = dict(drops)\n",
    "    bikes_19_agg.at[c, 'picks'] = dict(picks)\n",
    "    \n",
    "# move hour to columns and only leave the dict\n",
    "bikes_19_agg = bikes_19_agg.reset_index()[['hour_dropoff', 'drops', 'picks', 'station_count']]\n",
    "        \n",
    "# make dict column visible\n",
    "bikes_19_agg.head(3).style.set_properties(subset=['station_count'], **{'width': '50'})"
   ]
  },
  {
   "cell_type": "markdown",
   "metadata": {},
   "source": [
    "\n",
    "**Note**<br>\n",
    "The new data frame now displays the overall \n",
    "- ```station_drops``` and ```station_picks``` describing the balance of pick-ups and drop-offs for each station which had movement.\n",
    "- the updated ```station_count``` for each station in Medellin by the _end_ of each hour. \n",
    "\n",
    "The df ```bikes_19_agg``` has 5,375 rows displaying all hours in 2019 in which movements were recorded in the initial rental logs."
   ]
  }
 ],
 "metadata": {
  "colab": {
   "collapsed_sections": [],
   "name": "Notebook Submission Template.ipynb",
   "provenance": []
  },
  "kernelspec": {
   "display_name": "Python 3",
   "language": "python",
   "name": "python3"
  },
  "language_info": {
   "codemirror_mode": {
    "name": "ipython",
    "version": 3
   },
   "file_extension": ".py",
   "mimetype": "text/x-python",
   "name": "python",
   "nbconvert_exporter": "python",
   "pygments_lexer": "ipython3",
   "version": "3.8.6"
  },
  "toc": {
   "base_numbering": 1,
   "nav_menu": {},
   "number_sections": true,
   "sideBar": true,
   "skip_h1_title": false,
   "title_cell": "Table of Contents",
   "title_sidebar": "Contents",
   "toc_cell": false,
   "toc_position": {},
   "toc_section_display": true,
   "toc_window_display": false
  }
 },
 "nbformat": 4,
 "nbformat_minor": 1
}
