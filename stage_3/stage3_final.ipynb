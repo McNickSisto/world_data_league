{
 "cells": [
  {
   "cell_type": "markdown",
   "metadata": {
    "id": "JeP6xkRIBJco"
   },
   "source": [
    "# World Data League 2021 🚲"
   ]
  },
  {
   "cell_type": "markdown",
   "metadata": {},
   "source": [
    "**Sub:** Predicting the demand for shared bicycles in Medellín, CO<br>\n",
    "**Team:** NextEpoch"
   ]
  },
  {
   "cell_type": "markdown",
   "metadata": {
    "id": "JeP6xkRIBJco"
   },
   "source": [
    "## Notebook Template (WDL content)"
   ]
  },
  {
   "cell_type": "markdown",
   "metadata": {
    "id": "JeP6xkRIBJco"
   },
   "source": [
    "This notebook is one of the mandatory deliverables when you submit your solution (alongside the video pitch). Its structure follows the WDL evaluation criteria and it has dedicated cells where you can add descriptions. Make sure your code is readable as it will be the only technical support the jury will have to evaluate your work.\n",
    "The notebook must:\n",
    "*   💻 have all the code that you want the jury to evaluate\n",
    "*   🧱 follow the predefined structure\n",
    "*   📄 have markdown descriptions where you find necessary\n",
    "*   👀 be saved with all the output that you want the jury to see\n",
    "*   🏃‍♂️ be runnable"
   ]
  },
  {
   "cell_type": "markdown",
   "metadata": {
    "id": "1QNcZrkVu9xf"
   },
   "source": [
    "## External links and resources 🔗"
   ]
  },
  {
   "cell_type": "markdown",
   "metadata": {
    "id": "1QNcZrkVu9xf"
   },
   "source": [
    "All used data was acquired through the following links:"
   ]
  },
  {
   "cell_type": "markdown",
   "metadata": {},
   "source": [
    "1. Metro link: https://wdl-data.fra1.digitaloceanspaces.com/medellin/medellin_metro_stations_and_routes.zip\n",
    "2. Bike load csv: https://wdl-data.fra1.digitaloceanspaces.com/medellin/bike_loans.zip\n",
    "3. Bus routes: https://wdl-data.fra1.digitaloceanspaces.com/medellin/medellin_bus_routes.zip\n",
    "4. Weather API: https://openweathermap.org/history\n",
    "5. HERE API Route calculation: https://route.ls.hereapi.com/routing/7.2/calculateroute.json\n",
    "6. Climate of Medellin: https://en.wikipedia.org/wiki/Medell%C3%ADn#Climate\n",
    "7. Academic holiday info of Medellin: https://www.mineducacion.gov.co/1759/articles-402903_m_07.pdf"
   ]
  },
  {
   "cell_type": "markdown",
   "metadata": {
    "id": "63ltgxp_rOpI"
   },
   "source": [
    "## Introduction 👩‍🏫"
   ]
  },
  {
   "cell_type": "markdown",
   "metadata": {
    "id": "63ltgxp_rOpI"
   },
   "source": [
    "**Overview:**\n",
    "During this 2-week’s sprint we are working on historical bike rental data from the provider 'EnCicla' in Medellin, Colombia. The company is government owned and provides over 1,600 bicycles distributed in over 101 stations in Medellin and its greater area. The bike rental is for free for everyone who is registered in the system. However, it has operating hours at which the rentals are permitted, usually between 5am to 10pm. Additionally, on Sundays it seems that EnCicla does not run.\n",
    "\n",
    "_from challenge description_\n",
    "<blockquote>\n",
    "One of the main challenges that the system has is to keep bicycles available by the time the user approaches the station to make a loan and have anchor points available for the moment the user wants to deliver the borrowed bike.\n",
    "</blockquote>\n",
    "\n",
    "The heart of the provided **data** is a transaction log for each bike pick-up and drop-off since 2014. In total there are aprox. 14m rows in the data set. One of the main challenges is to preprocess the data and make it usable for a system balance prediction model. The data includes pre and post covid rentals. \n",
    "\n",
    "We decided to narrow it down to a pre-covid analysis because we assumed that the data would be more appropriate in trying to predict future post-covid trends. \n",
    "\n",
    "In our project, we:\n",
    "\n",
    "* Extracted the information\n",
    "* Explored & Visualized the data\n",
    "* Preprocessed & Feature Engineered\n",
    "* Developed Time-Series Model to predict demand per station "
   ]
  },
  {
   "cell_type": "markdown",
   "metadata": {},
   "source": [
    "**Research:**\n",
    "\n",
    "EnCicla is a public bicycle renting service in Medellín, Colombia, which began in 2011. It is one of two the public bike sharing programs in Colombia and was the first such program created in Latin America. It is part of the Aburrá Valley Integrated Transport System (Sistema Integrado de Transporte del Valle de Aburrá, SITVA).\n",
    "\n",
    "To start using Encicla, you just need to go to an Encicla station and take your first bike. However, you need to know that there are two different types of stations: **manual and automatic**. On the manual stations, there is an Encicla employee to whom you need to show your cívica card. On the automatic stations, you need to place your card over the electronic totem to unblock it.\n",
    "When you already have the bike with you, you have 1 hour to use it. In case you need more time, you can renew the rent in any of the Encicla stations of Medellin.\n",
    "\n",
    "**Monday to Friday:** \n",
    "* 5:30 am to 10:00 pm\n",
    "* Last loan: 9:00 pm\n",
    "\n",
    "**Saturday:**\n",
    "* 6:30 am to 9:00 pm\n",
    "\n",
    "**Special Stations:**\n",
    "However, there is a special schedule for the Cisneros, Unaula and Museo de Antioquia stations: on Monday to Friday from 5:30 a.m to 5:30 p.m for rent and reception and it is the normal schedule on Sunday."
   ]
  },
  {
   "cell_type": "markdown",
   "metadata": {
    "id": "C8rCpNajszur"
   },
   "source": [
    "## Development ⚙️"
   ]
  },
  {
   "cell_type": "markdown",
   "metadata": {
    "id": "afB4W0KnutpV"
   },
   "source": [
    "### Imports (libraries) 📚"
   ]
  },
  {
   "cell_type": "code",
   "execution_count": 1,
   "metadata": {
    "ExecuteTime": {
     "end_time": "2021-05-15T09:08:30.410322Z",
     "start_time": "2021-05-15T09:08:19.356417Z"
    },
    "id": "J4jPpcKOutZ5"
   },
   "outputs": [],
   "source": [
    "## TABULAR\n",
    "import pandas as pd \n",
    "import numpy as np\n",
    "import matplotlib\n",
    "\n",
    "## GEO\n",
    "import geopandas as gpd\n",
    "import fiona\n",
    "import folium\n",
    "from folium.plugins import MarkerCluster, HeatMap, BeautifyIcon\n",
    "from folium.map import LayerControl, Layer, FeatureGroup\n",
    "from folium.vector_layers import Circle, CircleMarker\n",
    "from shapely.geometry import LineString, Point\n",
    "from shapely import wkt\n",
    "\n",
    "\n",
    "## DATA\n",
    "import os\n",
    "import zipfile\n",
    "from collections import Counter\n",
    "import re\n",
    "from datetime import datetime\n",
    "import requests\n",
    "from dotenv import load_dotenv, find_dotenv\n",
    "import ast\n",
    "import datetime as dt\n",
    "\n",
    "## VIS\n",
    "from ipywidgets import interact, interactive, fixed, interact_manual, IntSlider\n",
    "import seaborn as sns\n",
    "import matplotlib.pyplot as plt\n",
    "import statsmodels.tsa\n",
    "import branca"
   ]
  },
  {
   "cell_type": "markdown",
   "metadata": {
    "heading_collapsed": true
   },
   "source": [
    "### Data Extraction 🏗"
   ]
  },
  {
   "cell_type": "markdown",
   "metadata": {
    "hidden": true
   },
   "source": [
    "The provided data comes in different types of file extensions.  <br> \n",
    "Some of the files are **very big** and for this reason is easier to call them just when we need them. <br>\n",
    "For this reason we are going to create a class that will be able to read and extract the data, already operating the first **cleaning** steps."
   ]
  },
  {
   "cell_type": "code",
   "execution_count": 2,
   "metadata": {
    "ExecuteTime": {
     "end_time": "2021-05-15T09:08:30.454071Z",
     "start_time": "2021-05-15T09:08:30.420103Z"
    },
    "hidden": true
   },
   "outputs": [],
   "source": [
    "gpd.io.file.fiona.drvsupport.supported_drivers['KML'] = 'rw' # necessary for kml files\n",
    "class Databases:\n",
    "    def __init__(self, csv, anva, smm, metro): # pass the file names stored in 'raw_data/'\n",
    "        self.csv = csv\n",
    "        self.anva = anva \n",
    "        self.smm = smm\n",
    "        self.metro = metro\n",
    "\n",
    "    def extract_csv(self):\n",
    "        # bike rental logs\n",
    "        file = pd.read_csv(f'data/bike_loans/{self.csv}', sep=';').drop(columns=['Importe', \n",
    "                                                                        'DescripcionImporte', \n",
    "                                                                        'operario']) # drop irrelevant columns\n",
    "        file['Fecha_Prestamo'] = pd.to_datetime(file['Fecha_Prestamo'])\n",
    "        file['Fecha_Devolucion'] = pd.to_datetime(file['Fecha_Devolucion'])\n",
    "        return file\n",
    "        \n",
    "    \n",
    "    def extract_anva(self):\n",
    "        # regional bus routes\n",
    "        bus_routes_AMVA = gpd.GeoDataFrame()\n",
    "        for root, dirs, files in os.walk(f'data/bus_routes/medellin_bus_routes/{self.anva}'):\n",
    "            for file in files:\n",
    "                path = os.path.join(root, file)\n",
    "                df = gpd.read_file(path, driver='KML')\n",
    "                bus_routes_AMVA = gpd.GeoDataFrame(pd.concat([bus_routes_AMVA, df], ignore_index=True))\n",
    "        return bus_routes_AMVA\n",
    "    \n",
    "    def extract_smm(self):\n",
    "        # municipal bus routes medellin\n",
    "        smm_bus_routes = gpd.GeoDataFrame()\n",
    "        for root, dirs, files in os.walk(f'data/bus_routes/medellin_bus_routes/{self.smm}'):\n",
    "            for file in files:\n",
    "                path = os.path.join(root, file)\n",
    "                df = gpd.read_file(path, driver='KML')\n",
    "                smm_bus_routes = gpd.GeoDataFrame(pd.concat([smm_bus_routes, df], ignore_index=True))\n",
    "        return smm_bus_routes\n",
    "    \n",
    "    def extract_metro(self):\n",
    "        # metro routes\n",
    "        metro_routes = gpd.GeoDataFrame()\n",
    "        for root, dirs, files in os.walk(f'data/medellin_metro/{self.metro}'):\n",
    "            for file in files:\n",
    "                path = os.path.join(root, file)\n",
    "                print(path)\n",
    "                if path.endswith('.kmz'):\n",
    "                    kmz = zipfile.ZipFile(path, 'r')\n",
    "                    kml = kmz.open('doc.kml', 'r')\n",
    "                    df = gpd.read_file(kml, driver='KML')\n",
    "                    metro_routes = gpd.GeoDataFrame(pd.concat([metro_routes, df], ignore_index=True))\n",
    "        return metro_routes"
   ]
  },
  {
   "cell_type": "code",
   "execution_count": 3,
   "metadata": {
    "ExecuteTime": {
     "end_time": "2021-05-15T09:08:30.482295Z",
     "start_time": "2021-05-15T09:08:30.459696Z"
    },
    "hidden": true
   },
   "outputs": [],
   "source": [
    "databases = Databases('bike_loans.csv','Kml Ruta AMVA','kml Ruta SMM','medellin_metro_stations')"
   ]
  },
  {
   "cell_type": "code",
   "execution_count": 4,
   "metadata": {
    "ExecuteTime": {
     "end_time": "2021-05-15T09:09:30.824176Z",
     "start_time": "2021-05-15T09:08:30.487169Z"
    },
    "hidden": true
   },
   "outputs": [
    {
     "data": {
      "text/plain": [
       "Id_Historico_Prestamo               int64\n",
       "Id_Usuario                          int64\n",
       "Id_Tag_Bicicleta                   object\n",
       "Fecha_Prestamo             datetime64[ns]\n",
       "Fecha_Devolucion           datetime64[ns]\n",
       "Id_Aparcamiento_Origen              int64\n",
       "Posicion_Origen                     int64\n",
       "Id_Aparcamiento_Destino           float64\n",
       "Posicion_Destino                  float64\n",
       "Num_Bici_Hist                     float64\n",
       "dtype: object"
      ]
     },
     "execution_count": 4,
     "metadata": {},
     "output_type": "execute_result"
    }
   ],
   "source": [
    "bikes = databases.extract_csv() # for our preliminary analysis we only need the bike logs (no public transportation)\n",
    "bikes.dtypes"
   ]
  },
  {
   "cell_type": "markdown",
   "metadata": {},
   "source": [
    "### Preliminary Analysis 📊"
   ]
  },
  {
   "cell_type": "markdown",
   "metadata": {},
   "source": [
    "We can start our analy|sis with a general description of the dataset. <br>\n",
    "**NB**: In our dataset we are dealing with all categorical features or timeseries: there is no need to run ```describe()``` "
   ]
  },
  {
   "cell_type": "markdown",
   "metadata": {},
   "source": [
    "#### Bike usage"
   ]
  },
  {
   "cell_type": "markdown",
   "metadata": {},
   "source": [
    "- Id_Tag_Bicicleta : column regarding unique id of each bicycle \n",
    "***let's have a look on how many times the same bike is used (how many times the unique id is present in the df)**"
   ]
  },
  {
   "cell_type": "code",
   "execution_count": 5,
   "metadata": {
    "ExecuteTime": {
     "end_time": "2021-05-15T09:09:32.232640Z",
     "start_time": "2021-05-15T09:09:30.827334Z"
    }
   },
   "outputs": [
    {
     "data": {
      "text/plain": [
       "1    2776075\n",
       "2    2774889\n",
       "3    2737945\n",
       "4    2648630\n",
       "0    2221272\n",
       "5    1066059\n",
       "6        485\n",
       "Name: Fecha_Prestamo, dtype: int64"
      ]
     },
     "execution_count": 5,
     "metadata": {},
     "output_type": "execute_result"
    }
   ],
   "source": [
    "# sunday EnCicla is closed\n",
    "bikes.Fecha_Prestamo.dt.weekday.value_counts()"
   ]
  },
  {
   "cell_type": "code",
   "execution_count": 6,
   "metadata": {
    "ExecuteTime": {
     "end_time": "2021-05-15T09:09:36.209931Z",
     "start_time": "2021-05-15T09:09:32.236341Z"
    }
   },
   "outputs": [
    {
     "data": {
      "image/png": "[encoded data removed]",
      "text/plain": [
       "<Figure size 720x360 with 1 Axes>"
      ]
     },
     "metadata": {
      "needs_background": "light"
     },
     "output_type": "display_data"
    }
   ],
   "source": [
    "# plot the usage of unique bikes and its distribution\n",
    "plt.figure(figsize=(10,5))\n",
    "plt.title('Bike usage distribution', size=20)\n",
    "counts = bikes.Id_Tag_Bicicleta.value_counts()[::66]\n",
    "y_pos = np.arange(len(counts))\n",
    "plt.bar(y_pos, counts)\n",
    "plt.xlabel('Bikes available in %', size=15)\n",
    "# plt.text(x=22, y=6000, s=f'Cutoff: 20% of highest usage', size='x-large')\n",
    "plt.axvline(16, color='r', linestyle='--')\n",
    "\n",
    "plt.show()"
   ]
  },
  {
   "cell_type": "markdown",
   "metadata": {},
   "source": [
    "**Note**<br>\n",
    "There is a strong elbow visible between the 10th and 20th percentile. This could either derive from a highly rising bike usage over the years and thus, underrepresented usage for depreciated bikes. It could also mean that some bikes are significantly standing around too much because they are put to the wrong stations at wrong times and therefore not used enough. "
   ]
  },
  {
   "cell_type": "code",
   "execution_count": 7,
   "metadata": {
    "ExecuteTime": {
     "end_time": "2021-05-15T09:09:37.582013Z",
     "start_time": "2021-05-15T09:09:36.212744Z"
    }
   },
   "outputs": [
    {
     "name": "stdout",
     "output_type": "stream",
     "text": [
      "In total we have 6698 unique bikes over all recorded time\n"
     ]
    }
   ],
   "source": [
    "print(f'In total we have {len(bikes.Id_Tag_Bicicleta.unique())} unique bikes over all recorded time')"
   ]
  },
  {
   "cell_type": "markdown",
   "metadata": {},
   "source": [
    "#### Rental distribution"
   ]
  },
  {
   "cell_type": "markdown",
   "metadata": {},
   "source": [
    "In our dataset we have information about the bike itself, the station of arrival and departures and the costumer. To characterized all this information we have also 2 time series: ```Fecha_Prestamo``` & ```Fecha_Devolucion``` \n",
    "\n",
    "<br>\n",
    "Thanks to these we can have an idea of the time in which the bike are more used, which routes are more popular during a certain range of time and also how the data collected has changed during the years, according maybe to the change in habits of the population. "
   ]
  },
  {
   "cell_type": "code",
   "execution_count": 8,
   "metadata": {
    "ExecuteTime": {
     "end_time": "2021-05-15T09:09:41.282244Z",
     "start_time": "2021-05-15T09:09:37.586103Z"
    }
   },
   "outputs": [
    {
     "data": {
      "text/html": [
       "<div>\n",
       "<style scoped>\n",
       "    .dataframe tbody tr th:only-of-type {\n",
       "        vertical-align: middle;\n",
       "    }\n",
       "\n",
       "    .dataframe tbody tr th {\n",
       "        vertical-align: top;\n",
       "    }\n",
       "\n",
       "    .dataframe thead th {\n",
       "        text-align: right;\n",
       "    }\n",
       "</style>\n",
       "<table border=\"1\" class=\"dataframe\">\n",
       "  <thead>\n",
       "    <tr style=\"text-align: right;\">\n",
       "      <th></th>\n",
       "      <th>Id_Historico_Prestamo</th>\n",
       "      <th>Id_Usuario</th>\n",
       "      <th>Id_Tag_Bicicleta</th>\n",
       "      <th>Fecha_Prestamo</th>\n",
       "      <th>Fecha_Devolucion</th>\n",
       "      <th>Id_Aparcamiento_Origen</th>\n",
       "      <th>Posicion_Origen</th>\n",
       "      <th>Id_Aparcamiento_Destino</th>\n",
       "      <th>Posicion_Destino</th>\n",
       "      <th>Num_Bici_Hist</th>\n",
       "      <th>hour_init</th>\n",
       "      <th>hour_end</th>\n",
       "    </tr>\n",
       "  </thead>\n",
       "  <tbody>\n",
       "    <tr>\n",
       "      <th>0</th>\n",
       "      <td>6501462</td>\n",
       "      <td>18701</td>\n",
       "      <td>000017B00743</td>\n",
       "      <td>2017-06-21 14:22:11</td>\n",
       "      <td>2017-06-21 14:38:29</td>\n",
       "      <td>8</td>\n",
       "      <td>1</td>\n",
       "      <td>43.0</td>\n",
       "      <td>1.0</td>\n",
       "      <td>929.0</td>\n",
       "      <td>14</td>\n",
       "      <td>14</td>\n",
       "    </tr>\n",
       "    <tr>\n",
       "      <th>1</th>\n",
       "      <td>6501318</td>\n",
       "      <td>41811</td>\n",
       "      <td>000017AFF83C</td>\n",
       "      <td>2017-06-21 14:07:18</td>\n",
       "      <td>2017-06-21 14:39:06</td>\n",
       "      <td>56</td>\n",
       "      <td>6</td>\n",
       "      <td>54.0</td>\n",
       "      <td>NaN</td>\n",
       "      <td>1612.0</td>\n",
       "      <td>14</td>\n",
       "      <td>14</td>\n",
       "    </tr>\n",
       "    <tr>\n",
       "      <th>2</th>\n",
       "      <td>6501489</td>\n",
       "      <td>96620</td>\n",
       "      <td>000017AFFB6F</td>\n",
       "      <td>2017-06-21 14:25:11</td>\n",
       "      <td>2017-06-21 14:39:07</td>\n",
       "      <td>36</td>\n",
       "      <td>25</td>\n",
       "      <td>9.0</td>\n",
       "      <td>13.0</td>\n",
       "      <td>1679.0</td>\n",
       "      <td>14</td>\n",
       "      <td>14</td>\n",
       "    </tr>\n",
       "    <tr>\n",
       "      <th>3</th>\n",
       "      <td>6501001</td>\n",
       "      <td>16055</td>\n",
       "      <td>0000182A3B7B</td>\n",
       "      <td>2017-06-21 13:35:52</td>\n",
       "      <td>2017-06-21 14:39:22</td>\n",
       "      <td>8</td>\n",
       "      <td>1</td>\n",
       "      <td>9.0</td>\n",
       "      <td>6.0</td>\n",
       "      <td>1076.0</td>\n",
       "      <td>13</td>\n",
       "      <td>14</td>\n",
       "    </tr>\n",
       "    <tr>\n",
       "      <th>4</th>\n",
       "      <td>6501421</td>\n",
       "      <td>6431</td>\n",
       "      <td>000017AFE810</td>\n",
       "      <td>2017-06-21 14:17:56</td>\n",
       "      <td>2017-06-21 14:39:26</td>\n",
       "      <td>56</td>\n",
       "      <td>14</td>\n",
       "      <td>54.0</td>\n",
       "      <td>NaN</td>\n",
       "      <td>1176.0</td>\n",
       "      <td>14</td>\n",
       "      <td>14</td>\n",
       "    </tr>\n",
       "  </tbody>\n",
       "</table>\n",
       "</div>"
      ],
      "text/plain": [
       "   Id_Historico_Prestamo  Id_Usuario Id_Tag_Bicicleta      Fecha_Prestamo  \\\n",
       "0                6501462       18701     000017B00743 2017-06-21 14:22:11   \n",
       "1                6501318       41811     000017AFF83C 2017-06-21 14:07:18   \n",
       "2                6501489       96620     000017AFFB6F 2017-06-21 14:25:11   \n",
       "3                6501001       16055     0000182A3B7B 2017-06-21 13:35:52   \n",
       "4                6501421        6431     000017AFE810 2017-06-21 14:17:56   \n",
       "\n",
       "     Fecha_Devolucion  Id_Aparcamiento_Origen  Posicion_Origen  \\\n",
       "0 2017-06-21 14:38:29                       8                1   \n",
       "1 2017-06-21 14:39:06                      56                6   \n",
       "2 2017-06-21 14:39:07                      36               25   \n",
       "3 2017-06-21 14:39:22                       8                1   \n",
       "4 2017-06-21 14:39:26                      56               14   \n",
       "\n",
       "   Id_Aparcamiento_Destino  Posicion_Destino  Num_Bici_Hist  hour_init  \\\n",
       "0                     43.0               1.0          929.0         14   \n",
       "1                     54.0               NaN         1612.0         14   \n",
       "2                      9.0              13.0         1679.0         14   \n",
       "3                      9.0               6.0         1076.0         13   \n",
       "4                     54.0               NaN         1176.0         14   \n",
       "\n",
       "   hour_end  \n",
       "0        14  \n",
       "1        14  \n",
       "2        14  \n",
       "3        14  \n",
       "4        14  "
      ]
     },
     "execution_count": 8,
     "metadata": {},
     "output_type": "execute_result"
    }
   ],
   "source": [
    "# Extracting just the hour: \n",
    "bikes['hour_init']= bikes['Fecha_Prestamo'].dt.hour\n",
    "bikes['hour_end']=bikes['Fecha_Devolucion'].dt.hour\n",
    "bikes.head(5)"
   ]
  },
  {
   "cell_type": "code",
   "execution_count": 9,
   "metadata": {
    "ExecuteTime": {
     "end_time": "2021-05-15T09:09:41.909267Z",
     "start_time": "2021-05-15T09:09:41.288721Z"
    },
    "scrolled": false
   },
   "outputs": [
    {
     "name": "stderr",
     "output_type": "stream",
     "text": [
      "/home/sisto/.pyenv/versions/3.8.6/envs/lewagon/lib/python3.8/site-packages/seaborn/_decorators.py:36: FutureWarning: Pass the following variables as keyword args: x, y. From version 0.12, the only valid positional argument will be `data`, and passing other arguments without an explicit keyword will result in an error or misinterpretation.\n",
      "  warnings.warn(\n"
     ]
    },
    {
     "name": "stdout",
     "output_type": "stream",
     "text": [
      "The highest usage of bikes is at 17h and 7h\n"
     ]
    },
    {
     "data": {
      "image/png": "[encoded data removed]",
      "text/plain": [
       "<Figure size 1080x576 with 1 Axes>"
      ]
     },
     "metadata": {
      "needs_background": "light"
     },
     "output_type": "display_data"
    }
   ],
   "source": [
    "# plot the mean distribution of bike rentals over the day\n",
    "plt.figure(figsize=(15,8))\n",
    "hours = pd.DataFrame(bikes.hour_init.value_counts())\n",
    "hours = hours.drop(index=[1,2,3,4,23,0]) # out of operation hours\n",
    "sns.barplot(hours.index,hours.hour_init)\n",
    "plt.title('Rental distribution over the day', size=20)\n",
    "plt.xlabel('Hours', size=15)\n",
    "plt.ylabel('Count/Hours', size=15)\n",
    "print(f'The highest usage of bikes is at 17h and 7h')"
   ]
  },
  {
   "cell_type": "markdown",
   "metadata": {},
   "source": [
    "**Note**<br>\n",
    "As you can imagine, the bike usage is significantly higher at the start of the day i.e. **7:00** and at the end of the day between **16:00 and 18:00**"
   ]
  },
  {
   "cell_type": "markdown",
   "metadata": {},
   "source": [
    "#### Bike Routes"
   ]
  },
  {
   "cell_type": "code",
   "execution_count": null,
   "metadata": {
    "ExecuteTime": {
     "start_time": "2021-05-15T09:08:19.912Z"
    }
   },
   "outputs": [],
   "source": [
    "# engineer new feature 'routes'  with a string <start>_<finish>\n",
    "bikes = bikes.dropna()\n",
    "bikes['routes'] = bikes.apply(lambda x: f'{x.Id_Aparcamiento_Origen}_{int(x.Id_Aparcamiento_Destino)}', axis=1)"
   ]
  },
  {
   "cell_type": "markdown",
   "metadata": {},
   "source": [
    "- We can now try to understand the routes depending on the hour of the day.\n",
    "- During all the analysis we will focus on the hours as main indicator as our target regard the best distribution of bikes **xhour**"
   ]
  },
  {
   "cell_type": "code",
   "execution_count": null,
   "metadata": {
    "ExecuteTime": {
     "start_time": "2021-05-15T09:08:19.917Z"
    }
   },
   "outputs": [],
   "source": [
    "# grouping by hour\n",
    "bikes['hour'] = bikes.Fecha_Prestamo.dt.hour\n",
    "agg = {'Id_Aparcamiento_Origen':'count', \n",
    "      'routes': lambda x: list(x)}\n",
    "routes_by_hr = bikes.groupby('hour').agg(agg).rename(columns={'Id_Aparcamiento_Origen':'count_rentals'})"
   ]
  },
  {
   "cell_type": "code",
   "execution_count": null,
   "metadata": {
    "ExecuteTime": {
     "start_time": "2021-05-15T09:08:19.922Z"
    }
   },
   "outputs": [],
   "source": [
    "routes_by_hr"
   ]
  },
  {
   "cell_type": "code",
   "execution_count": null,
   "metadata": {
    "ExecuteTime": {
     "start_time": "2021-05-15T09:08:19.926Z"
    }
   },
   "outputs": [],
   "source": [
    "# count the amount of occuring routes per hour (counting the ocurrences in the lists)\n",
    "routes_dict = {}\n",
    "for c, row in routes_by_hr.iterrows():\n",
    "    routes_dict[c] = dict(Counter(row.routes))\n",
    "\n",
    "routes_usage = pd.DataFrame.from_dict(routes_dict)"
   ]
  },
  {
   "cell_type": "code",
   "execution_count": null,
   "metadata": {
    "ExecuteTime": {
     "start_time": "2021-05-15T09:08:19.930Z"
    }
   },
   "outputs": [],
   "source": [
    "routes_usage.head()"
   ]
  },
  {
   "cell_type": "code",
   "execution_count": null,
   "metadata": {
    "ExecuteTime": {
     "start_time": "2021-05-15T09:08:19.934Z"
    }
   },
   "outputs": [],
   "source": [
    "# grouping by hour\n",
    "agg = {'Id_Aparcamiento_Origen':'count', \n",
    "      'routes': lambda x: list(x)}\n",
    "routes_by_hr = bikes.groupby('hour_init').agg(agg).rename(columns={'Id_Aparcamiento_Origen':'count_rentals'})"
   ]
  },
  {
   "cell_type": "code",
   "execution_count": null,
   "metadata": {
    "ExecuteTime": {
     "start_time": "2021-05-15T09:08:19.940Z"
    }
   },
   "outputs": [],
   "source": [
    "routes_by_hr.head()"
   ]
  },
  {
   "cell_type": "markdown",
   "metadata": {},
   "source": [
    "##### Route usage graph"
   ]
  },
  {
   "cell_type": "markdown",
   "metadata": {},
   "source": [
    "Let's see which routes were used most in which times of the day."
   ]
  },
  {
   "cell_type": "code",
   "execution_count": null,
   "metadata": {
    "ExecuteTime": {
     "start_time": "2021-05-15T09:08:19.946Z"
    }
   },
   "outputs": [],
   "source": [
    "# take the top3 routes per hour\n",
    "rank_routes = {}\n",
    "for hour in routes_usage.columns:\n",
    "    top3 = dict(routes_usage[hour].sort_values(ascending=False)[:3])\n",
    "    rank_routes[hour] = top3\n",
    "rank_routes_df = pd.DataFrame(rank_routes).T"
   ]
  },
  {
   "cell_type": "code",
   "execution_count": null,
   "metadata": {
    "ExecuteTime": {
     "start_time": "2021-05-15T09:08:19.951Z"
    }
   },
   "outputs": [],
   "source": [
    "rank_routes_df.head()"
   ]
  },
  {
   "cell_type": "code",
   "execution_count": null,
   "metadata": {
    "ExecuteTime": {
     "start_time": "2021-05-15T09:08:19.955Z"
    },
    "scrolled": false
   },
   "outputs": [],
   "source": [
    "rank_routes_df.loc[5:21].plot(kind='bar', figsize=(20,10), width=5, stacked=False, align='center') # only take operating hours\n",
    "plt.title('Usage of top 3 routes per hour', size=18)\n",
    "plt.xlabel('Hours', size=15)\n",
    "plt.ylabel('Count/Hours', size=15)\n",
    "plt.grid()\n",
    "plt.show()"
   ]
  },
  {
   "cell_type": "markdown",
   "metadata": {},
   "source": [
    "**Note**<br>\n",
    "- In the morning hours the route ```8_10``` is represented in high numbers followed by ```7_70```\n",
    "- In the evening hours there are more ```2_1``` and ```10_8``` rentals recorded\n",
    "- Noons and afternoons have a stable distribution of ```70_7``` (returns of the mornings)\n",
    "- Way less people go back the same way they came from (```8_10``` vs. ```10_8```)"
   ]
  },
  {
   "cell_type": "markdown",
   "metadata": {},
   "source": [
    "##### Road usage map"
   ]
  },
  {
   "cell_type": "markdown",
   "metadata": {},
   "source": [
    "The routes balance can also be visualized in a **map.**"
   ]
  },
  {
   "cell_type": "markdown",
   "metadata": {},
   "source": [
    "In order to show the routes in a more realistic way, we transformed them into routes (LineStrings) computed by the ```HERE API```. The code for this you can find here in the [appendix](#Calculate-routes-with-HERE-API)."
   ]
  },
  {
   "cell_type": "code",
   "execution_count": null,
   "metadata": {
    "ExecuteTime": {
     "start_time": "2021-05-15T09:08:19.963Z"
    }
   },
   "outputs": [],
   "source": [
    "# reload file after using HERE API\n",
    "# already contains coordinates\n",
    "routes_usage_x = pd.read_csv('data/routes_usage.csv', \n",
    "                             index_col=0, \n",
    "                             converters={'start_coord':ast.literal_eval}).dropna(subset=['geometry'])\n",
    "routes_usage_x = gpd.GeoDataFrame(routes_usage_x)\n",
    "routes_usage_x['geometry'] = routes_usage_x['geometry'].apply(wkt.loads)"
   ]
  },
  {
   "cell_type": "code",
   "execution_count": null,
   "metadata": {
    "ExecuteTime": {
     "start_time": "2021-05-15T09:08:19.968Z"
    }
   },
   "outputs": [],
   "source": [
    "routes_usage_x"
   ]
  },
  {
   "cell_type": "code",
   "execution_count": null,
   "metadata": {
    "ExecuteTime": {
     "start_time": "2021-05-15T09:08:19.973Z"
    }
   },
   "outputs": [],
   "source": [
    "# check for valid coords\n",
    "(routes_usage_x.geometry == routes_usage_x.geometry).sum()"
   ]
  },
  {
   "cell_type": "code",
   "execution_count": null,
   "metadata": {
    "ExecuteTime": {
     "start_time": "2021-05-15T09:08:19.977Z"
    }
   },
   "outputs": [],
   "source": [
    "# plot route density and station demand\n",
    "def mapa(hour, show_routes, show_stations):\n",
    "    hour = str(hour) # col names are read in str\n",
    "    m = folium.Map([6.25, -75.58], zoom_start=13, tiles='cartodbpositron')\n",
    "    \n",
    "    hour_df = routes_usage_x[routes_usage_x[hour] == routes_usage_x[hour]][[hour, 'start_id', 'start_coord', 'geometry']]\n",
    "    hour_df = hour_df[hour_df.geometry == hour_df.geometry].sort_values(by=hour, ascending=False)\n",
    "    hour_df = hour_df.dropna().head(100)\n",
    "    hour_df = gpd.GeoDataFrame(hour_df)\n",
    "    \n",
    "    # routes\n",
    "#     cmap = matplotlib.cm.get_cmap('BuPu')\n",
    "    cmap = branca.colormap.linear.BuPu_09.scale(0, 1)\n",
    "    routes = FeatureGroup(name='Routes', show=show_routes)\n",
    "    for c, row in hour_df.iterrows():\n",
    "        # routes\n",
    "        hexa = matplotlib.colors.to_hex(cmap(row[hour]/hour_df[hour].max()))\n",
    "        xy = row.geometry.coords.xy\n",
    "        coords = [[x[i] for x in [xy[1], xy[0]]] for i in range(len(xy[0]))]\n",
    "        folium.PolyLine(coords, \n",
    "                        color=hexa, \n",
    "                        weight=10, \n",
    "                        tooltip=f'Route: {c}',\n",
    "                        opacity=.3).add_to(routes)\n",
    "    \n",
    "    # circles\n",
    "    pickup_df = hour_df.groupby('start_id').agg({hour:'sum', 'start_coord':'first'})\n",
    "    cmapa = branca.colormap.linear.YlOrRd_09.scale(0, 1)\n",
    "#     cmapa = matplotlib.cm.get_cmap('YlOrRd')\n",
    "    stations = FeatureGroup(name='Stations', show=show_stations)\n",
    "    for c, row in pickup_df.iterrows():\n",
    "        size = (np.sqrt(row[hour])/19)**2\n",
    "        hexe = matplotlib.colors.to_hex(cmapa(row[hour]/hour_df[hour].max()))\n",
    "\n",
    "        CircleMarker((row.start_coord[1],row.start_coord[0]), \n",
    "                     radius=size, \n",
    "                     fill=True, \n",
    "                     tooltip=f'Station: {c}', \n",
    "                     color=hexe,\n",
    "                     weight=0,\n",
    "                     fill_opacity=.2\n",
    "                    ).add_to(stations)\n",
    "    \n",
    "    # add layer stations to m\n",
    "    cmapa.caption = 'Relative demand per station and hour of the day'\n",
    "    cmapa.add_to(m)\n",
    "    stations.add_to(m)\n",
    "    \n",
    "    # add layer routes to m\n",
    "    routes.add_to(m)\n",
    "    cmap.caption = 'Density of route usage per hour of the day'\n",
    "    cmap.add_to(m)\n",
    "    LayerControl().add_to(m)\n",
    "    return m\n",
    "title = ' Density flow daily bike usage '\n",
    "print (title.center(110, '#'))\n",
    "print('\\nMove \\'hour\\' bar to see the flow change')\n",
    "interact(mapa, hour=IntSlider(min=5, max=21, step=1, value=8), show_routes=True, show_stations=True)"
   ]
  },
  {
   "cell_type": "markdown",
   "metadata": {},
   "source": [
    "**Note**<br>\n",
    "The data for the circles of stations is beautified for better displaying purposes.\n",
    "We can clearly see what has been described in the previous [graph](#Route-usage-graph). The most popular destinations are the three campuses of universities in the city of Medellin.\n",
    "- Universidad Pontificia Bolivariana (Station: 10)\n",
    "- Universidad Nacional de Colombia (Station: 70)\n",
    "- Universidad de Antioquia (Stations: 2 & 3)\n",
    "\n",
    "The biggest demand for bikes is visible in the two Metro stations: \n",
    "- Suramericana (Station: 7)\n",
    "- Estadio (Station: 8)"
   ]
  },
  {
   "cell_type": "markdown",
   "metadata": {
    "heading_collapsed": true
   },
   "source": [
    "#### Rental behavior"
   ]
  },
  {
   "cell_type": "markdown",
   "metadata": {
    "hidden": true
   },
   "source": [
    "To understand the rental behavior it is important to look at the rental details.\n",
    "- how many times were bikes returned to the **same** station?\n",
    "- how many times were bikes rented **less** than 2 mins?"
   ]
  },
  {
   "cell_type": "code",
   "execution_count": null,
   "metadata": {
    "ExecuteTime": {
     "start_time": "2021-05-15T09:08:19.985Z"
    },
    "hidden": true
   },
   "outputs": [],
   "source": [
    "bikes['timespan_min'] = (bikes.Fecha_Devolucion - bikes.Fecha_Prestamo).dt.seconds/60"
   ]
  },
  {
   "cell_type": "code",
   "execution_count": null,
   "metadata": {
    "ExecuteTime": {
     "start_time": "2021-05-15T09:08:19.989Z"
    },
    "hidden": true
   },
   "outputs": [],
   "source": [
    "# plot the time spans of bike rentals\n",
    "bikes.timespan_min.hist(bins=1000, figsize=(15,8), edgecolor='white')\n",
    "plt.xlim(0,125)\n",
    "plt.title('Distribution of rental time in minutes', size=18)\n",
    "plt.text(50, 500000, s='Understand \"unrented\" bikes', c='r', rotation='horizontal', fontsize=20)\n",
    "plt.arrow(1, 400000, 50, 80000, color='r', width=1)\n",
    "plt.xlabel('Rental time in mins', size=15)\n",
    "plt.show()"
   ]
  },
  {
   "cell_type": "code",
   "execution_count": null,
   "metadata": {
    "ExecuteTime": {
     "start_time": "2021-05-15T09:08:19.993Z"
    },
    "hidden": true
   },
   "outputs": [],
   "source": [
    "# re split the df to see start and finish ids separately\n",
    "routes_usage['start_id'] = routes_usage.index.map(lambda x: x.split('_')[0])\n",
    "routes_usage['finish_id'] = routes_usage.index.map(lambda x: x.split('_')[1])\n",
    "routes_usage['no_move'] = routes_usage.start_id == routes_usage.finish_id # tag routes which returned to the same station"
   ]
  },
  {
   "cell_type": "code",
   "execution_count": null,
   "metadata": {
    "ExecuteTime": {
     "start_time": "2021-05-15T09:08:19.997Z"
    },
    "hidden": true
   },
   "outputs": [],
   "source": [
    "# how many times were bikes returned to the same station?\n",
    "# how many times were bikes rented less than 2 mins?\n",
    "plt.figure(figsize=(20,5))\n",
    "plt.subplot(1,2,1)\n",
    "sns.distplot(routes_usage.no_move, bins=2, kde=False)\n",
    "plt.title('Bikes returned to the same station')\n",
    "plt.subplot(1,2,2)\n",
    "under_2 = bikes.timespan_min < 2\n",
    "sns.distplot(under_2, bins=2, kde=False)\n",
    "plt.title('Bikes rented less than 2 mins')\n",
    "plt.show()"
   ]
  },
  {
   "cell_type": "markdown",
   "metadata": {
    "hidden": true
   },
   "source": [
    "**Note**<br>\n",
    "The distribution of rentals to the same station is rather small but it is of course likely for people to drop off bikes at the same station as they picked them up. That data should be kept in the data set."
   ]
  },
  {
   "cell_type": "markdown",
   "metadata": {
    "heading_collapsed": true
   },
   "source": [
    "### Pandemic analysis 😷"
   ]
  },
  {
   "cell_type": "markdown",
   "metadata": {
    "hidden": true
   },
   "source": [
    "In the last year our habits changed a lot due to the pandemic we are dealing day by day with. For this reason we cannot avoid to take this factor into account.\n",
    "\n",
    "**Let's see how our data changed before and after the spreading of the Corona Virus:**"
   ]
  },
  {
   "cell_type": "code",
   "execution_count": null,
   "metadata": {
    "ExecuteTime": {
     "start_time": "2021-05-15T09:08:20.004Z"
    },
    "hidden": true
   },
   "outputs": [],
   "source": [
    "bikes['year'] = bikes.Fecha_Prestamo.dt.year\n",
    "evolution_bikes = {}\n",
    "for year in sorted(bikes.year.unique())[::-1]:\n",
    "    df_filter = bikes[bikes.year == year]\n",
    "    df_filter_prev = bikes[bikes.year == year-1]\n",
    "    bikes_ = df_filter.Id_Tag_Bicicleta.unique()\n",
    "    bikes_prev = df_filter_prev.Id_Tag_Bicicleta.unique()\n",
    "    count_up = len([bike for bike in bikes_ if bike not in bikes_prev])\n",
    "    count_down = -len([bike for bike in bikes_prev if bike not in bikes_])\n",
    "    evolution_bikes[year] = {'loss': count_down, 'win': count_up}"
   ]
  },
  {
   "cell_type": "code",
   "execution_count": null,
   "metadata": {
    "ExecuteTime": {
     "start_time": "2021-05-15T09:08:20.008Z"
    },
    "hidden": true
   },
   "outputs": [],
   "source": [
    "pd.DataFrame(evolution_bikes).T.sort_index().plot(kind='bar', figsize=(15,10))\n",
    "plt.grid()"
   ]
  },
  {
   "cell_type": "markdown",
   "metadata": {
    "hidden": true
   },
   "source": [
    "**Note**<br>\n",
    "we can see that a lot of bikes stopped appearing in 2021. The highest investments for new bikes have been made in 2020."
   ]
  },
  {
   "cell_type": "markdown",
   "metadata": {
    "hidden": true
   },
   "source": [
    "**What about route exploration by users**"
   ]
  },
  {
   "cell_type": "code",
   "execution_count": null,
   "metadata": {
    "ExecuteTime": {
     "start_time": "2021-05-15T09:08:20.014Z"
    },
    "hidden": true
   },
   "outputs": [],
   "source": [
    "evolution_routes = {}\n",
    "for year in sorted(bikes.year.unique())[::-1]:\n",
    "    df_filter = bikes[bikes.year == year]\n",
    "    df_filter_prev = bikes[bikes.year == year-1]\n",
    "    routes_ = df_filter.routes.unique()\n",
    "    routes_prev = df_filter_prev.routes.unique()\n",
    "    count_up = len([route for route in routes_ if route not in routes_prev])\n",
    "    count_down = -len([route for route in routes_prev if route not in routes_])\n",
    "    evolution_routes[year] = {'loss': count_down, 'win': count_up}"
   ]
  },
  {
   "cell_type": "code",
   "execution_count": null,
   "metadata": {
    "ExecuteTime": {
     "start_time": "2021-05-15T09:08:20.018Z"
    },
    "hidden": true
   },
   "outputs": [],
   "source": [
    "pd.DataFrame(evolution_routes).T.sort_index().plot(kind='bar', figsize=(20,10))\n",
    "plt.grid()"
   ]
  },
  {
   "cell_type": "markdown",
   "metadata": {
    "hidden": true
   },
   "source": [
    "**Note**<br>\n",
    "In 2019 and 2020 a lot of new routes were explored by the bike users. This might be due to more private and recreational use of bikes during covid. \n",
    "\n",
    "**Did the total of rentals change during the years?**"
   ]
  },
  {
   "cell_type": "code",
   "execution_count": null,
   "metadata": {
    "ExecuteTime": {
     "start_time": "2021-05-15T09:08:20.023Z"
    },
    "hidden": true
   },
   "outputs": [],
   "source": [
    "# calculate evolution of rentals\n",
    "evolution_rentals = {}\n",
    "for year in sorted(bikes.year.unique()):\n",
    "    df_filter = bikes[bikes.year == year]\n",
    "    count = df_filter.Id_Historico_Prestamo.count()\n",
    "    evolution_rentals[year] = count\n",
    "evolution_rentals_df = pd.DataFrame.from_dict(evolution_rentals, orient='index').rename(columns={0:'count'})\n",
    "evolution_rentals_df.plot(kind='bar', figsize=(15,8))\n",
    "plt.grid()\n",
    "plt.title(\"Evolution of bike rentals from 2014 to 2021\", size=16)\n",
    "plt.show()"
   ]
  },
  {
   "cell_type": "markdown",
   "metadata": {
    "hidden": true
   },
   "source": [
    "**Rentals plummet in 2020 and 2021.**\n",
    "1. we cannot run a model without taking this real world event into account\n",
    "2. we decide to split the data and work just on the pre-pandemic information to get a more normalized prediction model.\n",
    "\n",
    "**Split of dataframe**"
   ]
  },
  {
   "cell_type": "code",
   "execution_count": null,
   "metadata": {
    "ExecuteTime": {
     "start_time": "2021-05-15T09:08:20.029Z"
    },
    "hidden": true
   },
   "outputs": [],
   "source": [
    "bikes_nocov = bikes[bikes.Fecha_Devolucion <= '31/12/2019']"
   ]
  },
  {
   "cell_type": "code",
   "execution_count": null,
   "metadata": {
    "ExecuteTime": {
     "start_time": "2021-05-15T09:08:20.033Z"
    },
    "hidden": true
   },
   "outputs": [],
   "source": [
    "print(f'Pre pandemic data with no nan values amounts to \\n{bikes_nocov.shape[0]} rows.')"
   ]
  },
  {
   "cell_type": "markdown",
   "metadata": {},
   "source": [
    "### Data Preparation 🧑‍💻"
   ]
  },
  {
   "cell_type": "markdown",
   "metadata": {},
   "source": [
    "Following some review, we decided to focus entirely on the data from **2019**. \n",
    "\n",
    "There are several reasons for this:\n",
    "\n",
    "1. We believe that using data at the beginning of the project might be unrepresentative of how it is currently operated (just before COVID). \n",
    "2. For dimensionality purposes, the more rows and dates we turn into time series, the great amount of data to process.\n",
    "\n",
    "**NOTE:** \n",
    "<br>\n",
    "We are focusing solely on 2019, therefore we are removing the bikes that were loaned **AND** deposited back in 2019. Therefore, bikes dropped after 31/12/2019 wouldn't be counted."
   ]
  },
  {
   "cell_type": "markdown",
   "metadata": {
    "ExecuteTime": {
     "end_time": "2021-05-15T08:34:29.165951Z",
     "start_time": "2021-05-15T08:34:29.157688Z"
    }
   },
   "source": [
    "We are building a model to predict the demand of rental bicycles for each station for any time in the future in the city of Medellin, CO.<br>\n",
    "For that, we need to compute:<br>\n",
    "1. The actual amount of bikes available at each station for each hour of the year.\n",
    "2. The demand for bikes per station per hour.\n",
    "3. We will add weather data for each hour of the year because we believe that weather has an impact on bike usage. \n",
    "4. We will add another categorical holiday feature to the df."
   ]
  },
  {
   "cell_type": "markdown",
   "metadata": {},
   "source": [
    "#### Demand & Supply "
   ]
  },
  {
   "cell_type": "markdown",
   "metadata": {},
   "source": [
    "**Note**\n",
    "\n",
    "Originally, we wanted to compute the original supply of bikes per station per hour. We have attached the code in Appendix under *Building Original Supply of Bikes per Station* for this. Unfortunately, we did not account for possible transfers of bikes from EnCicla that were not recorded in the bike loans. \n",
    "\n",
    "The problem with the dataset or computing Demand & Supply is that we cannot account for potential demand such as when stations are 0 but individuals would like to rent a bike or vice versa for potential supply when stations are full but individuals would like to drop their bikes. \n",
    "\n",
    "Therefore, we decided to compute Demand & Supply based on bike loans only. For the **demand**, we will calculate the amount of bikes loaned per station per hour. For the **supply**, we will calculate the amount of bikes dropped off per station per hour.\n"
   ]
  },
  {
   "cell_type": "code",
   "execution_count": null,
   "metadata": {
    "ExecuteTime": {
     "start_time": "2021-05-15T09:08:20.040Z"
    }
   },
   "outputs": [],
   "source": [
    "bikes_2019 = bikes[(bikes['Fecha_Prestamo'].dt.year == 2019) & (bikes['Fecha_Devolucion'].dt.year == 2019)]\n",
    "bikes_2019"
   ]
  },
  {
   "cell_type": "code",
   "execution_count": null,
   "metadata": {
    "ExecuteTime": {
     "start_time": "2021-05-15T09:08:20.044Z"
    }
   },
   "outputs": [],
   "source": [
    "bikes_2019['Id_Aparcamiento_Origen'].isna().sum(), bikes_2019['Id_Aparcamiento_Destino'].isna().sum()"
   ]
  },
  {
   "cell_type": "markdown",
   "metadata": {},
   "source": [
    "**Note**\n",
    "\n",
    "We are seeing below the amount of NaN values for the columns - station of origin and station of destination. What is happening is that there are no NaN values station of origins and 1009 for stations of destination. What we assume could have happened, is a common problem: drunk people took their bikes and threw them into the river or something along those lines, hence never reached their destination. "
   ]
  },
  {
   "cell_type": "code",
   "execution_count": null,
   "metadata": {
    "ExecuteTime": {
     "start_time": "2021-05-15T09:08:20.052Z"
    }
   },
   "outputs": [],
   "source": [
    "bikes_2019['Id_Aparcamiento_Destino'] = bikes_2019['Id_Aparcamiento_Destino'].fillna(np.NaN)\n",
    "bikes_2019['Posicion_Destino'] = bikes_2019['Posicion_Destino'].fillna(np.NaN)"
   ]
  },
  {
   "cell_type": "markdown",
   "metadata": {},
   "source": [
    "Filling those NaN values with -1 for conversion purposes, so that we can more easily use the .apply function when creating new features"
   ]
  },
  {
   "cell_type": "markdown",
   "metadata": {},
   "source": [
    "We can see from above that some similar columns are of different types such as Id_Aparcamiento_Destino = float64 AND Id_Aparcamiento_Origen = int64"
   ]
  },
  {
   "cell_type": "code",
   "execution_count": null,
   "metadata": {
    "ExecuteTime": {
     "start_time": "2021-05-15T09:08:20.060Z"
    }
   },
   "outputs": [],
   "source": [
    "bikes_2019['Id_Aparcamiento_Origen'] = bikes_2019['Id_Aparcamiento_Origen'].astype(float)                                                                                \n",
    "bikes_2019['Posicion_Origen'] = bikes_2019['Posicion_Origen'].astype(float)"
   ]
  },
  {
   "cell_type": "markdown",
   "metadata": {
    "ExecuteTime": {
     "end_time": "2021-05-15T08:45:54.729857Z",
     "start_time": "2021-05-15T08:45:54.725536Z"
    }
   },
   "source": [
    "##### Feature Creation"
   ]
  },
  {
   "cell_type": "code",
   "execution_count": null,
   "metadata": {
    "ExecuteTime": {
     "start_time": "2021-05-15T09:08:20.068Z"
    }
   },
   "outputs": [],
   "source": [
    "def create_supply_demand(x):\n",
    "        if x >= 0:\n",
    "            return 1\n",
    "        elif x != x:\n",
    "            return 0"
   ]
  },
  {
   "cell_type": "markdown",
   "metadata": {},
   "source": [
    "**Note** \n",
    "\n",
    "What the function above does is to return 0 or 1 depending on whether each row has a station of origin or station of destination. Each time someone loans a new bike this is/can be represented as demand = 1. When they drop their bikes this can be represented as supply = 1. However, if the row does not have a station of destination i.e. the bike got lost/thrown in the river, then supply should be = 0. For later use, this will be to find out if there is an imbalance of demand and supply for some stations.m"
   ]
  },
  {
   "cell_type": "code",
   "execution_count": null,
   "metadata": {
    "ExecuteTime": {
     "start_time": "2021-05-15T09:08:20.074Z"
    }
   },
   "outputs": [],
   "source": [
    "bikes_2019['demand'] = bikes_2019['Id_Aparcamiento_Origen'].apply(create_supply_demand)"
   ]
  },
  {
   "cell_type": "code",
   "execution_count": null,
   "metadata": {
    "ExecuteTime": {
     "start_time": "2021-05-15T09:08:20.080Z"
    }
   },
   "outputs": [],
   "source": [
    "bikes_2019['supply'] = bikes_2019['Id_Aparcamiento_Destino'].apply(create_supply_demand)"
   ]
  },
  {
   "cell_type": "code",
   "execution_count": null,
   "metadata": {
    "ExecuteTime": {
     "start_time": "2021-05-15T09:08:20.086Z"
    }
   },
   "outputs": [],
   "source": [
    "# this should equal 1009 because there are 1009 NaN values\n",
    "bikes_2019['supply'].isin([0]).sum()"
   ]
  },
  {
   "cell_type": "markdown",
   "metadata": {
    "ExecuteTime": {
     "end_time": "2021-05-15T08:47:54.681695Z",
     "start_time": "2021-05-15T08:47:54.678150Z"
    }
   },
   "source": [
    "##### Group By Features"
   ]
  },
  {
   "cell_type": "markdown",
   "metadata": {},
   "source": [
    "**Note**\n",
    "\n",
    "For simplification purposes, we created a new feature with the ID Station, date and hour to facilitate a groupby function. "
   ]
  },
  {
   "cell_type": "code",
   "execution_count": null,
   "metadata": {
    "ExecuteTime": {
     "start_time": "2021-05-15T09:08:20.093Z"
    }
   },
   "outputs": [],
   "source": [
    "bikes_2019['loan_station_date_time'] = bikes_2019['Id_Aparcamiento_Origen'].astype('string') + \" \" +\\\n",
    "        bikes_2019['Fecha_Prestamo'].dt.date.astype('string') + \" \" +\\\n",
    "        bikes_2019['Fecha_Prestamo'].dt.hour.astype('string')"
   ]
  },
  {
   "cell_type": "code",
   "execution_count": null,
   "metadata": {
    "ExecuteTime": {
     "start_time": "2021-05-15T09:08:20.097Z"
    }
   },
   "outputs": [],
   "source": [
    "bikes_2019['deposit_station_date_time'] = bikes_2019['Id_Aparcamiento_Destino'].astype('string') + \" \" +\\\n",
    "        bikes_2019['Fecha_Devolucion'].dt.date.astype('string') + \" \" + \\\n",
    "        bikes_2019['Fecha_Devolucion'].dt.hour.astype('string')"
   ]
  },
  {
   "cell_type": "code",
   "execution_count": null,
   "metadata": {
    "ExecuteTime": {
     "start_time": "2021-05-15T09:08:20.101Z"
    }
   },
   "outputs": [],
   "source": [
    "bikes_2019"
   ]
  },
  {
   "cell_type": "code",
   "execution_count": null,
   "metadata": {
    "ExecuteTime": {
     "start_time": "2021-05-15T09:08:20.105Z"
    }
   },
   "outputs": [],
   "source": [
    "# we decided to create new features based on several columns that we wanted to merge together.\n",
    "# basically, our goal would be to group by station, date and time\n",
    "bikes_2019.iloc[:,-2:-1]"
   ]
  },
  {
   "cell_type": "markdown",
   "metadata": {
    "ExecuteTime": {
     "end_time": "2021-05-15T08:49:29.119124Z",
     "start_time": "2021-05-15T08:49:29.115478Z"
    }
   },
   "source": [
    "##### New DFs"
   ]
  },
  {
   "cell_type": "code",
   "execution_count": null,
   "metadata": {
    "ExecuteTime": {
     "start_time": "2021-05-15T09:08:20.109Z"
    }
   },
   "outputs": [],
   "source": [
    "demand_per_station_per_hour = bikes_2019[['demand']].groupby(bikes_2019['loan_station_date_time']).sum()\n",
    "supply_per_station_per_hour = bikes_2019[['supply']].groupby(bikes_2019['deposit_station_date_time']).sum()"
   ]
  },
  {
   "cell_type": "code",
   "execution_count": null,
   "metadata": {
    "ExecuteTime": {
     "start_time": "2021-05-15T09:08:20.113Z"
    }
   },
   "outputs": [],
   "source": [
    "demand_per_station_per_hour.reset_index(inplace=True)\n",
    "supply_per_station_per_hour.reset_index(inplace=True)"
   ]
  },
  {
   "cell_type": "code",
   "execution_count": null,
   "metadata": {
    "ExecuteTime": {
     "start_time": "2021-05-15T09:08:20.117Z"
    }
   },
   "outputs": [],
   "source": [
    "demand_per_station_per_hour\n",
    "supply_per_station_per_hour"
   ]
  },
  {
   "cell_type": "code",
   "execution_count": null,
   "metadata": {
    "ExecuteTime": {
     "start_time": "2021-05-15T09:08:20.121Z"
    }
   },
   "outputs": [],
   "source": [
    "demand_per_station_per_hour[['station','date','time']] = demand_per_station_per_hour.loan_station_date_time.str.split(\" \",expand=True)\n",
    "supply_per_station_per_hour[['station','date','time']] = supply_per_station_per_hour.deposit_station_date_time.str.split(\" \",expand=True)"
   ]
  },
  {
   "cell_type": "code",
   "execution_count": null,
   "metadata": {
    "ExecuteTime": {
     "start_time": "2021-05-15T09:08:20.126Z"
    }
   },
   "outputs": [],
   "source": [
    "demand_per_station_per_hour.head()\n",
    "supply_per_station_per_hour.head()"
   ]
  },
  {
   "cell_type": "markdown",
   "metadata": {
    "ExecuteTime": {
     "end_time": "2021-05-15T08:51:54.610639Z",
     "start_time": "2021-05-15T08:51:54.607139Z"
    }
   },
   "source": [
    "##### Cleaning New DFs"
   ]
  },
  {
   "cell_type": "code",
   "execution_count": null,
   "metadata": {
    "ExecuteTime": {
     "start_time": "2021-05-15T09:08:20.131Z"
    }
   },
   "outputs": [],
   "source": [
    "df1 = demand_per_station_per_hour.copy()\n",
    "df1"
   ]
  },
  {
   "cell_type": "code",
   "execution_count": null,
   "metadata": {
    "ExecuteTime": {
     "start_time": "2021-05-15T09:08:20.134Z"
    }
   },
   "outputs": [],
   "source": [
    "df2 = supply_per_station_per_hour.copy()\n",
    "df2"
   ]
  },
  {
   "cell_type": "code",
   "execution_count": null,
   "metadata": {
    "ExecuteTime": {
     "start_time": "2021-05-15T09:08:20.138Z"
    }
   },
   "outputs": [],
   "source": [
    "df1.dtypes , df2.dtypes"
   ]
  },
  {
   "cell_type": "code",
   "execution_count": null,
   "metadata": {
    "ExecuteTime": {
     "start_time": "2021-05-15T09:08:20.142Z"
    }
   },
   "outputs": [],
   "source": [
    "def clean_df(df, cols, index):\n",
    "    df[cols] =  df[cols].astype(float) # string to float\n",
    "    df.iloc[:,index]=  df.iloc[:,index].str.strip() #left strip\n",
    "    return df"
   ]
  },
  {
   "cell_type": "code",
   "execution_count": null,
   "metadata": {
    "ExecuteTime": {
     "start_time": "2021-05-15T09:08:20.146Z"
    }
   },
   "outputs": [],
   "source": [
    "df1_clean = clean_df(df1,['station','time'], 0)\n",
    "df2_clean = clean_df(df2,['station','time'], 0)"
   ]
  },
  {
   "cell_type": "code",
   "execution_count": null,
   "metadata": {
    "ExecuteTime": {
     "start_time": "2021-05-15T09:08:20.151Z"
    }
   },
   "outputs": [],
   "source": [
    "df1_clean, df2_clean"
   ]
  },
  {
   "cell_type": "code",
   "execution_count": null,
   "metadata": {
    "ExecuteTime": {
     "start_time": "2021-05-15T09:08:20.156Z"
    }
   },
   "outputs": [],
   "source": [
    "pattern = re.compile(r'2019.*') # a bit of regular expressions to look cool"
   ]
  },
  {
   "cell_type": "code",
   "execution_count": null,
   "metadata": {
    "ExecuteTime": {
     "start_time": "2021-05-15T09:08:20.160Z"
    }
   },
   "outputs": [],
   "source": [
    "def year_month_day_hour(x):\n",
    "    return pattern.search(x).group()"
   ]
  },
  {
   "cell_type": "code",
   "execution_count": null,
   "metadata": {
    "ExecuteTime": {
     "start_time": "2021-05-15T09:08:20.164Z"
    }
   },
   "outputs": [],
   "source": [
    "df1_clean['year_month_day_hour'] = df1_clean['loan_station_date_time'].apply(year_month_day_hour)"
   ]
  },
  {
   "cell_type": "code",
   "execution_count": null,
   "metadata": {
    "ExecuteTime": {
     "start_time": "2021-05-15T09:08:20.168Z"
    }
   },
   "outputs": [],
   "source": [
    "df2_clean['year_month_day_hour'] = df2_clean['deposit_station_date_time'].apply(year_month_day_hour)"
   ]
  },
  {
   "cell_type": "code",
   "execution_count": null,
   "metadata": {
    "ExecuteTime": {
     "start_time": "2021-05-15T09:08:20.172Z"
    }
   },
   "outputs": [],
   "source": [
    "def drop_col(df):\n",
    "    return df.iloc[:,1:]"
   ]
  },
  {
   "cell_type": "code",
   "execution_count": null,
   "metadata": {
    "ExecuteTime": {
     "start_time": "2021-05-15T09:08:20.176Z"
    }
   },
   "outputs": [],
   "source": [
    "df1_clean_drop = drop_col(df1_clean)\n",
    "df2_clean_drop = drop_col(df2_clean)"
   ]
  },
  {
   "cell_type": "code",
   "execution_count": null,
   "metadata": {
    "ExecuteTime": {
     "start_time": "2021-05-15T09:08:20.180Z"
    }
   },
   "outputs": [],
   "source": [
    "def convert_to_date(x):\n",
    "    return datetime.strptime(x, '%Y-%m-%d %H')"
   ]
  },
  {
   "cell_type": "code",
   "execution_count": null,
   "metadata": {
    "ExecuteTime": {
     "start_time": "2021-05-15T09:08:20.184Z"
    }
   },
   "outputs": [],
   "source": [
    "df1_clean_drop['year_month_day_hour'] = df1_clean_drop['year_month_day_hour'].apply(convert_to_date)\n",
    "df2_clean_drop['year_month_day_hour'] = df2_clean_drop['year_month_day_hour'].apply(convert_to_date)"
   ]
  },
  {
   "cell_type": "code",
   "execution_count": null,
   "metadata": {
    "ExecuteTime": {
     "start_time": "2021-05-15T09:08:20.188Z"
    }
   },
   "outputs": [],
   "source": [
    "df1_final = df1_clean_drop.copy()\n",
    "df2_final = df2_clean_drop.copy()"
   ]
  },
  {
   "cell_type": "code",
   "execution_count": null,
   "metadata": {
    "ExecuteTime": {
     "start_time": "2021-05-15T09:08:20.192Z"
    }
   },
   "outputs": [],
   "source": [
    "df1_final"
   ]
  },
  {
   "cell_type": "code",
   "execution_count": null,
   "metadata": {
    "ExecuteTime": {
     "start_time": "2021-05-15T09:08:20.196Z"
    }
   },
   "outputs": [],
   "source": [
    "df2_final"
   ]
  },
  {
   "cell_type": "markdown",
   "metadata": {
    "heading_collapsed": true
   },
   "source": [
    "#### Add weather information to the df"
   ]
  },
  {
   "cell_type": "markdown",
   "metadata": {
    "ExecuteTime": {
     "end_time": "2021-05-13T06:03:29.461587Z",
     "start_time": "2021-05-13T06:03:29.453981Z"
    },
    "hidden": true
   },
   "source": [
    "The historical weather information will be added for each hour of the year 2019. We will transform it into a categorical feature of ```rain``` (1) or ```no_rain``` given that the highest climate volatility in Medellin lies in the rainfall with an average temperature of 22.5°C and a variance of ±1°C."
   ]
  },
  {
   "cell_type": "markdown",
   "metadata": {
    "hidden": true
   },
   "source": [
    "The API request for weather data was pushed to the [appendix .2](#Retrieve-weather-information)"
   ]
  },
  {
   "cell_type": "code",
   "execution_count": null,
   "metadata": {
    "ExecuteTime": {
     "start_time": "2021-05-15T09:08:20.203Z"
    },
    "hidden": true
   },
   "outputs": [],
   "source": [
    "# merge weather data with df"
   ]
  },
  {
   "cell_type": "markdown",
   "metadata": {
    "heading_collapsed": true
   },
   "source": [
    "#### Add holiday information to the df"
   ]
  },
  {
   "cell_type": "markdown",
   "metadata": {
    "hidden": true
   },
   "source": [
    "Holiday seasons in Medellin (universities, see [sources](#External-links-and-resources-🔗)):<br>\n",
    "- 01.-24. January\n",
    "- 29.-31. March\n",
    "- 01.-04. April\n",
    "- 21.06.-11.07.\n",
    "- 11.-17. October\n",
    "- 06.-31. December"
   ]
  },
  {
   "cell_type": "code",
   "execution_count": null,
   "metadata": {
    "ExecuteTime": {
     "start_time": "2021-05-15T09:08:20.209Z"
    },
    "hidden": true
   },
   "outputs": [],
   "source": [
    "holidays = pd.DataFrame(index=list(range(1,7)), columns=['start', 'end'])\n",
    "holidays.loc[1] = [dt.datetime.strptime('010119','%d%m%y'),dt.datetime.strptime('250119','%d%m%y')]\n",
    "holidays.loc[2] = [dt.datetime.strptime('290319','%d%m%y'),dt.datetime.strptime('010419','%d%m%y')]\n",
    "holidays.loc[3] = [dt.datetime.strptime('010419','%d%m%y'),dt.datetime.strptime('050419','%d%m%y')]\n",
    "holidays.loc[4] = [dt.datetime.strptime('210619','%d%m%y'),dt.datetime.strptime('120719','%d%m%y')]\n",
    "holidays.loc[5] = [dt.datetime.strptime('111019','%d%m%y'),dt.datetime.strptime('181019','%d%m%y')]\n",
    "holidays.loc[6] = [dt.datetime.strptime('011219','%d%m%y'),dt.datetime.strptime('010120','%d%m%y')]\n",
    "\n",
    "bikes_19_agg['holiday'] = None\n",
    "for c, row in bikes_19_agg.iterrows():\n",
    "    for i, date in holidays.iterrows():\n",
    "#         print(row.hour_dropoff)\n",
    "        if date['start'] <= row.hour_dropoff <= date['end']:\n",
    "            bikes_19_agg.loc[c, 'holiday'] = 1\n",
    "            \n",
    "bikes_19_agg['holiday'].fillna(0, inplace=True)"
   ]
  },
  {
   "cell_type": "markdown",
   "metadata": {
    "heading_collapsed": true
   },
   "source": [
    "#### Terrain and Public transportation data"
   ]
  },
  {
   "cell_type": "markdown",
   "metadata": {
    "hidden": true
   },
   "source": [
    "Terrain and transportation data, such as bus stops are constant features and thus, do not change or influence a bike station depending on time (such as holiday or weather data).<br>\n",
    "\n",
    "We decided **_NOT_** to take the provided data for our model. "
   ]
  },
  {
   "cell_type": "markdown",
   "metadata": {
    "ExecuteTime": {
     "end_time": "2021-05-15T07:40:03.648685Z",
     "start_time": "2021-05-15T07:40:03.644616Z"
    }
   },
   "source": [
    "### Time Series"
   ]
  },
  {
   "cell_type": "markdown",
   "metadata": {
    "heading_collapsed": true
   },
   "source": [
    "#### EnCicla Business Hours"
   ]
  },
  {
   "cell_type": "markdown",
   "metadata": {
    "hidden": true
   },
   "source": [
    "A year has a total of 8,713 hours. We believed at first that in order to have a consistent time increment of one hour per row we need to pad the dataframe. However, after some review we decided to create our own frequency for EnCicla's business hours. THe reason is that if we end up with 0 demand, in other words loans taken, during or outside their business hours, this could affect the time series model. 0 demand outside of business hours is normal however, 0 demand at certain times during business hours could prove useful for our modelling."
   ]
  },
  {
   "cell_type": "code",
   "execution_count": null,
   "metadata": {
    "ExecuteTime": {
     "start_time": "2021-05-15T09:08:20.218Z"
    },
    "hidden": true
   },
   "outputs": [],
   "source": [
    "from pandas.tseries.offsets import CustomBusinessHour"
   ]
  },
  {
   "cell_type": "code",
   "execution_count": null,
   "metadata": {
    "ExecuteTime": {
     "start_time": "2021-05-15T09:08:20.222Z"
    },
    "hidden": true
   },
   "outputs": [],
   "source": [
    "# creating our own CustomBusinessHours from Monday to Friday between 5:30 until 22:00 \n",
    "# easier to set the time as 5:00 than 5:30\n",
    "# we decided not to take into account the weekend as this would be too time consuming, and does not represent the crux of the information\n",
    "encicla_bh = CustomBusinessHour(n=1, weekmask = 'Mon Tue Wed Thu Fri', start = \"05:00\", end = \"22:00\", holidays=None)"
   ]
  },
  {
   "cell_type": "code",
   "execution_count": null,
   "metadata": {
    "ExecuteTime": {
     "start_time": "2021-05-15T09:08:20.227Z"
    },
    "hidden": true
   },
   "outputs": [],
   "source": [
    "encicla_bh"
   ]
  },
  {
   "cell_type": "code",
   "execution_count": null,
   "metadata": {
    "ExecuteTime": {
     "start_time": "2021-05-15T09:08:20.231Z"
    },
    "hidden": true
   },
   "outputs": [],
   "source": [
    "hours = pd.DataFrame({'year_month_day_hour': pd.date_range(start='2019-01-01', end='2019-12-31', freq=encicla_bh)})"
   ]
  },
  {
   "cell_type": "code",
   "execution_count": null,
   "metadata": {
    "ExecuteTime": {
     "start_time": "2021-05-15T09:08:20.235Z"
    },
    "hidden": true
   },
   "outputs": [],
   "source": [
    "hours"
   ]
  },
  {
   "cell_type": "markdown",
   "metadata": {
    "ExecuteTime": {
     "end_time": "2021-05-15T08:15:22.058164Z",
     "start_time": "2021-05-15T08:15:22.054314Z"
    }
   },
   "source": [
    "#### Padding Time Series"
   ]
  },
  {
   "cell_type": "markdown",
   "metadata": {
    "heading_collapsed": true
   },
   "source": [
    "#### Split train test set for model"
   ]
  },
  {
   "cell_type": "code",
   "execution_count": null,
   "metadata": {
    "ExecuteTime": {
     "start_time": "2021-05-15T09:08:20.241Z"
    },
    "hidden": true
   },
   "outputs": [],
   "source": [
    "# take away the last couple of weeks"
   ]
  },
  {
   "cell_type": "code",
   "execution_count": null,
   "metadata": {
    "ExecuteTime": {
     "start_time": "2021-05-15T09:08:20.245Z"
    },
    "hidden": true
   },
   "outputs": [],
   "source": [
    "# bikes_19_agg"
   ]
  },
  {
   "cell_type": "code",
   "execution_count": null,
   "metadata": {
    "hidden": true
   },
   "outputs": [],
   "source": []
  },
  {
   "cell_type": "markdown",
   "metadata": {
    "heading_collapsed": true
   },
   "source": [
    "### Model 🤖"
   ]
  },
  {
   "cell_type": "markdown",
   "metadata": {
    "hidden": true
   },
   "source": [
    "#### Baseline"
   ]
  },
  {
   "cell_type": "markdown",
   "metadata": {
    "hidden": true
   },
   "source": [
    "Let's have a look at the average bike coverage for each bike station for each **hour of the day.**"
   ]
  },
  {
   "cell_type": "code",
   "execution_count": null,
   "metadata": {
    "ExecuteTime": {
     "start_time": "2021-05-15T09:08:20.255Z"
    },
    "hidden": true
   },
   "outputs": [],
   "source": [
    "bikes_19_pad.tail(3).style.set_properties(subset=['station_count'], **{'width': '50'})"
   ]
  },
  {
   "cell_type": "markdown",
   "metadata": {
    "hidden": true
   },
   "source": [
    "**Note, IMPORTANT**<br>\n",
    "While checking the bikes per station and hour we discovered that the bike logs are not sufficient enough to give an accurate count on the stations. Looking at the tail of ```bikes_19_pad``` (the end of the year) we can see an unrealistic number of bikes on each station. We assume that some of the logs are missing _OR_ bike transitions done by the company from station to station weren't recorded. Therefore it is **not possible** to give an accurate prediction of a station load balance. <br>\n",
    "\n",
    "**What can be done with the data**:<br>\n",
    "1. Show the most demanded and most supplied stations in the city.\n",
    "2. Show an hourly demand or supply prediction. This model will be unable to take overloads (station full) or under supply (station empty) into account. \n"
   ]
  },
  {
   "cell_type": "markdown",
   "metadata": {
    "hidden": true
   },
   "source": [
    "##### Most demanded and supplied stations"
   ]
  },
  {
   "cell_type": "markdown",
   "metadata": {
    "hidden": true
   },
   "source": [
    "The function in [Section 1.4.5.1](#Compute-bike-count-per-station-per-hour) computed the real addings and pullings at each station done by customers of enCicla. Now, the stations with the ```.max()``` and ```.min()``` values by the end of the year will show their inbalanced behavior."
   ]
  },
  {
   "cell_type": "code",
   "execution_count": null,
   "metadata": {
    "ExecuteTime": {
     "start_time": "2021-05-15T09:08:20.262Z"
    },
    "hidden": true
   },
   "outputs": [],
   "source": [
    "# get the last entry in the bikes df (31.12.2019)\n",
    "stations_tail = pd.DataFrame(dict(bikes_19_pad.tail(1).station_count))\n",
    "stations_tail = stations_tail.merge(unique_stations[['ID', 'Description', 'isManual']], left_index=True, right_on='ID')\n",
    "# plot the most extreme ends\n",
    "plt.figure(figsize=(15,8))\n",
    "plt.title('Stations with most undersupply and oversupply')\n",
    "x = stations_tail.sort_values(by=8712)\n",
    "clrs = ['r' if x else 'm' for x in x.head(10)['isManual']]\n",
    "plt.bar(x=x.head(10)['Description'], # filter by last hour of 2019 -> 8712\n",
    "        height=x.head(10)[8712], \n",
    "       color=clrs)\n",
    "clr = ['b' if x else 'y' for x in x.tail(10)['isManual']]\n",
    "plt.bar(x=x.tail(10)['Description'], \n",
    "        height=x.tail(10)[8712], \n",
    "       color=clr)\n",
    "# ax2 = ax1.twinx()\n",
    "# ax2 = plt.plot(x.isManual[-10:10])\n",
    "plt.xticks(rotation=90)\n",
    "plt.ylabel('Net bikes needed over the year')\n",
    "plt.show()\n",
    "print('Reds and blues are manually operated stations.')\n"
   ]
  },
  {
   "cell_type": "markdown",
   "metadata": {
    "hidden": true
   },
   "source": [
    "**Note**<br>\n",
    "- Reds and blues are manually operated stations.\n",
    "- Manual stations are overrepresented in the top 5 extreme stations."
   ]
  },
  {
   "cell_type": "markdown",
   "metadata": {
    "hidden": true
   },
   "source": [
    "##### Hourly supply and demand avg. per station"
   ]
  },
  {
   "cell_type": "markdown",
   "metadata": {
    "hidden": true
   },
   "source": [
    "Lets transform the ```bikes_19_agg``` and create a demand df and supply df which can be aggregated later on."
   ]
  },
  {
   "cell_type": "code",
   "execution_count": null,
   "metadata": {
    "ExecuteTime": {
     "start_time": "2021-05-15T09:08:20.269Z"
    },
    "hidden": true
   },
   "outputs": [],
   "source": [
    "# create picks df\n",
    "picks_dict = dict(bikes_19_pad.picks)\n",
    "hours_dict = dict(bikes_19_pad.hour)\n",
    "picks_df = pd.DataFrame(picks_dict).T\n",
    "picks_df = picks_df.rename(index=hours_dict).sort_index()\n",
    "picks_df['hour'] = picks_df.index.hour\n",
    "picks_df['holiday'] = None\n",
    "for c, row in picks_df.iterrows():\n",
    "    for i, date in holidays.iterrows():\n",
    "        if date['start'] <= c <= date['end']:\n",
    "            picks_df.loc[c, 'holiday'] = 1\n",
    "            \n",
    "picks_df['holiday'].fillna(0, inplace=True)\n",
    "\n",
    "# create drops df\n",
    "drops_dict = dict(bikes_19_pad.drops)\n",
    "hours_dict = dict(bikes_19_pad.hour)\n",
    "drops_df = pd.DataFrame(drops_dict).T\n",
    "drops_df = drops_df.rename(index=hours_dict).sort_index()\n",
    "drops_df['hour'] = drops_df.index.hour"
   ]
  },
  {
   "cell_type": "code",
   "execution_count": null,
   "metadata": {
    "ExecuteTime": {
     "start_time": "2021-05-15T09:08:20.274Z"
    },
    "hidden": true,
    "scrolled": false
   },
   "outputs": [],
   "source": [
    "# create df which only takes the 5 most popular stations\n",
    "# plot the impact of holidays in the graph\n",
    "holiday_df = picks_df.groupby(['holiday', \n",
    "                  'hour']).mean().T.sort_values(by=[(0,17)], ascending=False).head().T.unstack().T\n",
    "\n",
    "holiday_df.plot(figsize=(18,5))\n",
    "plt.grid()\n",
    "plt.title('Top 5 stations and their impact on holidays')\n",
    "plt.xlabel('(Station, hour)')\n",
    "plt.ylabel('Bikes picked up per hour')"
   ]
  },
  {
   "cell_type": "code",
   "execution_count": null,
   "metadata": {
    "ExecuteTime": {
     "start_time": "2021-05-15T09:08:20.279Z"
    },
    "hidden": true,
    "scrolled": true
   },
   "outputs": [],
   "source": [
    "print(f'Station 66 is named {unique_stations[unique_stations.ID == 66][\"Description\"].values[0]}. \\nIt is the least affectionate to holidays.')\n",
    "print(f'Station 3 is named {unique_stations[unique_stations.ID == 3][\"Description\"].values[0]}. \\nIt is the most affectionate to holidays.')\n",
    "print(f'Station 8 is named {unique_stations[unique_stations.ID == 8][\"Description\"].values[0]}. \\nIt is the most affectionate to holidays.')\n"
   ]
  },
  {
   "cell_type": "code",
   "execution_count": null,
   "metadata": {
    "ExecuteTime": {
     "start_time": "2021-05-15T09:08:20.283Z"
    },
    "hidden": true
   },
   "outputs": [],
   "source": [
    "# plot the mean supply over the day per station\n",
    "drops_df.groupby('hour').mean().T.sort_values(by=17, ascending=False).head().T.plot(figsize=(15,8))\n",
    "plt.title('Most supplied stations over the day (avg)')\n",
    "plt.ylabel('Bikes dropped off per hour')\n",
    "plt.show()"
   ]
  },
  {
   "cell_type": "markdown",
   "metadata": {
    "hidden": true
   },
   "source": [
    "#### Time series model"
   ]
  },
  {
   "cell_type": "code",
   "execution_count": null,
   "metadata": {
    "ExecuteTime": {
     "start_time": "2021-05-15T09:08:20.289Z"
    },
    "hidden": true
   },
   "outputs": [],
   "source": [
    "# create drops df\n",
    "# transform the dfs to have the time in the x-axis\n",
    "drops_df_fin = drops_df.drop(columns='hour').T\n",
    "picks_df_fin = picks_df.drop(columns='hour').T"
   ]
  },
  {
   "cell_type": "markdown",
   "metadata": {
    "hidden": true
   },
   "source": [
    "Let's first have a look at the most demanded stations ```8, 66, 7, 89, 3```."
   ]
  },
  {
   "cell_type": "code",
   "execution_count": null,
   "metadata": {
    "ExecuteTime": {
     "start_time": "2021-05-15T09:08:20.294Z"
    },
    "hidden": true
   },
   "outputs": [],
   "source": [
    "include = [8, 66, 7, 89, 3]\n",
    "drops_df_subs = drops_df_fin.loc[include]\n",
    "drops_df_subs"
   ]
  },
  {
   "cell_type": "code",
   "execution_count": null,
   "metadata": {
    "ExecuteTime": {
     "start_time": "2021-05-15T09:08:20.298Z"
    },
    "hidden": true
   },
   "outputs": [],
   "source": [
    "from statsmodels.tsa.seasonal import seasonal_decompose"
   ]
  },
  {
   "cell_type": "code",
   "execution_count": null,
   "metadata": {
    "ExecuteTime": {
     "start_time": "2021-05-15T09:08:20.302Z"
    },
    "hidden": true
   },
   "outputs": [],
   "source": [
    "# glimpse on station 8\n",
    "station = 8\n",
    "plt.figure(figsize=(17, 8))\n",
    "plt.plot(drops_df_subs.loc[station])\n",
    "plt.title(f'Demand for Station {station}')\n",
    "plt.ylabel('Demand')\n",
    "plt.xlabel('Hours')\n",
    "plt.grid(False)\n",
    "plt.show()"
   ]
  },
  {
   "cell_type": "code",
   "execution_count": null,
   "metadata": {
    "ExecuteTime": {
     "start_time": "2021-05-15T09:08:20.306Z"
    },
    "hidden": true
   },
   "outputs": [],
   "source": [
    "from sklearn.metrics import r2_score, median_absolute_error, mean_absolute_error\n",
    "from sklearn.metrics import median_absolute_error, mean_squared_error, mean_squared_log_error"
   ]
  },
  {
   "cell_type": "code",
   "execution_count": null,
   "metadata": {
    "ExecuteTime": {
     "start_time": "2021-05-15T09:08:20.311Z"
    },
    "hidden": true
   },
   "outputs": [],
   "source": [
    "#### SISTO CONTINUE with station 8\n",
    "drops_df_subs.loc[[8]]"
   ]
  },
  {
   "cell_type": "code",
   "execution_count": null,
   "metadata": {
    "hidden": true
   },
   "outputs": [],
   "source": []
  },
  {
   "cell_type": "code",
   "execution_count": null,
   "metadata": {
    "hidden": true
   },
   "outputs": [],
   "source": []
  },
  {
   "cell_type": "code",
   "execution_count": null,
   "metadata": {
    "hidden": true
   },
   "outputs": [],
   "source": []
  },
  {
   "cell_type": "markdown",
   "metadata": {
    "heading_collapsed": true,
    "id": "gSDath2nr1fq"
   },
   "source": [
    "## Conclusions 💡"
   ]
  },
  {
   "cell_type": "markdown",
   "metadata": {
    "hidden": true,
    "id": "gSDath2nr1fq"
   },
   "source": [
    "### Scalability and Impact\n",
    "Tell us how applicable and scalable your solution is if you were to implement it in a city. Identify possible limitations and measure the potential social impact of your solution."
   ]
  },
  {
   "cell_type": "markdown",
   "metadata": {
    "hidden": true,
    "id": "CGmbES9GszEv"
   },
   "source": [
    "1. Hard to compute over all years due to high computational demand\n",
    "2. Log data is inconsistent and thus doesn't give full information for balancing prediction (see [here](#Baseline))\n",
    "2. MODEL??\n",
    "3. For simpler calculations it is enough to get an average demand per station and act accordingly (no time series needed)\n"
   ]
  },
  {
   "cell_type": "markdown",
   "metadata": {
    "hidden": true,
    "id": "0XBiBOyAl2Sv"
   },
   "source": [
    "### Future Work"
   ]
  },
  {
   "cell_type": "markdown",
   "metadata": {
    "hidden": true,
    "id": "5gK3heTKl7qz"
   },
   "source": [
    "1. Get absolute station bike counts per each hour to\n",
    "    - to measure real time numbers with real time absolute data\n",
    "    - to be able to measure if a bike station is notoriously oversupplied (full) or undersupplied (empty)\n",
    "2. Compute prediciton model for each station (not only most popular ones)\n",
    "3. Push to production: \n",
    "    - get real time numbers of bikes per station\n",
    "    - predict demand over the upcoming day\n",
    "    - balance the real time numbers with the demanded bikes\n",
    "    - create a balance sheet to instruct bike operators to shift the bikes from station to station\n",
    "4. Other Models\n",
    "    - Deep Learning \n",
    "    - FB Prophet"
   ]
  },
  {
   "cell_type": "markdown",
   "metadata": {},
   "source": [
    "# Appendix 🎒"
   ]
  },
  {
   "cell_type": "markdown",
   "metadata": {
    "heading_collapsed": true
   },
   "source": [
    "## Calculate routes with HERE API"
   ]
  },
  {
   "cell_type": "code",
   "execution_count": null,
   "metadata": {
    "ExecuteTime": {
     "start_time": "2021-05-15T09:08:20.328Z"
    },
    "hidden": true
   },
   "outputs": [],
   "source": [
    "stations_df = pd.read_csv('data/station_location_with_id.csv', sep=';').drop(columns=['photo', 'webDescription'])\n"
   ]
  },
  {
   "cell_type": "code",
   "execution_count": null,
   "metadata": {
    "ExecuteTime": {
     "start_time": "2021-05-15T09:08:20.332Z"
    },
    "hidden": true
   },
   "outputs": [],
   "source": [
    "def app_coords(x):\n",
    "    x['start_coord'] = None\n",
    "    x['finish_coord'] = None\n",
    "    for c, row in x.iterrows():\n",
    "        start = float(row.start_id)\n",
    "        # basically a left join to get the coordinates per station\n",
    "        try:\n",
    "            x.at[c, 'start_coord'] = stations_coords.loc[start, 'longlat']\n",
    "        except Exception as e:\n",
    "            continue\n",
    "        stop = float(row.finish_id)\n",
    "        try:\n",
    "            x.at[c, 'finish_coord'] = stations_coords.loc[stop, 'longlat']\n",
    "        except:\n",
    "            continue\n",
    "    \n",
    "    return x"
   ]
  },
  {
   "cell_type": "code",
   "execution_count": null,
   "metadata": {
    "ExecuteTime": {
     "start_time": "2021-05-15T09:08:20.336Z"
    },
    "hidden": true
   },
   "outputs": [],
   "source": [
    "# assign coords to stations\n",
    "routes_usage_x = routes_usage.copy()\n",
    "routes_usage_x = app_coords(routes_usage_x)"
   ]
  },
  {
   "cell_type": "code",
   "execution_count": null,
   "metadata": {
    "ExecuteTime": {
     "start_time": "2021-05-15T09:08:20.340Z"
    },
    "hidden": true
   },
   "outputs": [],
   "source": [
    "# retrieve bike routes\n",
    "load_dotenv(find_dotenv())\n",
    "HERE_API = os.environ.get(\"HERE_API\")\n",
    "def here_routes(x):\n",
    "    \"\"\"\n",
    "    takes in the row of the bikes df and returns a LineString \n",
    "    of the computed bike route from start to destination\n",
    "    \"\"\"\n",
    "#     x = x.dropna(subset=['start_coord', 'finish_coord'])\n",
    "    # check if both coords are available\n",
    "    if x.start_coord and x.finish_coord:\n",
    "        base_url = 'https://route.ls.hereapi.com/routing/7.2/calculateroute.json'\n",
    "        start = f'{x.start_coord[1]},{x.start_coord[0]}' # latlon flipped to lonlat\n",
    "        stop = f'{x.finish_coord[1]},{x.finish_coord[0]}'\n",
    "        params_i = {'apiKey':HERE_API,\n",
    "                    'waypoint0':f'geo!{start}',\n",
    "                    'waypoint1':f'geo!{stop}',\n",
    "                    'mode':'shortest;bicycle;traffic:disabled'\n",
    "                   }\n",
    "        ri = requests.get(url=base_url, params=params_i)\n",
    "        lst = []\n",
    "        try:\n",
    "            for i in ri.json()['response']['route'][0]['leg'][0]['maneuver']:\n",
    "                lat = i.get('position').get('latitude')\n",
    "                long = i.get('position').get('longitude')\n",
    "                lst.append((long, lat))\n",
    "            line = LineString(lst)\n",
    "            print(line)\n",
    "            return line\n",
    "        except Exeption as e:\n",
    "            print(f'Couldn\\'t get route {start}, {stop}, Error: {e}')\n",
    "            \n",
    "# dont run if routes already retrieved\n",
    "# save all retrieved data in dict before assigning (in case it breaks)\n",
    "if 'routes_dict' not in locals():\n",
    "    routes_dict = {}\n",
    "if 'geometry' not in routes_usage_x.columns:\n",
    "    routes_usage_x['geometry'] = None\n",
    "for c, row in routes_usage_x.iterrows():\n",
    "    if not row.geometry:\n",
    "        line = here_routes(row) # run the function\n",
    "        routes_dict[c] = line\n",
    "        routes_usage_x.at[c, 'geometry'] = line\n",
    "    else:\n",
    "        print(f'satisfied with: {c}') # if route has already been retrieved\n",
    "\n",
    "routes_usage_x.to_csv('raw_data/routes_usage.csv')"
   ]
  },
  {
   "cell_type": "markdown",
   "metadata": {
    "heading_collapsed": true
   },
   "source": [
    "## Retrieve weather information"
   ]
  },
  {
   "cell_type": "code",
   "execution_count": null,
   "metadata": {
    "ExecuteTime": {
     "start_time": "2021-05-15T09:08:20.345Z"
    },
    "hidden": true
   },
   "outputs": [],
   "source": [
    "# retrieve all weather data for 2019\n",
    "req = 'http://history.openweathermap.org/data/2.5/history/city'\n",
    "start = bike_df.Fecha_Prestamo.min().value\n",
    "end = bike_df.Fecha_Devolucion.max().value\n",
    "params = {\n",
    "    'id':'3674962', # ID of medellin\n",
    "    'type':'hour',\n",
    "    'start':str(start)[:10], # unix time\n",
    "    'end':str(end)[:10],\n",
    "    'appid': OWM_API\n",
    "}\n",
    "\n",
    "r = requests.get(req, params=params)\n",
    "r.status_code"
   ]
  },
  {
   "cell_type": "markdown",
   "metadata": {
    "ExecuteTime": {
     "end_time": "2021-05-15T08:17:08.639108Z",
     "start_time": "2021-05-15T08:17:08.634812Z"
    }
   },
   "source": [
    "## Building Original Supply of Bikes per Station"
   ]
  },
  {
   "cell_type": "code",
   "execution_count": null,
   "metadata": {
    "ExecuteTime": {
     "start_time": "2021-05-15T09:08:20.351Z"
    }
   },
   "outputs": [],
   "source": [
    "url  = \"https://wdl-data.fra1.digitaloceanspaces.com/medellin/station_location_with_id.csv\""
   ]
  },
  {
   "cell_type": "code",
   "execution_count": null,
   "metadata": {
    "ExecuteTime": {
     "start_time": "2021-05-15T09:08:20.355Z"
    }
   },
   "outputs": [],
   "source": [
    "!wget https://wdl-data.fra1.digitaloceanspaces.com/medellin/station_location_with_id.csv"
   ]
  },
  {
   "cell_type": "code",
   "execution_count": null,
   "metadata": {
    "ExecuteTime": {
     "start_time": "2021-05-15T09:08:20.360Z"
    }
   },
   "outputs": [],
   "source": [
    "# filter to 2019 data => most representative year\n",
    "bikes_19 = bikes[bikes.Fecha_Devolucion.dt.year == 2019].reset_index()\n",
    "bikes_19['Id_Aparcamiento_Destino'] = bikes_19['Id_Aparcamiento_Destino'].astype(int)\n",
    "\n",
    "# split the previous data (needed for init state of bikes)\n",
    "bikes_pre = bikes[bikes.Fecha_Devolucion.dt.year < 2019].reset_index()\n",
    "bikes_pre['Id_Aparcamiento_Destino'] = bikes_pre['Id_Aparcamiento_Destino'].astype(int)\n",
    "bikes_pre = bikes_pre[['Id_Tag_Bicicleta', 'Fecha_Devolucion', 'Id_Aparcamiento_Destino']].dropna()"
   ]
  },
  {
   "cell_type": "code",
   "execution_count": null,
   "metadata": {
    "ExecuteTime": {
     "start_time": "2021-05-15T09:08:20.364Z"
    }
   },
   "outputs": [],
   "source": [
    "# get all unique stations\n",
    "unique_stations = pd.read_csv('station_location_with_id.csv', sep=';').drop(columns=['photo', 'webDescription'])"
   ]
  },
  {
   "cell_type": "code",
   "execution_count": null,
   "metadata": {
    "ExecuteTime": {
     "start_time": "2021-05-15T09:08:20.368Z"
    }
   },
   "outputs": [],
   "source": [
    "# assign df a individual hour of the year per row\n",
    "# ~30secs\n",
    "def get_hr(x):\n",
    "    time = x\n",
    "    hour = dt.datetime(time.year, time.month,time.day,time.hour)\n",
    "    return hour\n",
    "    \n",
    "bikes_19.loc[:,'hour_dropoff'] = bikes_19.Fecha_Devolucion.apply(get_hr) # get hr of dropoff\n",
    "bikes_19.loc[:,'hour_pickup'] = bikes_19.Fecha_Prestamo.apply(get_hr) # get hr of pickup\n"
   ]
  },
  {
   "cell_type": "markdown",
   "metadata": {},
   "source": [
    "**Note**<br>\n",
    "- We are slicing the bike logs in pre-2019 and 2019 data. \n",
    "- We accumulate the amount of pick-ups and drop-offs per each hour of the year 2019."
   ]
  },
  {
   "cell_type": "code",
   "execution_count": null,
   "metadata": {
    "ExecuteTime": {
     "start_time": "2021-05-15T09:08:20.373Z"
    }
   },
   "outputs": [],
   "source": [
    "# make sure df is sorted chronologically\n",
    "bikes_19 = bikes_19.sort_values(by='Fecha_Devolucion')\n",
    "\n",
    "# list all the appearing bikes and stations per individual hour of the year\n",
    "bikes_19_drops = bikes_19.copy().groupby('hour_dropoff').agg({'Id_Aparcamiento_Destino':lambda x: list(x)}) # list only the stations which had interaction moved\n",
    "bikes_19_picks = bikes_19.copy().groupby('hour_pickup').agg({'Id_Aparcamiento_Origen':lambda x: list(x)})\n",
    "bikes_19_agg = bikes_19_drops.join(bikes_19_picks) # merge on the matching hour (some bikes are picked up in a different hour)\n",
    "idx = bikes_19_agg.Id_Aparcamiento_Origen != bikes_19_agg.Id_Aparcamiento_Origen\n",
    "bikes_19_agg.loc[idx, 'Id_Aparcamiento_Origen'] = [{-99:0} for i in idx if i] # pad hours with no pickup. .fillna() doesnt work (lists are recognized as NaN)\n"
   ]
  },
  {
   "cell_type": "code",
   "execution_count": null,
   "metadata": {
    "ExecuteTime": {
     "start_time": "2021-05-15T09:08:20.378Z"
    }
   },
   "outputs": [],
   "source": [
    "# compute the init state of all bikes prior to 2019 to get a starting balance of bikes\n",
    "# we assume that the bike in its last position wasn't 'touched', thus remained in the station until the 02.01.2019\n",
    "bikes_pre = bikes_pre.sort_values(by='Fecha_Devolucion', ascending=False) # walk backwards through df to find 'last' position of each bike\n",
    "stations_init_df = bikes_pre.groupby('Id_Tag_Bicicleta').agg({'Id_Aparcamiento_Destino':'first'}) # first means last in this case\n"
   ]
  },
  {
   "cell_type": "code",
   "execution_count": null,
   "metadata": {
    "ExecuteTime": {
     "start_time": "2021-05-15T09:08:20.383Z"
    }
   },
   "outputs": [],
   "source": [
    "\n",
    "# count the bikes at the stations\n",
    "stations_init_pre = Counter({i:0 for i in unique_stations.ID}) # pad the non appearing ones from the stations df\n",
    "stations_init_pre.update(Counter(dict(stations_init_df.Id_Aparcamiento_Destino.value_counts()))) # fill up the stations"
   ]
  },
  {
   "cell_type": "markdown",
   "metadata": {},
   "source": [
    "**Note**<br>\n",
    "We are calculating the amount of bikes by the _END_ of each hour. Therefore we need to follow each individual movement of the hour of 2019. \n",
    "\n",
    "In the first iteration we will add all the ```bikes_19_drops``` per station and hour. In the second iteration we will subtract all ```bikes_19_picks``` which were picked up at its hour (some bikes are picked up at another hour then dropped off).\n",
    "\n",
    "**Example**:"
   ]
  },
  {
   "cell_type": "code",
   "execution_count": null,
   "metadata": {
    "ExecuteTime": {
     "start_time": "2021-05-15T09:08:20.388Z"
    }
   },
   "outputs": [],
   "source": [
    "ex = bikes_19.loc[[1635]]\n",
    "print(f'''\n",
    "        Bike {ex.Id_Tag_Bicicleta.values[0]} was dropped off in the hour {ex.Fecha_Devolucion.dt.hour.values[0]} \n",
    "        of day {ex.Fecha_Devolucion.dt.strftime('%d/%m/%Y').values[0]}. Station {ex.Id_Aparcamiento_Destino.values[0]} will have \n",
    "        +1 bike and {ex.Id_Aparcamiento_Origen.values[0]} will be counted -1 bike in the second iteration.''')\n",
    "      \n",
    "ex\n"
   ]
  },
  {
   "cell_type": "code",
   "execution_count": null,
   "metadata": {
    "ExecuteTime": {
     "start_time": "2021-05-15T09:08:20.393Z"
    }
   },
   "outputs": [],
   "source": [
    "\n",
    "# Only run once, the .update method will always add +1 bike per iteration\n",
    "# reset bikes_19_drops otherwise\n",
    "bikes_19_agg['drops'] = None\n",
    "bikes_19_agg['picks'] = None\n",
    "bikes_19_agg['station_count'] = None\n",
    "\n",
    "for c, row in bikes_19_agg.iterrows():\n",
    "#     print(c)\n",
    "    drops = Counter(row.Id_Aparcamiento_Destino) # count all dropoffs per hour\n",
    "    picks = Counter(row.Id_Aparcamiento_Origen) # count all pickups per hour\n",
    "    stations_init_pre.update(drops) # add dropped bikes\n",
    "    stations_init_pre.subtract(picks) # subtract picked up bikes\n",
    "    bikes_19_agg.at[c, 'station_count'] = dict(stations_init_pre)\n",
    "    bikes_19_agg.at[c, 'drops'] = dict(drops)\n",
    "    bikes_19_agg.at[c, 'picks'] = dict(picks)\n",
    "    \n",
    "# move hour to columns and only leave the dict\n",
    "bikes_19_agg = bikes_19_agg.reset_index()[['hour_dropoff', 'drops', 'picks', 'station_count']]\n",
    "        \n",
    "# make dict column visible\n",
    "bikes_19_agg.head(3).style.set_properties(subset=['station_count'], **{'width': '50'})"
   ]
  },
  {
   "cell_type": "markdown",
   "metadata": {},
   "source": [
    "\n",
    "**Note**<br>\n",
    "The new data frame now displays the overall \n",
    "- ```station_drops``` and ```station_picks``` describing the balance of pick-ups and drop-offs for each station which had movement.\n",
    "- the updated ```station_count``` for each station in Medellin by the _end_ of each hour. \n",
    "\n",
    "The df ```bikes_19_agg``` has 5,375 rows displaying all hours in 2019 in which movements were recorded in the initial rental logs."
   ]
  }
 ],
 "metadata": {
  "colab": {
   "collapsed_sections": [],
   "name": "Notebook Submission Template.ipynb",
   "provenance": []
  },
  "kernelspec": {
   "display_name": "Python 3",
   "language": "python",
   "name": "python3"
  },
  "language_info": {
   "codemirror_mode": {
    "name": "ipython",
    "version": 3
   },
   "file_extension": ".py",
   "mimetype": "text/x-python",
   "name": "python",
   "nbconvert_exporter": "python",
   "pygments_lexer": "ipython3",
   "version": "3.8.6"
  },
  "toc": {
   "base_numbering": 1,
   "nav_menu": {},
   "number_sections": true,
   "sideBar": true,
   "skip_h1_title": false,
   "title_cell": "Table of Contents",
   "title_sidebar": "Contents",
   "toc_cell": false,
   "toc_position": {},
   "toc_section_display": true,
   "toc_window_display": false
  }
 },
 "nbformat": 4,
 "nbformat_minor": 1
}
