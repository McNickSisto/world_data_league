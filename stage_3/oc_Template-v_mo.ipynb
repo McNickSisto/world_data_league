{
 "cells": [
  {
   "cell_type": "markdown",
   "metadata": {
    "id": "JeP6xkRIBJco"
   },
   "source": [
    "# World Data League 2021 🚲"
   ]
  },
  {
   "cell_type": "markdown",
   "metadata": {},
   "source": [
    "**Sub:** Predicting the demand for shared bicycles in Medellín, CO<br>\n",
    "**Team:** NextEpoch"
   ]
  },
  {
   "cell_type": "markdown",
   "metadata": {
    "heading_collapsed": true,
    "id": "JeP6xkRIBJco"
   },
   "source": [
    "## Notebook Template (WDL content)"
   ]
  },
  {
   "cell_type": "markdown",
   "metadata": {
    "hidden": true,
    "id": "JeP6xkRIBJco"
   },
   "source": [
    "This notebook is one of the mandatory deliverables when you submit your solution (alongside the video pitch). Its structure follows the WDL evaluation criteria and it has dedicated cells where you can add descriptions. Make sure your code is readable as it will be the only technical support the jury will have to evaluate your work.\n",
    "The notebook must:\n",
    "*   💻 have all the code that you want the jury to evaluate\n",
    "*   🧱 follow the predefined structure\n",
    "*   📄 have markdown descriptions where you find necessary\n",
    "*   👀 be saved with all the output that you want the jury to see\n",
    "*   🏃‍♂️ be runnable"
   ]
  },
  {
   "cell_type": "markdown",
   "metadata": {
    "id": "1QNcZrkVu9xf"
   },
   "source": [
    "## External links and resources 🔗"
   ]
  },
  {
   "cell_type": "markdown",
   "metadata": {
    "id": "1QNcZrkVu9xf"
   },
   "source": [
    "All used data was acquired through the following links:"
   ]
  },
  {
   "cell_type": "markdown",
   "metadata": {},
   "source": [
    "1. Metro link: https://wdl-data.fra1.digitaloceanspaces.com/medellin/medellin_metro_stations_and_routes.zip\n",
    "2. Bike load csv: https://wdl-data.fra1.digitaloceanspaces.com/medellin/bike_loans.zip\n",
    "3. Bus routes: https://wdl-data.fra1.digitaloceanspaces.com/medellin/medellin_bus_routes.zip\n",
    "4. Weather API: https://openweathermap.org/history\n",
    "5. HERE API Route calculation: https://route.ls.hereapi.com/routing/7.2/calculateroute.json\n",
    "6. Climate of Medellin: https://en.wikipedia.org/wiki/Medell%C3%ADn#Climate"
   ]
  },
  {
   "cell_type": "markdown",
   "metadata": {
    "heading_collapsed": true,
    "id": "63ltgxp_rOpI"
   },
   "source": [
    "## Introduction 👩‍🏫"
   ]
  },
  {
   "cell_type": "markdown",
   "metadata": {
    "hidden": true,
    "id": "63ltgxp_rOpI"
   },
   "source": [
    "**Overview:**\n",
    "During this 2-week’s sprint we are working on historical bike rental data from the provider 'enCicla' in Medellin, Colombia. The company is government owned and provides over 1,600 bicycles distributed in over 101 stations in Medellin and its greater area. The bike rental is for free for everyone who is registered in the system. However, it has operating hours at which the rentals are permitted. \n",
    "\n",
    "_from challenge description_\n",
    "<blockquote>\n",
    "One of the main challenges that the system has is to keep bicycles available by the time the user approaches the station to make a loan and have anchor points available for the moment the user wants to deliver the borrowed bike.\n",
    "</blockquote>\n",
    "\n",
    "The heart of the provided **data** is a transaction log for each bike pick-up and drop-off since 2014. In total there are aprox. 14m rows in the data set. One of the main challenges is to preprocess the data and make it usable for a system balance prediction model. The data includes pre- and post covid rentals. We decided to narrow it down to a pre covid analysis. "
   ]
  },
  {
   "cell_type": "markdown",
   "metadata": {
    "hidden": true,
    "id": "Hp34gOznrwrq"
   },
   "source": []
  },
  {
   "cell_type": "markdown",
   "metadata": {
    "id": "C8rCpNajszur"
   },
   "source": [
    "## Development ⚙️"
   ]
  },
  {
   "cell_type": "markdown",
   "metadata": {
    "id": "afB4W0KnutpV"
   },
   "source": [
    "### Imports (libraries) 📚"
   ]
  },
  {
   "cell_type": "code",
   "execution_count": 320,
   "metadata": {
    "ExecuteTime": {
     "end_time": "2021-05-13T11:31:44.914576Z",
     "start_time": "2021-05-13T11:31:44.901118Z"
    },
    "id": "J4jPpcKOutZ5"
   },
   "outputs": [],
   "source": [
    "## TABULAR\n",
    "import pandas as pd \n",
    "import numpy as np\n",
    "import matplotlib\n",
    "\n",
    "## GEO\n",
    "import geopandas as gpd\n",
    "import fiona\n",
    "import folium\n",
    "from folium.plugins import MarkerCluster, HeatMap, BeautifyIcon\n",
    "from folium.map import LayerControl, Layer, FeatureGroup\n",
    "from folium.vector_layers import Circle, CircleMarker\n",
    "from shapely.geometry import LineString, Point\n",
    "from shapely import wkt\n",
    "\n",
    "\n",
    "## DATA\n",
    "import os\n",
    "import zipfile\n",
    "from collections import Counter\n",
    "import re\n",
    "from datetime import datetime\n",
    "import requests\n",
    "from dotenv import load_dotenv, find_dotenv\n",
    "import ast\n",
    "import datetime as dt\n",
    "\n",
    "## VIS\n",
    "from ipywidgets import interact, interactive, fixed, interact_manual, IntSlider\n",
    "import seaborn as sns\n",
    "import matplotlib.pyplot as plt\n",
    "import statsmodels.tsa\n",
    "import branca"
   ]
  },
  {
   "cell_type": "markdown",
   "metadata": {
    "heading_collapsed": true
   },
   "source": [
    "### Data Extraction 🏗"
   ]
  },
  {
   "cell_type": "markdown",
   "metadata": {
    "hidden": true
   },
   "source": [
    "The provided data comes in different types of file extensions.  <br> \n",
    "Some of the files are **very big** and for this reason is easier to call them just when we need them. <br>\n",
    "For this reason we are going to create a class that will be able to read and extract the data, already operating the first **cleaning** steps."
   ]
  },
  {
   "cell_type": "code",
   "execution_count": 2,
   "metadata": {
    "ExecuteTime": {
     "end_time": "2021-05-13T05:58:03.155215Z",
     "start_time": "2021-05-13T05:58:03.147971Z"
    },
    "hidden": true
   },
   "outputs": [],
   "source": [
    "gpd.io.file.fiona.drvsupport.supported_drivers['KML'] = 'rw' # necessary for kml files\n",
    "class Databases:\n",
    "    def __init__(self, csv, anva, smm, metro): # pass the file names stored in 'raw_data/'\n",
    "        self.csv = csv\n",
    "        self.anva = anva \n",
    "        self.smm = smm\n",
    "        self.metro = metro\n",
    "\n",
    "    def extract_csv(self):\n",
    "        # bike rental logs\n",
    "        file = pd.read_csv(f'data/bike_loans/{self.csv}', sep=';').drop(columns=['Importe', \n",
    "                                                                        'DescripcionImporte', \n",
    "                                                                        'operario']) # drop irrelevant columns\n",
    "        file['Fecha_Prestamo'] = pd.to_datetime(file['Fecha_Prestamo'])\n",
    "        file['Fecha_Devolucion'] = pd.to_datetime(file['Fecha_Devolucion'])\n",
    "        return file\n",
    "        \n",
    "    \n",
    "    def extract_anva(self):\n",
    "        # regional bus routes\n",
    "        bus_routes_AMVA = gpd.GeoDataFrame()\n",
    "        for root, dirs, files in os.walk(f'data/bus_routes/medellin_bus_routes/{self.anva}'):\n",
    "            for file in files:\n",
    "                path = os.path.join(root, file)\n",
    "                df = gpd.read_file(path, driver='KML')\n",
    "                bus_routes_AMVA = gpd.GeoDataFrame(pd.concat([bus_routes_AMVA, df], ignore_index=True))\n",
    "        return bus_routes_AMVA\n",
    "    \n",
    "    def extract_smm(self):\n",
    "        # municipal bus routes medellin\n",
    "        smm_bus_routes = gpd.GeoDataFrame()\n",
    "        for root, dirs, files in os.walk(f'data/bus_routes/medellin_bus_routes/{self.smm}'):\n",
    "            for file in files:\n",
    "                path = os.path.join(root, file)\n",
    "                df = gpd.read_file(path, driver='KML')\n",
    "                smm_bus_routes = gpd.GeoDataFrame(pd.concat([smm_bus_routes, df], ignore_index=True))\n",
    "        return smm_bus_routes\n",
    "    \n",
    "    def extract_metro(self):\n",
    "        # metro routes\n",
    "        metro_routes = gpd.GeoDataFrame()\n",
    "        for root, dirs, files in os.walk(f'data/medellin_metro/{self.metro}'):\n",
    "            for file in files:\n",
    "                path = os.path.join(root, file)\n",
    "                print(path)\n",
    "                if path.endswith('.kmz'):\n",
    "                    kmz = zipfile.ZipFile(path, 'r')\n",
    "                    kml = kmz.open('doc.kml', 'r')\n",
    "                    df = gpd.read_file(kml, driver='KML')\n",
    "                    metro_routes = gpd.GeoDataFrame(pd.concat([metro_routes, df], ignore_index=True))\n",
    "        return metro_routes"
   ]
  },
  {
   "cell_type": "code",
   "execution_count": 3,
   "metadata": {
    "ExecuteTime": {
     "end_time": "2021-05-13T05:58:03.158476Z",
     "start_time": "2021-05-13T05:58:03.156677Z"
    },
    "hidden": true
   },
   "outputs": [],
   "source": [
    "databases = Databases('bike_loans.csv','Kml Ruta AMVA','kml Ruta SMM','medellin_metro_stations')"
   ]
  },
  {
   "cell_type": "code",
   "execution_count": 4,
   "metadata": {
    "ExecuteTime": {
     "end_time": "2021-05-13T05:58:30.898795Z",
     "start_time": "2021-05-13T05:58:03.160352Z"
    },
    "hidden": true
   },
   "outputs": [
    {
     "data": {
      "text/plain": [
       "Id_Historico_Prestamo               int64\n",
       "Id_Usuario                          int64\n",
       "Id_Tag_Bicicleta                   object\n",
       "Fecha_Prestamo             datetime64[ns]\n",
       "Fecha_Devolucion           datetime64[ns]\n",
       "Id_Aparcamiento_Origen              int64\n",
       "Posicion_Origen                     int64\n",
       "Id_Aparcamiento_Destino           float64\n",
       "Posicion_Destino                  float64\n",
       "Num_Bici_Hist                     float64\n",
       "dtype: object"
      ]
     },
     "execution_count": 4,
     "metadata": {},
     "output_type": "execute_result"
    }
   ],
   "source": [
    "bikes = databases.extract_csv() # for our preliminary analysis we only need the bike logs (no public transportation)\n",
    "bikes.dtypes"
   ]
  },
  {
   "cell_type": "markdown",
   "metadata": {},
   "source": [
    "### Preliminary Analysis 📊"
   ]
  },
  {
   "cell_type": "markdown",
   "metadata": {},
   "source": [
    "We can start our analy|sis with a general description of the dataset. <br>\n",
    "**NB**: In our dataset we are dealing with all categorical features or timeseries: there is no need to run ```describe()``` "
   ]
  },
  {
   "cell_type": "markdown",
   "metadata": {},
   "source": [
    "#### Bike usage"
   ]
  },
  {
   "cell_type": "markdown",
   "metadata": {},
   "source": [
    "- Id_Tag_Bicicleta : column regarding unique id of each bicycle \n",
    "***let's have a look on how many times the same bike is used (how many times the unique id is present in the df)**"
   ]
  },
  {
   "cell_type": "code",
   "execution_count": 5,
   "metadata": {
    "ExecuteTime": {
     "end_time": "2021-05-13T05:58:32.296382Z",
     "start_time": "2021-05-13T05:58:30.900298Z"
    }
   },
   "outputs": [
    {
     "data": {
      "image/png": "[encoded data removed]",
      "text/plain": [
       "<Figure size 720x360 with 1 Axes>"
      ]
     },
     "metadata": {
      "needs_background": "light"
     },
     "output_type": "display_data"
    }
   ],
   "source": [
    "# plot the usage of unique bikes and its distribution\n",
    "plt.figure(figsize=(10,5))\n",
    "plt.title('Bike usage distribution', size=20)\n",
    "counts = bikes.Id_Tag_Bicicleta.value_counts()[::66]\n",
    "y_pos = np.arange(len(counts))\n",
    "plt.bar(y_pos, counts)\n",
    "plt.xlabel('Bikes available in %', size=15)\n",
    "# plt.text(x=22, y=6000, s=f'Cutoff: 20% of highest usage', size='x-large')\n",
    "plt.axvline(16, color='r', linestyle='--')\n",
    "\n",
    "plt.show()"
   ]
  },
  {
   "cell_type": "markdown",
   "metadata": {},
   "source": [
    "**Note**<br>\n",
    "There is a strong elbow visible between the 10th and 20th percentile. This could either derive from a highly rising bike usage over the years and thus, underrepresented usage for depreciated bikes. It could also mean that some bikes are significantly standing around too much because they are put to the wrong stations at wrong times and therefore not used enough. "
   ]
  },
  {
   "cell_type": "code",
   "execution_count": 6,
   "metadata": {
    "ExecuteTime": {
     "end_time": "2021-05-13T05:58:32.925454Z",
     "start_time": "2021-05-13T05:58:32.297391Z"
    }
   },
   "outputs": [
    {
     "name": "stdout",
     "output_type": "stream",
     "text": [
      "In total we have 6698 unique bikes over all recorded time\n"
     ]
    }
   ],
   "source": [
    "print(f'In total we have {len(bikes.Id_Tag_Bicicleta.unique())} unique bikes over all recorded time')"
   ]
  },
  {
   "cell_type": "markdown",
   "metadata": {},
   "source": [
    "#### Rental distribution"
   ]
  },
  {
   "cell_type": "markdown",
   "metadata": {},
   "source": [
    "In our dataset we have information about the bike itself, the station of arrival and departures and the costumer. To characterized all this information we have also 2 time series: ```Fecha_Prestamo``` & ```Fecha_Devolucion``` \n",
    "\n",
    "<br>\n",
    "Thanks to these we can have an idea of the time in which the bike are more used, which routes are more popular during a certain range of time and also how the data collected has changed during the years, according maybe to the change in habits of the population. "
   ]
  },
  {
   "cell_type": "code",
   "execution_count": 7,
   "metadata": {
    "ExecuteTime": {
     "end_time": "2021-05-13T05:58:33.490092Z",
     "start_time": "2021-05-13T05:58:32.926471Z"
    }
   },
   "outputs": [
    {
     "data": {
      "text/html": [
       "<div>\n",
       "<style scoped>\n",
       "    .dataframe tbody tr th:only-of-type {\n",
       "        vertical-align: middle;\n",
       "    }\n",
       "\n",
       "    .dataframe tbody tr th {\n",
       "        vertical-align: top;\n",
       "    }\n",
       "\n",
       "    .dataframe thead th {\n",
       "        text-align: right;\n",
       "    }\n",
       "</style>\n",
       "<table border=\"1\" class=\"dataframe\">\n",
       "  <thead>\n",
       "    <tr style=\"text-align: right;\">\n",
       "      <th></th>\n",
       "      <th>Id_Historico_Prestamo</th>\n",
       "      <th>Id_Usuario</th>\n",
       "      <th>Id_Tag_Bicicleta</th>\n",
       "      <th>Fecha_Prestamo</th>\n",
       "      <th>Fecha_Devolucion</th>\n",
       "      <th>Id_Aparcamiento_Origen</th>\n",
       "      <th>Posicion_Origen</th>\n",
       "      <th>Id_Aparcamiento_Destino</th>\n",
       "      <th>Posicion_Destino</th>\n",
       "      <th>Num_Bici_Hist</th>\n",
       "      <th>hour_init</th>\n",
       "      <th>hour_end</th>\n",
       "    </tr>\n",
       "  </thead>\n",
       "  <tbody>\n",
       "    <tr>\n",
       "      <th>0</th>\n",
       "      <td>6501462</td>\n",
       "      <td>18701</td>\n",
       "      <td>000017B00743</td>\n",
       "      <td>2017-06-21 14:22:11</td>\n",
       "      <td>2017-06-21 14:38:29</td>\n",
       "      <td>8</td>\n",
       "      <td>1</td>\n",
       "      <td>43.0</td>\n",
       "      <td>1.0</td>\n",
       "      <td>929.0</td>\n",
       "      <td>14</td>\n",
       "      <td>14</td>\n",
       "    </tr>\n",
       "    <tr>\n",
       "      <th>1</th>\n",
       "      <td>6501318</td>\n",
       "      <td>41811</td>\n",
       "      <td>000017AFF83C</td>\n",
       "      <td>2017-06-21 14:07:18</td>\n",
       "      <td>2017-06-21 14:39:06</td>\n",
       "      <td>56</td>\n",
       "      <td>6</td>\n",
       "      <td>54.0</td>\n",
       "      <td>NaN</td>\n",
       "      <td>1612.0</td>\n",
       "      <td>14</td>\n",
       "      <td>14</td>\n",
       "    </tr>\n",
       "    <tr>\n",
       "      <th>2</th>\n",
       "      <td>6501489</td>\n",
       "      <td>96620</td>\n",
       "      <td>000017AFFB6F</td>\n",
       "      <td>2017-06-21 14:25:11</td>\n",
       "      <td>2017-06-21 14:39:07</td>\n",
       "      <td>36</td>\n",
       "      <td>25</td>\n",
       "      <td>9.0</td>\n",
       "      <td>13.0</td>\n",
       "      <td>1679.0</td>\n",
       "      <td>14</td>\n",
       "      <td>14</td>\n",
       "    </tr>\n",
       "    <tr>\n",
       "      <th>3</th>\n",
       "      <td>6501001</td>\n",
       "      <td>16055</td>\n",
       "      <td>0000182A3B7B</td>\n",
       "      <td>2017-06-21 13:35:52</td>\n",
       "      <td>2017-06-21 14:39:22</td>\n",
       "      <td>8</td>\n",
       "      <td>1</td>\n",
       "      <td>9.0</td>\n",
       "      <td>6.0</td>\n",
       "      <td>1076.0</td>\n",
       "      <td>13</td>\n",
       "      <td>14</td>\n",
       "    </tr>\n",
       "    <tr>\n",
       "      <th>4</th>\n",
       "      <td>6501421</td>\n",
       "      <td>6431</td>\n",
       "      <td>000017AFE810</td>\n",
       "      <td>2017-06-21 14:17:56</td>\n",
       "      <td>2017-06-21 14:39:26</td>\n",
       "      <td>56</td>\n",
       "      <td>14</td>\n",
       "      <td>54.0</td>\n",
       "      <td>NaN</td>\n",
       "      <td>1176.0</td>\n",
       "      <td>14</td>\n",
       "      <td>14</td>\n",
       "    </tr>\n",
       "  </tbody>\n",
       "</table>\n",
       "</div>"
      ],
      "text/plain": [
       "   Id_Historico_Prestamo  Id_Usuario Id_Tag_Bicicleta      Fecha_Prestamo  \\\n",
       "0                6501462       18701     000017B00743 2017-06-21 14:22:11   \n",
       "1                6501318       41811     000017AFF83C 2017-06-21 14:07:18   \n",
       "2                6501489       96620     000017AFFB6F 2017-06-21 14:25:11   \n",
       "3                6501001       16055     0000182A3B7B 2017-06-21 13:35:52   \n",
       "4                6501421        6431     000017AFE810 2017-06-21 14:17:56   \n",
       "\n",
       "     Fecha_Devolucion  Id_Aparcamiento_Origen  Posicion_Origen  \\\n",
       "0 2017-06-21 14:38:29                       8                1   \n",
       "1 2017-06-21 14:39:06                      56                6   \n",
       "2 2017-06-21 14:39:07                      36               25   \n",
       "3 2017-06-21 14:39:22                       8                1   \n",
       "4 2017-06-21 14:39:26                      56               14   \n",
       "\n",
       "   Id_Aparcamiento_Destino  Posicion_Destino  Num_Bici_Hist  hour_init  \\\n",
       "0                     43.0               1.0          929.0         14   \n",
       "1                     54.0               NaN         1612.0         14   \n",
       "2                      9.0              13.0         1679.0         14   \n",
       "3                      9.0               6.0         1076.0         13   \n",
       "4                     54.0               NaN         1176.0         14   \n",
       "\n",
       "   hour_end  \n",
       "0        14  \n",
       "1        14  \n",
       "2        14  \n",
       "3        14  \n",
       "4        14  "
      ]
     },
     "execution_count": 7,
     "metadata": {},
     "output_type": "execute_result"
    }
   ],
   "source": [
    "# Extracting just the hour: \n",
    "bikes['hour_init']= bikes['Fecha_Prestamo'].dt.hour\n",
    "bikes['hour_end']=bikes['Fecha_Devolucion'].dt.hour\n",
    "bikes.head(5)"
   ]
  },
  {
   "cell_type": "code",
   "execution_count": 8,
   "metadata": {
    "ExecuteTime": {
     "end_time": "2021-05-13T05:58:33.771178Z",
     "start_time": "2021-05-13T05:58:33.492323Z"
    }
   },
   "outputs": [
    {
     "name": "stderr",
     "output_type": "stream",
     "text": [
      "/Users/moritzgeiger/.pyenv/versions/3.8.6/envs/lewagon/lib/python3.8/site-packages/seaborn/_decorators.py:36: FutureWarning: Pass the following variables as keyword args: x, y. From version 0.12, the only valid positional argument will be `data`, and passing other arguments without an explicit keyword will result in an error or misinterpretation.\n",
      "  warnings.warn(\n"
     ]
    },
    {
     "name": "stdout",
     "output_type": "stream",
     "text": [
      "The highest usage of bikes is at 17h and 7h\n"
     ]
    },
    {
     "data": {
      "image/png": "[encoded data removed]",
      "text/plain": [
       "<Figure size 1080x576 with 1 Axes>"
      ]
     },
     "metadata": {
      "needs_background": "light"
     },
     "output_type": "display_data"
    }
   ],
   "source": [
    "# plot the mean distribution of bike rentals over the day\n",
    "plt.figure(figsize=(15,8))\n",
    "hours = pd.DataFrame(bikes.hour_init.value_counts())\n",
    "hours = hours.drop(index=[1,2,3,4,23,0]) # out of operation hours\n",
    "sns.barplot(hours.index,hours.hour_init)\n",
    "plt.title('Rental distribution over the day', size=20)\n",
    "plt.xlabel('Hours', size=15)\n",
    "plt.ylabel('Count/Hours', size=15)\n",
    "print(f'The highest usage of bikes is at 17h and 7h')"
   ]
  },
  {
   "cell_type": "markdown",
   "metadata": {},
   "source": [
    "#### Bike Routes"
   ]
  },
  {
   "cell_type": "code",
   "execution_count": 9,
   "metadata": {
    "ExecuteTime": {
     "end_time": "2021-05-13T06:02:16.913729Z",
     "start_time": "2021-05-13T05:58:33.772785Z"
    }
   },
   "outputs": [],
   "source": [
    "# create a 'routes' feature with a string <start>_<finish>\n",
    "bikes = bikes.dropna()\n",
    "bikes['routes'] = bikes.apply(lambda x: f'{x.Id_Aparcamiento_Origen}_{int(x.Id_Aparcamiento_Destino)}', axis=1)"
   ]
  },
  {
   "cell_type": "markdown",
   "metadata": {},
   "source": [
    "- We can now try to understand the routes depending on the our of the day.\n",
    "- During all the analysis we will focus on the hours as main indicator as our target regard the best distribution of bikes **xhour**"
   ]
  },
  {
   "cell_type": "code",
   "execution_count": 10,
   "metadata": {
    "ExecuteTime": {
     "end_time": "2021-05-13T06:02:19.206402Z",
     "start_time": "2021-05-13T06:02:16.915838Z"
    }
   },
   "outputs": [],
   "source": [
    "# grouping by hour\n",
    "bikes['hour'] = bikes.Fecha_Prestamo.dt.hour\n",
    "agg = {'Id_Aparcamiento_Origen':'count', \n",
    "      'routes': lambda x: list(x)}\n",
    "routes_by_hr = bikes.groupby('hour').agg(agg).rename(columns={'Id_Aparcamiento_Origen':'count_rentals'})"
   ]
  },
  {
   "cell_type": "code",
   "execution_count": 11,
   "metadata": {
    "ExecuteTime": {
     "end_time": "2021-05-13T06:02:20.605452Z",
     "start_time": "2021-05-13T06:02:19.207434Z"
    }
   },
   "outputs": [],
   "source": [
    "# count the amount of occuring routes per hour (counting the ocurrences in the lists)\n",
    "routes_dict = {}\n",
    "for c, row in routes_by_hr.iterrows():\n",
    "    routes_dict[c] = dict(Counter(row.routes))\n",
    "\n",
    "routes_usage = pd.DataFrame.from_dict(routes_dict)"
   ]
  },
  {
   "cell_type": "code",
   "execution_count": 12,
   "metadata": {
    "ExecuteTime": {
     "end_time": "2021-05-13T06:02:22.455122Z",
     "start_time": "2021-05-13T06:02:20.606513Z"
    }
   },
   "outputs": [],
   "source": [
    "# grouping by hour\n",
    "agg = {'Id_Aparcamiento_Origen':'count', \n",
    "      'routes': lambda x: list(x)}\n",
    "routes_by_hr = bikes.groupby('hour_init').agg(agg).rename(columns={'Id_Aparcamiento_Origen':'count_rentals'})"
   ]
  },
  {
   "cell_type": "markdown",
   "metadata": {},
   "source": [
    "##### Route usage graph"
   ]
  },
  {
   "cell_type": "markdown",
   "metadata": {},
   "source": [
    "Let's see which routes were used most in which times of the day."
   ]
  },
  {
   "cell_type": "code",
   "execution_count": 13,
   "metadata": {
    "ExecuteTime": {
     "end_time": "2021-05-13T06:02:22.477797Z",
     "start_time": "2021-05-13T06:02:22.456120Z"
    }
   },
   "outputs": [],
   "source": [
    "# take the top3 routes per hour\n",
    "rank_routes = {}\n",
    "for hour in routes_usage.columns:\n",
    "    top3 = dict(routes_usage[hour].sort_values(ascending=False)[:3])\n",
    "    rank_routes[hour] = top3\n",
    "rank_routes_df = pd.DataFrame(rank_routes).T"
   ]
  },
  {
   "cell_type": "code",
   "execution_count": 14,
   "metadata": {
    "ExecuteTime": {
     "end_time": "2021-05-13T06:02:23.928266Z",
     "start_time": "2021-05-13T06:02:22.478818Z"
    },
    "scrolled": false
   },
   "outputs": [
    {
     "data": {
      "image/png": "[encoded data removed]",
      "text/plain": [
       "<Figure size 1440x720 with 1 Axes>"
      ]
     },
     "metadata": {
      "needs_background": "light"
     },
     "output_type": "display_data"
    }
   ],
   "source": [
    "rank_routes_df.loc[5:21].plot(kind='bar', figsize=(20,10), width=5, stacked=False, align='center') # only take operating hours\n",
    "plt.title('Usage of top 3 routes per hour', size=18)\n",
    "plt.xlabel('Hours', size=15)\n",
    "plt.ylabel('Count/Hours', size=15)\n",
    "plt.grid()\n",
    "plt.show()"
   ]
  },
  {
   "cell_type": "markdown",
   "metadata": {},
   "source": [
    "**Note**<br>\n",
    "- In the morning hours the route ```8_10``` is represented in high numbers followed by ```7_70```\n",
    "- In the evening hours there are more ```2_1``` and ```10_8``` rentals recorded\n",
    "- Noons and afternoons have a stable distribution of ```70_7``` (returns of the mornings)\n",
    "- Way less people go back the same way they came from (```8_10``` vs. ```10_8```)"
   ]
  },
  {
   "cell_type": "markdown",
   "metadata": {},
   "source": [
    "##### Road usage map"
   ]
  },
  {
   "cell_type": "markdown",
   "metadata": {},
   "source": [
    "The routes balance can also be visualized in a **map.**"
   ]
  },
  {
   "cell_type": "markdown",
   "metadata": {},
   "source": [
    "In order to show the routes in a more realistic way, we transformed them into routes (LineStrings) computed by the ```HERE API```. The code for this you can find here in the [appendix](#Calculate-routes-with-HERE-API)."
   ]
  },
  {
   "cell_type": "code",
   "execution_count": 15,
   "metadata": {
    "ExecuteTime": {
     "end_time": "2021-05-13T06:02:24.080547Z",
     "start_time": "2021-05-13T06:02:23.929341Z"
    }
   },
   "outputs": [],
   "source": [
    "# reload file after using HERE API\n",
    "# already contains coordinates\n",
    "routes_usage_x = pd.read_csv('data/routes_usage.csv', \n",
    "                             index_col=0, \n",
    "                             converters={'start_coord':ast.literal_eval}).dropna(subset=['geometry'])\n",
    "routes_usage_x = gpd.GeoDataFrame(routes_usage_x)\n",
    "routes_usage_x['geometry'] = routes_usage_x['geometry'].apply(wkt.loads)"
   ]
  },
  {
   "cell_type": "code",
   "execution_count": 16,
   "metadata": {
    "ExecuteTime": {
     "end_time": "2021-05-13T06:02:24.187047Z",
     "start_time": "2021-05-13T06:02:24.081584Z"
    }
   },
   "outputs": [
    {
     "data": {
      "text/plain": [
       "5720"
      ]
     },
     "execution_count": 16,
     "metadata": {},
     "output_type": "execute_result"
    }
   ],
   "source": [
    "# check for valid coords\n",
    "(routes_usage_x.geometry == routes_usage_x.geometry).sum()"
   ]
  },
  {
   "cell_type": "code",
   "execution_count": 321,
   "metadata": {
    "ExecuteTime": {
     "end_time": "2021-05-13T11:31:51.483610Z",
     "start_time": "2021-05-13T11:31:51.191211Z"
    }
   },
   "outputs": [
    {
     "name": "stdout",
     "output_type": "stream",
     "text": [
      "####################################### Density flow daily bike usage ########################################\n",
      "\n",
      "Move 'hour' bar to see the flow change\n"
     ]
    },
    {
     "data": {
      "application/vnd.jupyter.widget-view+json": {
       "model_id": "767d6b1eacfc4703bd3b42784f7deddc",
       "version_major": 2,
       "version_minor": 0
      },
      "text/plain": [
       "interactive(children=(IntSlider(value=8, description='hour', max=21, min=5), Checkbox(value=True, description=…"
      ]
     },
     "metadata": {},
     "output_type": "display_data"
    },
    {
     "data": {
      "text/plain": [
       "<function __main__.mapa(hour, show_routes, show_stations)>"
      ]
     },
     "execution_count": 321,
     "metadata": {},
     "output_type": "execute_result"
    }
   ],
   "source": [
    "# plot route density and station demand\n",
    "def mapa(hour, show_routes, show_stations):\n",
    "    hour = str(hour) # col names are read in str\n",
    "    m = folium.Map([6.25, -75.58], zoom_start=13, tiles='cartodbpositron')\n",
    "    \n",
    "    hour_df = routes_usage_x[routes_usage_x[hour] == routes_usage_x[hour]][[hour, 'start_id', 'start_coord', 'geometry']]\n",
    "    hour_df = hour_df[hour_df.geometry == hour_df.geometry].sort_values(by=hour, ascending=False)\n",
    "    hour_df = hour_df.dropna().head(100)\n",
    "    hour_df = gpd.GeoDataFrame(hour_df)\n",
    "    \n",
    "    # routes\n",
    "#     cmap = matplotlib.cm.get_cmap('BuPu')\n",
    "    cmap = branca.colormap.linear.BuPu_09.scale(0, 1)\n",
    "    routes = FeatureGroup(name='Routes', show=show_routes)\n",
    "    for c, row in hour_df.iterrows():\n",
    "        # routes\n",
    "        hexa = matplotlib.colors.to_hex(cmap(row[hour]/hour_df[hour].max()))\n",
    "        xy = row.geometry.coords.xy\n",
    "        coords = [[x[i] for x in [xy[1], xy[0]]] for i in range(len(xy[0]))]\n",
    "        folium.PolyLine(coords, \n",
    "                        color=hexa, \n",
    "                        weight=10, \n",
    "                        tooltip=f'Route: {c}',\n",
    "                        opacity=.3).add_to(routes)\n",
    "    \n",
    "    # circles\n",
    "    pickup_df = hour_df.groupby('start_id').agg({hour:'sum', 'start_coord':'first'})\n",
    "    cmapa = branca.colormap.linear.YlOrRd_09.scale(0, 1)\n",
    "#     cmapa = matplotlib.cm.get_cmap('YlOrRd')\n",
    "    stations = FeatureGroup(name='Stations', show=show_stations)\n",
    "    for c, row in pickup_df.iterrows():\n",
    "        size = (np.sqrt(row[hour])/19)**2\n",
    "        hexe = matplotlib.colors.to_hex(cmapa(row[hour]/hour_df[hour].max()))\n",
    "\n",
    "        CircleMarker((row.start_coord[1],row.start_coord[0]), \n",
    "                     radius=size, \n",
    "                     fill=True, \n",
    "                     tooltip=f'Station: {c}', \n",
    "                     color=hexe,\n",
    "                     weight=0,\n",
    "                     fill_opacity=.2\n",
    "                    ).add_to(stations)\n",
    "    \n",
    "    # add layer stations to m\n",
    "    cmapa.caption = 'Relative demand per station and hour of the day'\n",
    "    cmapa.add_to(m)\n",
    "    stations.add_to(m)\n",
    "    \n",
    "    # add layer routes to m\n",
    "    routes.add_to(m)\n",
    "    cmap.caption = 'Density of route usage per hour of the day'\n",
    "    cmap.add_to(m)\n",
    "    LayerControl().add_to(m)\n",
    "    return m\n",
    "title = ' Density flow daily bike usage '\n",
    "print (title.center(110, '#'))\n",
    "print('\\nMove \\'hour\\' bar to see the flow change')\n",
    "interact(mapa, hour=IntSlider(min=5, max=21, step=1, value=8), show_routes=True, show_stations=True)"
   ]
  },
  {
   "cell_type": "markdown",
   "metadata": {},
   "source": [
    "**Note**<br>\n",
    "The data for the circles of stations is beautified for better displaying purposes.\n",
    "We can clearly see what has been described in the previous [graph](#Route-usage-graph). The most popular destinations are the three campuses of universities in the city of Medellin.\n",
    "- Universidad Pontificia Bolivariana (Station: 10)\n",
    "- Universidad Nacional de Colombia (Station: 70)\n",
    "- Universidad de Antioquia (Stations: 2 & 3)\n",
    "\n",
    "The biggest demand for bikes is visible in the two Metro stations: \n",
    "- Suramericana (Station: 7)\n",
    "- Estadio (Station: 8)"
   ]
  },
  {
   "cell_type": "markdown",
   "metadata": {},
   "source": [
    "#### Rental behavior"
   ]
  },
  {
   "cell_type": "markdown",
   "metadata": {},
   "source": [
    "To understand the rental behavior it is important to look at the rental details. How are the \n",
    "- how many times were bikes returned to the **same** station?\n",
    "- how many times were bikes rented **less** than 2 mins?"
   ]
  },
  {
   "cell_type": "code",
   "execution_count": 18,
   "metadata": {
    "ExecuteTime": {
     "end_time": "2021-05-13T06:02:24.649472Z",
     "start_time": "2021-05-13T06:02:24.370457Z"
    }
   },
   "outputs": [],
   "source": [
    "bikes['timespan_min'] = (bikes.Fecha_Devolucion - bikes.Fecha_Prestamo).dt.seconds/60"
   ]
  },
  {
   "cell_type": "code",
   "execution_count": 19,
   "metadata": {
    "ExecuteTime": {
     "end_time": "2021-05-13T06:02:25.724757Z",
     "start_time": "2021-05-13T06:02:24.650479Z"
    }
   },
   "outputs": [
    {
     "data": {
      "image/png": "[encoded data removed]",
      "text/plain": [
       "<Figure size 1080x576 with 1 Axes>"
      ]
     },
     "metadata": {
      "needs_background": "light"
     },
     "output_type": "display_data"
    }
   ],
   "source": [
    "# plot the time spans of bike rentals\n",
    "bikes.timespan_min.hist(bins=1000, figsize=(15,8), edgecolor='white')\n",
    "plt.xlim(0,125)\n",
    "plt.title('Distribution of rental time in minutes', size=18)\n",
    "plt.text(50, 500000, s='Understand \"unrented\" bikes', c='r', rotation='horizontal', fontsize=20)\n",
    "plt.arrow(1, 400000, 50, 80000, color='r', width=1)\n",
    "plt.xlabel('Rental time in mins', size=15)\n",
    "plt.show()"
   ]
  },
  {
   "cell_type": "code",
   "execution_count": 20,
   "metadata": {
    "ExecuteTime": {
     "end_time": "2021-05-13T06:02:25.735958Z",
     "start_time": "2021-05-13T06:02:25.725753Z"
    }
   },
   "outputs": [],
   "source": [
    "# re split the df to see start and finish ids separately\n",
    "routes_usage['start_id'] = routes_usage.index.map(lambda x: x.split('_')[0])\n",
    "routes_usage['finish_id'] = routes_usage.index.map(lambda x: x.split('_')[1])\n",
    "routes_usage['no_move'] = routes_usage.start_id == routes_usage.finish_id # tag routes which returned to the same station"
   ]
  },
  {
   "cell_type": "code",
   "execution_count": 21,
   "metadata": {
    "ExecuteTime": {
     "end_time": "2021-05-13T06:02:26.112060Z",
     "start_time": "2021-05-13T06:02:25.737014Z"
    }
   },
   "outputs": [
    {
     "name": "stderr",
     "output_type": "stream",
     "text": [
      "/Users/moritzgeiger/.pyenv/versions/3.8.6/envs/lewagon/lib/python3.8/site-packages/seaborn/distributions.py:2557: FutureWarning: `distplot` is a deprecated function and will be removed in a future version. Please adapt your code to use either `displot` (a figure-level function with similar flexibility) or `histplot` (an axes-level function for histograms).\n",
      "  warnings.warn(msg, FutureWarning)\n",
      "/Users/moritzgeiger/.pyenv/versions/3.8.6/envs/lewagon/lib/python3.8/site-packages/seaborn/distributions.py:2557: FutureWarning: `distplot` is a deprecated function and will be removed in a future version. Please adapt your code to use either `displot` (a figure-level function with similar flexibility) or `histplot` (an axes-level function for histograms).\n",
      "  warnings.warn(msg, FutureWarning)\n"
     ]
    },
    {
     "data": {
      "image/png": "[encoded data removed]",
      "text/plain": [
       "<Figure size 1440x360 with 2 Axes>"
      ]
     },
     "metadata": {
      "needs_background": "light"
     },
     "output_type": "display_data"
    }
   ],
   "source": [
    "# how many times were bikes returned to the same station?\n",
    "# how many times were bikes rented less than 2 mins?\n",
    "plt.figure(figsize=(20,5))\n",
    "plt.subplot(1,2,1)\n",
    "sns.distplot(routes_usage.no_move, bins=2, kde=False)\n",
    "plt.title('Bikes returned to the same station')\n",
    "plt.subplot(1,2,2)\n",
    "under_2 = bikes.timespan_min < 2\n",
    "sns.distplot(under_2, bins=2, kde=False)\n",
    "plt.title('Bikes rented less than 2 mins')\n",
    "plt.show()"
   ]
  },
  {
   "cell_type": "markdown",
   "metadata": {},
   "source": [
    "**Note**<br>\n",
    "The distribution of rentals to the same station is rather small but it is of course likely for people to drop off bikes at the same station as they picked them up. That data should be kept in the data set."
   ]
  },
  {
   "cell_type": "markdown",
   "metadata": {
    "heading_collapsed": true
   },
   "source": [
    "### Pandemic analysis 😷"
   ]
  },
  {
   "cell_type": "markdown",
   "metadata": {
    "hidden": true
   },
   "source": [
    "In the last year our habits changed a lot due to the pandemic we are dealing day by day with. For this reason we cannot avoid to take this factor into account.\n",
    "\n",
    "**Let's see how our data changed before and after the spreading of the Corona Virus:**"
   ]
  },
  {
   "cell_type": "code",
   "execution_count": 22,
   "metadata": {
    "ExecuteTime": {
     "end_time": "2021-05-13T06:02:31.444694Z",
     "start_time": "2021-05-13T06:02:26.113048Z"
    },
    "hidden": true
   },
   "outputs": [],
   "source": [
    "bikes['year'] = bikes.Fecha_Prestamo.dt.year\n",
    "evolution_bikes = {}\n",
    "for year in sorted(bikes.year.unique())[::-1]:\n",
    "    df_filter = bikes[bikes.year == year]\n",
    "    df_filter_prev = bikes[bikes.year == year-1]\n",
    "    bikes_ = df_filter.Id_Tag_Bicicleta.unique()\n",
    "    bikes_prev = df_filter_prev.Id_Tag_Bicicleta.unique()\n",
    "    count_up = len([bike for bike in bikes_ if bike not in bikes_prev])\n",
    "    count_down = -len([bike for bike in bikes_prev if bike not in bikes_])\n",
    "    evolution_bikes[year] = {'loss': count_down, 'win': count_up}"
   ]
  },
  {
   "cell_type": "code",
   "execution_count": 23,
   "metadata": {
    "ExecuteTime": {
     "end_time": "2021-05-13T06:02:31.576106Z",
     "start_time": "2021-05-13T06:02:31.449454Z"
    },
    "hidden": true
   },
   "outputs": [
    {
     "data": {
      "image/png": "[encoded data removed]",
      "text/plain": [
       "<Figure size 1080x720 with 1 Axes>"
      ]
     },
     "metadata": {
      "needs_background": "light"
     },
     "output_type": "display_data"
    }
   ],
   "source": [
    "pd.DataFrame(evolution_bikes).T.sort_index().plot(kind='bar', figsize=(15,10))\n",
    "plt.grid()"
   ]
  },
  {
   "cell_type": "markdown",
   "metadata": {
    "hidden": true
   },
   "source": [
    "**Note**<br>\n",
    "we can see that a lot of bikes stopped appearing in 2021. The highest investments for new bikes have been made in 2020."
   ]
  },
  {
   "cell_type": "markdown",
   "metadata": {
    "hidden": true
   },
   "source": [
    "**What about route exploration by users**"
   ]
  },
  {
   "cell_type": "code",
   "execution_count": 24,
   "metadata": {
    "ExecuteTime": {
     "end_time": "2021-05-13T06:02:40.299421Z",
     "start_time": "2021-05-13T06:02:31.578551Z"
    },
    "hidden": true
   },
   "outputs": [],
   "source": [
    "evolution_routes = {}\n",
    "for year in sorted(bikes.year.unique())[::-1]:\n",
    "    df_filter = bikes[bikes.year == year]\n",
    "    df_filter_prev = bikes[bikes.year == year-1]\n",
    "    routes_ = df_filter.routes.unique()\n",
    "    routes_prev = df_filter_prev.routes.unique()\n",
    "    count_up = len([route for route in routes_ if route not in routes_prev])\n",
    "    count_down = -len([route for route in routes_prev if route not in routes_])\n",
    "    evolution_routes[year] = {'loss': count_down, 'win': count_up}"
   ]
  },
  {
   "cell_type": "code",
   "execution_count": 25,
   "metadata": {
    "ExecuteTime": {
     "end_time": "2021-05-13T06:02:40.446625Z",
     "start_time": "2021-05-13T06:02:40.300566Z"
    },
    "hidden": true
   },
   "outputs": [
    {
     "data": {
      "image/png": "[encoded data removed]",
      "text/plain": [
       "<Figure size 1440x720 with 1 Axes>"
      ]
     },
     "metadata": {
      "needs_background": "light"
     },
     "output_type": "display_data"
    }
   ],
   "source": [
    "pd.DataFrame(evolution_routes).T.sort_index().plot(kind='bar', figsize=(20,10))\n",
    "plt.grid()"
   ]
  },
  {
   "cell_type": "markdown",
   "metadata": {
    "hidden": true
   },
   "source": [
    "**Note**<br>\n",
    "In 2019 and 2020 a lot of new routes were explored by the bike users. This might be due to more private and recreational use of bikes during covid. \n",
    "\n",
    "**Did the total of rentals change during the years?**"
   ]
  },
  {
   "cell_type": "code",
   "execution_count": 26,
   "metadata": {
    "ExecuteTime": {
     "end_time": "2021-05-13T06:02:41.292172Z",
     "start_time": "2021-05-13T06:02:40.447660Z"
    },
    "hidden": true
   },
   "outputs": [
    {
     "data": {
      "image/png": "[encoded data removed]",
      "text/plain": [
       "<Figure size 1080x576 with 1 Axes>"
      ]
     },
     "metadata": {
      "needs_background": "light"
     },
     "output_type": "display_data"
    }
   ],
   "source": [
    "# calculate evolution of rentals\n",
    "evolution_rentals = {}\n",
    "for year in sorted(bikes.year.unique()):\n",
    "    df_filter = bikes[bikes.year == year]\n",
    "    count = df_filter.Id_Historico_Prestamo.count()\n",
    "    evolution_rentals[year] = count\n",
    "evolution_rentals_df = pd.DataFrame.from_dict(evolution_rentals, orient='index').rename(columns={0:'count'})\n",
    "evolution_rentals_df.plot(kind='bar', figsize=(15,8))\n",
    "plt.grid()\n",
    "plt.title(\"Evolution of bike rentals from 2014 to 2021\", size=16)\n",
    "plt.show()"
   ]
  },
  {
   "cell_type": "markdown",
   "metadata": {
    "hidden": true
   },
   "source": [
    "**Rentals plummet in 2020 and 2021.**\n",
    "1. we cannot run a model without taking this real world event into account\n",
    "2. we decide to split the data and work just on the pre-pandemic information to get a more normalized prediction model.\n",
    "\n",
    "**Split of dataframe**"
   ]
  },
  {
   "cell_type": "code",
   "execution_count": 27,
   "metadata": {
    "ExecuteTime": {
     "end_time": "2021-05-13T06:02:41.891067Z",
     "start_time": "2021-05-13T06:02:41.293227Z"
    },
    "hidden": true
   },
   "outputs": [],
   "source": [
    "bikes_nocov = bikes[bikes.Fecha_Devolucion <= '31/12/2019']"
   ]
  },
  {
   "cell_type": "code",
   "execution_count": 28,
   "metadata": {
    "ExecuteTime": {
     "end_time": "2021-05-13T06:02:41.895164Z",
     "start_time": "2021-05-13T06:02:41.892705Z"
    },
    "hidden": true
   },
   "outputs": [
    {
     "name": "stdout",
     "output_type": "stream",
     "text": [
      "Pre pandemic data with no nan values amounts to \n",
      "10737486 rows.\n"
     ]
    }
   ],
   "source": [
    "print(f'Pre pandemic data with no nan values amounts to \\n{bikes_nocov.shape[0]} rows.')"
   ]
  },
  {
   "cell_type": "markdown",
   "metadata": {},
   "source": [
    "### Data Preparation 🧑‍💻"
   ]
  },
  {
   "cell_type": "markdown",
   "metadata": {},
   "source": [
    "We are building a model to predict the demand of rental bicycles for each station for any time in the future in the city of Medellin, CO.<br>\n",
    "For that, we need to compute:<br>\n",
    "1. the actual amount of bikes available at each station for each hour of the year.\n",
    "2. we will add weather data for each hour of the year because we believe that weather has an impact on bike usage. \n",
    "3. We will add another categorical holiday feature to the df"
   ]
  },
  {
   "cell_type": "markdown",
   "metadata": {},
   "source": [
    "#### Compute bike count per station per hour"
   ]
  },
  {
   "cell_type": "markdown",
   "metadata": {},
   "source": [
    "Following some review, we decided to focus entirely on the data from **2019**. \n",
    "\n",
    "There are several reasons for this:\n",
    "\n",
    "1. We believe that using data at the beginning of the project might be unrepresentative of how it is currently operated (just before COVID). \n",
    "2. For dimensionality purposes, the more rows and dates we turn into time series, the great amount of data to process.\n",
    "\n",
    "**NOTE:** \n",
    "<br>\n",
    "We are focusing solely on 2019, therefore we are removing the bikes that were loaned **AND** deposited back in 2019. Therefore, bikes dropped after 31/12/2019 wouldn't be counted."
   ]
  },
  {
   "cell_type": "code",
   "execution_count": 123,
   "metadata": {
    "ExecuteTime": {
     "end_time": "2021-05-13T09:35:00.523420Z",
     "start_time": "2021-05-13T09:34:57.803190Z"
    }
   },
   "outputs": [],
   "source": [
    "# filter to 2019 data => most representative year\n",
    "bikes_19 = bikes[bikes.Fecha_Devolucion.dt.year == 2019].reset_index()\n",
    "bikes_19['Id_Aparcamiento_Destino'] = bikes_19['Id_Aparcamiento_Destino'].astype(int)\n",
    "# split the previous data (needed for init state of bikes)\n",
    "bikes_pre = bikes[bikes.Fecha_Devolucion.dt.year < 2019].reset_index()\n",
    "bikes_pre['Id_Aparcamiento_Destino'] = bikes_pre['Id_Aparcamiento_Destino'].astype(int)\n",
    "bikes_pre = bikes_pre[['Id_Tag_Bicicleta', 'Fecha_Devolucion', 'Id_Aparcamiento_Destino']].dropna()\n",
    "# get all unique stations\n",
    "unique_stations = pd.read_csv('data/station_location_with_id.csv', sep=';').drop(columns=['photo', 'webDescription'])\n"
   ]
  },
  {
   "cell_type": "code",
   "execution_count": 130,
   "metadata": {
    "ExecuteTime": {
     "end_time": "2021-05-13T09:42:34.083800Z",
     "start_time": "2021-05-13T09:42:04.379238Z"
    }
   },
   "outputs": [],
   "source": [
    "# assign df a individual hour of the year per row\n",
    "# ~30secs\n",
    "def get_hr(x):\n",
    "    time = x\n",
    "    hour = dt.datetime(time.year, time.month,time.day,time.hour)\n",
    "    return hour\n",
    "    \n",
    "bikes_19.loc[:,'hour_dropoff'] = bikes_19.Fecha_Devolucion.apply(get_hr) # get hr of dropoff\n",
    "bikes_19.loc[:,'hour_pickup'] = bikes_19.Fecha_Prestamo.apply(get_hr) # get hr of pickup"
   ]
  },
  {
   "cell_type": "code",
   "execution_count": 276,
   "metadata": {
    "ExecuteTime": {
     "end_time": "2021-05-13T10:30:01.548602Z",
     "start_time": "2021-05-13T10:29:59.410118Z"
    }
   },
   "outputs": [],
   "source": [
    "# make sure df is sorted chronologically\n",
    "bikes_19 = bikes_19.sort_values(by='Fecha_Devolucion')\n",
    "\n",
    "# list all the appearing bikes and stations per individual hour of the year\n",
    "bikes_19_drops = bikes_19.copy().groupby('hour_dropoff').agg({'Id_Aparcamiento_Destino':lambda x: list(x)}) # list only the stations which had interaction moved\n",
    "bikes_19_picks = bikes_19.copy().groupby('hour_pickup').agg({'Id_Aparcamiento_Origen':lambda x: list(x)})\n",
    "bikes_19_agg = bikes_19_drops.join(bikes_19_picks) # merge on the matching hour (some bikes are picked up in a different hour)\n",
    "idx = bikes_19_agg.Id_Aparcamiento_Origen != bikes_19_agg.Id_Aparcamiento_Origen\n",
    "bikes_19_agg.loc[idx, 'Id_Aparcamiento_Origen'] = [{-99:0} for i in idx if i] # pad hours with no pickup. .fillna() doesnt work\n",
    "\n",
    "# compute the init state of all bikes prior to 2019 to get a starting balance of bikes\n",
    "# we assume that the bike in its last position wasn't 'touched', thus remained in the station until the 02.01.2019\n",
    "bikes_pre = bikes_pre.sort_values(by='Fecha_Devolucion', ascending=False) # walk backwards through df to find 'last' position of each bike\n",
    "stations_init_df = bikes_pre.groupby('Id_Tag_Bicicleta').agg({'Id_Aparcamiento_Destino':'first'}) # first means last in this case\n",
    "\n",
    "# count the bikes at the stations\n",
    "stations_init_pre = Counter({i:0 for i in unique_stations.ID}) # pad the non appearing ones from the stations df\n",
    "stations_init_pre.update(Counter(dict(stations_init_df.Id_Aparcamiento_Destino.value_counts()))) # fill up the stations"
   ]
  },
  {
   "cell_type": "markdown",
   "metadata": {},
   "source": [
    "**Note**<br>\n",
    "We are calculating the amount of bikes by the _END_ of each hour. Therefore we need to follow each individual movement of the hour of 2019. \n",
    "\n",
    "In the first iteration we will add all the ```bikes_19_drops``` per station and hour. In the second iteration we will subtract all ```bikes_19_picks``` which were picked up at its hour (some bikes are picked up at another hour then dropped off).\n",
    "\n",
    "**Example**:"
   ]
  },
  {
   "cell_type": "code",
   "execution_count": 92,
   "metadata": {
    "ExecuteTime": {
     "end_time": "2021-05-13T09:24:54.000449Z",
     "start_time": "2021-05-13T09:24:53.971847Z"
    }
   },
   "outputs": [
    {
     "name": "stdout",
     "output_type": "stream",
     "text": [
      "\n",
      "        Bike 008492222B5E was dropped off in the hour 5 \n",
      "        of day 02/01/2019. Station 9 will have \n",
      "        +1 bike and 7 will be counted -1 bike in the second iteration.\n"
     ]
    },
    {
     "data": {
      "text/html": [
       "<div>\n",
       "<style scoped>\n",
       "    .dataframe tbody tr th:only-of-type {\n",
       "        vertical-align: middle;\n",
       "    }\n",
       "\n",
       "    .dataframe tbody tr th {\n",
       "        vertical-align: top;\n",
       "    }\n",
       "\n",
       "    .dataframe thead th {\n",
       "        text-align: right;\n",
       "    }\n",
       "</style>\n",
       "<table border=\"1\" class=\"dataframe\">\n",
       "  <thead>\n",
       "    <tr style=\"text-align: right;\">\n",
       "      <th></th>\n",
       "      <th>index</th>\n",
       "      <th>Id_Historico_Prestamo</th>\n",
       "      <th>Id_Usuario</th>\n",
       "      <th>Id_Tag_Bicicleta</th>\n",
       "      <th>Fecha_Prestamo</th>\n",
       "      <th>Fecha_Devolucion</th>\n",
       "      <th>Id_Aparcamiento_Origen</th>\n",
       "      <th>Posicion_Origen</th>\n",
       "      <th>Id_Aparcamiento_Destino</th>\n",
       "      <th>Posicion_Destino</th>\n",
       "      <th>Num_Bici_Hist</th>\n",
       "      <th>hour_init</th>\n",
       "      <th>hour_end</th>\n",
       "      <th>routes</th>\n",
       "      <th>hour</th>\n",
       "      <th>timespan_min</th>\n",
       "      <th>year</th>\n",
       "      <th>hour_dropoff</th>\n",
       "      <th>hour_pickup</th>\n",
       "    </tr>\n",
       "  </thead>\n",
       "  <tbody>\n",
       "    <tr>\n",
       "      <th>1635</th>\n",
       "      <td>7954390</td>\n",
       "      <td>10514070</td>\n",
       "      <td>21220</td>\n",
       "      <td>008492222B5E</td>\n",
       "      <td>2019-01-02 05:03:03</td>\n",
       "      <td>2019-01-02 05:11:27</td>\n",
       "      <td>7</td>\n",
       "      <td>1</td>\n",
       "      <td>9</td>\n",
       "      <td>9.0</td>\n",
       "      <td>666.0</td>\n",
       "      <td>5</td>\n",
       "      <td>5</td>\n",
       "      <td>7_9</td>\n",
       "      <td>5</td>\n",
       "      <td>8.4</td>\n",
       "      <td>2019</td>\n",
       "      <td>2019-01-02 05:00:00</td>\n",
       "      <td>2019-01-02 05:00:00</td>\n",
       "    </tr>\n",
       "  </tbody>\n",
       "</table>\n",
       "</div>"
      ],
      "text/plain": [
       "        index  Id_Historico_Prestamo  Id_Usuario Id_Tag_Bicicleta  \\\n",
       "1635  7954390               10514070       21220     008492222B5E   \n",
       "\n",
       "          Fecha_Prestamo    Fecha_Devolucion  Id_Aparcamiento_Origen  \\\n",
       "1635 2019-01-02 05:03:03 2019-01-02 05:11:27                       7   \n",
       "\n",
       "      Posicion_Origen  Id_Aparcamiento_Destino  Posicion_Destino  \\\n",
       "1635                1                        9               9.0   \n",
       "\n",
       "      Num_Bici_Hist  hour_init  hour_end routes  hour  timespan_min  year  \\\n",
       "1635          666.0          5         5    7_9     5           8.4  2019   \n",
       "\n",
       "            hour_dropoff         hour_pickup  \n",
       "1635 2019-01-02 05:00:00 2019-01-02 05:00:00  "
      ]
     },
     "execution_count": 92,
     "metadata": {},
     "output_type": "execute_result"
    }
   ],
   "source": [
    "ex = bikes_19.loc[[1635]]\n",
    "print(f'''\n",
    "        Bike {ex.Id_Tag_Bicicleta.values[0]} was dropped off in the hour {ex.Fecha_Devolucion.dt.hour.values[0]} \n",
    "        of day {ex.Fecha_Devolucion.dt.strftime('%d/%m/%Y').values[0]}. Station {ex.Id_Aparcamiento_Destino.values[0]} will have \n",
    "        +1 bike and {ex.Id_Aparcamiento_Origen.values[0]} will be counted -1 bike in the second iteration.''')\n",
    "      \n",
    "ex"
   ]
  },
  {
   "cell_type": "code",
   "execution_count": 277,
   "metadata": {
    "ExecuteTime": {
     "end_time": "2021-05-13T10:30:04.484078Z",
     "start_time": "2021-05-13T10:30:03.542631Z"
    },
    "scrolled": true
   },
   "outputs": [
    {
     "data": {
      "text/html": [
       "<style  type=\"text/css\" >\n",
       "#T_a2f54_row0_col3,#T_a2f54_row1_col3,#T_a2f54_row2_col3,#T_a2f54_row3_col3,#T_a2f54_row4_col3,#T_a2f54_row5_col3,#T_a2f54_row6_col3,#T_a2f54_row7_col3,#T_a2f54_row8_col3,#T_a2f54_row9_col3{\n",
       "            width:  50;\n",
       "        }</style><table id=\"T_a2f54_\" ><thead>    <tr>        <th class=\"blank level0\" ></th>        <th class=\"col_heading level0 col0\" >hour_dropoff</th>        <th class=\"col_heading level0 col1\" >drops</th>        <th class=\"col_heading level0 col2\" >picks</th>        <th class=\"col_heading level0 col3\" >station_count</th>    </tr></thead><tbody>\n",
       "                <tr>\n",
       "                        <th id=\"T_a2f54_level0_row0\" class=\"row_heading level0 row0\" >0</th>\n",
       "                        <td id=\"T_a2f54_row0_col0\" class=\"data row0 col0\" >2019-01-02 05:00:00</td>\n",
       "                        <td id=\"T_a2f54_row0_col1\" class=\"data row0 col1\" >{9: 4, 1: 1, 21: 1, 8: 4, 2: 3, 65: 1, 57: 1, 12: 1, 54: 3, 10: 3, 43: 1, 40: 8, 58: 1, 67: 1, 56: 3, 27: 1, 23: 2, 47: 1, 49: 1, 41: 1, 7: 2, 64: 2, 6: 1, 33: 1, 44: 1, 63: 2, 60: 1, 28: 1, 20: 1, 37: 1, 5: 1}</td>\n",
       "                        <td id=\"T_a2f54_row0_col2\" class=\"data row0 col2\" >{7: 7, 9: 7, 51: 1, 1: 12, 23: 5, 21: 2, 8: 10, 56: 5, 40: 6, 89: 2, 28: 2, 47: 1, 2: 5, 53: 4, 20: 1, 67: 3, 39: 2, 12: 8, 6: 1, 42: 1, 38: 1, 3: 2, 27: 1, 58: 1, 34: 2, 10: 2, 48: 1, 57: 1, 22: 1, 24: 1, 64: 1}</td>\n",
       "                        <td id=\"T_a2f54_row0_col3\" class=\"data row0 col3\" >{1: 158, 2: 111, 3: 77, 4: 67, 5: 53, 6: 120, 7: 199, 8: 121, 9: 37, 10: 56, 11: 58, 12: 192, 13: 29, 19: 18, 20: 26, 21: 52, 22: 33, 23: 56, 24: 46, 27: 47, 28: 16, 32: 25, 33: 16, 34: 39, 35: 17, 36: 90, 37: 22, 38: 26, 39: 101, 40: 101, 41: 56, 42: 35, 43: 30, 44: 42, 45: 20, 46: 38, 47: 32, 48: 10, 49: 22, 51: 12, 53: 41, 54: 19, 55: 44, 56: 26, 57: 45, 58: 32, 59: 13, 60: 27, 61: 8, 62: 59, 63: 27, 64: 28, 65: 23, 66: 74, 67: 94, 70: 19, 89: 62, 90: 0, 91: 0, 92: 0, 93: 0, 94: 0, 95: 0, 96: 0, 97: 0, 98: 0, 99: 0, 100: 0, 101: 0, 102: 0, 103: 0, 104: 0, 105: 0, 106: 0, 107: 0, 108: 0, 109: 0, 110: 0, 111: 0, 112: 0, 113: 0, 114: 0, 115: 0, 116: 0, 118: 0, 121: 0, 122: 0, 123: 0, 124: 0, 125: 0, 126: 0, 127: 0, 128: 0, 129: 0, 130: 0, 131: 0, 132: 0, 133: 0, 134: 0, 135: 0, 136: 0, 137: 0, 138: 0, 139: 0, 140: 0, 141: 0, 142: 0, 69: 10, 14: 4, 31: 4, 16: 1, 50: 1, 15: 1}</td>\n",
       "            </tr>\n",
       "            <tr>\n",
       "                        <th id=\"T_a2f54_level0_row1\" class=\"row_heading level0 row1\" >1</th>\n",
       "                        <td id=\"T_a2f54_row1_col0\" class=\"data row1 col0\" >2019-01-02 06:00:00</td>\n",
       "                        <td id=\"T_a2f54_row1_col1\" class=\"data row1 col1\" >{1: 4, 34: 10, 21: 8, 8: 7, 42: 3, 63: 13, 66: 19, 54: 8, 53: 1, 43: 5, 35: 2, 27: 1, 57: 13, 6: 4, 51: 2, 49: 4, 37: 1, 12: 4, 39: 6, 7: 4, 2: 7, 3: 5, 67: 9, 40: 10, 89: 3, 45: 4, 59: 6, 13: 2, 56: 9, 23: 7, 41: 5, 47: 3, 28: 7, 60: 5, 48: 3, 10: 5, 38: 2, 19: 7, 64: 6, 4: 3, 11: 3, 22: 3, 9: 5, 5: 2, 44: 2, 33: 7, 24: 5, 36: 7, 62: 3, 55: 1, 65: 1, 46: 1, 32: 1, 20: 1}</td>\n",
       "                        <td id=\"T_a2f54_row1_col2\" class=\"data row1 col2\" >{53: 4, 48: 11, 39: 7, 1: 24, 66: 16, 20: 6, 64: 9, 23: 14, 60: 4, 40: 9, 5: 3, 41: 5, 57: 4, 42: 3, 21: 12, 44: 5, 27: 7, 59: 2, 24: 2, 12: 19, 8: 21, 89: 3, 32: 1, 2: 9, 22: 7, 65: 3, 56: 12, 63: 4, 35: 1, 7: 14, 47: 3, 4: 2, 6: 6, 67: 11, 10: 2, 3: 7, 45: 4, 46: 8, 49: 5, 11: 8, 54: 2, 58: 1, 13: 5, 19: 2, 34: 6, 36: 5, 62: 3, 9: 5, 55: 1, 43: 1}</td>\n",
       "                        <td id=\"T_a2f54_row1_col3\" class=\"data row1 col3\" >{1: 138, 2: 109, 3: 75, 4: 68, 5: 52, 6: 118, 7: 189, 8: 107, 9: 37, 10: 59, 11: 53, 12: 177, 13: 26, 19: 23, 20: 21, 21: 48, 22: 29, 23: 49, 24: 49, 27: 41, 28: 23, 32: 25, 33: 23, 34: 43, 35: 18, 36: 92, 37: 23, 38: 28, 39: 100, 40: 102, 41: 56, 42: 35, 43: 34, 44: 39, 45: 20, 46: 31, 47: 32, 48: 2, 49: 21, 51: 14, 53: 38, 54: 25, 55: 44, 56: 23, 57: 54, 58: 31, 59: 17, 60: 28, 61: 8, 62: 59, 63: 36, 64: 25, 65: 21, 66: 77, 67: 92, 70: 19, 89: 62, 90: 0, 91: 0, 92: 0, 93: 0, 94: 0, 95: 0, 96: 0, 97: 0, 98: 0, 99: 0, 100: 0, 101: 0, 102: 0, 103: 0, 104: 0, 105: 0, 106: 0, 107: 0, 108: 0, 109: 0, 110: 0, 111: 0, 112: 0, 113: 0, 114: 0, 115: 0, 116: 0, 118: 0, 121: 0, 122: 0, 123: 0, 124: 0, 125: 0, 126: 0, 127: 0, 128: 0, 129: 0, 130: 0, 131: 0, 132: 0, 133: 0, 134: 0, 135: 0, 136: 0, 137: 0, 138: 0, 139: 0, 140: 0, 141: 0, 142: 0, 69: 10, 14: 4, 31: 4, 16: 1, 50: 1, 15: 1}</td>\n",
       "            </tr>\n",
       "            <tr>\n",
       "                        <th id=\"T_a2f54_level0_row2\" class=\"row_heading level0 row2\" >2</th>\n",
       "                        <td id=\"T_a2f54_row2_col0\" class=\"data row2 col0\" >2019-01-02 07:00:00</td>\n",
       "                        <td id=\"T_a2f54_row2_col1\" class=\"data row2 col1\" >{4: 6, 66: 38, 61: 1, 67: 22, 8: 16, 55: 4, 19: 18, 64: 18, 7: 19, 33: 10, 23: 15, 38: 3, 48: 7, 12: 7, 54: 10, 63: 9, 56: 15, 49: 2, 65: 4, 62: 5, 40: 8, 57: 18, 60: 4, 5: 3, 59: 3, 41: 13, 39: 8, 37: 2, 13: 3, 11: 5, 89: 8, 24: 7, 42: 7, 21: 11, 47: 17, 9: 5, 1: 3, 46: 7, 28: 7, 53: 1, 43: 7, 22: 5, 2: 4, 27: 6, 51: 1, 20: 9, 44: 7, 36: 9, 35: 2, 10: 12, 45: 2, 6: 4, 3: 4, 58: 2, 32: 2, 34: 3}</td>\n",
       "                        <td id=\"T_a2f54_row2_col2\" class=\"data row2 col2\" >{48: 10, 64: 10, 40: 4, 56: 18, 60: 3, 57: 6, 11: 10, 67: 15, 63: 5, 2: 13, 21: 9, 65: 4, 12: 24, 23: 21, 10: 10, 20: 10, 36: 3, 8: 35, 34: 6, 27: 7, 49: 4, 24: 12, 39: 5, 61: 1, 66: 10, 1: 17, 53: 2, 46: 10, 28: 8, 7: 15, 19: 3, 89: 5, 42: 5, 35: 2, 32: 5, 9: 9, 22: 5, 41: 12, 44: 4, 38: 2, 5: 7, 58: 6, 55: 4, 43: 4, 13: 11, 62: 3, 4: 8, 45: 1, 6: 8, 3: 8, 47: 7, 37: 1, 54: 3, 59: 2, 33: 1}</td>\n",
       "                        <td id=\"T_a2f54_row2_col3\" class=\"data row2 col3\" >{1: 124, 2: 100, 3: 71, 4: 66, 5: 48, 6: 114, 7: 193, 8: 88, 9: 33, 10: 61, 11: 48, 12: 160, 13: 18, 19: 38, 20: 20, 21: 50, 22: 29, 23: 43, 24: 44, 27: 40, 28: 22, 32: 22, 33: 32, 34: 40, 35: 18, 36: 98, 37: 24, 38: 29, 39: 103, 40: 106, 41: 57, 42: 37, 43: 37, 44: 42, 45: 21, 46: 28, 47: 42, 48: -1, 49: 19, 51: 15, 53: 37, 54: 32, 55: 44, 56: 20, 57: 66, 58: 27, 59: 18, 60: 29, 61: 8, 62: 61, 63: 40, 64: 33, 65: 21, 66: 105, 67: 99, 70: 19, 89: 65, 90: 0, 91: 0, 92: 0, 93: 0, 94: 0, 95: 0, 96: 0, 97: 0, 98: 0, 99: 0, 100: 0, 101: 0, 102: 0, 103: 0, 104: 0, 105: 0, 106: 0, 107: 0, 108: 0, 109: 0, 110: 0, 111: 0, 112: 0, 113: 0, 114: 0, 115: 0, 116: 0, 118: 0, 121: 0, 122: 0, 123: 0, 124: 0, 125: 0, 126: 0, 127: 0, 128: 0, 129: 0, 130: 0, 131: 0, 132: 0, 133: 0, 134: 0, 135: 0, 136: 0, 137: 0, 138: 0, 139: 0, 140: 0, 141: 0, 142: 0, 69: 10, 14: 4, 31: 4, 16: 1, 50: 1, 15: 1}</td>\n",
       "            </tr>\n",
       "            <tr>\n",
       "                        <th id=\"T_a2f54_level0_row3\" class=\"row_heading level0 row3\" >3</th>\n",
       "                        <td id=\"T_a2f54_row3_col0\" class=\"data row3 col0\" >2019-01-02 08:00:00</td>\n",
       "                        <td id=\"T_a2f54_row3_col1\" class=\"data row3 col1\" >{43: 2, 36: 14, 8: 14, 67: 20, 7: 6, 19: 5, 66: 16, 56: 11, 20: 6, 48: 1, 32: 2, 59: 6, 51: 2, 42: 4, 27: 1, 60: 7, 34: 3, 22: 4, 12: 9, 6: 3, 10: 4, 55: 6, 3: 4, 21: 7, 64: 7, 39: 8, 23: 5, 4: 3, 57: 4, 47: 3, 41: 6, 2: 3, 44: 9, 49: 3, 28: 2, 89: 9, 54: 3, 24: 4, 40: 4, 37: 2, 9: 6, 38: 3, 63: 5, 33: 1, 1: 2, 62: 4, 13: 2}</td>\n",
       "                        <td id=\"T_a2f54_row3_col2\" class=\"data row3 col2\" >{48: 4, 64: 5, 57: 1, 8: 15, 2: 10, 38: 7, 20: 2, 60: 4, 56: 9, 40: 5, 66: 8, 23: 15, 36: 7, 55: 6, 7: 13, 1: 16, 62: 3, 67: 13, 32: 4, 51: 3, 11: 5, 41: 5, 4: 6, 58: 2, 49: 6, 27: 2, 65: 4, 46: 7, 53: 1, 34: 5, 13: 3, 89: 10, 6: 5, 10: 5, 9: 6, 19: 4, 21: 10, 43: 1, 37: 2, 45: 2, 47: 6, 54: 3, 63: 3, 12: 8, 39: 2, 44: 3, 42: 3, 22: 1, 24: 5, 3: 3, 59: 1}</td>\n",
       "                        <td id=\"T_a2f54_row3_col3\" class=\"data row3 col3\" >{1: 110, 2: 93, 3: 72, 4: 63, 5: 48, 6: 112, 7: 186, 8: 87, 9: 33, 10: 60, 11: 43, 12: 161, 13: 17, 19: 39, 20: 24, 21: 47, 22: 32, 23: 33, 24: 43, 27: 39, 28: 24, 32: 20, 33: 33, 34: 38, 35: 18, 36: 105, 37: 24, 38: 25, 39: 109, 40: 105, 41: 58, 42: 38, 43: 38, 44: 48, 45: 19, 46: 21, 47: 39, 48: -4, 49: 16, 51: 14, 53: 36, 54: 32, 55: 44, 56: 22, 57: 69, 58: 25, 59: 23, 60: 32, 61: 8, 62: 62, 63: 42, 64: 35, 65: 17, 66: 113, 67: 106, 70: 19, 89: 64, 90: 0, 91: 0, 92: 0, 93: 0, 94: 0, 95: 0, 96: 0, 97: 0, 98: 0, 99: 0, 100: 0, 101: 0, 102: 0, 103: 0, 104: 0, 105: 0, 106: 0, 107: 0, 108: 0, 109: 0, 110: 0, 111: 0, 112: 0, 113: 0, 114: 0, 115: 0, 116: 0, 118: 0, 121: 0, 122: 0, 123: 0, 124: 0, 125: 0, 126: 0, 127: 0, 128: 0, 129: 0, 130: 0, 131: 0, 132: 0, 133: 0, 134: 0, 135: 0, 136: 0, 137: 0, 138: 0, 139: 0, 140: 0, 141: 0, 142: 0, 69: 10, 14: 4, 31: 4, 16: 1, 50: 1, 15: 1}</td>\n",
       "            </tr>\n",
       "            <tr>\n",
       "                        <th id=\"T_a2f54_level0_row4\" class=\"row_heading level0 row4\" >4</th>\n",
       "                        <td id=\"T_a2f54_row4_col0\" class=\"data row4 col0\" >2019-01-02 09:00:00</td>\n",
       "                        <td id=\"T_a2f54_row4_col1\" class=\"data row4 col1\" >{33: 6, 45: 3, 41: 2, 62: 8, 37: 2, 57: 4, 21: 5, 8: 20, 5: 5, 11: 3, 2: 8, 10: 4, 23: 11, 89: 17, 36: 11, 7: 6, 34: 13, 40: 4, 66: 7, 55: 6, 28: 1, 59: 3, 39: 10, 1: 4, 47: 4, 44: 9, 9: 6, 12: 11, 63: 12, 64: 4, 67: 29, 60: 5, 24: 1, 49: 3, 58: 3, 46: 3, 3: 6, 56: 5, 13: 2, 43: 5, 19: 5, 65: 2, 51: 1, 38: 3, 54: 4, 32: 1, 4: 2, 6: 2, 20: 3, 53: 1}</td>\n",
       "                        <td id=\"T_a2f54_row4_col2\" class=\"data row4 col2\" >{40: 2, 67: 21, 62: 6, 37: 2, 66: 6, 55: 3, 6: 7, 7: 11, 56: 6, 12: 20, 2: 9, 23: 17, 41: 3, 1: 18, 39: 5, 13: 6, 21: 10, 47: 3, 44: 8, 32: 1, 57: 3, 4: 3, 36: 15, 49: 8, 60: 7, 46: 4, 63: 16, 51: 2, 65: 3, 19: 4, 8: 16, 5: 3, 34: 12, 89: 5, 9: 5, 3: 9, 24: 3, 42: 4, 20: 3, 35: 2, 58: 5, 48: 2, 10: 3, 53: 3, 59: 2, 11: 1, 64: 1, 27: 2, 43: 3, 54: 3}</td>\n",
       "                        <td id=\"T_a2f54_row4_col3\" class=\"data row4 col3\" >{1: 96, 2: 92, 3: 69, 4: 62, 5: 50, 6: 107, 7: 181, 8: 91, 9: 34, 10: 61, 11: 45, 12: 152, 13: 13, 19: 40, 20: 24, 21: 42, 22: 32, 23: 27, 24: 41, 27: 37, 28: 25, 32: 20, 33: 39, 34: 39, 35: 16, 36: 101, 37: 24, 38: 28, 39: 114, 40: 107, 41: 57, 42: 34, 43: 40, 44: 49, 45: 22, 46: 20, 47: 40, 48: -6, 49: 11, 51: 13, 53: 34, 54: 33, 55: 47, 56: 21, 57: 70, 58: 23, 59: 24, 60: 30, 61: 8, 62: 64, 63: 38, 64: 38, 65: 16, 66: 114, 67: 114, 70: 19, 89: 76, 90: 0, 91: 0, 92: 0, 93: 0, 94: 0, 95: 0, 96: 0, 97: 0, 98: 0, 99: 0, 100: 0, 101: 0, 102: 0, 103: 0, 104: 0, 105: 0, 106: 0, 107: 0, 108: 0, 109: 0, 110: 0, 111: 0, 112: 0, 113: 0, 114: 0, 115: 0, 116: 0, 118: 0, 121: 0, 122: 0, 123: 0, 124: 0, 125: 0, 126: 0, 127: 0, 128: 0, 129: 0, 130: 0, 131: 0, 132: 0, 133: 0, 134: 0, 135: 0, 136: 0, 137: 0, 138: 0, 139: 0, 140: 0, 141: 0, 142: 0, 69: 10, 14: 4, 31: 4, 16: 1, 50: 1, 15: 1}</td>\n",
       "            </tr>\n",
       "            <tr>\n",
       "                        <th id=\"T_a2f54_level0_row5\" class=\"row_heading level0 row5\" >5</th>\n",
       "                        <td id=\"T_a2f54_row5_col0\" class=\"data row5 col0\" >2019-01-02 10:00:00</td>\n",
       "                        <td id=\"T_a2f54_row5_col1\" class=\"data row5 col1\" >{3: 7, 36: 18, 62: 7, 47: 1, 21: 6, 12: 12, 66: 6, 63: 9, 89: 13, 39: 9, 49: 2, 44: 7, 6: 3, 46: 4, 19: 6, 7: 12, 38: 3, 8: 13, 67: 35, 11: 4, 33: 3, 58: 5, 9: 7, 57: 5, 60: 11, 55: 3, 40: 3, 2: 6, 10: 7, 48: 2, 4: 3, 56: 10, 27: 5, 43: 9, 23: 4, 28: 5, 34: 7, 1: 4, 64: 9, 24: 9, 41: 25, 53: 4, 45: 2, 42: 1, 65: 2, 54: 6, 22: 5, 5: 2, 13: 2, 51: 3, 37: 2, 50: 1, 32: 3}</td>\n",
       "                        <td id=\"T_a2f54_row5_col2\" class=\"data row5 col2\" >{12: 23, 44: 6, 7: 18, 66: 6, 37: 3, 60: 9, 34: 6, 3: 7, 43: 4, 27: 8, 56: 20, 67: 21, 6: 3, 9: 6, 21: 9, 11: 15, 89: 13, 63: 8, 23: 15, 28: 3, 55: 4, 20: 3, 64: 8, 1: 5, 2: 15, 5: 4, 48: 3, 10: 6, 38: 4, 58: 4, 8: 17, 24: 5, 46: 5, 62: 3, 39: 8, 45: 5, 22: 3, 13: 6, 36: 13, 65: 4, 59: 2, 51: 2, 19: 4, 70: 1, 47: 1, 42: 2, 54: 2, 4: 4, 41: 5, 49: 2, 53: 2, 57: 4, 33: 1, 32: 1, 50: 1}</td>\n",
       "                        <td id=\"T_a2f54_row5_col3\" class=\"data row5 col3\" >{1: 95, 2: 83, 3: 69, 4: 61, 5: 48, 6: 107, 7: 175, 8: 87, 9: 35, 10: 62, 11: 34, 12: 141, 13: 9, 19: 42, 20: 21, 21: 39, 22: 34, 23: 16, 24: 45, 27: 34, 28: 27, 32: 22, 33: 41, 34: 40, 35: 16, 36: 106, 37: 23, 38: 27, 39: 115, 40: 110, 41: 77, 42: 33, 43: 45, 44: 50, 45: 19, 46: 19, 47: 40, 48: -7, 49: 11, 51: 14, 53: 36, 54: 37, 55: 46, 56: 11, 57: 71, 58: 24, 59: 22, 60: 32, 61: 8, 62: 68, 63: 39, 64: 39, 65: 14, 66: 114, 67: 128, 70: 18, 89: 76, 90: 0, 91: 0, 92: 0, 93: 0, 94: 0, 95: 0, 96: 0, 97: 0, 98: 0, 99: 0, 100: 0, 101: 0, 102: 0, 103: 0, 104: 0, 105: 0, 106: 0, 107: 0, 108: 0, 109: 0, 110: 0, 111: 0, 112: 0, 113: 0, 114: 0, 115: 0, 116: 0, 118: 0, 121: 0, 122: 0, 123: 0, 124: 0, 125: 0, 126: 0, 127: 0, 128: 0, 129: 0, 130: 0, 131: 0, 132: 0, 133: 0, 134: 0, 135: 0, 136: 0, 137: 0, 138: 0, 139: 0, 140: 0, 141: 0, 142: 0, 69: 10, 14: 4, 31: 4, 16: 1, 50: 1, 15: 1}</td>\n",
       "            </tr>\n",
       "            <tr>\n",
       "                        <th id=\"T_a2f54_level0_row6\" class=\"row_heading level0 row6\" >6</th>\n",
       "                        <td id=\"T_a2f54_row6_col0\" class=\"data row6 col0\" >2019-01-02 11:00:00</td>\n",
       "                        <td id=\"T_a2f54_row6_col1\" class=\"data row6 col1\" >{27: 5, 62: 2, 60: 6, 1: 8, 65: 2, 55: 6, 67: 34, 33: 3, 3: 10, 7: 13, 2: 7, 12: 14, 49: 4, 41: 13, 63: 8, 44: 16, 10: 7, 9: 5, 66: 7, 57: 4, 64: 3, 24: 5, 89: 12, 43: 5, 21: 10, 22: 6, 20: 5, 54: 4, 6: 5, 35: 3, 56: 13, 48: 6, 8: 11, 11: 10, 39: 9, 4: 4, 42: 2, 38: 4, 46: 4, 45: 6, 36: 13, 5: 2, 61: 1, 23: 4, 13: 1, 40: 1, 28: 1, 37: 2, 58: 2, 32: 2, 53: 1, 19: 1, 47: 2}</td>\n",
       "                        <td id=\"T_a2f54_row6_col2\" class=\"data row6 col2\" >{3: 10, 48: 3, 7: 12, 8: 20, 43: 6, 20: 5, 39: 8, 37: 8, 42: 4, 10: 7, 89: 16, 56: 8, 70: 1, 13: 7, 67: 33, 55: 2, 1: 8, 44: 7, 5: 4, 24: 9, 41: 8, 63: 11, 57: 4, 62: 4, 59: 6, 66: 9, 38: 6, 9: 6, 36: 7, 12: 7, 21: 9, 60: 7, 32: 8, 27: 2, 28: 2, 34: 7, 11: 4, 46: 3, 45: 3, 2: 7, 23: 6, 33: 3, 19: 3, 22: 5, 6: 4, 49: 3, 53: 2, 65: 3, 40: 2, 64: 1, 61: 1, 4: 2}</td>\n",
       "                        <td id=\"T_a2f54_row6_col3\" class=\"data row6 col3\" >{1: 95, 2: 83, 3: 69, 4: 63, 5: 46, 6: 108, 7: 176, 8: 78, 9: 34, 10: 62, 11: 40, 12: 148, 13: 3, 19: 40, 20: 21, 21: 40, 22: 35, 23: 14, 24: 41, 27: 37, 28: 26, 32: 16, 33: 41, 34: 33, 35: 19, 36: 112, 37: 17, 38: 25, 39: 116, 40: 109, 41: 82, 42: 31, 43: 44, 44: 59, 45: 22, 46: 20, 47: 42, 48: -4, 49: 12, 51: 14, 53: 35, 54: 41, 55: 50, 56: 16, 57: 71, 58: 26, 59: 16, 60: 31, 61: 8, 62: 66, 63: 36, 64: 41, 65: 13, 66: 112, 67: 129, 70: 17, 89: 72, 90: 0, 91: 0, 92: 0, 93: 0, 94: 0, 95: 0, 96: 0, 97: 0, 98: 0, 99: 0, 100: 0, 101: 0, 102: 0, 103: 0, 104: 0, 105: 0, 106: 0, 107: 0, 108: 0, 109: 0, 110: 0, 111: 0, 112: 0, 113: 0, 114: 0, 115: 0, 116: 0, 118: 0, 121: 0, 122: 0, 123: 0, 124: 0, 125: 0, 126: 0, 127: 0, 128: 0, 129: 0, 130: 0, 131: 0, 132: 0, 133: 0, 134: 0, 135: 0, 136: 0, 137: 0, 138: 0, 139: 0, 140: 0, 141: 0, 142: 0, 69: 10, 14: 4, 31: 4, 16: 1, 50: 1, 15: 1}</td>\n",
       "            </tr>\n",
       "            <tr>\n",
       "                        <th id=\"T_a2f54_level0_row7\" class=\"row_heading level0 row7\" >7</th>\n",
       "                        <td id=\"T_a2f54_row7_col0\" class=\"data row7 col0\" >2019-01-02 12:00:00</td>\n",
       "                        <td id=\"T_a2f54_row7_col1\" class=\"data row7 col1\" >{56: 8, 5: 4, 89: 18, 39: 13, 37: 3, 8: 17, 12: 11, 42: 4, 1: 12, 63: 17, 67: 29, 55: 10, 44: 13, 62: 5, 23: 4, 60: 4, 47: 2, 10: 3, 36: 8, 45: 2, 58: 3, 3: 9, 65: 8, 20: 4, 19: 4, 38: 5, 34: 7, 61: 4, 41: 11, 7: 13, 24: 6, 4: 4, 2: 11, 28: 6, 46: 4, 66: 10, 22: 7, 11: 4, 6: 8, 57: 4, 21: 11, 49: 1, 13: 3, 53: 4, 40: 4, 33: 10, 48: 1, 64: 4, 54: 3, 9: 8, 51: 2, 32: 2, 43: 3}</td>\n",
       "                        <td id=\"T_a2f54_row7_col2\" class=\"data row7 col2\" >{44: 14, 7: 19, 59: 4, 55: 5, 70: 1, 62: 6, 1: 17, 27: 5, 37: 7, 34: 9, 63: 13, 58: 3, 36: 5, 39: 12, 8: 18, 40: 3, 5: 5, 43: 2, 47: 4, 11: 7, 3: 4, 67: 34, 89: 14, 66: 15, 32: 1, 49: 5, 2: 10, 21: 10, 24: 4, 12: 16, 33: 6, 20: 6, 56: 5, 65: 4, 46: 6, 19: 6, 4: 4, 23: 8, 41: 15, 53: 5, 48: 3, 10: 6, 42: 4, 38: 7, 13: 3, 61: 2, 6: 4, 60: 5, 57: 3, 28: 2, 22: 4, 51: 1, 54: 4, 64: 2, 45: 3}</td>\n",
       "                        <td id=\"T_a2f54_row7_col3\" class=\"data row7 col3\" >{1: 90, 2: 84, 3: 74, 4: 63, 5: 45, 6: 112, 7: 170, 8: 77, 9: 42, 10: 59, 11: 37, 12: 143, 13: 3, 19: 38, 20: 19, 21: 41, 22: 38, 23: 10, 24: 43, 27: 32, 28: 30, 32: 17, 33: 45, 34: 31, 35: 19, 36: 115, 37: 13, 38: 23, 39: 117, 40: 110, 41: 78, 42: 31, 43: 45, 44: 58, 45: 21, 46: 18, 47: 40, 48: -6, 49: 8, 51: 15, 53: 34, 54: 40, 55: 55, 56: 19, 57: 72, 58: 26, 59: 12, 60: 30, 61: 10, 62: 65, 63: 40, 64: 43, 65: 17, 66: 107, 67: 124, 70: 16, 89: 76, 90: 0, 91: 0, 92: 0, 93: 0, 94: 0, 95: 0, 96: 0, 97: 0, 98: 0, 99: 0, 100: 0, 101: 0, 102: 0, 103: 0, 104: 0, 105: 0, 106: 0, 107: 0, 108: 0, 109: 0, 110: 0, 111: 0, 112: 0, 113: 0, 114: 0, 115: 0, 116: 0, 118: 0, 121: 0, 122: 0, 123: 0, 124: 0, 125: 0, 126: 0, 127: 0, 128: 0, 129: 0, 130: 0, 131: 0, 132: 0, 133: 0, 134: 0, 135: 0, 136: 0, 137: 0, 138: 0, 139: 0, 140: 0, 141: 0, 142: 0, 69: 10, 14: 4, 31: 4, 16: 1, 50: 1, 15: 1}</td>\n",
       "            </tr>\n",
       "            <tr>\n",
       "                        <th id=\"T_a2f54_level0_row8\" class=\"row_heading level0 row8\" >8</th>\n",
       "                        <td id=\"T_a2f54_row8_col0\" class=\"data row8 col0\" >2019-01-02 13:00:00</td>\n",
       "                        <td id=\"T_a2f54_row8_col1\" class=\"data row8 col1\" >{8: 14, 24: 6, 89: 15, 28: 7, 12: 13, 23: 12, 67: 25, 56: 16, 13: 3, 42: 9, 3: 6, 21: 9, 59: 4, 9: 6, 2: 12, 60: 7, 7: 8, 37: 3, 44: 12, 65: 3, 22: 4, 34: 4, 57: 5, 63: 10, 54: 10, 1: 7, 66: 12, 6: 4, 39: 9, 58: 2, 46: 11, 41: 11, 19: 9, 48: 2, 27: 3, 4: 5, 49: 9, 35: 3, 36: 8, 53: 3, 64: 9, 47: 4, 32: 4, 10: 1, 43: 3, 33: 4, 40: 7, 20: 3, 11: 2, 45: 10, 70: 1, 61: 1, 51: 1, 62: 2, 55: 3, 38: 1}</td>\n",
       "                        <td id=\"T_a2f54_row8_col2\" class=\"data row8 col2\" >{44: 9, 56: 21, 65: 3, 54: 9, 39: 9, 27: 7, 64: 8, 55: 7, 61: 3, 1: 7, 21: 7, 67: 16, 7: 14, 35: 4, 28: 2, 3: 11, 41: 14, 49: 2, 2: 9, 89: 19, 8: 21, 57: 9, 24: 3, 48: 3, 63: 13, 6: 8, 40: 6, 20: 4, 22: 2, 53: 1, 47: 4, 5: 3, 11: 3, 36: 15, 66: 9, 23: 8, 34: 11, 32: 2, 12: 8, 4: 5, 43: 3, 13: 3, 45: 8, 33: 3, 42: 4, 46: 8, 62: 3, 60: 2, 19: 2, 9: 6, 10: 3, 51: 2, 58: 2, 38: 2}</td>\n",
       "                        <td id=\"T_a2f54_row8_col3\" class=\"data row8 col3\" >{1: 90, 2: 87, 3: 69, 4: 63, 5: 42, 6: 108, 7: 164, 8: 70, 9: 42, 10: 57, 11: 36, 12: 148, 13: 3, 19: 45, 20: 18, 21: 43, 22: 40, 23: 14, 24: 46, 27: 28, 28: 35, 32: 19, 33: 46, 34: 24, 35: 18, 36: 108, 37: 16, 38: 22, 39: 117, 40: 111, 41: 75, 42: 36, 43: 45, 44: 61, 45: 23, 46: 21, 47: 40, 48: -7, 49: 15, 51: 14, 53: 36, 54: 41, 55: 51, 56: 14, 57: 68, 58: 26, 59: 16, 60: 35, 61: 8, 62: 64, 63: 37, 64: 44, 65: 17, 66: 110, 67: 133, 70: 17, 89: 72, 90: 0, 91: 0, 92: 0, 93: 0, 94: 0, 95: 0, 96: 0, 97: 0, 98: 0, 99: 0, 100: 0, 101: 0, 102: 0, 103: 0, 104: 0, 105: 0, 106: 0, 107: 0, 108: 0, 109: 0, 110: 0, 111: 0, 112: 0, 113: 0, 114: 0, 115: 0, 116: 0, 118: 0, 121: 0, 122: 0, 123: 0, 124: 0, 125: 0, 126: 0, 127: 0, 128: 0, 129: 0, 130: 0, 131: 0, 132: 0, 133: 0, 134: 0, 135: 0, 136: 0, 137: 0, 138: 0, 139: 0, 140: 0, 141: 0, 142: 0, 69: 10, 14: 4, 31: 4, 16: 1, 50: 1, 15: 1}</td>\n",
       "            </tr>\n",
       "            <tr>\n",
       "                        <th id=\"T_a2f54_level0_row9\" class=\"row_heading level0 row9\" >9</th>\n",
       "                        <td id=\"T_a2f54_row9_col0\" class=\"data row9 col0\" >2019-01-02 14:00:00</td>\n",
       "                        <td id=\"T_a2f54_row9_col1\" class=\"data row9 col1\" >{67: 33, 56: 17, 40: 12, 33: 4, 9: 4, 2: 17, 24: 2, 21: 8, 61: 2, 63: 9, 66: 13, 45: 7, 41: 14, 19: 4, 3: 7, 10: 6, 39: 9, 12: 11, 57: 5, 7: 13, 54: 3, 35: 1, 65: 4, 43: 4, 59: 4, 23: 5, 13: 3, 89: 20, 1: 8, 46: 5, 34: 2, 60: 9, 8: 17, 38: 1, 64: 4, 44: 10, 36: 5, 6: 7, 51: 1, 62: 5, 27: 1, 55: 3, 20: 1, 53: 2, 70: 2, 11: 3, 28: 1, 42: 1, 49: 1, 58: 5, 48: 4, 47: 2, 22: 3, 5: 4, 4: 3, 32: 4}</td>\n",
       "                        <td id=\"T_a2f54_row9_col2\" class=\"data row9 col2\" >{19: 12, 56: 14, 60: 7, 44: 11, 64: 5, 53: 2, 67: 20, 1: 12, 9: 4, 40: 8, 33: 4, 58: 3, 36: 7, 4: 4, 12: 15, 39: 8, 6: 5, 22: 12, 48: 2, 8: 15, 66: 22, 11: 5, 21: 7, 27: 3, 57: 6, 89: 19, 7: 11, 61: 1, 23: 5, 54: 8, 38: 7, 13: 5, 46: 6, 32: 2, 5: 7, 3: 4, 41: 9, 59: 2, 10: 9, 34: 9, 43: 1, 49: 2, 2: 14, 42: 2, 24: 3, 65: 1, 45: 4, 62: 3, 35: 3, 55: 2, 20: 1, 47: 1, 51: 1}</td>\n",
       "                        <td id=\"T_a2f54_row9_col3\" class=\"data row9 col3\" >{1: 86, 2: 90, 3: 72, 4: 62, 5: 39, 6: 110, 7: 166, 8: 72, 9: 42, 10: 54, 11: 34, 12: 144, 13: 1, 19: 37, 20: 18, 21: 44, 22: 31, 23: 14, 24: 45, 27: 26, 28: 36, 32: 21, 33: 46, 34: 17, 35: 16, 36: 106, 37: 16, 38: 16, 39: 118, 40: 115, 41: 80, 42: 35, 43: 48, 44: 60, 45: 26, 46: 20, 47: 41, 48: -5, 49: 14, 51: 14, 53: 36, 54: 36, 55: 52, 56: 17, 57: 67, 58: 28, 59: 18, 60: 37, 61: 9, 62: 66, 63: 46, 64: 43, 65: 20, 66: 101, 67: 146, 70: 19, 89: 73, 90: 0, 91: 0, 92: 0, 93: 0, 94: 0, 95: 0, 96: 0, 97: 0, 98: 0, 99: 0, 100: 0, 101: 0, 102: 0, 103: 0, 104: 0, 105: 0, 106: 0, 107: 0, 108: 0, 109: 0, 110: 0, 111: 0, 112: 0, 113: 0, 114: 0, 115: 0, 116: 0, 118: 0, 121: 0, 122: 0, 123: 0, 124: 0, 125: 0, 126: 0, 127: 0, 128: 0, 129: 0, 130: 0, 131: 0, 132: 0, 133: 0, 134: 0, 135: 0, 136: 0, 137: 0, 138: 0, 139: 0, 140: 0, 141: 0, 142: 0, 69: 10, 14: 4, 31: 4, 16: 1, 50: 1, 15: 1}</td>\n",
       "            </tr>\n",
       "    </tbody></table>"
      ],
      "text/plain": [
       "<pandas.io.formats.style.Styler at 0x2a7d28550>"
      ]
     },
     "execution_count": 277,
     "metadata": {},
     "output_type": "execute_result"
    }
   ],
   "source": [
    "# Only run once, the .update method will always add +1 bike per iteration\n",
    "# reset bikes_19_drops otherwise\n",
    "bikes_19_agg['drops'] = None\n",
    "bikes_19_agg['picks'] = None\n",
    "bikes_19_agg['station_count'] = None\n",
    "\n",
    "for c, row in bikes_19_agg.iterrows():\n",
    "#     print(c)\n",
    "    drops = Counter(row.Id_Aparcamiento_Destino) # count all dropoffs per hour\n",
    "    picks = Counter(row.Id_Aparcamiento_Origen) # count all pickups per hour\n",
    "    stations_init_pre.update(drops) # add dropped bikes\n",
    "    stations_init_pre.subtract(picks) # subtract picked up bikes\n",
    "    bikes_19_agg.at[c, 'station_count'] = dict(stations_init_pre)\n",
    "    bikes_19_agg.at[c, 'drops'] = dict(drops)\n",
    "    bikes_19_agg.at[c, 'picks'] = dict(picks)\n",
    "    \n",
    "# move hour to columns and only leave the dict\n",
    "bikes_19_agg = bikes_19_agg.reset_index()[['hour_dropoff', 'drops', 'picks', 'station_count']]\n",
    "        \n",
    "# make dict column visible\n",
    "bikes_19_agg.head(10).style.set_properties(subset=['station_count'], **{'width': '50'})"
   ]
  },
  {
   "cell_type": "markdown",
   "metadata": {},
   "source": [
    "**Note**<br>\n",
    "The new data frame now displays the overall \n",
    "- ```station_drops``` and ```station_picks``` describing the balance of pick-ups and drop-offs for each station which had movement.\n",
    "- the updated ```station_count``` for each station in Medellin by the _end_ of each hour. \n",
    "\n",
    "The df ```bikes_19_agg``` has 5,375 rows displaying all hours in 2019 in which movements were recorded in the initial rental logs."
   ]
  },
  {
   "cell_type": "markdown",
   "metadata": {},
   "source": [
    "#### Pad out of operation hours for the missing rows"
   ]
  },
  {
   "cell_type": "markdown",
   "metadata": {},
   "source": [
    "A year has a total of 8,760 hours. In order to have a consistent time increment of one hour per row we need to pad the dataframe. "
   ]
  },
  {
   "cell_type": "code",
   "execution_count": 33,
   "metadata": {
    "ExecuteTime": {
     "end_time": "2021-05-13T06:03:29.453112Z",
     "start_time": "2021-05-13T06:03:29.451718Z"
    }
   },
   "outputs": [],
   "source": [
    "# maybe wait for the weather data for each hour and do an outer join"
   ]
  },
  {
   "cell_type": "markdown",
   "metadata": {},
   "source": [
    "#### Add weather information to the df"
   ]
  },
  {
   "cell_type": "markdown",
   "metadata": {
    "ExecuteTime": {
     "end_time": "2021-05-13T06:03:29.461587Z",
     "start_time": "2021-05-13T06:03:29.453981Z"
    }
   },
   "source": [
    "The historical weather information will be added for each hour of the year 2019. We will transform it into a categorical feature of ```rain``` (1) or ```no_rain``` given that the highest climate volatility in Medellin lies in the rainfall with an average temperature of 22.5°C and a variance of ±1°C."
   ]
  },
  {
   "cell_type": "markdown",
   "metadata": {},
   "source": [
    "The API request for weather data was pushed to the [appendix .2](#Retrieve-weather-information)"
   ]
  },
  {
   "cell_type": "code",
   "execution_count": null,
   "metadata": {
    "ExecuteTime": {
     "end_time": "2021-05-13T06:03:29.462621Z",
     "start_time": "2021-05-13T05:58:01.909Z"
    }
   },
   "outputs": [],
   "source": [
    "# merge weather data with df"
   ]
  },
  {
   "cell_type": "markdown",
   "metadata": {},
   "source": [
    "#### Add holiday information to the df"
   ]
  },
  {
   "cell_type": "code",
   "execution_count": null,
   "metadata": {},
   "outputs": [],
   "source": []
  },
  {
   "cell_type": "code",
   "execution_count": null,
   "metadata": {},
   "outputs": [],
   "source": []
  },
  {
   "cell_type": "markdown",
   "metadata": {},
   "source": [
    "#### Transform df to time series"
   ]
  },
  {
   "cell_type": "code",
   "execution_count": null,
   "metadata": {
    "ExecuteTime": {
     "end_time": "2021-05-13T06:03:29.463456Z",
     "start_time": "2021-05-13T05:58:01.911Z"
    }
   },
   "outputs": [],
   "source": [
    "# df.T"
   ]
  },
  {
   "cell_type": "markdown",
   "metadata": {},
   "source": [
    "#### Split train test set for model"
   ]
  },
  {
   "cell_type": "code",
   "execution_count": null,
   "metadata": {
    "ExecuteTime": {
     "end_time": "2021-05-13T06:03:29.464069Z",
     "start_time": "2021-05-13T05:58:01.913Z"
    }
   },
   "outputs": [],
   "source": [
    "# take away the last couple of weeks"
   ]
  },
  {
   "cell_type": "code",
   "execution_count": null,
   "metadata": {},
   "outputs": [],
   "source": []
  },
  {
   "cell_type": "code",
   "execution_count": null,
   "metadata": {},
   "outputs": [],
   "source": []
  },
  {
   "cell_type": "markdown",
   "metadata": {},
   "source": [
    "### Model 🤖"
   ]
  },
  {
   "cell_type": "markdown",
   "metadata": {},
   "source": [
    "#### Baseline"
   ]
  },
  {
   "cell_type": "markdown",
   "metadata": {},
   "source": [
    "Let's have a look at the average bike coverage for each bike station for each **hour of the day.**"
   ]
  },
  {
   "cell_type": "code",
   "execution_count": 301,
   "metadata": {
    "ExecuteTime": {
     "end_time": "2021-05-13T10:54:05.868637Z",
     "start_time": "2021-05-13T10:54:05.846168Z"
    }
   },
   "outputs": [
    {
     "data": {
      "text/html": [
       "<style  type=\"text/css\" >\n",
       "#T_bc7c1_row0_col3,#T_bc7c1_row1_col3,#T_bc7c1_row2_col3,#T_bc7c1_row3_col3,#T_bc7c1_row4_col3,#T_bc7c1_row5_col3,#T_bc7c1_row6_col3,#T_bc7c1_row7_col3,#T_bc7c1_row8_col3,#T_bc7c1_row9_col3{\n",
       "            width:  50;\n",
       "        }</style><table id=\"T_bc7c1_\" ><thead>    <tr>        <th class=\"blank level0\" ></th>        <th class=\"col_heading level0 col0\" >hour_dropoff</th>        <th class=\"col_heading level0 col1\" >drops</th>        <th class=\"col_heading level0 col2\" >picks</th>        <th class=\"col_heading level0 col3\" >station_count</th>    </tr></thead><tbody>\n",
       "                <tr>\n",
       "                        <th id=\"T_bc7c1_level0_row0\" class=\"row_heading level0 row0\" >5365</th>\n",
       "                        <td id=\"T_bc7c1_row0_col0\" class=\"data row0 col0\" >2019-12-31 07:00:00</td>\n",
       "                        <td id=\"T_bc7c1_row0_col1\" class=\"data row0 col1\" >{32: 3, 63: 4, 40: 2, 37: 1, 45: 6, 67: 4, 44: 2, 3: 6, 57: 8, 56: 7, 23: 1, 48: 2, 10: 4, 43: 7, 2: 8, 8: 13, 19: 2, 54: 6, 41: 5, 89: 7, 1: 6, 46: 2, 34: 7, 35: 1, 100: 2, 7: 9, 66: 20, 47: 1, 96: 2, 11: 1, 36: 6, 118: 2, 98: 3, 51: 1, 12: 7, 28: 4, 38: 6, 6: 3, 42: 2, 108: 1, 60: 6, 4: 2, 55: 1, 58: 3, 21: 5, 95: 2, 114: 1, 39: 3, 97: 4, 50: 1, 13: 2, 59: 1, 24: 1, 99: 1, 64: 4, 27: 3, 22: 1, 101: 1, 33: 3, 102: 1, 49: 2, 90: 1, 20: 4, 9: 2, 113: 1, 65: 2, 109: 1}</td>\n",
       "                        <td id=\"T_bc7c1_row0_col2\" class=\"data row0 col2\" >{2: 9, 12: 12, 32: 6, 61: 1, 3: 11, 21: 7, 90: 1, 39: 4, 8: 16, 37: 2, 34: 7, 95: 3, 4: 4, 65: 6, 89: 6, 20: 3, 62: 1, 6: 6, 10: 1, 1: 14, 98: 8, 56: 5, 45: 3, 27: 4, 100: 4, 97: 4, 46: 5, 101: 3, 35: 1, 104: 1, 96: 3, 63: 2, 5: 1, 112: 1, 22: 2, 67: 9, 13: 7, 23: 10, 66: 7, 93: 1, 24: 8, 118: 2, 59: 2, 9: 1, 11: 5, 41: 2, 7: 9, 57: 2, 55: 2, 28: 3, 51: 1, 42: 2, 60: 1, 19: 1, 102: 1, 38: 3, 49: 1, 43: 2, 114: 1, 113: 1, 36: 2, 44: 1, 48: 1, 64: 2, 40: 3, 91: 1, 109: 1, 58: 1}</td>\n",
       "                        <td id=\"T_bc7c1_row0_col3\" class=\"data row0 col3\" >{1: 24492, 2: 4912, 3: 5076, 4: 8020, 5: -3706, 6: 4970, 7: -1925, 8: -8049, 9: -1578, 10: 14998, 11: -716, 12: 15967, 13: -35885, 19: 1196, 20: -1860, 21: -3345, 22: -209, 23: -12222, 24: -3614, 27: -3306, 28: 1374, 32: -3281, 33: 5037, 34: -16575, 35: -1442, 36: 1863, 37: 782, 38: -8246, 39: 2808, 40: -16529, 41: 17970, 42: -6078, 43: 5360, 44: 1860, 45: 576, 46: -2565, 47: -4857, 48: -3432, 49: -2290, 51: -2091, 53: -1489, 54: 2055, 55: 2202, 56: -10277, 57: 6758, 58: -1608, 59: -5189, 60: 3663, 61: 99, 62: 4286, 63: 2434, 64: -8451, 65: 4026, 66: -19254, 67: 12172, 70: 18929, 89: 1016, 90: -896, 91: 915, 92: -125, 93: -953, 94: -61, 95: 68, 96: 43, 97: -84, 98: -1264, 99: -755, 100: -790, 101: -375, 102: -176, 103: 52, 104: -30, 105: -114, 106: 15, 107: 0, 108: -78, 109: -57, 110: -4, 111: -31, 112: -75, 113: -78, 114: -105, 115: -42, 116: 0, 118: -182, 121: 0, 122: 0, 123: 0, 124: 0, 125: 0, 126: 0, 127: 0, 128: 0, 129: 0, 130: 0, 131: 0, 132: 0, 133: 0, 134: 0, 135: 0, 136: 0, 137: 0, 138: 0, 139: 0, 140: 0, 141: 0, 142: 0, 69: 10, 14: 8, 31: 5, 16: -36, 50: 23921, 15: 1, 83: -372, -99: 0, 72: 21, 71: 40, 25: -9, 17: 6, 18: 39, 73: 4, 75: -1, 74: 31, 77: 11}</td>\n",
       "            </tr>\n",
       "            <tr>\n",
       "                        <th id=\"T_bc7c1_level0_row1\" class=\"row_heading level0 row1\" >5366</th>\n",
       "                        <td id=\"T_bc7c1_row1_col0\" class=\"data row1 col0\" >2019-12-31 08:00:00</td>\n",
       "                        <td id=\"T_bc7c1_row1_col1\" class=\"data row1 col1\" >{33: 4, 66: 10, 102: 1, 43: 5, 37: 1, 39: 8, 67: 10, 95: 4, 34: 2, 9: 7, 23: 7, 97: 5, 32: 2, 7: 12, 44: 2, 96: 6, 89: 5, 101: 1, 64: 3, 47: 5, 55: 3, 48: 6, 10: 5, 8: 6, 58: 2, 1: 6, 63: 3, 40: 1, 3: 7, 11: 2, 110: 3, 65: 1, 62: 1, 94: 1, 41: 6, 104: 2, 113: 2, 36: 6, 21: 3, 4: 1, 28: 1, 56: 4, 2: 4, 105: 1, 60: 4, 12: 1, 24: 2, 6: 4, 100: 1, 22: 1, 45: 3, 98: 2, 50: 1, 108: 1, 38: 2, 20: 2, 99: 2, 92: 2, 103: 1, 46: 2, 54: 2}</td>\n",
       "                        <td id=\"T_bc7c1_row1_col2\" class=\"data row1 col2\" >{67: 10, 41: 3, 56: 4, 66: 5, 46: 7, 101: 3, 3: 13, 21: 9, 8: 6, 110: 4, 4: 2, 20: 3, 113: 6, 23: 7, 51: 1, 27: 1, 95: 3, 24: 3, 1: 9, 100: 2, 13: 3, 45: 1, 7: 8, 89: 4, 65: 2, 2: 6, 39: 4, 97: 6, 12: 16, 38: 2, 48: 8, 34: 1, 9: 7, 105: 1, 11: 2, 58: 2, 63: 7, 49: 3, 55: 2, 40: 6, 37: 4, 92: 2, 57: 5, 62: 2, 102: 2, 108: 2, 90: 3, 5: 1, 36: 2, 98: 2, 6: 7, 42: 3, 44: 3, 53: 1, 64: 1, 99: 1, 60: 2, 43: 1, 54: 1, 22: 2}</td>\n",
       "                        <td id=\"T_bc7c1_row1_col3\" class=\"data row1 col3\" >{1: 24489, 2: 4910, 3: 5070, 4: 8019, 5: -3707, 6: 4967, 7: -1921, 8: -8049, 9: -1578, 10: 15003, 11: -716, 12: 15952, 13: -35888, 19: 1196, 20: -1861, 21: -3351, 22: -210, 23: -12222, 24: -3615, 27: -3307, 28: 1375, 32: -3279, 33: 5041, 34: -16574, 35: -1442, 36: 1867, 37: 779, 38: -8246, 39: 2812, 40: -16534, 41: 17973, 42: -6081, 43: 5364, 44: 1859, 45: 578, 46: -2570, 47: -4852, 48: -3434, 49: -2293, 51: -2092, 53: -1490, 54: 2056, 55: 2203, 56: -10277, 57: 6753, 58: -1608, 59: -5189, 60: 3665, 61: 99, 62: 4285, 63: 2430, 64: -8449, 65: 4025, 66: -19249, 67: 12172, 70: 18929, 89: 1017, 90: -899, 91: 915, 92: -125, 93: -953, 94: -60, 95: 69, 96: 49, 97: -85, 98: -1264, 99: -754, 100: -791, 101: -377, 102: -177, 103: 53, 104: -28, 105: -114, 106: 15, 107: 0, 108: -79, 109: -57, 110: -5, 111: -31, 112: -75, 113: -82, 114: -105, 115: -42, 116: 0, 118: -182, 121: 0, 122: 0, 123: 0, 124: 0, 125: 0, 126: 0, 127: 0, 128: 0, 129: 0, 130: 0, 131: 0, 132: 0, 133: 0, 134: 0, 135: 0, 136: 0, 137: 0, 138: 0, 139: 0, 140: 0, 141: 0, 142: 0, 69: 10, 14: 8, 31: 5, 16: -36, 50: 23922, 15: 1, 83: -372, -99: 0, 72: 21, 71: 40, 25: -9, 17: 6, 18: 39, 73: 4, 75: -1, 74: 31, 77: 11}</td>\n",
       "            </tr>\n",
       "            <tr>\n",
       "                        <th id=\"T_bc7c1_level0_row2\" class=\"row_heading level0 row2\" >5367</th>\n",
       "                        <td id=\"T_bc7c1_row2_col0\" class=\"data row2 col0\" >2019-12-31 09:00:00</td>\n",
       "                        <td id=\"T_bc7c1_row2_col1\" class=\"data row2 col1\" >{96: 14, 38: 2, 64: 5, 2: 11, 6: 3, 40: 4, 110: 1, 65: 4, 22: 2, 95: 3, 41: 8, 21: 8, 44: 5, 9: 5, 36: 13, 8: 19, 89: 12, 67: 14, 57: 3, 112: 1, 43: 5, 28: 2, 23: 6, 62: 4, 111: 3, 12: 6, 24: 4, 7: 12, 45: 5, 39: 7, 66: 6, 99: 2, 58: 1, 1: 10, 97: 3, 91: 3, 10: 5, 47: 1, 55: 3, 46: 3, 33: 3, 98: 6, 19: 3, 48: 3, 50: 3, 63: 5, 13: 1, 34: 2, 108: 2, 60: 3, 102: 3, 3: 6, 54: 5, 37: 2, 113: 2, 49: 2, 56: 5, 90: 1, 51: 3, 20: 3, 59: 2, 32: 2, 27: 2, 42: 1, 53: 1}</td>\n",
       "                        <td id=\"T_bc7c1_row2_col2\" class=\"data row2 col2\" >{95: 1, 27: 2, 112: 1, 7: 5, 48: 4, 63: 5, 66: 9, 23: 13, 40: 8, 57: 10, 36: 5, 56: 4, 39: 7, 42: 3, 8: 13, 1: 20, 97: 3, 89: 6, 10: 3, 12: 14, 111: 3, 67: 19, 3: 9, 98: 4, 6: 3, 46: 3, 49: 2, 21: 4, 90: 2, 44: 7, 20: 2, 2: 5, 11: 6, 96: 11, 9: 5, 33: 2, 41: 4, 58: 4, 38: 3, 37: 1, 64: 4, 65: 7, 100: 2, 62: 2, 24: 5, 55: 6, 13: 2, 99: 3, 60: 3, 19: 2, 28: 3, 43: 4, 50: 1, 110: 2, 45: 3, 51: 2, 102: 2, 114: 1, 34: 2, 47: 2, 92: 1, 101: 1, 53: 1, 4: 2, 59: 2, 5: 1, 54: 1, 108: 1, 104: 1}</td>\n",
       "                        <td id=\"T_bc7c1_row2_col3\" class=\"data row2 col3\" >{1: 24479, 2: 4916, 3: 5067, 4: 8017, 5: -3708, 6: 4967, 7: -1914, 8: -8043, 9: -1578, 10: 15005, 11: -722, 12: 15944, 13: -35889, 19: 1197, 20: -1860, 21: -3347, 22: -208, 23: -12229, 24: -3616, 27: -3307, 28: 1374, 32: -3277, 33: 5042, 34: -16574, 35: -1442, 36: 1875, 37: 780, 38: -8247, 39: 2812, 40: -16538, 41: 17977, 42: -6083, 43: 5365, 44: 1857, 45: 580, 46: -2570, 47: -4853, 48: -3435, 49: -2293, 51: -2091, 53: -1490, 54: 2060, 55: 2200, 56: -10276, 57: 6746, 58: -1611, 59: -5189, 60: 3665, 61: 99, 62: 4287, 63: 2430, 64: -8448, 65: 4022, 66: -19252, 67: 12167, 70: 18929, 89: 1023, 90: -900, 91: 918, 92: -126, 93: -953, 94: -60, 95: 71, 96: 52, 97: -85, 98: -1262, 99: -755, 100: -793, 101: -378, 102: -176, 103: 53, 104: -29, 105: -114, 106: 15, 107: 0, 108: -78, 109: -57, 110: -6, 111: -31, 112: -75, 113: -80, 114: -106, 115: -42, 116: 0, 118: -182, 121: 0, 122: 0, 123: 0, 124: 0, 125: 0, 126: 0, 127: 0, 128: 0, 129: 0, 130: 0, 131: 0, 132: 0, 133: 0, 134: 0, 135: 0, 136: 0, 137: 0, 138: 0, 139: 0, 140: 0, 141: 0, 142: 0, 69: 10, 14: 8, 31: 5, 16: -36, 50: 23924, 15: 1, 83: -372, -99: 0, 72: 21, 71: 40, 25: -9, 17: 6, 18: 39, 73: 4, 75: -1, 74: 31, 77: 11}</td>\n",
       "            </tr>\n",
       "            <tr>\n",
       "                        <th id=\"T_bc7c1_level0_row3\" class=\"row_heading level0 row3\" >5368</th>\n",
       "                        <td id=\"T_bc7c1_row3_col0\" class=\"data row3 col0\" >2019-12-31 10:00:00</td>\n",
       "                        <td id=\"T_bc7c1_row3_col1\" class=\"data row3 col1\" >{99: 8, 44: 11, 36: 8, 41: 12, 38: 5, 39: 6, 34: 1, 5: 2, 7: 10, 111: 1, 63: 3, 46: 6, 67: 14, 98: 3, 4: 2, 27: 4, 56: 3, 33: 3, 6: 7, 9: 3, 90: 1, 60: 3, 40: 6, 24: 3, 57: 7, 66: 10, 8: 12, 48: 2, 62: 3, 20: 2, 1: 10, 23: 5, 12: 11, 53: 1, 43: 1, 49: 2, 89: 9, 3: 9, 10: 5, 2: 4, 101: 6, 45: 3, 95: 3, 103: 1, 19: 3, 64: 1, 96: 6, 28: 1, 65: 2, 110: 2, 97: 5, 55: 3, 105: 2, 59: 2, 21: 6, 100: 3, 50: 1, 35: 1, 61: 1, 51: 1, 42: 1, 115: 1, 11: 1, 93: 2, 58: 1}</td>\n",
       "                        <td id=\"T_bc7c1_row3_col2\" class=\"data row3 col2\" >{7: 9, 111: 2, 6: 3, 2: 8, 23: 11, 33: 5, 99: 5, 28: 4, 44: 7, 65: 6, 39: 6, 53: 3, 57: 2, 63: 2, 96: 6, 45: 7, 8: 11, 12: 12, 67: 15, 13: 6, 1: 14, 43: 1, 46: 6, 103: 3, 20: 3, 56: 4, 89: 10, 51: 2, 21: 8, 10: 6, 60: 4, 62: 3, 95: 5, 40: 5, 37: 3, 97: 7, 9: 2, 41: 5, 22: 3, 48: 1, 38: 5, 105: 3, 55: 4, 64: 5, 35: 1, 3: 6, 49: 2, 91: 3, 42: 5, 61: 2, 101: 1, 4: 1, 90: 2, 66: 6, 24: 1, 114: 1, 36: 3, 108: 1, 100: 2, 93: 2, 5: 3, 102: 1, 11: 2, 98: 2, 47: 1, 58: 1, 92: 1, 34: 1, 104: 1, 50: 1, 19: 1}</td>\n",
       "                        <td id=\"T_bc7c1_row3_col3\" class=\"data row3 col3\" >{1: 24475, 2: 4912, 3: 5070, 4: 8018, 5: -3709, 6: 4971, 7: -1913, 8: -8042, 9: -1577, 10: 15004, 11: -723, 12: 15943, 13: -35895, 19: 1199, 20: -1861, 21: -3349, 22: -211, 23: -12235, 24: -3614, 27: -3303, 28: 1371, 32: -3277, 33: 5040, 34: -16574, 35: -1442, 36: 1880, 37: 777, 38: -8247, 39: 2812, 40: -16537, 41: 17984, 42: -6087, 43: 5365, 44: 1861, 45: 576, 46: -2570, 47: -4854, 48: -3434, 49: -2293, 51: -2092, 53: -1492, 54: 2060, 55: 2199, 56: -10277, 57: 6751, 58: -1611, 59: -5187, 60: 3664, 61: 98, 62: 4287, 63: 2431, 64: -8452, 65: 4018, 66: -19248, 67: 12166, 70: 18929, 89: 1022, 90: -901, 91: 915, 92: -127, 93: -953, 94: -60, 95: 69, 96: 52, 97: -87, 98: -1261, 99: -752, 100: -792, 101: -373, 102: -177, 103: 51, 104: -30, 105: -115, 106: 15, 107: 0, 108: -79, 109: -57, 110: -4, 111: -32, 112: -75, 113: -80, 114: -107, 115: -41, 116: 0, 118: -182, 121: 0, 122: 0, 123: 0, 124: 0, 125: 0, 126: 0, 127: 0, 128: 0, 129: 0, 130: 0, 131: 0, 132: 0, 133: 0, 134: 0, 135: 0, 136: 0, 137: 0, 138: 0, 139: 0, 140: 0, 141: 0, 142: 0, 69: 10, 14: 8, 31: 5, 16: -36, 50: 23924, 15: 1, 83: -372, -99: 0, 72: 21, 71: 40, 25: -9, 17: 6, 18: 39, 73: 4, 75: -1, 74: 31, 77: 11}</td>\n",
       "            </tr>\n",
       "            <tr>\n",
       "                        <th id=\"T_bc7c1_level0_row4\" class=\"row_heading level0 row4\" >5369</th>\n",
       "                        <td id=\"T_bc7c1_row4_col0\" class=\"data row4 col0\" >2019-12-31 11:00:00</td>\n",
       "                        <td id=\"T_bc7c1_row4_col1\" class=\"data row4 col1\" >{21: 11, 101: 4, 110: 1, 11: 9, 8: 19, 65: 6, 1: 11, 106: 3, 13: 3, 39: 7, 3: 12, 50: 3, 66: 8, 54: 2, 56: 5, 98: 1, 7: 5, 42: 3, 99: 6, 6: 5, 41: 8, 57: 10, 12: 10, 23: 12, 43: 2, 63: 9, 9: 8, 33: 3, 20: 5, 45: 7, 94: 2, 89: 7, 67: 18, 62: 3, 48: 3, 97: 9, 2: 7, 44: 9, 36: 11, 55: 3, 112: 1, 47: 3, 64: 3, 40: 1, 91: 3, 90: 3, 111: 2, 37: 3, 34: 3, 24: 10, 28: 2, 19: 2, 96: 4, 49: 5, 59: 6, 4: 3, 51: 3, 95: 1, 92: 1, 100: 1, 10: 2, 22: 4, 103: 2, 93: 1, 58: 1, 104: 1}</td>\n",
       "                        <td id=\"T_bc7c1_row4_col2\" class=\"data row4 col2\" >{11: 7, 3: 12, 57: 5, 20: 4, 63: 3, 36: 9, 23: 7, 9: 10, 1: 16, 7: 11, 37: 9, 44: 7, 96: 6, 95: 5, 2: 9, 21: 11, 110: 1, 13: 5, 24: 5, 56: 7, 8: 24, 47: 2, 10: 6, 33: 2, 89: 11, 12: 13, 112: 1, 41: 8, 99: 7, 58: 2, 6: 5, 27: 2, 113: 1, 62: 4, 53: 2, 60: 4, 46: 5, 91: 3, 38: 4, 48: 4, 34: 2, 40: 5, 65: 5, 67: 10, 39: 3, 92: 3, 111: 1, 101: 5, 98: 2, 22: 2, 66: 8, 45: 4, 42: 5, 106: 1, 5: 2, 93: 1, 4: 1, 100: 4, 94: 2, 103: 1, 59: 4, 19: 1, 50: 1, 49: 3, 108: 2, 51: 2, 54: 2, 97: 4, 43: 4, 105: 1, 114: 1, 28: 1, 32: 3, 104: 1, 55: 1}</td>\n",
       "                        <td id=\"T_bc7c1_row4_col3\" class=\"data row4 col3\" >{1: 24470, 2: 4910, 3: 5070, 4: 8020, 5: -3711, 6: 4971, 7: -1919, 8: -8047, 9: -1579, 10: 15000, 11: -721, 12: 15940, 13: -35897, 19: 1200, 20: -1860, 21: -3349, 22: -209, 23: -12230, 24: -3609, 27: -3305, 28: 1372, 32: -3280, 33: 5041, 34: -16573, 35: -1442, 36: 1882, 37: 771, 38: -8251, 39: 2816, 40: -16541, 41: 17984, 42: -6089, 43: 5363, 44: 1863, 45: 579, 46: -2575, 47: -4853, 48: -3435, 49: -2291, 51: -2091, 53: -1494, 54: 2060, 55: 2201, 56: -10279, 57: 6756, 58: -1612, 59: -5185, 60: 3660, 61: 98, 62: 4286, 63: 2437, 64: -8449, 65: 4019, 66: -19248, 67: 12174, 70: 18929, 89: 1018, 90: -898, 91: 915, 92: -129, 93: -953, 94: -60, 95: 65, 96: 50, 97: -82, 98: -1262, 99: -753, 100: -795, 101: -374, 102: -177, 103: 52, 104: -30, 105: -116, 106: 17, 107: 0, 108: -81, 109: -57, 110: -4, 111: -31, 112: -75, 113: -81, 114: -108, 115: -41, 116: 0, 118: -182, 121: 0, 122: 0, 123: 0, 124: 0, 125: 0, 126: 0, 127: 0, 128: 0, 129: 0, 130: 0, 131: 0, 132: 0, 133: 0, 134: 0, 135: 0, 136: 0, 137: 0, 138: 0, 139: 0, 140: 0, 141: 0, 142: 0, 69: 10, 14: 8, 31: 5, 16: -36, 50: 23926, 15: 1, 83: -372, -99: 0, 72: 21, 71: 40, 25: -9, 17: 6, 18: 39, 73: 4, 75: -1, 74: 31, 77: 11}</td>\n",
       "            </tr>\n",
       "            <tr>\n",
       "                        <th id=\"T_bc7c1_level0_row5\" class=\"row_heading level0 row5\" >5370</th>\n",
       "                        <td id=\"T_bc7c1_row5_col0\" class=\"data row5 col0\" >2019-12-31 12:00:00</td>\n",
       "                        <td id=\"T_bc7c1_row5_col1\" class=\"data row5 col1\" >{40: 5, 12: 13, 22: 2, 36: 8, 118: 1, 21: 9, 99: 7, 41: 21, 51: 5, 20: 4, 89: 17, 9: 9, 59: 2, 60: 4, 10: 11, 67: 20, 7: 12, 43: 3, 95: 11, 2: 14, 56: 10, 3: 12, 23: 10, 63: 4, 38: 3, 45: 2, 5: 1, 6: 16, 4: 2, 64: 8, 97: 11, 44: 10, 61: 2, 62: 3, 102: 2, 8: 25, 54: 4, 58: 6, 100: 1, 46: 10, 27: 5, 47: 4, 34: 5, 1: 16, 57: 3, 32: 2, 53: 4, 66: 9, 91: 2, 96: 12, 105: 2, 28: 2, 39: 5, 48: 3, 19: 4, 49: 1, 101: 4, 33: 1, 108: 1, 65: 3, 13: 2, 115: 1, 93: 3, 55: 4, 24: 5, 50: 5, 98: 2, 42: 2, 37: 1, 11: 2, 103: 1}</td>\n",
       "                        <td id=\"T_bc7c1_row5_col2\" class=\"data row5 col2\" >{9: 15, 59: 3, 6: 10, 63: 6, 99: 13, 11: 4, 32: 2, 66: 23, 12: 12, 96: 11, 56: 12, 44: 9, 33: 7, 94: 2, 7: 10, 23: 15, 91: 2, 58: 6, 40: 7, 49: 1, 89: 12, 37: 4, 27: 4, 97: 12, 57: 6, 48: 2, 47: 6, 2: 14, 1: 16, 67: 25, 20: 4, 19: 4, 24: 5, 34: 4, 64: 6, 38: 6, 36: 11, 3: 11, 41: 7, 8: 12, 104: 1, 10: 8, 60: 4, 13: 5, 28: 3, 115: 2, 46: 9, 21: 7, 22: 3, 100: 2, 35: 1, 54: 5, 42: 2, 101: 5, 65: 4, 98: 2, 92: 2, 50: 4, 95: 2, 103: 1, 39: 3, 45: 5, 62: 4, 51: 4, 93: 1, 43: 3, 105: 2, 4: 1, 113: 1, 5: 3, 90: 1, 55: 1}</td>\n",
       "                        <td id=\"T_bc7c1_row5_col3\" class=\"data row5 col3\" >{1: 24470, 2: 4910, 3: 5071, 4: 8021, 5: -3713, 6: 4977, 7: -1917, 8: -8034, 9: -1585, 10: 15003, 11: -723, 12: 15941, 13: -35900, 19: 1200, 20: -1860, 21: -3347, 22: -210, 23: -12235, 24: -3609, 27: -3304, 28: 1371, 32: -3280, 33: 5035, 34: -16572, 35: -1443, 36: 1879, 37: 768, 38: -8254, 39: 2818, 40: -16543, 41: 17998, 42: -6089, 43: 5363, 44: 1864, 45: 576, 46: -2574, 47: -4855, 48: -3434, 49: -2291, 51: -2090, 53: -1490, 54: 2059, 55: 2204, 56: -10281, 57: 6753, 58: -1612, 59: -5186, 60: 3660, 61: 100, 62: 4285, 63: 2435, 64: -8447, 65: 4018, 66: -19262, 67: 12169, 70: 18929, 89: 1023, 90: -899, 91: 915, 92: -131, 93: -951, 94: -62, 95: 74, 96: 51, 97: -83, 98: -1262, 99: -759, 100: -796, 101: -375, 102: -175, 103: 52, 104: -31, 105: -116, 106: 17, 107: 0, 108: -80, 109: -57, 110: -4, 111: -31, 112: -75, 113: -82, 114: -108, 115: -42, 116: 0, 118: -181, 121: 0, 122: 0, 123: 0, 124: 0, 125: 0, 126: 0, 127: 0, 128: 0, 129: 0, 130: 0, 131: 0, 132: 0, 133: 0, 134: 0, 135: 0, 136: 0, 137: 0, 138: 0, 139: 0, 140: 0, 141: 0, 142: 0, 69: 10, 14: 8, 31: 5, 16: -36, 50: 23927, 15: 1, 83: -372, -99: 0, 72: 21, 71: 40, 25: -9, 17: 6, 18: 39, 73: 4, 75: -1, 74: 31, 77: 11}</td>\n",
       "            </tr>\n",
       "            <tr>\n",
       "                        <th id=\"T_bc7c1_level0_row6\" class=\"row_heading level0 row6\" >5371</th>\n",
       "                        <td id=\"T_bc7c1_row6_col0\" class=\"data row6 col0\" >2019-12-31 13:00:00</td>\n",
       "                        <td id=\"T_bc7c1_row6_col1\" class=\"data row6 col1\" >{21: 5, 113: 2, 2: 17, 89: 9, 36: 14, 62: 3, 4: 3, 43: 3, 55: 4, 95: 5, 42: 4, 1: 16, 108: 3, 97: 12, 57: 7, 92: 5, 8: 8, 104: 2, 3: 7, 28: 6, 32: 5, 5: 3, 7: 17, 35: 1, 6: 5, 63: 4, 46: 8, 39: 3, 47: 2, 19: 4, 23: 14, 11: 3, 45: 2, 48: 2, 24: 6, 12: 11, 114: 1, 67: 10, 20: 3, 56: 12, 103: 1, 65: 9, 10: 6, 50: 5, 99: 6, 38: 5, 9: 5, 96: 7, 115: 1, 105: 1, 118: 2, 22: 2, 41: 9, 66: 5, 100: 3, 58: 2, 34: 1, 40: 2, 101: 2, 27: 4, 33: 1, 64: 4, 44: 3, 60: 1, 98: 1, 109: 1, 53: 1, 59: 4, 91: 1, 49: 1, 110: 1, 13: 1}</td>\n",
       "                        <td id=\"T_bc7c1_row6_col2\" class=\"data row6 col2\" >{3: 5, 113: 4, 64: 9, 57: 9, 108: 2, 63: 3, 21: 10, 43: 1, 8: 16, 99: 6, 48: 2, 97: 6, 118: 2, 41: 10, 36: 9, 114: 1, 91: 2, 58: 4, 42: 1, 4: 6, 46: 3, 101: 4, 44: 3, 7: 10, 66: 11, 56: 8, 34: 3, 51: 2, 23: 7, 9: 1, 28: 3, 39: 5, 33: 3, 95: 3, 94: 1, 40: 5, 22: 4, 65: 2, 20: 2, 89: 7, 96: 4, 109: 2, 54: 3, 53: 4, 12: 4, 60: 1, 6: 5, 47: 2, 67: 7, 10: 3, 24: 8, 98: 2, 2: 1, 11: 1, 100: 2, 27: 5, 93: 2, 103: 2, 5: 1, 1: 2, 102: 1, 45: 1, 19: 1, 32: 2, 59: 1, 104: 1, 38: 3, 105: 2, 35: 1, 92: 3, 62: 1}</td>\n",
       "                        <td id=\"T_bc7c1_row6_col3\" class=\"data row6 col3\" >{1: 24484, 2: 4926, 3: 5073, 4: 8018, 5: -3711, 6: 4977, 7: -1910, 8: -8042, 9: -1581, 10: 15006, 11: -721, 12: 15948, 13: -35899, 19: 1203, 20: -1859, 21: -3352, 22: -212, 23: -12228, 24: -3611, 27: -3305, 28: 1374, 32: -3277, 33: 5033, 34: -16574, 35: -1443, 36: 1884, 37: 768, 38: -8252, 39: 2816, 40: -16546, 41: 17997, 42: -6086, 43: 5365, 44: 1864, 45: 577, 46: -2569, 47: -4855, 48: -3434, 49: -2290, 51: -2092, 53: -1493, 54: 2056, 55: 2208, 56: -10277, 57: 6751, 58: -1614, 59: -5183, 60: 3660, 61: 100, 62: 4287, 63: 2436, 64: -8452, 65: 4025, 66: -19268, 67: 12172, 70: 18929, 89: 1025, 90: -899, 91: 914, 92: -129, 93: -953, 94: -63, 95: 76, 96: 54, 97: -77, 98: -1263, 99: -759, 100: -795, 101: -377, 102: -176, 103: 51, 104: -30, 105: -117, 106: 17, 107: 0, 108: -79, 109: -58, 110: -3, 111: -31, 112: -75, 113: -84, 114: -108, 115: -41, 116: 0, 118: -181, 121: 0, 122: 0, 123: 0, 124: 0, 125: 0, 126: 0, 127: 0, 128: 0, 129: 0, 130: 0, 131: 0, 132: 0, 133: 0, 134: 0, 135: 0, 136: 0, 137: 0, 138: 0, 139: 0, 140: 0, 141: 0, 142: 0, 69: 10, 14: 8, 31: 5, 16: -36, 50: 23932, 15: 1, 83: -372, -99: 0, 72: 21, 71: 40, 25: -9, 17: 6, 18: 39, 73: 4, 75: -1, 74: 31, 77: 11}</td>\n",
       "            </tr>\n",
       "            <tr>\n",
       "                        <th id=\"T_bc7c1_level0_row7\" class=\"row_heading level0 row7\" >5372</th>\n",
       "                        <td id=\"T_bc7c1_row7_col0\" class=\"data row7 col0\" >2019-12-31 14:00:00</td>\n",
       "                        <td id=\"T_bc7c1_row7_col1\" class=\"data row7 col1\" >{32: 1, 97: 4, 3: 4, 55: 2, 41: 2, 115: 1, 66: 1, 21: 6, 90: 1, 50: 4, 12: 2, 8: 5, 22: 1, 1: 10, 100: 1, 48: 2, 53: 1, 102: 1, 36: 1, 7: 2, 62: 1, 42: 1, 2: 3, 34: 1, 5: 1, 38: 1, 6: 2, 28: 1, 13: 1, 67: 1, 23: 1}</td>\n",
       "                        <td id=\"T_bc7c1_row7_col2\" class=\"data row7 col2\" >{8: 1, 34: 1, 1: 1, 6: 2}</td>\n",
       "                        <td id=\"T_bc7c1_row7_col3\" class=\"data row7 col3\" >{1: 24493, 2: 4929, 3: 5077, 4: 8018, 5: -3710, 6: 4977, 7: -1908, 8: -8038, 9: -1581, 10: 15006, 11: -721, 12: 15950, 13: -35898, 19: 1203, 20: -1859, 21: -3346, 22: -211, 23: -12227, 24: -3611, 27: -3305, 28: 1375, 32: -3276, 33: 5033, 34: -16574, 35: -1443, 36: 1885, 37: 768, 38: -8251, 39: 2816, 40: -16546, 41: 17999, 42: -6085, 43: 5365, 44: 1864, 45: 577, 46: -2569, 47: -4855, 48: -3432, 49: -2290, 51: -2092, 53: -1492, 54: 2056, 55: 2210, 56: -10277, 57: 6751, 58: -1614, 59: -5183, 60: 3660, 61: 100, 62: 4288, 63: 2436, 64: -8452, 65: 4025, 66: -19267, 67: 12173, 70: 18929, 89: 1025, 90: -898, 91: 914, 92: -129, 93: -953, 94: -63, 95: 76, 96: 54, 97: -73, 98: -1263, 99: -759, 100: -794, 101: -377, 102: -175, 103: 51, 104: -30, 105: -117, 106: 17, 107: 0, 108: -79, 109: -58, 110: -3, 111: -31, 112: -75, 113: -84, 114: -108, 115: -40, 116: 0, 118: -181, 121: 0, 122: 0, 123: 0, 124: 0, 125: 0, 126: 0, 127: 0, 128: 0, 129: 0, 130: 0, 131: 0, 132: 0, 133: 0, 134: 0, 135: 0, 136: 0, 137: 0, 138: 0, 139: 0, 140: 0, 141: 0, 142: 0, 69: 10, 14: 8, 31: 5, 16: -36, 50: 23936, 15: 1, 83: -372, -99: 0, 72: 21, 71: 40, 25: -9, 17: 6, 18: 39, 73: 4, 75: -1, 74: 31, 77: 11}</td>\n",
       "            </tr>\n",
       "            <tr>\n",
       "                        <th id=\"T_bc7c1_level0_row8\" class=\"row_heading level0 row8\" >5373</th>\n",
       "                        <td id=\"T_bc7c1_row8_col0\" class=\"data row8 col0\" >2019-12-31 15:00:00</td>\n",
       "                        <td id=\"T_bc7c1_row8_col1\" class=\"data row8 col1\" >{55: 1, 57: 1, 118: 1, 62: 1, 7: 8, 2: 2, 56: 1, 20: 2, 41: 1, 3: 1}</td>\n",
       "                        <td id=\"T_bc7c1_row8_col2\" class=\"data row8 col2\" >{67: 2, 8: 1, 1: 1, 10: 1, 50: 1}</td>\n",
       "                        <td id=\"T_bc7c1_row8_col3\" class=\"data row8 col3\" >{1: 24492, 2: 4931, 3: 5078, 4: 8018, 5: -3710, 6: 4977, 7: -1900, 8: -8039, 9: -1581, 10: 15005, 11: -721, 12: 15950, 13: -35898, 19: 1203, 20: -1857, 21: -3346, 22: -211, 23: -12227, 24: -3611, 27: -3305, 28: 1375, 32: -3276, 33: 5033, 34: -16574, 35: -1443, 36: 1885, 37: 768, 38: -8251, 39: 2816, 40: -16546, 41: 18000, 42: -6085, 43: 5365, 44: 1864, 45: 577, 46: -2569, 47: -4855, 48: -3432, 49: -2290, 51: -2092, 53: -1492, 54: 2056, 55: 2211, 56: -10276, 57: 6752, 58: -1614, 59: -5183, 60: 3660, 61: 100, 62: 4289, 63: 2436, 64: -8452, 65: 4025, 66: -19267, 67: 12171, 70: 18929, 89: 1025, 90: -898, 91: 914, 92: -129, 93: -953, 94: -63, 95: 76, 96: 54, 97: -73, 98: -1263, 99: -759, 100: -794, 101: -377, 102: -175, 103: 51, 104: -30, 105: -117, 106: 17, 107: 0, 108: -79, 109: -58, 110: -3, 111: -31, 112: -75, 113: -84, 114: -108, 115: -40, 116: 0, 118: -180, 121: 0, 122: 0, 123: 0, 124: 0, 125: 0, 126: 0, 127: 0, 128: 0, 129: 0, 130: 0, 131: 0, 132: 0, 133: 0, 134: 0, 135: 0, 136: 0, 137: 0, 138: 0, 139: 0, 140: 0, 141: 0, 142: 0, 69: 10, 14: 8, 31: 5, 16: -36, 50: 23935, 15: 1, 83: -372, -99: 0, 72: 21, 71: 40, 25: -9, 17: 6, 18: 39, 73: 4, 75: -1, 74: 31, 77: 11}</td>\n",
       "            </tr>\n",
       "            <tr>\n",
       "                        <th id=\"T_bc7c1_level0_row9\" class=\"row_heading level0 row9\" >5374</th>\n",
       "                        <td id=\"T_bc7c1_row9_col0\" class=\"data row9 col0\" >2019-12-31 16:00:00</td>\n",
       "                        <td id=\"T_bc7c1_row9_col1\" class=\"data row9 col1\" >{41: 1}</td>\n",
       "                        <td id=\"T_bc7c1_row9_col2\" class=\"data row9 col2\" >{-99: 0}</td>\n",
       "                        <td id=\"T_bc7c1_row9_col3\" class=\"data row9 col3\" >{1: 24492, 2: 4931, 3: 5078, 4: 8018, 5: -3710, 6: 4977, 7: -1900, 8: -8039, 9: -1581, 10: 15005, 11: -721, 12: 15950, 13: -35898, 19: 1203, 20: -1857, 21: -3346, 22: -211, 23: -12227, 24: -3611, 27: -3305, 28: 1375, 32: -3276, 33: 5033, 34: -16574, 35: -1443, 36: 1885, 37: 768, 38: -8251, 39: 2816, 40: -16546, 41: 18001, 42: -6085, 43: 5365, 44: 1864, 45: 577, 46: -2569, 47: -4855, 48: -3432, 49: -2290, 51: -2092, 53: -1492, 54: 2056, 55: 2211, 56: -10276, 57: 6752, 58: -1614, 59: -5183, 60: 3660, 61: 100, 62: 4289, 63: 2436, 64: -8452, 65: 4025, 66: -19267, 67: 12171, 70: 18929, 89: 1025, 90: -898, 91: 914, 92: -129, 93: -953, 94: -63, 95: 76, 96: 54, 97: -73, 98: -1263, 99: -759, 100: -794, 101: -377, 102: -175, 103: 51, 104: -30, 105: -117, 106: 17, 107: 0, 108: -79, 109: -58, 110: -3, 111: -31, 112: -75, 113: -84, 114: -108, 115: -40, 116: 0, 118: -180, 121: 0, 122: 0, 123: 0, 124: 0, 125: 0, 126: 0, 127: 0, 128: 0, 129: 0, 130: 0, 131: 0, 132: 0, 133: 0, 134: 0, 135: 0, 136: 0, 137: 0, 138: 0, 139: 0, 140: 0, 141: 0, 142: 0, 69: 10, 14: 8, 31: 5, 16: -36, 50: 23935, 15: 1, 83: -372, -99: 0, 72: 21, 71: 40, 25: -9, 17: 6, 18: 39, 73: 4, 75: -1, 74: 31, 77: 11}</td>\n",
       "            </tr>\n",
       "    </tbody></table>"
      ],
      "text/plain": [
       "<pandas.io.formats.style.Styler at 0x2ace317c0>"
      ]
     },
     "execution_count": 301,
     "metadata": {},
     "output_type": "execute_result"
    }
   ],
   "source": [
    "bikes_19_agg.tail(10).style.set_properties(subset=['station_count'], **{'width': '50'})"
   ]
  },
  {
   "cell_type": "markdown",
   "metadata": {},
   "source": [
    "**Note, IMPORTANT**<br>\n",
    "While checking the bikes per station and hour we discovered that the bike logs are not sufficient enough to give an accurate count on the stations. Looking at the tail of ```bikes_19_agg``` (the end of the year) we can see an unrealistic number of bikes on each station. We assume that some of the logs are missing _OR_ bike transitions done by the company from station to station weren't recorded. Therefore it is **not possible** to give an accurate prediction of a station load balance. <br>\n",
    "\n",
    "**What can be done with the data**:<br>\n",
    "1. Show the most demanded and most supplied stations in the city.\n",
    "2. Show an hourly demand or supply prediction. This model will be unable to take overloads (station full) or under supply (station empty) into account. \n"
   ]
  },
  {
   "cell_type": "markdown",
   "metadata": {},
   "source": [
    "##### Most demanded and supplied stations"
   ]
  },
  {
   "cell_type": "markdown",
   "metadata": {},
   "source": [
    "The function in [Section 1.4.5.1](#Compute-bike-count-per-station-per-hour) computed the real addings and pullings at each station done by customers of enCicla. Now, the stations with the ```.max()``` and ```.min()``` values by the end of the year will show their inbalanced behavior."
   ]
  },
  {
   "cell_type": "code",
   "execution_count": 376,
   "metadata": {
    "ExecuteTime": {
     "end_time": "2021-05-13T11:52:06.406804Z",
     "start_time": "2021-05-13T11:52:06.188184Z"
    }
   },
   "outputs": [
    {
     "data": {
      "image/png": "[encoded data removed]",
      "text/plain": [
       "<Figure size 1080x576 with 1 Axes>"
      ]
     },
     "metadata": {
      "needs_background": "light"
     },
     "output_type": "display_data"
    }
   ],
   "source": [
    "# get the last entry in the bikes df (31.12.2019)\n",
    "stations_tail = pd.DataFrame(dict(bikes_19_agg.tail(1).station_count))\n",
    "stations_tail = stations_tail.merge(unique_stations[['ID', 'Description']], left_index=True, right_on='ID')\n",
    "# plot the most extreme ends\n",
    "plt.figure(figsize=(15,8))\n",
    "plt.title('Stations with most undersupply and oversupply')\n",
    "plt.bar(x=stations_tail.sort_values(by=5374).head(10)['Description'], \n",
    "        height=stations_tail.sort_values(by=5374).head(10)[5374], \n",
    "       color='r')\n",
    "plt.bar(x=stations_tail.sort_values(by=5374).tail(10)['Description'], \n",
    "        height=stations_tail.sort_values(by=5374).tail(10)[5374], \n",
    "       color='b')\n",
    "plt.xticks(rotation=90)\n",
    "plt.ylabel('Net bikes needed over the year')\n",
    "plt.show()"
   ]
  },
  {
   "cell_type": "code",
   "execution_count": null,
   "metadata": {},
   "outputs": [],
   "source": []
  },
  {
   "cell_type": "code",
   "execution_count": null,
   "metadata": {},
   "outputs": [],
   "source": []
  },
  {
   "cell_type": "code",
   "execution_count": null,
   "metadata": {},
   "outputs": [],
   "source": []
  },
  {
   "cell_type": "markdown",
   "metadata": {},
   "source": [
    "##### Preprocessing: Nan Values"
   ]
  },
  {
   "cell_type": "markdown",
   "metadata": {},
   "source": [
    "We are seeing above the amount of ```NaN``` values for the columns - station of origin and station of destination. What is happening is that there are no ```NaN``` values station of origins and **1009** for stations of **destination**. What we assume could have happened, is that someone stole the bikes (is once again some drunk people took their fucking bikes and threw them into the river or something along those lines), hence never reached their destination.\n",
    "\n",
    "**Solution**: <br>\n",
    "Filling those NaN values with -1 for conversion purposes, so that we can more easily use the ```.apply()``` function when creating new features"
   ]
  },
  {
   "cell_type": "code",
   "execution_count": null,
   "metadata": {
    "ExecuteTime": {
     "end_time": "2021-05-13T06:03:29.467498Z",
     "start_time": "2021-05-13T05:58:01.921Z"
    }
   },
   "outputs": [],
   "source": [
    "bikes_2019['Id_Aparcamiento_Destino'] = bikes_2019['Id_Aparcamiento_Destino'].fillna(np.NaN)\n",
    "bikes_2019['Posicion_Destino'] = bikes_2019['Posicion_Destino'].fillna(np.NaN)"
   ]
  },
  {
   "cell_type": "markdown",
   "metadata": {
    "heading_collapsed": true
   },
   "source": [
    "##### Columns type:\n",
    "We can see from above that some similar columns are of different types such as ```Id_Aparcamiento_Destino``` = ```float64``` AND ```Id_Aparcamiento_Origen``` = ```int64```\n",
    "\n",
    " "
   ]
  },
  {
   "cell_type": "code",
   "execution_count": null,
   "metadata": {
    "ExecuteTime": {
     "end_time": "2021-05-13T06:03:29.468311Z",
     "start_time": "2021-05-13T05:58:01.923Z"
    },
    "hidden": true
   },
   "outputs": [],
   "source": [
    "bikes_2019.dtypes"
   ]
  },
  {
   "cell_type": "code",
   "execution_count": null,
   "metadata": {
    "ExecuteTime": {
     "end_time": "2021-05-13T06:03:29.468936Z",
     "start_time": "2021-05-13T05:58:01.924Z"
    },
    "hidden": true
   },
   "outputs": [],
   "source": [
    "bikes_2019['Id_Aparcamiento_Origen'] = bikes_2019['Id_Aparcamiento_Origen'].astype(float)  \n",
    "bikes_2019['Posicion_Origen'] = bikes_2019['Posicion_Origen'].astype(float)"
   ]
  },
  {
   "cell_type": "markdown",
   "metadata": {
    "heading_collapsed": true
   },
   "source": [
    "##### Feature Creation: Supply & Demand"
   ]
  },
  {
   "cell_type": "code",
   "execution_count": null,
   "metadata": {
    "ExecuteTime": {
     "end_time": "2021-05-13T06:03:29.469541Z",
     "start_time": "2021-05-13T05:58:01.926Z"
    },
    "hidden": true
   },
   "outputs": [],
   "source": [
    "def create_supply_demand(x):\n",
    "        if x >= 0:\n",
    "            return 1\n",
    "        elif x != x:\n",
    "            return 0"
   ]
  },
  {
   "cell_type": "markdown",
   "metadata": {
    "hidden": true
   },
   "source": [
    "What the function above does is to return 0 or 1 depending on whether each row has a station of origin or station of destination:\n",
    "- Each time someone **loans** a new bike this is/can be represented as ```demand``` = 1. \n",
    "- Each time someone **drop** their bikes this can be represented as ```supply``` = 1. \n",
    "\n",
    "**Note**:\n",
    "<br>\n",
    "However, if the row does not have a station of destination i.e. the bike got lost/thrown in the river, then supply should be = **0**. For later use, this will be to find out if there is an ***imbalance*** of demand and supply for some stations."
   ]
  },
  {
   "cell_type": "code",
   "execution_count": null,
   "metadata": {
    "ExecuteTime": {
     "end_time": "2021-05-13T06:03:29.470344Z",
     "start_time": "2021-05-13T05:58:01.927Z"
    },
    "hidden": true
   },
   "outputs": [],
   "source": [
    "bikes_2019['demand'] = bikes_2019['Id_Aparcamiento_Origen'].apply(create_supply_demand)\n",
    "bikes_2019['supply'] = bikes_2019['Id_Aparcamiento_Destino'].apply(create_supply_demand)"
   ]
  },
  {
   "cell_type": "code",
   "execution_count": null,
   "metadata": {
    "ExecuteTime": {
     "end_time": "2021-05-13T06:03:29.471067Z",
     "start_time": "2021-05-13T05:58:01.928Z"
    },
    "hidden": true
   },
   "outputs": [],
   "source": [
    "# this should equal 1009 because there are 1009 NaN values\n",
    "bikes_2019['supply'].isin([0]).sum()"
   ]
  },
  {
   "cell_type": "markdown",
   "metadata": {
    "heading_collapsed": true
   },
   "source": [
    "##### Creating new features - features to groupby:\n",
    "We decided to create new features based on several columns that we wanted to merge together. <br>\n",
    "\n",
    "Basically, our goal would be to **group by** ```station```, ```date``` and ```time```."
   ]
  },
  {
   "cell_type": "code",
   "execution_count": null,
   "metadata": {
    "ExecuteTime": {
     "end_time": "2021-05-13T06:03:29.471737Z",
     "start_time": "2021-05-13T05:58:01.930Z"
    },
    "hidden": true
   },
   "outputs": [],
   "source": [
    "#station of loan + date and time (all in one column)\n",
    "bikes_2019['loan_station_date_time'] = bikes_2019['Id_Aparcamiento_Origen'].astype('string') + \" \" +\\\n",
    "        bikes_2019['Fecha_Prestamo'].dt.date.astype('string') + \" \" +\\\n",
    "        bikes_2019['Fecha_Prestamo'].dt.hour.astype('string')\n",
    "#station of drop off + date and time (all in one column)\n",
    "bikes_2019['deposit_station_date_time'] = bikes_2019['Id_Aparcamiento_Destino'].astype('string') + \" \" +\\\n",
    "        bikes_2019['Fecha_Devolucion'].dt.date.astype('string') + \" \" + \\\n",
    "        bikes_2019['Fecha_Devolucion'].dt.hour.astype('string')"
   ]
  },
  {
   "cell_type": "code",
   "execution_count": null,
   "metadata": {
    "ExecuteTime": {
     "end_time": "2021-05-13T06:03:29.472352Z",
     "start_time": "2021-05-13T05:58:01.933Z"
    },
    "hidden": true
   },
   "outputs": [],
   "source": [
    "bikes_2019"
   ]
  },
  {
   "cell_type": "markdown",
   "metadata": {
    "hidden": true
   },
   "source": [
    "***GroupBy***:\n"
   ]
  },
  {
   "cell_type": "markdown",
   "metadata": {
    "hidden": true
   },
   "source": [
    "1. Demand:"
   ]
  },
  {
   "cell_type": "code",
   "execution_count": null,
   "metadata": {
    "ExecuteTime": {
     "end_time": "2021-05-13T06:03:29.473257Z",
     "start_time": "2021-05-13T05:58:01.935Z"
    },
    "hidden": true
   },
   "outputs": [],
   "source": [
    "demand_per_station_per_hour = bikes_2019[['demand']].groupby(bikes_2019['loan_station_date_time']).sum()\n",
    "demand_per_station_per_hour.reset_index(inplace=True)\n",
    "\n",
    "#unstack informations: \n",
    "demand_per_station_per_hour[['station','date','time']] = \\\n",
    "                        demand_per_station_per_hour.loan_station_date_time.str.split(\" \",expand=True)\n",
    "\n",
    "demand_per_station_per_hour"
   ]
  },
  {
   "cell_type": "code",
   "execution_count": null,
   "metadata": {
    "ExecuteTime": {
     "end_time": "2021-05-13T06:03:29.474346Z",
     "start_time": "2021-05-13T05:58:01.937Z"
    },
    "hidden": true
   },
   "outputs": [],
   "source": [
    "supply_per_station_per_hour = bikes_2019[['supply']].groupby(bikes_2019['deposit_station_date_time']).sum()\n",
    "supply_per_station_per_hour.reset_index(inplace=True)\n",
    "\n",
    "#unstack informations:\n",
    "supply_per_station_per_hour[['station','date','time']] = \\\n",
    "supply_per_station_per_hour.deposit_station_date_time.str.split(\" \",expand=True)\n",
    "\n",
    "supply_per_station_per_hour"
   ]
  },
  {
   "cell_type": "markdown",
   "metadata": {
    "heading_collapsed": true
   },
   "source": [
    "##### Cleaning:\n",
    "We want to be sure to work with cleaned df:\n",
    "- changing type of columns\n",
    "- avoiding additional spaces\n",
    "- create and use a date-time object\n",
    "- drop the columns we don't need anymore\n"
   ]
  },
  {
   "cell_type": "code",
   "execution_count": null,
   "metadata": {
    "ExecuteTime": {
     "end_time": "2021-05-13T06:03:29.475107Z",
     "start_time": "2021-05-13T05:58:01.939Z"
    },
    "hidden": true
   },
   "outputs": [],
   "source": [
    "def clean_df(df, cols, index):\n",
    "    df[cols] =  df[cols].astype(float) # string to float\n",
    "    df.iloc[:,index]=  df.iloc[:,index].str.strip() #left strip\n",
    "    return df"
   ]
  },
  {
   "cell_type": "code",
   "execution_count": null,
   "metadata": {
    "ExecuteTime": {
     "end_time": "2021-05-13T06:03:29.476146Z",
     "start_time": "2021-05-13T05:58:01.940Z"
    },
    "hidden": true
   },
   "outputs": [],
   "source": [
    "df1_clean = clean_df(demand_per_station_per_hour,['station','time'], 0)\n",
    "df2_clean = clean_df(supply_per_station_per_hour,['station','time'], 0)"
   ]
  },
  {
   "cell_type": "code",
   "execution_count": null,
   "metadata": {
    "ExecuteTime": {
     "end_time": "2021-05-13T06:03:29.477506Z",
     "start_time": "2021-05-13T05:58:01.942Z"
    },
    "hidden": true
   },
   "outputs": [],
   "source": [
    "#searching for all the string containint '2019.' in column with station (loan or deposit) + date&time\n",
    "pattern = re.compile(r'2019.*') \n",
    "def year_month_day_hour(x):\n",
    "    return pattern.search(x).group()\n",
    "\n",
    "df1_clean['year_month_day_hour'] = df1_clean['loan_station_date_time'].apply(year_month_day_hour)\n",
    "df2_clean['year_month_day_hour'] = df2_clean['deposit_station_date_time'].apply(year_month_day_hour)"
   ]
  },
  {
   "cell_type": "code",
   "execution_count": null,
   "metadata": {
    "ExecuteTime": {
     "end_time": "2021-05-13T06:03:29.478873Z",
     "start_time": "2021-05-13T05:58:01.943Z"
    },
    "hidden": true
   },
   "outputs": [],
   "source": [
    "#changing type of column from string in date-time:\n",
    "def convert_to_date(x):\n",
    "    return datetime.strptime(x, '%Y-%m-%d %H')\n",
    "df1_clean['year_month_day_hour'] = df1_clean['year_month_day_hour'].apply(convert_to_date)\n",
    "df2_clean['year_month_day_hour'] = df2_clean['year_month_day_hour'].apply(convert_to_date)"
   ]
  },
  {
   "cell_type": "code",
   "execution_count": null,
   "metadata": {
    "ExecuteTime": {
     "end_time": "2021-05-13T06:03:29.480036Z",
     "start_time": "2021-05-13T05:58:01.944Z"
    },
    "hidden": true
   },
   "outputs": [],
   "source": [
    "#Dropping column containing station (loan or deposit) + date&time:\n",
    "def drop_col(df):\n",
    "    return df.iloc[:,1:]\n",
    "df1_clean_drop = drop_col(df1_clean)\n",
    "df2_clean_drop = drop_col(df2_clean)"
   ]
  },
  {
   "cell_type": "code",
   "execution_count": null,
   "metadata": {
    "ExecuteTime": {
     "end_time": "2021-05-13T06:03:29.480899Z",
     "start_time": "2021-05-13T05:58:01.946Z"
    },
    "hidden": true
   },
   "outputs": [],
   "source": [
    "df1_clean_drop"
   ]
  },
  {
   "cell_type": "code",
   "execution_count": null,
   "metadata": {
    "ExecuteTime": {
     "end_time": "2021-05-13T06:03:29.481562Z",
     "start_time": "2021-05-13T05:58:01.947Z"
    },
    "hidden": true
   },
   "outputs": [],
   "source": [
    "df2_clean_drop "
   ]
  },
  {
   "cell_type": "markdown",
   "metadata": {},
   "source": [
    "##### Merging dfs:"
   ]
  },
  {
   "cell_type": "markdown",
   "metadata": {
    "id": "gSDath2nr1fq"
   },
   "source": [
    "## Conclusions 💡"
   ]
  },
  {
   "cell_type": "markdown",
   "metadata": {
    "id": "gSDath2nr1fq"
   },
   "source": [
    "### Scalability and Impact\n",
    "Tell us how applicable and scalable your solution is if you were to implement it in a city. Identify possible limitations and measure the potential social impact of your solution."
   ]
  },
  {
   "cell_type": "markdown",
   "metadata": {
    "id": "CGmbES9GszEv"
   },
   "source": []
  },
  {
   "cell_type": "markdown",
   "metadata": {
    "id": "0XBiBOyAl2Sv"
   },
   "source": [
    "### Future Work\n",
    "Now picture the following scenario: imagine you could have access to any type of data that could help you solve this challenge even better. What would that data be and how would it improve your solution? 🚀"
   ]
  },
  {
   "cell_type": "markdown",
   "metadata": {
    "id": "5gK3heTKl7qz"
   },
   "source": []
  },
  {
   "cell_type": "markdown",
   "metadata": {},
   "source": [
    "# Appendix 🎒"
   ]
  },
  {
   "cell_type": "markdown",
   "metadata": {},
   "source": [
    "## Calculate routes with HERE API"
   ]
  },
  {
   "cell_type": "code",
   "execution_count": null,
   "metadata": {
    "ExecuteTime": {
     "end_time": "2021-05-13T06:03:29.482214Z",
     "start_time": "2021-05-13T05:58:01.952Z"
    }
   },
   "outputs": [],
   "source": [
    "stations_df = pd.read_csv('data/station_location_with_id.csv', sep=';').drop(columns=['photo', 'webDescription'])\n"
   ]
  },
  {
   "cell_type": "code",
   "execution_count": null,
   "metadata": {
    "ExecuteTime": {
     "end_time": "2021-05-13T06:03:29.482880Z",
     "start_time": "2021-05-13T05:58:01.954Z"
    }
   },
   "outputs": [],
   "source": [
    "def app_coords(x):\n",
    "    x['start_coord'] = None\n",
    "    x['finish_coord'] = None\n",
    "    for c, row in x.iterrows():\n",
    "        start = float(row.start_id)\n",
    "        # basically a left join to get the coordinates per station\n",
    "        try:\n",
    "            x.at[c, 'start_coord'] = stations_coords.loc[start, 'longlat']\n",
    "        except Exception as e:\n",
    "            continue\n",
    "        stop = float(row.finish_id)\n",
    "        try:\n",
    "            x.at[c, 'finish_coord'] = stations_coords.loc[stop, 'longlat']\n",
    "        except:\n",
    "            continue\n",
    "    \n",
    "    return x"
   ]
  },
  {
   "cell_type": "code",
   "execution_count": null,
   "metadata": {
    "ExecuteTime": {
     "end_time": "2021-05-13T06:03:29.483600Z",
     "start_time": "2021-05-13T05:58:01.955Z"
    }
   },
   "outputs": [],
   "source": [
    "# assign coords to stations\n",
    "routes_usage_x = routes_usage.copy()\n",
    "routes_usage_x = app_coords(routes_usage_x)"
   ]
  },
  {
   "cell_type": "code",
   "execution_count": null,
   "metadata": {
    "ExecuteTime": {
     "end_time": "2021-05-13T06:03:29.484496Z",
     "start_time": "2021-05-13T05:58:01.956Z"
    }
   },
   "outputs": [],
   "source": [
    "# retrieve bike routes\n",
    "load_dotenv(find_dotenv())\n",
    "HERE_API = os.environ.get(\"HERE_API\")\n",
    "def here_routes(x):\n",
    "    \"\"\"\n",
    "    takes in the row of the bikes df and returns a LineString \n",
    "    of the computed bike route from start to destination\n",
    "    \"\"\"\n",
    "#     x = x.dropna(subset=['start_coord', 'finish_coord'])\n",
    "    # check if both coords are available\n",
    "    if x.start_coord and x.finish_coord:\n",
    "        base_url = 'https://route.ls.hereapi.com/routing/7.2/calculateroute.json'\n",
    "        start = f'{x.start_coord[1]},{x.start_coord[0]}' # latlon flipped to lonlat\n",
    "        stop = f'{x.finish_coord[1]},{x.finish_coord[0]}'\n",
    "        params_i = {'apiKey':HERE_API,\n",
    "                    'waypoint0':f'geo!{start}',\n",
    "                    'waypoint1':f'geo!{stop}',\n",
    "                    'mode':'shortest;bicycle;traffic:disabled'\n",
    "                   }\n",
    "        ri = requests.get(url=base_url, params=params_i)\n",
    "        lst = []\n",
    "        try:\n",
    "            for i in ri.json()['response']['route'][0]['leg'][0]['maneuver']:\n",
    "                lat = i.get('position').get('latitude')\n",
    "                long = i.get('position').get('longitude')\n",
    "                lst.append((long, lat))\n",
    "            line = LineString(lst)\n",
    "            print(line)\n",
    "            return line\n",
    "        except Exeption as e:\n",
    "            print(f'Couldn\\'t get route {start}, {stop}, Error: {e}')\n",
    "            \n",
    "# dont run if routes already retrieved\n",
    "# save all retrieved data in dict before assigning (in case it breaks)\n",
    "if 'routes_dict' not in locals():\n",
    "    routes_dict = {}\n",
    "if 'geometry' not in routes_usage_x.columns:\n",
    "    routes_usage_x['geometry'] = None\n",
    "for c, row in routes_usage_x.iterrows():\n",
    "    if not row.geometry:\n",
    "        line = here_routes(row) # run the function\n",
    "        routes_dict[c] = line\n",
    "        routes_usage_x.at[c, 'geometry'] = line\n",
    "    else:\n",
    "        print(f'satisfied with: {c}') # if route has already been retrieved\n",
    "\n",
    "routes_usage_x.to_csv('raw_data/routes_usage.csv')"
   ]
  },
  {
   "cell_type": "markdown",
   "metadata": {},
   "source": [
    "## Retrieve weather information"
   ]
  },
  {
   "cell_type": "code",
   "execution_count": null,
   "metadata": {},
   "outputs": [],
   "source": [
    "# retrieve all weather data for 2019\n",
    "req = 'http://history.openweathermap.org/data/2.5/history/city'\n",
    "start = bike_df.Fecha_Prestamo.min().value\n",
    "end = bike_df.Fecha_Devolucion.max().value\n",
    "params = {\n",
    "    'id':'3674962', # ID of medellin\n",
    "    'type':'hour',\n",
    "    'start':str(start)[:10], # unix time\n",
    "    'end':str(end)[:10],\n",
    "    'appid': OWM_API\n",
    "}\n",
    "\n",
    "r = requests.get(req, params=params)\n",
    "r.status_code"
   ]
  }
 ],
 "metadata": {
  "colab": {
   "collapsed_sections": [],
   "name": "Notebook Submission Template.ipynb",
   "provenance": []
  },
  "kernelspec": {
   "display_name": "Python 3",
   "language": "python",
   "name": "python3"
  },
  "language_info": {
   "codemirror_mode": {
    "name": "ipython",
    "version": 3
   },
   "file_extension": ".py",
   "mimetype": "text/x-python",
   "name": "python",
   "nbconvert_exporter": "python",
   "pygments_lexer": "ipython3",
   "version": "3.8.6"
  },
  "toc": {
   "base_numbering": 1,
   "nav_menu": {},
   "number_sections": true,
   "sideBar": true,
   "skip_h1_title": false,
   "title_cell": "Table of Contents",
   "title_sidebar": "Contents",
   "toc_cell": false,
   "toc_position": {},
   "toc_section_display": true,
   "toc_window_display": false
  }
 },
 "nbformat": 4,
 "nbformat_minor": 1
}
