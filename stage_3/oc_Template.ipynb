{
 "cells": [
  {
   "cell_type": "markdown",
   "metadata": {
    "id": "JeP6xkRIBJco"
   },
   "source": [
    "# World Data League 2021\n",
    "## Notebook Template\n",
    "\n",
    "This notebook is one of the mandatory deliverables when you submit your solution (alongside the video pitch). Its structure follows the WDL evaluation criteria and it has dedicated cells where you can add descriptions. Make sure your code is readable as it will be the only technical support the jury will have to evaluate your work.\n",
    "\n",
    "The notebook must:\n",
    "\n",
    "*   💻 have all the code that you want the jury to evaluate\n",
    "*   🧱 follow the predefined structure\n",
    "*   📄 have markdown descriptions where you find necessary\n",
    "*   👀 be saved with all the output that you want the jury to see\n",
    "*   🏃‍♂️ be runnable\n"
   ]
  },
  {
   "cell_type": "markdown",
   "metadata": {
    "id": "1QNcZrkVu9xf"
   },
   "source": [
    "## External links and resources\n",
    "Paste here all the links to external resources that are necessary to understand and run your code. Add descriptions to make it clear how to use them during evaluation."
   ]
  },
  {
   "cell_type": "markdown",
   "metadata": {},
   "source": [
    "1. Metro link: [https://wdl-data.fra1.digitaloceanspaces.com/medellin/medellin_metro_stations_and_routes.zip](here)\n",
    "2. Bike load csv: [https://wdl-data.fra1.digitaloceanspaces.com/medellin/bike_loans.zip](here)\n",
    "3. Bus routes:[https://wdl-data.fra1.digitaloceanspaces.com/medellin/medellin_bus_routes.zip](here)"
   ]
  },
  {
   "cell_type": "markdown",
   "metadata": {
    "id": "63ltgxp_rOpI"
   },
   "source": [
    "## Introduction\n",
    "Describe how you framed the challenge by telling us what problem are you trying to solve and how your solution solves that problem."
   ]
  },
  {
   "cell_type": "markdown",
   "metadata": {
    "id": "Hp34gOznrwrq"
   },
   "source": []
  },
  {
   "cell_type": "markdown",
   "metadata": {
    "id": "C8rCpNajszur"
   },
   "source": [
    "## Development\n",
    "Start coding here! 👩‍💻\n",
    "\n",
    "Don't hesitate to create markdown cells to include descriptions of your work where you see fit, as well as commenting your code.\n",
    "\n",
    "We know that you know exactly where to start when it comes to crunching data and building models, but don't forget that WDL is all about social impact...so take that into consideration as well."
   ]
  },
  {
   "cell_type": "markdown",
   "metadata": {
    "id": "afB4W0KnutpV"
   },
   "source": [
    "### importing "
   ]
  },
  {
   "cell_type": "code",
   "execution_count": 1,
   "metadata": {
    "id": "J4jPpcKOutZ5"
   },
   "outputs": [],
   "source": [
    "import pandas as pd \n",
    "import numpy as np\n",
    "import geopandas as gpd\n",
    "import fiona\n",
    "import os\n",
    "import zipfile\n",
    "from folium import Map, CircleMarker, Vega, Popup, Marker, PolyLine, Icon, Choropleth, LayerControl\n",
    "from folium.plugins import MarkerCluster, HeatMap, BeautifyIcon\n",
    "import shapely\n",
    "import matplotlib\n",
    "from ipywidgets import interact\n",
    "import seaborn as sns\n",
    "import matplotlib.pyplot as plt\n",
    "import statsmodels.tsa "
   ]
  },
  {
   "cell_type": "markdown",
   "metadata": {
    "id": "LQ90XveiBN6A"
   },
   "source": [
    "We are now dealing with different types of extensions.  <br> \n",
    "The file we are using are composed with many rows and for this reason is easier to call them just when we need it.  \n",
    "For this reason we are going to create a class that will be able to read and extract the data, already operating the first cleaning steps. "
   ]
  },
  {
   "cell_type": "code",
   "execution_count": 21,
   "metadata": {},
   "outputs": [],
   "source": [
    "gpd.io.file.fiona.drvsupport.supported_drivers['KML'] = 'rw'\n",
    "class Databases:\n",
    "    def __init__(self, csv, anva, smm, metro):\n",
    "        self.csv = csv\n",
    "        self.anva = anva \n",
    "        self.smm = smm\n",
    "        self.metro = metro\n",
    "\n",
    "    def extract_csv(self):\n",
    "        file = pd.read_csv(f'data/bike_loans/{self.csv}', sep=';')\n",
    "        file['Fecha_Prestamo'] = pd.to_datetime(file['Fecha_Prestamo'])\n",
    "        file['Fecha_Devolucion'] = pd.to_datetime(file['Fecha_Devolucion'])\n",
    "        return file\n",
    "        \n",
    "    \n",
    "    def extract_anva(self):\n",
    "        bus_routes_AMVA = gpd.GeoDataFrame()\n",
    "        for root, dirs, files in os.walk(f'data/bus_routes/medellin_bus_routes/{self.anva}'):\n",
    "            for file in files:\n",
    "                path = os.path.join(root, file)\n",
    "                df = gpd.read_file(path, driver='KML')\n",
    "                bus_routes_AMVA = gpd.GeoDataFrame(pd.concat([bus_routes_AMVA, df], ignore_index=True))\n",
    "        return bus_routes_AMVA\n",
    "    \n",
    "    def extract_smm(self):\n",
    "        smm_bus_routes = gpd.GeoDataFrame()\n",
    "        for root, dirs, files in os.walk(f'data/bus_routes/medellin_bus_routes/{self.smm}'):\n",
    "            for file in files:\n",
    "                path = os.path.join(root, file)\n",
    "                df = gpd.read_file(path, driver='KML')\n",
    "                smm_bus_routes = gpd.GeoDataFrame(pd.concat([smm_bus_routes, df], ignore_index=True))\n",
    "        return smm_bus_routes\n",
    "    \n",
    "    def extract_metro(self):\n",
    "        metro_routes = gpd.GeoDataFrame()\n",
    "        for root, dirs, files in os.walk(f'data/medellin_metro/{self.metro}'):\n",
    "            for file in files:\n",
    "                path = os.path.join(root, file)\n",
    "                print(path)\n",
    "                if path.endswith('.kmz'):\n",
    "                    kmz = zipfile.ZipFile(path, 'r')\n",
    "                    kml = kmz.open('doc.kml', 'r')\n",
    "                    df = gpd.read_file(kml, driver='KML')\n",
    "                    metro_routes = gpd.GeoDataFrame(pd.concat([metro_routes, df], ignore_index=True))\n",
    "        return metro_routes"
   ]
  },
  {
   "cell_type": "code",
   "execution_count": 22,
   "metadata": {},
   "outputs": [],
   "source": [
    "databases = Databases('bike_loans.csv','Kml Ruta AMVA','kml Ruta SMM','medellin_metro_stations')"
   ]
  },
  {
   "cell_type": "code",
   "execution_count": 23,
   "metadata": {},
   "outputs": [],
   "source": [
    "bikes = databases.extract_csv()"
   ]
  },
  {
   "cell_type": "code",
   "execution_count": null,
   "metadata": {},
   "outputs": [],
   "source": []
  },
  {
   "cell_type": "code",
   "execution_count": null,
   "metadata": {},
   "outputs": [],
   "source": []
  },
  {
   "cell_type": "code",
   "execution_count": null,
   "metadata": {},
   "outputs": [],
   "source": []
  },
  {
   "cell_type": "code",
   "execution_count": null,
   "metadata": {},
   "outputs": [],
   "source": []
  },
  {
   "cell_type": "markdown",
   "metadata": {
    "id": "gSDath2nr1fq"
   },
   "source": [
    "## Conclusions\n",
    "\n",
    "### Scalability and Impact\n",
    "Tell us how applicable and scalable your solution is if you were to implement it in a city. Identify possible limitations and measure the potential social impact of your solution."
   ]
  },
  {
   "cell_type": "markdown",
   "metadata": {
    "id": "CGmbES9GszEv"
   },
   "source": []
  },
  {
   "cell_type": "markdown",
   "metadata": {
    "id": "0XBiBOyAl2Sv"
   },
   "source": [
    "### Future Work\n",
    "Now picture the following scenario: imagine you could have access to any type of data that could help you solve this challenge even better. What would that data be and how would it improve your solution? 🚀"
   ]
  },
  {
   "cell_type": "markdown",
   "metadata": {
    "id": "5gK3heTKl7qz"
   },
   "source": []
  }
 ],
 "metadata": {
  "colab": {
   "collapsed_sections": [],
   "name": "Notebook Submission Template.ipynb",
   "provenance": []
  },
  "kernelspec": {
   "display_name": "Python 3",
   "language": "python",
   "name": "python3"
  },
  "language_info": {
   "codemirror_mode": {
    "name": "ipython",
    "version": 3
   },
   "file_extension": ".py",
   "mimetype": "text/x-python",
   "name": "python",
   "nbconvert_exporter": "python",
   "pygments_lexer": "ipython3",
   "version": "3.8.6"
  },
  "toc": {
   "base_numbering": 1,
   "nav_menu": {},
   "number_sections": true,
   "sideBar": true,
   "skip_h1_title": false,
   "title_cell": "Table of Contents",
   "title_sidebar": "Contents",
   "toc_cell": false,
   "toc_position": {},
   "toc_section_display": true,
   "toc_window_display": false
  }
 },
 "nbformat": 4,
 "nbformat_minor": 1
}
