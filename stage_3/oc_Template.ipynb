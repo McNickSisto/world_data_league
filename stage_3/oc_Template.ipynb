{
 "cells": [
  {
   "cell_type": "markdown",
   "metadata": {
    "id": "JeP6xkRIBJco"
   },
   "source": [
    "# World Data League 2021\n",
    "## Notebook Template\n",
    "\n",
    "This notebook is one of the mandatory deliverables when you submit your solution (alongside the video pitch). Its structure follows the WDL evaluation criteria and it has dedicated cells where you can add descriptions. Make sure your code is readable as it will be the only technical support the jury will have to evaluate your work.\n",
    "\n",
    "The notebook must:\n",
    "\n",
    "*   💻 have all the code that you want the jury to evaluate\n",
    "*   🧱 follow the predefined structure\n",
    "*   📄 have markdown descriptions where you find necessary\n",
    "*   👀 be saved with all the output that you want the jury to see\n",
    "*   🏃‍♂️ be runnable\n"
   ]
  },
  {
   "cell_type": "markdown",
   "metadata": {
    "id": "1QNcZrkVu9xf"
   },
   "source": [
    "## External links and resources\n",
    "Paste here all the links to external resources that are necessary to understand and run your code. Add descriptions to make it clear how to use them during evaluation."
   ]
  },
  {
   "cell_type": "markdown",
   "metadata": {},
   "source": [
    "1. Metro link: [https://wdl-data.fra1.digitaloceanspaces.com/medellin/medellin_metro_stations_and_routes.zip](here)\n",
    "2. Bike load csv: [https://wdl-data.fra1.digitaloceanspaces.com/medellin/bike_loans.zip](here)\n",
    "3. Bus routes:[https://wdl-data.fra1.digitaloceanspaces.com/medellin/medellin_bus_routes.zip](here)"
   ]
  },
  {
   "cell_type": "markdown",
   "metadata": {
    "id": "63ltgxp_rOpI"
   },
   "source": [
    "## Introduction\n",
    "Describe how you framed the challenge by telling us what problem are you trying to solve and how your solution solves that problem."
   ]
  },
  {
   "cell_type": "markdown",
   "metadata": {
    "id": "Hp34gOznrwrq"
   },
   "source": []
  },
  {
   "cell_type": "markdown",
   "metadata": {
    "id": "C8rCpNajszur"
   },
   "source": [
    "## Development\n",
    "Start coding here! 👩‍💻\n",
    "\n",
    "Don't hesitate to create markdown cells to include descriptions of your work where you see fit, as well as commenting your code.\n",
    "\n",
    "We know that you know exactly where to start when it comes to crunching data and building models, but don't forget that WDL is all about social impact...so take that into consideration as well."
   ]
  },
  {
   "cell_type": "markdown",
   "metadata": {
    "heading_collapsed": true,
    "id": "afB4W0KnutpV"
   },
   "source": [
    "### importing "
   ]
  },
  {
   "cell_type": "code",
   "execution_count": 73,
   "metadata": {
    "hidden": true,
    "id": "J4jPpcKOutZ5"
   },
   "outputs": [],
   "source": [
    "import pandas as pd \n",
    "import numpy as np\n",
    "import geopandas as gpd\n",
    "import fiona\n",
    "import os\n",
    "import zipfile\n",
    "from folium import Map, CircleMarker, Vega, Popup, Marker, PolyLine, Icon, Choropleth, LayerControl\n",
    "from folium.plugins import MarkerCluster, HeatMap, BeautifyIcon\n",
    "import shapely\n",
    "import matplotlib\n",
    "from ipywidgets import interact\n",
    "import seaborn as sns\n",
    "import matplotlib.pyplot as plt\n",
    "import statsmodels.tsa \n",
    "from collections import Counter\n",
    "import re\n",
    "from datetime import datetime"
   ]
  },
  {
   "cell_type": "markdown",
   "metadata": {
    "hidden": true,
    "id": "LQ90XveiBN6A"
   },
   "source": [
    "We are now dealing with different types of extensions.  <br> \n",
    "The file we are using are composed with many rows and for this reason is easier to call them just when we need it.  \n",
    "For this reason we are going to create a class that will be able to read and extract the data, already operating the first cleaning steps. "
   ]
  },
  {
   "cell_type": "markdown",
   "metadata": {
    "heading_collapsed": true
   },
   "source": [
    "### Extracting"
   ]
  },
  {
   "cell_type": "code",
   "execution_count": 2,
   "metadata": {
    "hidden": true
   },
   "outputs": [],
   "source": [
    "gpd.io.file.fiona.drvsupport.supported_drivers['KML'] = 'rw'\n",
    "class Databases:\n",
    "    def __init__(self, csv, anva, smm, metro):\n",
    "        self.csv = csv\n",
    "        self.anva = anva \n",
    "        self.smm = smm\n",
    "        self.metro = metro\n",
    "\n",
    "    def extract_csv(self):\n",
    "        file = pd.read_csv(f'data/bike_loans/{self.csv}', sep=';').drop(columns=['Importe', \n",
    "                                                                        'DescripcionImporte', \n",
    "                                                                        'operario'])\n",
    "        file['Fecha_Prestamo'] = pd.to_datetime(file['Fecha_Prestamo'])\n",
    "        file['Fecha_Devolucion'] = pd.to_datetime(file['Fecha_Devolucion'])\n",
    "        return file\n",
    "        \n",
    "    \n",
    "    def extract_anva(self):\n",
    "        bus_routes_AMVA = gpd.GeoDataFrame()\n",
    "        for root, dirs, files in os.walk(f'data/bus_routes/medellin_bus_routes/{self.anva}'):\n",
    "            for file in files:\n",
    "                path = os.path.join(root, file)\n",
    "                df = gpd.read_file(path, driver='KML')\n",
    "                bus_routes_AMVA = gpd.GeoDataFrame(pd.concat([bus_routes_AMVA, df], ignore_index=True))\n",
    "        return bus_routes_AMVA\n",
    "    \n",
    "    def extract_smm(self):\n",
    "        smm_bus_routes = gpd.GeoDataFrame()\n",
    "        for root, dirs, files in os.walk(f'data/bus_routes/medellin_bus_routes/{self.smm}'):\n",
    "            for file in files:\n",
    "                path = os.path.join(root, file)\n",
    "                df = gpd.read_file(path, driver='KML')\n",
    "                smm_bus_routes = gpd.GeoDataFrame(pd.concat([smm_bus_routes, df], ignore_index=True))\n",
    "        return smm_bus_routes\n",
    "    \n",
    "    def extract_metro(self):\n",
    "        metro_routes = gpd.GeoDataFrame()\n",
    "        for root, dirs, files in os.walk(f'data/medellin_metro/{self.metro}'):\n",
    "            for file in files:\n",
    "                path = os.path.join(root, file)\n",
    "                print(path)\n",
    "                if path.endswith('.kmz'):\n",
    "                    kmz = zipfile.ZipFile(path, 'r')\n",
    "                    kml = kmz.open('doc.kml', 'r')\n",
    "                    df = gpd.read_file(kml, driver='KML')\n",
    "                    metro_routes = gpd.GeoDataFrame(pd.concat([metro_routes, df], ignore_index=True))\n",
    "        return metro_routes"
   ]
  },
  {
   "cell_type": "code",
   "execution_count": 3,
   "metadata": {
    "hidden": true
   },
   "outputs": [],
   "source": [
    "databases = Databases('bike_loans.csv','Kml Ruta AMVA','kml Ruta SMM','medellin_metro_stations')"
   ]
  },
  {
   "cell_type": "code",
   "execution_count": 4,
   "metadata": {
    "hidden": true
   },
   "outputs": [],
   "source": [
    "bikes = databases.extract_csv()"
   ]
  },
  {
   "cell_type": "markdown",
   "metadata": {
    "heading_collapsed": true
   },
   "source": [
    "### Prime Analysis"
   ]
  },
  {
   "cell_type": "markdown",
   "metadata": {
    "hidden": true
   },
   "source": [
    "We can start our analysis with general description of the dataset. <br>\n",
    "**NB**: In our dataset we are dealing with all categorical features or timeseries: there is no need to run ```describe()``` \n",
    "\n",
    "- Id_Tag_Bicicleta : column regarding unique id of each bicycle \n",
    "***let's have a look on how many times the same bike is used (how many times the unique id is present in the df)**"
   ]
  },
  {
   "cell_type": "code",
   "execution_count": 5,
   "metadata": {
    "hidden": true
   },
   "outputs": [
    {
     "data": {
      "image/png": "[encoded data removed]",
      "text/plain": [
       "<Figure size 720x360 with 1 Axes>"
      ]
     },
     "metadata": {
      "needs_background": "light"
     },
     "output_type": "display_data"
    }
   ],
   "source": [
    "plt.figure(figsize=(10,5))\n",
    "plt.title('Bike usage distribution', size=20)\n",
    "counts = bikes.Id_Tag_Bicicleta.value_counts()[::66]\n",
    "y_pos = np.arange(len(counts))\n",
    "plt.bar(y_pos, counts)\n",
    "plt.xlabel('Bikes available in %', size=15)\n",
    "plt.text(x=22, y=6000, s=f'Cutoff: 20% of highest usage', size='x-large')\n",
    "plt.axvline(20, color='r', linestyle='--')\n",
    "\n",
    "plt.show()"
   ]
  },
  {
   "cell_type": "code",
   "execution_count": 6,
   "metadata": {
    "hidden": true
   },
   "outputs": [
    {
     "name": "stdout",
     "output_type": "stream",
     "text": [
      "In total we have 6698 unique bikes over all recorded time\n"
     ]
    }
   ],
   "source": [
    "print(f'In total we have {len(bikes.Id_Tag_Bicicleta.unique())} unique bikes over all recorded time')"
   ]
  },
  {
   "cell_type": "markdown",
   "metadata": {
    "hidden": true
   },
   "source": [
    "As we can see there is a clear cutoff in the 20% of the distribution. That's can also aimed to the different time of putting that bike on the streets.\n",
    "\n",
    "In our dataset we have information about the bike itself, the station of arrival and departures and the costumer. To characterized all this information we have also 2 time series: ```Fecha_Prestamo``` & ```Fecha_Devolucion``` \n",
    "\n",
    "<br>\n",
    "Thank to these we can have an idea of the time in which the bike are more used, which routes are more popular during a certain range of time and also how the data collected has changed during the years, according maybe to the change in habits of the population. "
   ]
  },
  {
   "cell_type": "code",
   "execution_count": 7,
   "metadata": {
    "hidden": true
   },
   "outputs": [
    {
     "data": {
      "text/html": [
       "<div>\n",
       "<style scoped>\n",
       "    .dataframe tbody tr th:only-of-type {\n",
       "        vertical-align: middle;\n",
       "    }\n",
       "\n",
       "    .dataframe tbody tr th {\n",
       "        vertical-align: top;\n",
       "    }\n",
       "\n",
       "    .dataframe thead th {\n",
       "        text-align: right;\n",
       "    }\n",
       "</style>\n",
       "<table border=\"1\" class=\"dataframe\">\n",
       "  <thead>\n",
       "    <tr style=\"text-align: right;\">\n",
       "      <th></th>\n",
       "      <th>Id_Historico_Prestamo</th>\n",
       "      <th>Id_Usuario</th>\n",
       "      <th>Id_Tag_Bicicleta</th>\n",
       "      <th>Fecha_Prestamo</th>\n",
       "      <th>Fecha_Devolucion</th>\n",
       "      <th>Id_Aparcamiento_Origen</th>\n",
       "      <th>Posicion_Origen</th>\n",
       "      <th>Id_Aparcamiento_Destino</th>\n",
       "      <th>Posicion_Destino</th>\n",
       "      <th>Num_Bici_Hist</th>\n",
       "      <th>hour_init</th>\n",
       "      <th>hour_end</th>\n",
       "    </tr>\n",
       "  </thead>\n",
       "  <tbody>\n",
       "    <tr>\n",
       "      <th>0</th>\n",
       "      <td>6501462</td>\n",
       "      <td>18701</td>\n",
       "      <td>000017B00743</td>\n",
       "      <td>2017-06-21 14:22:11</td>\n",
       "      <td>2017-06-21 14:38:29</td>\n",
       "      <td>8</td>\n",
       "      <td>1</td>\n",
       "      <td>43.0</td>\n",
       "      <td>1.0</td>\n",
       "      <td>929.0</td>\n",
       "      <td>14</td>\n",
       "      <td>14</td>\n",
       "    </tr>\n",
       "    <tr>\n",
       "      <th>1</th>\n",
       "      <td>6501318</td>\n",
       "      <td>41811</td>\n",
       "      <td>000017AFF83C</td>\n",
       "      <td>2017-06-21 14:07:18</td>\n",
       "      <td>2017-06-21 14:39:06</td>\n",
       "      <td>56</td>\n",
       "      <td>6</td>\n",
       "      <td>54.0</td>\n",
       "      <td>NaN</td>\n",
       "      <td>1612.0</td>\n",
       "      <td>14</td>\n",
       "      <td>14</td>\n",
       "    </tr>\n",
       "    <tr>\n",
       "      <th>2</th>\n",
       "      <td>6501489</td>\n",
       "      <td>96620</td>\n",
       "      <td>000017AFFB6F</td>\n",
       "      <td>2017-06-21 14:25:11</td>\n",
       "      <td>2017-06-21 14:39:07</td>\n",
       "      <td>36</td>\n",
       "      <td>25</td>\n",
       "      <td>9.0</td>\n",
       "      <td>13.0</td>\n",
       "      <td>1679.0</td>\n",
       "      <td>14</td>\n",
       "      <td>14</td>\n",
       "    </tr>\n",
       "    <tr>\n",
       "      <th>3</th>\n",
       "      <td>6501001</td>\n",
       "      <td>16055</td>\n",
       "      <td>0000182A3B7B</td>\n",
       "      <td>2017-06-21 13:35:52</td>\n",
       "      <td>2017-06-21 14:39:22</td>\n",
       "      <td>8</td>\n",
       "      <td>1</td>\n",
       "      <td>9.0</td>\n",
       "      <td>6.0</td>\n",
       "      <td>1076.0</td>\n",
       "      <td>13</td>\n",
       "      <td>14</td>\n",
       "    </tr>\n",
       "    <tr>\n",
       "      <th>4</th>\n",
       "      <td>6501421</td>\n",
       "      <td>6431</td>\n",
       "      <td>000017AFE810</td>\n",
       "      <td>2017-06-21 14:17:56</td>\n",
       "      <td>2017-06-21 14:39:26</td>\n",
       "      <td>56</td>\n",
       "      <td>14</td>\n",
       "      <td>54.0</td>\n",
       "      <td>NaN</td>\n",
       "      <td>1176.0</td>\n",
       "      <td>14</td>\n",
       "      <td>14</td>\n",
       "    </tr>\n",
       "  </tbody>\n",
       "</table>\n",
       "</div>"
      ],
      "text/plain": [
       "   Id_Historico_Prestamo  Id_Usuario Id_Tag_Bicicleta      Fecha_Prestamo  \\\n",
       "0                6501462       18701     000017B00743 2017-06-21 14:22:11   \n",
       "1                6501318       41811     000017AFF83C 2017-06-21 14:07:18   \n",
       "2                6501489       96620     000017AFFB6F 2017-06-21 14:25:11   \n",
       "3                6501001       16055     0000182A3B7B 2017-06-21 13:35:52   \n",
       "4                6501421        6431     000017AFE810 2017-06-21 14:17:56   \n",
       "\n",
       "     Fecha_Devolucion  Id_Aparcamiento_Origen  Posicion_Origen  \\\n",
       "0 2017-06-21 14:38:29                       8                1   \n",
       "1 2017-06-21 14:39:06                      56                6   \n",
       "2 2017-06-21 14:39:07                      36               25   \n",
       "3 2017-06-21 14:39:22                       8                1   \n",
       "4 2017-06-21 14:39:26                      56               14   \n",
       "\n",
       "   Id_Aparcamiento_Destino  Posicion_Destino  Num_Bici_Hist  hour_init  \\\n",
       "0                     43.0               1.0          929.0         14   \n",
       "1                     54.0               NaN         1612.0         14   \n",
       "2                      9.0              13.0         1679.0         14   \n",
       "3                      9.0               6.0         1076.0         13   \n",
       "4                     54.0               NaN         1176.0         14   \n",
       "\n",
       "   hour_end  \n",
       "0        14  \n",
       "1        14  \n",
       "2        14  \n",
       "3        14  \n",
       "4        14  "
      ]
     },
     "execution_count": 7,
     "metadata": {},
     "output_type": "execute_result"
    }
   ],
   "source": [
    "# Extracting just the hour: \n",
    "bikes['hour_init']= bikes['Fecha_Prestamo'].dt.hour\n",
    "bikes['hour_end']=bikes['Fecha_Devolucion'].dt.hour\n",
    "bikes.head(5)"
   ]
  },
  {
   "cell_type": "code",
   "execution_count": 8,
   "metadata": {
    "hidden": true
   },
   "outputs": [
    {
     "name": "stdout",
     "output_type": "stream",
     "text": [
      "The highest usage of bikes is at 17 and 7\n"
     ]
    },
    {
     "name": "stderr",
     "output_type": "stream",
     "text": [
      "/Users/olgacravesana/.pyenv/versions/3.8.6/envs/lewagon/lib/python3.8/site-packages/seaborn/_decorators.py:36: FutureWarning: Pass the following variables as keyword args: x, y. From version 0.12, the only valid positional argument will be `data`, and passing other arguments without an explicit keyword will result in an error or misinterpretation.\n",
      "  warnings.warn(\n"
     ]
    },
    {
     "data": {
      "image/png": "[encoded data removed]",
      "text/plain": [
       "<Figure size 1080x720 with 1 Axes>"
      ]
     },
     "metadata": {
      "needs_background": "light"
     },
     "output_type": "display_data"
    }
   ],
   "source": [
    "plt.figure(figsize=(15,10))\n",
    "hours = pd.DataFrame(bikes.hour_init.value_counts())\n",
    "hours=hours.drop(index=[1,2,3,4,23,0]) #inactivity hours\n",
    "sns.barplot(hours.index,hours.hour_init)\n",
    "plt.title('Hourly usage of bike', size=20)\n",
    "plt.xlabel('Hours', size=15)\n",
    "plt.ylabel('Count/Hours', size=15)\n",
    "print(f'The highest usage of bikes is at 17 and 7')"
   ]
  },
  {
   "cell_type": "code",
   "execution_count": 9,
   "metadata": {
    "hidden": true
   },
   "outputs": [],
   "source": [
    "bikes= bikes.dropna()"
   ]
  },
  {
   "cell_type": "code",
   "execution_count": 10,
   "metadata": {
    "hidden": true
   },
   "outputs": [],
   "source": [
    "bikes['routes'] = bikes.apply(lambda x: f'{x.Id_Aparcamiento_Origen}_{int(x.Id_Aparcamiento_Destino)}', axis=1)"
   ]
  },
  {
   "cell_type": "markdown",
   "metadata": {
    "hidden": true
   },
   "source": [
    "- We can now try to understand the routes depending on the our of the day.\n",
    "- During all the analysis we will focus on the hours as main indicator as our target regard the best distribution of bikes **xhour**"
   ]
  },
  {
   "cell_type": "code",
   "execution_count": 11,
   "metadata": {
    "hidden": true
   },
   "outputs": [],
   "source": [
    "# grouping by hour\n",
    "agg = {'Id_Aparcamiento_Origen':'count', \n",
    "      'routes': lambda x: list(x)}\n",
    "routes_by_hr = bikes.groupby('hour_init').agg(agg).rename(columns={'Id_Aparcamiento_Origen':'count_rentals'})"
   ]
  },
  {
   "cell_type": "markdown",
   "metadata": {
    "hidden": true
   },
   "source": [
    "Now we can see the rental distribuition over the day thank to the ```count``` column in our new df "
   ]
  },
  {
   "cell_type": "code",
   "execution_count": 12,
   "metadata": {
    "hidden": true
   },
   "outputs": [
    {
     "data": {
      "text/plain": [
       "<matplotlib.collections.PathCollection at 0x25997b040>"
      ]
     },
     "execution_count": 12,
     "metadata": {},
     "output_type": "execute_result"
    },
    {
     "data": {
      "image/png": "[encoded data removed]",
      "text/plain": [
       "<Figure size 1440x720 with 1 Axes>"
      ]
     },
     "metadata": {
      "needs_background": "light"
     },
     "output_type": "display_data"
    }
   ],
   "source": [
    "plt.figure(figsize=(20,10))\n",
    "plt.plot(routes_by_hr.count_rentals)\n",
    "plt.title('Rental distribution over the day', size=20)\n",
    "plt.scatter([8,15], [1,1], marker='h', linewidths=20)"
   ]
  },
  {
   "cell_type": "code",
   "execution_count": 13,
   "metadata": {
    "hidden": true
   },
   "outputs": [],
   "source": [
    "# count the amount of occuring routes per hour (counting the ocurrences in the lists)\n",
    "routes_dict = {}\n",
    "for c, row in routes_by_hr.iterrows():\n",
    "    routes_dict[c] = dict(Counter(row.routes))\n",
    "\n",
    "routes_usage = pd.DataFrame.from_dict(routes_dict)"
   ]
  },
  {
   "cell_type": "markdown",
   "metadata": {
    "hidden": true
   },
   "source": [
    "Now we can create different features that shows the movement of the bikes during the different hours."
   ]
  },
  {
   "cell_type": "code",
   "execution_count": 14,
   "metadata": {
    "hidden": true
   },
   "outputs": [],
   "source": [
    "routes_usage['start_id'] = routes_usage.index.map(lambda x: x.split('_')[0])\n",
    "routes_usage['finish_id'] = routes_usage.index.map(lambda x: x.split('_')[1])\n",
    "routes_usage['no_move'] = routes_usage.start_id == routes_usage.finish_id"
   ]
  },
  {
   "cell_type": "markdown",
   "metadata": {
    "hidden": true
   },
   "source": [
    "What we can actually see right now? \n",
    "- how many times were bikes returned to the **same** station\n",
    "- how many times were bikes rented **less** than 2 mins"
   ]
  },
  {
   "cell_type": "markdown",
   "metadata": {
    "hidden": true
   },
   "source": [
    "We can now focus on the top **5 routes xhour**"
   ]
  },
  {
   "cell_type": "code",
   "execution_count": 15,
   "metadata": {
    "hidden": true
   },
   "outputs": [],
   "source": [
    "rank_routes = {}\n",
    "for hour in routes_usage.columns:\n",
    "    top3 = dict(routes_usage[hour].sort_values(ascending=False)[:3])\n",
    "    rank_routes[hour] = top3\n",
    "rank_routes_df = pd.DataFrame(rank_routes).T"
   ]
  },
  {
   "cell_type": "markdown",
   "metadata": {
    "hidden": true
   },
   "source": [
    "We observed that the counts from 0 to 4 in the morning are too low and for this we decide to split the df "
   ]
  },
  {
   "cell_type": "code",
   "execution_count": 16,
   "metadata": {
    "hidden": true
   },
   "outputs": [
    {
     "data": {
      "image/png": "[encoded data removed]",
      "text/plain": [
       "<Figure size 1440x1080 with 1 Axes>"
      ]
     },
     "metadata": {
      "needs_background": "light"
     },
     "output_type": "display_data"
    }
   ],
   "source": [
    "rank_routes_df.loc[5:21].plot(kind='bar', figsize=(20,15), width=5, stacked=False, align='center')\n",
    "plt.title('Usage of top 3 routes per hour', size=18)\n",
    "plt.grid()\n",
    "plt.show()"
   ]
  },
  {
   "cell_type": "markdown",
   "metadata": {
    "hidden": true
   },
   "source": [
    "**Note**<br>\n",
    "- In the morning hours the route ```8_10``` is represented in high numbers followed by ```7_70```\n",
    "- In the evening hours there are more ```2_1``` and ```10_8``` rentals recorded\n",
    "- Noons and afternoons have a stable distribution of ```70_7``` (returns of the mornings)\n",
    "- Way less people go back the same way they came from (```8_10``` vs. ```10_8```)"
   ]
  },
  {
   "cell_type": "markdown",
   "metadata": {
    "heading_collapsed": true
   },
   "source": [
    "### Pandemic? "
   ]
  },
  {
   "cell_type": "markdown",
   "metadata": {
    "hidden": true
   },
   "source": [
    "In the last year our habits changed a lot due to the pandemic we are dealing day by day with. For this reason we cannot avoid to take it in account.\n",
    "\n",
    "**Let's see how our data changed before and after the spreading of Corona Virus:**"
   ]
  },
  {
   "cell_type": "code",
   "execution_count": 17,
   "metadata": {
    "hidden": true
   },
   "outputs": [],
   "source": [
    "bikes['year'] = bikes.Fecha_Prestamo.dt.year\n",
    "evolution_bikes = {}\n",
    "for year in sorted(bikes.year.unique())[::-1]:\n",
    "    df_filter = bikes[bikes.year == year]\n",
    "    df_filter_prev = bikes[bikes.year == year-1]\n",
    "    bikes_ = df_filter.Id_Tag_Bicicleta.unique()\n",
    "    bikes_prev = df_filter_prev.Id_Tag_Bicicleta.unique()\n",
    "    count_up = len([bike for bike in bikes_ if bike not in bikes_prev])\n",
    "    count_down = -len([bike for bike in bikes_prev if bike not in bikes_])\n",
    "    evolution_bikes[year] = {'loss': count_down, 'win': count_up}"
   ]
  },
  {
   "cell_type": "code",
   "execution_count": 18,
   "metadata": {
    "hidden": true
   },
   "outputs": [
    {
     "data": {
      "image/png": "[encoded data removed]",
      "text/plain": [
       "<Figure size 1440x720 with 1 Axes>"
      ]
     },
     "metadata": {
      "needs_background": "light"
     },
     "output_type": "display_data"
    }
   ],
   "source": [
    "pd.DataFrame(evolution_bikes).T.sort_index().plot(kind='bar', figsize=(20,10))\n",
    "plt.grid()"
   ]
  },
  {
   "cell_type": "markdown",
   "metadata": {
    "hidden": true
   },
   "source": [
    "**Note**<br>\n",
    "we can see that a lot of bikes stopped appearing in 2021. The highest investments have been made in 2020."
   ]
  },
  {
   "cell_type": "markdown",
   "metadata": {
    "hidden": true
   },
   "source": [
    "**What about changing in the routes?**"
   ]
  },
  {
   "cell_type": "code",
   "execution_count": 19,
   "metadata": {
    "hidden": true
   },
   "outputs": [],
   "source": [
    "evolution_routes = {}\n",
    "for year in sorted(bikes.year.unique())[::-1]:\n",
    "    df_filter = bikes[bikes.year == year]\n",
    "    df_filter_prev = bikes[bikes.year == year-1]\n",
    "    routes_ = df_filter.routes.unique()\n",
    "    routes_prev = df_filter_prev.routes.unique()\n",
    "    count_up = len([route for route in routes_ if route not in routes_prev])\n",
    "    count_down = -len([route for route in routes_prev if route not in routes_])\n",
    "    evolution_routes[year] = {'loss': count_down, 'win': count_up}"
   ]
  },
  {
   "cell_type": "code",
   "execution_count": 20,
   "metadata": {
    "hidden": true
   },
   "outputs": [
    {
     "data": {
      "image/png": "[encoded data removed]",
      "text/plain": [
       "<Figure size 1440x720 with 1 Axes>"
      ]
     },
     "metadata": {
      "needs_background": "light"
     },
     "output_type": "display_data"
    }
   ],
   "source": [
    "pd.DataFrame(evolution_routes).T.sort_index().plot(kind='bar', figsize=(20,10))\n",
    "plt.grid()"
   ]
  },
  {
   "cell_type": "markdown",
   "metadata": {
    "hidden": true
   },
   "source": [
    "**Note**<br>\n",
    "In 2019 and 2020 a lot of new routes were explored by the bike users. As we predicted there were changing in the investment as well as in the usage of the bicycles. \n",
    "\n",
    "**Did the total of rentals changed during the years?**"
   ]
  },
  {
   "cell_type": "code",
   "execution_count": 21,
   "metadata": {
    "hidden": true
   },
   "outputs": [
    {
     "data": {
      "image/png": "[encoded data removed]",
      "text/plain": [
       "<Figure size 1440x720 with 1 Axes>"
      ]
     },
     "metadata": {
      "needs_background": "light"
     },
     "output_type": "display_data"
    }
   ],
   "source": [
    "# calculate evolution of rentals\n",
    "evolution_rentals = {}\n",
    "for year in sorted(bikes.year.unique()):\n",
    "    df_filter = bikes[bikes.year == year]\n",
    "    count = df_filter.Id_Historico_Prestamo.count()\n",
    "    evolution_rentals[year] = count\n",
    "evolution_rentals_df = pd.DataFrame.from_dict(evolution_rentals, orient='index').rename(columns={0:'count'})\n",
    "evolution_rentals_df.plot(kind='bar', figsize=(20,10))\n",
    "plt.grid()\n",
    "plt.title(\"Evolution of bike rentals from 2014 to 2021\", size=16)\n",
    "plt.show()"
   ]
  },
  {
   "cell_type": "markdown",
   "metadata": {
    "hidden": true
   },
   "source": [
    "**As predicted we see a big decrease in rentals in 2020 and 2021.**\n",
    "1. we cannot run a model without taking this real world event in account\n",
    "2. we decide to split the data and work just on the pre-pandemic information to get a more informative and more reliable model \n",
    "\n",
    "**Split of dataframe**"
   ]
  },
  {
   "cell_type": "code",
   "execution_count": 22,
   "metadata": {
    "hidden": true
   },
   "outputs": [],
   "source": [
    "bikes_nocov = bikes[bikes.Fecha_Devolucion <= '31/12/2019']"
   ]
  },
  {
   "cell_type": "code",
   "execution_count": 23,
   "metadata": {
    "hidden": true
   },
   "outputs": [
    {
     "name": "stdout",
     "output_type": "stream",
     "text": [
      "Even after have drop all the Nan values and have taken just rows referring to the prepandemic world,\n",
      "we have a dataset with 10737486 rows.\n"
     ]
    }
   ],
   "source": [
    "print(f'Even after have drop all the Nan values and have taken just rows referring to the prepandemic world,\\nwe have a dataset with {bikes_nocov.shape[0]} rows.')"
   ]
  },
  {
   "cell_type": "markdown",
   "metadata": {
    "heading_collapsed": true
   },
   "source": [
    "### Model"
   ]
  },
  {
   "cell_type": "code",
   "execution_count": 45,
   "metadata": {
    "hidden": true
   },
   "outputs": [],
   "source": [
    "#re-importing original df\n",
    "bikes = databases.extract_csv()"
   ]
  },
  {
   "cell_type": "markdown",
   "metadata": {
    "hidden": true
   },
   "source": [
    "Following some review, we decided to focus entirely on the data from **2019**. \n",
    "\n",
    "There are several reasons for this:\n",
    "\n",
    "1. We believe that using data at the beginning of the project might be unrepresentative of how it is currently operated (just before COVID). \n",
    "2. For dimensionality purposes, the more rows and dates we turn into time series, the great amount of data to process.\n",
    "\n",
    "**NOTE:** \n",
    "<br>\n",
    "We are focusing solely on 2019, therefore we are removing the bikes that were loaned **AND** deposited back in 2019. Therefore, bikes dropped after 31/12/2019 wouldn't be counted."
   ]
  },
  {
   "cell_type": "code",
   "execution_count": 46,
   "metadata": {
    "hidden": true
   },
   "outputs": [
    {
     "data": {
      "text/html": [
       "<div>\n",
       "<style scoped>\n",
       "    .dataframe tbody tr th:only-of-type {\n",
       "        vertical-align: middle;\n",
       "    }\n",
       "\n",
       "    .dataframe tbody tr th {\n",
       "        vertical-align: top;\n",
       "    }\n",
       "\n",
       "    .dataframe thead th {\n",
       "        text-align: right;\n",
       "    }\n",
       "</style>\n",
       "<table border=\"1\" class=\"dataframe\">\n",
       "  <thead>\n",
       "    <tr style=\"text-align: right;\">\n",
       "      <th></th>\n",
       "      <th>Id_Historico_Prestamo</th>\n",
       "      <th>Id_Usuario</th>\n",
       "      <th>Id_Tag_Bicicleta</th>\n",
       "      <th>Fecha_Prestamo</th>\n",
       "      <th>Fecha_Devolucion</th>\n",
       "      <th>Id_Aparcamiento_Origen</th>\n",
       "      <th>Posicion_Origen</th>\n",
       "      <th>Id_Aparcamiento_Destino</th>\n",
       "      <th>Posicion_Destino</th>\n",
       "      <th>Num_Bici_Hist</th>\n",
       "    </tr>\n",
       "  </thead>\n",
       "  <tbody>\n",
       "    <tr>\n",
       "      <th>440864</th>\n",
       "      <td>10948569</td>\n",
       "      <td>20272</td>\n",
       "      <td>00FB73222B5E</td>\n",
       "      <td>2019-02-20 14:08:04</td>\n",
       "      <td>2019-02-20 14:26:08</td>\n",
       "      <td>9</td>\n",
       "      <td>1</td>\n",
       "      <td>43.0</td>\n",
       "      <td>1.0</td>\n",
       "      <td>1366.0</td>\n",
       "    </tr>\n",
       "    <tr>\n",
       "      <th>586995</th>\n",
       "      <td>12896369</td>\n",
       "      <td>135209</td>\n",
       "      <td>002772222B5E</td>\n",
       "      <td>2019-08-22 09:19:51</td>\n",
       "      <td>2019-08-22 09:20:31</td>\n",
       "      <td>44</td>\n",
       "      <td>15</td>\n",
       "      <td>44.0</td>\n",
       "      <td>15.0</td>\n",
       "      <td>976.0</td>\n",
       "    </tr>\n",
       "    <tr>\n",
       "      <th>726893</th>\n",
       "      <td>12896264</td>\n",
       "      <td>26536</td>\n",
       "      <td>00094A72BF5B</td>\n",
       "      <td>2019-08-22 09:11:22</td>\n",
       "      <td>2019-08-22 09:20:53</td>\n",
       "      <td>9</td>\n",
       "      <td>1</td>\n",
       "      <td>70.0</td>\n",
       "      <td>1.0</td>\n",
       "      <td>2699.0</td>\n",
       "    </tr>\n",
       "    <tr>\n",
       "      <th>1028721</th>\n",
       "      <td>10948678</td>\n",
       "      <td>124512</td>\n",
       "      <td>00233C222B5E</td>\n",
       "      <td>2019-02-20 14:15:54</td>\n",
       "      <td>2019-02-20 14:26:28</td>\n",
       "      <td>89</td>\n",
       "      <td>2</td>\n",
       "      <td>56.0</td>\n",
       "      <td>1.0</td>\n",
       "      <td>638.0</td>\n",
       "    </tr>\n",
       "    <tr>\n",
       "      <th>2111125</th>\n",
       "      <td>10516625</td>\n",
       "      <td>40806</td>\n",
       "      <td>009F53222B5E</td>\n",
       "      <td>2019-01-02 12:57:01</td>\n",
       "      <td>2019-01-02 13:51:38</td>\n",
       "      <td>12</td>\n",
       "      <td>1</td>\n",
       "      <td>22.0</td>\n",
       "      <td>NaN</td>\n",
       "      <td>558.0</td>\n",
       "    </tr>\n",
       "    <tr>\n",
       "      <th>...</th>\n",
       "      <td>...</td>\n",
       "      <td>...</td>\n",
       "      <td>...</td>\n",
       "      <td>...</td>\n",
       "      <td>...</td>\n",
       "      <td>...</td>\n",
       "      <td>...</td>\n",
       "      <td>...</td>\n",
       "      <td>...</td>\n",
       "      <td>...</td>\n",
       "    </tr>\n",
       "    <tr>\n",
       "      <th>11767100</th>\n",
       "      <td>14454800</td>\n",
       "      <td>27944</td>\n",
       "      <td>0000F69A5A88</td>\n",
       "      <td>2019-12-31 13:58:55</td>\n",
       "      <td>2019-12-31 14:25:38</td>\n",
       "      <td>40</td>\n",
       "      <td>1</td>\n",
       "      <td>50.0</td>\n",
       "      <td>1.0</td>\n",
       "      <td>541.0</td>\n",
       "    </tr>\n",
       "    <tr>\n",
       "      <th>11767101</th>\n",
       "      <td>14454778</td>\n",
       "      <td>108800</td>\n",
       "      <td>00029A222B5E</td>\n",
       "      <td>2019-12-31 13:52:48</td>\n",
       "      <td>2019-12-31 14:40:52</td>\n",
       "      <td>28</td>\n",
       "      <td>1</td>\n",
       "      <td>50.0</td>\n",
       "      <td>1.0</td>\n",
       "      <td>715.0</td>\n",
       "    </tr>\n",
       "    <tr>\n",
       "      <th>11767102</th>\n",
       "      <td>14454793</td>\n",
       "      <td>98449</td>\n",
       "      <td>00001619CE0A</td>\n",
       "      <td>2019-12-31 13:55:47</td>\n",
       "      <td>2019-12-31 14:41:39</td>\n",
       "      <td>113</td>\n",
       "      <td>1</td>\n",
       "      <td>28.0</td>\n",
       "      <td>1.0</td>\n",
       "      <td>3497.0</td>\n",
       "    </tr>\n",
       "    <tr>\n",
       "      <th>11767103</th>\n",
       "      <td>14454774</td>\n",
       "      <td>129665</td>\n",
       "      <td>000036885A88</td>\n",
       "      <td>2019-12-31 13:51:28</td>\n",
       "      <td>2019-12-31 16:27:12</td>\n",
       "      <td>39</td>\n",
       "      <td>15</td>\n",
       "      <td>41.0</td>\n",
       "      <td>15.0</td>\n",
       "      <td>534.0</td>\n",
       "    </tr>\n",
       "    <tr>\n",
       "      <th>11767179</th>\n",
       "      <td>14454588</td>\n",
       "      <td>121316</td>\n",
       "      <td>000026FE5A88</td>\n",
       "      <td>2019-12-31 13:15:55</td>\n",
       "      <td>2019-12-31 15:01:31</td>\n",
       "      <td>103</td>\n",
       "      <td>4</td>\n",
       "      <td>118.0</td>\n",
       "      <td>4.0</td>\n",
       "      <td>2092.0</td>\n",
       "    </tr>\n",
       "  </tbody>\n",
       "</table>\n",
       "<p>3798139 rows × 10 columns</p>\n",
       "</div>"
      ],
      "text/plain": [
       "          Id_Historico_Prestamo  Id_Usuario Id_Tag_Bicicleta  \\\n",
       "440864                 10948569       20272     00FB73222B5E   \n",
       "586995                 12896369      135209     002772222B5E   \n",
       "726893                 12896264       26536     00094A72BF5B   \n",
       "1028721                10948678      124512     00233C222B5E   \n",
       "2111125                10516625       40806     009F53222B5E   \n",
       "...                         ...         ...              ...   \n",
       "11767100               14454800       27944     0000F69A5A88   \n",
       "11767101               14454778      108800     00029A222B5E   \n",
       "11767102               14454793       98449     00001619CE0A   \n",
       "11767103               14454774      129665     000036885A88   \n",
       "11767179               14454588      121316     000026FE5A88   \n",
       "\n",
       "              Fecha_Prestamo    Fecha_Devolucion  Id_Aparcamiento_Origen  \\\n",
       "440864   2019-02-20 14:08:04 2019-02-20 14:26:08                       9   \n",
       "586995   2019-08-22 09:19:51 2019-08-22 09:20:31                      44   \n",
       "726893   2019-08-22 09:11:22 2019-08-22 09:20:53                       9   \n",
       "1028721  2019-02-20 14:15:54 2019-02-20 14:26:28                      89   \n",
       "2111125  2019-01-02 12:57:01 2019-01-02 13:51:38                      12   \n",
       "...                      ...                 ...                     ...   \n",
       "11767100 2019-12-31 13:58:55 2019-12-31 14:25:38                      40   \n",
       "11767101 2019-12-31 13:52:48 2019-12-31 14:40:52                      28   \n",
       "11767102 2019-12-31 13:55:47 2019-12-31 14:41:39                     113   \n",
       "11767103 2019-12-31 13:51:28 2019-12-31 16:27:12                      39   \n",
       "11767179 2019-12-31 13:15:55 2019-12-31 15:01:31                     103   \n",
       "\n",
       "          Posicion_Origen  Id_Aparcamiento_Destino  Posicion_Destino  \\\n",
       "440864                  1                     43.0               1.0   \n",
       "586995                 15                     44.0              15.0   \n",
       "726893                  1                     70.0               1.0   \n",
       "1028721                 2                     56.0               1.0   \n",
       "2111125                 1                     22.0               NaN   \n",
       "...                   ...                      ...               ...   \n",
       "11767100                1                     50.0               1.0   \n",
       "11767101                1                     50.0               1.0   \n",
       "11767102                1                     28.0               1.0   \n",
       "11767103               15                     41.0              15.0   \n",
       "11767179                4                    118.0               4.0   \n",
       "\n",
       "          Num_Bici_Hist  \n",
       "440864           1366.0  \n",
       "586995            976.0  \n",
       "726893           2699.0  \n",
       "1028721           638.0  \n",
       "2111125           558.0  \n",
       "...                 ...  \n",
       "11767100          541.0  \n",
       "11767101          715.0  \n",
       "11767102         3497.0  \n",
       "11767103          534.0  \n",
       "11767179         2092.0  \n",
       "\n",
       "[3798139 rows x 10 columns]"
      ]
     },
     "execution_count": 46,
     "metadata": {},
     "output_type": "execute_result"
    }
   ],
   "source": [
    "# bikes_2019_loans_only = bikes_nocov[(bikes_nocov['Fecha_Prestamo'].dt.year == 2019)]\n",
    "bikes_2019 = bikes[(bikes['Fecha_Prestamo'].dt.year == 2019) & (bikes['Fecha_Devolucion'].dt.year == 2019)]\n",
    "bikes_2019"
   ]
  },
  {
   "cell_type": "markdown",
   "metadata": {
    "heading_collapsed": true,
    "hidden": true
   },
   "source": [
    "##### Preprocessing: Nan Values"
   ]
  },
  {
   "cell_type": "code",
   "execution_count": 47,
   "metadata": {
    "hidden": true
   },
   "outputs": [
    {
     "data": {
      "text/plain": [
       "(0, 1009)"
      ]
     },
     "execution_count": 47,
     "metadata": {},
     "output_type": "execute_result"
    }
   ],
   "source": [
    "bikes_2019['Id_Aparcamiento_Origen'].isna().sum(), bikes_2019['Id_Aparcamiento_Destino'].isna().sum()"
   ]
  },
  {
   "cell_type": "markdown",
   "metadata": {
    "hidden": true
   },
   "source": [
    "We are seeing above the amount of ```NaN``` values for the columns - station of origin and station of destination. What is happening is that there are no ```NaN``` values station of origins and **1009** for stations of **destination**. What we assume could have happened, is that someone stole the bikes (is once again some drunk people took their fucking bikes and threw them into the river or something along those lines), hence never reached their destination.\n",
    "\n",
    "**Solution**: <br>\n",
    "Filling those NaN values with -1 for conversion purposes, so that we can more easily use the ```.apply()``` function when creating new features"
   ]
  },
  {
   "cell_type": "code",
   "execution_count": 48,
   "metadata": {
    "hidden": true
   },
   "outputs": [
    {
     "name": "stderr",
     "output_type": "stream",
     "text": [
      "<ipython-input-48-c65db0f1f3d8>:1: SettingWithCopyWarning: \n",
      "A value is trying to be set on a copy of a slice from a DataFrame.\n",
      "Try using .loc[row_indexer,col_indexer] = value instead\n",
      "\n",
      "See the caveats in the documentation: https://pandas.pydata.org/pandas-docs/stable/user_guide/indexing.html#returning-a-view-versus-a-copy\n",
      "  bikes_2019['Id_Aparcamiento_Destino'] = bikes_2019['Id_Aparcamiento_Destino'].fillna(np.NaN)\n",
      "<ipython-input-48-c65db0f1f3d8>:2: SettingWithCopyWarning: \n",
      "A value is trying to be set on a copy of a slice from a DataFrame.\n",
      "Try using .loc[row_indexer,col_indexer] = value instead\n",
      "\n",
      "See the caveats in the documentation: https://pandas.pydata.org/pandas-docs/stable/user_guide/indexing.html#returning-a-view-versus-a-copy\n",
      "  bikes_2019['Posicion_Destino'] = bikes_2019['Posicion_Destino'].fillna(np.NaN)\n"
     ]
    }
   ],
   "source": [
    "bikes_2019['Id_Aparcamiento_Destino'] = bikes_2019['Id_Aparcamiento_Destino'].fillna(np.NaN)\n",
    "bikes_2019['Posicion_Destino'] = bikes_2019['Posicion_Destino'].fillna(np.NaN)"
   ]
  },
  {
   "cell_type": "markdown",
   "metadata": {
    "heading_collapsed": true,
    "hidden": true
   },
   "source": [
    "##### Columns type:\n",
    "We can see from above that some similar columns are of different types such as ```Id_Aparcamiento_Destino``` = ```float64``` AND ```Id_Aparcamiento_Origen``` = ```int64```\n",
    "\n",
    " "
   ]
  },
  {
   "cell_type": "code",
   "execution_count": 49,
   "metadata": {
    "hidden": true
   },
   "outputs": [
    {
     "data": {
      "text/plain": [
       "Id_Historico_Prestamo               int64\n",
       "Id_Usuario                          int64\n",
       "Id_Tag_Bicicleta                   object\n",
       "Fecha_Prestamo             datetime64[ns]\n",
       "Fecha_Devolucion           datetime64[ns]\n",
       "Id_Aparcamiento_Origen              int64\n",
       "Posicion_Origen                     int64\n",
       "Id_Aparcamiento_Destino           float64\n",
       "Posicion_Destino                  float64\n",
       "Num_Bici_Hist                     float64\n",
       "dtype: object"
      ]
     },
     "execution_count": 49,
     "metadata": {},
     "output_type": "execute_result"
    }
   ],
   "source": [
    "bikes_2019.dtypes"
   ]
  },
  {
   "cell_type": "code",
   "execution_count": 50,
   "metadata": {
    "hidden": true
   },
   "outputs": [
    {
     "name": "stderr",
     "output_type": "stream",
     "text": [
      "<ipython-input-50-07e49c6f4f17>:1: SettingWithCopyWarning: \n",
      "A value is trying to be set on a copy of a slice from a DataFrame.\n",
      "Try using .loc[row_indexer,col_indexer] = value instead\n",
      "\n",
      "See the caveats in the documentation: https://pandas.pydata.org/pandas-docs/stable/user_guide/indexing.html#returning-a-view-versus-a-copy\n",
      "  bikes_2019['Id_Aparcamiento_Origen'] = bikes_2019['Id_Aparcamiento_Origen'].astype(float)\n",
      "<ipython-input-50-07e49c6f4f17>:2: SettingWithCopyWarning: \n",
      "A value is trying to be set on a copy of a slice from a DataFrame.\n",
      "Try using .loc[row_indexer,col_indexer] = value instead\n",
      "\n",
      "See the caveats in the documentation: https://pandas.pydata.org/pandas-docs/stable/user_guide/indexing.html#returning-a-view-versus-a-copy\n",
      "  bikes_2019['Posicion_Origen'] = bikes_2019['Posicion_Origen'].astype(float)\n"
     ]
    }
   ],
   "source": [
    "bikes_2019['Id_Aparcamiento_Origen'] = bikes_2019['Id_Aparcamiento_Origen'].astype(float)  \n",
    "bikes_2019['Posicion_Origen'] = bikes_2019['Posicion_Origen'].astype(float)"
   ]
  },
  {
   "cell_type": "markdown",
   "metadata": {
    "heading_collapsed": true,
    "hidden": true
   },
   "source": [
    "##### Feature Creation: Supply & Demand"
   ]
  },
  {
   "cell_type": "code",
   "execution_count": 51,
   "metadata": {
    "hidden": true
   },
   "outputs": [],
   "source": [
    "def create_supply_demand(x):\n",
    "        if x >= 0:\n",
    "            return 1\n",
    "        elif x != x:\n",
    "            return 0"
   ]
  },
  {
   "cell_type": "markdown",
   "metadata": {
    "hidden": true
   },
   "source": [
    "What the function above does is to return 0 or 1 depending on whether each row has a station of origin or station of destination:\n",
    "- Each time someone **loans** a new bike this is/can be represented as ```demand``` = 1. \n",
    "- Each time someone **drop** their bikes this can be represented as ```supply``` = 1. \n",
    "\n",
    "**Note**:\n",
    "<br>\n",
    "However, if the row does not have a station of destination i.e. the bike got lost/thrown in the river, then supply should be = **0**. For later use, this will be to find out if there is an ***imbalance*** of demand and supply for some stations."
   ]
  },
  {
   "cell_type": "code",
   "execution_count": 52,
   "metadata": {
    "hidden": true
   },
   "outputs": [
    {
     "name": "stderr",
     "output_type": "stream",
     "text": [
      "<ipython-input-52-d43ed9cb3953>:1: SettingWithCopyWarning: \n",
      "A value is trying to be set on a copy of a slice from a DataFrame.\n",
      "Try using .loc[row_indexer,col_indexer] = value instead\n",
      "\n",
      "See the caveats in the documentation: https://pandas.pydata.org/pandas-docs/stable/user_guide/indexing.html#returning-a-view-versus-a-copy\n",
      "  bikes_2019['demand'] = bikes_2019['Id_Aparcamiento_Origen'].apply(create_supply_demand)\n",
      "<ipython-input-52-d43ed9cb3953>:2: SettingWithCopyWarning: \n",
      "A value is trying to be set on a copy of a slice from a DataFrame.\n",
      "Try using .loc[row_indexer,col_indexer] = value instead\n",
      "\n",
      "See the caveats in the documentation: https://pandas.pydata.org/pandas-docs/stable/user_guide/indexing.html#returning-a-view-versus-a-copy\n",
      "  bikes_2019['supply'] = bikes_2019['Id_Aparcamiento_Destino'].apply(create_supply_demand)\n"
     ]
    }
   ],
   "source": [
    "bikes_2019['demand'] = bikes_2019['Id_Aparcamiento_Origen'].apply(create_supply_demand)\n",
    "bikes_2019['supply'] = bikes_2019['Id_Aparcamiento_Destino'].apply(create_supply_demand)"
   ]
  },
  {
   "cell_type": "code",
   "execution_count": 53,
   "metadata": {
    "hidden": true
   },
   "outputs": [
    {
     "data": {
      "text/plain": [
       "1009"
      ]
     },
     "execution_count": 53,
     "metadata": {},
     "output_type": "execute_result"
    }
   ],
   "source": [
    "# this should equal 1009 because there are 1009 NaN values\n",
    "bikes_2019['supply'].isin([0]).sum()"
   ]
  },
  {
   "cell_type": "markdown",
   "metadata": {
    "heading_collapsed": true,
    "hidden": true
   },
   "source": [
    "##### Creating new features - features to groupby:\n",
    "We decided to create new features based on several columns that we wanted to merge together. <br>\n",
    "\n",
    "Basically, our goal would be to **group by** ```station```, ```date``` and ```time```."
   ]
  },
  {
   "cell_type": "code",
   "execution_count": 54,
   "metadata": {
    "hidden": true
   },
   "outputs": [
    {
     "name": "stderr",
     "output_type": "stream",
     "text": [
      "<ipython-input-54-c1b4dafe82f6>:2: SettingWithCopyWarning: \n",
      "A value is trying to be set on a copy of a slice from a DataFrame.\n",
      "Try using .loc[row_indexer,col_indexer] = value instead\n",
      "\n",
      "See the caveats in the documentation: https://pandas.pydata.org/pandas-docs/stable/user_guide/indexing.html#returning-a-view-versus-a-copy\n",
      "  bikes_2019['loan_station_date_time'] = bikes_2019['Id_Aparcamiento_Origen'].astype('string') + \" \" +\\\n",
      "<ipython-input-54-c1b4dafe82f6>:6: SettingWithCopyWarning: \n",
      "A value is trying to be set on a copy of a slice from a DataFrame.\n",
      "Try using .loc[row_indexer,col_indexer] = value instead\n",
      "\n",
      "See the caveats in the documentation: https://pandas.pydata.org/pandas-docs/stable/user_guide/indexing.html#returning-a-view-versus-a-copy\n",
      "  bikes_2019['deposit_station_date_time'] = bikes_2019['Id_Aparcamiento_Destino'].astype('string') + \" \" +\\\n"
     ]
    }
   ],
   "source": [
    "#station of loan + date and time (all in one column)\n",
    "bikes_2019['loan_station_date_time'] = bikes_2019['Id_Aparcamiento_Origen'].astype('string') + \" \" +\\\n",
    "        bikes_2019['Fecha_Prestamo'].dt.date.astype('string') + \" \" +\\\n",
    "        bikes_2019['Fecha_Prestamo'].dt.hour.astype('string')\n",
    "#station of drop off + date and time (all in one column)\n",
    "bikes_2019['deposit_station_date_time'] = bikes_2019['Id_Aparcamiento_Destino'].astype('string') + \" \" +\\\n",
    "        bikes_2019['Fecha_Devolucion'].dt.date.astype('string') + \" \" + \\\n",
    "        bikes_2019['Fecha_Devolucion'].dt.hour.astype('string')"
   ]
  },
  {
   "cell_type": "code",
   "execution_count": 80,
   "metadata": {
    "hidden": true
   },
   "outputs": [
    {
     "data": {
      "text/html": [
       "<div>\n",
       "<style scoped>\n",
       "    .dataframe tbody tr th:only-of-type {\n",
       "        vertical-align: middle;\n",
       "    }\n",
       "\n",
       "    .dataframe tbody tr th {\n",
       "        vertical-align: top;\n",
       "    }\n",
       "\n",
       "    .dataframe thead th {\n",
       "        text-align: right;\n",
       "    }\n",
       "</style>\n",
       "<table border=\"1\" class=\"dataframe\">\n",
       "  <thead>\n",
       "    <tr style=\"text-align: right;\">\n",
       "      <th></th>\n",
       "      <th>Id_Historico_Prestamo</th>\n",
       "      <th>Id_Usuario</th>\n",
       "      <th>Id_Tag_Bicicleta</th>\n",
       "      <th>Fecha_Prestamo</th>\n",
       "      <th>Fecha_Devolucion</th>\n",
       "      <th>Id_Aparcamiento_Origen</th>\n",
       "      <th>Posicion_Origen</th>\n",
       "      <th>Id_Aparcamiento_Destino</th>\n",
       "      <th>Posicion_Destino</th>\n",
       "      <th>Num_Bici_Hist</th>\n",
       "      <th>demand</th>\n",
       "      <th>supply</th>\n",
       "      <th>loan_station_date_time</th>\n",
       "      <th>deposit_station_date_time</th>\n",
       "    </tr>\n",
       "  </thead>\n",
       "  <tbody>\n",
       "    <tr>\n",
       "      <th>440864</th>\n",
       "      <td>10948569</td>\n",
       "      <td>20272</td>\n",
       "      <td>00FB73222B5E</td>\n",
       "      <td>2019-02-20 14:08:04</td>\n",
       "      <td>2019-02-20 14:26:08</td>\n",
       "      <td>9.0</td>\n",
       "      <td>1.0</td>\n",
       "      <td>43.0</td>\n",
       "      <td>1.0</td>\n",
       "      <td>1366.0</td>\n",
       "      <td>1</td>\n",
       "      <td>1</td>\n",
       "      <td>9.0 2019-02-20 14</td>\n",
       "      <td>43.0 2019-02-20 14</td>\n",
       "    </tr>\n",
       "    <tr>\n",
       "      <th>586995</th>\n",
       "      <td>12896369</td>\n",
       "      <td>135209</td>\n",
       "      <td>002772222B5E</td>\n",
       "      <td>2019-08-22 09:19:51</td>\n",
       "      <td>2019-08-22 09:20:31</td>\n",
       "      <td>44.0</td>\n",
       "      <td>15.0</td>\n",
       "      <td>44.0</td>\n",
       "      <td>15.0</td>\n",
       "      <td>976.0</td>\n",
       "      <td>1</td>\n",
       "      <td>1</td>\n",
       "      <td>44.0 2019-08-22 9</td>\n",
       "      <td>44.0 2019-08-22 9</td>\n",
       "    </tr>\n",
       "    <tr>\n",
       "      <th>726893</th>\n",
       "      <td>12896264</td>\n",
       "      <td>26536</td>\n",
       "      <td>00094A72BF5B</td>\n",
       "      <td>2019-08-22 09:11:22</td>\n",
       "      <td>2019-08-22 09:20:53</td>\n",
       "      <td>9.0</td>\n",
       "      <td>1.0</td>\n",
       "      <td>70.0</td>\n",
       "      <td>1.0</td>\n",
       "      <td>2699.0</td>\n",
       "      <td>1</td>\n",
       "      <td>1</td>\n",
       "      <td>9.0 2019-08-22 9</td>\n",
       "      <td>70.0 2019-08-22 9</td>\n",
       "    </tr>\n",
       "    <tr>\n",
       "      <th>1028721</th>\n",
       "      <td>10948678</td>\n",
       "      <td>124512</td>\n",
       "      <td>00233C222B5E</td>\n",
       "      <td>2019-02-20 14:15:54</td>\n",
       "      <td>2019-02-20 14:26:28</td>\n",
       "      <td>89.0</td>\n",
       "      <td>2.0</td>\n",
       "      <td>56.0</td>\n",
       "      <td>1.0</td>\n",
       "      <td>638.0</td>\n",
       "      <td>1</td>\n",
       "      <td>1</td>\n",
       "      <td>89.0 2019-02-20 14</td>\n",
       "      <td>56.0 2019-02-20 14</td>\n",
       "    </tr>\n",
       "    <tr>\n",
       "      <th>2111125</th>\n",
       "      <td>10516625</td>\n",
       "      <td>40806</td>\n",
       "      <td>009F53222B5E</td>\n",
       "      <td>2019-01-02 12:57:01</td>\n",
       "      <td>2019-01-02 13:51:38</td>\n",
       "      <td>12.0</td>\n",
       "      <td>1.0</td>\n",
       "      <td>22.0</td>\n",
       "      <td>NaN</td>\n",
       "      <td>558.0</td>\n",
       "      <td>1</td>\n",
       "      <td>1</td>\n",
       "      <td>12.0 2019-01-02 12</td>\n",
       "      <td>22.0 2019-01-02 13</td>\n",
       "    </tr>\n",
       "    <tr>\n",
       "      <th>...</th>\n",
       "      <td>...</td>\n",
       "      <td>...</td>\n",
       "      <td>...</td>\n",
       "      <td>...</td>\n",
       "      <td>...</td>\n",
       "      <td>...</td>\n",
       "      <td>...</td>\n",
       "      <td>...</td>\n",
       "      <td>...</td>\n",
       "      <td>...</td>\n",
       "      <td>...</td>\n",
       "      <td>...</td>\n",
       "      <td>...</td>\n",
       "      <td>...</td>\n",
       "    </tr>\n",
       "    <tr>\n",
       "      <th>11767100</th>\n",
       "      <td>14454800</td>\n",
       "      <td>27944</td>\n",
       "      <td>0000F69A5A88</td>\n",
       "      <td>2019-12-31 13:58:55</td>\n",
       "      <td>2019-12-31 14:25:38</td>\n",
       "      <td>40.0</td>\n",
       "      <td>1.0</td>\n",
       "      <td>50.0</td>\n",
       "      <td>1.0</td>\n",
       "      <td>541.0</td>\n",
       "      <td>1</td>\n",
       "      <td>1</td>\n",
       "      <td>40.0 2019-12-31 13</td>\n",
       "      <td>50.0 2019-12-31 14</td>\n",
       "    </tr>\n",
       "    <tr>\n",
       "      <th>11767101</th>\n",
       "      <td>14454778</td>\n",
       "      <td>108800</td>\n",
       "      <td>00029A222B5E</td>\n",
       "      <td>2019-12-31 13:52:48</td>\n",
       "      <td>2019-12-31 14:40:52</td>\n",
       "      <td>28.0</td>\n",
       "      <td>1.0</td>\n",
       "      <td>50.0</td>\n",
       "      <td>1.0</td>\n",
       "      <td>715.0</td>\n",
       "      <td>1</td>\n",
       "      <td>1</td>\n",
       "      <td>28.0 2019-12-31 13</td>\n",
       "      <td>50.0 2019-12-31 14</td>\n",
       "    </tr>\n",
       "    <tr>\n",
       "      <th>11767102</th>\n",
       "      <td>14454793</td>\n",
       "      <td>98449</td>\n",
       "      <td>00001619CE0A</td>\n",
       "      <td>2019-12-31 13:55:47</td>\n",
       "      <td>2019-12-31 14:41:39</td>\n",
       "      <td>113.0</td>\n",
       "      <td>1.0</td>\n",
       "      <td>28.0</td>\n",
       "      <td>1.0</td>\n",
       "      <td>3497.0</td>\n",
       "      <td>1</td>\n",
       "      <td>1</td>\n",
       "      <td>113.0 2019-12-31 13</td>\n",
       "      <td>28.0 2019-12-31 14</td>\n",
       "    </tr>\n",
       "    <tr>\n",
       "      <th>11767103</th>\n",
       "      <td>14454774</td>\n",
       "      <td>129665</td>\n",
       "      <td>000036885A88</td>\n",
       "      <td>2019-12-31 13:51:28</td>\n",
       "      <td>2019-12-31 16:27:12</td>\n",
       "      <td>39.0</td>\n",
       "      <td>15.0</td>\n",
       "      <td>41.0</td>\n",
       "      <td>15.0</td>\n",
       "      <td>534.0</td>\n",
       "      <td>1</td>\n",
       "      <td>1</td>\n",
       "      <td>39.0 2019-12-31 13</td>\n",
       "      <td>41.0 2019-12-31 16</td>\n",
       "    </tr>\n",
       "    <tr>\n",
       "      <th>11767179</th>\n",
       "      <td>14454588</td>\n",
       "      <td>121316</td>\n",
       "      <td>000026FE5A88</td>\n",
       "      <td>2019-12-31 13:15:55</td>\n",
       "      <td>2019-12-31 15:01:31</td>\n",
       "      <td>103.0</td>\n",
       "      <td>4.0</td>\n",
       "      <td>118.0</td>\n",
       "      <td>4.0</td>\n",
       "      <td>2092.0</td>\n",
       "      <td>1</td>\n",
       "      <td>1</td>\n",
       "      <td>103.0 2019-12-31 13</td>\n",
       "      <td>118.0 2019-12-31 15</td>\n",
       "    </tr>\n",
       "  </tbody>\n",
       "</table>\n",
       "<p>3798139 rows × 14 columns</p>\n",
       "</div>"
      ],
      "text/plain": [
       "          Id_Historico_Prestamo  Id_Usuario Id_Tag_Bicicleta  \\\n",
       "440864                 10948569       20272     00FB73222B5E   \n",
       "586995                 12896369      135209     002772222B5E   \n",
       "726893                 12896264       26536     00094A72BF5B   \n",
       "1028721                10948678      124512     00233C222B5E   \n",
       "2111125                10516625       40806     009F53222B5E   \n",
       "...                         ...         ...              ...   \n",
       "11767100               14454800       27944     0000F69A5A88   \n",
       "11767101               14454778      108800     00029A222B5E   \n",
       "11767102               14454793       98449     00001619CE0A   \n",
       "11767103               14454774      129665     000036885A88   \n",
       "11767179               14454588      121316     000026FE5A88   \n",
       "\n",
       "              Fecha_Prestamo    Fecha_Devolucion  Id_Aparcamiento_Origen  \\\n",
       "440864   2019-02-20 14:08:04 2019-02-20 14:26:08                     9.0   \n",
       "586995   2019-08-22 09:19:51 2019-08-22 09:20:31                    44.0   \n",
       "726893   2019-08-22 09:11:22 2019-08-22 09:20:53                     9.0   \n",
       "1028721  2019-02-20 14:15:54 2019-02-20 14:26:28                    89.0   \n",
       "2111125  2019-01-02 12:57:01 2019-01-02 13:51:38                    12.0   \n",
       "...                      ...                 ...                     ...   \n",
       "11767100 2019-12-31 13:58:55 2019-12-31 14:25:38                    40.0   \n",
       "11767101 2019-12-31 13:52:48 2019-12-31 14:40:52                    28.0   \n",
       "11767102 2019-12-31 13:55:47 2019-12-31 14:41:39                   113.0   \n",
       "11767103 2019-12-31 13:51:28 2019-12-31 16:27:12                    39.0   \n",
       "11767179 2019-12-31 13:15:55 2019-12-31 15:01:31                   103.0   \n",
       "\n",
       "          Posicion_Origen  Id_Aparcamiento_Destino  Posicion_Destino  \\\n",
       "440864                1.0                     43.0               1.0   \n",
       "586995               15.0                     44.0              15.0   \n",
       "726893                1.0                     70.0               1.0   \n",
       "1028721               2.0                     56.0               1.0   \n",
       "2111125               1.0                     22.0               NaN   \n",
       "...                   ...                      ...               ...   \n",
       "11767100              1.0                     50.0               1.0   \n",
       "11767101              1.0                     50.0               1.0   \n",
       "11767102              1.0                     28.0               1.0   \n",
       "11767103             15.0                     41.0              15.0   \n",
       "11767179              4.0                    118.0               4.0   \n",
       "\n",
       "          Num_Bici_Hist  demand  supply loan_station_date_time  \\\n",
       "440864           1366.0       1       1      9.0 2019-02-20 14   \n",
       "586995            976.0       1       1      44.0 2019-08-22 9   \n",
       "726893           2699.0       1       1       9.0 2019-08-22 9   \n",
       "1028721           638.0       1       1     89.0 2019-02-20 14   \n",
       "2111125           558.0       1       1     12.0 2019-01-02 12   \n",
       "...                 ...     ...     ...                    ...   \n",
       "11767100          541.0       1       1     40.0 2019-12-31 13   \n",
       "11767101          715.0       1       1     28.0 2019-12-31 13   \n",
       "11767102         3497.0       1       1    113.0 2019-12-31 13   \n",
       "11767103          534.0       1       1     39.0 2019-12-31 13   \n",
       "11767179         2092.0       1       1    103.0 2019-12-31 13   \n",
       "\n",
       "         deposit_station_date_time  \n",
       "440864          43.0 2019-02-20 14  \n",
       "586995           44.0 2019-08-22 9  \n",
       "726893           70.0 2019-08-22 9  \n",
       "1028721         56.0 2019-02-20 14  \n",
       "2111125         22.0 2019-01-02 13  \n",
       "...                            ...  \n",
       "11767100        50.0 2019-12-31 14  \n",
       "11767101        50.0 2019-12-31 14  \n",
       "11767102        28.0 2019-12-31 14  \n",
       "11767103        41.0 2019-12-31 16  \n",
       "11767179       118.0 2019-12-31 15  \n",
       "\n",
       "[3798139 rows x 14 columns]"
      ]
     },
     "execution_count": 80,
     "metadata": {},
     "output_type": "execute_result"
    }
   ],
   "source": [
    "bikes_2019"
   ]
  },
  {
   "cell_type": "markdown",
   "metadata": {
    "hidden": true
   },
   "source": [
    "***GroupBy***:\n"
   ]
  },
  {
   "cell_type": "markdown",
   "metadata": {
    "hidden": true
   },
   "source": [
    "1. Demand:"
   ]
  },
  {
   "cell_type": "code",
   "execution_count": 58,
   "metadata": {
    "hidden": true
   },
   "outputs": [
    {
     "data": {
      "text/html": [
       "<div>\n",
       "<style scoped>\n",
       "    .dataframe tbody tr th:only-of-type {\n",
       "        vertical-align: middle;\n",
       "    }\n",
       "\n",
       "    .dataframe tbody tr th {\n",
       "        vertical-align: top;\n",
       "    }\n",
       "\n",
       "    .dataframe thead th {\n",
       "        text-align: right;\n",
       "    }\n",
       "</style>\n",
       "<table border=\"1\" class=\"dataframe\">\n",
       "  <thead>\n",
       "    <tr style=\"text-align: right;\">\n",
       "      <th></th>\n",
       "      <th>loan_station_date_time</th>\n",
       "      <th>demand</th>\n",
       "      <th>station</th>\n",
       "      <th>date</th>\n",
       "      <th>time</th>\n",
       "    </tr>\n",
       "  </thead>\n",
       "  <tbody>\n",
       "    <tr>\n",
       "      <th>0</th>\n",
       "      <td>1.0 2019-01-02 10</td>\n",
       "      <td>5</td>\n",
       "      <td>1.0</td>\n",
       "      <td>2019-01-02</td>\n",
       "      <td>10</td>\n",
       "    </tr>\n",
       "    <tr>\n",
       "      <th>1</th>\n",
       "      <td>1.0 2019-01-02 11</td>\n",
       "      <td>8</td>\n",
       "      <td>1.0</td>\n",
       "      <td>2019-01-02</td>\n",
       "      <td>11</td>\n",
       "    </tr>\n",
       "    <tr>\n",
       "      <th>2</th>\n",
       "      <td>1.0 2019-01-02 12</td>\n",
       "      <td>17</td>\n",
       "      <td>1.0</td>\n",
       "      <td>2019-01-02</td>\n",
       "      <td>12</td>\n",
       "    </tr>\n",
       "    <tr>\n",
       "      <th>3</th>\n",
       "      <td>1.0 2019-01-02 13</td>\n",
       "      <td>7</td>\n",
       "      <td>1.0</td>\n",
       "      <td>2019-01-02</td>\n",
       "      <td>13</td>\n",
       "    </tr>\n",
       "    <tr>\n",
       "      <th>4</th>\n",
       "      <td>1.0 2019-01-02 14</td>\n",
       "      <td>12</td>\n",
       "      <td>1.0</td>\n",
       "      <td>2019-01-02</td>\n",
       "      <td>14</td>\n",
       "    </tr>\n",
       "    <tr>\n",
       "      <th>...</th>\n",
       "      <td>...</td>\n",
       "      <td>...</td>\n",
       "      <td>...</td>\n",
       "      <td>...</td>\n",
       "      <td>...</td>\n",
       "    </tr>\n",
       "    <tr>\n",
       "      <th>280484</th>\n",
       "      <td>99.0 2019-12-31 11</td>\n",
       "      <td>8</td>\n",
       "      <td>99.0</td>\n",
       "      <td>2019-12-31</td>\n",
       "      <td>11</td>\n",
       "    </tr>\n",
       "    <tr>\n",
       "      <th>280485</th>\n",
       "      <td>99.0 2019-12-31 12</td>\n",
       "      <td>13</td>\n",
       "      <td>99.0</td>\n",
       "      <td>2019-12-31</td>\n",
       "      <td>12</td>\n",
       "    </tr>\n",
       "    <tr>\n",
       "      <th>280486</th>\n",
       "      <td>99.0 2019-12-31 13</td>\n",
       "      <td>6</td>\n",
       "      <td>99.0</td>\n",
       "      <td>2019-12-31</td>\n",
       "      <td>13</td>\n",
       "    </tr>\n",
       "    <tr>\n",
       "      <th>280487</th>\n",
       "      <td>99.0 2019-12-31 8</td>\n",
       "      <td>1</td>\n",
       "      <td>99.0</td>\n",
       "      <td>2019-12-31</td>\n",
       "      <td>8</td>\n",
       "    </tr>\n",
       "    <tr>\n",
       "      <th>280488</th>\n",
       "      <td>99.0 2019-12-31 9</td>\n",
       "      <td>3</td>\n",
       "      <td>99.0</td>\n",
       "      <td>2019-12-31</td>\n",
       "      <td>9</td>\n",
       "    </tr>\n",
       "  </tbody>\n",
       "</table>\n",
       "<p>280489 rows × 5 columns</p>\n",
       "</div>"
      ],
      "text/plain": [
       "       loan_station_date_time  demand station        date time\n",
       "0           1.0 2019-01-02 10       5     1.0  2019-01-02   10\n",
       "1           1.0 2019-01-02 11       8     1.0  2019-01-02   11\n",
       "2           1.0 2019-01-02 12      17     1.0  2019-01-02   12\n",
       "3           1.0 2019-01-02 13       7     1.0  2019-01-02   13\n",
       "4           1.0 2019-01-02 14      12     1.0  2019-01-02   14\n",
       "...                       ...     ...     ...         ...  ...\n",
       "280484     99.0 2019-12-31 11       8    99.0  2019-12-31   11\n",
       "280485     99.0 2019-12-31 12      13    99.0  2019-12-31   12\n",
       "280486     99.0 2019-12-31 13       6    99.0  2019-12-31   13\n",
       "280487      99.0 2019-12-31 8       1    99.0  2019-12-31    8\n",
       "280488      99.0 2019-12-31 9       3    99.0  2019-12-31    9\n",
       "\n",
       "[280489 rows x 5 columns]"
      ]
     },
     "execution_count": 58,
     "metadata": {},
     "output_type": "execute_result"
    }
   ],
   "source": [
    "demand_per_station_per_hour = bikes_2019[['demand']].groupby(bikes_2019['loan_station_date_time']).sum()\n",
    "demand_per_station_per_hour.reset_index(inplace=True)\n",
    "\n",
    "#unstack informations: \n",
    "demand_per_station_per_hour[['station','date','time']] = \\\n",
    "                        demand_per_station_per_hour.loan_station_date_time.str.split(\" \",expand=True)\n",
    "\n",
    "demand_per_station_per_hour"
   ]
  },
  {
   "cell_type": "code",
   "execution_count": 61,
   "metadata": {
    "hidden": true
   },
   "outputs": [
    {
     "data": {
      "text/html": [
       "<div>\n",
       "<style scoped>\n",
       "    .dataframe tbody tr th:only-of-type {\n",
       "        vertical-align: middle;\n",
       "    }\n",
       "\n",
       "    .dataframe tbody tr th {\n",
       "        vertical-align: top;\n",
       "    }\n",
       "\n",
       "    .dataframe thead th {\n",
       "        text-align: right;\n",
       "    }\n",
       "</style>\n",
       "<table border=\"1\" class=\"dataframe\">\n",
       "  <thead>\n",
       "    <tr style=\"text-align: right;\">\n",
       "      <th></th>\n",
       "      <th>deposit_station_date_time</th>\n",
       "      <th>supply</th>\n",
       "      <th>station</th>\n",
       "      <th>date</th>\n",
       "      <th>time</th>\n",
       "    </tr>\n",
       "  </thead>\n",
       "  <tbody>\n",
       "    <tr>\n",
       "      <th>0</th>\n",
       "      <td>1.0 2019-01-02 10</td>\n",
       "      <td>4</td>\n",
       "      <td>1.0</td>\n",
       "      <td>2019-01-02</td>\n",
       "      <td>10</td>\n",
       "    </tr>\n",
       "    <tr>\n",
       "      <th>1</th>\n",
       "      <td>1.0 2019-01-02 11</td>\n",
       "      <td>8</td>\n",
       "      <td>1.0</td>\n",
       "      <td>2019-01-02</td>\n",
       "      <td>11</td>\n",
       "    </tr>\n",
       "    <tr>\n",
       "      <th>2</th>\n",
       "      <td>1.0 2019-01-02 12</td>\n",
       "      <td>12</td>\n",
       "      <td>1.0</td>\n",
       "      <td>2019-01-02</td>\n",
       "      <td>12</td>\n",
       "    </tr>\n",
       "    <tr>\n",
       "      <th>3</th>\n",
       "      <td>1.0 2019-01-02 13</td>\n",
       "      <td>7</td>\n",
       "      <td>1.0</td>\n",
       "      <td>2019-01-02</td>\n",
       "      <td>13</td>\n",
       "    </tr>\n",
       "    <tr>\n",
       "      <th>4</th>\n",
       "      <td>1.0 2019-01-02 14</td>\n",
       "      <td>8</td>\n",
       "      <td>1.0</td>\n",
       "      <td>2019-01-02</td>\n",
       "      <td>14</td>\n",
       "    </tr>\n",
       "    <tr>\n",
       "      <th>...</th>\n",
       "      <td>...</td>\n",
       "      <td>...</td>\n",
       "      <td>...</td>\n",
       "      <td>...</td>\n",
       "      <td>...</td>\n",
       "    </tr>\n",
       "    <tr>\n",
       "      <th>298700</th>\n",
       "      <td>99.0 2019-12-31 5</td>\n",
       "      <td>1</td>\n",
       "      <td>99.0</td>\n",
       "      <td>2019-12-31</td>\n",
       "      <td>5</td>\n",
       "    </tr>\n",
       "    <tr>\n",
       "      <th>298701</th>\n",
       "      <td>99.0 2019-12-31 6</td>\n",
       "      <td>1</td>\n",
       "      <td>99.0</td>\n",
       "      <td>2019-12-31</td>\n",
       "      <td>6</td>\n",
       "    </tr>\n",
       "    <tr>\n",
       "      <th>298702</th>\n",
       "      <td>99.0 2019-12-31 7</td>\n",
       "      <td>1</td>\n",
       "      <td>99.0</td>\n",
       "      <td>2019-12-31</td>\n",
       "      <td>7</td>\n",
       "    </tr>\n",
       "    <tr>\n",
       "      <th>298703</th>\n",
       "      <td>99.0 2019-12-31 8</td>\n",
       "      <td>5</td>\n",
       "      <td>99.0</td>\n",
       "      <td>2019-12-31</td>\n",
       "      <td>8</td>\n",
       "    </tr>\n",
       "    <tr>\n",
       "      <th>298704</th>\n",
       "      <td>99.0 2019-12-31 9</td>\n",
       "      <td>2</td>\n",
       "      <td>99.0</td>\n",
       "      <td>2019-12-31</td>\n",
       "      <td>9</td>\n",
       "    </tr>\n",
       "  </tbody>\n",
       "</table>\n",
       "<p>298705 rows × 5 columns</p>\n",
       "</div>"
      ],
      "text/plain": [
       "       deposit_station_date_time  supply station        date time\n",
       "0              1.0 2019-01-02 10       4     1.0  2019-01-02   10\n",
       "1              1.0 2019-01-02 11       8     1.0  2019-01-02   11\n",
       "2              1.0 2019-01-02 12      12     1.0  2019-01-02   12\n",
       "3              1.0 2019-01-02 13       7     1.0  2019-01-02   13\n",
       "4              1.0 2019-01-02 14       8     1.0  2019-01-02   14\n",
       "...                          ...     ...     ...         ...  ...\n",
       "298700         99.0 2019-12-31 5       1    99.0  2019-12-31    5\n",
       "298701         99.0 2019-12-31 6       1    99.0  2019-12-31    6\n",
       "298702         99.0 2019-12-31 7       1    99.0  2019-12-31    7\n",
       "298703         99.0 2019-12-31 8       5    99.0  2019-12-31    8\n",
       "298704         99.0 2019-12-31 9       2    99.0  2019-12-31    9\n",
       "\n",
       "[298705 rows x 5 columns]"
      ]
     },
     "execution_count": 61,
     "metadata": {},
     "output_type": "execute_result"
    }
   ],
   "source": [
    "supply_per_station_per_hour = bikes_2019[['supply']].groupby(bikes_2019['deposit_station_date_time']).sum()\n",
    "supply_per_station_per_hour.reset_index(inplace=True)\n",
    "\n",
    "#unstack informations:\n",
    "supply_per_station_per_hour[['station','date','time']] = \\\n",
    "supply_per_station_per_hour.deposit_station_date_time.str.split(\" \",expand=True)\n",
    "\n",
    "supply_per_station_per_hour"
   ]
  },
  {
   "cell_type": "markdown",
   "metadata": {
    "heading_collapsed": true,
    "hidden": true
   },
   "source": [
    "##### Cleaning:\n",
    "We want to be sure to work with cleaned df:\n",
    "- changing type of columns\n",
    "- avoiding additional spaces\n",
    "- create and use a date-time object\n",
    "- drop the columns we don't need anymore\n"
   ]
  },
  {
   "cell_type": "code",
   "execution_count": 62,
   "metadata": {
    "hidden": true
   },
   "outputs": [],
   "source": [
    "def clean_df(df, cols, index):\n",
    "    df[cols] =  df[cols].astype(float) # string to float\n",
    "    df.iloc[:,index]=  df.iloc[:,index].str.strip() #left strip\n",
    "    return df"
   ]
  },
  {
   "cell_type": "code",
   "execution_count": 63,
   "metadata": {
    "hidden": true
   },
   "outputs": [],
   "source": [
    "df1_clean = clean_df(demand_per_station_per_hour,['station','time'], 0)\n",
    "df2_clean = clean_df(supply_per_station_per_hour,['station','time'], 0)"
   ]
  },
  {
   "cell_type": "code",
   "execution_count": 67,
   "metadata": {
    "hidden": true
   },
   "outputs": [],
   "source": [
    "#searching for all the string containint '2019.' in column with station (loan or deposit) + date&time\n",
    "pattern = re.compile(r'2019.*') \n",
    "def year_month_day_hour(x):\n",
    "    return pattern.search(x).group()\n",
    "\n",
    "df1_clean['year_month_day_hour'] = df1_clean['loan_station_date_time'].apply(year_month_day_hour)\n",
    "df2_clean['year_month_day_hour'] = df2_clean['deposit_station_date_time'].apply(year_month_day_hour)"
   ]
  },
  {
   "cell_type": "code",
   "execution_count": 74,
   "metadata": {
    "hidden": true
   },
   "outputs": [],
   "source": [
    "#changing type of column from string in date-time:\n",
    "def convert_to_date(x):\n",
    "    return datetime.strptime(x, '%Y-%m-%d %H')\n",
    "df1_clean['year_month_day_hour'] = df1_clean['year_month_day_hour'].apply(convert_to_date)\n",
    "df2_clean['year_month_day_hour'] = df2_clean['year_month_day_hour'].apply(convert_to_date)"
   ]
  },
  {
   "cell_type": "code",
   "execution_count": 76,
   "metadata": {
    "hidden": true
   },
   "outputs": [],
   "source": [
    "#Dropping column containing station (loan or deposit) + date&time:\n",
    "def drop_col(df):\n",
    "    return df.iloc[:,1:]\n",
    "df1_clean_drop = drop_col(df1_clean)\n",
    "df2_clean_drop = drop_col(df2_clean)"
   ]
  },
  {
   "cell_type": "code",
   "execution_count": 78,
   "metadata": {
    "hidden": true
   },
   "outputs": [
    {
     "data": {
      "text/html": [
       "<div>\n",
       "<style scoped>\n",
       "    .dataframe tbody tr th:only-of-type {\n",
       "        vertical-align: middle;\n",
       "    }\n",
       "\n",
       "    .dataframe tbody tr th {\n",
       "        vertical-align: top;\n",
       "    }\n",
       "\n",
       "    .dataframe thead th {\n",
       "        text-align: right;\n",
       "    }\n",
       "</style>\n",
       "<table border=\"1\" class=\"dataframe\">\n",
       "  <thead>\n",
       "    <tr style=\"text-align: right;\">\n",
       "      <th></th>\n",
       "      <th>demand</th>\n",
       "      <th>station</th>\n",
       "      <th>date</th>\n",
       "      <th>time</th>\n",
       "      <th>year_month_day_hour</th>\n",
       "    </tr>\n",
       "  </thead>\n",
       "  <tbody>\n",
       "    <tr>\n",
       "      <th>0</th>\n",
       "      <td>5</td>\n",
       "      <td>1.0</td>\n",
       "      <td>2019-01-02</td>\n",
       "      <td>10.0</td>\n",
       "      <td>2019-01-02 10:00:00</td>\n",
       "    </tr>\n",
       "    <tr>\n",
       "      <th>1</th>\n",
       "      <td>8</td>\n",
       "      <td>1.0</td>\n",
       "      <td>2019-01-02</td>\n",
       "      <td>11.0</td>\n",
       "      <td>2019-01-02 11:00:00</td>\n",
       "    </tr>\n",
       "    <tr>\n",
       "      <th>2</th>\n",
       "      <td>17</td>\n",
       "      <td>1.0</td>\n",
       "      <td>2019-01-02</td>\n",
       "      <td>12.0</td>\n",
       "      <td>2019-01-02 12:00:00</td>\n",
       "    </tr>\n",
       "    <tr>\n",
       "      <th>3</th>\n",
       "      <td>7</td>\n",
       "      <td>1.0</td>\n",
       "      <td>2019-01-02</td>\n",
       "      <td>13.0</td>\n",
       "      <td>2019-01-02 13:00:00</td>\n",
       "    </tr>\n",
       "    <tr>\n",
       "      <th>4</th>\n",
       "      <td>12</td>\n",
       "      <td>1.0</td>\n",
       "      <td>2019-01-02</td>\n",
       "      <td>14.0</td>\n",
       "      <td>2019-01-02 14:00:00</td>\n",
       "    </tr>\n",
       "    <tr>\n",
       "      <th>...</th>\n",
       "      <td>...</td>\n",
       "      <td>...</td>\n",
       "      <td>...</td>\n",
       "      <td>...</td>\n",
       "      <td>...</td>\n",
       "    </tr>\n",
       "    <tr>\n",
       "      <th>280484</th>\n",
       "      <td>8</td>\n",
       "      <td>99.0</td>\n",
       "      <td>2019-12-31</td>\n",
       "      <td>11.0</td>\n",
       "      <td>2019-12-31 11:00:00</td>\n",
       "    </tr>\n",
       "    <tr>\n",
       "      <th>280485</th>\n",
       "      <td>13</td>\n",
       "      <td>99.0</td>\n",
       "      <td>2019-12-31</td>\n",
       "      <td>12.0</td>\n",
       "      <td>2019-12-31 12:00:00</td>\n",
       "    </tr>\n",
       "    <tr>\n",
       "      <th>280486</th>\n",
       "      <td>6</td>\n",
       "      <td>99.0</td>\n",
       "      <td>2019-12-31</td>\n",
       "      <td>13.0</td>\n",
       "      <td>2019-12-31 13:00:00</td>\n",
       "    </tr>\n",
       "    <tr>\n",
       "      <th>280487</th>\n",
       "      <td>1</td>\n",
       "      <td>99.0</td>\n",
       "      <td>2019-12-31</td>\n",
       "      <td>8.0</td>\n",
       "      <td>2019-12-31 08:00:00</td>\n",
       "    </tr>\n",
       "    <tr>\n",
       "      <th>280488</th>\n",
       "      <td>3</td>\n",
       "      <td>99.0</td>\n",
       "      <td>2019-12-31</td>\n",
       "      <td>9.0</td>\n",
       "      <td>2019-12-31 09:00:00</td>\n",
       "    </tr>\n",
       "  </tbody>\n",
       "</table>\n",
       "<p>280489 rows × 5 columns</p>\n",
       "</div>"
      ],
      "text/plain": [
       "        demand  station        date  time year_month_day_hour\n",
       "0            5      1.0  2019-01-02  10.0 2019-01-02 10:00:00\n",
       "1            8      1.0  2019-01-02  11.0 2019-01-02 11:00:00\n",
       "2           17      1.0  2019-01-02  12.0 2019-01-02 12:00:00\n",
       "3            7      1.0  2019-01-02  13.0 2019-01-02 13:00:00\n",
       "4           12      1.0  2019-01-02  14.0 2019-01-02 14:00:00\n",
       "...        ...      ...         ...   ...                 ...\n",
       "280484       8     99.0  2019-12-31  11.0 2019-12-31 11:00:00\n",
       "280485      13     99.0  2019-12-31  12.0 2019-12-31 12:00:00\n",
       "280486       6     99.0  2019-12-31  13.0 2019-12-31 13:00:00\n",
       "280487       1     99.0  2019-12-31   8.0 2019-12-31 08:00:00\n",
       "280488       3     99.0  2019-12-31   9.0 2019-12-31 09:00:00\n",
       "\n",
       "[280489 rows x 5 columns]"
      ]
     },
     "execution_count": 78,
     "metadata": {},
     "output_type": "execute_result"
    }
   ],
   "source": [
    "df1_clean_drop"
   ]
  },
  {
   "cell_type": "code",
   "execution_count": 79,
   "metadata": {
    "hidden": true
   },
   "outputs": [
    {
     "data": {
      "text/html": [
       "<div>\n",
       "<style scoped>\n",
       "    .dataframe tbody tr th:only-of-type {\n",
       "        vertical-align: middle;\n",
       "    }\n",
       "\n",
       "    .dataframe tbody tr th {\n",
       "        vertical-align: top;\n",
       "    }\n",
       "\n",
       "    .dataframe thead th {\n",
       "        text-align: right;\n",
       "    }\n",
       "</style>\n",
       "<table border=\"1\" class=\"dataframe\">\n",
       "  <thead>\n",
       "    <tr style=\"text-align: right;\">\n",
       "      <th></th>\n",
       "      <th>supply</th>\n",
       "      <th>station</th>\n",
       "      <th>date</th>\n",
       "      <th>time</th>\n",
       "      <th>year_month_day_hour</th>\n",
       "    </tr>\n",
       "  </thead>\n",
       "  <tbody>\n",
       "    <tr>\n",
       "      <th>0</th>\n",
       "      <td>4</td>\n",
       "      <td>1.0</td>\n",
       "      <td>2019-01-02</td>\n",
       "      <td>10.0</td>\n",
       "      <td>2019-01-02 10:00:00</td>\n",
       "    </tr>\n",
       "    <tr>\n",
       "      <th>1</th>\n",
       "      <td>8</td>\n",
       "      <td>1.0</td>\n",
       "      <td>2019-01-02</td>\n",
       "      <td>11.0</td>\n",
       "      <td>2019-01-02 11:00:00</td>\n",
       "    </tr>\n",
       "    <tr>\n",
       "      <th>2</th>\n",
       "      <td>12</td>\n",
       "      <td>1.0</td>\n",
       "      <td>2019-01-02</td>\n",
       "      <td>12.0</td>\n",
       "      <td>2019-01-02 12:00:00</td>\n",
       "    </tr>\n",
       "    <tr>\n",
       "      <th>3</th>\n",
       "      <td>7</td>\n",
       "      <td>1.0</td>\n",
       "      <td>2019-01-02</td>\n",
       "      <td>13.0</td>\n",
       "      <td>2019-01-02 13:00:00</td>\n",
       "    </tr>\n",
       "    <tr>\n",
       "      <th>4</th>\n",
       "      <td>8</td>\n",
       "      <td>1.0</td>\n",
       "      <td>2019-01-02</td>\n",
       "      <td>14.0</td>\n",
       "      <td>2019-01-02 14:00:00</td>\n",
       "    </tr>\n",
       "    <tr>\n",
       "      <th>...</th>\n",
       "      <td>...</td>\n",
       "      <td>...</td>\n",
       "      <td>...</td>\n",
       "      <td>...</td>\n",
       "      <td>...</td>\n",
       "    </tr>\n",
       "    <tr>\n",
       "      <th>298700</th>\n",
       "      <td>1</td>\n",
       "      <td>99.0</td>\n",
       "      <td>2019-12-31</td>\n",
       "      <td>5.0</td>\n",
       "      <td>2019-12-31 05:00:00</td>\n",
       "    </tr>\n",
       "    <tr>\n",
       "      <th>298701</th>\n",
       "      <td>1</td>\n",
       "      <td>99.0</td>\n",
       "      <td>2019-12-31</td>\n",
       "      <td>6.0</td>\n",
       "      <td>2019-12-31 06:00:00</td>\n",
       "    </tr>\n",
       "    <tr>\n",
       "      <th>298702</th>\n",
       "      <td>1</td>\n",
       "      <td>99.0</td>\n",
       "      <td>2019-12-31</td>\n",
       "      <td>7.0</td>\n",
       "      <td>2019-12-31 07:00:00</td>\n",
       "    </tr>\n",
       "    <tr>\n",
       "      <th>298703</th>\n",
       "      <td>5</td>\n",
       "      <td>99.0</td>\n",
       "      <td>2019-12-31</td>\n",
       "      <td>8.0</td>\n",
       "      <td>2019-12-31 08:00:00</td>\n",
       "    </tr>\n",
       "    <tr>\n",
       "      <th>298704</th>\n",
       "      <td>2</td>\n",
       "      <td>99.0</td>\n",
       "      <td>2019-12-31</td>\n",
       "      <td>9.0</td>\n",
       "      <td>2019-12-31 09:00:00</td>\n",
       "    </tr>\n",
       "  </tbody>\n",
       "</table>\n",
       "<p>298705 rows × 5 columns</p>\n",
       "</div>"
      ],
      "text/plain": [
       "        supply  station        date  time year_month_day_hour\n",
       "0            4      1.0  2019-01-02  10.0 2019-01-02 10:00:00\n",
       "1            8      1.0  2019-01-02  11.0 2019-01-02 11:00:00\n",
       "2           12      1.0  2019-01-02  12.0 2019-01-02 12:00:00\n",
       "3            7      1.0  2019-01-02  13.0 2019-01-02 13:00:00\n",
       "4            8      1.0  2019-01-02  14.0 2019-01-02 14:00:00\n",
       "...        ...      ...         ...   ...                 ...\n",
       "298700       1     99.0  2019-12-31   5.0 2019-12-31 05:00:00\n",
       "298701       1     99.0  2019-12-31   6.0 2019-12-31 06:00:00\n",
       "298702       1     99.0  2019-12-31   7.0 2019-12-31 07:00:00\n",
       "298703       5     99.0  2019-12-31   8.0 2019-12-31 08:00:00\n",
       "298704       2     99.0  2019-12-31   9.0 2019-12-31 09:00:00\n",
       "\n",
       "[298705 rows x 5 columns]"
      ]
     },
     "execution_count": 79,
     "metadata": {},
     "output_type": "execute_result"
    }
   ],
   "source": [
    "df2_clean_drop "
   ]
  },
  {
   "cell_type": "markdown",
   "metadata": {
    "hidden": true
   },
   "source": [
    "##### Merging dfs:"
   ]
  },
  {
   "cell_type": "markdown",
   "metadata": {
    "id": "gSDath2nr1fq"
   },
   "source": [
    "## Conclusions\n",
    "\n",
    "### Scalability and Impact\n",
    "Tell us how applicable and scalable your solution is if you were to implement it in a city. Identify possible limitations and measure the potential social impact of your solution."
   ]
  },
  {
   "cell_type": "markdown",
   "metadata": {
    "id": "CGmbES9GszEv"
   },
   "source": []
  },
  {
   "cell_type": "markdown",
   "metadata": {
    "id": "0XBiBOyAl2Sv"
   },
   "source": [
    "### Future Work\n",
    "Now picture the following scenario: imagine you could have access to any type of data that could help you solve this challenge even better. What would that data be and how would it improve your solution? 🚀"
   ]
  },
  {
   "cell_type": "markdown",
   "metadata": {
    "id": "5gK3heTKl7qz"
   },
   "source": []
  }
 ],
 "metadata": {
  "colab": {
   "collapsed_sections": [],
   "name": "Notebook Submission Template.ipynb",
   "provenance": []
  },
  "kernelspec": {
   "display_name": "Python 3",
   "language": "python",
   "name": "python3"
  },
  "language_info": {
   "codemirror_mode": {
    "name": "ipython",
    "version": 3
   },
   "file_extension": ".py",
   "mimetype": "text/x-python",
   "name": "python",
   "nbconvert_exporter": "python",
   "pygments_lexer": "ipython3",
   "version": "3.8.6"
  },
  "toc": {
   "base_numbering": 1,
   "nav_menu": {},
   "number_sections": true,
   "sideBar": true,
   "skip_h1_title": false,
   "title_cell": "Table of Contents",
   "title_sidebar": "Contents",
   "toc_cell": false,
   "toc_position": {},
   "toc_section_display": true,
   "toc_window_display": false
  }
 },
 "nbformat": 4,
 "nbformat_minor": 1
}
