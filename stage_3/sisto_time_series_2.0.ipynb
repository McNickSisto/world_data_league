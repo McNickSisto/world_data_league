{
 "cells": [
  {
   "cell_type": "markdown",
   "id": "female-paraguay",
   "metadata": {},
   "source": [
    "**Goals**\n",
    "\n",
    "Have a model that allows us to make system load balancing decisions based on demand\n",
    "forecasting based on historical data. Load balancing means the planning of transporting\n",
    "bicycles from one station to another.\n",
    "\n",
    "**Outcome**\n",
    "\n",
    "A model that indicates the optimal movement of bicycles to be made between stations,\n",
    "and at what times or frequencies, to ensure that you perform the best system planning."
   ]
  },
  {
   "cell_type": "markdown",
   "id": "comprehensive-textbook",
   "metadata": {
    "ExecuteTime": {
     "end_time": "2021-05-06T14:52:35.650188Z",
     "start_time": "2021-05-06T14:52:35.646044Z"
    }
   },
   "source": [
    "# Importing Modules & Data"
   ]
  },
  {
   "cell_type": "code",
   "execution_count": 1,
   "id": "improving-vietnamese",
   "metadata": {
    "ExecuteTime": {
     "end_time": "2021-05-06T16:06:25.065962Z",
     "start_time": "2021-05-06T16:06:20.710666Z"
    }
   },
   "outputs": [],
   "source": [
    "import pandas as pd \n",
    "import numpy as np\n",
    "import geopandas as gpd\n",
    "import fiona\n",
    "import os\n",
    "import zipfile\n",
    "from folium import Map, CircleMarker, Vega, Popup, Marker, PolyLine, Icon, Choropleth, LayerControl\n",
    "from folium.plugins import MarkerCluster, HeatMap, BeautifyIcon\n",
    "import shapely\n",
    "import matplotlib\n",
    "from ipywidgets import interact\n",
    "import seaborn as sns\n",
    "import matplotlib.pyplot as plt\n",
    "import statsmodels.tsa \n",
    "from datetime import datetime\n",
    "import missingno as msno\n",
    "import re"
   ]
  },
  {
   "cell_type": "code",
   "execution_count": 2,
   "id": "elect-tower",
   "metadata": {
    "ExecuteTime": {
     "end_time": "2021-05-06T16:06:25.093149Z",
     "start_time": "2021-05-06T16:06:25.072167Z"
    }
   },
   "outputs": [],
   "source": [
    "pd.set_option('display.max_rows', 100)"
   ]
  },
  {
   "cell_type": "markdown",
   "id": "amateur-physics",
   "metadata": {
    "ExecuteTime": {
     "end_time": "2021-05-06T14:53:21.682717Z",
     "start_time": "2021-05-06T14:53:21.678910Z"
    }
   },
   "source": [
    "## Class Databases "
   ]
  },
  {
   "cell_type": "code",
   "execution_count": 3,
   "id": "resistant-anxiety",
   "metadata": {
    "ExecuteTime": {
     "end_time": "2021-05-06T16:06:25.139518Z",
     "start_time": "2021-05-06T16:06:25.097728Z"
    }
   },
   "outputs": [],
   "source": [
    "gpd.io.file.fiona.drvsupport.supported_drivers['KML'] = 'rw'\n",
    "class Databases:\n",
    "    def __init__(self, csv, anva, smm, metro):\n",
    "        self.csv = csv\n",
    "        self.anva = anva \n",
    "        self.smm = smm\n",
    "        self.metro = metro\n",
    "\n",
    "    def extract_csv(self):\n",
    "        file = pd.read_csv(f'data/bike_loans/{self.csv}', sep=';')\n",
    "        file['Fecha_Prestamo'] = pd.to_datetime(file['Fecha_Prestamo'])\n",
    "        file['Fecha_Devolucion'] = pd.to_datetime(file['Fecha_Devolucion'])\n",
    "        return file\n",
    "        \n",
    "    \n",
    "    def extract_anva(self):\n",
    "        bus_routes_AMVA = gpd.GeoDataFrame()\n",
    "        for root, dirs, files in os.walk(f'data/bus_routes/medellin_bus_routes/{self.anva}'):\n",
    "            for file in files:\n",
    "                path = os.path.join(root, file)\n",
    "                df = gpd.read_file(path, driver='KML')\n",
    "                bus_routes_AMVA = gpd.GeoDataFrame(pd.concat([bus_routes_AMVA, df], ignore_index=True))\n",
    "        return bus_routes_AMVA\n",
    "    \n",
    "    def extract_smm(self):\n",
    "        smm_bus_routes = gpd.GeoDataFrame()\n",
    "        for root, dirs, files in os.walk(f'data/bus_routes/medellin_bus_routes/{self.smm}'):\n",
    "            for file in files:\n",
    "                path = os.path.join(root, file)\n",
    "                df = gpd.read_file(path, driver='KML')\n",
    "                smm_bus_routes = gpd.GeoDataFrame(pd.concat([smm_bus_routes, df], ignore_index=True))\n",
    "        return smm_bus_routes\n",
    "    \n",
    "    def extract_metro(self):\n",
    "        metro_routes = gpd.GeoDataFrame()\n",
    "        for root, dirs, files in os.walk(f'data/medellin_metro/{self.metro}'):\n",
    "            for file in files:\n",
    "                path = os.path.join(root, file)\n",
    "                print(path)\n",
    "                if path.endswith('.kmz'):\n",
    "                    kmz = zipfile.ZipFile(path, 'r')\n",
    "                    kml = kmz.open('doc.kml', 'r')\n",
    "                    df = gpd.read_file(kml, driver='KML')\n",
    "                    metro_routes = gpd.GeoDataFrame(pd.concat([metro_routes, df], ignore_index=True))\n",
    "        return metro_routes"
   ]
  },
  {
   "cell_type": "code",
   "execution_count": 4,
   "id": "through-ridge",
   "metadata": {
    "ExecuteTime": {
     "end_time": "2021-05-06T16:06:25.185175Z",
     "start_time": "2021-05-06T16:06:25.143025Z"
    }
   },
   "outputs": [],
   "source": [
    "databases = Databases('bike_loans.csv','Kml Ruta AMVA','kml Ruta SMM','medellin_metro_stations')"
   ]
  },
  {
   "cell_type": "code",
   "execution_count": 5,
   "id": "regulated-denial",
   "metadata": {
    "ExecuteTime": {
     "end_time": "2021-05-06T16:08:18.348298Z",
     "start_time": "2021-05-06T16:06:25.190305Z"
    }
   },
   "outputs": [],
   "source": [
    "# extracting csv bikes with datetime data\n",
    "bikes = databases.extract_csv()"
   ]
  },
  {
   "cell_type": "code",
   "execution_count": 6,
   "id": "leading-transaction",
   "metadata": {
    "ExecuteTime": {
     "end_time": "2021-05-06T16:08:18.383132Z",
     "start_time": "2021-05-06T16:08:18.351782Z"
    }
   },
   "outputs": [
    {
     "data": {
      "text/plain": [
       "Id_Historico_Prestamo               int64\n",
       "Id_Usuario                          int64\n",
       "Id_Tag_Bicicleta                   object\n",
       "Fecha_Prestamo             datetime64[ns]\n",
       "Fecha_Devolucion           datetime64[ns]\n",
       "Id_Aparcamiento_Origen              int64\n",
       "Posicion_Origen                     int64\n",
       "Id_Aparcamiento_Destino           float64\n",
       "Posicion_Destino                  float64\n",
       "Importe                           float64\n",
       "DescripcionImporte                float64\n",
       "operario                           object\n",
       "Num_Bici_Hist                     float64\n",
       "dtype: object"
      ]
     },
     "execution_count": 6,
     "metadata": {},
     "output_type": "execute_result"
    }
   ],
   "source": [
    "bikes.dtypes #checking feature types"
   ]
  },
  {
   "cell_type": "markdown",
   "id": "functional-massage",
   "metadata": {
    "ExecuteTime": {
     "end_time": "2021-05-06T14:55:37.425615Z",
     "start_time": "2021-05-06T14:55:37.410820Z"
    }
   },
   "source": [
    "# Data Cleaning"
   ]
  },
  {
   "cell_type": "markdown",
   "id": "earlier-gather",
   "metadata": {},
   "source": [
    "In order to capture **trends and seasonality** properly, we decided to focus on **pre-pandemic** data. The first case diagnosed of Covid-19 in Colombia was on March 6th, 2020. Therefore, in order to avoid any bias in the data, we decided to focus on the data prior to 2020."
   ]
  },
  {
   "cell_type": "markdown",
   "id": "generous-result",
   "metadata": {},
   "source": [
    "Following some review, we decided to focus entirely on the data from **2019**. There are several reasons for this. First, we believe that using data at the beginning of the project might be unrepresentative of how it is currently operated (just before COVID). Secondly, for dimensionality purposes, the more rows and dates we turn into time series, the great amount of data to process. "
   ]
  },
  {
   "cell_type": "markdown",
   "id": "colored-potato",
   "metadata": {},
   "source": [
    "**Homemade Dict**"
   ]
  },
  {
   "cell_type": "code",
   "execution_count": 7,
   "id": "frozen-replication",
   "metadata": {
    "ExecuteTime": {
     "end_time": "2021-05-06T16:08:18.399873Z",
     "start_time": "2021-05-06T16:08:18.390410Z"
    }
   },
   "outputs": [],
   "source": [
    "# Id_Historico_Prestamo - represents ID of the load\n",
    "# Id_Usuario - id of the users\n",
    "# Id_Tag_Bicicleta - Id of the bycicle\n",
    "# Fecha_Prestamo - loan start date/time\n",
    "# Fecha_Devolucion - load end date/time\n",
    "# Id_Aparcamiento_Origen - Id of Parking station\n",
    "# Posicion_Origen - position of the bike in the bike station \n",
    "# Importe - not sure \n",
    "# DescripcionImporte - same here not sure\n",
    "# operario - whether the station was automatic or ran manually by someone\n",
    "# Num_Bici_Hist - not entirely sure but could be number of times the bike was used "
   ]
  },
  {
   "cell_type": "code",
   "execution_count": 8,
   "id": "supreme-failure",
   "metadata": {
    "ExecuteTime": {
     "end_time": "2021-05-06T16:08:20.165201Z",
     "start_time": "2021-05-06T16:08:18.412007Z"
    },
    "scrolled": false
   },
   "outputs": [],
   "source": [
    "bikes_2019_loans_only = bikes[(bikes['Fecha_Prestamo'].dt.year == 2019)]"
   ]
  },
  {
   "cell_type": "markdown",
   "id": "simplified-packing",
   "metadata": {
    "ExecuteTime": {
     "end_time": "2021-05-06T15:09:28.639952Z",
     "start_time": "2021-05-06T15:09:28.631613Z"
    }
   },
   "source": [
    "We are focusing solely on 2019, therefore we are removing the bikes that were loaned AND deposited back in 2019. Therefore, if someone gets wasted on New Years Eve and drops the bike back in 2020, this wouldn't be counted. "
   ]
  },
  {
   "cell_type": "code",
   "execution_count": 170,
   "id": "bearing-glass",
   "metadata": {
    "ExecuteTime": {
     "end_time": "2021-05-06T16:16:59.693858Z",
     "start_time": "2021-05-06T16:16:46.433986Z"
    },
    "scrolled": true
   },
   "outputs": [
    {
     "data": {
      "text/html": [
       "<div>\n",
       "<style scoped>\n",
       "    .dataframe tbody tr th:only-of-type {\n",
       "        vertical-align: middle;\n",
       "    }\n",
       "\n",
       "    .dataframe tbody tr th {\n",
       "        vertical-align: top;\n",
       "    }\n",
       "\n",
       "    .dataframe thead th {\n",
       "        text-align: right;\n",
       "    }\n",
       "</style>\n",
       "<table border=\"1\" class=\"dataframe\">\n",
       "  <thead>\n",
       "    <tr style=\"text-align: right;\">\n",
       "      <th></th>\n",
       "      <th>Id_Historico_Prestamo</th>\n",
       "      <th>Id_Usuario</th>\n",
       "      <th>Id_Tag_Bicicleta</th>\n",
       "      <th>Fecha_Prestamo</th>\n",
       "      <th>Fecha_Devolucion</th>\n",
       "      <th>Id_Aparcamiento_Origen</th>\n",
       "      <th>Posicion_Origen</th>\n",
       "      <th>Id_Aparcamiento_Destino</th>\n",
       "      <th>Posicion_Destino</th>\n",
       "      <th>Importe</th>\n",
       "      <th>DescripcionImporte</th>\n",
       "      <th>operario</th>\n",
       "      <th>Num_Bici_Hist</th>\n",
       "    </tr>\n",
       "  </thead>\n",
       "  <tbody>\n",
       "    <tr>\n",
       "      <th>440864</th>\n",
       "      <td>10948569</td>\n",
       "      <td>20272</td>\n",
       "      <td>00FB73222B5E</td>\n",
       "      <td>2019-02-20 14:08:04</td>\n",
       "      <td>2019-02-20 14:26:08</td>\n",
       "      <td>9</td>\n",
       "      <td>1</td>\n",
       "      <td>43.0</td>\n",
       "      <td>1.0</td>\n",
       "      <td>0.0</td>\n",
       "      <td>NaN</td>\n",
       "      <td>anderson.rojas</td>\n",
       "      <td>1366.0</td>\n",
       "    </tr>\n",
       "    <tr>\n",
       "      <th>586995</th>\n",
       "      <td>12896369</td>\n",
       "      <td>135209</td>\n",
       "      <td>002772222B5E</td>\n",
       "      <td>2019-08-22 09:19:51</td>\n",
       "      <td>2019-08-22 09:20:31</td>\n",
       "      <td>44</td>\n",
       "      <td>15</td>\n",
       "      <td>44.0</td>\n",
       "      <td>15.0</td>\n",
       "      <td>0.0</td>\n",
       "      <td>NaN</td>\n",
       "      <td>NaN</td>\n",
       "      <td>976.0</td>\n",
       "    </tr>\n",
       "    <tr>\n",
       "      <th>726893</th>\n",
       "      <td>12896264</td>\n",
       "      <td>26536</td>\n",
       "      <td>00094A72BF5B</td>\n",
       "      <td>2019-08-22 09:11:22</td>\n",
       "      <td>2019-08-22 09:20:53</td>\n",
       "      <td>9</td>\n",
       "      <td>1</td>\n",
       "      <td>70.0</td>\n",
       "      <td>1.0</td>\n",
       "      <td>0.0</td>\n",
       "      <td>NaN</td>\n",
       "      <td>seguro.sorelly</td>\n",
       "      <td>2699.0</td>\n",
       "    </tr>\n",
       "    <tr>\n",
       "      <th>1028721</th>\n",
       "      <td>10948678</td>\n",
       "      <td>124512</td>\n",
       "      <td>00233C222B5E</td>\n",
       "      <td>2019-02-20 14:15:54</td>\n",
       "      <td>2019-02-20 14:26:28</td>\n",
       "      <td>89</td>\n",
       "      <td>2</td>\n",
       "      <td>56.0</td>\n",
       "      <td>1.0</td>\n",
       "      <td>0.0</td>\n",
       "      <td>NaN</td>\n",
       "      <td>NaN</td>\n",
       "      <td>638.0</td>\n",
       "    </tr>\n",
       "    <tr>\n",
       "      <th>2111125</th>\n",
       "      <td>10516625</td>\n",
       "      <td>40806</td>\n",
       "      <td>009F53222B5E</td>\n",
       "      <td>2019-01-02 12:57:01</td>\n",
       "      <td>2019-01-02 13:51:38</td>\n",
       "      <td>12</td>\n",
       "      <td>1</td>\n",
       "      <td>22.0</td>\n",
       "      <td>NaN</td>\n",
       "      <td>0.0</td>\n",
       "      <td>NaN</td>\n",
       "      <td>monitor.jannetv</td>\n",
       "      <td>558.0</td>\n",
       "    </tr>\n",
       "    <tr>\n",
       "      <th>...</th>\n",
       "      <td>...</td>\n",
       "      <td>...</td>\n",
       "      <td>...</td>\n",
       "      <td>...</td>\n",
       "      <td>...</td>\n",
       "      <td>...</td>\n",
       "      <td>...</td>\n",
       "      <td>...</td>\n",
       "      <td>...</td>\n",
       "      <td>...</td>\n",
       "      <td>...</td>\n",
       "      <td>...</td>\n",
       "      <td>...</td>\n",
       "    </tr>\n",
       "    <tr>\n",
       "      <th>11767100</th>\n",
       "      <td>14454800</td>\n",
       "      <td>27944</td>\n",
       "      <td>0000F69A5A88</td>\n",
       "      <td>2019-12-31 13:58:55</td>\n",
       "      <td>2019-12-31 14:25:38</td>\n",
       "      <td>40</td>\n",
       "      <td>1</td>\n",
       "      <td>50.0</td>\n",
       "      <td>1.0</td>\n",
       "      <td>0.0</td>\n",
       "      <td>NaN</td>\n",
       "      <td>claudia.marin</td>\n",
       "      <td>541.0</td>\n",
       "    </tr>\n",
       "    <tr>\n",
       "      <th>11767101</th>\n",
       "      <td>14454778</td>\n",
       "      <td>108800</td>\n",
       "      <td>00029A222B5E</td>\n",
       "      <td>2019-12-31 13:52:48</td>\n",
       "      <td>2019-12-31 14:40:52</td>\n",
       "      <td>28</td>\n",
       "      <td>1</td>\n",
       "      <td>50.0</td>\n",
       "      <td>1.0</td>\n",
       "      <td>0.0</td>\n",
       "      <td>NaN</td>\n",
       "      <td>claudia.marin</td>\n",
       "      <td>715.0</td>\n",
       "    </tr>\n",
       "    <tr>\n",
       "      <th>11767102</th>\n",
       "      <td>14454793</td>\n",
       "      <td>98449</td>\n",
       "      <td>00001619CE0A</td>\n",
       "      <td>2019-12-31 13:55:47</td>\n",
       "      <td>2019-12-31 14:41:39</td>\n",
       "      <td>113</td>\n",
       "      <td>1</td>\n",
       "      <td>28.0</td>\n",
       "      <td>1.0</td>\n",
       "      <td>0.0</td>\n",
       "      <td>NaN</td>\n",
       "      <td>edison.graciano</td>\n",
       "      <td>3497.0</td>\n",
       "    </tr>\n",
       "    <tr>\n",
       "      <th>11767103</th>\n",
       "      <td>14454774</td>\n",
       "      <td>129665</td>\n",
       "      <td>000036885A88</td>\n",
       "      <td>2019-12-31 13:51:28</td>\n",
       "      <td>2019-12-31 16:27:12</td>\n",
       "      <td>39</td>\n",
       "      <td>15</td>\n",
       "      <td>41.0</td>\n",
       "      <td>15.0</td>\n",
       "      <td>0.0</td>\n",
       "      <td>NaN</td>\n",
       "      <td>NaN</td>\n",
       "      <td>534.0</td>\n",
       "    </tr>\n",
       "    <tr>\n",
       "      <th>11767179</th>\n",
       "      <td>14454588</td>\n",
       "      <td>121316</td>\n",
       "      <td>000026FE5A88</td>\n",
       "      <td>2019-12-31 13:15:55</td>\n",
       "      <td>2019-12-31 15:01:31</td>\n",
       "      <td>103</td>\n",
       "      <td>4</td>\n",
       "      <td>118.0</td>\n",
       "      <td>4.0</td>\n",
       "      <td>0.0</td>\n",
       "      <td>NaN</td>\n",
       "      <td>NaN</td>\n",
       "      <td>2092.0</td>\n",
       "    </tr>\n",
       "  </tbody>\n",
       "</table>\n",
       "<p>3798139 rows × 13 columns</p>\n",
       "</div>"
      ],
      "text/plain": [
       "          Id_Historico_Prestamo  Id_Usuario Id_Tag_Bicicleta  \\\n",
       "440864                 10948569       20272     00FB73222B5E   \n",
       "586995                 12896369      135209     002772222B5E   \n",
       "726893                 12896264       26536     00094A72BF5B   \n",
       "1028721                10948678      124512     00233C222B5E   \n",
       "2111125                10516625       40806     009F53222B5E   \n",
       "...                         ...         ...              ...   \n",
       "11767100               14454800       27944     0000F69A5A88   \n",
       "11767101               14454778      108800     00029A222B5E   \n",
       "11767102               14454793       98449     00001619CE0A   \n",
       "11767103               14454774      129665     000036885A88   \n",
       "11767179               14454588      121316     000026FE5A88   \n",
       "\n",
       "              Fecha_Prestamo    Fecha_Devolucion  Id_Aparcamiento_Origen  \\\n",
       "440864   2019-02-20 14:08:04 2019-02-20 14:26:08                       9   \n",
       "586995   2019-08-22 09:19:51 2019-08-22 09:20:31                      44   \n",
       "726893   2019-08-22 09:11:22 2019-08-22 09:20:53                       9   \n",
       "1028721  2019-02-20 14:15:54 2019-02-20 14:26:28                      89   \n",
       "2111125  2019-01-02 12:57:01 2019-01-02 13:51:38                      12   \n",
       "...                      ...                 ...                     ...   \n",
       "11767100 2019-12-31 13:58:55 2019-12-31 14:25:38                      40   \n",
       "11767101 2019-12-31 13:52:48 2019-12-31 14:40:52                      28   \n",
       "11767102 2019-12-31 13:55:47 2019-12-31 14:41:39                     113   \n",
       "11767103 2019-12-31 13:51:28 2019-12-31 16:27:12                      39   \n",
       "11767179 2019-12-31 13:15:55 2019-12-31 15:01:31                     103   \n",
       "\n",
       "          Posicion_Origen  Id_Aparcamiento_Destino  Posicion_Destino  Importe  \\\n",
       "440864                  1                     43.0               1.0      0.0   \n",
       "586995                 15                     44.0              15.0      0.0   \n",
       "726893                  1                     70.0               1.0      0.0   \n",
       "1028721                 2                     56.0               1.0      0.0   \n",
       "2111125                 1                     22.0               NaN      0.0   \n",
       "...                   ...                      ...               ...      ...   \n",
       "11767100                1                     50.0               1.0      0.0   \n",
       "11767101                1                     50.0               1.0      0.0   \n",
       "11767102                1                     28.0               1.0      0.0   \n",
       "11767103               15                     41.0              15.0      0.0   \n",
       "11767179                4                    118.0               4.0      0.0   \n",
       "\n",
       "          DescripcionImporte         operario  Num_Bici_Hist  \n",
       "440864                   NaN   anderson.rojas         1366.0  \n",
       "586995                   NaN              NaN          976.0  \n",
       "726893                   NaN   seguro.sorelly         2699.0  \n",
       "1028721                  NaN              NaN          638.0  \n",
       "2111125                  NaN  monitor.jannetv          558.0  \n",
       "...                      ...              ...            ...  \n",
       "11767100                 NaN    claudia.marin          541.0  \n",
       "11767101                 NaN    claudia.marin          715.0  \n",
       "11767102                 NaN  edison.graciano         3497.0  \n",
       "11767103                 NaN              NaN          534.0  \n",
       "11767179                 NaN              NaN         2092.0  \n",
       "\n",
       "[3798139 rows x 13 columns]"
      ]
     },
     "execution_count": 170,
     "metadata": {},
     "output_type": "execute_result"
    }
   ],
   "source": [
    "bikes_2019 = bikes[(bikes['Fecha_Prestamo'].dt.year == 2019) & (bikes['Fecha_Devolucion'].dt.year == 2019)]\n",
    "bikes_2019"
   ]
  },
  {
   "cell_type": "markdown",
   "id": "senior-teens",
   "metadata": {
    "ExecuteTime": {
     "end_time": "2021-05-06T15:10:29.828570Z",
     "start_time": "2021-05-06T15:10:29.823826Z"
    }
   },
   "source": [
    "## Checking for NaN Values"
   ]
  },
  {
   "cell_type": "markdown",
   "id": "expired-peter",
   "metadata": {},
   "source": [
    "We are seeing below the amount of NaN values for the columns - station of origin and station of destination. What is happening is that there are no NaN values station of origins and 1009 for stations of destination. What we assume could have happened, is once again some drunk people took their fucking bikes and threw them into the river or something along those lines, hence never reached their destination. "
   ]
  },
  {
   "cell_type": "code",
   "execution_count": 171,
   "id": "egyptian-african",
   "metadata": {
    "ExecuteTime": {
     "end_time": "2021-05-06T16:16:59.737769Z",
     "start_time": "2021-05-06T16:16:59.697503Z"
    }
   },
   "outputs": [
    {
     "data": {
      "text/plain": [
       "(0, 1009)"
      ]
     },
     "execution_count": 171,
     "metadata": {},
     "output_type": "execute_result"
    }
   ],
   "source": [
    "bikes_2019['Id_Aparcamiento_Origen'].isna().sum(), bikes_2019['Id_Aparcamiento_Destino'].isna().sum()"
   ]
  },
  {
   "cell_type": "markdown",
   "id": "colored-distribution",
   "metadata": {},
   "source": [
    "Filling those NaN values with -1 for conversion purposes, so that we can more easily use the .apply function when creating new features"
   ]
  },
  {
   "cell_type": "code",
   "execution_count": 172,
   "id": "acoustic-address",
   "metadata": {
    "ExecuteTime": {
     "end_time": "2021-05-06T16:16:59.808233Z",
     "start_time": "2021-05-06T16:16:59.749491Z"
    },
    "scrolled": true
   },
   "outputs": [
    {
     "name": "stderr",
     "output_type": "stream",
     "text": [
      "<ipython-input-172-c65db0f1f3d8>:1: SettingWithCopyWarning: \n",
      "A value is trying to be set on a copy of a slice from a DataFrame.\n",
      "Try using .loc[row_indexer,col_indexer] = value instead\n",
      "\n",
      "See the caveats in the documentation: https://pandas.pydata.org/pandas-docs/stable/user_guide/indexing.html#returning-a-view-versus-a-copy\n",
      "  bikes_2019['Id_Aparcamiento_Destino'] = bikes_2019['Id_Aparcamiento_Destino'].fillna(np.NaN)\n",
      "<ipython-input-172-c65db0f1f3d8>:2: SettingWithCopyWarning: \n",
      "A value is trying to be set on a copy of a slice from a DataFrame.\n",
      "Try using .loc[row_indexer,col_indexer] = value instead\n",
      "\n",
      "See the caveats in the documentation: https://pandas.pydata.org/pandas-docs/stable/user_guide/indexing.html#returning-a-view-versus-a-copy\n",
      "  bikes_2019['Posicion_Destino'] = bikes_2019['Posicion_Destino'].fillna(np.NaN)\n"
     ]
    }
   ],
   "source": [
    "bikes_2019['Id_Aparcamiento_Destino'] = bikes_2019['Id_Aparcamiento_Destino'].fillna(np.NaN)\n",
    "bikes_2019['Posicion_Destino'] = bikes_2019['Posicion_Destino'].fillna(np.NaN)"
   ]
  },
  {
   "cell_type": "code",
   "execution_count": 173,
   "id": "human-escape",
   "metadata": {
    "ExecuteTime": {
     "end_time": "2021-05-06T16:16:59.834720Z",
     "start_time": "2021-05-06T16:16:59.812726Z"
    }
   },
   "outputs": [
    {
     "data": {
      "text/plain": [
       "Id_Historico_Prestamo               int64\n",
       "Id_Usuario                          int64\n",
       "Id_Tag_Bicicleta                   object\n",
       "Fecha_Prestamo             datetime64[ns]\n",
       "Fecha_Devolucion           datetime64[ns]\n",
       "Id_Aparcamiento_Origen              int64\n",
       "Posicion_Origen                     int64\n",
       "Id_Aparcamiento_Destino           float64\n",
       "Posicion_Destino                  float64\n",
       "Importe                           float64\n",
       "DescripcionImporte                float64\n",
       "operario                           object\n",
       "Num_Bici_Hist                     float64\n",
       "dtype: object"
      ]
     },
     "execution_count": 173,
     "metadata": {},
     "output_type": "execute_result"
    }
   ],
   "source": [
    "bikes_2019.dtypes"
   ]
  },
  {
   "cell_type": "markdown",
   "id": "everyday-marks",
   "metadata": {},
   "source": [
    "We can see from above that some similar columns are of different types such as Id_Aparcamiento_Destino = float64 AND Id_Aparcamiento_Origen = int64"
   ]
  },
  {
   "cell_type": "code",
   "execution_count": 174,
   "id": "hollywood-persian",
   "metadata": {
    "ExecuteTime": {
     "end_time": "2021-05-06T16:17:46.378107Z",
     "start_time": "2021-05-06T16:16:59.845150Z"
    }
   },
   "outputs": [
    {
     "name": "stderr",
     "output_type": "stream",
     "text": [
      "<ipython-input-174-8ddac2f1cc3e>:1: SettingWithCopyWarning: \n",
      "A value is trying to be set on a copy of a slice from a DataFrame.\n",
      "Try using .loc[row_indexer,col_indexer] = value instead\n",
      "\n",
      "See the caveats in the documentation: https://pandas.pydata.org/pandas-docs/stable/user_guide/indexing.html#returning-a-view-versus-a-copy\n",
      "  bikes_2019['Id_Aparcamiento_Origen'] = bikes_2019['Id_Aparcamiento_Origen'].astype(float)\n"
     ]
    }
   ],
   "source": [
    "bikes_2019['Id_Aparcamiento_Origen'] = bikes_2019['Id_Aparcamiento_Origen'].astype(float)                                                                                "
   ]
  },
  {
   "cell_type": "code",
   "execution_count": 175,
   "id": "copyrighted-astrology",
   "metadata": {
    "ExecuteTime": {
     "end_time": "2021-05-06T16:17:46.431142Z",
     "start_time": "2021-05-06T16:17:46.381159Z"
    },
    "scrolled": true
   },
   "outputs": [
    {
     "name": "stderr",
     "output_type": "stream",
     "text": [
      "<ipython-input-175-02666354c3fa>:1: SettingWithCopyWarning: \n",
      "A value is trying to be set on a copy of a slice from a DataFrame.\n",
      "Try using .loc[row_indexer,col_indexer] = value instead\n",
      "\n",
      "See the caveats in the documentation: https://pandas.pydata.org/pandas-docs/stable/user_guide/indexing.html#returning-a-view-versus-a-copy\n",
      "  bikes_2019['Posicion_Origen'] = bikes_2019['Posicion_Origen'].astype(float)\n"
     ]
    }
   ],
   "source": [
    "bikes_2019['Posicion_Origen'] = bikes_2019['Posicion_Origen'].astype(float)"
   ]
  },
  {
   "cell_type": "markdown",
   "id": "russian-wednesday",
   "metadata": {
    "ExecuteTime": {
     "end_time": "2021-05-06T15:20:08.924265Z",
     "start_time": "2021-05-06T15:20:08.919743Z"
    }
   },
   "source": [
    "## Feature Creation: Supply & Demand"
   ]
  },
  {
   "cell_type": "code",
   "execution_count": 176,
   "id": "progressive-forward",
   "metadata": {
    "ExecuteTime": {
     "end_time": "2021-05-06T16:17:46.460277Z",
     "start_time": "2021-05-06T16:17:46.434742Z"
    }
   },
   "outputs": [],
   "source": [
    "def create_supply_demand(x):\n",
    "        if x >= 0:\n",
    "            return 1\n",
    "        elif x != x:\n",
    "            return 0"
   ]
  },
  {
   "cell_type": "markdown",
   "id": "durable-fossil",
   "metadata": {},
   "source": [
    "What the function above does is to return 0 or 1 depending on whether each row has a station of origin or station of destination. Each time someone loans a new bike this is/can be represented as demand = 1. When they drop their bikes this can be represented as supply = 1. However, if the row does not have a station of destination i.e. the bike got lost/thrown in the river, then supply should be = 0. For later use, this will be to find out if there is an imbalance of demand and supply for some stations."
   ]
  },
  {
   "cell_type": "code",
   "execution_count": 177,
   "id": "noted-lloyd",
   "metadata": {
    "ExecuteTime": {
     "end_time": "2021-05-06T16:17:56.943922Z",
     "start_time": "2021-05-06T16:17:46.466807Z"
    }
   },
   "outputs": [
    {
     "name": "stderr",
     "output_type": "stream",
     "text": [
      "<ipython-input-177-ca16beb607f6>:1: SettingWithCopyWarning: \n",
      "A value is trying to be set on a copy of a slice from a DataFrame.\n",
      "Try using .loc[row_indexer,col_indexer] = value instead\n",
      "\n",
      "See the caveats in the documentation: https://pandas.pydata.org/pandas-docs/stable/user_guide/indexing.html#returning-a-view-versus-a-copy\n",
      "  bikes_2019['demand'] = bikes_2019['Id_Aparcamiento_Origen'].apply(create_supply_demand)\n"
     ]
    }
   ],
   "source": [
    "bikes_2019['demand'] = bikes_2019['Id_Aparcamiento_Origen'].apply(create_supply_demand)"
   ]
  },
  {
   "cell_type": "code",
   "execution_count": 178,
   "id": "surprised-evanescence",
   "metadata": {
    "ExecuteTime": {
     "end_time": "2021-05-06T16:18:06.849928Z",
     "start_time": "2021-05-06T16:17:56.947749Z"
    }
   },
   "outputs": [
    {
     "name": "stderr",
     "output_type": "stream",
     "text": [
      "<ipython-input-178-b005562818c7>:1: SettingWithCopyWarning: \n",
      "A value is trying to be set on a copy of a slice from a DataFrame.\n",
      "Try using .loc[row_indexer,col_indexer] = value instead\n",
      "\n",
      "See the caveats in the documentation: https://pandas.pydata.org/pandas-docs/stable/user_guide/indexing.html#returning-a-view-versus-a-copy\n",
      "  bikes_2019['supply'] = bikes_2019['Id_Aparcamiento_Destino'].apply(create_supply_demand)\n"
     ]
    }
   ],
   "source": [
    "bikes_2019['supply'] = bikes_2019['Id_Aparcamiento_Destino'].apply(create_supply_demand)"
   ]
  },
  {
   "cell_type": "code",
   "execution_count": 179,
   "id": "bearing-sacrifice",
   "metadata": {
    "ExecuteTime": {
     "end_time": "2021-05-06T16:18:06.894336Z",
     "start_time": "2021-05-06T16:18:06.867829Z"
    }
   },
   "outputs": [
    {
     "data": {
      "text/plain": [
       "1009"
      ]
     },
     "execution_count": 179,
     "metadata": {},
     "output_type": "execute_result"
    }
   ],
   "source": [
    "# this should equal 1009 because there are 1009 NaN values\n",
    "bikes_2019['supply'].isin([0]).sum()"
   ]
  },
  {
   "cell_type": "markdown",
   "id": "connected-intake",
   "metadata": {
    "ExecuteTime": {
     "end_time": "2021-05-06T15:27:05.045289Z",
     "start_time": "2021-05-06T15:27:05.041732Z"
    }
   },
   "source": [
    "### Creating new features - features to groupby "
   ]
  },
  {
   "cell_type": "code",
   "execution_count": 180,
   "id": "antique-europe",
   "metadata": {
    "ExecuteTime": {
     "end_time": "2021-05-06T16:18:36.885566Z",
     "start_time": "2021-05-06T16:18:06.897903Z"
    }
   },
   "outputs": [
    {
     "name": "stderr",
     "output_type": "stream",
     "text": [
      "<ipython-input-180-d2b376fabb1f>:1: SettingWithCopyWarning: \n",
      "A value is trying to be set on a copy of a slice from a DataFrame.\n",
      "Try using .loc[row_indexer,col_indexer] = value instead\n",
      "\n",
      "See the caveats in the documentation: https://pandas.pydata.org/pandas-docs/stable/user_guide/indexing.html#returning-a-view-versus-a-copy\n",
      "  bikes_2019['loan_station_date_time'] = bikes_2019['Id_Aparcamiento_Origen'].astype('string') + \" \" +\\\n"
     ]
    }
   ],
   "source": [
    "bikes_2019['loan_station_date_time'] = bikes_2019['Id_Aparcamiento_Origen'].astype('string') + \" \" +\\\n",
    "        bikes_2019['Fecha_Prestamo'].dt.date.astype('string') + \" \" +\\\n",
    "        bikes_2019['Fecha_Prestamo'].dt.hour.astype('string')"
   ]
  },
  {
   "cell_type": "code",
   "execution_count": 181,
   "id": "corrected-title",
   "metadata": {
    "ExecuteTime": {
     "end_time": "2021-05-06T16:19:18.442036Z",
     "start_time": "2021-05-06T16:18:36.888265Z"
    }
   },
   "outputs": [
    {
     "name": "stderr",
     "output_type": "stream",
     "text": [
      "<ipython-input-181-7cc76053d955>:1: SettingWithCopyWarning: \n",
      "A value is trying to be set on a copy of a slice from a DataFrame.\n",
      "Try using .loc[row_indexer,col_indexer] = value instead\n",
      "\n",
      "See the caveats in the documentation: https://pandas.pydata.org/pandas-docs/stable/user_guide/indexing.html#returning-a-view-versus-a-copy\n",
      "  bikes_2019['deposit_station_date_time'] = bikes_2019['Id_Aparcamiento_Destino'].astype('string') + \" \" +\\\n"
     ]
    }
   ],
   "source": [
    "bikes_2019['deposit_station_date_time'] = bikes_2019['Id_Aparcamiento_Destino'].astype('string') + \" \" +\\\n",
    "        bikes_2019['Fecha_Devolucion'].dt.date.astype('string') + \" \" + \\\n",
    "        bikes_2019['Fecha_Devolucion'].dt.hour.astype('string')"
   ]
  },
  {
   "cell_type": "code",
   "execution_count": 182,
   "id": "surprising-auckland",
   "metadata": {
    "ExecuteTime": {
     "end_time": "2021-05-06T16:19:18.690867Z",
     "start_time": "2021-05-06T16:19:18.445272Z"
    }
   },
   "outputs": [
    {
     "data": {
      "text/html": [
       "<div>\n",
       "<style scoped>\n",
       "    .dataframe tbody tr th:only-of-type {\n",
       "        vertical-align: middle;\n",
       "    }\n",
       "\n",
       "    .dataframe tbody tr th {\n",
       "        vertical-align: top;\n",
       "    }\n",
       "\n",
       "    .dataframe thead th {\n",
       "        text-align: right;\n",
       "    }\n",
       "</style>\n",
       "<table border=\"1\" class=\"dataframe\">\n",
       "  <thead>\n",
       "    <tr style=\"text-align: right;\">\n",
       "      <th></th>\n",
       "      <th>Id_Historico_Prestamo</th>\n",
       "      <th>Id_Usuario</th>\n",
       "      <th>Id_Tag_Bicicleta</th>\n",
       "      <th>Fecha_Prestamo</th>\n",
       "      <th>Fecha_Devolucion</th>\n",
       "      <th>Id_Aparcamiento_Origen</th>\n",
       "      <th>Posicion_Origen</th>\n",
       "      <th>Id_Aparcamiento_Destino</th>\n",
       "      <th>Posicion_Destino</th>\n",
       "      <th>Importe</th>\n",
       "      <th>DescripcionImporte</th>\n",
       "      <th>operario</th>\n",
       "      <th>Num_Bici_Hist</th>\n",
       "      <th>demand</th>\n",
       "      <th>supply</th>\n",
       "      <th>loan_station_date_time</th>\n",
       "      <th>deposit_station_date_time</th>\n",
       "    </tr>\n",
       "  </thead>\n",
       "  <tbody>\n",
       "    <tr>\n",
       "      <th>440864</th>\n",
       "      <td>10948569</td>\n",
       "      <td>20272</td>\n",
       "      <td>00FB73222B5E</td>\n",
       "      <td>2019-02-20 14:08:04</td>\n",
       "      <td>2019-02-20 14:26:08</td>\n",
       "      <td>9.0</td>\n",
       "      <td>1.0</td>\n",
       "      <td>43.0</td>\n",
       "      <td>1.0</td>\n",
       "      <td>0.0</td>\n",
       "      <td>NaN</td>\n",
       "      <td>anderson.rojas</td>\n",
       "      <td>1366.0</td>\n",
       "      <td>1</td>\n",
       "      <td>1</td>\n",
       "      <td>9.0 2019-02-20 14</td>\n",
       "      <td>43.0 2019-02-20 14</td>\n",
       "    </tr>\n",
       "    <tr>\n",
       "      <th>586995</th>\n",
       "      <td>12896369</td>\n",
       "      <td>135209</td>\n",
       "      <td>002772222B5E</td>\n",
       "      <td>2019-08-22 09:19:51</td>\n",
       "      <td>2019-08-22 09:20:31</td>\n",
       "      <td>44.0</td>\n",
       "      <td>15.0</td>\n",
       "      <td>44.0</td>\n",
       "      <td>15.0</td>\n",
       "      <td>0.0</td>\n",
       "      <td>NaN</td>\n",
       "      <td>NaN</td>\n",
       "      <td>976.0</td>\n",
       "      <td>1</td>\n",
       "      <td>1</td>\n",
       "      <td>44.0 2019-08-22 9</td>\n",
       "      <td>44.0 2019-08-22 9</td>\n",
       "    </tr>\n",
       "    <tr>\n",
       "      <th>726893</th>\n",
       "      <td>12896264</td>\n",
       "      <td>26536</td>\n",
       "      <td>00094A72BF5B</td>\n",
       "      <td>2019-08-22 09:11:22</td>\n",
       "      <td>2019-08-22 09:20:53</td>\n",
       "      <td>9.0</td>\n",
       "      <td>1.0</td>\n",
       "      <td>70.0</td>\n",
       "      <td>1.0</td>\n",
       "      <td>0.0</td>\n",
       "      <td>NaN</td>\n",
       "      <td>seguro.sorelly</td>\n",
       "      <td>2699.0</td>\n",
       "      <td>1</td>\n",
       "      <td>1</td>\n",
       "      <td>9.0 2019-08-22 9</td>\n",
       "      <td>70.0 2019-08-22 9</td>\n",
       "    </tr>\n",
       "    <tr>\n",
       "      <th>1028721</th>\n",
       "      <td>10948678</td>\n",
       "      <td>124512</td>\n",
       "      <td>00233C222B5E</td>\n",
       "      <td>2019-02-20 14:15:54</td>\n",
       "      <td>2019-02-20 14:26:28</td>\n",
       "      <td>89.0</td>\n",
       "      <td>2.0</td>\n",
       "      <td>56.0</td>\n",
       "      <td>1.0</td>\n",
       "      <td>0.0</td>\n",
       "      <td>NaN</td>\n",
       "      <td>NaN</td>\n",
       "      <td>638.0</td>\n",
       "      <td>1</td>\n",
       "      <td>1</td>\n",
       "      <td>89.0 2019-02-20 14</td>\n",
       "      <td>56.0 2019-02-20 14</td>\n",
       "    </tr>\n",
       "    <tr>\n",
       "      <th>2111125</th>\n",
       "      <td>10516625</td>\n",
       "      <td>40806</td>\n",
       "      <td>009F53222B5E</td>\n",
       "      <td>2019-01-02 12:57:01</td>\n",
       "      <td>2019-01-02 13:51:38</td>\n",
       "      <td>12.0</td>\n",
       "      <td>1.0</td>\n",
       "      <td>22.0</td>\n",
       "      <td>NaN</td>\n",
       "      <td>0.0</td>\n",
       "      <td>NaN</td>\n",
       "      <td>monitor.jannetv</td>\n",
       "      <td>558.0</td>\n",
       "      <td>1</td>\n",
       "      <td>1</td>\n",
       "      <td>12.0 2019-01-02 12</td>\n",
       "      <td>22.0 2019-01-02 13</td>\n",
       "    </tr>\n",
       "    <tr>\n",
       "      <th>...</th>\n",
       "      <td>...</td>\n",
       "      <td>...</td>\n",
       "      <td>...</td>\n",
       "      <td>...</td>\n",
       "      <td>...</td>\n",
       "      <td>...</td>\n",
       "      <td>...</td>\n",
       "      <td>...</td>\n",
       "      <td>...</td>\n",
       "      <td>...</td>\n",
       "      <td>...</td>\n",
       "      <td>...</td>\n",
       "      <td>...</td>\n",
       "      <td>...</td>\n",
       "      <td>...</td>\n",
       "      <td>...</td>\n",
       "      <td>...</td>\n",
       "    </tr>\n",
       "    <tr>\n",
       "      <th>11767100</th>\n",
       "      <td>14454800</td>\n",
       "      <td>27944</td>\n",
       "      <td>0000F69A5A88</td>\n",
       "      <td>2019-12-31 13:58:55</td>\n",
       "      <td>2019-12-31 14:25:38</td>\n",
       "      <td>40.0</td>\n",
       "      <td>1.0</td>\n",
       "      <td>50.0</td>\n",
       "      <td>1.0</td>\n",
       "      <td>0.0</td>\n",
       "      <td>NaN</td>\n",
       "      <td>claudia.marin</td>\n",
       "      <td>541.0</td>\n",
       "      <td>1</td>\n",
       "      <td>1</td>\n",
       "      <td>40.0 2019-12-31 13</td>\n",
       "      <td>50.0 2019-12-31 14</td>\n",
       "    </tr>\n",
       "    <tr>\n",
       "      <th>11767101</th>\n",
       "      <td>14454778</td>\n",
       "      <td>108800</td>\n",
       "      <td>00029A222B5E</td>\n",
       "      <td>2019-12-31 13:52:48</td>\n",
       "      <td>2019-12-31 14:40:52</td>\n",
       "      <td>28.0</td>\n",
       "      <td>1.0</td>\n",
       "      <td>50.0</td>\n",
       "      <td>1.0</td>\n",
       "      <td>0.0</td>\n",
       "      <td>NaN</td>\n",
       "      <td>claudia.marin</td>\n",
       "      <td>715.0</td>\n",
       "      <td>1</td>\n",
       "      <td>1</td>\n",
       "      <td>28.0 2019-12-31 13</td>\n",
       "      <td>50.0 2019-12-31 14</td>\n",
       "    </tr>\n",
       "    <tr>\n",
       "      <th>11767102</th>\n",
       "      <td>14454793</td>\n",
       "      <td>98449</td>\n",
       "      <td>00001619CE0A</td>\n",
       "      <td>2019-12-31 13:55:47</td>\n",
       "      <td>2019-12-31 14:41:39</td>\n",
       "      <td>113.0</td>\n",
       "      <td>1.0</td>\n",
       "      <td>28.0</td>\n",
       "      <td>1.0</td>\n",
       "      <td>0.0</td>\n",
       "      <td>NaN</td>\n",
       "      <td>edison.graciano</td>\n",
       "      <td>3497.0</td>\n",
       "      <td>1</td>\n",
       "      <td>1</td>\n",
       "      <td>113.0 2019-12-31 13</td>\n",
       "      <td>28.0 2019-12-31 14</td>\n",
       "    </tr>\n",
       "    <tr>\n",
       "      <th>11767103</th>\n",
       "      <td>14454774</td>\n",
       "      <td>129665</td>\n",
       "      <td>000036885A88</td>\n",
       "      <td>2019-12-31 13:51:28</td>\n",
       "      <td>2019-12-31 16:27:12</td>\n",
       "      <td>39.0</td>\n",
       "      <td>15.0</td>\n",
       "      <td>41.0</td>\n",
       "      <td>15.0</td>\n",
       "      <td>0.0</td>\n",
       "      <td>NaN</td>\n",
       "      <td>NaN</td>\n",
       "      <td>534.0</td>\n",
       "      <td>1</td>\n",
       "      <td>1</td>\n",
       "      <td>39.0 2019-12-31 13</td>\n",
       "      <td>41.0 2019-12-31 16</td>\n",
       "    </tr>\n",
       "    <tr>\n",
       "      <th>11767179</th>\n",
       "      <td>14454588</td>\n",
       "      <td>121316</td>\n",
       "      <td>000026FE5A88</td>\n",
       "      <td>2019-12-31 13:15:55</td>\n",
       "      <td>2019-12-31 15:01:31</td>\n",
       "      <td>103.0</td>\n",
       "      <td>4.0</td>\n",
       "      <td>118.0</td>\n",
       "      <td>4.0</td>\n",
       "      <td>0.0</td>\n",
       "      <td>NaN</td>\n",
       "      <td>NaN</td>\n",
       "      <td>2092.0</td>\n",
       "      <td>1</td>\n",
       "      <td>1</td>\n",
       "      <td>103.0 2019-12-31 13</td>\n",
       "      <td>118.0 2019-12-31 15</td>\n",
       "    </tr>\n",
       "  </tbody>\n",
       "</table>\n",
       "<p>3798139 rows × 17 columns</p>\n",
       "</div>"
      ],
      "text/plain": [
       "          Id_Historico_Prestamo  Id_Usuario Id_Tag_Bicicleta  \\\n",
       "440864                 10948569       20272     00FB73222B5E   \n",
       "586995                 12896369      135209     002772222B5E   \n",
       "726893                 12896264       26536     00094A72BF5B   \n",
       "1028721                10948678      124512     00233C222B5E   \n",
       "2111125                10516625       40806     009F53222B5E   \n",
       "...                         ...         ...              ...   \n",
       "11767100               14454800       27944     0000F69A5A88   \n",
       "11767101               14454778      108800     00029A222B5E   \n",
       "11767102               14454793       98449     00001619CE0A   \n",
       "11767103               14454774      129665     000036885A88   \n",
       "11767179               14454588      121316     000026FE5A88   \n",
       "\n",
       "              Fecha_Prestamo    Fecha_Devolucion  Id_Aparcamiento_Origen  \\\n",
       "440864   2019-02-20 14:08:04 2019-02-20 14:26:08                     9.0   \n",
       "586995   2019-08-22 09:19:51 2019-08-22 09:20:31                    44.0   \n",
       "726893   2019-08-22 09:11:22 2019-08-22 09:20:53                     9.0   \n",
       "1028721  2019-02-20 14:15:54 2019-02-20 14:26:28                    89.0   \n",
       "2111125  2019-01-02 12:57:01 2019-01-02 13:51:38                    12.0   \n",
       "...                      ...                 ...                     ...   \n",
       "11767100 2019-12-31 13:58:55 2019-12-31 14:25:38                    40.0   \n",
       "11767101 2019-12-31 13:52:48 2019-12-31 14:40:52                    28.0   \n",
       "11767102 2019-12-31 13:55:47 2019-12-31 14:41:39                   113.0   \n",
       "11767103 2019-12-31 13:51:28 2019-12-31 16:27:12                    39.0   \n",
       "11767179 2019-12-31 13:15:55 2019-12-31 15:01:31                   103.0   \n",
       "\n",
       "          Posicion_Origen  Id_Aparcamiento_Destino  Posicion_Destino  Importe  \\\n",
       "440864                1.0                     43.0               1.0      0.0   \n",
       "586995               15.0                     44.0              15.0      0.0   \n",
       "726893                1.0                     70.0               1.0      0.0   \n",
       "1028721               2.0                     56.0               1.0      0.0   \n",
       "2111125               1.0                     22.0               NaN      0.0   \n",
       "...                   ...                      ...               ...      ...   \n",
       "11767100              1.0                     50.0               1.0      0.0   \n",
       "11767101              1.0                     50.0               1.0      0.0   \n",
       "11767102              1.0                     28.0               1.0      0.0   \n",
       "11767103             15.0                     41.0              15.0      0.0   \n",
       "11767179              4.0                    118.0               4.0      0.0   \n",
       "\n",
       "          DescripcionImporte         operario  Num_Bici_Hist  demand  supply  \\\n",
       "440864                   NaN   anderson.rojas         1366.0       1       1   \n",
       "586995                   NaN              NaN          976.0       1       1   \n",
       "726893                   NaN   seguro.sorelly         2699.0       1       1   \n",
       "1028721                  NaN              NaN          638.0       1       1   \n",
       "2111125                  NaN  monitor.jannetv          558.0       1       1   \n",
       "...                      ...              ...            ...     ...     ...   \n",
       "11767100                 NaN    claudia.marin          541.0       1       1   \n",
       "11767101                 NaN    claudia.marin          715.0       1       1   \n",
       "11767102                 NaN  edison.graciano         3497.0       1       1   \n",
       "11767103                 NaN              NaN          534.0       1       1   \n",
       "11767179                 NaN              NaN         2092.0       1       1   \n",
       "\n",
       "         loan_station_date_time deposit_station_date_time  \n",
       "440864        9.0 2019-02-20 14        43.0 2019-02-20 14  \n",
       "586995        44.0 2019-08-22 9         44.0 2019-08-22 9  \n",
       "726893         9.0 2019-08-22 9         70.0 2019-08-22 9  \n",
       "1028721      89.0 2019-02-20 14        56.0 2019-02-20 14  \n",
       "2111125      12.0 2019-01-02 12        22.0 2019-01-02 13  \n",
       "...                         ...                       ...  \n",
       "11767100     40.0 2019-12-31 13        50.0 2019-12-31 14  \n",
       "11767101     28.0 2019-12-31 13        50.0 2019-12-31 14  \n",
       "11767102    113.0 2019-12-31 13        28.0 2019-12-31 14  \n",
       "11767103     39.0 2019-12-31 13        41.0 2019-12-31 16  \n",
       "11767179    103.0 2019-12-31 13       118.0 2019-12-31 15  \n",
       "\n",
       "[3798139 rows x 17 columns]"
      ]
     },
     "execution_count": 182,
     "metadata": {},
     "output_type": "execute_result"
    }
   ],
   "source": [
    "bikes_2019"
   ]
  },
  {
   "cell_type": "code",
   "execution_count": 183,
   "id": "arctic-promise",
   "metadata": {
    "ExecuteTime": {
     "end_time": "2021-05-06T16:19:18.736137Z",
     "start_time": "2021-05-06T16:19:18.694460Z"
    },
    "scrolled": true
   },
   "outputs": [
    {
     "data": {
      "text/html": [
       "<div>\n",
       "<style scoped>\n",
       "    .dataframe tbody tr th:only-of-type {\n",
       "        vertical-align: middle;\n",
       "    }\n",
       "\n",
       "    .dataframe tbody tr th {\n",
       "        vertical-align: top;\n",
       "    }\n",
       "\n",
       "    .dataframe thead th {\n",
       "        text-align: right;\n",
       "    }\n",
       "</style>\n",
       "<table border=\"1\" class=\"dataframe\">\n",
       "  <thead>\n",
       "    <tr style=\"text-align: right;\">\n",
       "      <th></th>\n",
       "      <th>loan_station_date_time</th>\n",
       "    </tr>\n",
       "  </thead>\n",
       "  <tbody>\n",
       "    <tr>\n",
       "      <th>440864</th>\n",
       "      <td>9.0 2019-02-20 14</td>\n",
       "    </tr>\n",
       "    <tr>\n",
       "      <th>586995</th>\n",
       "      <td>44.0 2019-08-22 9</td>\n",
       "    </tr>\n",
       "    <tr>\n",
       "      <th>726893</th>\n",
       "      <td>9.0 2019-08-22 9</td>\n",
       "    </tr>\n",
       "    <tr>\n",
       "      <th>1028721</th>\n",
       "      <td>89.0 2019-02-20 14</td>\n",
       "    </tr>\n",
       "    <tr>\n",
       "      <th>2111125</th>\n",
       "      <td>12.0 2019-01-02 12</td>\n",
       "    </tr>\n",
       "    <tr>\n",
       "      <th>...</th>\n",
       "      <td>...</td>\n",
       "    </tr>\n",
       "    <tr>\n",
       "      <th>11767100</th>\n",
       "      <td>40.0 2019-12-31 13</td>\n",
       "    </tr>\n",
       "    <tr>\n",
       "      <th>11767101</th>\n",
       "      <td>28.0 2019-12-31 13</td>\n",
       "    </tr>\n",
       "    <tr>\n",
       "      <th>11767102</th>\n",
       "      <td>113.0 2019-12-31 13</td>\n",
       "    </tr>\n",
       "    <tr>\n",
       "      <th>11767103</th>\n",
       "      <td>39.0 2019-12-31 13</td>\n",
       "    </tr>\n",
       "    <tr>\n",
       "      <th>11767179</th>\n",
       "      <td>103.0 2019-12-31 13</td>\n",
       "    </tr>\n",
       "  </tbody>\n",
       "</table>\n",
       "<p>3798139 rows × 1 columns</p>\n",
       "</div>"
      ],
      "text/plain": [
       "         loan_station_date_time\n",
       "440864        9.0 2019-02-20 14\n",
       "586995        44.0 2019-08-22 9\n",
       "726893         9.0 2019-08-22 9\n",
       "1028721      89.0 2019-02-20 14\n",
       "2111125      12.0 2019-01-02 12\n",
       "...                         ...\n",
       "11767100     40.0 2019-12-31 13\n",
       "11767101     28.0 2019-12-31 13\n",
       "11767102    113.0 2019-12-31 13\n",
       "11767103     39.0 2019-12-31 13\n",
       "11767179    103.0 2019-12-31 13\n",
       "\n",
       "[3798139 rows x 1 columns]"
      ]
     },
     "execution_count": 183,
     "metadata": {},
     "output_type": "execute_result"
    }
   ],
   "source": [
    "# we decided to create new features based on several columns that we wanted to merge together.\n",
    "# basically, our goal would be to group by station, date and time\n",
    "bikes_2019.iloc[:,-2:-1]"
   ]
  },
  {
   "cell_type": "markdown",
   "id": "recovered-reference",
   "metadata": {
    "ExecuteTime": {
     "end_time": "2021-05-06T15:34:18.445156Z",
     "start_time": "2021-05-06T15:34:18.441279Z"
    }
   },
   "source": [
    "## Our New DFs"
   ]
  },
  {
   "cell_type": "markdown",
   "id": "metallic-peoples",
   "metadata": {
    "ExecuteTime": {
     "end_time": "2021-05-06T15:35:16.828587Z",
     "start_time": "2021-05-06T15:35:16.824157Z"
    }
   },
   "source": [
    "### Demand DF"
   ]
  },
  {
   "cell_type": "code",
   "execution_count": 184,
   "id": "illegal-clearing",
   "metadata": {
    "ExecuteTime": {
     "end_time": "2021-05-06T16:19:39.223577Z",
     "start_time": "2021-05-06T16:19:18.739975Z"
    }
   },
   "outputs": [],
   "source": [
    "demand_per_station_per_hour = bikes_2019[['demand']].groupby(bikes_2019['loan_station_date_time']).sum()"
   ]
  },
  {
   "cell_type": "code",
   "execution_count": 185,
   "id": "moderate-falls",
   "metadata": {
    "ExecuteTime": {
     "end_time": "2021-05-06T16:19:39.259002Z",
     "start_time": "2021-05-06T16:19:39.228131Z"
    }
   },
   "outputs": [],
   "source": [
    "demand_per_station_per_hour.reset_index(inplace=True)"
   ]
  },
  {
   "cell_type": "code",
   "execution_count": 186,
   "id": "shared-burst",
   "metadata": {
    "ExecuteTime": {
     "end_time": "2021-05-06T16:19:39.296555Z",
     "start_time": "2021-05-06T16:19:39.266337Z"
    },
    "scrolled": false
   },
   "outputs": [
    {
     "data": {
      "text/html": [
       "<div>\n",
       "<style scoped>\n",
       "    .dataframe tbody tr th:only-of-type {\n",
       "        vertical-align: middle;\n",
       "    }\n",
       "\n",
       "    .dataframe tbody tr th {\n",
       "        vertical-align: top;\n",
       "    }\n",
       "\n",
       "    .dataframe thead th {\n",
       "        text-align: right;\n",
       "    }\n",
       "</style>\n",
       "<table border=\"1\" class=\"dataframe\">\n",
       "  <thead>\n",
       "    <tr style=\"text-align: right;\">\n",
       "      <th></th>\n",
       "      <th>loan_station_date_time</th>\n",
       "      <th>demand</th>\n",
       "    </tr>\n",
       "  </thead>\n",
       "  <tbody>\n",
       "    <tr>\n",
       "      <th>0</th>\n",
       "      <td>1.0 2019-01-02 10</td>\n",
       "      <td>5</td>\n",
       "    </tr>\n",
       "    <tr>\n",
       "      <th>1</th>\n",
       "      <td>1.0 2019-01-02 11</td>\n",
       "      <td>8</td>\n",
       "    </tr>\n",
       "    <tr>\n",
       "      <th>2</th>\n",
       "      <td>1.0 2019-01-02 12</td>\n",
       "      <td>17</td>\n",
       "    </tr>\n",
       "    <tr>\n",
       "      <th>3</th>\n",
       "      <td>1.0 2019-01-02 13</td>\n",
       "      <td>7</td>\n",
       "    </tr>\n",
       "    <tr>\n",
       "      <th>4</th>\n",
       "      <td>1.0 2019-01-02 14</td>\n",
       "      <td>12</td>\n",
       "    </tr>\n",
       "    <tr>\n",
       "      <th>...</th>\n",
       "      <td>...</td>\n",
       "      <td>...</td>\n",
       "    </tr>\n",
       "    <tr>\n",
       "      <th>280484</th>\n",
       "      <td>99.0 2019-12-31 11</td>\n",
       "      <td>8</td>\n",
       "    </tr>\n",
       "    <tr>\n",
       "      <th>280485</th>\n",
       "      <td>99.0 2019-12-31 12</td>\n",
       "      <td>13</td>\n",
       "    </tr>\n",
       "    <tr>\n",
       "      <th>280486</th>\n",
       "      <td>99.0 2019-12-31 13</td>\n",
       "      <td>6</td>\n",
       "    </tr>\n",
       "    <tr>\n",
       "      <th>280487</th>\n",
       "      <td>99.0 2019-12-31 8</td>\n",
       "      <td>1</td>\n",
       "    </tr>\n",
       "    <tr>\n",
       "      <th>280488</th>\n",
       "      <td>99.0 2019-12-31 9</td>\n",
       "      <td>3</td>\n",
       "    </tr>\n",
       "  </tbody>\n",
       "</table>\n",
       "<p>280489 rows × 2 columns</p>\n",
       "</div>"
      ],
      "text/plain": [
       "       loan_station_date_time  demand\n",
       "0           1.0 2019-01-02 10       5\n",
       "1           1.0 2019-01-02 11       8\n",
       "2           1.0 2019-01-02 12      17\n",
       "3           1.0 2019-01-02 13       7\n",
       "4           1.0 2019-01-02 14      12\n",
       "...                       ...     ...\n",
       "280484     99.0 2019-12-31 11       8\n",
       "280485     99.0 2019-12-31 12      13\n",
       "280486     99.0 2019-12-31 13       6\n",
       "280487      99.0 2019-12-31 8       1\n",
       "280488      99.0 2019-12-31 9       3\n",
       "\n",
       "[280489 rows x 2 columns]"
      ]
     },
     "execution_count": 186,
     "metadata": {},
     "output_type": "execute_result"
    }
   ],
   "source": [
    "demand_per_station_per_hour"
   ]
  },
  {
   "cell_type": "code",
   "execution_count": 187,
   "id": "described-surveillance",
   "metadata": {
    "ExecuteTime": {
     "end_time": "2021-05-06T16:19:40.745095Z",
     "start_time": "2021-05-06T16:19:39.310487Z"
    }
   },
   "outputs": [],
   "source": [
    "demand_per_station_per_hour[['station','date','time']] = demand_per_station_per_hour.loan_station_date_time.str.split(\" \",expand=True)"
   ]
  },
  {
   "cell_type": "code",
   "execution_count": 188,
   "id": "regulated-criterion",
   "metadata": {
    "ExecuteTime": {
     "end_time": "2021-05-06T16:19:40.790308Z",
     "start_time": "2021-05-06T16:19:40.747633Z"
    },
    "scrolled": true
   },
   "outputs": [
    {
     "data": {
      "text/html": [
       "<div>\n",
       "<style scoped>\n",
       "    .dataframe tbody tr th:only-of-type {\n",
       "        vertical-align: middle;\n",
       "    }\n",
       "\n",
       "    .dataframe tbody tr th {\n",
       "        vertical-align: top;\n",
       "    }\n",
       "\n",
       "    .dataframe thead th {\n",
       "        text-align: right;\n",
       "    }\n",
       "</style>\n",
       "<table border=\"1\" class=\"dataframe\">\n",
       "  <thead>\n",
       "    <tr style=\"text-align: right;\">\n",
       "      <th></th>\n",
       "      <th>loan_station_date_time</th>\n",
       "      <th>demand</th>\n",
       "      <th>station</th>\n",
       "      <th>date</th>\n",
       "      <th>time</th>\n",
       "    </tr>\n",
       "  </thead>\n",
       "  <tbody>\n",
       "    <tr>\n",
       "      <th>0</th>\n",
       "      <td>1.0 2019-01-02 10</td>\n",
       "      <td>5</td>\n",
       "      <td>1.0</td>\n",
       "      <td>2019-01-02</td>\n",
       "      <td>10</td>\n",
       "    </tr>\n",
       "    <tr>\n",
       "      <th>1</th>\n",
       "      <td>1.0 2019-01-02 11</td>\n",
       "      <td>8</td>\n",
       "      <td>1.0</td>\n",
       "      <td>2019-01-02</td>\n",
       "      <td>11</td>\n",
       "    </tr>\n",
       "    <tr>\n",
       "      <th>2</th>\n",
       "      <td>1.0 2019-01-02 12</td>\n",
       "      <td>17</td>\n",
       "      <td>1.0</td>\n",
       "      <td>2019-01-02</td>\n",
       "      <td>12</td>\n",
       "    </tr>\n",
       "    <tr>\n",
       "      <th>3</th>\n",
       "      <td>1.0 2019-01-02 13</td>\n",
       "      <td>7</td>\n",
       "      <td>1.0</td>\n",
       "      <td>2019-01-02</td>\n",
       "      <td>13</td>\n",
       "    </tr>\n",
       "    <tr>\n",
       "      <th>4</th>\n",
       "      <td>1.0 2019-01-02 14</td>\n",
       "      <td>12</td>\n",
       "      <td>1.0</td>\n",
       "      <td>2019-01-02</td>\n",
       "      <td>14</td>\n",
       "    </tr>\n",
       "    <tr>\n",
       "      <th>...</th>\n",
       "      <td>...</td>\n",
       "      <td>...</td>\n",
       "      <td>...</td>\n",
       "      <td>...</td>\n",
       "      <td>...</td>\n",
       "    </tr>\n",
       "    <tr>\n",
       "      <th>280484</th>\n",
       "      <td>99.0 2019-12-31 11</td>\n",
       "      <td>8</td>\n",
       "      <td>99.0</td>\n",
       "      <td>2019-12-31</td>\n",
       "      <td>11</td>\n",
       "    </tr>\n",
       "    <tr>\n",
       "      <th>280485</th>\n",
       "      <td>99.0 2019-12-31 12</td>\n",
       "      <td>13</td>\n",
       "      <td>99.0</td>\n",
       "      <td>2019-12-31</td>\n",
       "      <td>12</td>\n",
       "    </tr>\n",
       "    <tr>\n",
       "      <th>280486</th>\n",
       "      <td>99.0 2019-12-31 13</td>\n",
       "      <td>6</td>\n",
       "      <td>99.0</td>\n",
       "      <td>2019-12-31</td>\n",
       "      <td>13</td>\n",
       "    </tr>\n",
       "    <tr>\n",
       "      <th>280487</th>\n",
       "      <td>99.0 2019-12-31 8</td>\n",
       "      <td>1</td>\n",
       "      <td>99.0</td>\n",
       "      <td>2019-12-31</td>\n",
       "      <td>8</td>\n",
       "    </tr>\n",
       "    <tr>\n",
       "      <th>280488</th>\n",
       "      <td>99.0 2019-12-31 9</td>\n",
       "      <td>3</td>\n",
       "      <td>99.0</td>\n",
       "      <td>2019-12-31</td>\n",
       "      <td>9</td>\n",
       "    </tr>\n",
       "  </tbody>\n",
       "</table>\n",
       "<p>280489 rows × 5 columns</p>\n",
       "</div>"
      ],
      "text/plain": [
       "       loan_station_date_time  demand station        date time\n",
       "0           1.0 2019-01-02 10       5     1.0  2019-01-02   10\n",
       "1           1.0 2019-01-02 11       8     1.0  2019-01-02   11\n",
       "2           1.0 2019-01-02 12      17     1.0  2019-01-02   12\n",
       "3           1.0 2019-01-02 13       7     1.0  2019-01-02   13\n",
       "4           1.0 2019-01-02 14      12     1.0  2019-01-02   14\n",
       "...                       ...     ...     ...         ...  ...\n",
       "280484     99.0 2019-12-31 11       8    99.0  2019-12-31   11\n",
       "280485     99.0 2019-12-31 12      13    99.0  2019-12-31   12\n",
       "280486     99.0 2019-12-31 13       6    99.0  2019-12-31   13\n",
       "280487      99.0 2019-12-31 8       1    99.0  2019-12-31    8\n",
       "280488      99.0 2019-12-31 9       3    99.0  2019-12-31    9\n",
       "\n",
       "[280489 rows x 5 columns]"
      ]
     },
     "execution_count": 188,
     "metadata": {},
     "output_type": "execute_result"
    }
   ],
   "source": [
    "demand_per_station_per_hour"
   ]
  },
  {
   "cell_type": "markdown",
   "id": "intellectual-particular",
   "metadata": {
    "ExecuteTime": {
     "end_time": "2021-05-06T15:35:24.974325Z",
     "start_time": "2021-05-06T15:35:24.969956Z"
    }
   },
   "source": [
    "### Supply DF"
   ]
  },
  {
   "cell_type": "code",
   "execution_count": 189,
   "id": "indie-lindsay",
   "metadata": {
    "ExecuteTime": {
     "end_time": "2021-05-06T16:19:42.807723Z",
     "start_time": "2021-05-06T16:19:40.793641Z"
    }
   },
   "outputs": [],
   "source": [
    "supply_per_station_per_hour = bikes_2019[['supply']].groupby(bikes_2019['deposit_station_date_time']).sum()"
   ]
  },
  {
   "cell_type": "code",
   "execution_count": 190,
   "id": "spanish-problem",
   "metadata": {
    "ExecuteTime": {
     "end_time": "2021-05-06T16:19:42.836360Z",
     "start_time": "2021-05-06T16:19:42.810153Z"
    }
   },
   "outputs": [],
   "source": [
    "supply_per_station_per_hour.reset_index(inplace=True)"
   ]
  },
  {
   "cell_type": "code",
   "execution_count": 191,
   "id": "collected-macedonia",
   "metadata": {
    "ExecuteTime": {
     "end_time": "2021-05-06T16:19:42.953295Z",
     "start_time": "2021-05-06T16:19:42.839129Z"
    },
    "scrolled": false
   },
   "outputs": [
    {
     "data": {
      "text/html": [
       "<div>\n",
       "<style scoped>\n",
       "    .dataframe tbody tr th:only-of-type {\n",
       "        vertical-align: middle;\n",
       "    }\n",
       "\n",
       "    .dataframe tbody tr th {\n",
       "        vertical-align: top;\n",
       "    }\n",
       "\n",
       "    .dataframe thead th {\n",
       "        text-align: right;\n",
       "    }\n",
       "</style>\n",
       "<table border=\"1\" class=\"dataframe\">\n",
       "  <thead>\n",
       "    <tr style=\"text-align: right;\">\n",
       "      <th></th>\n",
       "      <th>deposit_station_date_time</th>\n",
       "      <th>supply</th>\n",
       "    </tr>\n",
       "  </thead>\n",
       "  <tbody>\n",
       "    <tr>\n",
       "      <th>0</th>\n",
       "      <td>1.0 2019-01-02 10</td>\n",
       "      <td>4</td>\n",
       "    </tr>\n",
       "    <tr>\n",
       "      <th>1</th>\n",
       "      <td>1.0 2019-01-02 11</td>\n",
       "      <td>8</td>\n",
       "    </tr>\n",
       "    <tr>\n",
       "      <th>2</th>\n",
       "      <td>1.0 2019-01-02 12</td>\n",
       "      <td>12</td>\n",
       "    </tr>\n",
       "    <tr>\n",
       "      <th>3</th>\n",
       "      <td>1.0 2019-01-02 13</td>\n",
       "      <td>7</td>\n",
       "    </tr>\n",
       "    <tr>\n",
       "      <th>4</th>\n",
       "      <td>1.0 2019-01-02 14</td>\n",
       "      <td>8</td>\n",
       "    </tr>\n",
       "    <tr>\n",
       "      <th>...</th>\n",
       "      <td>...</td>\n",
       "      <td>...</td>\n",
       "    </tr>\n",
       "    <tr>\n",
       "      <th>298700</th>\n",
       "      <td>99.0 2019-12-31 5</td>\n",
       "      <td>1</td>\n",
       "    </tr>\n",
       "    <tr>\n",
       "      <th>298701</th>\n",
       "      <td>99.0 2019-12-31 6</td>\n",
       "      <td>1</td>\n",
       "    </tr>\n",
       "    <tr>\n",
       "      <th>298702</th>\n",
       "      <td>99.0 2019-12-31 7</td>\n",
       "      <td>1</td>\n",
       "    </tr>\n",
       "    <tr>\n",
       "      <th>298703</th>\n",
       "      <td>99.0 2019-12-31 8</td>\n",
       "      <td>5</td>\n",
       "    </tr>\n",
       "    <tr>\n",
       "      <th>298704</th>\n",
       "      <td>99.0 2019-12-31 9</td>\n",
       "      <td>2</td>\n",
       "    </tr>\n",
       "  </tbody>\n",
       "</table>\n",
       "<p>298705 rows × 2 columns</p>\n",
       "</div>"
      ],
      "text/plain": [
       "       deposit_station_date_time  supply\n",
       "0              1.0 2019-01-02 10       4\n",
       "1              1.0 2019-01-02 11       8\n",
       "2              1.0 2019-01-02 12      12\n",
       "3              1.0 2019-01-02 13       7\n",
       "4              1.0 2019-01-02 14       8\n",
       "...                          ...     ...\n",
       "298700         99.0 2019-12-31 5       1\n",
       "298701         99.0 2019-12-31 6       1\n",
       "298702         99.0 2019-12-31 7       1\n",
       "298703         99.0 2019-12-31 8       5\n",
       "298704         99.0 2019-12-31 9       2\n",
       "\n",
       "[298705 rows x 2 columns]"
      ]
     },
     "execution_count": 191,
     "metadata": {},
     "output_type": "execute_result"
    }
   ],
   "source": [
    "supply_per_station_per_hour"
   ]
  },
  {
   "cell_type": "code",
   "execution_count": 192,
   "id": "scheduled-pierce",
   "metadata": {
    "ExecuteTime": {
     "end_time": "2021-05-06T16:19:47.432468Z",
     "start_time": "2021-05-06T16:19:42.964557Z"
    }
   },
   "outputs": [],
   "source": [
    "supply_per_station_per_hour[['station','date','time']] = supply_per_station_per_hour.deposit_station_date_time.str.split(\" \",expand=True)"
   ]
  },
  {
   "cell_type": "code",
   "execution_count": 193,
   "id": "widespread-chance",
   "metadata": {
    "ExecuteTime": {
     "end_time": "2021-05-06T16:19:47.469269Z",
     "start_time": "2021-05-06T16:19:47.436227Z"
    },
    "scrolled": true
   },
   "outputs": [
    {
     "data": {
      "text/html": [
       "<div>\n",
       "<style scoped>\n",
       "    .dataframe tbody tr th:only-of-type {\n",
       "        vertical-align: middle;\n",
       "    }\n",
       "\n",
       "    .dataframe tbody tr th {\n",
       "        vertical-align: top;\n",
       "    }\n",
       "\n",
       "    .dataframe thead th {\n",
       "        text-align: right;\n",
       "    }\n",
       "</style>\n",
       "<table border=\"1\" class=\"dataframe\">\n",
       "  <thead>\n",
       "    <tr style=\"text-align: right;\">\n",
       "      <th></th>\n",
       "      <th>deposit_station_date_time</th>\n",
       "      <th>supply</th>\n",
       "      <th>station</th>\n",
       "      <th>date</th>\n",
       "      <th>time</th>\n",
       "    </tr>\n",
       "  </thead>\n",
       "  <tbody>\n",
       "    <tr>\n",
       "      <th>0</th>\n",
       "      <td>1.0 2019-01-02 10</td>\n",
       "      <td>4</td>\n",
       "      <td>1.0</td>\n",
       "      <td>2019-01-02</td>\n",
       "      <td>10</td>\n",
       "    </tr>\n",
       "    <tr>\n",
       "      <th>1</th>\n",
       "      <td>1.0 2019-01-02 11</td>\n",
       "      <td>8</td>\n",
       "      <td>1.0</td>\n",
       "      <td>2019-01-02</td>\n",
       "      <td>11</td>\n",
       "    </tr>\n",
       "    <tr>\n",
       "      <th>2</th>\n",
       "      <td>1.0 2019-01-02 12</td>\n",
       "      <td>12</td>\n",
       "      <td>1.0</td>\n",
       "      <td>2019-01-02</td>\n",
       "      <td>12</td>\n",
       "    </tr>\n",
       "    <tr>\n",
       "      <th>3</th>\n",
       "      <td>1.0 2019-01-02 13</td>\n",
       "      <td>7</td>\n",
       "      <td>1.0</td>\n",
       "      <td>2019-01-02</td>\n",
       "      <td>13</td>\n",
       "    </tr>\n",
       "    <tr>\n",
       "      <th>4</th>\n",
       "      <td>1.0 2019-01-02 14</td>\n",
       "      <td>8</td>\n",
       "      <td>1.0</td>\n",
       "      <td>2019-01-02</td>\n",
       "      <td>14</td>\n",
       "    </tr>\n",
       "    <tr>\n",
       "      <th>...</th>\n",
       "      <td>...</td>\n",
       "      <td>...</td>\n",
       "      <td>...</td>\n",
       "      <td>...</td>\n",
       "      <td>...</td>\n",
       "    </tr>\n",
       "    <tr>\n",
       "      <th>298700</th>\n",
       "      <td>99.0 2019-12-31 5</td>\n",
       "      <td>1</td>\n",
       "      <td>99.0</td>\n",
       "      <td>2019-12-31</td>\n",
       "      <td>5</td>\n",
       "    </tr>\n",
       "    <tr>\n",
       "      <th>298701</th>\n",
       "      <td>99.0 2019-12-31 6</td>\n",
       "      <td>1</td>\n",
       "      <td>99.0</td>\n",
       "      <td>2019-12-31</td>\n",
       "      <td>6</td>\n",
       "    </tr>\n",
       "    <tr>\n",
       "      <th>298702</th>\n",
       "      <td>99.0 2019-12-31 7</td>\n",
       "      <td>1</td>\n",
       "      <td>99.0</td>\n",
       "      <td>2019-12-31</td>\n",
       "      <td>7</td>\n",
       "    </tr>\n",
       "    <tr>\n",
       "      <th>298703</th>\n",
       "      <td>99.0 2019-12-31 8</td>\n",
       "      <td>5</td>\n",
       "      <td>99.0</td>\n",
       "      <td>2019-12-31</td>\n",
       "      <td>8</td>\n",
       "    </tr>\n",
       "    <tr>\n",
       "      <th>298704</th>\n",
       "      <td>99.0 2019-12-31 9</td>\n",
       "      <td>2</td>\n",
       "      <td>99.0</td>\n",
       "      <td>2019-12-31</td>\n",
       "      <td>9</td>\n",
       "    </tr>\n",
       "  </tbody>\n",
       "</table>\n",
       "<p>298705 rows × 5 columns</p>\n",
       "</div>"
      ],
      "text/plain": [
       "       deposit_station_date_time  supply station        date time\n",
       "0              1.0 2019-01-02 10       4     1.0  2019-01-02   10\n",
       "1              1.0 2019-01-02 11       8     1.0  2019-01-02   11\n",
       "2              1.0 2019-01-02 12      12     1.0  2019-01-02   12\n",
       "3              1.0 2019-01-02 13       7     1.0  2019-01-02   13\n",
       "4              1.0 2019-01-02 14       8     1.0  2019-01-02   14\n",
       "...                          ...     ...     ...         ...  ...\n",
       "298700         99.0 2019-12-31 5       1    99.0  2019-12-31    5\n",
       "298701         99.0 2019-12-31 6       1    99.0  2019-12-31    6\n",
       "298702         99.0 2019-12-31 7       1    99.0  2019-12-31    7\n",
       "298703         99.0 2019-12-31 8       5    99.0  2019-12-31    8\n",
       "298704         99.0 2019-12-31 9       2    99.0  2019-12-31    9\n",
       "\n",
       "[298705 rows x 5 columns]"
      ]
     },
     "execution_count": 193,
     "metadata": {},
     "output_type": "execute_result"
    }
   ],
   "source": [
    "supply_per_station_per_hour"
   ]
  },
  {
   "cell_type": "markdown",
   "id": "ceramic-entity",
   "metadata": {
    "ExecuteTime": {
     "end_time": "2021-05-06T15:41:33.507356Z",
     "start_time": "2021-05-06T15:41:33.503886Z"
    }
   },
   "source": [
    "### Cleaning DFs"
   ]
  },
  {
   "cell_type": "code",
   "execution_count": 194,
   "id": "fitted-calcium",
   "metadata": {
    "ExecuteTime": {
     "end_time": "2021-05-06T16:19:47.521358Z",
     "start_time": "2021-05-06T16:19:47.472519Z"
    }
   },
   "outputs": [
    {
     "data": {
      "text/html": [
       "<div>\n",
       "<style scoped>\n",
       "    .dataframe tbody tr th:only-of-type {\n",
       "        vertical-align: middle;\n",
       "    }\n",
       "\n",
       "    .dataframe tbody tr th {\n",
       "        vertical-align: top;\n",
       "    }\n",
       "\n",
       "    .dataframe thead th {\n",
       "        text-align: right;\n",
       "    }\n",
       "</style>\n",
       "<table border=\"1\" class=\"dataframe\">\n",
       "  <thead>\n",
       "    <tr style=\"text-align: right;\">\n",
       "      <th></th>\n",
       "      <th>loan_station_date_time</th>\n",
       "      <th>demand</th>\n",
       "      <th>station</th>\n",
       "      <th>date</th>\n",
       "      <th>time</th>\n",
       "    </tr>\n",
       "  </thead>\n",
       "  <tbody>\n",
       "    <tr>\n",
       "      <th>0</th>\n",
       "      <td>1.0 2019-01-02 10</td>\n",
       "      <td>5</td>\n",
       "      <td>1.0</td>\n",
       "      <td>2019-01-02</td>\n",
       "      <td>10</td>\n",
       "    </tr>\n",
       "    <tr>\n",
       "      <th>1</th>\n",
       "      <td>1.0 2019-01-02 11</td>\n",
       "      <td>8</td>\n",
       "      <td>1.0</td>\n",
       "      <td>2019-01-02</td>\n",
       "      <td>11</td>\n",
       "    </tr>\n",
       "    <tr>\n",
       "      <th>2</th>\n",
       "      <td>1.0 2019-01-02 12</td>\n",
       "      <td>17</td>\n",
       "      <td>1.0</td>\n",
       "      <td>2019-01-02</td>\n",
       "      <td>12</td>\n",
       "    </tr>\n",
       "    <tr>\n",
       "      <th>3</th>\n",
       "      <td>1.0 2019-01-02 13</td>\n",
       "      <td>7</td>\n",
       "      <td>1.0</td>\n",
       "      <td>2019-01-02</td>\n",
       "      <td>13</td>\n",
       "    </tr>\n",
       "    <tr>\n",
       "      <th>4</th>\n",
       "      <td>1.0 2019-01-02 14</td>\n",
       "      <td>12</td>\n",
       "      <td>1.0</td>\n",
       "      <td>2019-01-02</td>\n",
       "      <td>14</td>\n",
       "    </tr>\n",
       "    <tr>\n",
       "      <th>...</th>\n",
       "      <td>...</td>\n",
       "      <td>...</td>\n",
       "      <td>...</td>\n",
       "      <td>...</td>\n",
       "      <td>...</td>\n",
       "    </tr>\n",
       "    <tr>\n",
       "      <th>280484</th>\n",
       "      <td>99.0 2019-12-31 11</td>\n",
       "      <td>8</td>\n",
       "      <td>99.0</td>\n",
       "      <td>2019-12-31</td>\n",
       "      <td>11</td>\n",
       "    </tr>\n",
       "    <tr>\n",
       "      <th>280485</th>\n",
       "      <td>99.0 2019-12-31 12</td>\n",
       "      <td>13</td>\n",
       "      <td>99.0</td>\n",
       "      <td>2019-12-31</td>\n",
       "      <td>12</td>\n",
       "    </tr>\n",
       "    <tr>\n",
       "      <th>280486</th>\n",
       "      <td>99.0 2019-12-31 13</td>\n",
       "      <td>6</td>\n",
       "      <td>99.0</td>\n",
       "      <td>2019-12-31</td>\n",
       "      <td>13</td>\n",
       "    </tr>\n",
       "    <tr>\n",
       "      <th>280487</th>\n",
       "      <td>99.0 2019-12-31 8</td>\n",
       "      <td>1</td>\n",
       "      <td>99.0</td>\n",
       "      <td>2019-12-31</td>\n",
       "      <td>8</td>\n",
       "    </tr>\n",
       "    <tr>\n",
       "      <th>280488</th>\n",
       "      <td>99.0 2019-12-31 9</td>\n",
       "      <td>3</td>\n",
       "      <td>99.0</td>\n",
       "      <td>2019-12-31</td>\n",
       "      <td>9</td>\n",
       "    </tr>\n",
       "  </tbody>\n",
       "</table>\n",
       "<p>280489 rows × 5 columns</p>\n",
       "</div>"
      ],
      "text/plain": [
       "       loan_station_date_time  demand station        date time\n",
       "0           1.0 2019-01-02 10       5     1.0  2019-01-02   10\n",
       "1           1.0 2019-01-02 11       8     1.0  2019-01-02   11\n",
       "2           1.0 2019-01-02 12      17     1.0  2019-01-02   12\n",
       "3           1.0 2019-01-02 13       7     1.0  2019-01-02   13\n",
       "4           1.0 2019-01-02 14      12     1.0  2019-01-02   14\n",
       "...                       ...     ...     ...         ...  ...\n",
       "280484     99.0 2019-12-31 11       8    99.0  2019-12-31   11\n",
       "280485     99.0 2019-12-31 12      13    99.0  2019-12-31   12\n",
       "280486     99.0 2019-12-31 13       6    99.0  2019-12-31   13\n",
       "280487      99.0 2019-12-31 8       1    99.0  2019-12-31    8\n",
       "280488      99.0 2019-12-31 9       3    99.0  2019-12-31    9\n",
       "\n",
       "[280489 rows x 5 columns]"
      ]
     },
     "execution_count": 194,
     "metadata": {},
     "output_type": "execute_result"
    }
   ],
   "source": [
    "df1 = demand_per_station_per_hour.copy()\n",
    "df1"
   ]
  },
  {
   "cell_type": "code",
   "execution_count": 195,
   "id": "partial-journalism",
   "metadata": {
    "ExecuteTime": {
     "end_time": "2021-05-06T16:19:47.591754Z",
     "start_time": "2021-05-06T16:19:47.527465Z"
    },
    "scrolled": true
   },
   "outputs": [
    {
     "data": {
      "text/html": [
       "<div>\n",
       "<style scoped>\n",
       "    .dataframe tbody tr th:only-of-type {\n",
       "        vertical-align: middle;\n",
       "    }\n",
       "\n",
       "    .dataframe tbody tr th {\n",
       "        vertical-align: top;\n",
       "    }\n",
       "\n",
       "    .dataframe thead th {\n",
       "        text-align: right;\n",
       "    }\n",
       "</style>\n",
       "<table border=\"1\" class=\"dataframe\">\n",
       "  <thead>\n",
       "    <tr style=\"text-align: right;\">\n",
       "      <th></th>\n",
       "      <th>deposit_station_date_time</th>\n",
       "      <th>supply</th>\n",
       "      <th>station</th>\n",
       "      <th>date</th>\n",
       "      <th>time</th>\n",
       "    </tr>\n",
       "  </thead>\n",
       "  <tbody>\n",
       "    <tr>\n",
       "      <th>0</th>\n",
       "      <td>1.0 2019-01-02 10</td>\n",
       "      <td>4</td>\n",
       "      <td>1.0</td>\n",
       "      <td>2019-01-02</td>\n",
       "      <td>10</td>\n",
       "    </tr>\n",
       "    <tr>\n",
       "      <th>1</th>\n",
       "      <td>1.0 2019-01-02 11</td>\n",
       "      <td>8</td>\n",
       "      <td>1.0</td>\n",
       "      <td>2019-01-02</td>\n",
       "      <td>11</td>\n",
       "    </tr>\n",
       "    <tr>\n",
       "      <th>2</th>\n",
       "      <td>1.0 2019-01-02 12</td>\n",
       "      <td>12</td>\n",
       "      <td>1.0</td>\n",
       "      <td>2019-01-02</td>\n",
       "      <td>12</td>\n",
       "    </tr>\n",
       "    <tr>\n",
       "      <th>3</th>\n",
       "      <td>1.0 2019-01-02 13</td>\n",
       "      <td>7</td>\n",
       "      <td>1.0</td>\n",
       "      <td>2019-01-02</td>\n",
       "      <td>13</td>\n",
       "    </tr>\n",
       "    <tr>\n",
       "      <th>4</th>\n",
       "      <td>1.0 2019-01-02 14</td>\n",
       "      <td>8</td>\n",
       "      <td>1.0</td>\n",
       "      <td>2019-01-02</td>\n",
       "      <td>14</td>\n",
       "    </tr>\n",
       "    <tr>\n",
       "      <th>...</th>\n",
       "      <td>...</td>\n",
       "      <td>...</td>\n",
       "      <td>...</td>\n",
       "      <td>...</td>\n",
       "      <td>...</td>\n",
       "    </tr>\n",
       "    <tr>\n",
       "      <th>298700</th>\n",
       "      <td>99.0 2019-12-31 5</td>\n",
       "      <td>1</td>\n",
       "      <td>99.0</td>\n",
       "      <td>2019-12-31</td>\n",
       "      <td>5</td>\n",
       "    </tr>\n",
       "    <tr>\n",
       "      <th>298701</th>\n",
       "      <td>99.0 2019-12-31 6</td>\n",
       "      <td>1</td>\n",
       "      <td>99.0</td>\n",
       "      <td>2019-12-31</td>\n",
       "      <td>6</td>\n",
       "    </tr>\n",
       "    <tr>\n",
       "      <th>298702</th>\n",
       "      <td>99.0 2019-12-31 7</td>\n",
       "      <td>1</td>\n",
       "      <td>99.0</td>\n",
       "      <td>2019-12-31</td>\n",
       "      <td>7</td>\n",
       "    </tr>\n",
       "    <tr>\n",
       "      <th>298703</th>\n",
       "      <td>99.0 2019-12-31 8</td>\n",
       "      <td>5</td>\n",
       "      <td>99.0</td>\n",
       "      <td>2019-12-31</td>\n",
       "      <td>8</td>\n",
       "    </tr>\n",
       "    <tr>\n",
       "      <th>298704</th>\n",
       "      <td>99.0 2019-12-31 9</td>\n",
       "      <td>2</td>\n",
       "      <td>99.0</td>\n",
       "      <td>2019-12-31</td>\n",
       "      <td>9</td>\n",
       "    </tr>\n",
       "  </tbody>\n",
       "</table>\n",
       "<p>298705 rows × 5 columns</p>\n",
       "</div>"
      ],
      "text/plain": [
       "       deposit_station_date_time  supply station        date time\n",
       "0              1.0 2019-01-02 10       4     1.0  2019-01-02   10\n",
       "1              1.0 2019-01-02 11       8     1.0  2019-01-02   11\n",
       "2              1.0 2019-01-02 12      12     1.0  2019-01-02   12\n",
       "3              1.0 2019-01-02 13       7     1.0  2019-01-02   13\n",
       "4              1.0 2019-01-02 14       8     1.0  2019-01-02   14\n",
       "...                          ...     ...     ...         ...  ...\n",
       "298700         99.0 2019-12-31 5       1    99.0  2019-12-31    5\n",
       "298701         99.0 2019-12-31 6       1    99.0  2019-12-31    6\n",
       "298702         99.0 2019-12-31 7       1    99.0  2019-12-31    7\n",
       "298703         99.0 2019-12-31 8       5    99.0  2019-12-31    8\n",
       "298704         99.0 2019-12-31 9       2    99.0  2019-12-31    9\n",
       "\n",
       "[298705 rows x 5 columns]"
      ]
     },
     "execution_count": 195,
     "metadata": {},
     "output_type": "execute_result"
    }
   ],
   "source": [
    "df2 = supply_per_station_per_hour.copy()\n",
    "df2"
   ]
  },
  {
   "cell_type": "code",
   "execution_count": 196,
   "id": "written-desire",
   "metadata": {
    "ExecuteTime": {
     "end_time": "2021-05-06T16:19:47.606747Z",
     "start_time": "2021-05-06T16:19:47.596278Z"
    }
   },
   "outputs": [
    {
     "data": {
      "text/plain": [
       "(loan_station_date_time    object\n",
       " demand                     int64\n",
       " station                   object\n",
       " date                      object\n",
       " time                      object\n",
       " dtype: object,\n",
       " deposit_station_date_time    object\n",
       " supply                        int64\n",
       " station                      object\n",
       " date                         object\n",
       " time                         object\n",
       " dtype: object)"
      ]
     },
     "execution_count": 196,
     "metadata": {},
     "output_type": "execute_result"
    }
   ],
   "source": [
    "df1.dtypes , df2.dtypes"
   ]
  },
  {
   "cell_type": "code",
   "execution_count": 199,
   "id": "excessive-speaker",
   "metadata": {
    "ExecuteTime": {
     "end_time": "2021-05-06T16:20:16.113547Z",
     "start_time": "2021-05-06T16:20:16.107559Z"
    }
   },
   "outputs": [],
   "source": [
    "def clean_df(df, cols, index):\n",
    "    df[cols] =  df[cols].astype(float) # string to float\n",
    "    df.iloc[:,index]=  df.iloc[:,index].str.strip() #left strip\n",
    "    return df"
   ]
  },
  {
   "cell_type": "code",
   "execution_count": 201,
   "id": "statutory-installation",
   "metadata": {
    "ExecuteTime": {
     "end_time": "2021-05-06T16:20:22.862209Z",
     "start_time": "2021-05-06T16:20:22.125629Z"
    }
   },
   "outputs": [],
   "source": [
    "df1_clean = clean_df(df1,['station','time'], 0)\n",
    "df2_clean = clean_df(df2,['station','time'], 0)"
   ]
  },
  {
   "cell_type": "code",
   "execution_count": 202,
   "id": "blond-procedure",
   "metadata": {
    "ExecuteTime": {
     "end_time": "2021-05-06T16:20:22.906840Z",
     "start_time": "2021-05-06T16:20:22.866424Z"
    },
    "scrolled": true
   },
   "outputs": [
    {
     "data": {
      "text/html": [
       "<div>\n",
       "<style scoped>\n",
       "    .dataframe tbody tr th:only-of-type {\n",
       "        vertical-align: middle;\n",
       "    }\n",
       "\n",
       "    .dataframe tbody tr th {\n",
       "        vertical-align: top;\n",
       "    }\n",
       "\n",
       "    .dataframe thead th {\n",
       "        text-align: right;\n",
       "    }\n",
       "</style>\n",
       "<table border=\"1\" class=\"dataframe\">\n",
       "  <thead>\n",
       "    <tr style=\"text-align: right;\">\n",
       "      <th></th>\n",
       "      <th>loan_station_date_time</th>\n",
       "      <th>demand</th>\n",
       "      <th>station</th>\n",
       "      <th>date</th>\n",
       "      <th>time</th>\n",
       "    </tr>\n",
       "  </thead>\n",
       "  <tbody>\n",
       "    <tr>\n",
       "      <th>0</th>\n",
       "      <td>1.0 2019-01-02 10</td>\n",
       "      <td>5</td>\n",
       "      <td>1.0</td>\n",
       "      <td>2019-01-02</td>\n",
       "      <td>10.0</td>\n",
       "    </tr>\n",
       "    <tr>\n",
       "      <th>1</th>\n",
       "      <td>1.0 2019-01-02 11</td>\n",
       "      <td>8</td>\n",
       "      <td>1.0</td>\n",
       "      <td>2019-01-02</td>\n",
       "      <td>11.0</td>\n",
       "    </tr>\n",
       "    <tr>\n",
       "      <th>2</th>\n",
       "      <td>1.0 2019-01-02 12</td>\n",
       "      <td>17</td>\n",
       "      <td>1.0</td>\n",
       "      <td>2019-01-02</td>\n",
       "      <td>12.0</td>\n",
       "    </tr>\n",
       "    <tr>\n",
       "      <th>3</th>\n",
       "      <td>1.0 2019-01-02 13</td>\n",
       "      <td>7</td>\n",
       "      <td>1.0</td>\n",
       "      <td>2019-01-02</td>\n",
       "      <td>13.0</td>\n",
       "    </tr>\n",
       "    <tr>\n",
       "      <th>4</th>\n",
       "      <td>1.0 2019-01-02 14</td>\n",
       "      <td>12</td>\n",
       "      <td>1.0</td>\n",
       "      <td>2019-01-02</td>\n",
       "      <td>14.0</td>\n",
       "    </tr>\n",
       "    <tr>\n",
       "      <th>...</th>\n",
       "      <td>...</td>\n",
       "      <td>...</td>\n",
       "      <td>...</td>\n",
       "      <td>...</td>\n",
       "      <td>...</td>\n",
       "    </tr>\n",
       "    <tr>\n",
       "      <th>280484</th>\n",
       "      <td>99.0 2019-12-31 11</td>\n",
       "      <td>8</td>\n",
       "      <td>99.0</td>\n",
       "      <td>2019-12-31</td>\n",
       "      <td>11.0</td>\n",
       "    </tr>\n",
       "    <tr>\n",
       "      <th>280485</th>\n",
       "      <td>99.0 2019-12-31 12</td>\n",
       "      <td>13</td>\n",
       "      <td>99.0</td>\n",
       "      <td>2019-12-31</td>\n",
       "      <td>12.0</td>\n",
       "    </tr>\n",
       "    <tr>\n",
       "      <th>280486</th>\n",
       "      <td>99.0 2019-12-31 13</td>\n",
       "      <td>6</td>\n",
       "      <td>99.0</td>\n",
       "      <td>2019-12-31</td>\n",
       "      <td>13.0</td>\n",
       "    </tr>\n",
       "    <tr>\n",
       "      <th>280487</th>\n",
       "      <td>99.0 2019-12-31 8</td>\n",
       "      <td>1</td>\n",
       "      <td>99.0</td>\n",
       "      <td>2019-12-31</td>\n",
       "      <td>8.0</td>\n",
       "    </tr>\n",
       "    <tr>\n",
       "      <th>280488</th>\n",
       "      <td>99.0 2019-12-31 9</td>\n",
       "      <td>3</td>\n",
       "      <td>99.0</td>\n",
       "      <td>2019-12-31</td>\n",
       "      <td>9.0</td>\n",
       "    </tr>\n",
       "  </tbody>\n",
       "</table>\n",
       "<p>280489 rows × 5 columns</p>\n",
       "</div>"
      ],
      "text/plain": [
       "       loan_station_date_time  demand  station        date  time\n",
       "0           1.0 2019-01-02 10       5      1.0  2019-01-02  10.0\n",
       "1           1.0 2019-01-02 11       8      1.0  2019-01-02  11.0\n",
       "2           1.0 2019-01-02 12      17      1.0  2019-01-02  12.0\n",
       "3           1.0 2019-01-02 13       7      1.0  2019-01-02  13.0\n",
       "4           1.0 2019-01-02 14      12      1.0  2019-01-02  14.0\n",
       "...                       ...     ...      ...         ...   ...\n",
       "280484     99.0 2019-12-31 11       8     99.0  2019-12-31  11.0\n",
       "280485     99.0 2019-12-31 12      13     99.0  2019-12-31  12.0\n",
       "280486     99.0 2019-12-31 13       6     99.0  2019-12-31  13.0\n",
       "280487      99.0 2019-12-31 8       1     99.0  2019-12-31   8.0\n",
       "280488      99.0 2019-12-31 9       3     99.0  2019-12-31   9.0\n",
       "\n",
       "[280489 rows x 5 columns]"
      ]
     },
     "execution_count": 202,
     "metadata": {},
     "output_type": "execute_result"
    }
   ],
   "source": [
    "df1_clean"
   ]
  },
  {
   "cell_type": "code",
   "execution_count": 203,
   "id": "extreme-hybrid",
   "metadata": {
    "ExecuteTime": {
     "end_time": "2021-05-06T16:20:22.961842Z",
     "start_time": "2021-05-06T16:20:22.915155Z"
    }
   },
   "outputs": [
    {
     "data": {
      "text/html": [
       "<div>\n",
       "<style scoped>\n",
       "    .dataframe tbody tr th:only-of-type {\n",
       "        vertical-align: middle;\n",
       "    }\n",
       "\n",
       "    .dataframe tbody tr th {\n",
       "        vertical-align: top;\n",
       "    }\n",
       "\n",
       "    .dataframe thead th {\n",
       "        text-align: right;\n",
       "    }\n",
       "</style>\n",
       "<table border=\"1\" class=\"dataframe\">\n",
       "  <thead>\n",
       "    <tr style=\"text-align: right;\">\n",
       "      <th></th>\n",
       "      <th>deposit_station_date_time</th>\n",
       "      <th>supply</th>\n",
       "      <th>station</th>\n",
       "      <th>date</th>\n",
       "      <th>time</th>\n",
       "    </tr>\n",
       "  </thead>\n",
       "  <tbody>\n",
       "    <tr>\n",
       "      <th>0</th>\n",
       "      <td>1.0 2019-01-02 10</td>\n",
       "      <td>4</td>\n",
       "      <td>1.0</td>\n",
       "      <td>2019-01-02</td>\n",
       "      <td>10.0</td>\n",
       "    </tr>\n",
       "    <tr>\n",
       "      <th>1</th>\n",
       "      <td>1.0 2019-01-02 11</td>\n",
       "      <td>8</td>\n",
       "      <td>1.0</td>\n",
       "      <td>2019-01-02</td>\n",
       "      <td>11.0</td>\n",
       "    </tr>\n",
       "    <tr>\n",
       "      <th>2</th>\n",
       "      <td>1.0 2019-01-02 12</td>\n",
       "      <td>12</td>\n",
       "      <td>1.0</td>\n",
       "      <td>2019-01-02</td>\n",
       "      <td>12.0</td>\n",
       "    </tr>\n",
       "    <tr>\n",
       "      <th>3</th>\n",
       "      <td>1.0 2019-01-02 13</td>\n",
       "      <td>7</td>\n",
       "      <td>1.0</td>\n",
       "      <td>2019-01-02</td>\n",
       "      <td>13.0</td>\n",
       "    </tr>\n",
       "    <tr>\n",
       "      <th>4</th>\n",
       "      <td>1.0 2019-01-02 14</td>\n",
       "      <td>8</td>\n",
       "      <td>1.0</td>\n",
       "      <td>2019-01-02</td>\n",
       "      <td>14.0</td>\n",
       "    </tr>\n",
       "    <tr>\n",
       "      <th>...</th>\n",
       "      <td>...</td>\n",
       "      <td>...</td>\n",
       "      <td>...</td>\n",
       "      <td>...</td>\n",
       "      <td>...</td>\n",
       "    </tr>\n",
       "    <tr>\n",
       "      <th>298700</th>\n",
       "      <td>99.0 2019-12-31 5</td>\n",
       "      <td>1</td>\n",
       "      <td>99.0</td>\n",
       "      <td>2019-12-31</td>\n",
       "      <td>5.0</td>\n",
       "    </tr>\n",
       "    <tr>\n",
       "      <th>298701</th>\n",
       "      <td>99.0 2019-12-31 6</td>\n",
       "      <td>1</td>\n",
       "      <td>99.0</td>\n",
       "      <td>2019-12-31</td>\n",
       "      <td>6.0</td>\n",
       "    </tr>\n",
       "    <tr>\n",
       "      <th>298702</th>\n",
       "      <td>99.0 2019-12-31 7</td>\n",
       "      <td>1</td>\n",
       "      <td>99.0</td>\n",
       "      <td>2019-12-31</td>\n",
       "      <td>7.0</td>\n",
       "    </tr>\n",
       "    <tr>\n",
       "      <th>298703</th>\n",
       "      <td>99.0 2019-12-31 8</td>\n",
       "      <td>5</td>\n",
       "      <td>99.0</td>\n",
       "      <td>2019-12-31</td>\n",
       "      <td>8.0</td>\n",
       "    </tr>\n",
       "    <tr>\n",
       "      <th>298704</th>\n",
       "      <td>99.0 2019-12-31 9</td>\n",
       "      <td>2</td>\n",
       "      <td>99.0</td>\n",
       "      <td>2019-12-31</td>\n",
       "      <td>9.0</td>\n",
       "    </tr>\n",
       "  </tbody>\n",
       "</table>\n",
       "<p>298705 rows × 5 columns</p>\n",
       "</div>"
      ],
      "text/plain": [
       "       deposit_station_date_time  supply  station        date  time\n",
       "0              1.0 2019-01-02 10       4      1.0  2019-01-02  10.0\n",
       "1              1.0 2019-01-02 11       8      1.0  2019-01-02  11.0\n",
       "2              1.0 2019-01-02 12      12      1.0  2019-01-02  12.0\n",
       "3              1.0 2019-01-02 13       7      1.0  2019-01-02  13.0\n",
       "4              1.0 2019-01-02 14       8      1.0  2019-01-02  14.0\n",
       "...                          ...     ...      ...         ...   ...\n",
       "298700         99.0 2019-12-31 5       1     99.0  2019-12-31   5.0\n",
       "298701         99.0 2019-12-31 6       1     99.0  2019-12-31   6.0\n",
       "298702         99.0 2019-12-31 7       1     99.0  2019-12-31   7.0\n",
       "298703         99.0 2019-12-31 8       5     99.0  2019-12-31   8.0\n",
       "298704         99.0 2019-12-31 9       2     99.0  2019-12-31   9.0\n",
       "\n",
       "[298705 rows x 5 columns]"
      ]
     },
     "execution_count": 203,
     "metadata": {},
     "output_type": "execute_result"
    }
   ],
   "source": [
    "df2_clean"
   ]
  },
  {
   "cell_type": "code",
   "execution_count": 204,
   "id": "extra-exchange",
   "metadata": {
    "ExecuteTime": {
     "end_time": "2021-05-06T16:20:22.976234Z",
     "start_time": "2021-05-06T16:20:22.968403Z"
    }
   },
   "outputs": [],
   "source": [
    "pattern = re.compile(r'2019.*') "
   ]
  },
  {
   "cell_type": "code",
   "execution_count": 205,
   "id": "isolated-freight",
   "metadata": {
    "ExecuteTime": {
     "end_time": "2021-05-06T16:20:22.994484Z",
     "start_time": "2021-05-06T16:20:22.987759Z"
    }
   },
   "outputs": [],
   "source": [
    "def year_month_day_hour(x):\n",
    "    return pattern.search(x).group()"
   ]
  },
  {
   "cell_type": "code",
   "execution_count": 206,
   "id": "prerequisite-software",
   "metadata": {
    "ExecuteTime": {
     "end_time": "2021-05-06T16:20:23.510623Z",
     "start_time": "2021-05-06T16:20:22.999395Z"
    }
   },
   "outputs": [],
   "source": [
    "df1_clean['year_month_day_hour'] = df1_clean['loan_station_date_time'].apply(year_month_day_hour)"
   ]
  },
  {
   "cell_type": "code",
   "execution_count": 207,
   "id": "handy-kelly",
   "metadata": {
    "ExecuteTime": {
     "end_time": "2021-05-06T16:20:23.858587Z",
     "start_time": "2021-05-06T16:20:23.515570Z"
    }
   },
   "outputs": [],
   "source": [
    "df2_clean['year_month_day_hour'] = df2_clean['deposit_station_date_time'].apply(year_month_day_hour)"
   ]
  },
  {
   "cell_type": "code",
   "execution_count": 208,
   "id": "extra-printer",
   "metadata": {
    "ExecuteTime": {
     "end_time": "2021-05-06T16:20:23.868340Z",
     "start_time": "2021-05-06T16:20:23.863923Z"
    }
   },
   "outputs": [],
   "source": [
    "def drop_col(df):\n",
    "    return df.iloc[:,1:]"
   ]
  },
  {
   "cell_type": "code",
   "execution_count": 209,
   "id": "grave-spyware",
   "metadata": {
    "ExecuteTime": {
     "end_time": "2021-05-06T16:20:23.961589Z",
     "start_time": "2021-05-06T16:20:23.872023Z"
    }
   },
   "outputs": [],
   "source": [
    "df1_clean_drop = drop_col(df1_clean)\n",
    "df2_clean_drop = drop_col(df2_clean)"
   ]
  },
  {
   "cell_type": "code",
   "execution_count": 210,
   "id": "irish-hebrew",
   "metadata": {
    "ExecuteTime": {
     "end_time": "2021-05-06T16:20:23.971537Z",
     "start_time": "2021-05-06T16:20:23.967038Z"
    }
   },
   "outputs": [],
   "source": [
    "def convert_to_date(x):\n",
    "    return datetime.strptime(x, '%Y-%m-%d %H')"
   ]
  },
  {
   "cell_type": "code",
   "execution_count": 211,
   "id": "coordinated-bowling",
   "metadata": {
    "ExecuteTime": {
     "end_time": "2021-05-06T16:20:30.364430Z",
     "start_time": "2021-05-06T16:20:23.974891Z"
    },
    "scrolled": false
   },
   "outputs": [],
   "source": [
    "df1_clean_drop['year_month_day_hour'] = df1_clean_drop['year_month_day_hour'].apply(convert_to_date)\n",
    "df2_clean_drop['year_month_day_hour'] = df2_clean_drop['year_month_day_hour'].apply(convert_to_date)"
   ]
  },
  {
   "cell_type": "code",
   "execution_count": 212,
   "id": "approved-devices",
   "metadata": {
    "ExecuteTime": {
     "end_time": "2021-05-06T16:20:30.386622Z",
     "start_time": "2021-05-06T16:20:30.367185Z"
    }
   },
   "outputs": [],
   "source": [
    "df1_final = df1_clean_drop.copy()\n",
    "df2_final = df2_clean_drop.copy()"
   ]
  },
  {
   "cell_type": "code",
   "execution_count": 213,
   "id": "settled-beads",
   "metadata": {
    "ExecuteTime": {
     "end_time": "2021-05-06T16:20:30.430972Z",
     "start_time": "2021-05-06T16:20:30.398658Z"
    },
    "scrolled": true
   },
   "outputs": [
    {
     "data": {
      "text/html": [
       "<div>\n",
       "<style scoped>\n",
       "    .dataframe tbody tr th:only-of-type {\n",
       "        vertical-align: middle;\n",
       "    }\n",
       "\n",
       "    .dataframe tbody tr th {\n",
       "        vertical-align: top;\n",
       "    }\n",
       "\n",
       "    .dataframe thead th {\n",
       "        text-align: right;\n",
       "    }\n",
       "</style>\n",
       "<table border=\"1\" class=\"dataframe\">\n",
       "  <thead>\n",
       "    <tr style=\"text-align: right;\">\n",
       "      <th></th>\n",
       "      <th>demand</th>\n",
       "      <th>station</th>\n",
       "      <th>date</th>\n",
       "      <th>time</th>\n",
       "      <th>year_month_day_hour</th>\n",
       "    </tr>\n",
       "  </thead>\n",
       "  <tbody>\n",
       "    <tr>\n",
       "      <th>0</th>\n",
       "      <td>5</td>\n",
       "      <td>1.0</td>\n",
       "      <td>2019-01-02</td>\n",
       "      <td>10.0</td>\n",
       "      <td>2019-01-02 10:00:00</td>\n",
       "    </tr>\n",
       "    <tr>\n",
       "      <th>1</th>\n",
       "      <td>8</td>\n",
       "      <td>1.0</td>\n",
       "      <td>2019-01-02</td>\n",
       "      <td>11.0</td>\n",
       "      <td>2019-01-02 11:00:00</td>\n",
       "    </tr>\n",
       "    <tr>\n",
       "      <th>2</th>\n",
       "      <td>17</td>\n",
       "      <td>1.0</td>\n",
       "      <td>2019-01-02</td>\n",
       "      <td>12.0</td>\n",
       "      <td>2019-01-02 12:00:00</td>\n",
       "    </tr>\n",
       "    <tr>\n",
       "      <th>3</th>\n",
       "      <td>7</td>\n",
       "      <td>1.0</td>\n",
       "      <td>2019-01-02</td>\n",
       "      <td>13.0</td>\n",
       "      <td>2019-01-02 13:00:00</td>\n",
       "    </tr>\n",
       "    <tr>\n",
       "      <th>4</th>\n",
       "      <td>12</td>\n",
       "      <td>1.0</td>\n",
       "      <td>2019-01-02</td>\n",
       "      <td>14.0</td>\n",
       "      <td>2019-01-02 14:00:00</td>\n",
       "    </tr>\n",
       "    <tr>\n",
       "      <th>...</th>\n",
       "      <td>...</td>\n",
       "      <td>...</td>\n",
       "      <td>...</td>\n",
       "      <td>...</td>\n",
       "      <td>...</td>\n",
       "    </tr>\n",
       "    <tr>\n",
       "      <th>280484</th>\n",
       "      <td>8</td>\n",
       "      <td>99.0</td>\n",
       "      <td>2019-12-31</td>\n",
       "      <td>11.0</td>\n",
       "      <td>2019-12-31 11:00:00</td>\n",
       "    </tr>\n",
       "    <tr>\n",
       "      <th>280485</th>\n",
       "      <td>13</td>\n",
       "      <td>99.0</td>\n",
       "      <td>2019-12-31</td>\n",
       "      <td>12.0</td>\n",
       "      <td>2019-12-31 12:00:00</td>\n",
       "    </tr>\n",
       "    <tr>\n",
       "      <th>280486</th>\n",
       "      <td>6</td>\n",
       "      <td>99.0</td>\n",
       "      <td>2019-12-31</td>\n",
       "      <td>13.0</td>\n",
       "      <td>2019-12-31 13:00:00</td>\n",
       "    </tr>\n",
       "    <tr>\n",
       "      <th>280487</th>\n",
       "      <td>1</td>\n",
       "      <td>99.0</td>\n",
       "      <td>2019-12-31</td>\n",
       "      <td>8.0</td>\n",
       "      <td>2019-12-31 08:00:00</td>\n",
       "    </tr>\n",
       "    <tr>\n",
       "      <th>280488</th>\n",
       "      <td>3</td>\n",
       "      <td>99.0</td>\n",
       "      <td>2019-12-31</td>\n",
       "      <td>9.0</td>\n",
       "      <td>2019-12-31 09:00:00</td>\n",
       "    </tr>\n",
       "  </tbody>\n",
       "</table>\n",
       "<p>280489 rows × 5 columns</p>\n",
       "</div>"
      ],
      "text/plain": [
       "        demand  station        date  time year_month_day_hour\n",
       "0            5      1.0  2019-01-02  10.0 2019-01-02 10:00:00\n",
       "1            8      1.0  2019-01-02  11.0 2019-01-02 11:00:00\n",
       "2           17      1.0  2019-01-02  12.0 2019-01-02 12:00:00\n",
       "3            7      1.0  2019-01-02  13.0 2019-01-02 13:00:00\n",
       "4           12      1.0  2019-01-02  14.0 2019-01-02 14:00:00\n",
       "...        ...      ...         ...   ...                 ...\n",
       "280484       8     99.0  2019-12-31  11.0 2019-12-31 11:00:00\n",
       "280485      13     99.0  2019-12-31  12.0 2019-12-31 12:00:00\n",
       "280486       6     99.0  2019-12-31  13.0 2019-12-31 13:00:00\n",
       "280487       1     99.0  2019-12-31   8.0 2019-12-31 08:00:00\n",
       "280488       3     99.0  2019-12-31   9.0 2019-12-31 09:00:00\n",
       "\n",
       "[280489 rows x 5 columns]"
      ]
     },
     "execution_count": 213,
     "metadata": {},
     "output_type": "execute_result"
    }
   ],
   "source": [
    "df1_final"
   ]
  },
  {
   "cell_type": "code",
   "execution_count": 214,
   "id": "piano-marathon",
   "metadata": {
    "ExecuteTime": {
     "end_time": "2021-05-06T16:20:30.493249Z",
     "start_time": "2021-05-06T16:20:30.434260Z"
    }
   },
   "outputs": [
    {
     "data": {
      "text/html": [
       "<div>\n",
       "<style scoped>\n",
       "    .dataframe tbody tr th:only-of-type {\n",
       "        vertical-align: middle;\n",
       "    }\n",
       "\n",
       "    .dataframe tbody tr th {\n",
       "        vertical-align: top;\n",
       "    }\n",
       "\n",
       "    .dataframe thead th {\n",
       "        text-align: right;\n",
       "    }\n",
       "</style>\n",
       "<table border=\"1\" class=\"dataframe\">\n",
       "  <thead>\n",
       "    <tr style=\"text-align: right;\">\n",
       "      <th></th>\n",
       "      <th>supply</th>\n",
       "      <th>station</th>\n",
       "      <th>date</th>\n",
       "      <th>time</th>\n",
       "      <th>year_month_day_hour</th>\n",
       "    </tr>\n",
       "  </thead>\n",
       "  <tbody>\n",
       "    <tr>\n",
       "      <th>0</th>\n",
       "      <td>4</td>\n",
       "      <td>1.0</td>\n",
       "      <td>2019-01-02</td>\n",
       "      <td>10.0</td>\n",
       "      <td>2019-01-02 10:00:00</td>\n",
       "    </tr>\n",
       "    <tr>\n",
       "      <th>1</th>\n",
       "      <td>8</td>\n",
       "      <td>1.0</td>\n",
       "      <td>2019-01-02</td>\n",
       "      <td>11.0</td>\n",
       "      <td>2019-01-02 11:00:00</td>\n",
       "    </tr>\n",
       "    <tr>\n",
       "      <th>2</th>\n",
       "      <td>12</td>\n",
       "      <td>1.0</td>\n",
       "      <td>2019-01-02</td>\n",
       "      <td>12.0</td>\n",
       "      <td>2019-01-02 12:00:00</td>\n",
       "    </tr>\n",
       "    <tr>\n",
       "      <th>3</th>\n",
       "      <td>7</td>\n",
       "      <td>1.0</td>\n",
       "      <td>2019-01-02</td>\n",
       "      <td>13.0</td>\n",
       "      <td>2019-01-02 13:00:00</td>\n",
       "    </tr>\n",
       "    <tr>\n",
       "      <th>4</th>\n",
       "      <td>8</td>\n",
       "      <td>1.0</td>\n",
       "      <td>2019-01-02</td>\n",
       "      <td>14.0</td>\n",
       "      <td>2019-01-02 14:00:00</td>\n",
       "    </tr>\n",
       "    <tr>\n",
       "      <th>...</th>\n",
       "      <td>...</td>\n",
       "      <td>...</td>\n",
       "      <td>...</td>\n",
       "      <td>...</td>\n",
       "      <td>...</td>\n",
       "    </tr>\n",
       "    <tr>\n",
       "      <th>298700</th>\n",
       "      <td>1</td>\n",
       "      <td>99.0</td>\n",
       "      <td>2019-12-31</td>\n",
       "      <td>5.0</td>\n",
       "      <td>2019-12-31 05:00:00</td>\n",
       "    </tr>\n",
       "    <tr>\n",
       "      <th>298701</th>\n",
       "      <td>1</td>\n",
       "      <td>99.0</td>\n",
       "      <td>2019-12-31</td>\n",
       "      <td>6.0</td>\n",
       "      <td>2019-12-31 06:00:00</td>\n",
       "    </tr>\n",
       "    <tr>\n",
       "      <th>298702</th>\n",
       "      <td>1</td>\n",
       "      <td>99.0</td>\n",
       "      <td>2019-12-31</td>\n",
       "      <td>7.0</td>\n",
       "      <td>2019-12-31 07:00:00</td>\n",
       "    </tr>\n",
       "    <tr>\n",
       "      <th>298703</th>\n",
       "      <td>5</td>\n",
       "      <td>99.0</td>\n",
       "      <td>2019-12-31</td>\n",
       "      <td>8.0</td>\n",
       "      <td>2019-12-31 08:00:00</td>\n",
       "    </tr>\n",
       "    <tr>\n",
       "      <th>298704</th>\n",
       "      <td>2</td>\n",
       "      <td>99.0</td>\n",
       "      <td>2019-12-31</td>\n",
       "      <td>9.0</td>\n",
       "      <td>2019-12-31 09:00:00</td>\n",
       "    </tr>\n",
       "  </tbody>\n",
       "</table>\n",
       "<p>298705 rows × 5 columns</p>\n",
       "</div>"
      ],
      "text/plain": [
       "        supply  station        date  time year_month_day_hour\n",
       "0            4      1.0  2019-01-02  10.0 2019-01-02 10:00:00\n",
       "1            8      1.0  2019-01-02  11.0 2019-01-02 11:00:00\n",
       "2           12      1.0  2019-01-02  12.0 2019-01-02 12:00:00\n",
       "3            7      1.0  2019-01-02  13.0 2019-01-02 13:00:00\n",
       "4            8      1.0  2019-01-02  14.0 2019-01-02 14:00:00\n",
       "...        ...      ...         ...   ...                 ...\n",
       "298700       1     99.0  2019-12-31   5.0 2019-12-31 05:00:00\n",
       "298701       1     99.0  2019-12-31   6.0 2019-12-31 06:00:00\n",
       "298702       1     99.0  2019-12-31   7.0 2019-12-31 07:00:00\n",
       "298703       5     99.0  2019-12-31   8.0 2019-12-31 08:00:00\n",
       "298704       2     99.0  2019-12-31   9.0 2019-12-31 09:00:00\n",
       "\n",
       "[298705 rows x 5 columns]"
      ]
     },
     "execution_count": 214,
     "metadata": {},
     "output_type": "execute_result"
    }
   ],
   "source": [
    "df2_final"
   ]
  },
  {
   "cell_type": "markdown",
   "id": "copyrighted-compact",
   "metadata": {
    "ExecuteTime": {
     "end_time": "2021-05-06T16:05:59.865806Z",
     "start_time": "2021-05-06T16:04:55.811Z"
    }
   },
   "source": [
    "## Merging DFs"
   ]
  },
  {
   "cell_type": "code",
   "execution_count": null,
   "id": "substantial-heritage",
   "metadata": {},
   "outputs": [],
   "source": []
  }
 ],
 "metadata": {
  "kernelspec": {
   "display_name": "Python 3",
   "language": "python",
   "name": "python3"
  },
  "language_info": {
   "codemirror_mode": {
    "name": "ipython",
    "version": 3
   },
   "file_extension": ".py",
   "mimetype": "text/x-python",
   "name": "python",
   "nbconvert_exporter": "python",
   "pygments_lexer": "ipython3",
   "version": "3.8.6"
  },
  "toc": {
   "base_numbering": 1,
   "nav_menu": {},
   "number_sections": true,
   "sideBar": true,
   "skip_h1_title": false,
   "title_cell": "Table of Contents",
   "title_sidebar": "Contents",
   "toc_cell": false,
   "toc_position": {},
   "toc_section_display": true,
   "toc_window_display": false
  }
 },
 "nbformat": 4,
 "nbformat_minor": 5
}
