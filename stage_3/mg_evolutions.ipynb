{
 "cells": [
  {
   "cell_type": "markdown",
   "id": "ac14264e",
   "metadata": {},
   "source": [
    "# Imports"
   ]
  },
  {
   "cell_type": "code",
   "execution_count": 86,
   "id": "d736e7a4",
   "metadata": {
    "ExecuteTime": {
     "end_time": "2021-05-05T12:18:30.432426Z",
     "start_time": "2021-05-05T12:18:30.418392Z"
    }
   },
   "outputs": [],
   "source": [
    "import geopandas as gpd\n",
    "import pandas as pd\n",
    "import fiona\n",
    "import os\n",
    "import matplotlib.pyplot as plt\n",
    "import folium\n",
    "from zipfile import ZipFile\n",
    "import seaborn as sns\n",
    "import numpy as np\n",
    "import datetime as dt"
   ]
  },
  {
   "cell_type": "markdown",
   "id": "67930513",
   "metadata": {},
   "source": [
    "# Data"
   ]
  },
  {
   "cell_type": "code",
   "execution_count": 87,
   "id": "6eb5d259",
   "metadata": {
    "ExecuteTime": {
     "end_time": "2021-05-05T12:19:06.490686Z",
     "start_time": "2021-05-05T12:18:30.721764Z"
    }
   },
   "outputs": [
    {
     "data": {
      "text/plain": [
       "Id_Historico_Prestamo               int64\n",
       "Id_Usuario                          int64\n",
       "Id_Tag_Bicicleta                   object\n",
       "Fecha_Prestamo             datetime64[ns]\n",
       "Fecha_Devolucion           datetime64[ns]\n",
       "Id_Aparcamiento_Origen              int64\n",
       "Posicion_Origen                     int64\n",
       "Id_Aparcamiento_Destino           float64\n",
       "Posicion_Destino                  float64\n",
       "Num_Bici_Hist                     float64\n",
       "dtype: object"
      ]
     },
     "execution_count": 87,
     "metadata": {},
     "output_type": "execute_result"
    }
   ],
   "source": [
    "bike_df = pd.read_csv('raw_data/bike_loans.csv', sep=';').drop(columns=['Importe', \n",
    "                                                                        'DescripcionImporte', \n",
    "                                                                        'operario'])\n",
    "bike_df['Fecha_Prestamo'] = bike_df['Fecha_Prestamo'].astype('datetime64[ns]')\n",
    "bike_df['Fecha_Devolucion'] = bike_df['Fecha_Devolucion'].astype('datetime64[ns]')\n",
    "bike_df = bike_df.dropna()\n",
    "\n",
    "bike_df.dtypes"
   ]
  },
  {
   "cell_type": "markdown",
   "id": "7081cef9",
   "metadata": {},
   "source": [
    "# Evolutions"
   ]
  },
  {
   "cell_type": "code",
   "execution_count": 88,
   "id": "6e6231e0",
   "metadata": {
    "ExecuteTime": {
     "end_time": "2021-05-05T12:19:06.752055Z",
     "start_time": "2021-05-05T12:19:06.492310Z"
    }
   },
   "outputs": [],
   "source": [
    "bike_df['year'] = bike_df.Fecha_Prestamo.dt.year"
   ]
  },
  {
   "cell_type": "markdown",
   "id": "fe2a0bb9",
   "metadata": {},
   "source": [
    "## Unique bikes"
   ]
  },
  {
   "cell_type": "code",
   "execution_count": 89,
   "id": "553980af",
   "metadata": {
    "ExecuteTime": {
     "end_time": "2021-05-05T12:19:06.764553Z",
     "start_time": "2021-05-05T12:19:06.753820Z"
    }
   },
   "outputs": [
    {
     "data": {
      "text/html": [
       "<div>\n",
       "<style scoped>\n",
       "    .dataframe tbody tr th:only-of-type {\n",
       "        vertical-align: middle;\n",
       "    }\n",
       "\n",
       "    .dataframe tbody tr th {\n",
       "        vertical-align: top;\n",
       "    }\n",
       "\n",
       "    .dataframe thead th {\n",
       "        text-align: right;\n",
       "    }\n",
       "</style>\n",
       "<table border=\"1\" class=\"dataframe\">\n",
       "  <thead>\n",
       "    <tr style=\"text-align: right;\">\n",
       "      <th></th>\n",
       "      <th>Id_Historico_Prestamo</th>\n",
       "      <th>Id_Usuario</th>\n",
       "      <th>Id_Tag_Bicicleta</th>\n",
       "      <th>Fecha_Prestamo</th>\n",
       "      <th>Fecha_Devolucion</th>\n",
       "      <th>Id_Aparcamiento_Origen</th>\n",
       "      <th>Posicion_Origen</th>\n",
       "      <th>Id_Aparcamiento_Destino</th>\n",
       "      <th>Posicion_Destino</th>\n",
       "      <th>Num_Bici_Hist</th>\n",
       "      <th>year</th>\n",
       "    </tr>\n",
       "  </thead>\n",
       "  <tbody>\n",
       "    <tr>\n",
       "      <th>0</th>\n",
       "      <td>6501462</td>\n",
       "      <td>18701</td>\n",
       "      <td>000017B00743</td>\n",
       "      <td>2017-06-21 14:22:11</td>\n",
       "      <td>2017-06-21 14:38:29</td>\n",
       "      <td>8</td>\n",
       "      <td>1</td>\n",
       "      <td>43.0</td>\n",
       "      <td>1.0</td>\n",
       "      <td>929.0</td>\n",
       "      <td>2017</td>\n",
       "    </tr>\n",
       "    <tr>\n",
       "      <th>2</th>\n",
       "      <td>6501489</td>\n",
       "      <td>96620</td>\n",
       "      <td>000017AFFB6F</td>\n",
       "      <td>2017-06-21 14:25:11</td>\n",
       "      <td>2017-06-21 14:39:07</td>\n",
       "      <td>36</td>\n",
       "      <td>25</td>\n",
       "      <td>9.0</td>\n",
       "      <td>13.0</td>\n",
       "      <td>1679.0</td>\n",
       "      <td>2017</td>\n",
       "    </tr>\n",
       "  </tbody>\n",
       "</table>\n",
       "</div>"
      ],
      "text/plain": [
       "   Id_Historico_Prestamo  Id_Usuario Id_Tag_Bicicleta      Fecha_Prestamo  \\\n",
       "0                6501462       18701     000017B00743 2017-06-21 14:22:11   \n",
       "2                6501489       96620     000017AFFB6F 2017-06-21 14:25:11   \n",
       "\n",
       "     Fecha_Devolucion  Id_Aparcamiento_Origen  Posicion_Origen  \\\n",
       "0 2017-06-21 14:38:29                       8                1   \n",
       "2 2017-06-21 14:39:07                      36               25   \n",
       "\n",
       "   Id_Aparcamiento_Destino  Posicion_Destino  Num_Bici_Hist  year  \n",
       "0                     43.0               1.0          929.0  2017  \n",
       "2                      9.0              13.0         1679.0  2017  "
      ]
     },
     "execution_count": 89,
     "metadata": {},
     "output_type": "execute_result"
    }
   ],
   "source": [
    "bike_df.head(2)"
   ]
  },
  {
   "cell_type": "code",
   "execution_count": 90,
   "id": "b9a91856",
   "metadata": {
    "ExecuteTime": {
     "end_time": "2021-05-05T12:19:10.067532Z",
     "start_time": "2021-05-05T12:19:06.766144Z"
    }
   },
   "outputs": [],
   "source": [
    "# calculate the change of bikes\n",
    "evolution_bikes = {}\n",
    "for year in sorted(bike_df.year.unique())[::-1]:\n",
    "    df_filter = bike_df[bike_df.year == year]\n",
    "    df_filter_prev = bike_df[bike_df.year == year-1]\n",
    "    bikes_ = df_filter.Id_Tag_Bicicleta.unique()\n",
    "    bikes_prev = df_filter_prev.Id_Tag_Bicicleta.unique()\n",
    "    count_up = len([bike for bike in bikes_ if bike not in bikes_prev])\n",
    "    count_down = -len([bike for bike in bikes_prev if bike not in bikes_])\n",
    "    evolution_bikes[year] = {'loss': count_down, 'win': count_up}"
   ]
  },
  {
   "cell_type": "code",
   "execution_count": 91,
   "id": "f8c53ad4",
   "metadata": {
    "ExecuteTime": {
     "end_time": "2021-05-05T12:19:10.227052Z",
     "start_time": "2021-05-05T12:19:10.068582Z"
    }
   },
   "outputs": [
    {
     "data": {
      "image/png": "[encoded data removed]",
      "text/plain": [
       "<Figure size 1440x720 with 1 Axes>"
      ]
     },
     "metadata": {
      "needs_background": "light"
     },
     "output_type": "display_data"
    }
   ],
   "source": [
    "pd.DataFrame(evolution_bikes).T.sort_index().plot(kind='bar', figsize=(20,10))\n",
    "plt.grid()"
   ]
  },
  {
   "cell_type": "markdown",
   "id": "2e28f8a1",
   "metadata": {},
   "source": [
    "**Note**<br>\n",
    "we can see that a lot of bikes stopped appearing in 2021. The highest investments have been made in 2020."
   ]
  },
  {
   "cell_type": "markdown",
   "id": "90c0bdf0",
   "metadata": {},
   "source": [
    "## Evolution bike routes"
   ]
  },
  {
   "cell_type": "code",
   "execution_count": 92,
   "id": "e91f5a87",
   "metadata": {
    "ExecuteTime": {
     "end_time": "2021-05-05T12:22:53.518371Z",
     "start_time": "2021-05-05T12:19:10.227990Z"
    }
   },
   "outputs": [],
   "source": [
    "bike_df['routes'] = bike_df.apply(lambda x: f'{x.Id_Aparcamiento_Origen}_{int(x.Id_Aparcamiento_Destino)}', axis=1)\n",
    "                                  "
   ]
  },
  {
   "cell_type": "code",
   "execution_count": 93,
   "id": "2bec93ef",
   "metadata": {
    "ExecuteTime": {
     "end_time": "2021-05-05T12:23:02.677637Z",
     "start_time": "2021-05-05T12:22:53.520281Z"
    }
   },
   "outputs": [],
   "source": [
    "# calculate change of routes\n",
    "evolution_routes = {}\n",
    "for year in sorted(bike_df.year.unique())[::-1]:\n",
    "    df_filter = bike_df[bike_df.year == year]\n",
    "    df_filter_prev = bike_df[bike_df.year == year-1]\n",
    "    routes_ = df_filter.routes.unique()\n",
    "    routes_prev = df_filter_prev.routes.unique()\n",
    "    count_up = len([route for route in routes_ if route not in routes_prev])\n",
    "    count_down = -len([route for route in routes_prev if route not in routes_])\n",
    "    evolution_routes[year] = {'loss': count_down, 'win': count_up}"
   ]
  },
  {
   "cell_type": "code",
   "execution_count": 94,
   "id": "0a4f45d8",
   "metadata": {
    "ExecuteTime": {
     "end_time": "2021-05-05T12:23:02.839586Z",
     "start_time": "2021-05-05T12:23:02.681081Z"
    }
   },
   "outputs": [
    {
     "data": {
      "image/png": "[encoded data removed]",
      "text/plain": [
       "<Figure size 1440x720 with 1 Axes>"
      ]
     },
     "metadata": {
      "needs_background": "light"
     },
     "output_type": "display_data"
    }
   ],
   "source": [
    "pd.DataFrame(evolution_routes).T.sort_index().plot(kind='bar', figsize=(20,10))\n",
    "plt.grid()"
   ]
  },
  {
   "cell_type": "markdown",
   "id": "cefe4dd0",
   "metadata": {},
   "source": [
    "**Note**<br>\n",
    "In 2019 and 2020 a lot of new routes were explored by the bike users."
   ]
  },
  {
   "cell_type": "markdown",
   "id": "35402e2f",
   "metadata": {},
   "source": [
    "## Evolution rentals total"
   ]
  },
  {
   "cell_type": "code",
   "execution_count": 95,
   "id": "812beb6b",
   "metadata": {
    "ExecuteTime": {
     "end_time": "2021-05-05T12:23:03.505522Z",
     "start_time": "2021-05-05T12:23:02.840988Z"
    }
   },
   "outputs": [],
   "source": [
    "# calculate evolution of rentals\n",
    "evolution_rentals = {}\n",
    "for year in sorted(bike_df.year.unique()):\n",
    "    df_filter = bike_df[bike_df.year == year]\n",
    "    count = df_filter.Id_Historico_Prestamo.count()\n",
    "    evolution_rentals[year] = count"
   ]
  },
  {
   "cell_type": "code",
   "execution_count": 96,
   "id": "e5b8cdec",
   "metadata": {
    "ExecuteTime": {
     "end_time": "2021-05-05T12:23:03.511275Z",
     "start_time": "2021-05-05T12:23:03.506849Z"
    }
   },
   "outputs": [],
   "source": [
    "evolution_rentals_df = pd.DataFrame.from_dict(evolution_rentals, orient='index').rename(columns={0:'count'})"
   ]
  },
  {
   "cell_type": "code",
   "execution_count": 97,
   "id": "2f8f29a3",
   "metadata": {
    "ExecuteTime": {
     "end_time": "2021-05-05T12:23:03.661795Z",
     "start_time": "2021-05-05T12:23:03.512422Z"
    }
   },
   "outputs": [
    {
     "data": {
      "image/png": "[encoded data removed]",
      "text/plain": [
       "<Figure size 1440x720 with 1 Axes>"
      ]
     },
     "metadata": {
      "needs_background": "light"
     },
     "output_type": "display_data"
    }
   ],
   "source": [
    "evolution_rentals_df.plot(kind='bar', figsize=(20,10))\n",
    "plt.grid()\n",
    "plt.title(\"Evolution of bike rentals from 2014 to 2021\", size=16)\n",
    "plt.show()"
   ]
  },
  {
   "cell_type": "markdown",
   "id": "131f628c",
   "metadata": {},
   "source": [
    "**Note**<br>\n",
    "There was a big plummet of bike usage in 2020 (due to covid). 2021 is not representative since the records stop on the **20/04/2021**"
   ]
  },
  {
   "cell_type": "markdown",
   "id": "08bc240c",
   "metadata": {},
   "source": [
    "## rental times"
   ]
  },
  {
   "cell_type": "code",
   "execution_count": 113,
   "id": "6c6b7e5e",
   "metadata": {
    "ExecuteTime": {
     "end_time": "2021-05-05T12:24:51.313951Z",
     "start_time": "2021-05-05T12:24:51.053225Z"
    }
   },
   "outputs": [],
   "source": [
    "bike_df['timespan_min'] = (bike_df.Fecha_Devolucion - bike_df.Fecha_Prestamo).dt.seconds/60"
   ]
  },
  {
   "cell_type": "code",
   "execution_count": 155,
   "id": "2ad024a3",
   "metadata": {
    "ExecuteTime": {
     "end_time": "2021-05-05T12:37:13.025039Z",
     "start_time": "2021-05-05T12:37:11.892299Z"
    }
   },
   "outputs": [
    {
     "data": {
      "image/png": "[encoded data removed]",
      "text/plain": [
       "<Figure size 1440x720 with 1 Axes>"
      ]
     },
     "metadata": {
      "needs_background": "light"
     },
     "output_type": "display_data"
    }
   ],
   "source": [
    "bike_df.timespan_min.hist(bins=1000, figsize=(20,10), edgecolor='white')\n",
    "plt.xlim(0,125)\n",
    "plt.title('Distribution of rental time in minutes', size=18)\n",
    "plt.text(50, 500000, s='Remove \"unrented\" bikes', c='r', rotation='horizontal', fontsize=20)\n",
    "plt.arrow(1, 400000, 50, 80000, color='r', width=1)\n",
    "plt.show()"
   ]
  },
  {
   "cell_type": "code",
   "execution_count": null,
   "id": "8fe100bb",
   "metadata": {},
   "outputs": [],
   "source": []
  }
 ],
 "metadata": {
  "kernelspec": {
   "display_name": "Python 3",
   "language": "python",
   "name": "python3"
  },
  "language_info": {
   "codemirror_mode": {
    "name": "ipython",
    "version": 3
   },
   "file_extension": ".py",
   "mimetype": "text/x-python",
   "name": "python",
   "nbconvert_exporter": "python",
   "pygments_lexer": "ipython3",
   "version": "3.8.6"
  },
  "toc": {
   "base_numbering": 1,
   "nav_menu": {},
   "number_sections": true,
   "sideBar": true,
   "skip_h1_title": false,
   "title_cell": "Table of Contents",
   "title_sidebar": "Contents",
   "toc_cell": false,
   "toc_position": {},
   "toc_section_display": true,
   "toc_window_display": false
  }
 },
 "nbformat": 4,
 "nbformat_minor": 5
}
