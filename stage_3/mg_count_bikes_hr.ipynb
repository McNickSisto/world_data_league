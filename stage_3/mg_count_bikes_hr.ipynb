{
 "cells": [
  {
   "cell_type": "markdown",
   "id": "fb4313ca",
   "metadata": {},
   "source": [
    "# Imports"
   ]
  },
  {
   "cell_type": "code",
   "execution_count": 1,
   "id": "1b1ec0b8",
   "metadata": {
    "ExecuteTime": {
     "end_time": "2021-05-12T05:45:09.586039Z",
     "start_time": "2021-05-12T05:45:08.184033Z"
    }
   },
   "outputs": [],
   "source": [
    "import geopandas as gpd\n",
    "import pandas as pd\n",
    "import fiona\n",
    "import os\n",
    "import matplotlib.pyplot as plt\n",
    "import folium\n",
    "from zipfile import ZipFile\n",
    "import seaborn as sns\n",
    "import numpy as np\n",
    "import datetime as dt\n",
    "from collections import Counter\n",
    "import requests\n",
    "from ipywidgets import interact, interactive, fixed, interact_manual, IntSlider\n",
    "from shapely.geometry import LineString, Point\n",
    "from shapely import wkt\n",
    "from dotenv import load_dotenv, find_dotenv\n",
    "from folium.plugins import MarkerCluster, HeatMap, BeautifyIcon\n",
    "from folium.map import LayerControl, Layer, FeatureGroup\n",
    "from folium.vector_layers import Circle, CircleMarker\n",
    "import matplotlib\n",
    "import ast"
   ]
  },
  {
   "cell_type": "markdown",
   "id": "68fa5601",
   "metadata": {},
   "source": [
    "# Data"
   ]
  },
  {
   "cell_type": "code",
   "execution_count": 2,
   "id": "8f270a1e",
   "metadata": {
    "ExecuteTime": {
     "end_time": "2021-05-12T05:45:39.844842Z",
     "start_time": "2021-05-12T05:45:09.587988Z"
    }
   },
   "outputs": [
    {
     "data": {
      "text/plain": [
       "Id_Historico_Prestamo               int64\n",
       "Id_Usuario                          int64\n",
       "Id_Tag_Bicicleta                   object\n",
       "Fecha_Prestamo             datetime64[ns]\n",
       "Fecha_Devolucion           datetime64[ns]\n",
       "Id_Aparcamiento_Origen              int64\n",
       "Posicion_Origen                     int64\n",
       "Id_Aparcamiento_Destino           float64\n",
       "Posicion_Destino                  float64\n",
       "Num_Bici_Hist                     float64\n",
       "dtype: object"
      ]
     },
     "execution_count": 2,
     "metadata": {},
     "output_type": "execute_result"
    }
   ],
   "source": [
    "# import renatl info and drop irrelevant columns\n",
    "bike_df_all = pd.read_csv('raw_data/bike_loans.csv', sep=';').drop(columns=['Importe', \n",
    "                                                                        'DescripcionImporte', \n",
    "                                                                        'operario'])\n",
    "bike_df_all['Fecha_Prestamo'] = bike_df_all['Fecha_Prestamo'].astype('datetime64[ns]')\n",
    "bike_df_all['Fecha_Devolucion'] = bike_df_all['Fecha_Devolucion'].astype('datetime64[ns]')\n",
    "\n",
    "bike_df_all.dtypes"
   ]
  },
  {
   "cell_type": "code",
   "execution_count": 3,
   "id": "d789339a",
   "metadata": {
    "ExecuteTime": {
     "end_time": "2021-05-12T05:45:41.454232Z",
     "start_time": "2021-05-12T05:45:39.847502Z"
    }
   },
   "outputs": [],
   "source": [
    "bike_df_all = bike_df_all.dropna()"
   ]
  },
  {
   "cell_type": "code",
   "execution_count": null,
   "id": "ef76be8d",
   "metadata": {},
   "outputs": [],
   "source": []
  },
  {
   "cell_type": "markdown",
   "id": "e2481102",
   "metadata": {},
   "source": [
    "# Compute bike count per station per hour"
   ]
  },
  {
   "cell_type": "code",
   "execution_count": 4,
   "id": "0714a14f",
   "metadata": {
    "ExecuteTime": {
     "end_time": "2021-05-12T05:45:43.646021Z",
     "start_time": "2021-05-12T05:45:41.456118Z"
    }
   },
   "outputs": [],
   "source": [
    "# filter to 2019 data => most representative year\n",
    "bikes_19 = bike_df_all[bike_df_all.Fecha_Devolucion.dt.year == 2019].reset_index()\n",
    "bikes_19['Id_Aparcamiento_Destino'] = bikes_19['Id_Aparcamiento_Destino'].astype(int)\n",
    "# split the previous data (needed for init state of bikes)\n",
    "bikes_pre = bike_df_all[bike_df_all.Fecha_Devolucion.dt.year < 2019].reset_index()\n",
    "bikes_pre['Id_Aparcamiento_Destino'] = bikes_pre['Id_Aparcamiento_Destino'].astype(int)\n",
    "bikes_pre = bikes_pre[['Id_Tag_Bicicleta', 'Fecha_Devolucion', 'Id_Aparcamiento_Destino']].dropna()\n",
    "# get all unique stations\n",
    "unique_stations = pd.read_csv('raw_data/station_location_with_id.csv', sep=';').drop(columns=['photo', 'webDescription'])\n",
    "\n"
   ]
  },
  {
   "cell_type": "code",
   "execution_count": 5,
   "id": "dc99d6af",
   "metadata": {
    "ExecuteTime": {
     "end_time": "2021-05-12T05:45:55.293367Z",
     "start_time": "2021-05-12T05:45:43.647306Z"
    }
   },
   "outputs": [],
   "source": [
    "# assign df a individual hour of the year per row\n",
    "def get_hr(x):\n",
    "    time = x\n",
    "    hour = dt.datetime(time.year, time.month,time.day,time.hour)\n",
    "    return hour\n",
    "    \n",
    "bikes_19.loc[:,'hour'] = bikes_19.Fecha_Devolucion.apply(get_hr)"
   ]
  },
  {
   "cell_type": "code",
   "execution_count": 6,
   "id": "ecd580a1",
   "metadata": {
    "ExecuteTime": {
     "end_time": "2021-05-12T05:45:58.032450Z",
     "start_time": "2021-05-12T05:45:55.295790Z"
    }
   },
   "outputs": [],
   "source": [
    "# make sure df is sorted chronologically\n",
    "bikes_19 = bikes_19.sort_values(by='Fecha_Devolucion')\n",
    "\n",
    "# list all the appearing bikes and stations per individual hour of the year\n",
    "bikes_19_by_hour = bikes_19.copy().groupby('hour').agg({'Id_Tag_Bicicleta':lambda x: list(x), \n",
    "                                                        'Id_Aparcamiento_Destino':lambda x: list(x),\n",
    "                                                        'Id_Aparcamiento_Origen':lambda x: list(x)})\n",
    "\n",
    "# compute the init state of all bikes prior to 2019 to get a starting balance of bikes\n",
    "# we assume that the bike in its last position wasn't 'touched', thus remained in the station until the 02.01.2019\n",
    "bikes_pre = bikes_pre.sort_values(by='Fecha_Devolucion', ascending=False) # walk backwards through df to find 'last' position of each bike\n",
    "stations_init_df = bikes_pre.groupby('Id_Tag_Bicicleta').agg({'Id_Aparcamiento_Destino':'first'}) # first means last in this case\n",
    "\n",
    "# count the bikes at the stations (and pad the non appearing ones)\n",
    "stations_init_pre = Counter({i:0 for i in unique_stations.ID})\n",
    "stations_init_pre.update(Counter(dict(stations_init_df.Id_Aparcamiento_Destino.value_counts())))\n"
   ]
  },
  {
   "cell_type": "code",
   "execution_count": 7,
   "id": "9cd2a4ff",
   "metadata": {
    "ExecuteTime": {
     "end_time": "2021-05-12T05:46:31.428074Z",
     "start_time": "2021-05-12T05:45:58.034180Z"
    },
    "scrolled": true
   },
   "outputs": [
    {
     "data": {
      "text/html": [
       "<style  type=\"text/css\" >\n",
       "#T_4d4b1_row0_col2,#T_4d4b1_row1_col2,#T_4d4b1_row2_col2,#T_4d4b1_row3_col2,#T_4d4b1_row4_col2,#T_4d4b1_row5_col2,#T_4d4b1_row6_col2,#T_4d4b1_row7_col2,#T_4d4b1_row8_col2,#T_4d4b1_row9_col2{\n",
       "            width:  50;\n",
       "        }</style><table id=\"T_4d4b1_\" ><thead>    <tr>        <th class=\"blank level0\" ></th>        <th class=\"col_heading level0 col0\" >hour</th>        <th class=\"col_heading level0 col1\" >station_movement</th>        <th class=\"col_heading level0 col2\" >station_count</th>    </tr></thead><tbody>\n",
       "                <tr>\n",
       "                        <th id=\"T_4d4b1_level0_row0\" class=\"row_heading level0 row0\" >0</th>\n",
       "                        <td id=\"T_4d4b1_row0_col0\" class=\"data row0 col0\" >2019-01-02 05:00:00</td>\n",
       "                        <td id=\"T_4d4b1_row0_col1\" class=\"data row0 col1\" >{1: -2, 2: -1, 3: -1, 5: 1, 6: -1, 7: -5, 8: 0, 9: 1, 10: 3, 12: -1, 20: 0, 21: -1, 23: 1, 27: -1, 28: 1, 33: 1, 34: -1, 37: 1, 38: -1, 39: -1, 40: 1, 41: 1, 42: -1, 43: 1, 44: 1, 47: 0, 49: 1, 51: -1, 53: -1, 54: 3, 56: -2, 57: 1, 58: -1, 60: 1, 63: 2, 64: 2, 65: 1, 67: -1, 89: -1}</td>\n",
       "                        <td id=\"T_4d4b1_row0_col2\" class=\"data row0 col2\" >{1: 167, 2: 112, 3: 78, 4: 67, 5: 53, 6: 119, 7: 199, 8: 127, 9: 41, 10: 58, 11: 58, 12: 198, 13: 29, 19: 18, 20: 26, 21: 52, 22: 34, 23: 60, 24: 47, 27: 46, 28: 18, 32: 25, 33: 16, 34: 40, 35: 17, 36: 90, 37: 22, 38: 26, 39: 102, 40: 100, 41: 56, 42: 35, 43: 30, 44: 42, 45: 20, 46: 38, 47: 32, 48: 11, 49: 22, 51: 12, 53: 44, 54: 19, 55: 44, 56: 26, 57: 46, 58: 31, 59: 13, 60: 27, 61: 8, 62: 59, 63: 27, 64: 29, 65: 23, 66: 74, 67: 95, 70: 19, 89: 63, 90: 0, 91: 0, 92: 0, 93: 0, 94: 0, 95: 0, 96: 0, 97: 0, 98: 0, 99: 0, 100: 0, 101: 0, 102: 0, 103: 0, 104: 0, 105: 0, 106: 0, 107: 0, 108: 0, 109: 0, 110: 0, 111: 0, 112: 0, 113: 0, 114: 0, 115: 0, 116: 0, 118: 0, 121: 0, 122: 0, 123: 0, 124: 0, 125: 0, 126: 0, 127: 0, 128: 0, 129: 0, 130: 0, 131: 0, 132: 0, 133: 0, 134: 0, 135: 0, 136: 0, 137: 0, 138: 0, 139: 0, 140: 0, 141: 0, 142: 0, 69: 10, 14: 4, 31: 4, 16: 1, 50: 1, 15: 1}</td>\n",
       "            </tr>\n",
       "            <tr>\n",
       "                        <th id=\"T_4d4b1_level0_row1\" class=\"row_heading level0 row1\" >1</th>\n",
       "                        <td id=\"T_4d4b1_row1_col0\" class=\"data row1 col0\" >2019-01-02 06:00:00</td>\n",
       "                        <td id=\"T_4d4b1_row1_col1\" class=\"data row1 col1\" >{1: -20, 2: 0, 3: -1, 4: 2, 5: 0, 6: -2, 7: -4, 8: -12, 9: 4, 10: 1, 11: -2, 12: -12, 13: 0, 19: 4, 20: -2, 21: -5, 22: -3, 23: -9, 24: 4, 27: -7, 28: 7, 32: 1, 33: 7, 34: 5, 35: 2, 36: -1, 37: 1, 38: 2, 39: 3, 40: 0, 41: -1, 42: 3, 43: 5, 44: -1, 45: 1, 46: -5, 47: 3, 48: -4, 49: 2, 51: 2, 53: -3, 54: 7, 55: -1, 56: -1, 57: 12, 59: 5, 60: 1, 62: 2, 63: 12, 64: -2, 65: -1, 66: 1, 67: -1, 89: 1}</td>\n",
       "                        <td id=\"T_4d4b1_row1_col2\" class=\"data row1 col2\" >{1: 147, 2: 112, 3: 77, 4: 69, 5: 53, 6: 117, 7: 195, 8: 115, 9: 45, 10: 59, 11: 56, 12: 186, 13: 29, 19: 22, 20: 24, 21: 47, 22: 31, 23: 51, 24: 51, 27: 39, 28: 25, 32: 26, 33: 23, 34: 45, 35: 19, 36: 89, 37: 23, 38: 28, 39: 105, 40: 100, 41: 55, 42: 38, 43: 35, 44: 41, 45: 21, 46: 33, 47: 35, 48: 7, 49: 24, 51: 14, 53: 41, 54: 26, 55: 43, 56: 25, 57: 58, 58: 31, 59: 18, 60: 28, 61: 8, 62: 61, 63: 39, 64: 27, 65: 22, 66: 75, 67: 94, 70: 19, 89: 64, 90: 0, 91: 0, 92: 0, 93: 0, 94: 0, 95: 0, 96: 0, 97: 0, 98: 0, 99: 0, 100: 0, 101: 0, 102: 0, 103: 0, 104: 0, 105: 0, 106: 0, 107: 0, 108: 0, 109: 0, 110: 0, 111: 0, 112: 0, 113: 0, 114: 0, 115: 0, 116: 0, 118: 0, 121: 0, 122: 0, 123: 0, 124: 0, 125: 0, 126: 0, 127: 0, 128: 0, 129: 0, 130: 0, 131: 0, 132: 0, 133: 0, 134: 0, 135: 0, 136: 0, 137: 0, 138: 0, 139: 0, 140: 0, 141: 0, 142: 0, 69: 10, 14: 4, 31: 4, 16: 1, 50: 1, 15: 1}</td>\n",
       "            </tr>\n",
       "            <tr>\n",
       "                        <th id=\"T_4d4b1_level0_row2\" class=\"row_heading level0 row2\" >2</th>\n",
       "                        <td id=\"T_4d4b1_row2_col0\" class=\"data row2 col0\" >2019-01-02 07:00:00</td>\n",
       "                        <td id=\"T_4d4b1_row2_col1\" class=\"data row2 col1\" >{1: -6, 2: -11, 3: -1, 4: -2, 5: -5, 6: -7, 7: -1, 8: -18, 9: -6, 10: 3, 11: -6, 12: -12, 13: -7, 19: 16, 20: -2, 21: -1, 22: 1, 23: -10, 24: -3, 27: 1, 28: -1, 32: 1, 33: 10, 34: -2, 35: 1, 36: 7, 37: 1, 38: 0, 39: 1, 40: 4, 41: -5, 42: 0, 43: 4, 44: 0, 45: 0, 46: -1, 47: 8, 48: 1, 49: -3, 51: 1, 53: 0, 54: 8, 55: -3, 56: -8, 57: 10, 58: -1, 59: 1, 60: -1, 61: -1, 62: 1, 63: 6, 64: 5, 65: 2, 66: 23, 67: 7, 89: 1}</td>\n",
       "                        <td id=\"T_4d4b1_row2_col2\" class=\"data row2 col2\" >{1: 141, 2: 101, 3: 76, 4: 67, 5: 48, 6: 110, 7: 194, 8: 97, 9: 39, 10: 62, 11: 50, 12: 174, 13: 22, 19: 38, 20: 22, 21: 46, 22: 32, 23: 41, 24: 48, 27: 40, 28: 24, 32: 27, 33: 33, 34: 43, 35: 20, 36: 96, 37: 24, 38: 28, 39: 106, 40: 104, 41: 50, 42: 38, 43: 39, 44: 41, 45: 21, 46: 32, 47: 43, 48: 8, 49: 21, 51: 15, 53: 41, 54: 34, 55: 40, 56: 17, 57: 68, 58: 30, 59: 19, 60: 27, 61: 7, 62: 62, 63: 45, 64: 32, 65: 24, 66: 98, 67: 101, 70: 19, 89: 65, 90: 0, 91: 0, 92: 0, 93: 0, 94: 0, 95: 0, 96: 0, 97: 0, 98: 0, 99: 0, 100: 0, 101: 0, 102: 0, 103: 0, 104: 0, 105: 0, 106: 0, 107: 0, 108: 0, 109: 0, 110: 0, 111: 0, 112: 0, 113: 0, 114: 0, 115: 0, 116: 0, 118: 0, 121: 0, 122: 0, 123: 0, 124: 0, 125: 0, 126: 0, 127: 0, 128: 0, 129: 0, 130: 0, 131: 0, 132: 0, 133: 0, 134: 0, 135: 0, 136: 0, 137: 0, 138: 0, 139: 0, 140: 0, 141: 0, 142: 0, 69: 10, 14: 4, 31: 4, 16: 1, 50: 1, 15: 1}</td>\n",
       "            </tr>\n",
       "            <tr>\n",
       "                        <th id=\"T_4d4b1_level0_row3\" class=\"row_heading level0 row3\" >3</th>\n",
       "                        <td id=\"T_4d4b1_row3_col0\" class=\"data row3 col0\" >2019-01-02 08:00:00</td>\n",
       "                        <td id=\"T_4d4b1_row3_col1\" class=\"data row3 col1\" >{1: -8, 2: -4, 3: 2, 4: -3, 6: 0, 7: -8, 8: -4, 9: -1, 10: 0, 11: -4, 12: 1, 13: -4, 19: 2, 20: 6, 21: -5, 22: 1, 23: -13, 24: 1, 27: -2, 28: 2, 32: -3, 33: 1, 34: -3, 36: 9, 37: 0, 38: 0, 39: 6, 40: -1, 41: 1, 42: 2, 43: -1, 44: 8, 45: -2, 46: -7, 47: -2, 48: -2, 49: -1, 51: -2, 53: -1, 54: -2, 55: 0, 56: 0, 57: 3, 58: -1, 59: 6, 60: 4, 62: 2, 63: 4, 64: 1, 65: -2, 66: 13, 67: 10, 89: 1}</td>\n",
       "                        <td id=\"T_4d4b1_row3_col2\" class=\"data row3 col2\" >{1: 133, 2: 97, 3: 78, 4: 64, 5: 48, 6: 110, 7: 186, 8: 93, 9: 38, 10: 62, 11: 46, 12: 175, 13: 18, 19: 40, 20: 28, 21: 41, 22: 33, 23: 28, 24: 49, 27: 38, 28: 26, 32: 24, 33: 34, 34: 40, 35: 20, 36: 105, 37: 24, 38: 28, 39: 112, 40: 103, 41: 51, 42: 40, 43: 38, 44: 49, 45: 19, 46: 25, 47: 41, 48: 6, 49: 20, 51: 13, 53: 40, 54: 32, 55: 40, 56: 17, 57: 71, 58: 29, 59: 25, 60: 31, 61: 7, 62: 64, 63: 49, 64: 33, 65: 22, 66: 111, 67: 111, 70: 19, 89: 66, 90: 0, 91: 0, 92: 0, 93: 0, 94: 0, 95: 0, 96: 0, 97: 0, 98: 0, 99: 0, 100: 0, 101: 0, 102: 0, 103: 0, 104: 0, 105: 0, 106: 0, 107: 0, 108: 0, 109: 0, 110: 0, 111: 0, 112: 0, 113: 0, 114: 0, 115: 0, 116: 0, 118: 0, 121: 0, 122: 0, 123: 0, 124: 0, 125: 0, 126: 0, 127: 0, 128: 0, 129: 0, 130: 0, 131: 0, 132: 0, 133: 0, 134: 0, 135: 0, 136: 0, 137: 0, 138: 0, 139: 0, 140: 0, 141: 0, 142: 0, 69: 10, 14: 4, 31: 4, 16: 1, 50: 1, 15: 1}</td>\n",
       "            </tr>\n",
       "            <tr>\n",
       "                        <th id=\"T_4d4b1_level0_row4\" class=\"row_heading level0 row4\" >4</th>\n",
       "                        <td id=\"T_4d4b1_row4_col0\" class=\"data row4 col0\" >2019-01-02 09:00:00</td>\n",
       "                        <td id=\"T_4d4b1_row4_col1\" class=\"data row4 col1\" >{1: -13, 2: -6, 3: -2, 4: 0, 5: 2, 6: -4, 7: -3, 8: 0, 9: 2, 10: -1, 11: 0, 12: -3, 13: 0, 19: 3, 20: 0, 21: -5, 23: -6, 24: 0, 28: 0, 32: 0, 33: 6, 34: 0, 35: -1, 36: -1, 37: 1, 38: 1, 39: 4, 40: 2, 41: -2, 42: -4, 43: 5, 44: -1, 45: 3, 46: 1, 47: 0, 48: -2, 49: -6, 51: -1, 53: -1, 54: 4, 55: 3, 56: -2, 57: 2, 58: 1, 59: 1, 60: -3, 62: 2, 63: -4, 64: 4, 65: 0, 66: 1, 67: 13, 89: 10}</td>\n",
       "                        <td id=\"T_4d4b1_row4_col2\" class=\"data row4 col2\" >{1: 120, 2: 91, 3: 76, 4: 64, 5: 50, 6: 106, 7: 183, 8: 93, 9: 40, 10: 61, 11: 46, 12: 172, 13: 18, 19: 43, 20: 28, 21: 36, 22: 33, 23: 22, 24: 49, 27: 38, 28: 26, 32: 24, 33: 40, 34: 40, 35: 19, 36: 104, 37: 25, 38: 29, 39: 116, 40: 105, 41: 49, 42: 36, 43: 43, 44: 48, 45: 22, 46: 26, 47: 41, 48: 4, 49: 14, 51: 12, 53: 39, 54: 36, 55: 43, 56: 15, 57: 73, 58: 30, 59: 26, 60: 28, 61: 7, 62: 66, 63: 45, 64: 37, 65: 22, 66: 112, 67: 124, 70: 19, 89: 76, 90: 0, 91: 0, 92: 0, 93: 0, 94: 0, 95: 0, 96: 0, 97: 0, 98: 0, 99: 0, 100: 0, 101: 0, 102: 0, 103: 0, 104: 0, 105: 0, 106: 0, 107: 0, 108: 0, 109: 0, 110: 0, 111: 0, 112: 0, 113: 0, 114: 0, 115: 0, 116: 0, 118: 0, 121: 0, 122: 0, 123: 0, 124: 0, 125: 0, 126: 0, 127: 0, 128: 0, 129: 0, 130: 0, 131: 0, 132: 0, 133: 0, 134: 0, 135: 0, 136: 0, 137: 0, 138: 0, 139: 0, 140: 0, 141: 0, 142: 0, 69: 10, 14: 4, 31: 4, 16: 1, 50: 1, 15: 1}</td>\n",
       "            </tr>\n",
       "            <tr>\n",
       "                        <th id=\"T_4d4b1_level0_row5\" class=\"row_heading level0 row5\" >5</th>\n",
       "                        <td id=\"T_4d4b1_row5_col0\" class=\"data row5 col0\" >2019-01-02 10:00:00</td>\n",
       "                        <td id=\"T_4d4b1_row5_col1\" class=\"data row5 col1\" >{1: -5, 2: -4, 3: -2, 4: -2, 5: 0, 6: 0, 7: -10, 8: -10, 9: -3, 10: 4, 11: -7, 12: -8, 13: -5, 19: 0, 20: -3, 21: -2, 22: 4, 23: -10, 24: 9, 27: -2, 28: 2, 32: 3, 33: 3, 34: 1, 36: 5, 37: 1, 38: -2, 39: 1, 40: 3, 41: 23, 42: -3, 43: 3, 44: 1, 45: -2, 46: 0, 47: -2, 48: 1, 49: 0, 50: 1, 51: 1, 53: 1, 54: 1, 55: 0, 56: -7, 57: 2, 58: 0, 59: -1, 60: 6, 62: 4, 63: 2, 64: 3, 65: -1, 66: -2, 67: 9, 70: -1, 89: 0}</td>\n",
       "                        <td id=\"T_4d4b1_row5_col2\" class=\"data row5 col2\" >{1: 115, 2: 87, 3: 74, 4: 62, 5: 50, 6: 106, 7: 173, 8: 83, 9: 37, 10: 65, 11: 39, 12: 164, 13: 13, 19: 43, 20: 25, 21: 34, 22: 37, 23: 12, 24: 58, 27: 36, 28: 28, 32: 27, 33: 43, 34: 41, 35: 19, 36: 109, 37: 26, 38: 27, 39: 117, 40: 108, 41: 72, 42: 33, 43: 46, 44: 49, 45: 20, 46: 26, 47: 39, 48: 5, 49: 14, 51: 13, 53: 40, 54: 37, 55: 43, 56: 8, 57: 75, 58: 30, 59: 25, 60: 34, 61: 7, 62: 70, 63: 47, 64: 40, 65: 21, 66: 110, 67: 133, 70: 18, 89: 76, 90: 0, 91: 0, 92: 0, 93: 0, 94: 0, 95: 0, 96: 0, 97: 0, 98: 0, 99: 0, 100: 0, 101: 0, 102: 0, 103: 0, 104: 0, 105: 0, 106: 0, 107: 0, 108: 0, 109: 0, 110: 0, 111: 0, 112: 0, 113: 0, 114: 0, 115: 0, 116: 0, 118: 0, 121: 0, 122: 0, 123: 0, 124: 0, 125: 0, 126: 0, 127: 0, 128: 0, 129: 0, 130: 0, 131: 0, 132: 0, 133: 0, 134: 0, 135: 0, 136: 0, 137: 0, 138: 0, 139: 0, 140: 0, 141: 0, 142: 0, 69: 10, 14: 4, 31: 4, 16: 1, 50: 2, 15: 1}</td>\n",
       "            </tr>\n",
       "            <tr>\n",
       "                        <th id=\"T_4d4b1_level0_row6\" class=\"row_heading level0 row6\" >6</th>\n",
       "                        <td id=\"T_4d4b1_row6_col0\" class=\"data row6 col0\" >2019-01-02 11:00:00</td>\n",
       "                        <td id=\"T_4d4b1_row6_col1\" class=\"data row6 col1\" >{1: -2, 2: 2, 3: 1, 4: 3, 5: -3, 6: -4, 7: 2, 8: -3, 9: -1, 10: 0, 11: 4, 12: 6, 13: -4, 19: -1, 20: 2, 21: 1, 22: 1, 23: -2, 24: -7, 27: 0, 32: -4, 33: 0, 34: -7, 35: 3, 36: 1, 37: -4, 38: 0, 39: -1, 40: 1, 41: 9, 42: 0, 43: 0, 44: 8, 45: 3, 46: 2, 47: 2, 48: 4, 49: 3, 53: -1, 54: 2, 55: 3, 56: 4, 57: 0, 58: 1, 59: -4, 60: -3, 61: 1, 62: -2, 63: 0, 64: 3, 65: -1, 66: -2, 67: -10, 70: -1, 89: -5}</td>\n",
       "                        <td id=\"T_4d4b1_row6_col2\" class=\"data row6 col2\" >{1: 113, 2: 89, 3: 75, 4: 65, 5: 47, 6: 102, 7: 175, 8: 80, 9: 36, 10: 65, 11: 43, 12: 170, 13: 9, 19: 42, 20: 27, 21: 35, 22: 38, 23: 10, 24: 51, 27: 36, 28: 28, 32: 23, 33: 43, 34: 34, 35: 22, 36: 110, 37: 22, 38: 27, 39: 116, 40: 109, 41: 81, 42: 33, 43: 46, 44: 57, 45: 23, 46: 28, 47: 41, 48: 9, 49: 17, 51: 13, 53: 39, 54: 39, 55: 46, 56: 12, 57: 75, 58: 31, 59: 21, 60: 31, 61: 8, 62: 68, 63: 47, 64: 43, 65: 20, 66: 108, 67: 123, 70: 17, 89: 71, 90: 0, 91: 0, 92: 0, 93: 0, 94: 0, 95: 0, 96: 0, 97: 0, 98: 0, 99: 0, 100: 0, 101: 0, 102: 0, 103: 0, 104: 0, 105: 0, 106: 0, 107: 0, 108: 0, 109: 0, 110: 0, 111: 0, 112: 0, 113: 0, 114: 0, 115: 0, 116: 0, 118: 0, 121: 0, 122: 0, 123: 0, 124: 0, 125: 0, 126: 0, 127: 0, 128: 0, 129: 0, 130: 0, 131: 0, 132: 0, 133: 0, 134: 0, 135: 0, 136: 0, 137: 0, 138: 0, 139: 0, 140: 0, 141: 0, 142: 0, 69: 10, 14: 4, 31: 4, 16: 1, 50: 2, 15: 1}</td>\n",
       "            </tr>\n",
       "            <tr>\n",
       "                        <th id=\"T_4d4b1_level0_row7\" class=\"row_heading level0 row7\" >7</th>\n",
       "                        <td id=\"T_4d4b1_row7_col0\" class=\"data row7 col0\" >2019-01-02 12:00:00</td>\n",
       "                        <td id=\"T_4d4b1_row7_col1\" class=\"data row7 col1\" >{1: -5, 2: -2, 3: 5, 4: -1, 5: -2, 6: 0, 7: -5, 8: 1, 9: 6, 10: -4, 11: -2, 12: 0, 13: -1, 19: -2, 20: -2, 21: 6, 22: 6, 23: -1, 24: 3, 27: -5, 28: 5, 32: 0, 33: 1, 34: -4, 36: 1, 37: -3, 38: -1, 39: 8, 40: 2, 41: -6, 42: 2, 43: -1, 44: 0, 45: 1, 46: -1, 47: -1, 48: 1, 49: -1, 51: 1, 53: -2, 54: 3, 55: 9, 56: 4, 57: 0, 58: 0, 59: -3, 60: -4, 61: 1, 62: -2, 63: 4, 64: 4, 65: 2, 66: -3, 67: -12, 70: -1, 89: 1}</td>\n",
       "                        <td id=\"T_4d4b1_row7_col2\" class=\"data row7 col2\" >{1: 108, 2: 87, 3: 80, 4: 64, 5: 45, 6: 102, 7: 170, 8: 81, 9: 42, 10: 61, 11: 41, 12: 170, 13: 8, 19: 40, 20: 25, 21: 41, 22: 44, 23: 9, 24: 54, 27: 31, 28: 33, 32: 23, 33: 44, 34: 30, 35: 22, 36: 111, 37: 19, 38: 26, 39: 124, 40: 111, 41: 75, 42: 35, 43: 45, 44: 57, 45: 24, 46: 27, 47: 40, 48: 10, 49: 16, 51: 14, 53: 37, 54: 42, 55: 55, 56: 16, 57: 75, 58: 31, 59: 18, 60: 27, 61: 9, 62: 66, 63: 51, 64: 47, 65: 22, 66: 105, 67: 111, 70: 16, 89: 72, 90: 0, 91: 0, 92: 0, 93: 0, 94: 0, 95: 0, 96: 0, 97: 0, 98: 0, 99: 0, 100: 0, 101: 0, 102: 0, 103: 0, 104: 0, 105: 0, 106: 0, 107: 0, 108: 0, 109: 0, 110: 0, 111: 0, 112: 0, 113: 0, 114: 0, 115: 0, 116: 0, 118: 0, 121: 0, 122: 0, 123: 0, 124: 0, 125: 0, 126: 0, 127: 0, 128: 0, 129: 0, 130: 0, 131: 0, 132: 0, 133: 0, 134: 0, 135: 0, 136: 0, 137: 0, 138: 0, 139: 0, 140: 0, 141: 0, 142: 0, 69: 10, 14: 4, 31: 4, 16: 1, 50: 2, 15: 1}</td>\n",
       "            </tr>\n",
       "            <tr>\n",
       "                        <th id=\"T_4d4b1_level0_row8\" class=\"row_heading level0 row8\" >8</th>\n",
       "                        <td id=\"T_4d4b1_row8_col0\" class=\"data row8 col0\" >2019-01-02 13:00:00</td>\n",
       "                        <td id=\"T_4d4b1_row8_col1\" class=\"data row8 col1\" >{1: -5, 2: 2, 3: -3, 4: 2, 5: -2, 6: -3, 7: -9, 8: -8, 9: 2, 10: -1, 11: 0, 12: -1, 13: 3, 19: 5, 20: -2, 21: -3, 22: -1, 23: 1, 24: 2, 27: -4, 28: 4, 32: 1, 33: 0, 34: -2, 35: -1, 36: -4, 37: 2, 38: -2, 39: -6, 40: 2, 41: 0, 42: 7, 43: -1, 44: 6, 45: -1, 46: 2, 47: 1, 48: -1, 49: 5, 50: -1, 51: -2, 53: 2, 54: 0, 55: -4, 56: -3, 57: 0, 58: 0, 59: 3, 60: 4, 61: -2, 62: 1, 63: -4, 64: 6, 65: 0, 66: 2, 67: 13, 70: 1, 89: -3}</td>\n",
       "                        <td id=\"T_4d4b1_row8_col2\" class=\"data row8 col2\" >{1: 103, 2: 89, 3: 77, 4: 66, 5: 43, 6: 99, 7: 161, 8: 73, 9: 44, 10: 60, 11: 41, 12: 169, 13: 11, 19: 45, 20: 23, 21: 38, 22: 43, 23: 10, 24: 56, 27: 27, 28: 37, 32: 24, 33: 44, 34: 28, 35: 21, 36: 107, 37: 21, 38: 24, 39: 118, 40: 113, 41: 75, 42: 42, 43: 44, 44: 63, 45: 23, 46: 29, 47: 41, 48: 9, 49: 21, 51: 12, 53: 39, 54: 42, 55: 51, 56: 13, 57: 75, 58: 31, 59: 21, 60: 31, 61: 7, 62: 67, 63: 47, 64: 53, 65: 22, 66: 107, 67: 124, 70: 17, 89: 69, 90: 0, 91: 0, 92: 0, 93: 0, 94: 0, 95: 0, 96: 0, 97: 0, 98: 0, 99: 0, 100: 0, 101: 0, 102: 0, 103: 0, 104: 0, 105: 0, 106: 0, 107: 0, 108: 0, 109: 0, 110: 0, 111: 0, 112: 0, 113: 0, 114: 0, 115: 0, 116: 0, 118: 0, 121: 0, 122: 0, 123: 0, 124: 0, 125: 0, 126: 0, 127: 0, 128: 0, 129: 0, 130: 0, 131: 0, 132: 0, 133: 0, 134: 0, 135: 0, 136: 0, 137: 0, 138: 0, 139: 0, 140: 0, 141: 0, 142: 0, 69: 10, 14: 4, 31: 4, 16: 1, 50: 1, 15: 1}</td>\n",
       "            </tr>\n",
       "            <tr>\n",
       "                        <th id=\"T_4d4b1_level0_row9\" class=\"row_heading level0 row9\" >9</th>\n",
       "                        <td id=\"T_4d4b1_row9_col0\" class=\"data row9 col0\" >2019-01-02 14:00:00</td>\n",
       "                        <td id=\"T_4d4b1_row9_col1\" class=\"data row9 col1\" >{1: -3, 2: 4, 3: 2, 4: 0, 5: 1, 6: -1, 7: -1, 8: -6, 9: -2, 10: 3, 11: -1, 12: -10, 13: -1, 19: -1, 20: 0, 21: 1, 22: -3, 23: -2, 24: -2, 27: -1, 28: 1, 32: 3, 33: 2, 34: -12, 35: -1, 36: -4, 38: -2, 39: -3, 40: 2, 41: -2, 42: -3, 43: 3, 44: 1, 45: 1, 46: -1, 47: 2, 48: 3, 49: -1, 51: 1, 53: 2, 54: -4, 55: 3, 56: 2, 57: -4, 58: 5, 59: 2, 60: 4, 61: 1, 62: 2, 63: 9, 64: -4, 65: 1, 66: -4, 67: 15, 70: 2, 89: 1}</td>\n",
       "                        <td id=\"T_4d4b1_row9_col2\" class=\"data row9 col2\" >{1: 100, 2: 93, 3: 79, 4: 66, 5: 44, 6: 98, 7: 160, 8: 67, 9: 42, 10: 63, 11: 40, 12: 159, 13: 10, 19: 44, 20: 23, 21: 39, 22: 40, 23: 8, 24: 54, 27: 26, 28: 38, 32: 27, 33: 46, 34: 16, 35: 20, 36: 103, 37: 21, 38: 22, 39: 115, 40: 115, 41: 73, 42: 39, 43: 47, 44: 64, 45: 24, 46: 28, 47: 43, 48: 12, 49: 20, 51: 13, 53: 41, 54: 38, 55: 54, 56: 15, 57: 71, 58: 36, 59: 23, 60: 35, 61: 8, 62: 69, 63: 56, 64: 49, 65: 23, 66: 103, 67: 139, 70: 19, 89: 70, 90: 0, 91: 0, 92: 0, 93: 0, 94: 0, 95: 0, 96: 0, 97: 0, 98: 0, 99: 0, 100: 0, 101: 0, 102: 0, 103: 0, 104: 0, 105: 0, 106: 0, 107: 0, 108: 0, 109: 0, 110: 0, 111: 0, 112: 0, 113: 0, 114: 0, 115: 0, 116: 0, 118: 0, 121: 0, 122: 0, 123: 0, 124: 0, 125: 0, 126: 0, 127: 0, 128: 0, 129: 0, 130: 0, 131: 0, 132: 0, 133: 0, 134: 0, 135: 0, 136: 0, 137: 0, 138: 0, 139: 0, 140: 0, 141: 0, 142: 0, 69: 10, 14: 4, 31: 4, 16: 1, 50: 1, 15: 1}</td>\n",
       "            </tr>\n",
       "    </tbody></table>"
      ],
      "text/plain": [
       "<pandas.io.formats.style.Styler at 0x152559df0>"
      ]
     },
     "execution_count": 7,
     "metadata": {},
     "output_type": "execute_result"
    }
   ],
   "source": [
    "# only keep the _last_ entry of a bike per hour (dict will overwrite)\n",
    "# we will count pick-up and drop-off in the SAME time, since the avg. renting duration is about 10 mins. \n",
    "bikes_19_by_hour['bikes_loc'] = None\n",
    "for c, row in bikes_19_by_hour.iterrows():\n",
    "#     print(c) # check progress\n",
    "    dct = {}\n",
    "    for i, bike in enumerate(row.Id_Tag_Bicicleta):\n",
    "        dct[bike] = (row.Id_Aparcamiento_Destino[i], row.Id_Aparcamiento_Origen[i]) # create route dict for each bike in the hour\n",
    "    bikes_19_by_hour.at[c, 'bikes_loc'] = dct\n",
    "\n",
    "# count the pickups and drop offs for each station per hour\n",
    "bikes_19_by_hour['station_movement'] = None\n",
    "for c, row in bikes_19_by_hour.iterrows():\n",
    "    stations = row.bikes_loc.values()\n",
    "    orgs = [i[1] for i in stations] # unpack the rout tuples\n",
    "    dests = [i[0] for i in stations]\n",
    "    dct_org = Counter(orgs) # count how many interactions per station\n",
    "    dct_dest = Counter(dests)\n",
    "    dct_acum = {i:dct_dest.get(i,0)-dct_org.get(i,0) for i in set(dct_dest) | set(dct_org)} # subtract the pickups from the dropoffs\n",
    "    bikes_19_by_hour.at[c, 'station_movement'] = dct_acum\n",
    "           \n",
    "# update the init station count by the movements\n",
    "# stations_init_dict = stations_init_pre # copy dict\n",
    "bikes_19_by_hour['station_count'] = None\n",
    "for c, row in bikes_19_by_hour.iterrows():\n",
    "    movement = Counter(row.station_movement)\n",
    "    stations_init_pre.update(movement) # update moved items\n",
    "    bikes_19_by_hour.at[c, 'station_count'] = dict(stations_init_pre)\n",
    "\n",
    "\n",
    "\n",
    "# move hour to columns and only leave the dict\n",
    "bikes_19_by_hour = bikes_19_by_hour[['station_movement', 'station_count']].reset_index()\n",
    "        \n",
    "# make dict column visible\n",
    "bikes_19_by_hour.head(10).style.set_properties(subset=['station_count'], **{'width': '50'})\n"
   ]
  },
  {
   "cell_type": "code",
   "execution_count": 10,
   "id": "87e8fc08",
   "metadata": {
    "ExecuteTime": {
     "end_time": "2021-05-12T05:49:59.286204Z",
     "start_time": "2021-05-12T05:49:58.831857Z"
    }
   },
   "outputs": [],
   "source": [
    "bikes_19_by_hour.to_csv('raw_data/stations_count_hr.csv')"
   ]
  },
  {
   "cell_type": "code",
   "execution_count": 214,
   "id": "0f358b06",
   "metadata": {
    "ExecuteTime": {
     "end_time": "2021-05-11T08:57:44.204966Z",
     "start_time": "2021-05-11T08:57:44.201585Z"
    }
   },
   "outputs": [],
   "source": [
    "# get all bike ids numbers of last hour in 2018 and their locations\n",
    "# # filter by before 2019 and match it with all apearing bikes, take the .head(1) to have the location of the bike\n",
    "\n",
    "# then take station count dict and update appearing stations\n",
    "\n",
    "# all done"
   ]
  },
  {
   "cell_type": "code",
   "execution_count": null,
   "id": "682ce02d",
   "metadata": {},
   "outputs": [],
   "source": []
  }
 ],
 "metadata": {
  "kernelspec": {
   "display_name": "Python 3",
   "language": "python",
   "name": "python3"
  },
  "language_info": {
   "codemirror_mode": {
    "name": "ipython",
    "version": 3
   },
   "file_extension": ".py",
   "mimetype": "text/x-python",
   "name": "python",
   "nbconvert_exporter": "python",
   "pygments_lexer": "ipython3",
   "version": "3.8.6"
  },
  "toc": {
   "base_numbering": 1,
   "nav_menu": {},
   "number_sections": true,
   "sideBar": true,
   "skip_h1_title": false,
   "title_cell": "Table of Contents",
   "title_sidebar": "Contents",
   "toc_cell": false,
   "toc_position": {},
   "toc_section_display": true,
   "toc_window_display": false
  }
 },
 "nbformat": 4,
 "nbformat_minor": 5
}
