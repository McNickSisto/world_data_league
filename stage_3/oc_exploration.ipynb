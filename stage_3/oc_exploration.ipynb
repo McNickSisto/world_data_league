{
 "cells": [
  {
   "cell_type": "code",
   "execution_count": 19,
   "id": "72be8a5c",
   "metadata": {},
   "outputs": [],
   "source": [
    "import pandas as pd \n",
    "import numpy as np\n",
    "import geopandas as gpd\n",
    "import fiona\n",
    "import os"
   ]
  },
  {
   "cell_type": "code",
   "execution_count": 14,
   "id": "cbf796e0",
   "metadata": {},
   "outputs": [],
   "source": [
    "# df = pd.read_csv('data/bike_loans/bike_loans.csv', sep= ';')"
   ]
  },
  {
   "cell_type": "code",
   "execution_count": 23,
   "id": "196ce408",
   "metadata": {},
   "outputs": [],
   "source": [
    "gpd.io.file.fiona.drvsupport.supported_drivers['KML'] = 'rw'\n",
    "bus_routes_AMVA = gpd.GeoDataFrame()\n",
    "for root, dirs, files in os.walk('data/bus_routes/medellin_bus_routes/Kml Ruta AMVA'):\n",
    "    for file in files:\n",
    "        path = os.path.join(root, file)\n",
    "        df = gpd.read_file(path, driver='KML')\n",
    "        bus_routes = gpd.GeoDataFrame(pd.concat([bus_routes, df], ignore_index=True))"
   ]
  },
  {
   "cell_type": "code",
   "execution_count": 30,
   "id": "20ea2c70",
   "metadata": {},
   "outputs": [],
   "source": [
    "gpd.io.file.fiona.drvsupport.supported_drivers['KML'] = 'rw'\n",
    "smm_bus_routes = gpd.GeoDataFrame()\n",
    "for root, dirs, files in os.walk('data/bus_routes/medellin_bus_routes/kml Ruta SMM'):\n",
    "    for file in files:\n",
    "        path = os.path.join(root, file)\n",
    "        df = gpd.read_file(path, driver='KML')\n",
    "        smm_bus_routes = gpd.GeoDataFrame(pd.concat([smm_bus_routes, df], ignore_index=True))"
   ]
  },
  {
   "cell_type": "code",
   "execution_count": 31,
   "id": "0c5a4189",
   "metadata": {},
   "outputs": [
    {
     "data": {
      "text/html": [
       "<div>\n",
       "<style scoped>\n",
       "    .dataframe tbody tr th:only-of-type {\n",
       "        vertical-align: middle;\n",
       "    }\n",
       "\n",
       "    .dataframe tbody tr th {\n",
       "        vertical-align: top;\n",
       "    }\n",
       "\n",
       "    .dataframe thead th {\n",
       "        text-align: right;\n",
       "    }\n",
       "</style>\n",
       "<table border=\"1\" class=\"dataframe\">\n",
       "  <thead>\n",
       "    <tr style=\"text-align: right;\">\n",
       "      <th></th>\n",
       "      <th>Name</th>\n",
       "      <th>Description</th>\n",
       "      <th>geometry</th>\n",
       "    </tr>\n",
       "  </thead>\n",
       "  <tbody>\n",
       "    <tr>\n",
       "      <th>0</th>\n",
       "      <td>111012</td>\n",
       "      <td></td>\n",
       "      <td>LINESTRING Z (-75.58133 6.19411 0.00000, -75.5...</td>\n",
       "    </tr>\n",
       "    <tr>\n",
       "      <th>1</th>\n",
       "      <td>Est. Aguacatala - Taxis</td>\n",
       "      <td></td>\n",
       "      <td>POINT Z (-75.58086 6.19458 0.00000)</td>\n",
       "    </tr>\n",
       "    <tr>\n",
       "      <th>2</th>\n",
       "      <td>52868</td>\n",
       "      <td></td>\n",
       "      <td>POINT Z (-75.57354 6.19467 0.00000)</td>\n",
       "    </tr>\n",
       "    <tr>\n",
       "      <th>3</th>\n",
       "      <td>52975</td>\n",
       "      <td></td>\n",
       "      <td>POINT Z (-75.57221 6.19374 0.00000)</td>\n",
       "    </tr>\n",
       "    <tr>\n",
       "      <th>4</th>\n",
       "      <td>53110</td>\n",
       "      <td></td>\n",
       "      <td>POINT Z (-75.57043 6.19281 0.00000)</td>\n",
       "    </tr>\n",
       "    <tr>\n",
       "      <th>...</th>\n",
       "      <td>...</td>\n",
       "      <td>...</td>\n",
       "      <td>...</td>\n",
       "    </tr>\n",
       "    <tr>\n",
       "      <th>11292</th>\n",
       "      <td>50993</td>\n",
       "      <td></td>\n",
       "      <td>POINT Z (-75.61028 6.27845 0.00000)</td>\n",
       "    </tr>\n",
       "    <tr>\n",
       "      <th>11293</th>\n",
       "      <td>50847</td>\n",
       "      <td></td>\n",
       "      <td>POINT Z (-75.61445 6.27758 0.00000)</td>\n",
       "    </tr>\n",
       "    <tr>\n",
       "      <th>11294</th>\n",
       "      <td>50780</td>\n",
       "      <td></td>\n",
       "      <td>POINT Z (-75.61695 6.27766 0.00000)</td>\n",
       "    </tr>\n",
       "    <tr>\n",
       "      <th>11295</th>\n",
       "      <td>50758</td>\n",
       "      <td></td>\n",
       "      <td>POINT Z (-75.61808 6.27561 0.00000)</td>\n",
       "    </tr>\n",
       "    <tr>\n",
       "      <th>11296</th>\n",
       "      <td>50791</td>\n",
       "      <td></td>\n",
       "      <td>POINT Z (-75.61672 6.27485 0.00000)</td>\n",
       "    </tr>\n",
       "  </tbody>\n",
       "</table>\n",
       "<p>11297 rows × 3 columns</p>\n",
       "</div>"
      ],
      "text/plain": [
       "                          Name Description  \\\n",
       "0                       111012               \n",
       "1      Est. Aguacatala - Taxis               \n",
       "2                        52868               \n",
       "3                        52975               \n",
       "4                        53110               \n",
       "...                        ...         ...   \n",
       "11292                    50993               \n",
       "11293                    50847               \n",
       "11294                    50780               \n",
       "11295                    50758               \n",
       "11296                    50791               \n",
       "\n",
       "                                                geometry  \n",
       "0      LINESTRING Z (-75.58133 6.19411 0.00000, -75.5...  \n",
       "1                    POINT Z (-75.58086 6.19458 0.00000)  \n",
       "2                    POINT Z (-75.57354 6.19467 0.00000)  \n",
       "3                    POINT Z (-75.57221 6.19374 0.00000)  \n",
       "4                    POINT Z (-75.57043 6.19281 0.00000)  \n",
       "...                                                  ...  \n",
       "11292                POINT Z (-75.61028 6.27845 0.00000)  \n",
       "11293                POINT Z (-75.61445 6.27758 0.00000)  \n",
       "11294                POINT Z (-75.61695 6.27766 0.00000)  \n",
       "11295                POINT Z (-75.61808 6.27561 0.00000)  \n",
       "11296                POINT Z (-75.61672 6.27485 0.00000)  \n",
       "\n",
       "[11297 rows x 3 columns]"
      ]
     },
     "execution_count": 31,
     "metadata": {},
     "output_type": "execute_result"
    }
   ],
   "source": [
    "smm_bus_routes"
   ]
  },
  {
   "cell_type": "code",
   "execution_count": 32,
   "id": "7f7a94bd",
   "metadata": {},
   "outputs": [],
   "source": [
    "import zipfile\n",
    "#import glob\n",
    "from xml.dom import minidom\n",
    "fname = 'data/medellin_metro/medellin_metro_stations'\n",
    "def kmz_to_kml(fname):\n",
    "    \"\"\"save kmz to kml\"\"\"\n",
    "    zf = zipfile.ZipFile(fname,'r')\n",
    "    for fn in zf.namelist():\n",
    "        if fn.endswith('.kml'):\n",
    "            content = zf.read(fn)\n",
    "            xmldoc = minidom.parseString(content)\n",
    "            out_name = (fname.replace(\".kmz\",\".kml\")).replace(\"\\\\\",\"/\")\n",
    "            out = open(out_name,'w')\n",
    "            out.writelines(xmldoc.toxml())\n",
    "            out.close()\n",
    "        else:\n",
    "            print(\"no kml file\")"
   ]
  },
  {
   "cell_type": "code",
   "execution_count": 38,
   "id": "353c8475",
   "metadata": {},
   "outputs": [],
   "source": [
    "# from zipfile import ZipFile\n",
    "\n",
    "# filename = 'data/medellin_metro/medellin_metro_stations/LinesCable.kmz'\n",
    "\n",
    "# kmz = ZipFile(filename, 'r')\n",
    "# kml = kmz.open('doc.kml', 'r')\n"
   ]
  },
  {
   "cell_type": "code",
   "execution_count": 40,
   "id": "c81366af",
   "metadata": {},
   "outputs": [
    {
     "data": {
      "text/plain": [
       "<zipfile.ZipExtFile name='doc.kml' mode='r' compress_type=deflate>"
      ]
     },
     "execution_count": 40,
     "metadata": {},
     "output_type": "execute_result"
    }
   ],
   "source": [
    "file_kml = 'data/medellin_metro/medellin_metro_stations/LinesCable.kml'"
   ]
  },
  {
   "cell_type": "code",
   "execution_count": 41,
   "id": "e9a03ff4",
   "metadata": {},
   "outputs": [
    {
     "ename": "NameError",
     "evalue": "name 'file_kml' is not defined",
     "output_type": "error",
     "traceback": [
      "\u001b[0;31m---------------------------------------------------------------------------\u001b[0m",
      "\u001b[0;31mNameError\u001b[0m                                 Traceback (most recent call last)",
      "\u001b[0;32m<ipython-input-41-a07b44c7b99a>\u001b[0m in \u001b[0;36m<module>\u001b[0;34m\u001b[0m\n\u001b[0;32m----> 1\u001b[0;31m \u001b[0mdf\u001b[0m \u001b[0;34m=\u001b[0m \u001b[0mgpd\u001b[0m\u001b[0;34m.\u001b[0m\u001b[0mread_file\u001b[0m\u001b[0;34m(\u001b[0m\u001b[0mfile_kml\u001b[0m\u001b[0;34m,\u001b[0m \u001b[0mdriver\u001b[0m\u001b[0;34m=\u001b[0m\u001b[0;34m'KML'\u001b[0m\u001b[0;34m)\u001b[0m\u001b[0;34m\u001b[0m\u001b[0;34m\u001b[0m\u001b[0m\n\u001b[0m",
      "\u001b[0;31mNameError\u001b[0m: name 'file_kml' is not defined"
     ]
    }
   ],
   "source": [
    "df = gpd.read_file(file_kml, driver='KML')"
   ]
  },
  {
   "cell_type": "code",
   "execution_count": null,
   "id": "76cdcccf",
   "metadata": {},
   "outputs": [],
   "source": []
  }
 ],
 "metadata": {
  "kernelspec": {
   "display_name": "Python 3",
   "language": "python",
   "name": "python3"
  },
  "language_info": {
   "codemirror_mode": {
    "name": "ipython",
    "version": 3
   },
   "file_extension": ".py",
   "mimetype": "text/x-python",
   "name": "python",
   "nbconvert_exporter": "python",
   "pygments_lexer": "ipython3",
   "version": "3.8.6"
  },
  "toc": {
   "base_numbering": 1,
   "nav_menu": {},
   "number_sections": true,
   "sideBar": true,
   "skip_h1_title": false,
   "title_cell": "Table of Contents",
   "title_sidebar": "Contents",
   "toc_cell": false,
   "toc_position": {},
   "toc_section_display": true,
   "toc_window_display": false
  }
 },
 "nbformat": 4,
 "nbformat_minor": 5
}
