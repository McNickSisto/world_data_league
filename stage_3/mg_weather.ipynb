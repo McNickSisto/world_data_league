{
 "cells": [
  {
   "cell_type": "markdown",
   "id": "37ab95a8",
   "metadata": {},
   "source": [
    "# Imports"
   ]
  },
  {
   "cell_type": "code",
   "execution_count": 19,
   "id": "887016f0",
   "metadata": {
    "ExecuteTime": {
     "end_time": "2021-05-15T08:03:26.013514Z",
     "start_time": "2021-05-15T08:03:26.006298Z"
    }
   },
   "outputs": [],
   "source": [
    "import geopandas as gpd\n",
    "import pandas as pd\n",
    "import fiona\n",
    "import os\n",
    "import matplotlib.pyplot as plt\n",
    "import folium\n",
    "from zipfile import ZipFile\n",
    "import seaborn as sns\n",
    "import numpy as np\n",
    "import datetime as dt\n",
    "from collections import Counter\n",
    "from dotenv import load_dotenv, find_dotenv\n",
    "from urllib.parse import urljoin\n",
    "import requests\n",
    "from io import StringIO, BytesIO\n",
    "import datetime as dt\n",
    "import json"
   ]
  },
  {
   "cell_type": "markdown",
   "id": "1dc2a04d",
   "metadata": {},
   "source": [
    "# Data"
   ]
  },
  {
   "cell_type": "code",
   "execution_count": 6,
   "id": "3831c9ca",
   "metadata": {
    "ExecuteTime": {
     "end_time": "2021-05-15T07:59:11.413798Z",
     "start_time": "2021-05-15T07:58:43.236517Z"
    }
   },
   "outputs": [
    {
     "data": {
      "text/plain": [
       "(11764276, 13)"
      ]
     },
     "execution_count": 6,
     "metadata": {},
     "output_type": "execute_result"
    }
   ],
   "source": [
    "bike_df_all = pd.read_csv('data/bike_loans/bike_loans.csv', sep=';')#.drop(columns=['Importe', \n",
    "                                                              #        'DescripcionImporte', \n",
    "                                                              #      'operario'])\n",
    "bike_df_all['Fecha_Prestamo'] = bike_df_all['Fecha_Prestamo'].astype('datetime64[ns]')\n",
    "bike_df_all['Fecha_Devolucion'] = bike_df_all['Fecha_Devolucion'].astype('datetime64[ns]')\n",
    "\n",
    "bike_df_all.dtypes\n",
    "# bike_df_all = bike_df_all.dropna()\n",
    "bike_df = bike_df_all[bike_df_all.Fecha_Devolucion <= '31/12/2019']\n",
    "bike_df.shape"
   ]
  },
  {
   "cell_type": "code",
   "execution_count": null,
   "id": "eb38c94c",
   "metadata": {},
   "outputs": [],
   "source": [
    "unique_stations = pd.read_csv('data/station_location_with_id.csv', sep=';').drop(columns=['photo', 'webDescription'])\n"
   ]
  },
  {
   "cell_type": "code",
   "execution_count": 7,
   "id": "e2dc8acb",
   "metadata": {
    "ExecuteTime": {
     "end_time": "2021-05-15T07:59:11.420719Z",
     "start_time": "2021-05-15T07:59:11.416597Z"
    }
   },
   "outputs": [],
   "source": [
    "# bike_df.operario.unique()"
   ]
  },
  {
   "cell_type": "code",
   "execution_count": 8,
   "id": "788ed85f",
   "metadata": {
    "ExecuteTime": {
     "end_time": "2021-05-15T07:59:11.431453Z",
     "start_time": "2021-05-15T07:59:11.423410Z"
    }
   },
   "outputs": [
    {
     "data": {
      "text/plain": [
       "Id_Historico_Prestamo               int64\n",
       "Id_Usuario                          int64\n",
       "Id_Tag_Bicicleta                   object\n",
       "Fecha_Prestamo             datetime64[ns]\n",
       "Fecha_Devolucion           datetime64[ns]\n",
       "Id_Aparcamiento_Origen              int64\n",
       "Posicion_Origen                     int64\n",
       "Id_Aparcamiento_Destino           float64\n",
       "Posicion_Destino                  float64\n",
       "Importe                           float64\n",
       "DescripcionImporte                float64\n",
       "operario                           object\n",
       "Num_Bici_Hist                     float64\n",
       "dtype: object"
      ]
     },
     "execution_count": 8,
     "metadata": {},
     "output_type": "execute_result"
    }
   ],
   "source": [
    "bike_df.dtypes"
   ]
  },
  {
   "cell_type": "markdown",
   "id": "135725a7",
   "metadata": {},
   "source": [
    "# Weather"
   ]
  },
  {
   "cell_type": "code",
   "execution_count": 9,
   "id": "705ee827",
   "metadata": {
    "ExecuteTime": {
     "end_time": "2021-05-15T07:59:11.437993Z",
     "start_time": "2021-05-15T07:59:11.432908Z"
    }
   },
   "outputs": [],
   "source": [
    "# API KEY\n",
    "load_dotenv(find_dotenv())\n",
    "OWM_API = os.environ.get(\"OWM_API\")"
   ]
  },
  {
   "cell_type": "code",
   "execution_count": 16,
   "id": "fa282e55",
   "metadata": {
    "ExecuteTime": {
     "end_time": "2021-05-15T08:02:23.116893Z",
     "start_time": "2021-05-15T08:02:23.107029Z"
    }
   },
   "outputs": [
    {
     "data": {
      "text/plain": [
       "8732   2019-12-30 20:00:00\n",
       "8733   2019-12-30 21:00:00\n",
       "8734   2019-12-30 22:00:00\n",
       "8735   2019-12-30 23:00:00\n",
       "8736   2019-12-31 00:00:00\n",
       "Name: hour, dtype: datetime64[ns]"
      ]
     },
     "execution_count": 16,
     "metadata": {},
     "output_type": "execute_result"
    }
   ],
   "source": [
    "## change data!\n",
    "range_2019 = pd.DataFrame(pd.date_range('2019-01-01', '2019-12-31', freq='h'), columns=['hour'])\n",
    "range_2019.tail().hour"
   ]
  },
  {
   "cell_type": "code",
   "execution_count": 11,
   "id": "4fdf0cba",
   "metadata": {
    "ExecuteTime": {
     "end_time": "2021-05-15T07:59:11.449235Z",
     "start_time": "2021-05-15T07:59:11.445707Z"
    }
   },
   "outputs": [
    {
     "data": {
      "text/plain": [
       "Timestamp('2021-05-01 00:00:00')"
      ]
     },
     "execution_count": 11,
     "metadata": {},
     "output_type": "execute_result"
    }
   ],
   "source": [
    "tail = range_2019.tail().hour\n",
    "tail.max()"
   ]
  },
  {
   "cell_type": "code",
   "execution_count": 153,
   "id": "87e75fc7",
   "metadata": {
    "ExecuteTime": {
     "end_time": "2021-05-15T12:07:45.785042Z",
     "start_time": "2021-05-15T12:07:42.973977Z"
    }
   },
   "outputs": [],
   "source": [
    "req = 'http://history.openweathermap.org/data/2.5/history/wdl'\n",
    "start = range_2019.hour.min().value\n",
    "inter = range_2019.hour[50].value\n",
    "end = range_2019.hour.max().value\n",
    "# tail1 = tail.min().value\n",
    "# tail2 = tail.max().value\n",
    "params = {\n",
    "    'id':'3674962', # ID of medellin\n",
    "    'type':'hour',\n",
    "    'start':str(start)[:10], # unix time\n",
    "    'end':str(end)[:10],\n",
    "    'appid': OWM_API\n",
    "}\n",
    "\n",
    "r = requests.get(req, params=params)\n",
    "\n",
    "\n",
    "# with open('data/weather.txt', 'w') as outfile:\n",
    "#     json.dump(r.json(), outfile)\n",
    "    \n",
    "weather = r.json()\n",
    "lst = weather.get('list')\n",
    "dct = {x.get('dt'):x.get('weather')[0].get('main') for x in lst}\n",
    "weather_df = pd.DataFrame.from_dict(dct, \n",
    "                                    orient='index', \n",
    "                                    columns=['weather']).reset_index().rename(columns={'index':'time'})\n",
    "weather_df['rain'] = weather_df.weather == 'Rain'\n",
    "\n",
    "weather_df.to_csv('data/weather.csv')"
   ]
  },
  {
   "cell_type": "code",
   "execution_count": 67,
   "id": "2e9b35a0",
   "metadata": {
    "ExecuteTime": {
     "end_time": "2021-05-15T08:41:53.079309Z",
     "start_time": "2021-05-15T08:41:52.985989Z"
    }
   },
   "outputs": [],
   "source": []
  },
  {
   "cell_type": "code",
   "execution_count": 69,
   "id": "f3d67c4d",
   "metadata": {
    "ExecuteTime": {
     "end_time": "2021-05-15T08:42:15.591408Z",
     "start_time": "2021-05-15T08:42:15.577078Z"
    }
   },
   "outputs": [
    {
     "data": {
      "text/html": [
       "<div>\n",
       "<style scoped>\n",
       "    .dataframe tbody tr th:only-of-type {\n",
       "        vertical-align: middle;\n",
       "    }\n",
       "\n",
       "    .dataframe tbody tr th {\n",
       "        vertical-align: top;\n",
       "    }\n",
       "\n",
       "    .dataframe thead th {\n",
       "        text-align: right;\n",
       "    }\n",
       "</style>\n",
       "<table border=\"1\" class=\"dataframe\">\n",
       "  <thead>\n",
       "    <tr style=\"text-align: right;\">\n",
       "      <th></th>\n",
       "      <th>time</th>\n",
       "      <th>weather</th>\n",
       "      <th>rain</th>\n",
       "    </tr>\n",
       "  </thead>\n",
       "  <tbody>\n",
       "    <tr>\n",
       "      <th>0</th>\n",
       "      <td>2019-01-01 01:00:00</td>\n",
       "      <td>Clouds</td>\n",
       "      <td>False</td>\n",
       "    </tr>\n",
       "    <tr>\n",
       "      <th>1</th>\n",
       "      <td>2019-01-01 02:00:00</td>\n",
       "      <td>Clouds</td>\n",
       "      <td>False</td>\n",
       "    </tr>\n",
       "    <tr>\n",
       "      <th>2</th>\n",
       "      <td>2019-01-01 03:00:00</td>\n",
       "      <td>Clouds</td>\n",
       "      <td>False</td>\n",
       "    </tr>\n",
       "    <tr>\n",
       "      <th>3</th>\n",
       "      <td>2019-01-01 04:00:00</td>\n",
       "      <td>Clouds</td>\n",
       "      <td>False</td>\n",
       "    </tr>\n",
       "    <tr>\n",
       "      <th>4</th>\n",
       "      <td>2019-01-01 05:00:00</td>\n",
       "      <td>Clouds</td>\n",
       "      <td>False</td>\n",
       "    </tr>\n",
       "  </tbody>\n",
       "</table>\n",
       "</div>"
      ],
      "text/plain": [
       "                 time weather   rain\n",
       "0 2019-01-01 01:00:00  Clouds  False\n",
       "1 2019-01-01 02:00:00  Clouds  False\n",
       "2 2019-01-01 03:00:00  Clouds  False\n",
       "3 2019-01-01 04:00:00  Clouds  False\n",
       "4 2019-01-01 05:00:00  Clouds  False"
      ]
     },
     "execution_count": 69,
     "metadata": {},
     "output_type": "execute_result"
    }
   ],
   "source": [
    "weather_df.head()"
   ]
  },
  {
   "cell_type": "markdown",
   "id": "3495e98e",
   "metadata": {},
   "source": [
    "# analyse"
   ]
  },
  {
   "cell_type": "code",
   "execution_count": 77,
   "id": "c9bcb145",
   "metadata": {
    "ExecuteTime": {
     "end_time": "2021-05-15T08:47:41.426463Z",
     "start_time": "2021-05-15T08:47:40.787792Z"
    }
   },
   "outputs": [],
   "source": [
    "bikes_19 = bike_df_all[bike_df_all.Fecha_Devolucion.dt.year == 2019].reset_index()"
   ]
  },
  {
   "cell_type": "code",
   "execution_count": null,
   "id": "41011f18",
   "metadata": {},
   "outputs": [],
   "source": []
  },
  {
   "cell_type": "code",
   "execution_count": 78,
   "id": "573aecc6",
   "metadata": {
    "ExecuteTime": {
     "end_time": "2021-05-15T08:48:04.505884Z",
     "start_time": "2021-05-15T08:47:41.427628Z"
    }
   },
   "outputs": [],
   "source": [
    "# assign df a individual hour of the year per row\n",
    "# ~30secs\n",
    "def get_hr(x):\n",
    "    time = x\n",
    "    hour = dt.datetime(time.year, time.month,time.day,time.hour)\n",
    "    return hour\n",
    "    \n",
    "bikes_19.loc[:,'hour_dropoff'] = bikes_19.Fecha_Devolucion.apply(get_hr) # get hr of dropoff\n",
    "bikes_19.loc[:,'hour_pickup'] = bikes_19.Fecha_Prestamo.apply(get_hr) # get hr of pickup"
   ]
  },
  {
   "cell_type": "code",
   "execution_count": 79,
   "id": "c27f53b2",
   "metadata": {
    "ExecuteTime": {
     "end_time": "2021-05-15T08:48:06.252221Z",
     "start_time": "2021-05-15T08:48:04.507313Z"
    }
   },
   "outputs": [],
   "source": [
    "# make sure df is sorted chronologically\n",
    "bikes_19 = bikes_19.sort_values(by='Fecha_Devolucion')\n",
    "\n",
    "# list all the appearing bikes and stations per individual hour of the year\n",
    "bikes_19_drops = bikes_19.copy().groupby('hour_dropoff').agg({'Id_Aparcamiento_Destino':lambda x: list(x)}) # list only the stations which had interaction moved\n",
    "bikes_19_picks = bikes_19.copy().groupby('hour_pickup').agg({'Id_Aparcamiento_Origen':lambda x: list(x)})\n",
    "bikes_19_agg = bikes_19_drops.join(bikes_19_picks) # merge on the matching hour (some bikes are picked up in a different hour)\n",
    "idx = bikes_19_agg.Id_Aparcamiento_Origen != bikes_19_agg.Id_Aparcamiento_Origen\n",
    "bikes_19_agg.loc[idx, 'Id_Aparcamiento_Origen'] = [{-99:0} for i in idx if i] # pad hours with no pickup. .fillna() doesnt work (lists are recognized as NaN)\n",
    "\n",
    "# compute the init state of all bikes prior to 2019 to get a starting balance of bikes\n",
    "# we assume that the bike in its last position wasn't 'touched', thus remained in the station until the 02.01.2019\n",
    "bikes_pre = bikes_pre.sort_values(by='Fecha_Devolucion', ascending=False) # walk backwards through df to find 'last' position of each bike\n",
    "stations_init_df = bikes_pre.groupby('Id_Tag_Bicicleta').agg({'Id_Aparcamiento_Destino':'first'}) # first means last in this case\n",
    "\n",
    "# count the bikes at the stations\n",
    "stations_init_pre = Counter({i:0 for i in unique_stations.ID}) # pad the non appearing ones from the stations df\n",
    "stations_init_pre.update(Counter(dict(stations_init_df.Id_Aparcamiento_Destino.value_counts()))) # fill up the stations"
   ]
  },
  {
   "cell_type": "code",
   "execution_count": 80,
   "id": "b77fbe56",
   "metadata": {
    "ExecuteTime": {
     "end_time": "2021-05-15T08:48:07.007129Z",
     "start_time": "2021-05-15T08:48:06.253569Z"
    }
   },
   "outputs": [],
   "source": [
    "# Only run once, the .update method will always add +1 bike per iteration\n",
    "# reset bikes_19_drops otherwise\n",
    "bikes_19_agg['drops'] = None\n",
    "bikes_19_agg['picks'] = None\n",
    "bikes_19_agg['station_count'] = None\n",
    "\n",
    "for c, row in bikes_19_agg.iterrows():\n",
    "#     print(c)\n",
    "    drops = Counter(row.Id_Aparcamiento_Destino) # count all dropoffs per hour\n",
    "    picks = Counter(row.Id_Aparcamiento_Origen) # count all pickups per hour\n",
    "#     stations_init_pre.update(drops) # add dropped bikes\n",
    "#     stations_init_pre.subtract(picks) # subtract picked up bikes\n",
    "#     bikes_19_agg.at[c, 'station_count'] = dict(stations_init_pre)\n",
    "    bikes_19_agg.at[c, 'drops'] = dict(drops)\n",
    "    bikes_19_agg.at[c, 'picks'] = dict(picks)\n",
    "    \n",
    "# move hour to columns and only leave the dict\n",
    "bikes_19_agg = bikes_19_agg.reset_index()[['hour_dropoff', 'drops', 'picks', 'station_count']]"
   ]
  },
  {
   "cell_type": "code",
   "execution_count": 85,
   "id": "78c30402",
   "metadata": {
    "ExecuteTime": {
     "end_time": "2021-05-15T08:49:03.620799Z",
     "start_time": "2021-05-15T08:49:03.617761Z"
    }
   },
   "outputs": [],
   "source": [
    "# bikes_19_agg"
   ]
  },
  {
   "cell_type": "code",
   "execution_count": 83,
   "id": "8cd7a0b3",
   "metadata": {
    "ExecuteTime": {
     "end_time": "2021-05-15T08:48:58.711987Z",
     "start_time": "2021-05-15T08:48:58.695052Z"
    }
   },
   "outputs": [],
   "source": [
    "# pad the df with all hours of 2019\n",
    "range_2019 = pd.DataFrame(pd.date_range('2019-01-02', '2019-12-31', freq='h'), columns=['hour'])\n",
    "bikes_19_pad = range_2019.merge(bikes_19_agg, left_on='hour', right_on='hour_dropoff', how='left').drop(columns='hour_dropoff')\n"
   ]
  },
  {
   "cell_type": "code",
   "execution_count": 84,
   "id": "c709c2ff",
   "metadata": {
    "ExecuteTime": {
     "end_time": "2021-05-15T08:49:00.078688Z",
     "start_time": "2021-05-15T08:49:00.048795Z"
    },
    "scrolled": false
   },
   "outputs": [
    {
     "data": {
      "text/html": [
       "<div>\n",
       "<style scoped>\n",
       "    .dataframe tbody tr th:only-of-type {\n",
       "        vertical-align: middle;\n",
       "    }\n",
       "\n",
       "    .dataframe tbody tr th {\n",
       "        vertical-align: top;\n",
       "    }\n",
       "\n",
       "    .dataframe thead th {\n",
       "        text-align: right;\n",
       "    }\n",
       "</style>\n",
       "<table border=\"1\" class=\"dataframe\">\n",
       "  <thead>\n",
       "    <tr style=\"text-align: right;\">\n",
       "      <th></th>\n",
       "      <th>hour</th>\n",
       "      <th>drops</th>\n",
       "      <th>picks</th>\n",
       "    </tr>\n",
       "  </thead>\n",
       "  <tbody>\n",
       "    <tr>\n",
       "      <th>0</th>\n",
       "      <td>2019-01-02 00:00:00</td>\n",
       "      <td>NaN</td>\n",
       "      <td>NaN</td>\n",
       "    </tr>\n",
       "    <tr>\n",
       "      <th>1</th>\n",
       "      <td>2019-01-02 01:00:00</td>\n",
       "      <td>NaN</td>\n",
       "      <td>NaN</td>\n",
       "    </tr>\n",
       "    <tr>\n",
       "      <th>2</th>\n",
       "      <td>2019-01-02 02:00:00</td>\n",
       "      <td>NaN</td>\n",
       "      <td>NaN</td>\n",
       "    </tr>\n",
       "    <tr>\n",
       "      <th>3</th>\n",
       "      <td>2019-01-02 03:00:00</td>\n",
       "      <td>NaN</td>\n",
       "      <td>NaN</td>\n",
       "    </tr>\n",
       "    <tr>\n",
       "      <th>4</th>\n",
       "      <td>2019-01-02 04:00:00</td>\n",
       "      <td>NaN</td>\n",
       "      <td>NaN</td>\n",
       "    </tr>\n",
       "    <tr>\n",
       "      <th>...</th>\n",
       "      <td>...</td>\n",
       "      <td>...</td>\n",
       "      <td>...</td>\n",
       "    </tr>\n",
       "    <tr>\n",
       "      <th>8708</th>\n",
       "      <td>2019-12-30 20:00:00</td>\n",
       "      <td>{64.0: 5, 7.0: 11, 99.0: 4, 36.0: 3, 12.0: 18,...</td>\n",
       "      <td>{12: 2, 2: 6, 24: 3, 28: 1, 39: 5, 45: 2, 97: ...</td>\n",
       "    </tr>\n",
       "    <tr>\n",
       "      <th>8709</th>\n",
       "      <td>2019-12-30 21:00:00</td>\n",
       "      <td>{89.0: 2, 21.0: 1, 1.0: 11, 50.0: 6, 11.0: 3, ...</td>\n",
       "      <td>{5: 1, 10: 1, 28: 1, 54: 1}</td>\n",
       "    </tr>\n",
       "    <tr>\n",
       "      <th>8710</th>\n",
       "      <td>2019-12-30 22:00:00</td>\n",
       "      <td>{7.0: 6, 36.0: 1, 56.0: 1, 3.0: 1, 97.0: 1, 10...</td>\n",
       "      <td>{54: 1, 8: 1, 6: 1, 50: 1}</td>\n",
       "    </tr>\n",
       "    <tr>\n",
       "      <th>8711</th>\n",
       "      <td>2019-12-30 23:00:00</td>\n",
       "      <td>{101.0: 2, 44.0: 2, 95.0: 1, 21.0: 1, 20.0: 1,...</td>\n",
       "      <td>{-99: 0}</td>\n",
       "    </tr>\n",
       "    <tr>\n",
       "      <th>8712</th>\n",
       "      <td>2019-12-31 00:00:00</td>\n",
       "      <td>NaN</td>\n",
       "      <td>NaN</td>\n",
       "    </tr>\n",
       "  </tbody>\n",
       "</table>\n",
       "<p>8713 rows × 3 columns</p>\n",
       "</div>"
      ],
      "text/plain": [
       "                    hour                                              drops  \\\n",
       "0    2019-01-02 00:00:00                                                NaN   \n",
       "1    2019-01-02 01:00:00                                                NaN   \n",
       "2    2019-01-02 02:00:00                                                NaN   \n",
       "3    2019-01-02 03:00:00                                                NaN   \n",
       "4    2019-01-02 04:00:00                                                NaN   \n",
       "...                  ...                                                ...   \n",
       "8708 2019-12-30 20:00:00  {64.0: 5, 7.0: 11, 99.0: 4, 36.0: 3, 12.0: 18,...   \n",
       "8709 2019-12-30 21:00:00  {89.0: 2, 21.0: 1, 1.0: 11, 50.0: 6, 11.0: 3, ...   \n",
       "8710 2019-12-30 22:00:00  {7.0: 6, 36.0: 1, 56.0: 1, 3.0: 1, 97.0: 1, 10...   \n",
       "8711 2019-12-30 23:00:00  {101.0: 2, 44.0: 2, 95.0: 1, 21.0: 1, 20.0: 1,...   \n",
       "8712 2019-12-31 00:00:00                                                NaN   \n",
       "\n",
       "                                                  picks  \n",
       "0                                                   NaN  \n",
       "1                                                   NaN  \n",
       "2                                                   NaN  \n",
       "3                                                   NaN  \n",
       "4                                                   NaN  \n",
       "...                                                 ...  \n",
       "8708  {12: 2, 2: 6, 24: 3, 28: 1, 39: 5, 45: 2, 97: ...  \n",
       "8709                        {5: 1, 10: 1, 28: 1, 54: 1}  \n",
       "8710                         {54: 1, 8: 1, 6: 1, 50: 1}  \n",
       "8711                                           {-99: 0}  \n",
       "8712                                                NaN  \n",
       "\n",
       "[8713 rows x 3 columns]"
      ]
     },
     "execution_count": 84,
     "metadata": {},
     "output_type": "execute_result"
    }
   ],
   "source": [
    "bikes_19_pad"
   ]
  },
  {
   "cell_type": "code",
   "execution_count": null,
   "id": "019a216e",
   "metadata": {},
   "outputs": [],
   "source": [
    "# create picks df\n",
    "picks_dict = dict(bikes_19_pad.picks)\n",
    "picks_df = pd.DataFrame(picks_dict).T"
   ]
  },
  {
   "cell_type": "code",
   "execution_count": 151,
   "id": "79ebe288",
   "metadata": {
    "ExecuteTime": {
     "end_time": "2021-05-15T10:43:40.658960Z",
     "start_time": "2021-05-15T10:43:40.656158Z"
    }
   },
   "outputs": [],
   "source": [
    "# picks_df"
   ]
  },
  {
   "cell_type": "markdown",
   "id": "b9b59e21",
   "metadata": {},
   "source": [
    "# Put to notebook"
   ]
  },
  {
   "cell_type": "code",
   "execution_count": 99,
   "id": "4972609a",
   "metadata": {
    "ExecuteTime": {
     "end_time": "2021-05-15T08:52:35.228762Z",
     "start_time": "2021-05-15T08:52:35.211789Z"
    }
   },
   "outputs": [],
   "source": [
    "bikes_19_pad = bikes_19_pad.merge(weather_df[['time', 'rain']], left_on='hour', right_on='time').drop(columns='time')\n"
   ]
  },
  {
   "cell_type": "code",
   "execution_count": 103,
   "id": "013f99ea",
   "metadata": {
    "ExecuteTime": {
     "end_time": "2021-05-15T08:54:27.560002Z",
     "start_time": "2021-05-15T08:54:27.134238Z"
    }
   },
   "outputs": [],
   "source": [
    "\n",
    "# copy only this\n",
    "picks_df['hour'] = bikes_19_pad.hour.dt.hour\n",
    "picks_df['rain'] = bikes_19_pad.rain\n"
   ]
  },
  {
   "cell_type": "code",
   "execution_count": 139,
   "id": "10822a6e",
   "metadata": {
    "ExecuteTime": {
     "end_time": "2021-05-15T09:17:08.935116Z",
     "start_time": "2021-05-15T09:17:08.929083Z"
    }
   },
   "outputs": [],
   "source": [
    "# plot the 4 most important stations\n",
    "include = [8, 66, 7, 89, 'hour', 'rain']\n",
    "picks_df = picks_df.loc[:,include]"
   ]
  },
  {
   "cell_type": "code",
   "execution_count": 144,
   "id": "4922ad9f",
   "metadata": {
    "ExecuteTime": {
     "end_time": "2021-05-15T09:21:51.910930Z",
     "start_time": "2021-05-15T09:21:51.657627Z"
    }
   },
   "outputs": [
    {
     "data": {
      "image/png": "[encoded data removed]",
      "text/plain": [
       "<Figure size 1080x576 with 1 Axes>"
      ]
     },
     "metadata": {
      "needs_background": "light"
     },
     "output_type": "display_data"
    },
    {
     "name": "stdout",
     "output_type": "stream",
     "text": [
      "Station 89 (Málaga) behaves unusual at 17h. There are more rentals with rain than without.\n"
     ]
    }
   ],
   "source": [
    "rain_picks = picks_df.groupby(['rain', 'hour']).mean().loc[True,:]\n",
    "nrain_picks = picks_df.groupby(['rain', 'hour']).mean().loc[False,:]\n",
    "clrs = ['g', 'b', 'r', 'c']\n",
    "plt.figure(figsize=(15,8))\n",
    "sns.lineplot(data=nrain_picks, dashes=False, palette=clrs)\n",
    "sns.lineplot(data=rain_picks, dashes=True, palette=clrs)\n",
    "plt.title('Rental behavior with weather')\n",
    "plt.ylabel('Avg. pick-ups per hour')\n",
    "plt.show()\n",
    "print(f'Station 89 ({unique_stations[unique_stations.ID == 89][\"Description\"].values[0]}) behaves unusual at 17h. There are more rentals with rain than without.')"
   ]
  },
  {
   "cell_type": "code",
   "execution_count": null,
   "id": "b5fd1294",
   "metadata": {},
   "outputs": [],
   "source": []
  }
 ],
 "metadata": {
  "kernelspec": {
   "display_name": "Python 3",
   "language": "python",
   "name": "python3"
  },
  "language_info": {
   "codemirror_mode": {
    "name": "ipython",
    "version": 3
   },
   "file_extension": ".py",
   "mimetype": "text/x-python",
   "name": "python",
   "nbconvert_exporter": "python",
   "pygments_lexer": "ipython3",
   "version": "3.8.6"
  },
  "toc": {
   "base_numbering": 1,
   "nav_menu": {},
   "number_sections": true,
   "sideBar": true,
   "skip_h1_title": false,
   "title_cell": "Table of Contents",
   "title_sidebar": "Contents",
   "toc_cell": false,
   "toc_position": {},
   "toc_section_display": true,
   "toc_window_display": false
  }
 },
 "nbformat": 4,
 "nbformat_minor": 5
}
