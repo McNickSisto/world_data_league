{
 "cells": [
  {
   "cell_type": "markdown",
   "id": "37ab95a8",
   "metadata": {},
   "source": [
    "# Imports"
   ]
  },
  {
   "cell_type": "code",
   "execution_count": 1,
   "id": "887016f0",
   "metadata": {
    "ExecuteTime": {
     "end_time": "2021-05-05T11:34:28.384895Z",
     "start_time": "2021-05-05T11:34:27.075413Z"
    }
   },
   "outputs": [],
   "source": [
    "import geopandas as gpd\n",
    "import pandas as pd\n",
    "import fiona\n",
    "import os\n",
    "import matplotlib.pyplot as plt\n",
    "import folium\n",
    "from zipfile import ZipFile\n",
    "import seaborn as sns\n",
    "import numpy as np\n",
    "import datetime as dt\n",
    "from collections import Counter\n",
    "from dotenv import load_dotenv, find_dotenv\n",
    "from urllib.parse import urljoin\n",
    "import requests\n",
    "from io import StringIO, BytesIO"
   ]
  },
  {
   "cell_type": "markdown",
   "id": "1dc2a04d",
   "metadata": {},
   "source": [
    "# Data"
   ]
  },
  {
   "cell_type": "code",
   "execution_count": 2,
   "id": "3831c9ca",
   "metadata": {
    "ExecuteTime": {
     "end_time": "2021-05-05T11:35:00.439689Z",
     "start_time": "2021-05-05T11:34:28.386749Z"
    }
   },
   "outputs": [
    {
     "data": {
      "text/plain": [
       "(10737486, 10)"
      ]
     },
     "execution_count": 2,
     "metadata": {},
     "output_type": "execute_result"
    }
   ],
   "source": [
    "bike_df_all = pd.read_csv('raw_data/bike_loans.csv', sep=';').drop(columns=['Importe', \n",
    "                                                                        'DescripcionImporte', \n",
    "                                                                        'operario'])\n",
    "bike_df_all['Fecha_Prestamo'] = bike_df_all['Fecha_Prestamo'].astype('datetime64[ns]')\n",
    "bike_df_all['Fecha_Devolucion'] = bike_df_all['Fecha_Devolucion'].astype('datetime64[ns]')\n",
    "\n",
    "bike_df_all.dtypes\n",
    "bike_df_all = bike_df_all.dropna()\n",
    "bike_df = bike_df_all[bike_df_all.Fecha_Devolucion <= '31/12/2019']\n",
    "bike_df.shape"
   ]
  },
  {
   "cell_type": "code",
   "execution_count": 3,
   "id": "788ed85f",
   "metadata": {
    "ExecuteTime": {
     "end_time": "2021-05-05T11:35:00.446610Z",
     "start_time": "2021-05-05T11:35:00.441507Z"
    }
   },
   "outputs": [
    {
     "data": {
      "text/plain": [
       "Id_Historico_Prestamo               int64\n",
       "Id_Usuario                          int64\n",
       "Id_Tag_Bicicleta                   object\n",
       "Fecha_Prestamo             datetime64[ns]\n",
       "Fecha_Devolucion           datetime64[ns]\n",
       "Id_Aparcamiento_Origen              int64\n",
       "Posicion_Origen                     int64\n",
       "Id_Aparcamiento_Destino           float64\n",
       "Posicion_Destino                  float64\n",
       "Num_Bici_Hist                     float64\n",
       "dtype: object"
      ]
     },
     "execution_count": 3,
     "metadata": {},
     "output_type": "execute_result"
    }
   ],
   "source": [
    "bike_df.dtypes"
   ]
  },
  {
   "cell_type": "markdown",
   "id": "135725a7",
   "metadata": {},
   "source": [
    "# Weather"
   ]
  },
  {
   "cell_type": "code",
   "execution_count": 30,
   "id": "705ee827",
   "metadata": {
    "ExecuteTime": {
     "end_time": "2021-05-05T11:54:00.783273Z",
     "start_time": "2021-05-05T11:54:00.776892Z"
    }
   },
   "outputs": [],
   "source": [
    "# API KEY\n",
    "load_dotenv(find_dotenv())\n",
    "OWM_API = os.environ.get(\"OWM_API\")"
   ]
  },
  {
   "cell_type": "code",
   "execution_count": 70,
   "id": "fa282e55",
   "metadata": {
    "ExecuteTime": {
     "end_time": "2021-05-05T12:05:52.001598Z",
     "start_time": "2021-05-05T12:05:51.964836Z"
    }
   },
   "outputs": [
    {
     "data": {
      "text/plain": [
       "1420052442000000000"
      ]
     },
     "execution_count": 70,
     "metadata": {},
     "output_type": "execute_result"
    }
   ],
   "source": [
    "bike_df.Fecha_Prestamo.min().value"
   ]
  },
  {
   "cell_type": "code",
   "execution_count": 29,
   "id": "09d39c46",
   "metadata": {
    "ExecuteTime": {
     "end_time": "2021-05-05T11:53:53.260605Z",
     "start_time": "2021-05-05T11:53:52.812649Z"
    }
   },
   "outputs": [
    {
     "data": {
      "text/plain": [
       "{'code': 404000, 'message': 'no data'}"
      ]
     },
     "execution_count": 29,
     "metadata": {},
     "output_type": "execute_result"
    }
   ],
   "source": [
    "req = f'http://history.openweathermap.org/data/2.5/history/city?q=Munchen,DE&appid={OWM_API}'\n",
    "r = requests.get(req)\n",
    "r.json()"
   ]
  },
  {
   "cell_type": "code",
   "execution_count": 71,
   "id": "888c8c33",
   "metadata": {
    "ExecuteTime": {
     "end_time": "2021-05-05T12:06:00.274469Z",
     "start_time": "2021-05-05T12:06:00.271823Z"
    }
   },
   "outputs": [],
   "source": [
    "# req = f'http://history.openweathermap.org/data/2.5/history/city?id=2885679&type=hour&appid={OWM_API}'\n",
    "# r = requests.get(req)\n",
    "# r.content"
   ]
  },
  {
   "cell_type": "code",
   "execution_count": 72,
   "id": "b351cefb",
   "metadata": {
    "ExecuteTime": {
     "end_time": "2021-05-05T12:06:02.825259Z",
     "start_time": "2021-05-05T12:06:02.822442Z"
    }
   },
   "outputs": [],
   "source": [
    "# r.json()"
   ]
  },
  {
   "cell_type": "code",
   "execution_count": 94,
   "id": "3c23b82d",
   "metadata": {
    "ExecuteTime": {
     "end_time": "2021-05-05T12:13:31.124334Z",
     "start_time": "2021-05-05T12:13:31.086672Z"
    }
   },
   "outputs": [
    {
     "data": {
      "text/plain": [
       "Timestamp('2014-12-31 19:00:42')"
      ]
     },
     "execution_count": 94,
     "metadata": {},
     "output_type": "execute_result"
    }
   ],
   "source": [
    "bike_df.Fecha_Prestamo.min()"
   ]
  },
  {
   "cell_type": "code",
   "execution_count": 92,
   "id": "87e75fc7",
   "metadata": {
    "ExecuteTime": {
     "end_time": "2021-05-05T12:11:30.961315Z",
     "start_time": "2021-05-05T12:11:30.479385Z"
    }
   },
   "outputs": [
    {
     "data": {
      "text/plain": [
       "400"
      ]
     },
     "execution_count": 92,
     "metadata": {},
     "output_type": "execute_result"
    }
   ],
   "source": [
    "req = 'http://history.openweathermap.org/data/2.5/history/city'\n",
    "start = bike_df.Fecha_Prestamo.min().value\n",
    "end = bike_df.Fecha_Devolucion.max().value\n",
    "params = {\n",
    "    'id':'3674962', # ID of medellin\n",
    "    'type':'hour',\n",
    "    'start':str(start)[:10], # unix time\n",
    "    'end':str(end)[:10],\n",
    "    'appid': OWM_API\n",
    "}\n",
    "\n",
    "r = requests.get(req, params=params)\n",
    "r.status_code"
   ]
  },
  {
   "cell_type": "code",
   "execution_count": 93,
   "id": "2e9b35a0",
   "metadata": {
    "ExecuteTime": {
     "end_time": "2021-05-05T12:11:32.010379Z",
     "start_time": "2021-05-05T12:11:32.004447Z"
    }
   },
   "outputs": [
    {
     "data": {
      "text/plain": [
       "{'code': 400000, 'message': 'data is available only in the last year'}"
      ]
     },
     "execution_count": 93,
     "metadata": {},
     "output_type": "execute_result"
    }
   ],
   "source": [
    "r.json()"
   ]
  },
  {
   "cell_type": "code",
   "execution_count": null,
   "id": "c27f53b2",
   "metadata": {},
   "outputs": [],
   "source": []
  }
 ],
 "metadata": {
  "kernelspec": {
   "display_name": "Python 3",
   "language": "python",
   "name": "python3"
  },
  "language_info": {
   "codemirror_mode": {
    "name": "ipython",
    "version": 3
   },
   "file_extension": ".py",
   "mimetype": "text/x-python",
   "name": "python",
   "nbconvert_exporter": "python",
   "pygments_lexer": "ipython3",
   "version": "3.8.6"
  },
  "toc": {
   "base_numbering": 1,
   "nav_menu": {},
   "number_sections": true,
   "sideBar": true,
   "skip_h1_title": false,
   "title_cell": "Table of Contents",
   "title_sidebar": "Contents",
   "toc_cell": false,
   "toc_position": {},
   "toc_section_display": true,
   "toc_window_display": false
  }
 },
 "nbformat": 4,
 "nbformat_minor": 5
}
