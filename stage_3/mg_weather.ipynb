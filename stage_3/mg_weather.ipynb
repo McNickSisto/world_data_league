{
 "cells": [
  {
   "cell_type": "markdown",
   "id": "37ab95a8",
   "metadata": {},
   "source": [
    "# Imports"
   ]
  },
  {
   "cell_type": "code",
   "execution_count": 11,
   "id": "887016f0",
   "metadata": {
    "ExecuteTime": {
     "end_time": "2021-05-14T07:16:33.383219Z",
     "start_time": "2021-05-14T07:16:33.376480Z"
    }
   },
   "outputs": [],
   "source": [
    "import geopandas as gpd\n",
    "import pandas as pd\n",
    "import fiona\n",
    "import os\n",
    "import matplotlib.pyplot as plt\n",
    "import folium\n",
    "from zipfile import ZipFile\n",
    "import seaborn as sns\n",
    "import numpy as np\n",
    "import datetime as dt\n",
    "from collections import Counter\n",
    "from dotenv import load_dotenv, find_dotenv\n",
    "from urllib.parse import urljoin\n",
    "import requests\n",
    "from io import StringIO, BytesIO\n",
    "import datetime as dt"
   ]
  },
  {
   "cell_type": "markdown",
   "id": "1dc2a04d",
   "metadata": {},
   "source": [
    "# Data"
   ]
  },
  {
   "cell_type": "code",
   "execution_count": 8,
   "id": "3831c9ca",
   "metadata": {
    "ExecuteTime": {
     "end_time": "2021-05-06T08:47:07.979013Z",
     "start_time": "2021-05-06T08:46:42.548362Z"
    }
   },
   "outputs": [
    {
     "data": {
      "text/plain": [
       "(11764276, 13)"
      ]
     },
     "execution_count": 8,
     "metadata": {},
     "output_type": "execute_result"
    }
   ],
   "source": [
    "bike_df_all = pd.read_csv('raw_data/bike_loans.csv', sep=';')#.drop(columns=['Importe', \n",
    "                                                              #        'DescripcionImporte', \n",
    "                                                              #      'operario'])\n",
    "bike_df_all['Fecha_Prestamo'] = bike_df_all['Fecha_Prestamo'].astype('datetime64[ns]')\n",
    "bike_df_all['Fecha_Devolucion'] = bike_df_all['Fecha_Devolucion'].astype('datetime64[ns]')\n",
    "\n",
    "bike_df_all.dtypes\n",
    "# bike_df_all = bike_df_all.dropna()\n",
    "bike_df = bike_df_all[bike_df_all.Fecha_Devolucion <= '31/12/2019']\n",
    "bike_df.shape"
   ]
  },
  {
   "cell_type": "code",
   "execution_count": 2,
   "id": "e2dc8acb",
   "metadata": {
    "ExecuteTime": {
     "end_time": "2021-05-14T07:15:02.330865Z",
     "start_time": "2021-05-14T07:15:02.327527Z"
    }
   },
   "outputs": [],
   "source": [
    "# bike_df.operario.unique()"
   ]
  },
  {
   "cell_type": "code",
   "execution_count": 3,
   "id": "788ed85f",
   "metadata": {
    "ExecuteTime": {
     "end_time": "2021-05-05T11:35:00.446610Z",
     "start_time": "2021-05-05T11:35:00.441507Z"
    }
   },
   "outputs": [
    {
     "data": {
      "text/plain": [
       "Id_Historico_Prestamo               int64\n",
       "Id_Usuario                          int64\n",
       "Id_Tag_Bicicleta                   object\n",
       "Fecha_Prestamo             datetime64[ns]\n",
       "Fecha_Devolucion           datetime64[ns]\n",
       "Id_Aparcamiento_Origen              int64\n",
       "Posicion_Origen                     int64\n",
       "Id_Aparcamiento_Destino           float64\n",
       "Posicion_Destino                  float64\n",
       "Num_Bici_Hist                     float64\n",
       "dtype: object"
      ]
     },
     "execution_count": 3,
     "metadata": {},
     "output_type": "execute_result"
    }
   ],
   "source": [
    "bike_df.dtypes"
   ]
  },
  {
   "cell_type": "markdown",
   "id": "135725a7",
   "metadata": {},
   "source": [
    "# Weather"
   ]
  },
  {
   "cell_type": "code",
   "execution_count": 7,
   "id": "705ee827",
   "metadata": {
    "ExecuteTime": {
     "end_time": "2021-05-14T07:15:36.323543Z",
     "start_time": "2021-05-14T07:15:36.318370Z"
    }
   },
   "outputs": [],
   "source": [
    "# API KEY\n",
    "load_dotenv(find_dotenv())\n",
    "OWM_API = os.environ.get(\"OWM_API\")"
   ]
  },
  {
   "cell_type": "code",
   "execution_count": 32,
   "id": "fa282e55",
   "metadata": {
    "ExecuteTime": {
     "end_time": "2021-05-14T07:31:26.680933Z",
     "start_time": "2021-05-14T07:31:26.671674Z"
    }
   },
   "outputs": [
    {
     "data": {
      "text/plain": [
       "20396   2021-04-30 20:00:00\n",
       "20397   2021-04-30 21:00:00\n",
       "20398   2021-04-30 22:00:00\n",
       "20399   2021-04-30 23:00:00\n",
       "20400   2021-05-01 00:00:00\n",
       "Name: hour, dtype: datetime64[ns]"
      ]
     },
     "execution_count": 32,
     "metadata": {},
     "output_type": "execute_result"
    }
   ],
   "source": [
    "## change data!\n",
    "range_2019 = pd.DataFrame(pd.date_range('2019-01-02', '2021-05-01', freq='h'), columns=['hour'])\n",
    "range_2019.tail().hour"
   ]
  },
  {
   "cell_type": "code",
   "execution_count": 39,
   "id": "4fdf0cba",
   "metadata": {
    "ExecuteTime": {
     "end_time": "2021-05-14T07:34:19.142331Z",
     "start_time": "2021-05-14T07:34:19.135887Z"
    }
   },
   "outputs": [
    {
     "data": {
      "text/plain": [
       "Timestamp('2021-05-01 00:00:00')"
      ]
     },
     "execution_count": 39,
     "metadata": {},
     "output_type": "execute_result"
    }
   ],
   "source": [
    "tail = range_2019.tail().hour\n",
    "tail.max()"
   ]
  },
  {
   "cell_type": "code",
   "execution_count": 37,
   "id": "87e75fc7",
   "metadata": {
    "ExecuteTime": {
     "end_time": "2021-05-14T07:32:38.806594Z",
     "start_time": "2021-05-14T07:32:38.241880Z"
    }
   },
   "outputs": [
    {
     "data": {
      "text/plain": [
       "200"
      ]
     },
     "execution_count": 37,
     "metadata": {},
     "output_type": "execute_result"
    }
   ],
   "source": [
    "req = 'http://history.openweathermap.org/data/2.5/history/city'\n",
    "start = range_2019.hour.min().value\n",
    "inter = range_2019.hour[50].value\n",
    "end = range_2019.hour.max().value\n",
    "tail1 = tail.min().value\n",
    "tail2 = tail.max().value\n",
    "params = {\n",
    "    'id':'3674962', # ID of medellin\n",
    "    'type':'hour',\n",
    "    'start':str(tail1)[:10], # unix time\n",
    "    'end':str(tail2)[:10],\n",
    "    'appid': OWM_API\n",
    "}\n",
    "\n",
    "r = requests.get(req, params=params)\n",
    "r.status_code"
   ]
  },
  {
   "cell_type": "code",
   "execution_count": 38,
   "id": "2e9b35a0",
   "metadata": {
    "ExecuteTime": {
     "end_time": "2021-05-14T07:32:40.462980Z",
     "start_time": "2021-05-14T07:32:40.450760Z"
    }
   },
   "outputs": [
    {
     "data": {
      "text/plain": [
       "{'message': 'Count: 5',\n",
       " 'cod': '200',\n",
       " 'city_id': 3674962,\n",
       " 'calctime': 0.024393096,\n",
       " 'cnt': 5,\n",
       " 'list': [{'dt': 1619812800,\n",
       "   'main': {'temp': 287.68,\n",
       "    'feels_like': 287.72,\n",
       "    'pressure': 1026,\n",
       "    'humidity': 94,\n",
       "    'temp_min': 286.48,\n",
       "    'temp_max': 289.15},\n",
       "   'wind': {'speed': 1.54, 'deg': 330},\n",
       "   'clouds': {'all': 75},\n",
       "   'weather': [{'id': 500,\n",
       "     'main': 'Rain',\n",
       "     'description': 'light rain',\n",
       "     'icon': '10d'},\n",
       "    {'id': 301, 'main': 'Drizzle', 'description': 'drizzle', 'icon': '09d'}],\n",
       "   'rain': {'1h': 0.17}},\n",
       "  {'dt': 1619816400,\n",
       "   'main': {'temp': 287.55,\n",
       "    'feels_like': 287.55,\n",
       "    'pressure': 1025,\n",
       "    'humidity': 94,\n",
       "    'temp_min': 286.48,\n",
       "    'temp_max': 288.15},\n",
       "   'wind': {'speed': 1.54, 'deg': 200},\n",
       "   'clouds': {'all': 90},\n",
       "   'weather': [{'id': 302,\n",
       "     'main': 'Drizzle',\n",
       "     'description': 'heavy intensity drizzle',\n",
       "     'icon': '09d'}]},\n",
       "  {'dt': 1619820000,\n",
       "   'main': {'temp': 289.06,\n",
       "    'feels_like': 289.93,\n",
       "    'pressure': 1020,\n",
       "    'humidity': 94,\n",
       "    'temp_min': 287.04,\n",
       "    'temp_max': 292.15},\n",
       "   'wind': {'speed': 1.03, 'deg': 0},\n",
       "   'clouds': {'all': 90},\n",
       "   'weather': [{'id': 300,\n",
       "     'main': 'Drizzle',\n",
       "     'description': 'light intensity drizzle',\n",
       "     'icon': '09d'}]},\n",
       "  {'dt': 1619823600,\n",
       "   'main': {'temp': 287.17,\n",
       "    'feels_like': 287.72,\n",
       "    'pressure': 1025,\n",
       "    'humidity': 100,\n",
       "    'temp_min': 286.48,\n",
       "    'temp_max': 288.15},\n",
       "   'wind': {'speed': 1.03, 'deg': 0},\n",
       "   'clouds': {'all': 90},\n",
       "   'weather': [{'id': 300,\n",
       "     'main': 'Drizzle',\n",
       "     'description': 'light intensity drizzle',\n",
       "     'icon': '09d'}]},\n",
       "  {'dt': 1619827200,\n",
       "   'main': {'temp': 286.61,\n",
       "    'feels_like': 286.97,\n",
       "    'pressure': 1026,\n",
       "    'humidity': 100,\n",
       "    'temp_min': 285.37,\n",
       "    'temp_max': 288.15},\n",
       "   'wind': {'speed': 1.03, 'deg': 0},\n",
       "   'clouds': {'all': 75},\n",
       "   'weather': [{'id': 803,\n",
       "     'main': 'Clouds',\n",
       "     'description': 'broken clouds',\n",
       "     'icon': '04n'}]}]}"
      ]
     },
     "execution_count": 38,
     "metadata": {},
     "output_type": "execute_result"
    }
   ],
   "source": [
    "r.json()"
   ]
  },
  {
   "cell_type": "code",
   "execution_count": null,
   "id": "c27f53b2",
   "metadata": {},
   "outputs": [],
   "source": []
  }
 ],
 "metadata": {
  "kernelspec": {
   "display_name": "Python 3",
   "language": "python",
   "name": "python3"
  },
  "language_info": {
   "codemirror_mode": {
    "name": "ipython",
    "version": 3
   },
   "file_extension": ".py",
   "mimetype": "text/x-python",
   "name": "python",
   "nbconvert_exporter": "python",
   "pygments_lexer": "ipython3",
   "version": "3.8.6"
  },
  "toc": {
   "base_numbering": 1,
   "nav_menu": {},
   "number_sections": true,
   "sideBar": true,
   "skip_h1_title": false,
   "title_cell": "Table of Contents",
   "title_sidebar": "Contents",
   "toc_cell": false,
   "toc_position": {},
   "toc_section_display": true,
   "toc_window_display": false
  }
 },
 "nbformat": 4,
 "nbformat_minor": 5
}
