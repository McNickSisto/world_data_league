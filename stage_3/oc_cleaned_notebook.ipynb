{
 "cells": [
  {
   "cell_type": "markdown",
   "id": "ccf4a9c1",
   "metadata": {},
   "source": [
    "# Importing"
   ]
  },
  {
   "cell_type": "code",
   "execution_count": 18,
   "id": "b119b350",
   "metadata": {},
   "outputs": [],
   "source": [
    "import pandas as pd \n",
    "import numpy as np\n",
    "import geopandas as gpd\n",
    "import fiona\n",
    "import os\n",
    "import zipfile\n",
    "from folium import Map, CircleMarker, Vega, Popup, Marker, PolyLine, Icon, Choropleth, LayerControl\n",
    "from folium.plugins import MarkerCluster, HeatMap, BeautifyIcon\n",
    "import shapely\n",
    "import matplotlib\n",
    "from ipywidgets import interact\n",
    "import seaborn as sns\n",
    "import matplotlib.pyplot as plt\n",
    "import statsmodels.tsa "
   ]
  },
  {
   "cell_type": "code",
   "execution_count": null,
   "id": "b8b04d67",
   "metadata": {},
   "outputs": [],
   "source": []
  },
  {
   "cell_type": "code",
   "execution_count": 25,
   "id": "a9bce9ec",
   "metadata": {},
   "outputs": [],
   "source": [
    "gpd.io.file.fiona.drvsupport.supported_drivers['KML'] = 'rw'\n",
    "class Databases:\n",
    "    def __init__(self, csv, anva, smm, metro):\n",
    "        self.csv = csv\n",
    "        self.anva = anva \n",
    "        self.smm = smm\n",
    "        self.metro = metro\n",
    "\n",
    "    def extract_csv(self):\n",
    "        file = pd.read_csv(f'data/bike_loans/{self.csv}', sep=';')\n",
    "        file['Fecha_Prestamo'] = pd.to_datetime(file['Fecha_Prestamo'])\n",
    "        file['Fecha_Devolucion'] = pd.to_datetime(file['Fecha_Devolucion'])\n",
    "        return file\n",
    "        \n",
    "    \n",
    "    def extract_anva(self):\n",
    "        bus_routes_AMVA = gpd.GeoDataFrame()\n",
    "        for root, dirs, files in os.walk(f'data/bus_routes/medellin_bus_routes/{self.anva}'):\n",
    "            for file in files:\n",
    "                path = os.path.join(root, file)\n",
    "                df = gpd.read_file(path, driver='KML')\n",
    "                bus_routes_AMVA = gpd.GeoDataFrame(pd.concat([bus_routes_AMVA, df], ignore_index=True))\n",
    "        return bus_routes_AMVA\n",
    "    \n",
    "    def extract_smm(self):\n",
    "        smm_bus_routes = gpd.GeoDataFrame()\n",
    "        for root, dirs, files in os.walk(f'data/bus_routes/medellin_bus_routes/{self.smm}'):\n",
    "            for file in files:\n",
    "                path = os.path.join(root, file)\n",
    "                df = gpd.read_file(path, driver='KML')\n",
    "                smm_bus_routes = gpd.GeoDataFrame(pd.concat([smm_bus_routes, df], ignore_index=True))\n",
    "        return smm_bus_routes\n",
    "    \n",
    "    def extract_metro(self):\n",
    "        metro_routes = gpd.GeoDataFrame()\n",
    "        for root, dirs, files in os.walk(f'data/medellin_metro/{self.metro}'):\n",
    "            for file in files:\n",
    "                path = os.path.join(root, file)\n",
    "                print(path)\n",
    "                if path.endswith('.kmz'):\n",
    "                    kmz = zipfile.ZipFile(path, 'r')\n",
    "                    kml = kmz.open('doc.kml', 'r')\n",
    "                    df = gpd.read_file(kml, driver='KML')\n",
    "                    metro_routes = gpd.GeoDataFrame(pd.concat([metro_routes, df], ignore_index=True))\n",
    "        return metro_routes\n"
   ]
  },
  {
   "cell_type": "code",
   "execution_count": 13,
   "id": "736117c7",
   "metadata": {},
   "outputs": [],
   "source": [
    "databases = Databases('bike_loans.csv','Kml Ruta AMVA','kml Ruta SMM','medellin_metro_stations')"
   ]
  },
  {
   "cell_type": "code",
   "execution_count": 15,
   "id": "3280d8e7",
   "metadata": {},
   "outputs": [],
   "source": [
    "# bikes = databases.extract_csv()"
   ]
  },
  {
   "cell_type": "code",
   "execution_count": 26,
   "id": "e7b67a21",
   "metadata": {},
   "outputs": [
    {
     "data": {
      "text/plain": [
       "Id_Historico_Prestamo               int64\n",
       "Id_Usuario                          int64\n",
       "Id_Tag_Bicicleta                   object\n",
       "Fecha_Prestamo             datetime64[ns]\n",
       "Fecha_Devolucion           datetime64[ns]\n",
       "Id_Aparcamiento_Origen              int64\n",
       "Posicion_Origen                     int64\n",
       "Id_Aparcamiento_Destino           float64\n",
       "Posicion_Destino                  float64\n",
       "Importe                           float64\n",
       "DescripcionImporte                float64\n",
       "operario                           object\n",
       "Num_Bici_Hist                     float64\n",
       "dtype: object"
      ]
     },
     "execution_count": 26,
     "metadata": {},
     "output_type": "execute_result"
    }
   ],
   "source": [
    "bikes.dtypes"
   ]
  },
  {
   "cell_type": "code",
   "execution_count": 22,
   "id": "170792bd",
   "metadata": {
    "collapsed": true
   },
   "outputs": [
    {
     "name": "stdout",
     "output_type": "stream",
     "text": [
      "data/medellin_metro/medellin_metro_stations/LinesMetroPlus.kmz\n",
      "data/medellin_metro/medellin_metro_stations/.DS_Store\n",
      "data/medellin_metro/medellin_metro_stations/LinesCable.kmz\n",
      "data/medellin_metro/medellin_metro_stations/StationsTranvia.kmz\n",
      "data/medellin_metro/medellin_metro_stations/StationsCable.kmz\n",
      "data/medellin_metro/medellin_metro_stations/LineTranvia.kmz\n",
      "data/medellin_metro/medellin_metro_stations/LinesCable.kml\n",
      "data/medellin_metro/medellin_metro_stations/StationsMetro.kmz\n",
      "data/medellin_metro/medellin_metro_stations/LinesMetro.kmz\n",
      "data/medellin_metro/medellin_metro_stations/StationsFootprints.kmz\n",
      "data/medellin_metro/medellin_metro_stations/StationsMetroPlus.kmz\n"
     ]
    }
   ],
   "source": [
    "metro = databases.extract_metro()"
   ]
  },
  {
   "cell_type": "code",
   "execution_count": 23,
   "id": "65ff8a25",
   "metadata": {},
   "outputs": [],
   "source": [
    "smm = databases.extract_smm()"
   ]
  },
  {
   "cell_type": "code",
   "execution_count": 24,
   "id": "bb685c36",
   "metadata": {},
   "outputs": [],
   "source": [
    "anva = databases.extract_anva()"
   ]
  },
  {
   "cell_type": "code",
   "execution_count": null,
   "id": "9a6dc503",
   "metadata": {},
   "outputs": [],
   "source": []
  }
 ],
 "metadata": {
  "kernelspec": {
   "display_name": "Python 3",
   "language": "python",
   "name": "python3"
  },
  "language_info": {
   "codemirror_mode": {
    "name": "ipython",
    "version": 3
   },
   "file_extension": ".py",
   "mimetype": "text/x-python",
   "name": "python",
   "nbconvert_exporter": "python",
   "pygments_lexer": "ipython3",
   "version": "3.8.6"
  },
  "toc": {
   "base_numbering": 1,
   "nav_menu": {},
   "number_sections": true,
   "sideBar": true,
   "skip_h1_title": false,
   "title_cell": "Table of Contents",
   "title_sidebar": "Contents",
   "toc_cell": false,
   "toc_position": {},
   "toc_section_display": true,
   "toc_window_display": false
  }
 },
 "nbformat": 4,
 "nbformat_minor": 5
}
