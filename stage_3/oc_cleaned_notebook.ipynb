{
 "cells": [
  {
   "cell_type": "markdown",
   "id": "ccf4a9c1",
   "metadata": {},
   "source": [
    "# Importing"
   ]
  },
  {
   "cell_type": "code",
   "execution_count": 8,
   "id": "b119b350",
   "metadata": {},
   "outputs": [],
   "source": [
    "import pandas as pd \n",
    "import numpy as np\n",
    "import geopandas as gpd\n",
    "import fiona\n",
    "import os\n",
    "import zipfile\n",
    "from folium import Map, CircleMarker, Vega, Popup, Marker, PolyLine, Icon, Choropleth, LayerControl\n",
    "from folium.plugins import MarkerCluster, HeatMap, BeautifyIcon\n",
    "import shapely\n",
    "from ipywidgets import interact\n",
    "import seaborn as sns\n",
    "import matplotlib.pyplot as plt\n",
    "import statsmodels.tsa "
   ]
  },
  {
   "cell_type": "markdown",
   "id": "b4128555",
   "metadata": {},
   "source": [
    "# extracting bikes df"
   ]
  },
  {
   "cell_type": "code",
   "execution_count": 2,
   "id": "a9bce9ec",
   "metadata": {},
   "outputs": [],
   "source": [
    "gpd.io.file.fiona.drvsupport.supported_drivers['KML'] = 'rw'\n",
    "class Databases:\n",
    "    def __init__(self, csv, anva, smm, metro):\n",
    "        self.csv = csv\n",
    "        self.anva = anva \n",
    "        self.smm = smm\n",
    "        self.metro = metro\n",
    "\n",
    "    def extract_csv(self):\n",
    "        file = pd.read_csv(f'data/bike_loans/{self.csv}', sep=';')\n",
    "        file['Fecha_Prestamo'] = pd.to_datetime(file['Fecha_Prestamo'])\n",
    "        file['Fecha_Devolucion'] = pd.to_datetime(file['Fecha_Devolucion'])\n",
    "        return file\n",
    "        \n",
    "    \n",
    "    def extract_anva(self):\n",
    "        bus_routes_AMVA = gpd.GeoDataFrame()\n",
    "        for root, dirs, files in os.walk(f'data/bus_routes/medellin_bus_routes/{self.anva}'):\n",
    "            for file in files:\n",
    "                path = os.path.join(root, file)\n",
    "                df = gpd.read_file(path, driver='KML')\n",
    "                bus_routes_AMVA = gpd.GeoDataFrame(pd.concat([bus_routes_AMVA, df], ignore_index=True))\n",
    "        return bus_routes_AMVA\n",
    "    \n",
    "    def extract_smm(self):\n",
    "        smm_bus_routes = gpd.GeoDataFrame()\n",
    "        for root, dirs, files in os.walk(f'data/bus_routes/medellin_bus_routes/{self.smm}'):\n",
    "            for file in files:\n",
    "                path = os.path.join(root, file)\n",
    "                df = gpd.read_file(path, driver='KML')\n",
    "                smm_bus_routes = gpd.GeoDataFrame(pd.concat([smm_bus_routes, df], ignore_index=True))\n",
    "        return smm_bus_routes\n",
    "    \n",
    "    def extract_metro(self):\n",
    "        metro_routes = gpd.GeoDataFrame()\n",
    "        for root, dirs, files in os.walk(f'data/medellin_metro/{self.metro}'):\n",
    "            for file in files:\n",
    "                path = os.path.join(root, file)\n",
    "                print(path)\n",
    "                if path.endswith('.kmz'):\n",
    "                    kmz = zipfile.ZipFile(path, 'r')\n",
    "                    kml = kmz.open('doc.kml', 'r')\n",
    "                    df = gpd.read_file(kml, driver='KML')\n",
    "                    metro_routes = gpd.GeoDataFrame(pd.concat([metro_routes, df], ignore_index=True))\n",
    "        return metro_routes\n"
   ]
  },
  {
   "cell_type": "code",
   "execution_count": 3,
   "id": "736117c7",
   "metadata": {},
   "outputs": [],
   "source": [
    "databases = Databases('bike_loans.csv','Kml Ruta AMVA','kml Ruta SMM','medellin_metro_stations')"
   ]
  },
  {
   "cell_type": "code",
   "execution_count": 4,
   "id": "3280d8e7",
   "metadata": {},
   "outputs": [],
   "source": [
    "bikes = databases.extract_csv()"
   ]
  },
  {
   "cell_type": "code",
   "execution_count": 5,
   "id": "e7b67a21",
   "metadata": {},
   "outputs": [
    {
     "data": {
      "text/plain": [
       "Id_Historico_Prestamo               int64\n",
       "Id_Usuario                          int64\n",
       "Id_Tag_Bicicleta                   object\n",
       "Fecha_Prestamo             datetime64[ns]\n",
       "Fecha_Devolucion           datetime64[ns]\n",
       "Id_Aparcamiento_Origen              int64\n",
       "Posicion_Origen                     int64\n",
       "Id_Aparcamiento_Destino           float64\n",
       "Posicion_Destino                  float64\n",
       "Importe                           float64\n",
       "DescripcionImporte                float64\n",
       "operario                           object\n",
       "Num_Bici_Hist                     float64\n",
       "dtype: object"
      ]
     },
     "execution_count": 5,
     "metadata": {},
     "output_type": "execute_result"
    }
   ],
   "source": [
    "bikes.dtypes"
   ]
  },
  {
   "cell_type": "markdown",
   "id": "2007169b",
   "metadata": {},
   "source": [
    "# Prime analysis"
   ]
  },
  {
   "cell_type": "markdown",
   "id": "ec2492d6",
   "metadata": {},
   "source": [
    "We can start our analysis with general description of the dataset. <br>\n",
    "**NB**: In our dataset we are dealing with all categorical features or timeseries: there is no need to run ```describe()``` "
   ]
  },
  {
   "cell_type": "markdown",
   "id": "8b093191",
   "metadata": {},
   "source": [
    "- Id_Tag_Bicicleta : column regarding unique id of each bicycle \n",
    "***let's have a look on how many times the same bike is used (how many times the unique id is present in the df)**"
   ]
  },
  {
   "cell_type": "code",
   "execution_count": 12,
   "id": "1d11e143",
   "metadata": {},
   "outputs": [
    {
     "data": {
      "image/png": "[encoded data removed]",
      "text/plain": [
       "<Figure size 720x360 with 1 Axes>"
      ]
     },
     "metadata": {
      "needs_background": "light"
     },
     "output_type": "display_data"
    }
   ],
   "source": [
    "plt.figure(figsize=(10,5))\n",
    "plt.title('Bike usage distribution', size=20)\n",
    "counts = bikes.Id_Tag_Bicicleta.value_counts()[::66]\n",
    "y_pos = np.arange(len(counts))\n",
    "plt.bar(y_pos, counts)\n",
    "plt.xlabel('Bikes available in %', size=15)\n",
    "plt.text(x=22, y=6000, s=f'Cutoff: 20% of highest usage', size='x-large')\n",
    "plt.axvline(20, color='r', linestyle='--')\n",
    "\n",
    "plt.show()"
   ]
  },
  {
   "cell_type": "markdown",
   "id": "7abfc6b6",
   "metadata": {},
   "source": [
    "As we can see there is a clear cutoff in the 20% of the distribuition. That's can also aimed to the different time of putting that bike on the streets."
   ]
  },
  {
   "cell_type": "markdown",
   "id": "8e63b621",
   "metadata": {},
   "source": [
    "In our dataset we have information about the bike itself, the station of arrival and departures and the costumer. To characterized all this information we have also 2 time series: ```Fecha_Prestamo``` & ```Fecha_Devolucion``` \n",
    "\n",
    "<br>\n",
    "Thank to these we can have an idea of the time in which the bike are more used, which routes are more popular during a certain range of time and also how the data collected has changed during the years, according maybe to the change in habits of the population. "
   ]
  },
  {
   "cell_type": "code",
   "execution_count": 19,
   "id": "94213123",
   "metadata": {},
   "outputs": [
    {
     "data": {
      "text/html": [
       "<div>\n",
       "<style scoped>\n",
       "    .dataframe tbody tr th:only-of-type {\n",
       "        vertical-align: middle;\n",
       "    }\n",
       "\n",
       "    .dataframe tbody tr th {\n",
       "        vertical-align: top;\n",
       "    }\n",
       "\n",
       "    .dataframe thead th {\n",
       "        text-align: right;\n",
       "    }\n",
       "</style>\n",
       "<table border=\"1\" class=\"dataframe\">\n",
       "  <thead>\n",
       "    <tr style=\"text-align: right;\">\n",
       "      <th></th>\n",
       "      <th>Id_Historico_Prestamo</th>\n",
       "      <th>Id_Usuario</th>\n",
       "      <th>Id_Tag_Bicicleta</th>\n",
       "      <th>Fecha_Prestamo</th>\n",
       "      <th>Fecha_Devolucion</th>\n",
       "      <th>Id_Aparcamiento_Origen</th>\n",
       "      <th>Posicion_Origen</th>\n",
       "      <th>Id_Aparcamiento_Destino</th>\n",
       "      <th>Posicion_Destino</th>\n",
       "      <th>Importe</th>\n",
       "      <th>DescripcionImporte</th>\n",
       "      <th>operario</th>\n",
       "      <th>Num_Bici_Hist</th>\n",
       "      <th>hour_init</th>\n",
       "      <th>hour_end</th>\n",
       "    </tr>\n",
       "  </thead>\n",
       "  <tbody>\n",
       "    <tr>\n",
       "      <th>0</th>\n",
       "      <td>6501462</td>\n",
       "      <td>18701</td>\n",
       "      <td>000017B00743</td>\n",
       "      <td>2017-06-21 14:22:11</td>\n",
       "      <td>2017-06-21 14:38:29</td>\n",
       "      <td>8</td>\n",
       "      <td>1</td>\n",
       "      <td>43.0</td>\n",
       "      <td>1.0</td>\n",
       "      <td>0.0</td>\n",
       "      <td>NaN</td>\n",
       "      <td>jhon.castano</td>\n",
       "      <td>929.0</td>\n",
       "      <td>14</td>\n",
       "      <td>14</td>\n",
       "    </tr>\n",
       "    <tr>\n",
       "      <th>1</th>\n",
       "      <td>6501318</td>\n",
       "      <td>41811</td>\n",
       "      <td>000017AFF83C</td>\n",
       "      <td>2017-06-21 14:07:18</td>\n",
       "      <td>2017-06-21 14:39:06</td>\n",
       "      <td>56</td>\n",
       "      <td>6</td>\n",
       "      <td>54.0</td>\n",
       "      <td>NaN</td>\n",
       "      <td>0.0</td>\n",
       "      <td>NaN</td>\n",
       "      <td>monitor</td>\n",
       "      <td>1612.0</td>\n",
       "      <td>14</td>\n",
       "      <td>14</td>\n",
       "    </tr>\n",
       "    <tr>\n",
       "      <th>2</th>\n",
       "      <td>6501489</td>\n",
       "      <td>96620</td>\n",
       "      <td>000017AFFB6F</td>\n",
       "      <td>2017-06-21 14:25:11</td>\n",
       "      <td>2017-06-21 14:39:07</td>\n",
       "      <td>36</td>\n",
       "      <td>25</td>\n",
       "      <td>9.0</td>\n",
       "      <td>13.0</td>\n",
       "      <td>0.0</td>\n",
       "      <td>NaN</td>\n",
       "      <td>NaN</td>\n",
       "      <td>1679.0</td>\n",
       "      <td>14</td>\n",
       "      <td>14</td>\n",
       "    </tr>\n",
       "    <tr>\n",
       "      <th>3</th>\n",
       "      <td>6501001</td>\n",
       "      <td>16055</td>\n",
       "      <td>0000182A3B7B</td>\n",
       "      <td>2017-06-21 13:35:52</td>\n",
       "      <td>2017-06-21 14:39:22</td>\n",
       "      <td>8</td>\n",
       "      <td>1</td>\n",
       "      <td>9.0</td>\n",
       "      <td>6.0</td>\n",
       "      <td>0.0</td>\n",
       "      <td>NaN</td>\n",
       "      <td>NaN</td>\n",
       "      <td>1076.0</td>\n",
       "      <td>13</td>\n",
       "      <td>14</td>\n",
       "    </tr>\n",
       "    <tr>\n",
       "      <th>4</th>\n",
       "      <td>6501421</td>\n",
       "      <td>6431</td>\n",
       "      <td>000017AFE810</td>\n",
       "      <td>2017-06-21 14:17:56</td>\n",
       "      <td>2017-06-21 14:39:26</td>\n",
       "      <td>56</td>\n",
       "      <td>14</td>\n",
       "      <td>54.0</td>\n",
       "      <td>NaN</td>\n",
       "      <td>0.0</td>\n",
       "      <td>NaN</td>\n",
       "      <td>monitor</td>\n",
       "      <td>1176.0</td>\n",
       "      <td>14</td>\n",
       "      <td>14</td>\n",
       "    </tr>\n",
       "  </tbody>\n",
       "</table>\n",
       "</div>"
      ],
      "text/plain": [
       "   Id_Historico_Prestamo  Id_Usuario Id_Tag_Bicicleta      Fecha_Prestamo  \\\n",
       "0                6501462       18701     000017B00743 2017-06-21 14:22:11   \n",
       "1                6501318       41811     000017AFF83C 2017-06-21 14:07:18   \n",
       "2                6501489       96620     000017AFFB6F 2017-06-21 14:25:11   \n",
       "3                6501001       16055     0000182A3B7B 2017-06-21 13:35:52   \n",
       "4                6501421        6431     000017AFE810 2017-06-21 14:17:56   \n",
       "\n",
       "     Fecha_Devolucion  Id_Aparcamiento_Origen  Posicion_Origen  \\\n",
       "0 2017-06-21 14:38:29                       8                1   \n",
       "1 2017-06-21 14:39:06                      56                6   \n",
       "2 2017-06-21 14:39:07                      36               25   \n",
       "3 2017-06-21 14:39:22                       8                1   \n",
       "4 2017-06-21 14:39:26                      56               14   \n",
       "\n",
       "   Id_Aparcamiento_Destino  Posicion_Destino  Importe  DescripcionImporte  \\\n",
       "0                     43.0               1.0      0.0                 NaN   \n",
       "1                     54.0               NaN      0.0                 NaN   \n",
       "2                      9.0              13.0      0.0                 NaN   \n",
       "3                      9.0               6.0      0.0                 NaN   \n",
       "4                     54.0               NaN      0.0                 NaN   \n",
       "\n",
       "       operario  Num_Bici_Hist  hour_init  hour_end  \n",
       "0  jhon.castano          929.0         14        14  \n",
       "1       monitor         1612.0         14        14  \n",
       "2           NaN         1679.0         14        14  \n",
       "3           NaN         1076.0         13        14  \n",
       "4       monitor         1176.0         14        14  "
      ]
     },
     "execution_count": 19,
     "metadata": {},
     "output_type": "execute_result"
    }
   ],
   "source": [
    "# Extracting just the hour: \n",
    "bikes['hour_init']= bikes['Fecha_Prestamo'].dt.hour\n",
    "bikes['hour_end']=bikes['Fecha_Devolucion'].dt.hour\n",
    "bikes.head(5)"
   ]
  },
  {
   "cell_type": "code",
   "execution_count": 34,
   "id": "21eb2f15",
   "metadata": {},
   "outputs": [
    {
     "name": "stdout",
     "output_type": "stream",
     "text": [
      "The highest usage of bikes is at 17 and 7\n"
     ]
    },
    {
     "name": "stderr",
     "output_type": "stream",
     "text": [
      "/Users/olgacravesana/.pyenv/versions/3.8.6/envs/lewagon/lib/python3.8/site-packages/seaborn/_decorators.py:36: FutureWarning: Pass the following variables as keyword args: x, y. From version 0.12, the only valid positional argument will be `data`, and passing other arguments without an explicit keyword will result in an error or misinterpretation.\n",
      "  warnings.warn(\n"
     ]
    },
    {
     "data": {
      "image/png": "[encoded data removed]",
      "text/plain": [
       "<Figure size 432x288 with 1 Axes>"
      ]
     },
     "metadata": {
      "needs_background": "light"
     },
     "output_type": "display_data"
    }
   ],
   "source": [
    "hours = pd.DataFrame(bikes.hour_init.value_counts())\n",
    "sns.barplot(hours.index,hours.hour_init)\n",
    "plt.title('Hours usage distribution', size=20)\n",
    "plt.xlabel('Hours in 24/h format', size=15)\n",
    "print(f'The highest usage of bikes is at 17 and 7')"
   ]
  },
  {
   "cell_type": "markdown",
   "id": "a32589a2",
   "metadata": {},
   "source": [
    "As we can see our distribution is not normal distributed: we have a significant **higher affluence** are the ones right after work/university (17,18,16) or the ones right before (7).\n",
    "\n",
    "We can so deduct that the bicycle are more often used by students or worker, as a real way of transportation. \n",
    "If this is true we will have some routes that are more used, some station that probably have a bigger affluences of both take and drop off. \n",
    "\n",
    "Let's have a look at the routes:"
   ]
  },
  {
   "cell_type": "code",
   "execution_count": 36,
   "id": "44c54138",
   "metadata": {},
   "outputs": [
    {
     "ename": "ValueError",
     "evalue": "cannot convert float NaN to integer",
     "output_type": "error",
     "traceback": [
      "\u001b[0;31m---------------------------------------------------------------------------\u001b[0m",
      "\u001b[0;31mValueError\u001b[0m                                Traceback (most recent call last)",
      "\u001b[0;32m<ipython-input-36-c19a292df279>\u001b[0m in \u001b[0;36m<module>\u001b[0;34m\u001b[0m\n\u001b[0;32m----> 1\u001b[0;31m \u001b[0mbikes\u001b[0m\u001b[0;34m[\u001b[0m\u001b[0;34m'routes'\u001b[0m\u001b[0;34m]\u001b[0m \u001b[0;34m=\u001b[0m \u001b[0mbikes\u001b[0m\u001b[0;34m.\u001b[0m\u001b[0mapply\u001b[0m\u001b[0;34m(\u001b[0m\u001b[0;32mlambda\u001b[0m \u001b[0mx\u001b[0m\u001b[0;34m:\u001b[0m \u001b[0;34m(\u001b[0m\u001b[0mx\u001b[0m\u001b[0;34m.\u001b[0m\u001b[0mId_Aparcamiento_Origen\u001b[0m\u001b[0;34m,\u001b[0m \u001b[0mint\u001b[0m\u001b[0;34m(\u001b[0m\u001b[0mx\u001b[0m\u001b[0;34m.\u001b[0m\u001b[0mId_Aparcamiento_Destino\u001b[0m\u001b[0;34m)\u001b[0m\u001b[0;34m)\u001b[0m\u001b[0;34m,\u001b[0m \u001b[0maxis\u001b[0m\u001b[0;34m=\u001b[0m\u001b[0;36m1\u001b[0m\u001b[0;34m)\u001b[0m\u001b[0;34m\u001b[0m\u001b[0;34m\u001b[0m\u001b[0m\n\u001b[0m",
      "\u001b[0;32m~/.pyenv/versions/3.8.6/envs/lewagon/lib/python3.8/site-packages/pandas/core/frame.py\u001b[0m in \u001b[0;36mapply\u001b[0;34m(self, func, axis, raw, result_type, args, **kwds)\u001b[0m\n\u001b[1;32m   7766\u001b[0m             \u001b[0mkwds\u001b[0m\u001b[0;34m=\u001b[0m\u001b[0mkwds\u001b[0m\u001b[0;34m,\u001b[0m\u001b[0;34m\u001b[0m\u001b[0;34m\u001b[0m\u001b[0m\n\u001b[1;32m   7767\u001b[0m         )\n\u001b[0;32m-> 7768\u001b[0;31m         \u001b[0;32mreturn\u001b[0m \u001b[0mop\u001b[0m\u001b[0;34m.\u001b[0m\u001b[0mget_result\u001b[0m\u001b[0;34m(\u001b[0m\u001b[0;34m)\u001b[0m\u001b[0;34m\u001b[0m\u001b[0;34m\u001b[0m\u001b[0m\n\u001b[0m\u001b[1;32m   7769\u001b[0m \u001b[0;34m\u001b[0m\u001b[0m\n\u001b[1;32m   7770\u001b[0m     \u001b[0;32mdef\u001b[0m \u001b[0mapplymap\u001b[0m\u001b[0;34m(\u001b[0m\u001b[0mself\u001b[0m\u001b[0;34m,\u001b[0m \u001b[0mfunc\u001b[0m\u001b[0;34m,\u001b[0m \u001b[0mna_action\u001b[0m\u001b[0;34m:\u001b[0m \u001b[0mOptional\u001b[0m\u001b[0;34m[\u001b[0m\u001b[0mstr\u001b[0m\u001b[0;34m]\u001b[0m \u001b[0;34m=\u001b[0m \u001b[0;32mNone\u001b[0m\u001b[0;34m)\u001b[0m \u001b[0;34m->\u001b[0m \u001b[0mDataFrame\u001b[0m\u001b[0;34m:\u001b[0m\u001b[0;34m\u001b[0m\u001b[0;34m\u001b[0m\u001b[0m\n",
      "\u001b[0;32m~/.pyenv/versions/3.8.6/envs/lewagon/lib/python3.8/site-packages/pandas/core/apply.py\u001b[0m in \u001b[0;36mget_result\u001b[0;34m(self)\u001b[0m\n\u001b[1;32m    183\u001b[0m             \u001b[0;32mreturn\u001b[0m \u001b[0mself\u001b[0m\u001b[0;34m.\u001b[0m\u001b[0mapply_raw\u001b[0m\u001b[0;34m(\u001b[0m\u001b[0;34m)\u001b[0m\u001b[0;34m\u001b[0m\u001b[0;34m\u001b[0m\u001b[0m\n\u001b[1;32m    184\u001b[0m \u001b[0;34m\u001b[0m\u001b[0m\n\u001b[0;32m--> 185\u001b[0;31m         \u001b[0;32mreturn\u001b[0m \u001b[0mself\u001b[0m\u001b[0;34m.\u001b[0m\u001b[0mapply_standard\u001b[0m\u001b[0;34m(\u001b[0m\u001b[0;34m)\u001b[0m\u001b[0;34m\u001b[0m\u001b[0;34m\u001b[0m\u001b[0m\n\u001b[0m\u001b[1;32m    186\u001b[0m \u001b[0;34m\u001b[0m\u001b[0m\n\u001b[1;32m    187\u001b[0m     \u001b[0;32mdef\u001b[0m \u001b[0mapply_empty_result\u001b[0m\u001b[0;34m(\u001b[0m\u001b[0mself\u001b[0m\u001b[0;34m)\u001b[0m\u001b[0;34m:\u001b[0m\u001b[0;34m\u001b[0m\u001b[0;34m\u001b[0m\u001b[0m\n",
      "\u001b[0;32m~/.pyenv/versions/3.8.6/envs/lewagon/lib/python3.8/site-packages/pandas/core/apply.py\u001b[0m in \u001b[0;36mapply_standard\u001b[0;34m(self)\u001b[0m\n\u001b[1;32m    274\u001b[0m \u001b[0;34m\u001b[0m\u001b[0m\n\u001b[1;32m    275\u001b[0m     \u001b[0;32mdef\u001b[0m \u001b[0mapply_standard\u001b[0m\u001b[0;34m(\u001b[0m\u001b[0mself\u001b[0m\u001b[0;34m)\u001b[0m\u001b[0;34m:\u001b[0m\u001b[0;34m\u001b[0m\u001b[0;34m\u001b[0m\u001b[0m\n\u001b[0;32m--> 276\u001b[0;31m         \u001b[0mresults\u001b[0m\u001b[0;34m,\u001b[0m \u001b[0mres_index\u001b[0m \u001b[0;34m=\u001b[0m \u001b[0mself\u001b[0m\u001b[0;34m.\u001b[0m\u001b[0mapply_series_generator\u001b[0m\u001b[0;34m(\u001b[0m\u001b[0;34m)\u001b[0m\u001b[0;34m\u001b[0m\u001b[0;34m\u001b[0m\u001b[0m\n\u001b[0m\u001b[1;32m    277\u001b[0m \u001b[0;34m\u001b[0m\u001b[0m\n\u001b[1;32m    278\u001b[0m         \u001b[0;31m# wrap results\u001b[0m\u001b[0;34m\u001b[0m\u001b[0;34m\u001b[0m\u001b[0;34m\u001b[0m\u001b[0m\n",
      "\u001b[0;32m~/.pyenv/versions/3.8.6/envs/lewagon/lib/python3.8/site-packages/pandas/core/apply.py\u001b[0m in \u001b[0;36mapply_series_generator\u001b[0;34m(self)\u001b[0m\n\u001b[1;32m    288\u001b[0m             \u001b[0;32mfor\u001b[0m \u001b[0mi\u001b[0m\u001b[0;34m,\u001b[0m \u001b[0mv\u001b[0m \u001b[0;32min\u001b[0m \u001b[0menumerate\u001b[0m\u001b[0;34m(\u001b[0m\u001b[0mseries_gen\u001b[0m\u001b[0;34m)\u001b[0m\u001b[0;34m:\u001b[0m\u001b[0;34m\u001b[0m\u001b[0;34m\u001b[0m\u001b[0m\n\u001b[1;32m    289\u001b[0m                 \u001b[0;31m# ignore SettingWithCopy here in case the user mutates\u001b[0m\u001b[0;34m\u001b[0m\u001b[0;34m\u001b[0m\u001b[0;34m\u001b[0m\u001b[0m\n\u001b[0;32m--> 290\u001b[0;31m                 \u001b[0mresults\u001b[0m\u001b[0;34m[\u001b[0m\u001b[0mi\u001b[0m\u001b[0;34m]\u001b[0m \u001b[0;34m=\u001b[0m \u001b[0mself\u001b[0m\u001b[0;34m.\u001b[0m\u001b[0mf\u001b[0m\u001b[0;34m(\u001b[0m\u001b[0mv\u001b[0m\u001b[0;34m)\u001b[0m\u001b[0;34m\u001b[0m\u001b[0;34m\u001b[0m\u001b[0m\n\u001b[0m\u001b[1;32m    291\u001b[0m                 \u001b[0;32mif\u001b[0m \u001b[0misinstance\u001b[0m\u001b[0;34m(\u001b[0m\u001b[0mresults\u001b[0m\u001b[0;34m[\u001b[0m\u001b[0mi\u001b[0m\u001b[0;34m]\u001b[0m\u001b[0;34m,\u001b[0m \u001b[0mABCSeries\u001b[0m\u001b[0;34m)\u001b[0m\u001b[0;34m:\u001b[0m\u001b[0;34m\u001b[0m\u001b[0;34m\u001b[0m\u001b[0m\n\u001b[1;32m    292\u001b[0m                     \u001b[0;31m# If we have a view on v, we need to make a copy because\u001b[0m\u001b[0;34m\u001b[0m\u001b[0;34m\u001b[0m\u001b[0;34m\u001b[0m\u001b[0m\n",
      "\u001b[0;32m<ipython-input-36-c19a292df279>\u001b[0m in \u001b[0;36m<lambda>\u001b[0;34m(x)\u001b[0m\n\u001b[0;32m----> 1\u001b[0;31m \u001b[0mbikes\u001b[0m\u001b[0;34m[\u001b[0m\u001b[0;34m'routes'\u001b[0m\u001b[0;34m]\u001b[0m \u001b[0;34m=\u001b[0m \u001b[0mbikes\u001b[0m\u001b[0;34m.\u001b[0m\u001b[0mapply\u001b[0m\u001b[0;34m(\u001b[0m\u001b[0;32mlambda\u001b[0m \u001b[0mx\u001b[0m\u001b[0;34m:\u001b[0m \u001b[0;34m(\u001b[0m\u001b[0mx\u001b[0m\u001b[0;34m.\u001b[0m\u001b[0mId_Aparcamiento_Origen\u001b[0m\u001b[0;34m,\u001b[0m \u001b[0mint\u001b[0m\u001b[0;34m(\u001b[0m\u001b[0mx\u001b[0m\u001b[0;34m.\u001b[0m\u001b[0mId_Aparcamiento_Destino\u001b[0m\u001b[0;34m)\u001b[0m\u001b[0;34m)\u001b[0m\u001b[0;34m,\u001b[0m \u001b[0maxis\u001b[0m\u001b[0;34m=\u001b[0m\u001b[0;36m1\u001b[0m\u001b[0;34m)\u001b[0m\u001b[0;34m\u001b[0m\u001b[0;34m\u001b[0m\u001b[0m\n\u001b[0m",
      "\u001b[0;31mValueError\u001b[0m: cannot convert float NaN to integer"
     ]
    }
   ],
   "source": [
    "bikes['routes'] = bikes.apply(lambda x: (x.Id_Aparcamiento_Origen, int(x.Id_Aparcamiento_Destino)), axis=1)"
   ]
  },
  {
   "cell_type": "code",
   "execution_count": null,
   "id": "df018ec7",
   "metadata": {},
   "outputs": [],
   "source": [
    "counts = bike_df.routes.value_counts()\n",
    "x = counts.keys()\n",
    "y = list(counts)\n",
    "plt.figure(figsize=(20,10))\n",
    "sns.barplot(x=x, y=y)\n",
    "plt.title('Most used bike routes', size=15)\n",
    "plt.xticks(rotation=90, size=5)\n",
    "plt.show()"
   ]
  }
 ],
 "metadata": {
  "kernelspec": {
   "display_name": "Python 3",
   "language": "python",
   "name": "python3"
  },
  "language_info": {
   "codemirror_mode": {
    "name": "ipython",
    "version": 3
   },
   "file_extension": ".py",
   "mimetype": "text/x-python",
   "name": "python",
   "nbconvert_exporter": "python",
   "pygments_lexer": "ipython3",
   "version": "3.8.6"
  },
  "toc": {
   "base_numbering": 1,
   "nav_menu": {},
   "number_sections": true,
   "sideBar": true,
   "skip_h1_title": false,
   "title_cell": "Table of Contents",
   "title_sidebar": "Contents",
   "toc_cell": false,
   "toc_position": {},
   "toc_section_display": true,
   "toc_window_display": false
  }
 },
 "nbformat": 4,
 "nbformat_minor": 5
}
