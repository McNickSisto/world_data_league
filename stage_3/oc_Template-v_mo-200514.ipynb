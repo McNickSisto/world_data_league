{
 "cells": [
  {
   "cell_type": "markdown",
   "metadata": {
    "id": "JeP6xkRIBJco"
   },
   "source": [
    "# World Data League 2021 🚲"
   ]
  },
  {
   "cell_type": "markdown",
   "metadata": {},
   "source": [
    "**Sub:** Predicting the demand for shared bicycles in Medellín, CO<br>\n",
    "**Team:** NextEpoch"
   ]
  },
  {
   "cell_type": "markdown",
   "metadata": {
    "id": "JeP6xkRIBJco"
   },
   "source": [
    "## Notebook Template (WDL content)"
   ]
  },
  {
   "cell_type": "markdown",
   "metadata": {
    "id": "JeP6xkRIBJco"
   },
   "source": [
    "This notebook is one of the mandatory deliverables when you submit your solution (alongside the video pitch). Its structure follows the WDL evaluation criteria and it has dedicated cells where you can add descriptions. Make sure your code is readable as it will be the only technical support the jury will have to evaluate your work.\n",
    "The notebook must:\n",
    "*   💻 have all the code that you want the jury to evaluate\n",
    "*   🧱 follow the predefined structure\n",
    "*   📄 have markdown descriptions where you find necessary\n",
    "*   👀 be saved with all the output that you want the jury to see\n",
    "*   🏃‍♂️ be runnable"
   ]
  },
  {
   "cell_type": "markdown",
   "metadata": {
    "id": "1QNcZrkVu9xf"
   },
   "source": [
    "## External links and resources 🔗"
   ]
  },
  {
   "cell_type": "markdown",
   "metadata": {
    "id": "1QNcZrkVu9xf"
   },
   "source": [
    "All used data was acquired through the following links:"
   ]
  },
  {
   "cell_type": "markdown",
   "metadata": {},
   "source": [
    "1. Metro link: https://wdl-data.fra1.digitaloceanspaces.com/medellin/medellin_metro_stations_and_routes.zip\n",
    "2. Bike load csv: https://wdl-data.fra1.digitaloceanspaces.com/medellin/bike_loans.zip\n",
    "3. Bus routes: https://wdl-data.fra1.digitaloceanspaces.com/medellin/medellin_bus_routes.zip\n",
    "4. Weather API: https://openweathermap.org/history\n",
    "5. HERE API Route calculation: https://route.ls.hereapi.com/routing/7.2/calculateroute.json\n",
    "6. Climate of Medellin: https://en.wikipedia.org/wiki/Medell%C3%ADn#Climate\n",
    "7. Academic holiday info of Medellin: https://www.mineducacion.gov.co/1759/articles-402903_m_07.pdf"
   ]
  },
  {
   "cell_type": "markdown",
   "metadata": {
    "id": "63ltgxp_rOpI"
   },
   "source": [
    "## Introduction 👩‍🏫"
   ]
  },
  {
   "cell_type": "markdown",
   "metadata": {
    "id": "63ltgxp_rOpI"
   },
   "source": [
    "**Overview:**\n",
    "During this 2-week’s sprint we are working on historical bike rental data from the provider 'enCicla' in Medellin, Colombia. The company is government owned and provides over 1,600 bicycles distributed in over 101 stations in Medellin and its greater area. The bike rental is for free for everyone who is registered in the system. However, it has operating hours at which the rentals are permitted. \n",
    "\n",
    "_from challenge description_\n",
    "<blockquote>\n",
    "One of the main challenges that the system has is to keep bicycles available by the time the user approaches the station to make a loan and have anchor points available for the moment the user wants to deliver the borrowed bike.\n",
    "</blockquote>\n",
    "\n",
    "The heart of the provided **data** is a transaction log for each bike pick-up and drop-off since 2014. In total there are aprox. 14m rows in the data set. One of the main challenges is to preprocess the data and make it usable for a system balance prediction model. The data includes pre- and post covid rentals. We decided to narrow it down to a pre covid analysis. "
   ]
  },
  {
   "cell_type": "markdown",
   "metadata": {
    "id": "C8rCpNajszur"
   },
   "source": [
    "## Development ⚙️"
   ]
  },
  {
   "cell_type": "markdown",
   "metadata": {
    "id": "afB4W0KnutpV"
   },
   "source": [
    "### Imports (libraries) 📚"
   ]
  },
  {
   "cell_type": "code",
   "execution_count": 1,
   "metadata": {
    "ExecuteTime": {
     "end_time": "2021-05-14T05:47:09.501859Z",
     "start_time": "2021-05-14T05:47:08.228284Z"
    },
    "id": "J4jPpcKOutZ5"
   },
   "outputs": [],
   "source": [
    "## TABULAR\n",
    "import pandas as pd \n",
    "import numpy as np\n",
    "import matplotlib\n",
    "\n",
    "## GEO\n",
    "import geopandas as gpd\n",
    "import fiona\n",
    "import folium\n",
    "from folium.plugins import MarkerCluster, HeatMap, BeautifyIcon\n",
    "from folium.map import LayerControl, Layer, FeatureGroup\n",
    "from folium.vector_layers import Circle, CircleMarker\n",
    "from shapely.geometry import LineString, Point\n",
    "from shapely import wkt\n",
    "\n",
    "\n",
    "## DATA\n",
    "import os\n",
    "import zipfile\n",
    "from collections import Counter\n",
    "import re\n",
    "from datetime import datetime\n",
    "import requests\n",
    "from dotenv import load_dotenv, find_dotenv\n",
    "import ast\n",
    "import datetime as dt\n",
    "\n",
    "## VIS\n",
    "from ipywidgets import interact, interactive, fixed, interact_manual, IntSlider\n",
    "import seaborn as sns\n",
    "import matplotlib.pyplot as plt\n",
    "import statsmodels.tsa\n",
    "import branca"
   ]
  },
  {
   "cell_type": "markdown",
   "metadata": {},
   "source": [
    "### Data Extraction 🏗"
   ]
  },
  {
   "cell_type": "markdown",
   "metadata": {},
   "source": [
    "The provided data comes in different types of file extensions.  <br> \n",
    "Some of the files are **very big** and for this reason is easier to call them just when we need them. <br>\n",
    "For this reason we are going to create a class that will be able to read and extract the data, already operating the first **cleaning** steps."
   ]
  },
  {
   "cell_type": "code",
   "execution_count": 2,
   "metadata": {
    "ExecuteTime": {
     "end_time": "2021-05-14T05:47:23.098074Z",
     "start_time": "2021-05-14T05:47:23.077267Z"
    }
   },
   "outputs": [],
   "source": [
    "gpd.io.file.fiona.drvsupport.supported_drivers['KML'] = 'rw' # necessary for kml files\n",
    "class Databases:\n",
    "    def __init__(self, csv, anva, smm, metro): # pass the file names stored in 'raw_data/'\n",
    "        self.csv = csv\n",
    "        self.anva = anva \n",
    "        self.smm = smm\n",
    "        self.metro = metro\n",
    "\n",
    "    def extract_csv(self):\n",
    "        # bike rental logs\n",
    "        file = pd.read_csv(f'data/bike_loans/{self.csv}', sep=';').drop(columns=['Importe', \n",
    "                                                                        'DescripcionImporte', \n",
    "                                                                        'operario']) # drop irrelevant columns\n",
    "        file['Fecha_Prestamo'] = pd.to_datetime(file['Fecha_Prestamo'])\n",
    "        file['Fecha_Devolucion'] = pd.to_datetime(file['Fecha_Devolucion'])\n",
    "        return file\n",
    "        \n",
    "    \n",
    "    def extract_anva(self):\n",
    "        # regional bus routes\n",
    "        bus_routes_AMVA = gpd.GeoDataFrame()\n",
    "        for root, dirs, files in os.walk(f'data/bus_routes/medellin_bus_routes/{self.anva}'):\n",
    "            for file in files:\n",
    "                path = os.path.join(root, file)\n",
    "                df = gpd.read_file(path, driver='KML')\n",
    "                bus_routes_AMVA = gpd.GeoDataFrame(pd.concat([bus_routes_AMVA, df], ignore_index=True))\n",
    "        return bus_routes_AMVA\n",
    "    \n",
    "    def extract_smm(self):\n",
    "        # municipal bus routes medellin\n",
    "        smm_bus_routes = gpd.GeoDataFrame()\n",
    "        for root, dirs, files in os.walk(f'data/bus_routes/medellin_bus_routes/{self.smm}'):\n",
    "            for file in files:\n",
    "                path = os.path.join(root, file)\n",
    "                df = gpd.read_file(path, driver='KML')\n",
    "                smm_bus_routes = gpd.GeoDataFrame(pd.concat([smm_bus_routes, df], ignore_index=True))\n",
    "        return smm_bus_routes\n",
    "    \n",
    "    def extract_metro(self):\n",
    "        # metro routes\n",
    "        metro_routes = gpd.GeoDataFrame()\n",
    "        for root, dirs, files in os.walk(f'data/medellin_metro/{self.metro}'):\n",
    "            for file in files:\n",
    "                path = os.path.join(root, file)\n",
    "                print(path)\n",
    "                if path.endswith('.kmz'):\n",
    "                    kmz = zipfile.ZipFile(path, 'r')\n",
    "                    kml = kmz.open('doc.kml', 'r')\n",
    "                    df = gpd.read_file(kml, driver='KML')\n",
    "                    metro_routes = gpd.GeoDataFrame(pd.concat([metro_routes, df], ignore_index=True))\n",
    "        return metro_routes"
   ]
  },
  {
   "cell_type": "code",
   "execution_count": 3,
   "metadata": {
    "ExecuteTime": {
     "end_time": "2021-05-14T05:47:24.194778Z",
     "start_time": "2021-05-14T05:47:24.191290Z"
    }
   },
   "outputs": [],
   "source": [
    "databases = Databases('bike_loans.csv','Kml Ruta AMVA','kml Ruta SMM','medellin_metro_stations')"
   ]
  },
  {
   "cell_type": "code",
   "execution_count": 4,
   "metadata": {
    "ExecuteTime": {
     "end_time": "2021-05-14T05:47:53.303224Z",
     "start_time": "2021-05-14T05:47:24.983262Z"
    }
   },
   "outputs": [
    {
     "data": {
      "text/plain": [
       "Id_Historico_Prestamo               int64\n",
       "Id_Usuario                          int64\n",
       "Id_Tag_Bicicleta                   object\n",
       "Fecha_Prestamo             datetime64[ns]\n",
       "Fecha_Devolucion           datetime64[ns]\n",
       "Id_Aparcamiento_Origen              int64\n",
       "Posicion_Origen                     int64\n",
       "Id_Aparcamiento_Destino           float64\n",
       "Posicion_Destino                  float64\n",
       "Num_Bici_Hist                     float64\n",
       "dtype: object"
      ]
     },
     "execution_count": 4,
     "metadata": {},
     "output_type": "execute_result"
    }
   ],
   "source": [
    "bikes = databases.extract_csv() # for our preliminary analysis we only need the bike logs (no public transportation)\n",
    "bikes.dtypes"
   ]
  },
  {
   "cell_type": "markdown",
   "metadata": {},
   "source": [
    "### Preliminary Analysis 📊"
   ]
  },
  {
   "cell_type": "markdown",
   "metadata": {},
   "source": [
    "We can start our analy|sis with a general description of the dataset. <br>\n",
    "**NB**: In our dataset we are dealing with all categorical features or timeseries: there is no need to run ```describe()``` "
   ]
  },
  {
   "cell_type": "markdown",
   "metadata": {},
   "source": [
    "#### Bike usage"
   ]
  },
  {
   "cell_type": "markdown",
   "metadata": {},
   "source": [
    "- Id_Tag_Bicicleta : column regarding unique id of each bicycle \n",
    "***let's have a look on how many times the same bike is used (how many times the unique id is present in the df)**"
   ]
  },
  {
   "cell_type": "code",
   "execution_count": 5,
   "metadata": {
    "ExecuteTime": {
     "end_time": "2021-05-14T05:47:54.715888Z",
     "start_time": "2021-05-14T05:47:53.305624Z"
    }
   },
   "outputs": [
    {
     "data": {
      "image/png": "[encoded data removed]",
      "text/plain": [
       "<Figure size 720x360 with 1 Axes>"
      ]
     },
     "metadata": {
      "needs_background": "light"
     },
     "output_type": "display_data"
    }
   ],
   "source": [
    "# plot the usage of unique bikes and its distribution\n",
    "plt.figure(figsize=(10,5))\n",
    "plt.title('Bike usage distribution', size=20)\n",
    "counts = bikes.Id_Tag_Bicicleta.value_counts()[::66]\n",
    "y_pos = np.arange(len(counts))\n",
    "plt.bar(y_pos, counts)\n",
    "plt.xlabel('Bikes available in %', size=15)\n",
    "# plt.text(x=22, y=6000, s=f'Cutoff: 20% of highest usage', size='x-large')\n",
    "plt.axvline(16, color='r', linestyle='--')\n",
    "\n",
    "plt.show()"
   ]
  },
  {
   "cell_type": "markdown",
   "metadata": {},
   "source": [
    "**Note**<br>\n",
    "There is a strong elbow visible between the 10th and 20th percentile. This could either derive from a highly rising bike usage over the years and thus, underrepresented usage for depreciated bikes. It could also mean that some bikes are significantly standing around too much because they are put to the wrong stations at wrong times and therefore not used enough. "
   ]
  },
  {
   "cell_type": "code",
   "execution_count": 6,
   "metadata": {
    "ExecuteTime": {
     "end_time": "2021-05-14T05:47:55.334506Z",
     "start_time": "2021-05-14T05:47:54.717417Z"
    }
   },
   "outputs": [
    {
     "name": "stdout",
     "output_type": "stream",
     "text": [
      "In total we have 6698 unique bikes over all recorded time\n"
     ]
    }
   ],
   "source": [
    "print(f'In total we have {len(bikes.Id_Tag_Bicicleta.unique())} unique bikes over all recorded time')"
   ]
  },
  {
   "cell_type": "markdown",
   "metadata": {},
   "source": [
    "#### Rental distribution"
   ]
  },
  {
   "cell_type": "markdown",
   "metadata": {},
   "source": [
    "In our dataset we have information about the bike itself, the station of arrival and departures and the costumer. To characterized all this information we have also 2 time series: ```Fecha_Prestamo``` & ```Fecha_Devolucion``` \n",
    "\n",
    "<br>\n",
    "Thanks to these we can have an idea of the time in which the bike are more used, which routes are more popular during a certain range of time and also how the data collected has changed during the years, according maybe to the change in habits of the population. "
   ]
  },
  {
   "cell_type": "code",
   "execution_count": 7,
   "metadata": {
    "ExecuteTime": {
     "end_time": "2021-05-14T05:47:55.901835Z",
     "start_time": "2021-05-14T05:47:55.336010Z"
    }
   },
   "outputs": [
    {
     "data": {
      "text/html": [
       "<div>\n",
       "<style scoped>\n",
       "    .dataframe tbody tr th:only-of-type {\n",
       "        vertical-align: middle;\n",
       "    }\n",
       "\n",
       "    .dataframe tbody tr th {\n",
       "        vertical-align: top;\n",
       "    }\n",
       "\n",
       "    .dataframe thead th {\n",
       "        text-align: right;\n",
       "    }\n",
       "</style>\n",
       "<table border=\"1\" class=\"dataframe\">\n",
       "  <thead>\n",
       "    <tr style=\"text-align: right;\">\n",
       "      <th></th>\n",
       "      <th>Id_Historico_Prestamo</th>\n",
       "      <th>Id_Usuario</th>\n",
       "      <th>Id_Tag_Bicicleta</th>\n",
       "      <th>Fecha_Prestamo</th>\n",
       "      <th>Fecha_Devolucion</th>\n",
       "      <th>Id_Aparcamiento_Origen</th>\n",
       "      <th>Posicion_Origen</th>\n",
       "      <th>Id_Aparcamiento_Destino</th>\n",
       "      <th>Posicion_Destino</th>\n",
       "      <th>Num_Bici_Hist</th>\n",
       "      <th>hour_init</th>\n",
       "      <th>hour_end</th>\n",
       "    </tr>\n",
       "  </thead>\n",
       "  <tbody>\n",
       "    <tr>\n",
       "      <th>0</th>\n",
       "      <td>6501462</td>\n",
       "      <td>18701</td>\n",
       "      <td>000017B00743</td>\n",
       "      <td>2017-06-21 14:22:11</td>\n",
       "      <td>2017-06-21 14:38:29</td>\n",
       "      <td>8</td>\n",
       "      <td>1</td>\n",
       "      <td>43.0</td>\n",
       "      <td>1.0</td>\n",
       "      <td>929.0</td>\n",
       "      <td>14</td>\n",
       "      <td>14</td>\n",
       "    </tr>\n",
       "    <tr>\n",
       "      <th>1</th>\n",
       "      <td>6501318</td>\n",
       "      <td>41811</td>\n",
       "      <td>000017AFF83C</td>\n",
       "      <td>2017-06-21 14:07:18</td>\n",
       "      <td>2017-06-21 14:39:06</td>\n",
       "      <td>56</td>\n",
       "      <td>6</td>\n",
       "      <td>54.0</td>\n",
       "      <td>NaN</td>\n",
       "      <td>1612.0</td>\n",
       "      <td>14</td>\n",
       "      <td>14</td>\n",
       "    </tr>\n",
       "    <tr>\n",
       "      <th>2</th>\n",
       "      <td>6501489</td>\n",
       "      <td>96620</td>\n",
       "      <td>000017AFFB6F</td>\n",
       "      <td>2017-06-21 14:25:11</td>\n",
       "      <td>2017-06-21 14:39:07</td>\n",
       "      <td>36</td>\n",
       "      <td>25</td>\n",
       "      <td>9.0</td>\n",
       "      <td>13.0</td>\n",
       "      <td>1679.0</td>\n",
       "      <td>14</td>\n",
       "      <td>14</td>\n",
       "    </tr>\n",
       "    <tr>\n",
       "      <th>3</th>\n",
       "      <td>6501001</td>\n",
       "      <td>16055</td>\n",
       "      <td>0000182A3B7B</td>\n",
       "      <td>2017-06-21 13:35:52</td>\n",
       "      <td>2017-06-21 14:39:22</td>\n",
       "      <td>8</td>\n",
       "      <td>1</td>\n",
       "      <td>9.0</td>\n",
       "      <td>6.0</td>\n",
       "      <td>1076.0</td>\n",
       "      <td>13</td>\n",
       "      <td>14</td>\n",
       "    </tr>\n",
       "    <tr>\n",
       "      <th>4</th>\n",
       "      <td>6501421</td>\n",
       "      <td>6431</td>\n",
       "      <td>000017AFE810</td>\n",
       "      <td>2017-06-21 14:17:56</td>\n",
       "      <td>2017-06-21 14:39:26</td>\n",
       "      <td>56</td>\n",
       "      <td>14</td>\n",
       "      <td>54.0</td>\n",
       "      <td>NaN</td>\n",
       "      <td>1176.0</td>\n",
       "      <td>14</td>\n",
       "      <td>14</td>\n",
       "    </tr>\n",
       "  </tbody>\n",
       "</table>\n",
       "</div>"
      ],
      "text/plain": [
       "   Id_Historico_Prestamo  Id_Usuario Id_Tag_Bicicleta      Fecha_Prestamo  \\\n",
       "0                6501462       18701     000017B00743 2017-06-21 14:22:11   \n",
       "1                6501318       41811     000017AFF83C 2017-06-21 14:07:18   \n",
       "2                6501489       96620     000017AFFB6F 2017-06-21 14:25:11   \n",
       "3                6501001       16055     0000182A3B7B 2017-06-21 13:35:52   \n",
       "4                6501421        6431     000017AFE810 2017-06-21 14:17:56   \n",
       "\n",
       "     Fecha_Devolucion  Id_Aparcamiento_Origen  Posicion_Origen  \\\n",
       "0 2017-06-21 14:38:29                       8                1   \n",
       "1 2017-06-21 14:39:06                      56                6   \n",
       "2 2017-06-21 14:39:07                      36               25   \n",
       "3 2017-06-21 14:39:22                       8                1   \n",
       "4 2017-06-21 14:39:26                      56               14   \n",
       "\n",
       "   Id_Aparcamiento_Destino  Posicion_Destino  Num_Bici_Hist  hour_init  \\\n",
       "0                     43.0               1.0          929.0         14   \n",
       "1                     54.0               NaN         1612.0         14   \n",
       "2                      9.0              13.0         1679.0         14   \n",
       "3                      9.0               6.0         1076.0         13   \n",
       "4                     54.0               NaN         1176.0         14   \n",
       "\n",
       "   hour_end  \n",
       "0        14  \n",
       "1        14  \n",
       "2        14  \n",
       "3        14  \n",
       "4        14  "
      ]
     },
     "execution_count": 7,
     "metadata": {},
     "output_type": "execute_result"
    }
   ],
   "source": [
    "# Extracting just the hour: \n",
    "bikes['hour_init']= bikes['Fecha_Prestamo'].dt.hour\n",
    "bikes['hour_end']=bikes['Fecha_Devolucion'].dt.hour\n",
    "bikes.head(5)"
   ]
  },
  {
   "cell_type": "code",
   "execution_count": 8,
   "metadata": {
    "ExecuteTime": {
     "end_time": "2021-05-14T05:47:56.189960Z",
     "start_time": "2021-05-14T05:47:55.902837Z"
    }
   },
   "outputs": [
    {
     "name": "stderr",
     "output_type": "stream",
     "text": [
      "/Users/moritzgeiger/.pyenv/versions/3.8.6/envs/lewagon/lib/python3.8/site-packages/seaborn/_decorators.py:36: FutureWarning: Pass the following variables as keyword args: x, y. From version 0.12, the only valid positional argument will be `data`, and passing other arguments without an explicit keyword will result in an error or misinterpretation.\n",
      "  warnings.warn(\n"
     ]
    },
    {
     "name": "stdout",
     "output_type": "stream",
     "text": [
      "The highest usage of bikes is at 17h and 7h\n"
     ]
    },
    {
     "data": {
      "image/png": "[encoded data removed]",
      "text/plain": [
       "<Figure size 1080x576 with 1 Axes>"
      ]
     },
     "metadata": {
      "needs_background": "light"
     },
     "output_type": "display_data"
    }
   ],
   "source": [
    "# plot the mean distribution of bike rentals over the day\n",
    "plt.figure(figsize=(15,8))\n",
    "hours = pd.DataFrame(bikes.hour_init.value_counts())\n",
    "hours = hours.drop(index=[1,2,3,4,23,0]) # out of operation hours\n",
    "sns.barplot(hours.index,hours.hour_init)\n",
    "plt.title('Rental distribution over the day', size=20)\n",
    "plt.xlabel('Hours', size=15)\n",
    "plt.ylabel('Count/Hours', size=15)\n",
    "print(f'The highest usage of bikes is at 17h and 7h')"
   ]
  },
  {
   "cell_type": "markdown",
   "metadata": {},
   "source": [
    "#### Bike Routes"
   ]
  },
  {
   "cell_type": "code",
   "execution_count": 9,
   "metadata": {
    "ExecuteTime": {
     "end_time": "2021-05-14T05:51:50.848186Z",
     "start_time": "2021-05-14T05:47:56.191125Z"
    }
   },
   "outputs": [],
   "source": [
    "# create a 'routes' feature with a string <start>_<finish>\n",
    "bikes = bikes.dropna()\n",
    "bikes['routes'] = bikes.apply(lambda x: f'{x.Id_Aparcamiento_Origen}_{int(x.Id_Aparcamiento_Destino)}', axis=1)"
   ]
  },
  {
   "cell_type": "markdown",
   "metadata": {},
   "source": [
    "- We can now try to understand the routes depending on the our of the day.\n",
    "- During all the analysis we will focus on the hours as main indicator as our target regard the best distribution of bikes **xhour**"
   ]
  },
  {
   "cell_type": "code",
   "execution_count": 10,
   "metadata": {
    "ExecuteTime": {
     "end_time": "2021-05-14T05:51:53.209351Z",
     "start_time": "2021-05-14T05:51:50.850287Z"
    }
   },
   "outputs": [],
   "source": [
    "# grouping by hour\n",
    "bikes['hour'] = bikes.Fecha_Prestamo.dt.hour\n",
    "agg = {'Id_Aparcamiento_Origen':'count', \n",
    "      'routes': lambda x: list(x)}\n",
    "routes_by_hr = bikes.groupby('hour').agg(agg).rename(columns={'Id_Aparcamiento_Origen':'count_rentals'})"
   ]
  },
  {
   "cell_type": "code",
   "execution_count": 11,
   "metadata": {
    "ExecuteTime": {
     "end_time": "2021-05-14T05:51:54.594821Z",
     "start_time": "2021-05-14T05:51:53.212795Z"
    }
   },
   "outputs": [],
   "source": [
    "# count the amount of occuring routes per hour (counting the ocurrences in the lists)\n",
    "routes_dict = {}\n",
    "for c, row in routes_by_hr.iterrows():\n",
    "    routes_dict[c] = dict(Counter(row.routes))\n",
    "\n",
    "routes_usage = pd.DataFrame.from_dict(routes_dict)"
   ]
  },
  {
   "cell_type": "code",
   "execution_count": 12,
   "metadata": {
    "ExecuteTime": {
     "end_time": "2021-05-14T05:51:56.535501Z",
     "start_time": "2021-05-14T05:51:54.596552Z"
    }
   },
   "outputs": [],
   "source": [
    "# grouping by hour\n",
    "agg = {'Id_Aparcamiento_Origen':'count', \n",
    "      'routes': lambda x: list(x)}\n",
    "routes_by_hr = bikes.groupby('hour_init').agg(agg).rename(columns={'Id_Aparcamiento_Origen':'count_rentals'})"
   ]
  },
  {
   "cell_type": "markdown",
   "metadata": {},
   "source": [
    "##### Route usage graph"
   ]
  },
  {
   "cell_type": "markdown",
   "metadata": {},
   "source": [
    "Let's see which routes were used most in which times of the day."
   ]
  },
  {
   "cell_type": "code",
   "execution_count": 13,
   "metadata": {
    "ExecuteTime": {
     "end_time": "2021-05-14T05:51:56.560112Z",
     "start_time": "2021-05-14T05:51:56.536615Z"
    }
   },
   "outputs": [],
   "source": [
    "# take the top3 routes per hour\n",
    "rank_routes = {}\n",
    "for hour in routes_usage.columns:\n",
    "    top3 = dict(routes_usage[hour].sort_values(ascending=False)[:3])\n",
    "    rank_routes[hour] = top3\n",
    "rank_routes_df = pd.DataFrame(rank_routes).T"
   ]
  },
  {
   "cell_type": "code",
   "execution_count": 14,
   "metadata": {
    "ExecuteTime": {
     "end_time": "2021-05-14T05:51:58.046700Z",
     "start_time": "2021-05-14T05:51:56.561247Z"
    },
    "scrolled": false
   },
   "outputs": [
    {
     "data": {
      "image/png": "[encoded data removed]",
      "text/plain": [
       "<Figure size 1440x720 with 1 Axes>"
      ]
     },
     "metadata": {
      "needs_background": "light"
     },
     "output_type": "display_data"
    }
   ],
   "source": [
    "rank_routes_df.loc[5:21].plot(kind='bar', figsize=(20,10), width=5, stacked=False, align='center') # only take operating hours\n",
    "plt.title('Usage of top 3 routes per hour', size=18)\n",
    "plt.xlabel('Hours', size=15)\n",
    "plt.ylabel('Count/Hours', size=15)\n",
    "plt.grid()\n",
    "plt.show()"
   ]
  },
  {
   "cell_type": "markdown",
   "metadata": {},
   "source": [
    "**Note**<br>\n",
    "- In the morning hours the route ```8_10``` is represented in high numbers followed by ```7_70```\n",
    "- In the evening hours there are more ```2_1``` and ```10_8``` rentals recorded\n",
    "- Noons and afternoons have a stable distribution of ```70_7``` (returns of the mornings)\n",
    "- Way less people go back the same way they came from (```8_10``` vs. ```10_8```)"
   ]
  },
  {
   "cell_type": "markdown",
   "metadata": {},
   "source": [
    "##### Road usage map"
   ]
  },
  {
   "cell_type": "markdown",
   "metadata": {},
   "source": [
    "The routes balance can also be visualized in a **map.**"
   ]
  },
  {
   "cell_type": "markdown",
   "metadata": {},
   "source": [
    "In order to show the routes in a more realistic way, we transformed them into routes (LineStrings) computed by the ```HERE API```. The code for this you can find here in the [appendix](#Calculate-routes-with-HERE-API)."
   ]
  },
  {
   "cell_type": "code",
   "execution_count": 15,
   "metadata": {
    "ExecuteTime": {
     "end_time": "2021-05-14T05:51:58.200623Z",
     "start_time": "2021-05-14T05:51:58.047662Z"
    }
   },
   "outputs": [],
   "source": [
    "# reload file after using HERE API\n",
    "# already contains coordinates\n",
    "routes_usage_x = pd.read_csv('data/routes_usage.csv', \n",
    "                             index_col=0, \n",
    "                             converters={'start_coord':ast.literal_eval}).dropna(subset=['geometry'])\n",
    "routes_usage_x = gpd.GeoDataFrame(routes_usage_x)\n",
    "routes_usage_x['geometry'] = routes_usage_x['geometry'].apply(wkt.loads)"
   ]
  },
  {
   "cell_type": "code",
   "execution_count": 16,
   "metadata": {
    "ExecuteTime": {
     "end_time": "2021-05-14T05:51:58.309059Z",
     "start_time": "2021-05-14T05:51:58.201607Z"
    }
   },
   "outputs": [
    {
     "data": {
      "text/plain": [
       "5720"
      ]
     },
     "execution_count": 16,
     "metadata": {},
     "output_type": "execute_result"
    }
   ],
   "source": [
    "# check for valid coords\n",
    "(routes_usage_x.geometry == routes_usage_x.geometry).sum()"
   ]
  },
  {
   "cell_type": "code",
   "execution_count": 17,
   "metadata": {
    "ExecuteTime": {
     "end_time": "2021-05-14T05:51:58.572193Z",
     "start_time": "2021-05-14T05:51:58.311014Z"
    }
   },
   "outputs": [
    {
     "name": "stdout",
     "output_type": "stream",
     "text": [
      "####################################### Density flow daily bike usage ########################################\n",
      "\n",
      "Move 'hour' bar to see the flow change\n"
     ]
    },
    {
     "data": {
      "application/vnd.jupyter.widget-view+json": {
       "model_id": "9e4092e15a4440898f4f5b740a55f6da",
       "version_major": 2,
       "version_minor": 0
      },
      "text/plain": [
       "interactive(children=(IntSlider(value=8, description='hour', max=21, min=5), Checkbox(value=True, description=…"
      ]
     },
     "metadata": {},
     "output_type": "display_data"
    },
    {
     "data": {
      "text/plain": [
       "<function __main__.mapa(hour, show_routes, show_stations)>"
      ]
     },
     "execution_count": 17,
     "metadata": {},
     "output_type": "execute_result"
    }
   ],
   "source": [
    "# plot route density and station demand\n",
    "def mapa(hour, show_routes, show_stations):\n",
    "    hour = str(hour) # col names are read in str\n",
    "    m = folium.Map([6.25, -75.58], zoom_start=13, tiles='cartodbpositron')\n",
    "    \n",
    "    hour_df = routes_usage_x[routes_usage_x[hour] == routes_usage_x[hour]][[hour, 'start_id', 'start_coord', 'geometry']]\n",
    "    hour_df = hour_df[hour_df.geometry == hour_df.geometry].sort_values(by=hour, ascending=False)\n",
    "    hour_df = hour_df.dropna().head(100)\n",
    "    hour_df = gpd.GeoDataFrame(hour_df)\n",
    "    \n",
    "    # routes\n",
    "#     cmap = matplotlib.cm.get_cmap('BuPu')\n",
    "    cmap = branca.colormap.linear.BuPu_09.scale(0, 1)\n",
    "    routes = FeatureGroup(name='Routes', show=show_routes)\n",
    "    for c, row in hour_df.iterrows():\n",
    "        # routes\n",
    "        hexa = matplotlib.colors.to_hex(cmap(row[hour]/hour_df[hour].max()))\n",
    "        xy = row.geometry.coords.xy\n",
    "        coords = [[x[i] for x in [xy[1], xy[0]]] for i in range(len(xy[0]))]\n",
    "        folium.PolyLine(coords, \n",
    "                        color=hexa, \n",
    "                        weight=10, \n",
    "                        tooltip=f'Route: {c}',\n",
    "                        opacity=.3).add_to(routes)\n",
    "    \n",
    "    # circles\n",
    "    pickup_df = hour_df.groupby('start_id').agg({hour:'sum', 'start_coord':'first'})\n",
    "    cmapa = branca.colormap.linear.YlOrRd_09.scale(0, 1)\n",
    "#     cmapa = matplotlib.cm.get_cmap('YlOrRd')\n",
    "    stations = FeatureGroup(name='Stations', show=show_stations)\n",
    "    for c, row in pickup_df.iterrows():\n",
    "        size = (np.sqrt(row[hour])/19)**2\n",
    "        hexe = matplotlib.colors.to_hex(cmapa(row[hour]/hour_df[hour].max()))\n",
    "\n",
    "        CircleMarker((row.start_coord[1],row.start_coord[0]), \n",
    "                     radius=size, \n",
    "                     fill=True, \n",
    "                     tooltip=f'Station: {c}', \n",
    "                     color=hexe,\n",
    "                     weight=0,\n",
    "                     fill_opacity=.2\n",
    "                    ).add_to(stations)\n",
    "    \n",
    "    # add layer stations to m\n",
    "    cmapa.caption = 'Relative demand per station and hour of the day'\n",
    "    cmapa.add_to(m)\n",
    "    stations.add_to(m)\n",
    "    \n",
    "    # add layer routes to m\n",
    "    routes.add_to(m)\n",
    "    cmap.caption = 'Density of route usage per hour of the day'\n",
    "    cmap.add_to(m)\n",
    "    LayerControl().add_to(m)\n",
    "    return m\n",
    "title = ' Density flow daily bike usage '\n",
    "print (title.center(110, '#'))\n",
    "print('\\nMove \\'hour\\' bar to see the flow change')\n",
    "interact(mapa, hour=IntSlider(min=5, max=21, step=1, value=8), show_routes=True, show_stations=True)"
   ]
  },
  {
   "cell_type": "markdown",
   "metadata": {},
   "source": [
    "**Note**<br>\n",
    "The data for the circles of stations is beautified for better displaying purposes.\n",
    "We can clearly see what has been described in the previous [graph](#Route-usage-graph). The most popular destinations are the three campuses of universities in the city of Medellin.\n",
    "- Universidad Pontificia Bolivariana (Station: 10)\n",
    "- Universidad Nacional de Colombia (Station: 70)\n",
    "- Universidad de Antioquia (Stations: 2 & 3)\n",
    "\n",
    "The biggest demand for bikes is visible in the two Metro stations: \n",
    "- Suramericana (Station: 7)\n",
    "- Estadio (Station: 8)"
   ]
  },
  {
   "cell_type": "markdown",
   "metadata": {},
   "source": [
    "#### Rental behavior"
   ]
  },
  {
   "cell_type": "markdown",
   "metadata": {},
   "source": [
    "To understand the rental behavior it is important to look at the rental details. How are the \n",
    "- how many times were bikes returned to the **same** station?\n",
    "- how many times were bikes rented **less** than 2 mins?"
   ]
  },
  {
   "cell_type": "code",
   "execution_count": 18,
   "metadata": {
    "ExecuteTime": {
     "end_time": "2021-05-14T05:51:58.839127Z",
     "start_time": "2021-05-14T05:51:58.573130Z"
    }
   },
   "outputs": [],
   "source": [
    "bikes['timespan_min'] = (bikes.Fecha_Devolucion - bikes.Fecha_Prestamo).dt.seconds/60"
   ]
  },
  {
   "cell_type": "code",
   "execution_count": 19,
   "metadata": {
    "ExecuteTime": {
     "end_time": "2021-05-14T05:51:59.950130Z",
     "start_time": "2021-05-14T05:51:58.840264Z"
    }
   },
   "outputs": [
    {
     "data": {
      "image/png": "[encoded data removed]",
      "text/plain": [
       "<Figure size 1080x576 with 1 Axes>"
      ]
     },
     "metadata": {
      "needs_background": "light"
     },
     "output_type": "display_data"
    }
   ],
   "source": [
    "# plot the time spans of bike rentals\n",
    "bikes.timespan_min.hist(bins=1000, figsize=(15,8), edgecolor='white')\n",
    "plt.xlim(0,125)\n",
    "plt.title('Distribution of rental time in minutes', size=18)\n",
    "plt.text(50, 500000, s='Understand \"unrented\" bikes', c='r', rotation='horizontal', fontsize=20)\n",
    "plt.arrow(1, 400000, 50, 80000, color='r', width=1)\n",
    "plt.xlabel('Rental time in mins', size=15)\n",
    "plt.show()"
   ]
  },
  {
   "cell_type": "code",
   "execution_count": 20,
   "metadata": {
    "ExecuteTime": {
     "end_time": "2021-05-14T05:51:59.964474Z",
     "start_time": "2021-05-14T05:51:59.951160Z"
    }
   },
   "outputs": [],
   "source": [
    "# re split the df to see start and finish ids separately\n",
    "routes_usage['start_id'] = routes_usage.index.map(lambda x: x.split('_')[0])\n",
    "routes_usage['finish_id'] = routes_usage.index.map(lambda x: x.split('_')[1])\n",
    "routes_usage['no_move'] = routes_usage.start_id == routes_usage.finish_id # tag routes which returned to the same station"
   ]
  },
  {
   "cell_type": "code",
   "execution_count": 21,
   "metadata": {
    "ExecuteTime": {
     "end_time": "2021-05-14T05:52:00.351334Z",
     "start_time": "2021-05-14T05:51:59.965439Z"
    }
   },
   "outputs": [
    {
     "name": "stderr",
     "output_type": "stream",
     "text": [
      "/Users/moritzgeiger/.pyenv/versions/3.8.6/envs/lewagon/lib/python3.8/site-packages/seaborn/distributions.py:2557: FutureWarning: `distplot` is a deprecated function and will be removed in a future version. Please adapt your code to use either `displot` (a figure-level function with similar flexibility) or `histplot` (an axes-level function for histograms).\n",
      "  warnings.warn(msg, FutureWarning)\n",
      "/Users/moritzgeiger/.pyenv/versions/3.8.6/envs/lewagon/lib/python3.8/site-packages/seaborn/distributions.py:2557: FutureWarning: `distplot` is a deprecated function and will be removed in a future version. Please adapt your code to use either `displot` (a figure-level function with similar flexibility) or `histplot` (an axes-level function for histograms).\n",
      "  warnings.warn(msg, FutureWarning)\n"
     ]
    },
    {
     "data": {
      "image/png": "[encoded data removed]",
      "text/plain": [
       "<Figure size 1440x360 with 2 Axes>"
      ]
     },
     "metadata": {
      "needs_background": "light"
     },
     "output_type": "display_data"
    }
   ],
   "source": [
    "# how many times were bikes returned to the same station?\n",
    "# how many times were bikes rented less than 2 mins?\n",
    "plt.figure(figsize=(20,5))\n",
    "plt.subplot(1,2,1)\n",
    "sns.distplot(routes_usage.no_move, bins=2, kde=False)\n",
    "plt.title('Bikes returned to the same station')\n",
    "plt.subplot(1,2,2)\n",
    "under_2 = bikes.timespan_min < 2\n",
    "sns.distplot(under_2, bins=2, kde=False)\n",
    "plt.title('Bikes rented less than 2 mins')\n",
    "plt.show()"
   ]
  },
  {
   "cell_type": "markdown",
   "metadata": {},
   "source": [
    "**Note**<br>\n",
    "The distribution of rentals to the same station is rather small but it is of course likely for people to drop off bikes at the same station as they picked them up. That data should be kept in the data set."
   ]
  },
  {
   "cell_type": "markdown",
   "metadata": {},
   "source": [
    "### Pandemic analysis 😷"
   ]
  },
  {
   "cell_type": "markdown",
   "metadata": {},
   "source": [
    "In the last year our habits changed a lot due to the pandemic we are dealing day by day with. For this reason we cannot avoid to take this factor into account.\n",
    "\n",
    "**Let's see how our data changed before and after the spreading of the Corona Virus:**"
   ]
  },
  {
   "cell_type": "code",
   "execution_count": 22,
   "metadata": {
    "ExecuteTime": {
     "end_time": "2021-05-14T05:52:05.759762Z",
     "start_time": "2021-05-14T05:52:00.352462Z"
    }
   },
   "outputs": [],
   "source": [
    "bikes['year'] = bikes.Fecha_Prestamo.dt.year\n",
    "evolution_bikes = {}\n",
    "for year in sorted(bikes.year.unique())[::-1]:\n",
    "    df_filter = bikes[bikes.year == year]\n",
    "    df_filter_prev = bikes[bikes.year == year-1]\n",
    "    bikes_ = df_filter.Id_Tag_Bicicleta.unique()\n",
    "    bikes_prev = df_filter_prev.Id_Tag_Bicicleta.unique()\n",
    "    count_up = len([bike for bike in bikes_ if bike not in bikes_prev])\n",
    "    count_down = -len([bike for bike in bikes_prev if bike not in bikes_])\n",
    "    evolution_bikes[year] = {'loss': count_down, 'win': count_up}"
   ]
  },
  {
   "cell_type": "code",
   "execution_count": 23,
   "metadata": {
    "ExecuteTime": {
     "end_time": "2021-05-14T05:52:05.893708Z",
     "start_time": "2021-05-14T05:52:05.760852Z"
    }
   },
   "outputs": [
    {
     "data": {
      "image/png": "[encoded data removed]",
      "text/plain": [
       "<Figure size 1080x720 with 1 Axes>"
      ]
     },
     "metadata": {
      "needs_background": "light"
     },
     "output_type": "display_data"
    }
   ],
   "source": [
    "pd.DataFrame(evolution_bikes).T.sort_index().plot(kind='bar', figsize=(15,10))\n",
    "plt.grid()"
   ]
  },
  {
   "cell_type": "markdown",
   "metadata": {},
   "source": [
    "**Note**<br>\n",
    "we can see that a lot of bikes stopped appearing in 2021. The highest investments for new bikes have been made in 2020."
   ]
  },
  {
   "cell_type": "markdown",
   "metadata": {},
   "source": [
    "**What about route exploration by users**"
   ]
  },
  {
   "cell_type": "code",
   "execution_count": 24,
   "metadata": {
    "ExecuteTime": {
     "end_time": "2021-05-14T05:52:14.531350Z",
     "start_time": "2021-05-14T05:52:05.895002Z"
    }
   },
   "outputs": [],
   "source": [
    "evolution_routes = {}\n",
    "for year in sorted(bikes.year.unique())[::-1]:\n",
    "    df_filter = bikes[bikes.year == year]\n",
    "    df_filter_prev = bikes[bikes.year == year-1]\n",
    "    routes_ = df_filter.routes.unique()\n",
    "    routes_prev = df_filter_prev.routes.unique()\n",
    "    count_up = len([route for route in routes_ if route not in routes_prev])\n",
    "    count_down = -len([route for route in routes_prev if route not in routes_])\n",
    "    evolution_routes[year] = {'loss': count_down, 'win': count_up}"
   ]
  },
  {
   "cell_type": "code",
   "execution_count": 25,
   "metadata": {
    "ExecuteTime": {
     "end_time": "2021-05-14T05:52:14.681726Z",
     "start_time": "2021-05-14T05:52:14.532190Z"
    }
   },
   "outputs": [
    {
     "data": {
      "image/png": "[encoded data removed]",
      "text/plain": [
       "<Figure size 1440x720 with 1 Axes>"
      ]
     },
     "metadata": {
      "needs_background": "light"
     },
     "output_type": "display_data"
    }
   ],
   "source": [
    "pd.DataFrame(evolution_routes).T.sort_index().plot(kind='bar', figsize=(20,10))\n",
    "plt.grid()"
   ]
  },
  {
   "cell_type": "markdown",
   "metadata": {},
   "source": [
    "**Note**<br>\n",
    "In 2019 and 2020 a lot of new routes were explored by the bike users. This might be due to more private and recreational use of bikes during covid. \n",
    "\n",
    "**Did the total of rentals change during the years?**"
   ]
  },
  {
   "cell_type": "code",
   "execution_count": 26,
   "metadata": {
    "ExecuteTime": {
     "end_time": "2021-05-14T05:52:15.533177Z",
     "start_time": "2021-05-14T05:52:14.685172Z"
    }
   },
   "outputs": [
    {
     "data": {
      "image/png": "[encoded data removed]",
      "text/plain": [
       "<Figure size 1080x576 with 1 Axes>"
      ]
     },
     "metadata": {
      "needs_background": "light"
     },
     "output_type": "display_data"
    }
   ],
   "source": [
    "# calculate evolution of rentals\n",
    "evolution_rentals = {}\n",
    "for year in sorted(bikes.year.unique()):\n",
    "    df_filter = bikes[bikes.year == year]\n",
    "    count = df_filter.Id_Historico_Prestamo.count()\n",
    "    evolution_rentals[year] = count\n",
    "evolution_rentals_df = pd.DataFrame.from_dict(evolution_rentals, orient='index').rename(columns={0:'count'})\n",
    "evolution_rentals_df.plot(kind='bar', figsize=(15,8))\n",
    "plt.grid()\n",
    "plt.title(\"Evolution of bike rentals from 2014 to 2021\", size=16)\n",
    "plt.show()"
   ]
  },
  {
   "cell_type": "markdown",
   "metadata": {},
   "source": [
    "**Rentals plummet in 2020 and 2021.**\n",
    "1. we cannot run a model without taking this real world event into account\n",
    "2. we decide to split the data and work just on the pre-pandemic information to get a more normalized prediction model.\n",
    "\n",
    "**Split of dataframe**"
   ]
  },
  {
   "cell_type": "code",
   "execution_count": 27,
   "metadata": {
    "ExecuteTime": {
     "end_time": "2021-05-14T05:52:16.127941Z",
     "start_time": "2021-05-14T05:52:15.534515Z"
    }
   },
   "outputs": [],
   "source": [
    "bikes_nocov = bikes[bikes.Fecha_Devolucion <= '31/12/2019']"
   ]
  },
  {
   "cell_type": "code",
   "execution_count": 28,
   "metadata": {
    "ExecuteTime": {
     "end_time": "2021-05-14T05:52:16.131381Z",
     "start_time": "2021-05-14T05:52:16.128995Z"
    }
   },
   "outputs": [
    {
     "name": "stdout",
     "output_type": "stream",
     "text": [
      "Pre pandemic data with no nan values amounts to \n",
      "10737486 rows.\n"
     ]
    }
   ],
   "source": [
    "print(f'Pre pandemic data with no nan values amounts to \\n{bikes_nocov.shape[0]} rows.')"
   ]
  },
  {
   "cell_type": "markdown",
   "metadata": {},
   "source": [
    "### Data Preparation 🧑‍💻"
   ]
  },
  {
   "cell_type": "markdown",
   "metadata": {},
   "source": [
    "We are building a model to predict the demand of rental bicycles for each station for any time in the future in the city of Medellin, CO.<br>\n",
    "For that, we need to compute:<br>\n",
    "1. the actual amount of bikes available at each station for each hour of the year.\n",
    "2. we will add weather data for each hour of the year because we believe that weather has an impact on bike usage. \n",
    "3. We will add another categorical holiday feature to the df"
   ]
  },
  {
   "cell_type": "markdown",
   "metadata": {},
   "source": [
    "#### Compute bike count per station per hour"
   ]
  },
  {
   "cell_type": "markdown",
   "metadata": {},
   "source": [
    "Following some review, we decided to focus entirely on the data from **2019**. \n",
    "\n",
    "There are several reasons for this:\n",
    "\n",
    "1. We believe that using data at the beginning of the project might be unrepresentative of how it is currently operated (just before COVID). \n",
    "2. For dimensionality purposes, the more rows and dates we turn into time series, the great amount of data to process.\n",
    "\n",
    "**NOTE:** \n",
    "<br>\n",
    "We are focusing solely on 2019, therefore we are removing the bikes that were loaned **AND** deposited back in 2019. Therefore, bikes dropped after 31/12/2019 wouldn't be counted."
   ]
  },
  {
   "cell_type": "code",
   "execution_count": 29,
   "metadata": {
    "ExecuteTime": {
     "end_time": "2021-05-14T05:52:19.473593Z",
     "start_time": "2021-05-14T05:52:16.132501Z"
    }
   },
   "outputs": [],
   "source": [
    "# filter to 2019 data => most representative year\n",
    "bikes_19 = bikes[bikes.Fecha_Devolucion.dt.year == 2019].reset_index()\n",
    "bikes_19['Id_Aparcamiento_Destino'] = bikes_19['Id_Aparcamiento_Destino'].astype(int)\n",
    "# split the previous data (needed for init state of bikes)\n",
    "bikes_pre = bikes[bikes.Fecha_Devolucion.dt.year < 2019].reset_index()\n",
    "bikes_pre['Id_Aparcamiento_Destino'] = bikes_pre['Id_Aparcamiento_Destino'].astype(int)\n",
    "bikes_pre = bikes_pre[['Id_Tag_Bicicleta', 'Fecha_Devolucion', 'Id_Aparcamiento_Destino']].dropna()\n",
    "# get all unique stations\n",
    "unique_stations = pd.read_csv('data/station_location_with_id.csv', sep=';').drop(columns=['photo', 'webDescription'])\n"
   ]
  },
  {
   "cell_type": "code",
   "execution_count": 30,
   "metadata": {
    "ExecuteTime": {
     "end_time": "2021-05-14T05:52:43.641770Z",
     "start_time": "2021-05-14T05:52:19.474605Z"
    }
   },
   "outputs": [],
   "source": [
    "# assign df a individual hour of the year per row\n",
    "# ~30secs\n",
    "def get_hr(x):\n",
    "    time = x\n",
    "    hour = dt.datetime(time.year, time.month,time.day,time.hour)\n",
    "    return hour\n",
    "    \n",
    "bikes_19.loc[:,'hour_dropoff'] = bikes_19.Fecha_Devolucion.apply(get_hr) # get hr of dropoff\n",
    "bikes_19.loc[:,'hour_pickup'] = bikes_19.Fecha_Prestamo.apply(get_hr) # get hr of pickup"
   ]
  },
  {
   "cell_type": "markdown",
   "metadata": {},
   "source": [
    "**Note**<br>\n",
    "- We are slicing the bike logs in pre-2019 and 2019 data. \n",
    "- We accumulate the amount of pick-ups and drop-offs per each hour of the year 2019."
   ]
  },
  {
   "cell_type": "code",
   "execution_count": 46,
   "metadata": {
    "ExecuteTime": {
     "end_time": "2021-05-14T06:00:48.258060Z",
     "start_time": "2021-05-14T06:00:45.803039Z"
    }
   },
   "outputs": [],
   "source": [
    "# make sure df is sorted chronologically\n",
    "bikes_19 = bikes_19.sort_values(by='Fecha_Devolucion')\n",
    "\n",
    "# list all the appearing bikes and stations per individual hour of the year\n",
    "bikes_19_drops = bikes_19.copy().groupby('hour_dropoff').agg({'Id_Aparcamiento_Destino':lambda x: list(x)}) # list only the stations which had interaction moved\n",
    "bikes_19_picks = bikes_19.copy().groupby('hour_pickup').agg({'Id_Aparcamiento_Origen':lambda x: list(x)})\n",
    "bikes_19_agg = bikes_19_drops.join(bikes_19_picks) # merge on the matching hour (some bikes are picked up in a different hour)\n",
    "idx = bikes_19_agg.Id_Aparcamiento_Origen != bikes_19_agg.Id_Aparcamiento_Origen\n",
    "bikes_19_agg.loc[idx, 'Id_Aparcamiento_Origen'] = [{-99:0} for i in idx if i] # pad hours with no pickup. .fillna() doesnt work (lists are recognized as NaN)\n",
    "\n",
    "# compute the init state of all bikes prior to 2019 to get a starting balance of bikes\n",
    "# we assume that the bike in its last position wasn't 'touched', thus remained in the station until the 02.01.2019\n",
    "bikes_pre = bikes_pre.sort_values(by='Fecha_Devolucion', ascending=False) # walk backwards through df to find 'last' position of each bike\n",
    "stations_init_df = bikes_pre.groupby('Id_Tag_Bicicleta').agg({'Id_Aparcamiento_Destino':'first'}) # first means last in this case\n",
    "\n",
    "# count the bikes at the stations\n",
    "stations_init_pre = Counter({i:0 for i in unique_stations.ID}) # pad the non appearing ones from the stations df\n",
    "stations_init_pre.update(Counter(dict(stations_init_df.Id_Aparcamiento_Destino.value_counts()))) # fill up the stations"
   ]
  },
  {
   "cell_type": "markdown",
   "metadata": {},
   "source": [
    "**Note**<br>\n",
    "We are calculating the amount of bikes by the _END_ of each hour. Therefore we need to follow each individual movement of the hour of 2019. \n",
    "\n",
    "In the first iteration we will add all the ```bikes_19_drops``` per station and hour. In the second iteration we will subtract all ```bikes_19_picks``` which were picked up at its hour (some bikes are picked up at another hour then dropped off).\n",
    "\n",
    "**Example**:"
   ]
  },
  {
   "cell_type": "code",
   "execution_count": 47,
   "metadata": {
    "ExecuteTime": {
     "end_time": "2021-05-14T06:00:49.748280Z",
     "start_time": "2021-05-14T06:00:49.593108Z"
    }
   },
   "outputs": [
    {
     "name": "stdout",
     "output_type": "stream",
     "text": [
      "\n",
      "        Bike 008492222B5E was dropped off in the hour 5 \n",
      "        of day 02/01/2019. Station 9 will have \n",
      "        +1 bike and 7 will be counted -1 bike in the second iteration.\n"
     ]
    },
    {
     "data": {
      "text/html": [
       "<div>\n",
       "<style scoped>\n",
       "    .dataframe tbody tr th:only-of-type {\n",
       "        vertical-align: middle;\n",
       "    }\n",
       "\n",
       "    .dataframe tbody tr th {\n",
       "        vertical-align: top;\n",
       "    }\n",
       "\n",
       "    .dataframe thead th {\n",
       "        text-align: right;\n",
       "    }\n",
       "</style>\n",
       "<table border=\"1\" class=\"dataframe\">\n",
       "  <thead>\n",
       "    <tr style=\"text-align: right;\">\n",
       "      <th></th>\n",
       "      <th>index</th>\n",
       "      <th>Id_Historico_Prestamo</th>\n",
       "      <th>Id_Usuario</th>\n",
       "      <th>Id_Tag_Bicicleta</th>\n",
       "      <th>Fecha_Prestamo</th>\n",
       "      <th>Fecha_Devolucion</th>\n",
       "      <th>Id_Aparcamiento_Origen</th>\n",
       "      <th>Posicion_Origen</th>\n",
       "      <th>Id_Aparcamiento_Destino</th>\n",
       "      <th>Posicion_Destino</th>\n",
       "      <th>Num_Bici_Hist</th>\n",
       "      <th>hour_init</th>\n",
       "      <th>hour_end</th>\n",
       "      <th>routes</th>\n",
       "      <th>hour</th>\n",
       "      <th>timespan_min</th>\n",
       "      <th>year</th>\n",
       "      <th>hour_dropoff</th>\n",
       "      <th>hour_pickup</th>\n",
       "    </tr>\n",
       "  </thead>\n",
       "  <tbody>\n",
       "    <tr>\n",
       "      <th>1635</th>\n",
       "      <td>7954390</td>\n",
       "      <td>10514070</td>\n",
       "      <td>21220</td>\n",
       "      <td>008492222B5E</td>\n",
       "      <td>2019-01-02 05:03:03</td>\n",
       "      <td>2019-01-02 05:11:27</td>\n",
       "      <td>7</td>\n",
       "      <td>1</td>\n",
       "      <td>9</td>\n",
       "      <td>9.0</td>\n",
       "      <td>666.0</td>\n",
       "      <td>5</td>\n",
       "      <td>5</td>\n",
       "      <td>7_9</td>\n",
       "      <td>5</td>\n",
       "      <td>8.4</td>\n",
       "      <td>2019</td>\n",
       "      <td>2019-01-02 05:00:00</td>\n",
       "      <td>2019-01-02 05:00:00</td>\n",
       "    </tr>\n",
       "  </tbody>\n",
       "</table>\n",
       "</div>"
      ],
      "text/plain": [
       "        index  Id_Historico_Prestamo  Id_Usuario Id_Tag_Bicicleta  \\\n",
       "1635  7954390               10514070       21220     008492222B5E   \n",
       "\n",
       "          Fecha_Prestamo    Fecha_Devolucion  Id_Aparcamiento_Origen  \\\n",
       "1635 2019-01-02 05:03:03 2019-01-02 05:11:27                       7   \n",
       "\n",
       "      Posicion_Origen  Id_Aparcamiento_Destino  Posicion_Destino  \\\n",
       "1635                1                        9               9.0   \n",
       "\n",
       "      Num_Bici_Hist  hour_init  hour_end routes  hour  timespan_min  year  \\\n",
       "1635          666.0          5         5    7_9     5           8.4  2019   \n",
       "\n",
       "            hour_dropoff         hour_pickup  \n",
       "1635 2019-01-02 05:00:00 2019-01-02 05:00:00  "
      ]
     },
     "execution_count": 47,
     "metadata": {},
     "output_type": "execute_result"
    }
   ],
   "source": [
    "ex = bikes_19.loc[[1635]]\n",
    "print(f'''\n",
    "        Bike {ex.Id_Tag_Bicicleta.values[0]} was dropped off in the hour {ex.Fecha_Devolucion.dt.hour.values[0]} \n",
    "        of day {ex.Fecha_Devolucion.dt.strftime('%d/%m/%Y').values[0]}. Station {ex.Id_Aparcamiento_Destino.values[0]} will have \n",
    "        +1 bike and {ex.Id_Aparcamiento_Origen.values[0]} will be counted -1 bike in the second iteration.''')\n",
    "      \n",
    "ex"
   ]
  },
  {
   "cell_type": "code",
   "execution_count": 48,
   "metadata": {
    "ExecuteTime": {
     "end_time": "2021-05-14T06:00:51.406992Z",
     "start_time": "2021-05-14T06:00:50.278676Z"
    },
    "scrolled": true
   },
   "outputs": [
    {
     "data": {
      "text/html": [
       "<style  type=\"text/css\" >\n",
       "#T_bfe1c_row0_col3,#T_bfe1c_row1_col3,#T_bfe1c_row2_col3,#T_bfe1c_row3_col3,#T_bfe1c_row4_col3,#T_bfe1c_row5_col3,#T_bfe1c_row6_col3,#T_bfe1c_row7_col3,#T_bfe1c_row8_col3,#T_bfe1c_row9_col3{\n",
       "            width:  50;\n",
       "        }</style><table id=\"T_bfe1c_\" ><thead>    <tr>        <th class=\"blank level0\" ></th>        <th class=\"col_heading level0 col0\" >hour_dropoff</th>        <th class=\"col_heading level0 col1\" >drops</th>        <th class=\"col_heading level0 col2\" >picks</th>        <th class=\"col_heading level0 col3\" >station_count</th>    </tr></thead><tbody>\n",
       "                <tr>\n",
       "                        <th id=\"T_bfe1c_level0_row0\" class=\"row_heading level0 row0\" >0</th>\n",
       "                        <td id=\"T_bfe1c_row0_col0\" class=\"data row0 col0\" >2019-01-02 05:00:00</td>\n",
       "                        <td id=\"T_bfe1c_row0_col1\" class=\"data row0 col1\" >{9: 4, 1: 1, 21: 1, 8: 4, 2: 3, 65: 1, 57: 1, 12: 1, 54: 3, 10: 3, 43: 1, 40: 8, 58: 1, 67: 1, 56: 3, 27: 1, 23: 2, 47: 1, 49: 1, 41: 1, 7: 2, 64: 2, 6: 1, 33: 1, 44: 1, 63: 2, 60: 1, 28: 1, 20: 1, 37: 1, 5: 1}</td>\n",
       "                        <td id=\"T_bfe1c_row0_col2\" class=\"data row0 col2\" >{7: 7, 9: 7, 51: 1, 1: 12, 23: 5, 21: 2, 8: 10, 56: 5, 40: 6, 89: 2, 28: 2, 47: 1, 2: 5, 53: 4, 20: 1, 67: 3, 39: 2, 12: 8, 6: 1, 42: 1, 38: 1, 3: 2, 27: 1, 58: 1, 34: 2, 10: 2, 48: 1, 57: 1, 22: 1, 24: 1, 64: 1}</td>\n",
       "                        <td id=\"T_bfe1c_row0_col3\" class=\"data row0 col3\" >{1: 158, 2: 111, 3: 77, 4: 67, 5: 53, 6: 120, 7: 199, 8: 121, 9: 37, 10: 56, 11: 58, 12: 192, 13: 29, 19: 18, 20: 26, 21: 52, 22: 33, 23: 56, 24: 46, 27: 47, 28: 16, 32: 25, 33: 16, 34: 39, 35: 17, 36: 90, 37: 22, 38: 26, 39: 101, 40: 101, 41: 56, 42: 35, 43: 30, 44: 42, 45: 20, 46: 38, 47: 32, 48: 10, 49: 22, 51: 12, 53: 41, 54: 19, 55: 44, 56: 26, 57: 45, 58: 32, 59: 13, 60: 27, 61: 8, 62: 59, 63: 27, 64: 28, 65: 23, 66: 74, 67: 94, 70: 19, 89: 62, 90: 0, 91: 0, 92: 0, 93: 0, 94: 0, 95: 0, 96: 0, 97: 0, 98: 0, 99: 0, 100: 0, 101: 0, 102: 0, 103: 0, 104: 0, 105: 0, 106: 0, 107: 0, 108: 0, 109: 0, 110: 0, 111: 0, 112: 0, 113: 0, 114: 0, 115: 0, 116: 0, 118: 0, 121: 0, 122: 0, 123: 0, 124: 0, 125: 0, 126: 0, 127: 0, 128: 0, 129: 0, 130: 0, 131: 0, 132: 0, 133: 0, 134: 0, 135: 0, 136: 0, 137: 0, 138: 0, 139: 0, 140: 0, 141: 0, 142: 0, 69: 10, 14: 4, 31: 4, 16: 1, 50: 1, 15: 1}</td>\n",
       "            </tr>\n",
       "            <tr>\n",
       "                        <th id=\"T_bfe1c_level0_row1\" class=\"row_heading level0 row1\" >1</th>\n",
       "                        <td id=\"T_bfe1c_row1_col0\" class=\"data row1 col0\" >2019-01-02 06:00:00</td>\n",
       "                        <td id=\"T_bfe1c_row1_col1\" class=\"data row1 col1\" >{1: 4, 34: 10, 21: 8, 8: 7, 42: 3, 63: 13, 66: 19, 54: 8, 53: 1, 43: 5, 35: 2, 27: 1, 57: 13, 6: 4, 51: 2, 49: 4, 37: 1, 12: 4, 39: 6, 7: 4, 2: 7, 3: 5, 67: 9, 40: 10, 89: 3, 45: 4, 59: 6, 13: 2, 56: 9, 23: 7, 41: 5, 47: 3, 28: 7, 60: 5, 48: 3, 10: 5, 38: 2, 19: 7, 64: 6, 4: 3, 11: 3, 22: 3, 9: 5, 5: 2, 44: 2, 33: 7, 24: 5, 36: 7, 62: 3, 55: 1, 65: 1, 46: 1, 32: 1, 20: 1}</td>\n",
       "                        <td id=\"T_bfe1c_row1_col2\" class=\"data row1 col2\" >{53: 4, 48: 11, 39: 7, 1: 24, 66: 16, 20: 6, 64: 9, 23: 14, 60: 4, 40: 9, 5: 3, 41: 5, 57: 4, 42: 3, 21: 12, 44: 5, 27: 7, 59: 2, 24: 2, 12: 19, 8: 21, 89: 3, 32: 1, 2: 9, 22: 7, 65: 3, 56: 12, 63: 4, 35: 1, 7: 14, 47: 3, 4: 2, 6: 6, 67: 11, 10: 2, 3: 7, 45: 4, 46: 8, 49: 5, 11: 8, 54: 2, 58: 1, 13: 5, 19: 2, 34: 6, 36: 5, 62: 3, 9: 5, 55: 1, 43: 1}</td>\n",
       "                        <td id=\"T_bfe1c_row1_col3\" class=\"data row1 col3\" >{1: 138, 2: 109, 3: 75, 4: 68, 5: 52, 6: 118, 7: 189, 8: 107, 9: 37, 10: 59, 11: 53, 12: 177, 13: 26, 19: 23, 20: 21, 21: 48, 22: 29, 23: 49, 24: 49, 27: 41, 28: 23, 32: 25, 33: 23, 34: 43, 35: 18, 36: 92, 37: 23, 38: 28, 39: 100, 40: 102, 41: 56, 42: 35, 43: 34, 44: 39, 45: 20, 46: 31, 47: 32, 48: 2, 49: 21, 51: 14, 53: 38, 54: 25, 55: 44, 56: 23, 57: 54, 58: 31, 59: 17, 60: 28, 61: 8, 62: 59, 63: 36, 64: 25, 65: 21, 66: 77, 67: 92, 70: 19, 89: 62, 90: 0, 91: 0, 92: 0, 93: 0, 94: 0, 95: 0, 96: 0, 97: 0, 98: 0, 99: 0, 100: 0, 101: 0, 102: 0, 103: 0, 104: 0, 105: 0, 106: 0, 107: 0, 108: 0, 109: 0, 110: 0, 111: 0, 112: 0, 113: 0, 114: 0, 115: 0, 116: 0, 118: 0, 121: 0, 122: 0, 123: 0, 124: 0, 125: 0, 126: 0, 127: 0, 128: 0, 129: 0, 130: 0, 131: 0, 132: 0, 133: 0, 134: 0, 135: 0, 136: 0, 137: 0, 138: 0, 139: 0, 140: 0, 141: 0, 142: 0, 69: 10, 14: 4, 31: 4, 16: 1, 50: 1, 15: 1}</td>\n",
       "            </tr>\n",
       "            <tr>\n",
       "                        <th id=\"T_bfe1c_level0_row2\" class=\"row_heading level0 row2\" >2</th>\n",
       "                        <td id=\"T_bfe1c_row2_col0\" class=\"data row2 col0\" >2019-01-02 07:00:00</td>\n",
       "                        <td id=\"T_bfe1c_row2_col1\" class=\"data row2 col1\" >{4: 6, 66: 38, 61: 1, 67: 22, 8: 16, 55: 4, 19: 18, 64: 18, 7: 19, 33: 10, 23: 15, 38: 3, 48: 7, 12: 7, 54: 10, 63: 9, 56: 15, 49: 2, 65: 4, 62: 5, 40: 8, 57: 18, 60: 4, 5: 3, 59: 3, 41: 13, 39: 8, 37: 2, 13: 3, 11: 5, 89: 8, 24: 7, 42: 7, 21: 11, 47: 17, 9: 5, 1: 3, 46: 7, 28: 7, 53: 1, 43: 7, 22: 5, 2: 4, 27: 6, 51: 1, 20: 9, 44: 7, 36: 9, 35: 2, 10: 12, 45: 2, 6: 4, 3: 4, 58: 2, 32: 2, 34: 3}</td>\n",
       "                        <td id=\"T_bfe1c_row2_col2\" class=\"data row2 col2\" >{48: 10, 64: 10, 40: 4, 56: 18, 60: 3, 57: 6, 11: 10, 67: 15, 63: 5, 2: 13, 21: 9, 65: 4, 12: 24, 23: 21, 10: 10, 20: 10, 36: 3, 8: 35, 34: 6, 27: 7, 49: 4, 24: 12, 39: 5, 61: 1, 66: 10, 1: 17, 53: 2, 46: 10, 28: 8, 7: 15, 19: 3, 89: 5, 42: 5, 35: 2, 32: 5, 9: 9, 22: 5, 41: 12, 44: 4, 38: 2, 5: 7, 58: 6, 55: 4, 43: 4, 13: 11, 62: 3, 4: 8, 45: 1, 6: 8, 3: 8, 47: 7, 37: 1, 54: 3, 59: 2, 33: 1}</td>\n",
       "                        <td id=\"T_bfe1c_row2_col3\" class=\"data row2 col3\" >{1: 124, 2: 100, 3: 71, 4: 66, 5: 48, 6: 114, 7: 193, 8: 88, 9: 33, 10: 61, 11: 48, 12: 160, 13: 18, 19: 38, 20: 20, 21: 50, 22: 29, 23: 43, 24: 44, 27: 40, 28: 22, 32: 22, 33: 32, 34: 40, 35: 18, 36: 98, 37: 24, 38: 29, 39: 103, 40: 106, 41: 57, 42: 37, 43: 37, 44: 42, 45: 21, 46: 28, 47: 42, 48: -1, 49: 19, 51: 15, 53: 37, 54: 32, 55: 44, 56: 20, 57: 66, 58: 27, 59: 18, 60: 29, 61: 8, 62: 61, 63: 40, 64: 33, 65: 21, 66: 105, 67: 99, 70: 19, 89: 65, 90: 0, 91: 0, 92: 0, 93: 0, 94: 0, 95: 0, 96: 0, 97: 0, 98: 0, 99: 0, 100: 0, 101: 0, 102: 0, 103: 0, 104: 0, 105: 0, 106: 0, 107: 0, 108: 0, 109: 0, 110: 0, 111: 0, 112: 0, 113: 0, 114: 0, 115: 0, 116: 0, 118: 0, 121: 0, 122: 0, 123: 0, 124: 0, 125: 0, 126: 0, 127: 0, 128: 0, 129: 0, 130: 0, 131: 0, 132: 0, 133: 0, 134: 0, 135: 0, 136: 0, 137: 0, 138: 0, 139: 0, 140: 0, 141: 0, 142: 0, 69: 10, 14: 4, 31: 4, 16: 1, 50: 1, 15: 1}</td>\n",
       "            </tr>\n",
       "            <tr>\n",
       "                        <th id=\"T_bfe1c_level0_row3\" class=\"row_heading level0 row3\" >3</th>\n",
       "                        <td id=\"T_bfe1c_row3_col0\" class=\"data row3 col0\" >2019-01-02 08:00:00</td>\n",
       "                        <td id=\"T_bfe1c_row3_col1\" class=\"data row3 col1\" >{43: 2, 36: 14, 8: 14, 67: 20, 7: 6, 19: 5, 66: 16, 56: 11, 20: 6, 48: 1, 32: 2, 59: 6, 51: 2, 42: 4, 27: 1, 60: 7, 34: 3, 22: 4, 12: 9, 6: 3, 10: 4, 55: 6, 3: 4, 21: 7, 64: 7, 39: 8, 23: 5, 4: 3, 57: 4, 47: 3, 41: 6, 2: 3, 44: 9, 49: 3, 28: 2, 89: 9, 54: 3, 24: 4, 40: 4, 37: 2, 9: 6, 38: 3, 63: 5, 33: 1, 1: 2, 62: 4, 13: 2}</td>\n",
       "                        <td id=\"T_bfe1c_row3_col2\" class=\"data row3 col2\" >{48: 4, 64: 5, 57: 1, 8: 15, 2: 10, 38: 7, 20: 2, 60: 4, 56: 9, 40: 5, 66: 8, 23: 15, 36: 7, 55: 6, 7: 13, 1: 16, 62: 3, 67: 13, 32: 4, 51: 3, 11: 5, 41: 5, 4: 6, 58: 2, 49: 6, 27: 2, 65: 4, 46: 7, 53: 1, 34: 5, 13: 3, 89: 10, 6: 5, 10: 5, 9: 6, 19: 4, 21: 10, 43: 1, 37: 2, 45: 2, 47: 6, 54: 3, 63: 3, 12: 8, 39: 2, 44: 3, 42: 3, 22: 1, 24: 5, 3: 3, 59: 1}</td>\n",
       "                        <td id=\"T_bfe1c_row3_col3\" class=\"data row3 col3\" >{1: 110, 2: 93, 3: 72, 4: 63, 5: 48, 6: 112, 7: 186, 8: 87, 9: 33, 10: 60, 11: 43, 12: 161, 13: 17, 19: 39, 20: 24, 21: 47, 22: 32, 23: 33, 24: 43, 27: 39, 28: 24, 32: 20, 33: 33, 34: 38, 35: 18, 36: 105, 37: 24, 38: 25, 39: 109, 40: 105, 41: 58, 42: 38, 43: 38, 44: 48, 45: 19, 46: 21, 47: 39, 48: -4, 49: 16, 51: 14, 53: 36, 54: 32, 55: 44, 56: 22, 57: 69, 58: 25, 59: 23, 60: 32, 61: 8, 62: 62, 63: 42, 64: 35, 65: 17, 66: 113, 67: 106, 70: 19, 89: 64, 90: 0, 91: 0, 92: 0, 93: 0, 94: 0, 95: 0, 96: 0, 97: 0, 98: 0, 99: 0, 100: 0, 101: 0, 102: 0, 103: 0, 104: 0, 105: 0, 106: 0, 107: 0, 108: 0, 109: 0, 110: 0, 111: 0, 112: 0, 113: 0, 114: 0, 115: 0, 116: 0, 118: 0, 121: 0, 122: 0, 123: 0, 124: 0, 125: 0, 126: 0, 127: 0, 128: 0, 129: 0, 130: 0, 131: 0, 132: 0, 133: 0, 134: 0, 135: 0, 136: 0, 137: 0, 138: 0, 139: 0, 140: 0, 141: 0, 142: 0, 69: 10, 14: 4, 31: 4, 16: 1, 50: 1, 15: 1}</td>\n",
       "            </tr>\n",
       "            <tr>\n",
       "                        <th id=\"T_bfe1c_level0_row4\" class=\"row_heading level0 row4\" >4</th>\n",
       "                        <td id=\"T_bfe1c_row4_col0\" class=\"data row4 col0\" >2019-01-02 09:00:00</td>\n",
       "                        <td id=\"T_bfe1c_row4_col1\" class=\"data row4 col1\" >{33: 6, 45: 3, 41: 2, 62: 8, 37: 2, 57: 4, 21: 5, 8: 20, 5: 5, 11: 3, 2: 8, 10: 4, 23: 11, 89: 17, 36: 11, 7: 6, 34: 13, 40: 4, 66: 7, 55: 6, 28: 1, 59: 3, 39: 10, 1: 4, 47: 4, 44: 9, 9: 6, 12: 11, 63: 12, 64: 4, 67: 29, 60: 5, 24: 1, 49: 3, 58: 3, 46: 3, 3: 6, 56: 5, 13: 2, 43: 5, 19: 5, 65: 2, 51: 1, 38: 3, 54: 4, 32: 1, 4: 2, 6: 2, 20: 3, 53: 1}</td>\n",
       "                        <td id=\"T_bfe1c_row4_col2\" class=\"data row4 col2\" >{40: 2, 67: 21, 62: 6, 37: 2, 66: 6, 55: 3, 6: 7, 7: 11, 56: 6, 12: 20, 2: 9, 23: 17, 41: 3, 1: 18, 39: 5, 13: 6, 21: 10, 47: 3, 44: 8, 32: 1, 57: 3, 4: 3, 36: 15, 49: 8, 60: 7, 46: 4, 63: 16, 51: 2, 65: 3, 19: 4, 8: 16, 5: 3, 34: 12, 89: 5, 9: 5, 3: 9, 24: 3, 42: 4, 20: 3, 35: 2, 58: 5, 48: 2, 10: 3, 53: 3, 59: 2, 11: 1, 64: 1, 27: 2, 43: 3, 54: 3}</td>\n",
       "                        <td id=\"T_bfe1c_row4_col3\" class=\"data row4 col3\" >{1: 96, 2: 92, 3: 69, 4: 62, 5: 50, 6: 107, 7: 181, 8: 91, 9: 34, 10: 61, 11: 45, 12: 152, 13: 13, 19: 40, 20: 24, 21: 42, 22: 32, 23: 27, 24: 41, 27: 37, 28: 25, 32: 20, 33: 39, 34: 39, 35: 16, 36: 101, 37: 24, 38: 28, 39: 114, 40: 107, 41: 57, 42: 34, 43: 40, 44: 49, 45: 22, 46: 20, 47: 40, 48: -6, 49: 11, 51: 13, 53: 34, 54: 33, 55: 47, 56: 21, 57: 70, 58: 23, 59: 24, 60: 30, 61: 8, 62: 64, 63: 38, 64: 38, 65: 16, 66: 114, 67: 114, 70: 19, 89: 76, 90: 0, 91: 0, 92: 0, 93: 0, 94: 0, 95: 0, 96: 0, 97: 0, 98: 0, 99: 0, 100: 0, 101: 0, 102: 0, 103: 0, 104: 0, 105: 0, 106: 0, 107: 0, 108: 0, 109: 0, 110: 0, 111: 0, 112: 0, 113: 0, 114: 0, 115: 0, 116: 0, 118: 0, 121: 0, 122: 0, 123: 0, 124: 0, 125: 0, 126: 0, 127: 0, 128: 0, 129: 0, 130: 0, 131: 0, 132: 0, 133: 0, 134: 0, 135: 0, 136: 0, 137: 0, 138: 0, 139: 0, 140: 0, 141: 0, 142: 0, 69: 10, 14: 4, 31: 4, 16: 1, 50: 1, 15: 1}</td>\n",
       "            </tr>\n",
       "            <tr>\n",
       "                        <th id=\"T_bfe1c_level0_row5\" class=\"row_heading level0 row5\" >5</th>\n",
       "                        <td id=\"T_bfe1c_row5_col0\" class=\"data row5 col0\" >2019-01-02 10:00:00</td>\n",
       "                        <td id=\"T_bfe1c_row5_col1\" class=\"data row5 col1\" >{3: 7, 36: 18, 62: 7, 47: 1, 21: 6, 12: 12, 66: 6, 63: 9, 89: 13, 39: 9, 49: 2, 44: 7, 6: 3, 46: 4, 19: 6, 7: 12, 38: 3, 8: 13, 67: 35, 11: 4, 33: 3, 58: 5, 9: 7, 57: 5, 60: 11, 55: 3, 40: 3, 2: 6, 10: 7, 48: 2, 4: 3, 56: 10, 27: 5, 43: 9, 23: 4, 28: 5, 34: 7, 1: 4, 64: 9, 24: 9, 41: 25, 53: 4, 45: 2, 42: 1, 65: 2, 54: 6, 22: 5, 5: 2, 13: 2, 51: 3, 37: 2, 50: 1, 32: 3}</td>\n",
       "                        <td id=\"T_bfe1c_row5_col2\" class=\"data row5 col2\" >{12: 23, 44: 6, 7: 18, 66: 6, 37: 3, 60: 9, 34: 6, 3: 7, 43: 4, 27: 8, 56: 20, 67: 21, 6: 3, 9: 6, 21: 9, 11: 15, 89: 13, 63: 8, 23: 15, 28: 3, 55: 4, 20: 3, 64: 8, 1: 5, 2: 15, 5: 4, 48: 3, 10: 6, 38: 4, 58: 4, 8: 17, 24: 5, 46: 5, 62: 3, 39: 8, 45: 5, 22: 3, 13: 6, 36: 13, 65: 4, 59: 2, 51: 2, 19: 4, 70: 1, 47: 1, 42: 2, 54: 2, 4: 4, 41: 5, 49: 2, 53: 2, 57: 4, 33: 1, 32: 1, 50: 1}</td>\n",
       "                        <td id=\"T_bfe1c_row5_col3\" class=\"data row5 col3\" >{1: 95, 2: 83, 3: 69, 4: 61, 5: 48, 6: 107, 7: 175, 8: 87, 9: 35, 10: 62, 11: 34, 12: 141, 13: 9, 19: 42, 20: 21, 21: 39, 22: 34, 23: 16, 24: 45, 27: 34, 28: 27, 32: 22, 33: 41, 34: 40, 35: 16, 36: 106, 37: 23, 38: 27, 39: 115, 40: 110, 41: 77, 42: 33, 43: 45, 44: 50, 45: 19, 46: 19, 47: 40, 48: -7, 49: 11, 51: 14, 53: 36, 54: 37, 55: 46, 56: 11, 57: 71, 58: 24, 59: 22, 60: 32, 61: 8, 62: 68, 63: 39, 64: 39, 65: 14, 66: 114, 67: 128, 70: 18, 89: 76, 90: 0, 91: 0, 92: 0, 93: 0, 94: 0, 95: 0, 96: 0, 97: 0, 98: 0, 99: 0, 100: 0, 101: 0, 102: 0, 103: 0, 104: 0, 105: 0, 106: 0, 107: 0, 108: 0, 109: 0, 110: 0, 111: 0, 112: 0, 113: 0, 114: 0, 115: 0, 116: 0, 118: 0, 121: 0, 122: 0, 123: 0, 124: 0, 125: 0, 126: 0, 127: 0, 128: 0, 129: 0, 130: 0, 131: 0, 132: 0, 133: 0, 134: 0, 135: 0, 136: 0, 137: 0, 138: 0, 139: 0, 140: 0, 141: 0, 142: 0, 69: 10, 14: 4, 31: 4, 16: 1, 50: 1, 15: 1}</td>\n",
       "            </tr>\n",
       "            <tr>\n",
       "                        <th id=\"T_bfe1c_level0_row6\" class=\"row_heading level0 row6\" >6</th>\n",
       "                        <td id=\"T_bfe1c_row6_col0\" class=\"data row6 col0\" >2019-01-02 11:00:00</td>\n",
       "                        <td id=\"T_bfe1c_row6_col1\" class=\"data row6 col1\" >{27: 5, 62: 2, 60: 6, 1: 8, 65: 2, 55: 6, 67: 34, 33: 3, 3: 10, 7: 13, 2: 7, 12: 14, 49: 4, 41: 13, 63: 8, 44: 16, 10: 7, 9: 5, 66: 7, 57: 4, 64: 3, 24: 5, 89: 12, 43: 5, 21: 10, 22: 6, 20: 5, 54: 4, 6: 5, 35: 3, 56: 13, 48: 6, 8: 11, 11: 10, 39: 9, 4: 4, 42: 2, 38: 4, 46: 4, 45: 6, 36: 13, 5: 2, 61: 1, 23: 4, 13: 1, 40: 1, 28: 1, 37: 2, 58: 2, 32: 2, 53: 1, 19: 1, 47: 2}</td>\n",
       "                        <td id=\"T_bfe1c_row6_col2\" class=\"data row6 col2\" >{3: 10, 48: 3, 7: 12, 8: 20, 43: 6, 20: 5, 39: 8, 37: 8, 42: 4, 10: 7, 89: 16, 56: 8, 70: 1, 13: 7, 67: 33, 55: 2, 1: 8, 44: 7, 5: 4, 24: 9, 41: 8, 63: 11, 57: 4, 62: 4, 59: 6, 66: 9, 38: 6, 9: 6, 36: 7, 12: 7, 21: 9, 60: 7, 32: 8, 27: 2, 28: 2, 34: 7, 11: 4, 46: 3, 45: 3, 2: 7, 23: 6, 33: 3, 19: 3, 22: 5, 6: 4, 49: 3, 53: 2, 65: 3, 40: 2, 64: 1, 61: 1, 4: 2}</td>\n",
       "                        <td id=\"T_bfe1c_row6_col3\" class=\"data row6 col3\" >{1: 95, 2: 83, 3: 69, 4: 63, 5: 46, 6: 108, 7: 176, 8: 78, 9: 34, 10: 62, 11: 40, 12: 148, 13: 3, 19: 40, 20: 21, 21: 40, 22: 35, 23: 14, 24: 41, 27: 37, 28: 26, 32: 16, 33: 41, 34: 33, 35: 19, 36: 112, 37: 17, 38: 25, 39: 116, 40: 109, 41: 82, 42: 31, 43: 44, 44: 59, 45: 22, 46: 20, 47: 42, 48: -4, 49: 12, 51: 14, 53: 35, 54: 41, 55: 50, 56: 16, 57: 71, 58: 26, 59: 16, 60: 31, 61: 8, 62: 66, 63: 36, 64: 41, 65: 13, 66: 112, 67: 129, 70: 17, 89: 72, 90: 0, 91: 0, 92: 0, 93: 0, 94: 0, 95: 0, 96: 0, 97: 0, 98: 0, 99: 0, 100: 0, 101: 0, 102: 0, 103: 0, 104: 0, 105: 0, 106: 0, 107: 0, 108: 0, 109: 0, 110: 0, 111: 0, 112: 0, 113: 0, 114: 0, 115: 0, 116: 0, 118: 0, 121: 0, 122: 0, 123: 0, 124: 0, 125: 0, 126: 0, 127: 0, 128: 0, 129: 0, 130: 0, 131: 0, 132: 0, 133: 0, 134: 0, 135: 0, 136: 0, 137: 0, 138: 0, 139: 0, 140: 0, 141: 0, 142: 0, 69: 10, 14: 4, 31: 4, 16: 1, 50: 1, 15: 1}</td>\n",
       "            </tr>\n",
       "            <tr>\n",
       "                        <th id=\"T_bfe1c_level0_row7\" class=\"row_heading level0 row7\" >7</th>\n",
       "                        <td id=\"T_bfe1c_row7_col0\" class=\"data row7 col0\" >2019-01-02 12:00:00</td>\n",
       "                        <td id=\"T_bfe1c_row7_col1\" class=\"data row7 col1\" >{56: 8, 5: 4, 89: 18, 39: 13, 37: 3, 8: 17, 12: 11, 42: 4, 1: 12, 63: 17, 67: 29, 55: 10, 44: 13, 62: 5, 23: 4, 60: 4, 47: 2, 10: 3, 36: 8, 45: 2, 58: 3, 3: 9, 65: 8, 20: 4, 19: 4, 38: 5, 34: 7, 61: 4, 41: 11, 7: 13, 24: 6, 4: 4, 2: 11, 28: 6, 46: 4, 66: 10, 22: 7, 11: 4, 6: 8, 57: 4, 21: 11, 49: 1, 13: 3, 53: 4, 40: 4, 33: 10, 48: 1, 64: 4, 54: 3, 9: 8, 51: 2, 32: 2, 43: 3}</td>\n",
       "                        <td id=\"T_bfe1c_row7_col2\" class=\"data row7 col2\" >{44: 14, 7: 19, 59: 4, 55: 5, 70: 1, 62: 6, 1: 17, 27: 5, 37: 7, 34: 9, 63: 13, 58: 3, 36: 5, 39: 12, 8: 18, 40: 3, 5: 5, 43: 2, 47: 4, 11: 7, 3: 4, 67: 34, 89: 14, 66: 15, 32: 1, 49: 5, 2: 10, 21: 10, 24: 4, 12: 16, 33: 6, 20: 6, 56: 5, 65: 4, 46: 6, 19: 6, 4: 4, 23: 8, 41: 15, 53: 5, 48: 3, 10: 6, 42: 4, 38: 7, 13: 3, 61: 2, 6: 4, 60: 5, 57: 3, 28: 2, 22: 4, 51: 1, 54: 4, 64: 2, 45: 3}</td>\n",
       "                        <td id=\"T_bfe1c_row7_col3\" class=\"data row7 col3\" >{1: 90, 2: 84, 3: 74, 4: 63, 5: 45, 6: 112, 7: 170, 8: 77, 9: 42, 10: 59, 11: 37, 12: 143, 13: 3, 19: 38, 20: 19, 21: 41, 22: 38, 23: 10, 24: 43, 27: 32, 28: 30, 32: 17, 33: 45, 34: 31, 35: 19, 36: 115, 37: 13, 38: 23, 39: 117, 40: 110, 41: 78, 42: 31, 43: 45, 44: 58, 45: 21, 46: 18, 47: 40, 48: -6, 49: 8, 51: 15, 53: 34, 54: 40, 55: 55, 56: 19, 57: 72, 58: 26, 59: 12, 60: 30, 61: 10, 62: 65, 63: 40, 64: 43, 65: 17, 66: 107, 67: 124, 70: 16, 89: 76, 90: 0, 91: 0, 92: 0, 93: 0, 94: 0, 95: 0, 96: 0, 97: 0, 98: 0, 99: 0, 100: 0, 101: 0, 102: 0, 103: 0, 104: 0, 105: 0, 106: 0, 107: 0, 108: 0, 109: 0, 110: 0, 111: 0, 112: 0, 113: 0, 114: 0, 115: 0, 116: 0, 118: 0, 121: 0, 122: 0, 123: 0, 124: 0, 125: 0, 126: 0, 127: 0, 128: 0, 129: 0, 130: 0, 131: 0, 132: 0, 133: 0, 134: 0, 135: 0, 136: 0, 137: 0, 138: 0, 139: 0, 140: 0, 141: 0, 142: 0, 69: 10, 14: 4, 31: 4, 16: 1, 50: 1, 15: 1}</td>\n",
       "            </tr>\n",
       "            <tr>\n",
       "                        <th id=\"T_bfe1c_level0_row8\" class=\"row_heading level0 row8\" >8</th>\n",
       "                        <td id=\"T_bfe1c_row8_col0\" class=\"data row8 col0\" >2019-01-02 13:00:00</td>\n",
       "                        <td id=\"T_bfe1c_row8_col1\" class=\"data row8 col1\" >{8: 14, 24: 6, 89: 15, 28: 7, 12: 13, 23: 12, 67: 25, 56: 16, 13: 3, 42: 9, 3: 6, 21: 9, 59: 4, 9: 6, 2: 12, 60: 7, 7: 8, 37: 3, 44: 12, 65: 3, 22: 4, 34: 4, 57: 5, 63: 10, 54: 10, 1: 7, 66: 12, 6: 4, 39: 9, 58: 2, 46: 11, 41: 11, 19: 9, 48: 2, 27: 3, 4: 5, 49: 9, 35: 3, 36: 8, 53: 3, 64: 9, 47: 4, 32: 4, 10: 1, 43: 3, 33: 4, 40: 7, 20: 3, 11: 2, 45: 10, 70: 1, 61: 1, 51: 1, 62: 2, 55: 3, 38: 1}</td>\n",
       "                        <td id=\"T_bfe1c_row8_col2\" class=\"data row8 col2\" >{44: 9, 56: 21, 65: 3, 54: 9, 39: 9, 27: 7, 64: 8, 55: 7, 61: 3, 1: 7, 21: 7, 67: 16, 7: 14, 35: 4, 28: 2, 3: 11, 41: 14, 49: 2, 2: 9, 89: 19, 8: 21, 57: 9, 24: 3, 48: 3, 63: 13, 6: 8, 40: 6, 20: 4, 22: 2, 53: 1, 47: 4, 5: 3, 11: 3, 36: 15, 66: 9, 23: 8, 34: 11, 32: 2, 12: 8, 4: 5, 43: 3, 13: 3, 45: 8, 33: 3, 42: 4, 46: 8, 62: 3, 60: 2, 19: 2, 9: 6, 10: 3, 51: 2, 58: 2, 38: 2}</td>\n",
       "                        <td id=\"T_bfe1c_row8_col3\" class=\"data row8 col3\" >{1: 90, 2: 87, 3: 69, 4: 63, 5: 42, 6: 108, 7: 164, 8: 70, 9: 42, 10: 57, 11: 36, 12: 148, 13: 3, 19: 45, 20: 18, 21: 43, 22: 40, 23: 14, 24: 46, 27: 28, 28: 35, 32: 19, 33: 46, 34: 24, 35: 18, 36: 108, 37: 16, 38: 22, 39: 117, 40: 111, 41: 75, 42: 36, 43: 45, 44: 61, 45: 23, 46: 21, 47: 40, 48: -7, 49: 15, 51: 14, 53: 36, 54: 41, 55: 51, 56: 14, 57: 68, 58: 26, 59: 16, 60: 35, 61: 8, 62: 64, 63: 37, 64: 44, 65: 17, 66: 110, 67: 133, 70: 17, 89: 72, 90: 0, 91: 0, 92: 0, 93: 0, 94: 0, 95: 0, 96: 0, 97: 0, 98: 0, 99: 0, 100: 0, 101: 0, 102: 0, 103: 0, 104: 0, 105: 0, 106: 0, 107: 0, 108: 0, 109: 0, 110: 0, 111: 0, 112: 0, 113: 0, 114: 0, 115: 0, 116: 0, 118: 0, 121: 0, 122: 0, 123: 0, 124: 0, 125: 0, 126: 0, 127: 0, 128: 0, 129: 0, 130: 0, 131: 0, 132: 0, 133: 0, 134: 0, 135: 0, 136: 0, 137: 0, 138: 0, 139: 0, 140: 0, 141: 0, 142: 0, 69: 10, 14: 4, 31: 4, 16: 1, 50: 1, 15: 1}</td>\n",
       "            </tr>\n",
       "            <tr>\n",
       "                        <th id=\"T_bfe1c_level0_row9\" class=\"row_heading level0 row9\" >9</th>\n",
       "                        <td id=\"T_bfe1c_row9_col0\" class=\"data row9 col0\" >2019-01-02 14:00:00</td>\n",
       "                        <td id=\"T_bfe1c_row9_col1\" class=\"data row9 col1\" >{67: 33, 56: 17, 40: 12, 33: 4, 9: 4, 2: 17, 24: 2, 21: 8, 61: 2, 63: 9, 66: 13, 45: 7, 41: 14, 19: 4, 3: 7, 10: 6, 39: 9, 12: 11, 57: 5, 7: 13, 54: 3, 35: 1, 65: 4, 43: 4, 59: 4, 23: 5, 13: 3, 89: 20, 1: 8, 46: 5, 34: 2, 60: 9, 8: 17, 38: 1, 64: 4, 44: 10, 36: 5, 6: 7, 51: 1, 62: 5, 27: 1, 55: 3, 20: 1, 53: 2, 70: 2, 11: 3, 28: 1, 42: 1, 49: 1, 58: 5, 48: 4, 47: 2, 22: 3, 5: 4, 4: 3, 32: 4}</td>\n",
       "                        <td id=\"T_bfe1c_row9_col2\" class=\"data row9 col2\" >{19: 12, 56: 14, 60: 7, 44: 11, 64: 5, 53: 2, 67: 20, 1: 12, 9: 4, 40: 8, 33: 4, 58: 3, 36: 7, 4: 4, 12: 15, 39: 8, 6: 5, 22: 12, 48: 2, 8: 15, 66: 22, 11: 5, 21: 7, 27: 3, 57: 6, 89: 19, 7: 11, 61: 1, 23: 5, 54: 8, 38: 7, 13: 5, 46: 6, 32: 2, 5: 7, 3: 4, 41: 9, 59: 2, 10: 9, 34: 9, 43: 1, 49: 2, 2: 14, 42: 2, 24: 3, 65: 1, 45: 4, 62: 3, 35: 3, 55: 2, 20: 1, 47: 1, 51: 1}</td>\n",
       "                        <td id=\"T_bfe1c_row9_col3\" class=\"data row9 col3\" >{1: 86, 2: 90, 3: 72, 4: 62, 5: 39, 6: 110, 7: 166, 8: 72, 9: 42, 10: 54, 11: 34, 12: 144, 13: 1, 19: 37, 20: 18, 21: 44, 22: 31, 23: 14, 24: 45, 27: 26, 28: 36, 32: 21, 33: 46, 34: 17, 35: 16, 36: 106, 37: 16, 38: 16, 39: 118, 40: 115, 41: 80, 42: 35, 43: 48, 44: 60, 45: 26, 46: 20, 47: 41, 48: -5, 49: 14, 51: 14, 53: 36, 54: 36, 55: 52, 56: 17, 57: 67, 58: 28, 59: 18, 60: 37, 61: 9, 62: 66, 63: 46, 64: 43, 65: 20, 66: 101, 67: 146, 70: 19, 89: 73, 90: 0, 91: 0, 92: 0, 93: 0, 94: 0, 95: 0, 96: 0, 97: 0, 98: 0, 99: 0, 100: 0, 101: 0, 102: 0, 103: 0, 104: 0, 105: 0, 106: 0, 107: 0, 108: 0, 109: 0, 110: 0, 111: 0, 112: 0, 113: 0, 114: 0, 115: 0, 116: 0, 118: 0, 121: 0, 122: 0, 123: 0, 124: 0, 125: 0, 126: 0, 127: 0, 128: 0, 129: 0, 130: 0, 131: 0, 132: 0, 133: 0, 134: 0, 135: 0, 136: 0, 137: 0, 138: 0, 139: 0, 140: 0, 141: 0, 142: 0, 69: 10, 14: 4, 31: 4, 16: 1, 50: 1, 15: 1}</td>\n",
       "            </tr>\n",
       "    </tbody></table>"
      ],
      "text/plain": [
       "<pandas.io.formats.style.Styler at 0x1bad2dd00>"
      ]
     },
     "execution_count": 48,
     "metadata": {},
     "output_type": "execute_result"
    }
   ],
   "source": [
    "# Only run once, the .update method will always add +1 bike per iteration\n",
    "# reset bikes_19_drops otherwise\n",
    "bikes_19_agg['drops'] = None\n",
    "bikes_19_agg['picks'] = None\n",
    "bikes_19_agg['station_count'] = None\n",
    "\n",
    "for c, row in bikes_19_agg.iterrows():\n",
    "#     print(c)\n",
    "    drops = Counter(row.Id_Aparcamiento_Destino) # count all dropoffs per hour\n",
    "    picks = Counter(row.Id_Aparcamiento_Origen) # count all pickups per hour\n",
    "    stations_init_pre.update(drops) # add dropped bikes\n",
    "    stations_init_pre.subtract(picks) # subtract picked up bikes\n",
    "    bikes_19_agg.at[c, 'station_count'] = dict(stations_init_pre)\n",
    "    bikes_19_agg.at[c, 'drops'] = dict(drops)\n",
    "    bikes_19_agg.at[c, 'picks'] = dict(picks)\n",
    "    \n",
    "# move hour to columns and only leave the dict\n",
    "bikes_19_agg = bikes_19_agg.reset_index()[['hour_dropoff', 'drops', 'picks', 'station_count']]\n",
    "        \n",
    "# make dict column visible\n",
    "bikes_19_agg.head(10).style.set_properties(subset=['station_count'], **{'width': '50'})"
   ]
  },
  {
   "cell_type": "markdown",
   "metadata": {},
   "source": [
    "**Note**<br>\n",
    "The new data frame now displays the overall \n",
    "- ```station_drops``` and ```station_picks``` describing the balance of pick-ups and drop-offs for each station which had movement.\n",
    "- the updated ```station_count``` for each station in Medellin by the _end_ of each hour. \n",
    "\n",
    "The df ```bikes_19_agg``` has 5,375 rows displaying all hours in 2019 in which movements were recorded in the initial rental logs."
   ]
  },
  {
   "cell_type": "markdown",
   "metadata": {},
   "source": [
    "#### Pad out of operation hours for the missing rows"
   ]
  },
  {
   "cell_type": "markdown",
   "metadata": {},
   "source": [
    "A year has a total of 8,713 hours. In order to have a consistent time increment of one hour per row we need to pad the dataframe. "
   ]
  },
  {
   "cell_type": "code",
   "execution_count": 56,
   "metadata": {
    "ExecuteTime": {
     "end_time": "2021-05-14T06:05:52.598209Z",
     "start_time": "2021-05-14T06:05:52.578610Z"
    }
   },
   "outputs": [],
   "source": [
    "# pad the df with all hours of 2019\n",
    "range_2019 = pd.DataFrame(pd.date_range('2019-01-02', '2019-12-31', freq='h'), columns=['hour'])\n",
    "bikes_19_pad = range_2019.merge(bikes_19_agg, left_on='hour', right_on='hour_dropoff', how='left').drop(columns='hour_dropoff')\n"
   ]
  },
  {
   "cell_type": "code",
   "execution_count": 57,
   "metadata": {
    "ExecuteTime": {
     "end_time": "2021-05-14T06:05:54.088276Z",
     "start_time": "2021-05-14T06:05:54.071444Z"
    }
   },
   "outputs": [],
   "source": [
    "# the padded hours will be filled with the last logged data or backfilled\n",
    "bikes_19_pad['station_count'] = bikes_19_pad.station_count.fillna(method='ffill')\n",
    "bikes_19_pad['station_count'] = bikes_19_pad.station_count.fillna(method='bfill')"
   ]
  },
  {
   "cell_type": "markdown",
   "metadata": {},
   "source": [
    "#### Add weather information to the df"
   ]
  },
  {
   "cell_type": "markdown",
   "metadata": {
    "ExecuteTime": {
     "end_time": "2021-05-13T06:03:29.461587Z",
     "start_time": "2021-05-13T06:03:29.453981Z"
    }
   },
   "source": [
    "The historical weather information will be added for each hour of the year 2019. We will transform it into a categorical feature of ```rain``` (1) or ```no_rain``` given that the highest climate volatility in Medellin lies in the rainfall with an average temperature of 22.5°C and a variance of ±1°C."
   ]
  },
  {
   "cell_type": "markdown",
   "metadata": {},
   "source": [
    "The API request for weather data was pushed to the [appendix .2](#Retrieve-weather-information)"
   ]
  },
  {
   "cell_type": "code",
   "execution_count": null,
   "metadata": {
    "ExecuteTime": {
     "end_time": "2021-05-13T06:03:29.462621Z",
     "start_time": "2021-05-13T05:58:01.909Z"
    }
   },
   "outputs": [],
   "source": [
    "# merge weather data with df"
   ]
  },
  {
   "cell_type": "markdown",
   "metadata": {},
   "source": [
    "#### Add holiday information to the df"
   ]
  },
  {
   "cell_type": "markdown",
   "metadata": {},
   "source": [
    "Holiday seasons in Medellin (universities, see [sources](#External-links-and-resources-🔗)):<br>\n",
    "- 01.-24. January\n",
    "- 29.-31. March\n",
    "- 01.-04. April\n",
    "- 21.06.-11.07.\n",
    "- 11.-17. October\n",
    "- 06.-31. December"
   ]
  },
  {
   "cell_type": "code",
   "execution_count": 145,
   "metadata": {
    "ExecuteTime": {
     "end_time": "2021-05-14T07:12:18.889802Z",
     "start_time": "2021-05-14T07:12:16.619941Z"
    }
   },
   "outputs": [],
   "source": [
    "holidays = pd.DataFrame(index=list(range(1,7)), columns=['start', 'end'])\n",
    "holidays.loc[1] = [dt.datetime.strptime('010119','%d%m%y'),dt.datetime.strptime('250119','%d%m%y')]\n",
    "holidays.loc[2] = [dt.datetime.strptime('290319','%d%m%y'),dt.datetime.strptime('010419','%d%m%y')]\n",
    "holidays.loc[3] = [dt.datetime.strptime('010419','%d%m%y'),dt.datetime.strptime('050419','%d%m%y')]\n",
    "holidays.loc[4] = [dt.datetime.strptime('210619','%d%m%y'),dt.datetime.strptime('120719','%d%m%y')]\n",
    "holidays.loc[5] = [dt.datetime.strptime('111019','%d%m%y'),dt.datetime.strptime('181019','%d%m%y')]\n",
    "holidays.loc[6] = [dt.datetime.strptime('011219','%d%m%y'),dt.datetime.strptime('010120','%d%m%y')]\n",
    "\n",
    "bikes_19_agg['holiday'] = None\n",
    "for c, row in bikes_19_agg.iterrows():\n",
    "    for i, date in holidays.iterrows():\n",
    "#         print(row.hour_dropoff)\n",
    "        if date['start'] <= row.hour_dropoff <= date['end']:\n",
    "            bikes_19_agg.loc[c, 'holiday'] = 1\n",
    "            \n",
    "bikes_19_agg['holiday'].fillna(0, inplace=True)"
   ]
  },
  {
   "cell_type": "markdown",
   "metadata": {},
   "source": [
    "#### Terrain and Public transportation data"
   ]
  },
  {
   "cell_type": "markdown",
   "metadata": {},
   "source": [
    "Terrain and transportation data, such as bus stops are constant features and thus, do not change or influence a bike station depending on time (such as holiday or weather data).<br>\n",
    "\n",
    "We decided _NOT_ to take the provided data for our model. "
   ]
  },
  {
   "cell_type": "markdown",
   "metadata": {},
   "source": [
    "#### Split train test set for model"
   ]
  },
  {
   "cell_type": "code",
   "execution_count": null,
   "metadata": {
    "ExecuteTime": {
     "end_time": "2021-05-13T06:03:29.464069Z",
     "start_time": "2021-05-13T05:58:01.913Z"
    }
   },
   "outputs": [],
   "source": [
    "# take away the last couple of weeks"
   ]
  },
  {
   "cell_type": "code",
   "execution_count": 522,
   "metadata": {
    "ExecuteTime": {
     "end_time": "2021-05-13T13:49:17.286512Z",
     "start_time": "2021-05-13T13:49:17.283183Z"
    }
   },
   "outputs": [],
   "source": [
    "# bikes_19_agg"
   ]
  },
  {
   "cell_type": "code",
   "execution_count": null,
   "metadata": {},
   "outputs": [],
   "source": []
  },
  {
   "cell_type": "markdown",
   "metadata": {},
   "source": [
    "### Model 🤖"
   ]
  },
  {
   "cell_type": "markdown",
   "metadata": {},
   "source": [
    "#### Baseline"
   ]
  },
  {
   "cell_type": "markdown",
   "metadata": {},
   "source": [
    "Let's have a look at the average bike coverage for each bike station for each **hour of the day.**"
   ]
  },
  {
   "cell_type": "code",
   "execution_count": 61,
   "metadata": {
    "ExecuteTime": {
     "end_time": "2021-05-14T06:07:16.668711Z",
     "start_time": "2021-05-14T06:07:16.642881Z"
    }
   },
   "outputs": [
    {
     "data": {
      "text/html": [
       "<style  type=\"text/css\" >\n",
       "#T_c95db_row0_col3,#T_c95db_row1_col3,#T_c95db_row2_col3,#T_c95db_row3_col3,#T_c95db_row4_col3,#T_c95db_row5_col3,#T_c95db_row6_col3,#T_c95db_row7_col3,#T_c95db_row8_col3,#T_c95db_row9_col3{\n",
       "            width:  50;\n",
       "        }</style><table id=\"T_c95db_\" ><thead>    <tr>        <th class=\"blank level0\" ></th>        <th class=\"col_heading level0 col0\" >hour</th>        <th class=\"col_heading level0 col1\" >drops</th>        <th class=\"col_heading level0 col2\" >picks</th>        <th class=\"col_heading level0 col3\" >station_count</th>    </tr></thead><tbody>\n",
       "                <tr>\n",
       "                        <th id=\"T_c95db_level0_row0\" class=\"row_heading level0 row0\" >8703</th>\n",
       "                        <td id=\"T_c95db_row0_col0\" class=\"data row0 col0\" >2019-12-30 15:00:00</td>\n",
       "                        <td id=\"T_c95db_row0_col1\" class=\"data row0 col1\" >{44: 10, 57: 7, 9: 9, 8: 18, 37: 6, 65: 11, 42: 2, 93: 3, 1: 24, 4: 4, 89: 29, 36: 19, 99: 10, 12: 23, 97: 16, 100: 4, 102: 3, 58: 1, 115: 1, 46: 6, 113: 2, 2: 13, 20: 6, 28: 6, 41: 20, 48: 2, 66: 14, 92: 2, 45: 6, 13: 4, 53: 5, 67: 43, 95: 13, 98: 8, 55: 6, 33: 10, 91: 4, 3: 11, 90: 3, 7: 16, 10: 5, 63: 12, 96: 9, 49: 7, 62: 5, 47: 1, 43: 9, 54: 5, 64: 3, 21: 8, 19: 7, 60: 10, 22: 5, 34: 8, 24: 10, 56: 5, 40: 3, 39: 9, 23: 17, 38: 3, 6: 3, 59: 5, 50: 3, 27: 2, 109: 2, 11: 7, 51: 5, 61: 1, 32: 3, 101: 2, 35: 4, 5: 1, 108: 1, 103: 1, 112: 4, 111: 1}</td>\n",
       "                        <td id=\"T_c95db_row0_col2\" class=\"data row0 col2\" >{93: 3, 46: 6, 27: 7, 65: 13, 33: 12, 34: 14, 99: 8, 2: 16, 36: 15, 47: 2, 64: 11, 5: 1, 91: 1, 96: 9, 9: 5, 24: 10, 23: 14, 41: 19, 8: 21, 100: 3, 20: 2, 60: 14, 66: 27, 44: 8, 3: 8, 10: 14, 56: 12, 67: 39, 97: 16, 54: 3, 63: 13, 92: 3, 38: 8, 98: 6, 89: 18, 37: 3, 45: 9, 48: 3, 12: 18, 6: 7, 28: 2, 7: 19, 40: 6, 53: 4, 57: 8, 95: 7, 4: 3, 1: 17, 101: 3, 94: 2, 19: 12, 118: 2, 42: 3, 21: 11, 39: 7, 61: 1, 59: 5, 13: 8, 109: 1, 102: 4, 22: 5, 35: 3, 49: 6, 11: 4, 113: 4, 90: 2, 108: 3, 43: 6, 115: 2, 55: 5, 112: 3, 32: 2, 50: 1, 62: 2, 104: 1}</td>\n",
       "                        <td id=\"T_c95db_row0_col3\" class=\"data row0 col3\" >{1: 24392, 2: 4901, 3: 5065, 4: 8008, 5: -3702, 6: 4937, 7: -1941, 8: -8053, 9: -1581, 10: 14996, 11: -722, 12: 15882, 13: -35879, 19: 1202, 20: -1858, 21: -3346, 22: -208, 23: -12216, 24: -3612, 27: -3306, 28: 1376, 32: -3273, 33: 5048, 34: -16566, 35: -1453, 36: 1864, 37: 780, 38: -8247, 39: 2808, 40: -16519, 41: 17931, 42: -6069, 43: 5348, 44: 1870, 45: 566, 46: -2568, 47: -4840, 48: -3436, 49: -2291, 51: -2091, 53: -1492, 54: 2067, 55: 2204, 56: -10267, 57: 6758, 58: -1618, 59: -5174, 60: 3676, 61: 99, 62: 4283, 63: 2427, 64: -8441, 65: 4019, 66: -19227, 67: 12151, 70: 18929, 89: 1018, 90: -896, 91: 933, 92: -130, 93: -953, 94: -54, 95: 60, 96: 53, 97: -72, 98: -1270, 99: -751, 100: -783, 101: -376, 102: -167, 103: 57, 104: -25, 105: -115, 106: 18, 107: 0, 108: -80, 109: -59, 110: -7, 111: -31, 112: -78, 113: -83, 114: -103, 115: -41, 116: 0, 118: -180, 121: 0, 122: 0, 123: 0, 124: 0, 125: 0, 126: 0, 127: 0, 128: 0, 129: 0, 130: 0, 131: 0, 132: 0, 133: 0, 134: 0, 135: 0, 136: 0, 137: 0, 138: 0, 139: 0, 140: 0, 141: 0, 142: 0, 69: 10, 14: 8, 31: 5, 16: -36, 50: 23899, 15: 1, 83: -372, -99: 0, 72: 21, 71: 40, 25: -9, 17: 6, 18: 39, 73: 4, 75: -1, 74: 31, 77: 11}</td>\n",
       "            </tr>\n",
       "            <tr>\n",
       "                        <th id=\"T_c95db_level0_row1\" class=\"row_heading level0 row1\" >8704</th>\n",
       "                        <td id=\"T_c95db_row1_col0\" class=\"data row1 col0\" >2019-12-30 16:00:00</td>\n",
       "                        <td id=\"T_c95db_row1_col1\" class=\"data row1 col1\" >{95: 13, 67: 44, 8: 15, 6: 13, 65: 9, 1: 25, 97: 20, 48: 5, 33: 11, 36: 14, 100: 3, 63: 14, 20: 8, 24: 11, 64: 11, 44: 15, 34: 11, 59: 2, 13: 5, 9: 10, 101: 5, 19: 6, 43: 8, 57: 11, 118: 1, 21: 14, 23: 17, 92: 5, 38: 5, 98: 8, 56: 13, 60: 8, 7: 38, 55: 6, 45: 7, 89: 17, 62: 17, 111: 4, 12: 27, 41: 31, 39: 6, 47: 6, 3: 18, 61: 1, 46: 8, 115: 3, 50: 6, 10: 7, 35: 2, 66: 15, 5: 3, 104: 2, 53: 5, 37: 5, 96: 14, 2: 17, 11: 4, 51: 6, 90: 2, 99: 4, 58: 4, 106: 3, 113: 3, 49: 2, 102: 4, 4: 1, 27: 3, 54: 2, 22: 2, 28: 4, 93: 2, 105: 1, 32: 3, 40: 7, 91: 1, 112: 1, 103: 1, 42: 2}</td>\n",
       "                        <td id=\"T_c95db_row1_col2\" class=\"data row1 col2\" >{59: 6, 34: 18, 33: 14, 95: 9, 2: 18, 66: 35, 9: 15, 12: 23, 60: 18, 56: 17, 58: 5, 67: 17, 19: 6, 4: 8, 44: 12, 62: 13, 36: 12, 40: 13, 90: 3, 53: 5, 97: 20, 5: 6, 89: 19, 55: 5, 57: 19, 1: 19, 65: 8, 13: 15, 21: 14, 51: 4, 10: 8, 41: 14, 8: 28, 3: 10, 111: 3, 100: 6, 49: 3, 42: 3, 39: 4, 63: 10, 94: 6, 64: 6, 28: 3, 102: 11, 91: 9, 23: 14, 47: 8, 96: 14, 54: 8, 6: 13, 101: 3, 7: 25, 27: 6, 98: 7, 99: 8, 20: 11, 106: 6, 45: 4, 104: 4, 24: 11, 113: 1, 46: 5, 92: 3, 32: 6, 35: 5, 37: 10, 11: 4, 38: 6, 22: 1, 105: 1, 43: 2, 48: 3, 118: 1, 93: 1, 50: 3, 115: 1}</td>\n",
       "                        <td id=\"T_c95db_row1_col3\" class=\"data row1 col3\" >{1: 24398, 2: 4900, 3: 5073, 4: 8001, 5: -3705, 6: 4937, 7: -1928, 8: -8066, 9: -1586, 10: 14995, 11: -722, 12: 15886, 13: -35889, 19: 1202, 20: -1861, 21: -3346, 22: -207, 23: -12213, 24: -3612, 27: -3309, 28: 1377, 32: -3276, 33: 5045, 34: -16573, 35: -1456, 36: 1866, 37: 775, 38: -8248, 39: 2810, 40: -16525, 41: 17948, 42: -6070, 43: 5354, 44: 1873, 45: 569, 46: -2565, 47: -4842, 48: -3434, 49: -2292, 51: -2089, 53: -1492, 54: 2061, 55: 2205, 56: -10271, 57: 6750, 58: -1619, 59: -5178, 60: 3666, 61: 100, 62: 4287, 63: 2431, 64: -8436, 65: 4020, 66: -19247, 67: 12178, 70: 18929, 89: 1016, 90: -897, 91: 925, 92: -128, 93: -952, 94: -60, 95: 64, 96: 53, 97: -72, 98: -1269, 99: -755, 100: -786, 101: -374, 102: -174, 103: 58, 104: -27, 105: -115, 106: 15, 107: 0, 108: -80, 109: -59, 110: -7, 111: -30, 112: -77, 113: -81, 114: -103, 115: -39, 116: 0, 118: -180, 121: 0, 122: 0, 123: 0, 124: 0, 125: 0, 126: 0, 127: 0, 128: 0, 129: 0, 130: 0, 131: 0, 132: 0, 133: 0, 134: 0, 135: 0, 136: 0, 137: 0, 138: 0, 139: 0, 140: 0, 141: 0, 142: 0, 69: 10, 14: 8, 31: 5, 16: -36, 50: 23902, 15: 1, 83: -372, -99: 0, 72: 21, 71: 40, 25: -9, 17: 6, 18: 39, 73: 4, 75: -1, 74: 31, 77: 11}</td>\n",
       "            </tr>\n",
       "            <tr>\n",
       "                        <th id=\"T_c95db_level0_row2\" class=\"row_heading level0 row2\" >8705</th>\n",
       "                        <td id=\"T_c95db_row2_col0\" class=\"data row2 col0\" >2019-12-30 17:00:00</td>\n",
       "                        <td id=\"T_c95db_row2_col1\" class=\"data row2 col1\" >{64: 14, 99: 12, 8: 43, 89: 22, 51: 2, 1: 47, 12: 50, 6: 21, 48: 11, 92: 6, 32: 4, 53: 3, 7: 32, 58: 3, 56: 29, 10: 12, 97: 33, 5: 4, 63: 14, 109: 2, 41: 38, 35: 5, 46: 14, 50: 8, 9: 11, 23: 21, 2: 29, 49: 7, 95: 21, 28: 4, 54: 5, 47: 6, 62: 6, 13: 7, 44: 11, 20: 13, 45: 19, 24: 14, 3: 27, 66: 23, 40: 9, 57: 22, 67: 11, 19: 2, 90: 5, 43: 1, 55: 5, 34: 6, 65: 11, 36: 17, 91: 2, 110: 2, 93: 1, 33: 6, 11: 7, 21: 16, 4: 11, 42: 5, 101: 2, 105: 2, 115: 2, 22: 5, 98: 8, 96: 11, 39: 11, 108: 1, 113: 1, 60: 5, 59: 3, 38: 8, 94: 1, 27: 9, 102: 2, 100: 2, 114: 1, 37: 1}</td>\n",
       "                        <td id=\"T_c95db_row2_col2\" class=\"data row2 col2\" >{49: 9, 54: 14, 8: 34, 20: 15, 45: 18, 57: 28, 63: 19, 36: 22, 1: 13, 60: 18, 64: 31, 3: 24, 102: 7, 2: 27, 62: 11, 66: 37, 103: 2, 93: 2, 44: 23, 33: 18, 39: 10, 34: 12, 50: 2, 23: 32, 24: 12, 91: 6, 22: 7, 12: 16, 55: 4, 9: 6, 101: 5, 42: 16, 46: 6, 43: 5, 89: 21, 67: 14, 98: 10, 7: 34, 21: 13, 47: 19, 27: 2, 56: 24, 51: 3, 5: 5, 48: 7, 10: 9, 41: 20, 13: 1, 70: 2, 97: 33, 65: 7, 59: 9, 92: 5, 104: 3, 38: 8, 95: 18, 100: 4, 58: 3, 90: 4, 35: 2, 53: 6, 19: 7, 96: 12, 99: 8, 115: 3, 40: 5, 28: 11, 6: 5, 94: 4, 105: 1, 32: 3, 4: 6, 113: 1, 118: 2, 11: 3, 37: 1, 114: 1, 106: 1}</td>\n",
       "                        <td id=\"T_c95db_row2_col3\" class=\"data row2 col3\" >{1: 24432, 2: 4902, 3: 5076, 4: 8006, 5: -3706, 6: 4953, 7: -1930, 8: -8057, 9: -1581, 10: 14998, 11: -718, 12: 15920, 13: -35883, 19: 1197, 20: -1863, 21: -3343, 22: -209, 23: -12224, 24: -3610, 27: -3302, 28: 1370, 32: -3275, 33: 5033, 34: -16579, 35: -1453, 36: 1861, 37: 775, 38: -8248, 39: 2811, 40: -16521, 41: 17966, 42: -6081, 43: 5350, 44: 1861, 45: 570, 46: -2557, 47: -4855, 48: -3430, 49: -2294, 51: -2090, 53: -1495, 54: 2052, 55: 2206, 56: -10266, 57: 6744, 58: -1619, 59: -5184, 60: 3653, 61: 100, 62: 4282, 63: 2426, 64: -8453, 65: 4024, 66: -19261, 67: 12175, 70: 18927, 89: 1017, 90: -896, 91: 921, 92: -127, 93: -953, 94: -63, 95: 67, 96: 52, 97: -72, 98: -1271, 99: -751, 100: -788, 101: -377, 102: -179, 103: 56, 104: -30, 105: -114, 106: 14, 107: 0, 108: -79, 109: -57, 110: -5, 111: -30, 112: -77, 113: -81, 114: -103, 115: -40, 116: 0, 118: -182, 121: 0, 122: 0, 123: 0, 124: 0, 125: 0, 126: 0, 127: 0, 128: 0, 129: 0, 130: 0, 131: 0, 132: 0, 133: 0, 134: 0, 135: 0, 136: 0, 137: 0, 138: 0, 139: 0, 140: 0, 141: 0, 142: 0, 69: 10, 14: 8, 31: 5, 16: -36, 50: 23908, 15: 1, 83: -372, -99: 0, 72: 21, 71: 40, 25: -9, 17: 6, 18: 39, 73: 4, 75: -1, 74: 31, 77: 11}</td>\n",
       "            </tr>\n",
       "            <tr>\n",
       "                        <th id=\"T_c95db_level0_row3\" class=\"row_heading level0 row3\" >8706</th>\n",
       "                        <td id=\"T_c95db_row3_col0\" class=\"data row3 col0\" >2019-12-30 18:00:00</td>\n",
       "                        <td id=\"T_c95db_row3_col1\" class=\"data row3 col1\" >{98: 13, 65: 11, 48: 8, 46: 7, 10: 14, 2: 29, 64: 10, 96: 12, 102: 5, 95: 8, 7: 36, 44: 11, 19: 7, 33: 3, 4: 11, 8: 28, 97: 20, 22: 5, 12: 36, 3: 16, 94: 1, 21: 20, 60: 9, 108: 2, 66: 21, 9: 10, 118: 2, 58: 8, 56: 10, 6: 13, 89: 28, 50: 5, 13: 9, 5: 3, 34: 2, 91: 1, 55: 6, 59: 6, 99: 14, 23: 21, 53: 8, 1: 41, 28: 2, 11: 10, 40: 4, 27: 5, 45: 12, 24: 14, 92: 6, 35: 8, 57: 10, 51: 2, 41: 19, 101: 3, 20: 7, 32: 4, 62: 12, 49: 2, 38: 2, 36: 10, 47: 7, 42: 4, 63: 9, 39: 4, 90: 1, 93: 1, 37: 1, 112: 2, 70: 2, 111: 1, 104: 2, 115: 1}</td>\n",
       "                        <td id=\"T_c95db_row3_col2\" class=\"data row3 col2\" >{95: 9, 64: 11, 89: 28, 1: 7, 99: 14, 60: 9, 48: 7, 22: 3, 8: 15, 35: 2, 9: 12, 10: 12, 38: 4, 3: 10, 24: 13, 39: 9, 23: 13, 32: 5, 37: 1, 7: 18, 51: 4, 57: 9, 102: 6, 92: 4, 34: 6, 59: 10, 44: 10, 47: 11, 11: 3, 46: 10, 19: 8, 62: 7, 36: 16, 5: 3, 12: 15, 20: 3, 66: 27, 42: 2, 101: 5, 56: 14, 63: 9, 53: 3, 58: 2, 6: 7, 21: 17, 2: 28, 90: 1, 4: 3, 13: 6, 97: 25, 45: 8, 100: 2, 93: 2, 98: 6, 33: 1, 54: 5, 55: 7, 28: 2, 96: 11, 115: 4, 65: 5, 41: 15, 108: 1, 111: 2, 104: 2, 91: 4, 27: 3, 114: 2, 40: 5, 110: 1, 50: 2, 103: 2, 118: 1}</td>\n",
       "                        <td id=\"T_c95db_row3_col3\" class=\"data row3 col3\" >{1: 24466, 2: 4903, 3: 5082, 4: 8014, 5: -3706, 6: 4959, 7: -1912, 8: -8044, 9: -1583, 10: 15000, 11: -711, 12: 15941, 13: -35880, 19: 1196, 20: -1859, 21: -3340, 22: -207, 23: -12216, 24: -3609, 27: -3300, 28: 1370, 32: -3276, 33: 5035, 34: -16583, 35: -1447, 36: 1855, 37: 775, 38: -8250, 39: 2806, 40: -16522, 41: 17970, 42: -6079, 43: 5350, 44: 1862, 45: 574, 46: -2560, 47: -4859, 48: -3429, 49: -2292, 51: -2092, 53: -1490, 54: 2047, 55: 2205, 56: -10270, 57: 6745, 58: -1613, 59: -5188, 60: 3653, 61: 100, 62: 4287, 63: 2426, 64: -8454, 65: 4030, 66: -19267, 67: 12175, 70: 18929, 89: 1017, 90: -896, 91: 918, 92: -125, 93: -954, 94: -62, 95: 66, 96: 53, 97: -77, 98: -1264, 99: -751, 100: -790, 101: -379, 102: -180, 103: 54, 104: -30, 105: -114, 106: 14, 107: 0, 108: -78, 109: -57, 110: -6, 111: -31, 112: -75, 113: -81, 114: -105, 115: -43, 116: 0, 118: -181, 121: 0, 122: 0, 123: 0, 124: 0, 125: 0, 126: 0, 127: 0, 128: 0, 129: 0, 130: 0, 131: 0, 132: 0, 133: 0, 134: 0, 135: 0, 136: 0, 137: 0, 138: 0, 139: 0, 140: 0, 141: 0, 142: 0, 69: 10, 14: 8, 31: 5, 16: -36, 50: 23911, 15: 1, 83: -372, -99: 0, 72: 21, 71: 40, 25: -9, 17: 6, 18: 39, 73: 4, 75: -1, 74: 31, 77: 11}</td>\n",
       "            </tr>\n",
       "            <tr>\n",
       "                        <th id=\"T_c95db_level0_row4\" class=\"row_heading level0 row4\" >8707</th>\n",
       "                        <td id=\"T_c95db_row4_col0\" class=\"data row4 col0\" >2019-12-30 19:00:00</td>\n",
       "                        <td id=\"T_c95db_row4_col1\" class=\"data row4 col1\" >{8: 19, 2: 22, 5: 6, 1: 30, 91: 2, 9: 10, 62: 4, 23: 13, 101: 2, 54: 2, 34: 3, 6: 14, 48: 6, 64: 4, 20: 3, 97: 10, 12: 30, 60: 4, 96: 4, 57: 5, 118: 2, 56: 3, 7: 13, 65: 4, 3: 14, 113: 3, 45: 2, 33: 2, 28: 2, 93: 1, 39: 6, 66: 8, 21: 12, 95: 4, 10: 8, 38: 5, 49: 3, 42: 2, 110: 2, 24: 7, 108: 2, 58: 4, 40: 4, 46: 3, 59: 1, 35: 4, 11: 2, 41: 9, 63: 2, 55: 3, 44: 4, 27: 1, 89: 11, 4: 7, 22: 4, 104: 4, 98: 7, 100: 1, 37: 2, 36: 4, 61: 2, 99: 1, 51: 2, 47: 6, 102: 1, 115: 1, 50: 1}</td>\n",
       "                        <td id=\"T_c95db_row4_col2\" class=\"data row4 col2\" >{118: 1, 64: 6, 50: 2, 48: 6, 2: 10, 21: 14, 60: 4, 12: 6, 104: 5, 10: 17, 23: 15, 9: 6, 91: 3, 44: 7, 8: 14, 7: 15, 95: 11, 38: 3, 24: 9, 62: 3, 3: 10, 6: 8, 99: 2, 66: 9, 89: 11, 39: 6, 97: 18, 1: 5, 55: 2, 20: 4, 28: 1, 5: 2, 65: 3, 33: 3, 56: 7, 96: 9, 34: 2, 98: 5, 40: 3, 41: 8, 46: 2, 51: 1, 93: 1, 32: 1, 22: 6, 45: 4, 47: 7, 103: 1, 11: 2, 42: 2, 108: 1, 37: 1, 36: 3, 27: 4, 54: 3, 49: 2, 57: 5, 58: 6, 61: 3, 59: 3, 105: 1, 63: 2, 94: 1, 110: 1}</td>\n",
       "                        <td id=\"T_c95db_row4_col3\" class=\"data row4 col3\" >{1: 24491, 2: 4915, 3: 5086, 4: 8021, 5: -3702, 6: 4965, 7: -1914, 8: -8039, 9: -1579, 10: 14991, 11: -711, 12: 15965, 13: -35880, 19: 1196, 20: -1860, 21: -3342, 22: -209, 23: -12218, 24: -3611, 27: -3303, 28: 1371, 32: -3277, 33: 5034, 34: -16582, 35: -1443, 36: 1856, 37: 776, 38: -8248, 39: 2806, 40: -16521, 41: 17971, 42: -6079, 43: 5350, 44: 1859, 45: 572, 46: -2559, 47: -4860, 48: -3429, 49: -2291, 51: -2091, 53: -1490, 54: 2046, 55: 2206, 56: -10274, 57: 6745, 58: -1615, 59: -5190, 60: 3653, 61: 99, 62: 4288, 63: 2426, 64: -8456, 65: 4031, 66: -19268, 67: 12175, 70: 18929, 89: 1017, 90: -896, 91: 917, 92: -125, 93: -954, 94: -63, 95: 59, 96: 48, 97: -85, 98: -1262, 99: -752, 100: -789, 101: -377, 102: -179, 103: 53, 104: -31, 105: -115, 106: 14, 107: 0, 108: -77, 109: -57, 110: -5, 111: -31, 112: -75, 113: -78, 114: -105, 115: -42, 116: 0, 118: -180, 121: 0, 122: 0, 123: 0, 124: 0, 125: 0, 126: 0, 127: 0, 128: 0, 129: 0, 130: 0, 131: 0, 132: 0, 133: 0, 134: 0, 135: 0, 136: 0, 137: 0, 138: 0, 139: 0, 140: 0, 141: 0, 142: 0, 69: 10, 14: 8, 31: 5, 16: -36, 50: 23910, 15: 1, 83: -372, -99: 0, 72: 21, 71: 40, 25: -9, 17: 6, 18: 39, 73: 4, 75: -1, 74: 31, 77: 11}</td>\n",
       "            </tr>\n",
       "            <tr>\n",
       "                        <th id=\"T_c95db_level0_row5\" class=\"row_heading level0 row5\" >8708</th>\n",
       "                        <td id=\"T_c95db_row5_col0\" class=\"data row5 col0\" >2019-12-30 20:00:00</td>\n",
       "                        <td id=\"T_c95db_row5_col1\" class=\"data row5 col1\" >{64: 5, 7: 11, 99: 4, 36: 3, 12: 18, 61: 2, 46: 1, 1: 16, 57: 4, 3: 8, 97: 5, 8: 12, 28: 1, 96: 4, 6: 8, 39: 3, 63: 3, 2: 7, 9: 3, 48: 2, 23: 13, 58: 6, 56: 6, 24: 3, 95: 9, 89: 4, 65: 7, 50: 6, 42: 2, 62: 4, 27: 2, 112: 1, 51: 2, 38: 2, 37: 3, 66: 9, 55: 2, 44: 2, 101: 2, 49: 1, 92: 2, 5: 1, 22: 2, 20: 4, 98: 2, 111: 1, 100: 2, 21: 5, 11: 3, 41: 2, 34: 1, 105: 3, 10: 2, 104: 1, 106: 1}</td>\n",
       "                        <td id=\"T_c95db_row5_col2\" class=\"data row5 col2\" >{12: 2, 2: 6, 24: 3, 28: 1, 39: 4, 45: 2, 97: 7, 56: 13, 23: 5, 99: 10, 95: 4, 100: 1, 7: 17, 9: 5, 50: 2, 92: 3, 21: 4, 47: 2, 89: 6, 41: 3, 3: 11, 98: 1, 8: 12, 5: 1, 96: 6, 66: 17, 65: 6, 58: 3, 6: 1, 62: 6, 49: 3, 51: 1, 111: 1, 57: 3, 54: 1, 20: 3, 11: 1, 38: 3, 108: 1, 63: 1, 112: 1, 55: 1, 33: 3, 10: 1, 64: 3, 4: 1, 61: 1, 46: 1, 105: 1, 36: 1, 48: 1}</td>\n",
       "                        <td id=\"T_c95db_row5_col3\" class=\"data row5 col3\" >{1: 24507, 2: 4916, 3: 5083, 4: 8020, 5: -3702, 6: 4972, 7: -1920, 8: -8039, 9: -1581, 10: 14992, 11: -709, 12: 15981, 13: -35880, 19: 1196, 20: -1859, 21: -3341, 22: -207, 23: -12210, 24: -3611, 27: -3301, 28: 1371, 32: -3277, 33: 5031, 34: -16581, 35: -1443, 36: 1858, 37: 779, 38: -8249, 39: 2805, 40: -16521, 41: 17970, 42: -6077, 43: 5350, 44: 1861, 45: 570, 46: -2559, 47: -4862, 48: -3428, 49: -2293, 51: -2090, 53: -1490, 54: 2045, 55: 2207, 56: -10281, 57: 6746, 58: -1612, 59: -5190, 60: 3653, 61: 100, 62: 4286, 63: 2428, 64: -8454, 65: 4032, 66: -19276, 67: 12175, 70: 18929, 89: 1015, 90: -896, 91: 917, 92: -126, 93: -954, 94: -63, 95: 64, 96: 46, 97: -87, 98: -1261, 99: -758, 100: -788, 101: -375, 102: -179, 103: 53, 104: -30, 105: -113, 106: 15, 107: 0, 108: -78, 109: -57, 110: -5, 111: -31, 112: -75, 113: -78, 114: -105, 115: -42, 116: 0, 118: -180, 121: 0, 122: 0, 123: 0, 124: 0, 125: 0, 126: 0, 127: 0, 128: 0, 129: 0, 130: 0, 131: 0, 132: 0, 133: 0, 134: 0, 135: 0, 136: 0, 137: 0, 138: 0, 139: 0, 140: 0, 141: 0, 142: 0, 69: 10, 14: 8, 31: 5, 16: -36, 50: 23914, 15: 1, 83: -372, -99: 0, 72: 21, 71: 40, 25: -9, 17: 6, 18: 39, 73: 4, 75: -1, 74: 31, 77: 11}</td>\n",
       "            </tr>\n",
       "            <tr>\n",
       "                        <th id=\"T_c95db_level0_row6\" class=\"row_heading level0 row6\" >8709</th>\n",
       "                        <td id=\"T_c95db_row6_col0\" class=\"data row6 col0\" >2019-12-30 21:00:00</td>\n",
       "                        <td id=\"T_c95db_row6_col1\" class=\"data row6 col1\" >{89: 2, 21: 1, 1: 11, 50: 6, 11: 3, 12: 7, 8: 2, 34: 1, 98: 3, 95: 4, 49: 1, 58: 1, 66: 2, 2: 1, 7: 2, 46: 1, 24: 1, 39: 1, 93: 1, 20: 1, 10: 1, 3: 1, 97: 1, 53: 1, 36: 1, 38: 1, 4: 1, 28: 1, 65: 1, 23: 2, 6: 1, 59: 1, 63: 1, 57: 2, 54: 1}</td>\n",
       "                        <td id=\"T_c95db_row6_col2\" class=\"data row6 col2\" >{5: 1, 10: 1}</td>\n",
       "                        <td id=\"T_c95db_row6_col3\" class=\"data row6 col3\" >{1: 24518, 2: 4917, 3: 5084, 4: 8021, 5: -3703, 6: 4973, 7: -1918, 8: -8037, 9: -1581, 10: 14992, 11: -706, 12: 15988, 13: -35880, 19: 1196, 20: -1858, 21: -3340, 22: -207, 23: -12208, 24: -3610, 27: -3301, 28: 1372, 32: -3277, 33: 5031, 34: -16580, 35: -1443, 36: 1859, 37: 779, 38: -8248, 39: 2806, 40: -16521, 41: 17970, 42: -6077, 43: 5350, 44: 1861, 45: 570, 46: -2558, 47: -4862, 48: -3428, 49: -2292, 51: -2090, 53: -1489, 54: 2046, 55: 2207, 56: -10281, 57: 6748, 58: -1611, 59: -5189, 60: 3653, 61: 100, 62: 4286, 63: 2429, 64: -8454, 65: 4033, 66: -19274, 67: 12175, 70: 18929, 89: 1017, 90: -896, 91: 917, 92: -126, 93: -953, 94: -63, 95: 68, 96: 46, 97: -86, 98: -1258, 99: -758, 100: -788, 101: -375, 102: -179, 103: 53, 104: -30, 105: -113, 106: 15, 107: 0, 108: -78, 109: -57, 110: -5, 111: -31, 112: -75, 113: -78, 114: -105, 115: -42, 116: 0, 118: -180, 121: 0, 122: 0, 123: 0, 124: 0, 125: 0, 126: 0, 127: 0, 128: 0, 129: 0, 130: 0, 131: 0, 132: 0, 133: 0, 134: 0, 135: 0, 136: 0, 137: 0, 138: 0, 139: 0, 140: 0, 141: 0, 142: 0, 69: 10, 14: 8, 31: 5, 16: -36, 50: 23920, 15: 1, 83: -372, -99: 0, 72: 21, 71: 40, 25: -9, 17: 6, 18: 39, 73: 4, 75: -1, 74: 31, 77: 11}</td>\n",
       "            </tr>\n",
       "            <tr>\n",
       "                        <th id=\"T_c95db_level0_row7\" class=\"row_heading level0 row7\" >8710</th>\n",
       "                        <td id=\"T_c95db_row7_col0\" class=\"data row7 col0\" >2019-12-30 22:00:00</td>\n",
       "                        <td id=\"T_c95db_row7_col1\" class=\"data row7 col1\" >{7: 6, 36: 1, 56: 1, 3: 1, 97: 1, 95: 1, 96: 1}</td>\n",
       "                        <td id=\"T_c95db_row7_col2\" class=\"data row7 col2\" >{54: 1, 8: 1, 6: 1, 50: 1}</td>\n",
       "                        <td id=\"T_c95db_row7_col3\" class=\"data row7 col3\" >{1: 24518, 2: 4917, 3: 5085, 4: 8021, 5: -3703, 6: 4972, 7: -1912, 8: -8038, 9: -1581, 10: 14992, 11: -706, 12: 15988, 13: -35880, 19: 1196, 20: -1858, 21: -3340, 22: -207, 23: -12208, 24: -3610, 27: -3301, 28: 1372, 32: -3277, 33: 5031, 34: -16580, 35: -1443, 36: 1860, 37: 779, 38: -8248, 39: 2806, 40: -16521, 41: 17970, 42: -6077, 43: 5350, 44: 1861, 45: 570, 46: -2558, 47: -4862, 48: -3428, 49: -2292, 51: -2090, 53: -1489, 54: 2045, 55: 2207, 56: -10280, 57: 6748, 58: -1611, 59: -5189, 60: 3653, 61: 100, 62: 4286, 63: 2429, 64: -8454, 65: 4033, 66: -19274, 67: 12175, 70: 18929, 89: 1017, 90: -896, 91: 917, 92: -126, 93: -953, 94: -63, 95: 69, 96: 47, 97: -85, 98: -1258, 99: -758, 100: -788, 101: -375, 102: -179, 103: 53, 104: -30, 105: -113, 106: 15, 107: 0, 108: -78, 109: -57, 110: -5, 111: -31, 112: -75, 113: -78, 114: -105, 115: -42, 116: 0, 118: -180, 121: 0, 122: 0, 123: 0, 124: 0, 125: 0, 126: 0, 127: 0, 128: 0, 129: 0, 130: 0, 131: 0, 132: 0, 133: 0, 134: 0, 135: 0, 136: 0, 137: 0, 138: 0, 139: 0, 140: 0, 141: 0, 142: 0, 69: 10, 14: 8, 31: 5, 16: -36, 50: 23919, 15: 1, 83: -372, -99: 0, 72: 21, 71: 40, 25: -9, 17: 6, 18: 39, 73: 4, 75: -1, 74: 31, 77: 11}</td>\n",
       "            </tr>\n",
       "            <tr>\n",
       "                        <th id=\"T_c95db_level0_row8\" class=\"row_heading level0 row8\" >8711</th>\n",
       "                        <td id=\"T_c95db_row8_col0\" class=\"data row8 col0\" >2019-12-30 23:00:00</td>\n",
       "                        <td id=\"T_c95db_row8_col1\" class=\"data row8 col1\" >nan</td>\n",
       "                        <td id=\"T_c95db_row8_col2\" class=\"data row8 col2\" >nan</td>\n",
       "                        <td id=\"T_c95db_row8_col3\" class=\"data row8 col3\" >{1: 24518, 2: 4917, 3: 5085, 4: 8021, 5: -3703, 6: 4972, 7: -1912, 8: -8038, 9: -1581, 10: 14992, 11: -706, 12: 15988, 13: -35880, 19: 1196, 20: -1858, 21: -3340, 22: -207, 23: -12208, 24: -3610, 27: -3301, 28: 1372, 32: -3277, 33: 5031, 34: -16580, 35: -1443, 36: 1860, 37: 779, 38: -8248, 39: 2806, 40: -16521, 41: 17970, 42: -6077, 43: 5350, 44: 1861, 45: 570, 46: -2558, 47: -4862, 48: -3428, 49: -2292, 51: -2090, 53: -1489, 54: 2045, 55: 2207, 56: -10280, 57: 6748, 58: -1611, 59: -5189, 60: 3653, 61: 100, 62: 4286, 63: 2429, 64: -8454, 65: 4033, 66: -19274, 67: 12175, 70: 18929, 89: 1017, 90: -896, 91: 917, 92: -126, 93: -953, 94: -63, 95: 69, 96: 47, 97: -85, 98: -1258, 99: -758, 100: -788, 101: -375, 102: -179, 103: 53, 104: -30, 105: -113, 106: 15, 107: 0, 108: -78, 109: -57, 110: -5, 111: -31, 112: -75, 113: -78, 114: -105, 115: -42, 116: 0, 118: -180, 121: 0, 122: 0, 123: 0, 124: 0, 125: 0, 126: 0, 127: 0, 128: 0, 129: 0, 130: 0, 131: 0, 132: 0, 133: 0, 134: 0, 135: 0, 136: 0, 137: 0, 138: 0, 139: 0, 140: 0, 141: 0, 142: 0, 69: 10, 14: 8, 31: 5, 16: -36, 50: 23919, 15: 1, 83: -372, -99: 0, 72: 21, 71: 40, 25: -9, 17: 6, 18: 39, 73: 4, 75: -1, 74: 31, 77: 11}</td>\n",
       "            </tr>\n",
       "            <tr>\n",
       "                        <th id=\"T_c95db_level0_row9\" class=\"row_heading level0 row9\" >8712</th>\n",
       "                        <td id=\"T_c95db_row9_col0\" class=\"data row9 col0\" >2019-12-31 00:00:00</td>\n",
       "                        <td id=\"T_c95db_row9_col1\" class=\"data row9 col1\" >nan</td>\n",
       "                        <td id=\"T_c95db_row9_col2\" class=\"data row9 col2\" >nan</td>\n",
       "                        <td id=\"T_c95db_row9_col3\" class=\"data row9 col3\" >{1: 24518, 2: 4917, 3: 5085, 4: 8021, 5: -3703, 6: 4972, 7: -1912, 8: -8038, 9: -1581, 10: 14992, 11: -706, 12: 15988, 13: -35880, 19: 1196, 20: -1858, 21: -3340, 22: -207, 23: -12208, 24: -3610, 27: -3301, 28: 1372, 32: -3277, 33: 5031, 34: -16580, 35: -1443, 36: 1860, 37: 779, 38: -8248, 39: 2806, 40: -16521, 41: 17970, 42: -6077, 43: 5350, 44: 1861, 45: 570, 46: -2558, 47: -4862, 48: -3428, 49: -2292, 51: -2090, 53: -1489, 54: 2045, 55: 2207, 56: -10280, 57: 6748, 58: -1611, 59: -5189, 60: 3653, 61: 100, 62: 4286, 63: 2429, 64: -8454, 65: 4033, 66: -19274, 67: 12175, 70: 18929, 89: 1017, 90: -896, 91: 917, 92: -126, 93: -953, 94: -63, 95: 69, 96: 47, 97: -85, 98: -1258, 99: -758, 100: -788, 101: -375, 102: -179, 103: 53, 104: -30, 105: -113, 106: 15, 107: 0, 108: -78, 109: -57, 110: -5, 111: -31, 112: -75, 113: -78, 114: -105, 115: -42, 116: 0, 118: -180, 121: 0, 122: 0, 123: 0, 124: 0, 125: 0, 126: 0, 127: 0, 128: 0, 129: 0, 130: 0, 131: 0, 132: 0, 133: 0, 134: 0, 135: 0, 136: 0, 137: 0, 138: 0, 139: 0, 140: 0, 141: 0, 142: 0, 69: 10, 14: 8, 31: 5, 16: -36, 50: 23919, 15: 1, 83: -372, -99: 0, 72: 21, 71: 40, 25: -9, 17: 6, 18: 39, 73: 4, 75: -1, 74: 31, 77: 11}</td>\n",
       "            </tr>\n",
       "    </tbody></table>"
      ],
      "text/plain": [
       "<pandas.io.formats.style.Styler at 0x1c2453910>"
      ]
     },
     "execution_count": 61,
     "metadata": {},
     "output_type": "execute_result"
    }
   ],
   "source": [
    "bikes_19_pad.tail(10).style.set_properties(subset=['station_count'], **{'width': '50'})"
   ]
  },
  {
   "cell_type": "markdown",
   "metadata": {},
   "source": [
    "**Note, IMPORTANT**<br>\n",
    "While checking the bikes per station and hour we discovered that the bike logs are not sufficient enough to give an accurate count on the stations. Looking at the tail of ```bikes_19_pad``` (the end of the year) we can see an unrealistic number of bikes on each station. We assume that some of the logs are missing _OR_ bike transitions done by the company from station to station weren't recorded. Therefore it is **not possible** to give an accurate prediction of a station load balance. <br>\n",
    "\n",
    "**What can be done with the data**:<br>\n",
    "1. Show the most demanded and most supplied stations in the city.\n",
    "2. Show an hourly demand or supply prediction. This model will be unable to take overloads (station full) or under supply (station empty) into account. \n"
   ]
  },
  {
   "cell_type": "markdown",
   "metadata": {},
   "source": [
    "##### Most demanded and supplied stations"
   ]
  },
  {
   "cell_type": "markdown",
   "metadata": {},
   "source": [
    "The function in [Section 1.4.5.1](#Compute-bike-count-per-station-per-hour) computed the real addings and pullings at each station done by customers of enCicla. Now, the stations with the ```.max()``` and ```.min()``` values by the end of the year will show their inbalanced behavior."
   ]
  },
  {
   "cell_type": "code",
   "execution_count": 141,
   "metadata": {
    "ExecuteTime": {
     "end_time": "2021-05-14T07:09:17.408008Z",
     "start_time": "2021-05-14T07:09:17.188541Z"
    }
   },
   "outputs": [
    {
     "data": {
      "image/png": "[encoded data removed]",
      "text/plain": [
       "<Figure size 1080x576 with 1 Axes>"
      ]
     },
     "metadata": {
      "needs_background": "light"
     },
     "output_type": "display_data"
    },
    {
     "name": "stdout",
     "output_type": "stream",
     "text": [
      "Reds and blues are manually operated stations.\n"
     ]
    }
   ],
   "source": [
    "# get the last entry in the bikes df (31.12.2019)\n",
    "stations_tail = pd.DataFrame(dict(bikes_19_pad.tail(1).station_count))\n",
    "stations_tail = stations_tail.merge(unique_stations[['ID', 'Description', 'isManual']], left_index=True, right_on='ID')\n",
    "# plot the most extreme ends\n",
    "plt.figure(figsize=(15,8))\n",
    "plt.title('Stations with most undersupply and oversupply')\n",
    "x = stations_tail.sort_values(by=8712)\n",
    "clrs = ['r' if x else 'm' for x in x.head(10)['isManual']]\n",
    "plt.bar(x=x.head(10)['Description'], # filter by last hour of 2019 -> 8712\n",
    "        height=x.head(10)[8712], \n",
    "       color=clrs)\n",
    "clr = ['b' if x else 'y' for x in x.tail(10)['isManual']]\n",
    "plt.bar(x=x.tail(10)['Description'], \n",
    "        height=x.tail(10)[8712], \n",
    "       color=clr)\n",
    "# ax2 = ax1.twinx()\n",
    "# ax2 = plt.plot(x.isManual[-10:10])\n",
    "plt.xticks(rotation=90)\n",
    "plt.ylabel('Net bikes needed over the year')\n",
    "plt.show()\n",
    "print('Reds and blues are manually operated stations.')\n"
   ]
  },
  {
   "cell_type": "markdown",
   "metadata": {},
   "source": [
    "**Note**<br>\n",
    "- Reds and blues are manually operated stations.\n",
    "- Manual stations are overrepresented in the top 5 extreme stations."
   ]
  },
  {
   "cell_type": "markdown",
   "metadata": {},
   "source": [
    "##### Hourly supply and demand avg. per station"
   ]
  },
  {
   "cell_type": "markdown",
   "metadata": {},
   "source": [
    "Lets transform the ```bikes_19_agg``` and create a demand df and supply df which can be aggregated later on."
   ]
  },
  {
   "cell_type": "code",
   "execution_count": 146,
   "metadata": {
    "ExecuteTime": {
     "end_time": "2021-05-14T07:12:29.395372Z",
     "start_time": "2021-05-14T07:12:24.619456Z"
    }
   },
   "outputs": [],
   "source": [
    "# create picks df\n",
    "picks_dict = dict(bikes_19_pad.picks)\n",
    "hours_dict = dict(bikes_19_pad.hour)\n",
    "picks_df = pd.DataFrame(picks_dict).T\n",
    "picks_df = picks_df.rename(index=hours_dict).sort_index()\n",
    "picks_df['hour'] = picks_df.index.hour\n",
    "picks_df['holiday'] = None\n",
    "for c, row in picks_df.iterrows():\n",
    "    for i, date in holidays.iterrows():\n",
    "        if date['start'] <= c <= date['end']:\n",
    "            picks_df.loc[c, 'holiday'] = 1\n",
    "            \n",
    "picks_df['holiday'].fillna(0, inplace=True)\n",
    "\n",
    "# create drops df\n",
    "drops_dict = dict(bikes_19_pad.drops)\n",
    "hours_dict = dict(bikes_19_pad.hour)\n",
    "drops_df = pd.DataFrame(drops_dict).T\n",
    "drops_df = drops_df.rename(index=hours_dict).sort_index()\n",
    "drops_df['hour'] = drops_df.index.hour"
   ]
  },
  {
   "cell_type": "code",
   "execution_count": 147,
   "metadata": {
    "ExecuteTime": {
     "end_time": "2021-05-14T07:12:35.347008Z",
     "start_time": "2021-05-14T07:12:35.174512Z"
    },
    "scrolled": false
   },
   "outputs": [
    {
     "data": {
      "text/plain": [
       "Text(0, 0.5, 'Bikes picked up per hour')"
      ]
     },
     "execution_count": 147,
     "metadata": {},
     "output_type": "execute_result"
    },
    {
     "data": {
      "image/png": "[encoded data removed]",
      "text/plain": [
       "<Figure size 1296x360 with 1 Axes>"
      ]
     },
     "metadata": {
      "needs_background": "light"
     },
     "output_type": "display_data"
    }
   ],
   "source": [
    "# create df which only takes the 5 most popular stations\n",
    "# plot the impact of holidays in the graph\n",
    "holiday_df = picks_df.groupby(['holiday', \n",
    "                  'hour']).mean().T.sort_values(by=[(0,17)], ascending=False).head().T.unstack().T\n",
    "\n",
    "holiday_df.plot(figsize=(18,5))\n",
    "plt.grid()\n",
    "plt.title('Top 5 stations and their impact on holidays')\n",
    "plt.xlabel('(Station, hour)')\n",
    "plt.ylabel('Bikes picked up per hour')"
   ]
  },
  {
   "cell_type": "code",
   "execution_count": 149,
   "metadata": {
    "ExecuteTime": {
     "end_time": "2021-05-14T07:13:50.141042Z",
     "start_time": "2021-05-14T07:13:50.128881Z"
    },
    "scrolled": true
   },
   "outputs": [
    {
     "name": "stdout",
     "output_type": "stream",
     "text": [
      "Station 66 is named Industriales Metroplús. \n",
      "It is the least affectionate to holidays.\n",
      "Station 3 is named Ruta N. \n",
      "It is the most affectionate to holidays.\n",
      "Station 8 is named Estadio. \n",
      "It is the most affectionate to holidays.\n"
     ]
    }
   ],
   "source": [
    "print(f'Station 66 is named {unique_stations[unique_stations.ID == 66][\"Description\"].values[0]}. \\nIt is the least affectionate to holidays.')\n",
    "print(f'Station 3 is named {unique_stations[unique_stations.ID == 3][\"Description\"].values[0]}. \\nIt is the most affectionate to holidays.')\n",
    "print(f'Station 8 is named {unique_stations[unique_stations.ID == 8][\"Description\"].values[0]}. \\nIt is the most affectionate to holidays.')\n"
   ]
  },
  {
   "cell_type": "code",
   "execution_count": 150,
   "metadata": {
    "ExecuteTime": {
     "end_time": "2021-05-14T07:13:57.779949Z",
     "start_time": "2021-05-14T07:13:57.594100Z"
    }
   },
   "outputs": [
    {
     "data": {
      "image/png": "[encoded data removed]",
      "text/plain": [
       "<Figure size 1080x576 with 1 Axes>"
      ]
     },
     "metadata": {
      "needs_background": "light"
     },
     "output_type": "display_data"
    }
   ],
   "source": [
    "# plot the mean supply over the day per station\n",
    "drops_df.groupby('hour').mean().T.sort_values(by=17, ascending=False).head().T.plot(figsize=(15,8))\n",
    "plt.title('Most supplied stations over the day (avg)')\n",
    "plt.ylabel('Bikes dropped off per hour')\n",
    "plt.show()"
   ]
  },
  {
   "cell_type": "markdown",
   "metadata": {},
   "source": [
    "#### Time series model"
   ]
  },
  {
   "cell_type": "code",
   "execution_count": 151,
   "metadata": {
    "ExecuteTime": {
     "end_time": "2021-05-14T07:14:10.503872Z",
     "start_time": "2021-05-14T07:14:10.470539Z"
    }
   },
   "outputs": [],
   "source": [
    "# create drops df\n",
    "# transform the dfs to have the time in the x-axis\n",
    "drops_df_fin = drops_df.drop(columns='hour').T\n",
    "picks_df_fin = picks_df.drop(columns='hour').T"
   ]
  },
  {
   "cell_type": "markdown",
   "metadata": {},
   "source": [
    "Let's first have a look at the most demanded stations ```8, 66, 7, 89, 3```."
   ]
  },
  {
   "cell_type": "code",
   "execution_count": 152,
   "metadata": {
    "ExecuteTime": {
     "end_time": "2021-05-14T07:14:12.062061Z",
     "start_time": "2021-05-14T07:14:12.020630Z"
    }
   },
   "outputs": [
    {
     "data": {
      "text/html": [
       "<div>\n",
       "<style scoped>\n",
       "    .dataframe tbody tr th:only-of-type {\n",
       "        vertical-align: middle;\n",
       "    }\n",
       "\n",
       "    .dataframe tbody tr th {\n",
       "        vertical-align: top;\n",
       "    }\n",
       "\n",
       "    .dataframe thead th {\n",
       "        text-align: right;\n",
       "    }\n",
       "</style>\n",
       "<table border=\"1\" class=\"dataframe\">\n",
       "  <thead>\n",
       "    <tr style=\"text-align: right;\">\n",
       "      <th></th>\n",
       "      <th>2019-01-02 00:00:00</th>\n",
       "      <th>2019-01-02 01:00:00</th>\n",
       "      <th>2019-01-02 02:00:00</th>\n",
       "      <th>2019-01-02 03:00:00</th>\n",
       "      <th>2019-01-02 04:00:00</th>\n",
       "      <th>2019-01-02 05:00:00</th>\n",
       "      <th>2019-01-02 06:00:00</th>\n",
       "      <th>2019-01-02 07:00:00</th>\n",
       "      <th>2019-01-02 08:00:00</th>\n",
       "      <th>2019-01-02 09:00:00</th>\n",
       "      <th>...</th>\n",
       "      <th>2019-12-30 15:00:00</th>\n",
       "      <th>2019-12-30 16:00:00</th>\n",
       "      <th>2019-12-30 17:00:00</th>\n",
       "      <th>2019-12-30 18:00:00</th>\n",
       "      <th>2019-12-30 19:00:00</th>\n",
       "      <th>2019-12-30 20:00:00</th>\n",
       "      <th>2019-12-30 21:00:00</th>\n",
       "      <th>2019-12-30 22:00:00</th>\n",
       "      <th>2019-12-30 23:00:00</th>\n",
       "      <th>2019-12-31 00:00:00</th>\n",
       "    </tr>\n",
       "  </thead>\n",
       "  <tbody>\n",
       "    <tr>\n",
       "      <th>8</th>\n",
       "      <td>NaN</td>\n",
       "      <td>NaN</td>\n",
       "      <td>NaN</td>\n",
       "      <td>NaN</td>\n",
       "      <td>NaN</td>\n",
       "      <td>4.0</td>\n",
       "      <td>7.0</td>\n",
       "      <td>16.0</td>\n",
       "      <td>14.0</td>\n",
       "      <td>20.0</td>\n",
       "      <td>...</td>\n",
       "      <td>18.0</td>\n",
       "      <td>15.0</td>\n",
       "      <td>43.0</td>\n",
       "      <td>28.0</td>\n",
       "      <td>19.0</td>\n",
       "      <td>12.0</td>\n",
       "      <td>2.0</td>\n",
       "      <td>NaN</td>\n",
       "      <td>NaN</td>\n",
       "      <td>NaN</td>\n",
       "    </tr>\n",
       "    <tr>\n",
       "      <th>66</th>\n",
       "      <td>NaN</td>\n",
       "      <td>NaN</td>\n",
       "      <td>NaN</td>\n",
       "      <td>NaN</td>\n",
       "      <td>NaN</td>\n",
       "      <td>NaN</td>\n",
       "      <td>19.0</td>\n",
       "      <td>38.0</td>\n",
       "      <td>16.0</td>\n",
       "      <td>7.0</td>\n",
       "      <td>...</td>\n",
       "      <td>14.0</td>\n",
       "      <td>15.0</td>\n",
       "      <td>23.0</td>\n",
       "      <td>21.0</td>\n",
       "      <td>8.0</td>\n",
       "      <td>9.0</td>\n",
       "      <td>2.0</td>\n",
       "      <td>NaN</td>\n",
       "      <td>NaN</td>\n",
       "      <td>NaN</td>\n",
       "    </tr>\n",
       "    <tr>\n",
       "      <th>7</th>\n",
       "      <td>NaN</td>\n",
       "      <td>NaN</td>\n",
       "      <td>NaN</td>\n",
       "      <td>NaN</td>\n",
       "      <td>NaN</td>\n",
       "      <td>2.0</td>\n",
       "      <td>4.0</td>\n",
       "      <td>19.0</td>\n",
       "      <td>6.0</td>\n",
       "      <td>6.0</td>\n",
       "      <td>...</td>\n",
       "      <td>16.0</td>\n",
       "      <td>38.0</td>\n",
       "      <td>32.0</td>\n",
       "      <td>36.0</td>\n",
       "      <td>13.0</td>\n",
       "      <td>11.0</td>\n",
       "      <td>2.0</td>\n",
       "      <td>6.0</td>\n",
       "      <td>NaN</td>\n",
       "      <td>NaN</td>\n",
       "    </tr>\n",
       "    <tr>\n",
       "      <th>89</th>\n",
       "      <td>NaN</td>\n",
       "      <td>NaN</td>\n",
       "      <td>NaN</td>\n",
       "      <td>NaN</td>\n",
       "      <td>NaN</td>\n",
       "      <td>NaN</td>\n",
       "      <td>3.0</td>\n",
       "      <td>8.0</td>\n",
       "      <td>9.0</td>\n",
       "      <td>17.0</td>\n",
       "      <td>...</td>\n",
       "      <td>29.0</td>\n",
       "      <td>17.0</td>\n",
       "      <td>22.0</td>\n",
       "      <td>28.0</td>\n",
       "      <td>11.0</td>\n",
       "      <td>4.0</td>\n",
       "      <td>2.0</td>\n",
       "      <td>NaN</td>\n",
       "      <td>NaN</td>\n",
       "      <td>NaN</td>\n",
       "    </tr>\n",
       "    <tr>\n",
       "      <th>3</th>\n",
       "      <td>NaN</td>\n",
       "      <td>NaN</td>\n",
       "      <td>NaN</td>\n",
       "      <td>NaN</td>\n",
       "      <td>NaN</td>\n",
       "      <td>NaN</td>\n",
       "      <td>5.0</td>\n",
       "      <td>4.0</td>\n",
       "      <td>4.0</td>\n",
       "      <td>6.0</td>\n",
       "      <td>...</td>\n",
       "      <td>11.0</td>\n",
       "      <td>18.0</td>\n",
       "      <td>27.0</td>\n",
       "      <td>16.0</td>\n",
       "      <td>14.0</td>\n",
       "      <td>8.0</td>\n",
       "      <td>1.0</td>\n",
       "      <td>1.0</td>\n",
       "      <td>NaN</td>\n",
       "      <td>NaN</td>\n",
       "    </tr>\n",
       "  </tbody>\n",
       "</table>\n",
       "<p>5 rows × 8713 columns</p>\n",
       "</div>"
      ],
      "text/plain": [
       "    2019-01-02 00:00:00  2019-01-02 01:00:00  2019-01-02 02:00:00  \\\n",
       "8                   NaN                  NaN                  NaN   \n",
       "66                  NaN                  NaN                  NaN   \n",
       "7                   NaN                  NaN                  NaN   \n",
       "89                  NaN                  NaN                  NaN   \n",
       "3                   NaN                  NaN                  NaN   \n",
       "\n",
       "    2019-01-02 03:00:00  2019-01-02 04:00:00  2019-01-02 05:00:00  \\\n",
       "8                   NaN                  NaN                  4.0   \n",
       "66                  NaN                  NaN                  NaN   \n",
       "7                   NaN                  NaN                  2.0   \n",
       "89                  NaN                  NaN                  NaN   \n",
       "3                   NaN                  NaN                  NaN   \n",
       "\n",
       "    2019-01-02 06:00:00  2019-01-02 07:00:00  2019-01-02 08:00:00  \\\n",
       "8                   7.0                 16.0                 14.0   \n",
       "66                 19.0                 38.0                 16.0   \n",
       "7                   4.0                 19.0                  6.0   \n",
       "89                  3.0                  8.0                  9.0   \n",
       "3                   5.0                  4.0                  4.0   \n",
       "\n",
       "    2019-01-02 09:00:00  ...  2019-12-30 15:00:00  2019-12-30 16:00:00  \\\n",
       "8                  20.0  ...                 18.0                 15.0   \n",
       "66                  7.0  ...                 14.0                 15.0   \n",
       "7                   6.0  ...                 16.0                 38.0   \n",
       "89                 17.0  ...                 29.0                 17.0   \n",
       "3                   6.0  ...                 11.0                 18.0   \n",
       "\n",
       "    2019-12-30 17:00:00  2019-12-30 18:00:00  2019-12-30 19:00:00  \\\n",
       "8                  43.0                 28.0                 19.0   \n",
       "66                 23.0                 21.0                  8.0   \n",
       "7                  32.0                 36.0                 13.0   \n",
       "89                 22.0                 28.0                 11.0   \n",
       "3                  27.0                 16.0                 14.0   \n",
       "\n",
       "    2019-12-30 20:00:00  2019-12-30 21:00:00  2019-12-30 22:00:00  \\\n",
       "8                  12.0                  2.0                  NaN   \n",
       "66                  9.0                  2.0                  NaN   \n",
       "7                  11.0                  2.0                  6.0   \n",
       "89                  4.0                  2.0                  NaN   \n",
       "3                   8.0                  1.0                  1.0   \n",
       "\n",
       "    2019-12-30 23:00:00  2019-12-31 00:00:00  \n",
       "8                   NaN                  NaN  \n",
       "66                  NaN                  NaN  \n",
       "7                   NaN                  NaN  \n",
       "89                  NaN                  NaN  \n",
       "3                   NaN                  NaN  \n",
       "\n",
       "[5 rows x 8713 columns]"
      ]
     },
     "execution_count": 152,
     "metadata": {},
     "output_type": "execute_result"
    }
   ],
   "source": [
    "include = [8, 66, 7, 89, 3]\n",
    "drops_df_subs = drops_df_fin.loc[include]\n",
    "drops_df_subs"
   ]
  },
  {
   "cell_type": "code",
   "execution_count": 497,
   "metadata": {
    "ExecuteTime": {
     "end_time": "2021-05-13T13:13:16.696733Z",
     "start_time": "2021-05-13T13:13:13.746767Z"
    }
   },
   "outputs": [],
   "source": [
    "from statsmodels.tsa.seasonal import seasonal_decompose"
   ]
  },
  {
   "cell_type": "code",
   "execution_count": 498,
   "metadata": {
    "ExecuteTime": {
     "end_time": "2021-05-13T13:14:23.315056Z",
     "start_time": "2021-05-13T13:14:23.109685Z"
    }
   },
   "outputs": [
    {
     "data": {
      "image/png": "[encoded data removed]",
      "text/plain": [
       "<Figure size 1224x576 with 1 Axes>"
      ]
     },
     "metadata": {
      "needs_background": "light"
     },
     "output_type": "display_data"
    }
   ],
   "source": [
    "# glimpse on station 8\n",
    "station = 8\n",
    "plt.figure(figsize=(17, 8))\n",
    "plt.plot(drops_df_subs.loc[station])\n",
    "plt.title(f'Demand for Station {station}')\n",
    "plt.ylabel('Demand')\n",
    "plt.xlabel('Hours')\n",
    "plt.grid(False)\n",
    "plt.show()"
   ]
  },
  {
   "cell_type": "code",
   "execution_count": 499,
   "metadata": {
    "ExecuteTime": {
     "end_time": "2021-05-13T13:15:02.654520Z",
     "start_time": "2021-05-13T13:15:02.501929Z"
    }
   },
   "outputs": [],
   "source": [
    "from sklearn.metrics import r2_score, median_absolute_error, mean_absolute_error\n",
    "from sklearn.metrics import median_absolute_error, mean_squared_error, mean_squared_log_error"
   ]
  },
  {
   "cell_type": "code",
   "execution_count": 502,
   "metadata": {
    "ExecuteTime": {
     "end_time": "2021-05-13T13:22:38.731382Z",
     "start_time": "2021-05-13T13:22:38.700267Z"
    }
   },
   "outputs": [
    {
     "data": {
      "text/html": [
       "<div>\n",
       "<style scoped>\n",
       "    .dataframe tbody tr th:only-of-type {\n",
       "        vertical-align: middle;\n",
       "    }\n",
       "\n",
       "    .dataframe tbody tr th {\n",
       "        vertical-align: top;\n",
       "    }\n",
       "\n",
       "    .dataframe thead th {\n",
       "        text-align: right;\n",
       "    }\n",
       "</style>\n",
       "<table border=\"1\" class=\"dataframe\">\n",
       "  <thead>\n",
       "    <tr style=\"text-align: right;\">\n",
       "      <th></th>\n",
       "      <th>2019-01-02 05:00:00</th>\n",
       "      <th>2019-01-02 06:00:00</th>\n",
       "      <th>2019-01-02 07:00:00</th>\n",
       "      <th>2019-01-02 08:00:00</th>\n",
       "      <th>2019-01-02 09:00:00</th>\n",
       "      <th>2019-01-02 10:00:00</th>\n",
       "      <th>2019-01-02 11:00:00</th>\n",
       "      <th>2019-01-02 12:00:00</th>\n",
       "      <th>2019-01-02 13:00:00</th>\n",
       "      <th>2019-01-02 14:00:00</th>\n",
       "      <th>...</th>\n",
       "      <th>2019-12-31 07:00:00</th>\n",
       "      <th>2019-12-31 08:00:00</th>\n",
       "      <th>2019-12-31 09:00:00</th>\n",
       "      <th>2019-12-31 10:00:00</th>\n",
       "      <th>2019-12-31 11:00:00</th>\n",
       "      <th>2019-12-31 12:00:00</th>\n",
       "      <th>2019-12-31 13:00:00</th>\n",
       "      <th>2019-12-31 14:00:00</th>\n",
       "      <th>2019-12-31 15:00:00</th>\n",
       "      <th>2019-12-31 16:00:00</th>\n",
       "    </tr>\n",
       "  </thead>\n",
       "  <tbody>\n",
       "    <tr>\n",
       "      <th>8</th>\n",
       "      <td>4.0</td>\n",
       "      <td>7.0</td>\n",
       "      <td>16.0</td>\n",
       "      <td>14.0</td>\n",
       "      <td>20.0</td>\n",
       "      <td>13.0</td>\n",
       "      <td>11.0</td>\n",
       "      <td>17.0</td>\n",
       "      <td>14.0</td>\n",
       "      <td>17.0</td>\n",
       "      <td>...</td>\n",
       "      <td>13.0</td>\n",
       "      <td>6.0</td>\n",
       "      <td>19.0</td>\n",
       "      <td>12.0</td>\n",
       "      <td>19.0</td>\n",
       "      <td>25.0</td>\n",
       "      <td>8.0</td>\n",
       "      <td>5.0</td>\n",
       "      <td>NaN</td>\n",
       "      <td>NaN</td>\n",
       "    </tr>\n",
       "  </tbody>\n",
       "</table>\n",
       "<p>1 rows × 5375 columns</p>\n",
       "</div>"
      ],
      "text/plain": [
       "   2019-01-02 05:00:00  2019-01-02 06:00:00  2019-01-02 07:00:00  \\\n",
       "8                  4.0                  7.0                 16.0   \n",
       "\n",
       "   2019-01-02 08:00:00  2019-01-02 09:00:00  2019-01-02 10:00:00  \\\n",
       "8                 14.0                 20.0                 13.0   \n",
       "\n",
       "   2019-01-02 11:00:00  2019-01-02 12:00:00  2019-01-02 13:00:00  \\\n",
       "8                 11.0                 17.0                 14.0   \n",
       "\n",
       "   2019-01-02 14:00:00  ...  2019-12-31 07:00:00  2019-12-31 08:00:00  \\\n",
       "8                 17.0  ...                 13.0                  6.0   \n",
       "\n",
       "   2019-12-31 09:00:00  2019-12-31 10:00:00  2019-12-31 11:00:00  \\\n",
       "8                 19.0                 12.0                 19.0   \n",
       "\n",
       "   2019-12-31 12:00:00  2019-12-31 13:00:00  2019-12-31 14:00:00  \\\n",
       "8                 25.0                  8.0                  5.0   \n",
       "\n",
       "   2019-12-31 15:00:00  2019-12-31 16:00:00  \n",
       "8                  NaN                  NaN  \n",
       "\n",
       "[1 rows x 5375 columns]"
      ]
     },
     "execution_count": 502,
     "metadata": {},
     "output_type": "execute_result"
    }
   ],
   "source": [
    "#### SISTO CONTINUE with station 8\n",
    "drops_df_subs.loc[[8]]"
   ]
  },
  {
   "cell_type": "code",
   "execution_count": null,
   "metadata": {},
   "outputs": [],
   "source": []
  },
  {
   "cell_type": "code",
   "execution_count": null,
   "metadata": {},
   "outputs": [],
   "source": []
  },
  {
   "cell_type": "code",
   "execution_count": null,
   "metadata": {},
   "outputs": [],
   "source": []
  },
  {
   "cell_type": "markdown",
   "metadata": {
    "id": "gSDath2nr1fq"
   },
   "source": [
    "## Conclusions 💡"
   ]
  },
  {
   "cell_type": "markdown",
   "metadata": {
    "id": "gSDath2nr1fq"
   },
   "source": [
    "### Scalability and Impact\n",
    "Tell us how applicable and scalable your solution is if you were to implement it in a city. Identify possible limitations and measure the potential social impact of your solution."
   ]
  },
  {
   "cell_type": "markdown",
   "metadata": {
    "id": "CGmbES9GszEv"
   },
   "source": [
    "1. Hard to compute over all years due to high computational demand\n",
    "2. Log data is inconsistent and thus doesn't give full information for balancing prediction (see [here](#Baseline))\n",
    "2. MODEL??\n",
    "3. For simpler calculations it is enough to get an average demand per station and act accordingly (no time series needed)\n"
   ]
  },
  {
   "cell_type": "markdown",
   "metadata": {
    "id": "0XBiBOyAl2Sv"
   },
   "source": [
    "### Future Work"
   ]
  },
  {
   "cell_type": "markdown",
   "metadata": {
    "id": "5gK3heTKl7qz"
   },
   "source": [
    "1. Get absolute station bike counts per each hour to\n",
    "    - to measure real time numbers with real time absolute data\n",
    "    - to be able to measure if a bike station is notoriously oversupplied (full) or undersupplied (empty)\n",
    "2. Compute prediciton model for each station (not only most popular ones)\n",
    "3. Push to production: \n",
    "    - get real time numbers of bikes per station\n",
    "    - predict demand over the upcoming day\n",
    "    - balance the real time numbers with the demanded bikes\n",
    "    - create a balance sheet to instruct bike operators to shift the bikes from station to station"
   ]
  },
  {
   "cell_type": "code",
   "execution_count": null,
   "metadata": {},
   "outputs": [],
   "source": []
  },
  {
   "cell_type": "code",
   "execution_count": null,
   "metadata": {},
   "outputs": [],
   "source": []
  },
  {
   "cell_type": "code",
   "execution_count": null,
   "metadata": {},
   "outputs": [],
   "source": []
  },
  {
   "cell_type": "markdown",
   "metadata": {},
   "source": [
    "# Appendix 🎒"
   ]
  },
  {
   "cell_type": "markdown",
   "metadata": {
    "heading_collapsed": true
   },
   "source": [
    "## Calculate routes with HERE API"
   ]
  },
  {
   "cell_type": "code",
   "execution_count": null,
   "metadata": {
    "ExecuteTime": {
     "end_time": "2021-05-13T06:03:29.482214Z",
     "start_time": "2021-05-13T05:58:01.952Z"
    },
    "hidden": true
   },
   "outputs": [],
   "source": [
    "stations_df = pd.read_csv('data/station_location_with_id.csv', sep=';').drop(columns=['photo', 'webDescription'])\n"
   ]
  },
  {
   "cell_type": "code",
   "execution_count": null,
   "metadata": {
    "ExecuteTime": {
     "end_time": "2021-05-13T06:03:29.482880Z",
     "start_time": "2021-05-13T05:58:01.954Z"
    },
    "hidden": true
   },
   "outputs": [],
   "source": [
    "def app_coords(x):\n",
    "    x['start_coord'] = None\n",
    "    x['finish_coord'] = None\n",
    "    for c, row in x.iterrows():\n",
    "        start = float(row.start_id)\n",
    "        # basically a left join to get the coordinates per station\n",
    "        try:\n",
    "            x.at[c, 'start_coord'] = stations_coords.loc[start, 'longlat']\n",
    "        except Exception as e:\n",
    "            continue\n",
    "        stop = float(row.finish_id)\n",
    "        try:\n",
    "            x.at[c, 'finish_coord'] = stations_coords.loc[stop, 'longlat']\n",
    "        except:\n",
    "            continue\n",
    "    \n",
    "    return x"
   ]
  },
  {
   "cell_type": "code",
   "execution_count": null,
   "metadata": {
    "ExecuteTime": {
     "end_time": "2021-05-13T06:03:29.483600Z",
     "start_time": "2021-05-13T05:58:01.955Z"
    },
    "hidden": true
   },
   "outputs": [],
   "source": [
    "# assign coords to stations\n",
    "routes_usage_x = routes_usage.copy()\n",
    "routes_usage_x = app_coords(routes_usage_x)"
   ]
  },
  {
   "cell_type": "code",
   "execution_count": null,
   "metadata": {
    "ExecuteTime": {
     "end_time": "2021-05-13T06:03:29.484496Z",
     "start_time": "2021-05-13T05:58:01.956Z"
    },
    "hidden": true
   },
   "outputs": [],
   "source": [
    "# retrieve bike routes\n",
    "load_dotenv(find_dotenv())\n",
    "HERE_API = os.environ.get(\"HERE_API\")\n",
    "def here_routes(x):\n",
    "    \"\"\"\n",
    "    takes in the row of the bikes df and returns a LineString \n",
    "    of the computed bike route from start to destination\n",
    "    \"\"\"\n",
    "#     x = x.dropna(subset=['start_coord', 'finish_coord'])\n",
    "    # check if both coords are available\n",
    "    if x.start_coord and x.finish_coord:\n",
    "        base_url = 'https://route.ls.hereapi.com/routing/7.2/calculateroute.json'\n",
    "        start = f'{x.start_coord[1]},{x.start_coord[0]}' # latlon flipped to lonlat\n",
    "        stop = f'{x.finish_coord[1]},{x.finish_coord[0]}'\n",
    "        params_i = {'apiKey':HERE_API,\n",
    "                    'waypoint0':f'geo!{start}',\n",
    "                    'waypoint1':f'geo!{stop}',\n",
    "                    'mode':'shortest;bicycle;traffic:disabled'\n",
    "                   }\n",
    "        ri = requests.get(url=base_url, params=params_i)\n",
    "        lst = []\n",
    "        try:\n",
    "            for i in ri.json()['response']['route'][0]['leg'][0]['maneuver']:\n",
    "                lat = i.get('position').get('latitude')\n",
    "                long = i.get('position').get('longitude')\n",
    "                lst.append((long, lat))\n",
    "            line = LineString(lst)\n",
    "            print(line)\n",
    "            return line\n",
    "        except Exeption as e:\n",
    "            print(f'Couldn\\'t get route {start}, {stop}, Error: {e}')\n",
    "            \n",
    "# dont run if routes already retrieved\n",
    "# save all retrieved data in dict before assigning (in case it breaks)\n",
    "if 'routes_dict' not in locals():\n",
    "    routes_dict = {}\n",
    "if 'geometry' not in routes_usage_x.columns:\n",
    "    routes_usage_x['geometry'] = None\n",
    "for c, row in routes_usage_x.iterrows():\n",
    "    if not row.geometry:\n",
    "        line = here_routes(row) # run the function\n",
    "        routes_dict[c] = line\n",
    "        routes_usage_x.at[c, 'geometry'] = line\n",
    "    else:\n",
    "        print(f'satisfied with: {c}') # if route has already been retrieved\n",
    "\n",
    "routes_usage_x.to_csv('raw_data/routes_usage.csv')"
   ]
  },
  {
   "cell_type": "markdown",
   "metadata": {
    "heading_collapsed": true
   },
   "source": [
    "## Retrieve weather information"
   ]
  },
  {
   "cell_type": "code",
   "execution_count": null,
   "metadata": {
    "hidden": true
   },
   "outputs": [],
   "source": [
    "# retrieve all weather data for 2019\n",
    "req = 'http://history.openweathermap.org/data/2.5/history/city'\n",
    "start = bike_df.Fecha_Prestamo.min().value\n",
    "end = bike_df.Fecha_Devolucion.max().value\n",
    "params = {\n",
    "    'id':'3674962', # ID of medellin\n",
    "    'type':'hour',\n",
    "    'start':str(start)[:10], # unix time\n",
    "    'end':str(end)[:10],\n",
    "    'appid': OWM_API\n",
    "}\n",
    "\n",
    "r = requests.get(req, params=params)\n",
    "r.status_code"
   ]
  }
 ],
 "metadata": {
  "colab": {
   "collapsed_sections": [],
   "name": "Notebook Submission Template.ipynb",
   "provenance": []
  },
  "kernelspec": {
   "display_name": "Python 3",
   "language": "python",
   "name": "python3"
  },
  "language_info": {
   "codemirror_mode": {
    "name": "ipython",
    "version": 3
   },
   "file_extension": ".py",
   "mimetype": "text/x-python",
   "name": "python",
   "nbconvert_exporter": "python",
   "pygments_lexer": "ipython3",
   "version": "3.8.6"
  },
  "toc": {
   "base_numbering": 1,
   "nav_menu": {},
   "number_sections": true,
   "sideBar": true,
   "skip_h1_title": false,
   "title_cell": "Table of Contents",
   "title_sidebar": "Contents",
   "toc_cell": false,
   "toc_position": {},
   "toc_section_display": true,
   "toc_window_display": false
  }
 },
 "nbformat": 4,
 "nbformat_minor": 1
}
