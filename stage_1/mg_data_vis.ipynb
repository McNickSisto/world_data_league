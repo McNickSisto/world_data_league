{
 "cells": [
  {
   "cell_type": "markdown",
   "metadata": {},
   "source": [
    "# Imports"
   ]
  },
  {
   "cell_type": "code",
   "execution_count": 18,
   "metadata": {
    "ExecuteTime": {
     "end_time": "2021-04-06T19:42:42.879909Z",
     "start_time": "2021-04-06T19:42:42.872630Z"
    }
   },
   "outputs": [
    {
     "ename": "ModuleNotFoundError",
     "evalue": "No module named 'seaborn'",
     "output_type": "error",
     "traceback": [
      "\u001b[0;31m---------------------------------------------------------------------------\u001b[0m",
      "\u001b[0;31mModuleNotFoundError\u001b[0m                       Traceback (most recent call last)",
      "\u001b[0;32m<ipython-input-18-11f85d985949>\u001b[0m in \u001b[0;36m<module>\u001b[0;34m\u001b[0m\n\u001b[1;32m      1\u001b[0m \u001b[0;32mimport\u001b[0m \u001b[0mpandas\u001b[0m \u001b[0;32mas\u001b[0m \u001b[0mpd\u001b[0m\u001b[0;34m\u001b[0m\u001b[0;34m\u001b[0m\u001b[0m\n\u001b[0;32m----> 2\u001b[0;31m \u001b[0;32mimport\u001b[0m \u001b[0mseaborn\u001b[0m \u001b[0;32mas\u001b[0m \u001b[0msns\u001b[0m\u001b[0;34m\u001b[0m\u001b[0;34m\u001b[0m\u001b[0m\n\u001b[0m\u001b[1;32m      3\u001b[0m \u001b[0;32mimport\u001b[0m \u001b[0mnumpy\u001b[0m \u001b[0;32mas\u001b[0m \u001b[0mnp\u001b[0m\u001b[0;34m\u001b[0m\u001b[0;34m\u001b[0m\u001b[0m\n\u001b[1;32m      4\u001b[0m \u001b[0;32mimport\u001b[0m \u001b[0mmatplotlib\u001b[0m\u001b[0;34m.\u001b[0m\u001b[0mpyplot\u001b[0m \u001b[0;32mas\u001b[0m \u001b[0mplt\u001b[0m\u001b[0;34m\u001b[0m\u001b[0;34m\u001b[0m\u001b[0m\n\u001b[1;32m      5\u001b[0m \u001b[0;32mimport\u001b[0m \u001b[0mdatetime\u001b[0m \u001b[0;32mas\u001b[0m \u001b[0mdt\u001b[0m\u001b[0;34m\u001b[0m\u001b[0;34m\u001b[0m\u001b[0m\n",
      "\u001b[0;31mModuleNotFoundError\u001b[0m: No module named 'seaborn'"
     ]
    }
   ],
   "source": [
    "import pandas as pd\n",
    "import seaborn as sns\n",
    "import numpy as np\n",
    "import matplotlib.pyplot as plt\n",
    "import datetime as dt\n",
    "import requests\n",
    "import random\n",
    "import json\n",
    "import csv\n",
    "import time\n",
    "import folium\n",
    "from folium import Map, CircleMarker, Vega, Popup, Marker\n",
    "from folium.plugins import MarkerCluster, HeatMap\n",
    "import LatLon23\n",
    "from vincent import Bar\n",
    "from math import radians, sin, cos, asin, sqrt\n",
    "from ipywidgets import interact"
   ]
  },
  {
   "cell_type": "markdown",
   "metadata": {},
   "source": [
    "# Data"
   ]
  },
  {
   "cell_type": "markdown",
   "metadata": {},
   "source": [
    "## Originals"
   ]
  },
  {
   "cell_type": "code",
   "execution_count": null,
   "metadata": {
    "ExecuteTime": {
     "end_time": "2021-04-06T19:05:51.225745Z",
     "start_time": "2021-04-06T19:05:51.092993Z"
    }
   },
   "outputs": [],
   "source": [
    "data_senior = pd.read_csv('raw_data/senior_transportation.csv')\n",
    "data_bus = pd.read_csv('raw_data/bus_routes.csv')\n",
    "data_users = pd.read_csv('raw_data/churn_users.csv')\n",
    "data_od = pd.read_csv('raw_data/churn_OD.csv')\n"
   ]
  },
  {
   "cell_type": "code",
   "execution_count": 2,
   "metadata": {
    "ExecuteTime": {
     "end_time": "2021-04-06T19:05:59.011122Z",
     "start_time": "2021-04-06T19:05:58.965904Z"
    }
   },
   "outputs": [
    {
     "ename": "NameError",
     "evalue": "name 'data_senior' is not defined",
     "output_type": "error",
     "traceback": [
      "\u001b[0;31m---------------------------------------------------------------------------\u001b[0m",
      "\u001b[0;31mNameError\u001b[0m                                 Traceback (most recent call last)",
      "\u001b[0;32m<ipython-input-2-4412d70070fb>\u001b[0m in \u001b[0;36m<module>\u001b[0;34m\u001b[0m\n\u001b[0;32m----> 1\u001b[0;31m \u001b[0mdata_senior\u001b[0m\u001b[0;34m\u001b[0m\u001b[0;34m\u001b[0m\u001b[0m\n\u001b[0m",
      "\u001b[0;31mNameError\u001b[0m: name 'data_senior' is not defined"
     ]
    }
   ],
   "source": [
    "data_senior"
   ]
  },
  {
   "cell_type": "code",
   "execution_count": 3,
   "metadata": {
    "ExecuteTime": {
     "end_time": "2021-04-06T19:52:33.128499Z",
     "start_time": "2021-04-06T19:52:33.071961Z"
    }
   },
   "outputs": [
    {
     "ename": "NameError",
     "evalue": "name 'data_senior' is not defined",
     "output_type": "error",
     "traceback": [
      "\u001b[0;31m---------------------------------------------------------------------------\u001b[0m",
      "\u001b[0;31mNameError\u001b[0m                                 Traceback (most recent call last)",
      "\u001b[0;32m<ipython-input-3-d14e8bbd9903>\u001b[0m in \u001b[0;36m<module>\u001b[0;34m\u001b[0m\n\u001b[0;32m----> 1\u001b[0;31m \u001b[0mdata_senior\u001b[0m\u001b[0;34m.\u001b[0m\u001b[0minfo\u001b[0m\u001b[0;34m(\u001b[0m\u001b[0;34m)\u001b[0m\u001b[0;34m\u001b[0m\u001b[0;34m\u001b[0m\u001b[0m\n\u001b[0m",
      "\u001b[0;31mNameError\u001b[0m: name 'data_senior' is not defined"
     ]
    }
   ],
   "source": [
    "data_senior.info()"
   ]
  },
  {
   "cell_type": "code",
   "execution_count": 4,
   "metadata": {
    "ExecuteTime": {
     "end_time": "2021-04-06T19:22:49.074037Z",
     "start_time": "2021-04-06T19:22:48.791392Z"
    }
   },
   "outputs": [
    {
     "ename": "NameError",
     "evalue": "name 'data_senior' is not defined",
     "output_type": "error",
     "traceback": [
      "\u001b[0;31m---------------------------------------------------------------------------\u001b[0m",
      "\u001b[0;31mNameError\u001b[0m                                 Traceback (most recent call last)",
      "\u001b[0;32m<ipython-input-4-b688dde7e4d5>\u001b[0m in \u001b[0;36m<module>\u001b[0;34m\u001b[0m\n\u001b[0;32m----> 1\u001b[0;31m \u001b[0mplot\u001b[0m \u001b[0;34m=\u001b[0m \u001b[0mdata_senior\u001b[0m\u001b[0;34m[\u001b[0m\u001b[0;34m[\u001b[0m\u001b[0;34m\"County_of_Origin\"\u001b[0m\u001b[0;34m,\u001b[0m \u001b[0;34m\"Average_Daily_SeniorPopulation_Travelling\"\u001b[0m\u001b[0;34m]\u001b[0m\u001b[0;34m]\u001b[0m\u001b[0;34m.\u001b[0m\u001b[0mgroupby\u001b[0m\u001b[0;34m(\u001b[0m\u001b[0;34m\"County_of_Origin\"\u001b[0m\u001b[0;34m)\u001b[0m\u001b[0;34m.\u001b[0m\u001b[0mmean\u001b[0m\u001b[0;34m(\u001b[0m\u001b[0;34m)\u001b[0m\u001b[0;34m\u001b[0m\u001b[0;34m\u001b[0m\u001b[0m\n\u001b[0m\u001b[1;32m      2\u001b[0m \u001b[0mplt\u001b[0m\u001b[0;34m.\u001b[0m\u001b[0mplot\u001b[0m\u001b[0;34m(\u001b[0m\u001b[0mplot\u001b[0m\u001b[0;34m)\u001b[0m\u001b[0;34m\u001b[0m\u001b[0;34m\u001b[0m\u001b[0m\n\u001b[1;32m      3\u001b[0m \u001b[0mplt\u001b[0m\u001b[0;34m.\u001b[0m\u001b[0mxticks\u001b[0m\u001b[0;34m(\u001b[0m\u001b[0mrotation\u001b[0m\u001b[0;34m=\u001b[0m\u001b[0;34m'vertical'\u001b[0m\u001b[0;34m)\u001b[0m\u001b[0;34m\u001b[0m\u001b[0;34m\u001b[0m\u001b[0m\n\u001b[1;32m      4\u001b[0m \u001b[0mplt\u001b[0m\u001b[0;34m.\u001b[0m\u001b[0mshow\u001b[0m\u001b[0;34m(\u001b[0m\u001b[0;34m)\u001b[0m\u001b[0;34m\u001b[0m\u001b[0;34m\u001b[0m\u001b[0m\n",
      "\u001b[0;31mNameError\u001b[0m: name 'data_senior' is not defined"
     ]
    }
   ],
   "source": [
    "plot = data_senior[[\"County_of_Origin\", \"Average_Daily_SeniorPopulation_Travelling\"]].groupby(\"County_of_Origin\").mean()\n",
    "plt.plot(plot)\n",
    "plt.xticks(rotation='vertical')\n",
    "plt.show()"
   ]
  },
  {
   "cell_type": "code",
   "execution_count": 5,
   "metadata": {
    "ExecuteTime": {
     "end_time": "2021-04-06T19:06:14.847922Z",
     "start_time": "2021-04-06T19:06:14.813902Z"
    }
   },
   "outputs": [
    {
     "ename": "NameError",
     "evalue": "name 'data_bus' is not defined",
     "output_type": "error",
     "traceback": [
      "\u001b[0;31m---------------------------------------------------------------------------\u001b[0m",
      "\u001b[0;31mNameError\u001b[0m                                 Traceback (most recent call last)",
      "\u001b[0;32m<ipython-input-5-beaf204630f9>\u001b[0m in \u001b[0;36m<module>\u001b[0;34m\u001b[0m\n\u001b[0;32m----> 1\u001b[0;31m \u001b[0mdata_bus\u001b[0m\u001b[0;34m\u001b[0m\u001b[0;34m\u001b[0m\u001b[0m\n\u001b[0m",
      "\u001b[0;31mNameError\u001b[0m: name 'data_bus' is not defined"
     ]
    }
   ],
   "source": [
    "data_bus"
   ]
  },
  {
   "cell_type": "code",
   "execution_count": 6,
   "metadata": {
    "ExecuteTime": {
     "end_time": "2021-04-06T19:06:34.295116Z",
     "start_time": "2021-04-06T19:06:34.261435Z"
    },
    "scrolled": true
   },
   "outputs": [
    {
     "ename": "NameError",
     "evalue": "name 'data_users' is not defined",
     "output_type": "error",
     "traceback": [
      "\u001b[0;31m---------------------------------------------------------------------------\u001b[0m",
      "\u001b[0;31mNameError\u001b[0m                                 Traceback (most recent call last)",
      "\u001b[0;32m<ipython-input-6-0d02f0ebf6eb>\u001b[0m in \u001b[0;36m<module>\u001b[0;34m\u001b[0m\n\u001b[0;32m----> 1\u001b[0;31m \u001b[0mdata_users\u001b[0m\u001b[0;34m\u001b[0m\u001b[0;34m\u001b[0m\u001b[0m\n\u001b[0m",
      "\u001b[0;31mNameError\u001b[0m: name 'data_users' is not defined"
     ]
    }
   ],
   "source": [
    "data_users"
   ]
  },
  {
   "cell_type": "code",
   "execution_count": 7,
   "metadata": {
    "ExecuteTime": {
     "end_time": "2021-04-06T19:12:26.699235Z",
     "start_time": "2021-04-06T19:12:26.542784Z"
    }
   },
   "outputs": [
    {
     "ename": "NameError",
     "evalue": "name 'plt' is not defined",
     "output_type": "error",
     "traceback": [
      "\u001b[0;31m---------------------------------------------------------------------------\u001b[0m",
      "\u001b[0;31mNameError\u001b[0m                                 Traceback (most recent call last)",
      "\u001b[0;32m<ipython-input-7-8d62c1ab5554>\u001b[0m in \u001b[0;36m<module>\u001b[0;34m\u001b[0m\n\u001b[0;32m----> 1\u001b[0;31m \u001b[0mplt\u001b[0m\u001b[0;34m.\u001b[0m\u001b[0mplot\u001b[0m\u001b[0;34m(\u001b[0m\u001b[0mdata_users\u001b[0m\u001b[0;34m.\u001b[0m\u001b[0mgroupby\u001b[0m\u001b[0;34m(\u001b[0m\u001b[0;34m\"AgeClassDescription\"\u001b[0m\u001b[0;34m)\u001b[0m\u001b[0;34m.\u001b[0m\u001b[0mmean\u001b[0m\u001b[0;34m(\u001b[0m\u001b[0;34m)\u001b[0m\u001b[0;34m)\u001b[0m\u001b[0;34m\u001b[0m\u001b[0;34m\u001b[0m\u001b[0m\n\u001b[0m",
      "\u001b[0;31mNameError\u001b[0m: name 'plt' is not defined"
     ]
    }
   ],
   "source": [
    "plt.plot(data_users.groupby(\"AgeClassDescription\").mean())"
   ]
  },
  {
   "cell_type": "code",
   "execution_count": 8,
   "metadata": {
    "ExecuteTime": {
     "end_time": "2021-04-06T19:06:59.990291Z",
     "start_time": "2021-04-06T19:06:59.953970Z"
    }
   },
   "outputs": [
    {
     "ename": "NameError",
     "evalue": "name 'data_od' is not defined",
     "output_type": "error",
     "traceback": [
      "\u001b[0;31m---------------------------------------------------------------------------\u001b[0m",
      "\u001b[0;31mNameError\u001b[0m                                 Traceback (most recent call last)",
      "\u001b[0;32m<ipython-input-8-ef695aea0338>\u001b[0m in \u001b[0;36m<module>\u001b[0;34m\u001b[0m\n\u001b[0;32m----> 1\u001b[0;31m \u001b[0mdata_od\u001b[0m\u001b[0;34m\u001b[0m\u001b[0;34m\u001b[0m\u001b[0m\n\u001b[0m",
      "\u001b[0;31mNameError\u001b[0m: name 'data_od' is not defined"
     ]
    }
   ],
   "source": [
    "data_od"
   ]
  },
  {
   "cell_type": "markdown",
   "metadata": {},
   "source": [
    "## transporlis"
   ]
  },
  {
   "cell_type": "code",
   "execution_count": 9,
   "metadata": {
    "ExecuteTime": {
     "end_time": "2021-04-06T19:26:06.472252Z",
     "start_time": "2021-04-06T19:26:06.462052Z"
    }
   },
   "outputs": [],
   "source": [
    "df_carr = pd.read_csv(\"transporlis_data/data_carristur/shapes.txt\")"
   ]
  },
  {
   "cell_type": "code",
   "execution_count": 10,
   "metadata": {
    "ExecuteTime": {
     "end_time": "2021-04-06T19:30:29.834594Z",
     "start_time": "2021-04-06T19:30:29.808607Z"
    }
   },
   "outputs": [
    {
     "data": {
      "text/html": [
       "<div>\n",
       "<style scoped>\n",
       "    .dataframe tbody tr th:only-of-type {\n",
       "        vertical-align: middle;\n",
       "    }\n",
       "\n",
       "    .dataframe tbody tr th {\n",
       "        vertical-align: top;\n",
       "    }\n",
       "\n",
       "    .dataframe thead th {\n",
       "        text-align: right;\n",
       "    }\n",
       "</style>\n",
       "<table border=\"1\" class=\"dataframe\">\n",
       "  <thead>\n",
       "    <tr style=\"text-align: right;\">\n",
       "      <th></th>\n",
       "      <th>shape_id</th>\n",
       "      <th>shape_pt_lat</th>\n",
       "      <th>shape_pt_lon</th>\n",
       "      <th>shape_pt_sequence</th>\n",
       "      <th>shape_dist_traveled</th>\n",
       "    </tr>\n",
       "  </thead>\n",
       "  <tbody>\n",
       "    <tr>\n",
       "      <th>0</th>\n",
       "      <td>21635</td>\n",
       "      <td>38.705920</td>\n",
       "      <td>-9.144050</td>\n",
       "      <td>1</td>\n",
       "      <td>NaN</td>\n",
       "    </tr>\n",
       "    <tr>\n",
       "      <th>1</th>\n",
       "      <td>21635</td>\n",
       "      <td>38.709667</td>\n",
       "      <td>-9.136373</td>\n",
       "      <td>2</td>\n",
       "      <td>NaN</td>\n",
       "    </tr>\n",
       "    <tr>\n",
       "      <th>2</th>\n",
       "      <td>21635</td>\n",
       "      <td>38.713560</td>\n",
       "      <td>-9.138840</td>\n",
       "      <td>3</td>\n",
       "      <td>NaN</td>\n",
       "    </tr>\n",
       "    <tr>\n",
       "      <th>3</th>\n",
       "      <td>21635</td>\n",
       "      <td>38.715790</td>\n",
       "      <td>-9.141390</td>\n",
       "      <td>4</td>\n",
       "      <td>NaN</td>\n",
       "    </tr>\n",
       "    <tr>\n",
       "      <th>4</th>\n",
       "      <td>21635</td>\n",
       "      <td>38.719740</td>\n",
       "      <td>-9.145020</td>\n",
       "      <td>5</td>\n",
       "      <td>NaN</td>\n",
       "    </tr>\n",
       "    <tr>\n",
       "      <th>5</th>\n",
       "      <td>21635</td>\n",
       "      <td>38.727190</td>\n",
       "      <td>-9.148700</td>\n",
       "      <td>6</td>\n",
       "      <td>NaN</td>\n",
       "    </tr>\n",
       "    <tr>\n",
       "      <th>6</th>\n",
       "      <td>21635</td>\n",
       "      <td>38.730500</td>\n",
       "      <td>-9.146710</td>\n",
       "      <td>7</td>\n",
       "      <td>NaN</td>\n",
       "    </tr>\n",
       "    <tr>\n",
       "      <th>7</th>\n",
       "      <td>21635</td>\n",
       "      <td>38.733920</td>\n",
       "      <td>-9.144640</td>\n",
       "      <td>8</td>\n",
       "      <td>NaN</td>\n",
       "    </tr>\n",
       "    <tr>\n",
       "      <th>8</th>\n",
       "      <td>21635</td>\n",
       "      <td>38.742910</td>\n",
       "      <td>-9.146840</td>\n",
       "      <td>9</td>\n",
       "      <td>NaN</td>\n",
       "    </tr>\n",
       "    <tr>\n",
       "      <th>9</th>\n",
       "      <td>21635</td>\n",
       "      <td>38.746110</td>\n",
       "      <td>-9.147540</td>\n",
       "      <td>10</td>\n",
       "      <td>NaN</td>\n",
       "    </tr>\n",
       "    <tr>\n",
       "      <th>10</th>\n",
       "      <td>21635</td>\n",
       "      <td>38.769640</td>\n",
       "      <td>-9.128280</td>\n",
       "      <td>11</td>\n",
       "      <td>NaN</td>\n",
       "    </tr>\n",
       "    <tr>\n",
       "      <th>11</th>\n",
       "      <td>21636</td>\n",
       "      <td>38.769640</td>\n",
       "      <td>-9.128280</td>\n",
       "      <td>1</td>\n",
       "      <td>NaN</td>\n",
       "    </tr>\n",
       "    <tr>\n",
       "      <th>12</th>\n",
       "      <td>21636</td>\n",
       "      <td>38.745170</td>\n",
       "      <td>-9.147950</td>\n",
       "      <td>2</td>\n",
       "      <td>NaN</td>\n",
       "    </tr>\n",
       "    <tr>\n",
       "      <th>13</th>\n",
       "      <td>21636</td>\n",
       "      <td>38.742510</td>\n",
       "      <td>-9.147180</td>\n",
       "      <td>3</td>\n",
       "      <td>NaN</td>\n",
       "    </tr>\n",
       "    <tr>\n",
       "      <th>14</th>\n",
       "      <td>21636</td>\n",
       "      <td>38.733640</td>\n",
       "      <td>-9.145150</td>\n",
       "      <td>4</td>\n",
       "      <td>NaN</td>\n",
       "    </tr>\n",
       "    <tr>\n",
       "      <th>15</th>\n",
       "      <td>21636</td>\n",
       "      <td>38.730370</td>\n",
       "      <td>-9.147070</td>\n",
       "      <td>5</td>\n",
       "      <td>NaN</td>\n",
       "    </tr>\n",
       "    <tr>\n",
       "      <th>16</th>\n",
       "      <td>21636</td>\n",
       "      <td>38.727380</td>\n",
       "      <td>-9.149040</td>\n",
       "      <td>6</td>\n",
       "      <td>NaN</td>\n",
       "    </tr>\n",
       "    <tr>\n",
       "      <th>17</th>\n",
       "      <td>21636</td>\n",
       "      <td>38.720220</td>\n",
       "      <td>-9.145780</td>\n",
       "      <td>7</td>\n",
       "      <td>NaN</td>\n",
       "    </tr>\n",
       "    <tr>\n",
       "      <th>18</th>\n",
       "      <td>21636</td>\n",
       "      <td>38.715600</td>\n",
       "      <td>-9.142050</td>\n",
       "      <td>8</td>\n",
       "      <td>NaN</td>\n",
       "    </tr>\n",
       "    <tr>\n",
       "      <th>19</th>\n",
       "      <td>21636</td>\n",
       "      <td>38.713350</td>\n",
       "      <td>-9.139600</td>\n",
       "      <td>9</td>\n",
       "      <td>NaN</td>\n",
       "    </tr>\n",
       "    <tr>\n",
       "      <th>20</th>\n",
       "      <td>21636</td>\n",
       "      <td>38.708480</td>\n",
       "      <td>-9.138700</td>\n",
       "      <td>10</td>\n",
       "      <td>NaN</td>\n",
       "    </tr>\n",
       "    <tr>\n",
       "      <th>21</th>\n",
       "      <td>21636</td>\n",
       "      <td>38.705920</td>\n",
       "      <td>-9.144050</td>\n",
       "      <td>11</td>\n",
       "      <td>NaN</td>\n",
       "    </tr>\n",
       "    <tr>\n",
       "      <th>22</th>\n",
       "      <td>21637</td>\n",
       "      <td>38.770780</td>\n",
       "      <td>-9.128110</td>\n",
       "      <td>1</td>\n",
       "      <td>NaN</td>\n",
       "    </tr>\n",
       "    <tr>\n",
       "      <th>23</th>\n",
       "      <td>21637</td>\n",
       "      <td>38.742442</td>\n",
       "      <td>-9.165673</td>\n",
       "      <td>2</td>\n",
       "      <td>NaN</td>\n",
       "    </tr>\n",
       "    <tr>\n",
       "      <th>24</th>\n",
       "      <td>21638</td>\n",
       "      <td>38.742442</td>\n",
       "      <td>-9.165673</td>\n",
       "      <td>1</td>\n",
       "      <td>NaN</td>\n",
       "    </tr>\n",
       "    <tr>\n",
       "      <th>25</th>\n",
       "      <td>21638</td>\n",
       "      <td>38.770780</td>\n",
       "      <td>-9.128110</td>\n",
       "      <td>2</td>\n",
       "      <td>NaN</td>\n",
       "    </tr>\n",
       "  </tbody>\n",
       "</table>\n",
       "</div>"
      ],
      "text/plain": [
       "    shape_id  shape_pt_lat  shape_pt_lon  shape_pt_sequence  \\\n",
       "0      21635     38.705920     -9.144050                  1   \n",
       "1      21635     38.709667     -9.136373                  2   \n",
       "2      21635     38.713560     -9.138840                  3   \n",
       "3      21635     38.715790     -9.141390                  4   \n",
       "4      21635     38.719740     -9.145020                  5   \n",
       "5      21635     38.727190     -9.148700                  6   \n",
       "6      21635     38.730500     -9.146710                  7   \n",
       "7      21635     38.733920     -9.144640                  8   \n",
       "8      21635     38.742910     -9.146840                  9   \n",
       "9      21635     38.746110     -9.147540                 10   \n",
       "10     21635     38.769640     -9.128280                 11   \n",
       "11     21636     38.769640     -9.128280                  1   \n",
       "12     21636     38.745170     -9.147950                  2   \n",
       "13     21636     38.742510     -9.147180                  3   \n",
       "14     21636     38.733640     -9.145150                  4   \n",
       "15     21636     38.730370     -9.147070                  5   \n",
       "16     21636     38.727380     -9.149040                  6   \n",
       "17     21636     38.720220     -9.145780                  7   \n",
       "18     21636     38.715600     -9.142050                  8   \n",
       "19     21636     38.713350     -9.139600                  9   \n",
       "20     21636     38.708480     -9.138700                 10   \n",
       "21     21636     38.705920     -9.144050                 11   \n",
       "22     21637     38.770780     -9.128110                  1   \n",
       "23     21637     38.742442     -9.165673                  2   \n",
       "24     21638     38.742442     -9.165673                  1   \n",
       "25     21638     38.770780     -9.128110                  2   \n",
       "\n",
       "    shape_dist_traveled  \n",
       "0                   NaN  \n",
       "1                   NaN  \n",
       "2                   NaN  \n",
       "3                   NaN  \n",
       "4                   NaN  \n",
       "5                   NaN  \n",
       "6                   NaN  \n",
       "7                   NaN  \n",
       "8                   NaN  \n",
       "9                   NaN  \n",
       "10                  NaN  \n",
       "11                  NaN  \n",
       "12                  NaN  \n",
       "13                  NaN  \n",
       "14                  NaN  \n",
       "15                  NaN  \n",
       "16                  NaN  \n",
       "17                  NaN  \n",
       "18                  NaN  \n",
       "19                  NaN  \n",
       "20                  NaN  \n",
       "21                  NaN  \n",
       "22                  NaN  \n",
       "23                  NaN  \n",
       "24                  NaN  \n",
       "25                  NaN  "
      ]
     },
     "execution_count": 10,
     "metadata": {},
     "output_type": "execute_result"
    }
   ],
   "source": [
    "df_carr"
   ]
  },
  {
   "cell_type": "code",
   "execution_count": 11,
   "metadata": {
    "ExecuteTime": {
     "end_time": "2021-04-06T19:27:22.782853Z",
     "start_time": "2021-04-06T19:27:22.772168Z"
    }
   },
   "outputs": [],
   "source": [
    "df_trips = pd.read_csv(\"transporlis_data/data_carristur/trips.txt\")"
   ]
  },
  {
   "cell_type": "code",
   "execution_count": 12,
   "metadata": {
    "ExecuteTime": {
     "end_time": "2021-04-06T19:32:29.188764Z",
     "start_time": "2021-04-06T19:32:29.172556Z"
    }
   },
   "outputs": [],
   "source": [
    "df_trips_carr = pd.merge(df_trips, df_carr[[\"shape_id\", \"shape_pt_lat\", \"shape_pt_lon\"]], \n",
    "                         left_on=\"shape_id\", right_on=\"shape_id\")"
   ]
  },
  {
   "cell_type": "code",
   "execution_count": 13,
   "metadata": {
    "ExecuteTime": {
     "end_time": "2021-04-06T19:38:28.888407Z",
     "start_time": "2021-04-06T19:38:28.855158Z"
    }
   },
   "outputs": [
    {
     "data": {
      "text/html": [
       "<div>\n",
       "<style scoped>\n",
       "    .dataframe tbody tr th:only-of-type {\n",
       "        vertical-align: middle;\n",
       "    }\n",
       "\n",
       "    .dataframe tbody tr th {\n",
       "        vertical-align: top;\n",
       "    }\n",
       "\n",
       "    .dataframe thead th {\n",
       "        text-align: right;\n",
       "    }\n",
       "</style>\n",
       "<table border=\"1\" class=\"dataframe\">\n",
       "  <thead>\n",
       "    <tr style=\"text-align: right;\">\n",
       "      <th></th>\n",
       "      <th>route_id</th>\n",
       "      <th>service_id</th>\n",
       "      <th>trip_id</th>\n",
       "      <th>trip_headsign</th>\n",
       "      <th>direction_id</th>\n",
       "      <th>block_id</th>\n",
       "      <th>shape_id</th>\n",
       "      <th>shape_pt_lat</th>\n",
       "      <th>shape_pt_lon</th>\n",
       "    </tr>\n",
       "  </thead>\n",
       "  <tbody>\n",
       "    <tr>\n",
       "      <th>0</th>\n",
       "      <td>21635</td>\n",
       "      <td>25964425</td>\n",
       "      <td>25964425</td>\n",
       "      <td>NaN</td>\n",
       "      <td>NaN</td>\n",
       "      <td>NaN</td>\n",
       "      <td>21635</td>\n",
       "      <td>38.705920</td>\n",
       "      <td>-9.144050</td>\n",
       "    </tr>\n",
       "    <tr>\n",
       "      <th>1</th>\n",
       "      <td>21635</td>\n",
       "      <td>25964425</td>\n",
       "      <td>25964425</td>\n",
       "      <td>NaN</td>\n",
       "      <td>NaN</td>\n",
       "      <td>NaN</td>\n",
       "      <td>21635</td>\n",
       "      <td>38.709667</td>\n",
       "      <td>-9.136373</td>\n",
       "    </tr>\n",
       "    <tr>\n",
       "      <th>2</th>\n",
       "      <td>21635</td>\n",
       "      <td>25964425</td>\n",
       "      <td>25964425</td>\n",
       "      <td>NaN</td>\n",
       "      <td>NaN</td>\n",
       "      <td>NaN</td>\n",
       "      <td>21635</td>\n",
       "      <td>38.713560</td>\n",
       "      <td>-9.138840</td>\n",
       "    </tr>\n",
       "    <tr>\n",
       "      <th>3</th>\n",
       "      <td>21635</td>\n",
       "      <td>25964425</td>\n",
       "      <td>25964425</td>\n",
       "      <td>NaN</td>\n",
       "      <td>NaN</td>\n",
       "      <td>NaN</td>\n",
       "      <td>21635</td>\n",
       "      <td>38.715790</td>\n",
       "      <td>-9.141390</td>\n",
       "    </tr>\n",
       "    <tr>\n",
       "      <th>4</th>\n",
       "      <td>21635</td>\n",
       "      <td>25964425</td>\n",
       "      <td>25964425</td>\n",
       "      <td>NaN</td>\n",
       "      <td>NaN</td>\n",
       "      <td>NaN</td>\n",
       "      <td>21635</td>\n",
       "      <td>38.719740</td>\n",
       "      <td>-9.145020</td>\n",
       "    </tr>\n",
       "    <tr>\n",
       "      <th>5</th>\n",
       "      <td>21635</td>\n",
       "      <td>25964425</td>\n",
       "      <td>25964425</td>\n",
       "      <td>NaN</td>\n",
       "      <td>NaN</td>\n",
       "      <td>NaN</td>\n",
       "      <td>21635</td>\n",
       "      <td>38.727190</td>\n",
       "      <td>-9.148700</td>\n",
       "    </tr>\n",
       "    <tr>\n",
       "      <th>6</th>\n",
       "      <td>21635</td>\n",
       "      <td>25964425</td>\n",
       "      <td>25964425</td>\n",
       "      <td>NaN</td>\n",
       "      <td>NaN</td>\n",
       "      <td>NaN</td>\n",
       "      <td>21635</td>\n",
       "      <td>38.730500</td>\n",
       "      <td>-9.146710</td>\n",
       "    </tr>\n",
       "    <tr>\n",
       "      <th>7</th>\n",
       "      <td>21635</td>\n",
       "      <td>25964425</td>\n",
       "      <td>25964425</td>\n",
       "      <td>NaN</td>\n",
       "      <td>NaN</td>\n",
       "      <td>NaN</td>\n",
       "      <td>21635</td>\n",
       "      <td>38.733920</td>\n",
       "      <td>-9.144640</td>\n",
       "    </tr>\n",
       "    <tr>\n",
       "      <th>8</th>\n",
       "      <td>21635</td>\n",
       "      <td>25964425</td>\n",
       "      <td>25964425</td>\n",
       "      <td>NaN</td>\n",
       "      <td>NaN</td>\n",
       "      <td>NaN</td>\n",
       "      <td>21635</td>\n",
       "      <td>38.742910</td>\n",
       "      <td>-9.146840</td>\n",
       "    </tr>\n",
       "    <tr>\n",
       "      <th>9</th>\n",
       "      <td>21635</td>\n",
       "      <td>25964425</td>\n",
       "      <td>25964425</td>\n",
       "      <td>NaN</td>\n",
       "      <td>NaN</td>\n",
       "      <td>NaN</td>\n",
       "      <td>21635</td>\n",
       "      <td>38.746110</td>\n",
       "      <td>-9.147540</td>\n",
       "    </tr>\n",
       "    <tr>\n",
       "      <th>10</th>\n",
       "      <td>21635</td>\n",
       "      <td>25964425</td>\n",
       "      <td>25964425</td>\n",
       "      <td>NaN</td>\n",
       "      <td>NaN</td>\n",
       "      <td>NaN</td>\n",
       "      <td>21635</td>\n",
       "      <td>38.769640</td>\n",
       "      <td>-9.128280</td>\n",
       "    </tr>\n",
       "    <tr>\n",
       "      <th>11</th>\n",
       "      <td>21636</td>\n",
       "      <td>25964426</td>\n",
       "      <td>25964426</td>\n",
       "      <td>NaN</td>\n",
       "      <td>NaN</td>\n",
       "      <td>NaN</td>\n",
       "      <td>21636</td>\n",
       "      <td>38.769640</td>\n",
       "      <td>-9.128280</td>\n",
       "    </tr>\n",
       "    <tr>\n",
       "      <th>12</th>\n",
       "      <td>21636</td>\n",
       "      <td>25964426</td>\n",
       "      <td>25964426</td>\n",
       "      <td>NaN</td>\n",
       "      <td>NaN</td>\n",
       "      <td>NaN</td>\n",
       "      <td>21636</td>\n",
       "      <td>38.745170</td>\n",
       "      <td>-9.147950</td>\n",
       "    </tr>\n",
       "    <tr>\n",
       "      <th>13</th>\n",
       "      <td>21636</td>\n",
       "      <td>25964426</td>\n",
       "      <td>25964426</td>\n",
       "      <td>NaN</td>\n",
       "      <td>NaN</td>\n",
       "      <td>NaN</td>\n",
       "      <td>21636</td>\n",
       "      <td>38.742510</td>\n",
       "      <td>-9.147180</td>\n",
       "    </tr>\n",
       "    <tr>\n",
       "      <th>14</th>\n",
       "      <td>21636</td>\n",
       "      <td>25964426</td>\n",
       "      <td>25964426</td>\n",
       "      <td>NaN</td>\n",
       "      <td>NaN</td>\n",
       "      <td>NaN</td>\n",
       "      <td>21636</td>\n",
       "      <td>38.733640</td>\n",
       "      <td>-9.145150</td>\n",
       "    </tr>\n",
       "    <tr>\n",
       "      <th>15</th>\n",
       "      <td>21636</td>\n",
       "      <td>25964426</td>\n",
       "      <td>25964426</td>\n",
       "      <td>NaN</td>\n",
       "      <td>NaN</td>\n",
       "      <td>NaN</td>\n",
       "      <td>21636</td>\n",
       "      <td>38.730370</td>\n",
       "      <td>-9.147070</td>\n",
       "    </tr>\n",
       "    <tr>\n",
       "      <th>16</th>\n",
       "      <td>21636</td>\n",
       "      <td>25964426</td>\n",
       "      <td>25964426</td>\n",
       "      <td>NaN</td>\n",
       "      <td>NaN</td>\n",
       "      <td>NaN</td>\n",
       "      <td>21636</td>\n",
       "      <td>38.727380</td>\n",
       "      <td>-9.149040</td>\n",
       "    </tr>\n",
       "    <tr>\n",
       "      <th>17</th>\n",
       "      <td>21636</td>\n",
       "      <td>25964426</td>\n",
       "      <td>25964426</td>\n",
       "      <td>NaN</td>\n",
       "      <td>NaN</td>\n",
       "      <td>NaN</td>\n",
       "      <td>21636</td>\n",
       "      <td>38.720220</td>\n",
       "      <td>-9.145780</td>\n",
       "    </tr>\n",
       "    <tr>\n",
       "      <th>18</th>\n",
       "      <td>21636</td>\n",
       "      <td>25964426</td>\n",
       "      <td>25964426</td>\n",
       "      <td>NaN</td>\n",
       "      <td>NaN</td>\n",
       "      <td>NaN</td>\n",
       "      <td>21636</td>\n",
       "      <td>38.715600</td>\n",
       "      <td>-9.142050</td>\n",
       "    </tr>\n",
       "    <tr>\n",
       "      <th>19</th>\n",
       "      <td>21636</td>\n",
       "      <td>25964426</td>\n",
       "      <td>25964426</td>\n",
       "      <td>NaN</td>\n",
       "      <td>NaN</td>\n",
       "      <td>NaN</td>\n",
       "      <td>21636</td>\n",
       "      <td>38.713350</td>\n",
       "      <td>-9.139600</td>\n",
       "    </tr>\n",
       "    <tr>\n",
       "      <th>20</th>\n",
       "      <td>21636</td>\n",
       "      <td>25964426</td>\n",
       "      <td>25964426</td>\n",
       "      <td>NaN</td>\n",
       "      <td>NaN</td>\n",
       "      <td>NaN</td>\n",
       "      <td>21636</td>\n",
       "      <td>38.708480</td>\n",
       "      <td>-9.138700</td>\n",
       "    </tr>\n",
       "    <tr>\n",
       "      <th>21</th>\n",
       "      <td>21636</td>\n",
       "      <td>25964426</td>\n",
       "      <td>25964426</td>\n",
       "      <td>NaN</td>\n",
       "      <td>NaN</td>\n",
       "      <td>NaN</td>\n",
       "      <td>21636</td>\n",
       "      <td>38.705920</td>\n",
       "      <td>-9.144050</td>\n",
       "    </tr>\n",
       "    <tr>\n",
       "      <th>22</th>\n",
       "      <td>21637</td>\n",
       "      <td>25964427</td>\n",
       "      <td>25964427</td>\n",
       "      <td>NaN</td>\n",
       "      <td>NaN</td>\n",
       "      <td>NaN</td>\n",
       "      <td>21637</td>\n",
       "      <td>38.770780</td>\n",
       "      <td>-9.128110</td>\n",
       "    </tr>\n",
       "    <tr>\n",
       "      <th>23</th>\n",
       "      <td>21637</td>\n",
       "      <td>25964427</td>\n",
       "      <td>25964427</td>\n",
       "      <td>NaN</td>\n",
       "      <td>NaN</td>\n",
       "      <td>NaN</td>\n",
       "      <td>21637</td>\n",
       "      <td>38.742442</td>\n",
       "      <td>-9.165673</td>\n",
       "    </tr>\n",
       "    <tr>\n",
       "      <th>24</th>\n",
       "      <td>21638</td>\n",
       "      <td>25964428</td>\n",
       "      <td>25964428</td>\n",
       "      <td>NaN</td>\n",
       "      <td>NaN</td>\n",
       "      <td>NaN</td>\n",
       "      <td>21638</td>\n",
       "      <td>38.742442</td>\n",
       "      <td>-9.165673</td>\n",
       "    </tr>\n",
       "    <tr>\n",
       "      <th>25</th>\n",
       "      <td>21638</td>\n",
       "      <td>25964428</td>\n",
       "      <td>25964428</td>\n",
       "      <td>NaN</td>\n",
       "      <td>NaN</td>\n",
       "      <td>NaN</td>\n",
       "      <td>21638</td>\n",
       "      <td>38.770780</td>\n",
       "      <td>-9.128110</td>\n",
       "    </tr>\n",
       "  </tbody>\n",
       "</table>\n",
       "</div>"
      ],
      "text/plain": [
       "    route_id  service_id   trip_id  trip_headsign  direction_id  block_id  \\\n",
       "0      21635    25964425  25964425            NaN           NaN       NaN   \n",
       "1      21635    25964425  25964425            NaN           NaN       NaN   \n",
       "2      21635    25964425  25964425            NaN           NaN       NaN   \n",
       "3      21635    25964425  25964425            NaN           NaN       NaN   \n",
       "4      21635    25964425  25964425            NaN           NaN       NaN   \n",
       "5      21635    25964425  25964425            NaN           NaN       NaN   \n",
       "6      21635    25964425  25964425            NaN           NaN       NaN   \n",
       "7      21635    25964425  25964425            NaN           NaN       NaN   \n",
       "8      21635    25964425  25964425            NaN           NaN       NaN   \n",
       "9      21635    25964425  25964425            NaN           NaN       NaN   \n",
       "10     21635    25964425  25964425            NaN           NaN       NaN   \n",
       "11     21636    25964426  25964426            NaN           NaN       NaN   \n",
       "12     21636    25964426  25964426            NaN           NaN       NaN   \n",
       "13     21636    25964426  25964426            NaN           NaN       NaN   \n",
       "14     21636    25964426  25964426            NaN           NaN       NaN   \n",
       "15     21636    25964426  25964426            NaN           NaN       NaN   \n",
       "16     21636    25964426  25964426            NaN           NaN       NaN   \n",
       "17     21636    25964426  25964426            NaN           NaN       NaN   \n",
       "18     21636    25964426  25964426            NaN           NaN       NaN   \n",
       "19     21636    25964426  25964426            NaN           NaN       NaN   \n",
       "20     21636    25964426  25964426            NaN           NaN       NaN   \n",
       "21     21636    25964426  25964426            NaN           NaN       NaN   \n",
       "22     21637    25964427  25964427            NaN           NaN       NaN   \n",
       "23     21637    25964427  25964427            NaN           NaN       NaN   \n",
       "24     21638    25964428  25964428            NaN           NaN       NaN   \n",
       "25     21638    25964428  25964428            NaN           NaN       NaN   \n",
       "\n",
       "    shape_id  shape_pt_lat  shape_pt_lon  \n",
       "0      21635     38.705920     -9.144050  \n",
       "1      21635     38.709667     -9.136373  \n",
       "2      21635     38.713560     -9.138840  \n",
       "3      21635     38.715790     -9.141390  \n",
       "4      21635     38.719740     -9.145020  \n",
       "5      21635     38.727190     -9.148700  \n",
       "6      21635     38.730500     -9.146710  \n",
       "7      21635     38.733920     -9.144640  \n",
       "8      21635     38.742910     -9.146840  \n",
       "9      21635     38.746110     -9.147540  \n",
       "10     21635     38.769640     -9.128280  \n",
       "11     21636     38.769640     -9.128280  \n",
       "12     21636     38.745170     -9.147950  \n",
       "13     21636     38.742510     -9.147180  \n",
       "14     21636     38.733640     -9.145150  \n",
       "15     21636     38.730370     -9.147070  \n",
       "16     21636     38.727380     -9.149040  \n",
       "17     21636     38.720220     -9.145780  \n",
       "18     21636     38.715600     -9.142050  \n",
       "19     21636     38.713350     -9.139600  \n",
       "20     21636     38.708480     -9.138700  \n",
       "21     21636     38.705920     -9.144050  \n",
       "22     21637     38.770780     -9.128110  \n",
       "23     21637     38.742442     -9.165673  \n",
       "24     21638     38.742442     -9.165673  \n",
       "25     21638     38.770780     -9.128110  "
      ]
     },
     "execution_count": 13,
     "metadata": {},
     "output_type": "execute_result"
    }
   ],
   "source": [
    "df_trips_carr"
   ]
  },
  {
   "cell_type": "code",
   "execution_count": 14,
   "metadata": {
    "ExecuteTime": {
     "end_time": "2021-04-06T19:28:40.758858Z",
     "start_time": "2021-04-06T19:28:40.748422Z"
    }
   },
   "outputs": [],
   "source": [
    "df_freq = pd.read_csv(\"transporlis_data/data_carristur/frequencies.txt\")"
   ]
  },
  {
   "cell_type": "code",
   "execution_count": 15,
   "metadata": {
    "ExecuteTime": {
     "end_time": "2021-04-06T19:36:46.258031Z",
     "start_time": "2021-04-06T19:36:46.240361Z"
    }
   },
   "outputs": [
    {
     "data": {
      "text/plain": [
       "trip_id   start_time  end_time  headway_secs  exact_times\n",
       "25964425  08:00:00    21:00:00  1200          1              1\n",
       "25964426  08:00:00    21:00:00  1200          1              1\n",
       "25964427  08:00:00    19:00:00  3600          1              1\n",
       "25964428  08:30:00    19:30:00  3600          1              1\n",
       "dtype: int64"
      ]
     },
     "execution_count": 15,
     "metadata": {},
     "output_type": "execute_result"
    }
   ],
   "source": [
    "df_freq.value_counts()"
   ]
  },
  {
   "cell_type": "code",
   "execution_count": null,
   "metadata": {},
   "outputs": [],
   "source": []
  },
  {
   "cell_type": "markdown",
   "metadata": {},
   "source": [
    "# Mapping"
   ]
  },
  {
   "cell_type": "code",
   "execution_count": 16,
   "metadata": {
    "ExecuteTime": {
     "end_time": "2021-04-06T19:51:13.592348Z",
     "start_time": "2021-04-06T19:51:13.496598Z"
    }
   },
   "outputs": [
    {
     "ename": "NameError",
     "evalue": "name 'folium' is not defined",
     "output_type": "error",
     "traceback": [
      "\u001b[0;31m---------------------------------------------------------------------------\u001b[0m",
      "\u001b[0;31mNameError\u001b[0m                                 Traceback (most recent call last)",
      "\u001b[0;32m<ipython-input-16-ce1955468b1a>\u001b[0m in \u001b[0;36m<module>\u001b[0;34m\u001b[0m\n\u001b[1;32m      1\u001b[0m \u001b[0;31m# map for transporlis\u001b[0m\u001b[0;34m\u001b[0m\u001b[0;34m\u001b[0m\u001b[0;34m\u001b[0m\u001b[0m\n\u001b[0;32m----> 2\u001b[0;31m \u001b[0mm\u001b[0m \u001b[0;34m=\u001b[0m \u001b[0mfolium\u001b[0m\u001b[0;34m.\u001b[0m\u001b[0mMap\u001b[0m\u001b[0;34m(\u001b[0m\u001b[0mlocation\u001b[0m\u001b[0;34m=\u001b[0m\u001b[0;34m[\u001b[0m\u001b[0;36m38.71\u001b[0m\u001b[0;34m,\u001b[0m \u001b[0;34m-\u001b[0m\u001b[0;36m9.18\u001b[0m\u001b[0;34m]\u001b[0m\u001b[0;34m)\u001b[0m\u001b[0;34m\u001b[0m\u001b[0;34m\u001b[0m\u001b[0m\n\u001b[0m\u001b[1;32m      3\u001b[0m     \u001b[0;31m# Avoid preloading all points\u001b[0m\u001b[0;34m\u001b[0m\u001b[0;34m\u001b[0m\u001b[0;34m\u001b[0m\u001b[0m\n\u001b[1;32m      4\u001b[0m \u001b[0;31m# marker_cluster = MarkerCluster().add_to(m)\u001b[0m\u001b[0;34m\u001b[0m\u001b[0;34m\u001b[0m\u001b[0;34m\u001b[0m\u001b[0m\n\u001b[1;32m      5\u001b[0m \u001b[0;32mfor\u001b[0m \u001b[0mc\u001b[0m\u001b[0;34m,\u001b[0m \u001b[0mrow\u001b[0m \u001b[0;32min\u001b[0m \u001b[0mdf_trips_carr\u001b[0m\u001b[0;34m.\u001b[0m\u001b[0miterrows\u001b[0m\u001b[0;34m(\u001b[0m\u001b[0;34m)\u001b[0m\u001b[0;34m:\u001b[0m\u001b[0;34m\u001b[0m\u001b[0;34m\u001b[0m\u001b[0m\n",
      "\u001b[0;31mNameError\u001b[0m: name 'folium' is not defined"
     ]
    }
   ],
   "source": [
    "# map for transporlis\n",
    "m = folium.Map(location=[38.71, -9.18])\n",
    "    # Avoid preloading all points\n",
    "# marker_cluster = MarkerCluster().add_to(m)\n",
    "for c, row in df_trips_carr.iterrows():\n",
    "    coor = list([row[\"shape_pt_lat\"], row[\"shape_pt_lon\"]])\n",
    "    popup = f'Route ID: {int(row[\"route_id\"])}'\n",
    "    tooltip = f'Trip ID: {int(row[\"trip_id\"])}'\n",
    "#     print(popup)\n",
    "    Marker(coor, popup=popup, tooltip=tooltip).add_to(m)\n",
    "\n",
    "m"
   ]
  },
  {
   "cell_type": "code",
   "execution_count": 17,
   "metadata": {},
   "outputs": [
    {
     "ename": "NameError",
     "evalue": "name 'folium' is not defined",
     "output_type": "error",
     "traceback": [
      "\u001b[0;31m---------------------------------------------------------------------------\u001b[0m",
      "\u001b[0;31mNameError\u001b[0m                                 Traceback (most recent call last)",
      "\u001b[0;32m<ipython-input-17-4471612968c5>\u001b[0m in \u001b[0;36m<module>\u001b[0;34m\u001b[0m\n\u001b[1;32m      1\u001b[0m \u001b[0;31m# map for seniors table\u001b[0m\u001b[0;34m\u001b[0m\u001b[0;34m\u001b[0m\u001b[0;34m\u001b[0m\u001b[0m\n\u001b[0;32m----> 2\u001b[0;31m \u001b[0mm\u001b[0m \u001b[0;34m=\u001b[0m \u001b[0mfolium\u001b[0m\u001b[0;34m.\u001b[0m\u001b[0mMap\u001b[0m\u001b[0;34m(\u001b[0m\u001b[0mlocation\u001b[0m\u001b[0;34m=\u001b[0m\u001b[0;34m[\u001b[0m\u001b[0;36m38.71\u001b[0m\u001b[0;34m,\u001b[0m \u001b[0;34m-\u001b[0m\u001b[0;36m9.18\u001b[0m\u001b[0;34m]\u001b[0m\u001b[0;34m)\u001b[0m\u001b[0;34m\u001b[0m\u001b[0;34m\u001b[0m\u001b[0m\n\u001b[0m\u001b[1;32m      3\u001b[0m     \u001b[0;31m# Avoid preloading all points\u001b[0m\u001b[0;34m\u001b[0m\u001b[0;34m\u001b[0m\u001b[0;34m\u001b[0m\u001b[0m\n\u001b[1;32m      4\u001b[0m \u001b[0;31m# marker_cluster = MarkerCluster().add_to(m)\u001b[0m\u001b[0;34m\u001b[0m\u001b[0;34m\u001b[0m\u001b[0;34m\u001b[0m\u001b[0m\n\u001b[1;32m      5\u001b[0m \u001b[0;32mfor\u001b[0m \u001b[0mc\u001b[0m\u001b[0;34m,\u001b[0m \u001b[0mrow\u001b[0m \u001b[0;32min\u001b[0m \u001b[0mdf_trips_carr\u001b[0m\u001b[0;34m.\u001b[0m\u001b[0miterrows\u001b[0m\u001b[0;34m(\u001b[0m\u001b[0;34m)\u001b[0m\u001b[0;34m:\u001b[0m\u001b[0;34m\u001b[0m\u001b[0;34m\u001b[0m\u001b[0m\n",
      "\u001b[0;31mNameError\u001b[0m: name 'folium' is not defined"
     ]
    }
   ],
   "source": [
    "# map for seniors table\n",
    "m = folium.Map(location=[38.71, -9.18])\n",
    "    # Avoid preloading all points\n",
    "# marker_cluster = MarkerCluster().add_to(m)\n",
    "for c, row in df_trips_carr.iterrows():\n",
    "    coor = list([row[\"shape_pt_lat\"], row[\"shape_pt_lon\"]])\n",
    "    popup = f'Route ID: {int(row[\"route_id\"])}'\n",
    "    tooltip = f'Trip ID: {int(row[\"trip_id\"])}'\n",
    "#     print(popup)\n",
    "    Marker(coor, popup=popup, tooltip=tooltip).add_to(m)\n",
    "\n",
    "m"
   ]
  },
  {
   "cell_type": "code",
   "execution_count": null,
   "metadata": {},
   "outputs": [],
   "source": []
  },
  {
   "cell_type": "code",
   "execution_count": null,
   "metadata": {},
   "outputs": [],
   "source": []
  },
  {
   "cell_type": "code",
   "execution_count": null,
   "metadata": {},
   "outputs": [],
   "source": []
  }
 ],
 "metadata": {
  "kernelspec": {
   "display_name": "Python 3",
   "language": "python",
   "name": "python3"
  },
  "language_info": {
   "codemirror_mode": {
    "name": "ipython",
    "version": 3
   },
   "file_extension": ".py",
   "mimetype": "text/x-python",
   "name": "python",
   "nbconvert_exporter": "python",
   "pygments_lexer": "ipython3",
   "version": "3.9.1"
  },
  "toc": {
   "base_numbering": 1,
   "nav_menu": {},
   "number_sections": true,
   "sideBar": true,
   "skip_h1_title": false,
   "title_cell": "Table of Contents",
   "title_sidebar": "Contents",
   "toc_cell": false,
   "toc_position": {},
   "toc_section_display": true,
   "toc_window_display": false
  }
 },
 "nbformat": 4,
 "nbformat_minor": 4
}
