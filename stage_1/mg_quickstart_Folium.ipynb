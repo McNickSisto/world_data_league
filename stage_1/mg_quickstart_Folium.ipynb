{
 "cells": [
  {
   "cell_type": "markdown",
   "metadata": {},
   "source": [
    "# Imports"
   ]
  },
  {
   "cell_type": "code",
   "execution_count": 5,
   "metadata": {
    "ExecuteTime": {
     "end_time": "2021-04-05T20:03:26.461251Z",
     "start_time": "2021-04-05T20:03:25.751764Z"
    }
   },
   "outputs": [],
   "source": [
    "import pandas as pd\n",
    "import numpy as np\n",
    "import folium\n",
    "import geopandas as gpd\n",
    "from folium.plugins import MarkerCluster, HeatMap"
   ]
  },
  {
   "cell_type": "markdown",
   "metadata": {},
   "source": [
    "# Raw Data"
   ]
  },
  {
   "cell_type": "code",
   "execution_count": 3,
   "metadata": {
    "ExecuteTime": {
     "end_time": "2021-04-05T19:55:04.396602Z",
     "start_time": "2021-04-05T19:55:00.093628Z"
    }
   },
   "outputs": [],
   "source": [
    "### importing POLYGON SHAPES\n",
    "# reading shp as geopandas => change directories\n",
    "data = gpd.read_file(\"../raw_data/ageb_nl/agbrmge19cw.shp\")"
   ]
  },
  {
   "cell_type": "code",
   "execution_count": null,
   "metadata": {},
   "outputs": [],
   "source": [
    "### importing SINGLE POINT COORDINATES\n",
    "df = pd.read_csv(\"your_file.csv\")"
   ]
  },
  {
   "cell_type": "markdown",
   "metadata": {},
   "source": [
    "# Plotting"
   ]
  },
  {
   "cell_type": "code",
   "execution_count": 4,
   "metadata": {
    "ExecuteTime": {
     "end_time": "2021-04-05T19:58:42.033969Z",
     "start_time": "2021-04-05T19:55:04.403192Z"
    }
   },
   "outputs": [],
   "source": [
    "## initialize map\n",
    "## SET THE INITIAL CENTER POINT FOR THE MAP\n",
    "m = folium.Map(location=[26, -100], zoom_start=5)\n",
    "\n",
    "## implement data shp shapes and add to map\n",
    "## THIS IS FOR POLYGON SHAPES - DELETE IF YOU ONLY HAVE POINTS AS COORDINATES\n",
    "folium.Choropleth(geo_data=data,\n",
    "                  name=\"AGEB Rural\",\n",
    "                  fill_color=\"#FFA500\",\n",
    "                  highlight=True).add_to(m)\n",
    "\n",
    "## implement single coordinates\n",
    "## THIS IS FOR NORMAL COORDINATES\n",
    "## use a point wrapper for many coordinates (marker cluster)\n",
    "marker_cluster = MarkerCluster().add_to(m)\n",
    "\n",
    "# loop through all coordinates in df => format [lat, long]\n",
    "for c in df.coordinates:\n",
    "    folium.Marker(c).add_to(marker_cluster)\n",
    "\n",
    "## call map\n",
    "m"
   ]
  },
  {
   "cell_type": "markdown",
   "metadata": {},
   "source": [
    "# Further read"
   ]
  },
  {
   "cell_type": "markdown",
   "metadata": {},
   "source": [
    "Go here for easy map configurations: \n",
    "[Folium Quickstart](https://python-visualization.github.io/folium/quickstart.html)"
   ]
  },
  {
   "cell_type": "markdown",
   "metadata": {},
   "source": [
    "Cheers!"
   ]
  }
 ],
 "metadata": {
  "kernelspec": {
   "display_name": "Python 3",
   "language": "python",
   "name": "python3"
  },
  "language_info": {
   "codemirror_mode": {
    "name": "ipython",
    "version": 3
   },
   "file_extension": ".py",
   "mimetype": "text/x-python",
   "name": "python",
   "nbconvert_exporter": "python",
   "pygments_lexer": "ipython3",
   "version": "3.8.6"
  },
  "toc": {
   "base_numbering": 1,
   "nav_menu": {},
   "number_sections": true,
   "sideBar": true,
   "skip_h1_title": false,
   "title_cell": "Table of Contents",
   "title_sidebar": "Contents",
   "toc_cell": false,
   "toc_position": {},
   "toc_section_display": true,
   "toc_window_display": false
  }
 },
 "nbformat": 4,
 "nbformat_minor": 4
}
