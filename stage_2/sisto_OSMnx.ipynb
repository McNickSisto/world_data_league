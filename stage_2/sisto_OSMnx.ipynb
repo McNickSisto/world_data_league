{
 "cells": [
  {
   "cell_type": "markdown",
   "id": "little-therapy",
   "metadata": {},
   "source": [
    "# Open Street Maps"
   ]
  },
  {
   "cell_type": "markdown",
   "id": "naval-things",
   "metadata": {
    "ExecuteTime": {
     "end_time": "2021-04-14T08:17:32.290094Z",
     "start_time": "2021-04-14T08:17:32.285813Z"
    }
   },
   "source": [
    "## Basic Imports"
   ]
  },
  {
   "cell_type": "code",
   "execution_count": 1,
   "id": "monthly-prior",
   "metadata": {
    "ExecuteTime": {
     "end_time": "2021-04-26T17:01:48.463047Z",
     "start_time": "2021-04-26T17:01:47.573033Z"
    }
   },
   "outputs": [],
   "source": [
    "%matplotlib inline"
   ]
  },
  {
   "cell_type": "code",
   "execution_count": 3,
   "id": "legal-cartridge",
   "metadata": {
    "ExecuteTime": {
     "end_time": "2021-04-26T18:19:18.675537Z",
     "start_time": "2021-04-26T18:19:14.871228Z"
    }
   },
   "outputs": [
    {
     "name": "stdout",
     "output_type": "stream",
     "text": [
      "pandas 1.2.0\n",
      "geopandas 0.9.0\n"
     ]
    }
   ],
   "source": [
    "import requests\n",
    "import numpy as np\n",
    "import pandas as pd\n",
    "import matplotlib.pyplot as plt\n",
    "import osmnx as ox\n",
    "import geopandas as gpd\n",
    "import osmium\n",
    "\n",
    "for module in [pd, gpd]:\n",
    "    print(module.__name__, module.__version__)"
   ]
  },
  {
   "cell_type": "markdown",
   "id": "likely-villa",
   "metadata": {
    "ExecuteTime": {
     "start_time": "2021-04-14T09:42:25.951Z"
    }
   },
   "source": [
    "# OSMnx Street Network Analysis"
   ]
  },
  {
   "cell_type": "markdown",
   "id": "accomplished-classification",
   "metadata": {
    "ExecuteTime": {
     "start_time": "2021-04-14T09:42:37.175Z"
    }
   },
   "source": [
    "## Load Lisbon"
   ]
  },
  {
   "cell_type": "code",
   "execution_count": 3,
   "id": "productive-exclusion",
   "metadata": {
    "ExecuteTime": {
     "end_time": "2021-04-21T08:51:14.285128Z",
     "start_time": "2021-04-21T08:50:22.899877Z"
    }
   },
   "outputs": [
    {
     "name": "stdout",
     "output_type": "stream",
     "text": [
      "CPU times: user 50.5 s, sys: 804 ms, total: 51.3 s\n",
      "Wall time: 51.4 s\n"
     ]
    }
   ],
   "source": [
    "%%time\n",
    "G = ox.graph_from_place('Lisbon', simplify=True)"
   ]
  },
  {
   "cell_type": "code",
   "execution_count": 4,
   "id": "subjective-melissa",
   "metadata": {
    "ExecuteTime": {
     "end_time": "2021-04-21T08:51:14.302424Z",
     "start_time": "2021-04-21T08:51:14.292794Z"
    }
   },
   "outputs": [
    {
     "data": {
      "text/plain": [
       "networkx.classes.multidigraph.MultiDiGraph"
      ]
     },
     "execution_count": 4,
     "metadata": {},
     "output_type": "execute_result"
    }
   ],
   "source": [
    "type(G)"
   ]
  },
  {
   "cell_type": "code",
   "execution_count": 5,
   "id": "usual-cricket",
   "metadata": {
    "ExecuteTime": {
     "end_time": "2021-04-21T08:51:22.007353Z",
     "start_time": "2021-04-21T08:51:14.307630Z"
    }
   },
   "outputs": [
    {
     "name": "stdout",
     "output_type": "stream",
     "text": [
      "CPU times: user 7.68 s, sys: 0 ns, total: 7.68 s\n",
      "Wall time: 7.67 s\n"
     ]
    }
   ],
   "source": [
    "%%time\n",
    "nodes, streets = ox.graph_to_gdfs(G, nodes=True, edges=True)"
   ]
  },
  {
   "cell_type": "code",
   "execution_count": 6,
   "id": "supreme-savage",
   "metadata": {
    "ExecuteTime": {
     "end_time": "2021-04-21T08:51:22.019337Z",
     "start_time": "2021-04-21T08:51:22.012275Z"
    },
    "scrolled": true
   },
   "outputs": [
    {
     "name": "stdout",
     "output_type": "stream",
     "text": [
      "Num nodes: 31406, num edges: 77275\n"
     ]
    }
   ],
   "source": [
    "print(f\"Num nodes: {len(nodes)}, num edges: {len(streets)}\")"
   ]
  },
  {
   "cell_type": "code",
   "execution_count": 7,
   "id": "outdoor-boulder",
   "metadata": {
    "ExecuteTime": {
     "end_time": "2021-04-21T08:51:22.177675Z",
     "start_time": "2021-04-21T08:51:22.027566Z"
    }
   },
   "outputs": [
    {
     "data": {
      "text/html": [
       "<div>\n",
       "<style scoped>\n",
       "    .dataframe tbody tr th:only-of-type {\n",
       "        vertical-align: middle;\n",
       "    }\n",
       "\n",
       "    .dataframe tbody tr th {\n",
       "        vertical-align: top;\n",
       "    }\n",
       "\n",
       "    .dataframe thead th {\n",
       "        text-align: right;\n",
       "    }\n",
       "</style>\n",
       "<table border=\"1\" class=\"dataframe\">\n",
       "  <thead>\n",
       "    <tr style=\"text-align: right;\">\n",
       "      <th></th>\n",
       "      <th>y</th>\n",
       "      <th>x</th>\n",
       "      <th>street_count</th>\n",
       "      <th>ref</th>\n",
       "      <th>highway</th>\n",
       "      <th>geometry</th>\n",
       "    </tr>\n",
       "    <tr>\n",
       "      <th>osmid</th>\n",
       "      <th></th>\n",
       "      <th></th>\n",
       "      <th></th>\n",
       "      <th></th>\n",
       "      <th></th>\n",
       "      <th></th>\n",
       "    </tr>\n",
       "  </thead>\n",
       "  <tbody>\n",
       "    <tr>\n",
       "      <th>21270959</th>\n",
       "      <td>38.757318</td>\n",
       "      <td>-9.165944</td>\n",
       "      <td>3</td>\n",
       "      <td>NaN</td>\n",
       "      <td>NaN</td>\n",
       "      <td>POINT (-9.16594 38.75732)</td>\n",
       "    </tr>\n",
       "    <tr>\n",
       "      <th>21270962</th>\n",
       "      <td>38.758035</td>\n",
       "      <td>-9.161733</td>\n",
       "      <td>3</td>\n",
       "      <td>NaN</td>\n",
       "      <td>NaN</td>\n",
       "      <td>POINT (-9.16173 38.75804)</td>\n",
       "    </tr>\n",
       "    <tr>\n",
       "      <th>21270969</th>\n",
       "      <td>38.763211</td>\n",
       "      <td>-9.136542</td>\n",
       "      <td>3</td>\n",
       "      <td>NaN</td>\n",
       "      <td>NaN</td>\n",
       "      <td>POINT (-9.13654 38.76321)</td>\n",
       "    </tr>\n",
       "    <tr>\n",
       "      <th>21272087</th>\n",
       "      <td>38.747959</td>\n",
       "      <td>-9.188383</td>\n",
       "      <td>3</td>\n",
       "      <td>NaN</td>\n",
       "      <td>NaN</td>\n",
       "      <td>POINT (-9.18838 38.74796)</td>\n",
       "    </tr>\n",
       "    <tr>\n",
       "      <th>21272088</th>\n",
       "      <td>38.747807</td>\n",
       "      <td>-9.188400</td>\n",
       "      <td>3</td>\n",
       "      <td>NaN</td>\n",
       "      <td>NaN</td>\n",
       "      <td>POINT (-9.18840 38.74781)</td>\n",
       "    </tr>\n",
       "  </tbody>\n",
       "</table>\n",
       "</div>"
      ],
      "text/plain": [
       "                  y         x  street_count  ref highway  \\\n",
       "osmid                                                      \n",
       "21270959  38.757318 -9.165944             3  NaN     NaN   \n",
       "21270962  38.758035 -9.161733             3  NaN     NaN   \n",
       "21270969  38.763211 -9.136542             3  NaN     NaN   \n",
       "21272087  38.747959 -9.188383             3  NaN     NaN   \n",
       "21272088  38.747807 -9.188400             3  NaN     NaN   \n",
       "\n",
       "                           geometry  \n",
       "osmid                                \n",
       "21270959  POINT (-9.16594 38.75732)  \n",
       "21270962  POINT (-9.16173 38.75804)  \n",
       "21270969  POINT (-9.13654 38.76321)  \n",
       "21272087  POINT (-9.18838 38.74796)  \n",
       "21272088  POINT (-9.18840 38.74781)  "
      ]
     },
     "execution_count": 7,
     "metadata": {},
     "output_type": "execute_result"
    }
   ],
   "source": [
    "nodes.head(5)"
   ]
  },
  {
   "cell_type": "code",
   "execution_count": 8,
   "id": "present-jackson",
   "metadata": {
    "ExecuteTime": {
     "end_time": "2021-04-21T08:51:22.366373Z",
     "start_time": "2021-04-21T08:51:22.184689Z"
    },
    "scrolled": true
   },
   "outputs": [
    {
     "data": {
      "text/html": [
       "<div>\n",
       "<style scoped>\n",
       "    .dataframe tbody tr th:only-of-type {\n",
       "        vertical-align: middle;\n",
       "    }\n",
       "\n",
       "    .dataframe tbody tr th {\n",
       "        vertical-align: top;\n",
       "    }\n",
       "\n",
       "    .dataframe thead th {\n",
       "        text-align: right;\n",
       "    }\n",
       "</style>\n",
       "<table border=\"1\" class=\"dataframe\">\n",
       "  <thead>\n",
       "    <tr style=\"text-align: right;\">\n",
       "      <th></th>\n",
       "      <th></th>\n",
       "      <th></th>\n",
       "      <th>osmid</th>\n",
       "      <th>oneway</th>\n",
       "      <th>lanes</th>\n",
       "      <th>name</th>\n",
       "      <th>highway</th>\n",
       "      <th>maxspeed</th>\n",
       "      <th>length</th>\n",
       "      <th>geometry</th>\n",
       "      <th>junction</th>\n",
       "      <th>bridge</th>\n",
       "      <th>ref</th>\n",
       "      <th>access</th>\n",
       "      <th>width</th>\n",
       "      <th>tunnel</th>\n",
       "      <th>service</th>\n",
       "      <th>landuse</th>\n",
       "    </tr>\n",
       "    <tr>\n",
       "      <th>u</th>\n",
       "      <th>v</th>\n",
       "      <th>key</th>\n",
       "      <th></th>\n",
       "      <th></th>\n",
       "      <th></th>\n",
       "      <th></th>\n",
       "      <th></th>\n",
       "      <th></th>\n",
       "      <th></th>\n",
       "      <th></th>\n",
       "      <th></th>\n",
       "      <th></th>\n",
       "      <th></th>\n",
       "      <th></th>\n",
       "      <th></th>\n",
       "      <th></th>\n",
       "      <th></th>\n",
       "      <th></th>\n",
       "    </tr>\n",
       "  </thead>\n",
       "  <tbody>\n",
       "    <tr>\n",
       "      <th>21270959</th>\n",
       "      <th>413210796</th>\n",
       "      <th>0</th>\n",
       "      <td>22278074</td>\n",
       "      <td>True</td>\n",
       "      <td>3</td>\n",
       "      <td>Avenida General Norton de Matos/2ª Circular</td>\n",
       "      <td>trunk</td>\n",
       "      <td>80</td>\n",
       "      <td>44.832</td>\n",
       "      <td>LINESTRING (-9.16594 38.75732, -9.16646 38.75730)</td>\n",
       "      <td>NaN</td>\n",
       "      <td>NaN</td>\n",
       "      <td>NaN</td>\n",
       "      <td>NaN</td>\n",
       "      <td>NaN</td>\n",
       "      <td>NaN</td>\n",
       "      <td>NaN</td>\n",
       "      <td>NaN</td>\n",
       "    </tr>\n",
       "    <tr>\n",
       "      <th>21270962</th>\n",
       "      <th>21270959</th>\n",
       "      <th>0</th>\n",
       "      <td>[22278074, 396719604]</td>\n",
       "      <td>True</td>\n",
       "      <td>[4, 3]</td>\n",
       "      <td>Avenida General Norton de Matos/2ª Circular</td>\n",
       "      <td>trunk</td>\n",
       "      <td>80</td>\n",
       "      <td>375.295</td>\n",
       "      <td>LINESTRING (-9.16173 38.75804, -9.16283 38.757...</td>\n",
       "      <td>NaN</td>\n",
       "      <td>NaN</td>\n",
       "      <td>NaN</td>\n",
       "      <td>NaN</td>\n",
       "      <td>NaN</td>\n",
       "      <td>NaN</td>\n",
       "      <td>NaN</td>\n",
       "      <td>NaN</td>\n",
       "    </tr>\n",
       "    <tr>\n",
       "      <th>21270969</th>\n",
       "      <th>2265747740</th>\n",
       "      <th>0</th>\n",
       "      <td>22278381</td>\n",
       "      <td>True</td>\n",
       "      <td>4</td>\n",
       "      <td>Avenida Marechal Craveiro Lopes/2ª Circular</td>\n",
       "      <td>trunk</td>\n",
       "      <td>80</td>\n",
       "      <td>269.025</td>\n",
       "      <td>LINESTRING (-9.13654 38.76321, -9.13828 38.763...</td>\n",
       "      <td>NaN</td>\n",
       "      <td>NaN</td>\n",
       "      <td>NaN</td>\n",
       "      <td>NaN</td>\n",
       "      <td>NaN</td>\n",
       "      <td>NaN</td>\n",
       "      <td>NaN</td>\n",
       "      <td>NaN</td>\n",
       "    </tr>\n",
       "    <tr>\n",
       "      <th rowspan=\"2\" valign=\"top\">21272087</th>\n",
       "      <th>2688293048</th>\n",
       "      <th>0</th>\n",
       "      <td>396882454</td>\n",
       "      <td>False</td>\n",
       "      <td>NaN</td>\n",
       "      <td>Rua Professor Reinaldo dos Santos</td>\n",
       "      <td>residential</td>\n",
       "      <td>NaN</td>\n",
       "      <td>82.536</td>\n",
       "      <td>LINESTRING (-9.18838 38.74796, -9.18832 38.748...</td>\n",
       "      <td>NaN</td>\n",
       "      <td>NaN</td>\n",
       "      <td>NaN</td>\n",
       "      <td>NaN</td>\n",
       "      <td>NaN</td>\n",
       "      <td>NaN</td>\n",
       "      <td>NaN</td>\n",
       "      <td>NaN</td>\n",
       "    </tr>\n",
       "    <tr>\n",
       "      <th>21272088</th>\n",
       "      <th>0</th>\n",
       "      <td>396882454</td>\n",
       "      <td>False</td>\n",
       "      <td>NaN</td>\n",
       "      <td>Rua Professor Reinaldo dos Santos</td>\n",
       "      <td>residential</td>\n",
       "      <td>NaN</td>\n",
       "      <td>16.908</td>\n",
       "      <td>LINESTRING (-9.18838 38.74796, -9.18840 38.747...</td>\n",
       "      <td>NaN</td>\n",
       "      <td>NaN</td>\n",
       "      <td>NaN</td>\n",
       "      <td>NaN</td>\n",
       "      <td>NaN</td>\n",
       "      <td>NaN</td>\n",
       "      <td>NaN</td>\n",
       "      <td>NaN</td>\n",
       "    </tr>\n",
       "    <tr>\n",
       "      <th rowspan=\"3\" valign=\"top\">21272088</th>\n",
       "      <th>4001122643</th>\n",
       "      <th>0</th>\n",
       "      <td>4515057</td>\n",
       "      <td>True</td>\n",
       "      <td>NaN</td>\n",
       "      <td>Rua Manuel Ferreira de Andrade</td>\n",
       "      <td>residential</td>\n",
       "      <td>NaN</td>\n",
       "      <td>15.771</td>\n",
       "      <td>LINESTRING (-9.18840 38.74781, -9.18822 38.74779)</td>\n",
       "      <td>NaN</td>\n",
       "      <td>NaN</td>\n",
       "      <td>NaN</td>\n",
       "      <td>NaN</td>\n",
       "      <td>NaN</td>\n",
       "      <td>NaN</td>\n",
       "      <td>NaN</td>\n",
       "      <td>NaN</td>\n",
       "    </tr>\n",
       "    <tr>\n",
       "      <th>21272087</th>\n",
       "      <th>0</th>\n",
       "      <td>396882454</td>\n",
       "      <td>False</td>\n",
       "      <td>NaN</td>\n",
       "      <td>Rua Professor Reinaldo dos Santos</td>\n",
       "      <td>residential</td>\n",
       "      <td>NaN</td>\n",
       "      <td>16.908</td>\n",
       "      <td>LINESTRING (-9.18840 38.74781, -9.18840 38.747...</td>\n",
       "      <td>NaN</td>\n",
       "      <td>NaN</td>\n",
       "      <td>NaN</td>\n",
       "      <td>NaN</td>\n",
       "      <td>NaN</td>\n",
       "      <td>NaN</td>\n",
       "      <td>NaN</td>\n",
       "      <td>NaN</td>\n",
       "    </tr>\n",
       "    <tr>\n",
       "      <th>3997297372</th>\n",
       "      <th>0</th>\n",
       "      <td>396882454</td>\n",
       "      <td>False</td>\n",
       "      <td>NaN</td>\n",
       "      <td>Rua Professor Reinaldo dos Santos</td>\n",
       "      <td>residential</td>\n",
       "      <td>NaN</td>\n",
       "      <td>37.308</td>\n",
       "      <td>LINESTRING (-9.18840 38.74781, -9.18842 38.747...</td>\n",
       "      <td>NaN</td>\n",
       "      <td>NaN</td>\n",
       "      <td>NaN</td>\n",
       "      <td>NaN</td>\n",
       "      <td>NaN</td>\n",
       "      <td>NaN</td>\n",
       "      <td>NaN</td>\n",
       "      <td>NaN</td>\n",
       "    </tr>\n",
       "    <tr>\n",
       "      <th rowspan=\"2\" valign=\"top\">21424776</th>\n",
       "      <th>299498926</th>\n",
       "      <th>0</th>\n",
       "      <td>4515071</td>\n",
       "      <td>False</td>\n",
       "      <td>NaN</td>\n",
       "      <td>Rua Mariano Pina</td>\n",
       "      <td>residential</td>\n",
       "      <td>NaN</td>\n",
       "      <td>47.492</td>\n",
       "      <td>LINESTRING (-9.18809 38.74880, -9.18754 38.74877)</td>\n",
       "      <td>NaN</td>\n",
       "      <td>NaN</td>\n",
       "      <td>NaN</td>\n",
       "      <td>NaN</td>\n",
       "      <td>NaN</td>\n",
       "      <td>NaN</td>\n",
       "      <td>NaN</td>\n",
       "      <td>NaN</td>\n",
       "    </tr>\n",
       "    <tr>\n",
       "      <th>2688293045</th>\n",
       "      <th>0</th>\n",
       "      <td>686463869</td>\n",
       "      <td>True</td>\n",
       "      <td>NaN</td>\n",
       "      <td>Rotunda Pupilos do Exército</td>\n",
       "      <td>residential</td>\n",
       "      <td>NaN</td>\n",
       "      <td>18.056</td>\n",
       "      <td>LINESTRING (-9.18809 38.74880, -9.18809 38.748...</td>\n",
       "      <td>roundabout</td>\n",
       "      <td>NaN</td>\n",
       "      <td>NaN</td>\n",
       "      <td>NaN</td>\n",
       "      <td>NaN</td>\n",
       "      <td>NaN</td>\n",
       "      <td>NaN</td>\n",
       "      <td>NaN</td>\n",
       "    </tr>\n",
       "  </tbody>\n",
       "</table>\n",
       "</div>"
      ],
      "text/plain": [
       "                                         osmid  oneway   lanes  \\\n",
       "u        v          key                                          \n",
       "21270959 413210796  0                 22278074    True       3   \n",
       "21270962 21270959   0    [22278074, 396719604]    True  [4, 3]   \n",
       "21270969 2265747740 0                 22278381    True       4   \n",
       "21272087 2688293048 0                396882454   False     NaN   \n",
       "         21272088   0                396882454   False     NaN   \n",
       "21272088 4001122643 0                  4515057    True     NaN   \n",
       "         21272087   0                396882454   False     NaN   \n",
       "         3997297372 0                396882454   False     NaN   \n",
       "21424776 299498926  0                  4515071   False     NaN   \n",
       "         2688293045 0                686463869    True     NaN   \n",
       "\n",
       "                                                                name  \\\n",
       "u        v          key                                                \n",
       "21270959 413210796  0    Avenida General Norton de Matos/2ª Circular   \n",
       "21270962 21270959   0    Avenida General Norton de Matos/2ª Circular   \n",
       "21270969 2265747740 0    Avenida Marechal Craveiro Lopes/2ª Circular   \n",
       "21272087 2688293048 0              Rua Professor Reinaldo dos Santos   \n",
       "         21272088   0              Rua Professor Reinaldo dos Santos   \n",
       "21272088 4001122643 0                 Rua Manuel Ferreira de Andrade   \n",
       "         21272087   0              Rua Professor Reinaldo dos Santos   \n",
       "         3997297372 0              Rua Professor Reinaldo dos Santos   \n",
       "21424776 299498926  0                               Rua Mariano Pina   \n",
       "         2688293045 0                    Rotunda Pupilos do Exército   \n",
       "\n",
       "                             highway maxspeed   length  \\\n",
       "u        v          key                                  \n",
       "21270959 413210796  0          trunk       80   44.832   \n",
       "21270962 21270959   0          trunk       80  375.295   \n",
       "21270969 2265747740 0          trunk       80  269.025   \n",
       "21272087 2688293048 0    residential      NaN   82.536   \n",
       "         21272088   0    residential      NaN   16.908   \n",
       "21272088 4001122643 0    residential      NaN   15.771   \n",
       "         21272087   0    residential      NaN   16.908   \n",
       "         3997297372 0    residential      NaN   37.308   \n",
       "21424776 299498926  0    residential      NaN   47.492   \n",
       "         2688293045 0    residential      NaN   18.056   \n",
       "\n",
       "                                                                  geometry  \\\n",
       "u        v          key                                                      \n",
       "21270959 413210796  0    LINESTRING (-9.16594 38.75732, -9.16646 38.75730)   \n",
       "21270962 21270959   0    LINESTRING (-9.16173 38.75804, -9.16283 38.757...   \n",
       "21270969 2265747740 0    LINESTRING (-9.13654 38.76321, -9.13828 38.763...   \n",
       "21272087 2688293048 0    LINESTRING (-9.18838 38.74796, -9.18832 38.748...   \n",
       "         21272088   0    LINESTRING (-9.18838 38.74796, -9.18840 38.747...   \n",
       "21272088 4001122643 0    LINESTRING (-9.18840 38.74781, -9.18822 38.74779)   \n",
       "         21272087   0    LINESTRING (-9.18840 38.74781, -9.18840 38.747...   \n",
       "         3997297372 0    LINESTRING (-9.18840 38.74781, -9.18842 38.747...   \n",
       "21424776 299498926  0    LINESTRING (-9.18809 38.74880, -9.18754 38.74877)   \n",
       "         2688293045 0    LINESTRING (-9.18809 38.74880, -9.18809 38.748...   \n",
       "\n",
       "                           junction bridge  ref access width tunnel service  \\\n",
       "u        v          key                                                       \n",
       "21270959 413210796  0           NaN    NaN  NaN    NaN   NaN    NaN     NaN   \n",
       "21270962 21270959   0           NaN    NaN  NaN    NaN   NaN    NaN     NaN   \n",
       "21270969 2265747740 0           NaN    NaN  NaN    NaN   NaN    NaN     NaN   \n",
       "21272087 2688293048 0           NaN    NaN  NaN    NaN   NaN    NaN     NaN   \n",
       "         21272088   0           NaN    NaN  NaN    NaN   NaN    NaN     NaN   \n",
       "21272088 4001122643 0           NaN    NaN  NaN    NaN   NaN    NaN     NaN   \n",
       "         21272087   0           NaN    NaN  NaN    NaN   NaN    NaN     NaN   \n",
       "         3997297372 0           NaN    NaN  NaN    NaN   NaN    NaN     NaN   \n",
       "21424776 299498926  0           NaN    NaN  NaN    NaN   NaN    NaN     NaN   \n",
       "         2688293045 0    roundabout    NaN  NaN    NaN   NaN    NaN     NaN   \n",
       "\n",
       "                        landuse  \n",
       "u        v          key          \n",
       "21270959 413210796  0       NaN  \n",
       "21270962 21270959   0       NaN  \n",
       "21270969 2265747740 0       NaN  \n",
       "21272087 2688293048 0       NaN  \n",
       "         21272088   0       NaN  \n",
       "21272088 4001122643 0       NaN  \n",
       "         21272087   0       NaN  \n",
       "         3997297372 0       NaN  \n",
       "21424776 299498926  0       NaN  \n",
       "         2688293045 0       NaN  "
      ]
     },
     "execution_count": 8,
     "metadata": {},
     "output_type": "execute_result"
    }
   ],
   "source": [
    "streets.head(10)"
   ]
  },
  {
   "cell_type": "code",
   "execution_count": 9,
   "id": "quarterly-store",
   "metadata": {
    "ExecuteTime": {
     "end_time": "2021-04-21T08:51:22.433211Z",
     "start_time": "2021-04-21T08:51:22.388491Z"
    },
    "scrolled": true
   },
   "outputs": [
    {
     "data": {
      "text/plain": [
       "<Geographic 2D CRS: EPSG:4326>\n",
       "Name: WGS 84\n",
       "Axis Info [ellipsoidal]:\n",
       "- Lat[north]: Geodetic latitude (degree)\n",
       "- Lon[east]: Geodetic longitude (degree)\n",
       "Area of Use:\n",
       "- name: World.\n",
       "- bounds: (-180.0, -90.0, 180.0, 90.0)\n",
       "Datum: World Geodetic System 1984\n",
       "- Ellipsoid: WGS 84\n",
       "- Prime Meridian: Greenwich"
      ]
     },
     "execution_count": 9,
     "metadata": {},
     "output_type": "execute_result"
    }
   ],
   "source": [
    "streets.crs"
   ]
  },
  {
   "cell_type": "code",
   "execution_count": 10,
   "id": "enclosed-tobago",
   "metadata": {
    "ExecuteTime": {
     "end_time": "2021-04-21T08:51:39.409757Z",
     "start_time": "2021-04-21T08:51:22.437705Z"
    }
   },
   "outputs": [
    {
     "name": "stdout",
     "output_type": "stream",
     "text": [
      "CPU times: user 16.9 s, sys: 9.88 ms, total: 16.9 s\n",
      "Wall time: 16.9 s\n"
     ]
    }
   ],
   "source": [
    "%%time\n",
    "G_projected = ox.project_graph(G)"
   ]
  },
  {
   "cell_type": "code",
   "execution_count": 11,
   "id": "measured-question",
   "metadata": {
    "ExecuteTime": {
     "end_time": "2021-04-21T08:51:43.385471Z",
     "start_time": "2021-04-21T08:51:39.413433Z"
    }
   },
   "outputs": [
    {
     "name": "stdout",
     "output_type": "stream",
     "text": [
      "CPU times: user 3.97 s, sys: 0 ns, total: 3.97 s\n",
      "Wall time: 3.97 s\n"
     ]
    }
   ],
   "source": [
    "%%time\n",
    "nodes_proj, streets_proj = ox.graph_to_gdfs(\n",
    "    G_projected, nodes=True, edges=True)"
   ]
  },
  {
   "cell_type": "code",
   "execution_count": 12,
   "id": "serious-touch",
   "metadata": {
    "ExecuteTime": {
     "end_time": "2021-04-21T08:51:43.470677Z",
     "start_time": "2021-04-21T08:51:43.390822Z"
    }
   },
   "outputs": [
    {
     "data": {
      "text/plain": [
       "<Projected CRS: +proj=utm +zone=29 +ellps=WGS84 +datum=WGS84 +unit ...>\n",
       "Name: unknown\n",
       "Axis Info [cartesian]:\n",
       "- E[east]: Easting (metre)\n",
       "- N[north]: Northing (metre)\n",
       "Area of Use:\n",
       "- undefined\n",
       "Coordinate Operation:\n",
       "- name: UTM zone 29N\n",
       "- method: Transverse Mercator\n",
       "Datum: World Geodetic System 1984\n",
       "- Ellipsoid: WGS 84\n",
       "- Prime Meridian: Greenwich"
      ]
     },
     "execution_count": 12,
     "metadata": {},
     "output_type": "execute_result"
    }
   ],
   "source": [
    "streets_proj.crs"
   ]
  },
  {
   "cell_type": "code",
   "execution_count": 13,
   "id": "ranking-exclusive",
   "metadata": {
    "ExecuteTime": {
     "end_time": "2021-04-21T08:51:54.712424Z",
     "start_time": "2021-04-21T08:51:43.477478Z"
    }
   },
   "outputs": [
    {
     "data": {
      "image/png": "[encoded data removed]",
      "text/plain": [
       "<Figure size 576x576 with 1 Axes>"
      ]
     },
     "metadata": {},
     "output_type": "display_data"
    }
   ],
   "source": [
    "fig, ax = ox.plot_graph(G_projected)"
   ]
  },
  {
   "cell_type": "markdown",
   "id": "identical-healthcare",
   "metadata": {
    "heading_collapsed": true
   },
   "source": [
    "### Other plotting method"
   ]
  },
  {
   "cell_type": "code",
   "execution_count": 27,
   "id": "opening-sunrise",
   "metadata": {
    "ExecuteTime": {
     "end_time": "2021-04-21T09:01:30.543060Z",
     "start_time": "2021-04-21T09:01:30.471753Z"
    },
    "hidden": true
   },
   "outputs": [],
   "source": [
    "import osmnx as ox\n",
    "city = ox.geocode_to_gdf('Lisbon, Portugal')"
   ]
  },
  {
   "cell_type": "code",
   "execution_count": 15,
   "id": "governing-nursing",
   "metadata": {
    "ExecuteTime": {
     "end_time": "2021-04-21T08:51:55.239434Z",
     "start_time": "2021-04-21T08:51:54.796742Z"
    },
    "hidden": true
   },
   "outputs": [
    {
     "data": {
      "text/plain": [
       "<AxesSubplot:>"
      ]
     },
     "execution_count": 15,
     "metadata": {},
     "output_type": "execute_result"
    },
    {
     "data": {
      "image/png": "[encoded data removed]",
      "text/plain": [
       "<Figure size 864x576 with 1 Axes>"
      ]
     },
     "metadata": {
      "needs_background": "light"
     },
     "output_type": "display_data"
    }
   ],
   "source": [
    "fig, ax = plt.subplots(figsize = (12,8))\n",
    "\n",
    "city.plot(ax = ax)"
   ]
  },
  {
   "cell_type": "code",
   "execution_count": 17,
   "id": "falling-opposition",
   "metadata": {
    "ExecuteTime": {
     "end_time": "2021-04-21T08:53:11.433189Z",
     "start_time": "2021-04-21T08:52:57.726814Z"
    },
    "hidden": true
   },
   "outputs": [
    {
     "data": {
      "text/plain": [
       "<AxesSubplot:>"
      ]
     },
     "execution_count": 17,
     "metadata": {},
     "output_type": "execute_result"
    },
    {
     "data": {
      "text/plain": [
       "<Figure size 432x288 with 0 Axes>"
      ]
     },
     "metadata": {},
     "output_type": "display_data"
    }
   ],
   "source": [
    "streets.plot(ax = ax)"
   ]
  },
  {
   "cell_type": "markdown",
   "id": "stone-limitation",
   "metadata": {
    "ExecuteTime": {
     "end_time": "2021-04-14T09:11:05.665815Z",
     "start_time": "2021-04-14T09:11:05.661673Z"
    }
   },
   "source": [
    "## Calculate Basic Stats"
   ]
  },
  {
   "cell_type": "code",
   "execution_count": 28,
   "id": "contained-superior",
   "metadata": {
    "ExecuteTime": {
     "end_time": "2021-04-21T09:14:38.003500Z",
     "start_time": "2021-04-21T09:04:33.601237Z"
    }
   },
   "outputs": [
    {
     "name": "stdout",
     "output_type": "stream",
     "text": [
      "CPU times: user 9min 58s, sys: 5.87 s, total: 10min 4s\n",
      "Wall time: 10min 4s\n"
     ]
    },
    {
     "data": {
      "text/plain": [
       "{'n': 31406,\n",
       " 'm': 77275,\n",
       " 'k_avg': 4.921034197287143,\n",
       " 'intersection_count': 27294,\n",
       " 'streets_per_node_avg': 2.9534483856587914,\n",
       " 'streets_per_node_counts': {0: 0,\n",
       "  1: 4112,\n",
       "  2: 203,\n",
       "  3: 20465,\n",
       "  4: 6329,\n",
       "  5: 260,\n",
       "  6: 35,\n",
       "  7: 0,\n",
       "  8: 1,\n",
       "  9: 1},\n",
       " 'streets_per_node_proportion': {0: 0.0,\n",
       "  1: 0.13093039546583454,\n",
       "  2: 0.006463733044641151,\n",
       "  3: 0.6516270776284786,\n",
       "  4: 0.20152200216519137,\n",
       "  5: 0.008278672865057632,\n",
       "  6: 0.0011144367318346813,\n",
       "  7: 0.0,\n",
       "  8: 3.1841049480990894e-05,\n",
       "  9: 3.1841049480990894e-05},\n",
       " 'edge_length_total': 4056670.247000052,\n",
       " 'edge_length_avg': 52.49654153348499,\n",
       " 'street_length_total': 2482553.489000004,\n",
       " 'street_length_avg': 53.55871351829487,\n",
       " 'street_segments_count': 46352,\n",
       " 'node_density_km': 328.58675881333795,\n",
       " 'intersection_density_km': 285.56476453707086,\n",
       " 'edge_density_km': 42443.10412138605,\n",
       " 'street_density_km': 25973.833169816433,\n",
       " 'circuity_avg': 1.3642150896825718e-05,\n",
       " 'self_loop_proportion': 0.004218699450016176,\n",
       " 'clean_intersection_count': None,\n",
       " 'clean_intersection_density_km': None}"
      ]
     },
     "execution_count": 28,
     "metadata": {},
     "output_type": "execute_result"
    }
   ],
   "source": [
    "%%time\n",
    "# Get the Convex Hull of the network\n",
    "convex_hull = streets_proj.unary_union.convex_hull\n",
    "# Show output\n",
    "convex_hull\n",
    "\n",
    "# Calculate the area\n",
    "area = convex_hull.area\n",
    "\n",
    "# Calculate statistics with density information\n",
    "stats = ox.basic_stats(G_projected, area=area)\n",
    "stats"
   ]
  },
  {
   "cell_type": "markdown",
   "id": "realistic-framework",
   "metadata": {
    "ExecuteTime": {
     "end_time": "2021-04-14T09:11:05.691979Z",
     "start_time": "2021-04-14T09:11:05.671389Z"
    }
   },
   "source": [
    "## Extended Stats"
   ]
  },
  {
   "cell_type": "markdown",
   "id": "historic-coffee",
   "metadata": {
    "ExecuteTime": {
     "end_time": "2021-04-21T09:34:15.276605Z",
     "start_time": "2021-04-21T09:29:53.034400Z"
    }
   },
   "source": [
    "%%time\n",
    "extended_stats = ox.extended_stats(G_projected, ecc=True, cc=True)\n",
    "series = pd.Series(extended_stats)\n",
    "series"
   ]
  },
  {
   "cell_type": "markdown",
   "id": "scheduled-freeware",
   "metadata": {
    "ExecuteTime": {
     "start_time": "2021-04-14T09:03:24.040Z"
    }
   },
   "source": [
    "## Visualize Stats"
   ]
  },
  {
   "cell_type": "markdown",
   "id": "adopted-storm",
   "metadata": {
    "ExecuteTime": {
     "start_time": "2021-04-14T09:03:30.840Z"
    }
   },
   "source": [
    "stats_columns = [\n",
    "    'avg_neighbor_degree', \n",
    "    'degree_centrality', \n",
    "    'clustering_coefficient', \n",
    "    'pagerank', \n",
    "    'eccentricity', \n",
    "    'closeness_centrality'\n",
    "]\n",
    "\n",
    "series_list = [pd.Series(extended_stats[column_name], name=column_name).sort_index()\n",
    "               for column_name in stats_columns]\n",
    "series_list.append(nodes_proj['geometry'].sort_index())\n",
    "\n",
    "gdf_stats = pd.concat(series_list, axis=1)\n",
    "\n",
    "gdf_stats = gpd.GeoDataFrame(\n",
    "    gdf_stats, geometry=\"geometry\", crs=nodes_proj.crs)\n",
    "gdf_stats.head(2)"
   ]
  },
  {
   "cell_type": "markdown",
   "id": "appropriate-county",
   "metadata": {
    "ExecuteTime": {
     "start_time": "2021-04-14T09:03:45.829Z"
    }
   },
   "source": [
    "nrows, ncols = 2, 3\n",
    "fig, axes = plt.subplots(nrows=nrows, ncols=ncols, figsize=(14, 8))\n",
    "\n",
    "for idx, column_name in enumerate(stats_columns):\n",
    "    j = idx % ncols\n",
    "    i = (idx - j) // ncols\n",
    "    \n",
    "    ax = axes[i][j]\n",
    "    gdf_stats.plot(ax=ax, column=column_name, legend=True, s=6, alpha=0.8)\n",
    "    ax.set_title(column_name)"
   ]
  },
  {
   "cell_type": "markdown",
   "id": "ideal-attribute",
   "metadata": {
    "ExecuteTime": {
     "start_time": "2021-04-14T09:03:56.597Z"
    }
   },
   "source": [
    "nrows, ncols = 2, 3\n",
    "fig, axes = plt.subplots(nrows=nrows, ncols=ncols, figsize=(14, 8))\n",
    "\n",
    "for idx, column_name in enumerate(stats_columns):\n",
    "    j = idx % ncols\n",
    "    i = (idx - j) // ncols\n",
    "    \n",
    "    ax = axes[i][j]\n",
    "    gdf_stats[column_name].plot(ax=ax, kind='hist', bins=100)\n",
    "    ax.set_title(column_name)"
   ]
  },
  {
   "cell_type": "markdown",
   "id": "early-figure",
   "metadata": {
    "ExecuteTime": {
     "end_time": "2021-04-26T15:09:04.742881Z",
     "start_time": "2021-04-26T15:09:04.738370Z"
    }
   },
   "source": [
    "## Lisbon - PyOsmium"
   ]
  },
  {
   "cell_type": "code",
   "execution_count": 4,
   "id": "comic-gospel",
   "metadata": {
    "ExecuteTime": {
     "end_time": "2021-04-26T15:22:50.217240Z",
     "start_time": "2021-04-26T15:22:50.208301Z"
    }
   },
   "outputs": [],
   "source": [
    "from collections import defaultdict\n",
    "\n",
    "class AmenityStatsHandler(osmium.SimpleHandler):\n",
    "    def __init__(self):\n",
    "        super(AmenityStatsHandler, self).__init__()\n",
    "        self.amenities = defaultdict(int)\n",
    "    \n",
    "    def node(self, n):\n",
    "        for tag in n.tags:\n",
    "            if tag.k == 'amenity':\n",
    "                self.amenities[tag.v] += 1\n",
    "\n",
    "    def way(self, w):\n",
    "        for tag in w.tags:\n",
    "            if tag.k == 'amenity':\n",
    "                self.amenities[tag.v] += 1\n",
    "\n",
    "    def relation(self, r):\n",
    "        for tag in r.tags:\n",
    "            if tag.k == 'amenity':\n",
    "                self.amenities[tag.v] += 1"
   ]
  },
  {
   "cell_type": "code",
   "execution_count": 6,
   "id": "geological-award",
   "metadata": {
    "ExecuteTime": {
     "end_time": "2021-04-26T15:24:51.205718Z",
     "start_time": "2021-04-26T15:23:08.449928Z"
    }
   },
   "outputs": [
    {
     "name": "stdout",
     "output_type": "stream",
     "text": [
      "CPU times: user 1min 43s, sys: 741 ms, total: 1min 44s\n",
      "Wall time: 1min 42s\n"
     ]
    }
   ],
   "source": [
    "%%time\n",
    "src_filepath = \"map_data/Lisbon.osm.pbf\"\n",
    "\n",
    "handler = AmenityStatsHandler()\n",
    "handler.apply_file(src_filepath)\n",
    "\n",
    "s_amenities = pd.Series(handler.amenities)"
   ]
  },
  {
   "cell_type": "code",
   "execution_count": 8,
   "id": "environmental-cigarette",
   "metadata": {
    "ExecuteTime": {
     "end_time": "2021-04-26T15:24:52.887051Z",
     "start_time": "2021-04-26T15:24:52.152404Z"
    },
    "scrolled": true
   },
   "outputs": [
    {
     "data": {
      "image/png": "[encoded data removed]",
      "text/plain": [
       "<Figure size 864x432 with 1 Axes>"
      ]
     },
     "metadata": {
      "needs_background": "light"
     },
     "output_type": "display_data"
    }
   ],
   "source": [
    "s_amenities.sort_values(ascending=False)[:50] \\\n",
    "  .plot(kind='bar', figsize=(12, 6));"
   ]
  },
  {
   "cell_type": "markdown",
   "id": "varied-camel",
   "metadata": {
    "ExecuteTime": {
     "end_time": "2021-04-26T15:25:16.148757Z",
     "start_time": "2021-04-26T15:25:16.144289Z"
    }
   },
   "source": [
    "## Porto - PyOsmium"
   ]
  },
  {
   "cell_type": "code",
   "execution_count": 10,
   "id": "broad-musician",
   "metadata": {
    "ExecuteTime": {
     "end_time": "2021-04-26T15:27:08.339925Z",
     "start_time": "2021-04-26T15:25:34.664192Z"
    }
   },
   "outputs": [
    {
     "name": "stdout",
     "output_type": "stream",
     "text": [
      "CPU times: user 1min 34s, sys: 651 ms, total: 1min 34s\n",
      "Wall time: 1min 33s\n"
     ]
    }
   ],
   "source": [
    "%%time\n",
    "src_filepath = \"map_data/Porto.osm.pbf\"\n",
    "\n",
    "handler = AmenityStatsHandler()\n",
    "handler.apply_file(src_filepath)\n",
    "\n",
    "s_amenities = pd.Series(handler.amenities)"
   ]
  },
  {
   "cell_type": "code",
   "execution_count": 11,
   "id": "greatest-intention",
   "metadata": {
    "ExecuteTime": {
     "end_time": "2021-04-26T15:27:09.230386Z",
     "start_time": "2021-04-26T15:27:08.344078Z"
    },
    "scrolled": true
   },
   "outputs": [
    {
     "data": {
      "image/png": "[encoded data removed]",
      "text/plain": [
       "<Figure size 864x432 with 1 Axes>"
      ]
     },
     "metadata": {
      "needs_background": "light"
     },
     "output_type": "display_data"
    }
   ],
   "source": [
    "s_amenities.sort_values(ascending=False)[:50] \\\n",
    "  .plot(kind='bar', figsize=(12, 6));"
   ]
  },
  {
   "cell_type": "markdown",
   "id": "adolescent-definition",
   "metadata": {
    "ExecuteTime": {
     "end_time": "2021-04-26T16:04:58.534162Z",
     "start_time": "2021-04-26T16:04:58.529682Z"
    }
   },
   "source": [
    "## Lisbon with ogr2ogr"
   ]
  },
  {
   "cell_type": "code",
   "execution_count": 2,
   "id": "sacred-terminology",
   "metadata": {
    "ExecuteTime": {
     "end_time": "2021-04-26T18:19:10.090905Z",
     "start_time": "2021-04-26T18:19:09.184323Z"
    }
   },
   "outputs": [
    {
     "name": "stdout",
     "output_type": "stream",
     "text": [
      "INFO: Open of `map_data/Lisbon.osm.pbf'\r\n",
      "      using driver `OSM' successful.\r\n",
      "1: points (Point)\r\n",
      "2: lines (Line String)\r\n",
      "3: multilinestrings (Multi Line String)\r\n",
      "4: multipolygons (Multi Polygon)\r\n",
      "5: other_relations (Geometry Collection)\r\n"
     ]
    }
   ],
   "source": [
    "# standard imports\n",
    "import sys\n",
    "\n",
    "# import OGR\n",
    "from osgeo import ogr\n",
    "\n",
    "!ogrinfo map_data/Lisbon.osm.pbf"
   ]
  },
  {
   "cell_type": "code",
   "execution_count": 4,
   "id": "cooperative-springer",
   "metadata": {
    "ExecuteTime": {
     "end_time": "2021-04-26T18:19:42.657219Z",
     "start_time": "2021-04-26T18:19:19.831394Z"
    }
   },
   "outputs": [
    {
     "name": "stdout",
     "output_type": "stream",
     "text": [
      "0...10...20...30...40...50...60...70...80...90...100 - done.\n"
     ]
    }
   ],
   "source": [
    "%%bash\n",
    "ogr2ogr -f \"GPKG\" \\\n",
    "    map_data/lisbon-amenities.gpkg \\\n",
    "    map_data/Lisbon.osm.pbf \\"
   ]
  },
  {
   "cell_type": "code",
   "execution_count": 5,
   "id": "cultural-romantic",
   "metadata": {
    "ExecuteTime": {
     "end_time": "2021-04-26T18:19:49.727624Z",
     "start_time": "2021-04-26T18:19:42.660577Z"
    }
   },
   "outputs": [
    {
     "data": {
      "text/plain": [
       "(99120, 12)"
      ]
     },
     "execution_count": 5,
     "metadata": {},
     "output_type": "execute_result"
    }
   ],
   "source": [
    "gdf = gpd.read_file(\"map_data/lisbon-amenities.gpkg\", driver='GPKG')\n",
    "gdf.shape"
   ]
  },
  {
   "cell_type": "code",
   "execution_count": 15,
   "id": "worldwide-novel",
   "metadata": {
    "ExecuteTime": {
     "end_time": "2021-04-26T18:23:41.240012Z",
     "start_time": "2021-04-26T18:23:41.104445Z"
    }
   },
   "outputs": [
    {
     "data": {
      "text/html": [
       "<div>\n",
       "<style scoped>\n",
       "    .dataframe tbody tr th:only-of-type {\n",
       "        vertical-align: middle;\n",
       "    }\n",
       "\n",
       "    .dataframe tbody tr th {\n",
       "        vertical-align: top;\n",
       "    }\n",
       "\n",
       "    .dataframe thead th {\n",
       "        text-align: right;\n",
       "    }\n",
       "</style>\n",
       "<table border=\"1\" class=\"dataframe\">\n",
       "  <thead>\n",
       "    <tr style=\"text-align: right;\">\n",
       "      <th></th>\n",
       "      <th>osm_id</th>\n",
       "      <th>name</th>\n",
       "      <th>amenity</th>\n",
       "      <th>barrier</th>\n",
       "      <th>highway</th>\n",
       "      <th>ref</th>\n",
       "      <th>address</th>\n",
       "      <th>is_in</th>\n",
       "      <th>place</th>\n",
       "      <th>man_made</th>\n",
       "      <th>other_tags</th>\n",
       "      <th>geometry</th>\n",
       "    </tr>\n",
       "  </thead>\n",
       "  <tbody>\n",
       "    <tr>\n",
       "      <th>0</th>\n",
       "      <td>20629108</td>\n",
       "      <td>Lapa da Serra</td>\n",
       "      <td>None</td>\n",
       "      <td>None</td>\n",
       "      <td>None</td>\n",
       "      <td>None</td>\n",
       "      <td>None</td>\n",
       "      <td>None</td>\n",
       "      <td>neighbourhood</td>\n",
       "      <td>None</td>\n",
       "      <td>None</td>\n",
       "      <td>POINT (-9.39964 38.95586)</td>\n",
       "    </tr>\n",
       "    <tr>\n",
       "      <th>1</th>\n",
       "      <td>20629118</td>\n",
       "      <td>None</td>\n",
       "      <td>None</td>\n",
       "      <td>None</td>\n",
       "      <td>crossing</td>\n",
       "      <td>None</td>\n",
       "      <td>None</td>\n",
       "      <td>None</td>\n",
       "      <td>None</td>\n",
       "      <td>None</td>\n",
       "      <td>None</td>\n",
       "      <td>POINT (-9.41390 38.96183)</td>\n",
       "    </tr>\n",
       "    <tr>\n",
       "      <th>2</th>\n",
       "      <td>21272086</td>\n",
       "      <td>None</td>\n",
       "      <td>None</td>\n",
       "      <td>None</td>\n",
       "      <td>crossing</td>\n",
       "      <td>None</td>\n",
       "      <td>None</td>\n",
       "      <td>None</td>\n",
       "      <td>None</td>\n",
       "      <td>None</td>\n",
       "      <td>\"crossing\"=&gt;\"uncontrolled\",\"crossing_ref\"=&gt;\"ze...</td>\n",
       "      <td>POINT (-9.18832 38.74858)</td>\n",
       "    </tr>\n",
       "    <tr>\n",
       "      <th>3</th>\n",
       "      <td>21404046</td>\n",
       "      <td>None</td>\n",
       "      <td>None</td>\n",
       "      <td>None</td>\n",
       "      <td>bus_stop</td>\n",
       "      <td>None</td>\n",
       "      <td>None</td>\n",
       "      <td>None</td>\n",
       "      <td>None</td>\n",
       "      <td>None</td>\n",
       "      <td>None</td>\n",
       "      <td>POINT (-9.45296 38.75312)</td>\n",
       "    </tr>\n",
       "    <tr>\n",
       "      <th>4</th>\n",
       "      <td>21404049</td>\n",
       "      <td>None</td>\n",
       "      <td>None</td>\n",
       "      <td>None</td>\n",
       "      <td>bus_stop</td>\n",
       "      <td>None</td>\n",
       "      <td>None</td>\n",
       "      <td>None</td>\n",
       "      <td>None</td>\n",
       "      <td>None</td>\n",
       "      <td>None</td>\n",
       "      <td>POINT (-9.45655 38.75241)</td>\n",
       "    </tr>\n",
       "    <tr>\n",
       "      <th>...</th>\n",
       "      <td>...</td>\n",
       "      <td>...</td>\n",
       "      <td>...</td>\n",
       "      <td>...</td>\n",
       "      <td>...</td>\n",
       "      <td>...</td>\n",
       "      <td>...</td>\n",
       "      <td>...</td>\n",
       "      <td>...</td>\n",
       "      <td>...</td>\n",
       "      <td>...</td>\n",
       "      <td>...</td>\n",
       "    </tr>\n",
       "    <tr>\n",
       "      <th>95</th>\n",
       "      <td>26233950</td>\n",
       "      <td>None</td>\n",
       "      <td>None</td>\n",
       "      <td>None</td>\n",
       "      <td>motorway_junction</td>\n",
       "      <td>2</td>\n",
       "      <td>None</td>\n",
       "      <td>None</td>\n",
       "      <td>None</td>\n",
       "      <td>None</td>\n",
       "      <td>\"exit_to\"=&gt;\"Sintra;Amadora;Queluz\"</td>\n",
       "      <td>POINT (-9.27602 38.74167)</td>\n",
       "    </tr>\n",
       "    <tr>\n",
       "      <th>96</th>\n",
       "      <td>26234026</td>\n",
       "      <td>None</td>\n",
       "      <td>None</td>\n",
       "      <td>None</td>\n",
       "      <td>motorway_junction</td>\n",
       "      <td>6</td>\n",
       "      <td>None</td>\n",
       "      <td>None</td>\n",
       "      <td>None</td>\n",
       "      <td>None</td>\n",
       "      <td>\"exit_to\"=&gt;\"Caxias;CREL;Loures\"</td>\n",
       "      <td>POINT (-9.26583 38.71469)</td>\n",
       "    </tr>\n",
       "    <tr>\n",
       "      <th>97</th>\n",
       "      <td>26236366</td>\n",
       "      <td>None</td>\n",
       "      <td>None</td>\n",
       "      <td>None</td>\n",
       "      <td>motorway_junction</td>\n",
       "      <td>4</td>\n",
       "      <td>None</td>\n",
       "      <td>None</td>\n",
       "      <td>None</td>\n",
       "      <td>None</td>\n",
       "      <td>\"exit_to\"=&gt;\"Loures;Caneças;Odivelas\"</td>\n",
       "      <td>POINT (-9.19490 38.82235)</td>\n",
       "    </tr>\n",
       "    <tr>\n",
       "      <th>98</th>\n",
       "      <td>26236391</td>\n",
       "      <td>None</td>\n",
       "      <td>None</td>\n",
       "      <td>None</td>\n",
       "      <td>motorway_junction</td>\n",
       "      <td>5</td>\n",
       "      <td>None</td>\n",
       "      <td>None</td>\n",
       "      <td>None</td>\n",
       "      <td>None</td>\n",
       "      <td>\"exit_to\"=&gt;\"Leiria;Loures\"</td>\n",
       "      <td>POINT (-9.18031 38.84989)</td>\n",
       "    </tr>\n",
       "    <tr>\n",
       "      <th>99</th>\n",
       "      <td>26236462</td>\n",
       "      <td>None</td>\n",
       "      <td>None</td>\n",
       "      <td>None</td>\n",
       "      <td>motorway_junction</td>\n",
       "      <td>7</td>\n",
       "      <td>None</td>\n",
       "      <td>None</td>\n",
       "      <td>None</td>\n",
       "      <td>None</td>\n",
       "      <td>\"exit_to\"=&gt;\"Benavente;Carregado;Arruda;Norte;A...</td>\n",
       "      <td>POINT (-9.07640 38.90781)</td>\n",
       "    </tr>\n",
       "  </tbody>\n",
       "</table>\n",
       "<p>100 rows × 12 columns</p>\n",
       "</div>"
      ],
      "text/plain": [
       "      osm_id           name amenity barrier            highway   ref address  \\\n",
       "0   20629108  Lapa da Serra    None    None               None  None    None   \n",
       "1   20629118           None    None    None           crossing  None    None   \n",
       "2   21272086           None    None    None           crossing  None    None   \n",
       "3   21404046           None    None    None           bus_stop  None    None   \n",
       "4   21404049           None    None    None           bus_stop  None    None   \n",
       "..       ...            ...     ...     ...                ...   ...     ...   \n",
       "95  26233950           None    None    None  motorway_junction     2    None   \n",
       "96  26234026           None    None    None  motorway_junction     6    None   \n",
       "97  26236366           None    None    None  motorway_junction     4    None   \n",
       "98  26236391           None    None    None  motorway_junction     5    None   \n",
       "99  26236462           None    None    None  motorway_junction     7    None   \n",
       "\n",
       "   is_in          place man_made  \\\n",
       "0   None  neighbourhood     None   \n",
       "1   None           None     None   \n",
       "2   None           None     None   \n",
       "3   None           None     None   \n",
       "4   None           None     None   \n",
       "..   ...            ...      ...   \n",
       "95  None           None     None   \n",
       "96  None           None     None   \n",
       "97  None           None     None   \n",
       "98  None           None     None   \n",
       "99  None           None     None   \n",
       "\n",
       "                                           other_tags  \\\n",
       "0                                                None   \n",
       "1                                                None   \n",
       "2   \"crossing\"=>\"uncontrolled\",\"crossing_ref\"=>\"ze...   \n",
       "3                                                None   \n",
       "4                                                None   \n",
       "..                                                ...   \n",
       "95                 \"exit_to\"=>\"Sintra;Amadora;Queluz\"   \n",
       "96                    \"exit_to\"=>\"Caxias;CREL;Loures\"   \n",
       "97               \"exit_to\"=>\"Loures;Caneças;Odivelas\"   \n",
       "98                         \"exit_to\"=>\"Leiria;Loures\"   \n",
       "99  \"exit_to\"=>\"Benavente;Carregado;Arruda;Norte;A...   \n",
       "\n",
       "                     geometry  \n",
       "0   POINT (-9.39964 38.95586)  \n",
       "1   POINT (-9.41390 38.96183)  \n",
       "2   POINT (-9.18832 38.74858)  \n",
       "3   POINT (-9.45296 38.75312)  \n",
       "4   POINT (-9.45655 38.75241)  \n",
       "..                        ...  \n",
       "95  POINT (-9.27602 38.74167)  \n",
       "96  POINT (-9.26583 38.71469)  \n",
       "97  POINT (-9.19490 38.82235)  \n",
       "98  POINT (-9.18031 38.84989)  \n",
       "99  POINT (-9.07640 38.90781)  \n",
       "\n",
       "[100 rows x 12 columns]"
      ]
     },
     "execution_count": 15,
     "metadata": {},
     "output_type": "execute_result"
    }
   ],
   "source": [
    "gdf.head(100)"
   ]
  },
  {
   "cell_type": "code",
   "execution_count": 10,
   "id": "moral-russell",
   "metadata": {
    "ExecuteTime": {
     "end_time": "2021-04-26T18:20:44.151592Z",
     "start_time": "2021-04-26T18:20:44.136021Z"
    }
   },
   "outputs": [
    {
     "data": {
      "text/plain": [
       "17541"
      ]
     },
     "execution_count": 10,
     "metadata": {},
     "output_type": "execute_result"
    }
   ],
   "source": [
    "gdf['amenity'].notnull().sum()"
   ]
  },
  {
   "cell_type": "code",
   "execution_count": 13,
   "id": "tired-auction",
   "metadata": {
    "ExecuteTime": {
     "end_time": "2021-04-26T18:22:51.980964Z",
     "start_time": "2021-04-26T18:22:46.892498Z"
    }
   },
   "outputs": [
    {
     "data": {
      "text/plain": [
       "99091"
      ]
     },
     "execution_count": 13,
     "metadata": {},
     "output_type": "execute_result"
    }
   ],
   "source": [
    "gdf['geometry'].nunique()"
   ]
  },
  {
   "cell_type": "code",
   "execution_count": 19,
   "id": "religious-wrapping",
   "metadata": {
    "ExecuteTime": {
     "end_time": "2021-04-26T18:26:13.763182Z",
     "start_time": "2021-04-26T18:26:13.536293Z"
    }
   },
   "outputs": [
    {
     "data": {
      "text/plain": [
       "0"
      ]
     },
     "execution_count": 19,
     "metadata": {},
     "output_type": "execute_result"
    }
   ],
   "source": [
    "gdf['geometry'].isna().sum()"
   ]
  },
  {
   "cell_type": "code",
   "execution_count": 20,
   "id": "limiting-marks",
   "metadata": {
    "ExecuteTime": {
     "end_time": "2021-04-26T18:29:21.175649Z",
     "start_time": "2021-04-26T18:29:18.887486Z"
    }
   },
   "outputs": [],
   "source": [
    "from shapely import wkt\n",
    "gdf['str_geom'] = gdf.geometry.apply(lambda x: wkt.dumps(x))"
   ]
  },
  {
   "cell_type": "code",
   "execution_count": 21,
   "id": "boxed-dispatch",
   "metadata": {
    "ExecuteTime": {
     "end_time": "2021-04-26T18:29:23.642418Z",
     "start_time": "2021-04-26T18:29:23.511733Z"
    },
    "scrolled": true
   },
   "outputs": [
    {
     "data": {
      "text/html": [
       "<div>\n",
       "<style scoped>\n",
       "    .dataframe tbody tr th:only-of-type {\n",
       "        vertical-align: middle;\n",
       "    }\n",
       "\n",
       "    .dataframe tbody tr th {\n",
       "        vertical-align: top;\n",
       "    }\n",
       "\n",
       "    .dataframe thead th {\n",
       "        text-align: right;\n",
       "    }\n",
       "</style>\n",
       "<table border=\"1\" class=\"dataframe\">\n",
       "  <thead>\n",
       "    <tr style=\"text-align: right;\">\n",
       "      <th></th>\n",
       "      <th>osm_id</th>\n",
       "      <th>name</th>\n",
       "      <th>amenity</th>\n",
       "      <th>barrier</th>\n",
       "      <th>highway</th>\n",
       "      <th>ref</th>\n",
       "      <th>address</th>\n",
       "      <th>is_in</th>\n",
       "      <th>place</th>\n",
       "      <th>man_made</th>\n",
       "      <th>other_tags</th>\n",
       "      <th>geometry</th>\n",
       "      <th>str_geom</th>\n",
       "    </tr>\n",
       "  </thead>\n",
       "  <tbody>\n",
       "    <tr>\n",
       "      <th>0</th>\n",
       "      <td>20629108</td>\n",
       "      <td>Lapa da Serra</td>\n",
       "      <td>None</td>\n",
       "      <td>None</td>\n",
       "      <td>None</td>\n",
       "      <td>None</td>\n",
       "      <td>None</td>\n",
       "      <td>None</td>\n",
       "      <td>neighbourhood</td>\n",
       "      <td>None</td>\n",
       "      <td>None</td>\n",
       "      <td>POINT (-9.39964 38.95586)</td>\n",
       "      <td>POINT (-9.3996379000000001 38.9558610000000058)</td>\n",
       "    </tr>\n",
       "    <tr>\n",
       "      <th>1</th>\n",
       "      <td>20629118</td>\n",
       "      <td>None</td>\n",
       "      <td>None</td>\n",
       "      <td>None</td>\n",
       "      <td>crossing</td>\n",
       "      <td>None</td>\n",
       "      <td>None</td>\n",
       "      <td>None</td>\n",
       "      <td>None</td>\n",
       "      <td>None</td>\n",
       "      <td>None</td>\n",
       "      <td>POINT (-9.41390 38.96183)</td>\n",
       "      <td>POINT (-9.4139011999999997 38.9618338000000008)</td>\n",
       "    </tr>\n",
       "    <tr>\n",
       "      <th>2</th>\n",
       "      <td>21272086</td>\n",
       "      <td>None</td>\n",
       "      <td>None</td>\n",
       "      <td>None</td>\n",
       "      <td>crossing</td>\n",
       "      <td>None</td>\n",
       "      <td>None</td>\n",
       "      <td>None</td>\n",
       "      <td>None</td>\n",
       "      <td>None</td>\n",
       "      <td>\"crossing\"=&gt;\"uncontrolled\",\"crossing_ref\"=&gt;\"ze...</td>\n",
       "      <td>POINT (-9.18832 38.74858)</td>\n",
       "      <td>POINT (-9.1883154999999999 38.7485788000000042)</td>\n",
       "    </tr>\n",
       "    <tr>\n",
       "      <th>3</th>\n",
       "      <td>21404046</td>\n",
       "      <td>None</td>\n",
       "      <td>None</td>\n",
       "      <td>None</td>\n",
       "      <td>bus_stop</td>\n",
       "      <td>None</td>\n",
       "      <td>None</td>\n",
       "      <td>None</td>\n",
       "      <td>None</td>\n",
       "      <td>None</td>\n",
       "      <td>None</td>\n",
       "      <td>POINT (-9.45296 38.75312)</td>\n",
       "      <td>POINT (-9.4529636999999997 38.7531211000000013)</td>\n",
       "    </tr>\n",
       "    <tr>\n",
       "      <th>4</th>\n",
       "      <td>21404049</td>\n",
       "      <td>None</td>\n",
       "      <td>None</td>\n",
       "      <td>None</td>\n",
       "      <td>bus_stop</td>\n",
       "      <td>None</td>\n",
       "      <td>None</td>\n",
       "      <td>None</td>\n",
       "      <td>None</td>\n",
       "      <td>None</td>\n",
       "      <td>None</td>\n",
       "      <td>POINT (-9.45655 38.75241)</td>\n",
       "      <td>POINT (-9.4565549999999998 38.7524073000000016)</td>\n",
       "    </tr>\n",
       "    <tr>\n",
       "      <th>...</th>\n",
       "      <td>...</td>\n",
       "      <td>...</td>\n",
       "      <td>...</td>\n",
       "      <td>...</td>\n",
       "      <td>...</td>\n",
       "      <td>...</td>\n",
       "      <td>...</td>\n",
       "      <td>...</td>\n",
       "      <td>...</td>\n",
       "      <td>...</td>\n",
       "      <td>...</td>\n",
       "      <td>...</td>\n",
       "      <td>...</td>\n",
       "    </tr>\n",
       "    <tr>\n",
       "      <th>99115</th>\n",
       "      <td>8641657617</td>\n",
       "      <td>None</td>\n",
       "      <td>None</td>\n",
       "      <td>None</td>\n",
       "      <td>None</td>\n",
       "      <td>None</td>\n",
       "      <td>None</td>\n",
       "      <td>None</td>\n",
       "      <td>None</td>\n",
       "      <td>windmill</td>\n",
       "      <td>None</td>\n",
       "      <td>POINT (-9.25846 38.83832)</td>\n",
       "      <td>POINT (-9.2584554000000008 38.8383180000000010)</td>\n",
       "    </tr>\n",
       "    <tr>\n",
       "      <th>99116</th>\n",
       "      <td>8641657618</td>\n",
       "      <td>None</td>\n",
       "      <td>None</td>\n",
       "      <td>None</td>\n",
       "      <td>None</td>\n",
       "      <td>None</td>\n",
       "      <td>None</td>\n",
       "      <td>None</td>\n",
       "      <td>None</td>\n",
       "      <td>windmill</td>\n",
       "      <td>None</td>\n",
       "      <td>POINT (-9.26068 38.83765)</td>\n",
       "      <td>POINT (-9.2606833000000002 38.8376504000000011)</td>\n",
       "    </tr>\n",
       "    <tr>\n",
       "      <th>99117</th>\n",
       "      <td>8641657619</td>\n",
       "      <td>None</td>\n",
       "      <td>None</td>\n",
       "      <td>None</td>\n",
       "      <td>None</td>\n",
       "      <td>None</td>\n",
       "      <td>None</td>\n",
       "      <td>None</td>\n",
       "      <td>None</td>\n",
       "      <td>windmill</td>\n",
       "      <td>None</td>\n",
       "      <td>POINT (-9.25440 38.84683)</td>\n",
       "      <td>POINT (-9.2543986000000000 38.8468313999999992)</td>\n",
       "    </tr>\n",
       "    <tr>\n",
       "      <th>99118</th>\n",
       "      <td>8641657620</td>\n",
       "      <td>None</td>\n",
       "      <td>None</td>\n",
       "      <td>None</td>\n",
       "      <td>None</td>\n",
       "      <td>None</td>\n",
       "      <td>None</td>\n",
       "      <td>None</td>\n",
       "      <td>None</td>\n",
       "      <td>windmill</td>\n",
       "      <td>None</td>\n",
       "      <td>POINT (-9.25396 38.84726)</td>\n",
       "      <td>POINT (-9.2539616000000002 38.8472583000000000)</td>\n",
       "    </tr>\n",
       "    <tr>\n",
       "      <th>99119</th>\n",
       "      <td>8641657621</td>\n",
       "      <td>None</td>\n",
       "      <td>None</td>\n",
       "      <td>None</td>\n",
       "      <td>None</td>\n",
       "      <td>None</td>\n",
       "      <td>None</td>\n",
       "      <td>None</td>\n",
       "      <td>None</td>\n",
       "      <td>windmill</td>\n",
       "      <td>None</td>\n",
       "      <td>POINT (-9.25328 38.84775)</td>\n",
       "      <td>POINT (-9.2532793000000009 38.8477508000000000)</td>\n",
       "    </tr>\n",
       "  </tbody>\n",
       "</table>\n",
       "<p>99120 rows × 13 columns</p>\n",
       "</div>"
      ],
      "text/plain": [
       "           osm_id           name amenity barrier   highway   ref address  \\\n",
       "0        20629108  Lapa da Serra    None    None      None  None    None   \n",
       "1        20629118           None    None    None  crossing  None    None   \n",
       "2        21272086           None    None    None  crossing  None    None   \n",
       "3        21404046           None    None    None  bus_stop  None    None   \n",
       "4        21404049           None    None    None  bus_stop  None    None   \n",
       "...           ...            ...     ...     ...       ...   ...     ...   \n",
       "99115  8641657617           None    None    None      None  None    None   \n",
       "99116  8641657618           None    None    None      None  None    None   \n",
       "99117  8641657619           None    None    None      None  None    None   \n",
       "99118  8641657620           None    None    None      None  None    None   \n",
       "99119  8641657621           None    None    None      None  None    None   \n",
       "\n",
       "      is_in          place  man_made  \\\n",
       "0      None  neighbourhood      None   \n",
       "1      None           None      None   \n",
       "2      None           None      None   \n",
       "3      None           None      None   \n",
       "4      None           None      None   \n",
       "...     ...            ...       ...   \n",
       "99115  None           None  windmill   \n",
       "99116  None           None  windmill   \n",
       "99117  None           None  windmill   \n",
       "99118  None           None  windmill   \n",
       "99119  None           None  windmill   \n",
       "\n",
       "                                              other_tags  \\\n",
       "0                                                   None   \n",
       "1                                                   None   \n",
       "2      \"crossing\"=>\"uncontrolled\",\"crossing_ref\"=>\"ze...   \n",
       "3                                                   None   \n",
       "4                                                   None   \n",
       "...                                                  ...   \n",
       "99115                                               None   \n",
       "99116                                               None   \n",
       "99117                                               None   \n",
       "99118                                               None   \n",
       "99119                                               None   \n",
       "\n",
       "                        geometry  \\\n",
       "0      POINT (-9.39964 38.95586)   \n",
       "1      POINT (-9.41390 38.96183)   \n",
       "2      POINT (-9.18832 38.74858)   \n",
       "3      POINT (-9.45296 38.75312)   \n",
       "4      POINT (-9.45655 38.75241)   \n",
       "...                          ...   \n",
       "99115  POINT (-9.25846 38.83832)   \n",
       "99116  POINT (-9.26068 38.83765)   \n",
       "99117  POINT (-9.25440 38.84683)   \n",
       "99118  POINT (-9.25396 38.84726)   \n",
       "99119  POINT (-9.25328 38.84775)   \n",
       "\n",
       "                                              str_geom  \n",
       "0      POINT (-9.3996379000000001 38.9558610000000058)  \n",
       "1      POINT (-9.4139011999999997 38.9618338000000008)  \n",
       "2      POINT (-9.1883154999999999 38.7485788000000042)  \n",
       "3      POINT (-9.4529636999999997 38.7531211000000013)  \n",
       "4      POINT (-9.4565549999999998 38.7524073000000016)  \n",
       "...                                                ...  \n",
       "99115  POINT (-9.2584554000000008 38.8383180000000010)  \n",
       "99116  POINT (-9.2606833000000002 38.8376504000000011)  \n",
       "99117  POINT (-9.2543986000000000 38.8468313999999992)  \n",
       "99118  POINT (-9.2539616000000002 38.8472583000000000)  \n",
       "99119  POINT (-9.2532793000000009 38.8477508000000000)  \n",
       "\n",
       "[99120 rows x 13 columns]"
      ]
     },
     "execution_count": 21,
     "metadata": {},
     "output_type": "execute_result"
    }
   ],
   "source": [
    "gdf['str_geom'].start"
   ]
  },
  {
   "cell_type": "code",
   "execution_count": 25,
   "id": "harmful-legislature",
   "metadata": {
    "ExecuteTime": {
     "end_time": "2021-04-26T18:30:30.806903Z",
     "start_time": "2021-04-26T18:30:30.800294Z"
    }
   },
   "outputs": [
    {
     "data": {
      "text/plain": [
       "'Point'"
      ]
     },
     "execution_count": 25,
     "metadata": {},
     "output_type": "execute_result"
    }
   ],
   "source": [
    "gdf['geometry'].geometry[0].type"
   ]
  },
  {
   "cell_type": "code",
   "execution_count": 33,
   "id": "altered-threshold",
   "metadata": {
    "ExecuteTime": {
     "end_time": "2021-04-26T18:34:34.415605Z",
     "start_time": "2021-04-26T18:34:34.343833Z"
    },
    "scrolled": true
   },
   "outputs": [
    {
     "data": {
      "text/plain": [
       "99120"
      ]
     },
     "execution_count": 33,
     "metadata": {},
     "output_type": "execute_result"
    }
   ],
   "source": [
    "sum(gdf['str_geom'].str.startswith('POINT')) #all points"
   ]
  },
  {
   "cell_type": "code",
   "execution_count": 31,
   "id": "diagnostic-trinidad",
   "metadata": {
    "ExecuteTime": {
     "end_time": "2021-04-26T18:33:44.734657Z",
     "start_time": "2021-04-26T18:33:44.720096Z"
    }
   },
   "outputs": [
    {
     "data": {
      "text/plain": [
       "0        False\n",
       "1        False\n",
       "2        False\n",
       "3        False\n",
       "4        False\n",
       "         ...  \n",
       "99115    False\n",
       "99116    False\n",
       "99117    False\n",
       "99118    False\n",
       "99119    False\n",
       "Name: amenity, Length: 99120, dtype: bool"
      ]
     },
     "execution_count": 31,
     "metadata": {},
     "output_type": "execute_result"
    }
   ],
   "source": [
    "gdf['amenity'].notnull()"
   ]
  }
 ],
 "metadata": {
  "kernelspec": {
   "display_name": "Python 3",
   "language": "python",
   "name": "python3"
  },
  "language_info": {
   "codemirror_mode": {
    "name": "ipython",
    "version": 3
   },
   "file_extension": ".py",
   "mimetype": "text/x-python",
   "name": "python",
   "nbconvert_exporter": "python",
   "pygments_lexer": "ipython3",
   "version": "3.8.6"
  },
  "toc": {
   "base_numbering": 1,
   "nav_menu": {},
   "number_sections": true,
   "sideBar": true,
   "skip_h1_title": false,
   "title_cell": "Table of Contents",
   "title_sidebar": "Contents",
   "toc_cell": false,
   "toc_position": {},
   "toc_section_display": true,
   "toc_window_display": false
  }
 },
 "nbformat": 4,
 "nbformat_minor": 5
}
