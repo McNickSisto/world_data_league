{
 "cells": [
  {
   "cell_type": "markdown",
   "id": "little-therapy",
   "metadata": {},
   "source": [
    "# Open Street Maps"
   ]
  },
  {
   "cell_type": "markdown",
   "id": "naval-things",
   "metadata": {
    "ExecuteTime": {
     "end_time": "2021-04-14T08:17:32.290094Z",
     "start_time": "2021-04-14T08:17:32.285813Z"
    }
   },
   "source": [
    "## Basic Imports"
   ]
  },
  {
   "cell_type": "code",
   "execution_count": 2,
   "id": "monthly-prior",
   "metadata": {
    "ExecuteTime": {
     "end_time": "2021-04-20T16:07:53.411015Z",
     "start_time": "2021-04-20T16:07:52.821548Z"
    }
   },
   "outputs": [],
   "source": [
    "%matplotlib inline"
   ]
  },
  {
   "cell_type": "code",
   "execution_count": 3,
   "id": "legal-cartridge",
   "metadata": {
    "ExecuteTime": {
     "end_time": "2021-04-20T16:07:55.895238Z",
     "start_time": "2021-04-20T16:07:53.664156Z"
    }
   },
   "outputs": [
    {
     "name": "stdout",
     "output_type": "stream",
     "text": [
      "pandas 1.2.0\n",
      "geopandas 0.9.0\n"
     ]
    }
   ],
   "source": [
    "import requests\n",
    "import numpy as np\n",
    "import pandas as pd\n",
    "import matplotlib.pyplot as plt\n",
    "import osmnx as ox\n",
    "import geopandas as gpd\n",
    "import osmium\n",
    "\n",
    "for module in [pd, gpd]:\n",
    "    print(module.__name__, module.__version__)"
   ]
  },
  {
   "cell_type": "markdown",
   "id": "timely-litigation",
   "metadata": {
    "ExecuteTime": {
     "end_time": "2021-04-14T08:19:30.057529Z",
     "start_time": "2021-04-14T08:19:30.052837Z"
    },
    "heading_collapsed": true
   },
   "source": [
    "## Geo-Data Sourcing"
   ]
  },
  {
   "cell_type": "markdown",
   "id": "statutory-logan",
   "metadata": {
    "hidden": true
   },
   "source": [
    "Geofabrik (download.geofabrik.de)\n",
    "\n",
    "BBBike OSM ready extracts"
   ]
  },
  {
   "cell_type": "code",
   "execution_count": 3,
   "id": "cutting-domestic",
   "metadata": {
    "ExecuteTime": {
     "end_time": "2021-04-14T10:04:13.447267Z",
     "start_time": "2021-04-14T10:03:46.596015Z"
    },
    "hidden": true
   },
   "outputs": [],
   "source": [
    "%%bash\n",
    "wget https://download.bbbike.org/osm/bbbike/Lisbon/Lisbon.osm.pbf \\\n",
    "    --quiet -O county_data/Lisbon.osm.pbf"
   ]
  },
  {
   "cell_type": "markdown",
   "id": "bearing-closure",
   "metadata": {
    "ExecuteTime": {
     "end_time": "2021-04-14T07:44:53.776399Z",
     "start_time": "2021-04-14T07:44:53.771297Z"
    },
    "heading_collapsed": true
   },
   "source": [
    "## PyOsmium"
   ]
  },
  {
   "cell_type": "markdown",
   "id": "charged-abortion",
   "metadata": {
    "hidden": true
   },
   "source": [
    "Python module allows you to access some of the features of the Osmium Library from Python code."
   ]
  },
  {
   "cell_type": "markdown",
   "id": "bacterial-diesel",
   "metadata": {
    "hidden": true
   },
   "source": [
    "The Osmium Library has extensive support for all types of OSM entities: nodes, ways, relations, and changesets. It allows reading from and writing to OSM files in XML and PBF formats, including change files and full history files. Osmium can store OSM data in memory and on disk in various formats and using various indexes. Its easy to use handler interface allows you to quickly write data filtering and conversion functions. Osmium can create WKT, WKB, OGR, GEOS and GeoJSON geometries for easy conversion into many GIS formats and it can assemble multipolygons from ways and relations."
   ]
  },
  {
   "cell_type": "code",
   "execution_count": 4,
   "id": "satellite-engagement",
   "metadata": {
    "ExecuteTime": {
     "end_time": "2021-04-14T10:04:13.471024Z",
     "start_time": "2021-04-14T10:04:13.451123Z"
    },
    "hidden": true
   },
   "outputs": [],
   "source": [
    "from collections import defaultdict\n",
    "\n",
    "class AmenityStatsHandler(osmium.SimpleHandler):\n",
    "    def __init__(self):\n",
    "        super(AmenityStatsHandler, self).__init__()\n",
    "        self.amenities = defaultdict(int)\n",
    "    \n",
    "    def node(self, n):\n",
    "        for tag in n.tags:\n",
    "            if tag.k == 'amenity':\n",
    "                self.amenities[tag.v] += 1\n",
    "\n",
    "    def way(self, w):\n",
    "        for tag in w.tags:\n",
    "            if tag.k == 'amenity':\n",
    "                self.amenities[tag.v] += 1\n",
    "\n",
    "    def relation(self, r):\n",
    "        for tag in r.tags:\n",
    "            if tag.k == 'amenity':\n",
    "                self.amenities[tag.v] += 1"
   ]
  },
  {
   "cell_type": "code",
   "execution_count": 5,
   "id": "placed-keyboard",
   "metadata": {
    "ExecuteTime": {
     "end_time": "2021-04-14T10:05:46.566822Z",
     "start_time": "2021-04-14T10:04:13.478340Z"
    },
    "hidden": true
   },
   "outputs": [
    {
     "name": "stdout",
     "output_type": "stream",
     "text": [
      "CPU times: user 1min 33s, sys: 559 ms, total: 1min 34s\n",
      "Wall time: 1min 32s\n"
     ]
    }
   ],
   "source": [
    "%%time\n",
    "src_filepath = \"county_data/Lisbon.osm.pbf\"\n",
    "\n",
    "handler = AmenityStatsHandler()\n",
    "handler.apply_file(src_filepath)\n",
    "\n",
    "s_amenities = pd.Series(handler.amenities)"
   ]
  },
  {
   "cell_type": "code",
   "execution_count": 6,
   "id": "controlling-hunter",
   "metadata": {
    "ExecuteTime": {
     "end_time": "2021-04-14T10:05:46.586049Z",
     "start_time": "2021-04-14T10:05:46.569913Z"
    },
    "hidden": true,
    "scrolled": true
   },
   "outputs": [
    {
     "data": {
      "text/plain": [
       "parking                   15652\n",
       "fuel                        454\n",
       "restaurant                 3319\n",
       "ferry_terminal               23\n",
       "parking_entrance            256\n",
       "                          ...  \n",
       "exhibition_center             1\n",
       "reception_desk                1\n",
       "love_hotel                    1\n",
       "payment_centre                1\n",
       "waste_transfer_station        1\n",
       "Length: 141, dtype: int64"
      ]
     },
     "execution_count": 6,
     "metadata": {},
     "output_type": "execute_result"
    }
   ],
   "source": [
    "s_amenities"
   ]
  },
  {
   "cell_type": "code",
   "execution_count": 7,
   "id": "quick-flour",
   "metadata": {
    "ExecuteTime": {
     "end_time": "2021-04-14T10:05:47.501160Z",
     "start_time": "2021-04-14T10:05:46.588823Z"
    },
    "hidden": true,
    "scrolled": true
   },
   "outputs": [
    {
     "data": {
      "image/png": "[encoded data removed]",
      "text/plain": [
       "<Figure size 864x432 with 1 Axes>"
      ]
     },
     "metadata": {
      "needs_background": "light"
     },
     "output_type": "display_data"
    }
   ],
   "source": [
    "#types of amenities in Lisbon\n",
    "s_amenities.sort_values(ascending=False)[:50] \\\n",
    "  .plot(kind='bar', figsize=(12, 6));"
   ]
  },
  {
   "cell_type": "markdown",
   "id": "likely-villa",
   "metadata": {
    "ExecuteTime": {
     "start_time": "2021-04-14T09:42:25.951Z"
    }
   },
   "source": [
    "# OSMnx Street Network Analysis"
   ]
  },
  {
   "cell_type": "markdown",
   "id": "accomplished-classification",
   "metadata": {
    "ExecuteTime": {
     "start_time": "2021-04-14T09:42:37.175Z"
    }
   },
   "source": [
    "## Load Lisbon"
   ]
  },
  {
   "cell_type": "code",
   "execution_count": null,
   "id": "productive-exclusion",
   "metadata": {
    "ExecuteTime": {
     "start_time": "2021-04-20T16:08:01.299Z"
    }
   },
   "outputs": [],
   "source": [
    "%%time\n",
    "G = ox.graph_from_place('Lisbon', simplify=True)"
   ]
  },
  {
   "cell_type": "code",
   "execution_count": null,
   "id": "subjective-melissa",
   "metadata": {
    "ExecuteTime": {
     "start_time": "2021-04-20T16:08:02.459Z"
    }
   },
   "outputs": [],
   "source": [
    "type(G)"
   ]
  },
  {
   "cell_type": "code",
   "execution_count": null,
   "id": "usual-cricket",
   "metadata": {
    "ExecuteTime": {
     "start_time": "2021-04-20T16:08:03.274Z"
    }
   },
   "outputs": [],
   "source": [
    "%%time\n",
    "nodes, edges = ox.graph_to_gdfs(G, nodes=True, edges=True)"
   ]
  },
  {
   "cell_type": "code",
   "execution_count": null,
   "id": "supreme-savage",
   "metadata": {
    "ExecuteTime": {
     "start_time": "2021-04-20T16:08:04.074Z"
    },
    "scrolled": true
   },
   "outputs": [],
   "source": [
    "print(f\"Num nodes: {len(nodes)}, num edges: {len(edges)}\")"
   ]
  },
  {
   "cell_type": "code",
   "execution_count": null,
   "id": "outdoor-boulder",
   "metadata": {
    "ExecuteTime": {
     "start_time": "2021-04-20T16:08:04.883Z"
    }
   },
   "outputs": [],
   "source": [
    "nodes.head(5)"
   ]
  },
  {
   "cell_type": "code",
   "execution_count": null,
   "id": "present-jackson",
   "metadata": {
    "ExecuteTime": {
     "start_time": "2021-04-20T16:08:06.018Z"
    },
    "scrolled": true
   },
   "outputs": [],
   "source": [
    "edges.head(2)"
   ]
  },
  {
   "cell_type": "code",
   "execution_count": null,
   "id": "quarterly-store",
   "metadata": {
    "ExecuteTime": {
     "start_time": "2021-04-20T16:08:07.529Z"
    },
    "scrolled": true
   },
   "outputs": [],
   "source": [
    "edges.crs"
   ]
  },
  {
   "cell_type": "code",
   "execution_count": null,
   "id": "enclosed-tobago",
   "metadata": {
    "ExecuteTime": {
     "start_time": "2021-04-20T16:08:14.539Z"
    }
   },
   "outputs": [],
   "source": [
    "%%time\n",
    "G_projected = ox.project_graph(G)"
   ]
  },
  {
   "cell_type": "code",
   "execution_count": null,
   "id": "measured-question",
   "metadata": {
    "ExecuteTime": {
     "start_time": "2021-04-20T16:08:15.521Z"
    }
   },
   "outputs": [],
   "source": [
    "%%time\n",
    "nodes_proj, edges_proj = ox.graph_to_gdfs(\n",
    "    G_projected, nodes=True, edges=True)"
   ]
  },
  {
   "cell_type": "code",
   "execution_count": null,
   "id": "serious-touch",
   "metadata": {
    "ExecuteTime": {
     "start_time": "2021-04-20T16:08:16.282Z"
    }
   },
   "outputs": [],
   "source": [
    "edges_proj.crs"
   ]
  },
  {
   "cell_type": "code",
   "execution_count": null,
   "id": "ranking-exclusive",
   "metadata": {
    "ExecuteTime": {
     "start_time": "2021-04-20T16:08:17.578Z"
    }
   },
   "outputs": [],
   "source": [
    "fig, ax = ox.plot_graph(G_projected)"
   ]
  },
  {
   "cell_type": "markdown",
   "id": "stone-limitation",
   "metadata": {
    "ExecuteTime": {
     "end_time": "2021-04-14T09:11:05.665815Z",
     "start_time": "2021-04-14T09:11:05.661673Z"
    },
    "heading_collapsed": true
   },
   "source": [
    "## Calculate Basic Stats"
   ]
  },
  {
   "cell_type": "code",
   "execution_count": 19,
   "id": "contained-superior",
   "metadata": {
    "ExecuteTime": {
     "end_time": "2021-04-14T10:16:15.935490Z",
     "start_time": "2021-04-14T10:07:13.010894Z"
    },
    "hidden": true
   },
   "outputs": [
    {
     "name": "stdout",
     "output_type": "stream",
     "text": [
      "CPU times: user 8min 56s, sys: 6.13 s, total: 9min 3s\n",
      "Wall time: 9min 2s\n"
     ]
    },
    {
     "data": {
      "text/plain": [
       "{'n': 31311,\n",
       " 'm': 77038,\n",
       " 'k_avg': 4.920826546581074,\n",
       " 'intersection_count': 27205,\n",
       " 'streets_per_node_avg': 2.951742199227109,\n",
       " 'streets_per_node_counts': {0: 0,\n",
       "  1: 4106,\n",
       "  2: 201,\n",
       "  3: 20437,\n",
       "  4: 6273,\n",
       "  5: 258,\n",
       "  6: 34,\n",
       "  7: 0,\n",
       "  8: 1,\n",
       "  9: 1},\n",
       " 'streets_per_node_proportion': {0: 0.0,\n",
       "  1: 0.13113602248411102,\n",
       "  2: 0.006419469196129156,\n",
       "  3: 0.6527099102551819,\n",
       "  4: 0.2003449267030756,\n",
       "  5: 0.008239915684583692,\n",
       "  6: 0.0010858803615342852,\n",
       "  7: 0.0,\n",
       "  8: 3.1937657692184855e-05,\n",
       "  9: 3.1937657692184855e-05},\n",
       " 'edge_length_total': 4053217.4370000497,\n",
       " 'edge_length_avg': 52.61322252654599,\n",
       " 'street_length_total': 2479110.4090000037,\n",
       " 'street_length_avg': 53.67898858912186,\n",
       " 'street_segments_count': 46184,\n",
       " 'node_density_km': 327.59281682495146,\n",
       " 'intersection_density_km': 284.63359783216134,\n",
       " 'edge_density_km': 42406.97893362896,\n",
       " 'street_density_km': 25937.809782644075,\n",
       " 'circuity_avg': 1.3644023424014901e-05,\n",
       " 'self_loop_proportion': 0.004231677873257353,\n",
       " 'clean_intersection_count': None,\n",
       " 'clean_intersection_density_km': None}"
      ]
     },
     "execution_count": 19,
     "metadata": {},
     "output_type": "execute_result"
    }
   ],
   "source": [
    "%%time\n",
    "# Get the Convex Hull of the network\n",
    "convex_hull = edges_proj.unary_union.convex_hull\n",
    "# Show output\n",
    "convex_hull\n",
    "\n",
    "# Calculate the area\n",
    "area = convex_hull.area\n",
    "\n",
    "# Calculate statistics with density information\n",
    "stats = ox.basic_stats(G_projected, area=area)\n",
    "stats"
   ]
  },
  {
   "cell_type": "markdown",
   "id": "realistic-framework",
   "metadata": {
    "ExecuteTime": {
     "end_time": "2021-04-14T09:11:05.691979Z",
     "start_time": "2021-04-14T09:11:05.671389Z"
    },
    "heading_collapsed": true
   },
   "source": [
    "## Extended Stats"
   ]
  },
  {
   "cell_type": "markdown",
   "id": "olympic-louis",
   "metadata": {
    "ExecuteTime": {
     "start_time": "2021-04-14T09:03:10.829Z"
    },
    "hidden": true
   },
   "source": [
    "%%time\n",
    "extended_stats = ox.extended_stats(G_projected, ecc=True, cc=True)\n",
    "series = pd.Series(extended_stats)\n",
    "series"
   ]
  },
  {
   "cell_type": "markdown",
   "id": "scheduled-freeware",
   "metadata": {
    "ExecuteTime": {
     "start_time": "2021-04-14T09:03:24.040Z"
    },
    "heading_collapsed": true
   },
   "source": [
    "## Visualize Stats"
   ]
  },
  {
   "cell_type": "markdown",
   "id": "demographic-poster",
   "metadata": {
    "ExecuteTime": {
     "start_time": "2021-04-14T09:03:30.840Z"
    },
    "hidden": true
   },
   "source": [
    "stats_columns = [\n",
    "    'avg_neighbor_degree', \n",
    "    'degree_centrality', \n",
    "    'clustering_coefficient', \n",
    "    'pagerank', \n",
    "    'eccentricity', \n",
    "    'closeness_centrality'\n",
    "]\n",
    "\n",
    "series_list = [pd.Series(extended_stats[column_name], name=column_name).sort_index()\n",
    "               for column_name in stats_columns]\n",
    "series_list.append(nodes_proj['geometry'].sort_index())\n",
    "\n",
    "gdf_stats = pd.concat(series_list, axis=1)\n",
    "\n",
    "gdf_stats = gpd.GeoDataFrame(\n",
    "    gdf_stats, geometry=\"geometry\", crs=nodes_proj.crs)\n",
    "gdf_stats.head(2)"
   ]
  },
  {
   "cell_type": "markdown",
   "id": "modular-crazy",
   "metadata": {
    "ExecuteTime": {
     "start_time": "2021-04-14T09:03:45.829Z"
    },
    "hidden": true
   },
   "source": [
    "nrows, ncols = 2, 3\n",
    "fig, axes = plt.subplots(nrows=nrows, ncols=ncols, figsize=(14, 8))\n",
    "\n",
    "for idx, column_name in enumerate(stats_columns):\n",
    "    j = idx % ncols\n",
    "    i = (idx - j) // ncols\n",
    "    \n",
    "    ax = axes[i][j]\n",
    "    gdf_stats.plot(ax=ax, column=column_name, legend=True, s=6, alpha=0.8)\n",
    "    ax.set_title(column_name)"
   ]
  },
  {
   "cell_type": "markdown",
   "id": "serious-accused",
   "metadata": {
    "ExecuteTime": {
     "start_time": "2021-04-14T09:03:56.597Z"
    },
    "hidden": true
   },
   "source": [
    "nrows, ncols = 2, 3\n",
    "fig, axes = plt.subplots(nrows=nrows, ncols=ncols, figsize=(14, 8))\n",
    "\n",
    "for idx, column_name in enumerate(stats_columns):\n",
    "    j = idx % ncols\n",
    "    i = (idx - j) // ncols\n",
    "    \n",
    "    ax = axes[i][j]\n",
    "    gdf_stats[column_name].plot(ax=ax, kind='hist', bins=100)\n",
    "    ax.set_title(column_name)"
   ]
  }
 ],
 "metadata": {
  "kernelspec": {
   "display_name": "Python 3",
   "language": "python",
   "name": "python3"
  },
  "language_info": {
   "codemirror_mode": {
    "name": "ipython",
    "version": 3
   },
   "file_extension": ".py",
   "mimetype": "text/x-python",
   "name": "python",
   "nbconvert_exporter": "python",
   "pygments_lexer": "ipython3",
   "version": "3.8.6"
  },
  "toc": {
   "base_numbering": 1,
   "nav_menu": {},
   "number_sections": true,
   "sideBar": true,
   "skip_h1_title": false,
   "title_cell": "Table of Contents",
   "title_sidebar": "Contents",
   "toc_cell": false,
   "toc_position": {},
   "toc_section_display": true,
   "toc_window_display": false
  }
 },
 "nbformat": 4,
 "nbformat_minor": 5
}
