{
 "cells": [
  {
   "cell_type": "code",
   "execution_count": 1,
   "id": "statutory-congo",
   "metadata": {
    "ExecuteTime": {
     "end_time": "2021-04-29T15:25:37.008164Z",
     "start_time": "2021-04-29T15:25:34.650932Z"
    }
   },
   "outputs": [
    {
     "name": "stdout",
     "output_type": "stream",
     "text": [
      "pandas 1.2.0\n",
      "geopandas 0.9.0\n"
     ]
    }
   ],
   "source": [
    "import requests\n",
    "import numpy as np\n",
    "import pandas as pd\n",
    "import matplotlib.pyplot as plt\n",
    "import osmnx as ox\n",
    "import geopandas as gpd\n",
    "import osmium\n",
    "from shapely.geometry import Polygon\n",
    "import json\n",
    "import fiona\n",
    "from shapely.geometry import shape \n",
    "\n",
    "\n",
    "for module in [pd, gpd]:\n",
    "    print(module.__name__, module.__version__)"
   ]
  },
  {
   "cell_type": "code",
   "execution_count": 4,
   "id": "protective-comedy",
   "metadata": {
    "ExecuteTime": {
     "end_time": "2021-04-29T15:26:44.070884Z",
     "start_time": "2021-04-29T15:26:44.064690Z"
    }
   },
   "outputs": [],
   "source": [
    "pd.set_option('display.max_columns', None)"
   ]
  },
  {
   "cell_type": "code",
   "execution_count": 3,
   "id": "limited-plastic",
   "metadata": {
    "ExecuteTime": {
     "end_time": "2021-04-27T20:49:54.920633Z",
     "start_time": "2021-04-27T20:49:16.134567Z"
    }
   },
   "outputs": [],
   "source": [
    "%%bash\n",
    "wget https://download.bbbike.org/osm/extract/planet_-9.192,40.715_-7.611,41.555.osm.pbf \\\n",
    "    --quiet -O map_data/Porto.osm.pbf"
   ]
  },
  {
   "cell_type": "code",
   "execution_count": 2,
   "id": "worse-nudist",
   "metadata": {
    "ExecuteTime": {
     "end_time": "2021-04-29T15:26:43.856666Z",
     "start_time": "2021-04-29T15:25:47.571941Z"
    }
   },
   "outputs": [],
   "source": [
    "%%bash\n",
    "wget https://download.bbbike.org/osm/extract/planet_-9.89,38.265_-8.309,39.136.osm.pbf \\\n",
    "    --quiet -O map_data/Lisbon.osm.pbf"
   ]
  },
  {
   "cell_type": "code",
   "execution_count": 3,
   "id": "younger-cargo",
   "metadata": {
    "ExecuteTime": {
     "end_time": "2021-04-29T15:26:44.060378Z",
     "start_time": "2021-04-29T15:26:43.861037Z"
    },
    "scrolled": true
   },
   "outputs": [
    {
     "name": "stdout",
     "output_type": "stream",
     "text": [
      "INFO: Open of `map_data/Lisbon.osm.pbf'\r\n",
      "      using driver `OSM' successful.\r\n",
      "1: points (Point)\r\n",
      "2: lines (Line String)\r\n",
      "3: multilinestrings (Multi Line String)\r\n",
      "4: multipolygons (Multi Polygon)\r\n",
      "5: other_relations (Geometry Collection)\r\n"
     ]
    }
   ],
   "source": [
    "!ogrinfo map_data/Lisbon.osm.pbf"
   ]
  },
  {
   "cell_type": "markdown",
   "id": "second-justice",
   "metadata": {
    "ExecuteTime": {
     "end_time": "2021-04-27T15:22:13.804235Z",
     "start_time": "2021-04-27T15:22:12.620623Z"
    }
   },
   "source": [
    "%%bash\n",
    "ogr2ogr -f \"GPKG\" \\\n",
    "    map_data/lisbon-amenities.gpkg \\\n",
    "    map_data/Lisbon.osm.pbf \\\n",
    "    -where \"amenity is not null\" \\\n",
    "    POINTS \\\n",
    "    -nln amenity"
   ]
  },
  {
   "cell_type": "markdown",
   "id": "cheap-dryer",
   "metadata": {},
   "source": [
    "gdf_lis_amenities = gpd.read_file(\"map_data/lisbon-amenities.gpkg\", driver='GPKG')\n",
    "gdf_lis_amenities"
   ]
  },
  {
   "cell_type": "code",
   "execution_count": 6,
   "id": "eastern-cornwall",
   "metadata": {
    "ExecuteTime": {
     "end_time": "2021-04-27T20:50:15.690288Z",
     "start_time": "2021-04-27T20:50:13.238398Z"
    }
   },
   "outputs": [
    {
     "name": "stdout",
     "output_type": "stream",
     "text": [
      "0...10...20...30...40...50...60...70...80...90...100 - done.\n"
     ]
    }
   ],
   "source": [
    "%%bash\n",
    "ogr2ogr -f \"GPKG\" \\\n",
    "    map_data/lisbon-all.gpkg \\\n",
    "    map_data/Lisbon.osm.pbf \\\n",
    "    POINTS \\\n",
    "    -nln all"
   ]
  },
  {
   "cell_type": "code",
   "execution_count": 7,
   "id": "suspended-sustainability",
   "metadata": {
    "ExecuteTime": {
     "end_time": "2021-04-27T20:50:24.194983Z",
     "start_time": "2021-04-27T20:50:15.693915Z"
    },
    "scrolled": false
   },
   "outputs": [
    {
     "data": {
      "text/html": [
       "<div>\n",
       "<style scoped>\n",
       "    .dataframe tbody tr th:only-of-type {\n",
       "        vertical-align: middle;\n",
       "    }\n",
       "\n",
       "    .dataframe tbody tr th {\n",
       "        vertical-align: top;\n",
       "    }\n",
       "\n",
       "    .dataframe thead th {\n",
       "        text-align: right;\n",
       "    }\n",
       "</style>\n",
       "<table border=\"1\" class=\"dataframe\">\n",
       "  <thead>\n",
       "    <tr style=\"text-align: right;\">\n",
       "      <th></th>\n",
       "      <th>osm_id</th>\n",
       "      <th>name</th>\n",
       "      <th>amenity</th>\n",
       "      <th>barrier</th>\n",
       "      <th>highway</th>\n",
       "      <th>ref</th>\n",
       "      <th>address</th>\n",
       "      <th>is_in</th>\n",
       "      <th>place</th>\n",
       "      <th>man_made</th>\n",
       "      <th>other_tags</th>\n",
       "      <th>geometry</th>\n",
       "    </tr>\n",
       "  </thead>\n",
       "  <tbody>\n",
       "    <tr>\n",
       "      <th>0</th>\n",
       "      <td>20629108</td>\n",
       "      <td>Lapa da Serra</td>\n",
       "      <td>None</td>\n",
       "      <td>None</td>\n",
       "      <td>None</td>\n",
       "      <td>None</td>\n",
       "      <td>None</td>\n",
       "      <td>None</td>\n",
       "      <td>neighbourhood</td>\n",
       "      <td>None</td>\n",
       "      <td>None</td>\n",
       "      <td>POINT (-9.39964 38.95586)</td>\n",
       "    </tr>\n",
       "    <tr>\n",
       "      <th>1</th>\n",
       "      <td>20629118</td>\n",
       "      <td>None</td>\n",
       "      <td>None</td>\n",
       "      <td>None</td>\n",
       "      <td>crossing</td>\n",
       "      <td>None</td>\n",
       "      <td>None</td>\n",
       "      <td>None</td>\n",
       "      <td>None</td>\n",
       "      <td>None</td>\n",
       "      <td>None</td>\n",
       "      <td>POINT (-9.41390 38.96183)</td>\n",
       "    </tr>\n",
       "    <tr>\n",
       "      <th>2</th>\n",
       "      <td>21272086</td>\n",
       "      <td>None</td>\n",
       "      <td>None</td>\n",
       "      <td>None</td>\n",
       "      <td>crossing</td>\n",
       "      <td>None</td>\n",
       "      <td>None</td>\n",
       "      <td>None</td>\n",
       "      <td>None</td>\n",
       "      <td>None</td>\n",
       "      <td>\"crossing\"=&gt;\"uncontrolled\",\"crossing_ref\"=&gt;\"ze...</td>\n",
       "      <td>POINT (-9.18832 38.74858)</td>\n",
       "    </tr>\n",
       "    <tr>\n",
       "      <th>3</th>\n",
       "      <td>21404046</td>\n",
       "      <td>None</td>\n",
       "      <td>None</td>\n",
       "      <td>None</td>\n",
       "      <td>bus_stop</td>\n",
       "      <td>None</td>\n",
       "      <td>None</td>\n",
       "      <td>None</td>\n",
       "      <td>None</td>\n",
       "      <td>None</td>\n",
       "      <td>None</td>\n",
       "      <td>POINT (-9.45296 38.75312)</td>\n",
       "    </tr>\n",
       "    <tr>\n",
       "      <th>4</th>\n",
       "      <td>21404049</td>\n",
       "      <td>None</td>\n",
       "      <td>None</td>\n",
       "      <td>None</td>\n",
       "      <td>bus_stop</td>\n",
       "      <td>None</td>\n",
       "      <td>None</td>\n",
       "      <td>None</td>\n",
       "      <td>None</td>\n",
       "      <td>None</td>\n",
       "      <td>None</td>\n",
       "      <td>POINT (-9.45655 38.75241)</td>\n",
       "    </tr>\n",
       "    <tr>\n",
       "      <th>...</th>\n",
       "      <td>...</td>\n",
       "      <td>...</td>\n",
       "      <td>...</td>\n",
       "      <td>...</td>\n",
       "      <td>...</td>\n",
       "      <td>...</td>\n",
       "      <td>...</td>\n",
       "      <td>...</td>\n",
       "      <td>...</td>\n",
       "      <td>...</td>\n",
       "      <td>...</td>\n",
       "      <td>...</td>\n",
       "    </tr>\n",
       "    <tr>\n",
       "      <th>99115</th>\n",
       "      <td>8641657617</td>\n",
       "      <td>None</td>\n",
       "      <td>None</td>\n",
       "      <td>None</td>\n",
       "      <td>None</td>\n",
       "      <td>None</td>\n",
       "      <td>None</td>\n",
       "      <td>None</td>\n",
       "      <td>None</td>\n",
       "      <td>windmill</td>\n",
       "      <td>None</td>\n",
       "      <td>POINT (-9.25846 38.83832)</td>\n",
       "    </tr>\n",
       "    <tr>\n",
       "      <th>99116</th>\n",
       "      <td>8641657618</td>\n",
       "      <td>None</td>\n",
       "      <td>None</td>\n",
       "      <td>None</td>\n",
       "      <td>None</td>\n",
       "      <td>None</td>\n",
       "      <td>None</td>\n",
       "      <td>None</td>\n",
       "      <td>None</td>\n",
       "      <td>windmill</td>\n",
       "      <td>None</td>\n",
       "      <td>POINT (-9.26068 38.83765)</td>\n",
       "    </tr>\n",
       "    <tr>\n",
       "      <th>99117</th>\n",
       "      <td>8641657619</td>\n",
       "      <td>None</td>\n",
       "      <td>None</td>\n",
       "      <td>None</td>\n",
       "      <td>None</td>\n",
       "      <td>None</td>\n",
       "      <td>None</td>\n",
       "      <td>None</td>\n",
       "      <td>None</td>\n",
       "      <td>windmill</td>\n",
       "      <td>None</td>\n",
       "      <td>POINT (-9.25440 38.84683)</td>\n",
       "    </tr>\n",
       "    <tr>\n",
       "      <th>99118</th>\n",
       "      <td>8641657620</td>\n",
       "      <td>None</td>\n",
       "      <td>None</td>\n",
       "      <td>None</td>\n",
       "      <td>None</td>\n",
       "      <td>None</td>\n",
       "      <td>None</td>\n",
       "      <td>None</td>\n",
       "      <td>None</td>\n",
       "      <td>windmill</td>\n",
       "      <td>None</td>\n",
       "      <td>POINT (-9.25396 38.84726)</td>\n",
       "    </tr>\n",
       "    <tr>\n",
       "      <th>99119</th>\n",
       "      <td>8641657621</td>\n",
       "      <td>None</td>\n",
       "      <td>None</td>\n",
       "      <td>None</td>\n",
       "      <td>None</td>\n",
       "      <td>None</td>\n",
       "      <td>None</td>\n",
       "      <td>None</td>\n",
       "      <td>None</td>\n",
       "      <td>windmill</td>\n",
       "      <td>None</td>\n",
       "      <td>POINT (-9.25328 38.84775)</td>\n",
       "    </tr>\n",
       "  </tbody>\n",
       "</table>\n",
       "<p>99120 rows × 12 columns</p>\n",
       "</div>"
      ],
      "text/plain": [
       "           osm_id           name amenity barrier   highway   ref address  \\\n",
       "0        20629108  Lapa da Serra    None    None      None  None    None   \n",
       "1        20629118           None    None    None  crossing  None    None   \n",
       "2        21272086           None    None    None  crossing  None    None   \n",
       "3        21404046           None    None    None  bus_stop  None    None   \n",
       "4        21404049           None    None    None  bus_stop  None    None   \n",
       "...           ...            ...     ...     ...       ...   ...     ...   \n",
       "99115  8641657617           None    None    None      None  None    None   \n",
       "99116  8641657618           None    None    None      None  None    None   \n",
       "99117  8641657619           None    None    None      None  None    None   \n",
       "99118  8641657620           None    None    None      None  None    None   \n",
       "99119  8641657621           None    None    None      None  None    None   \n",
       "\n",
       "      is_in          place  man_made  \\\n",
       "0      None  neighbourhood      None   \n",
       "1      None           None      None   \n",
       "2      None           None      None   \n",
       "3      None           None      None   \n",
       "4      None           None      None   \n",
       "...     ...            ...       ...   \n",
       "99115  None           None  windmill   \n",
       "99116  None           None  windmill   \n",
       "99117  None           None  windmill   \n",
       "99118  None           None  windmill   \n",
       "99119  None           None  windmill   \n",
       "\n",
       "                                              other_tags  \\\n",
       "0                                                   None   \n",
       "1                                                   None   \n",
       "2      \"crossing\"=>\"uncontrolled\",\"crossing_ref\"=>\"ze...   \n",
       "3                                                   None   \n",
       "4                                                   None   \n",
       "...                                                  ...   \n",
       "99115                                               None   \n",
       "99116                                               None   \n",
       "99117                                               None   \n",
       "99118                                               None   \n",
       "99119                                               None   \n",
       "\n",
       "                        geometry  \n",
       "0      POINT (-9.39964 38.95586)  \n",
       "1      POINT (-9.41390 38.96183)  \n",
       "2      POINT (-9.18832 38.74858)  \n",
       "3      POINT (-9.45296 38.75312)  \n",
       "4      POINT (-9.45655 38.75241)  \n",
       "...                          ...  \n",
       "99115  POINT (-9.25846 38.83832)  \n",
       "99116  POINT (-9.26068 38.83765)  \n",
       "99117  POINT (-9.25440 38.84683)  \n",
       "99118  POINT (-9.25396 38.84726)  \n",
       "99119  POINT (-9.25328 38.84775)  \n",
       "\n",
       "[99120 rows x 12 columns]"
      ]
     },
     "execution_count": 7,
     "metadata": {},
     "output_type": "execute_result"
    }
   ],
   "source": [
    "gdf_lis_pts = gpd.read_file(\"map_data/lisbon-all.gpkg\", drive = 'GPKG')\n",
    "gdf_lis_pts"
   ]
  },
  {
   "cell_type": "code",
   "execution_count": 8,
   "id": "exotic-roberts",
   "metadata": {
    "ExecuteTime": {
     "end_time": "2021-04-27T20:50:24.223249Z",
     "start_time": "2021-04-27T20:50:24.200157Z"
    }
   },
   "outputs": [
    {
     "data": {
      "text/plain": [
       "array([None, 'crossing', 'bus_stop', 'motorway_junction',\n",
       "       'traffic_signals', 'turning_circle', 'services', 'mini_roundabout',\n",
       "       'speed_camera', 'traffic_signals;crossing', 'give_way', 'elevator',\n",
       "       'stop', 'turning_loop', 'emergency_access_point', 'street_lamp',\n",
       "       'trailhead', 'toll_gantry', 'rest_area', 'traffic_mirror',\n",
       "       'platform', 'steps', 'raceway', 'footway', 'milestone', 'path',\n",
       "       'crossing;traffic_signals'], dtype=object)"
      ]
     },
     "execution_count": 8,
     "metadata": {},
     "output_type": "execute_result"
    }
   ],
   "source": [
    "gdf_lis_pts['highway'].unique()"
   ]
  },
  {
   "cell_type": "markdown",
   "id": "catholic-motion",
   "metadata": {},
   "source": [
    "## Other Geometries"
   ]
  },
  {
   "cell_type": "markdown",
   "id": "twelve-williams",
   "metadata": {
    "ExecuteTime": {
     "end_time": "2021-04-27T15:37:17.064140Z",
     "start_time": "2021-04-27T15:37:17.059649Z"
    }
   },
   "source": [
    "### Multipoints - Relations"
   ]
  },
  {
   "cell_type": "code",
   "execution_count": 9,
   "id": "neutral-valuation",
   "metadata": {
    "ExecuteTime": {
     "end_time": "2021-04-27T20:50:48.653493Z",
     "start_time": "2021-04-27T20:50:24.227612Z"
    }
   },
   "outputs": [
    {
     "name": "stdout",
     "output_type": "stream",
     "text": [
      "0...10...20...30...40...50...60...70...80...90...100 - done.\n"
     ]
    },
    {
     "name": "stderr",
     "output_type": "stream",
     "text": [
      "Warning 1: A geometry of type LINESTRING is inserted into layer multipoints of geometry type MULTIPOINT, which is not normally allowed by the GeoPackage specification, but the driver will however do it. To create a conformant GeoPackage, if using ogr2ogr, the -nlt option can be used to override the layer geometry type. This warning will no longer be emitted for this combination of layer and feature geometry type.\n",
      "Warning 1: A geometry of type MULTILINESTRING is inserted into layer multipoints of geometry type MULTIPOINT, which is not normally allowed by the GeoPackage specification, but the driver will however do it. To create a conformant GeoPackage, if using ogr2ogr, the -nlt option can be used to override the layer geometry type. This warning will no longer be emitted for this combination of layer and feature geometry type.\n",
      "Warning 1: A geometry of type MULTIPOLYGON is inserted into layer multipoints of geometry type MULTIPOINT, which is not normally allowed by the GeoPackage specification, but the driver will however do it. To create a conformant GeoPackage, if using ogr2ogr, the -nlt option can be used to override the layer geometry type. This warning will no longer be emitted for this combination of layer and feature geometry type.\n",
      "Warning 1: A geometry of type GEOMETRYCOLLECTION is inserted into layer multipoints of geometry type MULTIPOINT, which is not normally allowed by the GeoPackage specification, but the driver will however do it. To create a conformant GeoPackage, if using ogr2ogr, the -nlt option can be used to override the layer geometry type. This warning will no longer be emitted for this combination of layer and feature geometry type.\n"
     ]
    }
   ],
   "source": [
    "%%bash\n",
    "ogr2ogr -f \"GPKG\" \\\n",
    "    map_data/lisbon_multipoints.gpkg \\\n",
    "    map_data/Lisbon.osm.pbf \\\n",
    "    -nlt MULTIPOINTS \\\n",
    "    -nln multipoints"
   ]
  },
  {
   "cell_type": "code",
   "execution_count": 10,
   "id": "eligible-daily",
   "metadata": {
    "ExecuteTime": {
     "end_time": "2021-04-27T20:52:50.294340Z",
     "start_time": "2021-04-27T20:50:48.657634Z"
    }
   },
   "outputs": [],
   "source": [
    "#Read data\n",
    "layer_file = \"map_data/lisbon_multipoints.gpkg\"\n",
    "collection = list(fiona.open(layer_file,'r'))\n",
    "df1 = pd.DataFrame(collection)\n",
    "\n",
    "#Check Geometry\n",
    "def isvalid(geom):\n",
    "    try:\n",
    "        shape(geom)\n",
    "        return 1\n",
    "    except:\n",
    "        return 0\n",
    "    \n",
    "df1['isvalid'] = df1['geometry'].apply(lambda x: isvalid(x))\n",
    "df1 = df1[df1['isvalid'] == 1]\n",
    "collection = json.loads(df1.to_json(orient='records'))\n",
    "\n",
    "#Convert to geodataframe\n",
    "gdf_lis_mp = gpd.GeoDataFrame.from_features(collection)"
   ]
  },
  {
   "cell_type": "code",
   "execution_count": 11,
   "id": "molecular-hamburg",
   "metadata": {
    "ExecuteTime": {
     "end_time": "2021-04-27T20:52:51.459848Z",
     "start_time": "2021-04-27T20:52:50.333281Z"
    }
   },
   "outputs": [
    {
     "data": {
      "text/plain": [
       "array(['MultiPoint', 'LineString', 'MultiLineString', 'MultiPolygon',\n",
       "       'GeometryCollection'], dtype=object)"
      ]
     },
     "execution_count": 11,
     "metadata": {},
     "output_type": "execute_result"
    }
   ],
   "source": [
    "gdf_lis_mp.geometry.type.unique()"
   ]
  },
  {
   "cell_type": "markdown",
   "id": "further-hamilton",
   "metadata": {
    "ExecuteTime": {
     "end_time": "2021-04-27T15:37:27.222099Z",
     "start_time": "2021-04-27T15:37:27.218316Z"
    }
   },
   "source": [
    "### Polygons - Ways"
   ]
  },
  {
   "cell_type": "code",
   "execution_count": 5,
   "id": "optional-highway",
   "metadata": {
    "ExecuteTime": {
     "end_time": "2021-04-29T15:27:08.088949Z",
     "start_time": "2021-04-29T15:26:44.074772Z"
    }
   },
   "outputs": [
    {
     "name": "stdout",
     "output_type": "stream",
     "text": [
      "0...10...20...30...40...50...60...70...80...90...100 - done.\n"
     ]
    },
    {
     "name": "stderr",
     "output_type": "stream",
     "text": [
      "Warning 1: A geometry of type POINT is inserted into layer polygons of geometry type POLYGON, which is not normally allowed by the GeoPackage specification, but the driver will however do it. To create a conformant GeoPackage, if using ogr2ogr, the -nlt option can be used to override the layer geometry type. This warning will no longer be emitted for this combination of layer and feature geometry type.\n",
      "Warning 1: A geometry of type LINESTRING is inserted into layer polygons of geometry type POLYGON, which is not normally allowed by the GeoPackage specification, but the driver will however do it. To create a conformant GeoPackage, if using ogr2ogr, the -nlt option can be used to override the layer geometry type. This warning will no longer be emitted for this combination of layer and feature geometry type.\n",
      "Warning 1: A geometry of type MULTILINESTRING is inserted into layer polygons of geometry type POLYGON, which is not normally allowed by the GeoPackage specification, but the driver will however do it. To create a conformant GeoPackage, if using ogr2ogr, the -nlt option can be used to override the layer geometry type. This warning will no longer be emitted for this combination of layer and feature geometry type.\n"
     ]
    }
   ],
   "source": [
    "%%bash\n",
    "ogr2ogr -f \"GPKG\" \\\n",
    "    map_data/lisbon_polygons.gpkg \\\n",
    "    map_data/Lisbon.osm.pbf \\\n",
    "    -nlt POLYGONS \\\n",
    "    -nln polygons"
   ]
  },
  {
   "cell_type": "code",
   "execution_count": null,
   "id": "turned-learning",
   "metadata": {
    "ExecuteTime": {
     "start_time": "2021-04-29T15:28:00.505Z"
    }
   },
   "outputs": [],
   "source": [
    "#Read data\n",
    "layer_file = \"map_data/lisbon_polygons.gpkg\"\n",
    "collection = list(fiona.open(layer_file,'r'))\n",
    "df1 = pd.DataFrame(collection)\n",
    "\n",
    "\n",
    "#Check Geometry\n",
    "def isvalid(geom):\n",
    "    try:\n",
    "        shape(geom)\n",
    "        return 1\n",
    "    except:\n",
    "        return 0\n",
    "\n",
    "df1['isvalid'] = df1['geometry'].apply(lambda x: isvalid(x))\n",
    "df1 = df1[df1['isvalid'] == 1]\n",
    "collection = json.loads(df1.to_json(orient='records'))\n",
    "\n",
    "#Convert to geodataframe\n",
    "gdf_lis_poly = gpd.GeoDataFrame.from_features(collection)"
   ]
  },
  {
   "cell_type": "markdown",
   "id": "latin-texture",
   "metadata": {
    "ExecuteTime": {
     "end_time": "2021-04-27T16:30:55.127901Z",
     "start_time": "2021-04-27T16:30:55.124527Z"
    }
   },
   "source": [
    "### All geometries"
   ]
  },
  {
   "cell_type": "code",
   "execution_count": 21,
   "id": "presidential-builder",
   "metadata": {
    "ExecuteTime": {
     "end_time": "2021-04-27T21:26:22.330204Z",
     "start_time": "2021-04-27T21:26:22.246696Z"
    }
   },
   "outputs": [
    {
     "ename": "OSError",
     "evalue": "[Errno 12] Cannot allocate memory",
     "output_type": "error",
     "traceback": [
      "\u001b[0;31m---------------------------------------------------------------------------\u001b[0m",
      "\u001b[0;31mOSError\u001b[0m                                   Traceback (most recent call last)",
      "\u001b[0;32m<ipython-input-21-b5e8926498e4>\u001b[0m in \u001b[0;36m<module>\u001b[0;34m\u001b[0m\n\u001b[0;32m----> 1\u001b[0;31m \u001b[0mget_ipython\u001b[0m\u001b[0;34m(\u001b[0m\u001b[0;34m)\u001b[0m\u001b[0;34m.\u001b[0m\u001b[0mrun_cell_magic\u001b[0m\u001b[0;34m(\u001b[0m\u001b[0;34m'bash'\u001b[0m\u001b[0;34m,\u001b[0m \u001b[0;34m''\u001b[0m\u001b[0;34m,\u001b[0m \u001b[0;34m'ogr2ogr -f \"GPKG\" \\\\\\n    map_data/lisbon_geometry.gpkg \\\\\\n    map_data/Lisbon.osm.pbf \\\\\\n    -nlt GEOMETRY \\\\\\n    -nln geometry\\n'\u001b[0m\u001b[0;34m)\u001b[0m\u001b[0;34m\u001b[0m\u001b[0;34m\u001b[0m\u001b[0m\n\u001b[0m",
      "\u001b[0;32m~/.pyenv/versions/3.8.6/envs/lewagon/lib/python3.8/site-packages/IPython/core/interactiveshell.py\u001b[0m in \u001b[0;36mrun_cell_magic\u001b[0;34m(self, magic_name, line, cell)\u001b[0m\n\u001b[1;32m   2380\u001b[0m             \u001b[0;32mwith\u001b[0m \u001b[0mself\u001b[0m\u001b[0;34m.\u001b[0m\u001b[0mbuiltin_trap\u001b[0m\u001b[0;34m:\u001b[0m\u001b[0;34m\u001b[0m\u001b[0;34m\u001b[0m\u001b[0m\n\u001b[1;32m   2381\u001b[0m                 \u001b[0margs\u001b[0m \u001b[0;34m=\u001b[0m \u001b[0;34m(\u001b[0m\u001b[0mmagic_arg_s\u001b[0m\u001b[0;34m,\u001b[0m \u001b[0mcell\u001b[0m\u001b[0;34m)\u001b[0m\u001b[0;34m\u001b[0m\u001b[0;34m\u001b[0m\u001b[0m\n\u001b[0;32m-> 2382\u001b[0;31m                 \u001b[0mresult\u001b[0m \u001b[0;34m=\u001b[0m \u001b[0mfn\u001b[0m\u001b[0;34m(\u001b[0m\u001b[0;34m*\u001b[0m\u001b[0margs\u001b[0m\u001b[0;34m,\u001b[0m \u001b[0;34m**\u001b[0m\u001b[0mkwargs\u001b[0m\u001b[0;34m)\u001b[0m\u001b[0;34m\u001b[0m\u001b[0;34m\u001b[0m\u001b[0m\n\u001b[0m\u001b[1;32m   2383\u001b[0m             \u001b[0;32mreturn\u001b[0m \u001b[0mresult\u001b[0m\u001b[0;34m\u001b[0m\u001b[0;34m\u001b[0m\u001b[0m\n\u001b[1;32m   2384\u001b[0m \u001b[0;34m\u001b[0m\u001b[0m\n",
      "\u001b[0;32m~/.pyenv/versions/3.8.6/envs/lewagon/lib/python3.8/site-packages/IPython/core/magics/script.py\u001b[0m in \u001b[0;36mnamed_script_magic\u001b[0;34m(line, cell)\u001b[0m\n\u001b[1;32m    140\u001b[0m             \u001b[0;32melse\u001b[0m\u001b[0;34m:\u001b[0m\u001b[0;34m\u001b[0m\u001b[0;34m\u001b[0m\u001b[0m\n\u001b[1;32m    141\u001b[0m                 \u001b[0mline\u001b[0m \u001b[0;34m=\u001b[0m \u001b[0mscript\u001b[0m\u001b[0;34m\u001b[0m\u001b[0;34m\u001b[0m\u001b[0m\n\u001b[0;32m--> 142\u001b[0;31m             \u001b[0;32mreturn\u001b[0m \u001b[0mself\u001b[0m\u001b[0;34m.\u001b[0m\u001b[0mshebang\u001b[0m\u001b[0;34m(\u001b[0m\u001b[0mline\u001b[0m\u001b[0;34m,\u001b[0m \u001b[0mcell\u001b[0m\u001b[0;34m)\u001b[0m\u001b[0;34m\u001b[0m\u001b[0;34m\u001b[0m\u001b[0m\n\u001b[0m\u001b[1;32m    143\u001b[0m \u001b[0;34m\u001b[0m\u001b[0m\n\u001b[1;32m    144\u001b[0m         \u001b[0;31m# write a basic docstring:\u001b[0m\u001b[0;34m\u001b[0m\u001b[0;34m\u001b[0m\u001b[0;34m\u001b[0m\u001b[0m\n",
      "\u001b[0;32m<decorator-gen-103>\u001b[0m in \u001b[0;36mshebang\u001b[0;34m(self, line, cell)\u001b[0m\n",
      "\u001b[0;32m~/.pyenv/versions/3.8.6/envs/lewagon/lib/python3.8/site-packages/IPython/core/magic.py\u001b[0m in \u001b[0;36m<lambda>\u001b[0;34m(f, *a, **k)\u001b[0m\n\u001b[1;32m    185\u001b[0m     \u001b[0;31m# but it's overkill for just that one bit of state.\u001b[0m\u001b[0;34m\u001b[0m\u001b[0;34m\u001b[0m\u001b[0;34m\u001b[0m\u001b[0m\n\u001b[1;32m    186\u001b[0m     \u001b[0;32mdef\u001b[0m \u001b[0mmagic_deco\u001b[0m\u001b[0;34m(\u001b[0m\u001b[0marg\u001b[0m\u001b[0;34m)\u001b[0m\u001b[0;34m:\u001b[0m\u001b[0;34m\u001b[0m\u001b[0;34m\u001b[0m\u001b[0m\n\u001b[0;32m--> 187\u001b[0;31m         \u001b[0mcall\u001b[0m \u001b[0;34m=\u001b[0m \u001b[0;32mlambda\u001b[0m \u001b[0mf\u001b[0m\u001b[0;34m,\u001b[0m \u001b[0;34m*\u001b[0m\u001b[0ma\u001b[0m\u001b[0;34m,\u001b[0m \u001b[0;34m**\u001b[0m\u001b[0mk\u001b[0m\u001b[0;34m:\u001b[0m \u001b[0mf\u001b[0m\u001b[0;34m(\u001b[0m\u001b[0;34m*\u001b[0m\u001b[0ma\u001b[0m\u001b[0;34m,\u001b[0m \u001b[0;34m**\u001b[0m\u001b[0mk\u001b[0m\u001b[0;34m)\u001b[0m\u001b[0;34m\u001b[0m\u001b[0;34m\u001b[0m\u001b[0m\n\u001b[0m\u001b[1;32m    188\u001b[0m \u001b[0;34m\u001b[0m\u001b[0m\n\u001b[1;32m    189\u001b[0m         \u001b[0;32mif\u001b[0m \u001b[0mcallable\u001b[0m\u001b[0;34m(\u001b[0m\u001b[0marg\u001b[0m\u001b[0;34m)\u001b[0m\u001b[0;34m:\u001b[0m\u001b[0;34m\u001b[0m\u001b[0;34m\u001b[0m\u001b[0m\n",
      "\u001b[0;32m~/.pyenv/versions/3.8.6/envs/lewagon/lib/python3.8/site-packages/IPython/core/magics/script.py\u001b[0m in \u001b[0;36mshebang\u001b[0;34m(self, line, cell)\u001b[0m\n\u001b[1;32m    180\u001b[0m \u001b[0;34m\u001b[0m\u001b[0m\n\u001b[1;32m    181\u001b[0m         \u001b[0;32mtry\u001b[0m\u001b[0;34m:\u001b[0m\u001b[0;34m\u001b[0m\u001b[0;34m\u001b[0m\u001b[0m\n\u001b[0;32m--> 182\u001b[0;31m             \u001b[0mp\u001b[0m \u001b[0;34m=\u001b[0m \u001b[0mPopen\u001b[0m\u001b[0;34m(\u001b[0m\u001b[0mcmd\u001b[0m\u001b[0;34m,\u001b[0m \u001b[0mstdout\u001b[0m\u001b[0;34m=\u001b[0m\u001b[0mPIPE\u001b[0m\u001b[0;34m,\u001b[0m \u001b[0mstderr\u001b[0m\u001b[0;34m=\u001b[0m\u001b[0mPIPE\u001b[0m\u001b[0;34m,\u001b[0m \u001b[0mstdin\u001b[0m\u001b[0;34m=\u001b[0m\u001b[0mPIPE\u001b[0m\u001b[0;34m)\u001b[0m\u001b[0;34m\u001b[0m\u001b[0;34m\u001b[0m\u001b[0m\n\u001b[0m\u001b[1;32m    183\u001b[0m         \u001b[0;32mexcept\u001b[0m \u001b[0mOSError\u001b[0m \u001b[0;32mas\u001b[0m \u001b[0me\u001b[0m\u001b[0;34m:\u001b[0m\u001b[0;34m\u001b[0m\u001b[0;34m\u001b[0m\u001b[0m\n\u001b[1;32m    184\u001b[0m             \u001b[0;32mif\u001b[0m \u001b[0me\u001b[0m\u001b[0;34m.\u001b[0m\u001b[0merrno\u001b[0m \u001b[0;34m==\u001b[0m \u001b[0merrno\u001b[0m\u001b[0;34m.\u001b[0m\u001b[0mENOENT\u001b[0m\u001b[0;34m:\u001b[0m\u001b[0;34m\u001b[0m\u001b[0;34m\u001b[0m\u001b[0m\n",
      "\u001b[0;32m~/.pyenv/versions/3.8.6/lib/python3.8/subprocess.py\u001b[0m in \u001b[0;36m__init__\u001b[0;34m(self, args, bufsize, executable, stdin, stdout, stderr, preexec_fn, close_fds, shell, cwd, env, universal_newlines, startupinfo, creationflags, restore_signals, start_new_session, pass_fds, encoding, errors, text)\u001b[0m\n\u001b[1;32m    852\u001b[0m                             encoding=encoding, errors=errors)\n\u001b[1;32m    853\u001b[0m \u001b[0;34m\u001b[0m\u001b[0m\n\u001b[0;32m--> 854\u001b[0;31m             self._execute_child(args, executable, preexec_fn, close_fds,\n\u001b[0m\u001b[1;32m    855\u001b[0m                                 \u001b[0mpass_fds\u001b[0m\u001b[0;34m,\u001b[0m \u001b[0mcwd\u001b[0m\u001b[0;34m,\u001b[0m \u001b[0menv\u001b[0m\u001b[0;34m,\u001b[0m\u001b[0;34m\u001b[0m\u001b[0;34m\u001b[0m\u001b[0m\n\u001b[1;32m    856\u001b[0m                                 \u001b[0mstartupinfo\u001b[0m\u001b[0;34m,\u001b[0m \u001b[0mcreationflags\u001b[0m\u001b[0;34m,\u001b[0m \u001b[0mshell\u001b[0m\u001b[0;34m,\u001b[0m\u001b[0;34m\u001b[0m\u001b[0;34m\u001b[0m\u001b[0m\n",
      "\u001b[0;32m~/.pyenv/versions/3.8.6/lib/python3.8/subprocess.py\u001b[0m in \u001b[0;36m_execute_child\u001b[0;34m(self, args, executable, preexec_fn, close_fds, pass_fds, cwd, env, startupinfo, creationflags, shell, p2cread, p2cwrite, c2pread, c2pwrite, errread, errwrite, restore_signals, start_new_session)\u001b[0m\n\u001b[1;32m   1635\u001b[0m                     \u001b[0mfds_to_keep\u001b[0m \u001b[0;34m=\u001b[0m \u001b[0mset\u001b[0m\u001b[0;34m(\u001b[0m\u001b[0mpass_fds\u001b[0m\u001b[0;34m)\u001b[0m\u001b[0;34m\u001b[0m\u001b[0;34m\u001b[0m\u001b[0m\n\u001b[1;32m   1636\u001b[0m                     \u001b[0mfds_to_keep\u001b[0m\u001b[0;34m.\u001b[0m\u001b[0madd\u001b[0m\u001b[0;34m(\u001b[0m\u001b[0merrpipe_write\u001b[0m\u001b[0;34m)\u001b[0m\u001b[0;34m\u001b[0m\u001b[0;34m\u001b[0m\u001b[0m\n\u001b[0;32m-> 1637\u001b[0;31m                     self.pid = _posixsubprocess.fork_exec(\n\u001b[0m\u001b[1;32m   1638\u001b[0m                             \u001b[0margs\u001b[0m\u001b[0;34m,\u001b[0m \u001b[0mexecutable_list\u001b[0m\u001b[0;34m,\u001b[0m\u001b[0;34m\u001b[0m\u001b[0;34m\u001b[0m\u001b[0m\n\u001b[1;32m   1639\u001b[0m                             \u001b[0mclose_fds\u001b[0m\u001b[0;34m,\u001b[0m \u001b[0mtuple\u001b[0m\u001b[0;34m(\u001b[0m\u001b[0msorted\u001b[0m\u001b[0;34m(\u001b[0m\u001b[0mmap\u001b[0m\u001b[0;34m(\u001b[0m\u001b[0mint\u001b[0m\u001b[0;34m,\u001b[0m \u001b[0mfds_to_keep\u001b[0m\u001b[0;34m)\u001b[0m\u001b[0;34m)\u001b[0m\u001b[0;34m)\u001b[0m\u001b[0;34m,\u001b[0m\u001b[0;34m\u001b[0m\u001b[0;34m\u001b[0m\u001b[0m\n",
      "\u001b[0;31mOSError\u001b[0m: [Errno 12] Cannot allocate memory"
     ]
    }
   ],
   "source": [
    "%%bash\n",
    "ogr2ogr -f \"GPKG\" \\\n",
    "    map_data/lisbon_geometry.gpkg \\\n",
    "    map_data/Lisbon.osm.pbf \\\n",
    "    -nlt GEOMETRY \\\n",
    "    -nln geometry"
   ]
  },
  {
   "cell_type": "code",
   "execution_count": null,
   "id": "associate-seattle",
   "metadata": {
    "ExecuteTime": {
     "end_time": "2021-04-27T21:03:43.448592Z",
     "start_time": "2021-04-27T20:49:12.241Z"
    }
   },
   "outputs": [],
   "source": [
    "#Read data\n",
    "layer_file = \"map_data/lisbon_geometry.gpkg\"\n",
    "collection = list(fiona.open(layer_file,'r'))\n",
    "df1 = pd.DataFrame(collection)\n",
    "\n",
    "df1['isvalid'] = df1['geometry'].apply(lambda x: isvalid(x))\n",
    "df1 = df1[df1['isvalid'] == 1]\n",
    "collection = json.loads(df1.to_json(orient='records'))\n",
    "\n",
    "#Convert to geodataframe\n",
    "gdf_lis_geo = gpd.GeoDataFrame.from_features(collection)"
   ]
  },
  {
   "cell_type": "code",
   "execution_count": null,
   "id": "annoying-hours",
   "metadata": {
    "ExecuteTime": {
     "end_time": "2021-04-27T21:03:43.459346Z",
     "start_time": "2021-04-27T20:49:12.244Z"
    }
   },
   "outputs": [],
   "source": [
    "gdf_lis_geo"
   ]
  },
  {
   "cell_type": "code",
   "execution_count": null,
   "id": "extended-vegetation",
   "metadata": {
    "ExecuteTime": {
     "end_time": "2021-04-27T21:03:43.461164Z",
     "start_time": "2021-04-27T20:49:12.247Z"
    }
   },
   "outputs": [],
   "source": [
    "gdf_lis_geo.geometry.type.unique()"
   ]
  },
  {
   "cell_type": "code",
   "execution_count": null,
   "id": "capable-redhead",
   "metadata": {
    "ExecuteTime": {
     "end_time": "2021-04-27T21:03:43.462602Z",
     "start_time": "2021-04-27T20:49:12.250Z"
    }
   },
   "outputs": [],
   "source": [
    "#gdf_lis_geo.to_csv(r'map_data\\gdf_lis_geo.csv', index = False)"
   ]
  }
 ],
 "metadata": {
  "kernelspec": {
   "display_name": "Python 3",
   "language": "python",
   "name": "python3"
  },
  "language_info": {
   "codemirror_mode": {
    "name": "ipython",
    "version": 3
   },
   "file_extension": ".py",
   "mimetype": "text/x-python",
   "name": "python",
   "nbconvert_exporter": "python",
   "pygments_lexer": "ipython3",
   "version": "3.8.6"
  },
  "toc": {
   "base_numbering": 1,
   "nav_menu": {},
   "number_sections": true,
   "sideBar": true,
   "skip_h1_title": false,
   "title_cell": "Table of Contents",
   "title_sidebar": "Contents",
   "toc_cell": false,
   "toc_position": {},
   "toc_section_display": true,
   "toc_window_display": false
  }
 },
 "nbformat": 4,
 "nbformat_minor": 5
}
