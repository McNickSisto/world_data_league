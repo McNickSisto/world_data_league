{
 "cells": [
  {
   "cell_type": "code",
   "execution_count": 1,
   "id": "statutory-congo",
   "metadata": {
    "ExecuteTime": {
     "end_time": "2021-04-28T10:27:15.801857Z",
     "start_time": "2021-04-28T10:27:10.840472Z"
    }
   },
   "outputs": [
    {
     "name": "stdout",
     "output_type": "stream",
     "text": [
      "pandas 1.2.0\n",
      "geopandas 0.9.0\n"
     ]
    }
   ],
   "source": [
    "import requests\n",
    "import numpy as np\n",
    "import pandas as pd\n",
    "import matplotlib.pyplot as plt\n",
    "import osmnx as ox\n",
    "import geopandas as gpd\n",
    "import osmium\n",
    "from shapely.geometry import Polygon\n",
    "import json\n",
    "import fiona\n",
    "from shapely.geometry import shape \n",
    "\n",
    "\n",
    "for module in [pd, gpd]:\n",
    "    print(module.__name__, module.__version__)"
   ]
  },
  {
   "cell_type": "code",
   "execution_count": 2,
   "id": "protective-comedy",
   "metadata": {
    "ExecuteTime": {
     "end_time": "2021-04-28T10:27:15.811222Z",
     "start_time": "2021-04-28T10:27:15.805867Z"
    }
   },
   "outputs": [],
   "source": [
    "pd.set_option('display.max_columns', None)"
   ]
  },
  {
   "cell_type": "code",
   "execution_count": 3,
   "id": "limited-plastic",
   "metadata": {
    "ExecuteTime": {
     "end_time": "2021-04-28T10:27:45.572684Z",
     "start_time": "2021-04-28T10:27:15.818211Z"
    }
   },
   "outputs": [],
   "source": [
    "%%bash\n",
    "wget https://download.bbbike.org/osm/extract/planet_-9.192,40.715_-7.611,41.555.osm.pbf \\\n",
    "    --quiet -O map_data/Porto.osm.pbf"
   ]
  },
  {
   "cell_type": "code",
   "execution_count": 4,
   "id": "worse-nudist",
   "metadata": {
    "ExecuteTime": {
     "end_time": "2021-04-28T10:28:11.638874Z",
     "start_time": "2021-04-28T10:27:45.576588Z"
    }
   },
   "outputs": [],
   "source": [
    "%%bash\n",
    "wget https://download.bbbike.org/osm/extract/planet_-9.89,38.265_-8.309,39.136.osm.pbf \\\n",
    "    --quiet -O map_data/Lisbon.osm.pbf"
   ]
  },
  {
   "cell_type": "code",
   "execution_count": 5,
   "id": "younger-cargo",
   "metadata": {
    "ExecuteTime": {
     "end_time": "2021-04-28T10:28:12.691897Z",
     "start_time": "2021-04-28T10:28:11.641640Z"
    },
    "scrolled": true
   },
   "outputs": [
    {
     "name": "stdout",
     "output_type": "stream",
     "text": [
      "INFO: Open of `map_data/Lisbon.osm.pbf'\r\n",
      "      using driver `OSM' successful.\r\n",
      "1: points (Point)\r\n",
      "2: lines (Line String)\r\n",
      "3: multilinestrings (Multi Line String)\r\n",
      "4: multipolygons (Multi Polygon)\r\n",
      "5: other_relations (Geometry Collection)\r\n"
     ]
    }
   ],
   "source": [
    "!ogrinfo map_data/Lisbon.osm.pbf"
   ]
  },
  {
   "cell_type": "code",
   "execution_count": 6,
   "id": "eastern-cornwall",
   "metadata": {
    "ExecuteTime": {
     "end_time": "2021-04-28T10:28:15.405596Z",
     "start_time": "2021-04-28T10:28:12.694923Z"
    }
   },
   "outputs": [
    {
     "name": "stdout",
     "output_type": "stream",
     "text": [
      "0...10...20...30...40...50...60...70...80...90...100 - done.\n"
     ]
    }
   ],
   "source": [
    "%%bash\n",
    "ogr2ogr -f \"GPKG\" \\\n",
    "    map_data/lisbon_points.gpkg \\\n",
    "    map_data/Lisbon.osm.pbf \\\n",
    "    POINTS \\\n",
    "    -nln all"
   ]
  },
  {
   "cell_type": "code",
   "execution_count": 7,
   "id": "suspended-sustainability",
   "metadata": {
    "ExecuteTime": {
     "end_time": "2021-04-28T10:28:22.752759Z",
     "start_time": "2021-04-28T10:28:15.410594Z"
    },
    "scrolled": false
   },
   "outputs": [
    {
     "data": {
      "text/html": [
       "<div>\n",
       "<style scoped>\n",
       "    .dataframe tbody tr th:only-of-type {\n",
       "        vertical-align: middle;\n",
       "    }\n",
       "\n",
       "    .dataframe tbody tr th {\n",
       "        vertical-align: top;\n",
       "    }\n",
       "\n",
       "    .dataframe thead th {\n",
       "        text-align: right;\n",
       "    }\n",
       "</style>\n",
       "<table border=\"1\" class=\"dataframe\">\n",
       "  <thead>\n",
       "    <tr style=\"text-align: right;\">\n",
       "      <th></th>\n",
       "      <th>osm_id</th>\n",
       "      <th>name</th>\n",
       "      <th>amenity</th>\n",
       "      <th>barrier</th>\n",
       "      <th>highway</th>\n",
       "      <th>ref</th>\n",
       "      <th>address</th>\n",
       "      <th>is_in</th>\n",
       "      <th>place</th>\n",
       "      <th>man_made</th>\n",
       "      <th>other_tags</th>\n",
       "      <th>geometry</th>\n",
       "    </tr>\n",
       "  </thead>\n",
       "  <tbody>\n",
       "    <tr>\n",
       "      <th>0</th>\n",
       "      <td>20629108</td>\n",
       "      <td>Lapa da Serra</td>\n",
       "      <td>None</td>\n",
       "      <td>None</td>\n",
       "      <td>None</td>\n",
       "      <td>None</td>\n",
       "      <td>None</td>\n",
       "      <td>None</td>\n",
       "      <td>neighbourhood</td>\n",
       "      <td>None</td>\n",
       "      <td>None</td>\n",
       "      <td>POINT (-9.39964 38.95586)</td>\n",
       "    </tr>\n",
       "    <tr>\n",
       "      <th>1</th>\n",
       "      <td>20629118</td>\n",
       "      <td>None</td>\n",
       "      <td>None</td>\n",
       "      <td>None</td>\n",
       "      <td>crossing</td>\n",
       "      <td>None</td>\n",
       "      <td>None</td>\n",
       "      <td>None</td>\n",
       "      <td>None</td>\n",
       "      <td>None</td>\n",
       "      <td>None</td>\n",
       "      <td>POINT (-9.41390 38.96183)</td>\n",
       "    </tr>\n",
       "    <tr>\n",
       "      <th>2</th>\n",
       "      <td>21272086</td>\n",
       "      <td>None</td>\n",
       "      <td>None</td>\n",
       "      <td>None</td>\n",
       "      <td>crossing</td>\n",
       "      <td>None</td>\n",
       "      <td>None</td>\n",
       "      <td>None</td>\n",
       "      <td>None</td>\n",
       "      <td>None</td>\n",
       "      <td>\"crossing\"=&gt;\"uncontrolled\",\"crossing_ref\"=&gt;\"ze...</td>\n",
       "      <td>POINT (-9.18832 38.74858)</td>\n",
       "    </tr>\n",
       "    <tr>\n",
       "      <th>3</th>\n",
       "      <td>21404046</td>\n",
       "      <td>None</td>\n",
       "      <td>None</td>\n",
       "      <td>None</td>\n",
       "      <td>bus_stop</td>\n",
       "      <td>None</td>\n",
       "      <td>None</td>\n",
       "      <td>None</td>\n",
       "      <td>None</td>\n",
       "      <td>None</td>\n",
       "      <td>None</td>\n",
       "      <td>POINT (-9.45296 38.75312)</td>\n",
       "    </tr>\n",
       "    <tr>\n",
       "      <th>4</th>\n",
       "      <td>21404049</td>\n",
       "      <td>None</td>\n",
       "      <td>None</td>\n",
       "      <td>None</td>\n",
       "      <td>bus_stop</td>\n",
       "      <td>None</td>\n",
       "      <td>None</td>\n",
       "      <td>None</td>\n",
       "      <td>None</td>\n",
       "      <td>None</td>\n",
       "      <td>None</td>\n",
       "      <td>POINT (-9.45655 38.75241)</td>\n",
       "    </tr>\n",
       "    <tr>\n",
       "      <th>...</th>\n",
       "      <td>...</td>\n",
       "      <td>...</td>\n",
       "      <td>...</td>\n",
       "      <td>...</td>\n",
       "      <td>...</td>\n",
       "      <td>...</td>\n",
       "      <td>...</td>\n",
       "      <td>...</td>\n",
       "      <td>...</td>\n",
       "      <td>...</td>\n",
       "      <td>...</td>\n",
       "      <td>...</td>\n",
       "    </tr>\n",
       "    <tr>\n",
       "      <th>99115</th>\n",
       "      <td>8641657617</td>\n",
       "      <td>None</td>\n",
       "      <td>None</td>\n",
       "      <td>None</td>\n",
       "      <td>None</td>\n",
       "      <td>None</td>\n",
       "      <td>None</td>\n",
       "      <td>None</td>\n",
       "      <td>None</td>\n",
       "      <td>windmill</td>\n",
       "      <td>None</td>\n",
       "      <td>POINT (-9.25846 38.83832)</td>\n",
       "    </tr>\n",
       "    <tr>\n",
       "      <th>99116</th>\n",
       "      <td>8641657618</td>\n",
       "      <td>None</td>\n",
       "      <td>None</td>\n",
       "      <td>None</td>\n",
       "      <td>None</td>\n",
       "      <td>None</td>\n",
       "      <td>None</td>\n",
       "      <td>None</td>\n",
       "      <td>None</td>\n",
       "      <td>windmill</td>\n",
       "      <td>None</td>\n",
       "      <td>POINT (-9.26068 38.83765)</td>\n",
       "    </tr>\n",
       "    <tr>\n",
       "      <th>99117</th>\n",
       "      <td>8641657619</td>\n",
       "      <td>None</td>\n",
       "      <td>None</td>\n",
       "      <td>None</td>\n",
       "      <td>None</td>\n",
       "      <td>None</td>\n",
       "      <td>None</td>\n",
       "      <td>None</td>\n",
       "      <td>None</td>\n",
       "      <td>windmill</td>\n",
       "      <td>None</td>\n",
       "      <td>POINT (-9.25440 38.84683)</td>\n",
       "    </tr>\n",
       "    <tr>\n",
       "      <th>99118</th>\n",
       "      <td>8641657620</td>\n",
       "      <td>None</td>\n",
       "      <td>None</td>\n",
       "      <td>None</td>\n",
       "      <td>None</td>\n",
       "      <td>None</td>\n",
       "      <td>None</td>\n",
       "      <td>None</td>\n",
       "      <td>None</td>\n",
       "      <td>windmill</td>\n",
       "      <td>None</td>\n",
       "      <td>POINT (-9.25396 38.84726)</td>\n",
       "    </tr>\n",
       "    <tr>\n",
       "      <th>99119</th>\n",
       "      <td>8641657621</td>\n",
       "      <td>None</td>\n",
       "      <td>None</td>\n",
       "      <td>None</td>\n",
       "      <td>None</td>\n",
       "      <td>None</td>\n",
       "      <td>None</td>\n",
       "      <td>None</td>\n",
       "      <td>None</td>\n",
       "      <td>windmill</td>\n",
       "      <td>None</td>\n",
       "      <td>POINT (-9.25328 38.84775)</td>\n",
       "    </tr>\n",
       "  </tbody>\n",
       "</table>\n",
       "<p>99120 rows × 12 columns</p>\n",
       "</div>"
      ],
      "text/plain": [
       "           osm_id           name amenity barrier   highway   ref address  \\\n",
       "0        20629108  Lapa da Serra    None    None      None  None    None   \n",
       "1        20629118           None    None    None  crossing  None    None   \n",
       "2        21272086           None    None    None  crossing  None    None   \n",
       "3        21404046           None    None    None  bus_stop  None    None   \n",
       "4        21404049           None    None    None  bus_stop  None    None   \n",
       "...           ...            ...     ...     ...       ...   ...     ...   \n",
       "99115  8641657617           None    None    None      None  None    None   \n",
       "99116  8641657618           None    None    None      None  None    None   \n",
       "99117  8641657619           None    None    None      None  None    None   \n",
       "99118  8641657620           None    None    None      None  None    None   \n",
       "99119  8641657621           None    None    None      None  None    None   \n",
       "\n",
       "      is_in          place  man_made  \\\n",
       "0      None  neighbourhood      None   \n",
       "1      None           None      None   \n",
       "2      None           None      None   \n",
       "3      None           None      None   \n",
       "4      None           None      None   \n",
       "...     ...            ...       ...   \n",
       "99115  None           None  windmill   \n",
       "99116  None           None  windmill   \n",
       "99117  None           None  windmill   \n",
       "99118  None           None  windmill   \n",
       "99119  None           None  windmill   \n",
       "\n",
       "                                              other_tags  \\\n",
       "0                                                   None   \n",
       "1                                                   None   \n",
       "2      \"crossing\"=>\"uncontrolled\",\"crossing_ref\"=>\"ze...   \n",
       "3                                                   None   \n",
       "4                                                   None   \n",
       "...                                                  ...   \n",
       "99115                                               None   \n",
       "99116                                               None   \n",
       "99117                                               None   \n",
       "99118                                               None   \n",
       "99119                                               None   \n",
       "\n",
       "                        geometry  \n",
       "0      POINT (-9.39964 38.95586)  \n",
       "1      POINT (-9.41390 38.96183)  \n",
       "2      POINT (-9.18832 38.74858)  \n",
       "3      POINT (-9.45296 38.75312)  \n",
       "4      POINT (-9.45655 38.75241)  \n",
       "...                          ...  \n",
       "99115  POINT (-9.25846 38.83832)  \n",
       "99116  POINT (-9.26068 38.83765)  \n",
       "99117  POINT (-9.25440 38.84683)  \n",
       "99118  POINT (-9.25396 38.84726)  \n",
       "99119  POINT (-9.25328 38.84775)  \n",
       "\n",
       "[99120 rows x 12 columns]"
      ]
     },
     "execution_count": 7,
     "metadata": {},
     "output_type": "execute_result"
    }
   ],
   "source": [
    "gdf_lis_pts = gpd.read_file(\"map_data/lisbon_points.gpkg\", drive = 'GPKG')\n",
    "gdf_lis_pts"
   ]
  },
  {
   "cell_type": "code",
   "execution_count": 8,
   "id": "exotic-roberts",
   "metadata": {
    "ExecuteTime": {
     "end_time": "2021-04-28T10:28:22.772922Z",
     "start_time": "2021-04-28T10:28:22.757092Z"
    },
    "scrolled": true
   },
   "outputs": [
    {
     "data": {
      "text/plain": [
       "array([None, 'crossing', 'bus_stop', 'motorway_junction',\n",
       "       'traffic_signals', 'turning_circle', 'services', 'mini_roundabout',\n",
       "       'speed_camera', 'traffic_signals;crossing', 'give_way', 'elevator',\n",
       "       'stop', 'turning_loop', 'emergency_access_point', 'street_lamp',\n",
       "       'trailhead', 'toll_gantry', 'rest_area', 'traffic_mirror',\n",
       "       'platform', 'steps', 'raceway', 'footway', 'milestone', 'path',\n",
       "       'crossing;traffic_signals'], dtype=object)"
      ]
     },
     "execution_count": 8,
     "metadata": {},
     "output_type": "execute_result"
    }
   ],
   "source": [
    "gdf_lis_pts['highway'].unique()"
   ]
  },
  {
   "cell_type": "code",
   "execution_count": 19,
   "id": "twenty-baghdad",
   "metadata": {
    "ExecuteTime": {
     "end_time": "2021-04-28T16:57:57.855502Z",
     "start_time": "2021-04-28T16:57:57.796166Z"
    }
   },
   "outputs": [
    {
     "data": {
      "text/plain": [
       "crossing                    14074\n",
       "bus_stop                     4324\n",
       "traffic_signals              2194\n",
       "street_lamp                  1294\n",
       "turning_circle               1253\n",
       "give_way                      550\n",
       "motorway_junction             337\n",
       "stop                          290\n",
       "mini_roundabout               128\n",
       "speed_camera                   47\n",
       "elevator                       44\n",
       "turning_loop                   17\n",
       "milestone                      14\n",
       "traffic_signals;crossing       13\n",
       "traffic_mirror                 11\n",
       "services                        6\n",
       "trailhead                       6\n",
       "toll_gantry                     6\n",
       "rest_area                       5\n",
       "steps                           3\n",
       "emergency_access_point          2\n",
       "footway                         2\n",
       "crossing;traffic_signals        2\n",
       "raceway                         2\n",
       "path                            1\n",
       "platform                        1\n",
       "Name: highway, dtype: int64"
      ]
     },
     "execution_count": 19,
     "metadata": {},
     "output_type": "execute_result"
    }
   ],
   "source": [
    "gdf_lis_pts['highway'].value_counts()"
   ]
  },
  {
   "cell_type": "markdown",
   "id": "catholic-motion",
   "metadata": {},
   "source": [
    "## Other Geometries"
   ]
  },
  {
   "cell_type": "markdown",
   "id": "further-hamilton",
   "metadata": {
    "ExecuteTime": {
     "end_time": "2021-04-27T15:37:27.222099Z",
     "start_time": "2021-04-27T15:37:27.218316Z"
    }
   },
   "source": [
    "### Polygons - Ways"
   ]
  },
  {
   "cell_type": "code",
   "execution_count": 9,
   "id": "optional-highway",
   "metadata": {
    "ExecuteTime": {
     "end_time": "2021-04-28T10:28:45.233605Z",
     "start_time": "2021-04-28T10:28:22.775319Z"
    },
    "scrolled": true
   },
   "outputs": [
    {
     "name": "stdout",
     "output_type": "stream",
     "text": [
      "0...10...20...30...40...50...60...70...80...90...100 - done.\n"
     ]
    },
    {
     "name": "stderr",
     "output_type": "stream",
     "text": [
      "Warning 1: A geometry of type POINT is inserted into layer polygons of geometry type POLYGON, which is not normally allowed by the GeoPackage specification, but the driver will however do it. To create a conformant GeoPackage, if using ogr2ogr, the -nlt option can be used to override the layer geometry type. This warning will no longer be emitted for this combination of layer and feature geometry type.\n",
      "Warning 1: A geometry of type LINESTRING is inserted into layer polygons of geometry type POLYGON, which is not normally allowed by the GeoPackage specification, but the driver will however do it. To create a conformant GeoPackage, if using ogr2ogr, the -nlt option can be used to override the layer geometry type. This warning will no longer be emitted for this combination of layer and feature geometry type.\n",
      "Warning 1: A geometry of type MULTILINESTRING is inserted into layer polygons of geometry type POLYGON, which is not normally allowed by the GeoPackage specification, but the driver will however do it. To create a conformant GeoPackage, if using ogr2ogr, the -nlt option can be used to override the layer geometry type. This warning will no longer be emitted for this combination of layer and feature geometry type.\n"
     ]
    }
   ],
   "source": [
    "%%bash\n",
    "ogr2ogr -f \"GPKG\" \\\n",
    "    map_data/lisbon_polygons.gpkg \\\n",
    "    map_data/Lisbon.osm.pbf \\\n",
    "    -nlt POLYGONS \\\n",
    "    -nln polygons"
   ]
  },
  {
   "cell_type": "code",
   "execution_count": 13,
   "id": "supported-morocco",
   "metadata": {
    "ExecuteTime": {
     "end_time": "2021-04-28T10:40:29.953257Z",
     "start_time": "2021-04-28T10:40:29.948702Z"
    }
   },
   "outputs": [],
   "source": [
    "#Check Geometry\n",
    "def isvalid(geom):\n",
    "    try:\n",
    "        shape(geom)\n",
    "        return 1\n",
    "    except:\n",
    "        return 0"
   ]
  },
  {
   "cell_type": "code",
   "execution_count": 14,
   "id": "turned-learning",
   "metadata": {
    "ExecuteTime": {
     "end_time": "2021-04-28T10:45:33.600340Z",
     "start_time": "2021-04-28T10:40:30.819126Z"
    }
   },
   "outputs": [],
   "source": [
    "#Read data\n",
    "layer_file = \"map_data/lisbon_polygons.gpkg\"\n",
    "collection = list(fiona.open(layer_file,'r'))\n",
    "df1 = pd.DataFrame(collection)\n",
    "\n",
    "df1['isvalid'] = df1['geometry'].apply(lambda x: isvalid(x))\n",
    "df1 = df1[df1['isvalid'] == 1]\n",
    "collection = json.loads(df1.to_json(orient='records'))\n",
    "\n",
    "#Convert to geodataframe\n",
    "gdf_lis_poly = gpd.GeoDataFrame.from_features(collection)"
   ]
  },
  {
   "cell_type": "code",
   "execution_count": 17,
   "id": "prostate-understanding",
   "metadata": {
    "ExecuteTime": {
     "end_time": "2021-04-28T16:03:08.312742Z",
     "start_time": "2021-04-28T16:03:08.183033Z"
    }
   },
   "outputs": [
    {
     "data": {
      "text/plain": [
       "49"
      ]
     },
     "execution_count": 17,
     "metadata": {},
     "output_type": "execute_result"
    }
   ],
   "source": [
    "gdf_lis_poly['highway'].nunique()"
   ]
  }
 ],
 "metadata": {
  "kernelspec": {
   "display_name": "Python 3",
   "language": "python",
   "name": "python3"
  },
  "language_info": {
   "codemirror_mode": {
    "name": "ipython",
    "version": 3
   },
   "file_extension": ".py",
   "mimetype": "text/x-python",
   "name": "python",
   "nbconvert_exporter": "python",
   "pygments_lexer": "ipython3",
   "version": "3.8.6"
  },
  "toc": {
   "base_numbering": 1,
   "nav_menu": {},
   "number_sections": true,
   "sideBar": true,
   "skip_h1_title": false,
   "title_cell": "Table of Contents",
   "title_sidebar": "Contents",
   "toc_cell": false,
   "toc_position": {},
   "toc_section_display": true,
   "toc_window_display": false
  }
 },
 "nbformat": 4,
 "nbformat_minor": 5
}
