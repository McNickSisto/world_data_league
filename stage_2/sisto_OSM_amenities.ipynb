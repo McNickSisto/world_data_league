{
 "cells": [
  {
   "cell_type": "code",
   "execution_count": 1,
   "id": "statutory-congo",
   "metadata": {
    "ExecuteTime": {
     "end_time": "2021-04-27T16:33:44.442590Z",
     "start_time": "2021-04-27T16:33:37.938818Z"
    }
   },
   "outputs": [
    {
     "name": "stdout",
     "output_type": "stream",
     "text": [
      "pandas 1.2.0\n",
      "geopandas 0.9.0\n"
     ]
    }
   ],
   "source": [
    "import requests\n",
    "import numpy as np\n",
    "import pandas as pd\n",
    "import matplotlib.pyplot as plt\n",
    "import osmnx as ox\n",
    "import geopandas as gpd\n",
    "import osmium\n",
    "from shapely.geometry import Polygon\n",
    "import json\n",
    "import fiona\n",
    "from shapely.geometry import shape \n",
    "\n",
    "\n",
    "for module in [pd, gpd]:\n",
    "    print(module.__name__, module.__version__)"
   ]
  },
  {
   "cell_type": "code",
   "execution_count": 2,
   "id": "protective-comedy",
   "metadata": {
    "ExecuteTime": {
     "end_time": "2021-04-27T16:33:44.453997Z",
     "start_time": "2021-04-27T16:33:44.447791Z"
    }
   },
   "outputs": [],
   "source": [
    "pd.set_option('display.max_columns', None)"
   ]
  },
  {
   "cell_type": "code",
   "execution_count": 3,
   "id": "limited-plastic",
   "metadata": {
    "ExecuteTime": {
     "end_time": "2021-04-27T16:33:51.386539Z",
     "start_time": "2021-04-27T16:33:44.462134Z"
    }
   },
   "outputs": [],
   "source": [
    "%%bash\n",
    "wget https://download.bbbike.org/osm/extract/planet_-9.192,40.715_-7.611,41.555.osm.pbf \\\n",
    "    --quiet -O map_data/Porto.osm.pbf"
   ]
  },
  {
   "cell_type": "code",
   "execution_count": 4,
   "id": "worse-nudist",
   "metadata": {
    "ExecuteTime": {
     "end_time": "2021-04-27T16:33:58.445510Z",
     "start_time": "2021-04-27T16:33:51.390925Z"
    }
   },
   "outputs": [],
   "source": [
    "%%bash\n",
    "wget https://download.bbbike.org/osm/extract/planet_-9.89,38.265_-8.309,39.136.osm.pbf \\\n",
    "    --quiet -O map_data/Lisbon.osm.pbf"
   ]
  },
  {
   "cell_type": "code",
   "execution_count": 5,
   "id": "younger-cargo",
   "metadata": {
    "ExecuteTime": {
     "end_time": "2021-04-27T16:33:59.509434Z",
     "start_time": "2021-04-27T16:33:58.455191Z"
    },
    "scrolled": true
   },
   "outputs": [
    {
     "name": "stdout",
     "output_type": "stream",
     "text": [
      "INFO: Open of `map_data/Lisbon.osm.pbf'\r\n",
      "      using driver `OSM' successful.\r\n",
      "1: points (Point)\r\n",
      "2: lines (Line String)\r\n",
      "3: multilinestrings (Multi Line String)\r\n",
      "4: multipolygons (Multi Polygon)\r\n",
      "5: other_relations (Geometry Collection)\r\n"
     ]
    }
   ],
   "source": [
    "!ogrinfo map_data/Lisbon.osm.pbf"
   ]
  },
  {
   "cell_type": "markdown",
   "id": "second-justice",
   "metadata": {
    "ExecuteTime": {
     "end_time": "2021-04-27T15:22:13.804235Z",
     "start_time": "2021-04-27T15:22:12.620623Z"
    }
   },
   "source": [
    "%%bash\n",
    "ogr2ogr -f \"GPKG\" \\\n",
    "    map_data/lisbon-amenities.gpkg \\\n",
    "    map_data/Lisbon.osm.pbf \\\n",
    "    -where \"amenity is not null\" \\\n",
    "    POINTS \\\n",
    "    -nln amenity"
   ]
  },
  {
   "cell_type": "markdown",
   "id": "cheap-dryer",
   "metadata": {},
   "source": [
    "gdf_lis_amenities = gpd.read_file(\"map_data/lisbon-amenities.gpkg\", driver='GPKG')\n",
    "gdf_lis_amenities"
   ]
  },
  {
   "cell_type": "code",
   "execution_count": 6,
   "id": "eastern-cornwall",
   "metadata": {
    "ExecuteTime": {
     "end_time": "2021-04-27T16:34:03.508398Z",
     "start_time": "2021-04-27T16:33:59.513886Z"
    }
   },
   "outputs": [
    {
     "name": "stdout",
     "output_type": "stream",
     "text": [
      "0...10...20...30...40...50...60...70...80...90...100 - done.\n"
     ]
    }
   ],
   "source": [
    "%%bash\n",
    "ogr2ogr -f \"GPKG\" \\\n",
    "    map_data/lisbon-all.gpkg \\\n",
    "    map_data/Lisbon.osm.pbf \\\n",
    "    POINTS \\\n",
    "    -nln all"
   ]
  },
  {
   "cell_type": "code",
   "execution_count": 7,
   "id": "suspended-sustainability",
   "metadata": {
    "ExecuteTime": {
     "end_time": "2021-04-27T16:34:13.874382Z",
     "start_time": "2021-04-27T16:34:03.512786Z"
    },
    "scrolled": false
   },
   "outputs": [
    {
     "data": {
      "text/html": [
       "<div>\n",
       "<style scoped>\n",
       "    .dataframe tbody tr th:only-of-type {\n",
       "        vertical-align: middle;\n",
       "    }\n",
       "\n",
       "    .dataframe tbody tr th {\n",
       "        vertical-align: top;\n",
       "    }\n",
       "\n",
       "    .dataframe thead th {\n",
       "        text-align: right;\n",
       "    }\n",
       "</style>\n",
       "<table border=\"1\" class=\"dataframe\">\n",
       "  <thead>\n",
       "    <tr style=\"text-align: right;\">\n",
       "      <th></th>\n",
       "      <th>osm_id</th>\n",
       "      <th>name</th>\n",
       "      <th>amenity</th>\n",
       "      <th>barrier</th>\n",
       "      <th>highway</th>\n",
       "      <th>ref</th>\n",
       "      <th>address</th>\n",
       "      <th>is_in</th>\n",
       "      <th>place</th>\n",
       "      <th>man_made</th>\n",
       "      <th>other_tags</th>\n",
       "      <th>geometry</th>\n",
       "    </tr>\n",
       "  </thead>\n",
       "  <tbody>\n",
       "    <tr>\n",
       "      <th>0</th>\n",
       "      <td>20629108</td>\n",
       "      <td>Lapa da Serra</td>\n",
       "      <td>None</td>\n",
       "      <td>None</td>\n",
       "      <td>None</td>\n",
       "      <td>None</td>\n",
       "      <td>None</td>\n",
       "      <td>None</td>\n",
       "      <td>neighbourhood</td>\n",
       "      <td>None</td>\n",
       "      <td>None</td>\n",
       "      <td>POINT (-9.39964 38.95586)</td>\n",
       "    </tr>\n",
       "    <tr>\n",
       "      <th>1</th>\n",
       "      <td>20629118</td>\n",
       "      <td>None</td>\n",
       "      <td>None</td>\n",
       "      <td>None</td>\n",
       "      <td>crossing</td>\n",
       "      <td>None</td>\n",
       "      <td>None</td>\n",
       "      <td>None</td>\n",
       "      <td>None</td>\n",
       "      <td>None</td>\n",
       "      <td>None</td>\n",
       "      <td>POINT (-9.41390 38.96183)</td>\n",
       "    </tr>\n",
       "    <tr>\n",
       "      <th>2</th>\n",
       "      <td>21272086</td>\n",
       "      <td>None</td>\n",
       "      <td>None</td>\n",
       "      <td>None</td>\n",
       "      <td>crossing</td>\n",
       "      <td>None</td>\n",
       "      <td>None</td>\n",
       "      <td>None</td>\n",
       "      <td>None</td>\n",
       "      <td>None</td>\n",
       "      <td>\"crossing\"=&gt;\"uncontrolled\",\"crossing_ref\"=&gt;\"ze...</td>\n",
       "      <td>POINT (-9.18832 38.74858)</td>\n",
       "    </tr>\n",
       "    <tr>\n",
       "      <th>3</th>\n",
       "      <td>21404046</td>\n",
       "      <td>None</td>\n",
       "      <td>None</td>\n",
       "      <td>None</td>\n",
       "      <td>bus_stop</td>\n",
       "      <td>None</td>\n",
       "      <td>None</td>\n",
       "      <td>None</td>\n",
       "      <td>None</td>\n",
       "      <td>None</td>\n",
       "      <td>None</td>\n",
       "      <td>POINT (-9.45296 38.75312)</td>\n",
       "    </tr>\n",
       "    <tr>\n",
       "      <th>4</th>\n",
       "      <td>21404049</td>\n",
       "      <td>None</td>\n",
       "      <td>None</td>\n",
       "      <td>None</td>\n",
       "      <td>bus_stop</td>\n",
       "      <td>None</td>\n",
       "      <td>None</td>\n",
       "      <td>None</td>\n",
       "      <td>None</td>\n",
       "      <td>None</td>\n",
       "      <td>None</td>\n",
       "      <td>POINT (-9.45655 38.75241)</td>\n",
       "    </tr>\n",
       "    <tr>\n",
       "      <th>...</th>\n",
       "      <td>...</td>\n",
       "      <td>...</td>\n",
       "      <td>...</td>\n",
       "      <td>...</td>\n",
       "      <td>...</td>\n",
       "      <td>...</td>\n",
       "      <td>...</td>\n",
       "      <td>...</td>\n",
       "      <td>...</td>\n",
       "      <td>...</td>\n",
       "      <td>...</td>\n",
       "      <td>...</td>\n",
       "    </tr>\n",
       "    <tr>\n",
       "      <th>99115</th>\n",
       "      <td>8641657617</td>\n",
       "      <td>None</td>\n",
       "      <td>None</td>\n",
       "      <td>None</td>\n",
       "      <td>None</td>\n",
       "      <td>None</td>\n",
       "      <td>None</td>\n",
       "      <td>None</td>\n",
       "      <td>None</td>\n",
       "      <td>windmill</td>\n",
       "      <td>None</td>\n",
       "      <td>POINT (-9.25846 38.83832)</td>\n",
       "    </tr>\n",
       "    <tr>\n",
       "      <th>99116</th>\n",
       "      <td>8641657618</td>\n",
       "      <td>None</td>\n",
       "      <td>None</td>\n",
       "      <td>None</td>\n",
       "      <td>None</td>\n",
       "      <td>None</td>\n",
       "      <td>None</td>\n",
       "      <td>None</td>\n",
       "      <td>None</td>\n",
       "      <td>windmill</td>\n",
       "      <td>None</td>\n",
       "      <td>POINT (-9.26068 38.83765)</td>\n",
       "    </tr>\n",
       "    <tr>\n",
       "      <th>99117</th>\n",
       "      <td>8641657619</td>\n",
       "      <td>None</td>\n",
       "      <td>None</td>\n",
       "      <td>None</td>\n",
       "      <td>None</td>\n",
       "      <td>None</td>\n",
       "      <td>None</td>\n",
       "      <td>None</td>\n",
       "      <td>None</td>\n",
       "      <td>windmill</td>\n",
       "      <td>None</td>\n",
       "      <td>POINT (-9.25440 38.84683)</td>\n",
       "    </tr>\n",
       "    <tr>\n",
       "      <th>99118</th>\n",
       "      <td>8641657620</td>\n",
       "      <td>None</td>\n",
       "      <td>None</td>\n",
       "      <td>None</td>\n",
       "      <td>None</td>\n",
       "      <td>None</td>\n",
       "      <td>None</td>\n",
       "      <td>None</td>\n",
       "      <td>None</td>\n",
       "      <td>windmill</td>\n",
       "      <td>None</td>\n",
       "      <td>POINT (-9.25396 38.84726)</td>\n",
       "    </tr>\n",
       "    <tr>\n",
       "      <th>99119</th>\n",
       "      <td>8641657621</td>\n",
       "      <td>None</td>\n",
       "      <td>None</td>\n",
       "      <td>None</td>\n",
       "      <td>None</td>\n",
       "      <td>None</td>\n",
       "      <td>None</td>\n",
       "      <td>None</td>\n",
       "      <td>None</td>\n",
       "      <td>windmill</td>\n",
       "      <td>None</td>\n",
       "      <td>POINT (-9.25328 38.84775)</td>\n",
       "    </tr>\n",
       "  </tbody>\n",
       "</table>\n",
       "<p>99120 rows × 12 columns</p>\n",
       "</div>"
      ],
      "text/plain": [
       "           osm_id           name amenity barrier   highway   ref address  \\\n",
       "0        20629108  Lapa da Serra    None    None      None  None    None   \n",
       "1        20629118           None    None    None  crossing  None    None   \n",
       "2        21272086           None    None    None  crossing  None    None   \n",
       "3        21404046           None    None    None  bus_stop  None    None   \n",
       "4        21404049           None    None    None  bus_stop  None    None   \n",
       "...           ...            ...     ...     ...       ...   ...     ...   \n",
       "99115  8641657617           None    None    None      None  None    None   \n",
       "99116  8641657618           None    None    None      None  None    None   \n",
       "99117  8641657619           None    None    None      None  None    None   \n",
       "99118  8641657620           None    None    None      None  None    None   \n",
       "99119  8641657621           None    None    None      None  None    None   \n",
       "\n",
       "      is_in          place  man_made  \\\n",
       "0      None  neighbourhood      None   \n",
       "1      None           None      None   \n",
       "2      None           None      None   \n",
       "3      None           None      None   \n",
       "4      None           None      None   \n",
       "...     ...            ...       ...   \n",
       "99115  None           None  windmill   \n",
       "99116  None           None  windmill   \n",
       "99117  None           None  windmill   \n",
       "99118  None           None  windmill   \n",
       "99119  None           None  windmill   \n",
       "\n",
       "                                              other_tags  \\\n",
       "0                                                   None   \n",
       "1                                                   None   \n",
       "2      \"crossing\"=>\"uncontrolled\",\"crossing_ref\"=>\"ze...   \n",
       "3                                                   None   \n",
       "4                                                   None   \n",
       "...                                                  ...   \n",
       "99115                                               None   \n",
       "99116                                               None   \n",
       "99117                                               None   \n",
       "99118                                               None   \n",
       "99119                                               None   \n",
       "\n",
       "                        geometry  \n",
       "0      POINT (-9.39964 38.95586)  \n",
       "1      POINT (-9.41390 38.96183)  \n",
       "2      POINT (-9.18832 38.74858)  \n",
       "3      POINT (-9.45296 38.75312)  \n",
       "4      POINT (-9.45655 38.75241)  \n",
       "...                          ...  \n",
       "99115  POINT (-9.25846 38.83832)  \n",
       "99116  POINT (-9.26068 38.83765)  \n",
       "99117  POINT (-9.25440 38.84683)  \n",
       "99118  POINT (-9.25396 38.84726)  \n",
       "99119  POINT (-9.25328 38.84775)  \n",
       "\n",
       "[99120 rows x 12 columns]"
      ]
     },
     "execution_count": 7,
     "metadata": {},
     "output_type": "execute_result"
    }
   ],
   "source": [
    "gdf_lis_pts = gpd.read_file(\"map_data/lisbon-all.gpkg\", drive = 'GPKG')\n",
    "gdf_lis_pts"
   ]
  },
  {
   "cell_type": "code",
   "execution_count": 8,
   "id": "exotic-roberts",
   "metadata": {
    "ExecuteTime": {
     "end_time": "2021-04-27T16:34:13.908544Z",
     "start_time": "2021-04-27T16:34:13.878668Z"
    }
   },
   "outputs": [
    {
     "data": {
      "text/plain": [
       "array([None, 'crossing', 'bus_stop', 'motorway_junction',\n",
       "       'traffic_signals', 'turning_circle', 'services', 'mini_roundabout',\n",
       "       'speed_camera', 'traffic_signals;crossing', 'give_way', 'elevator',\n",
       "       'stop', 'turning_loop', 'emergency_access_point', 'street_lamp',\n",
       "       'trailhead', 'toll_gantry', 'rest_area', 'traffic_mirror',\n",
       "       'platform', 'steps', 'raceway', 'footway', 'milestone', 'path',\n",
       "       'crossing;traffic_signals'], dtype=object)"
      ]
     },
     "execution_count": 8,
     "metadata": {},
     "output_type": "execute_result"
    }
   ],
   "source": [
    "gdf_lis_pts['highway'].unique()"
   ]
  },
  {
   "cell_type": "markdown",
   "id": "catholic-motion",
   "metadata": {},
   "source": [
    "## Other Geometries"
   ]
  },
  {
   "cell_type": "markdown",
   "id": "twelve-williams",
   "metadata": {
    "ExecuteTime": {
     "end_time": "2021-04-27T15:37:17.064140Z",
     "start_time": "2021-04-27T15:37:17.059649Z"
    }
   },
   "source": [
    "### Multipoints - Relations"
   ]
  },
  {
   "cell_type": "code",
   "execution_count": 9,
   "id": "neutral-valuation",
   "metadata": {
    "ExecuteTime": {
     "end_time": "2021-04-27T16:34:37.589502Z",
     "start_time": "2021-04-27T16:34:13.912330Z"
    }
   },
   "outputs": [
    {
     "name": "stdout",
     "output_type": "stream",
     "text": [
      "0...10...20...30...40...50...60...70...80...90...100 - done.\n"
     ]
    },
    {
     "name": "stderr",
     "output_type": "stream",
     "text": [
      "Warning 1: A geometry of type LINESTRING is inserted into layer multipoints of geometry type MULTIPOINT, which is not normally allowed by the GeoPackage specification, but the driver will however do it. To create a conformant GeoPackage, if using ogr2ogr, the -nlt option can be used to override the layer geometry type. This warning will no longer be emitted for this combination of layer and feature geometry type.\n",
      "Warning 1: A geometry of type MULTILINESTRING is inserted into layer multipoints of geometry type MULTIPOINT, which is not normally allowed by the GeoPackage specification, but the driver will however do it. To create a conformant GeoPackage, if using ogr2ogr, the -nlt option can be used to override the layer geometry type. This warning will no longer be emitted for this combination of layer and feature geometry type.\n",
      "Warning 1: A geometry of type MULTIPOLYGON is inserted into layer multipoints of geometry type MULTIPOINT, which is not normally allowed by the GeoPackage specification, but the driver will however do it. To create a conformant GeoPackage, if using ogr2ogr, the -nlt option can be used to override the layer geometry type. This warning will no longer be emitted for this combination of layer and feature geometry type.\n",
      "Warning 1: A geometry of type GEOMETRYCOLLECTION is inserted into layer multipoints of geometry type MULTIPOINT, which is not normally allowed by the GeoPackage specification, but the driver will however do it. To create a conformant GeoPackage, if using ogr2ogr, the -nlt option can be used to override the layer geometry type. This warning will no longer be emitted for this combination of layer and feature geometry type.\n"
     ]
    }
   ],
   "source": [
    "%%bash\n",
    "ogr2ogr -f \"GPKG\" \\\n",
    "    map_data/lisbon_multipoints.gpkg \\\n",
    "    map_data/Lisbon.osm.pbf \\\n",
    "    -nlt MULTIPOINTS \\\n",
    "    -nln multipoints"
   ]
  },
  {
   "cell_type": "code",
   "execution_count": 10,
   "id": "eligible-daily",
   "metadata": {
    "ExecuteTime": {
     "end_time": "2021-04-27T16:36:52.828363Z",
     "start_time": "2021-04-27T16:34:37.593152Z"
    }
   },
   "outputs": [],
   "source": [
    "#Read data\n",
    "layer_file = \"map_data/lisbon_multipoints.gpkg\"\n",
    "collection = list(fiona.open(layer_file,'r'))\n",
    "df1 = pd.DataFrame(collection)\n",
    "\n",
    "#Check Geometry\n",
    "def isvalid(geom):\n",
    "    try:\n",
    "        shape(geom)\n",
    "        return 1\n",
    "    except:\n",
    "        return 0\n",
    "    \n",
    "df1['isvalid'] = df1['geometry'].apply(lambda x: isvalid(x))\n",
    "df1 = df1[df1['isvalid'] == 1]\n",
    "collection = json.loads(df1.to_json(orient='records'))\n",
    "\n",
    "#Convert to geodataframe\n",
    "gdf_lis_mp = gpd.GeoDataFrame.from_features(collection)"
   ]
  },
  {
   "cell_type": "code",
   "execution_count": 11,
   "id": "molecular-hamburg",
   "metadata": {
    "ExecuteTime": {
     "end_time": "2021-04-27T16:36:54.235950Z",
     "start_time": "2021-04-27T16:36:52.854094Z"
    }
   },
   "outputs": [
    {
     "data": {
      "text/plain": [
       "array(['MultiPoint', 'LineString', 'MultiLineString', 'MultiPolygon',\n",
       "       'GeometryCollection'], dtype=object)"
      ]
     },
     "execution_count": 11,
     "metadata": {},
     "output_type": "execute_result"
    }
   ],
   "source": [
    "gdf_lis_mp.geometry.type.unique()"
   ]
  },
  {
   "cell_type": "markdown",
   "id": "further-hamilton",
   "metadata": {
    "ExecuteTime": {
     "end_time": "2021-04-27T15:37:27.222099Z",
     "start_time": "2021-04-27T15:37:27.218316Z"
    }
   },
   "source": [
    "### Polygons - Ways"
   ]
  },
  {
   "cell_type": "code",
   "execution_count": 12,
   "id": "optional-highway",
   "metadata": {
    "ExecuteTime": {
     "end_time": "2021-04-27T16:37:19.452834Z",
     "start_time": "2021-04-27T16:36:54.239899Z"
    }
   },
   "outputs": [
    {
     "name": "stdout",
     "output_type": "stream",
     "text": [
      "0...10...20...30...40...50...60...70...80...90...100 - done.\n"
     ]
    },
    {
     "name": "stderr",
     "output_type": "stream",
     "text": [
      "Warning 1: A geometry of type POINT is inserted into layer polygons of geometry type POLYGON, which is not normally allowed by the GeoPackage specification, but the driver will however do it. To create a conformant GeoPackage, if using ogr2ogr, the -nlt option can be used to override the layer geometry type. This warning will no longer be emitted for this combination of layer and feature geometry type.\n",
      "Warning 1: A geometry of type LINESTRING is inserted into layer polygons of geometry type POLYGON, which is not normally allowed by the GeoPackage specification, but the driver will however do it. To create a conformant GeoPackage, if using ogr2ogr, the -nlt option can be used to override the layer geometry type. This warning will no longer be emitted for this combination of layer and feature geometry type.\n",
      "Warning 1: A geometry of type MULTILINESTRING is inserted into layer polygons of geometry type POLYGON, which is not normally allowed by the GeoPackage specification, but the driver will however do it. To create a conformant GeoPackage, if using ogr2ogr, the -nlt option can be used to override the layer geometry type. This warning will no longer be emitted for this combination of layer and feature geometry type.\n"
     ]
    }
   ],
   "source": [
    "%%bash\n",
    "ogr2ogr -f \"GPKG\" \\\n",
    "    map_data/lisbon_polygons.gpkg \\\n",
    "    map_data/Lisbon.osm.pbf \\\n",
    "    -nlt POLYGONS \\\n",
    "    -nln polygons"
   ]
  },
  {
   "cell_type": "code",
   "execution_count": 14,
   "id": "turned-learning",
   "metadata": {
    "ExecuteTime": {
     "end_time": "2021-04-27T16:55:05.428364Z",
     "start_time": "2021-04-27T16:49:03.500406Z"
    }
   },
   "outputs": [],
   "source": [
    "#Read data\n",
    "layer_file = \"map_data/lisbon_polygons.gpkg\"\n",
    "collection = list(fiona.open(layer_file,'r'))\n",
    "df1 = pd.DataFrame(collection)\n",
    "\n",
    "df1['isvalid'] = df1['geometry'].apply(lambda x: isvalid(x))\n",
    "df1 = df1[df1['isvalid'] == 1]\n",
    "collection = json.loads(df1.to_json(orient='records'))\n",
    "\n",
    "#Convert to geodataframe\n",
    "gdf_lis_poly = gpd.GeoDataFrame.from_features(collection)"
   ]
  },
  {
   "cell_type": "markdown",
   "id": "latin-texture",
   "metadata": {
    "ExecuteTime": {
     "end_time": "2021-04-27T16:30:55.127901Z",
     "start_time": "2021-04-27T16:30:55.124527Z"
    }
   },
   "source": [
    "### All geometries"
   ]
  },
  {
   "cell_type": "code",
   "execution_count": 15,
   "id": "presidential-builder",
   "metadata": {
    "ExecuteTime": {
     "end_time": "2021-04-27T16:55:37.760539Z",
     "start_time": "2021-04-27T16:55:05.467667Z"
    }
   },
   "outputs": [
    {
     "name": "stdout",
     "output_type": "stream",
     "text": [
      "0...10...20...30...40...50...60...70...80...90...100 - done.\n"
     ]
    }
   ],
   "source": [
    "%%bash\n",
    "ogr2ogr -f \"GPKG\" \\\n",
    "    map_data/lisbon_geometry.gpkg \\\n",
    "    map_data/Lisbon.osm.pbf \\\n",
    "    -nlt GEOMETRY \\\n",
    "    -nln geometry"
   ]
  },
  {
   "cell_type": "code",
   "execution_count": 16,
   "id": "associate-seattle",
   "metadata": {
    "ExecuteTime": {
     "end_time": "2021-04-27T17:17:56.027131Z",
     "start_time": "2021-04-27T16:55:37.765956Z"
    }
   },
   "outputs": [],
   "source": [
    "#Read data\n",
    "layer_file = \"map_data/lisbon_geometry.gpkg\"\n",
    "collection = list(fiona.open(layer_file,'r'))\n",
    "df1 = pd.DataFrame(collection)\n",
    "\n",
    "df1['isvalid'] = df1['geometry'].apply(lambda x: isvalid(x))\n",
    "df1 = df1[df1['isvalid'] == 1]\n",
    "collection = json.loads(df1.to_json(orient='records'))\n",
    "\n",
    "#Convert to geodataframe\n",
    "gdf_lis_geo = gpd.GeoDataFrame.from_features(collection)"
   ]
  },
  {
   "cell_type": "code",
   "execution_count": 17,
   "id": "annoying-hours",
   "metadata": {
    "ExecuteTime": {
     "end_time": "2021-04-27T17:17:56.412691Z",
     "start_time": "2021-04-27T17:17:56.091285Z"
    }
   },
   "outputs": [
    {
     "data": {
      "text/html": [
       "<div>\n",
       "<style scoped>\n",
       "    .dataframe tbody tr th:only-of-type {\n",
       "        vertical-align: middle;\n",
       "    }\n",
       "\n",
       "    .dataframe tbody tr th {\n",
       "        vertical-align: top;\n",
       "    }\n",
       "\n",
       "    .dataframe thead th {\n",
       "        text-align: right;\n",
       "    }\n",
       "</style>\n",
       "<table border=\"1\" class=\"dataframe\">\n",
       "  <thead>\n",
       "    <tr style=\"text-align: right;\">\n",
       "      <th></th>\n",
       "      <th>geometry</th>\n",
       "      <th>osm_id</th>\n",
       "      <th>name</th>\n",
       "      <th>amenity</th>\n",
       "      <th>barrier</th>\n",
       "      <th>highway</th>\n",
       "      <th>ref</th>\n",
       "      <th>address</th>\n",
       "      <th>is_in</th>\n",
       "      <th>place</th>\n",
       "      <th>man_made</th>\n",
       "      <th>other_tags</th>\n",
       "      <th>waterway</th>\n",
       "      <th>aerialway</th>\n",
       "      <th>z_order</th>\n",
       "      <th>type</th>\n",
       "      <th>osm_way_id</th>\n",
       "      <th>aeroway</th>\n",
       "      <th>admin_level</th>\n",
       "      <th>boundary</th>\n",
       "      <th>building</th>\n",
       "      <th>craft</th>\n",
       "      <th>geological</th>\n",
       "      <th>historic</th>\n",
       "      <th>land_area</th>\n",
       "      <th>landuse</th>\n",
       "      <th>leisure</th>\n",
       "      <th>military</th>\n",
       "      <th>natural</th>\n",
       "      <th>office</th>\n",
       "      <th>shop</th>\n",
       "      <th>sport</th>\n",
       "      <th>tourism</th>\n",
       "    </tr>\n",
       "  </thead>\n",
       "  <tbody>\n",
       "    <tr>\n",
       "      <th>0</th>\n",
       "      <td>POINT (-9.39964 38.95586)</td>\n",
       "      <td>20629108</td>\n",
       "      <td>Lapa da Serra</td>\n",
       "      <td>None</td>\n",
       "      <td>None</td>\n",
       "      <td>None</td>\n",
       "      <td>None</td>\n",
       "      <td>None</td>\n",
       "      <td>None</td>\n",
       "      <td>neighbourhood</td>\n",
       "      <td>None</td>\n",
       "      <td>None</td>\n",
       "      <td>None</td>\n",
       "      <td>None</td>\n",
       "      <td>NaN</td>\n",
       "      <td>None</td>\n",
       "      <td>None</td>\n",
       "      <td>None</td>\n",
       "      <td>None</td>\n",
       "      <td>None</td>\n",
       "      <td>None</td>\n",
       "      <td>None</td>\n",
       "      <td>None</td>\n",
       "      <td>None</td>\n",
       "      <td>None</td>\n",
       "      <td>None</td>\n",
       "      <td>None</td>\n",
       "      <td>None</td>\n",
       "      <td>None</td>\n",
       "      <td>None</td>\n",
       "      <td>None</td>\n",
       "      <td>None</td>\n",
       "      <td>None</td>\n",
       "    </tr>\n",
       "    <tr>\n",
       "      <th>1</th>\n",
       "      <td>POINT (-9.41390 38.96183)</td>\n",
       "      <td>20629118</td>\n",
       "      <td>None</td>\n",
       "      <td>None</td>\n",
       "      <td>None</td>\n",
       "      <td>crossing</td>\n",
       "      <td>None</td>\n",
       "      <td>None</td>\n",
       "      <td>None</td>\n",
       "      <td>None</td>\n",
       "      <td>None</td>\n",
       "      <td>None</td>\n",
       "      <td>None</td>\n",
       "      <td>None</td>\n",
       "      <td>NaN</td>\n",
       "      <td>None</td>\n",
       "      <td>None</td>\n",
       "      <td>None</td>\n",
       "      <td>None</td>\n",
       "      <td>None</td>\n",
       "      <td>None</td>\n",
       "      <td>None</td>\n",
       "      <td>None</td>\n",
       "      <td>None</td>\n",
       "      <td>None</td>\n",
       "      <td>None</td>\n",
       "      <td>None</td>\n",
       "      <td>None</td>\n",
       "      <td>None</td>\n",
       "      <td>None</td>\n",
       "      <td>None</td>\n",
       "      <td>None</td>\n",
       "      <td>None</td>\n",
       "    </tr>\n",
       "    <tr>\n",
       "      <th>2</th>\n",
       "      <td>POINT (-9.18832 38.74858)</td>\n",
       "      <td>21272086</td>\n",
       "      <td>None</td>\n",
       "      <td>None</td>\n",
       "      <td>None</td>\n",
       "      <td>crossing</td>\n",
       "      <td>None</td>\n",
       "      <td>None</td>\n",
       "      <td>None</td>\n",
       "      <td>None</td>\n",
       "      <td>None</td>\n",
       "      <td>\"crossing\"=&gt;\"uncontrolled\",\"crossing_ref\"=&gt;\"ze...</td>\n",
       "      <td>None</td>\n",
       "      <td>None</td>\n",
       "      <td>NaN</td>\n",
       "      <td>None</td>\n",
       "      <td>None</td>\n",
       "      <td>None</td>\n",
       "      <td>None</td>\n",
       "      <td>None</td>\n",
       "      <td>None</td>\n",
       "      <td>None</td>\n",
       "      <td>None</td>\n",
       "      <td>None</td>\n",
       "      <td>None</td>\n",
       "      <td>None</td>\n",
       "      <td>None</td>\n",
       "      <td>None</td>\n",
       "      <td>None</td>\n",
       "      <td>None</td>\n",
       "      <td>None</td>\n",
       "      <td>None</td>\n",
       "      <td>None</td>\n",
       "    </tr>\n",
       "    <tr>\n",
       "      <th>3</th>\n",
       "      <td>POINT (-9.45296 38.75312)</td>\n",
       "      <td>21404046</td>\n",
       "      <td>None</td>\n",
       "      <td>None</td>\n",
       "      <td>None</td>\n",
       "      <td>bus_stop</td>\n",
       "      <td>None</td>\n",
       "      <td>None</td>\n",
       "      <td>None</td>\n",
       "      <td>None</td>\n",
       "      <td>None</td>\n",
       "      <td>None</td>\n",
       "      <td>None</td>\n",
       "      <td>None</td>\n",
       "      <td>NaN</td>\n",
       "      <td>None</td>\n",
       "      <td>None</td>\n",
       "      <td>None</td>\n",
       "      <td>None</td>\n",
       "      <td>None</td>\n",
       "      <td>None</td>\n",
       "      <td>None</td>\n",
       "      <td>None</td>\n",
       "      <td>None</td>\n",
       "      <td>None</td>\n",
       "      <td>None</td>\n",
       "      <td>None</td>\n",
       "      <td>None</td>\n",
       "      <td>None</td>\n",
       "      <td>None</td>\n",
       "      <td>None</td>\n",
       "      <td>None</td>\n",
       "      <td>None</td>\n",
       "    </tr>\n",
       "    <tr>\n",
       "      <th>4</th>\n",
       "      <td>POINT (-9.45655 38.75241)</td>\n",
       "      <td>21404049</td>\n",
       "      <td>None</td>\n",
       "      <td>None</td>\n",
       "      <td>None</td>\n",
       "      <td>bus_stop</td>\n",
       "      <td>None</td>\n",
       "      <td>None</td>\n",
       "      <td>None</td>\n",
       "      <td>None</td>\n",
       "      <td>None</td>\n",
       "      <td>None</td>\n",
       "      <td>None</td>\n",
       "      <td>None</td>\n",
       "      <td>NaN</td>\n",
       "      <td>None</td>\n",
       "      <td>None</td>\n",
       "      <td>None</td>\n",
       "      <td>None</td>\n",
       "      <td>None</td>\n",
       "      <td>None</td>\n",
       "      <td>None</td>\n",
       "      <td>None</td>\n",
       "      <td>None</td>\n",
       "      <td>None</td>\n",
       "      <td>None</td>\n",
       "      <td>None</td>\n",
       "      <td>None</td>\n",
       "      <td>None</td>\n",
       "      <td>None</td>\n",
       "      <td>None</td>\n",
       "      <td>None</td>\n",
       "      <td>None</td>\n",
       "    </tr>\n",
       "    <tr>\n",
       "      <th>...</th>\n",
       "      <td>...</td>\n",
       "      <td>...</td>\n",
       "      <td>...</td>\n",
       "      <td>...</td>\n",
       "      <td>...</td>\n",
       "      <td>...</td>\n",
       "      <td>...</td>\n",
       "      <td>...</td>\n",
       "      <td>...</td>\n",
       "      <td>...</td>\n",
       "      <td>...</td>\n",
       "      <td>...</td>\n",
       "      <td>...</td>\n",
       "      <td>...</td>\n",
       "      <td>...</td>\n",
       "      <td>...</td>\n",
       "      <td>...</td>\n",
       "      <td>...</td>\n",
       "      <td>...</td>\n",
       "      <td>...</td>\n",
       "      <td>...</td>\n",
       "      <td>...</td>\n",
       "      <td>...</td>\n",
       "      <td>...</td>\n",
       "      <td>...</td>\n",
       "      <td>...</td>\n",
       "      <td>...</td>\n",
       "      <td>...</td>\n",
       "      <td>...</td>\n",
       "      <td>...</td>\n",
       "      <td>...</td>\n",
       "      <td>...</td>\n",
       "      <td>...</td>\n",
       "    </tr>\n",
       "    <tr>\n",
       "      <th>719586</th>\n",
       "      <td>GEOMETRYCOLLECTION (LINESTRING (-9.30623 38.69...</td>\n",
       "      <td>12589376</td>\n",
       "      <td>None</td>\n",
       "      <td>None</td>\n",
       "      <td>None</td>\n",
       "      <td>None</td>\n",
       "      <td>None</td>\n",
       "      <td>None</td>\n",
       "      <td>None</td>\n",
       "      <td>None</td>\n",
       "      <td>None</td>\n",
       "      <td>\"restriction\"=&gt;\"no_straight_on\"</td>\n",
       "      <td>None</td>\n",
       "      <td>None</td>\n",
       "      <td>NaN</td>\n",
       "      <td>restriction</td>\n",
       "      <td>None</td>\n",
       "      <td>None</td>\n",
       "      <td>None</td>\n",
       "      <td>None</td>\n",
       "      <td>None</td>\n",
       "      <td>None</td>\n",
       "      <td>None</td>\n",
       "      <td>None</td>\n",
       "      <td>None</td>\n",
       "      <td>None</td>\n",
       "      <td>None</td>\n",
       "      <td>None</td>\n",
       "      <td>None</td>\n",
       "      <td>None</td>\n",
       "      <td>None</td>\n",
       "      <td>None</td>\n",
       "      <td>None</td>\n",
       "    </tr>\n",
       "    <tr>\n",
       "      <th>719587</th>\n",
       "      <td>GEOMETRYCOLLECTION (LINESTRING (-9.11842 38.76...</td>\n",
       "      <td>12589451</td>\n",
       "      <td>None</td>\n",
       "      <td>None</td>\n",
       "      <td>None</td>\n",
       "      <td>None</td>\n",
       "      <td>None</td>\n",
       "      <td>None</td>\n",
       "      <td>None</td>\n",
       "      <td>None</td>\n",
       "      <td>None</td>\n",
       "      <td>\"restriction\"=&gt;\"no_left_turn\"</td>\n",
       "      <td>None</td>\n",
       "      <td>None</td>\n",
       "      <td>NaN</td>\n",
       "      <td>restriction</td>\n",
       "      <td>None</td>\n",
       "      <td>None</td>\n",
       "      <td>None</td>\n",
       "      <td>None</td>\n",
       "      <td>None</td>\n",
       "      <td>None</td>\n",
       "      <td>None</td>\n",
       "      <td>None</td>\n",
       "      <td>None</td>\n",
       "      <td>None</td>\n",
       "      <td>None</td>\n",
       "      <td>None</td>\n",
       "      <td>None</td>\n",
       "      <td>None</td>\n",
       "      <td>None</td>\n",
       "      <td>None</td>\n",
       "      <td>None</td>\n",
       "    </tr>\n",
       "    <tr>\n",
       "      <th>719588</th>\n",
       "      <td>GEOMETRYCOLLECTION (LINESTRING (-9.11842 38.76...</td>\n",
       "      <td>12589452</td>\n",
       "      <td>None</td>\n",
       "      <td>None</td>\n",
       "      <td>None</td>\n",
       "      <td>None</td>\n",
       "      <td>None</td>\n",
       "      <td>None</td>\n",
       "      <td>None</td>\n",
       "      <td>None</td>\n",
       "      <td>None</td>\n",
       "      <td>\"restriction\"=&gt;\"no_right_turn\"</td>\n",
       "      <td>None</td>\n",
       "      <td>None</td>\n",
       "      <td>NaN</td>\n",
       "      <td>restriction</td>\n",
       "      <td>None</td>\n",
       "      <td>None</td>\n",
       "      <td>None</td>\n",
       "      <td>None</td>\n",
       "      <td>None</td>\n",
       "      <td>None</td>\n",
       "      <td>None</td>\n",
       "      <td>None</td>\n",
       "      <td>None</td>\n",
       "      <td>None</td>\n",
       "      <td>None</td>\n",
       "      <td>None</td>\n",
       "      <td>None</td>\n",
       "      <td>None</td>\n",
       "      <td>None</td>\n",
       "      <td>None</td>\n",
       "      <td>None</td>\n",
       "    </tr>\n",
       "    <tr>\n",
       "      <th>719589</th>\n",
       "      <td>GEOMETRYCOLLECTION (LINESTRING (-9.11888 38.76...</td>\n",
       "      <td>12589453</td>\n",
       "      <td>None</td>\n",
       "      <td>None</td>\n",
       "      <td>None</td>\n",
       "      <td>None</td>\n",
       "      <td>None</td>\n",
       "      <td>None</td>\n",
       "      <td>None</td>\n",
       "      <td>None</td>\n",
       "      <td>None</td>\n",
       "      <td>\"restriction\"=&gt;\"no_right_turn\"</td>\n",
       "      <td>None</td>\n",
       "      <td>None</td>\n",
       "      <td>NaN</td>\n",
       "      <td>restriction</td>\n",
       "      <td>None</td>\n",
       "      <td>None</td>\n",
       "      <td>None</td>\n",
       "      <td>None</td>\n",
       "      <td>None</td>\n",
       "      <td>None</td>\n",
       "      <td>None</td>\n",
       "      <td>None</td>\n",
       "      <td>None</td>\n",
       "      <td>None</td>\n",
       "      <td>None</td>\n",
       "      <td>None</td>\n",
       "      <td>None</td>\n",
       "      <td>None</td>\n",
       "      <td>None</td>\n",
       "      <td>None</td>\n",
       "      <td>None</td>\n",
       "    </tr>\n",
       "    <tr>\n",
       "      <th>719590</th>\n",
       "      <td>GEOMETRYCOLLECTION (LINESTRING (-9.11888 38.76...</td>\n",
       "      <td>12589454</td>\n",
       "      <td>None</td>\n",
       "      <td>None</td>\n",
       "      <td>None</td>\n",
       "      <td>None</td>\n",
       "      <td>None</td>\n",
       "      <td>None</td>\n",
       "      <td>None</td>\n",
       "      <td>None</td>\n",
       "      <td>None</td>\n",
       "      <td>\"restriction\"=&gt;\"no_left_turn\"</td>\n",
       "      <td>None</td>\n",
       "      <td>None</td>\n",
       "      <td>NaN</td>\n",
       "      <td>restriction</td>\n",
       "      <td>None</td>\n",
       "      <td>None</td>\n",
       "      <td>None</td>\n",
       "      <td>None</td>\n",
       "      <td>None</td>\n",
       "      <td>None</td>\n",
       "      <td>None</td>\n",
       "      <td>None</td>\n",
       "      <td>None</td>\n",
       "      <td>None</td>\n",
       "      <td>None</td>\n",
       "      <td>None</td>\n",
       "      <td>None</td>\n",
       "      <td>None</td>\n",
       "      <td>None</td>\n",
       "      <td>None</td>\n",
       "      <td>None</td>\n",
       "    </tr>\n",
       "  </tbody>\n",
       "</table>\n",
       "<p>719591 rows × 33 columns</p>\n",
       "</div>"
      ],
      "text/plain": [
       "                                                 geometry    osm_id  \\\n",
       "0                               POINT (-9.39964 38.95586)  20629108   \n",
       "1                               POINT (-9.41390 38.96183)  20629118   \n",
       "2                               POINT (-9.18832 38.74858)  21272086   \n",
       "3                               POINT (-9.45296 38.75312)  21404046   \n",
       "4                               POINT (-9.45655 38.75241)  21404049   \n",
       "...                                                   ...       ...   \n",
       "719586  GEOMETRYCOLLECTION (LINESTRING (-9.30623 38.69...  12589376   \n",
       "719587  GEOMETRYCOLLECTION (LINESTRING (-9.11842 38.76...  12589451   \n",
       "719588  GEOMETRYCOLLECTION (LINESTRING (-9.11842 38.76...  12589452   \n",
       "719589  GEOMETRYCOLLECTION (LINESTRING (-9.11888 38.76...  12589453   \n",
       "719590  GEOMETRYCOLLECTION (LINESTRING (-9.11888 38.76...  12589454   \n",
       "\n",
       "                 name amenity barrier   highway   ref address is_in  \\\n",
       "0       Lapa da Serra    None    None      None  None    None  None   \n",
       "1                None    None    None  crossing  None    None  None   \n",
       "2                None    None    None  crossing  None    None  None   \n",
       "3                None    None    None  bus_stop  None    None  None   \n",
       "4                None    None    None  bus_stop  None    None  None   \n",
       "...               ...     ...     ...       ...   ...     ...   ...   \n",
       "719586           None    None    None      None  None    None  None   \n",
       "719587           None    None    None      None  None    None  None   \n",
       "719588           None    None    None      None  None    None  None   \n",
       "719589           None    None    None      None  None    None  None   \n",
       "719590           None    None    None      None  None    None  None   \n",
       "\n",
       "                place man_made  \\\n",
       "0       neighbourhood     None   \n",
       "1                None     None   \n",
       "2                None     None   \n",
       "3                None     None   \n",
       "4                None     None   \n",
       "...               ...      ...   \n",
       "719586           None     None   \n",
       "719587           None     None   \n",
       "719588           None     None   \n",
       "719589           None     None   \n",
       "719590           None     None   \n",
       "\n",
       "                                               other_tags waterway aerialway  \\\n",
       "0                                                    None     None      None   \n",
       "1                                                    None     None      None   \n",
       "2       \"crossing\"=>\"uncontrolled\",\"crossing_ref\"=>\"ze...     None      None   \n",
       "3                                                    None     None      None   \n",
       "4                                                    None     None      None   \n",
       "...                                                   ...      ...       ...   \n",
       "719586                    \"restriction\"=>\"no_straight_on\"     None      None   \n",
       "719587                      \"restriction\"=>\"no_left_turn\"     None      None   \n",
       "719588                     \"restriction\"=>\"no_right_turn\"     None      None   \n",
       "719589                     \"restriction\"=>\"no_right_turn\"     None      None   \n",
       "719590                      \"restriction\"=>\"no_left_turn\"     None      None   \n",
       "\n",
       "        z_order         type osm_way_id aeroway admin_level boundary building  \\\n",
       "0           NaN         None       None    None        None     None     None   \n",
       "1           NaN         None       None    None        None     None     None   \n",
       "2           NaN         None       None    None        None     None     None   \n",
       "3           NaN         None       None    None        None     None     None   \n",
       "4           NaN         None       None    None        None     None     None   \n",
       "...         ...          ...        ...     ...         ...      ...      ...   \n",
       "719586      NaN  restriction       None    None        None     None     None   \n",
       "719587      NaN  restriction       None    None        None     None     None   \n",
       "719588      NaN  restriction       None    None        None     None     None   \n",
       "719589      NaN  restriction       None    None        None     None     None   \n",
       "719590      NaN  restriction       None    None        None     None     None   \n",
       "\n",
       "       craft geological historic land_area landuse leisure military natural  \\\n",
       "0       None       None     None      None    None    None     None    None   \n",
       "1       None       None     None      None    None    None     None    None   \n",
       "2       None       None     None      None    None    None     None    None   \n",
       "3       None       None     None      None    None    None     None    None   \n",
       "4       None       None     None      None    None    None     None    None   \n",
       "...      ...        ...      ...       ...     ...     ...      ...     ...   \n",
       "719586  None       None     None      None    None    None     None    None   \n",
       "719587  None       None     None      None    None    None     None    None   \n",
       "719588  None       None     None      None    None    None     None    None   \n",
       "719589  None       None     None      None    None    None     None    None   \n",
       "719590  None       None     None      None    None    None     None    None   \n",
       "\n",
       "       office  shop sport tourism  \n",
       "0        None  None  None    None  \n",
       "1        None  None  None    None  \n",
       "2        None  None  None    None  \n",
       "3        None  None  None    None  \n",
       "4        None  None  None    None  \n",
       "...       ...   ...   ...     ...  \n",
       "719586   None  None  None    None  \n",
       "719587   None  None  None    None  \n",
       "719588   None  None  None    None  \n",
       "719589   None  None  None    None  \n",
       "719590   None  None  None    None  \n",
       "\n",
       "[719591 rows x 33 columns]"
      ]
     },
     "execution_count": 17,
     "metadata": {},
     "output_type": "execute_result"
    }
   ],
   "source": [
    "gdf_lis_geo"
   ]
  },
  {
   "cell_type": "code",
   "execution_count": 18,
   "id": "extended-vegetation",
   "metadata": {
    "ExecuteTime": {
     "end_time": "2021-04-27T17:18:00.034524Z",
     "start_time": "2021-04-27T17:17:56.419106Z"
    }
   },
   "outputs": [
    {
     "data": {
      "text/plain": [
       "array(['Point', 'LineString', 'MultiLineString', 'MultiPolygon',\n",
       "       'GeometryCollection'], dtype=object)"
      ]
     },
     "execution_count": 18,
     "metadata": {},
     "output_type": "execute_result"
    }
   ],
   "source": [
    "gdf_lis_geo.geometry.type.unique()"
   ]
  },
  {
   "cell_type": "code",
   "execution_count": 19,
   "id": "capable-redhead",
   "metadata": {
    "ExecuteTime": {
     "end_time": "2021-04-27T17:18:58.894129Z",
     "start_time": "2021-04-27T17:18:02.567758Z"
    }
   },
   "outputs": [],
   "source": [
    "gdf_lis_geo.to_csv(r'map_data\\gdf_lis_geo.csv', index = False)\n"
   ]
  }
 ],
 "metadata": {
  "kernelspec": {
   "display_name": "Python 3",
   "language": "python",
   "name": "python3"
  },
  "language_info": {
   "codemirror_mode": {
    "name": "ipython",
    "version": 3
   },
   "file_extension": ".py",
   "mimetype": "text/x-python",
   "name": "python",
   "nbconvert_exporter": "python",
   "pygments_lexer": "ipython3",
   "version": "3.8.6"
  },
  "toc": {
   "base_numbering": 1,
   "nav_menu": {},
   "number_sections": true,
   "sideBar": true,
   "skip_h1_title": false,
   "title_cell": "Table of Contents",
   "title_sidebar": "Contents",
   "toc_cell": false,
   "toc_position": {},
   "toc_section_display": true,
   "toc_window_display": false
  }
 },
 "nbformat": 4,
 "nbformat_minor": 5
}
