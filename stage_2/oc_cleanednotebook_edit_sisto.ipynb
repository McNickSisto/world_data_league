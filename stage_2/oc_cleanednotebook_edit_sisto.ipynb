{
 "cells": [
  {
   "cell_type": "markdown",
   "id": "6cf5abfb",
   "metadata": {},
   "source": [
    "# IMPORTS"
   ]
  },
  {
   "cell_type": "code",
   "execution_count": 1,
   "id": "5ec42e7f",
   "metadata": {
    "ExecuteTime": {
     "end_time": "2021-04-29T17:10:59.085254Z",
     "start_time": "2021-04-29T17:10:57.417464Z"
    },
    "scrolled": true
   },
   "outputs": [],
   "source": [
    "%reload_ext autoreload\n",
    "%autoreload 2\n",
    "# GENERAL\n",
    "import pandas as pd\n",
    "import numpy as np\n",
    "import matplotlib.pyplot as plt\n",
    "import geopandas as gpd\n",
    "\n",
    "# LOADING DATA\n",
    "import requests\n",
    "import os\n",
    "import shutil\n",
    "from io import BytesIO\n",
    "import osmium\n",
    "import fiona\n",
    "import json\n",
    "\n",
    "\n",
    "# GEOSPATIAL DATA\n",
    "from shapely.geometry import Point, LineString, MultiPoint\n",
    "from shapely.geometry import shape \n",
    "\n",
    "\n",
    "# PLOTTING DATA\n",
    "from folium import Map, CircleMarker, Vega, Popup, Marker, PolyLine, Icon, Choropleth, LayerControl\n",
    "from folium.plugins import MarkerCluster, HeatMap, BeautifyIcon\n",
    "import shapely\n",
    "import matplotlib\n",
    "from ipywidgets import interact\n",
    "import seaborn as sns\n",
    "\n",
    "# STATS\n",
    "import math\n",
    "import stats\n",
    "\n",
    "# ML\n",
    "import scipy\n",
    "from sklearn.impute import SimpleImputer\n",
    "from sklearn.compose import ColumnTransformer, make_column_selector\n",
    "from sklearn.preprocessing import OneHotEncoder, StandardScaler\n",
    "\n"
   ]
  },
  {
   "cell_type": "markdown",
   "id": "79d2eeb9",
   "metadata": {},
   "source": [
    "# Preprocessing "
   ]
  },
  {
   "cell_type": "markdown",
   "id": "f2bec57a",
   "metadata": {},
   "source": [
    "## database n.1 : ROAD RISK ~ Shape file"
   ]
  },
  {
   "cell_type": "markdown",
   "id": "5e5ae86e",
   "metadata": {},
   "source": [
    "The first database we are cleaning is a shape file containing segments of road in Porto and Lisbon. \n",
    "In the next steps we are preparing the dataset for the future analysis."
   ]
  },
  {
   "cell_type": "markdown",
   "id": "eb02e542",
   "metadata": {},
   "source": [
    "### Extracting Data"
   ]
  },
  {
   "cell_type": "code",
   "execution_count": 2,
   "id": "ed7be32b",
   "metadata": {
    "ExecuteTime": {
     "end_time": "2021-04-29T15:36:49.150749Z",
     "start_time": "2021-04-29T15:36:49.121692Z"
    }
   },
   "outputs": [],
   "source": [
    "# link = 'https://wdl-data.fra1.digitaloceanspaces.com/pse/m_risk_prfile.zip'\n",
    "# s = requests.get(link).content"
   ]
  },
  {
   "cell_type": "code",
   "execution_count": 3,
   "id": "56861d13",
   "metadata": {
    "ExecuteTime": {
     "end_time": "2021-04-29T15:36:53.588620Z",
     "start_time": "2021-04-29T15:36:49.162427Z"
    }
   },
   "outputs": [],
   "source": [
    "def first_df(path):\n",
    "    geo = gpd.read_file(path)\n",
    "    df = pd.DataFrame(geo).drop(columns='Link_ID')\n",
    "    df_ren = df.rename(columns={\n",
    "                        'Daily_Aver':'Daily_Average_Traffic_Intensity',\n",
    "                        'Average_Ve':'Average_Velocity_of_Vehicle_Traffic',\n",
    "                        'Median_of_':'Median_of_velocity_of_Vehicle_Traffic',\n",
    "                        'First_Quar': 'FirstQuartil_of_velocity_of_Vehicle_Traffic',\n",
    "                        'Third_Quar': 'ThirdQuartil_of_velocity_of_Vehicle_Traffic'\n",
    "                    })\n",
    "    return df_ren\n",
    "    \n",
    "df = first_df('wdl_data/m_risk_prfile.geojson') "
   ]
  },
  {
   "cell_type": "markdown",
   "id": "4d19de64",
   "metadata": {},
   "source": [
    "- Now we have a dataset containing the same columns but renamed. \n",
    "- We also drop the 'Link_ID' column as contain the unique id of the streat, information already present in linkid column"
   ]
  },
  {
   "cell_type": "markdown",
   "id": "618f1df4",
   "metadata": {},
   "source": [
    "To have a better understanding on our data and to avoid errors during our analysis we need to investigate it with general statistics"
   ]
  },
  {
   "cell_type": "markdown",
   "id": "9ecfb463",
   "metadata": {},
   "source": [
    "### Remove outliers: "
   ]
  },
  {
   "cell_type": "code",
   "execution_count": 4,
   "id": "ddeb07b5",
   "metadata": {
    "ExecuteTime": {
     "end_time": "2021-04-29T15:36:53.731498Z",
     "start_time": "2021-04-29T15:36:53.596835Z"
    }
   },
   "outputs": [
    {
     "data": {
      "text/html": [
       "<div>\n",
       "<style scoped>\n",
       "    .dataframe tbody tr th:only-of-type {\n",
       "        vertical-align: middle;\n",
       "    }\n",
       "\n",
       "    .dataframe tbody tr th {\n",
       "        vertical-align: top;\n",
       "    }\n",
       "\n",
       "    .dataframe thead th {\n",
       "        text-align: right;\n",
       "    }\n",
       "</style>\n",
       "<table border=\"1\" class=\"dataframe\">\n",
       "  <thead>\n",
       "    <tr style=\"text-align: right;\">\n",
       "      <th></th>\n",
       "      <th>linkid</th>\n",
       "      <th>Daily_Average_Traffic_Intensity</th>\n",
       "      <th>Average_Velocity_of_Vehicle_Traffic</th>\n",
       "      <th>Median_of_velocity_of_Vehicle_Traffic</th>\n",
       "      <th>FirstQuartil_of_velocity_of_Vehicle_Traffic</th>\n",
       "      <th>ThirdQuartil_of_velocity_of_Vehicle_Traffic</th>\n",
       "      <th>Func_Class</th>\n",
       "      <th>Speed_Cat</th>\n",
       "    </tr>\n",
       "  </thead>\n",
       "  <tbody>\n",
       "    <tr>\n",
       "      <th>count</th>\n",
       "      <td>3.467800e+04</td>\n",
       "      <td>34678.000000</td>\n",
       "      <td>34678.000000</td>\n",
       "      <td>34678.000000</td>\n",
       "      <td>34678.000000</td>\n",
       "      <td>34678.000000</td>\n",
       "      <td>34678.000000</td>\n",
       "      <td>34678.000000</td>\n",
       "    </tr>\n",
       "    <tr>\n",
       "      <th>mean</th>\n",
       "      <td>8.958206e+08</td>\n",
       "      <td>3340.417942</td>\n",
       "      <td>56.816834</td>\n",
       "      <td>56.463409</td>\n",
       "      <td>43.822041</td>\n",
       "      <td>68.091844</td>\n",
       "      <td>2.684613</td>\n",
       "      <td>4.904781</td>\n",
       "    </tr>\n",
       "    <tr>\n",
       "      <th>std</th>\n",
       "      <td>2.355910e+08</td>\n",
       "      <td>2725.873982</td>\n",
       "      <td>51.983670</td>\n",
       "      <td>26.240876</td>\n",
       "      <td>24.442204</td>\n",
       "      <td>30.985191</td>\n",
       "      <td>0.538658</td>\n",
       "      <td>1.520568</td>\n",
       "    </tr>\n",
       "    <tr>\n",
       "      <th>min</th>\n",
       "      <td>8.021682e+07</td>\n",
       "      <td>14.435864</td>\n",
       "      <td>-401.703724</td>\n",
       "      <td>1.000000</td>\n",
       "      <td>-392.500000</td>\n",
       "      <td>1.000000</td>\n",
       "      <td>1.000000</td>\n",
       "      <td>2.000000</td>\n",
       "    </tr>\n",
       "    <tr>\n",
       "      <th>25%</th>\n",
       "      <td>7.364832e+08</td>\n",
       "      <td>1903.398108</td>\n",
       "      <td>38.315321</td>\n",
       "      <td>38.250000</td>\n",
       "      <td>26.000000</td>\n",
       "      <td>48.000000</td>\n",
       "      <td>2.000000</td>\n",
       "      <td>4.000000</td>\n",
       "    </tr>\n",
       "    <tr>\n",
       "      <th>50%</th>\n",
       "      <td>9.067377e+08</td>\n",
       "      <td>2644.529317</td>\n",
       "      <td>49.966126</td>\n",
       "      <td>50.000000</td>\n",
       "      <td>38.875000</td>\n",
       "      <td>60.333333</td>\n",
       "      <td>3.000000</td>\n",
       "      <td>6.000000</td>\n",
       "    </tr>\n",
       "    <tr>\n",
       "      <th>75%</th>\n",
       "      <td>1.154997e+09</td>\n",
       "      <td>3897.886608</td>\n",
       "      <td>69.511585</td>\n",
       "      <td>71.000000</td>\n",
       "      <td>56.000000</td>\n",
       "      <td>85.000000</td>\n",
       "      <td>3.000000</td>\n",
       "      <td>6.000000</td>\n",
       "    </tr>\n",
       "    <tr>\n",
       "      <th>max</th>\n",
       "      <td>1.223731e+09</td>\n",
       "      <td>49309.806935</td>\n",
       "      <td>6357.022296</td>\n",
       "      <td>1326.250000</td>\n",
       "      <td>143.000000</td>\n",
       "      <td>2605.000000</td>\n",
       "      <td>3.000000</td>\n",
       "      <td>7.000000</td>\n",
       "    </tr>\n",
       "  </tbody>\n",
       "</table>\n",
       "</div>"
      ],
      "text/plain": [
       "             linkid  Daily_Average_Traffic_Intensity  \\\n",
       "count  3.467800e+04                     34678.000000   \n",
       "mean   8.958206e+08                      3340.417942   \n",
       "std    2.355910e+08                      2725.873982   \n",
       "min    8.021682e+07                        14.435864   \n",
       "25%    7.364832e+08                      1903.398108   \n",
       "50%    9.067377e+08                      2644.529317   \n",
       "75%    1.154997e+09                      3897.886608   \n",
       "max    1.223731e+09                     49309.806935   \n",
       "\n",
       "       Average_Velocity_of_Vehicle_Traffic  \\\n",
       "count                         34678.000000   \n",
       "mean                             56.816834   \n",
       "std                              51.983670   \n",
       "min                            -401.703724   \n",
       "25%                              38.315321   \n",
       "50%                              49.966126   \n",
       "75%                              69.511585   \n",
       "max                            6357.022296   \n",
       "\n",
       "       Median_of_velocity_of_Vehicle_Traffic  \\\n",
       "count                           34678.000000   \n",
       "mean                               56.463409   \n",
       "std                                26.240876   \n",
       "min                                 1.000000   \n",
       "25%                                38.250000   \n",
       "50%                                50.000000   \n",
       "75%                                71.000000   \n",
       "max                              1326.250000   \n",
       "\n",
       "       FirstQuartil_of_velocity_of_Vehicle_Traffic  \\\n",
       "count                                 34678.000000   \n",
       "mean                                     43.822041   \n",
       "std                                      24.442204   \n",
       "min                                    -392.500000   \n",
       "25%                                      26.000000   \n",
       "50%                                      38.875000   \n",
       "75%                                      56.000000   \n",
       "max                                     143.000000   \n",
       "\n",
       "       ThirdQuartil_of_velocity_of_Vehicle_Traffic    Func_Class     Speed_Cat  \n",
       "count                                 34678.000000  34678.000000  34678.000000  \n",
       "mean                                     68.091844      2.684613      4.904781  \n",
       "std                                      30.985191      0.538658      1.520568  \n",
       "min                                       1.000000      1.000000      2.000000  \n",
       "25%                                      48.000000      2.000000      4.000000  \n",
       "50%                                      60.333333      3.000000      6.000000  \n",
       "75%                                      85.000000      3.000000      6.000000  \n",
       "max                                    2605.000000      3.000000      7.000000  "
      ]
     },
     "execution_count": 4,
     "metadata": {},
     "output_type": "execute_result"
    }
   ],
   "source": [
    "df.describe()"
   ]
  },
  {
   "cell_type": "markdown",
   "id": "5c1b2e7a",
   "metadata": {},
   "source": [
    "- Regarding the columns we know that they report values in km/h: many of the min and max we can observe thank to describe function don't make sense. \n",
    "- We need to operate on them as they are **outliers**"
   ]
  },
  {
   "cell_type": "code",
   "execution_count": 5,
   "id": "a523bc25",
   "metadata": {
    "ExecuteTime": {
     "end_time": "2021-04-29T15:36:53.799129Z",
     "start_time": "2021-04-29T15:36:53.735440Z"
    }
   },
   "outputs": [],
   "source": [
    "def rm_out(df):\n",
    "    for i in df.columns.drop(['linkid', 'Daily_Average_Traffic_Intensity','geometry']):\n",
    "        lb = 0\n",
    "        ub = 180\n",
    "#         print(lb, ub)\n",
    "        df[i] = df[i].mask(df[i] < lb) \n",
    "        df[i] = df[i].mask(df[i] > ub) \n",
    "    return df\n",
    "\n",
    "data = rm_out(df)"
   ]
  },
  {
   "cell_type": "markdown",
   "id": "1e73e974",
   "metadata": {},
   "source": [
    "**If we run describe again we will see that the data regarding velocity has just feasible values.**"
   ]
  },
  {
   "cell_type": "code",
   "execution_count": 6,
   "id": "0cff42d1",
   "metadata": {
    "ExecuteTime": {
     "end_time": "2021-04-29T15:36:53.910065Z",
     "start_time": "2021-04-29T15:36:53.805076Z"
    }
   },
   "outputs": [
    {
     "data": {
      "text/html": [
       "<div>\n",
       "<style scoped>\n",
       "    .dataframe tbody tr th:only-of-type {\n",
       "        vertical-align: middle;\n",
       "    }\n",
       "\n",
       "    .dataframe tbody tr th {\n",
       "        vertical-align: top;\n",
       "    }\n",
       "\n",
       "    .dataframe thead th {\n",
       "        text-align: right;\n",
       "    }\n",
       "</style>\n",
       "<table border=\"1\" class=\"dataframe\">\n",
       "  <thead>\n",
       "    <tr style=\"text-align: right;\">\n",
       "      <th></th>\n",
       "      <th>linkid</th>\n",
       "      <th>Daily_Average_Traffic_Intensity</th>\n",
       "      <th>Average_Velocity_of_Vehicle_Traffic</th>\n",
       "      <th>Median_of_velocity_of_Vehicle_Traffic</th>\n",
       "      <th>FirstQuartil_of_velocity_of_Vehicle_Traffic</th>\n",
       "      <th>ThirdQuartil_of_velocity_of_Vehicle_Traffic</th>\n",
       "      <th>Func_Class</th>\n",
       "      <th>Speed_Cat</th>\n",
       "    </tr>\n",
       "  </thead>\n",
       "  <tbody>\n",
       "    <tr>\n",
       "      <th>count</th>\n",
       "      <td>3.467800e+04</td>\n",
       "      <td>34678.000000</td>\n",
       "      <td>34633.000000</td>\n",
       "      <td>34675.000000</td>\n",
       "      <td>34677.000000</td>\n",
       "      <td>34674.000000</td>\n",
       "      <td>34678.000000</td>\n",
       "      <td>34678.000000</td>\n",
       "    </tr>\n",
       "    <tr>\n",
       "      <th>mean</th>\n",
       "      <td>8.958206e+08</td>\n",
       "      <td>3340.417942</td>\n",
       "      <td>56.112805</td>\n",
       "      <td>56.402803</td>\n",
       "      <td>43.834624</td>\n",
       "      <td>67.959767</td>\n",
       "      <td>2.684613</td>\n",
       "      <td>4.904781</td>\n",
       "    </tr>\n",
       "    <tr>\n",
       "      <th>std</th>\n",
       "      <td>2.355910e+08</td>\n",
       "      <td>2725.873982</td>\n",
       "      <td>24.346245</td>\n",
       "      <td>25.054113</td>\n",
       "      <td>24.329987</td>\n",
       "      <td>26.706718</td>\n",
       "      <td>0.538658</td>\n",
       "      <td>1.520568</td>\n",
       "    </tr>\n",
       "    <tr>\n",
       "      <th>min</th>\n",
       "      <td>8.021682e+07</td>\n",
       "      <td>14.435864</td>\n",
       "      <td>1.000000</td>\n",
       "      <td>1.000000</td>\n",
       "      <td>0.000000</td>\n",
       "      <td>1.000000</td>\n",
       "      <td>1.000000</td>\n",
       "      <td>2.000000</td>\n",
       "    </tr>\n",
       "    <tr>\n",
       "      <th>25%</th>\n",
       "      <td>7.364832e+08</td>\n",
       "      <td>1903.398108</td>\n",
       "      <td>38.317003</td>\n",
       "      <td>38.250000</td>\n",
       "      <td>26.000000</td>\n",
       "      <td>48.000000</td>\n",
       "      <td>2.000000</td>\n",
       "      <td>4.000000</td>\n",
       "    </tr>\n",
       "    <tr>\n",
       "      <th>50%</th>\n",
       "      <td>9.067377e+08</td>\n",
       "      <td>2644.529317</td>\n",
       "      <td>49.961538</td>\n",
       "      <td>50.000000</td>\n",
       "      <td>38.875000</td>\n",
       "      <td>60.333333</td>\n",
       "      <td>3.000000</td>\n",
       "      <td>6.000000</td>\n",
       "    </tr>\n",
       "    <tr>\n",
       "      <th>75%</th>\n",
       "      <td>1.154997e+09</td>\n",
       "      <td>3897.886608</td>\n",
       "      <td>69.447459</td>\n",
       "      <td>71.000000</td>\n",
       "      <td>56.000000</td>\n",
       "      <td>85.000000</td>\n",
       "      <td>3.000000</td>\n",
       "      <td>6.000000</td>\n",
       "    </tr>\n",
       "    <tr>\n",
       "      <th>max</th>\n",
       "      <td>1.223731e+09</td>\n",
       "      <td>49309.806935</td>\n",
       "      <td>179.691892</td>\n",
       "      <td>143.250000</td>\n",
       "      <td>143.000000</td>\n",
       "      <td>164.000000</td>\n",
       "      <td>3.000000</td>\n",
       "      <td>7.000000</td>\n",
       "    </tr>\n",
       "  </tbody>\n",
       "</table>\n",
       "</div>"
      ],
      "text/plain": [
       "             linkid  Daily_Average_Traffic_Intensity  \\\n",
       "count  3.467800e+04                     34678.000000   \n",
       "mean   8.958206e+08                      3340.417942   \n",
       "std    2.355910e+08                      2725.873982   \n",
       "min    8.021682e+07                        14.435864   \n",
       "25%    7.364832e+08                      1903.398108   \n",
       "50%    9.067377e+08                      2644.529317   \n",
       "75%    1.154997e+09                      3897.886608   \n",
       "max    1.223731e+09                     49309.806935   \n",
       "\n",
       "       Average_Velocity_of_Vehicle_Traffic  \\\n",
       "count                         34633.000000   \n",
       "mean                             56.112805   \n",
       "std                              24.346245   \n",
       "min                               1.000000   \n",
       "25%                              38.317003   \n",
       "50%                              49.961538   \n",
       "75%                              69.447459   \n",
       "max                             179.691892   \n",
       "\n",
       "       Median_of_velocity_of_Vehicle_Traffic  \\\n",
       "count                           34675.000000   \n",
       "mean                               56.402803   \n",
       "std                                25.054113   \n",
       "min                                 1.000000   \n",
       "25%                                38.250000   \n",
       "50%                                50.000000   \n",
       "75%                                71.000000   \n",
       "max                               143.250000   \n",
       "\n",
       "       FirstQuartil_of_velocity_of_Vehicle_Traffic  \\\n",
       "count                                 34677.000000   \n",
       "mean                                     43.834624   \n",
       "std                                      24.329987   \n",
       "min                                       0.000000   \n",
       "25%                                      26.000000   \n",
       "50%                                      38.875000   \n",
       "75%                                      56.000000   \n",
       "max                                     143.000000   \n",
       "\n",
       "       ThirdQuartil_of_velocity_of_Vehicle_Traffic    Func_Class     Speed_Cat  \n",
       "count                                 34674.000000  34678.000000  34678.000000  \n",
       "mean                                     67.959767      2.684613      4.904781  \n",
       "std                                      26.706718      0.538658      1.520568  \n",
       "min                                       1.000000      1.000000      2.000000  \n",
       "25%                                      48.000000      2.000000      4.000000  \n",
       "50%                                      60.333333      3.000000      6.000000  \n",
       "75%                                      85.000000      3.000000      6.000000  \n",
       "max                                     164.000000      3.000000      7.000000  "
      ]
     },
     "execution_count": 6,
     "metadata": {},
     "output_type": "execute_result"
    }
   ],
   "source": [
    "data.describe()"
   ]
  },
  {
   "cell_type": "markdown",
   "id": "217c5d12",
   "metadata": {},
   "source": [
    "### Handling duplicates:"
   ]
  },
  {
   "cell_type": "code",
   "execution_count": 7,
   "id": "63944562",
   "metadata": {
    "ExecuteTime": {
     "end_time": "2021-04-29T15:36:56.063228Z",
     "start_time": "2021-04-29T15:36:53.913941Z"
    }
   },
   "outputs": [
    {
     "data": {
      "text/plain": [
       "True"
      ]
     },
     "execution_count": 7,
     "metadata": {},
     "output_type": "execute_result"
    }
   ],
   "source": [
    "len(data) == len(data.drop_duplicates())"
   ]
  },
  {
   "cell_type": "markdown",
   "id": "c4288ce2",
   "metadata": {},
   "source": [
    "There are ***no duplicates*** in our dataset"
   ]
  },
  {
   "cell_type": "markdown",
   "id": "df3bc0da",
   "metadata": {},
   "source": [
    "### Handling missing values:"
   ]
  },
  {
   "cell_type": "code",
   "execution_count": 8,
   "id": "46789b2d",
   "metadata": {
    "ExecuteTime": {
     "end_time": "2021-04-29T15:36:56.142632Z",
     "start_time": "2021-04-29T15:36:56.073530Z"
    },
    "scrolled": true
   },
   "outputs": [
    {
     "data": {
      "text/plain": [
       "(Average_Velocity_of_Vehicle_Traffic            45\n",
       " ThirdQuartil_of_velocity_of_Vehicle_Traffic     4\n",
       " Median_of_velocity_of_Vehicle_Traffic           3\n",
       " FirstQuartil_of_velocity_of_Vehicle_Traffic     1\n",
       " linkid                                          0\n",
       " Daily_Average_Traffic_Intensity                 0\n",
       " Func_Class                                      0\n",
       " Speed_Cat                                       0\n",
       " geometry                                        0\n",
       " dtype: int64,\n",
       " 'Total of data points : 34678')"
      ]
     },
     "execution_count": 8,
     "metadata": {},
     "output_type": "execute_result"
    }
   ],
   "source": [
    "data.isnull().sum().sort_values(ascending=False) , f'Total of data points : {data.shape[0]}'"
   ]
  },
  {
   "cell_type": "markdown",
   "id": "c8afeb35",
   "metadata": {},
   "source": [
    "As we can see the total highest number of missing values detected for column is 45 on a total number of rows of 34'678.\n",
    "- The missing value for Average Velocity e the ones in Speed Difference Mean are the same (one column is created from the other one)\n",
    "- The missing values of other column can be easily deleted\n",
    "\n",
    "**As we are handling data regarding AVERAGE velocity we can easily substitute the missing values with the mean of the corresponding column**"
   ]
  },
  {
   "cell_type": "code",
   "execution_count": 9,
   "id": "e38d7859",
   "metadata": {
    "ExecuteTime": {
     "end_time": "2021-04-29T15:36:56.263048Z",
     "start_time": "2021-04-29T15:36:56.155076Z"
    }
   },
   "outputs": [],
   "source": [
    "def handling_missing(data):\n",
    "    imputer = SimpleImputer()\n",
    "    data['Average_Velocity_of_Vehicle_Traffic']=imputer.fit_transform(data[['Average_Velocity_of_Vehicle_Traffic']])\n",
    "    return data.dropna()\n",
    "data = handling_missing(data)"
   ]
  },
  {
   "cell_type": "code",
   "execution_count": 10,
   "id": "7e691f8c",
   "metadata": {
    "ExecuteTime": {
     "end_time": "2021-04-29T15:36:56.318714Z",
     "start_time": "2021-04-29T15:36:56.268301Z"
    }
   },
   "outputs": [
    {
     "data": {
      "text/plain": [
       "linkid                                         0\n",
       "Daily_Average_Traffic_Intensity                0\n",
       "Average_Velocity_of_Vehicle_Traffic            0\n",
       "Median_of_velocity_of_Vehicle_Traffic          0\n",
       "FirstQuartil_of_velocity_of_Vehicle_Traffic    0\n",
       "ThirdQuartil_of_velocity_of_Vehicle_Traffic    0\n",
       "Func_Class                                     0\n",
       "Speed_Cat                                      0\n",
       "geometry                                       0\n",
       "dtype: int64"
      ]
     },
     "execution_count": 10,
     "metadata": {},
     "output_type": "execute_result"
    }
   ],
   "source": [
    "data.isnull().sum()"
   ]
  },
  {
   "cell_type": "markdown",
   "id": "31e1504e",
   "metadata": {},
   "source": [
    "### Feature creation:"
   ]
  },
  {
   "cell_type": "markdown",
   "id": "7153938e",
   "metadata": {},
   "source": [
    "Now looking at our data we need to search for a target that in the next step we will use in our model.\n",
    "Most common causes of Accidents:\n",
    "- Over Speeding.\n",
    "- Drunken Driving.\n",
    "- Distractions to Driver.\n",
    "- Red Light Jumping.\n",
    "- Avoiding Safety Gears like Seat belts and Helmets.\n",
    "- Non-adherence to lane driving and overtaking in a wrong manner.\n",
    "\n",
    "The first cause is always the **over-speed** that can be connected with one of the above causes. \n",
    "For this reason we decide to investigate and use as target information regarding the velocity.\n",
    "\n",
    "- Speed_Cat (described in the excel above)\n",
    "- Average Velocity of Vehicle Traffic \n",
    "- Median of velocity of Vehicle Traffic\n",
    "\n",
    "We will create a dictionary that, from the information contained in the excel can describe the type of street regarding the max velocity allowed in there. \n"
   ]
  },
  {
   "cell_type": "code",
   "execution_count": 11,
   "id": "cb9a31a6",
   "metadata": {
    "ExecuteTime": {
     "end_time": "2021-04-29T15:36:56.940523Z",
     "start_time": "2021-04-29T15:36:56.322717Z"
    }
   },
   "outputs": [
    {
     "data": {
      "text/html": [
       "<div>\n",
       "<style scoped>\n",
       "    .dataframe tbody tr th:only-of-type {\n",
       "        vertical-align: middle;\n",
       "    }\n",
       "\n",
       "    .dataframe tbody tr th {\n",
       "        vertical-align: top;\n",
       "    }\n",
       "\n",
       "    .dataframe thead th {\n",
       "        text-align: right;\n",
       "    }\n",
       "</style>\n",
       "<table border=\"1\" class=\"dataframe\">\n",
       "  <thead>\n",
       "    <tr style=\"text-align: right;\">\n",
       "      <th></th>\n",
       "      <th>Speed Cat</th>\n",
       "      <th>Speed range in km/h</th>\n",
       "    </tr>\n",
       "  </thead>\n",
       "  <tbody>\n",
       "    <tr>\n",
       "      <th>0</th>\n",
       "      <td>1</td>\n",
       "      <td>&gt;130 km/h</td>\n",
       "    </tr>\n",
       "    <tr>\n",
       "      <th>1</th>\n",
       "      <td>2</td>\n",
       "      <td>101-130 km/h</td>\n",
       "    </tr>\n",
       "    <tr>\n",
       "      <th>2</th>\n",
       "      <td>3</td>\n",
       "      <td>91-100 km/h</td>\n",
       "    </tr>\n",
       "    <tr>\n",
       "      <th>3</th>\n",
       "      <td>4</td>\n",
       "      <td>71-90 km/h</td>\n",
       "    </tr>\n",
       "    <tr>\n",
       "      <th>4</th>\n",
       "      <td>5</td>\n",
       "      <td>51-70 km/h</td>\n",
       "    </tr>\n",
       "    <tr>\n",
       "      <th>5</th>\n",
       "      <td>6</td>\n",
       "      <td>31-50 km/h</td>\n",
       "    </tr>\n",
       "    <tr>\n",
       "      <th>6</th>\n",
       "      <td>7</td>\n",
       "      <td>11-30 km/h</td>\n",
       "    </tr>\n",
       "    <tr>\n",
       "      <th>7</th>\n",
       "      <td>8</td>\n",
       "      <td>&lt;11 km/h</td>\n",
       "    </tr>\n",
       "  </tbody>\n",
       "</table>\n",
       "</div>"
      ],
      "text/plain": [
       "   Speed Cat Speed range in km/h\n",
       "0          1           >130 km/h\n",
       "1          2        101-130 km/h\n",
       "2          3         91-100 km/h\n",
       "3          4          71-90 km/h\n",
       "4          5          51-70 km/h\n",
       "5          6          31-50 km/h\n",
       "6          7          11-30 km/h\n",
       "7          8            <11 km/h"
      ]
     },
     "execution_count": 11,
     "metadata": {},
     "output_type": "execute_result"
    }
   ],
   "source": [
    "speed_explanation = pd.read_excel('wdl_dict/Dictionary_Risk_Profiles.xlsx', sheet_name='SpeedCat')\n",
    "speed_explanation"
   ]
  },
  {
   "cell_type": "markdown",
   "id": "47e86528",
   "metadata": {},
   "source": [
    " from the table above we can create a dictionary.\n",
    "1. count values for category\n",
    "2. translate the speed range in actual number"
   ]
  },
  {
   "cell_type": "code",
   "execution_count": 12,
   "id": "035afc7e",
   "metadata": {
    "ExecuteTime": {
     "end_time": "2021-04-29T15:36:56.985438Z",
     "start_time": "2021-04-29T15:36:56.945967Z"
    }
   },
   "outputs": [
    {
     "data": {
      "text/plain": [
       "6    20307\n",
       "4     5273\n",
       "2     5123\n",
       "3     1843\n",
       "5     1770\n",
       "7      357\n",
       "Name: Speed_Cat, dtype: int64"
      ]
     },
     "execution_count": 12,
     "metadata": {},
     "output_type": "execute_result"
    }
   ],
   "source": [
    "data.Speed_Cat.value_counts()"
   ]
  },
  {
   "cell_type": "markdown",
   "id": "c9674563",
   "metadata": {},
   "source": [
    "**NO need of mapping for label 1 and 8**"
   ]
  },
  {
   "cell_type": "code",
   "execution_count": 13,
   "id": "a1fe4194",
   "metadata": {
    "ExecuteTime": {
     "end_time": "2021-04-29T15:36:57.034890Z",
     "start_time": "2021-04-29T15:36:56.989478Z"
    }
   },
   "outputs": [],
   "source": [
    "max_speed_dict = {2:130,3:100,4:90,5:70,6:50,7:30}"
   ]
  },
  {
   "cell_type": "code",
   "execution_count": 14,
   "id": "93aa8e50",
   "metadata": {
    "ExecuteTime": {
     "end_time": "2021-04-29T15:36:57.086782Z",
     "start_time": "2021-04-29T15:36:57.038377Z"
    }
   },
   "outputs": [
    {
     "name": "stderr",
     "output_type": "stream",
     "text": [
      "<ipython-input-14-63521103fb59>:2: SettingWithCopyWarning: \n",
      "A value is trying to be set on a copy of a slice from a DataFrame.\n",
      "Try using .loc[row_indexer,col_indexer] = value instead\n",
      "\n",
      "See the caveats in the documentation: https://pandas.pydata.org/pandas-docs/stable/user_guide/indexing.html#returning-a-view-versus-a-copy\n",
      "  data['Max_speed'] = data['Speed_Cat'].map(max_speed_dict)\n",
      "<ipython-input-14-63521103fb59>:3: SettingWithCopyWarning: \n",
      "A value is trying to be set on a copy of a slice from a DataFrame.\n",
      "Try using .loc[row_indexer,col_indexer] = value instead\n",
      "\n",
      "See the caveats in the documentation: https://pandas.pydata.org/pandas-docs/stable/user_guide/indexing.html#returning-a-view-versus-a-copy\n",
      "  data['Speed_Diff_Mean'] = data['Max_speed'] - data['Average_Velocity_of_Vehicle_Traffic']\n",
      "<ipython-input-14-63521103fb59>:4: SettingWithCopyWarning: \n",
      "A value is trying to be set on a copy of a slice from a DataFrame.\n",
      "Try using .loc[row_indexer,col_indexer] = value instead\n",
      "\n",
      "See the caveats in the documentation: https://pandas.pydata.org/pandas-docs/stable/user_guide/indexing.html#returning-a-view-versus-a-copy\n",
      "  data['Speed_Diff_Median'] = data['Max_speed'] - data['Median_of_velocity_of_Vehicle_Traffic']\n"
     ]
    }
   ],
   "source": [
    "def target_creation(data):\n",
    "    data['Max_speed'] = data['Speed_Cat'].map(max_speed_dict)\n",
    "    data['Speed_Diff_Mean'] = data['Max_speed'] - data['Average_Velocity_of_Vehicle_Traffic']\n",
    "    data['Speed_Diff_Median'] = data['Max_speed'] - data['Median_of_velocity_of_Vehicle_Traffic']\n",
    "    return data\n",
    "data = target_creation(data)"
   ]
  },
  {
   "cell_type": "code",
   "execution_count": 15,
   "id": "de104261",
   "metadata": {
    "ExecuteTime": {
     "end_time": "2021-04-29T15:36:57.149720Z",
     "start_time": "2021-04-29T15:36:57.092354Z"
    }
   },
   "outputs": [
    {
     "data": {
      "text/html": [
       "<div>\n",
       "<style scoped>\n",
       "    .dataframe tbody tr th:only-of-type {\n",
       "        vertical-align: middle;\n",
       "    }\n",
       "\n",
       "    .dataframe tbody tr th {\n",
       "        vertical-align: top;\n",
       "    }\n",
       "\n",
       "    .dataframe thead th {\n",
       "        text-align: right;\n",
       "    }\n",
       "</style>\n",
       "<table border=\"1\" class=\"dataframe\">\n",
       "  <thead>\n",
       "    <tr style=\"text-align: right;\">\n",
       "      <th></th>\n",
       "      <th>Speed_Cat</th>\n",
       "      <th>Max_speed</th>\n",
       "      <th>Speed_Diff_Mean</th>\n",
       "      <th>Speed_Diff_Median</th>\n",
       "    </tr>\n",
       "  </thead>\n",
       "  <tbody>\n",
       "    <tr>\n",
       "      <th>0</th>\n",
       "      <td>6</td>\n",
       "      <td>50</td>\n",
       "      <td>4.791284</td>\n",
       "      <td>5.535714</td>\n",
       "    </tr>\n",
       "    <tr>\n",
       "      <th>1</th>\n",
       "      <td>4</td>\n",
       "      <td>90</td>\n",
       "      <td>10.436692</td>\n",
       "      <td>7.250000</td>\n",
       "    </tr>\n",
       "    <tr>\n",
       "      <th>2</th>\n",
       "      <td>6</td>\n",
       "      <td>50</td>\n",
       "      <td>-15.955069</td>\n",
       "      <td>-17.333333</td>\n",
       "    </tr>\n",
       "    <tr>\n",
       "      <th>3</th>\n",
       "      <td>6</td>\n",
       "      <td>50</td>\n",
       "      <td>2.466089</td>\n",
       "      <td>6.000000</td>\n",
       "    </tr>\n",
       "    <tr>\n",
       "      <th>4</th>\n",
       "      <td>6</td>\n",
       "      <td>50</td>\n",
       "      <td>-1.375291</td>\n",
       "      <td>-3.250000</td>\n",
       "    </tr>\n",
       "    <tr>\n",
       "      <th>5</th>\n",
       "      <td>6</td>\n",
       "      <td>50</td>\n",
       "      <td>17.667821</td>\n",
       "      <td>18.333333</td>\n",
       "    </tr>\n",
       "    <tr>\n",
       "      <th>6</th>\n",
       "      <td>6</td>\n",
       "      <td>50</td>\n",
       "      <td>19.613591</td>\n",
       "      <td>22.937500</td>\n",
       "    </tr>\n",
       "    <tr>\n",
       "      <th>7</th>\n",
       "      <td>6</td>\n",
       "      <td>50</td>\n",
       "      <td>26.714286</td>\n",
       "      <td>39.000000</td>\n",
       "    </tr>\n",
       "    <tr>\n",
       "      <th>8</th>\n",
       "      <td>6</td>\n",
       "      <td>50</td>\n",
       "      <td>6.476409</td>\n",
       "      <td>4.000000</td>\n",
       "    </tr>\n",
       "    <tr>\n",
       "      <th>9</th>\n",
       "      <td>6</td>\n",
       "      <td>50</td>\n",
       "      <td>-11.897045</td>\n",
       "      <td>1.346154</td>\n",
       "    </tr>\n",
       "  </tbody>\n",
       "</table>\n",
       "</div>"
      ],
      "text/plain": [
       "   Speed_Cat  Max_speed  Speed_Diff_Mean  Speed_Diff_Median\n",
       "0          6         50         4.791284           5.535714\n",
       "1          4         90        10.436692           7.250000\n",
       "2          6         50       -15.955069         -17.333333\n",
       "3          6         50         2.466089           6.000000\n",
       "4          6         50        -1.375291          -3.250000\n",
       "5          6         50        17.667821          18.333333\n",
       "6          6         50        19.613591          22.937500\n",
       "7          6         50        26.714286          39.000000\n",
       "8          6         50         6.476409           4.000000\n",
       "9          6         50       -11.897045           1.346154"
      ]
     },
     "execution_count": 15,
     "metadata": {},
     "output_type": "execute_result"
    }
   ],
   "source": [
    "data[['Speed_Cat','Max_speed', 'Speed_Diff_Mean','Speed_Diff_Median']].head(10)"
   ]
  },
  {
   "cell_type": "markdown",
   "id": "947edad6",
   "metadata": {},
   "source": [
    "**our first target will be the difference between the mean of velocity and the max speed**"
   ]
  },
  {
   "cell_type": "markdown",
   "id": "8a7117c6",
   "metadata": {},
   "source": [
    "### Scaling features:"
   ]
  },
  {
   "cell_type": "markdown",
   "id": "3c30a45c",
   "metadata": {},
   "source": [
    "We are now ready to scale our dataframe to have a distribution *around* the mean.\n",
    "\n",
    "1. We need to separate numerical and categorical column\n",
    "2. We are going to use the Min-Max Scaling method for the numerical ones: is the one that is commonly used distance based algorithms, as k-means that is one of the possible analysis we are taking in consideration.  \n",
    "3. For the categorical ones we'll use the OneHotEncoding method (for each label in each category creates a different column)\n",
    "\n",
    "We could also operate this step all together but is important for us to know which column belong to each of the different classes inside the categorical feature. \n",
    "**To do so we need to operate for each categorical separately**"
   ]
  },
  {
   "cell_type": "code",
   "execution_count": 16,
   "id": "e175481f",
   "metadata": {
    "ExecuteTime": {
     "end_time": "2021-04-29T15:36:57.286057Z",
     "start_time": "2021-04-29T15:36:57.153822Z"
    }
   },
   "outputs": [],
   "source": [
    "def scaling_numerical(data):\n",
    "    numerical = data.columns.drop(['geometry','linkid','Speed_Cat', 'Func_Class'])\n",
    "    scaler = StandardScaler()\n",
    "    data_scaled = data.copy()\n",
    "    for column in numerical:\n",
    "        scaler.fit(data_scaled[[column]])\n",
    "        data_scaled[column]=scaler.transform(data_scaled[[column]]) \n",
    "    return data_scaled\n",
    "data_scaled = scaling_numerical(data)"
   ]
  },
  {
   "cell_type": "code",
   "execution_count": 17,
   "id": "4c6715cb",
   "metadata": {
    "ExecuteTime": {
     "end_time": "2021-04-29T15:36:57.528770Z",
     "start_time": "2021-04-29T15:36:57.289510Z"
    }
   },
   "outputs": [
    {
     "data": {
      "text/html": [
       "<div>\n",
       "<style scoped>\n",
       "    .dataframe tbody tr th:only-of-type {\n",
       "        vertical-align: middle;\n",
       "    }\n",
       "\n",
       "    .dataframe tbody tr th {\n",
       "        vertical-align: top;\n",
       "    }\n",
       "\n",
       "    .dataframe thead th {\n",
       "        text-align: right;\n",
       "    }\n",
       "</style>\n",
       "<table border=\"1\" class=\"dataframe\">\n",
       "  <thead>\n",
       "    <tr style=\"text-align: right;\">\n",
       "      <th></th>\n",
       "      <th>Daily_Average_Traffic_Intensity</th>\n",
       "      <th>Average_Velocity_of_Vehicle_Traffic</th>\n",
       "      <th>Median_of_velocity_of_Vehicle_Traffic</th>\n",
       "      <th>FirstQuartil_of_velocity_of_Vehicle_Traffic</th>\n",
       "      <th>ThirdQuartil_of_velocity_of_Vehicle_Traffic</th>\n",
       "      <th>Max_speed</th>\n",
       "      <th>Speed_Diff_Mean</th>\n",
       "      <th>Speed_Diff_Median</th>\n",
       "    </tr>\n",
       "  </thead>\n",
       "  <tbody>\n",
       "    <tr>\n",
       "      <th>0</th>\n",
       "      <td>6224.778569</td>\n",
       "      <td>45.208716</td>\n",
       "      <td>44.464286</td>\n",
       "      <td>28.0</td>\n",
       "      <td>59.0</td>\n",
       "      <td>50</td>\n",
       "      <td>4.791284</td>\n",
       "      <td>5.535714</td>\n",
       "    </tr>\n",
       "  </tbody>\n",
       "</table>\n",
       "</div>"
      ],
      "text/plain": [
       "   Daily_Average_Traffic_Intensity  Average_Velocity_of_Vehicle_Traffic  \\\n",
       "0                      6224.778569                            45.208716   \n",
       "\n",
       "   Median_of_velocity_of_Vehicle_Traffic  \\\n",
       "0                              44.464286   \n",
       "\n",
       "   FirstQuartil_of_velocity_of_Vehicle_Traffic  \\\n",
       "0                                         28.0   \n",
       "\n",
       "   ThirdQuartil_of_velocity_of_Vehicle_Traffic  Max_speed  Speed_Diff_Mean  \\\n",
       "0                                         59.0         50         4.791284   \n",
       "\n",
       "   Speed_Diff_Median  \n",
       "0           5.535714  "
      ]
     },
     "execution_count": 17,
     "metadata": {},
     "output_type": "execute_result"
    }
   ],
   "source": [
    "data.drop(columns=['geometry','linkid','Speed_Cat', 'Func_Class']).head(1)"
   ]
  },
  {
   "cell_type": "code",
   "execution_count": 18,
   "id": "3f86672d",
   "metadata": {
    "ExecuteTime": {
     "end_time": "2021-04-29T15:36:57.593809Z",
     "start_time": "2021-04-29T15:36:57.533270Z"
    }
   },
   "outputs": [
    {
     "data": {
      "text/html": [
       "<div>\n",
       "<style scoped>\n",
       "    .dataframe tbody tr th:only-of-type {\n",
       "        vertical-align: middle;\n",
       "    }\n",
       "\n",
       "    .dataframe tbody tr th {\n",
       "        vertical-align: top;\n",
       "    }\n",
       "\n",
       "    .dataframe thead th {\n",
       "        text-align: right;\n",
       "    }\n",
       "</style>\n",
       "<table border=\"1\" class=\"dataframe\">\n",
       "  <thead>\n",
       "    <tr style=\"text-align: right;\">\n",
       "      <th></th>\n",
       "      <th>Daily_Average_Traffic_Intensity</th>\n",
       "      <th>Average_Velocity_of_Vehicle_Traffic</th>\n",
       "      <th>Median_of_velocity_of_Vehicle_Traffic</th>\n",
       "      <th>FirstQuartil_of_velocity_of_Vehicle_Traffic</th>\n",
       "      <th>ThirdQuartil_of_velocity_of_Vehicle_Traffic</th>\n",
       "      <th>Max_speed</th>\n",
       "      <th>Speed_Diff_Mean</th>\n",
       "      <th>Speed_Diff_Median</th>\n",
       "    </tr>\n",
       "  </thead>\n",
       "  <tbody>\n",
       "    <tr>\n",
       "      <th>0</th>\n",
       "      <td>1.058039</td>\n",
       "      <td>-0.448154</td>\n",
       "      <td>-0.476554</td>\n",
       "      <td>-0.650809</td>\n",
       "      <td>-0.33552</td>\n",
       "      <td>-0.716756</td>\n",
       "      <td>-0.549408</td>\n",
       "      <td>-0.506457</td>\n",
       "    </tr>\n",
       "  </tbody>\n",
       "</table>\n",
       "</div>"
      ],
      "text/plain": [
       "   Daily_Average_Traffic_Intensity  Average_Velocity_of_Vehicle_Traffic  \\\n",
       "0                         1.058039                            -0.448154   \n",
       "\n",
       "   Median_of_velocity_of_Vehicle_Traffic  \\\n",
       "0                              -0.476554   \n",
       "\n",
       "   FirstQuartil_of_velocity_of_Vehicle_Traffic  \\\n",
       "0                                    -0.650809   \n",
       "\n",
       "   ThirdQuartil_of_velocity_of_Vehicle_Traffic  Max_speed  Speed_Diff_Mean  \\\n",
       "0                                     -0.33552  -0.716756        -0.549408   \n",
       "\n",
       "   Speed_Diff_Median  \n",
       "0          -0.506457  "
      ]
     },
     "execution_count": 18,
     "metadata": {},
     "output_type": "execute_result"
    }
   ],
   "source": [
    "data_scaled.drop(columns=['geometry','linkid','Speed_Cat', 'Func_Class']).head(1)"
   ]
  },
  {
   "cell_type": "markdown",
   "id": "39aee08b",
   "metadata": {},
   "source": [
    "**Working with the categorical features the first thing we need to do is to understand the distribution within the labels**"
   ]
  },
  {
   "cell_type": "code",
   "execution_count": 19,
   "id": "159e24f6",
   "metadata": {
    "ExecuteTime": {
     "end_time": "2021-04-29T15:36:57.656054Z",
     "start_time": "2021-04-29T15:36:57.600551Z"
    }
   },
   "outputs": [
    {
     "data": {
      "text/plain": [
       "(3    25023\n",
       " 2     8363\n",
       " 1     1287\n",
       " Name: Func_Class, dtype: int64,\n",
       " 6    20307\n",
       " 4     5273\n",
       " 2     5123\n",
       " 3     1843\n",
       " 5     1770\n",
       " 7      357\n",
       " Name: Speed_Cat, dtype: int64)"
      ]
     },
     "execution_count": 19,
     "metadata": {},
     "output_type": "execute_result"
    }
   ],
   "source": [
    "data.Func_Class.value_counts() , data.Speed_Cat.value_counts()"
   ]
  },
  {
   "cell_type": "markdown",
   "id": "7ec06ebe",
   "metadata": {},
   "source": [
    "- Functional Class has just 3 possible label for the street that we can understand better looking at the excel"
   ]
  },
  {
   "cell_type": "code",
   "execution_count": 20,
   "id": "10f51b34",
   "metadata": {
    "ExecuteTime": {
     "end_time": "2021-04-29T15:36:57.732372Z",
     "start_time": "2021-04-29T15:36:57.660399Z"
    }
   },
   "outputs": [
    {
     "name": "stdout",
     "output_type": "stream",
     "text": [
      "Class n.1 : These roads are meant for high volume, maximum speed traffic between and through major metropolitan areas. There are very few, if any, speed changes. Access to this road is usually controlled. \n",
      "\n",
      "Class n.2 : These roads are used to channel traffic to Main Roads (FRC1) for travel between and through cities in the shortest amount of time. There are very few, if any speed changes. \n",
      "\n",
      "Class n.3 : These roads interconnect First Class Roads (FRC2) and provide a high volume of traffic movement at a lower level of mobility than First Class Roads (FRC2). \n",
      "\n"
     ]
    }
   ],
   "source": [
    "func_explanation = pd.read_excel('wdl_dict/Dictionary_Risk_Profiles.xlsx', sheet_name='Func_Class')\n",
    "for i,el in enumerate(func_explanation['Description']):\n",
    "    print(f'Class n.{i+1} : {el} \\n')"
   ]
  },
  {
   "cell_type": "markdown",
   "id": "92528a92",
   "metadata": {},
   "source": [
    "With this new and deeper understanding of the distribution and the meaning of the category (*NB: regarding speed_cat we can look back at the point **1.1.5 \"Feature creation\"** to get these informations)* we can now progress with our transformations.  "
   ]
  },
  {
   "cell_type": "code",
   "execution_count": 21,
   "id": "c208cdfc",
   "metadata": {
    "ExecuteTime": {
     "end_time": "2021-04-29T15:36:57.782453Z",
     "start_time": "2021-04-29T15:36:57.736090Z"
    }
   },
   "outputs": [],
   "source": [
    "def scaling_categorical(data):\n",
    "    ohe = OneHotEncoder(sparse = False)\n",
    "    ohe.fit(data[['Func_Class']])\n",
    "    func_encoded = ohe.transform(data[['Func_Class']])\n",
    "    data[\"func_1\"],data[\"func_2\"],data['func_3'] = func_encoded.T\n",
    "    ohe = OneHotEncoder(sparse = False)\n",
    "    ohe.fit(data[['Speed_Cat']])\n",
    "    speed_encoded = ohe.transform(data[['Speed_Cat']])\n",
    "    data[\"speed_2\"],data[\"speed_3\"],data[\"speed_4\"],\\\n",
    "    data[\"speed_5\"], data[\"speed_6\"], data[\"speed_7\"]= speed_encoded.T\n",
    "    return data "
   ]
  },
  {
   "cell_type": "code",
   "execution_count": 22,
   "id": "abbdf2e1",
   "metadata": {
    "ExecuteTime": {
     "end_time": "2021-04-29T15:36:57.860841Z",
     "start_time": "2021-04-29T15:36:57.785962Z"
    }
   },
   "outputs": [],
   "source": [
    "data_scaled = scaling_categorical(data_scaled)"
   ]
  },
  {
   "cell_type": "markdown",
   "id": "5da3d47e",
   "metadata": {},
   "source": [
    "### Preprocessed Dataframe: "
   ]
  },
  {
   "cell_type": "code",
   "execution_count": 23,
   "id": "68ba365e",
   "metadata": {
    "ExecuteTime": {
     "end_time": "2021-04-29T15:36:57.912922Z",
     "start_time": "2021-04-29T15:36:57.872545Z"
    }
   },
   "outputs": [
    {
     "data": {
      "text/plain": [
       "Index(['linkid', 'Daily_Average_Traffic_Intensity',\n",
       "       'Average_Velocity_of_Vehicle_Traffic',\n",
       "       'Median_of_velocity_of_Vehicle_Traffic',\n",
       "       'FirstQuartil_of_velocity_of_Vehicle_Traffic',\n",
       "       'ThirdQuartil_of_velocity_of_Vehicle_Traffic', 'Func_Class',\n",
       "       'Speed_Cat', 'geometry', 'Max_speed', 'Speed_Diff_Mean',\n",
       "       'Speed_Diff_Median', 'func_1', 'func_2', 'func_3', 'speed_2', 'speed_3',\n",
       "       'speed_4', 'speed_5', 'speed_6', 'speed_7'],\n",
       "      dtype='object')"
      ]
     },
     "execution_count": 23,
     "metadata": {},
     "output_type": "execute_result"
    }
   ],
   "source": [
    "data_scaled.columns"
   ]
  },
  {
   "cell_type": "markdown",
   "id": "e368d8e2",
   "metadata": {},
   "source": [
    "## Feature engineering"
   ]
  },
  {
   "cell_type": "markdown",
   "id": "b74134e1",
   "metadata": {},
   "source": [
    "We assume that ***over speeding*** is the main reason for road hazards. Over speeding behavior can be extracted by the deltas between the road's speed category and its actual average speed observations as processed in column ```Speed_Diff_Mean```. <br>\n",
    "\n",
    "Over speeding can be harnessed among others by the roads environment [Source](https://www.tandfonline.com/doi/abs/10.1080/014416499295420). People chose their speeding behavior not only by speed limits but also by their assessment of the road's quality and the surrounding environment.<br>\n",
    "\n",
    "Therefore we chose to gather more information about POIs, amenities and public buildings in the surrounding of the provided road segments. Those can be acquired through OSM sources."
   ]
  },
  {
   "cell_type": "markdown",
   "id": "dc82838c",
   "metadata": {},
   "source": [
    "### Scaling data set to Lisbon"
   ]
  },
  {
   "cell_type": "markdown",
   "id": "0b1f185e",
   "metadata": {},
   "source": [
    "#########################################################<br>\n",
    "***_----------FILL WITH EXPLANATION SISTO------------_***<br>\n",
    "#########################################################"
   ]
  },
  {
   "cell_type": "code",
   "execution_count": 24,
   "id": "934ed37d",
   "metadata": {
    "ExecuteTime": {
     "end_time": "2021-04-29T15:36:57.980715Z",
     "start_time": "2021-04-29T15:36:57.919295Z"
    }
   },
   "outputs": [
    {
     "data": {
      "text/plain": [
       "'MultiLineString'"
      ]
     },
     "execution_count": 24,
     "metadata": {},
     "output_type": "execute_result"
    }
   ],
   "source": [
    "# Transforming pandas df to geopandas df\n",
    "geo_df = gpd.GeoDataFrame(data_scaled)\n",
    "geo_df.geometry[0].type"
   ]
  },
  {
   "cell_type": "code",
   "execution_count": 25,
   "id": "a73f9977",
   "metadata": {
    "ExecuteTime": {
     "end_time": "2021-04-29T15:36:59.279458Z",
     "start_time": "2021-04-29T15:36:57.984998Z"
    }
   },
   "outputs": [],
   "source": [
    "## Filtering only lisbon data inside the circle of 38.72526068747401, -9.142352617846093 with buffer '1'\n",
    "circle_lisbon = Point(-9.142352617846093, 38.72526068747401).buffer(1)\n",
    "geo_lis = geo_df[geo_df.geometry.within(circle_lisbon)]\n",
    "# no immediate usage of this pd.DataFrame\n",
    "df_lis = pd.DataFrame(geo_lis).drop(columns=['geometry', 'linkid'])"
   ]
  },
  {
   "cell_type": "code",
   "execution_count": 26,
   "id": "dca7111b",
   "metadata": {
    "ExecuteTime": {
     "end_time": "2021-04-29T15:36:59.324026Z",
     "start_time": "2021-04-29T15:36:59.282549Z"
    }
   },
   "outputs": [
    {
     "name": "stdout",
     "output_type": "stream",
     "text": [
      "The new data set has 17688 rows as opposed to the original set with 34673 rows\n"
     ]
    }
   ],
   "source": [
    "print(f'The new data set has {df_lis.shape[0]} rows as opposed to the original set with {geo_df.shape[0]} rows')"
   ]
  },
  {
   "cell_type": "markdown",
   "id": "motivated-senator",
   "metadata": {
    "ExecuteTime": {
     "end_time": "2021-04-29T14:51:46.299301Z",
     "start_time": "2021-04-29T14:51:46.243243Z"
    }
   },
   "source": [
    "### Loading OSM Maps"
   ]
  },
  {
   "cell_type": "code",
   "execution_count": 27,
   "id": "august-hunter",
   "metadata": {
    "ExecuteTime": {
     "end_time": "2021-04-29T15:37:26.402838Z",
     "start_time": "2021-04-29T15:36:59.330357Z"
    }
   },
   "outputs": [],
   "source": [
    "%%bash\n",
    "wget https://download.bbbike.org/osm/extract/planet_-9.89,38.265_-8.309,39.136.osm.pbf \\\n",
    "    --quiet -O map_data/Lisbon.osm.pbf"
   ]
  },
  {
   "cell_type": "code",
   "execution_count": 28,
   "id": "saving-fifteen",
   "metadata": {
    "ExecuteTime": {
     "end_time": "2021-04-29T15:37:58.571631Z",
     "start_time": "2021-04-29T15:37:26.406348Z"
    }
   },
   "outputs": [
    {
     "name": "stdout",
     "output_type": "stream",
     "text": [
      "INFO: Open of `map_data/Lisbon.osm.pbf'\r\n",
      "      using driver `OSM' successful.\r\n",
      "1: points (Point)\r\n",
      "2: lines (Line String)\r\n",
      "3: multilinestrings (Multi Line String)\r\n",
      "4: multipolygons (Multi Polygon)\r\n",
      "5: other_relations (Geometry Collection)\r\n"
     ]
    }
   ],
   "source": [
    "!ogrinfo map_data/Lisbon.osm.pbf"
   ]
  },
  {
   "cell_type": "code",
   "execution_count": null,
   "id": "enclosed-orientation",
   "metadata": {
    "ExecuteTime": {
     "start_time": "2021-04-29T15:36:44.149Z"
    }
   },
   "outputs": [],
   "source": [
    "%%bash\n",
    "ogr2ogr -f \"GPKG\" \\\n",
    "    map_data/lisbon_polygons.gpkg \\\n",
    "    map_data/Lisbon.osm.pbf \\\n",
    "    -nlt POLYGONS \\\n",
    "    -nln polygons"
   ]
  },
  {
   "cell_type": "code",
   "execution_count": null,
   "id": "adverse-switzerland",
   "metadata": {
    "ExecuteTime": {
     "start_time": "2021-04-29T15:36:44.153Z"
    }
   },
   "outputs": [],
   "source": [
    "#Read data\n",
    "layer_file = \"map_data/lisbon_polygons.gpkg\"\n",
    "collection = list(fiona.open(layer_file,'r'))\n",
    "df1 = pd.DataFrame(collection)\n",
    "\n",
    "#Check Geometry\n",
    "def isvalid(geom):\n",
    "    try:\n",
    "        shape(geom)\n",
    "        return 1\n",
    "    except:\n",
    "        return 0\n",
    "\n",
    "df1['isvalid'] = df1['geometry'].apply(lambda x: isvalid(x))\n",
    "df1 = df1[df1['isvalid'] == 1]\n",
    "collection = json.loads(df1.to_json(orient='records'))\n",
    "\n",
    "#Convert to geodataframe\n",
    "gdf_lis_poly = gpd.GeoDataFrame.from_features(collection)"
   ]
  },
  {
   "cell_type": "code",
   "execution_count": null,
   "id": "combined-bicycle",
   "metadata": {
    "ExecuteTime": {
     "start_time": "2021-04-29T15:36:44.158Z"
    }
   },
   "outputs": [],
   "source": [
    "gdf_lis_poly"
   ]
  },
  {
   "cell_type": "code",
   "execution_count": null,
   "id": "clinical-narrative",
   "metadata": {
    "ExecuteTime": {
     "start_time": "2021-04-29T15:36:44.162Z"
    }
   },
   "outputs": [],
   "source": [
    "poi_gdf = gdf_lis_poly.copy()"
   ]
  },
  {
   "cell_type": "code",
   "execution_count": null,
   "id": "fabulous-dairy",
   "metadata": {
    "ExecuteTime": {
     "start_time": "2021-04-29T15:36:44.166Z"
    }
   },
   "outputs": [],
   "source": [
    "poi_gdf"
   ]
  },
  {
   "cell_type": "markdown",
   "id": "64c818b6",
   "metadata": {},
   "source": [
    "### Loading POIs from pre-processed OSM file"
   ]
  },
  {
   "cell_type": "markdown",
   "id": "beautiful-paper",
   "metadata": {
    "ExecuteTime": {
     "end_time": "2021-04-29T15:00:11.389863Z",
     "start_time": "2021-04-29T15:00:11.333310Z"
    }
   },
   "source": [
    "due to a large data set the file has to be loaded as pd.DataFrame before it can be transformed into a gpd.GeoDataFrame\n",
    "\n",
    "poi_df = pd.read_csv('map_data/gdf_lis_poly.csv')\n",
    "\n",
    "poi_df['geometry'] = poi_df['geometry'].apply(shapely.wkt.loads)\n",
    "\n",
    "poi_gdf = gpd.GeoDataFrame(poi_df, crs='OGC:CRS84')"
   ]
  },
  {
   "cell_type": "markdown",
   "id": "global-bruce",
   "metadata": {
    "ExecuteTime": {
     "end_time": "2021-04-29T14:59:43.228032Z",
     "start_time": "2021-04-29T14:58:26.011Z"
    }
   },
   "source": [
    "poi_gdf = gpd.GeoDataFrame(poi_df, crs='OGC:CRS84')"
   ]
  },
  {
   "cell_type": "code",
   "execution_count": null,
   "id": "3f63606a",
   "metadata": {
    "ExecuteTime": {
     "start_time": "2021-04-29T15:36:44.173Z"
    }
   },
   "outputs": [],
   "source": [
    "print(f'The data set of POIs in the Lisbon region has {poi_gdf.shape[0]} individual points which can be merged with our data set.' )"
   ]
  },
  {
   "cell_type": "code",
   "execution_count": null,
   "id": "8c107486",
   "metadata": {
    "ExecuteTime": {
     "start_time": "2021-04-29T15:36:44.177Z"
    }
   },
   "outputs": [],
   "source": [
    "poi_gdf.geometry.type.value_counts()"
   ]
  },
  {
   "cell_type": "markdown",
   "id": "0925d212",
   "metadata": {},
   "source": [
    "***Note***<br>\n",
    "For now we will only be focussing on the geometrical points in the OSM data, not on polygons or line strings."
   ]
  },
  {
   "cell_type": "code",
   "execution_count": null,
   "id": "searching-threshold",
   "metadata": {
    "ExecuteTime": {
     "start_time": "2021-04-29T15:36:44.181Z"
    }
   },
   "outputs": [],
   "source": [
    "filtering down to shapely.geometry.Points\n",
    "gdf_points = poi_gdf[poi_gdf['geometry'].type == 'Point'].reset_index()\n",
    "gdf_points.columns"
   ]
  },
  {
   "cell_type": "markdown",
   "id": "7730919c",
   "metadata": {},
   "source": [
    "**Note**<br>\n",
    "The points provided are categorized and stored in many columns. We will shrink this information to one column and fill it with all the important information about the point. <br>\n",
    "Some points do not provide any information. Those ones will be dropped. "
   ]
  },
  {
   "cell_type": "code",
   "execution_count": null,
   "id": "c7d2aa70",
   "metadata": {
    "ExecuteTime": {
     "start_time": "2021-04-29T15:36:44.186Z"
    }
   },
   "outputs": [],
   "source": [
    "# reducing geo_df columns, only leaving one valid column\n",
    "def new_desc(geo):\n",
    "    geo['desc_points'] = None\n",
    "    # columns to be taken into consideration\n",
    "    lst_cols = [  'amenity', \n",
    "                  'barrier', \n",
    "                  'building', \n",
    "                  'highway', \n",
    "                  'landuse', \n",
    "                  'man_made', \n",
    "                  'natural', \n",
    "                  'office']\n",
    "    for c, row in geo.iterrows():\n",
    "        concat_name = [f'feat_{i}_{row[i]}' for i in lst_cols if row[i] == row[i]]\n",
    "        if len(concat_name) > 0:\n",
    "            geo.at[c, 'desc_points'] = concat_name[0]\n",
    "        else: \n",
    "            geo.at[c, 'desc_points'] = None\n",
    "        print(f'done: {c}')\n",
    "        \n",
    "    \n",
    "    geo = geo[['geometry', 'desc_points']]\n",
    "    # drop empty descriptions\n",
    "    geo = geo.dropna(subset=['desc_points'])\n",
    "    geo= geo.reset_index(drop=True)\n",
    "    \n",
    "    return geo"
   ]
  },
  {
   "cell_type": "code",
   "execution_count": null,
   "id": "ed2a611b",
   "metadata": {
    "ExecuteTime": {
     "start_time": "2021-04-29T15:36:44.190Z"
    }
   },
   "outputs": [],
   "source": [
    "# applying cleaning function to geo df\n",
    "gdf_points_clean = new_desc(gdf_points)"
   ]
  },
  {
   "cell_type": "code",
   "execution_count": null,
   "id": "80824c03",
   "metadata": {
    "ExecuteTime": {
     "start_time": "2021-04-29T15:36:44.193Z"
    }
   },
   "outputs": [],
   "source": [
    "gdf_points_clean.head(5)\n",
    "# only two columns are left => geometry and name of point"
   ]
  },
  {
   "cell_type": "markdown",
   "id": "0e6bbfc6",
   "metadata": {},
   "source": [
    "### Re-transforming point's names into columns"
   ]
  },
  {
   "cell_type": "markdown",
   "id": "35268afb",
   "metadata": {},
   "source": [
    "To prepare the dataset of points for the merger with the general data set we need to re-transfer the unique feature names into columns. In total we have **96** feature columns."
   ]
  },
  {
   "cell_type": "code",
   "execution_count": null,
   "id": "666f06cb",
   "metadata": {
    "ExecuteTime": {
     "start_time": "2021-04-29T15:36:44.198Z"
    }
   },
   "outputs": [],
   "source": [
    "# encoding all unique values\n",
    "encoder = OneHotEncoder()\n",
    "enc_df = encoder.fit_transform(gdf_points_clean[['desc_points']])"
   ]
  },
  {
   "cell_type": "code",
   "execution_count": null,
   "id": "15dfc7d7",
   "metadata": {
    "ExecuteTime": {
     "start_time": "2021-04-29T15:36:44.202Z"
    }
   },
   "outputs": [],
   "source": [
    "# reapplying column names\n",
    "enc_gdf_points = gpd.GeoDataFrame(enc_df.toarray(), columns=encoder.categories_[0])\n",
    "enc_gdf_points = enc_gdf_points.join(gdf_points_clean)"
   ]
  },
  {
   "cell_type": "markdown",
   "id": "846aec12",
   "metadata": {},
   "source": [
    "**Note**<br>\n",
    "We need the ```desc_points``` column for later plotting."
   ]
  },
  {
   "cell_type": "code",
   "execution_count": null,
   "id": "9d306b03",
   "metadata": {
    "ExecuteTime": {
     "start_time": "2021-04-29T15:36:44.207Z"
    }
   },
   "outputs": [],
   "source": [
    "enc_gdf_points.max()"
   ]
  },
  {
   "cell_type": "markdown",
   "id": "43865152",
   "metadata": {},
   "source": [
    "### Merging Points with Road segments"
   ]
  },
  {
   "cell_type": "markdown",
   "id": "b8873f1e",
   "metadata": {},
   "source": [
    "In order to merge the points with the provided road segments we need to buffer the LineStrings of the roads and turn them into little Polygons in order to overlap with the POIs around the road. Later we will use the ```.intersect``` method for spatial joins to keep only the points which are in the vicinity of the road segments."
   ]
  },
  {
   "cell_type": "code",
   "execution_count": null,
   "id": "1f2ecbbe",
   "metadata": {
    "ExecuteTime": {
     "start_time": "2021-04-29T15:36:44.212Z"
    }
   },
   "outputs": [],
   "source": [
    "# create a gdf with buffered road segments\n",
    "geo_lis_buf = geo_lis.copy()\n",
    "# allowing certain buffer to road segments to \"catch\" the points. buffer=.0005 seems to be visually adequate.\n",
    "geo_lis_buf['geometry'] = geo_lis_buf.geometry.buffer(.0005)"
   ]
  },
  {
   "cell_type": "code",
   "execution_count": null,
   "id": "0a3f31be",
   "metadata": {
    "ExecuteTime": {
     "start_time": "2021-04-29T15:36:44.216Z"
    }
   },
   "outputs": [],
   "source": [
    "# joining both geo dfs\n",
    "joint_gpd = gpd.sjoin(enc_gdf_points, geo_lis_buf, how=\"inner\", op='intersects')"
   ]
  },
  {
   "cell_type": "code",
   "execution_count": null,
   "id": "0b3928b2",
   "metadata": {
    "ExecuteTime": {
     "start_time": "2021-04-29T15:36:44.218Z"
    }
   },
   "outputs": [],
   "source": [
    "print(f'We have {joint_gpd.shape[0]} intersecting points with our road segments.')"
   ]
  },
  {
   "cell_type": "markdown",
   "id": "ffd577a4",
   "metadata": {},
   "source": [
    "**Note**<br>\n",
    "Now, we want to regroup the GDF back to our initial granularity, the road segments with unique link_IDs."
   ]
  },
  {
   "cell_type": "code",
   "execution_count": null,
   "id": "32008c84",
   "metadata": {
    "ExecuteTime": {
     "start_time": "2021-04-29T15:36:44.222Z"
    }
   },
   "outputs": [],
   "source": [
    "# building the aggregation dictionary for the .groupby method\n",
    "columns = joint_gpd.columns\n",
    "agg = {i:'sum' for i in columns if 'feat' in i}\n",
    "agg['geometry'] = lambda x: list(x)\n",
    "agg['desc_points'] = lambda x: list(x)\n",
    "# agg\n",
    "# all POIs should be summed, but the geometries of the containing points are to be listed in one cell."
   ]
  },
  {
   "cell_type": "code",
   "execution_count": null,
   "id": "d1f03857",
   "metadata": {
    "ExecuteTime": {
     "start_time": "2021-04-29T15:36:44.225Z"
    }
   },
   "outputs": [],
   "source": [
    "# regrouping by linkid\n",
    "grouped_gpd = joint_gpd.groupby('linkid').agg(agg)\n",
    "# renaming the 'geometry' column so that the gdf won't be confused later\n",
    "grouped_gpd = grouped_gpd.rename(columns={'geometry':'points'})"
   ]
  },
  {
   "cell_type": "markdown",
   "id": "6e9dea6d",
   "metadata": {},
   "source": [
    "**Note**<br>\n",
    "Only road segments which contained one or more points will be left in the gdf"
   ]
  },
  {
   "cell_type": "code",
   "execution_count": null,
   "id": "f4b00617",
   "metadata": {
    "ExecuteTime": {
     "start_time": "2021-04-29T15:36:44.229Z"
    }
   },
   "outputs": [],
   "source": [
    "geo_df_lis = geo_lis.merge(grouped_gpd, left_on='linkid', right_index=True)\n",
    "geo_df_lis['point_count'] = geo_df_lis['points'].apply(lambda x: len(x))"
   ]
  },
  {
   "cell_type": "code",
   "execution_count": null,
   "id": "d4277010",
   "metadata": {
    "ExecuteTime": {
     "start_time": "2021-04-29T15:36:44.232Z"
    }
   },
   "outputs": [],
   "source": [
    "# have a glance at the merged df\n",
    "pd.set_option('display.max_columns', None)\n",
    "geo_df_lis.head(3)"
   ]
  },
  {
   "cell_type": "code",
   "execution_count": null,
   "id": "6d1f00ff",
   "metadata": {
    "ExecuteTime": {
     "start_time": "2021-04-29T15:36:44.236Z"
    }
   },
   "outputs": [],
   "source": [
    "geo_df_lis = geo_df_lis.sort_values(by='linkid')"
   ]
  },
  {
   "cell_type": "markdown",
   "id": "eba5f7a6",
   "metadata": {},
   "source": [
    "### Testplots for the merged data"
   ]
  },
  {
   "cell_type": "code",
   "execution_count": null,
   "id": "95db6c04",
   "metadata": {
    "ExecuteTime": {
     "start_time": "2021-04-29T15:36:44.241Z"
    }
   },
   "outputs": [],
   "source": [
    "# set of points to make them readable for the Marker (folium)\n",
    "coords = [[(point.coords.xy[1][0], point.coords.xy[0][0]) for point in x] for x in geo_df_lis.head(100).points]\n",
    "names = [x for x in geo_df_lis.head(100).desc_points]\n",
    "map_lis_buf = geo_df_lis.copy()\n",
    "map_lis_buf['geometry'] = map_lis_buf.geometry.buffer(.0005)"
   ]
  },
  {
   "cell_type": "code",
   "execution_count": null,
   "id": "a9fcb34b",
   "metadata": {
    "ExecuteTime": {
     "start_time": "2021-04-29T15:36:44.245Z"
    }
   },
   "outputs": [],
   "source": [
    "# init map\n",
    "m = Map([38.74288, -9.16624])\n",
    "\n",
    "# unpacking list of lists containing points, mapping them to their names\n",
    "## POINTS (only a subset of 100)\n",
    "marker_cluster = MarkerCluster(name='Points')\n",
    "for i, coordi in enumerate(coords[:100]):\n",
    "    popups = [Popup(f'<p><b>Name:</b></p> <p>{a}</p>', max_width=150) for a in names[i]]\n",
    "    markers = [Marker(coord, popup=popups[c]).add_to(marker_cluster) for c, coord in enumerate(coordi)]\n",
    "\n",
    "print('built points')\n",
    "\n",
    "## BUFFERED ROADS (enable via layer control)\n",
    "# only the first 100\n",
    "roads_buf = Choropleth(geo_data=map_lis_buf.head(100).geometry,\n",
    "                          data=None, \n",
    "                          name=\"roads_buf\", \n",
    "                          show=False)\n",
    "\n",
    "\n",
    "## ROADS\n",
    "roads = Choropleth(geo_data=geo_df_lis.head(100).geometry,\n",
    "                          data=None, \n",
    "                          name=\"roads\", \n",
    "                          show=True)\n",
    "\n",
    "print('built roads')\n",
    "\n",
    "marker_cluster.add_to(m)\n",
    "roads_buf.add_to(m)\n",
    "roads.add_to(m)\n",
    "\n",
    "\n",
    "\n",
    "LayerControl().add_to(m)\n",
    "m"
   ]
  },
  {
   "cell_type": "markdown",
   "id": "462a6ff2",
   "metadata": {},
   "source": [
    "**Note**<br>\n",
    "The displayed points all seem to be within the boundaries of the buffered road segments 🛣.<br>\n",
    "NOT ALL points are displayed. That would take up too much memory. "
   ]
  },
  {
   "cell_type": "markdown",
   "id": "hired-boost",
   "metadata": {},
   "source": [
    "## Modeling"
   ]
  },
  {
   "cell_type": "markdown",
   "id": "pharmaceutical-sculpture",
   "metadata": {
    "ExecuteTime": {
     "end_time": "2021-04-29T14:36:38.823244Z",
     "start_time": "2021-04-29T14:36:38.796794Z"
    }
   },
   "source": [
    "### Scaling new features"
   ]
  },
  {
   "cell_type": "code",
   "execution_count": null,
   "id": "2fcc9f70",
   "metadata": {
    "ExecuteTime": {
     "start_time": "2021-04-29T15:36:44.252Z"
    }
   },
   "outputs": [],
   "source": [
    "def standard_scaling(df, columns):\n",
    "    scaler = StandardScaler()\n",
    "    df.loc[:,columns] = scaler.fit_transform(df.loc[:,columns])"
   ]
  },
  {
   "cell_type": "markdown",
   "id": "prompt-sheffield",
   "metadata": {
    "ExecuteTime": {
     "end_time": "2021-04-29T14:37:00.853348Z",
     "start_time": "2021-04-29T14:37:00.828933Z"
    }
   },
   "source": [
    "### Baseline Model"
   ]
  },
  {
   "cell_type": "code",
   "execution_count": null,
   "id": "dried-multiple",
   "metadata": {
    "ExecuteTime": {
     "start_time": "2021-04-29T15:36:44.257Z"
    }
   },
   "outputs": [],
   "source": [
    "from sklearn.model_selection import train_test_split\n",
    "from sklearn.dummy import DummyRegressor\n",
    "from sklearn.linear_model import LinearRegression\n",
    "from sklearn.model_selection import cross_validate"
   ]
  },
  {
   "cell_type": "code",
   "execution_count": null,
   "id": "similar-corruption",
   "metadata": {
    "ExecuteTime": {
     "start_time": "2021-04-29T15:36:44.262Z"
    }
   },
   "outputs": [],
   "source": [
    "# Prepare X and y\n",
    "X = final_data.drop(columns='Speed_Diff_Mean')\n",
    "y = final_data['Speed_Diff_Mean']\n",
    "\n",
    "\n",
    "X_train, X_test, y_train, y_test = train_test_split(X, y,\n",
    "                                                    test_size = 0.3, \n",
    "                                                    random_state = 6) # Holdout\n",
    "\n",
    "\n",
    "baseline_model = DummyRegressor(strategy=\"mean\") # Baseline\n",
    "baseline_model.fit(X_train, y_train) # Calculate value for stratgy\n",
    "baseline_model.score(X_test, y_test) # Score model based on consistently predicting the strategy"
   ]
  },
  {
   "cell_type": "markdown",
   "id": "extended-business",
   "metadata": {
    "ExecuteTime": {
     "end_time": "2021-04-29T14:37:29.540586Z",
     "start_time": "2021-04-29T14:37:29.516377Z"
    }
   },
   "source": [
    "### Linear Regression"
   ]
  },
  {
   "cell_type": "code",
   "execution_count": null,
   "id": "wrong-frost",
   "metadata": {
    "ExecuteTime": {
     "start_time": "2021-04-29T15:36:44.268Z"
    }
   },
   "outputs": [],
   "source": [
    "model = LinearRegression().fit(X_train, y_train) # instantiate and fit model \n",
    "\n",
    "model.score(X_test, y_test) # Score model"
   ]
  },
  {
   "cell_type": "code",
   "execution_count": null,
   "id": "chicken-cooling",
   "metadata": {
    "ExecuteTime": {
     "start_time": "2021-04-29T15:36:44.271Z"
    }
   },
   "outputs": [],
   "source": [
    "cv_results = cross_validate(model, X, y, cv=5, \n",
    "                            scoring=['max_error',\n",
    "                                     'r2', \n",
    "                                     'neg_mean_absolute_error',\n",
    "                                     'neg_mean_squared_error']\n",
    "                           )\n",
    "pd.DataFrame(cv_results) # Cross validation output"
   ]
  },
  {
   "cell_type": "code",
   "execution_count": null,
   "id": "boring-focus",
   "metadata": {
    "ExecuteTime": {
     "start_time": "2021-04-29T15:36:44.275Z"
    }
   },
   "outputs": [],
   "source": [
    "cv_results['test_r2'].mean()# Cross validation results"
   ]
  }
 ],
 "metadata": {
  "kernelspec": {
   "display_name": "Python 3",
   "language": "python",
   "name": "python3"
  },
  "language_info": {
   "codemirror_mode": {
    "name": "ipython",
    "version": 3
   },
   "file_extension": ".py",
   "mimetype": "text/x-python",
   "name": "python",
   "nbconvert_exporter": "python",
   "pygments_lexer": "ipython3",
   "version": "3.8.6"
  },
  "toc": {
   "base_numbering": 1,
   "nav_menu": {},
   "number_sections": true,
   "sideBar": true,
   "skip_h1_title": false,
   "title_cell": "Table of Contents",
   "title_sidebar": "Contents",
   "toc_cell": false,
   "toc_position": {},
   "toc_section_display": true,
   "toc_window_display": false
  }
 },
 "nbformat": 4,
 "nbformat_minor": 5
}
