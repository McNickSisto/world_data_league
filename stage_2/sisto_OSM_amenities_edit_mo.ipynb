{
 "cells": [
  {
   "cell_type": "code",
   "execution_count": 21,
   "id": "statutory-congo",
   "metadata": {
    "ExecuteTime": {
     "end_time": "2021-04-28T09:23:21.929798Z",
     "start_time": "2021-04-28T09:23:21.919472Z"
    }
   },
   "outputs": [
    {
     "name": "stdout",
     "output_type": "stream",
     "text": [
      "pandas 1.2.4\n",
      "geopandas 0.9.0\n"
     ]
    }
   ],
   "source": [
    "import requests\n",
    "import numpy as np\n",
    "import pandas as pd\n",
    "import matplotlib.pyplot as plt\n",
    "import osmnx as ox\n",
    "import geopandas as gpd\n",
    "import osmium\n",
    "from shapely.geometry import Polygon\n",
    "import json\n",
    "import fiona\n",
    "from shapely.geometry import shape \n",
    "import shapely\n",
    "\n",
    "for module in [pd, gpd]:\n",
    "    print(module.__name__, module.__version__)"
   ]
  },
  {
   "cell_type": "code",
   "execution_count": 11,
   "id": "protective-comedy",
   "metadata": {
    "ExecuteTime": {
     "end_time": "2021-04-28T07:56:12.475586Z",
     "start_time": "2021-04-28T07:56:12.471541Z"
    }
   },
   "outputs": [],
   "source": [
    "pd.set_option('display.max_columns', None)"
   ]
  },
  {
   "cell_type": "code",
   "execution_count": 13,
   "id": "limited-plastic",
   "metadata": {
    "ExecuteTime": {
     "end_time": "2021-04-28T08:00:53.429933Z",
     "start_time": "2021-04-28T08:00:48.705833Z"
    }
   },
   "outputs": [],
   "source": [
    "%%bash\n",
    "wget https://download.bbbike.org/osm/extract/planet_-9.192,40.715_-7.611,41.555.osm.pbf \\\n",
    "    --quiet -O map_data/Porto.osm.pbf"
   ]
  },
  {
   "cell_type": "code",
   "execution_count": 14,
   "id": "worse-nudist",
   "metadata": {
    "ExecuteTime": {
     "end_time": "2021-04-28T08:00:58.733489Z",
     "start_time": "2021-04-28T08:00:53.436506Z"
    }
   },
   "outputs": [],
   "source": [
    "%%bash\n",
    "wget https://download.bbbike.org/osm/extract/planet_-9.89,38.265_-8.309,39.136.osm.pbf \\\n",
    "    --quiet -O map_data/Lisbon.osm.pbf"
   ]
  },
  {
   "cell_type": "code",
   "execution_count": 18,
   "id": "younger-cargo",
   "metadata": {
    "ExecuteTime": {
     "end_time": "2021-04-28T08:06:49.532646Z",
     "start_time": "2021-04-28T08:06:42.015468Z"
    },
    "scrolled": true
   },
   "outputs": [
    {
     "name": "stdout",
     "output_type": "stream",
     "text": [
      "INFO: Open of `map_data/Lisbon.osm.pbf'\r\n",
      "      using driver `OSM' successful.\r\n",
      "1: points (Point)\r\n",
      "2: lines (Line String)\r\n",
      "3: multilinestrings (Multi Line String)\r\n",
      "4: multipolygons (Multi Polygon)\r\n",
      "5: other_relations (Geometry Collection)\r\n"
     ]
    }
   ],
   "source": [
    "!ogrinfo map_data/Lisbon.osm.pbf"
   ]
  },
  {
   "cell_type": "markdown",
   "id": "second-justice",
   "metadata": {
    "ExecuteTime": {
     "end_time": "2021-04-27T15:22:13.804235Z",
     "start_time": "2021-04-27T15:22:12.620623Z"
    }
   },
   "source": [
    "%%bash\n",
    "ogr2ogr -f \"GPKG\" \\\n",
    "    map_data/lisbon-amenities.gpkg \\\n",
    "    map_data/Lisbon.osm.pbf \\\n",
    "    -where \"amenity is not null\" \\\n",
    "    POINTS \\\n",
    "    -nln amenity"
   ]
  },
  {
   "cell_type": "markdown",
   "id": "cheap-dryer",
   "metadata": {},
   "source": [
    "gdf_lis_amenities = gpd.read_file(\"map_data/lisbon-amenities.gpkg\", driver='GPKG')\n",
    "gdf_lis_amenities"
   ]
  },
  {
   "cell_type": "code",
   "execution_count": 19,
   "id": "eastern-cornwall",
   "metadata": {
    "ExecuteTime": {
     "end_time": "2021-04-28T08:06:58.564668Z",
     "start_time": "2021-04-28T08:06:56.091812Z"
    }
   },
   "outputs": [
    {
     "name": "stdout",
     "output_type": "stream",
     "text": [
      "0...10...20...30...40...50...60...70...80...90...100 - done.\n"
     ]
    }
   ],
   "source": [
    "%%bash\n",
    "ogr2ogr -f \"GPKG\" \\\n",
    "    map_data/lisbon-all.gpkg \\\n",
    "    map_data/Lisbon.osm.pbf \\\n",
    "    POINTS \\\n",
    "    -nln all"
   ]
  },
  {
   "cell_type": "code",
   "execution_count": 20,
   "id": "suspended-sustainability",
   "metadata": {
    "ExecuteTime": {
     "end_time": "2021-04-28T08:07:00.984109Z",
     "start_time": "2021-04-28T08:06:58.566050Z"
    },
    "scrolled": false
   },
   "outputs": [
    {
     "data": {
      "text/html": [
       "<div>\n",
       "<style scoped>\n",
       "    .dataframe tbody tr th:only-of-type {\n",
       "        vertical-align: middle;\n",
       "    }\n",
       "\n",
       "    .dataframe tbody tr th {\n",
       "        vertical-align: top;\n",
       "    }\n",
       "\n",
       "    .dataframe thead th {\n",
       "        text-align: right;\n",
       "    }\n",
       "</style>\n",
       "<table border=\"1\" class=\"dataframe\">\n",
       "  <thead>\n",
       "    <tr style=\"text-align: right;\">\n",
       "      <th></th>\n",
       "      <th>osm_id</th>\n",
       "      <th>name</th>\n",
       "      <th>barrier</th>\n",
       "      <th>highway</th>\n",
       "      <th>ref</th>\n",
       "      <th>address</th>\n",
       "      <th>is_in</th>\n",
       "      <th>place</th>\n",
       "      <th>man_made</th>\n",
       "      <th>other_tags</th>\n",
       "      <th>geometry</th>\n",
       "    </tr>\n",
       "  </thead>\n",
       "  <tbody>\n",
       "    <tr>\n",
       "      <th>0</th>\n",
       "      <td>20629108</td>\n",
       "      <td>Lapa da Serra</td>\n",
       "      <td>None</td>\n",
       "      <td>None</td>\n",
       "      <td>None</td>\n",
       "      <td>None</td>\n",
       "      <td>None</td>\n",
       "      <td>neighbourhood</td>\n",
       "      <td>None</td>\n",
       "      <td>None</td>\n",
       "      <td>POINT (-9.39964 38.95586)</td>\n",
       "    </tr>\n",
       "    <tr>\n",
       "      <th>1</th>\n",
       "      <td>20629118</td>\n",
       "      <td>None</td>\n",
       "      <td>None</td>\n",
       "      <td>crossing</td>\n",
       "      <td>None</td>\n",
       "      <td>None</td>\n",
       "      <td>None</td>\n",
       "      <td>None</td>\n",
       "      <td>None</td>\n",
       "      <td>None</td>\n",
       "      <td>POINT (-9.41390 38.96183)</td>\n",
       "    </tr>\n",
       "    <tr>\n",
       "      <th>2</th>\n",
       "      <td>21272086</td>\n",
       "      <td>None</td>\n",
       "      <td>None</td>\n",
       "      <td>crossing</td>\n",
       "      <td>None</td>\n",
       "      <td>None</td>\n",
       "      <td>None</td>\n",
       "      <td>None</td>\n",
       "      <td>None</td>\n",
       "      <td>\"crossing\"=&gt;\"uncontrolled\",\"crossing_ref\"=&gt;\"ze...</td>\n",
       "      <td>POINT (-9.18832 38.74858)</td>\n",
       "    </tr>\n",
       "    <tr>\n",
       "      <th>3</th>\n",
       "      <td>21404046</td>\n",
       "      <td>None</td>\n",
       "      <td>None</td>\n",
       "      <td>bus_stop</td>\n",
       "      <td>None</td>\n",
       "      <td>None</td>\n",
       "      <td>None</td>\n",
       "      <td>None</td>\n",
       "      <td>None</td>\n",
       "      <td>None</td>\n",
       "      <td>POINT (-9.45296 38.75312)</td>\n",
       "    </tr>\n",
       "    <tr>\n",
       "      <th>4</th>\n",
       "      <td>21404049</td>\n",
       "      <td>None</td>\n",
       "      <td>None</td>\n",
       "      <td>bus_stop</td>\n",
       "      <td>None</td>\n",
       "      <td>None</td>\n",
       "      <td>None</td>\n",
       "      <td>None</td>\n",
       "      <td>None</td>\n",
       "      <td>None</td>\n",
       "      <td>POINT (-9.45655 38.75241)</td>\n",
       "    </tr>\n",
       "    <tr>\n",
       "      <th>...</th>\n",
       "      <td>...</td>\n",
       "      <td>...</td>\n",
       "      <td>...</td>\n",
       "      <td>...</td>\n",
       "      <td>...</td>\n",
       "      <td>...</td>\n",
       "      <td>...</td>\n",
       "      <td>...</td>\n",
       "      <td>...</td>\n",
       "      <td>...</td>\n",
       "      <td>...</td>\n",
       "    </tr>\n",
       "    <tr>\n",
       "      <th>99115</th>\n",
       "      <td>8641657617</td>\n",
       "      <td>None</td>\n",
       "      <td>None</td>\n",
       "      <td>None</td>\n",
       "      <td>None</td>\n",
       "      <td>None</td>\n",
       "      <td>None</td>\n",
       "      <td>None</td>\n",
       "      <td>windmill</td>\n",
       "      <td>None</td>\n",
       "      <td>POINT (-9.25846 38.83832)</td>\n",
       "    </tr>\n",
       "    <tr>\n",
       "      <th>99116</th>\n",
       "      <td>8641657618</td>\n",
       "      <td>None</td>\n",
       "      <td>None</td>\n",
       "      <td>None</td>\n",
       "      <td>None</td>\n",
       "      <td>None</td>\n",
       "      <td>None</td>\n",
       "      <td>None</td>\n",
       "      <td>windmill</td>\n",
       "      <td>None</td>\n",
       "      <td>POINT (-9.26068 38.83765)</td>\n",
       "    </tr>\n",
       "    <tr>\n",
       "      <th>99117</th>\n",
       "      <td>8641657619</td>\n",
       "      <td>None</td>\n",
       "      <td>None</td>\n",
       "      <td>None</td>\n",
       "      <td>None</td>\n",
       "      <td>None</td>\n",
       "      <td>None</td>\n",
       "      <td>None</td>\n",
       "      <td>windmill</td>\n",
       "      <td>None</td>\n",
       "      <td>POINT (-9.25440 38.84683)</td>\n",
       "    </tr>\n",
       "    <tr>\n",
       "      <th>99118</th>\n",
       "      <td>8641657620</td>\n",
       "      <td>None</td>\n",
       "      <td>None</td>\n",
       "      <td>None</td>\n",
       "      <td>None</td>\n",
       "      <td>None</td>\n",
       "      <td>None</td>\n",
       "      <td>None</td>\n",
       "      <td>windmill</td>\n",
       "      <td>None</td>\n",
       "      <td>POINT (-9.25396 38.84726)</td>\n",
       "    </tr>\n",
       "    <tr>\n",
       "      <th>99119</th>\n",
       "      <td>8641657621</td>\n",
       "      <td>None</td>\n",
       "      <td>None</td>\n",
       "      <td>None</td>\n",
       "      <td>None</td>\n",
       "      <td>None</td>\n",
       "      <td>None</td>\n",
       "      <td>None</td>\n",
       "      <td>windmill</td>\n",
       "      <td>None</td>\n",
       "      <td>POINT (-9.25328 38.84775)</td>\n",
       "    </tr>\n",
       "  </tbody>\n",
       "</table>\n",
       "<p>99120 rows × 11 columns</p>\n",
       "</div>"
      ],
      "text/plain": [
       "           osm_id           name barrier   highway   ref address is_in  \\\n",
       "0        20629108  Lapa da Serra    None      None  None    None  None   \n",
       "1        20629118           None    None  crossing  None    None  None   \n",
       "2        21272086           None    None  crossing  None    None  None   \n",
       "3        21404046           None    None  bus_stop  None    None  None   \n",
       "4        21404049           None    None  bus_stop  None    None  None   \n",
       "...           ...            ...     ...       ...   ...     ...   ...   \n",
       "99115  8641657617           None    None      None  None    None  None   \n",
       "99116  8641657618           None    None      None  None    None  None   \n",
       "99117  8641657619           None    None      None  None    None  None   \n",
       "99118  8641657620           None    None      None  None    None  None   \n",
       "99119  8641657621           None    None      None  None    None  None   \n",
       "\n",
       "               place  man_made  \\\n",
       "0      neighbourhood      None   \n",
       "1               None      None   \n",
       "2               None      None   \n",
       "3               None      None   \n",
       "4               None      None   \n",
       "...              ...       ...   \n",
       "99115           None  windmill   \n",
       "99116           None  windmill   \n",
       "99117           None  windmill   \n",
       "99118           None  windmill   \n",
       "99119           None  windmill   \n",
       "\n",
       "                                              other_tags  \\\n",
       "0                                                   None   \n",
       "1                                                   None   \n",
       "2      \"crossing\"=>\"uncontrolled\",\"crossing_ref\"=>\"ze...   \n",
       "3                                                   None   \n",
       "4                                                   None   \n",
       "...                                                  ...   \n",
       "99115                                               None   \n",
       "99116                                               None   \n",
       "99117                                               None   \n",
       "99118                                               None   \n",
       "99119                                               None   \n",
       "\n",
       "                        geometry  \n",
       "0      POINT (-9.39964 38.95586)  \n",
       "1      POINT (-9.41390 38.96183)  \n",
       "2      POINT (-9.18832 38.74858)  \n",
       "3      POINT (-9.45296 38.75312)  \n",
       "4      POINT (-9.45655 38.75241)  \n",
       "...                          ...  \n",
       "99115  POINT (-9.25846 38.83832)  \n",
       "99116  POINT (-9.26068 38.83765)  \n",
       "99117  POINT (-9.25440 38.84683)  \n",
       "99118  POINT (-9.25396 38.84726)  \n",
       "99119  POINT (-9.25328 38.84775)  \n",
       "\n",
       "[99120 rows x 11 columns]"
      ]
     },
     "execution_count": 20,
     "metadata": {},
     "output_type": "execute_result"
    }
   ],
   "source": [
    "gdf_lis_pts = gpd.read_file(\"map_data/lisbon-all.gpkg\", drive = 'GPKG')\n",
    "gdf_lis_pts"
   ]
  },
  {
   "cell_type": "code",
   "execution_count": 21,
   "id": "exotic-roberts",
   "metadata": {
    "ExecuteTime": {
     "end_time": "2021-04-28T08:07:00.994589Z",
     "start_time": "2021-04-28T08:07:00.985522Z"
    }
   },
   "outputs": [
    {
     "data": {
      "text/plain": [
       "array([None, 'crossing', 'bus_stop', 'motorway_junction',\n",
       "       'traffic_signals', 'turning_circle', 'services', 'mini_roundabout',\n",
       "       'speed_camera', 'traffic_signals;crossing', 'give_way', 'elevator',\n",
       "       'stop', 'turning_loop', 'emergency_access_point', 'street_lamp',\n",
       "       'trailhead', 'toll_gantry', 'rest_area', 'traffic_mirror',\n",
       "       'platform', 'steps', 'raceway', 'footway', 'milestone', 'path',\n",
       "       'crossing;traffic_signals'], dtype=object)"
      ]
     },
     "execution_count": 21,
     "metadata": {},
     "output_type": "execute_result"
    }
   ],
   "source": [
    "gdf_lis_pts['highway'].unique()"
   ]
  },
  {
   "cell_type": "markdown",
   "id": "catholic-motion",
   "metadata": {},
   "source": [
    "## Other Geometries"
   ]
  },
  {
   "cell_type": "markdown",
   "id": "twelve-williams",
   "metadata": {
    "ExecuteTime": {
     "end_time": "2021-04-27T15:37:17.064140Z",
     "start_time": "2021-04-27T15:37:17.059649Z"
    }
   },
   "source": [
    "### Multipoints - Relations"
   ]
  },
  {
   "cell_type": "code",
   "execution_count": 22,
   "id": "neutral-valuation",
   "metadata": {
    "ExecuteTime": {
     "end_time": "2021-04-28T08:07:31.943843Z",
     "start_time": "2021-04-28T08:07:14.077615Z"
    }
   },
   "outputs": [
    {
     "name": "stdout",
     "output_type": "stream",
     "text": [
      "0...10...20...30...40...50...60...70...80...90...100 - done.\n"
     ]
    },
    {
     "name": "stderr",
     "output_type": "stream",
     "text": [
      "Warning 1: A geometry of type LINESTRING is inserted into layer multipoints of geometry type MULTIPOINT, which is not normally allowed by the GeoPackage specification, but the driver will however do it. To create a conformant GeoPackage, if using ogr2ogr, the -nlt option can be used to override the layer geometry type. This warning will no longer be emitted for this combination of layer and feature geometry type.\n",
      "Warning 1: A geometry of type MULTILINESTRING is inserted into layer multipoints of geometry type MULTIPOINT, which is not normally allowed by the GeoPackage specification, but the driver will however do it. To create a conformant GeoPackage, if using ogr2ogr, the -nlt option can be used to override the layer geometry type. This warning will no longer be emitted for this combination of layer and feature geometry type.\n",
      "Warning 1: A geometry of type MULTIPOLYGON is inserted into layer multipoints of geometry type MULTIPOINT, which is not normally allowed by the GeoPackage specification, but the driver will however do it. To create a conformant GeoPackage, if using ogr2ogr, the -nlt option can be used to override the layer geometry type. This warning will no longer be emitted for this combination of layer and feature geometry type.\n",
      "Warning 1: A geometry of type GEOMETRYCOLLECTION is inserted into layer multipoints of geometry type MULTIPOINT, which is not normally allowed by the GeoPackage specification, but the driver will however do it. To create a conformant GeoPackage, if using ogr2ogr, the -nlt option can be used to override the layer geometry type. This warning will no longer be emitted for this combination of layer and feature geometry type.\n"
     ]
    }
   ],
   "source": [
    "%%bash\n",
    "ogr2ogr -f \"GPKG\" \\\n",
    "    map_data/lisbon_multipoints.gpkg \\\n",
    "    map_data/Lisbon.osm.pbf \\\n",
    "    -nlt MULTIPOINTS \\\n",
    "    -nln multipoints"
   ]
  },
  {
   "cell_type": "code",
   "execution_count": 23,
   "id": "eligible-daily",
   "metadata": {
    "ExecuteTime": {
     "end_time": "2021-04-28T08:09:01.255209Z",
     "start_time": "2021-04-28T08:07:31.945281Z"
    }
   },
   "outputs": [],
   "source": [
    "#Read data\n",
    "layer_file = \"map_data/lisbon_multipoints.gpkg\"\n",
    "collection = list(fiona.open(layer_file,'r'))\n",
    "df1 = pd.DataFrame(collection)\n",
    "\n",
    "#Check Geometry\n",
    "def isvalid(geom):\n",
    "    try:\n",
    "        shape(geom)\n",
    "        return 1\n",
    "    except:\n",
    "        return 0\n",
    "    \n",
    "df1['isvalid'] = df1['geometry'].apply(lambda x: isvalid(x))\n",
    "df1 = df1[df1['isvalid'] == 1]\n",
    "collection = json.loads(df1.to_json(orient='records'))\n",
    "\n",
    "#Convert to geodataframe\n",
    "gdf_lis_mp = gpd.GeoDataFrame.from_features(collection)"
   ]
  },
  {
   "cell_type": "code",
   "execution_count": 24,
   "id": "molecular-hamburg",
   "metadata": {
    "ExecuteTime": {
     "end_time": "2021-04-28T08:09:02.478826Z",
     "start_time": "2021-04-28T08:09:01.287983Z"
    }
   },
   "outputs": [
    {
     "data": {
      "text/plain": [
       "array(['MultiPoint', 'LineString', 'MultiLineString', 'MultiPolygon',\n",
       "       'GeometryCollection'], dtype=object)"
      ]
     },
     "execution_count": 24,
     "metadata": {},
     "output_type": "execute_result"
    }
   ],
   "source": [
    "gdf_lis_mp.geometry.type.unique()"
   ]
  },
  {
   "cell_type": "markdown",
   "id": "further-hamilton",
   "metadata": {
    "ExecuteTime": {
     "end_time": "2021-04-27T15:37:27.222099Z",
     "start_time": "2021-04-27T15:37:27.218316Z"
    }
   },
   "source": [
    "### Polygons - Ways"
   ]
  },
  {
   "cell_type": "code",
   "execution_count": 36,
   "id": "9031d52e",
   "metadata": {
    "ExecuteTime": {
     "end_time": "2021-04-28T10:42:58.934749Z",
     "start_time": "2021-04-28T10:42:58.927360Z"
    }
   },
   "outputs": [],
   "source": [
    "def isvalid(geom):\n",
    "    try:\n",
    "        shape(geom)\n",
    "        return 1\n",
    "    except:\n",
    "        return 0"
   ]
  },
  {
   "cell_type": "code",
   "execution_count": 25,
   "id": "optional-highway",
   "metadata": {
    "ExecuteTime": {
     "end_time": "2021-04-28T08:09:20.824580Z",
     "start_time": "2021-04-28T08:09:02.480076Z"
    }
   },
   "outputs": [
    {
     "name": "stdout",
     "output_type": "stream",
     "text": [
      "0...10...20...30...40...50...60...70...80...90...100 - done.\n"
     ]
    },
    {
     "name": "stderr",
     "output_type": "stream",
     "text": [
      "Warning 1: A geometry of type POINT is inserted into layer polygons of geometry type POLYGON, which is not normally allowed by the GeoPackage specification, but the driver will however do it. To create a conformant GeoPackage, if using ogr2ogr, the -nlt option can be used to override the layer geometry type. This warning will no longer be emitted for this combination of layer and feature geometry type.\n",
      "Warning 1: A geometry of type LINESTRING is inserted into layer polygons of geometry type POLYGON, which is not normally allowed by the GeoPackage specification, but the driver will however do it. To create a conformant GeoPackage, if using ogr2ogr, the -nlt option can be used to override the layer geometry type. This warning will no longer be emitted for this combination of layer and feature geometry type.\n",
      "Warning 1: A geometry of type MULTILINESTRING is inserted into layer polygons of geometry type POLYGON, which is not normally allowed by the GeoPackage specification, but the driver will however do it. To create a conformant GeoPackage, if using ogr2ogr, the -nlt option can be used to override the layer geometry type. This warning will no longer be emitted for this combination of layer and feature geometry type.\n"
     ]
    }
   ],
   "source": [
    "%%bash\n",
    "ogr2ogr -f \"GPKG\" \\\n",
    "    map_data/lisbon_polygons.gpkg \\\n",
    "    map_data/Lisbon.osm.pbf \\\n",
    "    -nlt POLYGONS \\\n",
    "    -nln polygons"
   ]
  },
  {
   "cell_type": "code",
   "execution_count": 26,
   "id": "turned-learning",
   "metadata": {
    "ExecuteTime": {
     "end_time": "2021-04-28T08:30:44.904141Z",
     "start_time": "2021-04-28T08:09:20.826173Z"
    }
   },
   "outputs": [],
   "source": [
    "#Read data\n",
    "layer_file = \"map_data/lisbon_polygons.gpkg\"\n",
    "collection = list(fiona.open(layer_file,'r'))\n",
    "df1 = pd.DataFrame(collection)\n",
    "\n",
    "df1['isvalid'] = df1['geometry'].apply(lambda x: isvalid(x))\n",
    "df1 = df1[df1['isvalid'] == 1]\n",
    "collection = json.loads(df1.to_json(orient='records'))\n",
    "\n",
    "#Convert to geodataframe\n",
    "gdf_lis_poly = gpd.GeoDataFrame.from_features(collection)"
   ]
  },
  {
   "cell_type": "markdown",
   "id": "latin-texture",
   "metadata": {
    "ExecuteTime": {
     "end_time": "2021-04-27T16:30:55.127901Z",
     "start_time": "2021-04-27T16:30:55.124527Z"
    }
   },
   "source": [
    "### All geometries"
   ]
  },
  {
   "cell_type": "code",
   "execution_count": 34,
   "id": "presidential-builder",
   "metadata": {
    "ExecuteTime": {
     "end_time": "2021-04-28T10:41:29.135173Z",
     "start_time": "2021-04-28T10:41:11.373782Z"
    }
   },
   "outputs": [
    {
     "name": "stdout",
     "output_type": "stream",
     "text": [
      "0...10...20...30...40...50...60...70...80...90...100 - done.\n"
     ]
    },
    {
     "name": "stderr",
     "output_type": "stream",
     "text": [
      "Warning 1: A geometry of type POINT is inserted into layer polygons of geometry type POLYGON, which is not normally allowed by the GeoPackage specification, but the driver will however do it. To create a conformant GeoPackage, if using ogr2ogr, the -nlt option can be used to override the layer geometry type. This warning will no longer be emitted for this combination of layer and feature geometry type.\n",
      "Warning 1: A geometry of type LINESTRING is inserted into layer polygons of geometry type POLYGON, which is not normally allowed by the GeoPackage specification, but the driver will however do it. To create a conformant GeoPackage, if using ogr2ogr, the -nlt option can be used to override the layer geometry type. This warning will no longer be emitted for this combination of layer and feature geometry type.\n",
      "Warning 1: A geometry of type MULTILINESTRING is inserted into layer polygons of geometry type POLYGON, which is not normally allowed by the GeoPackage specification, but the driver will however do it. To create a conformant GeoPackage, if using ogr2ogr, the -nlt option can be used to override the layer geometry type. This warning will no longer be emitted for this combination of layer and feature geometry type.\n"
     ]
    }
   ],
   "source": [
    "%%bash\n",
    "ogr2ogr -f \"GPKG\" \\\n",
    "    map_data/lisbon_geometry.gpkg \\\n",
    "    map_data/Lisbon.osm.pbf \\\n",
    "    -nlt POLYGONS \\\n",
    "    -nln polygons"
   ]
  },
  {
   "cell_type": "code",
   "execution_count": 37,
   "id": "associate-seattle",
   "metadata": {
    "ExecuteTime": {
     "end_time": "2021-04-28T10:48:50.407521Z",
     "start_time": "2021-04-28T10:43:05.163983Z"
    }
   },
   "outputs": [],
   "source": [
    "#Read data\n",
    "layer_file = \"map_data/lisbon_geometry.gpkg\"\n",
    "collection = list(fiona.open(layer_file,'r'))\n",
    "df1 = pd.DataFrame(collection)\n",
    "\n",
    "df1['isvalid'] = df1['geometry'].apply(lambda x: isvalid(x))\n",
    "df1 = df1[df1['isvalid'] == 1]\n",
    "collection = json.loads(df1.to_json(orient='records'))\n",
    "\n",
    "#Convert to geodataframe\n",
    "gdf_lis_geo = gpd.GeoDataFrame.from_features(collection)"
   ]
  },
  {
   "cell_type": "code",
   "execution_count": 41,
   "id": "annoying-hours",
   "metadata": {
    "ExecuteTime": {
     "end_time": "2021-04-28T10:49:23.955829Z",
     "start_time": "2021-04-28T10:49:23.938337Z"
    }
   },
   "outputs": [
    {
     "data": {
      "text/plain": [
       "Index(['geometry', 'osm_id', 'name', 'barrier', 'highway', 'ref', 'address',\n",
       "       'is_in', 'place', 'man_made', 'other_tags', 'waterway', 'aerialway',\n",
       "       'z_order', 'type', 'osm_way_id', 'aeroway', 'amenity', 'admin_level',\n",
       "       'boundary', 'building', 'craft', 'geological', 'historic', 'land_area',\n",
       "       'landuse', 'leisure', 'military', 'natural', 'office', 'shop', 'sport',\n",
       "       'tourism'],\n",
       "      dtype='object')"
      ]
     },
     "execution_count": 41,
     "metadata": {},
     "output_type": "execute_result"
    }
   ],
   "source": [
    "gdf_lis_geo.columns"
   ]
  },
  {
   "cell_type": "code",
   "execution_count": 40,
   "id": "extended-vegetation",
   "metadata": {
    "ExecuteTime": {
     "end_time": "2021-04-28T10:48:55.997783Z",
     "start_time": "2021-04-28T10:48:55.123569Z"
    }
   },
   "outputs": [
    {
     "data": {
      "text/plain": [
       "Polygon               420865\n",
       "LineString            195623\n",
       "Point                  99120\n",
       "GeometryCollection      3261\n",
       "MultiLineString          642\n",
       "dtype: int64"
      ]
     },
     "execution_count": 40,
     "metadata": {},
     "output_type": "execute_result"
    }
   ],
   "source": [
    "gdf_lis_geo.geometry.type.value_counts()"
   ]
  },
  {
   "cell_type": "code",
   "execution_count": 50,
   "id": "402ae9d6",
   "metadata": {
    "ExecuteTime": {
     "end_time": "2021-04-28T10:54:08.606440Z",
     "start_time": "2021-04-28T10:54:08.452355Z"
    }
   },
   "outputs": [],
   "source": [
    "list_of_colums = ['geometry', \n",
    "                  'osm_id', \n",
    "                  'name', \n",
    "                  'amenity', \n",
    "                  'barrier', \n",
    "                  'building', \n",
    "                  'highway', \n",
    "                  'landuse', \n",
    "                  'man_made', \n",
    "                  'natural', \n",
    "                  'office']\n",
    "\n",
    "gdf_lis_poly = gdf_lis_geo[list_of_colums]"
   ]
  },
  {
   "cell_type": "code",
   "execution_count": 69,
   "id": "8400d7bf",
   "metadata": {
    "ExecuteTime": {
     "end_time": "2021-04-28T11:10:49.562104Z",
     "start_time": "2021-04-28T11:10:49.554268Z"
    }
   },
   "outputs": [],
   "source": [
    "def new_desc(geo):\n",
    "    geo['desc'] = None\n",
    "    lst_cols = [  'name',\n",
    "                  'amenity', \n",
    "                  'barrier', \n",
    "                  'building', \n",
    "                  'highway', \n",
    "                  'landuse', \n",
    "                  'man_made', \n",
    "                  'natural', \n",
    "                  'office']\n",
    "    for c, row in gdf_lis_poly.iterrows():\n",
    "        trues = [row[i] for i in lst_cols if row[i] != None]\n",
    "        geo.loc[c, 'desc'] = [[trues]]\n",
    "        print(f'done: {c}')\n",
    "        \n",
    "    return geo"
   ]
  },
  {
   "cell_type": "code",
   "execution_count": 74,
   "id": "cd5e63e1",
   "metadata": {
    "ExecuteTime": {
     "end_time": "2021-04-28T12:56:07.146163Z",
     "start_time": "2021-04-28T12:56:07.142401Z"
    }
   },
   "outputs": [
    {
     "data": {
      "text/plain": [
       "-9.3996379"
      ]
     },
     "execution_count": 74,
     "metadata": {},
     "output_type": "execute_result"
    }
   ],
   "source": [
    "gdf_lis_poly.geometry[0].x"
   ]
  },
  {
   "cell_type": "code",
   "execution_count": null,
   "id": "capable-redhead",
   "metadata": {
    "ExecuteTime": {
     "end_time": "2021-04-28T12:33:32.511393Z",
     "start_time": "2021-04-28T11:11:45.144Z"
    }
   },
   "outputs": [],
   "source": [
    "gdf_lis_poly.to_csv('map_data/gdf_lis_poly.csv', index = False)\n"
   ]
  },
  {
   "cell_type": "code",
   "execution_count": 25,
   "id": "99946b36",
   "metadata": {
    "ExecuteTime": {
     "end_time": "2021-04-28T09:24:38.939932Z",
     "start_time": "2021-04-28T09:24:19.484975Z"
    },
    "scrolled": true
   },
   "outputs": [],
   "source": [
    "df_geo = pd.read_csv('map_data/gdf_lis_geo.csv')\n",
    "df_geo['geometry'] = df_geo['geometry'].apply(shapely.wkt.loads)\n",
    "gdf = gpd.GeoDataFrame(df_geo, crs='OGC:CRS84')"
   ]
  },
  {
   "cell_type": "code",
   "execution_count": 26,
   "id": "992ae798",
   "metadata": {
    "ExecuteTime": {
     "end_time": "2021-04-28T09:24:39.612411Z",
     "start_time": "2021-04-28T09:24:38.941146Z"
    }
   },
   "outputs": [
    {
     "data": {
      "text/html": [
       "<div>\n",
       "<style scoped>\n",
       "    .dataframe tbody tr th:only-of-type {\n",
       "        vertical-align: middle;\n",
       "    }\n",
       "\n",
       "    .dataframe tbody tr th {\n",
       "        vertical-align: top;\n",
       "    }\n",
       "\n",
       "    .dataframe thead th {\n",
       "        text-align: right;\n",
       "    }\n",
       "</style>\n",
       "<table border=\"1\" class=\"dataframe\">\n",
       "  <thead>\n",
       "    <tr style=\"text-align: right;\">\n",
       "      <th></th>\n",
       "      <th>geometry</th>\n",
       "      <th>osm_id</th>\n",
       "      <th>name</th>\n",
       "      <th>barrier</th>\n",
       "      <th>highway</th>\n",
       "      <th>ref</th>\n",
       "      <th>address</th>\n",
       "      <th>is_in</th>\n",
       "      <th>place</th>\n",
       "      <th>man_made</th>\n",
       "      <th>...</th>\n",
       "      <th>historic</th>\n",
       "      <th>land_area</th>\n",
       "      <th>landuse</th>\n",
       "      <th>leisure</th>\n",
       "      <th>military</th>\n",
       "      <th>natural</th>\n",
       "      <th>office</th>\n",
       "      <th>shop</th>\n",
       "      <th>sport</th>\n",
       "      <th>tourism</th>\n",
       "    </tr>\n",
       "  </thead>\n",
       "  <tbody>\n",
       "    <tr>\n",
       "      <th>0</th>\n",
       "      <td>POINT (-9.39964 38.95586)</td>\n",
       "      <td>20629108.0</td>\n",
       "      <td>Lapa da Serra</td>\n",
       "      <td>NaN</td>\n",
       "      <td>NaN</td>\n",
       "      <td>NaN</td>\n",
       "      <td>NaN</td>\n",
       "      <td>NaN</td>\n",
       "      <td>neighbourhood</td>\n",
       "      <td>NaN</td>\n",
       "      <td>...</td>\n",
       "      <td>NaN</td>\n",
       "      <td>NaN</td>\n",
       "      <td>NaN</td>\n",
       "      <td>NaN</td>\n",
       "      <td>NaN</td>\n",
       "      <td>NaN</td>\n",
       "      <td>NaN</td>\n",
       "      <td>NaN</td>\n",
       "      <td>NaN</td>\n",
       "      <td>NaN</td>\n",
       "    </tr>\n",
       "    <tr>\n",
       "      <th>1</th>\n",
       "      <td>POINT (-9.41390 38.96183)</td>\n",
       "      <td>20629118.0</td>\n",
       "      <td>NaN</td>\n",
       "      <td>NaN</td>\n",
       "      <td>crossing</td>\n",
       "      <td>NaN</td>\n",
       "      <td>NaN</td>\n",
       "      <td>NaN</td>\n",
       "      <td>NaN</td>\n",
       "      <td>NaN</td>\n",
       "      <td>...</td>\n",
       "      <td>NaN</td>\n",
       "      <td>NaN</td>\n",
       "      <td>NaN</td>\n",
       "      <td>NaN</td>\n",
       "      <td>NaN</td>\n",
       "      <td>NaN</td>\n",
       "      <td>NaN</td>\n",
       "      <td>NaN</td>\n",
       "      <td>NaN</td>\n",
       "      <td>NaN</td>\n",
       "    </tr>\n",
       "    <tr>\n",
       "      <th>2</th>\n",
       "      <td>POINT (-9.18832 38.74858)</td>\n",
       "      <td>21272086.0</td>\n",
       "      <td>NaN</td>\n",
       "      <td>NaN</td>\n",
       "      <td>crossing</td>\n",
       "      <td>NaN</td>\n",
       "      <td>NaN</td>\n",
       "      <td>NaN</td>\n",
       "      <td>NaN</td>\n",
       "      <td>NaN</td>\n",
       "      <td>...</td>\n",
       "      <td>NaN</td>\n",
       "      <td>NaN</td>\n",
       "      <td>NaN</td>\n",
       "      <td>NaN</td>\n",
       "      <td>NaN</td>\n",
       "      <td>NaN</td>\n",
       "      <td>NaN</td>\n",
       "      <td>NaN</td>\n",
       "      <td>NaN</td>\n",
       "      <td>NaN</td>\n",
       "    </tr>\n",
       "    <tr>\n",
       "      <th>3</th>\n",
       "      <td>POINT (-9.45296 38.75312)</td>\n",
       "      <td>21404046.0</td>\n",
       "      <td>NaN</td>\n",
       "      <td>NaN</td>\n",
       "      <td>bus_stop</td>\n",
       "      <td>NaN</td>\n",
       "      <td>NaN</td>\n",
       "      <td>NaN</td>\n",
       "      <td>NaN</td>\n",
       "      <td>NaN</td>\n",
       "      <td>...</td>\n",
       "      <td>NaN</td>\n",
       "      <td>NaN</td>\n",
       "      <td>NaN</td>\n",
       "      <td>NaN</td>\n",
       "      <td>NaN</td>\n",
       "      <td>NaN</td>\n",
       "      <td>NaN</td>\n",
       "      <td>NaN</td>\n",
       "      <td>NaN</td>\n",
       "      <td>NaN</td>\n",
       "    </tr>\n",
       "    <tr>\n",
       "      <th>4</th>\n",
       "      <td>POINT (-9.45655 38.75241)</td>\n",
       "      <td>21404049.0</td>\n",
       "      <td>NaN</td>\n",
       "      <td>NaN</td>\n",
       "      <td>bus_stop</td>\n",
       "      <td>NaN</td>\n",
       "      <td>NaN</td>\n",
       "      <td>NaN</td>\n",
       "      <td>NaN</td>\n",
       "      <td>NaN</td>\n",
       "      <td>...</td>\n",
       "      <td>NaN</td>\n",
       "      <td>NaN</td>\n",
       "      <td>NaN</td>\n",
       "      <td>NaN</td>\n",
       "      <td>NaN</td>\n",
       "      <td>NaN</td>\n",
       "      <td>NaN</td>\n",
       "      <td>NaN</td>\n",
       "      <td>NaN</td>\n",
       "      <td>NaN</td>\n",
       "    </tr>\n",
       "    <tr>\n",
       "      <th>...</th>\n",
       "      <td>...</td>\n",
       "      <td>...</td>\n",
       "      <td>...</td>\n",
       "      <td>...</td>\n",
       "      <td>...</td>\n",
       "      <td>...</td>\n",
       "      <td>...</td>\n",
       "      <td>...</td>\n",
       "      <td>...</td>\n",
       "      <td>...</td>\n",
       "      <td>...</td>\n",
       "      <td>...</td>\n",
       "      <td>...</td>\n",
       "      <td>...</td>\n",
       "      <td>...</td>\n",
       "      <td>...</td>\n",
       "      <td>...</td>\n",
       "      <td>...</td>\n",
       "      <td>...</td>\n",
       "      <td>...</td>\n",
       "      <td>...</td>\n",
       "    </tr>\n",
       "    <tr>\n",
       "      <th>719506</th>\n",
       "      <td>GEOMETRYCOLLECTION (LINESTRING (-9.30623 38.69...</td>\n",
       "      <td>12589376.0</td>\n",
       "      <td>NaN</td>\n",
       "      <td>NaN</td>\n",
       "      <td>NaN</td>\n",
       "      <td>NaN</td>\n",
       "      <td>NaN</td>\n",
       "      <td>NaN</td>\n",
       "      <td>NaN</td>\n",
       "      <td>NaN</td>\n",
       "      <td>...</td>\n",
       "      <td>NaN</td>\n",
       "      <td>NaN</td>\n",
       "      <td>NaN</td>\n",
       "      <td>NaN</td>\n",
       "      <td>NaN</td>\n",
       "      <td>NaN</td>\n",
       "      <td>NaN</td>\n",
       "      <td>NaN</td>\n",
       "      <td>NaN</td>\n",
       "      <td>NaN</td>\n",
       "    </tr>\n",
       "    <tr>\n",
       "      <th>719507</th>\n",
       "      <td>GEOMETRYCOLLECTION (LINESTRING (-9.11842 38.76...</td>\n",
       "      <td>12589451.0</td>\n",
       "      <td>NaN</td>\n",
       "      <td>NaN</td>\n",
       "      <td>NaN</td>\n",
       "      <td>NaN</td>\n",
       "      <td>NaN</td>\n",
       "      <td>NaN</td>\n",
       "      <td>NaN</td>\n",
       "      <td>NaN</td>\n",
       "      <td>...</td>\n",
       "      <td>NaN</td>\n",
       "      <td>NaN</td>\n",
       "      <td>NaN</td>\n",
       "      <td>NaN</td>\n",
       "      <td>NaN</td>\n",
       "      <td>NaN</td>\n",
       "      <td>NaN</td>\n",
       "      <td>NaN</td>\n",
       "      <td>NaN</td>\n",
       "      <td>NaN</td>\n",
       "    </tr>\n",
       "    <tr>\n",
       "      <th>719508</th>\n",
       "      <td>GEOMETRYCOLLECTION (LINESTRING (-9.11842 38.76...</td>\n",
       "      <td>12589452.0</td>\n",
       "      <td>NaN</td>\n",
       "      <td>NaN</td>\n",
       "      <td>NaN</td>\n",
       "      <td>NaN</td>\n",
       "      <td>NaN</td>\n",
       "      <td>NaN</td>\n",
       "      <td>NaN</td>\n",
       "      <td>NaN</td>\n",
       "      <td>...</td>\n",
       "      <td>NaN</td>\n",
       "      <td>NaN</td>\n",
       "      <td>NaN</td>\n",
       "      <td>NaN</td>\n",
       "      <td>NaN</td>\n",
       "      <td>NaN</td>\n",
       "      <td>NaN</td>\n",
       "      <td>NaN</td>\n",
       "      <td>NaN</td>\n",
       "      <td>NaN</td>\n",
       "    </tr>\n",
       "    <tr>\n",
       "      <th>719509</th>\n",
       "      <td>GEOMETRYCOLLECTION (LINESTRING (-9.11888 38.76...</td>\n",
       "      <td>12589453.0</td>\n",
       "      <td>NaN</td>\n",
       "      <td>NaN</td>\n",
       "      <td>NaN</td>\n",
       "      <td>NaN</td>\n",
       "      <td>NaN</td>\n",
       "      <td>NaN</td>\n",
       "      <td>NaN</td>\n",
       "      <td>NaN</td>\n",
       "      <td>...</td>\n",
       "      <td>NaN</td>\n",
       "      <td>NaN</td>\n",
       "      <td>NaN</td>\n",
       "      <td>NaN</td>\n",
       "      <td>NaN</td>\n",
       "      <td>NaN</td>\n",
       "      <td>NaN</td>\n",
       "      <td>NaN</td>\n",
       "      <td>NaN</td>\n",
       "      <td>NaN</td>\n",
       "    </tr>\n",
       "    <tr>\n",
       "      <th>719510</th>\n",
       "      <td>GEOMETRYCOLLECTION (LINESTRING (-9.11888 38.76...</td>\n",
       "      <td>12589454.0</td>\n",
       "      <td>NaN</td>\n",
       "      <td>NaN</td>\n",
       "      <td>NaN</td>\n",
       "      <td>NaN</td>\n",
       "      <td>NaN</td>\n",
       "      <td>NaN</td>\n",
       "      <td>NaN</td>\n",
       "      <td>NaN</td>\n",
       "      <td>...</td>\n",
       "      <td>NaN</td>\n",
       "      <td>NaN</td>\n",
       "      <td>NaN</td>\n",
       "      <td>NaN</td>\n",
       "      <td>NaN</td>\n",
       "      <td>NaN</td>\n",
       "      <td>NaN</td>\n",
       "      <td>NaN</td>\n",
       "      <td>NaN</td>\n",
       "      <td>NaN</td>\n",
       "    </tr>\n",
       "  </tbody>\n",
       "</table>\n",
       "<p>719511 rows × 33 columns</p>\n",
       "</div>"
      ],
      "text/plain": [
       "                                                 geometry      osm_id  \\\n",
       "0                               POINT (-9.39964 38.95586)  20629108.0   \n",
       "1                               POINT (-9.41390 38.96183)  20629118.0   \n",
       "2                               POINT (-9.18832 38.74858)  21272086.0   \n",
       "3                               POINT (-9.45296 38.75312)  21404046.0   \n",
       "4                               POINT (-9.45655 38.75241)  21404049.0   \n",
       "...                                                   ...         ...   \n",
       "719506  GEOMETRYCOLLECTION (LINESTRING (-9.30623 38.69...  12589376.0   \n",
       "719507  GEOMETRYCOLLECTION (LINESTRING (-9.11842 38.76...  12589451.0   \n",
       "719508  GEOMETRYCOLLECTION (LINESTRING (-9.11842 38.76...  12589452.0   \n",
       "719509  GEOMETRYCOLLECTION (LINESTRING (-9.11888 38.76...  12589453.0   \n",
       "719510  GEOMETRYCOLLECTION (LINESTRING (-9.11888 38.76...  12589454.0   \n",
       "\n",
       "                 name barrier   highway  ref  address is_in          place  \\\n",
       "0       Lapa da Serra     NaN       NaN  NaN      NaN   NaN  neighbourhood   \n",
       "1                 NaN     NaN  crossing  NaN      NaN   NaN            NaN   \n",
       "2                 NaN     NaN  crossing  NaN      NaN   NaN            NaN   \n",
       "3                 NaN     NaN  bus_stop  NaN      NaN   NaN            NaN   \n",
       "4                 NaN     NaN  bus_stop  NaN      NaN   NaN            NaN   \n",
       "...               ...     ...       ...  ...      ...   ...            ...   \n",
       "719506            NaN     NaN       NaN  NaN      NaN   NaN            NaN   \n",
       "719507            NaN     NaN       NaN  NaN      NaN   NaN            NaN   \n",
       "719508            NaN     NaN       NaN  NaN      NaN   NaN            NaN   \n",
       "719509            NaN     NaN       NaN  NaN      NaN   NaN            NaN   \n",
       "719510            NaN     NaN       NaN  NaN      NaN   NaN            NaN   \n",
       "\n",
       "       man_made  ... historic land_area landuse  leisure military  natural  \\\n",
       "0           NaN  ...      NaN       NaN     NaN      NaN      NaN      NaN   \n",
       "1           NaN  ...      NaN       NaN     NaN      NaN      NaN      NaN   \n",
       "2           NaN  ...      NaN       NaN     NaN      NaN      NaN      NaN   \n",
       "3           NaN  ...      NaN       NaN     NaN      NaN      NaN      NaN   \n",
       "4           NaN  ...      NaN       NaN     NaN      NaN      NaN      NaN   \n",
       "...         ...  ...      ...       ...     ...      ...      ...      ...   \n",
       "719506      NaN  ...      NaN       NaN     NaN      NaN      NaN      NaN   \n",
       "719507      NaN  ...      NaN       NaN     NaN      NaN      NaN      NaN   \n",
       "719508      NaN  ...      NaN       NaN     NaN      NaN      NaN      NaN   \n",
       "719509      NaN  ...      NaN       NaN     NaN      NaN      NaN      NaN   \n",
       "719510      NaN  ...      NaN       NaN     NaN      NaN      NaN      NaN   \n",
       "\n",
       "       office shop  sport tourism  \n",
       "0         NaN  NaN    NaN     NaN  \n",
       "1         NaN  NaN    NaN     NaN  \n",
       "2         NaN  NaN    NaN     NaN  \n",
       "3         NaN  NaN    NaN     NaN  \n",
       "4         NaN  NaN    NaN     NaN  \n",
       "...       ...  ...    ...     ...  \n",
       "719506    NaN  NaN    NaN     NaN  \n",
       "719507    NaN  NaN    NaN     NaN  \n",
       "719508    NaN  NaN    NaN     NaN  \n",
       "719509    NaN  NaN    NaN     NaN  \n",
       "719510    NaN  NaN    NaN     NaN  \n",
       "\n",
       "[719511 rows x 33 columns]"
      ]
     },
     "execution_count": 26,
     "metadata": {},
     "output_type": "execute_result"
    }
   ],
   "source": [
    "gdf"
   ]
  },
  {
   "cell_type": "code",
   "execution_count": 27,
   "id": "5b0278ad",
   "metadata": {
    "ExecuteTime": {
     "end_time": "2021-04-28T09:24:39.615987Z",
     "start_time": "2021-04-28T09:24:39.613788Z"
    }
   },
   "outputs": [
    {
     "data": {
      "text/plain": [
       "geopandas.geoseries.GeoSeries"
      ]
     },
     "execution_count": 27,
     "metadata": {},
     "output_type": "execute_result"
    }
   ],
   "source": [
    "type(gdf.geometry)"
   ]
  },
  {
   "cell_type": "code",
   "execution_count": 28,
   "id": "59fc85bb",
   "metadata": {
    "ExecuteTime": {
     "end_time": "2021-04-28T09:25:31.261277Z",
     "start_time": "2021-04-28T09:25:30.172182Z"
    }
   },
   "outputs": [],
   "source": [
    "non_collections = gdf[gdf['geometry'].type != 'GeometryCollection'].reset_index()"
   ]
  },
  {
   "cell_type": "code",
   "execution_count": 29,
   "id": "ca86fbed",
   "metadata": {
    "ExecuteTime": {
     "end_time": "2021-04-28T09:25:31.267121Z",
     "start_time": "2021-04-28T09:25:31.262523Z"
    }
   },
   "outputs": [
    {
     "data": {
      "text/plain": [
       "0                                 POINT (-9.39964 38.95586)\n",
       "1                                 POINT (-9.41390 38.96183)\n",
       "2                                 POINT (-9.18832 38.74858)\n",
       "3                                 POINT (-9.45296 38.75312)\n",
       "4                                 POINT (-9.45655 38.75241)\n",
       "                                ...                        \n",
       "716143    MULTIPOLYGON (((-9.16965 38.71694, -9.16965 38...\n",
       "716144    MULTIPOLYGON (((-9.16964 38.71651, -9.16963 38...\n",
       "716145    MULTIPOLYGON (((-9.16964 38.71666, -9.16964 38...\n",
       "716146    MULTIPOLYGON (((-9.16965 38.71680, -9.16964 38...\n",
       "716147    MULTIPOLYGON (((-9.16965 38.71694, -9.16965 38...\n",
       "Name: geometry, Length: 716148, dtype: geometry"
      ]
     },
     "execution_count": 29,
     "metadata": {},
     "output_type": "execute_result"
    }
   ],
   "source": [
    "non_collections.geometry"
   ]
  },
  {
   "cell_type": "code",
   "execution_count": 30,
   "id": "6dc07342",
   "metadata": {
    "ExecuteTime": {
     "end_time": "2021-04-28T09:25:38.125010Z",
     "start_time": "2021-04-28T09:25:37.276252Z"
    }
   },
   "outputs": [],
   "source": [
    "multies = non_collections[non_collections['geometry'].type == 'MultiPolygon']"
   ]
  },
  {
   "cell_type": "code",
   "execution_count": 33,
   "id": "72f50a7d",
   "metadata": {
    "ExecuteTime": {
     "end_time": "2021-04-28T09:34:56.672384Z",
     "start_time": "2021-04-28T09:34:56.655690Z"
    }
   },
   "outputs": [],
   "source": [
    "# import folium\n",
    "# m = folium.Map([38.74288, -9.16624])\n",
    "\n",
    "# proj_geo = multies\n",
    "# folium.Choropleth(geo_data=proj_geo, #geo_lis.geometry.buffer(.0005), \n",
    "#                   data=None, \n",
    "#                   name=\"buffered road segments\").add_to(m)\n",
    "\n",
    "# folium.LayerControl().add_to(m)\n",
    "# m"
   ]
  },
  {
   "cell_type": "markdown",
   "id": "92338dd2",
   "metadata": {},
   "source": []
  }
 ],
 "metadata": {
  "kernelspec": {
   "display_name": "Python 3",
   "language": "python",
   "name": "python3"
  },
  "language_info": {
   "codemirror_mode": {
    "name": "ipython",
    "version": 3
   },
   "file_extension": ".py",
   "mimetype": "text/x-python",
   "name": "python",
   "nbconvert_exporter": "python",
   "pygments_lexer": "ipython3",
   "version": "3.8.6"
  },
  "toc": {
   "base_numbering": 1,
   "nav_menu": {},
   "number_sections": true,
   "sideBar": true,
   "skip_h1_title": false,
   "title_cell": "Table of Contents",
   "title_sidebar": "Contents",
   "toc_cell": false,
   "toc_position": {},
   "toc_section_display": true,
   "toc_window_display": false
  }
 },
 "nbformat": 4,
 "nbformat_minor": 5
}
