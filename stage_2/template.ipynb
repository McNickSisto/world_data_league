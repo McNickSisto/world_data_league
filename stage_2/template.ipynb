{
 "cells": [
  {
   "cell_type": "markdown",
   "metadata": {
    "id": "JeP6xkRIBJco"
   },
   "source": [
    "# World Data League 2021\n",
    "## Notebook Template\n",
    "\n",
    "This notebook is one of the mandatory deliverables when you submit your solution (alongside the video pitch). Its structure follows the WDL evaluation criteria and it has dedicated cells where you can add descriptions. Make sure your code is readable as it will be the only technical support the jury will have to evaluate your work.\n",
    "\n",
    "The notebook must:\n",
    "\n",
    "*   💻 have all the code that you want the jury to evaluate\n",
    "*   🧱 follow the predefined structure\n",
    "*   📄 have markdown descriptions where you find necessary\n",
    "*   👀 be saved with all the output that you want the jury to see\n",
    "*   🏃‍♂️ be runnable\n"
   ]
  },
  {
   "cell_type": "markdown",
   "metadata": {
    "id": "1QNcZrkVu9xf"
   },
   "source": [
    "## External links and resources\n",
    "Paste here all the links to external resources that are necessary to understand and run your code. Add descriptions to make it clear how to use them during evaluation."
   ]
  },
  {
   "cell_type": "markdown",
   "metadata": {
    "id": "VJzSXXIYvxf9"
   },
   "source": [
    "1. Risk profile of streets = https://wdl-data.fra1.digitaloceanspaces.com/pse/m_risk_prfile.zip\n",
    "2. Excel explaining the categorical features : https://wdl-data.fra1.digitaloceanspaces.com/pse/Dictionary_Risk_Profiles.xlsx\n",
    "2. OSM map = https://download.bbbike.org/osm/extract/planet_-9.89,38.265_-8.309,39.136.osm.pbf"
   ]
  },
  {
   "cell_type": "markdown",
   "metadata": {
    "id": "63ltgxp_rOpI"
   },
   "source": [
    "## Introduction"
   ]
  },
  {
   "cell_type": "markdown",
   "metadata": {
    "id": "Hp34gOznrwrq"
   },
   "source": [
    "\n",
    "When it comes to road safety, Portugal has one of the less impressive records in Europe, however, authorities have been taking steps in an attempt to improve the statistics; with fatalities dropping by 40% since 2010. Despite this, more than 400 people lost their lives in 2017 in road accidents and more than 40,000 injured.\n",
    "\n",
    "An **European report** underlined these characteristics: \n",
    "- In Portugal, relatively many moped riders, lorry and truck occupants died in road accidents compared to the EU average.\n",
    "- Portugal has a somewhat higher share of male road fatalities than the EU average.\n",
    "- Fatalities in built-up areas, during daylight and while raining are overrepresented in Portugal.\n",
    "- The number of speed tickets per population in Portugal is much lower than the EU average\n",
    "\n",
    "Furthermore from our analysis we could see that there are three environments that where the pavement properties significantly, yet distinctly, influence the occurrence of accidents:\n",
    "\n",
    "1. Rural environment with a heavy presence of urban characteristics\n",
    "2. Environment characterized by a considerable predominance of intersections in a rural environment\n",
    "3. Environment with curved segments, high longitudinal gradients and **average speed higher than the tolerable speed**\n",
    "\n",
    "\n"
   ]
  },
  {
   "cell_type": "markdown",
   "metadata": {},
   "source": [
    "**HYPHOTHESIS** :\n"
   ]
  },
  {
   "cell_type": "markdown",
   "metadata": {
    "id": "C8rCpNajszur"
   },
   "source": [
    "## Development\n",
    "Start coding here! 👩‍💻\n",
    "\n",
    "Don't hesitate to create markdown cells to include descriptions of your work where you see fit, as well as commenting your code.\n",
    "\n",
    "We know that you know exactly where to start when it comes to crunching data and building models, but don't forget that WDL is all about social impact...so take that into consideration as well."
   ]
  },
  {
   "cell_type": "markdown",
   "metadata": {
    "id": "afB4W0KnutpV"
   },
   "source": [
    "### IMPORTING PACKAGES"
   ]
  },
  {
   "cell_type": "code",
   "execution_count": 1,
   "metadata": {
    "id": "J4jPpcKOutZ5"
   },
   "outputs": [],
   "source": [
    "# GENERAL\n",
    "import pandas as pd\n",
    "import numpy as np\n",
    "import matplotlib.pyplot as plt\n",
    "import geopandas as gpd\n",
    "\n",
    "# LOADING DATA\n",
    "import requests\n",
    "import os\n",
    "import shutil\n",
    "from io import BytesIO\n",
    "import osmium\n",
    "import fiona\n",
    "import json\n",
    "\n",
    "\n",
    "# GEOSPATIAL DATA\n",
    "from shapely.geometry import Point, LineString, MultiPoint\n",
    "from shapely.geometry import shape \n",
    "\n",
    "\n",
    "# PLOTTING DATA\n",
    "from folium import Map, CircleMarker, Vega, Popup, Marker, PolyLine, Icon, Choropleth, LayerControl\n",
    "from folium.plugins import MarkerCluster, HeatMap, BeautifyIcon\n",
    "from folium.features import ColorLine, GeoJsonPopup, GeoJsonTooltip\n",
    "from folium.map import FeatureGroup\n",
    "import shapely\n",
    "import matplotlib\n",
    "from ipywidgets import interact\n",
    "import seaborn as sns\n",
    "\n",
    "# STATS\n",
    "import math\n",
    "import stats\n",
    "\n",
    "# ML\n",
    "import scipy\n",
    "from sklearn.impute import SimpleImputer\n",
    "from sklearn.compose import ColumnTransformer, make_column_selector\n",
    "from sklearn.preprocessing import OneHotEncoder, StandardScaler, MinMaxScaler"
   ]
  },
  {
   "cell_type": "markdown",
   "metadata": {
    "id": "LQ90XveiBN6A"
   },
   "source": [
    "### Extracting data"
   ]
  },
  {
   "cell_type": "markdown",
   "metadata": {},
   "source": [
    "We decide to start clean and analyses the dataset given by the ***WDL*** team: a shape file containing 34678 different road segments. Each of these road segments is characterized by information on traffic intensity, velocity and environment in which this is inserted. "
   ]
  },
  {
   "cell_type": "code",
   "execution_count": 5,
   "metadata": {},
   "outputs": [],
   "source": [
    "def first_df(path):\n",
    "    geo = gpd.read_file(path)\n",
    "    df = pd.DataFrame(geo).drop(columns='Link_ID')\n",
    "    df_ren = df.rename(columns={\n",
    "                        'Daily_Aver':'Daily_Average_Traffic_Intensity',\n",
    "                        'Average_Ve':'Average_Velocity_of_Vehicle_Traffic',\n",
    "                        'Median_of_':'Median_of_velocity_of_Vehicle_Traffic',\n",
    "                        'First_Quar': 'FirstQuartil_of_velocity_of_Vehicle_Traffic',\n",
    "                        'Third_Quar': 'ThirdQuartil_of_velocity_of_Vehicle_Traffic'\n",
    "                    })\n",
    "    return df_ren\n",
    "    \n",
    "df = first_df('wdl_data/m_risk_prfile.geojson') "
   ]
  },
  {
   "cell_type": "markdown",
   "metadata": {},
   "source": [
    "To have a better understanding on our data and to avoid errors during our analysis we need to investigate it with general statistics.\n",
    "To be able to trust our analysis we have to clean the dataset before. "
   ]
  },
  {
   "cell_type": "markdown",
   "metadata": {},
   "source": [
    "### Remove outliers: "
   ]
  },
  {
   "cell_type": "code",
   "execution_count": 6,
   "metadata": {},
   "outputs": [
    {
     "data": {
      "text/html": [
       "<div>\n",
       "<style scoped>\n",
       "    .dataframe tbody tr th:only-of-type {\n",
       "        vertical-align: middle;\n",
       "    }\n",
       "\n",
       "    .dataframe tbody tr th {\n",
       "        vertical-align: top;\n",
       "    }\n",
       "\n",
       "    .dataframe thead th {\n",
       "        text-align: right;\n",
       "    }\n",
       "</style>\n",
       "<table border=\"1\" class=\"dataframe\">\n",
       "  <thead>\n",
       "    <tr style=\"text-align: right;\">\n",
       "      <th></th>\n",
       "      <th>linkid</th>\n",
       "      <th>Daily_Average_Traffic_Intensity</th>\n",
       "      <th>Average_Velocity_of_Vehicle_Traffic</th>\n",
       "      <th>Median_of_velocity_of_Vehicle_Traffic</th>\n",
       "      <th>FirstQuartil_of_velocity_of_Vehicle_Traffic</th>\n",
       "      <th>ThirdQuartil_of_velocity_of_Vehicle_Traffic</th>\n",
       "      <th>Func_Class</th>\n",
       "      <th>Speed_Cat</th>\n",
       "    </tr>\n",
       "  </thead>\n",
       "  <tbody>\n",
       "    <tr>\n",
       "      <th>count</th>\n",
       "      <td>3.467800e+04</td>\n",
       "      <td>34678.000000</td>\n",
       "      <td>34678.000000</td>\n",
       "      <td>34678.000000</td>\n",
       "      <td>34678.000000</td>\n",
       "      <td>34678.000000</td>\n",
       "      <td>34678.000000</td>\n",
       "      <td>34678.000000</td>\n",
       "    </tr>\n",
       "    <tr>\n",
       "      <th>mean</th>\n",
       "      <td>8.958206e+08</td>\n",
       "      <td>3340.417942</td>\n",
       "      <td>56.816834</td>\n",
       "      <td>56.463409</td>\n",
       "      <td>43.822041</td>\n",
       "      <td>68.091844</td>\n",
       "      <td>2.684613</td>\n",
       "      <td>4.904781</td>\n",
       "    </tr>\n",
       "    <tr>\n",
       "      <th>std</th>\n",
       "      <td>2.355910e+08</td>\n",
       "      <td>2725.873982</td>\n",
       "      <td>51.983670</td>\n",
       "      <td>26.240876</td>\n",
       "      <td>24.442204</td>\n",
       "      <td>30.985191</td>\n",
       "      <td>0.538658</td>\n",
       "      <td>1.520568</td>\n",
       "    </tr>\n",
       "    <tr>\n",
       "      <th>min</th>\n",
       "      <td>8.021682e+07</td>\n",
       "      <td>14.435864</td>\n",
       "      <td>-401.703724</td>\n",
       "      <td>1.000000</td>\n",
       "      <td>-392.500000</td>\n",
       "      <td>1.000000</td>\n",
       "      <td>1.000000</td>\n",
       "      <td>2.000000</td>\n",
       "    </tr>\n",
       "    <tr>\n",
       "      <th>25%</th>\n",
       "      <td>7.364832e+08</td>\n",
       "      <td>1903.398108</td>\n",
       "      <td>38.315321</td>\n",
       "      <td>38.250000</td>\n",
       "      <td>26.000000</td>\n",
       "      <td>48.000000</td>\n",
       "      <td>2.000000</td>\n",
       "      <td>4.000000</td>\n",
       "    </tr>\n",
       "    <tr>\n",
       "      <th>50%</th>\n",
       "      <td>9.067377e+08</td>\n",
       "      <td>2644.529317</td>\n",
       "      <td>49.966126</td>\n",
       "      <td>50.000000</td>\n",
       "      <td>38.875000</td>\n",
       "      <td>60.333333</td>\n",
       "      <td>3.000000</td>\n",
       "      <td>6.000000</td>\n",
       "    </tr>\n",
       "    <tr>\n",
       "      <th>75%</th>\n",
       "      <td>1.154997e+09</td>\n",
       "      <td>3897.886608</td>\n",
       "      <td>69.511585</td>\n",
       "      <td>71.000000</td>\n",
       "      <td>56.000000</td>\n",
       "      <td>85.000000</td>\n",
       "      <td>3.000000</td>\n",
       "      <td>6.000000</td>\n",
       "    </tr>\n",
       "    <tr>\n",
       "      <th>max</th>\n",
       "      <td>1.223731e+09</td>\n",
       "      <td>49309.806935</td>\n",
       "      <td>6357.022296</td>\n",
       "      <td>1326.250000</td>\n",
       "      <td>143.000000</td>\n",
       "      <td>2605.000000</td>\n",
       "      <td>3.000000</td>\n",
       "      <td>7.000000</td>\n",
       "    </tr>\n",
       "  </tbody>\n",
       "</table>\n",
       "</div>"
      ],
      "text/plain": [
       "             linkid  Daily_Average_Traffic_Intensity  \\\n",
       "count  3.467800e+04                     34678.000000   \n",
       "mean   8.958206e+08                      3340.417942   \n",
       "std    2.355910e+08                      2725.873982   \n",
       "min    8.021682e+07                        14.435864   \n",
       "25%    7.364832e+08                      1903.398108   \n",
       "50%    9.067377e+08                      2644.529317   \n",
       "75%    1.154997e+09                      3897.886608   \n",
       "max    1.223731e+09                     49309.806935   \n",
       "\n",
       "       Average_Velocity_of_Vehicle_Traffic  \\\n",
       "count                         34678.000000   \n",
       "mean                             56.816834   \n",
       "std                              51.983670   \n",
       "min                            -401.703724   \n",
       "25%                              38.315321   \n",
       "50%                              49.966126   \n",
       "75%                              69.511585   \n",
       "max                            6357.022296   \n",
       "\n",
       "       Median_of_velocity_of_Vehicle_Traffic  \\\n",
       "count                           34678.000000   \n",
       "mean                               56.463409   \n",
       "std                                26.240876   \n",
       "min                                 1.000000   \n",
       "25%                                38.250000   \n",
       "50%                                50.000000   \n",
       "75%                                71.000000   \n",
       "max                              1326.250000   \n",
       "\n",
       "       FirstQuartil_of_velocity_of_Vehicle_Traffic  \\\n",
       "count                                 34678.000000   \n",
       "mean                                     43.822041   \n",
       "std                                      24.442204   \n",
       "min                                    -392.500000   \n",
       "25%                                      26.000000   \n",
       "50%                                      38.875000   \n",
       "75%                                      56.000000   \n",
       "max                                     143.000000   \n",
       "\n",
       "       ThirdQuartil_of_velocity_of_Vehicle_Traffic    Func_Class     Speed_Cat  \n",
       "count                                 34678.000000  34678.000000  34678.000000  \n",
       "mean                                     68.091844      2.684613      4.904781  \n",
       "std                                      30.985191      0.538658      1.520568  \n",
       "min                                       1.000000      1.000000      2.000000  \n",
       "25%                                      48.000000      2.000000      4.000000  \n",
       "50%                                      60.333333      3.000000      6.000000  \n",
       "75%                                      85.000000      3.000000      6.000000  \n",
       "max                                    2605.000000      3.000000      7.000000  "
      ]
     },
     "execution_count": 6,
     "metadata": {},
     "output_type": "execute_result"
    }
   ],
   "source": [
    "df.describe()"
   ]
  },
  {
   "cell_type": "markdown",
   "metadata": {},
   "source": [
    "- Regarding the columns we know that they report values in km/h: many of the min and max we can observe thank to describe function don't make sense. \n",
    "- We need to operate on them as they are **outliers**"
   ]
  },
  {
   "cell_type": "code",
   "execution_count": 7,
   "metadata": {},
   "outputs": [],
   "source": [
    "#removing outliers:\n",
    "def rm_out(df):\n",
    "    for i in df.columns.drop(['linkid', 'Daily_Average_Traffic_Intensity','geometry']):\n",
    "        lb = 0\n",
    "        ub = 180\n",
    "#         print(lb, ub)\n",
    "        df[i] = df[i].mask(df[i] < lb) \n",
    "        df[i] = df[i].mask(df[i] > ub) \n",
    "    return df\n",
    "\n",
    "data = rm_out(df)"
   ]
  },
  {
   "cell_type": "markdown",
   "metadata": {},
   "source": [
    "**If we run describe again we will see that the data regarding velocity has just feasible values.**"
   ]
  },
  {
   "cell_type": "code",
   "execution_count": 8,
   "metadata": {},
   "outputs": [
    {
     "data": {
      "text/html": [
       "<div>\n",
       "<style scoped>\n",
       "    .dataframe tbody tr th:only-of-type {\n",
       "        vertical-align: middle;\n",
       "    }\n",
       "\n",
       "    .dataframe tbody tr th {\n",
       "        vertical-align: top;\n",
       "    }\n",
       "\n",
       "    .dataframe thead th {\n",
       "        text-align: right;\n",
       "    }\n",
       "</style>\n",
       "<table border=\"1\" class=\"dataframe\">\n",
       "  <thead>\n",
       "    <tr style=\"text-align: right;\">\n",
       "      <th></th>\n",
       "      <th>linkid</th>\n",
       "      <th>Daily_Average_Traffic_Intensity</th>\n",
       "      <th>Average_Velocity_of_Vehicle_Traffic</th>\n",
       "      <th>Median_of_velocity_of_Vehicle_Traffic</th>\n",
       "      <th>FirstQuartil_of_velocity_of_Vehicle_Traffic</th>\n",
       "      <th>ThirdQuartil_of_velocity_of_Vehicle_Traffic</th>\n",
       "      <th>Func_Class</th>\n",
       "      <th>Speed_Cat</th>\n",
       "    </tr>\n",
       "  </thead>\n",
       "  <tbody>\n",
       "    <tr>\n",
       "      <th>count</th>\n",
       "      <td>3.467800e+04</td>\n",
       "      <td>34678.000000</td>\n",
       "      <td>34633.000000</td>\n",
       "      <td>34675.000000</td>\n",
       "      <td>34677.000000</td>\n",
       "      <td>34674.000000</td>\n",
       "      <td>34678.000000</td>\n",
       "      <td>34678.000000</td>\n",
       "    </tr>\n",
       "    <tr>\n",
       "      <th>mean</th>\n",
       "      <td>8.958206e+08</td>\n",
       "      <td>3340.417942</td>\n",
       "      <td>56.112805</td>\n",
       "      <td>56.402803</td>\n",
       "      <td>43.834624</td>\n",
       "      <td>67.959767</td>\n",
       "      <td>2.684613</td>\n",
       "      <td>4.904781</td>\n",
       "    </tr>\n",
       "    <tr>\n",
       "      <th>std</th>\n",
       "      <td>2.355910e+08</td>\n",
       "      <td>2725.873982</td>\n",
       "      <td>24.346245</td>\n",
       "      <td>25.054113</td>\n",
       "      <td>24.329987</td>\n",
       "      <td>26.706718</td>\n",
       "      <td>0.538658</td>\n",
       "      <td>1.520568</td>\n",
       "    </tr>\n",
       "    <tr>\n",
       "      <th>min</th>\n",
       "      <td>8.021682e+07</td>\n",
       "      <td>14.435864</td>\n",
       "      <td>1.000000</td>\n",
       "      <td>1.000000</td>\n",
       "      <td>0.000000</td>\n",
       "      <td>1.000000</td>\n",
       "      <td>1.000000</td>\n",
       "      <td>2.000000</td>\n",
       "    </tr>\n",
       "    <tr>\n",
       "      <th>25%</th>\n",
       "      <td>7.364832e+08</td>\n",
       "      <td>1903.398108</td>\n",
       "      <td>38.317003</td>\n",
       "      <td>38.250000</td>\n",
       "      <td>26.000000</td>\n",
       "      <td>48.000000</td>\n",
       "      <td>2.000000</td>\n",
       "      <td>4.000000</td>\n",
       "    </tr>\n",
       "    <tr>\n",
       "      <th>50%</th>\n",
       "      <td>9.067377e+08</td>\n",
       "      <td>2644.529317</td>\n",
       "      <td>49.961538</td>\n",
       "      <td>50.000000</td>\n",
       "      <td>38.875000</td>\n",
       "      <td>60.333333</td>\n",
       "      <td>3.000000</td>\n",
       "      <td>6.000000</td>\n",
       "    </tr>\n",
       "    <tr>\n",
       "      <th>75%</th>\n",
       "      <td>1.154997e+09</td>\n",
       "      <td>3897.886608</td>\n",
       "      <td>69.447459</td>\n",
       "      <td>71.000000</td>\n",
       "      <td>56.000000</td>\n",
       "      <td>85.000000</td>\n",
       "      <td>3.000000</td>\n",
       "      <td>6.000000</td>\n",
       "    </tr>\n",
       "    <tr>\n",
       "      <th>max</th>\n",
       "      <td>1.223731e+09</td>\n",
       "      <td>49309.806935</td>\n",
       "      <td>179.691892</td>\n",
       "      <td>143.250000</td>\n",
       "      <td>143.000000</td>\n",
       "      <td>164.000000</td>\n",
       "      <td>3.000000</td>\n",
       "      <td>7.000000</td>\n",
       "    </tr>\n",
       "  </tbody>\n",
       "</table>\n",
       "</div>"
      ],
      "text/plain": [
       "             linkid  Daily_Average_Traffic_Intensity  \\\n",
       "count  3.467800e+04                     34678.000000   \n",
       "mean   8.958206e+08                      3340.417942   \n",
       "std    2.355910e+08                      2725.873982   \n",
       "min    8.021682e+07                        14.435864   \n",
       "25%    7.364832e+08                      1903.398108   \n",
       "50%    9.067377e+08                      2644.529317   \n",
       "75%    1.154997e+09                      3897.886608   \n",
       "max    1.223731e+09                     49309.806935   \n",
       "\n",
       "       Average_Velocity_of_Vehicle_Traffic  \\\n",
       "count                         34633.000000   \n",
       "mean                             56.112805   \n",
       "std                              24.346245   \n",
       "min                               1.000000   \n",
       "25%                              38.317003   \n",
       "50%                              49.961538   \n",
       "75%                              69.447459   \n",
       "max                             179.691892   \n",
       "\n",
       "       Median_of_velocity_of_Vehicle_Traffic  \\\n",
       "count                           34675.000000   \n",
       "mean                               56.402803   \n",
       "std                                25.054113   \n",
       "min                                 1.000000   \n",
       "25%                                38.250000   \n",
       "50%                                50.000000   \n",
       "75%                                71.000000   \n",
       "max                               143.250000   \n",
       "\n",
       "       FirstQuartil_of_velocity_of_Vehicle_Traffic  \\\n",
       "count                                 34677.000000   \n",
       "mean                                     43.834624   \n",
       "std                                      24.329987   \n",
       "min                                       0.000000   \n",
       "25%                                      26.000000   \n",
       "50%                                      38.875000   \n",
       "75%                                      56.000000   \n",
       "max                                     143.000000   \n",
       "\n",
       "       ThirdQuartil_of_velocity_of_Vehicle_Traffic    Func_Class     Speed_Cat  \n",
       "count                                 34674.000000  34678.000000  34678.000000  \n",
       "mean                                     67.959767      2.684613      4.904781  \n",
       "std                                      26.706718      0.538658      1.520568  \n",
       "min                                       1.000000      1.000000      2.000000  \n",
       "25%                                      48.000000      2.000000      4.000000  \n",
       "50%                                      60.333333      3.000000      6.000000  \n",
       "75%                                      85.000000      3.000000      6.000000  \n",
       "max                                     164.000000      3.000000      7.000000  "
      ]
     },
     "execution_count": 8,
     "metadata": {},
     "output_type": "execute_result"
    }
   ],
   "source": [
    "data.describe()"
   ]
  },
  {
   "cell_type": "markdown",
   "metadata": {},
   "source": [
    "### Handling duplicates:"
   ]
  },
  {
   "cell_type": "code",
   "execution_count": 9,
   "metadata": {},
   "outputs": [
    {
     "data": {
      "text/plain": [
       "True"
      ]
     },
     "execution_count": 9,
     "metadata": {},
     "output_type": "execute_result"
    }
   ],
   "source": [
    "len(data) == len(data.drop_duplicates())"
   ]
  },
  {
   "cell_type": "markdown",
   "metadata": {},
   "source": [
    "There are ***no duplicates*** in our dataset: NO ACTION NEEDED\n",
    "    "
   ]
  },
  {
   "cell_type": "markdown",
   "metadata": {},
   "source": [
    "### Handling missing values:"
   ]
  },
  {
   "cell_type": "code",
   "execution_count": 10,
   "metadata": {},
   "outputs": [
    {
     "data": {
      "text/plain": [
       "(Average_Velocity_of_Vehicle_Traffic            45\n",
       " ThirdQuartil_of_velocity_of_Vehicle_Traffic     4\n",
       " Median_of_velocity_of_Vehicle_Traffic           3\n",
       " FirstQuartil_of_velocity_of_Vehicle_Traffic     1\n",
       " linkid                                          0\n",
       " Daily_Average_Traffic_Intensity                 0\n",
       " Func_Class                                      0\n",
       " Speed_Cat                                       0\n",
       " geometry                                        0\n",
       " dtype: int64,\n",
       " 'Total of data points : 34678')"
      ]
     },
     "execution_count": 10,
     "metadata": {},
     "output_type": "execute_result"
    }
   ],
   "source": [
    "data.isnull().sum().sort_values(ascending=False) , f'Total of data points : {data.shape[0]}'"
   ]
  },
  {
   "cell_type": "markdown",
   "metadata": {},
   "source": [
    "As we can see the total highest number of missing values detected for column is 45 on a total number of rows of 34'678.\n",
    "- The missing value for Average Velocity e the ones in Speed Difference Mean are the same (one column is created from the other one)\n",
    "- The missing values of other column can be easily deleted\n",
    "\n",
    "**As we are handling data regarding AVERAGE velocity we can easily substitute the missing values with the mean of the corresponding column**"
   ]
  },
  {
   "cell_type": "code",
   "execution_count": 12,
   "metadata": {},
   "outputs": [],
   "source": [
    "def handling_missing(data):\n",
    "    imputer = SimpleImputer()\n",
    "    data['Average_Velocity_of_Vehicle_Traffic']=imputer.fit_transform(data[['Average_Velocity_of_Vehicle_Traffic']])\n",
    "    return data.dropna()\n",
    "data = handling_missing(data)"
   ]
  },
  {
   "cell_type": "code",
   "execution_count": 13,
   "metadata": {},
   "outputs": [
    {
     "data": {
      "text/plain": [
       "linkid                                         0\n",
       "Daily_Average_Traffic_Intensity                0\n",
       "Average_Velocity_of_Vehicle_Traffic            0\n",
       "Median_of_velocity_of_Vehicle_Traffic          0\n",
       "FirstQuartil_of_velocity_of_Vehicle_Traffic    0\n",
       "ThirdQuartil_of_velocity_of_Vehicle_Traffic    0\n",
       "Func_Class                                     0\n",
       "Speed_Cat                                      0\n",
       "geometry                                       0\n",
       "dtype: int64"
      ]
     },
     "execution_count": 13,
     "metadata": {},
     "output_type": "execute_result"
    }
   ],
   "source": [
    "data.isnull().sum()"
   ]
  },
  {
   "cell_type": "markdown",
   "metadata": {},
   "source": [
    "### Feature creation:"
   ]
  },
  {
   "cell_type": "markdown",
   "metadata": {},
   "source": [
    "Now looking at our data we need to search for a target that in the next step we will use in our model.\n",
    "Most common causes of Accidents:\n",
    "- Over Speeding.\n",
    "- Drunken Driving.\n",
    "- Distractions to Driver.\n",
    "- Red Light Jumping.\n",
    "- Avoiding Safety Gears like Seat belts and Helmets.\n",
    "- Non-adherence to lane driving and overtaking in a wrong manner.\n",
    "\n",
    "The first cause is always the **over-speed** that can be connected with one of the above causes. \n",
    "For this reason we decide to investigate and use as target information regarding the velocity.\n",
    "\n",
    "- Speed_Cat (described in the excel below)\n",
    "- Average Velocity of Vehicle Traffic \n",
    "- Median of velocity of Vehicle Traffic\n",
    "\n",
    "We will create a dictionary that, from the information contained in the excel can describe the type of street regarding the max velocity allowed in there."
   ]
  },
  {
   "cell_type": "code",
   "execution_count": 14,
   "metadata": {},
   "outputs": [
    {
     "data": {
      "text/html": [
       "<div>\n",
       "<style scoped>\n",
       "    .dataframe tbody tr th:only-of-type {\n",
       "        vertical-align: middle;\n",
       "    }\n",
       "\n",
       "    .dataframe tbody tr th {\n",
       "        vertical-align: top;\n",
       "    }\n",
       "\n",
       "    .dataframe thead th {\n",
       "        text-align: right;\n",
       "    }\n",
       "</style>\n",
       "<table border=\"1\" class=\"dataframe\">\n",
       "  <thead>\n",
       "    <tr style=\"text-align: right;\">\n",
       "      <th></th>\n",
       "      <th>Speed Cat</th>\n",
       "      <th>Speed range in km/h</th>\n",
       "    </tr>\n",
       "  </thead>\n",
       "  <tbody>\n",
       "    <tr>\n",
       "      <th>0</th>\n",
       "      <td>1</td>\n",
       "      <td>&gt;130 km/h</td>\n",
       "    </tr>\n",
       "    <tr>\n",
       "      <th>1</th>\n",
       "      <td>2</td>\n",
       "      <td>101-130 km/h</td>\n",
       "    </tr>\n",
       "    <tr>\n",
       "      <th>2</th>\n",
       "      <td>3</td>\n",
       "      <td>91-100 km/h</td>\n",
       "    </tr>\n",
       "    <tr>\n",
       "      <th>3</th>\n",
       "      <td>4</td>\n",
       "      <td>71-90 km/h</td>\n",
       "    </tr>\n",
       "    <tr>\n",
       "      <th>4</th>\n",
       "      <td>5</td>\n",
       "      <td>51-70 km/h</td>\n",
       "    </tr>\n",
       "    <tr>\n",
       "      <th>5</th>\n",
       "      <td>6</td>\n",
       "      <td>31-50 km/h</td>\n",
       "    </tr>\n",
       "    <tr>\n",
       "      <th>6</th>\n",
       "      <td>7</td>\n",
       "      <td>11-30 km/h</td>\n",
       "    </tr>\n",
       "    <tr>\n",
       "      <th>7</th>\n",
       "      <td>8</td>\n",
       "      <td>&lt;11 km/h</td>\n",
       "    </tr>\n",
       "  </tbody>\n",
       "</table>\n",
       "</div>"
      ],
      "text/plain": [
       "   Speed Cat Speed range in km/h\n",
       "0          1           >130 km/h\n",
       "1          2        101-130 km/h\n",
       "2          3         91-100 km/h\n",
       "3          4          71-90 km/h\n",
       "4          5          51-70 km/h\n",
       "5          6          31-50 km/h\n",
       "6          7          11-30 km/h\n",
       "7          8            <11 km/h"
      ]
     },
     "execution_count": 14,
     "metadata": {},
     "output_type": "execute_result"
    }
   ],
   "source": [
    "speed_explanation = pd.read_excel('wdl_dict/Dictionary_Risk_Profiles.xlsx', sheet_name='SpeedCat')\n",
    "speed_explanation"
   ]
  },
  {
   "cell_type": "markdown",
   "metadata": {},
   "source": [
    "from the table above we can create a dictionary.\n",
    "1. count values for category\n",
    "2. translate the speed range in actual number"
   ]
  },
  {
   "cell_type": "code",
   "execution_count": 15,
   "metadata": {},
   "outputs": [
    {
     "data": {
      "text/plain": [
       "6    20307\n",
       "4     5273\n",
       "2     5123\n",
       "3     1843\n",
       "5     1770\n",
       "7      357\n",
       "Name: Speed_Cat, dtype: int64"
      ]
     },
     "execution_count": 15,
     "metadata": {},
     "output_type": "execute_result"
    }
   ],
   "source": [
    "data.Speed_Cat.value_counts()"
   ]
  },
  {
   "cell_type": "markdown",
   "metadata": {},
   "source": [
    "**NO need of mapping for label 1 and 8**"
   ]
  },
  {
   "cell_type": "code",
   "execution_count": 17,
   "metadata": {},
   "outputs": [
    {
     "name": "stderr",
     "output_type": "stream",
     "text": [
      "<ipython-input-17-97c7211f1675>:3: SettingWithCopyWarning: \n",
      "A value is trying to be set on a copy of a slice from a DataFrame.\n",
      "Try using .loc[row_indexer,col_indexer] = value instead\n",
      "\n",
      "See the caveats in the documentation: https://pandas.pydata.org/pandas-docs/stable/user_guide/indexing.html#returning-a-view-versus-a-copy\n",
      "  data['Max_speed'] = data['Speed_Cat'].map(max_speed_dict)\n",
      "<ipython-input-17-97c7211f1675>:4: SettingWithCopyWarning: \n",
      "A value is trying to be set on a copy of a slice from a DataFrame.\n",
      "Try using .loc[row_indexer,col_indexer] = value instead\n",
      "\n",
      "See the caveats in the documentation: https://pandas.pydata.org/pandas-docs/stable/user_guide/indexing.html#returning-a-view-versus-a-copy\n",
      "  data['Speed_Diff_Mean'] = data['Max_speed'] - data['Average_Velocity_of_Vehicle_Traffic']\n",
      "<ipython-input-17-97c7211f1675>:5: SettingWithCopyWarning: \n",
      "A value is trying to be set on a copy of a slice from a DataFrame.\n",
      "Try using .loc[row_indexer,col_indexer] = value instead\n",
      "\n",
      "See the caveats in the documentation: https://pandas.pydata.org/pandas-docs/stable/user_guide/indexing.html#returning-a-view-versus-a-copy\n",
      "  data['Speed_Diff_Median'] = data['Max_speed'] - data['Median_of_velocity_of_Vehicle_Traffic']\n"
     ]
    }
   ],
   "source": [
    "max_speed_dict = {2:130,3:100,4:90,5:70,6:50,7:30}\n",
    "def target_creation(data):\n",
    "    data['Max_speed'] = data['Speed_Cat'].map(max_speed_dict)\n",
    "    data['Speed_Diff_Mean'] = data['Max_speed'] - data['Average_Velocity_of_Vehicle_Traffic']\n",
    "    data['Speed_Diff_Median'] = data['Max_speed'] - data['Median_of_velocity_of_Vehicle_Traffic']\n",
    "    return data\n",
    "data = target_creation(data)"
   ]
  },
  {
   "cell_type": "code",
   "execution_count": 41,
   "metadata": {},
   "outputs": [
    {
     "data": {
      "image/png": "[encoded data removed]",
      "text/plain": [
       "<Figure size 1080x1080 with 6 Axes>"
      ]
     },
     "metadata": {
      "needs_background": "light"
     },
     "output_type": "display_data"
    }
   ],
   "source": [
    "cat_list = {x:data[data['Max_speed']==x] for x in max_speed_dict.values()}\n",
    "def speed_dist(cat_list):\n",
    "    fig, axs = plt.subplots(3, 2, figsize=(15, 15))\n",
    "    fig.suptitle('Categorical Distributions', size=20)\n",
    "#     fig.tight_layout()\n",
    "    for c, i in enumerate(cat_list.items()):\n",
    "        speedlim = i[0]\n",
    "        plt.subplot(3, 2, c+1)\n",
    "#         plt.set_xlabel('Average Speed')\n",
    "        ax = i[1].Average_Velocity_of_Vehicle_Traffic.hist(bins=30)\n",
    "        ylim = i[1].Average_Velocity_of_Vehicle_Traffic.value_counts(bins=30).max()\n",
    "        ax.set_title(f'Speed Category {i[0]} kph', size=13)\n",
    "        ax.set_xlabel('Average Speed')\n",
    "        ax.axvline(speedlim, color='r', linestyle='--')\n",
    "#         print(f'done {speedlim}, {ylim/2}, {speedlim}')\n",
    "        ax.text(x=speedlim+7, y=float(ylim-ylim/4), s=f'Speed Limit: {speedlim}')\n",
    "        \n",
    "speed_dist(cat_list)"
   ]
  },
  {
   "cell_type": "markdown",
   "metadata": {},
   "source": [
    "*Note*<br>\n",
    "We can see that most over speeding is taking place at roads with lower speed limits such as *50 kph and 30 kph.*"
   ]
  },
  {
   "cell_type": "markdown",
   "metadata": {},
   "source": [
    "**Over speeding behavior can be extracted by the deltas between the road's speed category and its actual average speed observations**"
   ]
  },
  {
   "cell_type": "code",
   "execution_count": 18,
   "metadata": {},
   "outputs": [
    {
     "data": {
      "text/html": [
       "<div>\n",
       "<style scoped>\n",
       "    .dataframe tbody tr th:only-of-type {\n",
       "        vertical-align: middle;\n",
       "    }\n",
       "\n",
       "    .dataframe tbody tr th {\n",
       "        vertical-align: top;\n",
       "    }\n",
       "\n",
       "    .dataframe thead th {\n",
       "        text-align: right;\n",
       "    }\n",
       "</style>\n",
       "<table border=\"1\" class=\"dataframe\">\n",
       "  <thead>\n",
       "    <tr style=\"text-align: right;\">\n",
       "      <th></th>\n",
       "      <th>Speed_Cat</th>\n",
       "      <th>Max_speed</th>\n",
       "      <th>Speed_Diff_Mean</th>\n",
       "      <th>Speed_Diff_Median</th>\n",
       "    </tr>\n",
       "  </thead>\n",
       "  <tbody>\n",
       "    <tr>\n",
       "      <th>0</th>\n",
       "      <td>6</td>\n",
       "      <td>50</td>\n",
       "      <td>4.791284</td>\n",
       "      <td>5.535714</td>\n",
       "    </tr>\n",
       "    <tr>\n",
       "      <th>1</th>\n",
       "      <td>4</td>\n",
       "      <td>90</td>\n",
       "      <td>10.436692</td>\n",
       "      <td>7.250000</td>\n",
       "    </tr>\n",
       "    <tr>\n",
       "      <th>2</th>\n",
       "      <td>6</td>\n",
       "      <td>50</td>\n",
       "      <td>-15.955069</td>\n",
       "      <td>-17.333333</td>\n",
       "    </tr>\n",
       "    <tr>\n",
       "      <th>3</th>\n",
       "      <td>6</td>\n",
       "      <td>50</td>\n",
       "      <td>2.466089</td>\n",
       "      <td>6.000000</td>\n",
       "    </tr>\n",
       "    <tr>\n",
       "      <th>4</th>\n",
       "      <td>6</td>\n",
       "      <td>50</td>\n",
       "      <td>-1.375291</td>\n",
       "      <td>-3.250000</td>\n",
       "    </tr>\n",
       "    <tr>\n",
       "      <th>5</th>\n",
       "      <td>6</td>\n",
       "      <td>50</td>\n",
       "      <td>17.667821</td>\n",
       "      <td>18.333333</td>\n",
       "    </tr>\n",
       "    <tr>\n",
       "      <th>6</th>\n",
       "      <td>6</td>\n",
       "      <td>50</td>\n",
       "      <td>19.613591</td>\n",
       "      <td>22.937500</td>\n",
       "    </tr>\n",
       "    <tr>\n",
       "      <th>7</th>\n",
       "      <td>6</td>\n",
       "      <td>50</td>\n",
       "      <td>26.714286</td>\n",
       "      <td>39.000000</td>\n",
       "    </tr>\n",
       "    <tr>\n",
       "      <th>8</th>\n",
       "      <td>6</td>\n",
       "      <td>50</td>\n",
       "      <td>6.476409</td>\n",
       "      <td>4.000000</td>\n",
       "    </tr>\n",
       "    <tr>\n",
       "      <th>9</th>\n",
       "      <td>6</td>\n",
       "      <td>50</td>\n",
       "      <td>-11.897045</td>\n",
       "      <td>1.346154</td>\n",
       "    </tr>\n",
       "  </tbody>\n",
       "</table>\n",
       "</div>"
      ],
      "text/plain": [
       "   Speed_Cat  Max_speed  Speed_Diff_Mean  Speed_Diff_Median\n",
       "0          6         50         4.791284           5.535714\n",
       "1          4         90        10.436692           7.250000\n",
       "2          6         50       -15.955069         -17.333333\n",
       "3          6         50         2.466089           6.000000\n",
       "4          6         50        -1.375291          -3.250000\n",
       "5          6         50        17.667821          18.333333\n",
       "6          6         50        19.613591          22.937500\n",
       "7          6         50        26.714286          39.000000\n",
       "8          6         50         6.476409           4.000000\n",
       "9          6         50       -11.897045           1.346154"
      ]
     },
     "execution_count": 18,
     "metadata": {},
     "output_type": "execute_result"
    }
   ],
   "source": [
    "data[['Speed_Cat','Max_speed', 'Speed_Diff_Mean','Speed_Diff_Median']].head(10)"
   ]
  },
  {
   "cell_type": "markdown",
   "metadata": {},
   "source": [
    "We believe that the main reason that is able to decrease the safety of a street is the speed rate.\n",
    "**Our first target will be the difference between the mean of velocity and the max speed**"
   ]
  },
  {
   "cell_type": "markdown",
   "metadata": {},
   "source": [
    "### Scaling features:"
   ]
  },
  {
   "cell_type": "markdown",
   "metadata": {},
   "source": [
    "We are now ready to scale our dataframe to have a distribution *around* the mean.\n",
    "\n",
    "1. We need to separate numerical and categorical column\n",
    "2. We are going to use the Min-Max Scaling method for the numerical ones: is the one that is commonly used distance based algorithms, as k-means that is one of the possible analysis we are taking in consideration.  \n",
    "3. For the categorical ones we'll use the OneHotEncoding method (for each label in each category creates a different column)\n",
    "\n",
    "We could also operate this step all together but is important for us to know which column belong to each of the different classes inside the categorical feature. \n",
    "**To do so we need to operate for each categorical separately**"
   ]
  },
  {
   "cell_type": "code",
   "execution_count": 23,
   "metadata": {},
   "outputs": [],
   "source": [
    "def scaling_numerical(data):\n",
    "    numerical = data.columns.drop(['geometry','linkid','Speed_Cat', 'Func_Class'])\n",
    "    scaler = MinMaxScaler()\n",
    "    data_scaled = data.copy()\n",
    "    for column in numerical:\n",
    "        scaler.fit(data_scaled[[column]])\n",
    "        data_scaled[column]=scaler.transform(data_scaled[[column]]) \n",
    "    return data_scaled\n",
    "data_scaled = scaling_numerical(data)"
   ]
  },
  {
   "cell_type": "markdown",
   "metadata": {},
   "source": [
    "1. **BEFORE SCALING**"
   ]
  },
  {
   "cell_type": "code",
   "execution_count": 24,
   "metadata": {},
   "outputs": [
    {
     "data": {
      "text/html": [
       "<div>\n",
       "<style scoped>\n",
       "    .dataframe tbody tr th:only-of-type {\n",
       "        vertical-align: middle;\n",
       "    }\n",
       "\n",
       "    .dataframe tbody tr th {\n",
       "        vertical-align: top;\n",
       "    }\n",
       "\n",
       "    .dataframe thead th {\n",
       "        text-align: right;\n",
       "    }\n",
       "</style>\n",
       "<table border=\"1\" class=\"dataframe\">\n",
       "  <thead>\n",
       "    <tr style=\"text-align: right;\">\n",
       "      <th></th>\n",
       "      <th>Daily_Average_Traffic_Intensity</th>\n",
       "      <th>Average_Velocity_of_Vehicle_Traffic</th>\n",
       "      <th>Median_of_velocity_of_Vehicle_Traffic</th>\n",
       "      <th>FirstQuartil_of_velocity_of_Vehicle_Traffic</th>\n",
       "      <th>ThirdQuartil_of_velocity_of_Vehicle_Traffic</th>\n",
       "      <th>Max_speed</th>\n",
       "      <th>Speed_Diff_Mean</th>\n",
       "      <th>Speed_Diff_Median</th>\n",
       "    </tr>\n",
       "  </thead>\n",
       "  <tbody>\n",
       "    <tr>\n",
       "      <th>0</th>\n",
       "      <td>6224.778569</td>\n",
       "      <td>45.208716</td>\n",
       "      <td>44.464286</td>\n",
       "      <td>28.0</td>\n",
       "      <td>59.0</td>\n",
       "      <td>50</td>\n",
       "      <td>4.791284</td>\n",
       "      <td>5.535714</td>\n",
       "    </tr>\n",
       "  </tbody>\n",
       "</table>\n",
       "</div>"
      ],
      "text/plain": [
       "   Daily_Average_Traffic_Intensity  Average_Velocity_of_Vehicle_Traffic  \\\n",
       "0                      6224.778569                            45.208716   \n",
       "\n",
       "   Median_of_velocity_of_Vehicle_Traffic  \\\n",
       "0                              44.464286   \n",
       "\n",
       "   FirstQuartil_of_velocity_of_Vehicle_Traffic  \\\n",
       "0                                         28.0   \n",
       "\n",
       "   ThirdQuartil_of_velocity_of_Vehicle_Traffic  Max_speed  Speed_Diff_Mean  \\\n",
       "0                                         59.0         50         4.791284   \n",
       "\n",
       "   Speed_Diff_Median  \n",
       "0           5.535714  "
      ]
     },
     "execution_count": 24,
     "metadata": {},
     "output_type": "execute_result"
    }
   ],
   "source": [
    "data.drop(columns=['geometry','linkid','Speed_Cat', 'Func_Class']).head(1)"
   ]
  },
  {
   "cell_type": "markdown",
   "metadata": {},
   "source": [
    "2. **AFTER SCALING**"
   ]
  },
  {
   "cell_type": "code",
   "execution_count": 25,
   "metadata": {},
   "outputs": [
    {
     "data": {
      "text/html": [
       "<div>\n",
       "<style scoped>\n",
       "    .dataframe tbody tr th:only-of-type {\n",
       "        vertical-align: middle;\n",
       "    }\n",
       "\n",
       "    .dataframe tbody tr th {\n",
       "        vertical-align: top;\n",
       "    }\n",
       "\n",
       "    .dataframe thead th {\n",
       "        text-align: right;\n",
       "    }\n",
       "</style>\n",
       "<table border=\"1\" class=\"dataframe\">\n",
       "  <thead>\n",
       "    <tr style=\"text-align: right;\">\n",
       "      <th></th>\n",
       "      <th>Daily_Average_Traffic_Intensity</th>\n",
       "      <th>Average_Velocity_of_Vehicle_Traffic</th>\n",
       "      <th>Median_of_velocity_of_Vehicle_Traffic</th>\n",
       "      <th>FirstQuartil_of_velocity_of_Vehicle_Traffic</th>\n",
       "      <th>ThirdQuartil_of_velocity_of_Vehicle_Traffic</th>\n",
       "      <th>Max_speed</th>\n",
       "      <th>Speed_Diff_Mean</th>\n",
       "      <th>Speed_Diff_Median</th>\n",
       "    </tr>\n",
       "  </thead>\n",
       "  <tbody>\n",
       "    <tr>\n",
       "      <th>0</th>\n",
       "      <td>0.125982</td>\n",
       "      <td>0.247402</td>\n",
       "      <td>0.305549</td>\n",
       "      <td>0.195804</td>\n",
       "      <td>0.355828</td>\n",
       "      <td>0.2</td>\n",
       "      <td>0.565472</td>\n",
       "      <td>0.502626</td>\n",
       "    </tr>\n",
       "  </tbody>\n",
       "</table>\n",
       "</div>"
      ],
      "text/plain": [
       "   Daily_Average_Traffic_Intensity  Average_Velocity_of_Vehicle_Traffic  \\\n",
       "0                         0.125982                             0.247402   \n",
       "\n",
       "   Median_of_velocity_of_Vehicle_Traffic  \\\n",
       "0                               0.305549   \n",
       "\n",
       "   FirstQuartil_of_velocity_of_Vehicle_Traffic  \\\n",
       "0                                     0.195804   \n",
       "\n",
       "   ThirdQuartil_of_velocity_of_Vehicle_Traffic  Max_speed  Speed_Diff_Mean  \\\n",
       "0                                     0.355828        0.2         0.565472   \n",
       "\n",
       "   Speed_Diff_Median  \n",
       "0           0.502626  "
      ]
     },
     "execution_count": 25,
     "metadata": {},
     "output_type": "execute_result"
    }
   ],
   "source": [
    "data_scaled.drop(columns=['geometry','linkid','Speed_Cat', 'Func_Class']).head(1)"
   ]
  },
  {
   "cell_type": "markdown",
   "metadata": {},
   "source": [
    "**Working with the categorical features the first thing we need to do is to understand the distribution within the labels**"
   ]
  },
  {
   "cell_type": "code",
   "execution_count": 26,
   "metadata": {},
   "outputs": [
    {
     "data": {
      "text/plain": [
       "(3    25023\n",
       " 2     8363\n",
       " 1     1287\n",
       " Name: Func_Class, dtype: int64,\n",
       " 6    20307\n",
       " 4     5273\n",
       " 2     5123\n",
       " 3     1843\n",
       " 5     1770\n",
       " 7      357\n",
       " Name: Speed_Cat, dtype: int64)"
      ]
     },
     "execution_count": 26,
     "metadata": {},
     "output_type": "execute_result"
    }
   ],
   "source": [
    "data.Func_Class.value_counts() , data.Speed_Cat.value_counts()"
   ]
  },
  {
   "cell_type": "markdown",
   "metadata": {},
   "source": [
    "- Functional Class has just 3 possible label for the street that we can understand better looking at the excel"
   ]
  },
  {
   "cell_type": "code",
   "execution_count": 27,
   "metadata": {},
   "outputs": [
    {
     "name": "stdout",
     "output_type": "stream",
     "text": [
      "Class n.1 : These roads are meant for high volume, maximum speed traffic between and through major metropolitan areas. There are very few, if any, speed changes. Access to this road is usually controlled. \n",
      "\n",
      "Class n.2 : These roads are used to channel traffic to Main Roads (FRC1) for travel between and through cities in the shortest amount of time. There are very few, if any speed changes. \n",
      "\n",
      "Class n.3 : These roads interconnect First Class Roads (FRC2) and provide a high volume of traffic movement at a lower level of mobility than First Class Roads (FRC2). \n",
      "\n"
     ]
    }
   ],
   "source": [
    "func_explanation = pd.read_excel('wdl_dict/Dictionary_Risk_Profiles.xlsx', sheet_name='Func_Class')\n",
    "for i,el in enumerate(func_explanation['Description']):\n",
    "    print(f'Class n.{i+1} : {el} \\n')"
   ]
  },
  {
   "cell_type": "markdown",
   "metadata": {},
   "source": [
    "With this new and deeper understanding of the distribution and the meaning of the category (*NB: regarding speed_cat we can look back at the point **1.1.5 \"Feature creation\"** to get these informations)* we can now progress with our transformations.  "
   ]
  },
  {
   "cell_type": "code",
   "execution_count": 28,
   "metadata": {},
   "outputs": [],
   "source": [
    "def scaling_categorical(data):\n",
    "    ohe = OneHotEncoder(sparse = False)\n",
    "    ohe.fit(data[['Func_Class']])\n",
    "    func_encoded = ohe.transform(data[['Func_Class']])\n",
    "    data[\"func_1\"],data[\"func_2\"],data['func_3'] = func_encoded.T\n",
    "    ohe = OneHotEncoder(sparse = False)\n",
    "    ohe.fit(data[['Speed_Cat']])\n",
    "    speed_encoded = ohe.transform(data[['Speed_Cat']])\n",
    "    data[\"speed_2\"],data[\"speed_3\"],data[\"speed_4\"],\\\n",
    "    data[\"speed_5\"], data[\"speed_6\"], data[\"speed_7\"]= speed_encoded.T\n",
    "    return data "
   ]
  },
  {
   "cell_type": "code",
   "execution_count": 29,
   "metadata": {},
   "outputs": [],
   "source": [
    "data_scaled = scaling_categorical(data_scaled)"
   ]
  },
  {
   "cell_type": "markdown",
   "metadata": {},
   "source": [
    "### Preprocessed Dataframe: "
   ]
  },
  {
   "cell_type": "markdown",
   "metadata": {},
   "source": [
    "Here we have the first dataframe, the one given by the challenge, completely ready for the model."
   ]
  },
  {
   "cell_type": "code",
   "execution_count": 33,
   "metadata": {},
   "outputs": [
    {
     "data": {
      "text/html": [
       "<div>\n",
       "<style scoped>\n",
       "    .dataframe tbody tr th:only-of-type {\n",
       "        vertical-align: middle;\n",
       "    }\n",
       "\n",
       "    .dataframe tbody tr th {\n",
       "        vertical-align: top;\n",
       "    }\n",
       "\n",
       "    .dataframe thead th {\n",
       "        text-align: right;\n",
       "    }\n",
       "</style>\n",
       "<table border=\"1\" class=\"dataframe\">\n",
       "  <thead>\n",
       "    <tr style=\"text-align: right;\">\n",
       "      <th></th>\n",
       "      <th>linkid</th>\n",
       "      <th>Daily_Average_Traffic_Intensity</th>\n",
       "      <th>Average_Velocity_of_Vehicle_Traffic</th>\n",
       "      <th>Median_of_velocity_of_Vehicle_Traffic</th>\n",
       "      <th>FirstQuartil_of_velocity_of_Vehicle_Traffic</th>\n",
       "      <th>ThirdQuartil_of_velocity_of_Vehicle_Traffic</th>\n",
       "      <th>Func_Class</th>\n",
       "      <th>Speed_Cat</th>\n",
       "      <th>geometry</th>\n",
       "      <th>Max_speed</th>\n",
       "      <th>...</th>\n",
       "      <th>Speed_Diff_Median</th>\n",
       "      <th>func_1</th>\n",
       "      <th>func_2</th>\n",
       "      <th>func_3</th>\n",
       "      <th>speed_2</th>\n",
       "      <th>speed_3</th>\n",
       "      <th>speed_4</th>\n",
       "      <th>speed_5</th>\n",
       "      <th>speed_6</th>\n",
       "      <th>speed_7</th>\n",
       "    </tr>\n",
       "  </thead>\n",
       "  <tbody>\n",
       "    <tr>\n",
       "      <th>0</th>\n",
       "      <td>80216819</td>\n",
       "      <td>0.125982</td>\n",
       "      <td>0.247402</td>\n",
       "      <td>0.305549</td>\n",
       "      <td>0.195804</td>\n",
       "      <td>0.355828</td>\n",
       "      <td>2</td>\n",
       "      <td>6</td>\n",
       "      <td>MULTILINESTRING ((-9.16402 38.77030, -9.16389 ...</td>\n",
       "      <td>0.2</td>\n",
       "      <td>...</td>\n",
       "      <td>0.502626</td>\n",
       "      <td>0.0</td>\n",
       "      <td>1.0</td>\n",
       "      <td>0.0</td>\n",
       "      <td>0.0</td>\n",
       "      <td>0.0</td>\n",
       "      <td>0.0</td>\n",
       "      <td>0.0</td>\n",
       "      <td>1.0</td>\n",
       "      <td>0.0</td>\n",
       "    </tr>\n",
       "    <tr>\n",
       "      <th>1</th>\n",
       "      <td>80216858</td>\n",
       "      <td>0.045067</td>\n",
       "      <td>0.439658</td>\n",
       "      <td>0.574692</td>\n",
       "      <td>0.501748</td>\n",
       "      <td>0.565951</td>\n",
       "      <td>2</td>\n",
       "      <td>4</td>\n",
       "      <td>MULTILINESTRING ((-9.16645 38.74274, -9.16638 ...</td>\n",
       "      <td>0.6</td>\n",
       "      <td>...</td>\n",
       "      <td>0.511029</td>\n",
       "      <td>0.0</td>\n",
       "      <td>1.0</td>\n",
       "      <td>0.0</td>\n",
       "      <td>0.0</td>\n",
       "      <td>0.0</td>\n",
       "      <td>1.0</td>\n",
       "      <td>0.0</td>\n",
       "      <td>0.0</td>\n",
       "      <td>0.0</td>\n",
       "    </tr>\n",
       "    <tr>\n",
       "      <th>2</th>\n",
       "      <td>80216859</td>\n",
       "      <td>0.043093</td>\n",
       "      <td>0.363503</td>\n",
       "      <td>0.466315</td>\n",
       "      <td>0.426573</td>\n",
       "      <td>0.453988</td>\n",
       "      <td>3</td>\n",
       "      <td>6</td>\n",
       "      <td>MULTILINESTRING ((-9.16645 38.74274, -9.16637 ...</td>\n",
       "      <td>0.2</td>\n",
       "      <td>...</td>\n",
       "      <td>0.390523</td>\n",
       "      <td>0.0</td>\n",
       "      <td>0.0</td>\n",
       "      <td>1.0</td>\n",
       "      <td>0.0</td>\n",
       "      <td>0.0</td>\n",
       "      <td>0.0</td>\n",
       "      <td>0.0</td>\n",
       "      <td>1.0</td>\n",
       "      <td>0.0</td>\n",
       "    </tr>\n",
       "    <tr>\n",
       "      <th>3</th>\n",
       "      <td>80216860</td>\n",
       "      <td>0.044363</td>\n",
       "      <td>0.260414</td>\n",
       "      <td>0.302285</td>\n",
       "      <td>0.188112</td>\n",
       "      <td>0.447853</td>\n",
       "      <td>3</td>\n",
       "      <td>6</td>\n",
       "      <td>MULTILINESTRING ((-9.16588 38.74370, -9.16568 ...</td>\n",
       "      <td>0.2</td>\n",
       "      <td>...</td>\n",
       "      <td>0.504902</td>\n",
       "      <td>0.0</td>\n",
       "      <td>0.0</td>\n",
       "      <td>1.0</td>\n",
       "      <td>0.0</td>\n",
       "      <td>0.0</td>\n",
       "      <td>0.0</td>\n",
       "      <td>0.0</td>\n",
       "      <td>1.0</td>\n",
       "      <td>0.0</td>\n",
       "    </tr>\n",
       "    <tr>\n",
       "      <th>4</th>\n",
       "      <td>80216867</td>\n",
       "      <td>0.042360</td>\n",
       "      <td>0.281911</td>\n",
       "      <td>0.367311</td>\n",
       "      <td>0.317016</td>\n",
       "      <td>0.355828</td>\n",
       "      <td>3</td>\n",
       "      <td>6</td>\n",
       "      <td>MULTILINESTRING ((-9.16472 38.74478, -9.16487 ...</td>\n",
       "      <td>0.2</td>\n",
       "      <td>...</td>\n",
       "      <td>0.459559</td>\n",
       "      <td>0.0</td>\n",
       "      <td>0.0</td>\n",
       "      <td>1.0</td>\n",
       "      <td>0.0</td>\n",
       "      <td>0.0</td>\n",
       "      <td>0.0</td>\n",
       "      <td>0.0</td>\n",
       "      <td>1.0</td>\n",
       "      <td>0.0</td>\n",
       "    </tr>\n",
       "  </tbody>\n",
       "</table>\n",
       "<p>5 rows × 21 columns</p>\n",
       "</div>"
      ],
      "text/plain": [
       "     linkid  Daily_Average_Traffic_Intensity  \\\n",
       "0  80216819                         0.125982   \n",
       "1  80216858                         0.045067   \n",
       "2  80216859                         0.043093   \n",
       "3  80216860                         0.044363   \n",
       "4  80216867                         0.042360   \n",
       "\n",
       "   Average_Velocity_of_Vehicle_Traffic  Median_of_velocity_of_Vehicle_Traffic  \\\n",
       "0                             0.247402                               0.305549   \n",
       "1                             0.439658                               0.574692   \n",
       "2                             0.363503                               0.466315   \n",
       "3                             0.260414                               0.302285   \n",
       "4                             0.281911                               0.367311   \n",
       "\n",
       "   FirstQuartil_of_velocity_of_Vehicle_Traffic  \\\n",
       "0                                     0.195804   \n",
       "1                                     0.501748   \n",
       "2                                     0.426573   \n",
       "3                                     0.188112   \n",
       "4                                     0.317016   \n",
       "\n",
       "   ThirdQuartil_of_velocity_of_Vehicle_Traffic  Func_Class  Speed_Cat  \\\n",
       "0                                     0.355828           2          6   \n",
       "1                                     0.565951           2          4   \n",
       "2                                     0.453988           3          6   \n",
       "3                                     0.447853           3          6   \n",
       "4                                     0.355828           3          6   \n",
       "\n",
       "                                            geometry  Max_speed  ...  \\\n",
       "0  MULTILINESTRING ((-9.16402 38.77030, -9.16389 ...        0.2  ...   \n",
       "1  MULTILINESTRING ((-9.16645 38.74274, -9.16638 ...        0.6  ...   \n",
       "2  MULTILINESTRING ((-9.16645 38.74274, -9.16637 ...        0.2  ...   \n",
       "3  MULTILINESTRING ((-9.16588 38.74370, -9.16568 ...        0.2  ...   \n",
       "4  MULTILINESTRING ((-9.16472 38.74478, -9.16487 ...        0.2  ...   \n",
       "\n",
       "   Speed_Diff_Median  func_1  func_2  func_3  speed_2  speed_3  speed_4  \\\n",
       "0           0.502626     0.0     1.0     0.0      0.0      0.0      0.0   \n",
       "1           0.511029     0.0     1.0     0.0      0.0      0.0      1.0   \n",
       "2           0.390523     0.0     0.0     1.0      0.0      0.0      0.0   \n",
       "3           0.504902     0.0     0.0     1.0      0.0      0.0      0.0   \n",
       "4           0.459559     0.0     0.0     1.0      0.0      0.0      0.0   \n",
       "\n",
       "   speed_5  speed_6  speed_7  \n",
       "0      0.0      1.0      0.0  \n",
       "1      0.0      0.0      0.0  \n",
       "2      0.0      1.0      0.0  \n",
       "3      0.0      1.0      0.0  \n",
       "4      0.0      1.0      0.0  \n",
       "\n",
       "[5 rows x 21 columns]"
      ]
     },
     "execution_count": 33,
     "metadata": {},
     "output_type": "execute_result"
    }
   ],
   "source": [
    "data_scaled.head()"
   ]
  },
  {
   "cell_type": "markdown",
   "metadata": {},
   "source": [
    "### Feature engineering"
   ]
  },
  {
   "cell_type": "markdown",
   "metadata": {},
   "source": [
    "We assume that ***over speeding*** is the main reason for road hazards. Over speeding behavior can be extracted by the deltas between the road's speed category and its actual average speed observations as processed in column ```Speed_Diff_Mean```. <br>\n",
    "\n",
    "Over speeding can be harnessed among others by the roads environment [Source](https://www.tandfonline.com/doi/abs/10.1080/014416499295420). People chose their speeding behavior not only by speed limits but also by their assessment of the road's quality and the surrounding environment.<br>\n",
    "\n",
    "Therefore we chose to gather more information about POIs, amenities and public buildings in the surrounding of the provided road segments. Those can be acquired through OSM sources."
   ]
  },
  {
   "cell_type": "markdown",
   "metadata": {},
   "source": [
    "### Scaling data set to Lisbon"
   ]
  },
  {
   "cell_type": "markdown",
   "metadata": {},
   "source": [
    "waiting expl sisto"
   ]
  },
  {
   "cell_type": "code",
   "execution_count": 34,
   "metadata": {},
   "outputs": [
    {
     "data": {
      "text/plain": [
       "'MultiLineString'"
      ]
     },
     "execution_count": 34,
     "metadata": {},
     "output_type": "execute_result"
    }
   ],
   "source": [
    "# Transforming pandas df to geopandas df\n",
    "geo_df = gpd.GeoDataFrame(data_scaled)\n",
    "geo_df.geometry[0].type"
   ]
  },
  {
   "cell_type": "code",
   "execution_count": 35,
   "metadata": {},
   "outputs": [],
   "source": [
    "## Filtering only lisbon data inside the circle of 38.72526068747401, -9.142352617846093 with buffer '1'\n",
    "circle_lisbon = Point(-9.142352617846093, 38.72526068747401).buffer(1)\n",
    "geo_lis = geo_df[geo_df.geometry.within(circle_lisbon)]\n",
    "# no immediate usage of this pd.DataFrame\n",
    "df_lis = pd.DataFrame(geo_lis).drop(columns=['geometry', 'linkid'])"
   ]
  },
  {
   "cell_type": "code",
   "execution_count": 36,
   "metadata": {},
   "outputs": [
    {
     "name": "stdout",
     "output_type": "stream",
     "text": [
      "The new data set has 17688 rows as opposed to the original set with 34673 rows\n"
     ]
    }
   ],
   "source": [
    "print(f'The new data set has {df_lis.shape[0]} rows as opposed to the original set with {geo_df.shape[0]} rows')"
   ]
  },
  {
   "cell_type": "markdown",
   "metadata": {},
   "source": [
    "### Loading OSM Maps"
   ]
  },
  {
   "cell_type": "code",
   "execution_count": 37,
   "metadata": {},
   "outputs": [],
   "source": [
    "%%bash\n",
    "wget https://download.bbbike.org/osm/extract/planet_-9.89,38.265_-8.309,39.136.osm.pbf \\\n",
    "    --quiet -O map_data/Lisbon.osm.pbf"
   ]
  },
  {
   "cell_type": "code",
   "execution_count": 38,
   "metadata": {},
   "outputs": [
    {
     "name": "stdout",
     "output_type": "stream",
     "text": [
      "INFO: Open of `map_data/Lisbon.osm.pbf'\r\n",
      "      using driver `OSM' successful.\r\n",
      "1: points (Point)\r\n",
      "2: lines (Line String)\r\n",
      "3: multilinestrings (Multi Line String)\r\n",
      "4: multipolygons (Multi Polygon)\r\n",
      "5: other_relations (Geometry Collection)\r\n"
     ]
    }
   ],
   "source": [
    "!ogrinfo map_data/Lisbon.osm.pbf"
   ]
  },
  {
   "cell_type": "code",
   "execution_count": 39,
   "metadata": {},
   "outputs": [
    {
     "name": "stdout",
     "output_type": "stream",
     "text": [
      "0...10...20...30...40...50...60...70...80...90...100 - done.\n"
     ]
    },
    {
     "name": "stderr",
     "output_type": "stream",
     "text": [
      "Warning 1: A geometry of type POINT is inserted into layer polygons of geometry type POLYGON, which is not normally allowed by the GeoPackage specification, but the driver will however do it. To create a conformant GeoPackage, if using ogr2ogr, the -nlt option can be used to override the layer geometry type. This warning will no longer be emitted for this combination of layer and feature geometry type.\n",
      "Warning 1: A geometry of type LINESTRING is inserted into layer polygons of geometry type POLYGON, which is not normally allowed by the GeoPackage specification, but the driver will however do it. To create a conformant GeoPackage, if using ogr2ogr, the -nlt option can be used to override the layer geometry type. This warning will no longer be emitted for this combination of layer and feature geometry type.\n",
      "Warning 1: A geometry of type MULTILINESTRING is inserted into layer polygons of geometry type POLYGON, which is not normally allowed by the GeoPackage specification, but the driver will however do it. To create a conformant GeoPackage, if using ogr2ogr, the -nlt option can be used to override the layer geometry type. This warning will no longer be emitted for this combination of layer and feature geometry type.\n"
     ]
    }
   ],
   "source": [
    "%%bash\n",
    "ogr2ogr -f \"GPKG\" \\\n",
    "     map_data/lisbon_polygons.gpkg \\\n",
    "     map_data/Lisbon.osm.pbf \\\n",
    "    -nlt POLYGONS \\\n",
    "    -nln polygons"
   ]
  },
  {
   "cell_type": "code",
   "execution_count": null,
   "metadata": {},
   "outputs": [],
   "source": [
    "#Read data\n",
    "# about 3 mins\n",
    "layer_file = \"map_data/lisbon_polygons.gpkg\"\n",
    "collection = list(fiona.open(layer_file,'r'))\n",
    "df1 = pd.DataFrame(collection)\n",
    "\n",
    "#Check Geometry\n",
    "def isvalid(geom):\n",
    "    try:\n",
    "        shape(geom)\n",
    "        return 1\n",
    "    except:\n",
    "        return 0\n",
    "\n",
    "df1['isvalid'] = df1['geometry'].apply(lambda x: isvalid(x))\n",
    "df1 = df1[df1['isvalid'] == 1]\n",
    "collection = json.loads(df1.to_json(orient='records'))\n",
    "\n",
    "#Convert to geodataframe\n",
    "gdf_lis_poly = gpd.GeoDataFrame.from_features(collection)"
   ]
  },
  {
   "cell_type": "code",
   "execution_count": null,
   "metadata": {},
   "outputs": [],
   "source": []
  },
  {
   "cell_type": "markdown",
   "metadata": {
    "id": "gSDath2nr1fq"
   },
   "source": [
    "## Conclusions\n",
    "\n",
    "### Scalability and Impact\n",
    "Tell us how applicable and scalable your solution is if you were to implement it in a city. Identify possible limitations and measure the potential social impact of your solution."
   ]
  },
  {
   "cell_type": "markdown",
   "metadata": {
    "id": "CGmbES9GszEv"
   },
   "source": []
  },
  {
   "cell_type": "markdown",
   "metadata": {
    "id": "0XBiBOyAl2Sv"
   },
   "source": [
    "### Future Work\n",
    "Now picture the following scenario: imagine you could have access to any type of data that could help you solve this challenge even better. What would that data be and how would it improve your solution? 🚀"
   ]
  },
  {
   "cell_type": "markdown",
   "metadata": {
    "id": "5gK3heTKl7qz"
   },
   "source": []
  }
 ],
 "metadata": {
  "colab": {
   "collapsed_sections": [],
   "name": "Copy of Notebook Submission Template.ipynb",
   "provenance": [],
   "toc_visible": true
  },
  "kernelspec": {
   "display_name": "Python 3",
   "language": "python",
   "name": "python3"
  },
  "language_info": {
   "codemirror_mode": {
    "name": "ipython",
    "version": 3
   },
   "file_extension": ".py",
   "mimetype": "text/x-python",
   "name": "python",
   "nbconvert_exporter": "python",
   "pygments_lexer": "ipython3",
   "version": "3.8.6"
  },
  "toc": {
   "base_numbering": 1,
   "nav_menu": {},
   "number_sections": true,
   "sideBar": true,
   "skip_h1_title": false,
   "title_cell": "Table of Contents",
   "title_sidebar": "Contents",
   "toc_cell": false,
   "toc_position": {},
   "toc_section_display": true,
   "toc_window_display": false
  }
 },
 "nbformat": 4,
 "nbformat_minor": 1
}
