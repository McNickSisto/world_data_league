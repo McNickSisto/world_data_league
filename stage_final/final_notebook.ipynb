{
 "cells": [
  {
   "cell_type": "markdown",
   "id": "charged-snowboard",
   "metadata": {},
   "source": [
    "# World Data League 2021\n",
    "## Notebook Template\n",
    "\n",
    "This notebook is one of the mandatory deliverables when you submit your solution (alongside the video pitch). Its structure follows the WDL evaluation criteria and it has dedicated cells where you can add descriptions. Make sure your code is readable as it will be the only technical support the jury will have to evaluate your work.\n",
    "\n",
    "The notebook must:\n",
    "\n",
    "*   💻 have all the code that you want the jury to evaluate\n",
    "*   🧱 follow the predefined structure\n",
    "*   📄 have markdown descriptions where you find necessary\n",
    "*   👀 be saved with all the output that you want the jury to see\n",
    "*   🏃‍♂️ be runnable\n"
   ]
  },
  {
   "cell_type": "markdown",
   "id": "breathing-contamination",
   "metadata": {
    "ExecuteTime": {
     "end_time": "2021-07-03T10:46:52.146959Z",
     "start_time": "2021-07-03T10:46:52.128960Z"
    }
   },
   "source": [
    "## Authors\n",
    "- Nicholas Sistovaris\n",
    "- Moritz Geiger\n",
    "- Pravalika Myneni\n",
    "- Sowmya Madela"
   ]
  },
  {
   "cell_type": "markdown",
   "id": "million-florida",
   "metadata": {},
   "source": [
    "## External links and resources"
   ]
  },
  {
   "cell_type": "markdown",
   "id": "domestic-finland",
   "metadata": {
    "ExecuteTime": {
     "end_time": "2021-07-03T10:56:16.294657Z",
     "start_time": "2021-07-03T10:56:16.286392Z"
    }
   },
   "source": [
    "All the external data or resources that was not provided by the WDL was acquired through the following links:\n",
    "\n",
    "1. https://noise-planet.org/noisemodelling.html \n",
    "2. https://www.torinocitylab.it/en/asset-to/open-data \n",
    "3. https://www.officeholidays.com/countries/italy/turin/2018 \n",
    "4. https://www.feiertagskalender.ch/index.php?geo=3815&jahr=2018&hl=en\n",
    "5. http://webgis.arpa.piemonte.it/basicviewer_arpa_webapp/index.html?webmap=89aa175451d24ae0a1911e67957d9aec"
   ]
  },
  {
   "cell_type": "markdown",
   "id": "british-ecology",
   "metadata": {},
   "source": [
    "## Introduction\n",
    "Describe how you framed the challenge by telling us what problem are you trying to solve and how your solution solves that problem."
   ]
  },
  {
   "cell_type": "markdown",
   "id": "opened-hypothetical",
   "metadata": {},
   "source": [
    "**Overview:**\n",
    "\n",
    "\n",
    "_from challenge description_\n",
    "<blockquote>\n",
    "\n",
    "</blockquote>\n",
    "\n"
   ]
  },
  {
   "cell_type": "markdown",
   "id": "sensitive-region",
   "metadata": {},
   "source": [
    "**Research:**\n",
    "\n"
   ]
  },
  {
   "cell_type": "markdown",
   "id": "dated-discovery",
   "metadata": {},
   "source": [
    "## Development\n",
    "Start coding here! 👩‍💻\n",
    "\n",
    "Don't hesitate to create markdown cells to include descriptions of your work where you see fit, as well as commenting your code.\n",
    "\n",
    "We know that you know exactly where to start when it comes to crunching data and building models, but don't forget that WDL is all about social impact...so take that into consideration as well."
   ]
  },
  {
   "cell_type": "markdown",
   "id": "significant-liability",
   "metadata": {},
   "source": [
    "### Imports (libraries) 📚"
   ]
  },
  {
   "cell_type": "code",
   "execution_count": 4,
   "id": "creative-marketplace",
   "metadata": {
    "ExecuteTime": {
     "end_time": "2021-07-03T11:17:08.517645Z",
     "start_time": "2021-07-03T11:17:02.250175Z"
    }
   },
   "outputs": [],
   "source": [
    "## TABULAR\n",
    "import pandas as pd \n",
    "import numpy as np\n",
    "import matplotlib\n",
    "\n",
    "## GEO\n",
    "import geopandas as gpd\n",
    "import fiona\n",
    "import folium\n",
    "from folium.plugins import MarkerCluster, HeatMap, BeautifyIcon\n",
    "from folium.map import LayerControl, Layer, FeatureGroup\n",
    "from folium.vector_layers import Circle, CircleMarker\n",
    "from shapely.geometry import LineString, Point\n",
    "from shapely import wkt\n",
    "\n",
    "\n",
    "## DATA\n",
    "import os\n",
    "import zipfile\n",
    "from collections import Counter\n",
    "import re\n",
    "from datetime import datetime\n",
    "import requests\n",
    "from dotenv import load_dotenv, find_dotenv\n",
    "import ast\n",
    "import datetime as dt\n",
    "from io import StringIO, BytesIO\n",
    "\n",
    "\n",
    "## VIS\n",
    "from ipywidgets import interact, interactive, fixed, interact_manual, IntSlider\n",
    "import seaborn as sns\n",
    "import matplotlib.pyplot as plt\n",
    "import statsmodels.tsa\n",
    "import branca\n",
    "import plotly.express as px\n",
    "\n",
    "## TIME SERIES\n",
    "from statsmodels.tsa.seasonal import seasonal_decompose\n",
    "from sklearn.metrics import r2_score, median_absolute_error, mean_absolute_error\n",
    "from sklearn.metrics import median_absolute_error, mean_squared_error, mean_squared_log_error\n",
    "import statsmodels.tsa.api as smt\n",
    "import statsmodels.api as sm\n",
    "from statsmodels.tsa.arima_model import ARIMA\n",
    "from statsmodels.tsa.statespace.sarimax import SARIMAX\n",
    "from pmdarima.arima import auto_arima "
   ]
  },
  {
   "cell_type": "markdown",
   "id": "simplified-gateway",
   "metadata": {},
   "source": [
    "## Conclusions\n",
    "\n",
    "### Scalability and Impact\n",
    "Tell us how applicable and scalable your solution is if you were to implement it in a city. Identify possible limitations and measure the potential social impact of your solution."
   ]
  },
  {
   "cell_type": "markdown",
   "id": "heated-thread",
   "metadata": {},
   "source": [
    "### Future Work\n",
    "Now picture the following scenario: imagine you could have access to any type of data that could help you solve this challenge even better. What would that data be and how would it improve your solution? 🚀"
   ]
  }
 ],
 "metadata": {
  "kernelspec": {
   "display_name": "Python 3",
   "language": "python",
   "name": "python3"
  },
  "language_info": {
   "codemirror_mode": {
    "name": "ipython",
    "version": 3
   },
   "file_extension": ".py",
   "mimetype": "text/x-python",
   "name": "python",
   "nbconvert_exporter": "python",
   "pygments_lexer": "ipython3",
   "version": "3.8.6"
  },
  "toc": {
   "base_numbering": 1,
   "nav_menu": {},
   "number_sections": true,
   "sideBar": true,
   "skip_h1_title": false,
   "title_cell": "Table of Contents",
   "title_sidebar": "Contents",
   "toc_cell": false,
   "toc_position": {},
   "toc_section_display": true,
   "toc_window_display": false
  }
 },
 "nbformat": 4,
 "nbformat_minor": 5
}
