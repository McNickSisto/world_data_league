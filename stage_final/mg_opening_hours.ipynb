{
 "cells": [
  {
   "cell_type": "code",
   "execution_count": 1,
   "id": "a17f548e",
   "metadata": {},
   "outputs": [],
   "source": [
    "import geopandas as gpd\n",
    "import pandas as pd\n",
    "import fiona\n",
    "import os\n",
    "import matplotlib.pyplot as plt\n",
    "import folium\n",
    "from zipfile import ZipFile\n",
    "from folium.plugins import MarkerCluster, HeatMap, BeautifyIcon\n",
    "from folium.map import LayerControl, Layer, FeatureGroup\n",
    "import seaborn as sns\n",
    "from shapely.geometry import Point, LineString, MultiPoint\n",
    "import numpy as np\n",
    "import contextily as ctx\n",
    "import requests\n",
    "from io import StringIO, BytesIO\n",
    "import json\n",
    "import datetime as dt\n",
    "from ast import literal_eval\n",
    "from shapely.wkt import loads\n",
    "import plotly.express as px\n",
    "from dotenv import load_dotenv, find_dotenv"
   ]
  },
  {
   "cell_type": "markdown",
   "id": "6acc77be",
   "metadata": {},
   "source": [
    "# intro\n",
    "This notebook is quite a mess, so I'll explain: \n",
    "We use the ```nearbysearch``` [Link](https://developers.google.com/maps/documentation/places/web-service/search#PlaceSearchRequests) to get all the ```bars```, ```restaurants``` and ```cafe``` business hours. \n",
    "\n",
    "Then we fetch the unique id ```reference``` from the list of businesses and run it through the ```place_details``` API [Link](https://developers.google.com/maps/documentation/places/web-service/details)\n",
    "\n",
    "From there we extract all the ```open``` (time-)elements and ```close``` (time-)elements and build open hour arrays stored in a 7-day dictionary. This dictionary helps creating an hourly count of open businesses. \n",
    "\n",
    "In the end we merge the findings with an empty time series of 2018 with an 'hourly' sequence. \n"
   ]
  },
  {
   "cell_type": "code",
   "execution_count": 3,
   "id": "ce2072bc",
   "metadata": {},
   "outputs": [],
   "source": [
    "# API KEY\n",
    "load_dotenv(find_dotenv())\n",
    "GOOGLE = os.environ.get(\"GOOGLE\")"
   ]
  },
  {
   "cell_type": "code",
   "execution_count": 73,
   "id": "c6716088",
   "metadata": {},
   "outputs": [],
   "source": [
    "def nearbysearch(GOOGLE=GOOGLE, latlng='45.05917,7.67899', radius='800'):\n",
    "    \"\"\"\n",
    "    returns a list of businesses (restaurants, bars, cafes) within the vicinity of a given position (string).\n",
    "    returns also a dictionary of all retreived data. for bugchecks.\n",
    "    loops 6 times over request with next_page_token, to get 120 (6x20) results.\n",
    "    \"\"\"\n",
    "    url = 'https://maps.googleapis.com/maps/api/place/nearbysearch/json'\n",
    "    params = {            \n",
    "                    'location':str(latlng), #sensor\n",
    "                    'radius':str(radius),\n",
    "                    'type':'',\n",
    "                    'key':GOOGLE,\n",
    "                    'next_page_token':''\n",
    "                 } \n",
    "    raw_results = {}\n",
    "    all_results = []\n",
    "    # get all restaurants and bars\n",
    "    for _type in ['restaurant', 'bar', 'cafe']:\n",
    "        print(f'searching for {_type}s')\n",
    "        params['type'] = _type\n",
    "        for i in range(6):\n",
    "            print(f'{i}. loop')\n",
    "            r = requests.get(url, params=params).json()\n",
    "            params['next_page_token'] = r.get('next_page_token') #update page token\n",
    "            raw_results[f'{_type}_{i}'] = r\n",
    "            results = r.get('results')\n",
    "            all_results = all_results + results\n",
    "        params['next_page_token'] = ''\n",
    "    return all_results, raw_results"
   ]
  },
  {
   "cell_type": "code",
   "execution_count": 74,
   "id": "9198bbe8",
   "metadata": {},
   "outputs": [
    {
     "name": "stdout",
     "output_type": "stream",
     "text": [
      "searching for restaurants\n",
      "0. loop\n",
      "1. loop\n",
      "2. loop\n",
      "3. loop\n",
      "4. loop\n",
      "5. loop\n",
      "searching for bars\n",
      "0. loop\n",
      "1. loop\n",
      "2. loop\n",
      "3. loop\n",
      "4. loop\n",
      "5. loop\n",
      "searching for cafes\n",
      "0. loop\n",
      "1. loop\n",
      "2. loop\n",
      "3. loop\n",
      "4. loop\n",
      "5. loop\n"
     ]
    }
   ],
   "source": [
    "all_, raw_ = nearbysearch()"
   ]
  },
  {
   "cell_type": "code",
   "execution_count": 78,
   "id": "faf755c7",
   "metadata": {},
   "outputs": [],
   "source": [
    "def get_opening(all_=all_):\n",
    "    \"\"\"\n",
    "    returns specific opening hrs from fetched bars/restaurants given as a list. \n",
    "    \"\"\"\n",
    "    url = 'https://maps.googleapis.com/maps/api/place/details/json'\n",
    "    params = {\n",
    "        'key':GOOGLE,\n",
    "        'fields':'opening_hours'\n",
    "             }\n",
    "    reference_set = set(business.get('reference') for business in all_)\n",
    "    opening_hrs = {}\n",
    "    for reference in reference_set:\n",
    "        print(f'checking reference: {reference}')\n",
    "        params['place_id'] = reference\n",
    "        r = requests.get(url, params=params).json()\n",
    "        opening_hrs[reference] = r\n",
    "    \n",
    "    return opening_hrs"
   ]
  },
  {
   "cell_type": "code",
   "execution_count": 79,
   "id": "974db292",
   "metadata": {
    "scrolled": true
   },
   "outputs": [
    {
     "name": "stdout",
     "output_type": "stream",
     "text": [
      "checking reference: ChIJee-P5WptiEcRjLSTAT1_xac\n",
      "checking reference: ChIJSywagEJtiEcRBSKuDoA0K8I\n",
      "checking reference: ChIJcQYGo2htiEcRDCBmGIryelU\n",
      "checking reference: ChIJA7HHdGhtiEcRTm-KAlcNeSE\n",
      "checking reference: ChIJU5OsEkJtiEcRijXq1cmSxZI\n",
      "checking reference: ChIJp8GgSBVtiEcRcZhe7KgzpDM\n",
      "checking reference: ChIJ_cJCMWltiEcRNhS7dtz3pLc\n",
      "checking reference: ChIJ34CR-mVtiEcR4lWTsL4kaYI\n",
      "checking reference: ChIJE1jruEJtiEcRCxgTBlZxD-c\n",
      "checking reference: ChIJPef8W0JtiEcRX3xrOVTM628\n",
      "checking reference: ChIJj7X-6kJtiEcRCxeeMgke18A\n",
      "checking reference: ChIJeeINkj9tiEcRfBYot1Y8GU8\n",
      "checking reference: ChIJ6bDsPkRtiEcRedpY35LwAbU\n",
      "checking reference: ChIJ_cueRRVtiEcReT0ZS_x2CLI\n",
      "checking reference: ChIJJ6rGVURtiEcRjVAmYHK6v3A\n",
      "checking reference: ChIJmQeZs2htiEcREd1xnI9vvdw\n",
      "checking reference: ChIJJ4VkrmttiEcRL80wIBiLHXU\n",
      "checking reference: ChIJe76UBEJtiEcR4u6k54rXwHU\n",
      "checking reference: ChIJpQPdpGdtiEcRrtDElCIN5aE\n",
      "checking reference: ChIJSZgnMmZtiEcR8RIBOURbg_k\n",
      "checking reference: ChIJj3LKMEJtiEcRB8wUYgjoeWE\n",
      "checking reference: ChIJ9x09UkJtiEcR7dFcxsO01qA\n",
      "checking reference: ChIJCWkqNhVtiEcR20JQQFE9KiU\n",
      "checking reference: ChIJT2vxgmttiEcRyVbR_hyLxJg\n",
      "checking reference: ChIJ8QeXeUBtiEcRMNWrRvqjjnc\n",
      "checking reference: ChIJ4YaFL0JtiEcRY2C-6YgMqWk\n",
      "checking reference: ChIJod_VUWhtiEcRMl7k-Uoz0bw\n",
      "checking reference: ChIJ1y1_q2ptiEcRe2YoObNB7iQ\n",
      "checking reference: ChIJzzHPfEJtiEcRZKXftVm9dSs\n",
      "checking reference: ChIJD1VBaGptiEcRI6RoSMItjG4\n",
      "checking reference: ChIJ073va2ttiEcRnJykMcnnQSI\n",
      "checking reference: ChIJYUq1HmhtiEcRkpN-ztJSAYk\n",
      "checking reference: ChIJE5FSKEJtiEcROxUnKYKHONM\n",
      "checking reference: ChIJX0iFjUJtiEcRqopB-hFEvJg\n",
      "checking reference: ChIJpSoiYmltiEcRNDIjHHzidmw\n",
      "checking reference: ChIJETRKSEFtiEcRaa0i2bR-OVY\n",
      "checking reference: ChIJ-Q4YEWptiEcR3w5gW-WI68w\n",
      "checking reference: ChIJR0o6pmxtiEcRMTP1J9T7RDE\n",
      "checking reference: ChIJS8xHI2ltiEcRLFbldu3yzd4\n",
      "checking reference: ChIJs8v-sGltiEcRzpHUq_-5IBE\n",
      "checking reference: ChIJc1Cj2hVtiEcRb2-Va3Zl77M\n",
      "checking reference: ChIJu7cT7GdtiEcRMg7QkZYWOBc\n",
      "checking reference: ChIJAzteLGptiEcRBPpdIs63Tqw\n",
      "checking reference: ChIJ72cArRRtiEcRs-GkkIvunQI\n",
      "checking reference: ChIJ3aQHQGptiEcRPsUiipxswvQ\n",
      "checking reference: ChIJCZM1QmptiEcRX00kG9taX84\n",
      "checking reference: ChIJx_YGSEJtiEcR8JJe7MCjdYk\n",
      "checking reference: ChIJGcXcHENtiEcR4Ra4twv7wPI\n",
      "checking reference: ChIJgUpgzWttiEcRLu7FggHkjIc\n",
      "checking reference: ChIJRV2ss29tiEcRNOu384F5uZ0\n",
      "checking reference: ChIJcYQxQ2ptiEcRVIQ_fbQObfA\n",
      "checking reference: ChIJHzm2qGttiEcR0PMJGhFz4AA\n",
      "checking reference: ChIJc0khZEJtiEcR87hvfvjeMmI\n",
      "checking reference: ChIJQV9JaGptiEcRYQs9yaSrSf8\n",
      "checking reference: ChIJBUq7C2xtiEcRnaapU9ulVbw\n"
     ]
    }
   ],
   "source": [
    "opening_hrs = get_opening()"
   ]
  },
  {
   "cell_type": "code",
   "execution_count": 81,
   "id": "2088ee5e",
   "metadata": {},
   "outputs": [],
   "source": [
    "# unpack all the hours\n",
    "periods_dict = {}\n",
    "for reference, hrs in opening_hrs.items():\n",
    "    try:\n",
    "        periods = hrs.get('result').get('opening_hours').get('periods')\n",
    "        if len(periods) > 1: # ignore all 24h open bars/cafes\n",
    "            periods_dict[reference] = periods\n",
    "    except:\n",
    "        pass"
   ]
  },
  {
   "cell_type": "code",
   "execution_count": 142,
   "id": "b3e16ff4",
   "metadata": {},
   "outputs": [
    {
     "data": {
      "text/plain": [
       "[{'close': {'day': 0, 'time': '1430'}, 'open': {'day': 0, 'time': '1200'}},\n",
       " {'close': {'day': 1, 'time': '0000'}, 'open': {'day': 0, 'time': '1830'}},\n",
       " {'close': {'day': 1, 'time': '1500'}, 'open': {'day': 1, 'time': '1230'}},\n",
       " {'close': {'day': 2, 'time': '0000'}, 'open': {'day': 1, 'time': '1800'}},\n",
       " {'close': {'day': 2, 'time': '1430'}, 'open': {'day': 2, 'time': '1200'}},\n",
       " {'close': {'day': 3, 'time': '0000'}, 'open': {'day': 2, 'time': '1830'}},\n",
       " {'close': {'day': 3, 'time': '1430'}, 'open': {'day': 3, 'time': '1200'}},\n",
       " {'close': {'day': 4, 'time': '0000'}, 'open': {'day': 3, 'time': '1830'}},\n",
       " {'close': {'day': 4, 'time': '1430'}, 'open': {'day': 4, 'time': '1200'}},\n",
       " {'close': {'day': 5, 'time': '0000'}, 'open': {'day': 4, 'time': '1830'}},\n",
       " {'close': {'day': 5, 'time': '1430'}, 'open': {'day': 5, 'time': '1200'}},\n",
       " {'close': {'day': 6, 'time': '0000'}, 'open': {'day': 5, 'time': '1830'}},\n",
       " {'close': {'day': 6, 'time': '1430'}, 'open': {'day': 6, 'time': '1200'}},\n",
       " {'close': {'day': 0, 'time': '0000'}, 'open': {'day': 6, 'time': '1830'}}]"
      ]
     },
     "execution_count": 142,
     "metadata": {},
     "output_type": "execute_result"
    }
   ],
   "source": [
    "# check one example as reference\n",
    "periods_dict.get('ChIJSywagEJtiEcRBSKuDoA0K8I')"
   ]
  },
  {
   "cell_type": "code",
   "execution_count": 143,
   "id": "37dc78e1",
   "metadata": {},
   "outputs": [],
   "source": [
    "# init master dict\n",
    "master_dict = {reference:{x:[] for x in list(range(7))} for reference in periods_dict.keys()}\n",
    "\n",
    "# loop through all periods and add opening-closing ranges\n",
    "for reference, periods in periods_dict.items():\n",
    "    for period in periods:\n",
    "        day_open = period.get('open').get('day')\n",
    "        day_close = period.get('close').get('day')\n",
    "        open_ = int(period.get('open').get('time')[:-2]) # only get the hour information (not minutes)\n",
    "        close_ = int(period.get('close').get('time')[:-2])\n",
    "        if day_open != day_close: # handle after midnight close\n",
    "            range_bf = list(range(open_, 24))\n",
    "            range_af = list(range(0, close_)) # closing at 00:00 is caught from day bf\n",
    "            master_dict[reference][day_open].append(range_bf)\n",
    "            master_dict[reference][day_close].append(range_af)\n",
    "        else:\n",
    "            range_ = list(range(open_, close_+1))\n",
    "            master_dict[reference][day_open].append(range_) # some business have a noon break"
   ]
  },
  {
   "cell_type": "code",
   "execution_count": 146,
   "id": "8d8cae2b",
   "metadata": {},
   "outputs": [],
   "source": [
    "# create empty week dict of days and hrs\n",
    "week_dict = {day:{hour:0 for hour in list(range(24))} for day in range(7)}\n",
    "# week_dict"
   ]
  },
  {
   "cell_type": "code",
   "execution_count": 147,
   "id": "24a12057",
   "metadata": {},
   "outputs": [],
   "source": [
    "# counting all appearing hours in dict and adding to normal week hours\n",
    "for reference, dict_ in master_dict.items():\n",
    "    for day, ranges in dict_.items():\n",
    "        if len(ranges) > 0:\n",
    "            for range_ in ranges:\n",
    "                for hour in range_:\n",
    "                    week_dict[day][hour] += 1"
   ]
  },
  {
   "cell_type": "code",
   "execution_count": 162,
   "id": "6785dade",
   "metadata": {},
   "outputs": [],
   "source": [
    "# google week starts on sunday, need to shift\n",
    "dt_days = [6,0,1,2,3,4,5]\n",
    "shifted_week = {dt_days[i]:week_dict.get(i) for i in week_dict.keys()}"
   ]
  },
  {
   "cell_type": "code",
   "execution_count": 189,
   "id": "be3b7d80",
   "metadata": {},
   "outputs": [],
   "source": [
    "# for merging with the main df need to mold it into 2018 hourly range\n",
    "range_2018 = pd.DataFrame(pd.date_range('2018-01-01', '2018-12-31', freq='h'), columns=['hour'])\n",
    "range_2018['count'] = range_2018.hour.apply(lambda x: shifted_week.get(x.weekday()).get(x.hour))"
   ]
  },
  {
   "cell_type": "code",
   "execution_count": 191,
   "id": "e5236b2e",
   "metadata": {},
   "outputs": [],
   "source": [
    "# saving\n",
    "range_2018.to_csv('raw_data/business_open_2018.csv')"
   ]
  },
  {
   "cell_type": "code",
   "execution_count": null,
   "id": "f18ab8d4",
   "metadata": {},
   "outputs": [],
   "source": []
  }
 ],
 "metadata": {
  "kernelspec": {
   "display_name": "Python 3",
   "language": "python",
   "name": "python3"
  },
  "language_info": {
   "codemirror_mode": {
    "name": "ipython",
    "version": 3
   },
   "file_extension": ".py",
   "mimetype": "text/x-python",
   "name": "python",
   "nbconvert_exporter": "python",
   "pygments_lexer": "ipython3",
   "version": "3.8.6"
  },
  "toc": {
   "base_numbering": 1,
   "nav_menu": {},
   "number_sections": true,
   "sideBar": true,
   "skip_h1_title": false,
   "title_cell": "Table of Contents",
   "title_sidebar": "Contents",
   "toc_cell": false,
   "toc_position": {},
   "toc_section_display": true,
   "toc_window_display": false
  }
 },
 "nbformat": 4,
 "nbformat_minor": 5
}
