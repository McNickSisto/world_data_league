{
 "cells": [
  {
   "cell_type": "markdown",
   "id": "ab7c9b59",
   "metadata": {},
   "source": [
    "# Imports ⛴"
   ]
  },
  {
   "cell_type": "code",
   "execution_count": 3,
   "id": "13d7e1a4",
   "metadata": {},
   "outputs": [],
   "source": [
    "import geopandas as gpd\n",
    "import pandas as pd\n",
    "import fiona\n",
    "import os\n",
    "import matplotlib.pyplot as plt\n",
    "import folium\n",
    "from zipfile import ZipFile\n",
    "from folium.plugins import MarkerCluster, HeatMap, BeautifyIcon\n",
    "from folium.map import LayerControl, Layer, FeatureGroup\n",
    "import seaborn as sns\n",
    "from shapely.geometry import Point, LineString, MultiPoint\n",
    "import numpy as np\n",
    "import contextily as ctx\n",
    "import requests\n",
    "from io import StringIO, BytesIO\n",
    "import json\n",
    "import datetime as dt\n",
    "from ast import literal_eval\n",
    "from shapely.wkt import loads\n",
    "import plotly.express as px\n",
    "from dotenv import load_dotenv, find_dotenv\n"
   ]
  },
  {
   "cell_type": "markdown",
   "id": "9ef94733",
   "metadata": {},
   "source": [
    "# Data"
   ]
  },
  {
   "cell_type": "code",
   "execution_count": 4,
   "id": "fc948f69",
   "metadata": {},
   "outputs": [],
   "source": [
    "weather = pd.read_csv('raw_data/weather/weather_1.csv',\n",
    "#                       nrows=1000, #rm later\n",
    "                      sep=';',\n",
    "#                       decimal=',',\n",
    "                      skiprows=4,\n",
    "#                       parse_dates=[[0, 1]],\n",
    "#                       dayfirst=True,\n",
    "                      header=0,\n",
    "                      names=['date', 'hour', 'rainfall_mm', 'snowfall_mm'],\n",
    "                     )\n",
    "\n",
    "# workaround for hour concat issue\n",
    "weather['date'] = pd.to_datetime(weather['date'], format='%d-%m-%Y', errors='coerce')\n",
    "weather['date_hour'] = weather.apply(lambda x: pd.to_datetime(str(x.date) + ' ' + str(x.hour), errors='coerce'), axis=1)\n",
    "\n",
    "# workaround for decimal issue\n",
    "weather['rainfall_mm'] = weather.rainfall_mm.apply(lambda x: str(x).replace(',','.'))\n",
    "weather['snowfall_mm'] = weather.snowfall_mm.apply(lambda x: str(x).replace(',','.'))"
   ]
  },
  {
   "cell_type": "code",
   "execution_count": 5,
   "id": "2270faa0",
   "metadata": {},
   "outputs": [],
   "source": [
    "weather2 = pd.read_csv('raw_data/weather/weather_2.csv', \n",
    "                 sep=';', \n",
    "                 skiprows=4, \n",
    "                 header=0, \n",
    "#                  decimal=',',\n",
    "#                 converters={2:lambda x: x.replace(',', '.')},\n",
    "#                 parse_dates=[[0, 1]],\n",
    "                names=['date', 'hour', 'winds'],\n",
    "                na_values={2:'',\n",
    "                            3:''},\n",
    "                dayfirst=True,\n",
    "                )\n",
    "# workaround for hour concat issue\n",
    "weather2['date'] = pd.to_datetime(weather2['date'], format='%d-%m-%Y', errors='coerce')\n",
    "weather2['date_hour'] = weather2.apply(lambda x: pd.to_datetime(str(x.date) + ' ' + str(x.hour), errors='coerce'), axis=1)\n",
    "\n",
    "weather2['winds'] = weather2.winds.apply(lambda x: str(x).replace(',','.'))"
   ]
  },
  {
   "cell_type": "code",
   "execution_count": 6,
   "id": "f8a1ad54",
   "metadata": {},
   "outputs": [],
   "source": [
    "# weather['date_hour'] = pd.to_datetime(weather['date_hour'], errors='coerce')\n",
    "weather_1 = weather.dropna(subset=['date_hour'])\n",
    "\n",
    "# weather2['date_hour'] = pd.to_datetime(weather2['date_hour'], errors='coerce')\n",
    "weather_2 = weather2.dropna(subset=['date_hour'])"
   ]
  },
  {
   "cell_type": "code",
   "execution_count": 7,
   "id": "0b35b5d8",
   "metadata": {},
   "outputs": [],
   "source": [
    "merged_weather = weather_2.merge(weather_1,\n",
    "                                right_on='date_hour',\n",
    "                                left_on='date_hour',\n",
    "                                )"
   ]
  },
  {
   "cell_type": "code",
   "execution_count": 8,
   "id": "0f4c1e0c",
   "metadata": {},
   "outputs": [
    {
     "data": {
      "text/html": [
       "<div>\n",
       "<style scoped>\n",
       "    .dataframe tbody tr th:only-of-type {\n",
       "        vertical-align: middle;\n",
       "    }\n",
       "\n",
       "    .dataframe tbody tr th {\n",
       "        vertical-align: top;\n",
       "    }\n",
       "\n",
       "    .dataframe thead th {\n",
       "        text-align: right;\n",
       "    }\n",
       "</style>\n",
       "<table border=\"1\" class=\"dataframe\">\n",
       "  <thead>\n",
       "    <tr style=\"text-align: right;\">\n",
       "      <th></th>\n",
       "      <th>date_x</th>\n",
       "      <th>hour_x</th>\n",
       "      <th>winds</th>\n",
       "      <th>date_hour</th>\n",
       "      <th>date_y</th>\n",
       "      <th>hour_y</th>\n",
       "      <th>rainfall_mm</th>\n",
       "      <th>snowfall_mm</th>\n",
       "    </tr>\n",
       "  </thead>\n",
       "  <tbody>\n",
       "    <tr>\n",
       "      <th>443515</th>\n",
       "      <td>2021-06-22</td>\n",
       "      <td>23:20</td>\n",
       "      <td>nan</td>\n",
       "      <td>2021-06-22 23:20:00</td>\n",
       "      <td>2021-06-22</td>\n",
       "      <td>23:20</td>\n",
       "      <td>0.0</td>\n",
       "      <td>nan</td>\n",
       "    </tr>\n",
       "    <tr>\n",
       "      <th>443516</th>\n",
       "      <td>2021-06-22</td>\n",
       "      <td>23:30</td>\n",
       "      <td>nan</td>\n",
       "      <td>2021-06-22 23:30:00</td>\n",
       "      <td>2021-06-22</td>\n",
       "      <td>23:30</td>\n",
       "      <td>0.0</td>\n",
       "      <td>nan</td>\n",
       "    </tr>\n",
       "    <tr>\n",
       "      <th>443517</th>\n",
       "      <td>2021-06-22</td>\n",
       "      <td>23:30</td>\n",
       "      <td>nan</td>\n",
       "      <td>2021-06-22 23:30:00</td>\n",
       "      <td>2021-06-22</td>\n",
       "      <td>23:30</td>\n",
       "      <td>0.35</td>\n",
       "      <td>16.9</td>\n",
       "    </tr>\n",
       "    <tr>\n",
       "      <th>443518</th>\n",
       "      <td>2021-06-22</td>\n",
       "      <td>23:40</td>\n",
       "      <td>nan</td>\n",
       "      <td>2021-06-22 23:40:00</td>\n",
       "      <td>2021-06-22</td>\n",
       "      <td>23:40</td>\n",
       "      <td>0.4</td>\n",
       "      <td>nan</td>\n",
       "    </tr>\n",
       "    <tr>\n",
       "      <th>443519</th>\n",
       "      <td>2021-06-22</td>\n",
       "      <td>23:50</td>\n",
       "      <td>nan</td>\n",
       "      <td>2021-06-22 23:50:00</td>\n",
       "      <td>2021-06-22</td>\n",
       "      <td>23:50</td>\n",
       "      <td>4.2</td>\n",
       "      <td>nan</td>\n",
       "    </tr>\n",
       "  </tbody>\n",
       "</table>\n",
       "</div>"
      ],
      "text/plain": [
       "           date_x hour_x winds           date_hour     date_y hour_y  \\\n",
       "443515 2021-06-22  23:20   nan 2021-06-22 23:20:00 2021-06-22  23:20   \n",
       "443516 2021-06-22  23:30   nan 2021-06-22 23:30:00 2021-06-22  23:30   \n",
       "443517 2021-06-22  23:30   nan 2021-06-22 23:30:00 2021-06-22  23:30   \n",
       "443518 2021-06-22  23:40   nan 2021-06-22 23:40:00 2021-06-22  23:40   \n",
       "443519 2021-06-22  23:50   nan 2021-06-22 23:50:00 2021-06-22  23:50   \n",
       "\n",
       "       rainfall_mm snowfall_mm  \n",
       "443515         0.0         nan  \n",
       "443516         0.0         nan  \n",
       "443517        0.35        16.9  \n",
       "443518         0.4         nan  \n",
       "443519         4.2         nan  "
      ]
     },
     "execution_count": 8,
     "metadata": {},
     "output_type": "execute_result"
    }
   ],
   "source": [
    "merged_weather.sort_values(by='date_hour').tail()"
   ]
  },
  {
   "cell_type": "code",
   "execution_count": 9,
   "id": "ae237e13",
   "metadata": {},
   "outputs": [],
   "source": [
    "merged_weather['hourly_date'] = merged_weather.date_hour.apply(lambda x: x.floor('h'))"
   ]
  },
  {
   "cell_type": "code",
   "execution_count": 10,
   "id": "7426e711",
   "metadata": {},
   "outputs": [],
   "source": [
    "merged_weather = merged_weather.astype({'winds': float,\n",
    "                      'rainfall_mm':float,\n",
    "                      'snowfall_mm':float})\n"
   ]
  },
  {
   "cell_type": "code",
   "execution_count": 12,
   "id": "5e15ba44",
   "metadata": {},
   "outputs": [],
   "source": [
    "hourly_weather = merged_weather.groupby('hourly_date').mean()"
   ]
  },
  {
   "cell_type": "code",
   "execution_count": 13,
   "id": "52159f06",
   "metadata": {},
   "outputs": [
    {
     "name": "stdout",
     "output_type": "stream",
     "text": [
      "<class 'pandas.core.frame.DataFrame'>\n",
      "DatetimeIndex: 44352 entries, 2016-06-01 00:00:00 to 2021-06-22 23:00:00\n",
      "Data columns (total 3 columns):\n",
      " #   Column       Non-Null Count  Dtype  \n",
      "---  ------       --------------  -----  \n",
      " 0   winds        13304 non-null  float64\n",
      " 1   rainfall_mm  43113 non-null  float64\n",
      " 2   snowfall_mm  43114 non-null  float64\n",
      "dtypes: float64(3)\n",
      "memory usage: 1.4 MB\n"
     ]
    }
   ],
   "source": [
    "hourly_weather.info()"
   ]
  },
  {
   "cell_type": "code",
   "execution_count": 14,
   "id": "b861637d",
   "metadata": {},
   "outputs": [],
   "source": [
    "hourly_weather.to_csv('raw_data/hourly_weather.csv')"
   ]
  },
  {
   "cell_type": "code",
   "execution_count": 15,
   "id": "94ce8cfd",
   "metadata": {},
   "outputs": [
    {
     "data": {
      "text/html": [
       "<div>\n",
       "<style scoped>\n",
       "    .dataframe tbody tr th:only-of-type {\n",
       "        vertical-align: middle;\n",
       "    }\n",
       "\n",
       "    .dataframe tbody tr th {\n",
       "        vertical-align: top;\n",
       "    }\n",
       "\n",
       "    .dataframe thead th {\n",
       "        text-align: right;\n",
       "    }\n",
       "</style>\n",
       "<table border=\"1\" class=\"dataframe\">\n",
       "  <thead>\n",
       "    <tr style=\"text-align: right;\">\n",
       "      <th></th>\n",
       "      <th>winds</th>\n",
       "      <th>rainfall_mm</th>\n",
       "      <th>snowfall_mm</th>\n",
       "    </tr>\n",
       "    <tr>\n",
       "      <th>hourly_date</th>\n",
       "      <th></th>\n",
       "      <th></th>\n",
       "      <th></th>\n",
       "    </tr>\n",
       "  </thead>\n",
       "  <tbody>\n",
       "    <tr>\n",
       "      <th>2016-06-01 00:00:00</th>\n",
       "      <td>0.716667</td>\n",
       "      <td>-0.003333</td>\n",
       "      <td>14.200000</td>\n",
       "    </tr>\n",
       "    <tr>\n",
       "      <th>2016-06-01 01:00:00</th>\n",
       "      <td>0.510000</td>\n",
       "      <td>-0.013000</td>\n",
       "      <td>14.166667</td>\n",
       "    </tr>\n",
       "    <tr>\n",
       "      <th>2016-06-01 02:00:00</th>\n",
       "      <td>0.330000</td>\n",
       "      <td>-0.007000</td>\n",
       "      <td>14.300000</td>\n",
       "    </tr>\n",
       "    <tr>\n",
       "      <th>2016-06-01 03:00:00</th>\n",
       "      <td>0.180000</td>\n",
       "      <td>-0.014000</td>\n",
       "      <td>14.266667</td>\n",
       "    </tr>\n",
       "    <tr>\n",
       "      <th>2016-06-01 04:00:00</th>\n",
       "      <td>0.300000</td>\n",
       "      <td>0.008000</td>\n",
       "      <td>14.233333</td>\n",
       "    </tr>\n",
       "  </tbody>\n",
       "</table>\n",
       "</div>"
      ],
      "text/plain": [
       "                        winds  rainfall_mm  snowfall_mm\n",
       "hourly_date                                            \n",
       "2016-06-01 00:00:00  0.716667    -0.003333    14.200000\n",
       "2016-06-01 01:00:00  0.510000    -0.013000    14.166667\n",
       "2016-06-01 02:00:00  0.330000    -0.007000    14.300000\n",
       "2016-06-01 03:00:00  0.180000    -0.014000    14.266667\n",
       "2016-06-01 04:00:00  0.300000     0.008000    14.233333"
      ]
     },
     "execution_count": 15,
     "metadata": {},
     "output_type": "execute_result"
    }
   ],
   "source": [
    "hourly_weather.head()"
   ]
  },
  {
   "cell_type": "code",
   "execution_count": 16,
   "id": "42f73b45",
   "metadata": {},
   "outputs": [
    {
     "data": {
      "text/html": [
       "<div>\n",
       "<style scoped>\n",
       "    .dataframe tbody tr th:only-of-type {\n",
       "        vertical-align: middle;\n",
       "    }\n",
       "\n",
       "    .dataframe tbody tr th {\n",
       "        vertical-align: top;\n",
       "    }\n",
       "\n",
       "    .dataframe thead th {\n",
       "        text-align: right;\n",
       "    }\n",
       "</style>\n",
       "<table border=\"1\" class=\"dataframe\">\n",
       "  <thead>\n",
       "    <tr style=\"text-align: right;\">\n",
       "      <th></th>\n",
       "      <th>winds</th>\n",
       "      <th>rainfall_mm</th>\n",
       "      <th>snowfall_mm</th>\n",
       "    </tr>\n",
       "    <tr>\n",
       "      <th>hourly_date</th>\n",
       "      <th></th>\n",
       "      <th></th>\n",
       "      <th></th>\n",
       "    </tr>\n",
       "  </thead>\n",
       "  <tbody>\n",
       "    <tr>\n",
       "      <th>2021-06-22 19:00:00</th>\n",
       "      <td>NaN</td>\n",
       "      <td>0.051111</td>\n",
       "      <td>16.800000</td>\n",
       "    </tr>\n",
       "    <tr>\n",
       "      <th>2021-06-22 20:00:00</th>\n",
       "      <td>NaN</td>\n",
       "      <td>0.083000</td>\n",
       "      <td>18.400000</td>\n",
       "    </tr>\n",
       "    <tr>\n",
       "      <th>2021-06-22 21:00:00</th>\n",
       "      <td>NaN</td>\n",
       "      <td>0.082000</td>\n",
       "      <td>17.533333</td>\n",
       "    </tr>\n",
       "    <tr>\n",
       "      <th>2021-06-22 22:00:00</th>\n",
       "      <td>NaN</td>\n",
       "      <td>0.081000</td>\n",
       "      <td>16.933333</td>\n",
       "    </tr>\n",
       "    <tr>\n",
       "      <th>2021-06-22 23:00:00</th>\n",
       "      <td>NaN</td>\n",
       "      <td>0.618750</td>\n",
       "      <td>16.833333</td>\n",
       "    </tr>\n",
       "  </tbody>\n",
       "</table>\n",
       "</div>"
      ],
      "text/plain": [
       "                     winds  rainfall_mm  snowfall_mm\n",
       "hourly_date                                         \n",
       "2021-06-22 19:00:00    NaN     0.051111    16.800000\n",
       "2021-06-22 20:00:00    NaN     0.083000    18.400000\n",
       "2021-06-22 21:00:00    NaN     0.082000    17.533333\n",
       "2021-06-22 22:00:00    NaN     0.081000    16.933333\n",
       "2021-06-22 23:00:00    NaN     0.618750    16.833333"
      ]
     },
     "execution_count": 16,
     "metadata": {},
     "output_type": "execute_result"
    }
   ],
   "source": [
    "hourly_weather.tail()"
   ]
  },
  {
   "cell_type": "markdown",
   "id": "9c92275f",
   "metadata": {},
   "source": [
    "# OWM"
   ]
  },
  {
   "cell_type": "code",
   "execution_count": 17,
   "id": "ccb5e0a9",
   "metadata": {},
   "outputs": [],
   "source": [
    "# API KEY\n",
    "load_dotenv(find_dotenv())\n",
    "OWM_API = os.environ.get(\"OWM_API\")"
   ]
  },
  {
   "cell_type": "code",
   "execution_count": 18,
   "id": "77509ae7",
   "metadata": {},
   "outputs": [
    {
     "data": {
      "text/plain": [
       "44084   2021-06-11 20:00:00\n",
       "44085   2021-06-11 21:00:00\n",
       "44086   2021-06-11 22:00:00\n",
       "44087   2021-06-11 23:00:00\n",
       "44088   2021-06-12 00:00:00\n",
       "Name: hour, dtype: datetime64[ns]"
      ]
     },
     "execution_count": 18,
     "metadata": {},
     "output_type": "execute_result"
    }
   ],
   "source": [
    "# init time range\n",
    "range_2019 = pd.DataFrame(pd.date_range('2016-06-01', '2021-06-12', freq='h'), columns=['hour'])\n",
    "range_2019.tail().hour"
   ]
  },
  {
   "cell_type": "code",
   "execution_count": 19,
   "id": "26093d9e",
   "metadata": {},
   "outputs": [],
   "source": [
    "req = 'http://history.openweathermap.org/data/2.5/history/wdl'\n",
    "start = range_2019.hour.min().value\n",
    "inter = range_2019.hour.max().value\n",
    "end = range_2019.hour.max().value\n",
    "# tail1 = tail.min().value\n",
    "# tail2 = tail.max().value\n",
    "params = {\n",
    "    'id':'3165524', # ID of Turin\n",
    "    'type':'hour',\n",
    "    'start':str(start)[:10], # unix time\n",
    "    'end':str(end)[:10],\n",
    "    'appid': OWM_API\n",
    "}\n",
    "\n",
    "r = requests.get(req, params=params)\n",
    "\n",
    "\n",
    "# with open('data/weather.txt', 'w') as outfile:\n",
    "#     json.dump(r.json(), outfile)\n",
    "    \n",
    "weather = r.json()\n",
    "lst = weather.get('list')\n",
    "dct = {x.get('dt'):x.get('weather')[0].get('main') for x in lst}\n",
    "weather_df = pd.DataFrame.from_dict(dct, \n",
    "                                    orient='index', \n",
    "                                    columns=['weather']).reset_index().rename(columns={'index':'time'})\n",
    "weather_df['rain'] = weather_df.weather == 'Rain'"
   ]
  },
  {
   "cell_type": "code",
   "execution_count": 31,
   "id": "9b0e0c23",
   "metadata": {},
   "outputs": [],
   "source": [
    "lst = weather.get('list')\n",
    "dct = {x.get('dt'):x.get('main').get('temp') for x in lst}"
   ]
  },
  {
   "cell_type": "code",
   "execution_count": 32,
   "id": "55929bc2",
   "metadata": {},
   "outputs": [],
   "source": [
    "weather_df = pd.DataFrame.from_dict(dct, \n",
    "                                    orient='index', \n",
    "                                    columns=['temp']).reset_index().rename(columns={'index':'time'})\n",
    "weather_df['temp'] = weather_df.temp-273.15\n",
    "weather_df['time'] = pd.to_datetime(weather_df.time, unit='s')"
   ]
  },
  {
   "cell_type": "code",
   "execution_count": 33,
   "id": "3faf8881",
   "metadata": {},
   "outputs": [
    {
     "name": "stdout",
     "output_type": "stream",
     "text": [
      "<class 'pandas.core.frame.DataFrame'>\n",
      "RangeIndex: 30189 entries, 0 to 30188\n",
      "Data columns (total 2 columns):\n",
      " #   Column  Non-Null Count  Dtype         \n",
      "---  ------  --------------  -----         \n",
      " 0   time    30189 non-null  datetime64[ns]\n",
      " 1   temp    30189 non-null  float64       \n",
      "dtypes: datetime64[ns](1), float64(1)\n",
      "memory usage: 471.8 KB\n"
     ]
    }
   ],
   "source": [
    "weather_df.info()"
   ]
  },
  {
   "cell_type": "code",
   "execution_count": 34,
   "id": "d4373f36",
   "metadata": {},
   "outputs": [],
   "source": [
    "merge_all = weather_df.merge(hourly_weather, left_on='time', right_index=True)"
   ]
  },
  {
   "cell_type": "code",
   "execution_count": 40,
   "id": "874ef285",
   "metadata": {},
   "outputs": [],
   "source": [
    "merge_all.to_csv('raw_data/all_weather.csv')"
   ]
  },
  {
   "cell_type": "code",
   "execution_count": 37,
   "id": "3d1d4db7",
   "metadata": {},
   "outputs": [
    {
     "data": {
      "text/html": [
       "<div>\n",
       "<style scoped>\n",
       "    .dataframe tbody tr th:only-of-type {\n",
       "        vertical-align: middle;\n",
       "    }\n",
       "\n",
       "    .dataframe tbody tr th {\n",
       "        vertical-align: top;\n",
       "    }\n",
       "\n",
       "    .dataframe thead th {\n",
       "        text-align: right;\n",
       "    }\n",
       "</style>\n",
       "<table border=\"1\" class=\"dataframe\">\n",
       "  <thead>\n",
       "    <tr style=\"text-align: right;\">\n",
       "      <th></th>\n",
       "      <th>time</th>\n",
       "      <th>temp</th>\n",
       "      <th>winds</th>\n",
       "      <th>rainfall_mm</th>\n",
       "      <th>snowfall_mm</th>\n",
       "    </tr>\n",
       "  </thead>\n",
       "  <tbody>\n",
       "    <tr>\n",
       "      <th>0</th>\n",
       "      <td>2018-01-01 00:00:00</td>\n",
       "      <td>1.04</td>\n",
       "      <td>0.366667</td>\n",
       "      <td>-0.010</td>\n",
       "      <td>2.600000</td>\n",
       "    </tr>\n",
       "    <tr>\n",
       "      <th>1</th>\n",
       "      <td>2018-01-01 01:00:00</td>\n",
       "      <td>1.09</td>\n",
       "      <td>0.590000</td>\n",
       "      <td>0.009</td>\n",
       "      <td>2.600000</td>\n",
       "    </tr>\n",
       "    <tr>\n",
       "      <th>2</th>\n",
       "      <td>2018-01-01 02:00:00</td>\n",
       "      <td>1.05</td>\n",
       "      <td>0.450000</td>\n",
       "      <td>0.008</td>\n",
       "      <td>2.266667</td>\n",
       "    </tr>\n",
       "    <tr>\n",
       "      <th>3</th>\n",
       "      <td>2018-01-01 03:00:00</td>\n",
       "      <td>0.89</td>\n",
       "      <td>0.400000</td>\n",
       "      <td>0.006</td>\n",
       "      <td>2.266667</td>\n",
       "    </tr>\n",
       "    <tr>\n",
       "      <th>4</th>\n",
       "      <td>2018-01-01 04:00:00</td>\n",
       "      <td>0.73</td>\n",
       "      <td>0.780000</td>\n",
       "      <td>-0.011</td>\n",
       "      <td>2.300000</td>\n",
       "    </tr>\n",
       "    <tr>\n",
       "      <th>...</th>\n",
       "      <td>...</td>\n",
       "      <td>...</td>\n",
       "      <td>...</td>\n",
       "      <td>...</td>\n",
       "      <td>...</td>\n",
       "    </tr>\n",
       "    <tr>\n",
       "      <th>30184</th>\n",
       "      <td>2021-06-11 20:00:00</td>\n",
       "      <td>22.36</td>\n",
       "      <td>NaN</td>\n",
       "      <td>-0.004</td>\n",
       "      <td>26.900000</td>\n",
       "    </tr>\n",
       "    <tr>\n",
       "      <th>30185</th>\n",
       "      <td>2021-06-11 21:00:00</td>\n",
       "      <td>22.02</td>\n",
       "      <td>NaN</td>\n",
       "      <td>0.142</td>\n",
       "      <td>24.266667</td>\n",
       "    </tr>\n",
       "    <tr>\n",
       "      <th>30186</th>\n",
       "      <td>2021-06-11 22:00:00</td>\n",
       "      <td>20.44</td>\n",
       "      <td>NaN</td>\n",
       "      <td>0.325</td>\n",
       "      <td>20.433333</td>\n",
       "    </tr>\n",
       "    <tr>\n",
       "      <th>30187</th>\n",
       "      <td>2021-06-11 23:00:00</td>\n",
       "      <td>20.14</td>\n",
       "      <td>NaN</td>\n",
       "      <td>0.506</td>\n",
       "      <td>19.666667</td>\n",
       "    </tr>\n",
       "    <tr>\n",
       "      <th>30188</th>\n",
       "      <td>2021-06-12 00:00:00</td>\n",
       "      <td>20.12</td>\n",
       "      <td>NaN</td>\n",
       "      <td>0.015</td>\n",
       "      <td>18.500000</td>\n",
       "    </tr>\n",
       "  </tbody>\n",
       "</table>\n",
       "<p>30189 rows × 5 columns</p>\n",
       "</div>"
      ],
      "text/plain": [
       "                     time   temp     winds  rainfall_mm  snowfall_mm\n",
       "0     2018-01-01 00:00:00   1.04  0.366667       -0.010     2.600000\n",
       "1     2018-01-01 01:00:00   1.09  0.590000        0.009     2.600000\n",
       "2     2018-01-01 02:00:00   1.05  0.450000        0.008     2.266667\n",
       "3     2018-01-01 03:00:00   0.89  0.400000        0.006     2.266667\n",
       "4     2018-01-01 04:00:00   0.73  0.780000       -0.011     2.300000\n",
       "...                   ...    ...       ...          ...          ...\n",
       "30184 2021-06-11 20:00:00  22.36       NaN       -0.004    26.900000\n",
       "30185 2021-06-11 21:00:00  22.02       NaN        0.142    24.266667\n",
       "30186 2021-06-11 22:00:00  20.44       NaN        0.325    20.433333\n",
       "30187 2021-06-11 23:00:00  20.14       NaN        0.506    19.666667\n",
       "30188 2021-06-12 00:00:00  20.12       NaN        0.015    18.500000\n",
       "\n",
       "[30189 rows x 5 columns]"
      ]
     },
     "execution_count": 37,
     "metadata": {},
     "output_type": "execute_result"
    }
   ],
   "source": [
    "merge_all"
   ]
  },
  {
   "cell_type": "code",
   "execution_count": 39,
   "id": "c6bc97ac",
   "metadata": {},
   "outputs": [
    {
     "ename": "ValueError",
     "evalue": "Plotly Express cannot process wide-form data with columns of different type.",
     "output_type": "error",
     "traceback": [
      "\u001b[0;31m---------------------------------------------------------------------------\u001b[0m",
      "\u001b[0;31mValueError\u001b[0m                                Traceback (most recent call last)",
      "\u001b[0;32m<ipython-input-39-15298ee068b6>\u001b[0m in \u001b[0;36m<module>\u001b[0;34m\u001b[0m\n\u001b[0;32m----> 1\u001b[0;31m \u001b[0mpx\u001b[0m\u001b[0;34m.\u001b[0m\u001b[0mline\u001b[0m\u001b[0;34m(\u001b[0m\u001b[0mmerge_all\u001b[0m\u001b[0;34m)\u001b[0m\u001b[0;34m\u001b[0m\u001b[0;34m\u001b[0m\u001b[0m\n\u001b[0m",
      "\u001b[0;32m~/.pyenv/versions/3.8.6/envs/lewagon/lib/python3.8/site-packages/plotly/express/_chart_types.py\u001b[0m in \u001b[0;36mline\u001b[0;34m(data_frame, x, y, line_group, color, line_dash, hover_name, hover_data, custom_data, text, facet_row, facet_col, facet_col_wrap, facet_row_spacing, facet_col_spacing, error_x, error_x_minus, error_y, error_y_minus, animation_frame, animation_group, category_orders, labels, orientation, color_discrete_sequence, color_discrete_map, line_dash_sequence, line_dash_map, log_x, log_y, range_x, range_y, line_shape, render_mode, title, template, width, height)\u001b[0m\n\u001b[1;32m    250\u001b[0m     \u001b[0ma\u001b[0m \u001b[0mpolyline\u001b[0m \u001b[0mmark\u001b[0m \u001b[0;32min\u001b[0m \u001b[0;36m2\u001b[0m\u001b[0mD\u001b[0m \u001b[0mspace\u001b[0m\u001b[0;34m.\u001b[0m\u001b[0;34m\u001b[0m\u001b[0;34m\u001b[0m\u001b[0m\n\u001b[1;32m    251\u001b[0m     \"\"\"\n\u001b[0;32m--> 252\u001b[0;31m     \u001b[0;32mreturn\u001b[0m \u001b[0mmake_figure\u001b[0m\u001b[0;34m(\u001b[0m\u001b[0margs\u001b[0m\u001b[0;34m=\u001b[0m\u001b[0mlocals\u001b[0m\u001b[0;34m(\u001b[0m\u001b[0;34m)\u001b[0m\u001b[0;34m,\u001b[0m \u001b[0mconstructor\u001b[0m\u001b[0;34m=\u001b[0m\u001b[0mgo\u001b[0m\u001b[0;34m.\u001b[0m\u001b[0mScatter\u001b[0m\u001b[0;34m)\u001b[0m\u001b[0;34m\u001b[0m\u001b[0;34m\u001b[0m\u001b[0m\n\u001b[0m\u001b[1;32m    253\u001b[0m \u001b[0;34m\u001b[0m\u001b[0m\n\u001b[1;32m    254\u001b[0m \u001b[0;34m\u001b[0m\u001b[0m\n",
      "\u001b[0;32m~/.pyenv/versions/3.8.6/envs/lewagon/lib/python3.8/site-packages/plotly/express/_core.py\u001b[0m in \u001b[0;36mmake_figure\u001b[0;34m(args, constructor, trace_patch, layout_patch)\u001b[0m\n\u001b[1;32m   1859\u001b[0m     \u001b[0mapply_default_cascade\u001b[0m\u001b[0;34m(\u001b[0m\u001b[0margs\u001b[0m\u001b[0;34m)\u001b[0m\u001b[0;34m\u001b[0m\u001b[0;34m\u001b[0m\u001b[0m\n\u001b[1;32m   1860\u001b[0m \u001b[0;34m\u001b[0m\u001b[0m\n\u001b[0;32m-> 1861\u001b[0;31m     \u001b[0margs\u001b[0m \u001b[0;34m=\u001b[0m \u001b[0mbuild_dataframe\u001b[0m\u001b[0;34m(\u001b[0m\u001b[0margs\u001b[0m\u001b[0;34m,\u001b[0m \u001b[0mconstructor\u001b[0m\u001b[0;34m)\u001b[0m\u001b[0;34m\u001b[0m\u001b[0;34m\u001b[0m\u001b[0m\n\u001b[0m\u001b[1;32m   1862\u001b[0m     \u001b[0;32mif\u001b[0m \u001b[0mconstructor\u001b[0m \u001b[0;32min\u001b[0m \u001b[0;34m[\u001b[0m\u001b[0mgo\u001b[0m\u001b[0;34m.\u001b[0m\u001b[0mTreemap\u001b[0m\u001b[0;34m,\u001b[0m \u001b[0mgo\u001b[0m\u001b[0;34m.\u001b[0m\u001b[0mSunburst\u001b[0m\u001b[0;34m]\u001b[0m \u001b[0;32mand\u001b[0m \u001b[0margs\u001b[0m\u001b[0;34m[\u001b[0m\u001b[0;34m\"path\"\u001b[0m\u001b[0;34m]\u001b[0m \u001b[0;32mis\u001b[0m \u001b[0;32mnot\u001b[0m \u001b[0;32mNone\u001b[0m\u001b[0;34m:\u001b[0m\u001b[0;34m\u001b[0m\u001b[0;34m\u001b[0m\u001b[0m\n\u001b[1;32m   1863\u001b[0m         \u001b[0margs\u001b[0m \u001b[0;34m=\u001b[0m \u001b[0mprocess_dataframe_hierarchy\u001b[0m\u001b[0;34m(\u001b[0m\u001b[0margs\u001b[0m\u001b[0;34m)\u001b[0m\u001b[0;34m\u001b[0m\u001b[0;34m\u001b[0m\u001b[0m\n",
      "\u001b[0;32m~/.pyenv/versions/3.8.6/envs/lewagon/lib/python3.8/site-packages/plotly/express/_core.py\u001b[0m in \u001b[0;36mbuild_dataframe\u001b[0;34m(args, constructor)\u001b[0m\n\u001b[1;32m   1422\u001b[0m                 \u001b[0mdtype\u001b[0m \u001b[0;34m=\u001b[0m \u001b[0mv_dtype\u001b[0m\u001b[0;34m\u001b[0m\u001b[0;34m\u001b[0m\u001b[0m\n\u001b[1;32m   1423\u001b[0m             \u001b[0;32melif\u001b[0m \u001b[0mdtype\u001b[0m \u001b[0;34m!=\u001b[0m \u001b[0mv_dtype\u001b[0m\u001b[0;34m:\u001b[0m\u001b[0;34m\u001b[0m\u001b[0;34m\u001b[0m\u001b[0m\n\u001b[0;32m-> 1424\u001b[0;31m                 raise ValueError(\n\u001b[0m\u001b[1;32m   1425\u001b[0m                     \u001b[0;34m\"Plotly Express cannot process wide-form data with columns of different type.\"\u001b[0m\u001b[0;34m\u001b[0m\u001b[0;34m\u001b[0m\u001b[0m\n\u001b[1;32m   1426\u001b[0m                 )\n",
      "\u001b[0;31mValueError\u001b[0m: Plotly Express cannot process wide-form data with columns of different type."
     ]
    }
   ],
   "source": [
    "px.line(merge_all)"
   ]
  },
  {
   "cell_type": "code",
   "execution_count": null,
   "id": "9df4b275",
   "metadata": {},
   "outputs": [],
   "source": []
  }
 ],
 "metadata": {
  "kernelspec": {
   "display_name": "Python 3",
   "language": "python",
   "name": "python3"
  },
  "language_info": {
   "codemirror_mode": {
    "name": "ipython",
    "version": 3
   },
   "file_extension": ".py",
   "mimetype": "text/x-python",
   "name": "python",
   "nbconvert_exporter": "python",
   "pygments_lexer": "ipython3",
   "version": "3.8.6"
  },
  "toc": {
   "base_numbering": 1,
   "nav_menu": {},
   "number_sections": true,
   "sideBar": true,
   "skip_h1_title": false,
   "title_cell": "Table of Contents",
   "title_sidebar": "Contents",
   "toc_cell": false,
   "toc_position": {},
   "toc_section_display": true,
   "toc_window_display": false
  }
 },
 "nbformat": 4,
 "nbformat_minor": 5
}
