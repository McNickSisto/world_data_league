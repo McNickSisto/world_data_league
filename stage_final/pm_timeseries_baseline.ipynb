{
  "nbformat": 4,
  "nbformat_minor": 0,
  "metadata": {
    "colab": {
      "name": "pm_timeseries_baseline.ipynb",
      "provenance": [],
      "collapsed_sections": []
    },
    "kernelspec": {
      "name": "python3",
      "display_name": "Python 3"
    },
    "language_info": {
      "name": "python"
    }
  },
  "cells": [
    {
      "cell_type": "code",
      "metadata": {
        "id": "gMKk0n-eBOOq"
      },
      "source": [
        "import pandas as pd\n",
        "import numpy as np\n"
      ],
      "execution_count": 58,
      "outputs": []
    },
    {
      "cell_type": "code",
      "metadata": {
        "colab": {
          "base_uri": "https://localhost:8080/",
          "height": 377
        },
        "id": "cRGejak-BsGG",
        "outputId": "93f7ae63-203c-47bf-9fed-c7cf6e86e6ea"
      },
      "source": [
        "df_merged = pd.read_csv('https://raw.githubusercontent.com/McNickSisto/world_data_league/main/stage_final/data/Noise_weather_wifi_sim_holidays_opencount_complaints_logvalues.csv')\n",
        "df_merged = df_merged.drop(columns=['Unnamed: 0'])\n",
        "df_merged.sample(4)"
      ],
      "execution_count": null,
      "outputs": [
        {
          "output_type": "execute_result",
          "data": {
            "text/html": [
              "<div>\n",
              "<style scoped>\n",
              "    .dataframe tbody tr th:only-of-type {\n",
              "        vertical-align: middle;\n",
              "    }\n",
              "\n",
              "    .dataframe tbody tr th {\n",
              "        vertical-align: top;\n",
              "    }\n",
              "\n",
              "    .dataframe thead th {\n",
              "        text-align: right;\n",
              "    }\n",
              "</style>\n",
              "<table border=\"1\" class=\"dataframe\">\n",
              "  <thead>\n",
              "    <tr style=\"text-align: right;\">\n",
              "      <th></th>\n",
              "      <th>C1</th>\n",
              "      <th>C2</th>\n",
              "      <th>C3</th>\n",
              "      <th>C4</th>\n",
              "      <th>C5</th>\n",
              "      <th>date_hour</th>\n",
              "      <th>No. of Visitors</th>\n",
              "      <th>index</th>\n",
              "      <th>cluster</th>\n",
              "      <th>data_a</th>\n",
              "      <th>numero_presenze</th>\n",
              "      <th>layer_id</th>\n",
              "      <th>layer_nome</th>\n",
              "      <th>dettaglio(secondi)</th>\n",
              "      <th>temp</th>\n",
              "      <th>winds</th>\n",
              "      <th>rainfall_mm</th>\n",
              "      <th>snowfall_mm</th>\n",
              "      <th>Holiday</th>\n",
              "      <th>isHoliday</th>\n",
              "      <th>date</th>\n",
              "      <th>hour</th>\n",
              "      <th>day</th>\n",
              "      <th>Log_Avg</th>\n",
              "      <th>Complaints_no</th>\n",
              "      <th>count_close</th>\n",
              "      <th>count_open</th>\n",
              "    </tr>\n",
              "  </thead>\n",
              "  <tbody>\n",
              "    <tr>\n",
              "      <th>11067</th>\n",
              "      <td>61.4</td>\n",
              "      <td>61.1</td>\n",
              "      <td>61.5</td>\n",
              "      <td>63.4</td>\n",
              "      <td>66.8</td>\n",
              "      <td>06-07-18 19:00</td>\n",
              "      <td>NaN</td>\n",
              "      <td>746.0</td>\n",
              "      <td>Consumer</td>\n",
              "      <td>2018-06-07T20:00:00Z</td>\n",
              "      <td>3394.0</td>\n",
              "      <td>5491d6d2-0c9e-47b7-bfde-c84c632efacc</td>\n",
              "      <td>Area 1</td>\n",
              "      <td>3600.0</td>\n",
              "      <td>16.65</td>\n",
              "      <td>NaN</td>\n",
              "      <td>1.581</td>\n",
              "      <td>15.933333</td>\n",
              "      <td>NaN</td>\n",
              "      <td>0</td>\n",
              "      <td>2018-07-06</td>\n",
              "      <td>19</td>\n",
              "      <td>4</td>\n",
              "      <td>63.445979</td>\n",
              "      <td>4.0</td>\n",
              "      <td>6.0</td>\n",
              "      <td>108.0</td>\n",
              "    </tr>\n",
              "    <tr>\n",
              "      <th>7224</th>\n",
              "      <td>62.4</td>\n",
              "      <td>60.5</td>\n",
              "      <td>61.9</td>\n",
              "      <td>62.5</td>\n",
              "      <td>63.3</td>\n",
              "      <td>24-03-18 19:00</td>\n",
              "      <td>NaN</td>\n",
              "      <td>193.0</td>\n",
              "      <td>Maschi</td>\n",
              "      <td>2018-03-24T20:00:00Z</td>\n",
              "      <td>2093.0</td>\n",
              "      <td>5491d6d2-0c9e-47b7-bfde-c84c632efacc</td>\n",
              "      <td>Area 1</td>\n",
              "      <td>3600.0</td>\n",
              "      <td>6.22</td>\n",
              "      <td>NaN</td>\n",
              "      <td>-0.002</td>\n",
              "      <td>9.100000</td>\n",
              "      <td>NaN</td>\n",
              "      <td>0</td>\n",
              "      <td>2018-03-24</td>\n",
              "      <td>19</td>\n",
              "      <td>5</td>\n",
              "      <td>62.214078</td>\n",
              "      <td>5.0</td>\n",
              "      <td>NaN</td>\n",
              "      <td>102.0</td>\n",
              "    </tr>\n",
              "    <tr>\n",
              "      <th>15249</th>\n",
              "      <td>67.6</td>\n",
              "      <td>60.9</td>\n",
              "      <td>74.2</td>\n",
              "      <td>63.7</td>\n",
              "      <td>62.9</td>\n",
              "      <td>10-07-18 02:00</td>\n",
              "      <td>NaN</td>\n",
              "      <td>NaN</td>\n",
              "      <td>NaN</td>\n",
              "      <td>NaN</td>\n",
              "      <td>NaN</td>\n",
              "      <td>NaN</td>\n",
              "      <td>NaN</td>\n",
              "      <td>NaN</td>\n",
              "      <td>10.22</td>\n",
              "      <td>NaN</td>\n",
              "      <td>0.035</td>\n",
              "      <td>9.700000</td>\n",
              "      <td>NaN</td>\n",
              "      <td>0</td>\n",
              "      <td>2018-07-10</td>\n",
              "      <td>2</td>\n",
              "      <td>1</td>\n",
              "      <td>68.760032</td>\n",
              "      <td>0.0</td>\n",
              "      <td>6.0</td>\n",
              "      <td>NaN</td>\n",
              "    </tr>\n",
              "    <tr>\n",
              "      <th>2744</th>\n",
              "      <td>60.6</td>\n",
              "      <td>60.8</td>\n",
              "      <td>61.7</td>\n",
              "      <td>61.0</td>\n",
              "      <td>64.2</td>\n",
              "      <td>20-01-18 12:00</td>\n",
              "      <td>NaN</td>\n",
              "      <td>2554.0</td>\n",
              "      <td>Pendolari</td>\n",
              "      <td>2018-01-20T13:00:00Z</td>\n",
              "      <td>236.0</td>\n",
              "      <td>5491d6d2-0c9e-47b7-bfde-c84c632efacc</td>\n",
              "      <td>Area 1</td>\n",
              "      <td>3600.0</td>\n",
              "      <td>9.07</td>\n",
              "      <td>NaN</td>\n",
              "      <td>0.003</td>\n",
              "      <td>9.200000</td>\n",
              "      <td>NaN</td>\n",
              "      <td>0</td>\n",
              "      <td>2018-01-20</td>\n",
              "      <td>12</td>\n",
              "      <td>5</td>\n",
              "      <td>61.885753</td>\n",
              "      <td>0.0</td>\n",
              "      <td>NaN</td>\n",
              "      <td>72.0</td>\n",
              "    </tr>\n",
              "  </tbody>\n",
              "</table>\n",
              "</div>"
            ],
            "text/plain": [
              "         C1    C2    C3  ...  Complaints_no  count_close count_open\n",
              "11067  61.4  61.1  61.5  ...            4.0          6.0      108.0\n",
              "7224   62.4  60.5  61.9  ...            5.0          NaN      102.0\n",
              "15249  67.6  60.9  74.2  ...            0.0          6.0        NaN\n",
              "2744   60.6  60.8  61.7  ...            0.0          NaN       72.0\n",
              "\n",
              "[4 rows x 27 columns]"
            ]
          },
          "metadata": {
            "tags": []
          },
          "execution_count": 6
        }
      ]
    },
    {
      "cell_type": "markdown",
      "metadata": {
        "id": "-ufQNIFaFxQR"
      },
      "source": [
        "For now let us consider log_avg (logarithmic average of C1, C2, C3, C4, C5), temp, rainfall, snowfall, isholiday, complaints_no, count_close, count_open"
      ]
    },
    {
      "cell_type": "code",
      "metadata": {
        "colab": {
          "base_uri": "https://localhost:8080/",
          "height": 803
        },
        "id": "U2vq5iTjFFkW",
        "outputId": "35be8e7e-5cfc-4a17-8e3e-e62d72d5e389"
      },
      "source": [
        "df_reg_1 = df_merged[['date_hour', 'temp', 'winds', 'rainfall_mm', 'snowfall_mm', 'isHoliday', 'date', 'hour', 'day', 'Log_Avg', 'Complaints_no', 'count_close']]\n",
        "df_reg_1 = df_reg_1.fillna(value={'count_close' : 0, 'winds' : 0, 'snowfall_mm':0 , 'rainfall_mm' : 0})\n",
        "df_reg_1['date_hour'] = pd.to_datetime(df_reg_1['date_hour'])\n",
        "df_reg_1 =  df_reg_1.set_index('date_hour')\n",
        "df_reg_1"
      ],
      "execution_count": 79,
      "outputs": [
        {
          "output_type": "execute_result",
          "data": {
            "text/html": [
              "<div>\n",
              "<style scoped>\n",
              "    .dataframe tbody tr th:only-of-type {\n",
              "        vertical-align: middle;\n",
              "    }\n",
              "\n",
              "    .dataframe tbody tr th {\n",
              "        vertical-align: top;\n",
              "    }\n",
              "\n",
              "    .dataframe thead th {\n",
              "        text-align: right;\n",
              "    }\n",
              "</style>\n",
              "<table border=\"1\" class=\"dataframe\">\n",
              "  <thead>\n",
              "    <tr style=\"text-align: right;\">\n",
              "      <th></th>\n",
              "      <th>temp</th>\n",
              "      <th>winds</th>\n",
              "      <th>rainfall_mm</th>\n",
              "      <th>snowfall_mm</th>\n",
              "      <th>isHoliday</th>\n",
              "      <th>date</th>\n",
              "      <th>hour</th>\n",
              "      <th>day</th>\n",
              "      <th>Log_Avg</th>\n",
              "      <th>Complaints_no</th>\n",
              "      <th>count_close</th>\n",
              "    </tr>\n",
              "    <tr>\n",
              "      <th>date_hour</th>\n",
              "      <th></th>\n",
              "      <th></th>\n",
              "      <th></th>\n",
              "      <th></th>\n",
              "      <th></th>\n",
              "      <th></th>\n",
              "      <th></th>\n",
              "      <th></th>\n",
              "      <th></th>\n",
              "      <th></th>\n",
              "      <th></th>\n",
              "    </tr>\n",
              "  </thead>\n",
              "  <tbody>\n",
              "    <tr>\n",
              "      <th>2018-01-01 00:00:00</th>\n",
              "      <td>1.04</td>\n",
              "      <td>0.366667</td>\n",
              "      <td>-0.010</td>\n",
              "      <td>2.600000</td>\n",
              "      <td>1</td>\n",
              "      <td>2018-01-01</td>\n",
              "      <td>0</td>\n",
              "      <td>0</td>\n",
              "      <td>70.253908</td>\n",
              "      <td>0.0</td>\n",
              "      <td>66.0</td>\n",
              "    </tr>\n",
              "    <tr>\n",
              "      <th>2018-01-01 01:00:00</th>\n",
              "      <td>1.09</td>\n",
              "      <td>0.590000</td>\n",
              "      <td>0.009</td>\n",
              "      <td>2.600000</td>\n",
              "      <td>1</td>\n",
              "      <td>2018-01-01</td>\n",
              "      <td>1</td>\n",
              "      <td>0</td>\n",
              "      <td>65.415954</td>\n",
              "      <td>0.0</td>\n",
              "      <td>6.0</td>\n",
              "    </tr>\n",
              "    <tr>\n",
              "      <th>2018-01-01 02:00:00</th>\n",
              "      <td>1.05</td>\n",
              "      <td>0.450000</td>\n",
              "      <td>0.008</td>\n",
              "      <td>2.266667</td>\n",
              "      <td>1</td>\n",
              "      <td>2018-01-01</td>\n",
              "      <td>2</td>\n",
              "      <td>0</td>\n",
              "      <td>61.341179</td>\n",
              "      <td>0.0</td>\n",
              "      <td>12.0</td>\n",
              "    </tr>\n",
              "    <tr>\n",
              "      <th>2018-01-01 03:00:00</th>\n",
              "      <td>0.89</td>\n",
              "      <td>0.400000</td>\n",
              "      <td>0.006</td>\n",
              "      <td>2.266667</td>\n",
              "      <td>1</td>\n",
              "      <td>2018-01-01</td>\n",
              "      <td>3</td>\n",
              "      <td>0</td>\n",
              "      <td>64.066780</td>\n",
              "      <td>0.0</td>\n",
              "      <td>6.0</td>\n",
              "    </tr>\n",
              "    <tr>\n",
              "      <th>2018-01-01 04:00:00</th>\n",
              "      <td>0.73</td>\n",
              "      <td>0.780000</td>\n",
              "      <td>-0.011</td>\n",
              "      <td>2.300000</td>\n",
              "      <td>1</td>\n",
              "      <td>2018-01-01</td>\n",
              "      <td>4</td>\n",
              "      <td>0</td>\n",
              "      <td>63.174985</td>\n",
              "      <td>0.0</td>\n",
              "      <td>0.0</td>\n",
              "    </tr>\n",
              "    <tr>\n",
              "      <th>...</th>\n",
              "      <td>...</td>\n",
              "      <td>...</td>\n",
              "      <td>...</td>\n",
              "      <td>...</td>\n",
              "      <td>...</td>\n",
              "      <td>...</td>\n",
              "      <td>...</td>\n",
              "      <td>...</td>\n",
              "      <td>...</td>\n",
              "      <td>...</td>\n",
              "      <td>...</td>\n",
              "    </tr>\n",
              "    <tr>\n",
              "      <th>2018-12-31 19:00:00</th>\n",
              "      <td>5.27</td>\n",
              "      <td>0.000000</td>\n",
              "      <td>0.002</td>\n",
              "      <td>4.200000</td>\n",
              "      <td>1</td>\n",
              "      <td>2018-12-31</td>\n",
              "      <td>19</td>\n",
              "      <td>0</td>\n",
              "      <td>60.809809</td>\n",
              "      <td>0.0</td>\n",
              "      <td>0.0</td>\n",
              "    </tr>\n",
              "    <tr>\n",
              "      <th>2018-12-31 20:00:00</th>\n",
              "      <td>4.99</td>\n",
              "      <td>0.000000</td>\n",
              "      <td>0.001</td>\n",
              "      <td>3.633333</td>\n",
              "      <td>1</td>\n",
              "      <td>2018-12-31</td>\n",
              "      <td>20</td>\n",
              "      <td>0</td>\n",
              "      <td>60.867939</td>\n",
              "      <td>0.0</td>\n",
              "      <td>0.0</td>\n",
              "    </tr>\n",
              "    <tr>\n",
              "      <th>2018-12-31 21:00:00</th>\n",
              "      <td>4.53</td>\n",
              "      <td>0.000000</td>\n",
              "      <td>0.011</td>\n",
              "      <td>2.600000</td>\n",
              "      <td>1</td>\n",
              "      <td>2018-12-31</td>\n",
              "      <td>21</td>\n",
              "      <td>0</td>\n",
              "      <td>59.746766</td>\n",
              "      <td>0.0</td>\n",
              "      <td>0.0</td>\n",
              "    </tr>\n",
              "    <tr>\n",
              "      <th>2018-12-31 22:00:00</th>\n",
              "      <td>4.06</td>\n",
              "      <td>0.000000</td>\n",
              "      <td>0.011</td>\n",
              "      <td>1.966667</td>\n",
              "      <td>1</td>\n",
              "      <td>2018-12-31</td>\n",
              "      <td>22</td>\n",
              "      <td>0</td>\n",
              "      <td>58.565518</td>\n",
              "      <td>0.0</td>\n",
              "      <td>0.0</td>\n",
              "    </tr>\n",
              "    <tr>\n",
              "      <th>2018-12-31 23:00:00</th>\n",
              "      <td>3.31</td>\n",
              "      <td>0.000000</td>\n",
              "      <td>0.009</td>\n",
              "      <td>1.666667</td>\n",
              "      <td>1</td>\n",
              "      <td>2018-12-31</td>\n",
              "      <td>23</td>\n",
              "      <td>0</td>\n",
              "      <td>65.302450</td>\n",
              "      <td>0.0</td>\n",
              "      <td>0.0</td>\n",
              "    </tr>\n",
              "  </tbody>\n",
              "</table>\n",
              "<p>17311 rows × 11 columns</p>\n",
              "</div>"
            ],
            "text/plain": [
              "                     temp     winds  ...  Complaints_no  count_close\n",
              "date_hour                            ...                            \n",
              "2018-01-01 00:00:00  1.04  0.366667  ...            0.0         66.0\n",
              "2018-01-01 01:00:00  1.09  0.590000  ...            0.0          6.0\n",
              "2018-01-01 02:00:00  1.05  0.450000  ...            0.0         12.0\n",
              "2018-01-01 03:00:00  0.89  0.400000  ...            0.0          6.0\n",
              "2018-01-01 04:00:00  0.73  0.780000  ...            0.0          0.0\n",
              "...                   ...       ...  ...            ...          ...\n",
              "2018-12-31 19:00:00  5.27  0.000000  ...            0.0          0.0\n",
              "2018-12-31 20:00:00  4.99  0.000000  ...            0.0          0.0\n",
              "2018-12-31 21:00:00  4.53  0.000000  ...            0.0          0.0\n",
              "2018-12-31 22:00:00  4.06  0.000000  ...            0.0          0.0\n",
              "2018-12-31 23:00:00  3.31  0.000000  ...            0.0          0.0\n",
              "\n",
              "[17311 rows x 11 columns]"
            ]
          },
          "metadata": {
            "tags": []
          },
          "execution_count": 79
        }
      ]
    },
    {
      "cell_type": "code",
      "metadata": {
        "colab": {
          "base_uri": "https://localhost:8080/"
        },
        "id": "adWpGucwLDfo",
        "outputId": "37ecc327-5c8e-42fa-9e43-cf3430e747ee"
      },
      "source": [
        "df_reg_1.info()"
      ],
      "execution_count": 80,
      "outputs": [
        {
          "output_type": "stream",
          "text": [
            "<class 'pandas.core.frame.DataFrame'>\n",
            "DatetimeIndex: 17311 entries, 2018-01-01 00:00:00 to 2018-12-31 23:00:00\n",
            "Data columns (total 11 columns):\n",
            " #   Column         Non-Null Count  Dtype  \n",
            "---  ------         --------------  -----  \n",
            " 0   temp           17311 non-null  float64\n",
            " 1   winds          17311 non-null  float64\n",
            " 2   rainfall_mm    17311 non-null  float64\n",
            " 3   snowfall_mm    17311 non-null  float64\n",
            " 4   isHoliday      17311 non-null  int64  \n",
            " 5   date           17311 non-null  object \n",
            " 6   hour           17311 non-null  int64  \n",
            " 7   day            17311 non-null  int64  \n",
            " 8   Log_Avg        17311 non-null  float64\n",
            " 9   Complaints_no  17311 non-null  float64\n",
            " 10  count_close    17311 non-null  float64\n",
            "dtypes: float64(7), int64(3), object(1)\n",
            "memory usage: 1.6+ MB\n"
          ],
          "name": "stdout"
        }
      ]
    },
    {
      "cell_type": "code",
      "metadata": {
        "id": "7bIohhk5LGRW"
      },
      "source": [
        "cor = df_reg_1.corr()"
      ],
      "execution_count": 81,
      "outputs": []
    },
    {
      "cell_type": "code",
      "metadata": {
        "colab": {
          "base_uri": "https://localhost:8080/"
        },
        "id": "pHt8NBjmLRjO",
        "outputId": "2c039946-be39-413e-bea6-9529f417279e"
      },
      "source": [
        "cor['Log_Avg'].sort_values()"
      ],
      "execution_count": 82,
      "outputs": [
        {
          "output_type": "execute_result",
          "data": {
            "text/plain": [
              "Complaints_no   -0.010231\n",
              "winds            0.010214\n",
              "isHoliday        0.029025\n",
              "temp             0.077758\n",
              "rainfall_mm      0.085956\n",
              "snowfall_mm      0.092939\n",
              "day              0.144505\n",
              "count_close      0.152374\n",
              "hour             0.353521\n",
              "Log_Avg          1.000000\n",
              "Name: Log_Avg, dtype: float64"
            ]
          },
          "metadata": {
            "tags": []
          },
          "execution_count": 82
        }
      ]
    },
    {
      "cell_type": "code",
      "metadata": {
        "id": "m8kfmcgMLZUS"
      },
      "source": [
        "df_close = df_reg_1.copy()"
      ],
      "execution_count": 83,
      "outputs": []
    },
    {
      "cell_type": "code",
      "metadata": {
        "id": "Npz10kaJPV7i"
      },
      "source": [
        "def create_regressor_attributes(df, attribute, list_of_prev_t_instants) :\n",
        "    \n",
        "    list_of_prev_t_instants.sort()\n",
        "    start = list_of_prev_t_instants[-1] \n",
        "    end = len(df)\n",
        "    df['datetime'] = df.index\n",
        "    df.reset_index(drop=True)\n",
        "\n",
        "    df_copy = df[start:end]\n",
        "    df_copy.reset_index(inplace=True, drop=True)\n",
        "\n",
        "    for attribute in attribute :\n",
        "            foobar = pd.DataFrame()\n",
        "\n",
        "            for prev_t in list_of_prev_t_instants :\n",
        "                new_col = pd.DataFrame(df[attribute].iloc[(start - prev_t) : (end - prev_t)])\n",
        "                new_col.reset_index(drop=True, inplace=True)\n",
        "                new_col.rename(columns={attribute : '{}_(t-{})'.format(attribute, prev_t)}, inplace=True)\n",
        "                foobar = pd.concat([foobar, new_col], sort=False, axis=1)\n",
        "\n",
        "            df_copy = pd.concat([df_copy, foobar], sort=False, axis=1)\n",
        "            \n",
        "    df_copy.set_index(['datetime'], drop=True, inplace=True)\n",
        "    return df_copy"
      ],
      "execution_count": 84,
      "outputs": []
    },
    {
      "cell_type": "code",
      "metadata": {
        "colab": {
          "base_uri": "https://localhost:8080/"
        },
        "id": "1lIwrOKEgo-N",
        "outputId": "0d9ec339-966a-4fea-9314-358ec6044a35"
      },
      "source": [
        "list_of_attributes = ['Log_Avg']\n",
        "\n",
        "list_of_prev_t_instants = []\n",
        "for i in range(24,241,24):\n",
        "    list_of_prev_t_instants.append(i)\n",
        "\n",
        "list_of_prev_t_instants"
      ],
      "execution_count": 85,
      "outputs": [
        {
          "output_type": "execute_result",
          "data": {
            "text/plain": [
              "[24, 48, 72, 96, 120, 144, 168, 192, 216, 240]"
            ]
          },
          "metadata": {
            "tags": []
          },
          "execution_count": 85
        }
      ]
    },
    {
      "cell_type": "code",
      "metadata": {
        "colab": {
          "base_uri": "https://localhost:8080/",
          "height": 438
        },
        "id": "i-rf1Qh3gu5E",
        "outputId": "ef5a0557-94ae-40e8-b165-5f5b05a82d08"
      },
      "source": [
        "df_new = create_regressor_attributes(df_close, list_of_attributes, list_of_prev_t_instants)\n",
        "df_new.head()"
      ],
      "execution_count": 86,
      "outputs": [
        {
          "output_type": "execute_result",
          "data": {
            "text/html": [
              "<div>\n",
              "<style scoped>\n",
              "    .dataframe tbody tr th:only-of-type {\n",
              "        vertical-align: middle;\n",
              "    }\n",
              "\n",
              "    .dataframe tbody tr th {\n",
              "        vertical-align: top;\n",
              "    }\n",
              "\n",
              "    .dataframe thead th {\n",
              "        text-align: right;\n",
              "    }\n",
              "</style>\n",
              "<table border=\"1\" class=\"dataframe\">\n",
              "  <thead>\n",
              "    <tr style=\"text-align: right;\">\n",
              "      <th></th>\n",
              "      <th>temp</th>\n",
              "      <th>winds</th>\n",
              "      <th>rainfall_mm</th>\n",
              "      <th>snowfall_mm</th>\n",
              "      <th>isHoliday</th>\n",
              "      <th>date</th>\n",
              "      <th>hour</th>\n",
              "      <th>day</th>\n",
              "      <th>Log_Avg</th>\n",
              "      <th>Complaints_no</th>\n",
              "      <th>count_close</th>\n",
              "      <th>Log_Avg_(t-24)</th>\n",
              "      <th>Log_Avg_(t-48)</th>\n",
              "      <th>Log_Avg_(t-72)</th>\n",
              "      <th>Log_Avg_(t-96)</th>\n",
              "      <th>Log_Avg_(t-120)</th>\n",
              "      <th>Log_Avg_(t-144)</th>\n",
              "      <th>Log_Avg_(t-168)</th>\n",
              "      <th>Log_Avg_(t-192)</th>\n",
              "      <th>Log_Avg_(t-216)</th>\n",
              "      <th>Log_Avg_(t-240)</th>\n",
              "    </tr>\n",
              "    <tr>\n",
              "      <th>datetime</th>\n",
              "      <th></th>\n",
              "      <th></th>\n",
              "      <th></th>\n",
              "      <th></th>\n",
              "      <th></th>\n",
              "      <th></th>\n",
              "      <th></th>\n",
              "      <th></th>\n",
              "      <th></th>\n",
              "      <th></th>\n",
              "      <th></th>\n",
              "      <th></th>\n",
              "      <th></th>\n",
              "      <th></th>\n",
              "      <th></th>\n",
              "      <th></th>\n",
              "      <th></th>\n",
              "      <th></th>\n",
              "      <th></th>\n",
              "      <th></th>\n",
              "      <th></th>\n",
              "    </tr>\n",
              "  </thead>\n",
              "  <tbody>\n",
              "    <tr>\n",
              "      <th>2018-01-11 00:00:00</th>\n",
              "      <td>3.86</td>\n",
              "      <td>0.516667</td>\n",
              "      <td>0.001667</td>\n",
              "      <td>5.200000</td>\n",
              "      <td>0</td>\n",
              "      <td>2018-11-01</td>\n",
              "      <td>0</td>\n",
              "      <td>3</td>\n",
              "      <td>60.279681</td>\n",
              "      <td>0.0</td>\n",
              "      <td>60.0</td>\n",
              "      <td>58.236836</td>\n",
              "      <td>64.298257</td>\n",
              "      <td>60.211272</td>\n",
              "      <td>67.974778</td>\n",
              "      <td>64.172940</td>\n",
              "      <td>58.537591</td>\n",
              "      <td>63.814062</td>\n",
              "      <td>58.574493</td>\n",
              "      <td>57.415832</td>\n",
              "      <td>70.253908</td>\n",
              "    </tr>\n",
              "    <tr>\n",
              "      <th>2018-01-11 01:00:00</th>\n",
              "      <td>3.04</td>\n",
              "      <td>0.720000</td>\n",
              "      <td>0.003000</td>\n",
              "      <td>4.800000</td>\n",
              "      <td>0</td>\n",
              "      <td>2018-11-01</td>\n",
              "      <td>1</td>\n",
              "      <td>3</td>\n",
              "      <td>57.287148</td>\n",
              "      <td>0.0</td>\n",
              "      <td>12.0</td>\n",
              "      <td>55.954492</td>\n",
              "      <td>63.063281</td>\n",
              "      <td>57.675702</td>\n",
              "      <td>65.855342</td>\n",
              "      <td>61.386123</td>\n",
              "      <td>57.154134</td>\n",
              "      <td>61.589467</td>\n",
              "      <td>55.883840</td>\n",
              "      <td>56.168391</td>\n",
              "      <td>65.415954</td>\n",
              "    </tr>\n",
              "    <tr>\n",
              "      <th>2018-01-11 02:00:00</th>\n",
              "      <td>2.35</td>\n",
              "      <td>0.510000</td>\n",
              "      <td>0.003000</td>\n",
              "      <td>4.333333</td>\n",
              "      <td>0</td>\n",
              "      <td>2018-11-01</td>\n",
              "      <td>2</td>\n",
              "      <td>3</td>\n",
              "      <td>54.402191</td>\n",
              "      <td>0.0</td>\n",
              "      <td>12.0</td>\n",
              "      <td>52.537699</td>\n",
              "      <td>61.356197</td>\n",
              "      <td>52.561776</td>\n",
              "      <td>64.721660</td>\n",
              "      <td>63.441141</td>\n",
              "      <td>55.569064</td>\n",
              "      <td>59.111128</td>\n",
              "      <td>58.324415</td>\n",
              "      <td>51.726999</td>\n",
              "      <td>61.341179</td>\n",
              "    </tr>\n",
              "    <tr>\n",
              "      <th>2018-01-11 03:00:00</th>\n",
              "      <td>1.90</td>\n",
              "      <td>0.710000</td>\n",
              "      <td>0.003000</td>\n",
              "      <td>3.300000</td>\n",
              "      <td>0</td>\n",
              "      <td>2018-11-01</td>\n",
              "      <td>3</td>\n",
              "      <td>3</td>\n",
              "      <td>50.225282</td>\n",
              "      <td>0.0</td>\n",
              "      <td>6.0</td>\n",
              "      <td>50.828932</td>\n",
              "      <td>56.463205</td>\n",
              "      <td>49.400273</td>\n",
              "      <td>64.294505</td>\n",
              "      <td>57.790377</td>\n",
              "      <td>51.776689</td>\n",
              "      <td>56.872489</td>\n",
              "      <td>55.138520</td>\n",
              "      <td>49.474622</td>\n",
              "      <td>64.066780</td>\n",
              "    </tr>\n",
              "    <tr>\n",
              "      <th>2018-01-11 04:00:00</th>\n",
              "      <td>1.56</td>\n",
              "      <td>0.760000</td>\n",
              "      <td>0.004000</td>\n",
              "      <td>3.300000</td>\n",
              "      <td>0</td>\n",
              "      <td>2018-11-01</td>\n",
              "      <td>4</td>\n",
              "      <td>3</td>\n",
              "      <td>50.925569</td>\n",
              "      <td>0.0</td>\n",
              "      <td>6.0</td>\n",
              "      <td>53.379582</td>\n",
              "      <td>51.395407</td>\n",
              "      <td>50.203708</td>\n",
              "      <td>59.802358</td>\n",
              "      <td>54.192359</td>\n",
              "      <td>50.910605</td>\n",
              "      <td>51.827289</td>\n",
              "      <td>52.257847</td>\n",
              "      <td>49.679766</td>\n",
              "      <td>63.174985</td>\n",
              "    </tr>\n",
              "  </tbody>\n",
              "</table>\n",
              "</div>"
            ],
            "text/plain": [
              "                     temp     winds  ...  Log_Avg_(t-216)  Log_Avg_(t-240)\n",
              "datetime                             ...                                  \n",
              "2018-01-11 00:00:00  3.86  0.516667  ...        57.415832        70.253908\n",
              "2018-01-11 01:00:00  3.04  0.720000  ...        56.168391        65.415954\n",
              "2018-01-11 02:00:00  2.35  0.510000  ...        51.726999        61.341179\n",
              "2018-01-11 03:00:00  1.90  0.710000  ...        49.474622        64.066780\n",
              "2018-01-11 04:00:00  1.56  0.760000  ...        49.679766        63.174985\n",
              "\n",
              "[5 rows x 21 columns]"
            ]
          },
          "metadata": {
            "tags": []
          },
          "execution_count": 86
        }
      ]
    },
    {
      "cell_type": "code",
      "metadata": {
        "colab": {
          "base_uri": "https://localhost:8080/"
        },
        "id": "htMhEiWjg4Wf",
        "outputId": "486c29d2-ef21-46ed-d426-f46e89f1026e"
      },
      "source": [
        "df_new.corr()['Log_Avg'].sort_values()"
      ],
      "execution_count": 87,
      "outputs": [
        {
          "output_type": "execute_result",
          "data": {
            "text/plain": [
              "Complaints_no     -0.008610\n",
              "winds              0.007560\n",
              "isHoliday          0.028179\n",
              "temp               0.078393\n",
              "rainfall_mm        0.083725\n",
              "snowfall_mm        0.093392\n",
              "Log_Avg_(t-240)    0.129795\n",
              "Log_Avg_(t-216)    0.141821\n",
              "day                0.145195\n",
              "Log_Avg_(t-96)     0.148695\n",
              "count_close        0.153082\n",
              "Log_Avg_(t-120)    0.155804\n",
              "Log_Avg_(t-72)     0.228798\n",
              "Log_Avg_(t-192)    0.247239\n",
              "Log_Avg_(t-144)    0.270771\n",
              "Log_Avg_(t-168)    0.350497\n",
              "hour               0.353322\n",
              "Log_Avg_(t-48)     0.416001\n",
              "Log_Avg_(t-24)     0.717409\n",
              "Log_Avg            1.000000\n",
              "Name: Log_Avg, dtype: float64"
            ]
          },
          "metadata": {
            "tags": []
          },
          "execution_count": 87
        }
      ]
    },
    {
      "cell_type": "markdown",
      "metadata": {
        "id": "sh7WlHVoiht0"
      },
      "source": [
        "## Modelling "
      ]
    },
    {
      "cell_type": "markdown",
      "metadata": {
        "id": "t5PKvHmVisYr"
      },
      "source": [
        "Probably we should do some more preprocessing. Currently I am sticking to just the modelling"
      ]
    },
    {
      "cell_type": "markdown",
      "metadata": {
        "id": "LocL5ZiCior9"
      },
      "source": [
        "##Splitting the data into train test"
      ]
    },
    {
      "cell_type": "code",
      "metadata": {
        "id": "nQYVhvO6kYZm"
      },
      "source": [
        "df_new_1 = df_new[['Log_Avg', 'Log_Avg_(t-24)',\n",
        "       'Log_Avg_(t-48)', 'Log_Avg_(t-72)', 'Log_Avg_(t-96)', 'Log_Avg_(t-120)',\n",
        "       'Log_Avg_(t-144)', 'Log_Avg_(t-168)', 'Log_Avg_(t-192)','Log_Avg_(t-216)', 'Log_Avg_(t-240)',\n",
        "       'temp', 'winds', 'rainfall_mm', 'snowfall_mm', 'isHoliday', \n",
        "       'hour', 'day',  'Complaints_no', 'count_close']]"
      ],
      "execution_count": 89,
      "outputs": []
    },
    {
      "cell_type": "code",
      "metadata": {
        "colab": {
          "base_uri": "https://localhost:8080/"
        },
        "id": "WDx0bl2uhRBh",
        "outputId": "c7a8a6ce-adc6-4cc7-ae72-139b304345a9"
      },
      "source": [
        "test_set_size = 0.05\n",
        "valid_set_size= 0.05\n",
        "\n",
        "df_copy = df_new_1.reset_index(drop=True)\n",
        "\n",
        "df_test = df_copy.iloc[ int(np.floor(len(df_copy)*(1-test_set_size))) : ]\n",
        "df_train_plus_valid = df_copy.iloc[ : int(np.floor(len(df_copy)*(1-test_set_size))) ]\n",
        "\n",
        "df_train = df_train_plus_valid.iloc[ : int(np.floor(len(df_train_plus_valid)*(1-valid_set_size))) ]\n",
        "df_valid = df_train_plus_valid.iloc[ int(np.floor(len(df_train_plus_valid)*(1-valid_set_size))) : ]\n",
        "\n",
        "\n",
        "X_train, y_train = df_train.iloc[:, 1:], df_train.iloc[:, 0]\n",
        "X_valid, y_valid = df_valid.iloc[:, 1:], df_valid.iloc[:, 0]\n",
        "X_test, y_test = df_test.iloc[:, 1:], df_test.iloc[:, 0]\n",
        "\n",
        "print('Shape of training inputs, training target:', X_train.shape, y_train.shape)\n",
        "print('Shape of validation inputs, validation target:', X_valid.shape, y_valid.shape)\n",
        "print('Shape of test inputs, test target:', X_test.shape, y_test.shape)"
      ],
      "execution_count": 90,
      "outputs": [
        {
          "output_type": "stream",
          "text": [
            "Shape of training inputs, training target: (15406, 19) (15406,)\n",
            "Shape of validation inputs, validation target: (811, 19) (811,)\n",
            "Shape of test inputs, test target: (854, 19) (854,)\n"
          ],
          "name": "stdout"
        }
      ]
    },
    {
      "cell_type": "code",
      "metadata": {
        "id": "DJu6RGjPlFcz"
      },
      "source": [
        "from sklearn.preprocessing import MinMaxScaler\n",
        "\n",
        "Target_scaler = MinMaxScaler(feature_range=(0.01, 0.99))\n",
        "Feature_scaler = MinMaxScaler(feature_range=(0.01, 0.99))\n",
        "\n",
        "X_train_scaled = Feature_scaler.fit_transform(np.array(X_train))\n",
        "X_valid_scaled = Feature_scaler.fit_transform(np.array(X_valid))\n",
        "X_test_scaled = Feature_scaler.fit_transform(np.array(X_test))\n",
        "\n",
        "y_train_scaled = Target_scaler.fit_transform(np.array(y_train).reshape(-1,1))\n",
        "y_valid_scaled = Target_scaler.fit_transform(np.array(y_valid).reshape(-1,1))\n",
        "y_test_scaled = Target_scaler.fit_transform(np.array(y_test).reshape(-1,1))"
      ],
      "execution_count": 91,
      "outputs": []
    },
    {
      "cell_type": "code",
      "metadata": {
        "id": "C8moc-4sjgMk"
      },
      "source": [
        "from sklearn.metrics import r2_score, mean_squared_error"
      ],
      "execution_count": 106,
      "outputs": []
    },
    {
      "cell_type": "markdown",
      "metadata": {
        "id": "ZX_yTHXjik2O"
      },
      "source": [
        "## Linear Regression"
      ]
    },
    {
      "cell_type": "code",
      "metadata": {
        "colab": {
          "base_uri": "https://localhost:8080/"
        },
        "id": "f5fG_b94pKB7",
        "outputId": "a1abe267-c883-4353-f9a6-3e0271cb5b05"
      },
      "source": [
        "from sklearn.linear_model import LinearRegression\n",
        "Lin_reg = LinearRegression()\n",
        "Lin_reg.fit(X_train_scaled, y_train_scaled)\n",
        "y_pred = Lin_reg.predict(X_test_scaled)\n",
        "y_pred_rescaled = Target_scaler.inverse_transform(y_pred)\n",
        "\n",
        "y_test_rescaled =  Target_scaler.inverse_transform(y_test_scaled)\n",
        "score = r2_score(y_test_rescaled, y_pred_rescaled)\n",
        "print('R-squared score for the test set: ', round(score,4))\n"
      ],
      "execution_count": 118,
      "outputs": [
        {
          "output_type": "stream",
          "text": [
            "R-squared score for the test set:  0.5156\n"
          ],
          "name": "stdout"
        }
      ]
    },
    {
      "cell_type": "markdown",
      "metadata": {
        "id": "X589GLkMzh37"
      },
      "source": [
        "##Ridge Regression"
      ]
    },
    {
      "cell_type": "code",
      "metadata": {
        "colab": {
          "base_uri": "https://localhost:8080/"
        },
        "id": "1uPLqVdJzhmn",
        "outputId": "26d0a7a5-2f80-4fd4-f04d-71742c97dca9"
      },
      "source": [
        "from sklearn.linear_model import Ridge\n",
        "ridge = Ridge(alpha=0.5)\n",
        "ridge.fit(X_train_scaled, y_train_scaled)\n",
        "y_pred = ridge.predict(X_test_scaled)\n",
        "y_pred_rescaled = Target_scaler.inverse_transform(y_pred)\n",
        "\n",
        "y_test_rescaled =  Target_scaler.inverse_transform(y_test_scaled)\n",
        "score = r2_score(y_test_rescaled, y_pred_rescaled)\n",
        "print('R-squared score for the test set: ', round(score,4))\n"
      ],
      "execution_count": 119,
      "outputs": [
        {
          "output_type": "stream",
          "text": [
            "R-squared score for the test set:  0.5268\n"
          ],
          "name": "stdout"
        }
      ]
    },
    {
      "cell_type": "markdown",
      "metadata": {
        "id": "btBl3M922IR1"
      },
      "source": [
        "## Lasso Regression"
      ]
    },
    {
      "cell_type": "code",
      "metadata": {
        "colab": {
          "base_uri": "https://localhost:8080/"
        },
        "id": "VY2tIqu82KYV",
        "outputId": "192a2341-2616-4118-996d-54cdb523bcab"
      },
      "source": [
        "from sklearn.linear_model import Lasso\n",
        "Lasso = Lasso(alpha=0.2, fit_intercept=True, normalize=False, precompute=False, max_iter=1000,\n",
        "              tol=0.0001, warm_start=False, positive=False, random_state=None, selection='cyclic')\n",
        "Lasso.fit(X_train_scaled, y_train_scaled)\n",
        "y_pred = Lasso.predict(X_test_scaled)\n",
        "y_pred_rescaled = Target_scaler.inverse_transform(y_pred.reshape(-1,1))\n",
        "\n",
        "y_test_rescaled =  Target_scaler.inverse_transform(y_test_scaled)\n",
        "score = r2_score(y_test_rescaled, y_pred_rescaled)\n",
        "print('R-squared score for the test set: ', round(score,4))\n"
      ],
      "execution_count": 129,
      "outputs": [
        {
          "output_type": "stream",
          "text": [
            "R-squared score for the test set:  -0.0045\n"
          ],
          "name": "stdout"
        }
      ]
    },
    {
      "cell_type": "markdown",
      "metadata": {
        "id": "RVy0qmmEzyMg"
      },
      "source": [
        "##Decision Tree regression"
      ]
    },
    {
      "cell_type": "code",
      "metadata": {
        "colab": {
          "base_uri": "https://localhost:8080/"
        },
        "id": "PhuI_oFc0nef",
        "outputId": "341df86e-a0e8-4230-fa86-ff1ad94faa4b"
      },
      "source": [
        "from sklearn.tree import DecisionTreeRegressor\n",
        "tree_model = DecisionTreeRegressor()\n",
        "tree_model.fit(X_train_scaled, y_train_scaled)\n",
        "y_pred = tree_model.predict(X_test_scaled)\n",
        "y_pred_rescaled = Target_scaler.inverse_transform(y_pred.reshape(-1,1))\n",
        "\n",
        "y_test_rescaled =  Target_scaler.inverse_transform(y_test_scaled)\n",
        "score = r2_score(y_test_rescaled, y_pred_rescaled)\n",
        "print('R-squared score for the test set: ', round(score,4))\n"
      ],
      "execution_count": 128,
      "outputs": [
        {
          "output_type": "stream",
          "text": [
            "R-squared score for the test set:  0.4713\n"
          ],
          "name": "stdout"
        }
      ]
    },
    {
      "cell_type": "markdown",
      "metadata": {
        "id": "pWwgu0AD2ZaM"
      },
      "source": [
        "##Random Forest Regressor"
      ]
    },
    {
      "cell_type": "code",
      "metadata": {
        "colab": {
          "base_uri": "https://localhost:8080/"
        },
        "id": "bJ-1CH2c2b7Q",
        "outputId": "2d1c6d02-2c6e-46f9-e085-7f1ce6335562"
      },
      "source": [
        "from sklearn.ensemble import RandomForestRegressor as rfr\n",
        "Rfr = rfr(n_estimators = 100, criterion = 'mse',\n",
        "                              random_state = 1,\n",
        "                              n_jobs = -1)\n",
        "Rfr.fit(X_train_scaled, y_train_scaled)\n",
        "y_pred = Rfr.predict(X_test_scaled)\n",
        "y_pred_rescaled = Target_scaler.inverse_transform(y_pred.reshape(-1,1))\n",
        "\n",
        "y_test_rescaled =  Target_scaler.inverse_transform(y_test_scaled)\n",
        "score = r2_score(y_test_rescaled, y_pred_rescaled)\n",
        "print('R-squared score for the test set: ', round(score,4))\n"
      ],
      "execution_count": 130,
      "outputs": [
        {
          "output_type": "stream",
          "text": [
            "/usr/local/lib/python3.7/dist-packages/ipykernel_launcher.py:5: DataConversionWarning: A column-vector y was passed when a 1d array was expected. Please change the shape of y to (n_samples,), for example using ravel().\n",
            "  \"\"\"\n"
          ],
          "name": "stderr"
        },
        {
          "output_type": "stream",
          "text": [
            "R-squared score for the test set:  0.6208\n"
          ],
          "name": "stdout"
        }
      ]
    },
    {
      "cell_type": "markdown",
      "metadata": {
        "id": "ZRGXRwrRmWsC"
      },
      "source": [
        "##Polynomial Regression"
      ]
    },
    {
      "cell_type": "code",
      "metadata": {
        "colab": {
          "base_uri": "https://localhost:8080/"
        },
        "id": "Y3iC433BlSw-",
        "outputId": "278b26f2-ca6f-4988-8339-eb1914bad9b4"
      },
      "source": [
        "from sklearn.preprocessing import PolynomialFeatures\n",
        "pol = PolynomialFeatures (degree = 2)\n",
        "x_pol = pol.fit_transform(X_train)\n",
        "Pol_reg = LinearRegression()\n",
        "Pol_reg.fit(X_train_scaled, y_train_scaled)\n",
        "y_pred = Pol_reg.predict(X_test_scaled)\n",
        "y_pred_rescaled = Target_scaler.inverse_transform(y_pred.reshape(-1,1))\n",
        "\n",
        "y_test_rescaled =  Target_scaler.inverse_transform(y_test_scaled)\n",
        "score = r2_score(y_test_rescaled, y_pred_rescaled)\n",
        "print('R-squared score for the test set: ', round(score,4))\n"
      ],
      "execution_count": 133,
      "outputs": [
        {
          "output_type": "stream",
          "text": [
            "R-squared score for the test set:  0.5156\n"
          ],
          "name": "stdout"
        }
      ]
    },
    {
      "cell_type": "markdown",
      "metadata": {
        "id": "LviE2l-137Xv"
      },
      "source": [
        "## Basic Neural Network"
      ]
    },
    {
      "cell_type": "code",
      "metadata": {
        "id": "heWv_ZCL4EEi"
      },
      "source": [
        "from tensorflow import keras\n",
        "from tensorflow.keras import layers"
      ],
      "execution_count": 134,
      "outputs": []
    },
    {
      "cell_type": "code",
      "metadata": {
        "colab": {
          "base_uri": "https://localhost:8080/"
        },
        "id": "PtBudGEj4R6w",
        "outputId": "e449f705-1f7e-4e7b-f772-5547ad00cd10"
      },
      "source": [
        "X_train_scaled.shape"
      ],
      "execution_count": 135,
      "outputs": [
        {
          "output_type": "execute_result",
          "data": {
            "text/plain": [
              "(15406, 19)"
            ]
          },
          "metadata": {
            "tags": []
          },
          "execution_count": 135
        }
      ]
    },
    {
      "cell_type": "code",
      "metadata": {
        "colab": {
          "base_uri": "https://localhost:8080/"
        },
        "id": "0C0JQs5a4I1d",
        "outputId": "fdf25647-3c64-477f-d78b-bee9c9bac26f"
      },
      "source": [
        "model_relu = keras.Sequential([\n",
        "  # the hidden ReLU layers\n",
        "   layers.Dense(64, activation='sigmoid'),\n",
        "    # the linear output layer \n",
        "    layers.Dense(units=1, input_shape=[X_train_scaled.shape[1]])\n",
        "])\n",
        "model_relu.compile(loss= 'mean_squared_error', optimizer='adam')\n",
        "history_relu = model_relu.fit(X_train_scaled, y_train_scaled, epochs=50)"
      ],
      "execution_count": 144,
      "outputs": [
        {
          "output_type": "stream",
          "text": [
            "Epoch 1/50\n",
            "482/482 [==============================] - 1s 1ms/step - loss: 0.0137\n",
            "Epoch 2/50\n",
            "482/482 [==============================] - 1s 1ms/step - loss: 0.0090\n",
            "Epoch 3/50\n",
            "482/482 [==============================] - 1s 1ms/step - loss: 0.0079\n",
            "Epoch 4/50\n",
            "482/482 [==============================] - 1s 1ms/step - loss: 0.0075\n",
            "Epoch 5/50\n",
            "482/482 [==============================] - 1s 1ms/step - loss: 0.0072\n",
            "Epoch 6/50\n",
            "482/482 [==============================] - 1s 1ms/step - loss: 0.0072\n",
            "Epoch 7/50\n",
            "482/482 [==============================] - 1s 1ms/step - loss: 0.0072\n",
            "Epoch 8/50\n",
            "482/482 [==============================] - 1s 1ms/step - loss: 0.0072\n",
            "Epoch 9/50\n",
            "482/482 [==============================] - 1s 1ms/step - loss: 0.0072\n",
            "Epoch 10/50\n",
            "482/482 [==============================] - 1s 1ms/step - loss: 0.0071\n",
            "Epoch 11/50\n",
            "482/482 [==============================] - 1s 1ms/step - loss: 0.0071\n",
            "Epoch 12/50\n",
            "482/482 [==============================] - 1s 1ms/step - loss: 0.0070\n",
            "Epoch 13/50\n",
            "482/482 [==============================] - 1s 1ms/step - loss: 0.0071\n",
            "Epoch 14/50\n",
            "482/482 [==============================] - 1s 1ms/step - loss: 0.0071\n",
            "Epoch 15/50\n",
            "482/482 [==============================] - 1s 1ms/step - loss: 0.0071\n",
            "Epoch 16/50\n",
            "482/482 [==============================] - 1s 1ms/step - loss: 0.0070\n",
            "Epoch 17/50\n",
            "482/482 [==============================] - 1s 1ms/step - loss: 0.0070\n",
            "Epoch 18/50\n",
            "482/482 [==============================] - 1s 1ms/step - loss: 0.0070\n",
            "Epoch 19/50\n",
            "482/482 [==============================] - 1s 1ms/step - loss: 0.0069\n",
            "Epoch 20/50\n",
            "482/482 [==============================] - 1s 1ms/step - loss: 0.0069\n",
            "Epoch 21/50\n",
            "482/482 [==============================] - 1s 1ms/step - loss: 0.0068\n",
            "Epoch 22/50\n",
            "482/482 [==============================] - 1s 1ms/step - loss: 0.0068\n",
            "Epoch 23/50\n",
            "482/482 [==============================] - 1s 1ms/step - loss: 0.0068\n",
            "Epoch 24/50\n",
            "482/482 [==============================] - 1s 1ms/step - loss: 0.0067\n",
            "Epoch 25/50\n",
            "482/482 [==============================] - 1s 1ms/step - loss: 0.0067\n",
            "Epoch 26/50\n",
            "482/482 [==============================] - 1s 1ms/step - loss: 0.0065\n",
            "Epoch 27/50\n",
            "482/482 [==============================] - 1s 1ms/step - loss: 0.0065\n",
            "Epoch 28/50\n",
            "482/482 [==============================] - 1s 1ms/step - loss: 0.0064\n",
            "Epoch 29/50\n",
            "482/482 [==============================] - 1s 1ms/step - loss: 0.0064\n",
            "Epoch 30/50\n",
            "482/482 [==============================] - 1s 1ms/step - loss: 0.0063\n",
            "Epoch 31/50\n",
            "482/482 [==============================] - 1s 1ms/step - loss: 0.0063\n",
            "Epoch 32/50\n",
            "482/482 [==============================] - 1s 1ms/step - loss: 0.0062\n",
            "Epoch 33/50\n",
            "482/482 [==============================] - 1s 1ms/step - loss: 0.0061\n",
            "Epoch 34/50\n",
            "482/482 [==============================] - 1s 1ms/step - loss: 0.0061\n",
            "Epoch 35/50\n",
            "482/482 [==============================] - 1s 1ms/step - loss: 0.0061\n",
            "Epoch 36/50\n",
            "482/482 [==============================] - 1s 1ms/step - loss: 0.0060\n",
            "Epoch 37/50\n",
            "482/482 [==============================] - 1s 1ms/step - loss: 0.0059\n",
            "Epoch 38/50\n",
            "482/482 [==============================] - 1s 1ms/step - loss: 0.0058\n",
            "Epoch 39/50\n",
            "482/482 [==============================] - 1s 1ms/step - loss: 0.0058\n",
            "Epoch 40/50\n",
            "482/482 [==============================] - 1s 1ms/step - loss: 0.0057\n",
            "Epoch 41/50\n",
            "482/482 [==============================] - 1s 1ms/step - loss: 0.0058\n",
            "Epoch 42/50\n",
            "482/482 [==============================] - 1s 1ms/step - loss: 0.0057\n",
            "Epoch 43/50\n",
            "482/482 [==============================] - 1s 1ms/step - loss: 0.0057\n",
            "Epoch 44/50\n",
            "482/482 [==============================] - 1s 1ms/step - loss: 0.0057\n",
            "Epoch 45/50\n",
            "482/482 [==============================] - 1s 1ms/step - loss: 0.0056\n",
            "Epoch 46/50\n",
            "482/482 [==============================] - 1s 1ms/step - loss: 0.0057\n",
            "Epoch 47/50\n",
            "482/482 [==============================] - 1s 1ms/step - loss: 0.0057\n",
            "Epoch 48/50\n",
            "482/482 [==============================] - 1s 1ms/step - loss: 0.0056\n",
            "Epoch 49/50\n",
            "482/482 [==============================] - 1s 1ms/step - loss: 0.0056\n",
            "Epoch 50/50\n",
            "482/482 [==============================] - 1s 1ms/step - loss: 0.0056\n"
          ],
          "name": "stdout"
        }
      ]
    },
    {
      "cell_type": "code",
      "metadata": {
        "colab": {
          "base_uri": "https://localhost:8080/"
        },
        "id": "87BOmSxJ440Q",
        "outputId": "feeaa9cd-3dfd-4ed3-b613-84970f4bdd54"
      },
      "source": [
        "y_pred = model_relu.predict(X_test_scaled)\n",
        "y_pred_rescaled = Target_scaler.inverse_transform(y_pred.reshape(-1,1))\n",
        "\n",
        "y_test_rescaled =  Target_scaler.inverse_transform(y_test_scaled)\n",
        "score = r2_score(y_test_rescaled, y_pred_rescaled)\n",
        "print('R-squared score for the test set: ', round(score,4))"
      ],
      "execution_count": 145,
      "outputs": [
        {
          "output_type": "stream",
          "text": [
            "R-squared score for the test set:  0.5463\n"
          ],
          "name": "stdout"
        }
      ]
    },
    {
      "cell_type": "markdown",
      "metadata": {
        "id": "mlhGPg8tlTJU"
      },
      "source": [
        "## LSTM RNN"
      ]
    },
    {
      "cell_type": "code",
      "metadata": {
        "id": "J0a3qaxJlWSp"
      },
      "source": [
        "from keras.models import Sequential\n",
        "from keras.layers import Dense\n",
        "from keras.layers import LSTM\n",
        "from keras.layers import Dropout"
      ],
      "execution_count": 92,
      "outputs": []
    },
    {
      "cell_type": "code",
      "metadata": {
        "id": "XS6Luo0hlYYr"
      },
      "source": [
        "X_train_lstm = np.reshape(X_train_scaled,(X_train_scaled.shape[0], X_train_scaled.shape[1],1) )\n",
        "y_train_lstm = np.reshape(y_train_scaled, (y_train_scaled.shape[0]))\n",
        "\n",
        "X_valid_lstm = np.reshape(X_valid_scaled,(X_valid_scaled.shape[0], X_valid_scaled.shape[1],1) )\n",
        "y_valid_lstm = np.reshape(y_valid_scaled, (y_valid_scaled.shape[0]))\n",
        "\n",
        "X_test_lstm = np.reshape(X_test_scaled,(X_test_scaled.shape[0], X_test_scaled.shape[1],1) )\n",
        "y_test_lstm = np.reshape(y_test_scaled, (y_test_scaled.shape[0]))\n"
      ],
      "execution_count": 93,
      "outputs": []
    },
    {
      "cell_type": "code",
      "metadata": {
        "id": "5HSWlARTlZx3"
      },
      "source": [
        "model = Sequential()\n",
        "model.add(LSTM(units=50, return_sequences=True, input_shape=(X_train_lstm.shape[1], 1)))\n",
        "\n",
        "model.add(LSTM(units=50, return_sequences=True))\n",
        "model.add(Dropout(0.2))\n",
        "\n",
        "model.add(LSTM(units=50, return_sequences=True))\n",
        "model.add(Dropout(0.2))\n",
        "\n",
        "model.add(LSTM(units=50))\n",
        "model.add(Dropout(0.2))\n",
        "\n",
        "model.add(Dense(units = 1))"
      ],
      "execution_count": 94,
      "outputs": []
    },
    {
      "cell_type": "code",
      "metadata": {
        "id": "97wENMfwlbmC"
      },
      "source": [
        "model.compile(loss='mean_squared_error', optimizer='adam')\n",
        "model.summary()"
      ],
      "execution_count": null,
      "outputs": []
    },
    {
      "cell_type": "code",
      "metadata": {
        "colab": {
          "base_uri": "https://localhost:8080/"
        },
        "id": "DsPi3NlTlgNF",
        "outputId": "dd355dfa-eb1e-4682-f894-b08f1c2cf300"
      },
      "source": [
        "model.fit(x=X_train_lstm, y=y_train_lstm, batch_size=5, epochs=30, verbose=1, validation_data=(X_valid_lstm, y_valid_lstm), shuffle=True)"
      ],
      "execution_count": 96,
      "outputs": [
        {
          "output_type": "stream",
          "text": [
            "Epoch 1/30\n",
            "3082/3082 [==============================] - 106s 32ms/step - loss: 0.0216 - val_loss: 0.0283\n",
            "Epoch 2/30\n",
            "3082/3082 [==============================] - 98s 32ms/step - loss: 0.0152 - val_loss: 0.0190\n",
            "Epoch 3/30\n",
            "3082/3082 [==============================] - 98s 32ms/step - loss: 0.0116 - val_loss: 0.0172\n",
            "Epoch 4/30\n",
            "3082/3082 [==============================] - 97s 32ms/step - loss: 0.0089 - val_loss: 0.0169\n",
            "Epoch 5/30\n",
            "3082/3082 [==============================] - 97s 32ms/step - loss: 0.0080 - val_loss: 0.0159\n",
            "Epoch 6/30\n",
            "3082/3082 [==============================] - 97s 32ms/step - loss: 0.0074 - val_loss: 0.0170\n",
            "Epoch 7/30\n",
            "3082/3082 [==============================] - 97s 31ms/step - loss: 0.0068 - val_loss: 0.0155\n",
            "Epoch 8/30\n",
            "3082/3082 [==============================] - 97s 31ms/step - loss: 0.0062 - val_loss: 0.0135\n",
            "Epoch 9/30\n",
            "3082/3082 [==============================] - 97s 31ms/step - loss: 0.0058 - val_loss: 0.0125\n",
            "Epoch 10/30\n",
            "3082/3082 [==============================] - 96s 31ms/step - loss: 0.0057 - val_loss: 0.0142\n",
            "Epoch 11/30\n",
            "3082/3082 [==============================] - 96s 31ms/step - loss: 0.0050 - val_loss: 0.0135\n",
            "Epoch 12/30\n",
            "3082/3082 [==============================] - 97s 31ms/step - loss: 0.0046 - val_loss: 0.0121\n",
            "Epoch 13/30\n",
            "3082/3082 [==============================] - 97s 31ms/step - loss: 0.0041 - val_loss: 0.0114\n",
            "Epoch 14/30\n",
            "3082/3082 [==============================] - 98s 32ms/step - loss: 0.0039 - val_loss: 0.0093\n",
            "Epoch 15/30\n",
            "3082/3082 [==============================] - 97s 32ms/step - loss: 0.0038 - val_loss: 0.0119\n",
            "Epoch 16/30\n",
            "3082/3082 [==============================] - 96s 31ms/step - loss: 0.0035 - val_loss: 0.0085\n",
            "Epoch 17/30\n",
            "3082/3082 [==============================] - 97s 31ms/step - loss: 0.0030 - val_loss: 0.0097\n",
            "Epoch 18/30\n",
            "3082/3082 [==============================] - 96s 31ms/step - loss: 0.0028 - val_loss: 0.0085\n",
            "Epoch 19/30\n",
            "3082/3082 [==============================] - 96s 31ms/step - loss: 0.0027 - val_loss: 0.0083\n",
            "Epoch 20/30\n",
            "3082/3082 [==============================] - 96s 31ms/step - loss: 0.0026 - val_loss: 0.0085\n",
            "Epoch 21/30\n",
            "3082/3082 [==============================] - 97s 31ms/step - loss: 0.0025 - val_loss: 0.0093\n",
            "Epoch 22/30\n",
            "3082/3082 [==============================] - 96s 31ms/step - loss: 0.0024 - val_loss: 0.0076\n",
            "Epoch 23/30\n",
            "3082/3082 [==============================] - 97s 32ms/step - loss: 0.0023 - val_loss: 0.0086\n",
            "Epoch 24/30\n",
            "3082/3082 [==============================] - 97s 32ms/step - loss: 0.0021 - val_loss: 0.0080\n",
            "Epoch 25/30\n",
            "3082/3082 [==============================] - 97s 31ms/step - loss: 0.0020 - val_loss: 0.0085\n",
            "Epoch 26/30\n",
            "3082/3082 [==============================] - 97s 31ms/step - loss: 0.0020 - val_loss: 0.0077\n",
            "Epoch 27/30\n",
            "3082/3082 [==============================] - 97s 31ms/step - loss: 0.0018 - val_loss: 0.0073\n",
            "Epoch 28/30\n",
            "3082/3082 [==============================] - 97s 32ms/step - loss: 0.0021 - val_loss: 0.0083\n",
            "Epoch 29/30\n",
            "3082/3082 [==============================] - 97s 32ms/step - loss: 0.0018 - val_loss: 0.0083\n",
            "Epoch 30/30\n",
            "3082/3082 [==============================] - 97s 32ms/step - loss: 0.0020 - val_loss: 0.0083\n"
          ],
          "name": "stdout"
        },
        {
          "output_type": "execute_result",
          "data": {
            "text/plain": [
              "<keras.callbacks.History at 0x7fa1185c6410>"
            ]
          },
          "metadata": {
            "tags": []
          },
          "execution_count": 96
        }
      ]
    },
    {
      "cell_type": "code",
      "metadata": {
        "colab": {
          "base_uri": "https://localhost:8080/",
          "height": 310
        },
        "id": "gBoXcrPulix_",
        "outputId": "0f376bd8-2616-465a-fec1-f03a909f88a9"
      },
      "source": [
        "import matplotlib.pyplot as plt\n",
        "loss_per_epoch = model.history.history['loss']\n",
        "val_loss_per_epoch = model.history.history['val_loss']\n",
        "plt.figure(figsize=(12,5))\n",
        "plt.plot(loss_per_epoch);\n",
        "plt.plot(val_loss_per_epoch);\n",
        "plt.title(\"LSTM model loss in MSE\");\n",
        "plt.ylabel(\"loss\");\n",
        "plt.xlabel(\"Epochs\");\n",
        "plt.legend(['train', 'val']);"
      ],
      "execution_count": 97,
      "outputs": [
        {
          "output_type": "display_data",
          "data": {
            "image/png": "[encoded data removed]",
            "text/plain": [
              "<Figure size 864x360 with 1 Axes>"
            ]
          },
          "metadata": {
            "tags": [],
            "needs_background": "light"
          }
        }
      ]
    },
    {
      "cell_type": "code",
      "metadata": {
        "colab": {
          "base_uri": "https://localhost:8080/"
        },
        "id": "69BxaChnlycY",
        "outputId": "ce687fd4-a355-4e4d-d273-47caf9ff1c98"
      },
      "source": [
        "int(np.floor(len(df_copy)*(1-test_set_size)))"
      ],
      "execution_count": 98,
      "outputs": [
        {
          "output_type": "execute_result",
          "data": {
            "text/plain": [
              "16217"
            ]
          },
          "metadata": {
            "tags": []
          },
          "execution_count": 98
        }
      ]
    },
    {
      "cell_type": "code",
      "metadata": {
        "id": "DpV2JGVXlmdO"
      },
      "source": [
        "y_pred = model.predict(X_test_lstm)\n",
        "y_pred_rescaled = Target_scaler.inverse_transform(y_pred)"
      ],
      "execution_count": 99,
      "outputs": []
    },
    {
      "cell_type": "code",
      "metadata": {
        "id": "0jTzLX4ElogR"
      },
      "source": [
        "y_axis = list(df_new.index)[-854:]"
      ],
      "execution_count": 100,
      "outputs": []
    },
    {
      "cell_type": "code",
      "metadata": {
        "colab": {
          "base_uri": "https://localhost:8080/"
        },
        "id": "eMPvEa5wl42c",
        "outputId": "0624f9aa-4889-4081-ca51-9115f5a974e5"
      },
      "source": [
        "from sklearn.metrics import r2_score, mean_squared_error\n",
        "y_test_rescaled =  Target_scaler.inverse_transform(y_test_scaled)\n",
        "score = r2_score(y_test_rescaled, y_pred_rescaled)\n",
        "print('R-squared score for the test set: ', round(score,4))"
      ],
      "execution_count": 102,
      "outputs": [
        {
          "output_type": "stream",
          "text": [
            "R-squared score for the test set:  0.7314\n"
          ],
          "name": "stdout"
        }
      ]
    },
    {
      "cell_type": "code",
      "metadata": {
        "id": "r5SChoUgl64d"
      },
      "source": [
        "y_actual = pd.DataFrame(y_test_rescaled, columns=['Actual'])\n",
        "y_hat = pd.DataFrame(y_pred_rescaled, columns=['Predicted'])\n"
      ],
      "execution_count": 103,
      "outputs": []
    },
    {
      "cell_type": "code",
      "metadata": {
        "colab": {
          "base_uri": "https://localhost:8080/",
          "height": 386
        },
        "id": "_zYQG1Wcl8-R",
        "outputId": "6f32ce16-48db-413f-f721-0fdcb1f748ae"
      },
      "source": [
        "import datetime\n",
        "positions = [0,100,200,300,400,500,600,700,800]\n",
        "selected_labels = []\n",
        "for i in positions:\n",
        "  selected_labels.append(y_axis[i])\n",
        "\n",
        "plt.figure(figsize=(18, 10))\n",
        "plt.plot(y_actual, linestyle='solid', color='r')\n",
        "plt.plot(y_hat, linestyle='dashed', color='b')\n",
        "plt.xticks(positions, selected_labels)\n",
        "plt.legend(['Actual','Predicted'], loc='best', prop={'size': 14})\n",
        "plt.title('SSTA in test', weight='bold', fontsize=16)\n",
        "plt.grid(color = 'y', linewidth='0.5')\n",
        "plt.show()"
      ],
      "execution_count": 105,
      "outputs": [
        {
          "output_type": "display_data",
          "data": {
            "image/png": "[encoded data removed]",
            "text/plain": [
              "<Figure size 1296x720 with 1 Axes>"
            ]
          },
          "metadata": {
            "tags": [],
            "needs_background": "light"
          }
        }
      ]
    },
    {
      "cell_type": "code",
      "metadata": {
        "id": "iqmMXu04y_dF"
      },
      "source": [
        ""
      ],
      "execution_count": null,
      "outputs": []
    }
  ]
}