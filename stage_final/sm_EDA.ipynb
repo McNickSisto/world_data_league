{
 "cells": [
  {
   "cell_type": "code",
   "execution_count": 177,
   "metadata": {
    "id": "C1yAUWr7XXHz"
   },
   "outputs": [],
   "source": [
    "import pandas as pd\n",
    "import numpy as np\n",
    "import matplotlib.pyplot as plt\n",
    "import seaborn as sns"
   ]
  },
  {
   "cell_type": "code",
   "execution_count": 178,
   "metadata": {
    "colab": {
     "base_uri": "https://localhost:8080/"
    },
    "id": "pnBNRQLWiqUh",
    "outputId": "f2631c3c-f714-4ee3-90e3-2cea15ee9845"
   },
   "outputs": [
    {
     "name": "stdout",
     "output_type": "stream",
     "text": [
      "<class 'pandas.core.frame.DataFrame'>\n",
      "RangeIndex: 8760 entries, 0 to 8759\n",
      "Data columns (total 7 columns):\n",
      " #   Column  Non-Null Count  Dtype \n",
      "---  ------  --------------  ----- \n",
      " 0   Data    8760 non-null   object\n",
      " 1   Ora     8760 non-null   object\n",
      " 2   C1      8037 non-null   object\n",
      " 3   C2      7418 non-null   object\n",
      " 4   C3      4351 non-null   object\n",
      " 5   C4      5394 non-null   object\n",
      " 6   C5      8604 non-null   object\n",
      "dtypes: object(7)\n",
      "memory usage: 479.2+ KB\n"
     ]
    }
   ],
   "source": [
    "noise_2018=pd.read_csv('/content/drive/MyDrive/finals/noise_data/san_salvario_2018.csv',skiprows=[0,1,2,3,4,5,6,7],delimiter=';')\n",
    "noise_2018.info()"
   ]
  },
  {
   "cell_type": "code",
   "execution_count": 179,
   "metadata": {
    "colab": {
     "base_uri": "https://localhost:8080/",
     "height": 110
    },
    "id": "SswoKIHSsV73",
    "outputId": "8262fa4b-fb53-414a-8a6d-c217ce3fc385"
   },
   "outputs": [
    {
     "data": {
      "text/html": [
       "<div>\n",
       "<style scoped>\n",
       "    .dataframe tbody tr th:only-of-type {\n",
       "        vertical-align: middle;\n",
       "    }\n",
       "\n",
       "    .dataframe tbody tr th {\n",
       "        vertical-align: top;\n",
       "    }\n",
       "\n",
       "    .dataframe thead th {\n",
       "        text-align: right;\n",
       "    }\n",
       "</style>\n",
       "<table border=\"1\" class=\"dataframe\">\n",
       "  <thead>\n",
       "    <tr style=\"text-align: right;\">\n",
       "      <th></th>\n",
       "      <th>Data</th>\n",
       "      <th>Ora</th>\n",
       "      <th>C1</th>\n",
       "      <th>C2</th>\n",
       "      <th>C3</th>\n",
       "      <th>C4</th>\n",
       "      <th>C5</th>\n",
       "    </tr>\n",
       "  </thead>\n",
       "  <tbody>\n",
       "    <tr>\n",
       "      <th>0</th>\n",
       "      <td>01-01-2018</td>\n",
       "      <td>00:00</td>\n",
       "      <td>68,7</td>\n",
       "      <td>NaN</td>\n",
       "      <td>76,0</td>\n",
       "      <td>NaN</td>\n",
       "      <td>66,6</td>\n",
       "    </tr>\n",
       "    <tr>\n",
       "      <th>1</th>\n",
       "      <td>01-01-2018</td>\n",
       "      <td>01:00</td>\n",
       "      <td>68,3</td>\n",
       "      <td>NaN</td>\n",
       "      <td>68,2</td>\n",
       "      <td>NaN</td>\n",
       "      <td>65,4</td>\n",
       "    </tr>\n",
       "  </tbody>\n",
       "</table>\n",
       "</div>"
      ],
      "text/plain": [
       "         Data    Ora    C1   C2    C3   C4    C5\n",
       "0  01-01-2018  00:00  68,7  NaN  76,0  NaN  66,6\n",
       "1  01-01-2018  01:00  68,3  NaN  68,2  NaN  65,4"
      ]
     },
     "execution_count": 179,
     "metadata": {
      "tags": []
     },
     "output_type": "execute_result"
    }
   ],
   "source": [
    "noise_2018.head(2)"
   ]
  },
  {
   "cell_type": "code",
   "execution_count": 180,
   "metadata": {
    "colab": {
     "base_uri": "https://localhost:8080/",
     "height": 110
    },
    "id": "XdziqHJTyusj",
    "outputId": "735fa6e5-dabc-4899-8776-651e268353c4"
   },
   "outputs": [
    {
     "data": {
      "text/html": [
       "<div>\n",
       "<style scoped>\n",
       "    .dataframe tbody tr th:only-of-type {\n",
       "        vertical-align: middle;\n",
       "    }\n",
       "\n",
       "    .dataframe tbody tr th {\n",
       "        vertical-align: top;\n",
       "    }\n",
       "\n",
       "    .dataframe thead th {\n",
       "        text-align: right;\n",
       "    }\n",
       "</style>\n",
       "<table border=\"1\" class=\"dataframe\">\n",
       "  <thead>\n",
       "    <tr style=\"text-align: right;\">\n",
       "      <th></th>\n",
       "      <th>Data</th>\n",
       "      <th>Ora</th>\n",
       "      <th>C1</th>\n",
       "      <th>C2</th>\n",
       "      <th>C3</th>\n",
       "      <th>C4</th>\n",
       "      <th>C5</th>\n",
       "    </tr>\n",
       "  </thead>\n",
       "  <tbody>\n",
       "    <tr>\n",
       "      <th>0</th>\n",
       "      <td>01-01-2018</td>\n",
       "      <td>00:00</td>\n",
       "      <td>68,7</td>\n",
       "      <td>NaN</td>\n",
       "      <td>76,0</td>\n",
       "      <td>NaN</td>\n",
       "      <td>66,6</td>\n",
       "    </tr>\n",
       "    <tr>\n",
       "      <th>1</th>\n",
       "      <td>01-01-2018</td>\n",
       "      <td>01:00</td>\n",
       "      <td>68,3</td>\n",
       "      <td>NaN</td>\n",
       "      <td>68,2</td>\n",
       "      <td>NaN</td>\n",
       "      <td>65,4</td>\n",
       "    </tr>\n",
       "  </tbody>\n",
       "</table>\n",
       "</div>"
      ],
      "text/plain": [
       "         Data    Ora    C1   C2    C3   C4    C5\n",
       "0  01-01-2018  00:00  68,7  NaN  76,0  NaN  66,6\n",
       "1  01-01-2018  01:00  68,3  NaN  68,2  NaN  65,4"
      ]
     },
     "execution_count": 180,
     "metadata": {
      "tags": []
     },
     "output_type": "execute_result"
    }
   ],
   "source": [
    "noise1=noise_2018.copy()\n",
    "noise1.head(2)"
   ]
  },
  {
   "cell_type": "code",
   "execution_count": 181,
   "metadata": {
    "id": "E0gCDeV1y7-K"
   },
   "outputs": [],
   "source": [
    "noise1['C1']=noise1['C1'].apply(lambda x: str(x).replace(',','.'))\n",
    "noise1['C2']=noise1['C2'].apply(lambda x: str(x).replace(',','.'))\n",
    "noise1['C3']=noise1['C3'].apply(lambda x: str(x).replace(',','.'))\n",
    "noise1['C4']=noise1['C4'].apply(lambda x: str(x).replace(',','.'))\n",
    "noise1['C5']=noise1['C5'].apply(lambda x: str(x).replace(',','.'))"
   ]
  },
  {
   "cell_type": "code",
   "execution_count": 182,
   "metadata": {
    "colab": {
     "base_uri": "https://localhost:8080/",
     "height": 110
    },
    "id": "74NhsjzWXDKE",
    "outputId": "e3f165ce-e754-45d0-a654-152e2531c75e"
   },
   "outputs": [
    {
     "data": {
      "text/html": [
       "<div>\n",
       "<style scoped>\n",
       "    .dataframe tbody tr th:only-of-type {\n",
       "        vertical-align: middle;\n",
       "    }\n",
       "\n",
       "    .dataframe tbody tr th {\n",
       "        vertical-align: top;\n",
       "    }\n",
       "\n",
       "    .dataframe thead th {\n",
       "        text-align: right;\n",
       "    }\n",
       "</style>\n",
       "<table border=\"1\" class=\"dataframe\">\n",
       "  <thead>\n",
       "    <tr style=\"text-align: right;\">\n",
       "      <th></th>\n",
       "      <th>Data</th>\n",
       "      <th>Ora</th>\n",
       "      <th>C1</th>\n",
       "      <th>C2</th>\n",
       "      <th>C3</th>\n",
       "      <th>C4</th>\n",
       "      <th>C5</th>\n",
       "    </tr>\n",
       "  </thead>\n",
       "  <tbody>\n",
       "    <tr>\n",
       "      <th>0</th>\n",
       "      <td>01-01-2018</td>\n",
       "      <td>00:00</td>\n",
       "      <td>68.7</td>\n",
       "      <td>nan</td>\n",
       "      <td>76.0</td>\n",
       "      <td>nan</td>\n",
       "      <td>66.6</td>\n",
       "    </tr>\n",
       "    <tr>\n",
       "      <th>1</th>\n",
       "      <td>01-01-2018</td>\n",
       "      <td>01:00</td>\n",
       "      <td>68.3</td>\n",
       "      <td>nan</td>\n",
       "      <td>68.2</td>\n",
       "      <td>nan</td>\n",
       "      <td>65.4</td>\n",
       "    </tr>\n",
       "  </tbody>\n",
       "</table>\n",
       "</div>"
      ],
      "text/plain": [
       "         Data    Ora    C1   C2    C3   C4    C5\n",
       "0  01-01-2018  00:00  68.7  nan  76.0  nan  66.6\n",
       "1  01-01-2018  01:00  68.3  nan  68.2  nan  65.4"
      ]
     },
     "execution_count": 182,
     "metadata": {
      "tags": []
     },
     "output_type": "execute_result"
    }
   ],
   "source": [
    "noise1.head(2)"
   ]
  },
  {
   "cell_type": "code",
   "execution_count": 183,
   "metadata": {
    "colab": {
     "base_uri": "https://localhost:8080/",
     "height": 110
    },
    "id": "WynyGgbi5icp",
    "outputId": "8face4a0-384f-4e48-99ad-e7f7015e5576"
   },
   "outputs": [
    {
     "data": {
      "text/html": [
       "<div>\n",
       "<style scoped>\n",
       "    .dataframe tbody tr th:only-of-type {\n",
       "        vertical-align: middle;\n",
       "    }\n",
       "\n",
       "    .dataframe tbody tr th {\n",
       "        vertical-align: top;\n",
       "    }\n",
       "\n",
       "    .dataframe thead th {\n",
       "        text-align: right;\n",
       "    }\n",
       "</style>\n",
       "<table border=\"1\" class=\"dataframe\">\n",
       "  <thead>\n",
       "    <tr style=\"text-align: right;\">\n",
       "      <th></th>\n",
       "      <th>Data</th>\n",
       "      <th>Ora</th>\n",
       "      <th>C1</th>\n",
       "      <th>C2</th>\n",
       "      <th>C3</th>\n",
       "      <th>C4</th>\n",
       "      <th>C5</th>\n",
       "    </tr>\n",
       "  </thead>\n",
       "  <tbody>\n",
       "    <tr>\n",
       "      <th>0</th>\n",
       "      <td>2018-01-01</td>\n",
       "      <td>00:00</td>\n",
       "      <td>68.7</td>\n",
       "      <td>nan</td>\n",
       "      <td>76.0</td>\n",
       "      <td>nan</td>\n",
       "      <td>66.6</td>\n",
       "    </tr>\n",
       "    <tr>\n",
       "      <th>1</th>\n",
       "      <td>2018-01-01</td>\n",
       "      <td>01:00</td>\n",
       "      <td>68.3</td>\n",
       "      <td>nan</td>\n",
       "      <td>68.2</td>\n",
       "      <td>nan</td>\n",
       "      <td>65.4</td>\n",
       "    </tr>\n",
       "  </tbody>\n",
       "</table>\n",
       "</div>"
      ],
      "text/plain": [
       "        Data    Ora    C1   C2    C3   C4    C5\n",
       "0 2018-01-01  00:00  68.7  nan  76.0  nan  66.6\n",
       "1 2018-01-01  01:00  68.3  nan  68.2  nan  65.4"
      ]
     },
     "execution_count": 183,
     "metadata": {
      "tags": []
     },
     "output_type": "execute_result"
    }
   ],
   "source": [
    "noise1['Data']=pd.to_datetime(noise1['Data'])\n",
    "noise1.head(2)"
   ]
  },
  {
   "cell_type": "code",
   "execution_count": 184,
   "metadata": {
    "id": "JdDPEk1yXNPN"
   },
   "outputs": [],
   "source": [
    "noise1['C1']=noise1['C1'].apply(lambda x: float(x))\n",
    "noise1['C2']=noise1['C2'].apply(lambda x: float(x))\n",
    "noise1['C3']=noise1['C3'].apply(lambda x: float(x))\n",
    "noise1['C4']=noise1['C4'].apply(lambda x: float(x))\n",
    "noise1['C5']=noise1['C5'].apply(lambda x: float(x))"
   ]
  },
  {
   "cell_type": "code",
   "execution_count": 185,
   "metadata": {
    "colab": {
     "base_uri": "https://localhost:8080/",
     "height": 286
    },
    "id": "3uth6-7JXnNm",
    "outputId": "b280a408-1758-460d-f53d-bef7754d6e4f"
   },
   "outputs": [
    {
     "data": {
      "text/plain": [
       "<matplotlib.axes._subplots.AxesSubplot at 0x7f076a98cd10>"
      ]
     },
     "execution_count": 185,
     "metadata": {
      "tags": []
     },
     "output_type": "execute_result"
    },
    {
     "data": {
      "image/png": "[encoded data removed]",
      "text/plain": [
       "<Figure size 432x288 with 2 Axes>"
      ]
     },
     "metadata": {
      "needs_background": "light",
      "tags": []
     },
     "output_type": "display_data"
    }
   ],
   "source": [
    "correlation_mat = noise1.corr()\n",
    "sns.heatmap(correlation_mat, annot = True)"
   ]
  },
  {
   "cell_type": "code",
   "execution_count": 186,
   "metadata": {
    "colab": {
     "base_uri": "https://localhost:8080/",
     "height": 322
    },
    "id": "I0xA0m5MY7lV",
    "outputId": "8c227d5b-1c02-476c-c7d2-07dc003e8158"
   },
   "outputs": [
    {
     "data": {
      "text/html": [
       "<div>\n",
       "<style scoped>\n",
       "    .dataframe tbody tr th:only-of-type {\n",
       "        vertical-align: middle;\n",
       "    }\n",
       "\n",
       "    .dataframe tbody tr th {\n",
       "        vertical-align: top;\n",
       "    }\n",
       "\n",
       "    .dataframe thead th {\n",
       "        text-align: right;\n",
       "    }\n",
       "</style>\n",
       "<table border=\"1\" class=\"dataframe\">\n",
       "  <thead>\n",
       "    <tr style=\"text-align: right;\">\n",
       "      <th></th>\n",
       "      <th>Unnamed: 0</th>\n",
       "      <th>C1</th>\n",
       "      <th>C2</th>\n",
       "      <th>C3</th>\n",
       "      <th>C4</th>\n",
       "      <th>C5</th>\n",
       "      <th>date_hour</th>\n",
       "      <th>No. of Visitors</th>\n",
       "      <th>index</th>\n",
       "      <th>cluster</th>\n",
       "      <th>data_a</th>\n",
       "      <th>numero_presenze</th>\n",
       "      <th>layer_id</th>\n",
       "      <th>layer_nome</th>\n",
       "      <th>dettaglio(secondi)</th>\n",
       "      <th>winds</th>\n",
       "      <th>rainfall_mm</th>\n",
       "      <th>snowfall_mm</th>\n",
       "    </tr>\n",
       "  </thead>\n",
       "  <tbody>\n",
       "    <tr>\n",
       "      <th>0</th>\n",
       "      <td>0</td>\n",
       "      <td>68,7</td>\n",
       "      <td>NaN</td>\n",
       "      <td>76,0</td>\n",
       "      <td>NaN</td>\n",
       "      <td>66,6</td>\n",
       "      <td>01-01-18 00:00</td>\n",
       "      <td>NaN</td>\n",
       "      <td>NaN</td>\n",
       "      <td>NaN</td>\n",
       "      <td>NaN</td>\n",
       "      <td>NaN</td>\n",
       "      <td>NaN</td>\n",
       "      <td>NaN</td>\n",
       "      <td>NaN</td>\n",
       "      <td>0.366667</td>\n",
       "      <td>-0.010</td>\n",
       "      <td>2.600000</td>\n",
       "    </tr>\n",
       "    <tr>\n",
       "      <th>1</th>\n",
       "      <td>1</td>\n",
       "      <td>68,3</td>\n",
       "      <td>NaN</td>\n",
       "      <td>68,2</td>\n",
       "      <td>NaN</td>\n",
       "      <td>65,4</td>\n",
       "      <td>01-01-18 01:00</td>\n",
       "      <td>NaN</td>\n",
       "      <td>NaN</td>\n",
       "      <td>NaN</td>\n",
       "      <td>NaN</td>\n",
       "      <td>NaN</td>\n",
       "      <td>NaN</td>\n",
       "      <td>NaN</td>\n",
       "      <td>NaN</td>\n",
       "      <td>0.590000</td>\n",
       "      <td>0.009</td>\n",
       "      <td>2.600000</td>\n",
       "    </tr>\n",
       "    <tr>\n",
       "      <th>2</th>\n",
       "      <td>2</td>\n",
       "      <td>59,8</td>\n",
       "      <td>NaN</td>\n",
       "      <td>64,4</td>\n",
       "      <td>NaN</td>\n",
       "      <td>64,4</td>\n",
       "      <td>01-01-18 02:00</td>\n",
       "      <td>NaN</td>\n",
       "      <td>NaN</td>\n",
       "      <td>NaN</td>\n",
       "      <td>NaN</td>\n",
       "      <td>NaN</td>\n",
       "      <td>NaN</td>\n",
       "      <td>NaN</td>\n",
       "      <td>NaN</td>\n",
       "      <td>0.450000</td>\n",
       "      <td>0.008</td>\n",
       "      <td>2.266667</td>\n",
       "    </tr>\n",
       "    <tr>\n",
       "      <th>3</th>\n",
       "      <td>3</td>\n",
       "      <td>67,4</td>\n",
       "      <td>NaN</td>\n",
       "      <td>67,5</td>\n",
       "      <td>NaN</td>\n",
       "      <td>61,8</td>\n",
       "      <td>01-01-18 03:00</td>\n",
       "      <td>NaN</td>\n",
       "      <td>NaN</td>\n",
       "      <td>NaN</td>\n",
       "      <td>NaN</td>\n",
       "      <td>NaN</td>\n",
       "      <td>NaN</td>\n",
       "      <td>NaN</td>\n",
       "      <td>NaN</td>\n",
       "      <td>0.400000</td>\n",
       "      <td>0.006</td>\n",
       "      <td>2.266667</td>\n",
       "    </tr>\n",
       "    <tr>\n",
       "      <th>4</th>\n",
       "      <td>4</td>\n",
       "      <td>68,0</td>\n",
       "      <td>NaN</td>\n",
       "      <td>64,5</td>\n",
       "      <td>NaN</td>\n",
       "      <td>60,5</td>\n",
       "      <td>01-01-18 04:00</td>\n",
       "      <td>NaN</td>\n",
       "      <td>NaN</td>\n",
       "      <td>NaN</td>\n",
       "      <td>NaN</td>\n",
       "      <td>NaN</td>\n",
       "      <td>NaN</td>\n",
       "      <td>NaN</td>\n",
       "      <td>NaN</td>\n",
       "      <td>0.780000</td>\n",
       "      <td>-0.011</td>\n",
       "      <td>2.300000</td>\n",
       "    </tr>\n",
       "  </tbody>\n",
       "</table>\n",
       "</div>"
      ],
      "text/plain": [
       "   Unnamed: 0    C1   C2  ...     winds rainfall_mm snowfall_mm\n",
       "0           0  68,7  NaN  ...  0.366667      -0.010    2.600000\n",
       "1           1  68,3  NaN  ...  0.590000       0.009    2.600000\n",
       "2           2  59,8  NaN  ...  0.450000       0.008    2.266667\n",
       "3           3  67,4  NaN  ...  0.400000       0.006    2.266667\n",
       "4           4  68,0  NaN  ...  0.780000      -0.011    2.300000\n",
       "\n",
       "[5 rows x 18 columns]"
      ]
     },
     "execution_count": 186,
     "metadata": {
      "tags": []
     },
     "output_type": "execute_result"
    }
   ],
   "source": [
    "df=pd.read_csv('/content/drive/MyDrive/finals/Noise_weather_wifi_sim.csv')\n",
    "df.head()"
   ]
  },
  {
   "cell_type": "code",
   "execution_count": 188,
   "metadata": {
    "colab": {
     "base_uri": "https://localhost:8080/",
     "height": 181
    },
    "id": "yHoKqZ8w3LyN",
    "outputId": "072f547b-c500-4efd-ba6d-c552062af513"
   },
   "outputs": [
    {
     "data": {
      "text/html": [
       "<div>\n",
       "<style scoped>\n",
       "    .dataframe tbody tr th:only-of-type {\n",
       "        vertical-align: middle;\n",
       "    }\n",
       "\n",
       "    .dataframe tbody tr th {\n",
       "        vertical-align: top;\n",
       "    }\n",
       "\n",
       "    .dataframe thead th {\n",
       "        text-align: right;\n",
       "    }\n",
       "</style>\n",
       "<table border=\"1\" class=\"dataframe\">\n",
       "  <thead>\n",
       "    <tr style=\"text-align: right;\">\n",
       "      <th></th>\n",
       "      <th>Unnamed: 0</th>\n",
       "      <th>C1</th>\n",
       "      <th>C2</th>\n",
       "      <th>C3</th>\n",
       "      <th>C4</th>\n",
       "      <th>C5</th>\n",
       "      <th>date_hour</th>\n",
       "      <th>No. of Visitors</th>\n",
       "      <th>index</th>\n",
       "      <th>cluster</th>\n",
       "      <th>data_a</th>\n",
       "      <th>numero_presenze</th>\n",
       "      <th>layer_id</th>\n",
       "      <th>layer_nome</th>\n",
       "      <th>dettaglio(secondi)</th>\n",
       "      <th>winds</th>\n",
       "      <th>rainfall_mm</th>\n",
       "      <th>snowfall_mm</th>\n",
       "      <th>date</th>\n",
       "      <th>hour</th>\n",
       "    </tr>\n",
       "  </thead>\n",
       "  <tbody>\n",
       "    <tr>\n",
       "      <th>0</th>\n",
       "      <td>0</td>\n",
       "      <td>68,7</td>\n",
       "      <td>NaN</td>\n",
       "      <td>76,0</td>\n",
       "      <td>NaN</td>\n",
       "      <td>66,6</td>\n",
       "      <td>01-01-18 00:00</td>\n",
       "      <td>NaN</td>\n",
       "      <td>NaN</td>\n",
       "      <td>NaN</td>\n",
       "      <td>NaN</td>\n",
       "      <td>NaN</td>\n",
       "      <td>NaN</td>\n",
       "      <td>NaN</td>\n",
       "      <td>NaN</td>\n",
       "      <td>0.366667</td>\n",
       "      <td>-0.010</td>\n",
       "      <td>2.6</td>\n",
       "      <td>2018-01-01</td>\n",
       "      <td>00:00</td>\n",
       "    </tr>\n",
       "    <tr>\n",
       "      <th>1</th>\n",
       "      <td>1</td>\n",
       "      <td>68,3</td>\n",
       "      <td>NaN</td>\n",
       "      <td>68,2</td>\n",
       "      <td>NaN</td>\n",
       "      <td>65,4</td>\n",
       "      <td>01-01-18 01:00</td>\n",
       "      <td>NaN</td>\n",
       "      <td>NaN</td>\n",
       "      <td>NaN</td>\n",
       "      <td>NaN</td>\n",
       "      <td>NaN</td>\n",
       "      <td>NaN</td>\n",
       "      <td>NaN</td>\n",
       "      <td>NaN</td>\n",
       "      <td>0.590000</td>\n",
       "      <td>0.009</td>\n",
       "      <td>2.6</td>\n",
       "      <td>2018-01-01</td>\n",
       "      <td>01:00</td>\n",
       "    </tr>\n",
       "  </tbody>\n",
       "</table>\n",
       "</div>"
      ],
      "text/plain": [
       "   Unnamed: 0    C1   C2    C3  ... rainfall_mm snowfall_mm       date   hour\n",
       "0           0  68,7  NaN  76,0  ...      -0.010         2.6 2018-01-01  00:00\n",
       "1           1  68,3  NaN  68,2  ...       0.009         2.6 2018-01-01  01:00\n",
       "\n",
       "[2 rows x 20 columns]"
      ]
     },
     "execution_count": 188,
     "metadata": {
      "tags": []
     },
     "output_type": "execute_result"
    }
   ],
   "source": [
    "df['date']=df['date_hour'].apply(lambda x: x[:8])\n",
    "df['hour']=df['date_hour'].apply(lambda x:x[9:])\n",
    "df['date']=pd.to_datetime(df['date'])\n",
    "df.head(2)"
   ]
  },
  {
   "cell_type": "code",
   "execution_count": 189,
   "metadata": {
    "colab": {
     "base_uri": "https://localhost:8080/",
     "height": 161
    },
    "id": "OB_qiI6u360z",
    "outputId": "28403deb-8edb-4b4e-8c88-1ea6420e8e9b"
   },
   "outputs": [
    {
     "data": {
      "text/html": [
       "<div>\n",
       "<style scoped>\n",
       "    .dataframe tbody tr th:only-of-type {\n",
       "        vertical-align: middle;\n",
       "    }\n",
       "\n",
       "    .dataframe tbody tr th {\n",
       "        vertical-align: top;\n",
       "    }\n",
       "\n",
       "    .dataframe thead th {\n",
       "        text-align: right;\n",
       "    }\n",
       "</style>\n",
       "<table border=\"1\" class=\"dataframe\">\n",
       "  <thead>\n",
       "    <tr style=\"text-align: right;\">\n",
       "      <th></th>\n",
       "      <th>date_hour</th>\n",
       "      <th>No. of Visitors</th>\n",
       "      <th>index</th>\n",
       "      <th>cluster</th>\n",
       "      <th>data_a</th>\n",
       "      <th>numero_presenze</th>\n",
       "      <th>layer_id</th>\n",
       "      <th>layer_nome</th>\n",
       "      <th>dettaglio(secondi)</th>\n",
       "      <th>winds</th>\n",
       "      <th>rainfall_mm</th>\n",
       "      <th>snowfall_mm</th>\n",
       "      <th>date</th>\n",
       "      <th>hour</th>\n",
       "    </tr>\n",
       "  </thead>\n",
       "  <tbody>\n",
       "    <tr>\n",
       "      <th>0</th>\n",
       "      <td>01-01-18 00:00</td>\n",
       "      <td>NaN</td>\n",
       "      <td>NaN</td>\n",
       "      <td>NaN</td>\n",
       "      <td>NaN</td>\n",
       "      <td>NaN</td>\n",
       "      <td>NaN</td>\n",
       "      <td>NaN</td>\n",
       "      <td>NaN</td>\n",
       "      <td>0.366667</td>\n",
       "      <td>-0.010</td>\n",
       "      <td>2.6</td>\n",
       "      <td>2018-01-01</td>\n",
       "      <td>00:00</td>\n",
       "    </tr>\n",
       "    <tr>\n",
       "      <th>1</th>\n",
       "      <td>01-01-18 01:00</td>\n",
       "      <td>NaN</td>\n",
       "      <td>NaN</td>\n",
       "      <td>NaN</td>\n",
       "      <td>NaN</td>\n",
       "      <td>NaN</td>\n",
       "      <td>NaN</td>\n",
       "      <td>NaN</td>\n",
       "      <td>NaN</td>\n",
       "      <td>0.590000</td>\n",
       "      <td>0.009</td>\n",
       "      <td>2.6</td>\n",
       "      <td>2018-01-01</td>\n",
       "      <td>01:00</td>\n",
       "    </tr>\n",
       "  </tbody>\n",
       "</table>\n",
       "</div>"
      ],
      "text/plain": [
       "        date_hour  No. of Visitors  index  ... snowfall_mm       date   hour\n",
       "0  01-01-18 00:00              NaN    NaN  ...         2.6 2018-01-01  00:00\n",
       "1  01-01-18 01:00              NaN    NaN  ...         2.6 2018-01-01  01:00\n",
       "\n",
       "[2 rows x 14 columns]"
      ]
     },
     "execution_count": 189,
     "metadata": {
      "tags": []
     },
     "output_type": "execute_result"
    }
   ],
   "source": [
    "df=df.drop(columns=['C1','C2','C3','C4','C5','Unnamed: 0'])\n",
    "df.head(2)"
   ]
  },
  {
   "cell_type": "code",
   "execution_count": 190,
   "metadata": {
    "colab": {
     "base_uri": "https://localhost:8080/",
     "height": 322
    },
    "id": "QfmEsjXn4Ouy",
    "outputId": "16e84f03-d5a3-489b-9636-593ed7e9c504"
   },
   "outputs": [
    {
     "data": {
      "text/html": [
       "<div>\n",
       "<style scoped>\n",
       "    .dataframe tbody tr th:only-of-type {\n",
       "        vertical-align: middle;\n",
       "    }\n",
       "\n",
       "    .dataframe tbody tr th {\n",
       "        vertical-align: top;\n",
       "    }\n",
       "\n",
       "    .dataframe thead th {\n",
       "        text-align: right;\n",
       "    }\n",
       "</style>\n",
       "<table border=\"1\" class=\"dataframe\">\n",
       "  <thead>\n",
       "    <tr style=\"text-align: right;\">\n",
       "      <th></th>\n",
       "      <th>Data</th>\n",
       "      <th>Ora</th>\n",
       "      <th>C1</th>\n",
       "      <th>C2</th>\n",
       "      <th>C3</th>\n",
       "      <th>C4</th>\n",
       "      <th>C5</th>\n",
       "      <th>date_hour</th>\n",
       "      <th>No. of Visitors</th>\n",
       "      <th>index</th>\n",
       "      <th>cluster</th>\n",
       "      <th>data_a</th>\n",
       "      <th>numero_presenze</th>\n",
       "      <th>layer_id</th>\n",
       "      <th>layer_nome</th>\n",
       "      <th>dettaglio(secondi)</th>\n",
       "      <th>winds</th>\n",
       "      <th>rainfall_mm</th>\n",
       "      <th>snowfall_mm</th>\n",
       "      <th>date</th>\n",
       "      <th>hour</th>\n",
       "    </tr>\n",
       "  </thead>\n",
       "  <tbody>\n",
       "    <tr>\n",
       "      <th>0</th>\n",
       "      <td>2018-01-01</td>\n",
       "      <td>00:00</td>\n",
       "      <td>68.7</td>\n",
       "      <td>NaN</td>\n",
       "      <td>76.0</td>\n",
       "      <td>NaN</td>\n",
       "      <td>66.6</td>\n",
       "      <td>01-01-18 00:00</td>\n",
       "      <td>NaN</td>\n",
       "      <td>NaN</td>\n",
       "      <td>NaN</td>\n",
       "      <td>NaN</td>\n",
       "      <td>NaN</td>\n",
       "      <td>NaN</td>\n",
       "      <td>NaN</td>\n",
       "      <td>NaN</td>\n",
       "      <td>0.366667</td>\n",
       "      <td>-0.010</td>\n",
       "      <td>2.600000</td>\n",
       "      <td>2018-01-01</td>\n",
       "      <td>00:00</td>\n",
       "    </tr>\n",
       "    <tr>\n",
       "      <th>1</th>\n",
       "      <td>2018-01-01</td>\n",
       "      <td>01:00</td>\n",
       "      <td>68.3</td>\n",
       "      <td>NaN</td>\n",
       "      <td>68.2</td>\n",
       "      <td>NaN</td>\n",
       "      <td>65.4</td>\n",
       "      <td>01-01-18 01:00</td>\n",
       "      <td>NaN</td>\n",
       "      <td>NaN</td>\n",
       "      <td>NaN</td>\n",
       "      <td>NaN</td>\n",
       "      <td>NaN</td>\n",
       "      <td>NaN</td>\n",
       "      <td>NaN</td>\n",
       "      <td>NaN</td>\n",
       "      <td>0.590000</td>\n",
       "      <td>0.009</td>\n",
       "      <td>2.600000</td>\n",
       "      <td>2018-01-01</td>\n",
       "      <td>01:00</td>\n",
       "    </tr>\n",
       "    <tr>\n",
       "      <th>2</th>\n",
       "      <td>2018-01-01</td>\n",
       "      <td>02:00</td>\n",
       "      <td>59.8</td>\n",
       "      <td>NaN</td>\n",
       "      <td>64.4</td>\n",
       "      <td>NaN</td>\n",
       "      <td>64.4</td>\n",
       "      <td>01-01-18 02:00</td>\n",
       "      <td>NaN</td>\n",
       "      <td>NaN</td>\n",
       "      <td>NaN</td>\n",
       "      <td>NaN</td>\n",
       "      <td>NaN</td>\n",
       "      <td>NaN</td>\n",
       "      <td>NaN</td>\n",
       "      <td>NaN</td>\n",
       "      <td>0.450000</td>\n",
       "      <td>0.008</td>\n",
       "      <td>2.266667</td>\n",
       "      <td>2018-01-01</td>\n",
       "      <td>02:00</td>\n",
       "    </tr>\n",
       "    <tr>\n",
       "      <th>3</th>\n",
       "      <td>2018-01-01</td>\n",
       "      <td>03:00</td>\n",
       "      <td>67.4</td>\n",
       "      <td>NaN</td>\n",
       "      <td>67.5</td>\n",
       "      <td>NaN</td>\n",
       "      <td>61.8</td>\n",
       "      <td>01-01-18 03:00</td>\n",
       "      <td>NaN</td>\n",
       "      <td>NaN</td>\n",
       "      <td>NaN</td>\n",
       "      <td>NaN</td>\n",
       "      <td>NaN</td>\n",
       "      <td>NaN</td>\n",
       "      <td>NaN</td>\n",
       "      <td>NaN</td>\n",
       "      <td>0.400000</td>\n",
       "      <td>0.006</td>\n",
       "      <td>2.266667</td>\n",
       "      <td>2018-01-01</td>\n",
       "      <td>03:00</td>\n",
       "    </tr>\n",
       "    <tr>\n",
       "      <th>4</th>\n",
       "      <td>2018-01-01</td>\n",
       "      <td>04:00</td>\n",
       "      <td>68.0</td>\n",
       "      <td>NaN</td>\n",
       "      <td>64.5</td>\n",
       "      <td>NaN</td>\n",
       "      <td>60.5</td>\n",
       "      <td>01-01-18 04:00</td>\n",
       "      <td>NaN</td>\n",
       "      <td>NaN</td>\n",
       "      <td>NaN</td>\n",
       "      <td>NaN</td>\n",
       "      <td>NaN</td>\n",
       "      <td>NaN</td>\n",
       "      <td>NaN</td>\n",
       "      <td>NaN</td>\n",
       "      <td>0.780000</td>\n",
       "      <td>-0.011</td>\n",
       "      <td>2.300000</td>\n",
       "      <td>2018-01-01</td>\n",
       "      <td>04:00</td>\n",
       "    </tr>\n",
       "  </tbody>\n",
       "</table>\n",
       "</div>"
      ],
      "text/plain": [
       "        Data    Ora    C1  C2  ...  rainfall_mm  snowfall_mm       date   hour\n",
       "0 2018-01-01  00:00  68.7 NaN  ...       -0.010     2.600000 2018-01-01  00:00\n",
       "1 2018-01-01  01:00  68.3 NaN  ...        0.009     2.600000 2018-01-01  01:00\n",
       "2 2018-01-01  02:00  59.8 NaN  ...        0.008     2.266667 2018-01-01  02:00\n",
       "3 2018-01-01  03:00  67.4 NaN  ...        0.006     2.266667 2018-01-01  03:00\n",
       "4 2018-01-01  04:00  68.0 NaN  ...       -0.011     2.300000 2018-01-01  04:00\n",
       "\n",
       "[5 rows x 21 columns]"
      ]
     },
     "execution_count": 190,
     "metadata": {
      "tags": []
     },
     "output_type": "execute_result"
    }
   ],
   "source": [
    "new_df = pd.merge(noise1, df,  how='inner', left_on=['Data','Ora'], right_on = ['date','hour'])\n",
    "new_df.head()"
   ]
  },
  {
   "cell_type": "code",
   "execution_count": 191,
   "metadata": {
    "colab": {
     "base_uri": "https://localhost:8080/"
    },
    "id": "KfpIIDl6cp_K",
    "outputId": "58f8f761-b420-42c4-89a5-4768c56fcf96"
   },
   "outputs": [
    {
     "data": {
      "text/plain": [
       "Index(['Data', 'Ora', 'C1', 'C2', 'C3', 'C4', 'C5', 'date_hour',\n",
       "       'No. of Visitors', 'index', 'cluster', 'data_a', 'numero_presenze',\n",
       "       'layer_id', 'layer_nome', 'dettaglio(secondi)', 'winds', 'rainfall_mm',\n",
       "       'snowfall_mm', 'date', 'hour'],\n",
       "      dtype='object')"
      ]
     },
     "execution_count": 191,
     "metadata": {
      "tags": []
     },
     "output_type": "execute_result"
    }
   ],
   "source": [
    "new_df.columns"
   ]
  },
  {
   "cell_type": "code",
   "execution_count": 192,
   "metadata": {
    "colab": {
     "base_uri": "https://localhost:8080/",
     "height": 322
    },
    "id": "P13nOg-Z7UNL",
    "outputId": "0a148e88-cf54-40df-9daf-58f53b3d1461"
   },
   "outputs": [
    {
     "data": {
      "text/html": [
       "<div>\n",
       "<style scoped>\n",
       "    .dataframe tbody tr th:only-of-type {\n",
       "        vertical-align: middle;\n",
       "    }\n",
       "\n",
       "    .dataframe tbody tr th {\n",
       "        vertical-align: top;\n",
       "    }\n",
       "\n",
       "    .dataframe thead th {\n",
       "        text-align: right;\n",
       "    }\n",
       "</style>\n",
       "<table border=\"1\" class=\"dataframe\">\n",
       "  <thead>\n",
       "    <tr style=\"text-align: right;\">\n",
       "      <th></th>\n",
       "      <th>C1</th>\n",
       "      <th>C2</th>\n",
       "      <th>C3</th>\n",
       "      <th>C4</th>\n",
       "      <th>C5</th>\n",
       "      <th>date_hour</th>\n",
       "      <th>No. of Visitors</th>\n",
       "      <th>index</th>\n",
       "      <th>cluster</th>\n",
       "      <th>data_a</th>\n",
       "      <th>numero_presenze</th>\n",
       "      <th>layer_id</th>\n",
       "      <th>layer_nome</th>\n",
       "      <th>dettaglio(secondi)</th>\n",
       "      <th>winds</th>\n",
       "      <th>rainfall_mm</th>\n",
       "      <th>snowfall_mm</th>\n",
       "      <th>date</th>\n",
       "      <th>hour</th>\n",
       "    </tr>\n",
       "  </thead>\n",
       "  <tbody>\n",
       "    <tr>\n",
       "      <th>0</th>\n",
       "      <td>68.7</td>\n",
       "      <td>NaN</td>\n",
       "      <td>76.0</td>\n",
       "      <td>NaN</td>\n",
       "      <td>66.6</td>\n",
       "      <td>01-01-18 00:00</td>\n",
       "      <td>NaN</td>\n",
       "      <td>NaN</td>\n",
       "      <td>NaN</td>\n",
       "      <td>NaN</td>\n",
       "      <td>NaN</td>\n",
       "      <td>NaN</td>\n",
       "      <td>NaN</td>\n",
       "      <td>NaN</td>\n",
       "      <td>0.366667</td>\n",
       "      <td>-0.010</td>\n",
       "      <td>2.600000</td>\n",
       "      <td>2018-01-01</td>\n",
       "      <td>00:00</td>\n",
       "    </tr>\n",
       "    <tr>\n",
       "      <th>1</th>\n",
       "      <td>68.3</td>\n",
       "      <td>NaN</td>\n",
       "      <td>68.2</td>\n",
       "      <td>NaN</td>\n",
       "      <td>65.4</td>\n",
       "      <td>01-01-18 01:00</td>\n",
       "      <td>NaN</td>\n",
       "      <td>NaN</td>\n",
       "      <td>NaN</td>\n",
       "      <td>NaN</td>\n",
       "      <td>NaN</td>\n",
       "      <td>NaN</td>\n",
       "      <td>NaN</td>\n",
       "      <td>NaN</td>\n",
       "      <td>0.590000</td>\n",
       "      <td>0.009</td>\n",
       "      <td>2.600000</td>\n",
       "      <td>2018-01-01</td>\n",
       "      <td>01:00</td>\n",
       "    </tr>\n",
       "    <tr>\n",
       "      <th>2</th>\n",
       "      <td>59.8</td>\n",
       "      <td>NaN</td>\n",
       "      <td>64.4</td>\n",
       "      <td>NaN</td>\n",
       "      <td>64.4</td>\n",
       "      <td>01-01-18 02:00</td>\n",
       "      <td>NaN</td>\n",
       "      <td>NaN</td>\n",
       "      <td>NaN</td>\n",
       "      <td>NaN</td>\n",
       "      <td>NaN</td>\n",
       "      <td>NaN</td>\n",
       "      <td>NaN</td>\n",
       "      <td>NaN</td>\n",
       "      <td>0.450000</td>\n",
       "      <td>0.008</td>\n",
       "      <td>2.266667</td>\n",
       "      <td>2018-01-01</td>\n",
       "      <td>02:00</td>\n",
       "    </tr>\n",
       "    <tr>\n",
       "      <th>3</th>\n",
       "      <td>67.4</td>\n",
       "      <td>NaN</td>\n",
       "      <td>67.5</td>\n",
       "      <td>NaN</td>\n",
       "      <td>61.8</td>\n",
       "      <td>01-01-18 03:00</td>\n",
       "      <td>NaN</td>\n",
       "      <td>NaN</td>\n",
       "      <td>NaN</td>\n",
       "      <td>NaN</td>\n",
       "      <td>NaN</td>\n",
       "      <td>NaN</td>\n",
       "      <td>NaN</td>\n",
       "      <td>NaN</td>\n",
       "      <td>0.400000</td>\n",
       "      <td>0.006</td>\n",
       "      <td>2.266667</td>\n",
       "      <td>2018-01-01</td>\n",
       "      <td>03:00</td>\n",
       "    </tr>\n",
       "    <tr>\n",
       "      <th>4</th>\n",
       "      <td>68.0</td>\n",
       "      <td>NaN</td>\n",
       "      <td>64.5</td>\n",
       "      <td>NaN</td>\n",
       "      <td>60.5</td>\n",
       "      <td>01-01-18 04:00</td>\n",
       "      <td>NaN</td>\n",
       "      <td>NaN</td>\n",
       "      <td>NaN</td>\n",
       "      <td>NaN</td>\n",
       "      <td>NaN</td>\n",
       "      <td>NaN</td>\n",
       "      <td>NaN</td>\n",
       "      <td>NaN</td>\n",
       "      <td>0.780000</td>\n",
       "      <td>-0.011</td>\n",
       "      <td>2.300000</td>\n",
       "      <td>2018-01-01</td>\n",
       "      <td>04:00</td>\n",
       "    </tr>\n",
       "  </tbody>\n",
       "</table>\n",
       "</div>"
      ],
      "text/plain": [
       "     C1  C2    C3  C4  ...  rainfall_mm snowfall_mm       date   hour\n",
       "0  68.7 NaN  76.0 NaN  ...       -0.010    2.600000 2018-01-01  00:00\n",
       "1  68.3 NaN  68.2 NaN  ...        0.009    2.600000 2018-01-01  01:00\n",
       "2  59.8 NaN  64.4 NaN  ...        0.008    2.266667 2018-01-01  02:00\n",
       "3  67.4 NaN  67.5 NaN  ...        0.006    2.266667 2018-01-01  03:00\n",
       "4  68.0 NaN  64.5 NaN  ...       -0.011    2.300000 2018-01-01  04:00\n",
       "\n",
       "[5 rows x 19 columns]"
      ]
     },
     "execution_count": 192,
     "metadata": {
      "tags": []
     },
     "output_type": "execute_result"
    }
   ],
   "source": [
    "new_df=new_df.drop(columns=['Data','Ora'])\n",
    "new_df.head()"
   ]
  },
  {
   "cell_type": "code",
   "execution_count": null,
   "metadata": {
    "colab": {
     "base_uri": "https://localhost:8080/"
    },
    "id": "0-OnoNf46L6v",
    "outputId": "75827ae3-7c1b-4758-877e-64d4347f8695"
   },
   "outputs": [
    {
     "data": {
      "text/plain": [
       "C1                     1131\n",
       "C2                     3348\n",
       "C3                     9475\n",
       "C4                     6307\n",
       "C5                      207\n",
       "date_hour                 0\n",
       "No. of Visitors       15672\n",
       "index                  8257\n",
       "cluster                8257\n",
       "data_a                 8257\n",
       "numero_presenze        8257\n",
       "layer_id               8257\n",
       "layer_nome             8257\n",
       "dettaglio(secondi)     8257\n",
       "winds                 15050\n",
       "rainfall_mm             213\n",
       "snowfall_mm             211\n",
       "date                      0\n",
       "hour                      0\n",
       "dtype: int64"
      ]
     },
     "execution_count": 172,
     "metadata": {
      "tags": []
     },
     "output_type": "execute_result"
    }
   ],
   "source": [
    "new_df.isnull().sum()"
   ]
  },
  {
   "cell_type": "code",
   "execution_count": 201,
   "metadata": {
    "id": "dyqqF--a8WZl"
   },
   "outputs": [],
   "source": [
    "#logarithmic average of the values.\n",
    "#Divide each value by 10\n",
    "#Apply anti log\n",
    "#Add all the values\n",
    "#Divide by total number of samples\n",
    "#base 10 log the number and multiply it by 10\n",
    "df['C1_new']=new_df['C1'].apply(lambda x: 10**(x/10))\n",
    "df['C2_new']=new_df['C2'].apply(lambda x: 10**(x/10))\n",
    "df['C3_new']=new_df['C3'].apply(lambda x: 10**(x/10))\n",
    "df['C4_new']=new_df['C4'].apply(lambda x: 10**(x/10))\n",
    "df['C5_new']=new_df['C5'].apply(lambda x: 10**(x/10))"
   ]
  },
  {
   "cell_type": "code",
   "execution_count": 202,
   "metadata": {
    "colab": {
     "base_uri": "https://localhost:8080/",
     "height": 322
    },
    "id": "oyt1bAFHFCng",
    "outputId": "97100d19-3282-4a3d-d667-9b94a48e0bfc"
   },
   "outputs": [
    {
     "data": {
      "text/html": [
       "<div>\n",
       "<style scoped>\n",
       "    .dataframe tbody tr th:only-of-type {\n",
       "        vertical-align: middle;\n",
       "    }\n",
       "\n",
       "    .dataframe tbody tr th {\n",
       "        vertical-align: top;\n",
       "    }\n",
       "\n",
       "    .dataframe thead th {\n",
       "        text-align: right;\n",
       "    }\n",
       "</style>\n",
       "<table border=\"1\" class=\"dataframe\">\n",
       "  <thead>\n",
       "    <tr style=\"text-align: right;\">\n",
       "      <th></th>\n",
       "      <th>date_hour</th>\n",
       "      <th>No. of Visitors</th>\n",
       "      <th>index</th>\n",
       "      <th>cluster</th>\n",
       "      <th>data_a</th>\n",
       "      <th>numero_presenze</th>\n",
       "      <th>layer_id</th>\n",
       "      <th>layer_nome</th>\n",
       "      <th>dettaglio(secondi)</th>\n",
       "      <th>winds</th>\n",
       "      <th>rainfall_mm</th>\n",
       "      <th>snowfall_mm</th>\n",
       "      <th>date</th>\n",
       "      <th>hour</th>\n",
       "      <th>C1_new</th>\n",
       "      <th>C2_new</th>\n",
       "      <th>C3_new</th>\n",
       "      <th>C4_new</th>\n",
       "      <th>C5_new</th>\n",
       "    </tr>\n",
       "  </thead>\n",
       "  <tbody>\n",
       "    <tr>\n",
       "      <th>0</th>\n",
       "      <td>01-01-18 00:00</td>\n",
       "      <td>NaN</td>\n",
       "      <td>NaN</td>\n",
       "      <td>NaN</td>\n",
       "      <td>NaN</td>\n",
       "      <td>NaN</td>\n",
       "      <td>NaN</td>\n",
       "      <td>NaN</td>\n",
       "      <td>NaN</td>\n",
       "      <td>0.366667</td>\n",
       "      <td>-0.010</td>\n",
       "      <td>2.600000</td>\n",
       "      <td>2018-01-01</td>\n",
       "      <td>00:00</td>\n",
       "      <td>7.413102e+06</td>\n",
       "      <td>NaN</td>\n",
       "      <td>3.981072e+07</td>\n",
       "      <td>NaN</td>\n",
       "      <td>4.570882e+06</td>\n",
       "    </tr>\n",
       "    <tr>\n",
       "      <th>1</th>\n",
       "      <td>01-01-18 01:00</td>\n",
       "      <td>NaN</td>\n",
       "      <td>NaN</td>\n",
       "      <td>NaN</td>\n",
       "      <td>NaN</td>\n",
       "      <td>NaN</td>\n",
       "      <td>NaN</td>\n",
       "      <td>NaN</td>\n",
       "      <td>NaN</td>\n",
       "      <td>0.590000</td>\n",
       "      <td>0.009</td>\n",
       "      <td>2.600000</td>\n",
       "      <td>2018-01-01</td>\n",
       "      <td>01:00</td>\n",
       "      <td>6.760830e+06</td>\n",
       "      <td>NaN</td>\n",
       "      <td>6.606934e+06</td>\n",
       "      <td>NaN</td>\n",
       "      <td>3.467369e+06</td>\n",
       "    </tr>\n",
       "    <tr>\n",
       "      <th>2</th>\n",
       "      <td>01-01-18 02:00</td>\n",
       "      <td>NaN</td>\n",
       "      <td>NaN</td>\n",
       "      <td>NaN</td>\n",
       "      <td>NaN</td>\n",
       "      <td>NaN</td>\n",
       "      <td>NaN</td>\n",
       "      <td>NaN</td>\n",
       "      <td>NaN</td>\n",
       "      <td>0.450000</td>\n",
       "      <td>0.008</td>\n",
       "      <td>2.266667</td>\n",
       "      <td>2018-01-01</td>\n",
       "      <td>02:00</td>\n",
       "      <td>9.549926e+05</td>\n",
       "      <td>NaN</td>\n",
       "      <td>2.754229e+06</td>\n",
       "      <td>NaN</td>\n",
       "      <td>2.754229e+06</td>\n",
       "    </tr>\n",
       "    <tr>\n",
       "      <th>3</th>\n",
       "      <td>01-01-18 03:00</td>\n",
       "      <td>NaN</td>\n",
       "      <td>NaN</td>\n",
       "      <td>NaN</td>\n",
       "      <td>NaN</td>\n",
       "      <td>NaN</td>\n",
       "      <td>NaN</td>\n",
       "      <td>NaN</td>\n",
       "      <td>NaN</td>\n",
       "      <td>0.400000</td>\n",
       "      <td>0.006</td>\n",
       "      <td>2.266667</td>\n",
       "      <td>2018-01-01</td>\n",
       "      <td>03:00</td>\n",
       "      <td>5.495409e+06</td>\n",
       "      <td>NaN</td>\n",
       "      <td>5.623413e+06</td>\n",
       "      <td>NaN</td>\n",
       "      <td>1.513561e+06</td>\n",
       "    </tr>\n",
       "    <tr>\n",
       "      <th>4</th>\n",
       "      <td>01-01-18 04:00</td>\n",
       "      <td>NaN</td>\n",
       "      <td>NaN</td>\n",
       "      <td>NaN</td>\n",
       "      <td>NaN</td>\n",
       "      <td>NaN</td>\n",
       "      <td>NaN</td>\n",
       "      <td>NaN</td>\n",
       "      <td>NaN</td>\n",
       "      <td>0.780000</td>\n",
       "      <td>-0.011</td>\n",
       "      <td>2.300000</td>\n",
       "      <td>2018-01-01</td>\n",
       "      <td>04:00</td>\n",
       "      <td>6.309573e+06</td>\n",
       "      <td>NaN</td>\n",
       "      <td>2.818383e+06</td>\n",
       "      <td>NaN</td>\n",
       "      <td>1.122018e+06</td>\n",
       "    </tr>\n",
       "  </tbody>\n",
       "</table>\n",
       "</div>"
      ],
      "text/plain": [
       "        date_hour  No. of Visitors  index  ...        C3_new C4_new        C5_new\n",
       "0  01-01-18 00:00              NaN    NaN  ...  3.981072e+07    NaN  4.570882e+06\n",
       "1  01-01-18 01:00              NaN    NaN  ...  6.606934e+06    NaN  3.467369e+06\n",
       "2  01-01-18 02:00              NaN    NaN  ...  2.754229e+06    NaN  2.754229e+06\n",
       "3  01-01-18 03:00              NaN    NaN  ...  5.623413e+06    NaN  1.513561e+06\n",
       "4  01-01-18 04:00              NaN    NaN  ...  2.818383e+06    NaN  1.122018e+06\n",
       "\n",
       "[5 rows x 19 columns]"
      ]
     },
     "execution_count": 202,
     "metadata": {
      "tags": []
     },
     "output_type": "execute_result"
    }
   ],
   "source": [
    "df.head()"
   ]
  },
  {
   "cell_type": "code",
   "execution_count": 203,
   "metadata": {
    "id": "TuQ5TBNa-T7r"
   },
   "outputs": [],
   "source": [
    "x1=df['C1_new'].mean()\n",
    "x2=df['C2_new'].mean()\n",
    "x3=df['C3_new'].mean()\n",
    "x4=df['C4_new'].mean()\n",
    "x5=df['C5_new'].mean()"
   ]
  },
  {
   "cell_type": "code",
   "execution_count": 204,
   "metadata": {
    "id": "m6tYurb1DljX"
   },
   "outputs": [],
   "source": [
    "import math\n",
    "c1_log_mean=10*math.log10(x1)\n",
    "c2_log_mean=10*math.log10(x2)\n",
    "c3_log_mean=10*math.log10(x3)\n",
    "c4_log_mean=10*math.log10(x4)\n",
    "c5_log_mean=10*math.log10(x5)"
   ]
  },
  {
   "cell_type": "code",
   "execution_count": 207,
   "metadata": {
    "colab": {
     "base_uri": "https://localhost:8080/"
    },
    "id": "PeTiM1VuFlyx",
    "outputId": "3fc79a3e-d591-4498-cb9e-4b8e042283bc"
   },
   "outputs": [
    {
     "name": "stdout",
     "output_type": "stream",
     "text": [
      "62.6\n",
      "60.2\n",
      "67.8\n",
      "62.3\n",
      "63.2\n"
     ]
    }
   ],
   "source": [
    "print(round(c1_log_mean,1))\n",
    "print(round(c2_log_mean,1))\n",
    "print(round(c3_log_mean,1))\n",
    "print(round(c4_log_mean,1))\n",
    "print(round(c5_log_mean,1))"
   ]
  },
  {
   "cell_type": "code",
   "execution_count": 213,
   "metadata": {
    "id": "bP-hqtK0GMW7"
   },
   "outputs": [],
   "source": [
    "new_df['C1'].fillna(round(c1_log_mean,1),inplace=True)\n",
    "new_df['C2'].fillna(round(c2_log_mean,1),inplace=True)\n",
    "new_df['C3'].fillna(round(c3_log_mean,1),inplace=True)\n",
    "new_df['C4'].fillna(round(c4_log_mean,1),inplace=True)\n",
    "new_df['C5'].fillna(round(c5_log_mean,1),inplace=True)"
   ]
  },
  {
   "cell_type": "code",
   "execution_count": 214,
   "metadata": {
    "colab": {
     "base_uri": "https://localhost:8080/"
    },
    "id": "hGbeZ6DVHDsO",
    "outputId": "0232b41a-77e0-42ec-b86f-f752d0c52d97"
   },
   "outputs": [
    {
     "data": {
      "text/plain": [
       "C1                        0\n",
       "C2                        0\n",
       "C3                        0\n",
       "C4                        0\n",
       "C5                        0\n",
       "date_hour                 0\n",
       "No. of Visitors       15672\n",
       "index                  8257\n",
       "cluster                8257\n",
       "data_a                 8257\n",
       "numero_presenze        8257\n",
       "layer_id               8257\n",
       "layer_nome             8257\n",
       "dettaglio(secondi)     8257\n",
       "winds                 15050\n",
       "rainfall_mm             213\n",
       "snowfall_mm             211\n",
       "date                      0\n",
       "hour                      0\n",
       "C1_new                 1131\n",
       "dtype: int64"
      ]
     },
     "execution_count": 214,
     "metadata": {
      "tags": []
     },
     "output_type": "execute_result"
    }
   ],
   "source": [
    "new_df.isnull().sum()"
   ]
  },
  {
   "cell_type": "code",
   "execution_count": 221,
   "metadata": {
    "id": "hAkpP_rFHGOO"
   },
   "outputs": [],
   "source": [
    "new_df['Log_Avg']=np.log10(((10**(new_df['C1']/10))+(10**(new_df['C2']/10))+(10**(new_df['C3']/10))+(10**(new_df['C4']/10))+(10**(new_df['C5']/10)))/5)*10"
   ]
  },
  {
   "cell_type": "code",
   "execution_count": 232,
   "metadata": {
    "colab": {
     "base_uri": "https://localhost:8080/",
     "height": 181
    },
    "id": "GM-CPca8IrOD",
    "outputId": "9bf0e2de-021e-42f2-d486-1c66194a7177"
   },
   "outputs": [
    {
     "data": {
      "text/html": [
       "<div>\n",
       "<style scoped>\n",
       "    .dataframe tbody tr th:only-of-type {\n",
       "        vertical-align: middle;\n",
       "    }\n",
       "\n",
       "    .dataframe tbody tr th {\n",
       "        vertical-align: top;\n",
       "    }\n",
       "\n",
       "    .dataframe thead th {\n",
       "        text-align: right;\n",
       "    }\n",
       "</style>\n",
       "<table border=\"1\" class=\"dataframe\">\n",
       "  <thead>\n",
       "    <tr style=\"text-align: right;\">\n",
       "      <th></th>\n",
       "      <th>C1</th>\n",
       "      <th>C2</th>\n",
       "      <th>C3</th>\n",
       "      <th>C4</th>\n",
       "      <th>C5</th>\n",
       "      <th>date_hour</th>\n",
       "      <th>No. of Visitors</th>\n",
       "      <th>index</th>\n",
       "      <th>cluster</th>\n",
       "      <th>data_a</th>\n",
       "      <th>numero_presenze</th>\n",
       "      <th>layer_id</th>\n",
       "      <th>layer_nome</th>\n",
       "      <th>dettaglio(secondi)</th>\n",
       "      <th>winds</th>\n",
       "      <th>rainfall_mm</th>\n",
       "      <th>snowfall_mm</th>\n",
       "      <th>date</th>\n",
       "      <th>hour</th>\n",
       "      <th>Log_Avg</th>\n",
       "    </tr>\n",
       "  </thead>\n",
       "  <tbody>\n",
       "    <tr>\n",
       "      <th>0</th>\n",
       "      <td>68.7</td>\n",
       "      <td>60.2</td>\n",
       "      <td>76.0</td>\n",
       "      <td>62.3</td>\n",
       "      <td>66.6</td>\n",
       "      <td>01-01-18 00:00</td>\n",
       "      <td>NaN</td>\n",
       "      <td>NaN</td>\n",
       "      <td>NaN</td>\n",
       "      <td>NaN</td>\n",
       "      <td>NaN</td>\n",
       "      <td>NaN</td>\n",
       "      <td>NaN</td>\n",
       "      <td>NaN</td>\n",
       "      <td>0.366667</td>\n",
       "      <td>-0.010</td>\n",
       "      <td>2.6</td>\n",
       "      <td>2018-01-01</td>\n",
       "      <td>00:00</td>\n",
       "      <td>70.377457</td>\n",
       "    </tr>\n",
       "    <tr>\n",
       "      <th>1</th>\n",
       "      <td>68.3</td>\n",
       "      <td>60.2</td>\n",
       "      <td>68.2</td>\n",
       "      <td>62.3</td>\n",
       "      <td>65.4</td>\n",
       "      <td>01-01-18 01:00</td>\n",
       "      <td>NaN</td>\n",
       "      <td>NaN</td>\n",
       "      <td>NaN</td>\n",
       "      <td>NaN</td>\n",
       "      <td>NaN</td>\n",
       "      <td>NaN</td>\n",
       "      <td>NaN</td>\n",
       "      <td>NaN</td>\n",
       "      <td>0.590000</td>\n",
       "      <td>0.009</td>\n",
       "      <td>2.6</td>\n",
       "      <td>2018-01-01</td>\n",
       "      <td>01:00</td>\n",
       "      <td>65.928539</td>\n",
       "    </tr>\n",
       "  </tbody>\n",
       "</table>\n",
       "</div>"
      ],
      "text/plain": [
       "     C1    C2    C3    C4  ...  snowfall_mm       date   hour    Log_Avg\n",
       "0  68.7  60.2  76.0  62.3  ...          2.6 2018-01-01  00:00  70.377457\n",
       "1  68.3  60.2  68.2  62.3  ...          2.6 2018-01-01  01:00  65.928539\n",
       "\n",
       "[2 rows x 20 columns]"
      ]
     },
     "execution_count": 232,
     "metadata": {
      "tags": []
     },
     "output_type": "execute_result"
    }
   ],
   "source": [
    "new_df.head(2)"
   ]
  },
  {
   "cell_type": "code",
   "execution_count": 233,
   "metadata": {
    "id": "wRNSBpySbfO4"
   },
   "outputs": [],
   "source": [
    "new_df.to_csv('Senor_data_converted.csv')"
   ]
  },
  {
   "cell_type": "code",
   "execution_count": 235,
   "metadata": {
    "colab": {
     "base_uri": "https://localhost:8080/",
     "height": 350
    },
    "id": "NR_T5nuSajL5",
    "outputId": "39f0b0ae-790d-4c9a-c8ab-9da35a5fa50a"
   },
   "outputs": [
    {
     "data": {
      "image/png": "[encoded data removed]",
      "text/plain": [
       "<Figure size 432x288 with 2 Axes>"
      ]
     },
     "metadata": {
      "needs_background": "light",
      "tags": []
     },
     "output_type": "display_data"
    }
   ],
   "source": [
    "correlation_mat = new_df.corr()\n",
    "sns.heatmap(correlation_mat, annot = True)\n",
    "plt.show()"
   ]
  },
  {
   "cell_type": "code",
   "execution_count": 236,
   "metadata": {
    "colab": {
     "base_uri": "https://localhost:8080/"
    },
    "id": "IWG3qya7a0uC",
    "outputId": "6983e3c2-4b19-4f56-8a50-b242393d2200"
   },
   "outputs": [
    {
     "name": "stdout",
     "output_type": "stream",
     "text": [
      "C1       C1                    1.000000\n",
      "         C2                    0.668258\n",
      "         C3                    0.744585\n",
      "         C4                    0.590260\n",
      "         C5                    0.679297\n",
      "                                 ...   \n",
      "Log_Avg  dettaglio(secondi)         NaN\n",
      "         winds                 0.230488\n",
      "         rainfall_mm           0.046160\n",
      "         snowfall_mm           0.152106\n",
      "         Log_Avg               1.000000\n",
      "Length: 169, dtype: float64\n"
     ]
    }
   ],
   "source": [
    "corr_pairs = correlation_mat.unstack()\n",
    "print(corr_pairs)"
   ]
  },
  {
   "cell_type": "code",
   "execution_count": 237,
   "metadata": {
    "colab": {
     "base_uri": "https://localhost:8080/"
    },
    "id": "IQJUt8HLa-sS",
    "outputId": "3ff30f37-811c-42cc-df24-4c4254e528d1"
   },
   "outputs": [
    {
     "data": {
      "text/plain": [
       "index            numero_presenze   -0.505284\n",
       "numero_presenze  index             -0.505284\n",
       "C1               No. of Visitors    0.504981\n",
       "No. of Visitors  C1                 0.504981\n",
       "                 Log_Avg            0.527684\n",
       "Log_Avg          No. of Visitors    0.527684\n",
       "C5               C4                 0.546288\n",
       "C4               C5                 0.546288\n",
       "C3               No. of Visitors    0.552039\n",
       "No. of Visitors  C3                 0.552039\n",
       "C1               C4                 0.590260\n",
       "C4               C1                 0.590260\n",
       "C3               C2                 0.591753\n",
       "C2               C3                 0.591753\n",
       "C5               C3                 0.603844\n",
       "C3               C5                 0.603844\n",
       "C1               C2                 0.668258\n",
       "C2               C1                 0.668258\n",
       "C5               C1                 0.679297\n",
       "C1               C5                 0.679297\n",
       "C2               C4                 0.684031\n",
       "C4               C2                 0.684031\n",
       "C5               Log_Avg            0.707204\n",
       "Log_Avg          C5                 0.707204\n",
       "winds            snowfall_mm        0.707306\n",
       "snowfall_mm      winds              0.707306\n",
       "C4               Log_Avg            0.734921\n",
       "Log_Avg          C4                 0.734921\n",
       "C5               C2                 0.738845\n",
       "C2               C5                 0.738845\n",
       "                 Log_Avg            0.742990\n",
       "Log_Avg          C2                 0.742990\n",
       "C3               C1                 0.744585\n",
       "C1               C3                 0.744585\n",
       "                 Log_Avg            0.838251\n",
       "Log_Avg          C1                 0.838251\n",
       "C3               Log_Avg            0.884564\n",
       "Log_Avg          C3                 0.884564\n",
       "C1               C1                 1.000000\n",
       "rainfall_mm      rainfall_mm        1.000000\n",
       "winds            winds              1.000000\n",
       "numero_presenze  numero_presenze    1.000000\n",
       "index            index              1.000000\n",
       "No. of Visitors  No. of Visitors    1.000000\n",
       "C5               C5                 1.000000\n",
       "C4               C4                 1.000000\n",
       "C3               C3                 1.000000\n",
       "C2               C2                 1.000000\n",
       "snowfall_mm      snowfall_mm        1.000000\n",
       "Log_Avg          Log_Avg            1.000000\n",
       "dtype: float64"
      ]
     },
     "execution_count": 237,
     "metadata": {
      "tags": []
     },
     "output_type": "execute_result"
    }
   ],
   "source": [
    "sorted_pairs = corr_pairs.sort_values(kind=\"quicksort\")\n",
    "strong_pairs = sorted_pairs[abs(sorted_pairs) > 0.5]\n",
    "strong_pairs"
   ]
  }
 ],
 "metadata": {
  "colab": {
   "name": "sm_EDA.ipynb",
   "provenance": []
  },
  "kernelspec": {
   "display_name": "Python 3",
   "language": "python",
   "name": "python3"
  },
  "language_info": {
   "codemirror_mode": {
    "name": "ipython",
    "version": 3
   },
   "file_extension": ".py",
   "mimetype": "text/x-python",
   "name": "python",
   "nbconvert_exporter": "python",
   "pygments_lexer": "ipython3",
   "version": "3.8.6"
  },
  "toc": {
   "base_numbering": 1,
   "nav_menu": {},
   "number_sections": true,
   "sideBar": true,
   "skip_h1_title": false,
   "title_cell": "Table of Contents",
   "title_sidebar": "Contents",
   "toc_cell": false,
   "toc_position": {},
   "toc_section_display": true,
   "toc_window_display": false
  }
 },
 "nbformat": 4,
 "nbformat_minor": 1
}
