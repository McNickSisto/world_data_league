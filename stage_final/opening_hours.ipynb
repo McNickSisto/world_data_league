{
 "cells": [
  {
   "cell_type": "code",
   "execution_count": 1,
   "id": "a17f548e",
   "metadata": {},
   "outputs": [],
   "source": [
    "import geopandas as gpd\n",
    "import pandas as pd\n",
    "import fiona\n",
    "import os\n",
    "import matplotlib.pyplot as plt\n",
    "import folium\n",
    "from zipfile import ZipFile\n",
    "from folium.plugins import MarkerCluster, HeatMap, BeautifyIcon\n",
    "from folium.map import LayerControl, Layer, FeatureGroup\n",
    "import seaborn as sns\n",
    "from shapely.geometry import Point, LineString, MultiPoint\n",
    "import numpy as np\n",
    "import contextily as ctx\n",
    "import requests\n",
    "from io import StringIO, BytesIO\n",
    "import json\n",
    "import datetime as dt\n",
    "from ast import literal_eval\n",
    "from shapely.wkt import loads\n",
    "import plotly.express as px\n",
    "from dotenv import load_dotenv, find_dotenv"
   ]
  },
  {
   "cell_type": "code",
   "execution_count": 2,
   "id": "ce2072bc",
   "metadata": {},
   "outputs": [],
   "source": [
    "# API KEY\n",
    "load_dotenv(find_dotenv())\n",
    "GOOGLE = os.environ.get(\"GOOGLE\")"
   ]
  },
  {
   "cell_type": "code",
   "execution_count": 40,
   "id": "30982354",
   "metadata": {},
   "outputs": [],
   "source": [
    "# first find all restaurants\n",
    "\n",
    "# circle:radius@lat,lng.\n",
    "url = 'https://maps.googleapis.com/maps/api/place/nearbysearch/json'\n",
    "params = {            \n",
    "            'location':'45.05917,7.67899', #sensor\n",
    "            'radius':'2000',\n",
    "            'type':'bar',\n",
    "            'key':GOOGLE,\n",
    "#             'next_page_token':'Aap_uEAHLKFqkT_9cbZmb1MQnETt-m8UbzadW7QiNATmacn1_n9Po988eGWZ5DmGW8qTzeghWKZ_IHX32S5nIapSSvITOgSual649oOVvz-ODoWvcFpMs78Wx8XZhoGqtpuvgVqcmk_Ra0QA7DEUSuOdhuVoLcjfX1fKFDUxqNM_6kqN48VxN4PWKM9ScxwjzrSnMjPPtkmAxCpmIp_yn9BTZq4kY33tCoUS0DPJs52ZLSpMAmIZN4NdPdfq28l8biQCmJtYEStMHtOJB9HeL0nEyyD4NJeKh_SrK-oyT2IUHvqaCi8VWlOr7TG-ubGlj-k9mu5MGm6es_gQLijxhkargh4Fsx_1PBmNqARGefGflOUyjIOiTulxf2qMVPtmDltGALkT482L21uUi1UpvfUxr9ytQnRSNGfSm0W1j6mrX28O7iNa3Ac'\n",
    "         } \n",
    "\n",
    "r = requests.get(url, params=params)\n",
    "# resp = r.json()\n",
    "# https://maps.googleapis.com/maps/api/place/findplacefromtext/json?input=mongolian%20grill&inputtype=textquery&fields=photos,formatted_address,name,opening_hours,rating&locationbias=circle:2000@47.6918452,-122.2226413&key=YOUR_API_KEY\n",
    "\n"
   ]
  },
  {
   "cell_type": "code",
   "execution_count": 41,
   "id": "c239d53a",
   "metadata": {},
   "outputs": [],
   "source": [
    "results = r.json().get('results')\n"
   ]
  },
  {
   "cell_type": "code",
   "execution_count": 38,
   "id": "ff378635",
   "metadata": {},
   "outputs": [],
   "source": [
    "results2 = r.json().get('results')"
   ]
  },
  {
   "cell_type": "code",
   "execution_count": 44,
   "id": "398e0523",
   "metadata": {},
   "outputs": [],
   "source": [
    "bars = results + results2"
   ]
  },
  {
   "cell_type": "code",
   "execution_count": 132,
   "id": "9aaa7653",
   "metadata": {},
   "outputs": [
    {
     "data": {
      "text/plain": [
       "{'business_status': 'OPERATIONAL',\n",
       " 'geometry': {'location': {'lat': 45.066405, 'lng': 7.684872},\n",
       "  'viewport': {'northeast': {'lat': 45.0676660802915,\n",
       "    'lng': 7.686084630291502},\n",
       "   'southwest': {'lat': 45.0649681197085, 'lng': 7.683386669708497}}},\n",
       " 'icon': 'https://maps.gstatic.com/mapfiles/place_api/icons/v1/png_71/restaurant-71.png',\n",
       " 'name': 'Japs!',\n",
       " 'opening_hours': {'open_now': False},\n",
       " 'photos': [{'height': 3968,\n",
       "   'html_attributions': ['<a href=\"https://maps.google.com/maps/contrib/115455084168180704575\">Noemi Vagelatos</a>'],\n",
       "   'photo_reference': 'Aap_uEDz6ShOIZADYb0nWarfM7RGt6bwmJ94nqO0uo67NCOxlgrxhM5fEPvaKuBvU63_oZdbjxv4ArAu2Mjo5hF9q7c08LX7zfYbqI4pFTXYHQ5L7HBNNwKrZrR4uoR4UQ9xye2ewNL6grY9Ry2PdaXHyyRnU_rUzxiK2JDD9C3d86gmees',\n",
       "   'width': 2976}],\n",
       " 'place_id': 'ChIJYZuin29tiEcRwqEvNL2U5Hc',\n",
       " 'plus_code': {'compound_code': '3M8M+HW Turin, Metropolitan City of Turin, Italy',\n",
       "  'global_code': '8FQ93M8M+HW'},\n",
       " 'price_level': 2,\n",
       " 'rating': 4.4,\n",
       " 'reference': 'ChIJYZuin29tiEcRwqEvNL2U5Hc',\n",
       " 'scope': 'GOOGLE',\n",
       " 'types': ['meal_takeaway',\n",
       "  'bar',\n",
       "  'restaurant',\n",
       "  'food',\n",
       "  'point_of_interest',\n",
       "  'establishment'],\n",
       " 'user_ratings_total': 239,\n",
       " 'vicinity': 'Via Carlo Alberto, 27, Torino'}"
      ]
     },
     "execution_count": 132,
     "metadata": {},
     "output_type": "execute_result"
    }
   ],
   "source": [
    "bars[2]"
   ]
  },
  {
   "cell_type": "code",
   "execution_count": 63,
   "id": "faf755c7",
   "metadata": {},
   "outputs": [],
   "source": [
    "url = 'https://maps.googleapis.com/maps/api/place/details/json'\n",
    "params = {\n",
    "    'key':GOOGLE,\n",
    "    'fields':'opening_hours'\n",
    "         }\n",
    "opening_hrs = []\n",
    "for bar in bars:\n",
    "    reference = bar.get('reference')\n",
    "    params['place_id'] = reference\n",
    "    r = requests.get(url, params=params)\n",
    "    opening_hrs.append(r)\n"
   ]
  },
  {
   "cell_type": "code",
   "execution_count": 66,
   "id": "db95f3f9",
   "metadata": {},
   "outputs": [],
   "source": [
    "contents_hrs = [r.json() for r in opening_hrs]\n",
    "periods = []\n",
    "for x in contents_hrs:\n",
    "    try:\n",
    "        hr = x.get('result').get('opening_hours').get('periods')\n",
    "        periods.append(hr)\n",
    "    except:\n",
    "        pass\n"
   ]
  },
  {
   "cell_type": "code",
   "execution_count": 177,
   "id": "1a309386",
   "metadata": {},
   "outputs": [],
   "source": [
    "# remove 24h open bars\n",
    "new = [x for x in periods if len(x) > 1]"
   ]
  },
  {
   "cell_type": "code",
   "execution_count": 139,
   "id": "d321f57f",
   "metadata": {},
   "outputs": [
    {
     "data": {
      "text/plain": [
       "{'html_attributions': [],\n",
       " 'result': {'opening_hours': {'open_now': False,\n",
       "   'periods': [{'close': {'day': 2, 'time': '0430'},\n",
       "     'open': {'day': 1, 'time': '2200'}},\n",
       "    {'close': {'day': 3, 'time': '0430'}, 'open': {'day': 2, 'time': '2200'}},\n",
       "    {'close': {'day': 4, 'time': '0430'}, 'open': {'day': 3, 'time': '2200'}},\n",
       "    {'close': {'day': 5, 'time': '0430'}, 'open': {'day': 4, 'time': '2200'}},\n",
       "    {'close': {'day': 6, 'time': '0430'}, 'open': {'day': 5, 'time': '2200'}},\n",
       "    {'close': {'day': 0, 'time': '0430'}, 'open': {'day': 6, 'time': '2200'}}],\n",
       "   'weekday_text': ['Monday: 10:00 PM – 4:30 AM',\n",
       "    'Tuesday: 10:00 PM – 4:30 AM',\n",
       "    'Wednesday: 10:00 PM – 4:30 AM',\n",
       "    'Thursday: 10:00 PM – 4:30 AM',\n",
       "    'Friday: 10:00 PM – 4:30 AM',\n",
       "    'Saturday: 10:00 PM – 4:30 AM',\n",
       "    'Sunday: Closed']}},\n",
       " 'status': 'OK'}"
      ]
     },
     "execution_count": 139,
     "metadata": {},
     "output_type": "execute_result"
    }
   ],
   "source": [
    "contents_hrs[11]"
   ]
  },
  {
   "cell_type": "code",
   "execution_count": 224,
   "id": "c3b8dd99",
   "metadata": {},
   "outputs": [],
   "source": [
    "closing = []\n",
    "for x in new:\n",
    "    for i in x:\n",
    "        _close = i.get('close')\n",
    "        closing.append(_close)\n",
    "opening = []\n",
    "for x in new:\n",
    "    for i in x:\n",
    "        _open = i.get('open')\n",
    "        opening.append(_open)\n"
   ]
  },
  {
   "cell_type": "code",
   "execution_count": 225,
   "id": "d9f9367c",
   "metadata": {},
   "outputs": [],
   "source": [
    "# put results in dataframe\n",
    "opening_times = pd.DataFrame(opening)\n",
    "closing_times = pd.DataFrame(closing)\n",
    "closing_times['time'] = pd.to_datetime(closing_times['time'], format='%H%M')\n",
    "opening_times['time'] = pd.to_datetime(opening_times['time'], format='%H%M')"
   ]
  },
  {
   "cell_type": "code",
   "execution_count": 226,
   "id": "60a63a5c",
   "metadata": {},
   "outputs": [],
   "source": [
    "# create unique day_hr identifier\n",
    "closing_times['day_time'] = closing_times.apply(lambda x: str(x.day) + '_' + str(x.time.hour), axis=1)\n",
    "opening_times['day_time'] = opening_times.apply(lambda x: str(x.day) + '_' + str(x.time.hour), axis=1)"
   ]
  },
  {
   "cell_type": "code",
   "execution_count": 232,
   "id": "7df7fb64",
   "metadata": {},
   "outputs": [],
   "source": [
    "# count all apperances of openings and closings per weekday\n",
    "agg_close = closing_times.groupby('day_time').agg({'day':'count'}).rename(columns={'day':'count_close'})\n",
    "agg_open = opening_times.groupby('day_time').agg({'day':'count'}).rename(columns={'day':'count_open'})\n",
    "agg_joint = agg_close.join(agg_open, how='outer')"
   ]
  },
  {
   "cell_type": "code",
   "execution_count": 236,
   "id": "3fcbf21e",
   "metadata": {},
   "outputs": [],
   "source": [
    "# init range 2018\n",
    "range_2018 = pd.DataFrame(pd.date_range('2018-01-01', '2018-12-31', freq='h'), columns=['hour'])\n",
    "range_2018['day_time'] =  range_2018.apply(lambda x: str(x.hour.weekday()) + '_' + str(x.hour.hour), axis=1)"
   ]
  },
  {
   "cell_type": "code",
   "execution_count": 240,
   "id": "f858b9c3",
   "metadata": {},
   "outputs": [],
   "source": [
    "# join both\n",
    "\n",
    "opening_count_2018 = range_2018.merge(agg_joint, \n",
    "                                    on='day_time',\n",
    "                                    how='left').drop(columns='day_time')"
   ]
  },
  {
   "cell_type": "code",
   "execution_count": 242,
   "id": "78c7ddb1",
   "metadata": {},
   "outputs": [],
   "source": [
    "opening_count_2018.to_csv('raw_data/opening_count_2018.csv')"
   ]
  },
  {
   "cell_type": "code",
   "execution_count": null,
   "id": "23b402fa",
   "metadata": {},
   "outputs": [],
   "source": []
  }
 ],
 "metadata": {
  "kernelspec": {
   "display_name": "Python 3",
   "language": "python",
   "name": "python3"
  },
  "language_info": {
   "codemirror_mode": {
    "name": "ipython",
    "version": 3
   },
   "file_extension": ".py",
   "mimetype": "text/x-python",
   "name": "python",
   "nbconvert_exporter": "python",
   "pygments_lexer": "ipython3",
   "version": "3.8.6"
  },
  "toc": {
   "base_numbering": 1,
   "nav_menu": {},
   "number_sections": true,
   "sideBar": true,
   "skip_h1_title": false,
   "title_cell": "Table of Contents",
   "title_sidebar": "Contents",
   "toc_cell": false,
   "toc_position": {},
   "toc_section_display": true,
   "toc_window_display": false
  }
 },
 "nbformat": 4,
 "nbformat_minor": 5
}
