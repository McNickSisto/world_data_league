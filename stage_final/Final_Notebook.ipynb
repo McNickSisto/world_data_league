{
 "cells": [
  {
   "cell_type": "markdown",
   "metadata": {
    "id": "jMv8ymSbC1kH"
   },
   "source": [
    "# World Data League 2021\n",
    "## Notebook Template\n",
    "\n",
    "This notebook is one of the mandatory deliverables when you submit your solution (alongside the video pitch). Its structure follows the WDL evaluation criteria and it has dedicated cells where you can add descriptions. Make sure your code is readable as it will be the only technical support the jury will have to evaluate your work.\n",
    "\n",
    "The notebook must:\n",
    "\n",
    "*   💻 have all the code that you want the jury to evaluate\n",
    "*   🧱 follow the predefined structure\n",
    "*   📄 have markdown descriptions where you find necessary\n",
    "*   👀 be saved with all the output that you want the jury to see\n",
    "*   🏃‍♂️ be runnable"
   ]
  },
  {
   "cell_type": "markdown",
   "metadata": {
    "id": "J-AEaBglDGdp"
   },
   "source": [
    "## Authors\n",
    "- Nicholas Sistovaris\n",
    "- Moritz Geiger\n",
    "- Pravalika Myneni\n",
    "- Sowmya Madala"
   ]
  },
  {
   "cell_type": "markdown",
   "metadata": {
    "id": "0wFifT7lDPyn"
   },
   "source": [
    "## External links and resources"
   ]
  },
  {
   "cell_type": "markdown",
   "metadata": {
    "id": "w3exR8LzDVIa"
   },
   "source": [
    "All the external data or resources that was not provided by the WDL was acquired through the following links:\n",
    "\n",
    "1. https://noise-planet.org/noisemodelling.html \n",
    "2. https://www.torinocitylab.it/en/asset-to/open-data \n",
    "3. https://www.officeholidays.com/countries/italy/turin/2018 \n",
    "4. https://www.feiertagskalender.ch/index.php?geo=3815&jahr=2018&hl=en\n",
    "5. http://webgis.arpa.piemonte.it/basicviewer_arpa_webapp/index.html?webmap=89aa175451d24ae0a1911e67957d9aec\n",
    "6. http://aperto.comune.torino.it/dataset/zone-statistiche\n",
    "7. https://openweathermap.org/history\n",
    "8. https://developers.google.com/maps/documentation/places/web-service/details \n",
    "9. https://www.cirrusresearch.co.uk/blog/2013/01/noise-data-averaging-how-do-i-average-noise-measurements/"
   ]
  },
  {
   "cell_type": "markdown",
   "metadata": {
    "id": "x_B5aVaEDbPP"
   },
   "source": [
    "## Introduction"
   ]
  },
  {
   "cell_type": "markdown",
   "metadata": {
    "id": "SoKRp1NhDejY"
   },
   "source": [
    "**Overview:**\n",
    "\n",
    "\n",
    "_from challenge description_\n",
    "<blockquote>\n",
    "\n",
    "</blockquote>\n",
    "\n"
   ]
  },
  {
   "cell_type": "markdown",
   "metadata": {
    "id": "ZZAVGs_DDf8q"
   },
   "source": [
    "**Research:**\n",
    "\n"
   ]
  },
  {
   "cell_type": "markdown",
   "metadata": {
    "id": "2KD41uG-DivX"
   },
   "source": [
    "## Development\n",
    "Start coding here! 👩‍💻\n",
    "\n",
    "Don't hesitate to create markdown cells to include descriptions of your work where you see fit, as well as commenting your code.\n",
    "\n",
    "We know that you know exactly where to start when it comes to crunching data and building models, but don't forget that WDL is all about social impact...so take that into consideration as well."
   ]
  },
  {
   "cell_type": "code",
   "execution_count": 1,
   "metadata": {
    "colab": {
     "base_uri": "https://localhost:8080/"
    },
    "id": "esuJzMrVDePS",
    "outputId": "68fa6a3a-27bb-4cec-fa87-5ddb10df03ac"
   },
   "outputs": [
    {
     "name": "stdout",
     "output_type": "stream",
     "text": [
      "Collecting geopandas\n",
      "\u001b[?25l  Downloading https://files.pythonhosted.org/packages/d7/bf/e9cefb69d39155d122b6ddca53893b61535fa6ffdad70bf5ef708977f53f/geopandas-0.9.0-py2.py3-none-any.whl (994kB)\n",
      "\u001b[K     |████████████████████████████████| 1.0MB 27.2MB/s \n",
      "\u001b[?25hRequirement already satisfied: shapely>=1.6 in /usr/local/lib/python3.7/dist-packages (from geopandas) (1.7.1)\n",
      "Requirement already satisfied: pandas>=0.24.0 in /usr/local/lib/python3.7/dist-packages (from geopandas) (1.1.5)\n",
      "Collecting fiona>=1.8\n",
      "\u001b[?25l  Downloading https://files.pythonhosted.org/packages/9c/fc/9807326c37a6bfb2393ae3e1cca147aa74844562c4d5daa782d6e97ad2bc/Fiona-1.8.20-cp37-cp37m-manylinux1_x86_64.whl (15.4MB)\n",
      "\u001b[K     |████████████████████████████████| 15.4MB 197kB/s \n",
      "\u001b[?25hCollecting pyproj>=2.2.0\n",
      "\u001b[?25l  Downloading https://files.pythonhosted.org/packages/11/1d/1c54c672c2faf08d28fe78e15d664c048f786225bef95ad87b6c435cf69e/pyproj-3.1.0-cp37-cp37m-manylinux2010_x86_64.whl (6.6MB)\n",
      "\u001b[K     |████████████████████████████████| 6.6MB 38.9MB/s \n",
      "\u001b[?25hRequirement already satisfied: python-dateutil>=2.7.3 in /usr/local/lib/python3.7/dist-packages (from pandas>=0.24.0->geopandas) (2.8.1)\n",
      "Requirement already satisfied: pytz>=2017.2 in /usr/local/lib/python3.7/dist-packages (from pandas>=0.24.0->geopandas) (2018.9)\n",
      "Requirement already satisfied: numpy>=1.15.4 in /usr/local/lib/python3.7/dist-packages (from pandas>=0.24.0->geopandas) (1.19.5)\n",
      "Requirement already satisfied: certifi in /usr/local/lib/python3.7/dist-packages (from fiona>=1.8->geopandas) (2021.5.30)\n",
      "Collecting munch\n",
      "  Downloading https://files.pythonhosted.org/packages/cc/ab/85d8da5c9a45e072301beb37ad7f833cd344e04c817d97e0cc75681d248f/munch-2.5.0-py2.py3-none-any.whl\n",
      "Requirement already satisfied: click>=4.0 in /usr/local/lib/python3.7/dist-packages (from fiona>=1.8->geopandas) (7.1.2)\n",
      "Collecting click-plugins>=1.0\n",
      "  Downloading https://files.pythonhosted.org/packages/e9/da/824b92d9942f4e472702488857914bdd50f73021efea15b4cad9aca8ecef/click_plugins-1.1.1-py2.py3-none-any.whl\n",
      "Requirement already satisfied: setuptools in /usr/local/lib/python3.7/dist-packages (from fiona>=1.8->geopandas) (57.0.0)\n",
      "Requirement already satisfied: six>=1.7 in /usr/local/lib/python3.7/dist-packages (from fiona>=1.8->geopandas) (1.15.0)\n",
      "Collecting cligj>=0.5\n",
      "  Downloading https://files.pythonhosted.org/packages/73/86/43fa9f15c5b9fb6e82620428827cd3c284aa933431405d1bcf5231ae3d3e/cligj-0.7.2-py3-none-any.whl\n",
      "Requirement already satisfied: attrs>=17 in /usr/local/lib/python3.7/dist-packages (from fiona>=1.8->geopandas) (21.2.0)\n",
      "Installing collected packages: munch, click-plugins, cligj, fiona, pyproj, geopandas\n",
      "Successfully installed click-plugins-1.1.1 cligj-0.7.2 fiona-1.8.20 geopandas-0.9.0 munch-2.5.0 pyproj-3.1.0\n",
      "Collecting pmdarima\n",
      "\u001b[?25l  Downloading https://files.pythonhosted.org/packages/f4/c2/2a94bce6bba1deac3c0b16dbb14f28de0b9035e3211919cae8448455aa65/pmdarima-1.8.2-cp37-cp37m-manylinux1_x86_64.whl (1.5MB)\n",
      "\u001b[K     |████████████████████████████████| 1.5MB 31.1MB/s \n",
      "\u001b[?25hRequirement already satisfied: pandas>=0.19 in /usr/local/lib/python3.7/dist-packages (from pmdarima) (1.1.5)\n",
      "Requirement already satisfied: setuptools!=50.0.0,>=38.6.0 in /usr/local/lib/python3.7/dist-packages (from pmdarima) (57.0.0)\n",
      "Requirement already satisfied: scipy>=1.3.2 in /usr/local/lib/python3.7/dist-packages (from pmdarima) (1.4.1)\n",
      "Requirement already satisfied: scikit-learn>=0.22 in /usr/local/lib/python3.7/dist-packages (from pmdarima) (0.22.2.post1)\n",
      "Collecting statsmodels!=0.12.0,>=0.11\n",
      "\u001b[?25l  Downloading https://files.pythonhosted.org/packages/da/69/8eef30a6237c54f3c0b524140e2975f4b1eea3489b45eb3339574fc8acee/statsmodels-0.12.2-cp37-cp37m-manylinux1_x86_64.whl (9.5MB)\n",
      "\u001b[K     |████████████████████████████████| 9.5MB 34.4MB/s \n",
      "\u001b[?25hRequirement already satisfied: Cython!=0.29.18,>=0.29 in /usr/local/lib/python3.7/dist-packages (from pmdarima) (0.29.23)\n",
      "Requirement already satisfied: urllib3 in /usr/local/lib/python3.7/dist-packages (from pmdarima) (1.24.3)\n",
      "Requirement already satisfied: joblib>=0.11 in /usr/local/lib/python3.7/dist-packages (from pmdarima) (1.0.1)\n",
      "Requirement already satisfied: numpy~=1.19.0 in /usr/local/lib/python3.7/dist-packages (from pmdarima) (1.19.5)\n",
      "Requirement already satisfied: pytz>=2017.2 in /usr/local/lib/python3.7/dist-packages (from pandas>=0.19->pmdarima) (2018.9)\n",
      "Requirement already satisfied: python-dateutil>=2.7.3 in /usr/local/lib/python3.7/dist-packages (from pandas>=0.19->pmdarima) (2.8.1)\n",
      "Requirement already satisfied: patsy>=0.5 in /usr/local/lib/python3.7/dist-packages (from statsmodels!=0.12.0,>=0.11->pmdarima) (0.5.1)\n",
      "Requirement already satisfied: six>=1.5 in /usr/local/lib/python3.7/dist-packages (from python-dateutil>=2.7.3->pandas>=0.19->pmdarima) (1.15.0)\n",
      "Installing collected packages: statsmodels, pmdarima\n",
      "  Found existing installation: statsmodels 0.10.2\n",
      "    Uninstalling statsmodels-0.10.2:\n",
      "      Successfully uninstalled statsmodels-0.10.2\n",
      "Successfully installed pmdarima-1.8.2 statsmodels-0.12.2\n"
     ]
    }
   ],
   "source": [
    "!pip install geopandas\n",
    "!pip install pmdarima"
   ]
  },
  {
   "cell_type": "markdown",
   "metadata": {
    "id": "6j__QCHeDzdR"
   },
   "source": [
    "### Imports (libraries) 📚"
   ]
  },
  {
   "cell_type": "code",
   "execution_count": 2,
   "metadata": {
    "id": "rDnW9KemDzCK"
   },
   "outputs": [],
   "source": [
    "## TABULAR\n",
    "import pandas as pd \n",
    "import numpy as np\n",
    "import matplotlib\n",
    "\n",
    "## GEO\n",
    "import geopandas as gpd\n",
    "import fiona\n",
    "import folium\n",
    "from folium.plugins import MarkerCluster, HeatMap, BeautifyIcon\n",
    "from folium.map import LayerControl, Layer, FeatureGroup\n",
    "from folium.vector_layers import Circle, CircleMarker\n",
    "from shapely.geometry import LineString, Point\n",
    "from shapely import wkt\n",
    "\n",
    "\n",
    "## DATA\n",
    "import os\n",
    "import zipfile\n",
    "from collections import Counter\n",
    "import re\n",
    "from datetime import datetime\n",
    "import requests\n",
    "#from dotenv import load_dotenv, find_dotenv\n",
    "import ast\n",
    "import datetime as dt\n",
    "from io import StringIO, BytesIO\n",
    "\n",
    "\n",
    "## VIS\n",
    "from ipywidgets import interact, interactive, fixed, interact_manual, IntSlider\n",
    "import seaborn as sns\n",
    "import matplotlib.pyplot as plt\n",
    "import statsmodels.tsa\n",
    "import branca\n",
    "import plotly.express as px\n",
    "\n",
    "## TIME SERIES\n",
    "from statsmodels.tsa.seasonal import seasonal_decompose\n",
    "from sklearn.metrics import r2_score, median_absolute_error, mean_absolute_error\n",
    "from sklearn.metrics import median_absolute_error, mean_squared_error, mean_squared_log_error\n",
    "import statsmodels.tsa.api as smt\n",
    "import statsmodels.api as sm\n",
    "from statsmodels.tsa.arima_model import ARIMA\n",
    "from statsmodels.tsa.statespace.sarimax import SARIMAX\n",
    "from pmdarima.arima import auto_arima \n",
    "\n",
    "\n",
    "## MODELLING\n",
    "from sklearn.preprocessing import MinMaxScaler, PolynomialFeatures\n",
    "from sklearn.metrics import r2_score\n",
    "from sklearn.linear_model import LinearRegression, Ridge, Lasso \n",
    "from sklearn.tree import DecisionTreeRegressor\n",
    "from sklearn.ensemble import RandomForestRegressor as rfr\n",
    "\n",
    "## NEURAL NETWORKS\n",
    "from tensorflow import keras\n",
    "from tensorflow.keras import layers\n",
    "from keras.models import Sequential\n",
    "from keras.layers import Dense\n",
    "from keras.layers import LSTM\n",
    "from keras.layers import Dropout"
   ]
  },
  {
   "cell_type": "markdown",
   "metadata": {
    "id": "D1JNBp0TD8GS"
   },
   "source": [
    "### Importing Dataframes"
   ]
  },
  {
   "cell_type": "markdown",
   "metadata": {
    "id": "KLvftT0vD75b"
   },
   "source": [
    "Following a first glance at the dataframes provided by the WDL, we believed that using data from **2018** was our best bet to construct our model on. \n",
    "\n",
    "- First, we wanted to focus on understanding noise and complaints in the pre-covid context. The years 2020 and 2021 would have been unrepresentative of Turin's nightlife.\n",
    "\n",
    "- Secondly, we wanted a feature that would represent the number of people outsides on an hourly basis. The data on No. of Visitors based on WiFi was most complete and representative of the population outside. However, it only had data for October, November & December 2018. This is why we picked 2018 for the rest of our data."
   ]
  },
  {
   "cell_type": "code",
   "execution_count": 66,
   "metadata": {
    "colab": {
     "base_uri": "https://localhost:8080/",
     "height": 203
    },
    "id": "sVXCDaN19LlY",
    "outputId": "67febafa-70f8-4d39-80f5-985286fb0047",
    "scrolled": true
   },
   "outputs": [
    {
     "data": {
      "text/html": [
       "<div>\n",
       "<style scoped>\n",
       "    .dataframe tbody tr th:only-of-type {\n",
       "        vertical-align: middle;\n",
       "    }\n",
       "\n",
       "    .dataframe tbody tr th {\n",
       "        vertical-align: top;\n",
       "    }\n",
       "\n",
       "    .dataframe thead th {\n",
       "        text-align: right;\n",
       "    }\n",
       "</style>\n",
       "<table border=\"1\" class=\"dataframe\">\n",
       "  <thead>\n",
       "    <tr style=\"text-align: right;\">\n",
       "      <th></th>\n",
       "      <th>code</th>\n",
       "      <th>address</th>\n",
       "      <th>Lat</th>\n",
       "      <th>Long</th>\n",
       "      <th>streaming</th>\n",
       "    </tr>\n",
       "  </thead>\n",
       "  <tbody>\n",
       "    <tr>\n",
       "      <th>0</th>\n",
       "      <td>s_01</td>\n",
       "      <td>Via Saluzzo, 26 Torino</td>\n",
       "      <td>45,059172</td>\n",
       "      <td>7,678986</td>\n",
       "      <td>https://userportal.smartdatanet.it/userportal/...</td>\n",
       "    </tr>\n",
       "    <tr>\n",
       "      <th>1</th>\n",
       "      <td>s_02</td>\n",
       "      <td>Via Principe Tommaso, 18bis Torino</td>\n",
       "      <td>45,057837</td>\n",
       "      <td>7,681555</td>\n",
       "      <td>https://userportal.smartdatanet.it/userportal/...</td>\n",
       "    </tr>\n",
       "    <tr>\n",
       "      <th>2</th>\n",
       "      <td>s_03</td>\n",
       "      <td>Largo Saluzzo Torino</td>\n",
       "      <td>45,058518</td>\n",
       "      <td>7,678854</td>\n",
       "      <td>https://userportal.smartdatanet.it/userportal/...</td>\n",
       "    </tr>\n",
       "    <tr>\n",
       "      <th>3</th>\n",
       "      <td>s_05</td>\n",
       "      <td>Via Principe Tommaso angolo via Baretti Torino</td>\n",
       "      <td>45,057603</td>\n",
       "      <td>7,681348</td>\n",
       "      <td>https://userportal.smartdatanet.it/userportal/...</td>\n",
       "    </tr>\n",
       "    <tr>\n",
       "      <th>4</th>\n",
       "      <td>s_06</td>\n",
       "      <td>Corso Marconi, 27 Torino</td>\n",
       "      <td>45,055554</td>\n",
       "      <td>7,68259</td>\n",
       "      <td>https://userportal.smartdatanet.it/userportal/...</td>\n",
       "    </tr>\n",
       "  </tbody>\n",
       "</table>\n",
       "</div>"
      ],
      "text/plain": [
       "   code  ...                                          streaming\n",
       "0  s_01  ...  https://userportal.smartdatanet.it/userportal/...\n",
       "1  s_02  ...  https://userportal.smartdatanet.it/userportal/...\n",
       "2  s_03  ...  https://userportal.smartdatanet.it/userportal/...\n",
       "3  s_05  ...  https://userportal.smartdatanet.it/userportal/...\n",
       "4  s_06  ...  https://userportal.smartdatanet.it/userportal/...\n",
       "\n",
       "[5 rows x 5 columns]"
      ]
     },
     "execution_count": 66,
     "metadata": {
      "tags": []
     },
     "output_type": "execute_result"
    }
   ],
   "source": [
    "# location of the sensors\n",
    "df_sensors_def = pd.read_csv('https://raw.githubusercontent.com/McNickSisto/world_data_league/main/stage_final/data/noise_sensor_list.csv', sep=';')\n",
    "df_sensors_def"
   ]
  },
  {
   "cell_type": "code",
   "execution_count": 1,
   "metadata": {},
   "outputs": [],
   "source": [
    "### PLOT SENSORS !"
   ]
  },
  {
   "cell_type": "markdown",
   "metadata": {
    "id": "NVzUKZlYEOly"
   },
   "source": [
    "**Note** The location of sensors was optimized to cover all\n",
    "significant feature of “Movida” area:\n",
    "one in a very crowded square (S_03, not active in\n",
    "daytime), three in narrow streets with pubs and\n",
    "bars (S_01, S_04, S_05), one in a boulevard for\n",
    "traffic noise measurement (S_06) and the last one\n",
    "in a quieter area with no crowd and low traffic\n",
    "(S_02), for global reference. The choice of points\n",
    "of installation was driven also by the power\n",
    "supply, so light poles, public offices and bike\n",
    "sharing station where preferred.\n",
    "\n",
    "Source: https://wdl-data.fra1.digitaloceanspaces.com/torino/120_Euronoise2018.pdf"
   ]
  },
  {
   "cell_type": "code",
   "execution_count": 67,
   "metadata": {
    "colab": {
     "base_uri": "https://localhost:8080/",
     "height": 203
    },
    "id": "amMYhQYmEK-j",
    "outputId": "9b865b77-e98a-44f3-fb62-635a8f2a2e7e"
   },
   "outputs": [
    {
     "data": {
      "text/html": [
       "<div>\n",
       "<style scoped>\n",
       "    .dataframe tbody tr th:only-of-type {\n",
       "        vertical-align: middle;\n",
       "    }\n",
       "\n",
       "    .dataframe tbody tr th {\n",
       "        vertical-align: top;\n",
       "    }\n",
       "\n",
       "    .dataframe thead th {\n",
       "        text-align: right;\n",
       "    }\n",
       "</style>\n",
       "<table border=\"1\" class=\"dataframe\">\n",
       "  <thead>\n",
       "    <tr style=\"text-align: right;\">\n",
       "      <th></th>\n",
       "      <th>Time</th>\n",
       "      <th>No. of Visitors</th>\n",
       "    </tr>\n",
       "  </thead>\n",
       "  <tbody>\n",
       "    <tr>\n",
       "      <th>0</th>\n",
       "      <td>2018-10-24 17:00</td>\n",
       "      <td>47</td>\n",
       "    </tr>\n",
       "    <tr>\n",
       "      <th>1</th>\n",
       "      <td>2018-10-24 18:00</td>\n",
       "      <td>155</td>\n",
       "    </tr>\n",
       "    <tr>\n",
       "      <th>2</th>\n",
       "      <td>2018-10-24 19:00</td>\n",
       "      <td>181</td>\n",
       "    </tr>\n",
       "    <tr>\n",
       "      <th>3</th>\n",
       "      <td>2018-10-24 20:00</td>\n",
       "      <td>211</td>\n",
       "    </tr>\n",
       "    <tr>\n",
       "      <th>4</th>\n",
       "      <td>2018-10-24 21:00</td>\n",
       "      <td>239</td>\n",
       "    </tr>\n",
       "  </tbody>\n",
       "</table>\n",
       "</div>"
      ],
      "text/plain": [
       "               Time  No. of Visitors\n",
       "0  2018-10-24 17:00               47\n",
       "1  2018-10-24 18:00              155\n",
       "2  2018-10-24 19:00              181\n",
       "3  2018-10-24 20:00              211\n",
       "4  2018-10-24 21:00              239"
      ]
     },
     "execution_count": 67,
     "metadata": {
      "tags": []
     },
     "output_type": "execute_result"
    }
   ],
   "source": [
    "df_wifi = pd.read_csv('https://raw.githubusercontent.com/McNickSisto/world_data_league/main/stage_final/data/WIFI%20Count.csv', sep=',')\n",
    "df_wifi.head()"
   ]
  },
  {
   "cell_type": "markdown",
   "metadata": {
    "id": "ZPEwNjDHEZt1"
   },
   "source": [
    "**Note** As you can see, from the data above, we can get an idea of the number of people outside at different hours.Wifi Information gives a detail idea about the number of visitors outside at a particular hour which has some impact on the noise."
   ]
  },
  {
   "cell_type": "code",
   "execution_count": 68,
   "metadata": {
    "colab": {
     "base_uri": "https://localhost:8080/",
     "height": 203
    },
    "id": "cmjrbbHtEWCc",
    "outputId": "bfb758ce-e277-4090-9cbd-01b75c23945f"
   },
   "outputs": [
    {
     "data": {
      "text/html": [
       "<div>\n",
       "<style scoped>\n",
       "    .dataframe tbody tr th:only-of-type {\n",
       "        vertical-align: middle;\n",
       "    }\n",
       "\n",
       "    .dataframe tbody tr th {\n",
       "        vertical-align: top;\n",
       "    }\n",
       "\n",
       "    .dataframe thead th {\n",
       "        text-align: right;\n",
       "    }\n",
       "</style>\n",
       "<table border=\"1\" class=\"dataframe\">\n",
       "  <thead>\n",
       "    <tr style=\"text-align: right;\">\n",
       "      <th></th>\n",
       "      <th>cluster</th>\n",
       "      <th>data_da</th>\n",
       "      <th>data_a</th>\n",
       "      <th>numero_presenze</th>\n",
       "      <th>layer_id</th>\n",
       "      <th>layer_nome</th>\n",
       "      <th>dettaglio(secondi)</th>\n",
       "    </tr>\n",
       "  </thead>\n",
       "  <tbody>\n",
       "    <tr>\n",
       "      <th>0</th>\n",
       "      <td>Presenze</td>\n",
       "      <td>2018-06-10T21:00:00Z</td>\n",
       "      <td>2018-06-10T22:00:00Z</td>\n",
       "      <td>3278</td>\n",
       "      <td>5491d6d2-0c9e-47b7-bfde-c84c632efacc</td>\n",
       "      <td>Area 1</td>\n",
       "      <td>3600</td>\n",
       "    </tr>\n",
       "    <tr>\n",
       "      <th>1</th>\n",
       "      <td>Presenze</td>\n",
       "      <td>2018-06-10T20:00:00Z</td>\n",
       "      <td>2018-06-10T21:00:00Z</td>\n",
       "      <td>3324</td>\n",
       "      <td>5491d6d2-0c9e-47b7-bfde-c84c632efacc</td>\n",
       "      <td>Area 1</td>\n",
       "      <td>3600</td>\n",
       "    </tr>\n",
       "    <tr>\n",
       "      <th>2</th>\n",
       "      <td>Presenze</td>\n",
       "      <td>2018-06-10T19:00:00Z</td>\n",
       "      <td>2018-06-10T20:00:00Z</td>\n",
       "      <td>3318</td>\n",
       "      <td>5491d6d2-0c9e-47b7-bfde-c84c632efacc</td>\n",
       "      <td>Area 1</td>\n",
       "      <td>3600</td>\n",
       "    </tr>\n",
       "    <tr>\n",
       "      <th>3</th>\n",
       "      <td>Presenze</td>\n",
       "      <td>2018-06-10T18:00:00Z</td>\n",
       "      <td>2018-06-10T19:00:00Z</td>\n",
       "      <td>3187</td>\n",
       "      <td>5491d6d2-0c9e-47b7-bfde-c84c632efacc</td>\n",
       "      <td>Area 1</td>\n",
       "      <td>3600</td>\n",
       "    </tr>\n",
       "    <tr>\n",
       "      <th>4</th>\n",
       "      <td>Presenze</td>\n",
       "      <td>2018-06-10T17:00:00Z</td>\n",
       "      <td>2018-06-10T18:00:00Z</td>\n",
       "      <td>2980</td>\n",
       "      <td>5491d6d2-0c9e-47b7-bfde-c84c632efacc</td>\n",
       "      <td>Area 1</td>\n",
       "      <td>3600</td>\n",
       "    </tr>\n",
       "  </tbody>\n",
       "</table>\n",
       "</div>"
      ],
      "text/plain": [
       "    cluster               data_da  ... layer_nome  dettaglio(secondi)\n",
       "0  Presenze  2018-06-10T21:00:00Z  ...     Area 1                3600\n",
       "1  Presenze  2018-06-10T20:00:00Z  ...     Area 1                3600\n",
       "2  Presenze  2018-06-10T19:00:00Z  ...     Area 1                3600\n",
       "3  Presenze  2018-06-10T18:00:00Z  ...     Area 1                3600\n",
       "4  Presenze  2018-06-10T17:00:00Z  ...     Area 1                3600\n",
       "\n",
       "[5 rows x 7 columns]"
      ]
     },
     "execution_count": 68,
     "metadata": {
      "tags": []
     },
     "output_type": "execute_result"
    }
   ],
   "source": [
    "df_sim_june = pd.read_csv('https://raw.githubusercontent.com/McNickSisto/world_data_league/main/stage_final/data/sim_count/SIM_count_04_100618.csv', sep=';', encoding='latin-1')\n",
    "df_sim_june.head()"
   ]
  },
  {
   "cell_type": "code",
   "execution_count": 69,
   "metadata": {
    "colab": {
     "base_uri": "https://localhost:8080/",
     "height": 203
    },
    "id": "p1TTYy-IElri",
    "outputId": "440dab25-6d93-4f7d-93fb-7c0a2d44373d"
   },
   "outputs": [
    {
     "data": {
      "text/html": [
       "<div>\n",
       "<style scoped>\n",
       "    .dataframe tbody tr th:only-of-type {\n",
       "        vertical-align: middle;\n",
       "    }\n",
       "\n",
       "    .dataframe tbody tr th {\n",
       "        vertical-align: top;\n",
       "    }\n",
       "\n",
       "    .dataframe thead th {\n",
       "        text-align: right;\n",
       "    }\n",
       "</style>\n",
       "<table border=\"1\" class=\"dataframe\">\n",
       "  <thead>\n",
       "    <tr style=\"text-align: right;\">\n",
       "      <th></th>\n",
       "      <th>cluster</th>\n",
       "      <th>data_da</th>\n",
       "      <th>data_a</th>\n",
       "      <th>numero_presenze</th>\n",
       "      <th>layer_id</th>\n",
       "      <th>layer_nome</th>\n",
       "      <th>dettaglio(secondi)</th>\n",
       "    </tr>\n",
       "  </thead>\n",
       "  <tbody>\n",
       "    <tr>\n",
       "      <th>0</th>\n",
       "      <td>Presenze</td>\n",
       "      <td>2018-01-21T22:00:00Z</td>\n",
       "      <td>2018-01-21T23:00:00Z</td>\n",
       "      <td>3026</td>\n",
       "      <td>5491d6d2-0c9e-47b7-bfde-c84c632efacc</td>\n",
       "      <td>Area 1</td>\n",
       "      <td>3600</td>\n",
       "    </tr>\n",
       "    <tr>\n",
       "      <th>1</th>\n",
       "      <td>Presenze</td>\n",
       "      <td>2018-01-21T21:00:00Z</td>\n",
       "      <td>2018-01-21T22:00:00Z</td>\n",
       "      <td>3088</td>\n",
       "      <td>5491d6d2-0c9e-47b7-bfde-c84c632efacc</td>\n",
       "      <td>Area 1</td>\n",
       "      <td>3600</td>\n",
       "    </tr>\n",
       "    <tr>\n",
       "      <th>2</th>\n",
       "      <td>Presenze</td>\n",
       "      <td>2018-01-21T20:00:00Z</td>\n",
       "      <td>2018-01-21T21:00:00Z</td>\n",
       "      <td>3119</td>\n",
       "      <td>5491d6d2-0c9e-47b7-bfde-c84c632efacc</td>\n",
       "      <td>Area 1</td>\n",
       "      <td>3600</td>\n",
       "    </tr>\n",
       "    <tr>\n",
       "      <th>3</th>\n",
       "      <td>Presenze</td>\n",
       "      <td>2018-01-21T19:00:00Z</td>\n",
       "      <td>2018-01-21T20:00:00Z</td>\n",
       "      <td>3114</td>\n",
       "      <td>5491d6d2-0c9e-47b7-bfde-c84c632efacc</td>\n",
       "      <td>Area 1</td>\n",
       "      <td>3600</td>\n",
       "    </tr>\n",
       "    <tr>\n",
       "      <th>4</th>\n",
       "      <td>Presenze</td>\n",
       "      <td>2018-01-21T18:00:00Z</td>\n",
       "      <td>2018-01-21T19:00:00Z</td>\n",
       "      <td>2991</td>\n",
       "      <td>5491d6d2-0c9e-47b7-bfde-c84c632efacc</td>\n",
       "      <td>Area 1</td>\n",
       "      <td>3600</td>\n",
       "    </tr>\n",
       "  </tbody>\n",
       "</table>\n",
       "</div>"
      ],
      "text/plain": [
       "    cluster               data_da  ... layer_nome  dettaglio(secondi)\n",
       "0  Presenze  2018-01-21T22:00:00Z  ...     Area 1                3600\n",
       "1  Presenze  2018-01-21T21:00:00Z  ...     Area 1                3600\n",
       "2  Presenze  2018-01-21T20:00:00Z  ...     Area 1                3600\n",
       "3  Presenze  2018-01-21T19:00:00Z  ...     Area 1                3600\n",
       "4  Presenze  2018-01-21T18:00:00Z  ...     Area 1                3600\n",
       "\n",
       "[5 rows x 7 columns]"
      ]
     },
     "execution_count": 69,
     "metadata": {
      "tags": []
     },
     "output_type": "execute_result"
    }
   ],
   "source": [
    "df_sim_jan = pd.read_csv('https://raw.githubusercontent.com/McNickSisto/world_data_league/main/stage_final/data/sim_count/SIM_count_15_210118.csv', sep=';', encoding='latin-1')\n",
    "df_sim_jan.head()"
   ]
  },
  {
   "cell_type": "code",
   "execution_count": 70,
   "metadata": {
    "colab": {
     "base_uri": "https://localhost:8080/",
     "height": 203
    },
    "id": "Fl0EChz7Epir",
    "outputId": "9b10067d-44fb-4fad-95b4-b6b3dc7f7532"
   },
   "outputs": [
    {
     "data": {
      "text/html": [
       "<div>\n",
       "<style scoped>\n",
       "    .dataframe tbody tr th:only-of-type {\n",
       "        vertical-align: middle;\n",
       "    }\n",
       "\n",
       "    .dataframe tbody tr th {\n",
       "        vertical-align: top;\n",
       "    }\n",
       "\n",
       "    .dataframe thead th {\n",
       "        text-align: right;\n",
       "    }\n",
       "</style>\n",
       "<table border=\"1\" class=\"dataframe\">\n",
       "  <thead>\n",
       "    <tr style=\"text-align: right;\">\n",
       "      <th></th>\n",
       "      <th>cluster</th>\n",
       "      <th>data_da</th>\n",
       "      <th>data_a</th>\n",
       "      <th>numero_presenze</th>\n",
       "      <th>layer_id</th>\n",
       "      <th>layer_nome</th>\n",
       "      <th>dettaglio(secondi)</th>\n",
       "    </tr>\n",
       "  </thead>\n",
       "  <tbody>\n",
       "    <tr>\n",
       "      <th>0</th>\n",
       "      <td>Presenze</td>\n",
       "      <td>2018-03-25T21:00:00Z</td>\n",
       "      <td>2018-03-25T22:00:00Z</td>\n",
       "      <td>3267</td>\n",
       "      <td>5491d6d2-0c9e-47b7-bfde-c84c632efacc</td>\n",
       "      <td>Area 1</td>\n",
       "      <td>3600</td>\n",
       "    </tr>\n",
       "    <tr>\n",
       "      <th>1</th>\n",
       "      <td>Presenze</td>\n",
       "      <td>2018-03-25T20:00:00Z</td>\n",
       "      <td>2018-03-25T21:00:00Z</td>\n",
       "      <td>3373</td>\n",
       "      <td>5491d6d2-0c9e-47b7-bfde-c84c632efacc</td>\n",
       "      <td>Area 1</td>\n",
       "      <td>3600</td>\n",
       "    </tr>\n",
       "    <tr>\n",
       "      <th>2</th>\n",
       "      <td>Presenze</td>\n",
       "      <td>2018-03-25T19:00:00Z</td>\n",
       "      <td>2018-03-25T20:00:00Z</td>\n",
       "      <td>3410</td>\n",
       "      <td>5491d6d2-0c9e-47b7-bfde-c84c632efacc</td>\n",
       "      <td>Area 1</td>\n",
       "      <td>3600</td>\n",
       "    </tr>\n",
       "    <tr>\n",
       "      <th>3</th>\n",
       "      <td>Presenze</td>\n",
       "      <td>2018-03-25T18:00:00Z</td>\n",
       "      <td>2018-03-25T19:00:00Z</td>\n",
       "      <td>3358</td>\n",
       "      <td>5491d6d2-0c9e-47b7-bfde-c84c632efacc</td>\n",
       "      <td>Area 1</td>\n",
       "      <td>3600</td>\n",
       "    </tr>\n",
       "    <tr>\n",
       "      <th>4</th>\n",
       "      <td>Presenze</td>\n",
       "      <td>2018-03-25T17:00:00Z</td>\n",
       "      <td>2018-03-25T18:00:00Z</td>\n",
       "      <td>3229</td>\n",
       "      <td>5491d6d2-0c9e-47b7-bfde-c84c632efacc</td>\n",
       "      <td>Area 1</td>\n",
       "      <td>3600</td>\n",
       "    </tr>\n",
       "  </tbody>\n",
       "</table>\n",
       "</div>"
      ],
      "text/plain": [
       "    cluster               data_da  ... layer_nome  dettaglio(secondi)\n",
       "0  Presenze  2018-03-25T21:00:00Z  ...     Area 1                3600\n",
       "1  Presenze  2018-03-25T20:00:00Z  ...     Area 1                3600\n",
       "2  Presenze  2018-03-25T19:00:00Z  ...     Area 1                3600\n",
       "3  Presenze  2018-03-25T18:00:00Z  ...     Area 1                3600\n",
       "4  Presenze  2018-03-25T17:00:00Z  ...     Area 1                3600\n",
       "\n",
       "[5 rows x 7 columns]"
      ]
     },
     "execution_count": 70,
     "metadata": {
      "tags": []
     },
     "output_type": "execute_result"
    }
   ],
   "source": [
    "df_sim_march = pd.read_csv('https://raw.githubusercontent.com/McNickSisto/world_data_league/main/stage_final/data/sim_count/SIM_count_19_250318.csv', sep=';', encoding='latin-1')\n",
    "df_sim_march.head()"
   ]
  },
  {
   "cell_type": "code",
   "execution_count": 71,
   "metadata": {
    "colab": {
     "base_uri": "https://localhost:8080/",
     "height": 203
    },
    "id": "VZL1bvxnEtiu",
    "outputId": "c6856db7-b22c-4874-82e0-8d29e0355fc3"
   },
   "outputs": [
    {
     "data": {
      "text/html": [
       "<div>\n",
       "<style scoped>\n",
       "    .dataframe tbody tr th:only-of-type {\n",
       "        vertical-align: middle;\n",
       "    }\n",
       "\n",
       "    .dataframe tbody tr th {\n",
       "        vertical-align: top;\n",
       "    }\n",
       "\n",
       "    .dataframe thead th {\n",
       "        text-align: right;\n",
       "    }\n",
       "</style>\n",
       "<table border=\"1\" class=\"dataframe\">\n",
       "  <thead>\n",
       "    <tr style=\"text-align: right;\">\n",
       "      <th></th>\n",
       "      <th>index</th>\n",
       "      <th>cluster</th>\n",
       "      <th>data_da</th>\n",
       "      <th>data_a</th>\n",
       "      <th>numero_presenze</th>\n",
       "      <th>layer_id</th>\n",
       "      <th>layer_nome</th>\n",
       "      <th>dettaglio(secondi)</th>\n",
       "    </tr>\n",
       "  </thead>\n",
       "  <tbody>\n",
       "    <tr>\n",
       "      <th>0</th>\n",
       "      <td>0</td>\n",
       "      <td>Presenze</td>\n",
       "      <td>2018-01-21T22:00:00Z</td>\n",
       "      <td>2018-01-21T23:00:00Z</td>\n",
       "      <td>3026</td>\n",
       "      <td>5491d6d2-0c9e-47b7-bfde-c84c632efacc</td>\n",
       "      <td>Area 1</td>\n",
       "      <td>3600</td>\n",
       "    </tr>\n",
       "    <tr>\n",
       "      <th>1</th>\n",
       "      <td>1</td>\n",
       "      <td>Presenze</td>\n",
       "      <td>2018-01-21T21:00:00Z</td>\n",
       "      <td>2018-01-21T22:00:00Z</td>\n",
       "      <td>3088</td>\n",
       "      <td>5491d6d2-0c9e-47b7-bfde-c84c632efacc</td>\n",
       "      <td>Area 1</td>\n",
       "      <td>3600</td>\n",
       "    </tr>\n",
       "    <tr>\n",
       "      <th>2</th>\n",
       "      <td>2</td>\n",
       "      <td>Presenze</td>\n",
       "      <td>2018-01-21T20:00:00Z</td>\n",
       "      <td>2018-01-21T21:00:00Z</td>\n",
       "      <td>3119</td>\n",
       "      <td>5491d6d2-0c9e-47b7-bfde-c84c632efacc</td>\n",
       "      <td>Area 1</td>\n",
       "      <td>3600</td>\n",
       "    </tr>\n",
       "    <tr>\n",
       "      <th>3</th>\n",
       "      <td>3</td>\n",
       "      <td>Presenze</td>\n",
       "      <td>2018-01-21T19:00:00Z</td>\n",
       "      <td>2018-01-21T20:00:00Z</td>\n",
       "      <td>3114</td>\n",
       "      <td>5491d6d2-0c9e-47b7-bfde-c84c632efacc</td>\n",
       "      <td>Area 1</td>\n",
       "      <td>3600</td>\n",
       "    </tr>\n",
       "    <tr>\n",
       "      <th>4</th>\n",
       "      <td>4</td>\n",
       "      <td>Presenze</td>\n",
       "      <td>2018-01-21T18:00:00Z</td>\n",
       "      <td>2018-01-21T19:00:00Z</td>\n",
       "      <td>2991</td>\n",
       "      <td>5491d6d2-0c9e-47b7-bfde-c84c632efacc</td>\n",
       "      <td>Area 1</td>\n",
       "      <td>3600</td>\n",
       "    </tr>\n",
       "  </tbody>\n",
       "</table>\n",
       "</div>"
      ],
      "text/plain": [
       "   index   cluster  ... layer_nome dettaglio(secondi)\n",
       "0      0  Presenze  ...     Area 1               3600\n",
       "1      1  Presenze  ...     Area 1               3600\n",
       "2      2  Presenze  ...     Area 1               3600\n",
       "3      3  Presenze  ...     Area 1               3600\n",
       "4      4  Presenze  ...     Area 1               3600\n",
       "\n",
       "[5 rows x 8 columns]"
      ]
     },
     "execution_count": 71,
     "metadata": {
      "tags": []
     },
     "output_type": "execute_result"
    }
   ],
   "source": [
    "df_sim_all = pd.concat([df_sim_jan, df_sim_march, df_sim_june], axis=0)\n",
    "df_sim_all.reset_index(inplace=True)\n",
    "df_sim_all.head()"
   ]
  },
  {
   "cell_type": "code",
   "execution_count": 72,
   "metadata": {
    "colab": {
     "base_uri": "https://localhost:8080/",
     "height": 234
    },
    "id": "1zcM-Vl9FMDy",
    "outputId": "785809c3-4511-4dff-fb0e-6770144b8473"
   },
   "outputs": [
    {
     "data": {
      "text/html": [
       "<div>\n",
       "<style scoped>\n",
       "    .dataframe tbody tr th:only-of-type {\n",
       "        vertical-align: middle;\n",
       "    }\n",
       "\n",
       "    .dataframe tbody tr th {\n",
       "        vertical-align: top;\n",
       "    }\n",
       "\n",
       "    .dataframe thead th {\n",
       "        text-align: right;\n",
       "    }\n",
       "</style>\n",
       "<table border=\"1\" class=\"dataframe\">\n",
       "  <thead>\n",
       "    <tr style=\"text-align: right;\">\n",
       "      <th></th>\n",
       "      <th>index</th>\n",
       "      <th>numero_presenze</th>\n",
       "      <th>dettaglio(secondi)</th>\n",
       "    </tr>\n",
       "    <tr>\n",
       "      <th>data_a</th>\n",
       "      <th></th>\n",
       "      <th></th>\n",
       "      <th></th>\n",
       "    </tr>\n",
       "  </thead>\n",
       "  <tbody>\n",
       "    <tr>\n",
       "      <th>2018-01-15T00:00:00Z</th>\n",
       "      <td>28710</td>\n",
       "      <td>17827</td>\n",
       "      <td>64800</td>\n",
       "    </tr>\n",
       "    <tr>\n",
       "      <th>2018-01-15T01:00:00Z</th>\n",
       "      <td>28692</td>\n",
       "      <td>17640</td>\n",
       "      <td>64800</td>\n",
       "    </tr>\n",
       "    <tr>\n",
       "      <th>2018-01-15T02:00:00Z</th>\n",
       "      <td>28674</td>\n",
       "      <td>17476</td>\n",
       "      <td>64800</td>\n",
       "    </tr>\n",
       "    <tr>\n",
       "      <th>2018-01-15T03:00:00Z</th>\n",
       "      <td>28656</td>\n",
       "      <td>17340</td>\n",
       "      <td>64800</td>\n",
       "    </tr>\n",
       "    <tr>\n",
       "      <th>2018-01-15T04:00:00Z</th>\n",
       "      <td>28638</td>\n",
       "      <td>17215</td>\n",
       "      <td>64800</td>\n",
       "    </tr>\n",
       "  </tbody>\n",
       "</table>\n",
       "</div>"
      ],
      "text/plain": [
       "                      index  numero_presenze  dettaglio(secondi)\n",
       "data_a                                                          \n",
       "2018-01-15T00:00:00Z  28710            17827               64800\n",
       "2018-01-15T01:00:00Z  28692            17640               64800\n",
       "2018-01-15T02:00:00Z  28674            17476               64800\n",
       "2018-01-15T03:00:00Z  28656            17340               64800\n",
       "2018-01-15T04:00:00Z  28638            17215               64800"
      ]
     },
     "execution_count": 72,
     "metadata": {
      "tags": []
     },
     "output_type": "execute_result"
    }
   ],
   "source": [
    "df_sim_all=df_sim_all.groupby(by='data_a').sum()\n",
    "df_sim_all.head()"
   ]
  },
  {
   "cell_type": "code",
   "execution_count": 73,
   "metadata": {
    "colab": {
     "base_uri": "https://localhost:8080/",
     "height": 203
    },
    "id": "mvzedUVOG478",
    "outputId": "23c9ece0-e12c-4af1-a94f-cbe32de04194"
   },
   "outputs": [
    {
     "data": {
      "text/html": [
       "<div>\n",
       "<style scoped>\n",
       "    .dataframe tbody tr th:only-of-type {\n",
       "        vertical-align: middle;\n",
       "    }\n",
       "\n",
       "    .dataframe tbody tr th {\n",
       "        vertical-align: top;\n",
       "    }\n",
       "\n",
       "    .dataframe thead th {\n",
       "        text-align: right;\n",
       "    }\n",
       "</style>\n",
       "<table border=\"1\" class=\"dataframe\">\n",
       "  <thead>\n",
       "    <tr style=\"text-align: right;\">\n",
       "      <th></th>\n",
       "      <th>data_a</th>\n",
       "      <th>index</th>\n",
       "      <th>numero_presenze</th>\n",
       "      <th>dettaglio(secondi)</th>\n",
       "    </tr>\n",
       "  </thead>\n",
       "  <tbody>\n",
       "    <tr>\n",
       "      <th>0</th>\n",
       "      <td>2018-01-15T00:00:00Z</td>\n",
       "      <td>28710</td>\n",
       "      <td>17827</td>\n",
       "      <td>64800</td>\n",
       "    </tr>\n",
       "    <tr>\n",
       "      <th>1</th>\n",
       "      <td>2018-01-15T01:00:00Z</td>\n",
       "      <td>28692</td>\n",
       "      <td>17640</td>\n",
       "      <td>64800</td>\n",
       "    </tr>\n",
       "    <tr>\n",
       "      <th>2</th>\n",
       "      <td>2018-01-15T02:00:00Z</td>\n",
       "      <td>28674</td>\n",
       "      <td>17476</td>\n",
       "      <td>64800</td>\n",
       "    </tr>\n",
       "    <tr>\n",
       "      <th>3</th>\n",
       "      <td>2018-01-15T03:00:00Z</td>\n",
       "      <td>28656</td>\n",
       "      <td>17340</td>\n",
       "      <td>64800</td>\n",
       "    </tr>\n",
       "    <tr>\n",
       "      <th>4</th>\n",
       "      <td>2018-01-15T04:00:00Z</td>\n",
       "      <td>28638</td>\n",
       "      <td>17215</td>\n",
       "      <td>64800</td>\n",
       "    </tr>\n",
       "  </tbody>\n",
       "</table>\n",
       "</div>"
      ],
      "text/plain": [
       "                 data_a  index  numero_presenze  dettaglio(secondi)\n",
       "0  2018-01-15T00:00:00Z  28710            17827               64800\n",
       "1  2018-01-15T01:00:00Z  28692            17640               64800\n",
       "2  2018-01-15T02:00:00Z  28674            17476               64800\n",
       "3  2018-01-15T03:00:00Z  28656            17340               64800\n",
       "4  2018-01-15T04:00:00Z  28638            17215               64800"
      ]
     },
     "execution_count": 73,
     "metadata": {
      "tags": []
     },
     "output_type": "execute_result"
    }
   ],
   "source": [
    "df_sim_all=df_sim_all.reset_index()\n",
    "df_sim_all.head()"
   ]
  },
  {
   "cell_type": "markdown",
   "metadata": {
    "id": "zGcrlVScGJ-c"
   },
   "source": [
    "**Note** Another possibility to estimate the number of people outside at certain hours is the SIM card dataframes. What it highlights is the presence of certain SIM card users at different hours of the day. We have access to SIM card data of 2018 for January, March and June."
   ]
  },
  {
   "cell_type": "code",
   "execution_count": 74,
   "metadata": {
    "colab": {
     "base_uri": "https://localhost:8080/",
     "height": 203
    },
    "id": "h3xRANm1GHtA",
    "outputId": "a9a671a9-ad6d-4d3d-86ce-925f0dc3ad83"
   },
   "outputs": [
    {
     "data": {
      "text/html": [
       "<div>\n",
       "<style scoped>\n",
       "    .dataframe tbody tr th:only-of-type {\n",
       "        vertical-align: middle;\n",
       "    }\n",
       "\n",
       "    .dataframe tbody tr th {\n",
       "        vertical-align: top;\n",
       "    }\n",
       "\n",
       "    .dataframe thead th {\n",
       "        text-align: right;\n",
       "    }\n",
       "</style>\n",
       "<table border=\"1\" class=\"dataframe\">\n",
       "  <thead>\n",
       "    <tr style=\"text-align: right;\">\n",
       "      <th></th>\n",
       "      <th>Data</th>\n",
       "      <th>Ora</th>\n",
       "      <th>C1</th>\n",
       "      <th>C2</th>\n",
       "      <th>C3</th>\n",
       "      <th>C4</th>\n",
       "      <th>C5</th>\n",
       "    </tr>\n",
       "  </thead>\n",
       "  <tbody>\n",
       "    <tr>\n",
       "      <th>0</th>\n",
       "      <td>01-01-2018</td>\n",
       "      <td>00:00</td>\n",
       "      <td>68,7</td>\n",
       "      <td>NaN</td>\n",
       "      <td>76,0</td>\n",
       "      <td>NaN</td>\n",
       "      <td>66,6</td>\n",
       "    </tr>\n",
       "    <tr>\n",
       "      <th>1</th>\n",
       "      <td>01-01-2018</td>\n",
       "      <td>01:00</td>\n",
       "      <td>68,3</td>\n",
       "      <td>NaN</td>\n",
       "      <td>68,2</td>\n",
       "      <td>NaN</td>\n",
       "      <td>65,4</td>\n",
       "    </tr>\n",
       "    <tr>\n",
       "      <th>2</th>\n",
       "      <td>01-01-2018</td>\n",
       "      <td>02:00</td>\n",
       "      <td>59,8</td>\n",
       "      <td>NaN</td>\n",
       "      <td>64,4</td>\n",
       "      <td>NaN</td>\n",
       "      <td>64,4</td>\n",
       "    </tr>\n",
       "    <tr>\n",
       "      <th>3</th>\n",
       "      <td>01-01-2018</td>\n",
       "      <td>03:00</td>\n",
       "      <td>67,4</td>\n",
       "      <td>NaN</td>\n",
       "      <td>67,5</td>\n",
       "      <td>NaN</td>\n",
       "      <td>61,8</td>\n",
       "    </tr>\n",
       "    <tr>\n",
       "      <th>4</th>\n",
       "      <td>01-01-2018</td>\n",
       "      <td>04:00</td>\n",
       "      <td>68,0</td>\n",
       "      <td>NaN</td>\n",
       "      <td>64,5</td>\n",
       "      <td>NaN</td>\n",
       "      <td>60,5</td>\n",
       "    </tr>\n",
       "  </tbody>\n",
       "</table>\n",
       "</div>"
      ],
      "text/plain": [
       "         Data    Ora    C1   C2    C3   C4    C5\n",
       "0  01-01-2018  00:00  68,7  NaN  76,0  NaN  66,6\n",
       "1  01-01-2018  01:00  68,3  NaN  68,2  NaN  65,4\n",
       "2  01-01-2018  02:00  59,8  NaN  64,4  NaN  64,4\n",
       "3  01-01-2018  03:00  67,4  NaN  67,5  NaN  61,8\n",
       "4  01-01-2018  04:00  68,0  NaN  64,5  NaN  60,5"
      ]
     },
     "execution_count": 74,
     "metadata": {
      "tags": []
     },
     "output_type": "execute_result"
    }
   ],
   "source": [
    "df_noise_2018 = pd.read_csv('https://raw.githubusercontent.com/McNickSisto/world_data_league/main/stage_final/data/noise_data/Noise_Data_2018.csv')\n",
    "df_noise_2018=df_noise_2018.drop(columns='Unnamed: 0')\n",
    "df_noise_2018.astype('str')\n",
    "df_noise_2018.head()"
   ]
  },
  {
   "cell_type": "code",
   "execution_count": 75,
   "metadata": {
    "colab": {
     "base_uri": "https://localhost:8080/",
     "height": 110
    },
    "id": "q9sGi0MeGN3i",
    "outputId": "4229cbe7-0d28-495a-f1b6-9509bc8b4af2"
   },
   "outputs": [
    {
     "data": {
      "text/html": [
       "<div>\n",
       "<style scoped>\n",
       "    .dataframe tbody tr th:only-of-type {\n",
       "        vertical-align: middle;\n",
       "    }\n",
       "\n",
       "    .dataframe tbody tr th {\n",
       "        vertical-align: top;\n",
       "    }\n",
       "\n",
       "    .dataframe thead th {\n",
       "        text-align: right;\n",
       "    }\n",
       "</style>\n",
       "<table border=\"1\" class=\"dataframe\">\n",
       "  <thead>\n",
       "    <tr style=\"text-align: right;\">\n",
       "      <th></th>\n",
       "      <th>Data</th>\n",
       "      <th>Ora</th>\n",
       "      <th>C1</th>\n",
       "      <th>C2</th>\n",
       "      <th>C3</th>\n",
       "      <th>C4</th>\n",
       "      <th>C5</th>\n",
       "      <th>date_hour</th>\n",
       "    </tr>\n",
       "  </thead>\n",
       "  <tbody>\n",
       "    <tr>\n",
       "      <th>0</th>\n",
       "      <td>01-01-2018</td>\n",
       "      <td>00:00</td>\n",
       "      <td>68,7</td>\n",
       "      <td>NaN</td>\n",
       "      <td>76,0</td>\n",
       "      <td>NaN</td>\n",
       "      <td>66,6</td>\n",
       "      <td>2018-01-01 00:00:00</td>\n",
       "    </tr>\n",
       "    <tr>\n",
       "      <th>1</th>\n",
       "      <td>01-01-2018</td>\n",
       "      <td>01:00</td>\n",
       "      <td>68,3</td>\n",
       "      <td>NaN</td>\n",
       "      <td>68,2</td>\n",
       "      <td>NaN</td>\n",
       "      <td>65,4</td>\n",
       "      <td>2018-01-01 01:00:00</td>\n",
       "    </tr>\n",
       "  </tbody>\n",
       "</table>\n",
       "</div>"
      ],
      "text/plain": [
       "         Data    Ora    C1   C2    C3   C4    C5           date_hour\n",
       "0  01-01-2018  00:00  68,7  NaN  76,0  NaN  66,6 2018-01-01 00:00:00\n",
       "1  01-01-2018  01:00  68,3  NaN  68,2  NaN  65,4 2018-01-01 01:00:00"
      ]
     },
     "execution_count": 75,
     "metadata": {
      "tags": []
     },
     "output_type": "execute_result"
    }
   ],
   "source": [
    "df_noise_2018['date_hour'] = df_noise_2018['Data'] + ' ' + df_noise_2018['Ora']\n",
    "df_noise_2018['date_hour'] = pd.to_datetime(df_noise_2018['date_hour'])\n",
    "df_noise_2018.head(2)"
   ]
  },
  {
   "cell_type": "markdown",
   "metadata": {
    "id": "kevEEMz_HRG-"
   },
   "source": [
    "**Note** The noise data is records of noice measurements using 5 different sensors spread in the San Salvario region on an hourly basis. We will use this data as our target in our time series measurements. "
   ]
  },
  {
   "cell_type": "markdown",
   "metadata": {
    "id": "-Ti2QQWbHUpt"
   },
   "source": [
    "**Preprocessing Noise Data**\n",
    "\n",
    "\n",
    "1.   TypeCasting the data values to required format (Converting data and Ora to Date and Hour format)\n",
    "2.   Converting the noise readings into decimal format (68,7 to 68.7 etc)\n",
    "3.   TypeCastig the noise values\n",
    "4.   Imputing the null values based on day and hour\n",
    "5.   Considering the logarithmic mean of all noise reading at each day and hour\n",
    "\n",
    "\n",
    "\n"
   ]
  },
  {
   "cell_type": "code",
   "execution_count": 76,
   "metadata": {
    "colab": {
     "base_uri": "https://localhost:8080/",
     "height": 110
    },
    "id": "kB8zUBW6GhVv",
    "outputId": "22d38cf5-b25f-4735-dd3c-5c69c74f6197"
   },
   "outputs": [
    {
     "data": {
      "text/html": [
       "<div>\n",
       "<style scoped>\n",
       "    .dataframe tbody tr th:only-of-type {\n",
       "        vertical-align: middle;\n",
       "    }\n",
       "\n",
       "    .dataframe tbody tr th {\n",
       "        vertical-align: top;\n",
       "    }\n",
       "\n",
       "    .dataframe thead th {\n",
       "        text-align: right;\n",
       "    }\n",
       "</style>\n",
       "<table border=\"1\" class=\"dataframe\">\n",
       "  <thead>\n",
       "    <tr style=\"text-align: right;\">\n",
       "      <th></th>\n",
       "      <th>Data</th>\n",
       "      <th>Ora</th>\n",
       "      <th>C1</th>\n",
       "      <th>C2</th>\n",
       "      <th>C3</th>\n",
       "      <th>C4</th>\n",
       "      <th>C5</th>\n",
       "      <th>date_hour</th>\n",
       "    </tr>\n",
       "  </thead>\n",
       "  <tbody>\n",
       "    <tr>\n",
       "      <th>0</th>\n",
       "      <td>2018-01-01</td>\n",
       "      <td>0</td>\n",
       "      <td>68.7</td>\n",
       "      <td>nan</td>\n",
       "      <td>76.0</td>\n",
       "      <td>nan</td>\n",
       "      <td>66.6</td>\n",
       "      <td>2018-01-01 00:00:00</td>\n",
       "    </tr>\n",
       "    <tr>\n",
       "      <th>1</th>\n",
       "      <td>2018-01-01</td>\n",
       "      <td>1</td>\n",
       "      <td>68.3</td>\n",
       "      <td>nan</td>\n",
       "      <td>68.2</td>\n",
       "      <td>nan</td>\n",
       "      <td>65.4</td>\n",
       "      <td>2018-01-01 01:00:00</td>\n",
       "    </tr>\n",
       "  </tbody>\n",
       "</table>\n",
       "</div>"
      ],
      "text/plain": [
       "        Data  Ora    C1   C2    C3   C4    C5           date_hour\n",
       "0 2018-01-01    0  68.7  nan  76.0  nan  66.6 2018-01-01 00:00:00\n",
       "1 2018-01-01    1  68.3  nan  68.2  nan  65.4 2018-01-01 01:00:00"
      ]
     },
     "execution_count": 76,
     "metadata": {
      "tags": []
     },
     "output_type": "execute_result"
    }
   ],
   "source": [
    "#Typecasting the data\n",
    "df_noise_2018['Ora']=pd.to_datetime(df_noise_2018['Ora']).dt.hour        #Changing the hour format\n",
    "df_noise_2018['Data']=pd.to_datetime(df_noise_2018['Data'])     #Changing the date format\n",
    "#Converting the noise readings into decimal format\n",
    "df_noise_2018['C1']=df_noise_2018['C1'].apply(lambda x: str(x).replace(',','.'))\n",
    "df_noise_2018['C2']=df_noise_2018['C2'].apply(lambda x: str(x).replace(',','.'))\n",
    "df_noise_2018['C3']=df_noise_2018['C3'].apply(lambda x: str(x).replace(',','.'))\n",
    "df_noise_2018['C4']=df_noise_2018['C4'].apply(lambda x: str(x).replace(',','.'))\n",
    "df_noise_2018['C5']=df_noise_2018['C5'].apply(lambda x: str(x).replace(',','.'))\n",
    "df_noise_2018.head(2)"
   ]
  },
  {
   "cell_type": "code",
   "execution_count": 77,
   "metadata": {
    "id": "f_EvtEvmHb7b"
   },
   "outputs": [],
   "source": [
    "#Conerting the noise reading to float values\n",
    "df_noise_2018['C1']=df_noise_2018['C1'].apply(lambda x: float(x))\n",
    "df_noise_2018['C2']=df_noise_2018['C2'].apply(lambda x: float(x))\n",
    "df_noise_2018['C3']=df_noise_2018['C3'].apply(lambda x: float(x))\n",
    "df_noise_2018['C4']=df_noise_2018['C4'].apply(lambda x: float(x))\n",
    "df_noise_2018['C5']=df_noise_2018['C5'].apply(lambda x: float(x))"
   ]
  },
  {
   "cell_type": "code",
   "execution_count": 78,
   "metadata": {
    "id": "eHPzDUSUHc1r"
   },
   "outputs": [],
   "source": [
    "#Adding day value like Monday as 0, Tuseday as 1 etc to the noise data based on date\n",
    "df_noise_2018['day']=df_noise_2018['Data'].dt.dayofweek"
   ]
  },
  {
   "cell_type": "markdown",
   "metadata": {
    "id": "1EkNZ8LTHaVu"
   },
   "source": [
    "The missing values are filled with respective to particular day and hour. For instance to fill the null value of saturday at 1:00, mean of all the saturdays at 1:00 hour is considered"
   ]
  },
  {
   "cell_type": "code",
   "execution_count": 79,
   "metadata": {
    "colab": {
     "base_uri": "https://localhost:8080/"
    },
    "id": "m4rztL78HkwC",
    "outputId": "1344fa0c-4502-42c3-fab8-b1c4a74387e8"
   },
   "outputs": [
    {
     "data": {
      "text/plain": [
       "Data         0\n",
       "Ora          0\n",
       "C1           0\n",
       "C2           0\n",
       "C3           0\n",
       "C4           0\n",
       "C5           0\n",
       "date_hour    0\n",
       "day          0\n",
       "dtype: int64"
      ]
     },
     "execution_count": 79,
     "metadata": {
      "tags": []
     },
     "output_type": "execute_result"
    }
   ],
   "source": [
    "#Fillig the null values considering means on hourly basis\n",
    "df_noise_2018[\"C1\"] = df_noise_2018.groupby([\"Ora\",'day'])['C1'].transform(lambda x: x.fillna(round(x.mean(),1)))\n",
    "df_noise_2018[\"C2\"] = df_noise_2018.groupby([\"Ora\",'day'])['C2'].transform(lambda x: x.fillna(round(x.mean(),1)))\n",
    "df_noise_2018[\"C3\"] = df_noise_2018.groupby([\"Ora\",'day'])['C3'].transform(lambda x: x.fillna(round(x.mean(),1)))\n",
    "df_noise_2018[\"C4\"] = df_noise_2018.groupby([\"Ora\",'day'])['C4'].transform(lambda x: x.fillna(round(x.mean(),1)))\n",
    "df_noise_2018[\"C5\"] = df_noise_2018.groupby([\"Ora\",'day'])['C5'].transform(lambda x: x.fillna(round(x.mean(),1)))\n",
    "#Let's Check if there are any null values after filling\n",
    "df_noise_2018.isnull().sum()"
   ]
  },
  {
   "cell_type": "markdown",
   "metadata": {
    "id": "gzBr3EDBHrUr"
   },
   "source": [
    "Computing logarithimic mean of C1,C2,C3,C4,C5 (all sensors noise readings).\n",
    "\n",
    "**Why logarithmic mean??**\n",
    "Simple averaging can be produced will not represent the level of energy of a record. For example, 45, 46, 48, 43, 78, 79, 71, 33, 55 levels, the simple arithmetic average would be 55.3.\n",
    "\n",
    "But the energy level of noise for 78, 79 and 71 is high compared to other values so this can be solved by considering the logarithmic average.\n",
    "\n",
    "The steps involved in computing the logarithmic average include\n",
    "\n",
    "1.   Divide each value by 10\n",
    "2.   Apply anti log\n",
    "3.   Add all the values\n",
    "4.   Divide by total number of samples\n",
    "5.   base 10 log the number and multiply it by 10\n",
    "\n",
    "\n"
   ]
  },
  {
   "cell_type": "code",
   "execution_count": 80,
   "metadata": {
    "colab": {
     "base_uri": "https://localhost:8080/",
     "height": 110
    },
    "id": "uOH-AiuMHogy",
    "outputId": "bc53990c-94ae-4323-c189-33dac18e23a1"
   },
   "outputs": [
    {
     "data": {
      "text/html": [
       "<div>\n",
       "<style scoped>\n",
       "    .dataframe tbody tr th:only-of-type {\n",
       "        vertical-align: middle;\n",
       "    }\n",
       "\n",
       "    .dataframe tbody tr th {\n",
       "        vertical-align: top;\n",
       "    }\n",
       "\n",
       "    .dataframe thead th {\n",
       "        text-align: right;\n",
       "    }\n",
       "</style>\n",
       "<table border=\"1\" class=\"dataframe\">\n",
       "  <thead>\n",
       "    <tr style=\"text-align: right;\">\n",
       "      <th></th>\n",
       "      <th>Data</th>\n",
       "      <th>Ora</th>\n",
       "      <th>C1</th>\n",
       "      <th>C2</th>\n",
       "      <th>C3</th>\n",
       "      <th>C4</th>\n",
       "      <th>C5</th>\n",
       "      <th>date_hour</th>\n",
       "      <th>day</th>\n",
       "      <th>Log_Avg</th>\n",
       "    </tr>\n",
       "  </thead>\n",
       "  <tbody>\n",
       "    <tr>\n",
       "      <th>0</th>\n",
       "      <td>2018-01-01</td>\n",
       "      <td>0</td>\n",
       "      <td>68.7</td>\n",
       "      <td>56.6</td>\n",
       "      <td>76.0</td>\n",
       "      <td>58.8</td>\n",
       "      <td>66.6</td>\n",
       "      <td>2018-01-01 00:00:00</td>\n",
       "      <td>0</td>\n",
       "      <td>70.253908</td>\n",
       "    </tr>\n",
       "    <tr>\n",
       "      <th>1</th>\n",
       "      <td>2018-01-01</td>\n",
       "      <td>1</td>\n",
       "      <td>68.3</td>\n",
       "      <td>53.6</td>\n",
       "      <td>68.2</td>\n",
       "      <td>55.7</td>\n",
       "      <td>65.4</td>\n",
       "      <td>2018-01-01 01:00:00</td>\n",
       "      <td>0</td>\n",
       "      <td>65.424707</td>\n",
       "    </tr>\n",
       "  </tbody>\n",
       "</table>\n",
       "</div>"
      ],
      "text/plain": [
       "        Data  Ora    C1    C2  ...    C5           date_hour  day    Log_Avg\n",
       "0 2018-01-01    0  68.7  56.6  ...  66.6 2018-01-01 00:00:00    0  70.253908\n",
       "1 2018-01-01    1  68.3  53.6  ...  65.4 2018-01-01 01:00:00    0  65.424707\n",
       "\n",
       "[2 rows x 10 columns]"
      ]
     },
     "execution_count": 80,
     "metadata": {
      "tags": []
     },
     "output_type": "execute_result"
    }
   ],
   "source": [
    "df_noise_2018['Log_Avg']=np.log10(((10**(df_noise_2018['C1']/10))+(10**(df_noise_2018['C2']/10))+(10**(df_noise_2018['C3']/10))+(10**(df_noise_2018['C4']/10))+(10**(df_noise_2018['C5']/10)))/5)*10\n",
    "df_noise_2018.head(2)"
   ]
  },
  {
   "cell_type": "code",
   "execution_count": 81,
   "metadata": {
    "colab": {
     "base_uri": "https://localhost:8080/",
     "height": 203
    },
    "id": "XGk9bES-H081",
    "outputId": "6bc899f5-5019-499b-fea0-06f393fa1a9e"
   },
   "outputs": [
    {
     "data": {
      "text/html": [
       "<div>\n",
       "<style scoped>\n",
       "    .dataframe tbody tr th:only-of-type {\n",
       "        vertical-align: middle;\n",
       "    }\n",
       "\n",
       "    .dataframe tbody tr th {\n",
       "        vertical-align: top;\n",
       "    }\n",
       "\n",
       "    .dataframe thead th {\n",
       "        text-align: right;\n",
       "    }\n",
       "</style>\n",
       "<table border=\"1\" class=\"dataframe\">\n",
       "  <thead>\n",
       "    <tr style=\"text-align: right;\">\n",
       "      <th></th>\n",
       "      <th>final_date</th>\n",
       "      <th>count_complaint</th>\n",
       "    </tr>\n",
       "  </thead>\n",
       "  <tbody>\n",
       "    <tr>\n",
       "      <th>0</th>\n",
       "      <td>2018-01-01 00:00:00</td>\n",
       "      <td>0.0</td>\n",
       "    </tr>\n",
       "    <tr>\n",
       "      <th>1</th>\n",
       "      <td>2018-01-01 01:00:00</td>\n",
       "      <td>0.0</td>\n",
       "    </tr>\n",
       "    <tr>\n",
       "      <th>2</th>\n",
       "      <td>2018-01-01 02:00:00</td>\n",
       "      <td>0.0</td>\n",
       "    </tr>\n",
       "    <tr>\n",
       "      <th>3</th>\n",
       "      <td>2018-01-01 03:00:00</td>\n",
       "      <td>0.0</td>\n",
       "    </tr>\n",
       "    <tr>\n",
       "      <th>4</th>\n",
       "      <td>2018-01-01 04:00:00</td>\n",
       "      <td>0.0</td>\n",
       "    </tr>\n",
       "  </tbody>\n",
       "</table>\n",
       "</div>"
      ],
      "text/plain": [
       "            final_date  count_complaint\n",
       "0  2018-01-01 00:00:00              0.0\n",
       "1  2018-01-01 01:00:00              0.0\n",
       "2  2018-01-01 02:00:00              0.0\n",
       "3  2018-01-01 03:00:00              0.0\n",
       "4  2018-01-01 04:00:00              0.0"
      ]
     },
     "execution_count": 81,
     "metadata": {
      "tags": []
     },
     "output_type": "execute_result"
    }
   ],
   "source": [
    "df_complaints = pd.read_csv('https://raw.githubusercontent.com/McNickSisto/world_data_league/main/stage_final/data/complaints_2018.csv')\n",
    "df_complaints=df_complaints.drop(columns='Unnamed: 0')\n",
    "df_complaints.head()"
   ]
  },
  {
   "cell_type": "markdown",
   "metadata": {
    "id": "SsjRIU9KPa5L"
   },
   "source": [
    "<br><br>\n",
    "See details in [Appendix](#Weather Data)"
   ]
  },
  {
   "cell_type": "code",
   "execution_count": 82,
   "metadata": {
    "colab": {
     "base_uri": "https://localhost:8080/",
     "height": 203
    },
    "id": "abH0dZWjH31D",
    "outputId": "57d5f437-f7c1-41bb-9167-1ec6994dfcb0"
   },
   "outputs": [
    {
     "data": {
      "text/html": [
       "<div>\n",
       "<style scoped>\n",
       "    .dataframe tbody tr th:only-of-type {\n",
       "        vertical-align: middle;\n",
       "    }\n",
       "\n",
       "    .dataframe tbody tr th {\n",
       "        vertical-align: top;\n",
       "    }\n",
       "\n",
       "    .dataframe thead th {\n",
       "        text-align: right;\n",
       "    }\n",
       "</style>\n",
       "<table border=\"1\" class=\"dataframe\">\n",
       "  <thead>\n",
       "    <tr style=\"text-align: right;\">\n",
       "      <th></th>\n",
       "      <th>time</th>\n",
       "      <th>temp</th>\n",
       "      <th>winds</th>\n",
       "      <th>rainfall_mm</th>\n",
       "      <th>snowfall_mm</th>\n",
       "    </tr>\n",
       "  </thead>\n",
       "  <tbody>\n",
       "    <tr>\n",
       "      <th>0</th>\n",
       "      <td>2018-01-01 00:00:00</td>\n",
       "      <td>1.04</td>\n",
       "      <td>0.366667</td>\n",
       "      <td>-0.010</td>\n",
       "      <td>2.600000</td>\n",
       "    </tr>\n",
       "    <tr>\n",
       "      <th>1</th>\n",
       "      <td>2018-01-01 01:00:00</td>\n",
       "      <td>1.09</td>\n",
       "      <td>0.590000</td>\n",
       "      <td>0.009</td>\n",
       "      <td>2.600000</td>\n",
       "    </tr>\n",
       "    <tr>\n",
       "      <th>2</th>\n",
       "      <td>2018-01-01 02:00:00</td>\n",
       "      <td>1.05</td>\n",
       "      <td>0.450000</td>\n",
       "      <td>0.008</td>\n",
       "      <td>2.266667</td>\n",
       "    </tr>\n",
       "    <tr>\n",
       "      <th>3</th>\n",
       "      <td>2018-01-01 03:00:00</td>\n",
       "      <td>0.89</td>\n",
       "      <td>0.400000</td>\n",
       "      <td>0.006</td>\n",
       "      <td>2.266667</td>\n",
       "    </tr>\n",
       "    <tr>\n",
       "      <th>4</th>\n",
       "      <td>2018-01-01 04:00:00</td>\n",
       "      <td>0.73</td>\n",
       "      <td>0.780000</td>\n",
       "      <td>-0.011</td>\n",
       "      <td>2.300000</td>\n",
       "    </tr>\n",
       "  </tbody>\n",
       "</table>\n",
       "</div>"
      ],
      "text/plain": [
       "                  time  temp     winds  rainfall_mm  snowfall_mm\n",
       "0  2018-01-01 00:00:00  1.04  0.366667       -0.010     2.600000\n",
       "1  2018-01-01 01:00:00  1.09  0.590000        0.009     2.600000\n",
       "2  2018-01-01 02:00:00  1.05  0.450000        0.008     2.266667\n",
       "3  2018-01-01 03:00:00  0.89  0.400000        0.006     2.266667\n",
       "4  2018-01-01 04:00:00  0.73  0.780000       -0.011     2.300000"
      ]
     },
     "execution_count": 82,
     "metadata": {
      "tags": []
     },
     "output_type": "execute_result"
    }
   ],
   "source": [
    "df_weather = pd.read_csv(\"https://raw.githubusercontent.com/McNickSisto/world_data_league/main/stage_final/data/all_weather.csv\")\n",
    "df_weather = df_weather.drop(columns = ['Unnamed: 0'])\n",
    "df_weather.head()"
   ]
  },
  {
   "cell_type": "code",
   "execution_count": 83,
   "metadata": {
    "colab": {
     "base_uri": "https://localhost:8080/",
     "height": 203
    },
    "id": "k6U-g_Q-H8MI",
    "outputId": "3ea02765-fd24-4eca-b87f-28f77bd7628a"
   },
   "outputs": [
    {
     "data": {
      "text/html": [
       "<div>\n",
       "<style scoped>\n",
       "    .dataframe tbody tr th:only-of-type {\n",
       "        vertical-align: middle;\n",
       "    }\n",
       "\n",
       "    .dataframe tbody tr th {\n",
       "        vertical-align: top;\n",
       "    }\n",
       "\n",
       "    .dataframe thead th {\n",
       "        text-align: right;\n",
       "    }\n",
       "</style>\n",
       "<table border=\"1\" class=\"dataframe\">\n",
       "  <thead>\n",
       "    <tr style=\"text-align: right;\">\n",
       "      <th></th>\n",
       "      <th>date_hour</th>\n",
       "      <th>isHoliday</th>\n",
       "      <th>Holiday</th>\n",
       "    </tr>\n",
       "  </thead>\n",
       "  <tbody>\n",
       "    <tr>\n",
       "      <th>0</th>\n",
       "      <td>2018-01-01 00:00:00</td>\n",
       "      <td>1</td>\n",
       "      <td>New year's Day</td>\n",
       "    </tr>\n",
       "    <tr>\n",
       "      <th>1</th>\n",
       "      <td>2018-01-01 01:00:00</td>\n",
       "      <td>1</td>\n",
       "      <td>New year's Day</td>\n",
       "    </tr>\n",
       "    <tr>\n",
       "      <th>2</th>\n",
       "      <td>2018-01-01 02:00:00</td>\n",
       "      <td>1</td>\n",
       "      <td>New year's Day</td>\n",
       "    </tr>\n",
       "    <tr>\n",
       "      <th>3</th>\n",
       "      <td>2018-01-01 03:00:00</td>\n",
       "      <td>1</td>\n",
       "      <td>New year's Day</td>\n",
       "    </tr>\n",
       "    <tr>\n",
       "      <th>4</th>\n",
       "      <td>2018-01-01 04:00:00</td>\n",
       "      <td>1</td>\n",
       "      <td>New year's Day</td>\n",
       "    </tr>\n",
       "  </tbody>\n",
       "</table>\n",
       "</div>"
      ],
      "text/plain": [
       "             date_hour  isHoliday         Holiday\n",
       "0  2018-01-01 00:00:00          1  New year's Day\n",
       "1  2018-01-01 01:00:00          1  New year's Day\n",
       "2  2018-01-01 02:00:00          1  New year's Day\n",
       "3  2018-01-01 03:00:00          1  New year's Day\n",
       "4  2018-01-01 04:00:00          1  New year's Day"
      ]
     },
     "execution_count": 83,
     "metadata": {
      "tags": []
     },
     "output_type": "execute_result"
    }
   ],
   "source": [
    "#List of holidays\n",
    "df_holidays = pd.read_csv('https://raw.githubusercontent.com/McNickSisto/world_data_league/main/stage_final/data/holiday_updated.csv')\n",
    "df_holidays=df_holidays.drop(columns='Unnamed: 0')\n",
    "df_holidays.head()"
   ]
  },
  {
   "cell_type": "markdown",
   "metadata": {
    "id": "EIAcSbZ3bAv-"
   },
   "source": [
    "The steps followed for creating the matches data can be seen from **Appendix: Matches Data** part. Due to covid there might be chances of more number of in house matches so we considered both the matches in house as well as the matches in match pad."
   ]
  },
  {
   "cell_type": "code",
   "execution_count": 84,
   "metadata": {
    "colab": {
     "base_uri": "https://localhost:8080/",
     "height": 203
    },
    "id": "BeOiXvIcICSL",
    "outputId": "dfd285bc-8652-43e7-a412-469af0ad43eb"
   },
   "outputs": [
    {
     "data": {
      "text/html": [
       "<div>\n",
       "<style scoped>\n",
       "    .dataframe tbody tr th:only-of-type {\n",
       "        vertical-align: middle;\n",
       "    }\n",
       "\n",
       "    .dataframe tbody tr th {\n",
       "        vertical-align: top;\n",
       "    }\n",
       "\n",
       "    .dataframe thead th {\n",
       "        text-align: right;\n",
       "    }\n",
       "</style>\n",
       "<table border=\"1\" class=\"dataframe\">\n",
       "  <thead>\n",
       "    <tr style=\"text-align: right;\">\n",
       "      <th></th>\n",
       "      <th>Date</th>\n",
       "      <th>is_match_pad</th>\n",
       "      <th>is_home_pad</th>\n",
       "    </tr>\n",
       "  </thead>\n",
       "  <tbody>\n",
       "    <tr>\n",
       "      <th>0</th>\n",
       "      <td>2018-01-01 00:00:00</td>\n",
       "      <td>0.0</td>\n",
       "      <td>0.0</td>\n",
       "    </tr>\n",
       "    <tr>\n",
       "      <th>1</th>\n",
       "      <td>2018-01-01 01:00:00</td>\n",
       "      <td>0.0</td>\n",
       "      <td>0.0</td>\n",
       "    </tr>\n",
       "    <tr>\n",
       "      <th>2</th>\n",
       "      <td>2018-01-01 02:00:00</td>\n",
       "      <td>0.0</td>\n",
       "      <td>0.0</td>\n",
       "    </tr>\n",
       "    <tr>\n",
       "      <th>3</th>\n",
       "      <td>2018-01-01 03:00:00</td>\n",
       "      <td>0.0</td>\n",
       "      <td>0.0</td>\n",
       "    </tr>\n",
       "    <tr>\n",
       "      <th>4</th>\n",
       "      <td>2018-01-01 04:00:00</td>\n",
       "      <td>0.0</td>\n",
       "      <td>0.0</td>\n",
       "    </tr>\n",
       "  </tbody>\n",
       "</table>\n",
       "</div>"
      ],
      "text/plain": [
       "                  Date  is_match_pad  is_home_pad\n",
       "0  2018-01-01 00:00:00           0.0          0.0\n",
       "1  2018-01-01 01:00:00           0.0          0.0\n",
       "2  2018-01-01 02:00:00           0.0          0.0\n",
       "3  2018-01-01 03:00:00           0.0          0.0\n",
       "4  2018-01-01 04:00:00           0.0          0.0"
      ]
     },
     "execution_count": 84,
     "metadata": {
      "tags": []
     },
     "output_type": "execute_result"
    }
   ],
   "source": [
    "df_matches = pd.read_csv('https://raw.githubusercontent.com/McNickSisto/world_data_league/main/stage_final/data/matches_2018_home.csv')\n",
    "df_matches=df_matches.drop(columns='Unnamed: 0')\n",
    "df_matches.head()"
   ]
  },
  {
   "cell_type": "markdown",
   "metadata": {
    "id": "x6ZNTsdXbkiK"
   },
   "source": [
    "Opening and closing hours of business oragnizations are considered using the Opening Hours Data that we extracted from an API. The Code related to this can be found at **Appendix:Opening Hours Data**."
   ]
  },
  {
   "cell_type": "code",
   "execution_count": 85,
   "metadata": {
    "colab": {
     "base_uri": "https://localhost:8080/",
     "height": 203
    },
    "id": "o26mvTnOIES0",
    "outputId": "9b0bfc01-04bc-4ece-ec78-273abb76be8a"
   },
   "outputs": [
    {
     "data": {
      "text/html": [
       "<div>\n",
       "<style scoped>\n",
       "    .dataframe tbody tr th:only-of-type {\n",
       "        vertical-align: middle;\n",
       "    }\n",
       "\n",
       "    .dataframe tbody tr th {\n",
       "        vertical-align: top;\n",
       "    }\n",
       "\n",
       "    .dataframe thead th {\n",
       "        text-align: right;\n",
       "    }\n",
       "</style>\n",
       "<table border=\"1\" class=\"dataframe\">\n",
       "  <thead>\n",
       "    <tr style=\"text-align: right;\">\n",
       "      <th></th>\n",
       "      <th>hour</th>\n",
       "      <th>count_close</th>\n",
       "      <th>count_open</th>\n",
       "    </tr>\n",
       "  </thead>\n",
       "  <tbody>\n",
       "    <tr>\n",
       "      <th>0</th>\n",
       "      <td>2018-01-01 00:00:00</td>\n",
       "      <td>66.0</td>\n",
       "      <td>NaN</td>\n",
       "    </tr>\n",
       "    <tr>\n",
       "      <th>1</th>\n",
       "      <td>2018-01-01 01:00:00</td>\n",
       "      <td>6.0</td>\n",
       "      <td>NaN</td>\n",
       "    </tr>\n",
       "    <tr>\n",
       "      <th>2</th>\n",
       "      <td>2018-01-01 02:00:00</td>\n",
       "      <td>12.0</td>\n",
       "      <td>NaN</td>\n",
       "    </tr>\n",
       "    <tr>\n",
       "      <th>3</th>\n",
       "      <td>2018-01-01 03:00:00</td>\n",
       "      <td>6.0</td>\n",
       "      <td>NaN</td>\n",
       "    </tr>\n",
       "    <tr>\n",
       "      <th>4</th>\n",
       "      <td>2018-01-01 04:00:00</td>\n",
       "      <td>NaN</td>\n",
       "      <td>NaN</td>\n",
       "    </tr>\n",
       "  </tbody>\n",
       "</table>\n",
       "</div>"
      ],
      "text/plain": [
       "                  hour  count_close  count_open\n",
       "0  2018-01-01 00:00:00         66.0         NaN\n",
       "1  2018-01-01 01:00:00          6.0         NaN\n",
       "2  2018-01-01 02:00:00         12.0         NaN\n",
       "3  2018-01-01 03:00:00          6.0         NaN\n",
       "4  2018-01-01 04:00:00          NaN         NaN"
      ]
     },
     "execution_count": 85,
     "metadata": {
      "tags": []
     },
     "output_type": "execute_result"
    }
   ],
   "source": [
    "df_opening_hours = pd.read_csv('https://raw.githubusercontent.com/McNickSisto/world_data_league/main/stage_final/data/opening_count_2018.csv')\n",
    "df_opening_hours=df_opening_hours.drop(columns='Unnamed: 0')\n",
    "df_opening_hours.head()"
   ]
  },
  {
   "cell_type": "code",
   "execution_count": 86,
   "metadata": {
    "colab": {
     "base_uri": "https://localhost:8080/",
     "height": 203
    },
    "id": "RhLcaqPlITly",
    "outputId": "4435b379-2aaf-443c-c7cd-f7b3590cfba9"
   },
   "outputs": [
    {
     "data": {
      "text/html": [
       "<div>\n",
       "<style scoped>\n",
       "    .dataframe tbody tr th:only-of-type {\n",
       "        vertical-align: middle;\n",
       "    }\n",
       "\n",
       "    .dataframe tbody tr th {\n",
       "        vertical-align: top;\n",
       "    }\n",
       "\n",
       "    .dataframe thead th {\n",
       "        text-align: right;\n",
       "    }\n",
       "</style>\n",
       "<table border=\"1\" class=\"dataframe\">\n",
       "  <thead>\n",
       "    <tr style=\"text-align: right;\">\n",
       "      <th></th>\n",
       "      <th>dat_hr</th>\n",
       "      <th>n</th>\n",
       "      <th>flow_mean</th>\n",
       "      <th>flow_sd</th>\n",
       "      <th>flow_median</th>\n",
       "      <th>speed_mean</th>\n",
       "      <th>speed_sd</th>\n",
       "      <th>speed_median</th>\n",
       "    </tr>\n",
       "  </thead>\n",
       "  <tbody>\n",
       "    <tr>\n",
       "      <th>0</th>\n",
       "      <td>01-01-18 00:00</td>\n",
       "      <td>991</td>\n",
       "      <td>2297.135</td>\n",
       "      <td>1304.423</td>\n",
       "      <td>2085</td>\n",
       "      <td>369.392</td>\n",
       "      <td>135.967</td>\n",
       "      <td>341.945</td>\n",
       "    </tr>\n",
       "    <tr>\n",
       "      <th>1</th>\n",
       "      <td>01-01-18 01:00</td>\n",
       "      <td>1163</td>\n",
       "      <td>4479.686</td>\n",
       "      <td>2634.671</td>\n",
       "      <td>4095</td>\n",
       "      <td>341.489</td>\n",
       "      <td>122.820</td>\n",
       "      <td>311.755</td>\n",
       "    </tr>\n",
       "    <tr>\n",
       "      <th>2</th>\n",
       "      <td>01-01-18 02:00</td>\n",
       "      <td>965</td>\n",
       "      <td>3796.326</td>\n",
       "      <td>2292.005</td>\n",
       "      <td>3483</td>\n",
       "      <td>328.034</td>\n",
       "      <td>114.294</td>\n",
       "      <td>294.730</td>\n",
       "    </tr>\n",
       "    <tr>\n",
       "      <th>3</th>\n",
       "      <td>01-01-18 03:00</td>\n",
       "      <td>949</td>\n",
       "      <td>2777.488</td>\n",
       "      <td>1622.614</td>\n",
       "      <td>2514</td>\n",
       "      <td>322.364</td>\n",
       "      <td>109.699</td>\n",
       "      <td>290.020</td>\n",
       "    </tr>\n",
       "    <tr>\n",
       "      <th>4</th>\n",
       "      <td>01-01-18 04:00</td>\n",
       "      <td>1074</td>\n",
       "      <td>1987.818</td>\n",
       "      <td>1166.373</td>\n",
       "      <td>1824</td>\n",
       "      <td>342.330</td>\n",
       "      <td>124.187</td>\n",
       "      <td>311.785</td>\n",
       "    </tr>\n",
       "  </tbody>\n",
       "</table>\n",
       "</div>"
      ],
      "text/plain": [
       "           dat_hr     n  flow_mean  ...  speed_mean  speed_sd  speed_median\n",
       "0  01-01-18 00:00   991   2297.135  ...     369.392   135.967       341.945\n",
       "1  01-01-18 01:00  1163   4479.686  ...     341.489   122.820       311.755\n",
       "2  01-01-18 02:00   965   3796.326  ...     328.034   114.294       294.730\n",
       "3  01-01-18 03:00   949   2777.488  ...     322.364   109.699       290.020\n",
       "4  01-01-18 04:00  1074   1987.818  ...     342.330   124.187       311.785\n",
       "\n",
       "[5 rows x 8 columns]"
      ]
     },
     "execution_count": 86,
     "metadata": {
      "tags": []
     },
     "output_type": "execute_result"
    }
   ],
   "source": [
    "df_transport=pd.read_csv('https://raw.githubusercontent.com/McNickSisto/world_data_league/main/stage_final/data/transport_flow.csv')\n",
    "df_transport.head()"
   ]
  },
  {
   "cell_type": "markdown",
   "metadata": {
    "id": "lnw9zOiiLM7Q"
   },
   "source": [
    "We merged all the dataframes that we considered which you can refer at Appendix: *Merging Data Frames* section\n",
    "\n",
    "The datasets we considered include\n",
    "\n",
    "1. Sensors Data (For Noise Raedings)\n",
    "2. Wifi Data (For Analysing the no.of. people out side in an hour)\n",
    "3. Transport Data (For Analysing the effect of cars on noise)\n",
    "4. Matches Data   (For Analysing how the match days effect the noise, both inhouse and at ground)\n",
    "5. Police Complaints Data (For Complaints at each hour)\n",
    "6. Sim Data (For Analysing the presence of people in a particular area at particular hour)\n",
    "7. Opening and Closing Hours (For taking business times)\n",
    "8. Holidays Data (For analysing effect of holidays on Noise)\n",
    "9. Weather Data  (For analysing effect of rainfall and temperature on noise)"
   ]
  },
  {
   "cell_type": "markdown",
   "metadata": {
    "id": "ISLyQCLgOaav"
   },
   "source": [
    "### Correlation Analysis"
   ]
  },
  {
   "cell_type": "code",
   "execution_count": 57,
   "metadata": {
    "colab": {
     "base_uri": "https://localhost:8080/",
     "height": 948
    },
    "id": "ENh4yC5gONBp",
    "outputId": "ae86cf5a-fef4-4c1f-94da-fdf0fd5eba2e"
   },
   "outputs": [
    {
     "data": {
      "image/png": "[encoded data removed]",
      "text/plain": [
       "<Figure size 1368x1080 with 2 Axes>"
      ]
     },
     "metadata": {
      "needs_background": "light",
      "tags": []
     },
     "output_type": "display_data"
    }
   ],
   "source": [
    "correlation_mat = df_finalized.corr()\n",
    "f = plt.figure(figsize=(19, 15))\n",
    "sns.heatmap(correlation_mat, annot = True)\n",
    "plt.show()"
   ]
  },
  {
   "cell_type": "code",
   "execution_count": 61,
   "metadata": {
    "colab": {
     "base_uri": "https://localhost:8080/"
    },
    "id": "h8ZKfItaRoiJ",
    "outputId": "26edd3b6-9e2a-4893-ab7d-ac7f53a689b2"
   },
   "outputs": [
    {
     "data": {
      "text/plain": [
       "speed_mean    flow_mean      -0.656039\n",
       "flow_mean     speed_mean     -0.656039\n",
       "speed_mean    flow_median    -0.655502\n",
       "flow_median   speed_mean     -0.655502\n",
       "speed_mean    flow_sd        -0.631912\n",
       "                                ...   \n",
       "flow_mean     flow_mean       1.000000\n",
       "flow_sd       flow_sd         1.000000\n",
       "flow_median   flow_median     1.000000\n",
       "speed_sd      speed_sd        1.000000\n",
       "speed_median  speed_median    1.000000\n",
       "Length: 131, dtype: float64"
      ]
     },
     "execution_count": 61,
     "metadata": {
      "tags": []
     },
     "output_type": "execute_result"
    }
   ],
   "source": [
    "corr_pairs = correlation_mat.unstack()\n",
    "sorted_pairs = corr_pairs.sort_values(kind=\"quicksort\")\n",
    "strong_pairs = sorted_pairs[abs(sorted_pairs) > 0.5]\n",
    "strong_pairs"
   ]
  },
  {
   "cell_type": "markdown",
   "metadata": {
    "id": "VOrg_QGiOfwM"
   },
   "source": [
    "### Data Exploration & Feature Selection"
   ]
  },
  {
   "cell_type": "code",
   "execution_count": 2,
   "metadata": {
    "id": "I-7mjhsvOis1"
   },
   "outputs": [],
   "source": [
    "### Moritz Data Exploration "
   ]
  },
  {
   "cell_type": "markdown",
   "metadata": {
    "id": "1XoMESIWQvKH"
   },
   "source": [
    "# Modelling"
   ]
  },
  {
   "cell_type": "markdown",
   "metadata": {
    "id": "7b7sGXl3Q0o7"
   },
   "source": [
    "We considered several models for predicting the noise like regression models, deep learning models,ARIMA etc\n",
    "\n",
    "We have added the code realted to all the models we used in the **Appendix**\n",
    "\n",
    "After testing all the models we considered only few that have the greater impact, they include:\n",
    "\n",
    "1. Baseline Model(Linear Regression)\n",
    "2. Moving Average\n",
    "3. ARIMA\n",
    "4. LSTM"
   ]
  },
  {
   "cell_type": "markdown",
   "metadata": {
    "id": "g4Yj2hoZYPOl"
   },
   "source": [
    "## Preprocessing the final dataframe"
   ]
  },
  {
   "cell_type": "markdown",
   "metadata": {
    "id": "eBmF24ZUYX5X"
   },
   "source": [
    "For now let us consider log_avg (logarithmic average of C1, C2, C3, C4, C5), temp, rainfall, snowfall, isholiday, complaints_no, count_close, count_open"
   ]
  },
  {
   "cell_type": "code",
   "execution_count": null,
   "metadata": {
    "id": "aOHTN9b6YSX_"
   },
   "outputs": [],
   "source": [
    "df_reg_1 = df_merged[['date_hour', 'temp', 'winds', 'rainfall_mm', 'snowfall_mm', 'isHoliday', 'date', 'hour', 'day', 'Log_Avg', 'Complaints_no', 'count_close']]\n",
    "df_reg_1 = df_reg_1.fillna(value={'count_close' : 0, 'winds' : 0, 'snowfall_mm':0 , 'rainfall_mm' : 0})\n",
    "df_reg_1['date_hour'] = pd.to_datetime(df_reg_1['date_hour'])\n",
    "df_reg_1 =  df_reg_1.set_index('date_hour')"
   ]
  },
  {
   "cell_type": "code",
   "execution_count": null,
   "metadata": {
    "id": "oT7x_N6RYhJD"
   },
   "outputs": [],
   "source": [
    "cor = df_reg_1.corr()\n",
    "cor['Log_Avg'].sort_values()"
   ]
  },
  {
   "cell_type": "code",
   "execution_count": null,
   "metadata": {
    "id": "wHw3HNjnYjM6"
   },
   "outputs": [],
   "source": [
    "df_close = df_reg_1.copy()"
   ]
  },
  {
   "cell_type": "markdown",
   "metadata": {
    "id": "orPgN-fkYoN_"
   },
   "source": [
    "### Getting Log_Avg values of previous times"
   ]
  },
  {
   "cell_type": "code",
   "execution_count": null,
   "metadata": {
    "id": "MnWXqLUNYlW4"
   },
   "outputs": [],
   "source": [
    "def create_regressor_attributes(df, attribute, list_of_prev_t_instants) :\n",
    "    \n",
    "    list_of_prev_t_instants.sort()\n",
    "    start = list_of_prev_t_instants[-1] \n",
    "    end = len(df)\n",
    "    df['datetime'] = df.index\n",
    "    df.reset_index(drop=True)\n",
    "\n",
    "    df_copy = df[start:end]\n",
    "    df_copy.reset_index(inplace=True, drop=True)\n",
    "\n",
    "    for attribute in attribute :\n",
    "            foobar = pd.DataFrame()\n",
    "\n",
    "            for prev_t in list_of_prev_t_instants :\n",
    "                new_col = pd.DataFrame(df[attribute].iloc[(start - prev_t) : (end - prev_t)])\n",
    "                new_col.reset_index(drop=True, inplace=True)\n",
    "                new_col.rename(columns={attribute : '{}_(t-{})'.format(attribute, prev_t)}, inplace=True)\n",
    "                foobar = pd.concat([foobar, new_col], sort=False, axis=1)\n",
    "\n",
    "            df_copy = pd.concat([df_copy, foobar], sort=False, axis=1)\n",
    "            \n",
    "    df_copy.set_index(['datetime'], drop=True, inplace=True)\n",
    "    return df_copy"
   ]
  },
  {
   "cell_type": "code",
   "execution_count": null,
   "metadata": {
    "id": "CtQyUD-2YsvL"
   },
   "outputs": [],
   "source": [
    "list_of_attributes = ['Log_Avg']\n",
    "\n",
    "list_of_prev_t_instants = []\n",
    "for i in range(24,361,24): #we can change this list as list of times with most impact\n",
    "    list_of_prev_t_instants.append(i)\n",
    "\n",
    "list_of_prev_t_instants"
   ]
  },
  {
   "cell_type": "code",
   "execution_count": null,
   "metadata": {
    "id": "BqfjqGZSYxyB"
   },
   "outputs": [],
   "source": [
    "df_new = create_regressor_attributes(df_close, list_of_attributes, list_of_prev_t_instants)\n",
    "df_new.head()"
   ]
  },
  {
   "cell_type": "code",
   "execution_count": null,
   "metadata": {
    "id": "qHZB33eWYzyk"
   },
   "outputs": [],
   "source": [
    "df_new.corr()['Log_Avg'].sort_values()"
   ]
  },
  {
   "cell_type": "markdown",
   "metadata": {
    "id": "-1d5pfzAY4jb"
   },
   "source": [
    "Probably we should do some more preprocessing. Currently I am sticking to just the modelling. Later on we can change it accordingly"
   ]
  },
  {
   "cell_type": "code",
   "execution_count": null,
   "metadata": {
    "id": "DbkNeHAAY1vm"
   },
   "outputs": [],
   "source": [
    "df_new_1 = df_new[['Log_Avg', 'Log_Avg_(t-24)',\n",
    "       'Log_Avg_(t-48)', 'Log_Avg_(t-72)', 'Log_Avg_(t-96)', 'Log_Avg_(t-120)',\n",
    "       'Log_Avg_(t-144)', 'Log_Avg_(t-168)', 'Log_Avg_(t-192)','Log_Avg_(t-216)', 'Log_Avg_(t-240)',\n",
    "       'temp', 'winds', 'rainfall_mm', 'snowfall_mm', 'isHoliday', \n",
    "       'hour', 'day',  'Complaints_no', 'count_close']]"
   ]
  },
  {
   "cell_type": "markdown",
   "metadata": {
    "heading_collapsed": true,
    "id": "tameJh_YY9e4"
   },
   "source": [
    "### Spliting the dataset into train, validation and test sets"
   ]
  },
  {
   "cell_type": "code",
   "execution_count": null,
   "metadata": {
    "hidden": true,
    "id": "Ek6Q15v1Y7dp"
   },
   "outputs": [],
   "source": [
    "test_set_size = 0.05\n",
    "valid_set_size= 0.05\n",
    "\n",
    "df_copy = df_new_1.reset_index(drop=True)\n",
    "\n",
    "df_test = df_copy.iloc[ int(np.floor(len(df_copy)*(1-test_set_size))) : ]\n",
    "df_train_plus_valid = df_copy.iloc[ : int(np.floor(len(df_copy)*(1-test_set_size))) ]\n",
    "\n",
    "df_train = df_train_plus_valid.iloc[ : int(np.floor(len(df_train_plus_valid)*(1-valid_set_size))) ]\n",
    "df_valid = df_train_plus_valid.iloc[ int(np.floor(len(df_train_plus_valid)*(1-valid_set_size))) : ]\n",
    "\n",
    "\n",
    "X_train, y_train = df_train.iloc[:, 1:], df_train.iloc[:, 0]\n",
    "X_valid, y_valid = df_valid.iloc[:, 1:], df_valid.iloc[:, 0]\n",
    "X_test, y_test = df_test.iloc[:, 1:], df_test.iloc[:, 0]\n",
    "\n",
    "print('Shape of training inputs, training target:', X_train.shape, y_train.shape)\n",
    "print('Shape of validation inputs, validation target:', X_valid.shape, y_valid.shape)\n",
    "print('Shape of test inputs, test target:', X_test.shape, y_test.shape)"
   ]
  },
  {
   "cell_type": "markdown",
   "metadata": {
    "heading_collapsed": true,
    "id": "wAOiy5A-ZOG7"
   },
   "source": [
    "## Linear Regression"
   ]
  },
  {
   "cell_type": "code",
   "execution_count": null,
   "metadata": {
    "hidden": true,
    "id": "qknhEyYrZJcj"
   },
   "outputs": [],
   "source": [
    "Lin_reg = LinearRegression()\n",
    "Lin_reg.fit(X_train_scaled, y_train_scaled)\n",
    "y_pred = Lin_reg.predict(X_test_scaled)\n",
    "y_pred_rescaled = Target_scaler.inverse_transform(y_pred)\n",
    "\n",
    "y_test_rescaled =  Target_scaler.inverse_transform(y_test_scaled)\n",
    "score = r2_score(y_test_rescaled, y_pred_rescaled)\n",
    "print('R-squared score for the test set: ', round(score,4))\n"
   ]
  },
  {
   "cell_type": "markdown",
   "metadata": {
    "heading_collapsed": true,
    "id": "lX3naph2Zgev"
   },
   "source": [
    "## Moving Average"
   ]
  },
  {
   "cell_type": "markdown",
   "metadata": {
    "hidden": true,
    "id": "nA-qm4-sZktC"
   },
   "source": [
    "Moving Average Smoothing is a technique applied to time series to remove the fine-grained variation between time steps. The hope of smoothing is to remove noise and better expose the signal of the underlying causal processes."
   ]
  },
  {
   "cell_type": "code",
   "execution_count": null,
   "metadata": {
    "hidden": true,
    "id": "q2PqU9UFZR0V"
   },
   "outputs": [],
   "source": [
    "plt.rcParams[\"figure.figsize\"] = (20,6)\n",
    "df.plot()\n",
    "pyplot.show()"
   ]
  },
  {
   "cell_type": "code",
   "execution_count": null,
   "metadata": {
    "hidden": true,
    "id": "eGeQ677MZtQP"
   },
   "outputs": [],
   "source": [
    "# Tail-rolling average transform\n",
    "rolling = df.rolling(window=3)\n",
    "rolling_mean = rolling.mean()\n",
    "rolling_mean.dropna(inplace= True)\n",
    "print(rolling_mean.head())\n",
    "# plot original and transformed dataset\n",
    "df.plot()\n",
    "rolling_mean.plot(color='lightgreen')\n",
    "pyplot.show()"
   ]
  },
  {
   "cell_type": "code",
   "execution_count": null,
   "metadata": {
    "hidden": true,
    "id": "0i5jm-WoZomm"
   },
   "outputs": [],
   "source": [
    "from pandas import read_csv\n",
    "from numpy import mean\n",
    "from sklearn.metrics import mean_squared_error\n",
    "from matplotlib import pyplot\n",
    "# prepare situation\n",
    "X = df.values\n",
    "window = 3\n",
    "history = [X[i] for i in range(window)]\n",
    "test = [X[i] for i in range(window, len(X))]\n",
    "predictions = list()\n",
    "# walk forward over time steps in test\n",
    "for t in range(len(test)):\n",
    "\tlength = len(history)\n",
    "\tyhat = mean([history[i] for i in range(length-window,length)])\n",
    "\tobs = test[t]\n",
    "\tpredictions.append(yhat)\n",
    "\thistory.append(obs)\n",
    "\t#print('predicted=%f, expected=%f' % (yhat, obs))\n",
    "error = mean_squared_error(test, predictions)\n",
    "print('Test MSE: %.3f' % error)\n",
    "# plot\n",
    "pyplot.plot(test)\n",
    "pyplot.plot(predictions, color='lightcoral')\n",
    "pyplot.show()\n",
    "# zoom plot\n",
    "pyplot.plot(test[0:100])\n",
    "pyplot.plot(predictions[0:100], color='lightcoral')\n",
    "pyplot.show()"
   ]
  },
  {
   "cell_type": "markdown",
   "metadata": {
    "heading_collapsed": true,
    "id": "SLlhicI7Zw3H"
   },
   "source": [
    "## ARIMA"
   ]
  },
  {
   "cell_type": "code",
   "execution_count": null,
   "metadata": {
    "hidden": true,
    "id": "5BFfjvVhZ1Pz"
   },
   "outputs": [],
   "source": [
    "data=pd.read_csv('https://raw.githubusercontent.com/McNickSisto/world_data_league/main/stage_final/data/Imputed_Data_Final.csv')\n",
    "data=data.drop(columns='Unnamed: 0')\n",
    "data.head(4)"
   ]
  },
  {
   "cell_type": "code",
   "execution_count": null,
   "metadata": {
    "hidden": true,
    "id": "IHUehNnMZ3f0"
   },
   "outputs": [],
   "source": [
    "data_i = data.set_index('date_hour')\n",
    "data_i.head(2)"
   ]
  },
  {
   "cell_type": "code",
   "execution_count": null,
   "metadata": {
    "hidden": true,
    "id": "b7UAHrPLZ5xZ"
   },
   "outputs": [],
   "source": [
    "df=data_i['Log_Avg']\n",
    "df.head(2)"
   ]
  },
  {
   "cell_type": "code",
   "execution_count": null,
   "metadata": {
    "hidden": true,
    "id": "YUB2vcSlZ7Xb"
   },
   "outputs": [],
   "source": [
    "df.plot(figsize=(20,5))"
   ]
  },
  {
   "cell_type": "code",
   "execution_count": null,
   "metadata": {
    "hidden": true,
    "id": "xZfzHpoyZ9L6"
   },
   "outputs": [],
   "source": [
    "additive = seasonal_decompose(df,freq=52, model='additive',extrapolate_trend='freq')"
   ]
  },
  {
   "cell_type": "code",
   "execution_count": null,
   "metadata": {
    "hidden": true,
    "id": "1ehXHt_EZ_wg"
   },
   "outputs": [],
   "source": [
    "additive_df = pd.concat([additive.seasonal, additive.trend, additive.resid, additive.observed], axis=1)\n",
    "additive_df.columns = ['seasonal', 'trend', 'resid', 'actual_values']\n",
    "additive_df.head()"
   ]
  },
  {
   "cell_type": "code",
   "execution_count": null,
   "metadata": {
    "hidden": true,
    "id": "hcNg-Hg8aCg8"
   },
   "outputs": [],
   "source": [
    "plt.rcParams.update({'figure.figsize': (20,10)})\n",
    "additive.plot().suptitle('Additive Decompose')\n",
    "#The Trend,residuals are interesting, showing periods of high variability."
   ]
  },
  {
   "cell_type": "code",
   "execution_count": null,
   "metadata": {
    "hidden": true,
    "id": "U3ZaZfgiaEMC"
   },
   "outputs": [],
   "source": [
    "trend = additive.trend\n",
    "from statsmodels.tsa.stattools import adfuller\n",
    "result = adfuller(trend.values)\n",
    "print('ADF Statistic: %f' % result[0])\n",
    "print('p-value: %f' % result[1])"
   ]
  },
  {
   "cell_type": "code",
   "execution_count": null,
   "metadata": {
    "hidden": true,
    "id": "g4d8igscaF5z"
   },
   "outputs": [],
   "source": [
    "from statsmodels.graphics.tsaplots import plot_acf, plot_pacf\n",
    "# Original Series\n",
    "fig, axes = plt.subplots(3, 2, sharex=True)\n",
    "axes[0, 0].plot(trend.values); axes[0, 0].set_title('Original Series')\n",
    "plot_acf(trend.values, ax=axes[0, 1]).suptitle('Original Series', fontsize=0)\n",
    "# 1st Differencing\n",
    "diff1 = trend.diff().dropna()\n",
    "axes[1, 0].plot(diff1.values)\n",
    "axes[1, 0].set_title('1st Order Differencing')\n",
    "plot_acf(diff1.values, ax=axes[1, 1]).suptitle('1st Order Differencing', fontsize=0)\n",
    "# 2nd Differencing\n",
    "diff2 = trend.diff().diff().dropna()\n",
    "axes[2, 0].plot(diff2.values)\n",
    "axes[2, 0].set_title('2nd Order Differencing')\n",
    "plot_acf(diff2.values, ax=axes[2, 1]).suptitle('2nd Order Differencing', fontsize=0)"
   ]
  },
  {
   "cell_type": "code",
   "execution_count": null,
   "metadata": {
    "hidden": true,
    "id": "JcE0-mepaIn7"
   },
   "outputs": [],
   "source": [
    "plt.rcParams.update({'figure.figsize':(9,3), 'figure.dpi':120})\n",
    "size = 100\n",
    "fig, axes = plt.subplots(1, 2, sharex=True)\n",
    "axes[0].plot(diff1.values[:size])\n",
    "axes[0].set_title('1st Order Differencing')\n",
    "axes[1].set(ylim=(0,5))\n",
    "plot_pacf(diff1.values[:size], lags=50, ax=axes[1]).suptitle('1st Order Differencing', fontsize=0)"
   ]
  },
  {
   "cell_type": "code",
   "execution_count": null,
   "metadata": {
    "hidden": true,
    "id": "mvUf5-tZaLIU"
   },
   "outputs": [],
   "source": [
    "from statsmodels.tsa.arima_model import ARIMA\n",
    "train = trend[:3000]\n",
    "test  = trend[3000:]\n",
    "# order = (p=1, d=1, q=1)\n",
    "model = ARIMA(train, order=(1, 1, 1))  \n",
    "model = model.fit(disp=0)  \n",
    "print(model.summary())"
   ]
  },
  {
   "cell_type": "code",
   "execution_count": null,
   "metadata": {
    "hidden": true,
    "id": "0sZtlmbpaM7t"
   },
   "outputs": [],
   "source": [
    "# Plot residual errors\n",
    "residuals = pd.DataFrame(model.resid)\n",
    "fig, ax = plt.subplots(1,2)\n",
    "residuals.plot(title=\"Residuals\", ax=ax[0])\n",
    "residuals.plot(kind='kde', title='Density', ax=ax[1])"
   ]
  },
  {
   "cell_type": "code",
   "execution_count": null,
   "metadata": {
    "hidden": true,
    "id": "Qry56iBdaPpA"
   },
   "outputs": [],
   "source": [
    "fc, se, conf = model.forecast(14311, alpha=0.05)\n",
    "# Make as pandas series\n",
    "fc_series = pd.Series(fc, index=test.index)\n",
    "lower_series = pd.Series(conf[:, 0], index=test.index)\n",
    "upper_series = pd.Series(conf[:, 1], index=test.index)\n",
    "# Plot\n",
    "plt.figure(figsize=(12,5), dpi=100)\n",
    "plt.plot(train, label='training')\n",
    "plt.plot(test, label='actual')\n",
    "plt.plot(fc_series, label='forecast')\n",
    "plt.fill_between(lower_series.index, lower_series, upper_series, \n",
    "                 color='k', alpha=.15)\n",
    "plt.title('Forecast vs Actuals')\n",
    "plt.legend(loc='upper left', fontsize=8)"
   ]
  },
  {
   "cell_type": "markdown",
   "metadata": {
    "id": "-_jFc6wcaTk-"
   },
   "source": [
    "## LSTM"
   ]
  },
  {
   "cell_type": "markdown",
   "metadata": {
    "id": "Zs_vLomeabBI"
   },
   "source": [
    "### Preprocessing for LSTM RNN"
   ]
  },
  {
   "cell_type": "code",
   "execution_count": null,
   "metadata": {
    "id": "rHQfdXB0aVVi"
   },
   "outputs": [],
   "source": [
    "X_train_lstm = np.reshape(X_train_scaled,(X_train_scaled.shape[0], X_train_scaled.shape[1],1) )\n",
    "y_train_lstm = np.reshape(y_train_scaled, (y_train_scaled.shape[0]))\n",
    "\n",
    "X_valid_lstm = np.reshape(X_valid_scaled,(X_valid_scaled.shape[0], X_valid_scaled.shape[1],1) )\n",
    "y_valid_lstm = np.reshape(y_valid_scaled, (y_valid_scaled.shape[0]))\n",
    "\n",
    "X_test_lstm = np.reshape(X_test_scaled,(X_test_scaled.shape[0], X_test_scaled.shape[1],1) )\n",
    "y_test_lstm = np.reshape(y_test_scaled, (y_test_scaled.shape[0]))\n"
   ]
  },
  {
   "cell_type": "code",
   "execution_count": null,
   "metadata": {
    "id": "Jzsb-tJxaeRV"
   },
   "outputs": [],
   "source": [
    "model = Sequential()\n",
    "model.add(LSTM(units=50, return_sequences=True, input_shape=(X_train_lstm.shape[1], 1)))\n",
    "\n",
    "model.add(LSTM(units=50, return_sequences=True))\n",
    "model.add(Dropout(0.2))\n",
    "\n",
    "model.add(LSTM(units=50, return_sequences=True))\n",
    "model.add(Dropout(0.2))\n",
    "\n",
    "model.add(LSTM(units=50))\n",
    "model.add(Dropout(0.2))\n",
    "\n",
    "model.add(Dense(units = 1))\n",
    "\n",
    "model.compile(loss='mean_squared_error', optimizer='adam')\n",
    "model.summary()"
   ]
  },
  {
   "cell_type": "code",
   "execution_count": null,
   "metadata": {
    "id": "imh17zc2ag30"
   },
   "outputs": [],
   "source": [
    "model.fit(x=X_train_lstm, y=y_train_lstm, batch_size=5, epochs=30, verbose=1, validation_data=(X_valid_lstm, y_valid_lstm), shuffle=True)"
   ]
  },
  {
   "cell_type": "code",
   "execution_count": null,
   "metadata": {
    "id": "ItlzXgKRajsU"
   },
   "outputs": [],
   "source": [
    "loss_per_epoch = model.history.history['loss']\n",
    "val_loss_per_epoch = model.history.history['val_loss']"
   ]
  },
  {
   "cell_type": "code",
   "execution_count": null,
   "metadata": {
    "id": "MrP4IjEoalis"
   },
   "outputs": [],
   "source": [
    "y_pred = model.predict(X_test_lstm)\n",
    "y_pred_rescaled = Target_scaler.inverse_transform(y_pred)\n",
    "y_test_rescaled =  Target_scaler.inverse_transform(y_test_scaled)\n",
    "score = r2_score(y_test_rescaled, y_pred_rescaled)"
   ]
  },
  {
   "cell_type": "markdown",
   "metadata": {
    "id": "Iepi27utaniI"
   },
   "source": [
    "#### Plotting loss values ##can skip this if we are not using LSTM "
   ]
  },
  {
   "cell_type": "code",
   "execution_count": null,
   "metadata": {
    "id": "96M1-XxaaqNE"
   },
   "outputs": [],
   "source": [
    "import matplotlib.pyplot as plt\n",
    "plt.figure(figsize=(12,5))\n",
    "plt.plot(loss_per_epoch);\n",
    "plt.plot(val_loss_per_epoch);\n",
    "plt.title(\"LSTM model loss in MSE\");\n",
    "plt.ylabel(\"loss\");\n",
    "plt.xlabel(\"Epochs\");\n",
    "plt.legend(['train', 'val']);"
   ]
  },
  {
   "cell_type": "code",
   "execution_count": null,
   "metadata": {
    "id": "LsQn0W9hasTd"
   },
   "outputs": [],
   "source": [
    "y_axis = list(df_new_1.index)[-854:]\n",
    "y_actual = pd.DataFrame(y_test_rescaled, columns=['Actual'])\n",
    "y_hat = pd.DataFrame(y_pred_rescaled, columns=['Predicted'])\n",
    "positions = [0,100,200,300,400,500,600,700,800]\n",
    "selected_labels = []\n",
    "for i in positions:\n",
    "  selected_labels.append(y_axis[i])\n",
    "\n",
    "plt.figure(figsize=(18, 10))\n",
    "plt.plot(y_actual, linestyle='solid', color='r')\n",
    "plt.plot(y_hat, linestyle='dashed', color='b')\n",
    "plt.xticks(positions, selected_labels)\n",
    "plt.legend(['Actual','Predicted'], loc='best', prop={'size': 14})\n",
    "plt.title('SSTA in test', weight='bold', fontsize=16)\n",
    "plt.grid(color = 'y', linewidth='0.5')\n",
    "plt.show()"
   ]
  },
  {
   "cell_type": "markdown",
   "metadata": {},
   "source": [
    "# Conclusion"
   ]
  },
  {
   "cell_type": "markdown",
   "metadata": {},
   "source": [
    "## Solutions"
   ]
  },
  {
   "cell_type": "code",
   "execution_count": 5,
   "metadata": {},
   "outputs": [],
   "source": [
    "# look at different solutions"
   ]
  },
  {
   "cell_type": "markdown",
   "metadata": {},
   "source": [
    "## Impact of Solutions"
   ]
  },
  {
   "cell_type": "code",
   "execution_count": 4,
   "metadata": {},
   "outputs": [],
   "source": [
    "# analyze impact of restrictions on noise"
   ]
  },
  {
   "cell_type": "markdown",
   "metadata": {
    "heading_collapsed": true,
    "id": "Jvki41j3IMrX"
   },
   "source": [
    "# Appendix"
   ]
  },
  {
   "cell_type": "markdown",
   "metadata": {
    "hidden": true,
    "id": "WAeDWOKBSC16"
   },
   "source": [
    "## Weather Data"
   ]
  },
  {
   "cell_type": "markdown",
   "metadata": {
    "hidden": true,
    "id": "65oFL2VFSGhx"
   },
   "source": [
    "### Data"
   ]
  },
  {
   "cell_type": "code",
   "execution_count": null,
   "metadata": {
    "hidden": true,
    "id": "Vzn8u2MNSD17"
   },
   "outputs": [],
   "source": [
    "weather = pd.read_csv('raw_data/weather/weather_1.csv',\n",
    "#                       nrows=1000, #rm later\n",
    "                      sep=';',\n",
    "#                       decimal=',',\n",
    "                      skiprows=4,\n",
    "#                       parse_dates=[[0, 1]],\n",
    "#                       dayfirst=True,\n",
    "                      header=0,\n",
    "                      names=['date', 'hour', 'rainfall_mm', 'snowfall_mm'],\n",
    "                     )\n",
    "\n",
    "# workaround for hour concat issue\n",
    "weather['date'] = pd.to_datetime(weather['date'], format='%d-%m-%Y', errors='coerce')\n",
    "weather['date_hour'] = weather.apply(lambda x: pd.to_datetime(str(x.date) + ' ' + str(x.hour), errors='coerce'), axis=1)\n",
    "\n",
    "# workaround for decimal issue\n",
    "weather['rainfall_mm'] = weather.rainfall_mm.apply(lambda x: str(x).replace(',','.'))\n",
    "weather['snowfall_mm'] = weather.snowfall_mm.apply(lambda x: str(x).replace(',','.'))"
   ]
  },
  {
   "cell_type": "code",
   "execution_count": null,
   "metadata": {
    "hidden": true,
    "id": "wj8hWUsDSLpW"
   },
   "outputs": [],
   "source": [
    "weather2 = pd.read_csv('raw_data/weather/weather_2.csv', \n",
    "                 sep=';', \n",
    "                 skiprows=4, \n",
    "                 header=0, \n",
    "#                  decimal=',',\n",
    "#                 converters={2:lambda x: x.replace(',', '.')},\n",
    "#                 parse_dates=[[0, 1]],\n",
    "                names=['date', 'hour', 'winds'],\n",
    "                na_values={2:'',\n",
    "                            3:''},\n",
    "                dayfirst=True,\n",
    "                )\n",
    "# workaround for hour concat issue\n",
    "weather2['date'] = pd.to_datetime(weather2['date'], format='%d-%m-%Y', errors='coerce')\n",
    "weather2['date_hour'] = weather2.apply(lambda x: pd.to_datetime(str(x.date) + ' ' + str(x.hour), errors='coerce'), axis=1)\n",
    "\n",
    "weather2['winds'] = weather2.winds.apply(lambda x: str(x).replace(',','.'))"
   ]
  },
  {
   "cell_type": "code",
   "execution_count": null,
   "metadata": {
    "hidden": true,
    "id": "kxT_ZOVOVnZJ"
   },
   "outputs": [],
   "source": [
    "# weather['date_hour'] = pd.to_datetime(weather['date_hour'], errors='coerce')\n",
    "weather_1 = weather.dropna(subset=['date_hour'])\n",
    "\n",
    "# weather2['date_hour'] = pd.to_datetime(weather2['date_hour'], errors='coerce')\n",
    "weather_2 = weather2.dropna(subset=['date_hour'])"
   ]
  },
  {
   "cell_type": "code",
   "execution_count": null,
   "metadata": {
    "hidden": true,
    "id": "abEPCe9mVoIZ"
   },
   "outputs": [],
   "source": [
    "merged_weather = weather_2.merge(weather_1,\n",
    "                                right_on='date_hour',\n",
    "                                left_on='date_hour',\n",
    "                                )"
   ]
  },
  {
   "cell_type": "code",
   "execution_count": null,
   "metadata": {
    "hidden": true,
    "id": "zh39U0f2Vq0Z"
   },
   "outputs": [],
   "source": [
    "merged_weather.sort_values(by='date_hour').tail()\n",
    "merged_weather['hourly_date'] = merged_weather.date_hour.apply(lambda x: x.floor('h'))"
   ]
  },
  {
   "cell_type": "code",
   "execution_count": null,
   "metadata": {
    "hidden": true,
    "id": "-26_rn1IVwH4"
   },
   "outputs": [],
   "source": [
    "merged_weather = merged_weather.astype({'winds': float,\n",
    "                      'rainfall_mm':float,\n",
    "                      'snowfall_mm':float})"
   ]
  },
  {
   "cell_type": "code",
   "execution_count": null,
   "metadata": {
    "hidden": true,
    "id": "xTYidvN7VyHa"
   },
   "outputs": [],
   "source": [
    "hourly_weather = merged_weather.groupby('hourly_date').mean()"
   ]
  },
  {
   "cell_type": "code",
   "execution_count": null,
   "metadata": {
    "hidden": true,
    "id": "bwTvBnr-Vz9y"
   },
   "outputs": [],
   "source": [
    "hourly_weather.info()"
   ]
  },
  {
   "cell_type": "code",
   "execution_count": null,
   "metadata": {
    "hidden": true,
    "id": "48Os18ivV1k_"
   },
   "outputs": [],
   "source": [
    "hourly_weather.to_csv('hourly_weather.csv')"
   ]
  },
  {
   "cell_type": "code",
   "execution_count": null,
   "metadata": {
    "hidden": true,
    "id": "3AXSUJBzV3VC"
   },
   "outputs": [],
   "source": [
    "hourly_weather.head()"
   ]
  },
  {
   "cell_type": "markdown",
   "metadata": {
    "hidden": true,
    "id": "tlSmWzfGV6hD"
   },
   "source": [
    "### Open Weather Map"
   ]
  },
  {
   "cell_type": "code",
   "execution_count": null,
   "metadata": {
    "hidden": true,
    "id": "o6zwwSE1V-NN"
   },
   "outputs": [],
   "source": [
    "# API KEY\n",
    "load_dotenv(find_dotenv())\n",
    "OWM_API = os.environ.get(\"OWM_API\")"
   ]
  },
  {
   "cell_type": "code",
   "execution_count": null,
   "metadata": {
    "hidden": true,
    "id": "UQ24hZfgWAcJ"
   },
   "outputs": [],
   "source": [
    "# init time range\n",
    "range_2019 = pd.DataFrame(pd.date_range('2016-06-01', '2021-06-12', freq='h'), columns=['hour'])\n",
    "range_2019.tail().hour"
   ]
  },
  {
   "cell_type": "code",
   "execution_count": null,
   "metadata": {
    "hidden": true,
    "id": "dP_jZzJBWCtb"
   },
   "outputs": [],
   "source": [
    "req = 'http://history.openweathermap.org/data/2.5/history/wdl'\n",
    "start = range_2019.hour.min().value\n",
    "inter = range_2019.hour.max().value\n",
    "end = range_2019.hour.max().value\n",
    "# tail1 = tail.min().value\n",
    "# tail2 = tail.max().value\n",
    "params = {\n",
    "    'id':'3165524', # ID of Turin\n",
    "    'type':'hour',\n",
    "    'start':str(start)[:10], # unix time\n",
    "    'end':str(end)[:10],\n",
    "    'appid': OWM_API\n",
    "}\n",
    "\n",
    "r = requests.get(req, params=params)\n",
    "\n",
    "\n",
    "# with open('data/weather.txt', 'w') as outfile:\n",
    "#     json.dump(r.json(), outfile)\n",
    "    \n",
    "weather = r.json()\n",
    "lst = weather.get('list')\n",
    "dct = {x.get('dt'):x.get('weather')[0].get('main') for x in lst}\n",
    "weather_df = pd.DataFrame.from_dict(dct, \n",
    "                                    orient='index', \n",
    "                                    columns=['weather']).reset_index().rename(columns={'index':'time'})\n",
    "weather_df['rain'] = weather_df.weather == 'Rain'"
   ]
  },
  {
   "cell_type": "code",
   "execution_count": null,
   "metadata": {
    "hidden": true,
    "id": "Xso8RVFXWF5i"
   },
   "outputs": [],
   "source": [
    "lst = weather.get('list')\n",
    "dct = {x.get('dt'):x.get('main').get('temp') for x in lst}"
   ]
  },
  {
   "cell_type": "code",
   "execution_count": null,
   "metadata": {
    "hidden": true,
    "id": "aQMfelRJWJGP"
   },
   "outputs": [],
   "source": [
    "weather_df = pd.DataFrame.from_dict(dct, \n",
    "                                    orient='index', \n",
    "                                    columns=['temp']).reset_index().rename(columns={'index':'time'})\n",
    "weather_df['temp'] = weather_df.temp-273.15\n",
    "weather_df['time'] = pd.to_datetime(weather_df.time, unit='s')"
   ]
  },
  {
   "cell_type": "code",
   "execution_count": null,
   "metadata": {
    "hidden": true,
    "id": "Syqu4g1dWLHZ"
   },
   "outputs": [],
   "source": [
    "merge_all = weather_df.merge(hourly_weather, left_on='time', right_index=True)"
   ]
  },
  {
   "cell_type": "code",
   "execution_count": null,
   "metadata": {
    "hidden": true,
    "id": "aYCOJTi-WNX4"
   },
   "outputs": [],
   "source": [
    "merge_all.to_csv('all_weather.csv')"
   ]
  },
  {
   "cell_type": "markdown",
   "metadata": {
    "hidden": true,
    "id": "YQSRZZWDWPzx"
   },
   "source": [
    "## Matches Data"
   ]
  },
  {
   "cell_type": "code",
   "execution_count": null,
   "metadata": {
    "hidden": true,
    "id": "OjrD3ZJGWWMl"
   },
   "outputs": [],
   "source": [
    "# API KEY\n",
    "load_dotenv(find_dotenv())\n",
    "FOOTBALL = os.environ.get(\"FOOTBALL\")"
   ]
  },
  {
   "cell_type": "code",
   "execution_count": null,
   "metadata": {
    "hidden": true,
    "id": "5rTDWvFnWW-7"
   },
   "outputs": [],
   "source": [
    "# headers = {'X-Auth-Token': FOOTBALL}\n",
    "# url = 'https://api.football-data.org/v2/matches'\n",
    "# params = {'dateFrom': '2018-04-14',\n",
    "#          'dateTo': '2018-04-16'}\n",
    "# r = requests.get(url, headers=headers, params=params)\n",
    "# r.json()"
   ]
  },
  {
   "cell_type": "code",
   "execution_count": null,
   "metadata": {
    "hidden": true,
    "id": "uhJXGew8WZD6"
   },
   "outputs": [],
   "source": [
    "root = 'raw_data/football/'\n",
    "dfs = []\n",
    "for i in os.listdir(root):\n",
    "    if '.csv' in i:\n",
    "        df = pd.read_csv(root+i)\n",
    "        dfs.append(df)"
   ]
  },
  {
   "cell_type": "code",
   "execution_count": null,
   "metadata": {
    "hidden": true,
    "id": "YJQ1YYFTWa9i"
   },
   "outputs": [],
   "source": [
    "# filter all by juve\n",
    "juve1 = dfs[0][(dfs[0]['HomeTeam'] == 'Juventus') \\\n",
    "              | (dfs[0]['AwayTeam'] == 'Juventus')]['Date']\n",
    "juve1 = pd.to_datetime(juve1, format='%d/%m/%Y')\n",
    "\n",
    "juve2 = dfs[1][(dfs[1]['Home Team'] == 'Juventus') \\\n",
    "               | (dfs[1]['Away Team'] == 'Juventus')]['Date']\n",
    "juve2 = pd.to_datetime(juve2.apply(lambda x: x[:10]), format=\"%d/%m/%Y\")\n",
    "\n",
    "juve3 = dfs[2][(dfs[2]['HomeTeam'] == 'Juventus') \\\n",
    "              | (dfs[2]['AwayTeam'] == 'Juventus')]['Date']\n",
    "juve3 = pd.to_datetime(juve3, format='%d/%m/%y')\n",
    "\n",
    "juve4 = dfs[3][(dfs[3]['Home Team'] == 'Juventus') \\\n",
    "               | (dfs[3]['Away Team'] == 'Juventus')]['Date']\n",
    "juve4 = pd.to_datetime(juve4.apply(lambda x: x[:10]), format=\"%d/%m/%Y\")"
   ]
  },
  {
   "cell_type": "code",
   "execution_count": null,
   "metadata": {
    "hidden": true,
    "id": "V1aIOmixWhUZ"
   },
   "outputs": [],
   "source": [
    "# concat all dates\n",
    "all_concat = pd.DataFrame(pd.concat([juve1, juve2, juve3, juve4]))\n",
    "# all_concat['Date'] = pd.to_datetime(all_concat.Date)\n",
    "all_concat['is_match'] = 1"
   ]
  },
  {
   "cell_type": "code",
   "execution_count": null,
   "metadata": {
    "hidden": true,
    "id": "anC81J9TWiAu"
   },
   "outputs": [],
   "source": [
    "all_concat.sort_values(by='Date')"
   ]
  },
  {
   "cell_type": "code",
   "execution_count": null,
   "metadata": {
    "hidden": true,
    "id": "hh2e0tRgWkNb"
   },
   "outputs": [],
   "source": [
    "# get all 2018 matches\n",
    "all_concat_2018 = all_concat[(all_concat.Date > '01-01-2018') \\\n",
    "                            & (all_concat.Date < '2018-12-31')]"
   ]
  },
  {
   "cell_type": "code",
   "execution_count": null,
   "metadata": {
    "hidden": true,
    "id": "QjOnry-oWmGw"
   },
   "outputs": [],
   "source": [
    "# put in 2018 time series\n",
    "r = pd.date_range('2018-01-01', '2018-12-31', freq='h')\n",
    "matches = all_concat_2018.set_index('Date').reindex(r).rename_axis('Date').reset_index()"
   ]
  },
  {
   "cell_type": "code",
   "execution_count": null,
   "metadata": {
    "hidden": true,
    "id": "fBx5zCaBWoM1"
   },
   "outputs": [],
   "source": [
    "matches.head()"
   ]
  },
  {
   "cell_type": "code",
   "execution_count": null,
   "metadata": {
    "hidden": true,
    "id": "C-VGY0rSWq16"
   },
   "outputs": [],
   "source": [
    "matches.to_csv('raw_data/football/matches_2018.csv')"
   ]
  },
  {
   "cell_type": "markdown",
   "metadata": {
    "hidden": true,
    "id": "G1WKRvr7Ws-w"
   },
   "source": [
    "## Opening Hours Data"
   ]
  },
  {
   "cell_type": "markdown",
   "metadata": {
    "hidden": true,
    "id": "gKoONMyZWyf9"
   },
   "source": [
    "This part is a bit messy, so we will explain: \n",
    "We used the ```nearbysearch``` [Link](https://developers.google.com/maps/documentation/places/web-service/search#PlaceSearchRequests) to get all the ```bars``` and ```restaurants``` business hours. \n",
    "\n",
    "Then we fetch the unique id ```reference``` from the list of businesses and run it through the ```place_details``` API [Link](https://developers.google.com/maps/documentation/places/web-service/details)\n",
    "\n",
    "From there we extract all the ```open``` (time-)elements and ```close``` (time-)elements and stack them in a dataframe divided by days of the week (0-6). \n",
    "\n",
    "In the end we merge the findings with an empty time series of 2018 with an 'hourly' sequence. \n"
   ]
  },
  {
   "cell_type": "code",
   "execution_count": null,
   "metadata": {
    "hidden": true,
    "id": "gCjaULj0Wz1Q"
   },
   "outputs": [],
   "source": [
    "# API KEY\n",
    "load_dotenv(find_dotenv())\n",
    "GOOGLE = os.environ.get(\"GOOGLE\")"
   ]
  },
  {
   "cell_type": "code",
   "execution_count": null,
   "metadata": {
    "hidden": true,
    "id": "mE7P55dAWwXs"
   },
   "outputs": [],
   "source": [
    "# first find all bars\n",
    "\n",
    "url = 'https://maps.googleapis.com/maps/api/place/nearbysearch/json'\n",
    "params = {            \n",
    "            'location':'45.05917,7.67899', #sensor\n",
    "            'radius':'200',\n",
    "            'type':'restaurant',\n",
    "            'key':GOOGLE,\n",
    "            'next_page_token':'Aap_uED24ODLIlOhPdAHG7xFrCg_OrsQ_jAruvTm3QSG4Qbnp5Q85Aa4K7ar-QgnGI7Xnl1epc9YIEj17piMfVpFUxQysBwi8XTzdWbtl6IBGKTKQwV_kxhaAUWr8JG6XVo-BVKHd8NJUwiTP-_uQvkKxc5vLZ4-v6T8ZBuS42zw5DE1L2KgNPCbm86EsPhPYOj8L1MXTRdEm_GhmQSdOt8nDxG4gKkbxiXvmHNTmuBLavqN-VrbpkRBBoVZz_t2P53_ShPgndMEwlt55EYlZHCYK2gHymy9WJjMjKn3VzS6CfcTQJ-TjgsxsrRjSqNXV4T5i2qusSJ__gsam11RBY8XRADB31i-ec_wYCh1529gNKKy9tdQbidVaQjAI72wQ-7yzTZXGzxpz8ob_DHkdVdyJLxijWoHqsXY7oQM-W3Db0u08SHwaooMyb3Da9Ij'\n",
    "         } \n",
    "\n",
    "r = requests.get(url, params=params)\n",
    "r.json()"
   ]
  },
  {
   "cell_type": "code",
   "execution_count": null,
   "metadata": {
    "hidden": true,
    "id": "Bb8RzxwnW5HC"
   },
   "outputs": [],
   "source": [
    "results = r.json().get('results')\n",
    "results2 = r.json().get('results')\n",
    "results3 = r.json().get('results')\n",
    "results4 = r.json().get('results')\n",
    "results5 = r.json().get('results')\n",
    "results6 = r.json().get('results')"
   ]
  },
  {
   "cell_type": "code",
   "execution_count": null,
   "metadata": {
    "hidden": true,
    "id": "vJZqtI2ZW6-Y"
   },
   "outputs": [],
   "source": [
    "bars = results + results2 + results3 + results4 + results5 + results6\n",
    "restaurants = results + results2 + results3 + results4 + results5 + results6\n",
    "len(restaurants)"
   ]
  },
  {
   "cell_type": "code",
   "execution_count": null,
   "metadata": {
    "hidden": true,
    "id": "heQyGlJgW9q0"
   },
   "outputs": [],
   "source": [
    "# get specific opening hrs from fetched bars/restaurants\n",
    "url = 'https://maps.googleapis.com/maps/api/place/details/json'\n",
    "params = {\n",
    "    'key':GOOGLE,\n",
    "    'fields':'opening_hours'\n",
    "         }\n",
    "opening_hrs = []\n",
    "for bar in restaurants:\n",
    "    reference = bar.get('reference')\n",
    "    params['place_id'] = reference\n",
    "    r = requests.get(url, params=params)\n",
    "    opening_hrs.append(r)"
   ]
  },
  {
   "cell_type": "code",
   "execution_count": null,
   "metadata": {
    "hidden": true,
    "id": "8psvJBamXAav"
   },
   "outputs": [],
   "source": [
    "contents_hrs = [r.json() for r in opening_hrs]\n",
    "periods = []\n",
    "for x in contents_hrs:\n",
    "    try:\n",
    "        hr = x.get('result').get('opening_hours').get('periods')\n",
    "        periods.append(hr)\n",
    "    except:\n",
    "        pass"
   ]
  },
  {
   "cell_type": "code",
   "execution_count": null,
   "metadata": {
    "hidden": true,
    "id": "9naKVk3_XCPs"
   },
   "outputs": [],
   "source": [
    "# remove 24h open bars\n",
    "new = [x for x in periods if len(x) > 1]"
   ]
  },
  {
   "cell_type": "code",
   "execution_count": null,
   "metadata": {
    "hidden": true,
    "id": "bbnxxuRrXE5t"
   },
   "outputs": [],
   "source": [
    "closing = []\n",
    "for x in new:\n",
    "    for i in x:\n",
    "        _close = i.get('close')\n",
    "        closing.append(_close)\n",
    "opening = []\n",
    "for x in new:\n",
    "    for i in x:\n",
    "        _open = i.get('open')\n",
    "        opening.append(_open)"
   ]
  },
  {
   "cell_type": "code",
   "execution_count": null,
   "metadata": {
    "hidden": true,
    "id": "3m1mJoloXHXa"
   },
   "outputs": [],
   "source": [
    "opening_times_rest = pd.DataFrame(opening)\n",
    "closing_times_rest = pd.DataFrame(closing)\n",
    "closing_times_rest['time'] = pd.to_datetime(closing_times_rest['time'], format='%H%M')\n",
    "opening_times_rest['time'] = pd.to_datetime(opening_times_rest['time'], format='%H%M')\n",
    "closing_times_rest['day'] = closing_times_rest.day.apply(lambda x: x-1 if x != 0 else 6)\n",
    "opening_times_rest['day'] = opening_times_rest.day.apply(lambda x: x-1 if x != 0 else 6)"
   ]
  },
  {
   "cell_type": "code",
   "execution_count": null,
   "metadata": {
    "hidden": true,
    "id": "VtEF0Yb_XI3l"
   },
   "outputs": [],
   "source": [
    "# create unique day_hr identifier\n",
    "closing_times_rest['day_time'] = closing_times_rest.apply(lambda x: str(x.day) + '_' + str(x.time.hour), axis=1)\n",
    "opening_times_rest['day_time'] = opening_times_rest.apply(lambda x: str(x.day) + '_' + str(x.time.hour), axis=1)"
   ]
  },
  {
   "cell_type": "code",
   "execution_count": null,
   "metadata": {
    "hidden": true,
    "id": "0JwHjarYXLLG"
   },
   "outputs": [],
   "source": [
    "# put results in dataframe\n",
    "opening_times = pd.DataFrame(opening)\n",
    "closing_times = pd.DataFrame(closing)\n",
    "closing_times['time'] = pd.to_datetime(closing_times['time'], format='%H%M')\n",
    "opening_times['time'] = pd.to_datetime(opening_times['time'], format='%H%M')\n",
    "closing_times['day'] = closing_times.day.apply(lambda x: x-1 if x != 0 else 6)\n",
    "opening_times['day'] = opening_times.day.apply(lambda x: x-1 if x != 0 else 6)"
   ]
  },
  {
   "cell_type": "code",
   "execution_count": null,
   "metadata": {
    "hidden": true,
    "id": "GOC2bfy8XMsI"
   },
   "outputs": [],
   "source": [
    "# create unique day_hr identifier\n",
    "closing_times['day_time'] = closing_times.apply(lambda x: str(x.day) + '_' + str(x.time.hour), axis=1)\n",
    "opening_times['day_time'] = opening_times.apply(lambda x: str(x.day) + '_' + str(x.time.hour), axis=1)"
   ]
  },
  {
   "cell_type": "code",
   "execution_count": null,
   "metadata": {
    "hidden": true,
    "id": "K9tPz8rQXOe4"
   },
   "outputs": [],
   "source": [
    "closing_all = pd.concat([closing_times_rest, closing_times])\n",
    "opening_all = pd.concat([opening_times_rest, opening_times])"
   ]
  },
  {
   "cell_type": "code",
   "execution_count": null,
   "metadata": {
    "hidden": true,
    "id": "_91PjDVSXQ4d"
   },
   "outputs": [],
   "source": [
    "# count all apperances of openings and closings per weekday\n",
    "agg_close = closing_all.groupby('day_time').agg({'day':'count'}).rename(columns={'day':'count_close'})\n",
    "agg_open = opening_all.groupby('day_time').agg({'day':'count'}).rename(columns={'day':'count_open'})\n",
    "agg_joint = agg_close.join(agg_open, how='outer')"
   ]
  },
  {
   "cell_type": "code",
   "execution_count": null,
   "metadata": {
    "hidden": true,
    "id": "TfrQUDNyXSh2"
   },
   "outputs": [],
   "source": [
    "# init range 2018\n",
    "range_2018 = pd.DataFrame(pd.date_range('2018-01-01', '2018-12-31', freq='h'), columns=['hour'])\n",
    "range_2018['day_time'] =  range_2018.apply(lambda x: str(x.hour.weekday()) + '_' + str(x.hour.hour), axis=1)"
   ]
  },
  {
   "cell_type": "code",
   "execution_count": null,
   "metadata": {
    "hidden": true,
    "id": "RTdGY1veXUFT"
   },
   "outputs": [],
   "source": [
    "# join both\n",
    "\n",
    "opening_count_2018 = range_2018.merge(agg_joint, \n",
    "                                    on='day_time',\n",
    "                                    how='left').drop(columns='day_time')"
   ]
  },
  {
   "cell_type": "code",
   "execution_count": null,
   "metadata": {
    "hidden": true,
    "id": "Ab_CXV_cXWcj"
   },
   "outputs": [],
   "source": [
    "opening_times"
   ]
  },
  {
   "cell_type": "code",
   "execution_count": null,
   "metadata": {
    "hidden": true,
    "id": "Lph-5ZYvXYOq"
   },
   "outputs": [],
   "source": [
    "opening_count_2018.sort_values(by='count_open')"
   ]
  },
  {
   "cell_type": "code",
   "execution_count": null,
   "metadata": {
    "hidden": true,
    "id": "gYNDSFWMXaMP"
   },
   "outputs": [],
   "source": [
    "opening_count_2018.to_csv('raw_data/opening_count_2018.csv')"
   ]
  },
  {
   "cell_type": "markdown",
   "metadata": {
    "hidden": true,
    "id": "6aqQ-DyBIKzH"
   },
   "source": [
    "## Merging Dataframes"
   ]
  },
  {
   "cell_type": "code",
   "execution_count": 87,
   "metadata": {
    "colab": {
     "base_uri": "https://localhost:8080/",
     "height": 203
    },
    "hidden": true,
    "id": "C7UwJmK4IHcn",
    "outputId": "f9cd9db9-3e20-47e2-e058-189ad73d611a"
   },
   "outputs": [
    {
     "data": {
      "text/html": [
       "<div>\n",
       "<style scoped>\n",
       "    .dataframe tbody tr th:only-of-type {\n",
       "        vertical-align: middle;\n",
       "    }\n",
       "\n",
       "    .dataframe tbody tr th {\n",
       "        vertical-align: top;\n",
       "    }\n",
       "\n",
       "    .dataframe thead th {\n",
       "        text-align: right;\n",
       "    }\n",
       "</style>\n",
       "<table border=\"1\" class=\"dataframe\">\n",
       "  <thead>\n",
       "    <tr style=\"text-align: right;\">\n",
       "      <th></th>\n",
       "      <th>Data</th>\n",
       "      <th>Ora</th>\n",
       "      <th>C1</th>\n",
       "      <th>C2</th>\n",
       "      <th>C3</th>\n",
       "      <th>C4</th>\n",
       "      <th>C5</th>\n",
       "      <th>date_hour</th>\n",
       "      <th>day</th>\n",
       "      <th>Log_Avg</th>\n",
       "    </tr>\n",
       "  </thead>\n",
       "  <tbody>\n",
       "    <tr>\n",
       "      <th>0</th>\n",
       "      <td>2018-01-01</td>\n",
       "      <td>0</td>\n",
       "      <td>68.7</td>\n",
       "      <td>56.6</td>\n",
       "      <td>76.0</td>\n",
       "      <td>58.8</td>\n",
       "      <td>66.6</td>\n",
       "      <td>01-01-18 00:00</td>\n",
       "      <td>0</td>\n",
       "      <td>70.253908</td>\n",
       "    </tr>\n",
       "    <tr>\n",
       "      <th>1</th>\n",
       "      <td>2018-01-01</td>\n",
       "      <td>1</td>\n",
       "      <td>68.3</td>\n",
       "      <td>53.6</td>\n",
       "      <td>68.2</td>\n",
       "      <td>55.7</td>\n",
       "      <td>65.4</td>\n",
       "      <td>01-01-18 01:00</td>\n",
       "      <td>0</td>\n",
       "      <td>65.424707</td>\n",
       "    </tr>\n",
       "    <tr>\n",
       "      <th>2</th>\n",
       "      <td>2018-01-01</td>\n",
       "      <td>2</td>\n",
       "      <td>59.8</td>\n",
       "      <td>51.2</td>\n",
       "      <td>64.4</td>\n",
       "      <td>53.0</td>\n",
       "      <td>64.4</td>\n",
       "      <td>01-01-18 02:00</td>\n",
       "      <td>0</td>\n",
       "      <td>61.332068</td>\n",
       "    </tr>\n",
       "    <tr>\n",
       "      <th>3</th>\n",
       "      <td>2018-01-01</td>\n",
       "      <td>3</td>\n",
       "      <td>67.4</td>\n",
       "      <td>47.5</td>\n",
       "      <td>67.5</td>\n",
       "      <td>48.7</td>\n",
       "      <td>61.8</td>\n",
       "      <td>01-01-18 03:00</td>\n",
       "      <td>0</td>\n",
       "      <td>64.069742</td>\n",
       "    </tr>\n",
       "    <tr>\n",
       "      <th>4</th>\n",
       "      <td>2018-01-01</td>\n",
       "      <td>4</td>\n",
       "      <td>68.0</td>\n",
       "      <td>47.6</td>\n",
       "      <td>64.5</td>\n",
       "      <td>49.0</td>\n",
       "      <td>60.5</td>\n",
       "      <td>01-01-18 04:00</td>\n",
       "      <td>0</td>\n",
       "      <td>63.175181</td>\n",
       "    </tr>\n",
       "  </tbody>\n",
       "</table>\n",
       "</div>"
      ],
      "text/plain": [
       "        Data  Ora    C1    C2    C3    C4    C5       date_hour  day    Log_Avg\n",
       "0 2018-01-01    0  68.7  56.6  76.0  58.8  66.6  01-01-18 00:00    0  70.253908\n",
       "1 2018-01-01    1  68.3  53.6  68.2  55.7  65.4  01-01-18 01:00    0  65.424707\n",
       "2 2018-01-01    2  59.8  51.2  64.4  53.0  64.4  01-01-18 02:00    0  61.332068\n",
       "3 2018-01-01    3  67.4  47.5  67.5  48.7  61.8  01-01-18 03:00    0  64.069742\n",
       "4 2018-01-01    4  68.0  47.6  64.5  49.0  60.5  01-01-18 04:00    0  63.175181"
      ]
     },
     "execution_count": 87,
     "metadata": {
      "tags": []
     },
     "output_type": "execute_result"
    }
   ],
   "source": [
    "df_noise_2018['date_hour'] = df_noise_2018['date_hour'].dt.strftime(\"%d-%m-%y %H:%M\")\n",
    "df_noise_2018.head()"
   ]
  },
  {
   "cell_type": "code",
   "execution_count": 88,
   "metadata": {
    "colab": {
     "base_uri": "https://localhost:8080/"
    },
    "hidden": true,
    "id": "rx3_XGGcIjKY",
    "outputId": "71c18f66-db31-432a-f3ae-805878e62066"
   },
   "outputs": [
    {
     "data": {
      "text/plain": [
       "Index(['date_time', 'No. of Visitors'], dtype='object')"
      ]
     },
     "execution_count": 88,
     "metadata": {
      "tags": []
     },
     "output_type": "execute_result"
    }
   ],
   "source": [
    "df_wifi.rename(columns = {'Time': 'date_time'}, inplace=True)\n",
    "df_wifi.columns"
   ]
  },
  {
   "cell_type": "code",
   "execution_count": 89,
   "metadata": {
    "hidden": true,
    "id": "hmHRpTOPImlC"
   },
   "outputs": [],
   "source": [
    "df_wifi['date_time'] = pd.to_datetime(df_wifi['date_time'])\n",
    "df_wifi['date_time'] = df_wifi['date_time'].dt.strftime(\"%d-%m-%y %H:%M\")"
   ]
  },
  {
   "cell_type": "code",
   "execution_count": 90,
   "metadata": {
    "hidden": true,
    "id": "iKRZLu3UIpX6"
   },
   "outputs": [],
   "source": [
    "df_weather['time'] = pd.to_datetime(df_weather['time'])\n",
    "df_weather['time'] = df_weather['time'].dt.strftime(\"%d-%m-%y %H:%M\")"
   ]
  },
  {
   "cell_type": "code",
   "execution_count": 91,
   "metadata": {
    "colab": {
     "base_uri": "https://localhost:8080/"
    },
    "hidden": true,
    "id": "kd6gzftwIr8D",
    "outputId": "78f91779-e869-4ded-e376-e331d6ebad3c"
   },
   "outputs": [
    {
     "name": "stderr",
     "output_type": "stream",
     "text": [
      "/usr/local/lib/python3.7/dist-packages/ipykernel_launcher.py:2: SettingWithCopyWarning:\n",
      "\n",
      "\n",
      "A value is trying to be set on a copy of a slice from a DataFrame\n",
      "\n",
      "See the caveats in the documentation: https://pandas.pydata.org/pandas-docs/stable/user_guide/indexing.html#returning-a-view-versus-a-copy\n",
      "\n"
     ]
    }
   ],
   "source": [
    "for x, line in enumerate(df_sim_all['data_a']):\n",
    "    df_sim_all['data_a'][x] = line[8:10] + line[4:7] + '-' + line[0:4] +' ' + line[11:16]"
   ]
  },
  {
   "cell_type": "code",
   "execution_count": 92,
   "metadata": {
    "colab": {
     "base_uri": "https://localhost:8080/"
    },
    "hidden": true,
    "id": "hVU4QfK9I3XG",
    "outputId": "1654374a-1544-4300-a639-c2bbb9cd996a"
   },
   "outputs": [
    {
     "data": {
      "text/plain": [
       "Index(['date_time', 'index', 'numero_presenze', 'dettaglio(secondi)'], dtype='object')"
      ]
     },
     "execution_count": 92,
     "metadata": {
      "tags": []
     },
     "output_type": "execute_result"
    }
   ],
   "source": [
    "df_sim_all.rename(columns= {'data_a' : 'date_time'}, inplace=True)\n",
    "df_sim_all.columns"
   ]
  },
  {
   "cell_type": "code",
   "execution_count": 93,
   "metadata": {
    "colab": {
     "base_uri": "https://localhost:8080/",
     "height": 110
    },
    "hidden": true,
    "id": "UdEB8c6vI82i",
    "outputId": "a4beefe7-31dd-4e79-f77e-7b9bd06da876"
   },
   "outputs": [
    {
     "data": {
      "text/html": [
       "<div>\n",
       "<style scoped>\n",
       "    .dataframe tbody tr th:only-of-type {\n",
       "        vertical-align: middle;\n",
       "    }\n",
       "\n",
       "    .dataframe tbody tr th {\n",
       "        vertical-align: top;\n",
       "    }\n",
       "\n",
       "    .dataframe thead th {\n",
       "        text-align: right;\n",
       "    }\n",
       "</style>\n",
       "<table border=\"1\" class=\"dataframe\">\n",
       "  <thead>\n",
       "    <tr style=\"text-align: right;\">\n",
       "      <th></th>\n",
       "      <th>date_time</th>\n",
       "      <th>index</th>\n",
       "      <th>numero_presenze</th>\n",
       "      <th>dettaglio(secondi)</th>\n",
       "    </tr>\n",
       "  </thead>\n",
       "  <tbody>\n",
       "    <tr>\n",
       "      <th>0</th>\n",
       "      <td>15-01-18 00:00</td>\n",
       "      <td>28710</td>\n",
       "      <td>17827</td>\n",
       "      <td>64800</td>\n",
       "    </tr>\n",
       "    <tr>\n",
       "      <th>1</th>\n",
       "      <td>15-01-18 01:00</td>\n",
       "      <td>28692</td>\n",
       "      <td>17640</td>\n",
       "      <td>64800</td>\n",
       "    </tr>\n",
       "  </tbody>\n",
       "</table>\n",
       "</div>"
      ],
      "text/plain": [
       "        date_time  index  numero_presenze  dettaglio(secondi)\n",
       "0  15-01-18 00:00  28710            17827               64800\n",
       "1  15-01-18 01:00  28692            17640               64800"
      ]
     },
     "execution_count": 93,
     "metadata": {
      "tags": []
     },
     "output_type": "execute_result"
    }
   ],
   "source": [
    "df_sim_all['date_time'] = pd.to_datetime(df_sim_all['date_time'])\n",
    "df_sim_all['date_time'] = df_sim_all['date_time'].dt.strftime(\"%d-%m-%y %H:%M\")\n",
    "df_sim_all.head(2)"
   ]
  },
  {
   "cell_type": "code",
   "execution_count": 94,
   "metadata": {
    "colab": {
     "base_uri": "https://localhost:8080/",
     "height": 110
    },
    "hidden": true,
    "id": "5le-TrYAI_Hy",
    "outputId": "bbb5f075-04c7-45c7-ad12-4d8fc40b63e2"
   },
   "outputs": [
    {
     "data": {
      "text/html": [
       "<div>\n",
       "<style scoped>\n",
       "    .dataframe tbody tr th:only-of-type {\n",
       "        vertical-align: middle;\n",
       "    }\n",
       "\n",
       "    .dataframe tbody tr th {\n",
       "        vertical-align: top;\n",
       "    }\n",
       "\n",
       "    .dataframe thead th {\n",
       "        text-align: right;\n",
       "    }\n",
       "</style>\n",
       "<table border=\"1\" class=\"dataframe\">\n",
       "  <thead>\n",
       "    <tr style=\"text-align: right;\">\n",
       "      <th></th>\n",
       "      <th>date_time</th>\n",
       "      <th>count_close</th>\n",
       "      <th>count_open</th>\n",
       "    </tr>\n",
       "  </thead>\n",
       "  <tbody>\n",
       "    <tr>\n",
       "      <th>0</th>\n",
       "      <td>01-01-18 00:00</td>\n",
       "      <td>66.0</td>\n",
       "      <td>NaN</td>\n",
       "    </tr>\n",
       "    <tr>\n",
       "      <th>1</th>\n",
       "      <td>01-01-18 01:00</td>\n",
       "      <td>6.0</td>\n",
       "      <td>NaN</td>\n",
       "    </tr>\n",
       "  </tbody>\n",
       "</table>\n",
       "</div>"
      ],
      "text/plain": [
       "        date_time  count_close  count_open\n",
       "0  01-01-18 00:00         66.0         NaN\n",
       "1  01-01-18 01:00          6.0         NaN"
      ]
     },
     "execution_count": 94,
     "metadata": {
      "tags": []
     },
     "output_type": "execute_result"
    }
   ],
   "source": [
    "df_opening_hours.rename(columns= {'hour' : 'date_time'}, inplace=True)\n",
    "df_opening_hours['date_time'] = pd.to_datetime(df_opening_hours['date_time'])\n",
    "df_opening_hours['date_time'] = df_opening_hours['date_time'].dt.strftime(\"%d-%m-%y %H:%M\")\n",
    "df_opening_hours.head(2)"
   ]
  },
  {
   "cell_type": "code",
   "execution_count": 95,
   "metadata": {
    "colab": {
     "base_uri": "https://localhost:8080/",
     "height": 110
    },
    "hidden": true,
    "id": "XmboXGslJDXe",
    "outputId": "77f3eacc-6961-45d0-e334-631cb9e56162"
   },
   "outputs": [
    {
     "data": {
      "text/html": [
       "<div>\n",
       "<style scoped>\n",
       "    .dataframe tbody tr th:only-of-type {\n",
       "        vertical-align: middle;\n",
       "    }\n",
       "\n",
       "    .dataframe tbody tr th {\n",
       "        vertical-align: top;\n",
       "    }\n",
       "\n",
       "    .dataframe thead th {\n",
       "        text-align: right;\n",
       "    }\n",
       "</style>\n",
       "<table border=\"1\" class=\"dataframe\">\n",
       "  <thead>\n",
       "    <tr style=\"text-align: right;\">\n",
       "      <th></th>\n",
       "      <th>date_time</th>\n",
       "      <th>is_match_pad</th>\n",
       "      <th>is_home_pad</th>\n",
       "    </tr>\n",
       "  </thead>\n",
       "  <tbody>\n",
       "    <tr>\n",
       "      <th>0</th>\n",
       "      <td>01-01-18 00:00</td>\n",
       "      <td>0.0</td>\n",
       "      <td>0.0</td>\n",
       "    </tr>\n",
       "    <tr>\n",
       "      <th>1</th>\n",
       "      <td>01-01-18 01:00</td>\n",
       "      <td>0.0</td>\n",
       "      <td>0.0</td>\n",
       "    </tr>\n",
       "  </tbody>\n",
       "</table>\n",
       "</div>"
      ],
      "text/plain": [
       "        date_time  is_match_pad  is_home_pad\n",
       "0  01-01-18 00:00           0.0          0.0\n",
       "1  01-01-18 01:00           0.0          0.0"
      ]
     },
     "execution_count": 95,
     "metadata": {
      "tags": []
     },
     "output_type": "execute_result"
    }
   ],
   "source": [
    "df_matches.rename(columns= {'Date' : 'date_time'}, inplace=True)\n",
    "df_matches['date_time'] = pd.to_datetime(df_matches['date_time'])\n",
    "df_matches['date_time'] = df_matches['date_time'].dt.strftime(\"%d-%m-%y %H:%M\")\n",
    "df_matches.head(2)"
   ]
  },
  {
   "cell_type": "code",
   "execution_count": 96,
   "metadata": {
    "hidden": true,
    "id": "52YOpENtJGa_"
   },
   "outputs": [],
   "source": [
    "df_complaints['final_date'] = pd.to_datetime(df_complaints['final_date'])\n",
    "df_complaints['final_date'] = df_complaints['final_date'].dt.strftime(\"%d-%m-%y %H:%M\")"
   ]
  },
  {
   "cell_type": "code",
   "execution_count": 109,
   "metadata": {
    "colab": {
     "base_uri": "https://localhost:8080/",
     "height": 203
    },
    "hidden": true,
    "id": "NcsasFnMPkIM",
    "outputId": "cb8d71d1-a935-4586-e1c7-aaf5ca5c2a51"
   },
   "outputs": [
    {
     "data": {
      "text/html": [
       "<div>\n",
       "<style scoped>\n",
       "    .dataframe tbody tr th:only-of-type {\n",
       "        vertical-align: middle;\n",
       "    }\n",
       "\n",
       "    .dataframe tbody tr th {\n",
       "        vertical-align: top;\n",
       "    }\n",
       "\n",
       "    .dataframe thead th {\n",
       "        text-align: right;\n",
       "    }\n",
       "</style>\n",
       "<table border=\"1\" class=\"dataframe\">\n",
       "  <thead>\n",
       "    <tr style=\"text-align: right;\">\n",
       "      <th></th>\n",
       "      <th>date_hour</th>\n",
       "      <th>isHoliday</th>\n",
       "      <th>Holiday</th>\n",
       "    </tr>\n",
       "  </thead>\n",
       "  <tbody>\n",
       "    <tr>\n",
       "      <th>0</th>\n",
       "      <td>01-01-18 00:00</td>\n",
       "      <td>1</td>\n",
       "      <td>New year's Day</td>\n",
       "    </tr>\n",
       "    <tr>\n",
       "      <th>1</th>\n",
       "      <td>01-01-18 01:00</td>\n",
       "      <td>1</td>\n",
       "      <td>New year's Day</td>\n",
       "    </tr>\n",
       "    <tr>\n",
       "      <th>2</th>\n",
       "      <td>01-01-18 02:00</td>\n",
       "      <td>1</td>\n",
       "      <td>New year's Day</td>\n",
       "    </tr>\n",
       "    <tr>\n",
       "      <th>3</th>\n",
       "      <td>01-01-18 03:00</td>\n",
       "      <td>1</td>\n",
       "      <td>New year's Day</td>\n",
       "    </tr>\n",
       "    <tr>\n",
       "      <th>4</th>\n",
       "      <td>01-01-18 04:00</td>\n",
       "      <td>1</td>\n",
       "      <td>New year's Day</td>\n",
       "    </tr>\n",
       "  </tbody>\n",
       "</table>\n",
       "</div>"
      ],
      "text/plain": [
       "        date_hour  isHoliday         Holiday\n",
       "0  01-01-18 00:00          1  New year's Day\n",
       "1  01-01-18 01:00          1  New year's Day\n",
       "2  01-01-18 02:00          1  New year's Day\n",
       "3  01-01-18 03:00          1  New year's Day\n",
       "4  01-01-18 04:00          1  New year's Day"
      ]
     },
     "execution_count": 109,
     "metadata": {
      "tags": []
     },
     "output_type": "execute_result"
    }
   ],
   "source": [
    "df_holidays['date_hour']= pd.to_datetime(df_holidays['date_hour'])\n",
    "df_holidays['date_hour'] = df_holidays['date_hour'].dt.strftime(\"%d-%m-%y %H:%M\")\n",
    "df_holidays.head()"
   ]
  },
  {
   "cell_type": "markdown",
   "metadata": {
    "hidden": true,
    "id": "w_2DNWgaJJaN"
   },
   "source": [
    "Merging noise, wifi, sim,weather,... police complaints"
   ]
  },
  {
   "cell_type": "code",
   "execution_count": 98,
   "metadata": {
    "colab": {
     "base_uri": "https://localhost:8080/",
     "height": 110
    },
    "hidden": true,
    "id": "JK6FNPeVJL7G",
    "outputId": "c5dabbb9-6923-4890-9236-be367b2d03c0"
   },
   "outputs": [
    {
     "data": {
      "text/html": [
       "<div>\n",
       "<style scoped>\n",
       "    .dataframe tbody tr th:only-of-type {\n",
       "        vertical-align: middle;\n",
       "    }\n",
       "\n",
       "    .dataframe tbody tr th {\n",
       "        vertical-align: top;\n",
       "    }\n",
       "\n",
       "    .dataframe thead th {\n",
       "        text-align: right;\n",
       "    }\n",
       "</style>\n",
       "<table border=\"1\" class=\"dataframe\">\n",
       "  <thead>\n",
       "    <tr style=\"text-align: right;\">\n",
       "      <th></th>\n",
       "      <th>Data</th>\n",
       "      <th>Ora</th>\n",
       "      <th>C1</th>\n",
       "      <th>C2</th>\n",
       "      <th>C3</th>\n",
       "      <th>C4</th>\n",
       "      <th>C5</th>\n",
       "      <th>date_hour</th>\n",
       "      <th>day</th>\n",
       "      <th>Log_Avg</th>\n",
       "      <th>date_time</th>\n",
       "      <th>No. of Visitors</th>\n",
       "    </tr>\n",
       "  </thead>\n",
       "  <tbody>\n",
       "    <tr>\n",
       "      <th>0</th>\n",
       "      <td>2018-01-01</td>\n",
       "      <td>0</td>\n",
       "      <td>68.7</td>\n",
       "      <td>56.6</td>\n",
       "      <td>76.0</td>\n",
       "      <td>58.8</td>\n",
       "      <td>66.6</td>\n",
       "      <td>01-01-18 00:00</td>\n",
       "      <td>0</td>\n",
       "      <td>70.253908</td>\n",
       "      <td>NaN</td>\n",
       "      <td>NaN</td>\n",
       "    </tr>\n",
       "    <tr>\n",
       "      <th>1</th>\n",
       "      <td>2018-01-01</td>\n",
       "      <td>1</td>\n",
       "      <td>68.3</td>\n",
       "      <td>53.6</td>\n",
       "      <td>68.2</td>\n",
       "      <td>55.7</td>\n",
       "      <td>65.4</td>\n",
       "      <td>01-01-18 01:00</td>\n",
       "      <td>0</td>\n",
       "      <td>65.424707</td>\n",
       "      <td>NaN</td>\n",
       "      <td>NaN</td>\n",
       "    </tr>\n",
       "  </tbody>\n",
       "</table>\n",
       "</div>"
      ],
      "text/plain": [
       "        Data  Ora    C1    C2  ...  day    Log_Avg  date_time No. of Visitors\n",
       "0 2018-01-01    0  68.7  56.6  ...    0  70.253908        NaN             NaN\n",
       "1 2018-01-01    1  68.3  53.6  ...    0  65.424707        NaN             NaN\n",
       "\n",
       "[2 rows x 12 columns]"
      ]
     },
     "execution_count": 98,
     "metadata": {
      "tags": []
     },
     "output_type": "execute_result"
    }
   ],
   "source": [
    "df_final = df_noise_2018.merge(df_wifi, left_on= 'date_hour', right_on= 'date_time', how='left')\n",
    "df_final.head(2)"
   ]
  },
  {
   "cell_type": "code",
   "execution_count": 99,
   "metadata": {
    "colab": {
     "base_uri": "https://localhost:8080/",
     "height": 110
    },
    "hidden": true,
    "id": "icgsduZ9JRo5",
    "outputId": "3c3a2b28-88df-4bd5-c3d0-f6f37e7a4955"
   },
   "outputs": [
    {
     "data": {
      "text/html": [
       "<div>\n",
       "<style scoped>\n",
       "    .dataframe tbody tr th:only-of-type {\n",
       "        vertical-align: middle;\n",
       "    }\n",
       "\n",
       "    .dataframe tbody tr th {\n",
       "        vertical-align: top;\n",
       "    }\n",
       "\n",
       "    .dataframe thead th {\n",
       "        text-align: right;\n",
       "    }\n",
       "</style>\n",
       "<table border=\"1\" class=\"dataframe\">\n",
       "  <thead>\n",
       "    <tr style=\"text-align: right;\">\n",
       "      <th></th>\n",
       "      <th>Data</th>\n",
       "      <th>Ora</th>\n",
       "      <th>C1</th>\n",
       "      <th>C2</th>\n",
       "      <th>C3</th>\n",
       "      <th>C4</th>\n",
       "      <th>C5</th>\n",
       "      <th>date_hour</th>\n",
       "      <th>day</th>\n",
       "      <th>Log_Avg</th>\n",
       "      <th>date_time_x</th>\n",
       "      <th>No. of Visitors</th>\n",
       "      <th>date_time_y</th>\n",
       "      <th>index</th>\n",
       "      <th>numero_presenze</th>\n",
       "      <th>dettaglio(secondi)</th>\n",
       "    </tr>\n",
       "  </thead>\n",
       "  <tbody>\n",
       "    <tr>\n",
       "      <th>0</th>\n",
       "      <td>2018-01-01</td>\n",
       "      <td>0</td>\n",
       "      <td>68.7</td>\n",
       "      <td>56.6</td>\n",
       "      <td>76.0</td>\n",
       "      <td>58.8</td>\n",
       "      <td>66.6</td>\n",
       "      <td>01-01-18 00:00</td>\n",
       "      <td>0</td>\n",
       "      <td>70.253908</td>\n",
       "      <td>NaN</td>\n",
       "      <td>NaN</td>\n",
       "      <td>NaN</td>\n",
       "      <td>NaN</td>\n",
       "      <td>NaN</td>\n",
       "      <td>NaN</td>\n",
       "    </tr>\n",
       "    <tr>\n",
       "      <th>1</th>\n",
       "      <td>2018-01-01</td>\n",
       "      <td>1</td>\n",
       "      <td>68.3</td>\n",
       "      <td>53.6</td>\n",
       "      <td>68.2</td>\n",
       "      <td>55.7</td>\n",
       "      <td>65.4</td>\n",
       "      <td>01-01-18 01:00</td>\n",
       "      <td>0</td>\n",
       "      <td>65.424707</td>\n",
       "      <td>NaN</td>\n",
       "      <td>NaN</td>\n",
       "      <td>NaN</td>\n",
       "      <td>NaN</td>\n",
       "      <td>NaN</td>\n",
       "      <td>NaN</td>\n",
       "    </tr>\n",
       "  </tbody>\n",
       "</table>\n",
       "</div>"
      ],
      "text/plain": [
       "        Data  Ora    C1  ...  index  numero_presenze  dettaglio(secondi)\n",
       "0 2018-01-01    0  68.7  ...    NaN              NaN                 NaN\n",
       "1 2018-01-01    1  68.3  ...    NaN              NaN                 NaN\n",
       "\n",
       "[2 rows x 16 columns]"
      ]
     },
     "execution_count": 99,
     "metadata": {
      "tags": []
     },
     "output_type": "execute_result"
    }
   ],
   "source": [
    "df_final_1 = df_final.merge(df_sim_all, left_on= 'date_hour', right_on= 'date_time', how='left')\n",
    "df_final_1.head(2)"
   ]
  },
  {
   "cell_type": "code",
   "execution_count": 100,
   "metadata": {
    "colab": {
     "base_uri": "https://localhost:8080/",
     "height": 248
    },
    "hidden": true,
    "id": "cRaBd0BJJTwU",
    "outputId": "3637a2c4-31e1-4736-cb73-aeac23b76d2b"
   },
   "outputs": [
    {
     "data": {
      "text/html": [
       "<div>\n",
       "<style scoped>\n",
       "    .dataframe tbody tr th:only-of-type {\n",
       "        vertical-align: middle;\n",
       "    }\n",
       "\n",
       "    .dataframe tbody tr th {\n",
       "        vertical-align: top;\n",
       "    }\n",
       "\n",
       "    .dataframe thead th {\n",
       "        text-align: right;\n",
       "    }\n",
       "</style>\n",
       "<table border=\"1\" class=\"dataframe\">\n",
       "  <thead>\n",
       "    <tr style=\"text-align: right;\">\n",
       "      <th></th>\n",
       "      <th>Data</th>\n",
       "      <th>Ora</th>\n",
       "      <th>C1</th>\n",
       "      <th>C2</th>\n",
       "      <th>C3</th>\n",
       "      <th>C4</th>\n",
       "      <th>C5</th>\n",
       "      <th>date_hour</th>\n",
       "      <th>day</th>\n",
       "      <th>Log_Avg</th>\n",
       "      <th>date_time_x</th>\n",
       "      <th>No. of Visitors</th>\n",
       "      <th>date_time_y</th>\n",
       "      <th>index</th>\n",
       "      <th>numero_presenze</th>\n",
       "      <th>dettaglio(secondi)</th>\n",
       "      <th>time</th>\n",
       "      <th>temp</th>\n",
       "      <th>winds</th>\n",
       "      <th>rainfall_mm</th>\n",
       "      <th>snowfall_mm</th>\n",
       "    </tr>\n",
       "  </thead>\n",
       "  <tbody>\n",
       "    <tr>\n",
       "      <th>0</th>\n",
       "      <td>2018-01-01</td>\n",
       "      <td>0</td>\n",
       "      <td>68.7</td>\n",
       "      <td>56.6</td>\n",
       "      <td>76.0</td>\n",
       "      <td>58.8</td>\n",
       "      <td>66.6</td>\n",
       "      <td>01-01-18 00:00</td>\n",
       "      <td>0</td>\n",
       "      <td>70.253908</td>\n",
       "      <td>NaN</td>\n",
       "      <td>NaN</td>\n",
       "      <td>NaN</td>\n",
       "      <td>NaN</td>\n",
       "      <td>NaN</td>\n",
       "      <td>NaN</td>\n",
       "      <td>01-01-18 00:00</td>\n",
       "      <td>1.04</td>\n",
       "      <td>0.366667</td>\n",
       "      <td>-0.010</td>\n",
       "      <td>2.6</td>\n",
       "    </tr>\n",
       "    <tr>\n",
       "      <th>1</th>\n",
       "      <td>2018-01-01</td>\n",
       "      <td>1</td>\n",
       "      <td>68.3</td>\n",
       "      <td>53.6</td>\n",
       "      <td>68.2</td>\n",
       "      <td>55.7</td>\n",
       "      <td>65.4</td>\n",
       "      <td>01-01-18 01:00</td>\n",
       "      <td>0</td>\n",
       "      <td>65.424707</td>\n",
       "      <td>NaN</td>\n",
       "      <td>NaN</td>\n",
       "      <td>NaN</td>\n",
       "      <td>NaN</td>\n",
       "      <td>NaN</td>\n",
       "      <td>NaN</td>\n",
       "      <td>01-01-18 01:00</td>\n",
       "      <td>1.09</td>\n",
       "      <td>0.590000</td>\n",
       "      <td>0.009</td>\n",
       "      <td>2.6</td>\n",
       "    </tr>\n",
       "  </tbody>\n",
       "</table>\n",
       "</div>"
      ],
      "text/plain": [
       "        Data  Ora    C1    C2  ...  temp     winds  rainfall_mm snowfall_mm\n",
       "0 2018-01-01    0  68.7  56.6  ...  1.04  0.366667       -0.010         2.6\n",
       "1 2018-01-01    1  68.3  53.6  ...  1.09  0.590000        0.009         2.6\n",
       "\n",
       "[2 rows x 21 columns]"
      ]
     },
     "execution_count": 100,
     "metadata": {
      "tags": []
     },
     "output_type": "execute_result"
    }
   ],
   "source": [
    "df_final_2 = df_final_1.merge(df_weather, left_on= 'date_hour', right_on= 'time', how='left')\n",
    "df_final_2.head(2)"
   ]
  },
  {
   "cell_type": "code",
   "execution_count": 101,
   "metadata": {
    "colab": {
     "base_uri": "https://localhost:8080/",
     "height": 248
    },
    "hidden": true,
    "id": "08FubUsEJVp4",
    "outputId": "96a435d2-9088-499c-d926-2931ae929ad1"
   },
   "outputs": [
    {
     "data": {
      "text/html": [
       "<div>\n",
       "<style scoped>\n",
       "    .dataframe tbody tr th:only-of-type {\n",
       "        vertical-align: middle;\n",
       "    }\n",
       "\n",
       "    .dataframe tbody tr th {\n",
       "        vertical-align: top;\n",
       "    }\n",
       "\n",
       "    .dataframe thead th {\n",
       "        text-align: right;\n",
       "    }\n",
       "</style>\n",
       "<table border=\"1\" class=\"dataframe\">\n",
       "  <thead>\n",
       "    <tr style=\"text-align: right;\">\n",
       "      <th></th>\n",
       "      <th>Data</th>\n",
       "      <th>Ora</th>\n",
       "      <th>C1</th>\n",
       "      <th>C2</th>\n",
       "      <th>C3</th>\n",
       "      <th>C4</th>\n",
       "      <th>C5</th>\n",
       "      <th>date_hour</th>\n",
       "      <th>day</th>\n",
       "      <th>Log_Avg</th>\n",
       "      <th>date_time_x</th>\n",
       "      <th>No. of Visitors</th>\n",
       "      <th>date_time_y</th>\n",
       "      <th>index</th>\n",
       "      <th>numero_presenze</th>\n",
       "      <th>dettaglio(secondi)</th>\n",
       "      <th>time</th>\n",
       "      <th>temp</th>\n",
       "      <th>winds</th>\n",
       "      <th>rainfall_mm</th>\n",
       "      <th>snowfall_mm</th>\n",
       "      <th>date_time</th>\n",
       "      <th>is_match_pad</th>\n",
       "      <th>is_home_pad</th>\n",
       "    </tr>\n",
       "  </thead>\n",
       "  <tbody>\n",
       "    <tr>\n",
       "      <th>0</th>\n",
       "      <td>2018-01-01</td>\n",
       "      <td>0</td>\n",
       "      <td>68.7</td>\n",
       "      <td>56.6</td>\n",
       "      <td>76.0</td>\n",
       "      <td>58.8</td>\n",
       "      <td>66.6</td>\n",
       "      <td>01-01-18 00:00</td>\n",
       "      <td>0</td>\n",
       "      <td>70.253908</td>\n",
       "      <td>NaN</td>\n",
       "      <td>NaN</td>\n",
       "      <td>NaN</td>\n",
       "      <td>NaN</td>\n",
       "      <td>NaN</td>\n",
       "      <td>NaN</td>\n",
       "      <td>01-01-18 00:00</td>\n",
       "      <td>1.04</td>\n",
       "      <td>0.366667</td>\n",
       "      <td>-0.010</td>\n",
       "      <td>2.6</td>\n",
       "      <td>01-01-18 00:00</td>\n",
       "      <td>0.0</td>\n",
       "      <td>0.0</td>\n",
       "    </tr>\n",
       "    <tr>\n",
       "      <th>1</th>\n",
       "      <td>2018-01-01</td>\n",
       "      <td>1</td>\n",
       "      <td>68.3</td>\n",
       "      <td>53.6</td>\n",
       "      <td>68.2</td>\n",
       "      <td>55.7</td>\n",
       "      <td>65.4</td>\n",
       "      <td>01-01-18 01:00</td>\n",
       "      <td>0</td>\n",
       "      <td>65.424707</td>\n",
       "      <td>NaN</td>\n",
       "      <td>NaN</td>\n",
       "      <td>NaN</td>\n",
       "      <td>NaN</td>\n",
       "      <td>NaN</td>\n",
       "      <td>NaN</td>\n",
       "      <td>01-01-18 01:00</td>\n",
       "      <td>1.09</td>\n",
       "      <td>0.590000</td>\n",
       "      <td>0.009</td>\n",
       "      <td>2.6</td>\n",
       "      <td>01-01-18 01:00</td>\n",
       "      <td>0.0</td>\n",
       "      <td>0.0</td>\n",
       "    </tr>\n",
       "  </tbody>\n",
       "</table>\n",
       "</div>"
      ],
      "text/plain": [
       "        Data  Ora    C1  ...       date_time  is_match_pad  is_home_pad\n",
       "0 2018-01-01    0  68.7  ...  01-01-18 00:00           0.0          0.0\n",
       "1 2018-01-01    1  68.3  ...  01-01-18 01:00           0.0          0.0\n",
       "\n",
       "[2 rows x 24 columns]"
      ]
     },
     "execution_count": 101,
     "metadata": {
      "tags": []
     },
     "output_type": "execute_result"
    }
   ],
   "source": [
    "df_final_3 = df_final_2.merge(df_matches, left_on= 'date_hour', right_on= 'date_time', how='left')\n",
    "df_final_3.head(2)"
   ]
  },
  {
   "cell_type": "code",
   "execution_count": 102,
   "metadata": {
    "hidden": true,
    "id": "b7f5za3CJZqt"
   },
   "outputs": [],
   "source": [
    "df_final_4 = df_final_3.merge(df_opening_hours, left_on= 'date_hour', right_on= 'date_time', how='left')"
   ]
  },
  {
   "cell_type": "code",
   "execution_count": 103,
   "metadata": {
    "colab": {
     "base_uri": "https://localhost:8080/"
    },
    "hidden": true,
    "id": "FI-vHlqhJchH",
    "outputId": "69c6b588-c3bb-494e-bea3-21ec5147185b"
   },
   "outputs": [
    {
     "data": {
      "text/plain": [
       "Index(['Data', 'Ora', 'C1', 'C2', 'C3', 'C4', 'C5', 'date_hour', 'day',\n",
       "       'Log_Avg', 'date_time_x', 'No. of Visitors', 'date_time_y', 'index',\n",
       "       'numero_presenze', 'dettaglio(secondi)', 'time', 'temp', 'winds',\n",
       "       'rainfall_mm', 'snowfall_mm', 'date_time_x', 'is_match_pad',\n",
       "       'is_home_pad', 'date_time_y', 'count_close', 'count_open'],\n",
       "      dtype='object')"
      ]
     },
     "execution_count": 103,
     "metadata": {
      "tags": []
     },
     "output_type": "execute_result"
    }
   ],
   "source": [
    "df_final_4.columns"
   ]
  },
  {
   "cell_type": "code",
   "execution_count": 104,
   "metadata": {
    "colab": {
     "base_uri": "https://localhost:8080/",
     "height": 248
    },
    "hidden": true,
    "id": "Ttj4g74iJhU1",
    "outputId": "4b1638c2-1bce-4e26-e9c2-3cc0c6aad17b"
   },
   "outputs": [
    {
     "data": {
      "text/html": [
       "<div>\n",
       "<style scoped>\n",
       "    .dataframe tbody tr th:only-of-type {\n",
       "        vertical-align: middle;\n",
       "    }\n",
       "\n",
       "    .dataframe tbody tr th {\n",
       "        vertical-align: top;\n",
       "    }\n",
       "\n",
       "    .dataframe thead th {\n",
       "        text-align: right;\n",
       "    }\n",
       "</style>\n",
       "<table border=\"1\" class=\"dataframe\">\n",
       "  <thead>\n",
       "    <tr style=\"text-align: right;\">\n",
       "      <th></th>\n",
       "      <th>Data</th>\n",
       "      <th>Ora</th>\n",
       "      <th>C1</th>\n",
       "      <th>C2</th>\n",
       "      <th>C3</th>\n",
       "      <th>C4</th>\n",
       "      <th>C5</th>\n",
       "      <th>date_hour</th>\n",
       "      <th>day</th>\n",
       "      <th>Log_Avg</th>\n",
       "      <th>date_time_x</th>\n",
       "      <th>No. of Visitors</th>\n",
       "      <th>date_time_y</th>\n",
       "      <th>index</th>\n",
       "      <th>numero_presenze</th>\n",
       "      <th>dettaglio(secondi)</th>\n",
       "      <th>time</th>\n",
       "      <th>temp</th>\n",
       "      <th>winds</th>\n",
       "      <th>rainfall_mm</th>\n",
       "      <th>snowfall_mm</th>\n",
       "      <th>date_time_x</th>\n",
       "      <th>is_match_pad</th>\n",
       "      <th>is_home_pad</th>\n",
       "      <th>date_time_y</th>\n",
       "      <th>count_close</th>\n",
       "      <th>count_open</th>\n",
       "      <th>final_date</th>\n",
       "      <th>count_complaint</th>\n",
       "    </tr>\n",
       "  </thead>\n",
       "  <tbody>\n",
       "    <tr>\n",
       "      <th>0</th>\n",
       "      <td>2018-01-01</td>\n",
       "      <td>0</td>\n",
       "      <td>68.7</td>\n",
       "      <td>56.6</td>\n",
       "      <td>76.0</td>\n",
       "      <td>58.8</td>\n",
       "      <td>66.6</td>\n",
       "      <td>01-01-18 00:00</td>\n",
       "      <td>0</td>\n",
       "      <td>70.253908</td>\n",
       "      <td>NaN</td>\n",
       "      <td>NaN</td>\n",
       "      <td>NaN</td>\n",
       "      <td>NaN</td>\n",
       "      <td>NaN</td>\n",
       "      <td>NaN</td>\n",
       "      <td>01-01-18 00:00</td>\n",
       "      <td>1.04</td>\n",
       "      <td>0.366667</td>\n",
       "      <td>-0.010</td>\n",
       "      <td>2.6</td>\n",
       "      <td>01-01-18 00:00</td>\n",
       "      <td>0.0</td>\n",
       "      <td>0.0</td>\n",
       "      <td>01-01-18 00:00</td>\n",
       "      <td>66.0</td>\n",
       "      <td>NaN</td>\n",
       "      <td>01-01-18 00:00</td>\n",
       "      <td>0.0</td>\n",
       "    </tr>\n",
       "    <tr>\n",
       "      <th>1</th>\n",
       "      <td>2018-01-01</td>\n",
       "      <td>1</td>\n",
       "      <td>68.3</td>\n",
       "      <td>53.6</td>\n",
       "      <td>68.2</td>\n",
       "      <td>55.7</td>\n",
       "      <td>65.4</td>\n",
       "      <td>01-01-18 01:00</td>\n",
       "      <td>0</td>\n",
       "      <td>65.424707</td>\n",
       "      <td>NaN</td>\n",
       "      <td>NaN</td>\n",
       "      <td>NaN</td>\n",
       "      <td>NaN</td>\n",
       "      <td>NaN</td>\n",
       "      <td>NaN</td>\n",
       "      <td>01-01-18 01:00</td>\n",
       "      <td>1.09</td>\n",
       "      <td>0.590000</td>\n",
       "      <td>0.009</td>\n",
       "      <td>2.6</td>\n",
       "      <td>01-01-18 01:00</td>\n",
       "      <td>0.0</td>\n",
       "      <td>0.0</td>\n",
       "      <td>01-01-18 01:00</td>\n",
       "      <td>6.0</td>\n",
       "      <td>NaN</td>\n",
       "      <td>01-01-18 01:00</td>\n",
       "      <td>0.0</td>\n",
       "    </tr>\n",
       "  </tbody>\n",
       "</table>\n",
       "</div>"
      ],
      "text/plain": [
       "        Data  Ora    C1  ...  count_open      final_date  count_complaint\n",
       "0 2018-01-01    0  68.7  ...         NaN  01-01-18 00:00              0.0\n",
       "1 2018-01-01    1  68.3  ...         NaN  01-01-18 01:00              0.0\n",
       "\n",
       "[2 rows x 29 columns]"
      ]
     },
     "execution_count": 104,
     "metadata": {
      "tags": []
     },
     "output_type": "execute_result"
    }
   ],
   "source": [
    "df_final_5=df_final_4.merge(df_complaints, left_on='date_hour', right_on = 'final_date', how =\"left\")\n",
    "df_final_5.head(2)"
   ]
  },
  {
   "cell_type": "code",
   "execution_count": 105,
   "metadata": {
    "colab": {
     "base_uri": "https://localhost:8080/",
     "height": 248
    },
    "hidden": true,
    "id": "-dlRpjUVJmly",
    "outputId": "4808af2f-fe3b-41f0-ac29-a31b85115fad"
   },
   "outputs": [
    {
     "data": {
      "text/html": [
       "<div>\n",
       "<style scoped>\n",
       "    .dataframe tbody tr th:only-of-type {\n",
       "        vertical-align: middle;\n",
       "    }\n",
       "\n",
       "    .dataframe tbody tr th {\n",
       "        vertical-align: top;\n",
       "    }\n",
       "\n",
       "    .dataframe thead th {\n",
       "        text-align: right;\n",
       "    }\n",
       "</style>\n",
       "<table border=\"1\" class=\"dataframe\">\n",
       "  <thead>\n",
       "    <tr style=\"text-align: right;\">\n",
       "      <th></th>\n",
       "      <th>Data</th>\n",
       "      <th>Ora</th>\n",
       "      <th>C1</th>\n",
       "      <th>C2</th>\n",
       "      <th>C3</th>\n",
       "      <th>C4</th>\n",
       "      <th>C5</th>\n",
       "      <th>date_hour</th>\n",
       "      <th>day</th>\n",
       "      <th>Log_Avg</th>\n",
       "      <th>date_time_x</th>\n",
       "      <th>No. of Visitors</th>\n",
       "      <th>date_time_y</th>\n",
       "      <th>index</th>\n",
       "      <th>numero_presenze</th>\n",
       "      <th>dettaglio(secondi)</th>\n",
       "      <th>time</th>\n",
       "      <th>temp</th>\n",
       "      <th>winds</th>\n",
       "      <th>rainfall_mm</th>\n",
       "      <th>snowfall_mm</th>\n",
       "      <th>date_time_x</th>\n",
       "      <th>is_match_pad</th>\n",
       "      <th>is_home_pad</th>\n",
       "      <th>date_time_y</th>\n",
       "      <th>count_close</th>\n",
       "      <th>count_open</th>\n",
       "      <th>final_date</th>\n",
       "      <th>count_complaint</th>\n",
       "      <th>dat_hr</th>\n",
       "      <th>n</th>\n",
       "      <th>flow_mean</th>\n",
       "      <th>flow_sd</th>\n",
       "      <th>flow_median</th>\n",
       "      <th>speed_mean</th>\n",
       "      <th>speed_sd</th>\n",
       "      <th>speed_median</th>\n",
       "    </tr>\n",
       "  </thead>\n",
       "  <tbody>\n",
       "    <tr>\n",
       "      <th>0</th>\n",
       "      <td>2018-01-01</td>\n",
       "      <td>0</td>\n",
       "      <td>68.7</td>\n",
       "      <td>56.6</td>\n",
       "      <td>76.0</td>\n",
       "      <td>58.8</td>\n",
       "      <td>66.6</td>\n",
       "      <td>01-01-18 00:00</td>\n",
       "      <td>0</td>\n",
       "      <td>70.253908</td>\n",
       "      <td>NaN</td>\n",
       "      <td>NaN</td>\n",
       "      <td>NaN</td>\n",
       "      <td>NaN</td>\n",
       "      <td>NaN</td>\n",
       "      <td>NaN</td>\n",
       "      <td>01-01-18 00:00</td>\n",
       "      <td>1.04</td>\n",
       "      <td>0.366667</td>\n",
       "      <td>-0.010</td>\n",
       "      <td>2.6</td>\n",
       "      <td>01-01-18 00:00</td>\n",
       "      <td>0.0</td>\n",
       "      <td>0.0</td>\n",
       "      <td>01-01-18 00:00</td>\n",
       "      <td>66.0</td>\n",
       "      <td>NaN</td>\n",
       "      <td>01-01-18 00:00</td>\n",
       "      <td>0.0</td>\n",
       "      <td>01-01-18 00:00</td>\n",
       "      <td>991.0</td>\n",
       "      <td>2297.135</td>\n",
       "      <td>1304.423</td>\n",
       "      <td>2085.0</td>\n",
       "      <td>369.392</td>\n",
       "      <td>135.967</td>\n",
       "      <td>341.945</td>\n",
       "    </tr>\n",
       "    <tr>\n",
       "      <th>1</th>\n",
       "      <td>2018-01-01</td>\n",
       "      <td>1</td>\n",
       "      <td>68.3</td>\n",
       "      <td>53.6</td>\n",
       "      <td>68.2</td>\n",
       "      <td>55.7</td>\n",
       "      <td>65.4</td>\n",
       "      <td>01-01-18 01:00</td>\n",
       "      <td>0</td>\n",
       "      <td>65.424707</td>\n",
       "      <td>NaN</td>\n",
       "      <td>NaN</td>\n",
       "      <td>NaN</td>\n",
       "      <td>NaN</td>\n",
       "      <td>NaN</td>\n",
       "      <td>NaN</td>\n",
       "      <td>01-01-18 01:00</td>\n",
       "      <td>1.09</td>\n",
       "      <td>0.590000</td>\n",
       "      <td>0.009</td>\n",
       "      <td>2.6</td>\n",
       "      <td>01-01-18 01:00</td>\n",
       "      <td>0.0</td>\n",
       "      <td>0.0</td>\n",
       "      <td>01-01-18 01:00</td>\n",
       "      <td>6.0</td>\n",
       "      <td>NaN</td>\n",
       "      <td>01-01-18 01:00</td>\n",
       "      <td>0.0</td>\n",
       "      <td>01-01-18 01:00</td>\n",
       "      <td>1163.0</td>\n",
       "      <td>4479.686</td>\n",
       "      <td>2634.671</td>\n",
       "      <td>4095.0</td>\n",
       "      <td>341.489</td>\n",
       "      <td>122.820</td>\n",
       "      <td>311.755</td>\n",
       "    </tr>\n",
       "  </tbody>\n",
       "</table>\n",
       "</div>"
      ],
      "text/plain": [
       "        Data  Ora    C1    C2  ...  flow_median  speed_mean  speed_sd speed_median\n",
       "0 2018-01-01    0  68.7  56.6  ...       2085.0     369.392   135.967      341.945\n",
       "1 2018-01-01    1  68.3  53.6  ...       4095.0     341.489   122.820      311.755\n",
       "\n",
       "[2 rows x 37 columns]"
      ]
     },
     "execution_count": 105,
     "metadata": {
      "tags": []
     },
     "output_type": "execute_result"
    }
   ],
   "source": [
    "df_final_6=df_final_5.merge(df_transport, left_on='date_hour', right_on = 'dat_hr', how =\"left\")\n",
    "df_final_6.head(2)"
   ]
  },
  {
   "cell_type": "code",
   "execution_count": 106,
   "metadata": {
    "hidden": true,
    "id": "ySj0gDJHJ1BU"
   },
   "outputs": [],
   "source": [
    "df_final_7 = df_final_6.drop(columns = ['date_time_x','date_time_y', 'time'] )"
   ]
  },
  {
   "cell_type": "code",
   "execution_count": 107,
   "metadata": {
    "colab": {
     "base_uri": "https://localhost:8080/"
    },
    "hidden": true,
    "id": "kTMsk9EpJ5jK",
    "outputId": "4b38c6a2-8692-4adb-b3b6-2c0014495115"
   },
   "outputs": [
    {
     "name": "stderr",
     "output_type": "stream",
     "text": [
      "/usr/local/lib/python3.7/dist-packages/ipykernel_launcher.py:1: SettingWithCopyWarning:\n",
      "\n",
      "\n",
      "A value is trying to be set on a copy of a slice from a DataFrame.\n",
      "Try using .loc[row_indexer,col_indexer] = value instead\n",
      "\n",
      "See the caveats in the documentation: https://pandas.pydata.org/pandas-docs/stable/user_guide/indexing.html#returning-a-view-versus-a-copy\n",
      "\n",
      "/usr/local/lib/python3.7/dist-packages/ipykernel_launcher.py:2: SettingWithCopyWarning:\n",
      "\n",
      "\n",
      "A value is trying to be set on a copy of a slice from a DataFrame.\n",
      "Try using .loc[row_indexer,col_indexer] = value instead\n",
      "\n",
      "See the caveats in the documentation: https://pandas.pydata.org/pandas-docs/stable/user_guide/indexing.html#returning-a-view-versus-a-copy\n",
      "\n"
     ]
    }
   ],
   "source": [
    "df_final_7['date_hour'] = pd.to_datetime(df_final_7['date_hour'])\n",
    "df_final_7['date'] = df_final_7['date_hour'].dt.strftime(\"%d-%m-%y\")"
   ]
  },
  {
   "cell_type": "code",
   "execution_count": 110,
   "metadata": {
    "colab": {
     "base_uri": "https://localhost:8080/",
     "height": 214
    },
    "hidden": true,
    "id": "k0aCKsphU4IH",
    "outputId": "f555a7c2-5cd0-44b8-f6d9-0c866d41f116"
   },
   "outputs": [
    {
     "data": {
      "text/html": [
       "<div>\n",
       "<style scoped>\n",
       "    .dataframe tbody tr th:only-of-type {\n",
       "        vertical-align: middle;\n",
       "    }\n",
       "\n",
       "    .dataframe tbody tr th {\n",
       "        vertical-align: top;\n",
       "    }\n",
       "\n",
       "    .dataframe thead th {\n",
       "        text-align: right;\n",
       "    }\n",
       "</style>\n",
       "<table border=\"1\" class=\"dataframe\">\n",
       "  <thead>\n",
       "    <tr style=\"text-align: right;\">\n",
       "      <th></th>\n",
       "      <th>Data</th>\n",
       "      <th>Ora</th>\n",
       "      <th>C1</th>\n",
       "      <th>C2</th>\n",
       "      <th>C3</th>\n",
       "      <th>C4</th>\n",
       "      <th>C5</th>\n",
       "      <th>date_hour</th>\n",
       "      <th>day</th>\n",
       "      <th>Log_Avg</th>\n",
       "      <th>No. of Visitors</th>\n",
       "      <th>index</th>\n",
       "      <th>numero_presenze</th>\n",
       "      <th>dettaglio(secondi)</th>\n",
       "      <th>temp</th>\n",
       "      <th>winds</th>\n",
       "      <th>rainfall_mm</th>\n",
       "      <th>snowfall_mm</th>\n",
       "      <th>is_match_pad</th>\n",
       "      <th>is_home_pad</th>\n",
       "      <th>count_close</th>\n",
       "      <th>count_open</th>\n",
       "      <th>final_date</th>\n",
       "      <th>count_complaint</th>\n",
       "      <th>dat_hr</th>\n",
       "      <th>n</th>\n",
       "      <th>flow_mean</th>\n",
       "      <th>flow_sd</th>\n",
       "      <th>flow_median</th>\n",
       "      <th>speed_mean</th>\n",
       "      <th>speed_sd</th>\n",
       "      <th>speed_median</th>\n",
       "      <th>date</th>\n",
       "    </tr>\n",
       "  </thead>\n",
       "  <tbody>\n",
       "    <tr>\n",
       "      <th>0</th>\n",
       "      <td>2018-01-01</td>\n",
       "      <td>0</td>\n",
       "      <td>68.7</td>\n",
       "      <td>56.6</td>\n",
       "      <td>76.0</td>\n",
       "      <td>58.8</td>\n",
       "      <td>66.6</td>\n",
       "      <td>2018-01-01 00:00:00</td>\n",
       "      <td>0</td>\n",
       "      <td>70.253908</td>\n",
       "      <td>NaN</td>\n",
       "      <td>NaN</td>\n",
       "      <td>NaN</td>\n",
       "      <td>NaN</td>\n",
       "      <td>1.04</td>\n",
       "      <td>0.366667</td>\n",
       "      <td>-0.010</td>\n",
       "      <td>2.6</td>\n",
       "      <td>0.0</td>\n",
       "      <td>0.0</td>\n",
       "      <td>66.0</td>\n",
       "      <td>NaN</td>\n",
       "      <td>01-01-18 00:00</td>\n",
       "      <td>0.0</td>\n",
       "      <td>01-01-18 00:00</td>\n",
       "      <td>991.0</td>\n",
       "      <td>2297.135</td>\n",
       "      <td>1304.423</td>\n",
       "      <td>2085.0</td>\n",
       "      <td>369.392</td>\n",
       "      <td>135.967</td>\n",
       "      <td>341.945</td>\n",
       "      <td>01-01-18</td>\n",
       "    </tr>\n",
       "    <tr>\n",
       "      <th>1</th>\n",
       "      <td>2018-01-01</td>\n",
       "      <td>1</td>\n",
       "      <td>68.3</td>\n",
       "      <td>53.6</td>\n",
       "      <td>68.2</td>\n",
       "      <td>55.7</td>\n",
       "      <td>65.4</td>\n",
       "      <td>2018-01-01 01:00:00</td>\n",
       "      <td>0</td>\n",
       "      <td>65.424707</td>\n",
       "      <td>NaN</td>\n",
       "      <td>NaN</td>\n",
       "      <td>NaN</td>\n",
       "      <td>NaN</td>\n",
       "      <td>1.09</td>\n",
       "      <td>0.590000</td>\n",
       "      <td>0.009</td>\n",
       "      <td>2.6</td>\n",
       "      <td>0.0</td>\n",
       "      <td>0.0</td>\n",
       "      <td>6.0</td>\n",
       "      <td>NaN</td>\n",
       "      <td>01-01-18 01:00</td>\n",
       "      <td>0.0</td>\n",
       "      <td>01-01-18 01:00</td>\n",
       "      <td>1163.0</td>\n",
       "      <td>4479.686</td>\n",
       "      <td>2634.671</td>\n",
       "      <td>4095.0</td>\n",
       "      <td>341.489</td>\n",
       "      <td>122.820</td>\n",
       "      <td>311.755</td>\n",
       "      <td>01-01-18</td>\n",
       "    </tr>\n",
       "  </tbody>\n",
       "</table>\n",
       "</div>"
      ],
      "text/plain": [
       "        Data  Ora    C1    C2  ...  speed_mean  speed_sd  speed_median      date\n",
       "0 2018-01-01    0  68.7  56.6  ...     369.392   135.967       341.945  01-01-18\n",
       "1 2018-01-01    1  68.3  53.6  ...     341.489   122.820       311.755  01-01-18\n",
       "\n",
       "[2 rows x 33 columns]"
      ]
     },
     "execution_count": 110,
     "metadata": {
      "tags": []
     },
     "output_type": "execute_result"
    }
   ],
   "source": [
    "df_final_7.head(2)"
   ]
  },
  {
   "cell_type": "code",
   "execution_count": 111,
   "metadata": {
    "colab": {
     "base_uri": "https://localhost:8080/",
     "height": 343
    },
    "hidden": true,
    "id": "wGiE3gAOJ_lG",
    "outputId": "50f71431-ef93-403a-ac18-14a7c054fc61"
   },
   "outputs": [
    {
     "data": {
      "text/html": [
       "<div>\n",
       "<style scoped>\n",
       "    .dataframe tbody tr th:only-of-type {\n",
       "        vertical-align: middle;\n",
       "    }\n",
       "\n",
       "    .dataframe tbody tr th {\n",
       "        vertical-align: top;\n",
       "    }\n",
       "\n",
       "    .dataframe thead th {\n",
       "        text-align: right;\n",
       "    }\n",
       "</style>\n",
       "<table border=\"1\" class=\"dataframe\">\n",
       "  <thead>\n",
       "    <tr style=\"text-align: right;\">\n",
       "      <th></th>\n",
       "      <th>Data</th>\n",
       "      <th>Ora</th>\n",
       "      <th>C1</th>\n",
       "      <th>C2</th>\n",
       "      <th>C3</th>\n",
       "      <th>C4</th>\n",
       "      <th>C5</th>\n",
       "      <th>date_hour_x</th>\n",
       "      <th>day</th>\n",
       "      <th>Log_Avg</th>\n",
       "      <th>No. of Visitors</th>\n",
       "      <th>index</th>\n",
       "      <th>numero_presenze</th>\n",
       "      <th>dettaglio(secondi)</th>\n",
       "      <th>temp</th>\n",
       "      <th>winds</th>\n",
       "      <th>rainfall_mm</th>\n",
       "      <th>snowfall_mm</th>\n",
       "      <th>is_match_pad</th>\n",
       "      <th>is_home_pad</th>\n",
       "      <th>count_close</th>\n",
       "      <th>count_open</th>\n",
       "      <th>final_date</th>\n",
       "      <th>count_complaint</th>\n",
       "      <th>dat_hr</th>\n",
       "      <th>n</th>\n",
       "      <th>flow_mean</th>\n",
       "      <th>flow_sd</th>\n",
       "      <th>flow_median</th>\n",
       "      <th>speed_mean</th>\n",
       "      <th>speed_sd</th>\n",
       "      <th>speed_median</th>\n",
       "      <th>date</th>\n",
       "      <th>date_hour_y</th>\n",
       "      <th>isHoliday</th>\n",
       "      <th>Holiday</th>\n",
       "    </tr>\n",
       "  </thead>\n",
       "  <tbody>\n",
       "    <tr>\n",
       "      <th>1894</th>\n",
       "      <td>2018-01-18</td>\n",
       "      <td>13</td>\n",
       "      <td>60.7</td>\n",
       "      <td>62.9</td>\n",
       "      <td>61.1</td>\n",
       "      <td>62.5</td>\n",
       "      <td>64.4</td>\n",
       "      <td>2018-01-18 13:00:00</td>\n",
       "      <td>3</td>\n",
       "      <td>62.526346</td>\n",
       "      <td>NaN</td>\n",
       "      <td>27180.0</td>\n",
       "      <td>19537.0</td>\n",
       "      <td>64800.0</td>\n",
       "      <td>8.26</td>\n",
       "      <td>1.52</td>\n",
       "      <td>-0.003</td>\n",
       "      <td>9.366667</td>\n",
       "      <td>0.0</td>\n",
       "      <td>0.0</td>\n",
       "      <td>NaN</td>\n",
       "      <td>NaN</td>\n",
       "      <td>18-01-18 13:00</td>\n",
       "      <td>0.0</td>\n",
       "      <td>18-01-18 13:00</td>\n",
       "      <td>1099.0</td>\n",
       "      <td>7867.440</td>\n",
       "      <td>4537.972</td>\n",
       "      <td>7029.0</td>\n",
       "      <td>337.554</td>\n",
       "      <td>123.179</td>\n",
       "      <td>311.115</td>\n",
       "      <td>18-01-18</td>\n",
       "      <td>18-01-18 13:00</td>\n",
       "      <td>0.0</td>\n",
       "      <td>NaN</td>\n",
       "    </tr>\n",
       "    <tr>\n",
       "      <th>10548</th>\n",
       "      <td>2018-06-06</td>\n",
       "      <td>14</td>\n",
       "      <td>60.3</td>\n",
       "      <td>60.1</td>\n",
       "      <td>61.7</td>\n",
       "      <td>62.0</td>\n",
       "      <td>64.3</td>\n",
       "      <td>2018-06-06 14:00:00</td>\n",
       "      <td>2</td>\n",
       "      <td>61.959189</td>\n",
       "      <td>NaN</td>\n",
       "      <td>27576.0</td>\n",
       "      <td>20591.0</td>\n",
       "      <td>64800.0</td>\n",
       "      <td>20.76</td>\n",
       "      <td>NaN</td>\n",
       "      <td>-0.013</td>\n",
       "      <td>25.133333</td>\n",
       "      <td>0.0</td>\n",
       "      <td>0.0</td>\n",
       "      <td>36.0</td>\n",
       "      <td>NaN</td>\n",
       "      <td>06-06-18 14:00</td>\n",
       "      <td>0.0</td>\n",
       "      <td>06-06-18 14:00</td>\n",
       "      <td>1038.0</td>\n",
       "      <td>8848.885</td>\n",
       "      <td>5101.341</td>\n",
       "      <td>8070.0</td>\n",
       "      <td>344.483</td>\n",
       "      <td>138.537</td>\n",
       "      <td>307.380</td>\n",
       "      <td>06-06-18</td>\n",
       "      <td>06-06-18 14:00</td>\n",
       "      <td>0.0</td>\n",
       "      <td>NaN</td>\n",
       "    </tr>\n",
       "    <tr>\n",
       "      <th>7294</th>\n",
       "      <td>2018-03-24</td>\n",
       "      <td>21</td>\n",
       "      <td>62.6</td>\n",
       "      <td>59.9</td>\n",
       "      <td>67.8</td>\n",
       "      <td>65.0</td>\n",
       "      <td>61.7</td>\n",
       "      <td>2018-03-24 21:00:00</td>\n",
       "      <td>5</td>\n",
       "      <td>64.302015</td>\n",
       "      <td>NaN</td>\n",
       "      <td>26001.0</td>\n",
       "      <td>24294.0</td>\n",
       "      <td>64800.0</td>\n",
       "      <td>5.99</td>\n",
       "      <td>NaN</td>\n",
       "      <td>0.000</td>\n",
       "      <td>7.900000</td>\n",
       "      <td>0.0</td>\n",
       "      <td>0.0</td>\n",
       "      <td>6.0</td>\n",
       "      <td>NaN</td>\n",
       "      <td>24-03-18 21:00</td>\n",
       "      <td>0.0</td>\n",
       "      <td>24-03-18 21:00</td>\n",
       "      <td>1087.0</td>\n",
       "      <td>5124.968</td>\n",
       "      <td>3043.525</td>\n",
       "      <td>4539.0</td>\n",
       "      <td>365.115</td>\n",
       "      <td>130.151</td>\n",
       "      <td>334.160</td>\n",
       "      <td>24-03-18</td>\n",
       "      <td>24-03-18 21:00</td>\n",
       "      <td>0.0</td>\n",
       "      <td>NaN</td>\n",
       "    </tr>\n",
       "    <tr>\n",
       "      <th>1517</th>\n",
       "      <td>2018-01-17</td>\n",
       "      <td>16</td>\n",
       "      <td>62.6</td>\n",
       "      <td>62.8</td>\n",
       "      <td>60.3</td>\n",
       "      <td>63.1</td>\n",
       "      <td>64.6</td>\n",
       "      <td>2018-01-17 16:00:00</td>\n",
       "      <td>2</td>\n",
       "      <td>62.888057</td>\n",
       "      <td>NaN</td>\n",
       "      <td>27558.0</td>\n",
       "      <td>19557.0</td>\n",
       "      <td>64800.0</td>\n",
       "      <td>8.17</td>\n",
       "      <td>3.13</td>\n",
       "      <td>0.003</td>\n",
       "      <td>9.033333</td>\n",
       "      <td>0.0</td>\n",
       "      <td>0.0</td>\n",
       "      <td>NaN</td>\n",
       "      <td>NaN</td>\n",
       "      <td>17-01-18 16:00</td>\n",
       "      <td>0.0</td>\n",
       "      <td>17-01-18 16:00</td>\n",
       "      <td>1063.0</td>\n",
       "      <td>9497.356</td>\n",
       "      <td>5385.025</td>\n",
       "      <td>8496.0</td>\n",
       "      <td>319.182</td>\n",
       "      <td>116.537</td>\n",
       "      <td>295.105</td>\n",
       "      <td>17-01-18</td>\n",
       "      <td>17-01-18 16:00</td>\n",
       "      <td>0.0</td>\n",
       "      <td>NaN</td>\n",
       "    </tr>\n",
       "  </tbody>\n",
       "</table>\n",
       "</div>"
      ],
      "text/plain": [
       "            Data  Ora    C1    C2  ...      date     date_hour_y  isHoliday Holiday\n",
       "1894  2018-01-18   13  60.7  62.9  ...  18-01-18  18-01-18 13:00        0.0     NaN\n",
       "10548 2018-06-06   14  60.3  60.1  ...  06-06-18  06-06-18 14:00        0.0     NaN\n",
       "7294  2018-03-24   21  62.6  59.9  ...  24-03-18  24-03-18 21:00        0.0     NaN\n",
       "1517  2018-01-17   16  62.6  62.8  ...  17-01-18  17-01-18 16:00        0.0     NaN\n",
       "\n",
       "[4 rows x 36 columns]"
      ]
     },
     "execution_count": 111,
     "metadata": {
      "tags": []
     },
     "output_type": "execute_result"
    }
   ],
   "source": [
    "df_finalized = df_final_7.merge(df_holidays, left_on='final_date', right_on = 'date_hour', how =\"left\")\n",
    "#df_finalized['isHoliday'] = df_finalized['Holiday'].apply(lambda x: 0 if pd.isnull(x)==True else 1)\n",
    "df_finalized.sample(4)"
   ]
  },
  {
   "cell_type": "code",
   "execution_count": 54,
   "metadata": {
    "hidden": true,
    "id": "syH_QXpdKGHl"
   },
   "outputs": [],
   "source": [
    "df_finalized = df_finalized.drop(columns= ['Data','Date'])"
   ]
  },
  {
   "cell_type": "code",
   "execution_count": 56,
   "metadata": {
    "colab": {
     "base_uri": "https://localhost:8080/"
    },
    "hidden": true,
    "id": "1MZK76GCKNuo",
    "outputId": "91b10a76-3ac4-46a3-fa2e-d5d81aecfb8e"
   },
   "outputs": [
    {
     "data": {
      "text/plain": [
       "Index(['Ora', 'C1', 'C2', 'C3', 'C4', 'C5', 'date_hour', 'day', 'Log_Avg',\n",
       "       'No. of Visitors', 'index', 'numero_presenze', 'dettaglio(secondi)',\n",
       "       'temp', 'winds', 'rainfall_mm', 'snowfall_mm', 'is_match_pad',\n",
       "       'is_home_pad', 'count_close', 'count_open', 'final_date',\n",
       "       'count_complaint', 'dat_hr', 'n', 'flow_mean', 'flow_sd', 'flow_median',\n",
       "       'speed_mean', 'speed_sd', 'speed_median', 'date', 'Day', 'Holiday',\n",
       "       'isHoliday'],\n",
       "      dtype='object')"
      ]
     },
     "execution_count": 56,
     "metadata": {
      "tags": []
     },
     "output_type": "execute_result"
    }
   ],
   "source": [
    "df_finalized.columns"
   ]
  },
  {
   "cell_type": "code",
   "execution_count": 55,
   "metadata": {
    "hidden": true,
    "id": "lXRJx4oOKKog"
   },
   "outputs": [],
   "source": [
    "df_finalized.to_csv('Final_df.csv')"
   ]
  }
 ],
 "metadata": {
  "colab": {
   "name": "Final_Notebook.ipynb",
   "provenance": []
  },
  "kernelspec": {
   "display_name": "Python 3",
   "language": "python",
   "name": "python3"
  },
  "language_info": {
   "codemirror_mode": {
    "name": "ipython",
    "version": 3
   },
   "file_extension": ".py",
   "mimetype": "text/x-python",
   "name": "python",
   "nbconvert_exporter": "python",
   "pygments_lexer": "ipython3",
   "version": "3.8.6"
  },
  "toc": {
   "base_numbering": 1,
   "nav_menu": {},
   "number_sections": true,
   "sideBar": true,
   "skip_h1_title": false,
   "title_cell": "Table of Contents",
   "title_sidebar": "Contents",
   "toc_cell": false,
   "toc_position": {},
   "toc_section_display": true,
   "toc_window_display": false
  }
 },
 "nbformat": 4,
 "nbformat_minor": 1
}
