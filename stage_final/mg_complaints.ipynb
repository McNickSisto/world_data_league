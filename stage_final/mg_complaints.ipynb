{
 "cells": [
  {
   "cell_type": "code",
   "execution_count": 100,
   "id": "edcdad27",
   "metadata": {},
   "outputs": [],
   "source": [
    "import geopandas as gpd\n",
    "import pandas as pd\n",
    "import fiona\n",
    "import os\n",
    "import matplotlib.pyplot as plt\n",
    "import folium\n",
    "from zipfile import ZipFile\n",
    "from folium.plugins import MarkerCluster, HeatMap, BeautifyIcon\n",
    "from folium.map import LayerControl, Layer, FeatureGroup\n",
    "import seaborn as sns\n",
    "from shapely.geometry import Point, LineString, MultiPoint\n",
    "import numpy as np\n",
    "import contextily as ctx\n",
    "import requests\n",
    "from io import StringIO, BytesIO\n",
    "import json\n",
    "import datetime as dt\n",
    "from ast import literal_eval\n",
    "from shapely.wkt import loads\n",
    "import plotly.express as px\n",
    "import re"
   ]
  },
  {
   "cell_type": "code",
   "execution_count": 55,
   "id": "e6ceef8a",
   "metadata": {},
   "outputs": [],
   "source": [
    "root = 'raw_data/police_complaints/'\n",
    "files = os.listdir(root)\n",
    "\n",
    "dfs = {}\n",
    "for file in files:\n",
    "    if '.csv' in file:\n",
    "        df = pd.read_csv(f'{root}{file}')\n",
    "        dfs[f'{file}{df.shape[1]}'] = df\n",
    "    else:\n",
    "        df = pd.read_excel(f'{root}{file}')\n",
    "        dfs[f'{file}{df.shape[1]}'] = df\n",
    "        \n",
    "dfs['2019_2.csv1'] = pd.read_csv(f'{root}2019_2.csv', sep=';') #fuckup"
   ]
  },
  {
   "cell_type": "code",
   "execution_count": 67,
   "id": "7f2eea5e",
   "metadata": {},
   "outputs": [
    {
     "data": {
      "text/plain": [
       "Altro                         3977\n",
       "Decoro e degrado urbano       2439\n",
       "Disturbi da locali             768\n",
       "Rumori molesti                 639\n",
       "Comportamenti molesti          377\n",
       "Disturbi Cani                  275\n",
       "Veicoli abbandonati             72\n",
       "Uso improprio parti comuni      45\n",
       "Aggregazioni giovanili          24\n",
       "Atti di vandalismo              20\n",
       "Disturbi altri animali          10\n",
       "Name: Sottocategoria Criminologica, dtype: int64"
      ]
     },
     "execution_count": 67,
     "metadata": {},
     "output_type": "execute_result"
    }
   ],
   "source": [
    "all_complaints = pd.concat(dfs.values())\n",
    "all_complaints['Data'] = pd.to_datetime(all_complaints['Data'])\n",
    "all_complaints['Sottocategoria Criminologica'].value_counts()"
   ]
  },
  {
   "cell_type": "code",
   "execution_count": 85,
   "id": "7d578735",
   "metadata": {},
   "outputs": [
    {
     "data": {
      "text/plain": [
       "(1431, 7)"
      ]
     },
     "execution_count": 85,
     "metadata": {},
     "output_type": "execute_result"
    }
   ],
   "source": [
    "all_complaints_noise = all_complaints[(all_complaints['Sottocategoria Criminologica'] == 'Rumori molesti')\\\n",
    "                                     | (all_complaints['Sottocategoria Criminologica'] == 'Aggregazioni giovanili')\\\n",
    "                                     | (all_complaints['Sottocategoria Criminologica'] == 'Disturbi da locali')\\\n",
    "                                     | (all_complaints['Sottocategoria Criminologica'] == 'Local disturbances')]\n",
    "all_complaints_noise.shape\n"
   ]
  },
  {
   "cell_type": "code",
   "execution_count": 88,
   "id": "d15ca6d1",
   "metadata": {},
   "outputs": [
    {
     "data": {
      "text/plain": [
       "count    1417.000000\n",
       "mean        4.634439\n",
       "std         2.768446\n",
       "min         1.000000\n",
       "25%         2.000000\n",
       "50%         5.000000\n",
       "75%         7.000000\n",
       "max        10.000000\n",
       "Name: Circoscrizione, dtype: float64"
      ]
     },
     "execution_count": 88,
     "metadata": {},
     "output_type": "execute_result"
    }
   ],
   "source": [
    "all_complaints_noise.Circoscrizione.describe()"
   ]
  },
  {
   "cell_type": "code",
   "execution_count": 106,
   "id": "fec4b8d9",
   "metadata": {},
   "outputs": [],
   "source": [
    "zones = gpd.read_file('raw_data/zone_statistiche_geo')\n",
    "zones['ZONASTAT'] = zones['ZONASTAT'].apply(lambda x: re.sub(\"[^0-9]\", \"\", x)).astype(int)"
   ]
  },
  {
   "cell_type": "code",
   "execution_count": 115,
   "id": "afb797b6",
   "metadata": {},
   "outputs": [],
   "source": [
    "complaints_date = all_complaints_noise.groupby(['Data', 'Circoscrizione']).count()[['Localita']].reset_index()\n",
    "complaints_shp = complaints_date.merge(zones, \n",
    "                                       left_on='Circoscrizione',\n",
    "                                       right_on='ZONASTAT')"
   ]
  },
  {
   "cell_type": "code",
   "execution_count": 185,
   "id": "14753c94",
   "metadata": {},
   "outputs": [],
   "source": [
    "mapable = gpd.GeoDataFrame(complaints_shp.groupby('ZONASTAT').agg({'Localita':'mean',\n",
    "                                               'geometry':'first'}))\n",
    "mapable = mapable.set_crs('EPSG:3003')\n",
    "mapable = mapable.to_crs('EPSG:3857')"
   ]
  },
  {
   "cell_type": "code",
   "execution_count": 186,
   "id": "ba9fe1be",
   "metadata": {},
   "outputs": [
    {
     "data": {
      "text/html": [
       "<div>\n",
       "<style scoped>\n",
       "    .dataframe tbody tr th:only-of-type {\n",
       "        vertical-align: middle;\n",
       "    }\n",
       "\n",
       "    .dataframe tbody tr th {\n",
       "        vertical-align: top;\n",
       "    }\n",
       "\n",
       "    .dataframe thead th {\n",
       "        text-align: right;\n",
       "    }\n",
       "</style>\n",
       "<table border=\"1\" class=\"dataframe\">\n",
       "  <thead>\n",
       "    <tr style=\"text-align: right;\">\n",
       "      <th></th>\n",
       "      <th>Localita</th>\n",
       "      <th>geometry</th>\n",
       "    </tr>\n",
       "    <tr>\n",
       "      <th>ZONASTAT</th>\n",
       "      <th></th>\n",
       "      <th></th>\n",
       "    </tr>\n",
       "  </thead>\n",
       "  <tbody>\n",
       "    <tr>\n",
       "      <th>1</th>\n",
       "      <td>1.250000</td>\n",
       "      <td>POLYGON ((854420.153 5632875.411, 854470.197 5...</td>\n",
       "    </tr>\n",
       "    <tr>\n",
       "      <th>2</th>\n",
       "      <td>1.037037</td>\n",
       "      <td>POLYGON ((855400.704 5632952.711, 855446.466 5...</td>\n",
       "    </tr>\n",
       "    <tr>\n",
       "      <th>3</th>\n",
       "      <td>1.133333</td>\n",
       "      <td>POLYGON ((855189.904 5632505.860, 855233.672 5...</td>\n",
       "    </tr>\n",
       "    <tr>\n",
       "      <th>4</th>\n",
       "      <td>1.096154</td>\n",
       "      <td>POLYGON ((854345.767 5631838.946, 854395.435 5...</td>\n",
       "    </tr>\n",
       "    <tr>\n",
       "      <th>5</th>\n",
       "      <td>1.049020</td>\n",
       "      <td>POLYGON ((853633.229 5633395.257, 853646.291 5...</td>\n",
       "    </tr>\n",
       "    <tr>\n",
       "      <th>6</th>\n",
       "      <td>1.110169</td>\n",
       "      <td>POLYGON ((856059.578 5631808.449, 856095.141 5...</td>\n",
       "    </tr>\n",
       "    <tr>\n",
       "      <th>7</th>\n",
       "      <td>1.135417</td>\n",
       "      <td>POLYGON ((855106.531 5631252.773, 855231.830 5...</td>\n",
       "    </tr>\n",
       "    <tr>\n",
       "      <th>8</th>\n",
       "      <td>1.153846</td>\n",
       "      <td>POLYGON ((853012.386 5632317.806, 853087.993 5...</td>\n",
       "    </tr>\n",
       "    <tr>\n",
       "      <th>9</th>\n",
       "      <td>1.017241</td>\n",
       "      <td>POLYGON ((854593.661 5630534.173, 854610.146 5...</td>\n",
       "    </tr>\n",
       "    <tr>\n",
       "      <th>10</th>\n",
       "      <td>1.074074</td>\n",
       "      <td>POLYGON ((853728.403 5630611.333, 853805.263 5...</td>\n",
       "    </tr>\n",
       "  </tbody>\n",
       "</table>\n",
       "</div>"
      ],
      "text/plain": [
       "          Localita                                           geometry\n",
       "ZONASTAT                                                             \n",
       "1         1.250000  POLYGON ((854420.153 5632875.411, 854470.197 5...\n",
       "2         1.037037  POLYGON ((855400.704 5632952.711, 855446.466 5...\n",
       "3         1.133333  POLYGON ((855189.904 5632505.860, 855233.672 5...\n",
       "4         1.096154  POLYGON ((854345.767 5631838.946, 854395.435 5...\n",
       "5         1.049020  POLYGON ((853633.229 5633395.257, 853646.291 5...\n",
       "6         1.110169  POLYGON ((856059.578 5631808.449, 856095.141 5...\n",
       "7         1.135417  POLYGON ((855106.531 5631252.773, 855231.830 5...\n",
       "8         1.153846  POLYGON ((853012.386 5632317.806, 853087.993 5...\n",
       "9         1.017241  POLYGON ((854593.661 5630534.173, 854610.146 5...\n",
       "10        1.074074  POLYGON ((853728.403 5630611.333, 853805.263 5..."
      ]
     },
     "execution_count": 186,
     "metadata": {},
     "output_type": "execute_result"
    }
   ],
   "source": [
    "mapable"
   ]
  },
  {
   "cell_type": "code",
   "execution_count": 151,
   "id": "255cf2b2",
   "metadata": {},
   "outputs": [
    {
     "data": {
      "text/html": [
       "<div>\n",
       "<style scoped>\n",
       "    .dataframe tbody tr th:only-of-type {\n",
       "        vertical-align: middle;\n",
       "    }\n",
       "\n",
       "    .dataframe tbody tr th {\n",
       "        vertical-align: top;\n",
       "    }\n",
       "\n",
       "    .dataframe thead th {\n",
       "        text-align: right;\n",
       "    }\n",
       "</style>\n",
       "<table border=\"1\" class=\"dataframe\">\n",
       "  <thead>\n",
       "    <tr style=\"text-align: right;\">\n",
       "      <th></th>\n",
       "      <th>code</th>\n",
       "      <th>address</th>\n",
       "      <th>Lat</th>\n",
       "      <th>Long</th>\n",
       "      <th>streaming</th>\n",
       "      <th>geometry</th>\n",
       "    </tr>\n",
       "  </thead>\n",
       "  <tbody>\n",
       "    <tr>\n",
       "      <th>0</th>\n",
       "      <td>s_01</td>\n",
       "      <td>Via Saluzzo, 26 Torino</td>\n",
       "      <td>45.059172</td>\n",
       "      <td>7.678986</td>\n",
       "      <td>https://userportal.smartdatanet.it/userportal/...</td>\n",
       "      <td>POINT (7.67899 45.05917)</td>\n",
       "    </tr>\n",
       "    <tr>\n",
       "      <th>1</th>\n",
       "      <td>s_02</td>\n",
       "      <td>Via Principe Tommaso, 18bis Torino</td>\n",
       "      <td>45.057837</td>\n",
       "      <td>7.681555</td>\n",
       "      <td>https://userportal.smartdatanet.it/userportal/...</td>\n",
       "      <td>POINT (7.68156 45.05784)</td>\n",
       "    </tr>\n",
       "    <tr>\n",
       "      <th>2</th>\n",
       "      <td>s_03</td>\n",
       "      <td>Largo Saluzzo Torino</td>\n",
       "      <td>45.058518</td>\n",
       "      <td>7.678854</td>\n",
       "      <td>https://userportal.smartdatanet.it/userportal/...</td>\n",
       "      <td>POINT (7.67885 45.05852)</td>\n",
       "    </tr>\n",
       "    <tr>\n",
       "      <th>3</th>\n",
       "      <td>s_05</td>\n",
       "      <td>Via Principe Tommaso angolo via Baretti Torino</td>\n",
       "      <td>45.057603</td>\n",
       "      <td>7.681348</td>\n",
       "      <td>https://userportal.smartdatanet.it/userportal/...</td>\n",
       "      <td>POINT (7.68135 45.05760)</td>\n",
       "    </tr>\n",
       "    <tr>\n",
       "      <th>4</th>\n",
       "      <td>s_06</td>\n",
       "      <td>Corso Marconi, 27 Torino</td>\n",
       "      <td>45.055554</td>\n",
       "      <td>7.682590</td>\n",
       "      <td>https://userportal.smartdatanet.it/userportal/...</td>\n",
       "      <td>POINT (7.68259 45.05555)</td>\n",
       "    </tr>\n",
       "  </tbody>\n",
       "</table>\n",
       "</div>"
      ],
      "text/plain": [
       "   code                                         address        Lat      Long  \\\n",
       "0  s_01                          Via Saluzzo, 26 Torino  45.059172  7.678986   \n",
       "1  s_02              Via Principe Tommaso, 18bis Torino  45.057837  7.681555   \n",
       "2  s_03                            Largo Saluzzo Torino  45.058518  7.678854   \n",
       "3  s_05  Via Principe Tommaso angolo via Baretti Torino  45.057603  7.681348   \n",
       "4  s_06                        Corso Marconi, 27 Torino  45.055554  7.682590   \n",
       "\n",
       "                                           streaming                  geometry  \n",
       "0  https://userportal.smartdatanet.it/userportal/...  POINT (7.67899 45.05917)  \n",
       "1  https://userportal.smartdatanet.it/userportal/...  POINT (7.68156 45.05784)  \n",
       "2  https://userportal.smartdatanet.it/userportal/...  POINT (7.67885 45.05852)  \n",
       "3  https://userportal.smartdatanet.it/userportal/...  POINT (7.68135 45.05760)  \n",
       "4  https://userportal.smartdatanet.it/userportal/...  POINT (7.68259 45.05555)  "
      ]
     },
     "execution_count": 151,
     "metadata": {},
     "output_type": "execute_result"
    }
   ],
   "source": [
    "sensors_geo"
   ]
  },
  {
   "cell_type": "code",
   "execution_count": 194,
   "id": "4be6981a",
   "metadata": {},
   "outputs": [],
   "source": [
    "# get sensors\n",
    "sensors = pd.read_csv('raw_data/noise_sensor_list.csv',\n",
    "                     sep=';',\n",
    "                     decimal=',')\n",
    "\n",
    "sensors['geometry'] = sensors.apply(lambda x: Point(x.Lat, x.Long), axis=1)\n",
    "sensors_geo = gpd.GeoDataFrame(sensors)\n",
    "sensors_geo = sensors_geo.set_crs(epsg=3857)\n",
    "# sensors_geo = sensors_geo.to_crs('EPSG:3003')"
   ]
  },
  {
   "cell_type": "code",
   "execution_count": 195,
   "id": "bcaf71e7",
   "metadata": {},
   "outputs": [
    {
     "data": {
      "text/html": [
       "<div>\n",
       "<style scoped>\n",
       "    .dataframe tbody tr th:only-of-type {\n",
       "        vertical-align: middle;\n",
       "    }\n",
       "\n",
       "    .dataframe tbody tr th {\n",
       "        vertical-align: top;\n",
       "    }\n",
       "\n",
       "    .dataframe thead th {\n",
       "        text-align: right;\n",
       "    }\n",
       "</style>\n",
       "<table border=\"1\" class=\"dataframe\">\n",
       "  <thead>\n",
       "    <tr style=\"text-align: right;\">\n",
       "      <th></th>\n",
       "      <th>code</th>\n",
       "      <th>address</th>\n",
       "      <th>Lat</th>\n",
       "      <th>Long</th>\n",
       "      <th>streaming</th>\n",
       "      <th>geometry</th>\n",
       "    </tr>\n",
       "  </thead>\n",
       "  <tbody>\n",
       "    <tr>\n",
       "      <th>0</th>\n",
       "      <td>s_01</td>\n",
       "      <td>Via Saluzzo, 26 Torino</td>\n",
       "      <td>45.059172</td>\n",
       "      <td>7.678986</td>\n",
       "      <td>https://userportal.smartdatanet.it/userportal/...</td>\n",
       "      <td>POINT (45.05917 7.67899)</td>\n",
       "    </tr>\n",
       "    <tr>\n",
       "      <th>1</th>\n",
       "      <td>s_02</td>\n",
       "      <td>Via Principe Tommaso, 18bis Torino</td>\n",
       "      <td>45.057837</td>\n",
       "      <td>7.681555</td>\n",
       "      <td>https://userportal.smartdatanet.it/userportal/...</td>\n",
       "      <td>POINT (45.05784 7.68156)</td>\n",
       "    </tr>\n",
       "    <tr>\n",
       "      <th>2</th>\n",
       "      <td>s_03</td>\n",
       "      <td>Largo Saluzzo Torino</td>\n",
       "      <td>45.058518</td>\n",
       "      <td>7.678854</td>\n",
       "      <td>https://userportal.smartdatanet.it/userportal/...</td>\n",
       "      <td>POINT (45.05852 7.67885)</td>\n",
       "    </tr>\n",
       "    <tr>\n",
       "      <th>3</th>\n",
       "      <td>s_05</td>\n",
       "      <td>Via Principe Tommaso angolo via Baretti Torino</td>\n",
       "      <td>45.057603</td>\n",
       "      <td>7.681348</td>\n",
       "      <td>https://userportal.smartdatanet.it/userportal/...</td>\n",
       "      <td>POINT (45.05760 7.68135)</td>\n",
       "    </tr>\n",
       "    <tr>\n",
       "      <th>4</th>\n",
       "      <td>s_06</td>\n",
       "      <td>Corso Marconi, 27 Torino</td>\n",
       "      <td>45.055554</td>\n",
       "      <td>7.682590</td>\n",
       "      <td>https://userportal.smartdatanet.it/userportal/...</td>\n",
       "      <td>POINT (45.05555 7.68259)</td>\n",
       "    </tr>\n",
       "  </tbody>\n",
       "</table>\n",
       "</div>"
      ],
      "text/plain": [
       "   code                                         address        Lat      Long  \\\n",
       "0  s_01                          Via Saluzzo, 26 Torino  45.059172  7.678986   \n",
       "1  s_02              Via Principe Tommaso, 18bis Torino  45.057837  7.681555   \n",
       "2  s_03                            Largo Saluzzo Torino  45.058518  7.678854   \n",
       "3  s_05  Via Principe Tommaso angolo via Baretti Torino  45.057603  7.681348   \n",
       "4  s_06                        Corso Marconi, 27 Torino  45.055554  7.682590   \n",
       "\n",
       "                                           streaming                  geometry  \n",
       "0  https://userportal.smartdatanet.it/userportal/...  POINT (45.05917 7.67899)  \n",
       "1  https://userportal.smartdatanet.it/userportal/...  POINT (45.05784 7.68156)  \n",
       "2  https://userportal.smartdatanet.it/userportal/...  POINT (45.05852 7.67885)  \n",
       "3  https://userportal.smartdatanet.it/userportal/...  POINT (45.05760 7.68135)  \n",
       "4  https://userportal.smartdatanet.it/userportal/...  POINT (45.05555 7.68259)  "
      ]
     },
     "execution_count": 195,
     "metadata": {},
     "output_type": "execute_result"
    }
   ],
   "source": [
    "sensors_geo"
   ]
  },
  {
   "cell_type": "code",
   "execution_count": 202,
   "id": "1eae4c3b",
   "metadata": {},
   "outputs": [
    {
     "data": {
      "text/html": [
       "<div style=\"width:100%;\"><div style=\"position:relative;width:100%;height:0;padding-bottom:60%;\"><span style=\"color:#565656\">Make this Notebook Trusted to load map: File -> Trust Notebook</span><iframe src=\"about:blank\" style=\"position:absolute;width:100%;height:100%;left:0;top:0;border:none !important;\" data-html=%3C%21DOCTYPE%20html%3E%0A%3Chead%3E%20%20%20%20%0A%20%20%20%20%3Cmeta%20http-equiv%3D%22content-type%22%20content%3D%22text/html%3B%20charset%3DUTF-8%22%20/%3E%0A%20%20%20%20%0A%20%20%20%20%20%20%20%20%3Cscript%3E%0A%20%20%20%20%20%20%20%20%20%20%20%20L_NO_TOUCH%20%3D%20false%3B%0A%20%20%20%20%20%20%20%20%20%20%20%20L_DISABLE_3D%20%3D%20false%3B%0A%20%20%20%20%20%20%20%20%3C/script%3E%0A%20%20%20%20%0A%20%20%20%20%3Cstyle%3Ehtml%2C%20body%20%7Bwidth%3A%20100%25%3Bheight%3A%20100%25%3Bmargin%3A%200%3Bpadding%3A%200%3B%7D%3C/style%3E%0A%20%20%20%20%3Cstyle%3E%23map%20%7Bposition%3Aabsolute%3Btop%3A0%3Bbottom%3A0%3Bright%3A0%3Bleft%3A0%3B%7D%3C/style%3E%0A%20%20%20%20%3Cscript%20src%3D%22https%3A//cdn.jsdelivr.net/npm/leaflet%401.6.0/dist/leaflet.js%22%3E%3C/script%3E%0A%20%20%20%20%3Cscript%20src%3D%22https%3A//code.jquery.com/jquery-1.12.4.min.js%22%3E%3C/script%3E%0A%20%20%20%20%3Cscript%20src%3D%22https%3A//maxcdn.bootstrapcdn.com/bootstrap/3.2.0/js/bootstrap.min.js%22%3E%3C/script%3E%0A%20%20%20%20%3Cscript%20src%3D%22https%3A//cdnjs.cloudflare.com/ajax/libs/Leaflet.awesome-markers/2.0.2/leaflet.awesome-markers.js%22%3E%3C/script%3E%0A%20%20%20%20%3Clink%20rel%3D%22stylesheet%22%20href%3D%22https%3A//cdn.jsdelivr.net/npm/leaflet%401.6.0/dist/leaflet.css%22/%3E%0A%20%20%20%20%3Clink%20rel%3D%22stylesheet%22%20href%3D%22https%3A//maxcdn.bootstrapcdn.com/bootstrap/3.2.0/css/bootstrap.min.css%22/%3E%0A%20%20%20%20%3Clink%20rel%3D%22stylesheet%22%20href%3D%22https%3A//maxcdn.bootstrapcdn.com/bootstrap/3.2.0/css/bootstrap-theme.min.css%22/%3E%0A%20%20%20%20%3Clink%20rel%3D%22stylesheet%22%20href%3D%22https%3A//maxcdn.bootstrapcdn.com/font-awesome/4.6.3/css/font-awesome.min.css%22/%3E%0A%20%20%20%20%3Clink%20rel%3D%22stylesheet%22%20href%3D%22https%3A//cdnjs.cloudflare.com/ajax/libs/Leaflet.awesome-markers/2.0.2/leaflet.awesome-markers.css%22/%3E%0A%20%20%20%20%3Clink%20rel%3D%22stylesheet%22%20href%3D%22https%3A//cdn.jsdelivr.net/gh/python-visualization/folium/folium/templates/leaflet.awesome.rotate.min.css%22/%3E%0A%20%20%20%20%0A%20%20%20%20%20%20%20%20%20%20%20%20%3Cmeta%20name%3D%22viewport%22%20content%3D%22width%3Ddevice-width%2C%0A%20%20%20%20%20%20%20%20%20%20%20%20%20%20%20%20initial-scale%3D1.0%2C%20maximum-scale%3D1.0%2C%20user-scalable%3Dno%22%20/%3E%0A%20%20%20%20%20%20%20%20%20%20%20%20%3Cstyle%3E%0A%20%20%20%20%20%20%20%20%20%20%20%20%20%20%20%20%23map_8d24d06d6aad4f509196e2739def007c%20%7B%0A%20%20%20%20%20%20%20%20%20%20%20%20%20%20%20%20%20%20%20%20position%3A%20relative%3B%0A%20%20%20%20%20%20%20%20%20%20%20%20%20%20%20%20%20%20%20%20width%3A%20100.0%25%3B%0A%20%20%20%20%20%20%20%20%20%20%20%20%20%20%20%20%20%20%20%20height%3A%20100.0%25%3B%0A%20%20%20%20%20%20%20%20%20%20%20%20%20%20%20%20%20%20%20%20left%3A%200.0%25%3B%0A%20%20%20%20%20%20%20%20%20%20%20%20%20%20%20%20%20%20%20%20top%3A%200.0%25%3B%0A%20%20%20%20%20%20%20%20%20%20%20%20%20%20%20%20%7D%0A%20%20%20%20%20%20%20%20%20%20%20%20%3C/style%3E%0A%20%20%20%20%20%20%20%20%0A%3C/head%3E%0A%3Cbody%3E%20%20%20%20%0A%20%20%20%20%0A%20%20%20%20%20%20%20%20%20%20%20%20%3Cdiv%20class%3D%22folium-map%22%20id%3D%22map_8d24d06d6aad4f509196e2739def007c%22%20%3E%3C/div%3E%0A%20%20%20%20%20%20%20%20%0A%3C/body%3E%0A%3Cscript%3E%20%20%20%20%0A%20%20%20%20%0A%20%20%20%20%20%20%20%20%20%20%20%20var%20map_8d24d06d6aad4f509196e2739def007c%20%3D%20L.map%28%0A%20%20%20%20%20%20%20%20%20%20%20%20%20%20%20%20%22map_8d24d06d6aad4f509196e2739def007c%22%2C%0A%20%20%20%20%20%20%20%20%20%20%20%20%20%20%20%20%7B%0A%20%20%20%20%20%20%20%20%20%20%20%20%20%20%20%20%20%20%20%20center%3A%20%5B45.072433300397435%2C%207.668045740145775%5D%2C%0A%20%20%20%20%20%20%20%20%20%20%20%20%20%20%20%20%20%20%20%20crs%3A%20L.CRS.EPSG3857%2C%0A%20%20%20%20%20%20%20%20%20%20%20%20%20%20%20%20%20%20%20%20zoom%3A%2013%2C%0A%20%20%20%20%20%20%20%20%20%20%20%20%20%20%20%20%20%20%20%20zoomControl%3A%20true%2C%0A%20%20%20%20%20%20%20%20%20%20%20%20%20%20%20%20%20%20%20%20preferCanvas%3A%20false%2C%0A%20%20%20%20%20%20%20%20%20%20%20%20%20%20%20%20%7D%0A%20%20%20%20%20%20%20%20%20%20%20%20%29%3B%0A%0A%20%20%20%20%20%20%20%20%20%20%20%20%0A%0A%20%20%20%20%20%20%20%20%0A%20%20%20%20%0A%20%20%20%20%20%20%20%20%20%20%20%20var%20tile_layer_2d2a3c9cc4d14a8c9def153edeb97188%20%3D%20L.tileLayer%28%0A%20%20%20%20%20%20%20%20%20%20%20%20%20%20%20%20%22https%3A//%7Bs%7D.tile.openstreetmap.org/%7Bz%7D/%7Bx%7D/%7By%7D.png%22%2C%0A%20%20%20%20%20%20%20%20%20%20%20%20%20%20%20%20%7B%22attribution%22%3A%20%22Data%20by%20%5Cu0026copy%3B%20%5Cu003ca%20href%3D%5C%22http%3A//openstreetmap.org%5C%22%5Cu003eOpenStreetMap%5Cu003c/a%5Cu003e%2C%20under%20%5Cu003ca%20href%3D%5C%22http%3A//www.openstreetmap.org/copyright%5C%22%5Cu003eODbL%5Cu003c/a%5Cu003e.%22%2C%20%22detectRetina%22%3A%20false%2C%20%22maxNativeZoom%22%3A%2018%2C%20%22maxZoom%22%3A%2018%2C%20%22minZoom%22%3A%200%2C%20%22noWrap%22%3A%20false%2C%20%22opacity%22%3A%201%2C%20%22subdomains%22%3A%20%22abc%22%2C%20%22tms%22%3A%20false%7D%0A%20%20%20%20%20%20%20%20%20%20%20%20%29.addTo%28map_8d24d06d6aad4f509196e2739def007c%29%3B%0A%20%20%20%20%20%20%20%20%0A%20%20%20%20%0A%20%20%20%20%20%20%20%20%20%20%20%20var%20choropleth_68ec4d3dcb504a02ae2e082ecd378c76%20%3D%20L.featureGroup%28%0A%20%20%20%20%20%20%20%20%20%20%20%20%20%20%20%20%7B%7D%0A%20%20%20%20%20%20%20%20%20%20%20%20%29.addTo%28map_8d24d06d6aad4f509196e2739def007c%29%3B%0A%20%20%20%20%20%20%20%20%0A%20%20%20%20%0A%20%20%20%20%20%20%20%20function%20geo_json_42a73c35a234422987c486d5b6be945f_styler%28feature%29%20%7B%0A%20%20%20%20%20%20%20%20%20%20%20%20switch%28feature.id%29%20%7B%0A%20%20%20%20%20%20%20%20%20%20%20%20%20%20%20%20default%3A%0A%20%20%20%20%20%20%20%20%20%20%20%20%20%20%20%20%20%20%20%20return%20%7B%22color%22%3A%20%22black%22%2C%20%22fillColor%22%3A%20%22blue%22%2C%20%22fillOpacity%22%3A%200.6%2C%20%22opacity%22%3A%201%2C%20%22weight%22%3A%201%7D%3B%0A%20%20%20%20%20%20%20%20%20%20%20%20%7D%0A%20%20%20%20%20%20%20%20%7D%0A%0A%20%20%20%20%20%20%20%20function%20geo_json_42a73c35a234422987c486d5b6be945f_onEachFeature%28feature%2C%20layer%29%20%7B%0A%20%20%20%20%20%20%20%20%20%20%20%20layer.on%28%7B%0A%20%20%20%20%20%20%20%20%20%20%20%20%7D%29%3B%0A%20%20%20%20%20%20%20%20%7D%3B%0A%20%20%20%20%20%20%20%20var%20geo_json_42a73c35a234422987c486d5b6be945f%20%3D%20L.geoJson%28null%2C%20%7B%0A%20%20%20%20%20%20%20%20%20%20%20%20%20%20%20%20onEachFeature%3A%20geo_json_42a73c35a234422987c486d5b6be945f_onEachFeature%2C%0A%20%20%20%20%20%20%20%20%20%20%20%20%0A%20%20%20%20%20%20%20%20%20%20%20%20%20%20%20%20style%3A%20geo_json_42a73c35a234422987c486d5b6be945f_styler%2C%0A%20%20%20%20%20%20%20%20%7D%29%3B%0A%0A%20%20%20%20%20%20%20%20function%20geo_json_42a73c35a234422987c486d5b6be945f_add%20%28data%29%20%7B%0A%20%20%20%20%20%20%20%20%20%20%20%20geo_json_42a73c35a234422987c486d5b6be945f%0A%20%20%20%20%20%20%20%20%20%20%20%20%20%20%20%20.addData%28data%29%0A%20%20%20%20%20%20%20%20%20%20%20%20%20%20%20%20.addTo%28choropleth_68ec4d3dcb504a02ae2e082ecd378c76%29%3B%0A%20%20%20%20%20%20%20%20%7D%0A%20%20%20%20%20%20%20%20%20%20%20%20geo_json_42a73c35a234422987c486d5b6be945f_add%28%7B%22bbox%22%3A%20%5B7.662740637978552%2C%2045.05434289991249%2C%207.6995573494727%2C%2045.08077062955675%5D%2C%20%22features%22%3A%20%5B%7B%22bbox%22%3A%20%5B7.6748454226631875%2C%2045.0688160945095%2C%207.686372141919516%2C%2045.078073818140375%5D%2C%20%22geometry%22%3A%20%7B%22coordinates%22%3A%20%5B%5B%5B7.675386826675092%2C%2045.07207528512358%5D%2C%20%5B7.675836379575768%2C%2045.0727293013078%5D%2C%20%5B7.676320954785974%2C%2045.07343424166742%5D%2C%20%5B7.676345759121994%2C%2045.07347032881018%5D%2C%20%5B7.676566824280945%2C%2045.073791936165584%5D%2C%20%5B7.676599697631231%2C%2045.07383955968297%5D%2C%20%5B7.676805234437969%2C%2045.07413730411952%5D%2C%20%5B7.6771779077215685%2C%2045.074678382034755%5D%2C%20%5B7.67738460054848%2C%2045.07497847740821%5D%2C%20%5B7.677588029628196%2C%2045.075273875335796%5D%2C%20%5B7.677809085798856%2C%2045.07559486887291%5D%2C%20%5B7.678229385937998%2C%2045.076193592230254%5D%2C%20%5B7.678513885273326%2C%2045.07660705370642%5D%2C%20%5B7.678842935215855%2C%2045.07707765934383%5D%2C%20%5B7.679532395909418%2C%2045.078073818140375%5D%2C%20%5B7.6808224245711205%2C%2045.07764679813684%5D%2C%20%5B7.682395724864695%2C%2045.077174487537214%5D%2C%20%5B7.6836313925709385%2C%2045.07676275828685%5D%2C%20%5B7.683622932234031%2C%2045.07674612381975%5D%2C%20%5B7.684867313532787%2C%2045.07633301527195%5D%2C%20%5B7.684856493268025%2C%2045.07631008676701%5D%2C%20%5B7.685577269264724%2C%2045.07607202311686%5D%2C%20%5B7.686372141919516%2C%2045.07580811770372%5D%2C%20%5B7.686155176277276%2C%2045.075631258191976%5D%2C%20%5B7.685524071843142%2C%2045.074675257947206%5D%2C%20%5B7.6852763370843%2C%2045.074299971206706%5D%2C%20%5B7.685018017068353%2C%2045.073901634790616%5D%2C%20%5B7.684983403871639%2C%2045.07384825240886%5D%2C%20%5B7.6846598996090725%2C%2045.07328016650502%5D%2C%20%5B7.684606351460455%2C%2045.07318612234668%5D%2C%20%5B7.684195268892925%2C%2045.07256568052306%5D%2C%20%5B7.683926414144241%2C%2045.07222176196459%5D%2C%20%5B7.684999726336046%2C%2045.07189304025483%5D%2C%20%5B7.685421335894258%2C%2045.07176391374404%5D%2C%20%5B7.685062425442711%2C%2045.07121498253975%5D%2C%20%5B7.68465332622848%2C%2045.07059108407003%5D%2C%20%5B7.684204737159708%2C%2045.07074703317102%5D%2C%20%5B7.68400205047497%2C%2045.070763321218394%5D%2C%20%5B7.68315327983934%2C%2045.07104193733991%5D%2C%20%5B7.682912885975364%2C%2045.07067419228683%5D%2C%20%5B7.682694792360772%2C%2045.07035761015654%5D%2C%20%5B7.682301617505638%2C%2045.069730788555724%5D%2C%20%5B7.681788615658098%2C%2045.0688160945095%5D%2C%20%5B7.680576367506026%2C%2045.069248806733455%5D%2C%20%5B7.6796546460172195%2C%2045.06957780912168%5D%2C%20%5B7.6788296310557485%2C%2045.06987227676174%5D%2C%20%5B7.677920632863498%2C%2045.070195678312494%5D%2C%20%5B7.6770037621525224%2C%2045.070520628673336%5D%2C%20%5B7.676047083952419%2C%2045.07085982768363%5D%2C%20%5B7.6748454226631875%2C%2045.07128752295153%5D%2C%20%5B7.675386826675092%2C%2045.07207528512358%5D%5D%5D%2C%20%22type%22%3A%20%22Polygon%22%7D%2C%20%22id%22%3A%20%221%22%2C%20%22properties%22%3A%20%7B%22Localita%22%3A%201.25%7D%2C%20%22type%22%3A%20%22Feature%22%7D%2C%20%7B%22bbox%22%3A%20%5B7.683926414144241%2C%2045.06900893530753%2C%207.692697702650879%2C%2045.07580811770372%5D%2C%20%22geometry%22%3A%20%7B%22coordinates%22%3A%20%5B%5B%5B7.684195268892925%2C%2045.07256568052306%5D%2C%20%5B7.684606351460455%2C%2045.07318612234668%5D%2C%20%5B7.6846598996090725%2C%2045.07328016650502%5D%2C%20%5B7.684983403871639%2C%2045.07384825240886%5D%2C%20%5B7.685018017068353%2C%2045.073901634790616%5D%2C%20%5B7.6852763370843%2C%2045.074299971206706%5D%2C%20%5B7.685524071843142%2C%2045.074675257947206%5D%2C%20%5B7.686155176277276%2C%2045.075631258191976%5D%2C%20%5B7.686372141919516%2C%2045.07580811770372%5D%2C%20%5B7.68701294868118%2C%2045.07559591180968%5D%2C%20%5B7.687947091086289%2C%2045.075286644571825%5D%2C%20%5B7.689677428099136%2C%2045.074713885757866%5D%2C%20%5B7.689739360762664%2C%2045.07464498691759%5D%2C%20%5B7.689777606040485%2C%2045.07460244483596%5D%2C%20%5B7.6898525467399885%2C%2045.074519073861985%5D%2C%20%5B7.690345301066297%2C%2045.073970929806066%5D%2C%20%5B7.690944866734783%2C%2045.073386454474544%5D%2C%20%5B7.691359943814738%2C%2045.07298180875659%5D%2C%20%5B7.691699085287222%2C%2045.07264894354766%5D%2C%20%5B7.692697702650879%2C%2045.07165000307196%5D%2C%20%5B7.692106347905663%2C%2045.07081083917303%5D%2C%20%5B7.691879642538424%2C%2045.07048912511169%5D%2C%20%5B7.691519104222426%2C%2045.06997747126717%5D%2C%20%5B7.691178211031548%2C%2045.06949369453943%5D%2C%20%5B7.690836745091152%2C%2045.06900893530753%5D%2C%20%5B7.689681002928697%2C%2045.06945888502469%5D%2C%20%5B7.689602517214886%2C%2045.06948906592586%5D%2C%20%5B7.688902908708011%2C%2045.06975809578327%5D%2C%20%5B7.688553482876628%2C%2045.06989245276744%5D%2C%20%5B7.687260590517854%2C%2045.07038371310831%5D%2C%20%5B7.687231779304491%2C%2045.07040380653506%5D%2C%20%5B7.687139321568072%2C%2045.07043891009592%5D%2C%20%5B7.68711327899651%2C%2045.070447271079345%5D%2C%20%5B7.68681079025884%2C%2045.07055925421505%5D%2C%20%5B7.686718005798865%2C%2045.070425565578184%5D%2C%20%5B7.686410638381621%2C%2045.069982705550665%5D%2C%20%5B7.685844678334094%2C%2045.070178639761345%5D%2C%20%5B7.68465332622848%2C%2045.07059108407003%5D%2C%20%5B7.685062425442711%2C%2045.07121498253975%5D%2C%20%5B7.685421335894258%2C%2045.07176391374404%5D%2C%20%5B7.684999726336046%2C%2045.07189304025483%5D%2C%20%5B7.683926414144241%2C%2045.07222176196459%5D%2C%20%5B7.684195268892925%2C%2045.07256568052306%5D%5D%5D%2C%20%22type%22%3A%20%22Polygon%22%7D%2C%20%22id%22%3A%20%222%22%2C%20%22properties%22%3A%20%7B%22Localita%22%3A%201.037037037037037%7D%2C%20%22type%22%3A%20%22Feature%22%7D%2C%20%7B%22bbox%22%3A%20%5B7.681788615658098%2C%2045.06236451477911%2C%207.692371078364807%2C%2045.07104193733991%5D%2C%20%22geometry%22%3A%20%7B%22coordinates%22%3A%20%5B%5B%5B7.682301617505638%2C%2045.069730788555724%5D%2C%20%5B7.682694792360772%2C%2045.07035761015654%5D%2C%20%5B7.682912885975364%2C%2045.07067419228683%5D%2C%20%5B7.68315327983934%2C%2045.07104193733991%5D%2C%20%5B7.68400205047497%2C%2045.070763321218394%5D%2C%20%5B7.684204737159708%2C%2045.07074703317102%5D%2C%20%5B7.68465332622848%2C%2045.07059108407003%5D%2C%20%5B7.685844678334094%2C%2045.070178639761345%5D%2C%20%5B7.686410638381621%2C%2045.069982705550665%5D%2C%20%5B7.686718005798865%2C%2045.070425565578184%5D%2C%20%5B7.68681079025884%2C%2045.07055925421505%5D%2C%20%5B7.68711327899651%2C%2045.070447271079345%5D%2C%20%5B7.687139321568072%2C%2045.07043891009592%5D%2C%20%5B7.687231779304491%2C%2045.07040380653506%5D%2C%20%5B7.687260590517854%2C%2045.07038371310831%5D%2C%20%5B7.688553482876628%2C%2045.06989245276744%5D%2C%20%5B7.688902908708011%2C%2045.06975809578327%5D%2C%20%5B7.689602517214886%2C%2045.06948906592586%5D%2C%20%5B7.689681002928697%2C%2045.06945888502469%5D%2C%20%5B7.690836745091152%2C%2045.06900893530753%5D%2C%20%5B7.691835380213663%2C%2045.068599486797176%5D%2C%20%5B7.692371078364807%2C%2045.06838977274294%5D%2C%20%5B7.691562032634305%2C%2045.06728472346083%5D%2C%20%5B7.690955436784548%2C%2045.06645802292171%5D%2C%20%5B7.690751004996275%2C%2045.066178753446344%5D%2C%20%5B7.690433500201851%2C%2045.06574499186695%5D%2C%20%5B7.690114033387855%2C%2045.06530602460704%5D%2C%20%5B7.689469784552533%2C%2045.064424086264765%5D%2C%20%5B7.690657764415523%2C%2045.06399995845407%5D%2C%20%5B7.690976542850726%2C%2045.06386855158431%5D%2C%20%5B7.6907318554583%2C%2045.06348982730959%5D%2C%20%5B7.690291943856223%2C%2045.062899351079025%5D%2C%20%5B7.69013040088654%2C%2045.06268376942253%5D%2C%20%5B7.689984998424846%2C%2045.06248015952372%5D%2C%20%5B7.689508011020356%2C%2045.06251835193273%5D%2C%20%5B7.689229749538691%2C%2045.06261658795586%5D%2C%20%5B7.688956302393095%2C%2045.06285085765561%5D%2C%20%5B7.688951633439482%2C%2045.06285562892443%5D%2C%20%5B7.68892340538088%2C%2045.06287746502042%5D%2C%20%5B7.689031311051777%2C%2045.06308335875837%5D%2C%20%5B7.68861150117738%2C%2045.06323637205685%5D%2C%20%5B7.687981497409113%2C%2045.06236451477911%5D%2C%20%5B7.686536246858851%2C%2045.06287819843051%5D%2C%20%5B7.685401929525351%2C%2045.06328116238955%5D%2C%20%5B7.684269977876139%2C%2045.06368882587822%5D%2C%20%5B7.683443045061525%2C%2045.06397421337018%5D%2C%20%5B7.683198260378749%2C%2045.06405532151954%5D%2C%20%5B7.683151692049155%2C%2045.06407261663227%5D%2C%20%5B7.683640503655132%2C%2045.064782642834956%5D%2C%20%5B7.683783286245369%2C%2045.064990030130225%5D%2C%20%5B7.684619318409228%2C%2045.066184429079264%5D%2C%20%5B7.685532739310143%2C%2045.06749357288205%5D%2C%20%5B7.684236090677132%2C%2045.067951607327906%5D%2C%20%5B7.683056883380945%2C%2045.06835934391859%5D%2C%20%5B7.681788615658098%2C%2045.0688160945095%5D%2C%20%5B7.682301617505638%2C%2045.069730788555724%5D%5D%5D%2C%20%22type%22%3A%20%22Polygon%22%7D%2C%20%22id%22%3A%20%223%22%2C%20%22properties%22%3A%20%7B%22Localita%22%3A%201.1333333333333333%7D%2C%20%22type%22%3A%20%22Feature%22%7D%2C%20%7B%22bbox%22%3A%20%5B7.674004586509986%2C%2045.06178025907624%2C%207.685532739310143%2C%2045.070195678312494%5D%2C%20%22geometry%22%3A%20%7B%22coordinates%22%3A%20%5B%5B%5B7.674718601792756%2C%2045.065499519421394%5D%2C%20%5B7.675164775596086%2C%2045.06612781081811%5D%2C%20%5B7.6752248473269%2C%2045.06621240426998%5D%2C%20%5B7.675547777127219%2C%2045.06666714319663%5D%2C%20%5B7.675935200133545%2C%2045.06721267905395%5D%2C%20%5B7.676014132693045%2C%2045.067323820665315%5D%2C%20%5B7.676283264292227%2C%2045.06770278948114%5D%2C%20%5B7.6766994497867405%2C%2045.06833346161687%5D%2C%20%5B7.6770972513650895%2C%2045.0689400953638%5D%2C%20%5B7.677420803816619%2C%2045.069433498084216%5D%2C%20%5B7.677920632863498%2C%2045.070195678312494%5D%2C%20%5B7.6788296310557485%2C%2045.06987227676174%5D%2C%20%5B7.6796546460172195%2C%2045.06957780912168%5D%2C%20%5B7.680576367506026%2C%2045.069248806733455%5D%2C%20%5B7.681788615658098%2C%2045.0688160945095%5D%2C%20%5B7.683056883380945%2C%2045.06835934391859%5D%2C%20%5B7.684236090677132%2C%2045.067951607327906%5D%2C%20%5B7.685532739310143%2C%2045.06749357288205%5D%2C%20%5B7.684619318409228%2C%2045.066184429079264%5D%2C%20%5B7.683783286245369%2C%2045.064990030130225%5D%2C%20%5B7.683640503655132%2C%2045.064782642834956%5D%2C%20%5B7.683151692049155%2C%2045.06407261663227%5D%2C%20%5B7.683087342228825%2C%2045.06398081175107%5D%2C%20%5B7.682981543767396%2C%2045.06383184791643%5D%2C%20%5B7.6826782479078055%2C%2045.06340513639184%5D%2C%20%5B7.681552660282265%2C%2045.06178025907624%5D%2C%20%5B7.680755150195378%2C%2045.06206709310285%5D%2C%20%5B7.68013239001595%2C%2045.0622910752328%5D%2C%20%5B7.679414081045615%2C%2045.06254939721889%5D%2C%20%5B7.678530357425191%2C%2045.06286706527979%5D%2C%20%5B7.677736723396779%2C%2045.06315238285084%5D%2C%20%5B7.677205499915576%2C%2045.06334364396134%5D%2C%20%5B7.67646350813947%2C%2045.06361046753041%5D%2C%20%5B7.675778696825992%2C%2045.063856714656126%5D%2C%20%5B7.67509827543963%2C%2045.06410137931238%5D%2C%20%5B7.674004586509986%2C%2045.064494042590674%5D%2C%20%5B7.674718601792756%2C%2045.065499519421394%5D%5D%5D%2C%20%22type%22%3A%20%22Polygon%22%7D%2C%20%22id%22%3A%20%224%22%2C%20%22properties%22%3A%20%7B%22Localita%22%3A%201.0961538461538463%7D%2C%20%22type%22%3A%20%22Feature%22%7D%2C%20%7B%22bbox%22%3A%20%5B7.668121715946229%2C%2045.07128752295153%2C%207.679532395909418%2C%2045.08077062955675%5D%2C%20%22geometry%22%3A%20%7B%22coordinates%22%3A%20%5B%5B%5B7.66831776972255%2C%2045.075373120888834%5D%2C%20%5B7.6684351044845%2C%2045.07579202344903%5D%2C%20%5B7.668514420247245%2C%2045.07591065221982%5D%2C%20%5B7.668565498909137%2C%2045.07630289309596%5D%2C%20%5B7.668351233961763%2C%2045.07661741362883%5D%2C%20%5B7.6686465656446074%2C%2045.07700141154042%5D%2C%20%5B7.6690017843856895%2C%2045.077463284256204%5D%2C%20%5B7.669310279834921%2C%2045.07786438395721%5D%2C%20%5B7.669431719604128%2C%2045.078022295615014%5D%2C%20%5B7.669713756561229%2C%2045.07842344586419%5D%2C%20%5B7.670121185324844%2C%2045.07900295633816%5D%2C%20%5B7.67064698116987%2C%2045.07975079703527%5D%2C%20%5B7.6709232528885325%2C%2045.08014371976451%5D%2C%20%5B7.671364042419933%2C%2045.08077062955675%5D%2C%20%5B7.671547263083559%2C%2045.08071058935515%5D%2C%20%5B7.671652934654518%2C%2045.08067595649512%5D%2C%20%5B7.673638416717609%2C%2045.08002523227119%5D%2C%20%5B7.673839090676111%2C%2045.07995922234584%5D%2C%20%5B7.674603207801967%2C%2045.07970620469353%5D%2C%20%5B7.674966914168274%2C%2045.07958577127523%5D%2C%20%5B7.675611660322324%2C%2045.079372253883534%5D%2C%20%5B7.675751993387262%2C%2045.07932578791436%5D%2C%20%5B7.676296897311798%2C%2045.07914534973842%5D%2C%20%5B7.676737334418978%2C%2045.078999490381364%5D%2C%20%5B7.677397161861308%2C%2045.07878097976027%5D%2C%20%5B7.679532395909418%2C%2045.078073818140375%5D%2C%20%5B7.678842935215855%2C%2045.07707765934383%5D%2C%20%5B7.678513885273326%2C%2045.07660705370642%5D%2C%20%5B7.678229385937998%2C%2045.076193592230254%5D%2C%20%5B7.677809085798856%2C%2045.07559486887291%5D%2C%20%5B7.677588029628196%2C%2045.075273875335796%5D%2C%20%5B7.67738460054848%2C%2045.07497847740821%5D%2C%20%5B7.6771779077215685%2C%2045.074678382034755%5D%2C%20%5B7.676805234437969%2C%2045.07413730411952%5D%2C%20%5B7.676599697631231%2C%2045.07383955968297%5D%2C%20%5B7.676566824280945%2C%2045.073791936165584%5D%2C%20%5B7.676345759121994%2C%2045.07347032881018%5D%2C%20%5B7.676320954785974%2C%2045.07343424166742%5D%2C%20%5B7.675836379575768%2C%2045.0727293013078%5D%2C%20%5B7.675386826675092%2C%2045.07207528512358%5D%2C%20%5B7.6748454226631875%2C%2045.07128752295153%5D%2C%20%5B7.673936436714514%2C%2045.07161228899688%5D%2C%20%5B7.673272562972741%2C%2045.07184947427296%5D%2C%20%5B7.673062794886884%2C%2045.07192441433581%5D%2C%20%5B7.672248618808927%2C%2045.07221528491261%5D%2C%20%5B7.671532067888391%2C%2045.07247127290184%5D%2C%20%5B7.671194981183764%2C%2045.0725917002183%5D%2C%20%5B7.670430767087797%2C%2045.072863159295885%5D%2C%20%5B7.670270724772701%2C%2045.07292006424821%5D%2C%20%5B7.669231526260562%2C%2045.07328961639387%5D%2C%20%5B7.668547908193092%2C%2045.073532936027156%5D%2C%20%5B7.669089324256018%2C%2045.074317990517535%5D%2C%20%5B7.668534450528198%2C%2045.07450926915452%5D%2C%20%5B7.668121715946229%2C%2045.07465365675502%5D%2C%20%5B7.66831776972255%2C%2045.075373120888834%5D%5D%5D%2C%20%22type%22%3A%20%22Polygon%22%7D%2C%20%22id%22%3A%20%225%22%2C%20%22properties%22%3A%20%7B%22Localita%22%3A%201.0490196078431373%7D%2C%20%22type%22%3A%20%22Feature%22%7D%2C%20%7B%22bbox%22%3A%20%5B7.689469784552533%2C%2045.06213859579735%2C%207.6995573494727%2C%2045.07165000307196%5D%2C%20%22geometry%22%3A%20%7B%22coordinates%22%3A%20%5B%5B%5B7.690114033387855%2C%2045.06530602460704%5D%2C%20%5B7.690433500201851%2C%2045.06574499186695%5D%2C%20%5B7.690751004996275%2C%2045.066178753446344%5D%2C%20%5B7.690955436784548%2C%2045.06645802292171%5D%2C%20%5B7.691562032634305%2C%2045.06728472346083%5D%2C%20%5B7.692371078364807%2C%2045.06838977274294%5D%2C%20%5B7.691835380213663%2C%2045.068599486797176%5D%2C%20%5B7.690836745091152%2C%2045.06900893530753%5D%2C%20%5B7.691178211031548%2C%2045.06949369453943%5D%2C%20%5B7.691519104222426%2C%2045.06997747126717%5D%2C%20%5B7.691879642538424%2C%2045.07048912511169%5D%2C%20%5B7.692106347905663%2C%2045.07081083917303%5D%2C%20%5B7.692697702650879%2C%2045.07165000307196%5D%2C%20%5B7.693893816893091%2C%2045.07044182965387%5D%2C%20%5B7.694269482651476%2C%2045.070061181518355%5D%2C%20%5B7.694432347848816%2C%2045.069896223886815%5D%2C%20%5B7.6950394586429445%2C%2045.06928224252427%5D%2C%20%5B7.695559677495609%2C%2045.06875379608919%5D%2C%20%5B7.695816948547562%2C%2045.06849309519075%5D%2C%20%5B7.696207191725323%2C%2045.06809763644537%5D%2C%20%5B7.69677043384068%2C%2045.06752684588506%5D%2C%20%5B7.6973470082393565%2C%2045.066942540116834%5D%2C%20%5B7.69802301995162%2C%2045.06625743707887%5D%2C%20%5B7.698117059740223%2C%2045.06616214055709%5D%2C%20%5B7.698719544150978%2C%2045.06555304369241%5D%2C%20%5B7.698859881862481%2C%2045.06540962483839%5D%2C%20%5B7.69909007677882%2C%2045.065422800038455%5D%2C%20%5B7.699098994891638%2C%2045.065423305840426%5D%2C%20%5B7.6995573494727%2C%2045.0649876891622%5D%2C%20%5B7.6981639751089626%2C%2045.063980170097636%5D%2C%20%5B7.69752273983387%2C%2045.06351156492129%5D%2C%20%5B7.697463099362917%2C%2045.06346810676241%5D%2C%20%5B7.697410860777501%2C%2045.063430048509986%5D%2C%20%5B7.695926753654036%2C%2045.06234852969036%5D%2C%20%5B7.695702203350362%2C%2045.06213859579735%5D%2C%20%5B7.695078856879938%2C%2045.062369160969375%5D%2C%20%5B7.694936634110477%2C%2045.06242176835758%5D%2C%20%5B7.694750079411962%2C%2045.06249076841456%5D%2C%20%5B7.6941264695627%2C%2045.0627214063759%5D%2C%20%5B7.692617291366922%2C%2045.06327884357494%5D%2C%20%5B7.691740111154832%2C%2045.06359412243022%5D%2C%20%5B7.690976542850726%2C%2045.06386855158431%5D%2C%20%5B7.690657764415523%2C%2045.06399995845407%5D%2C%20%5B7.689469784552533%2C%2045.064424086264765%5D%2C%20%5B7.690114033387855%2C%2045.06530602460704%5D%5D%5D%2C%20%22type%22%3A%20%22Polygon%22%7D%2C%20%22id%22%3A%20%226%22%2C%20%22properties%22%3A%20%7B%22Localita%22%3A%201.1101694915254237%7D%2C%20%22type%22%3A%20%22Feature%22%7D%2C%20%7B%22bbox%22%3A%20%5B7.681552660282265%2C%2045.05803481524599%2C%207.695702203350362%2C%2045.06407261663227%5D%2C%20%22geometry%22%3A%20%7B%22coordinates%22%3A%20%5B%5B%5B7.681552660282265%2C%2045.06178025907624%5D%2C%20%5B7.6826782479078055%2C%2045.06340513639184%5D%2C%20%5B7.682981543767396%2C%2045.06383184791643%5D%2C%20%5B7.683087342228825%2C%2045.06398081175107%5D%2C%20%5B7.683151692049155%2C%2045.06407261663227%5D%2C%20%5B7.683198260378749%2C%2045.06405532151954%5D%2C%20%5B7.683443045061525%2C%2045.06397421337018%5D%2C%20%5B7.684269977876139%2C%2045.06368882587822%5D%2C%20%5B7.685401929525351%2C%2045.06328116238955%5D%2C%20%5B7.686536246858851%2C%2045.06287819843051%5D%2C%20%5B7.687981497409113%2C%2045.06236451477911%5D%2C%20%5B7.68861150117738%2C%2045.06323637205685%5D%2C%20%5B7.689031311051777%2C%2045.06308335875837%5D%2C%20%5B7.68892340538088%2C%2045.06287746502042%5D%2C%20%5B7.688951633439482%2C%2045.06285562892443%5D%2C%20%5B7.688956302393095%2C%2045.06285085765561%5D%2C%20%5B7.689229749538691%2C%2045.06261658795586%5D%2C%20%5B7.689508011020356%2C%2045.06251835193273%5D%2C%20%5B7.689984998424846%2C%2045.06248015952372%5D%2C%20%5B7.69013040088654%2C%2045.06268376942253%5D%2C%20%5B7.690291943856223%2C%2045.062899351079025%5D%2C%20%5B7.6907318554583%2C%2045.06348982730959%5D%2C%20%5B7.690976542850726%2C%2045.06386855158431%5D%2C%20%5B7.691740111154832%2C%2045.06359412243022%5D%2C%20%5B7.692617291366922%2C%2045.06327884357494%5D%2C%20%5B7.6941264695627%2C%2045.0627214063759%5D%2C%20%5B7.694750079411962%2C%2045.06249076841456%5D%2C%20%5B7.694936634110477%2C%2045.06242176835758%5D%2C%20%5B7.695078856879938%2C%2045.062369160969375%5D%2C%20%5B7.695702203350362%2C%2045.06213859579735%5D%2C%20%5B7.69458013047897%2C%2045.06108947825786%5D%2C%20%5B7.693574224350759%2C%2045.06000466953779%5D%2C%20%5B7.692026979370731%2C%2045.0581260813731%5D%2C%20%5B7.692031539652149%2C%2045.05812443140764%5D%2C%20%5B7.691969625252417%2C%2045.05803481524599%5D%2C%20%5B7.691375074304139%2C%2045.05825034874725%5D%2C%20%5B7.690764383133489%2C%2045.058485059322614%5D%2C%20%5B7.689289803367932%2C%2045.05902090635276%5D%2C%20%5B7.688277061322585%2C%2045.059382960120104%5D%2C%20%5B7.687840415759477%2C%2045.05952195967151%5D%2C%20%5B7.686290454283614%2C%2045.06007602631717%5D%2C%20%5B7.684918353601709%2C%2045.060570287611995%5D%2C%20%5B7.683801596575325%2C%2045.06097278189168%5D%2C%20%5B7.682648396107469%2C%2045.061387409196406%5D%2C%20%5B7.68224226036097%2C%2045.06153343029312%5D%2C%20%5B7.681552660282265%2C%2045.06178025907624%5D%5D%5D%2C%20%22type%22%3A%20%22Polygon%22%7D%2C%20%22id%22%3A%20%227%22%2C%20%22properties%22%3A%20%7B%22Localita%22%3A%201.1354166666666667%7D%2C%20%22type%22%3A%20%22Feature%22%7D%2C%20%7B%22bbox%22%3A%20%5B7.662740637978552%2C%2045.064494042590674%2C%207.677920632863498%2C%2045.07661741362883%5D%2C%20%22geometry%22%3A%20%7B%22coordinates%22%3A%20%5B%5B%5B7.662740637978552%2C%2045.06853770005633%5D%2C%20%5B7.6634198254099575%2C%2045.069510475278875%5D%2C%20%5B7.66351497981653%2C%2045.06961198741784%5D%2C%20%5B7.663816332005457%2C%2045.070031166188066%5D%2C%20%5B7.663880111731541%2C%2045.07009014345647%5D%2C%20%5B7.663928179511649%2C%2045.0701309515081%5D%2C%20%5B7.664497776927266%2C%2045.070937953898785%5D%2C%20%5B7.665145951837704%2C%2045.071840773827795%5D%2C%20%5B7.6652161986357115%2C%2045.0719244562545%5D%2C%20%5B7.66574315596714%2C%2045.07271404042528%5D%2C%20%5B7.666181400813728%2C%2045.0733307955151%5D%2C%20%5B7.666253562843679%2C%2045.07343751596229%5D%2C%20%5B7.666346161217198%2C%2045.07356703413007%5D%2C%20%5B7.6667258173767845%2C%2045.07410608451087%5D%2C%20%5B7.666734681341491%2C%2045.07417712007662%5D%2C%20%5B7.66672494566695%2C%2045.074265833678346%5D%2C%20%5B7.666926928710188%2C%2045.07454981967233%5D%2C%20%5B7.6672384945187595%2C%2045.07497773280292%5D%2C%20%5B7.667269758072131%2C%2045.075013858610944%5D%2C%20%5B7.667390393900772%2C%2045.07519099063511%5D%2C%20%5B7.667486008045175%2C%2045.07534402472422%5D%2C%20%5B7.66767507087741%2C%2045.07560471621414%5D%2C%20%5B7.667497863397866%2C%2045.075666865612114%5D%2C%20%5B7.6680172548595955%2C%2045.07641037550778%5D%2C%20%5B7.668165969275385%2C%2045.076515559226564%5D%2C%20%5B7.668276257917523%2C%2045.076519924423735%5D%2C%20%5B7.668351233961763%2C%2045.07661741362883%5D%2C%20%5B7.668565498909137%2C%2045.07630289309596%5D%2C%20%5B7.668514420247245%2C%2045.07591065221982%5D%2C%20%5B7.6684351044845%2C%2045.07579202344903%5D%2C%20%5B7.66831776972255%2C%2045.075373120888834%5D%2C%20%5B7.668121715946229%2C%2045.07465365675502%5D%2C%20%5B7.668534450528198%2C%2045.07450926915452%5D%2C%20%5B7.669089324256018%2C%2045.074317990517535%5D%2C%20%5B7.668547908193092%2C%2045.073532936027156%5D%2C%20%5B7.669231526260562%2C%2045.07328961639387%5D%2C%20%5B7.670270724772701%2C%2045.07292006424821%5D%2C%20%5B7.670430767087797%2C%2045.072863159295885%5D%2C%20%5B7.671194981183764%2C%2045.0725917002183%5D%2C%20%5B7.671532067888391%2C%2045.07247127290184%5D%2C%20%5B7.672248618808927%2C%2045.07221528491261%5D%2C%20%5B7.673062794886884%2C%2045.07192441433581%5D%2C%20%5B7.673272562972741%2C%2045.07184947427296%5D%2C%20%5B7.673936436714514%2C%2045.07161228899688%5D%2C%20%5B7.6748454226631875%2C%2045.07128752295153%5D%2C%20%5B7.676047083952419%2C%2045.07085982768363%5D%2C%20%5B7.6770037621525224%2C%2045.070520628673336%5D%2C%20%5B7.677920632863498%2C%2045.070195678312494%5D%2C%20%5B7.677420803816619%2C%2045.069433498084216%5D%2C%20%5B7.6770972513650895%2C%2045.0689400953638%5D%2C%20%5B7.6766994497867405%2C%2045.06833346161687%5D%2C%20%5B7.676283264292227%2C%2045.06770278948114%5D%2C%20%5B7.676014132693045%2C%2045.067323820665315%5D%2C%20%5B7.675935200133545%2C%2045.06721267905395%5D%2C%20%5B7.675547777127219%2C%2045.06666714319663%5D%2C%20%5B7.6752248473269%2C%2045.06621240426998%5D%2C%20%5B7.675164775596086%2C%2045.06612781081811%5D%2C%20%5B7.674718601792756%2C%2045.065499519421394%5D%2C%20%5B7.674004586509986%2C%2045.064494042590674%5D%2C%20%5B7.672455053576598%2C%2045.06505033833808%5D%2C%20%5B7.671578985076586%2C%2045.06536484768462%5D%2C%20%5B7.670913214388229%2C%2045.0656038499501%5D%2C%20%5B7.670118050065272%2C%2045.065889431466864%5D%2C%20%5B7.669315312847942%2C%2045.06617772587342%5D%2C%20%5B7.667897512179607%2C%2045.066687091370994%5D%2C%20%5B7.666245514681213%2C%2045.06727991476607%5D%2C%20%5B7.66508198993569%2C%2045.0676983050928%5D%2C%20%5B7.664104439322631%2C%2045.06805016838042%5D%2C%20%5B7.663210044859805%2C%2045.068369922298665%5D%2C%20%5B7.663067538322167%2C%2045.06842087080826%5D%2C%20%5B7.662740637978552%2C%2045.06853770005633%5D%5D%5D%2C%20%22type%22%3A%20%22Polygon%22%7D%2C%20%22id%22%3A%20%228%22%2C%20%22properties%22%3A%20%7B%22Localita%22%3A%201.1538461538461537%7D%2C%20%22type%22%3A%20%22Feature%22%7D%2C%20%7B%22bbox%22%3A%20%5B7.676906221871755%2C%2045.05475904158561%2C%207.687861266951962%2C%2045.0622910752328%5D%2C%20%22geometry%22%3A%20%7B%22coordinates%22%3A%20%5B%5B%5B7.676945477436277%2C%2045.057220417906635%5D%2C%20%5B7.677093557492505%2C%2045.057509260202536%5D%2C%20%5B7.677264224149747%2C%2045.0579509035478%5D%2C%20%5B7.677494925952161%2C%2045.058547923146754%5D%2C%20%5B7.677799053131253%2C%2045.059120360268444%5D%2C%20%5B7.67848275997683%2C%2045.06004617675824%5D%2C%20%5B7.679086476389867%2C%2045.06087418668524%5D%2C%20%5B7.679534390252156%2C%2045.061522349186234%5D%2C%20%5B7.68013239001595%2C%2045.0622910752328%5D%2C%20%5B7.680755150195378%2C%2045.06206709310285%5D%2C%20%5B7.681552660282265%2C%2045.06178025907624%5D%2C%20%5B7.68224226036097%2C%2045.06153343029312%5D%2C%20%5B7.682648396107469%2C%2045.061387409196406%5D%2C%20%5B7.683801596575325%2C%2045.06097278189168%5D%2C%20%5B7.684918353601709%2C%2045.060570287611995%5D%2C%20%5B7.686290454283614%2C%2045.06007602631717%5D%2C%20%5B7.687840415759477%2C%2045.05952195967151%5D%2C%20%5B7.687861266951962%2C%2045.059363866363185%5D%2C%20%5B7.687379754948267%2C%2045.05870863654728%5D%2C%20%5B7.68690335503916%2C%2045.05806846110676%5D%2C%20%5B7.68629874446667%2C%2045.05723594320682%5D%2C%20%5B7.6858764021032995%2C%2045.05665365310665%5D%2C%20%5B7.685433344485273%2C%2045.056071851080944%5D%2C%20%5B7.6849585534931695%2C%2045.055425967907894%5D%2C%20%5B7.684481132822461%2C%2045.05475904158561%5D%2C%20%5B7.682809590021978%2C%2045.055291093257175%5D%2C%20%5B7.6815022704106335%2C%2045.055702905701786%5D%2C%20%5B7.68041735636919%2C%2045.05604486478282%5D%2C%20%5B7.679911748724366%2C%2045.05620244180718%5D%2C%20%5B7.67929199561343%2C%2045.056395608323584%5D%2C%20%5B7.678151406846796%2C%2045.056753266739506%5D%2C%20%5B7.677517091400099%2C%2045.05695347161881%5D%2C%20%5B7.676906221871755%2C%2045.057143853838554%5D%2C%20%5B7.676945477436277%2C%2045.057220417906635%5D%5D%5D%2C%20%22type%22%3A%20%22Polygon%22%7D%2C%20%22id%22%3A%20%229%22%2C%20%22properties%22%3A%20%7B%22Localita%22%3A%201.0172413793103448%7D%2C%20%22type%22%3A%20%22Feature%22%7D%2C%20%7B%22bbox%22%3A%20%5B7.668805137477564%2C%2045.05434289991249%2C%207.68013239001595%2C%2045.064494042590674%5D%2C%20%22geometry%22%3A%20%7B%22coordinates%22%3A%20%5B%5B%5B7.669172731624126%2C%2045.057710055919955%5D%2C%20%5B7.669863173264241%2C%2045.05868054121276%5D%2C%20%5B7.6705170104959315%2C%2045.05960054843031%5D%2C%20%5B7.670552034355523%2C%2045.05964886497017%5D%2C%20%5B7.6705853237302835%2C%2045.05969661669939%5D%2C%20%5B7.671100286753828%2C%2045.06042078591201%5D%2C%20%5B7.671133248036287%2C%2045.06046837432657%5D%2C%20%5B7.6717072821159595%2C%2045.06127283631122%5D%2C%20%5B7.67236359221478%2C%2045.06219382450437%5D%2C%20%5B7.672987040225585%2C%2045.06306864254844%5D%2C%20%5B7.673442812472738%2C%2045.063708180355974%5D%2C%20%5B7.674004586509986%2C%2045.064494042590674%5D%2C%20%5B7.67509827543963%2C%2045.06410137931238%5D%2C%20%5B7.675778696825992%2C%2045.063856714656126%5D%2C%20%5B7.67646350813947%2C%2045.06361046753041%5D%2C%20%5B7.677205499915576%2C%2045.06334364396134%5D%2C%20%5B7.677736723396779%2C%2045.06315238285084%5D%2C%20%5B7.678530357425191%2C%2045.06286706527979%5D%2C%20%5B7.679414081045615%2C%2045.06254939721889%5D%2C%20%5B7.68013239001595%2C%2045.0622910752328%5D%2C%20%5B7.679534390252156%2C%2045.061522349186234%5D%2C%20%5B7.679086476389867%2C%2045.06087418668524%5D%2C%20%5B7.67848275997683%2C%2045.06004617675824%5D%2C%20%5B7.677799053131253%2C%2045.059120360268444%5D%2C%20%5B7.677494925952161%2C%2045.058547923146754%5D%2C%20%5B7.677264224149747%2C%2045.0579509035478%5D%2C%20%5B7.6767999486339376%2C%2045.05808278319962%5D%2C%20%5B7.675233074857071%2C%2045.05593710261493%5D%2C%20%5B7.67517083135938%2C%2045.05585186270345%5D%2C%20%5B7.67437303698685%2C%2045.055244477231916%5D%2C%20%5B7.6739170026768635%2C%2045.054746015189636%5D%2C%20%5B7.673793831541451%2C%2045.05457784547553%5D%2C%20%5B7.673825851707539%2C%2045.054566570196364%5D%2C%20%5B7.673626231261358%2C%2045.05434289991249%5D%2C%20%5B7.673346919059571%2C%2045.05443770051396%5D%2C%20%5B7.6726618992348925%2C%2045.054670208344206%5D%2C%20%5B7.671723236533563%2C%2045.05498879391522%5D%2C%20%5B7.671560401889916%2C%2045.05508738749814%5D%2C%20%5B7.671397580737424%2C%2045.05518597740357%5D%2C%20%5B7.670734053930673%2C%2045.0556993580469%5D%2C%20%5B7.670220032202701%2C%2045.05609704513788%5D%2C%20%5B7.669687577521613%2C%2045.05650898436743%5D%2C%20%5B7.668805137477564%2C%2045.057191692867335%5D%2C%20%5B7.669172731624126%2C%2045.057710055919955%5D%5D%5D%2C%20%22type%22%3A%20%22Polygon%22%7D%2C%20%22id%22%3A%20%2210%22%2C%20%22properties%22%3A%20%7B%22Localita%22%3A%201.0740740740740742%7D%2C%20%22type%22%3A%20%22Feature%22%7D%5D%2C%20%22type%22%3A%20%22FeatureCollection%22%7D%29%3B%0A%0A%20%20%20%20%20%20%20%20%0A%20%20%20%20%0A%20%20%20%20%20%20%20%20%20%20%20%20var%20marker_a5f8c4537c314629a97328c287fdb8c4%20%3D%20L.marker%28%0A%20%20%20%20%20%20%20%20%20%20%20%20%20%20%20%20%5B45.059172%2C%207.678986%5D%2C%0A%20%20%20%20%20%20%20%20%20%20%20%20%20%20%20%20%7B%7D%0A%20%20%20%20%20%20%20%20%20%20%20%20%29.addTo%28map_8d24d06d6aad4f509196e2739def007c%29%3B%0A%20%20%20%20%20%20%20%20%0A%20%20%20%20%0A%20%20%20%20%20%20%20%20%20%20%20%20var%20marker_44a3f25a17c945a2a8a46c3a22773f62%20%3D%20L.marker%28%0A%20%20%20%20%20%20%20%20%20%20%20%20%20%20%20%20%5B45.057837%2C%207.681555%5D%2C%0A%20%20%20%20%20%20%20%20%20%20%20%20%20%20%20%20%7B%7D%0A%20%20%20%20%20%20%20%20%20%20%20%20%29.addTo%28map_8d24d06d6aad4f509196e2739def007c%29%3B%0A%20%20%20%20%20%20%20%20%0A%20%20%20%20%0A%20%20%20%20%20%20%20%20%20%20%20%20var%20marker_c0d6b8f2a4eb424a972633d8995e0f04%20%3D%20L.marker%28%0A%20%20%20%20%20%20%20%20%20%20%20%20%20%20%20%20%5B45.058518%2C%207.678854%5D%2C%0A%20%20%20%20%20%20%20%20%20%20%20%20%20%20%20%20%7B%7D%0A%20%20%20%20%20%20%20%20%20%20%20%20%29.addTo%28map_8d24d06d6aad4f509196e2739def007c%29%3B%0A%20%20%20%20%20%20%20%20%0A%20%20%20%20%0A%20%20%20%20%20%20%20%20%20%20%20%20var%20marker_9a6103854b7943bf9e6ce47d2b844776%20%3D%20L.marker%28%0A%20%20%20%20%20%20%20%20%20%20%20%20%20%20%20%20%5B45.057603%2C%207.681348%5D%2C%0A%20%20%20%20%20%20%20%20%20%20%20%20%20%20%20%20%7B%7D%0A%20%20%20%20%20%20%20%20%20%20%20%20%29.addTo%28map_8d24d06d6aad4f509196e2739def007c%29%3B%0A%20%20%20%20%20%20%20%20%0A%20%20%20%20%0A%20%20%20%20%20%20%20%20%20%20%20%20var%20marker_797f4ff5f5dd48e4a731adfea7c67d25%20%3D%20L.marker%28%0A%20%20%20%20%20%20%20%20%20%20%20%20%20%20%20%20%5B45.055554%2C%207.68259%5D%2C%0A%20%20%20%20%20%20%20%20%20%20%20%20%20%20%20%20%7B%7D%0A%20%20%20%20%20%20%20%20%20%20%20%20%29.addTo%28map_8d24d06d6aad4f509196e2739def007c%29%3B%0A%20%20%20%20%20%20%20%20%0A%3C/script%3E onload=\"this.contentDocument.open();this.contentDocument.write(    decodeURIComponent(this.getAttribute('data-html')));this.contentDocument.close();\" allowfullscreen webkitallowfullscreen mozallowfullscreen></iframe></div></div>"
      ],
      "text/plain": [
       "<folium.folium.Map at 0x15f3cbac0>"
      ]
     },
     "execution_count": 202,
     "metadata": {},
     "output_type": "execute_result"
    }
   ],
   "source": [
    "# map zones\n",
    "m = folium.Map([45.072433300397435, 7.668045740145775], zoom_start=13)\n",
    "\n",
    "folium.Choropleth(mapable,\n",
    "#                  data=mapable,\n",
    "                 toolip).add_to(m)\n",
    "\n",
    "for i, row in sensors.iterrows():\n",
    "    folium.Marker(location=[row.Lat, row.Long]).add_to(m)\n",
    "\n",
    "m"
   ]
  },
  {
   "cell_type": "code",
   "execution_count": null,
   "id": "85738320",
   "metadata": {},
   "outputs": [],
   "source": []
  }
 ],
 "metadata": {
  "kernelspec": {
   "display_name": "Python 3",
   "language": "python",
   "name": "python3"
  },
  "language_info": {
   "codemirror_mode": {
    "name": "ipython",
    "version": 3
   },
   "file_extension": ".py",
   "mimetype": "text/x-python",
   "name": "python",
   "nbconvert_exporter": "python",
   "pygments_lexer": "ipython3",
   "version": "3.8.6"
  },
  "toc": {
   "base_numbering": 1,
   "nav_menu": {},
   "number_sections": true,
   "sideBar": true,
   "skip_h1_title": false,
   "title_cell": "Table of Contents",
   "title_sidebar": "Contents",
   "toc_cell": false,
   "toc_position": {},
   "toc_section_display": true,
   "toc_window_display": false
  }
 },
 "nbformat": 4,
 "nbformat_minor": 5
}
