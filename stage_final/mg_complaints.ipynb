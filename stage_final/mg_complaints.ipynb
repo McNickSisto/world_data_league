{
 "cells": [
  {
   "cell_type": "code",
   "execution_count": 1,
   "id": "b5cc8bdd",
   "metadata": {},
   "outputs": [],
   "source": [
    "import geopandas as gpd\n",
    "import pandas as pd\n",
    "import fiona\n",
    "import os\n",
    "import matplotlib.pyplot as plt\n",
    "import folium\n",
    "from zipfile import ZipFile\n",
    "from folium.plugins import MarkerCluster, HeatMap, BeautifyIcon\n",
    "from folium.map import LayerControl, Layer, FeatureGroup\n",
    "import seaborn as sns\n",
    "from shapely.geometry import Point, LineString, MultiPoint\n",
    "import numpy as np\n",
    "import contextily as ctx\n",
    "import requests\n",
    "from io import StringIO, BytesIO\n",
    "import json\n",
    "import datetime as dt\n",
    "from ast import literal_eval\n",
    "from shapely.wkt import loads\n",
    "import plotly.express as px\n",
    "import re"
   ]
  },
  {
   "cell_type": "code",
   "execution_count": 2,
   "id": "44003eb5",
   "metadata": {},
   "outputs": [],
   "source": [
    "root = 'raw_data/police_complaints/'\n",
    "files = os.listdir(root)\n",
    "\n",
    "dfs = {}\n",
    "for file in files:\n",
    "    if '.csv' in file:\n",
    "        df = pd.read_csv(f'{root}{file}')\n",
    "        dfs[f'{file}{df.shape[1]}'] = df\n",
    "    else:\n",
    "        df = pd.read_excel(f'{root}{file}')\n",
    "        dfs[f'{file}{df.shape[1]}'] = df\n",
    "        \n",
    "dfs['2019_2.csv1'] = pd.read_csv(f'{root}2019_2.csv', sep=';') #fuckup"
   ]
  },
  {
   "cell_type": "code",
   "execution_count": 3,
   "id": "ccaba0f1",
   "metadata": {},
   "outputs": [
    {
     "data": {
      "text/plain": [
       "Altro                         3977\n",
       "Decoro e degrado urbano       2439\n",
       "Disturbi da locali             768\n",
       "Rumori molesti                 639\n",
       "Comportamenti molesti          377\n",
       "Disturbi Cani                  275\n",
       "Veicoli abbandonati             72\n",
       "Uso improprio parti comuni      45\n",
       "Aggregazioni giovanili          24\n",
       "Atti di vandalismo              20\n",
       "Disturbi altri animali          10\n",
       "Name: Sottocategoria Criminologica, dtype: int64"
      ]
     },
     "execution_count": 3,
     "metadata": {},
     "output_type": "execute_result"
    }
   ],
   "source": [
    "all_complaints = pd.concat(dfs.values())\n",
    "all_complaints['Data'] = pd.to_datetime(all_complaints['Data'])\n",
    "all_complaints['Sottocategoria Criminologica'].value_counts()"
   ]
  },
  {
   "cell_type": "code",
   "execution_count": 4,
   "id": "00220ff5",
   "metadata": {},
   "outputs": [
    {
     "data": {
      "text/plain": [
       "(1431, 7)"
      ]
     },
     "execution_count": 4,
     "metadata": {},
     "output_type": "execute_result"
    }
   ],
   "source": [
    "all_complaints_noise = all_complaints[(all_complaints['Sottocategoria Criminologica'] == 'Rumori molesti')\\\n",
    "                                     | (all_complaints['Sottocategoria Criminologica'] == 'Aggregazioni giovanili')\\\n",
    "                                     | (all_complaints['Sottocategoria Criminologica'] == 'Disturbi da locali')\\\n",
    "                                     | (all_complaints['Sottocategoria Criminologica'] == 'Local disturbances')]\n",
    "all_complaints_noise.shape\n"
   ]
  },
  {
   "cell_type": "code",
   "execution_count": 23,
   "id": "77023d2a",
   "metadata": {},
   "outputs": [],
   "source": [
    "complaints_2018 = all_complaints_noise[(all_complaints_noise['Data'] > '2018-01-01') \\\n",
    "                                       & (all_complaints_noise['Data'] < '2018-12-31')]\n",
    "\n",
    "\n",
    "complaints_2018.to_csv('raw_data/complaints_2018.csv')\n"
   ]
  },
  {
   "cell_type": "code",
   "execution_count": 5,
   "id": "8e5d47fe",
   "metadata": {},
   "outputs": [
    {
     "data": {
      "text/plain": [
       "count    1417.000000\n",
       "mean        4.634439\n",
       "std         2.768446\n",
       "min         1.000000\n",
       "25%         2.000000\n",
       "50%         5.000000\n",
       "75%         7.000000\n",
       "max        10.000000\n",
       "Name: Circoscrizione, dtype: float64"
      ]
     },
     "execution_count": 5,
     "metadata": {},
     "output_type": "execute_result"
    }
   ],
   "source": [
    "all_complaints_noise.Circoscrizione.describe()"
   ]
  },
  {
   "cell_type": "code",
   "execution_count": 6,
   "id": "d46bc0d8",
   "metadata": {},
   "outputs": [],
   "source": [
    "zones = gpd.read_file('raw_data/zone_statistiche_geo')\n",
    "zones['ZONASTAT'] = zones['ZONASTAT'].apply(lambda x: re.sub(\"[^0-9]\", \"\", x)).astype(int)"
   ]
  },
  {
   "cell_type": "code",
   "execution_count": 7,
   "id": "01150370",
   "metadata": {},
   "outputs": [],
   "source": [
    "complaints_date = all_complaints_noise.groupby(['Data', 'Circoscrizione']).count()[['Localita']].reset_index()\n",
    "complaints_shp = complaints_date.merge(zones, \n",
    "                                       left_on='Circoscrizione',\n",
    "                                       right_on='ZONASTAT')"
   ]
  },
  {
   "cell_type": "code",
   "execution_count": 8,
   "id": "60967fb1",
   "metadata": {},
   "outputs": [],
   "source": [
    "mapable = gpd.GeoDataFrame(complaints_shp.groupby('ZONASTAT').agg({'Localita':'mean',\n",
    "                                               'geometry':'first'}))\n",
    "mapable = mapable.set_crs('EPSG:3003')\n",
    "mapable = mapable.to_crs('EPSG:3857')"
   ]
  },
  {
   "cell_type": "code",
   "execution_count": 9,
   "id": "429c700a",
   "metadata": {},
   "outputs": [
    {
     "data": {
      "text/html": [
       "<div>\n",
       "<style scoped>\n",
       "    .dataframe tbody tr th:only-of-type {\n",
       "        vertical-align: middle;\n",
       "    }\n",
       "\n",
       "    .dataframe tbody tr th {\n",
       "        vertical-align: top;\n",
       "    }\n",
       "\n",
       "    .dataframe thead th {\n",
       "        text-align: right;\n",
       "    }\n",
       "</style>\n",
       "<table border=\"1\" class=\"dataframe\">\n",
       "  <thead>\n",
       "    <tr style=\"text-align: right;\">\n",
       "      <th></th>\n",
       "      <th>Localita</th>\n",
       "      <th>geometry</th>\n",
       "    </tr>\n",
       "    <tr>\n",
       "      <th>ZONASTAT</th>\n",
       "      <th></th>\n",
       "      <th></th>\n",
       "    </tr>\n",
       "  </thead>\n",
       "  <tbody>\n",
       "    <tr>\n",
       "      <th>1</th>\n",
       "      <td>1.250000</td>\n",
       "      <td>POLYGON ((854420.153 5632875.411, 854470.197 5...</td>\n",
       "    </tr>\n",
       "    <tr>\n",
       "      <th>2</th>\n",
       "      <td>1.037037</td>\n",
       "      <td>POLYGON ((855400.704 5632952.711, 855446.466 5...</td>\n",
       "    </tr>\n",
       "    <tr>\n",
       "      <th>3</th>\n",
       "      <td>1.133333</td>\n",
       "      <td>POLYGON ((855189.904 5632505.860, 855233.672 5...</td>\n",
       "    </tr>\n",
       "    <tr>\n",
       "      <th>4</th>\n",
       "      <td>1.096154</td>\n",
       "      <td>POLYGON ((854345.767 5631838.946, 854395.435 5...</td>\n",
       "    </tr>\n",
       "    <tr>\n",
       "      <th>5</th>\n",
       "      <td>1.049020</td>\n",
       "      <td>POLYGON ((853633.229 5633395.257, 853646.291 5...</td>\n",
       "    </tr>\n",
       "    <tr>\n",
       "      <th>6</th>\n",
       "      <td>1.110169</td>\n",
       "      <td>POLYGON ((856059.578 5631808.449, 856095.141 5...</td>\n",
       "    </tr>\n",
       "    <tr>\n",
       "      <th>7</th>\n",
       "      <td>1.135417</td>\n",
       "      <td>POLYGON ((855106.531 5631252.773, 855231.830 5...</td>\n",
       "    </tr>\n",
       "    <tr>\n",
       "      <th>8</th>\n",
       "      <td>1.153846</td>\n",
       "      <td>POLYGON ((853012.386 5632317.806, 853087.993 5...</td>\n",
       "    </tr>\n",
       "    <tr>\n",
       "      <th>9</th>\n",
       "      <td>1.017241</td>\n",
       "      <td>POLYGON ((854593.661 5630534.173, 854610.146 5...</td>\n",
       "    </tr>\n",
       "    <tr>\n",
       "      <th>10</th>\n",
       "      <td>1.074074</td>\n",
       "      <td>POLYGON ((853728.403 5630611.333, 853805.263 5...</td>\n",
       "    </tr>\n",
       "  </tbody>\n",
       "</table>\n",
       "</div>"
      ],
      "text/plain": [
       "          Localita                                           geometry\n",
       "ZONASTAT                                                             \n",
       "1         1.250000  POLYGON ((854420.153 5632875.411, 854470.197 5...\n",
       "2         1.037037  POLYGON ((855400.704 5632952.711, 855446.466 5...\n",
       "3         1.133333  POLYGON ((855189.904 5632505.860, 855233.672 5...\n",
       "4         1.096154  POLYGON ((854345.767 5631838.946, 854395.435 5...\n",
       "5         1.049020  POLYGON ((853633.229 5633395.257, 853646.291 5...\n",
       "6         1.110169  POLYGON ((856059.578 5631808.449, 856095.141 5...\n",
       "7         1.135417  POLYGON ((855106.531 5631252.773, 855231.830 5...\n",
       "8         1.153846  POLYGON ((853012.386 5632317.806, 853087.993 5...\n",
       "9         1.017241  POLYGON ((854593.661 5630534.173, 854610.146 5...\n",
       "10        1.074074  POLYGON ((853728.403 5630611.333, 853805.263 5..."
      ]
     },
     "execution_count": 9,
     "metadata": {},
     "output_type": "execute_result"
    }
   ],
   "source": [
    "mapable"
   ]
  },
  {
   "cell_type": "code",
   "execution_count": null,
   "id": "b84340b9",
   "metadata": {},
   "outputs": [],
   "source": [
    "# get sensors\n",
    "sensors = pd.read_csv('raw_data/noise_sensor_list.csv',\n",
    "                     sep=';',\n",
    "                     decimal=',')\n",
    "\n",
    "sensors['geometry'] = sensors.apply(lambda x: Point(x.Lat, x.Long), axis=1)\n",
    "sensors_geo = gpd.GeoDataFrame(sensors)\n",
    "sensors_geo = sensors_geo.set_crs(epsg=3857)\n",
    "# sensors_geo = sensors_geo.to_crs('EPSG:3003')"
   ]
  },
  {
   "cell_type": "code",
   "execution_count": null,
   "id": "c4e5d66b",
   "metadata": {},
   "outputs": [],
   "source": [
    "sensors_geo"
   ]
  },
  {
   "cell_type": "code",
   "execution_count": null,
   "id": "b7715be9",
   "metadata": {},
   "outputs": [],
   "source": [
    "# map zones\n",
    "m = folium.Map([45.072433300397435, 7.668045740145775], zoom_start=13)\n",
    "\n",
    "folium.Choropleth(mapable,\n",
    "#                  data=mapable,\n",
    "                 toolip).add_to(m)\n",
    "\n",
    "for i, row in sensors.iterrows():\n",
    "    folium.Marker(location=[row.Lat, row.Long]).add_to(m)\n",
    "\n",
    "m"
   ]
  },
  {
   "cell_type": "code",
   "execution_count": null,
   "id": "d8fe8472",
   "metadata": {},
   "outputs": [],
   "source": []
  },
  {
   "cell_type": "code",
   "execution_count": null,
   "id": "fe46a7b7",
   "metadata": {},
   "outputs": [],
   "source": []
  },
  {
   "cell_type": "code",
   "execution_count": null,
   "id": "1f098214",
   "metadata": {},
   "outputs": [],
   "source": []
  },
  {
   "cell_type": "code",
   "execution_count": null,
   "id": "54f5524a",
   "metadata": {},
   "outputs": [],
   "source": []
  }
 ],
 "metadata": {
  "kernelspec": {
   "display_name": "Python 3",
   "language": "python",
   "name": "python3"
  },
  "language_info": {
   "codemirror_mode": {
    "name": "ipython",
    "version": 3
   },
   "file_extension": ".py",
   "mimetype": "text/x-python",
   "name": "python",
   "nbconvert_exporter": "python",
   "pygments_lexer": "ipython3",
   "version": "3.8.6"
  },
  "toc": {
   "base_numbering": 1,
   "nav_menu": {},
   "number_sections": true,
   "sideBar": true,
   "skip_h1_title": false,
   "title_cell": "Table of Contents",
   "title_sidebar": "Contents",
   "toc_cell": false,
   "toc_position": {},
   "toc_section_display": true,
   "toc_window_display": false
  }
 },
 "nbformat": 4,
 "nbformat_minor": 5
}
