{
  "nbformat": 4,
  "nbformat_minor": 0,
  "metadata": {
    "colab": {
      "name": "sm_EDA_2.0.ipynb",
      "provenance": [],
      "collapsed_sections": []
    },
    "kernelspec": {
      "name": "python3",
      "display_name": "Python 3"
    },
    "language_info": {
      "name": "python"
    }
  },
  "cells": [
    {
      "cell_type": "markdown",
      "metadata": {
        "id": "-gAOAfIV2mLG"
      },
      "source": [
        "# Data Part"
      ]
    },
    {
      "cell_type": "code",
      "metadata": {
        "colab": {
          "base_uri": "https://localhost:8080/"
        },
        "id": "8_3cufs5FHK4",
        "outputId": "c07c0c6a-bc0d-4c97-e4c5-461fb2492555"
      },
      "source": [
        "from google.colab import drive\n",
        "drive.mount('/content/drive')"
      ],
      "execution_count": null,
      "outputs": [
        {
          "output_type": "stream",
          "text": [
            "Mounted at /content/drive\n"
          ],
          "name": "stdout"
        }
      ]
    },
    {
      "cell_type": "code",
      "metadata": {
        "id": "C1yAUWr7XXHz"
      },
      "source": [
        "import pandas as pd\n",
        "import numpy as np\n",
        "import matplotlib.pyplot as plt\n",
        "import seaborn as sns"
      ],
      "execution_count": null,
      "outputs": []
    },
    {
      "cell_type": "code",
      "metadata": {
        "id": "pnBNRQLWiqUh",
        "colab": {
          "base_uri": "https://localhost:8080/"
        },
        "outputId": "90748f1f-1dcf-4010-98ae-70f865a59808"
      },
      "source": [
        "noise_2018=pd.read_csv('/content/drive/MyDrive/finals/noise_data/san_salvario_2018.csv',skiprows=[0,1,2,3,4,5,6,7],delimiter=';')\n",
        "df=pd.read_csv('https://raw.githubusercontent.com/McNickSisto/world_data_league/main/stage_final/data/Noise_weather_wifi_sim_holidays.csv')\n",
        "#Converting to date time\n",
        "df['date_hour']=pd.to_datetime(df['date_hour'])\n",
        "df=df.drop(columns=['Unnamed: 0','C1','C2','C3','C4','C5,,,,,','date','Day'])\n",
        "df.info()"
      ],
      "execution_count": null,
      "outputs": [
        {
          "output_type": "stream",
          "text": [
            "<class 'pandas.core.frame.DataFrame'>\n",
            "RangeIndex: 17311 entries, 0 to 17310\n",
            "Data columns (total 15 columns):\n",
            " #   Column              Non-Null Count  Dtype         \n",
            "---  ------              --------------  -----         \n",
            " 0   date_hour           17311 non-null  datetime64[ns]\n",
            " 1   No. of Visitors     1639 non-null   float64       \n",
            " 2   index               9054 non-null   float64       \n",
            " 3   cluster             9054 non-null   object        \n",
            " 4   data_a              9054 non-null   object        \n",
            " 5   numero_presenze     9054 non-null   float64       \n",
            " 6   layer_id            9054 non-null   object        \n",
            " 7   layer_nome          9054 non-null   object        \n",
            " 8   dettaglio(secondi)  9054 non-null   float64       \n",
            " 9   temp                17311 non-null  float64       \n",
            " 10  winds               2261 non-null   float64       \n",
            " 11  rainfall_mm         17098 non-null  float64       \n",
            " 12  snowfall_mm         17100 non-null  float64       \n",
            " 13  Holiday             1382 non-null   object        \n",
            " 14  isHoliday           17311 non-null  int64         \n",
            "dtypes: datetime64[ns](1), float64(8), int64(1), object(5)\n",
            "memory usage: 2.0+ MB\n"
          ],
          "name": "stdout"
        }
      ]
    },
    {
      "cell_type": "code",
      "metadata": {
        "colab": {
          "base_uri": "https://localhost:8080/",
          "height": 194
        },
        "id": "KBXfkwdYC4iQ",
        "outputId": "6544cdda-6a32-422a-8c61-2815cc0ef9db"
      },
      "source": [
        "df['date']=df['date_hour'].dt.date\n",
        "df['hour']=df['date_hour'].dt.hour\n",
        "df['day']=df['date_hour'].dt.dayofweek\n",
        "df.head(2)"
      ],
      "execution_count": null,
      "outputs": [
        {
          "output_type": "execute_result",
          "data": {
            "text/html": [
              "<div>\n",
              "<style scoped>\n",
              "    .dataframe tbody tr th:only-of-type {\n",
              "        vertical-align: middle;\n",
              "    }\n",
              "\n",
              "    .dataframe tbody tr th {\n",
              "        vertical-align: top;\n",
              "    }\n",
              "\n",
              "    .dataframe thead th {\n",
              "        text-align: right;\n",
              "    }\n",
              "</style>\n",
              "<table border=\"1\" class=\"dataframe\">\n",
              "  <thead>\n",
              "    <tr style=\"text-align: right;\">\n",
              "      <th></th>\n",
              "      <th>date_hour</th>\n",
              "      <th>No. of Visitors</th>\n",
              "      <th>index</th>\n",
              "      <th>cluster</th>\n",
              "      <th>data_a</th>\n",
              "      <th>numero_presenze</th>\n",
              "      <th>layer_id</th>\n",
              "      <th>layer_nome</th>\n",
              "      <th>dettaglio(secondi)</th>\n",
              "      <th>temp</th>\n",
              "      <th>winds</th>\n",
              "      <th>rainfall_mm</th>\n",
              "      <th>snowfall_mm</th>\n",
              "      <th>Holiday</th>\n",
              "      <th>isHoliday</th>\n",
              "      <th>date</th>\n",
              "      <th>hour</th>\n",
              "      <th>day</th>\n",
              "    </tr>\n",
              "  </thead>\n",
              "  <tbody>\n",
              "    <tr>\n",
              "      <th>0</th>\n",
              "      <td>2018-01-01 00:00:00</td>\n",
              "      <td>NaN</td>\n",
              "      <td>NaN</td>\n",
              "      <td>NaN</td>\n",
              "      <td>NaN</td>\n",
              "      <td>NaN</td>\n",
              "      <td>NaN</td>\n",
              "      <td>NaN</td>\n",
              "      <td>NaN</td>\n",
              "      <td>1.04</td>\n",
              "      <td>0.366667</td>\n",
              "      <td>-0.010</td>\n",
              "      <td>2.6</td>\n",
              "      <td>New year's Day</td>\n",
              "      <td>1</td>\n",
              "      <td>2018-01-01</td>\n",
              "      <td>0</td>\n",
              "      <td>0</td>\n",
              "    </tr>\n",
              "    <tr>\n",
              "      <th>1</th>\n",
              "      <td>2018-01-01 01:00:00</td>\n",
              "      <td>NaN</td>\n",
              "      <td>NaN</td>\n",
              "      <td>NaN</td>\n",
              "      <td>NaN</td>\n",
              "      <td>NaN</td>\n",
              "      <td>NaN</td>\n",
              "      <td>NaN</td>\n",
              "      <td>NaN</td>\n",
              "      <td>1.09</td>\n",
              "      <td>0.590000</td>\n",
              "      <td>0.009</td>\n",
              "      <td>2.6</td>\n",
              "      <td>New year's Day</td>\n",
              "      <td>1</td>\n",
              "      <td>2018-01-01</td>\n",
              "      <td>1</td>\n",
              "      <td>0</td>\n",
              "    </tr>\n",
              "  </tbody>\n",
              "</table>\n",
              "</div>"
            ],
            "text/plain": [
              "            date_hour  No. of Visitors  index  ...        date hour  day\n",
              "0 2018-01-01 00:00:00              NaN    NaN  ...  2018-01-01    0    0\n",
              "1 2018-01-01 01:00:00              NaN    NaN  ...  2018-01-01    1    0\n",
              "\n",
              "[2 rows x 18 columns]"
            ]
          },
          "metadata": {
            "tags": []
          },
          "execution_count": 38
        }
      ]
    },
    {
      "cell_type": "code",
      "metadata": {
        "colab": {
          "base_uri": "https://localhost:8080/"
        },
        "id": "eVcCKgWTH4Hg",
        "outputId": "949e9a96-d829-43d3-9579-30fa02d6d276"
      },
      "source": [
        "set(df['day'])"
      ],
      "execution_count": null,
      "outputs": [
        {
          "output_type": "execute_result",
          "data": {
            "text/plain": [
              "{0, 1, 2, 3, 4, 5, 6}"
            ]
          },
          "metadata": {
            "tags": []
          },
          "execution_count": 39
        }
      ]
    },
    {
      "cell_type": "code",
      "metadata": {
        "colab": {
          "base_uri": "https://localhost:8080/",
          "height": 110
        },
        "id": "CTlufHA-Gvu8",
        "outputId": "d1d53629-19a3-48e2-88bd-d4db12d34224"
      },
      "source": [
        "noise_2018.head(2)"
      ],
      "execution_count": null,
      "outputs": [
        {
          "output_type": "execute_result",
          "data": {
            "text/html": [
              "<div>\n",
              "<style scoped>\n",
              "    .dataframe tbody tr th:only-of-type {\n",
              "        vertical-align: middle;\n",
              "    }\n",
              "\n",
              "    .dataframe tbody tr th {\n",
              "        vertical-align: top;\n",
              "    }\n",
              "\n",
              "    .dataframe thead th {\n",
              "        text-align: right;\n",
              "    }\n",
              "</style>\n",
              "<table border=\"1\" class=\"dataframe\">\n",
              "  <thead>\n",
              "    <tr style=\"text-align: right;\">\n",
              "      <th></th>\n",
              "      <th>Data</th>\n",
              "      <th>Ora</th>\n",
              "      <th>C1</th>\n",
              "      <th>C2</th>\n",
              "      <th>C3</th>\n",
              "      <th>C4</th>\n",
              "      <th>C5</th>\n",
              "    </tr>\n",
              "  </thead>\n",
              "  <tbody>\n",
              "    <tr>\n",
              "      <th>0</th>\n",
              "      <td>01-01-2018</td>\n",
              "      <td>00:00</td>\n",
              "      <td>68,7</td>\n",
              "      <td>NaN</td>\n",
              "      <td>76,0</td>\n",
              "      <td>NaN</td>\n",
              "      <td>66,6</td>\n",
              "    </tr>\n",
              "    <tr>\n",
              "      <th>1</th>\n",
              "      <td>01-01-2018</td>\n",
              "      <td>01:00</td>\n",
              "      <td>68,3</td>\n",
              "      <td>NaN</td>\n",
              "      <td>68,2</td>\n",
              "      <td>NaN</td>\n",
              "      <td>65,4</td>\n",
              "    </tr>\n",
              "  </tbody>\n",
              "</table>\n",
              "</div>"
            ],
            "text/plain": [
              "         Data    Ora    C1   C2    C3   C4    C5\n",
              "0  01-01-2018  00:00  68,7  NaN  76,0  NaN  66,6\n",
              "1  01-01-2018  01:00  68,3  NaN  68,2  NaN  65,4"
            ]
          },
          "metadata": {
            "tags": []
          },
          "execution_count": 40
        }
      ]
    },
    {
      "cell_type": "code",
      "metadata": {
        "id": "J9Wrvs3AHtE6"
      },
      "source": [
        "noise1=noise_2018.copy()\n",
        "noise1['Ora']=pd.to_datetime(noise1['Ora']).dt.hour\n",
        "noise1['Data']=pd.to_datetime(noise1['Data']).dt.date"
      ],
      "execution_count": null,
      "outputs": []
    },
    {
      "cell_type": "code",
      "metadata": {
        "colab": {
          "base_uri": "https://localhost:8080/",
          "height": 110
        },
        "id": "XdziqHJTyusj",
        "outputId": "ce51307b-cdf8-4d47-fdf9-7c8aae3753f5"
      },
      "source": [
        "#Converting the noise readings into decimal format\n",
        "noise1['C1']=noise1['C1'].apply(lambda x: str(x).replace(',','.'))\n",
        "noise1['C2']=noise1['C2'].apply(lambda x: str(x).replace(',','.'))\n",
        "noise1['C3']=noise1['C3'].apply(lambda x: str(x).replace(',','.'))\n",
        "noise1['C4']=noise1['C4'].apply(lambda x: str(x).replace(',','.'))\n",
        "noise1['C5']=noise1['C5'].apply(lambda x: str(x).replace(',','.'))\n",
        "#Conerting the noise reading to float values\n",
        "noise1['C1']=noise1['C1'].apply(lambda x: float(x))\n",
        "noise1['C2']=noise1['C2'].apply(lambda x: float(x))\n",
        "noise1['C3']=noise1['C3'].apply(lambda x: float(x))\n",
        "noise1['C4']=noise1['C4'].apply(lambda x: float(x))\n",
        "noise1['C5']=noise1['C5'].apply(lambda x: float(x))\n",
        "noise1.head(2)"
      ],
      "execution_count": null,
      "outputs": [
        {
          "output_type": "execute_result",
          "data": {
            "text/html": [
              "<div>\n",
              "<style scoped>\n",
              "    .dataframe tbody tr th:only-of-type {\n",
              "        vertical-align: middle;\n",
              "    }\n",
              "\n",
              "    .dataframe tbody tr th {\n",
              "        vertical-align: top;\n",
              "    }\n",
              "\n",
              "    .dataframe thead th {\n",
              "        text-align: right;\n",
              "    }\n",
              "</style>\n",
              "<table border=\"1\" class=\"dataframe\">\n",
              "  <thead>\n",
              "    <tr style=\"text-align: right;\">\n",
              "      <th></th>\n",
              "      <th>Data</th>\n",
              "      <th>Ora</th>\n",
              "      <th>C1</th>\n",
              "      <th>C2</th>\n",
              "      <th>C3</th>\n",
              "      <th>C4</th>\n",
              "      <th>C5</th>\n",
              "    </tr>\n",
              "  </thead>\n",
              "  <tbody>\n",
              "    <tr>\n",
              "      <th>0</th>\n",
              "      <td>2018-01-01</td>\n",
              "      <td>0</td>\n",
              "      <td>68.7</td>\n",
              "      <td>NaN</td>\n",
              "      <td>76.0</td>\n",
              "      <td>NaN</td>\n",
              "      <td>66.6</td>\n",
              "    </tr>\n",
              "    <tr>\n",
              "      <th>1</th>\n",
              "      <td>2018-01-01</td>\n",
              "      <td>1</td>\n",
              "      <td>68.3</td>\n",
              "      <td>NaN</td>\n",
              "      <td>68.2</td>\n",
              "      <td>NaN</td>\n",
              "      <td>65.4</td>\n",
              "    </tr>\n",
              "  </tbody>\n",
              "</table>\n",
              "</div>"
            ],
            "text/plain": [
              "         Data  Ora    C1  C2    C3  C4    C5\n",
              "0  2018-01-01    0  68.7 NaN  76.0 NaN  66.6\n",
              "1  2018-01-01    1  68.3 NaN  68.2 NaN  65.4"
            ]
          },
          "metadata": {
            "tags": []
          },
          "execution_count": 42
        }
      ]
    },
    {
      "cell_type": "code",
      "metadata": {
        "colab": {
          "base_uri": "https://localhost:8080/",
          "height": 408
        },
        "id": "QfmEsjXn4Ouy",
        "outputId": "d77c1222-0d0d-4251-ee0a-00a105fa7590"
      },
      "source": [
        "new_df = pd.merge(noise1, df,  how='inner', left_on=['Data','Ora'], right_on = ['date','hour'])\n",
        "new_df.head()"
      ],
      "execution_count": null,
      "outputs": [
        {
          "output_type": "execute_result",
          "data": {
            "text/html": [
              "<div>\n",
              "<style scoped>\n",
              "    .dataframe tbody tr th:only-of-type {\n",
              "        vertical-align: middle;\n",
              "    }\n",
              "\n",
              "    .dataframe tbody tr th {\n",
              "        vertical-align: top;\n",
              "    }\n",
              "\n",
              "    .dataframe thead th {\n",
              "        text-align: right;\n",
              "    }\n",
              "</style>\n",
              "<table border=\"1\" class=\"dataframe\">\n",
              "  <thead>\n",
              "    <tr style=\"text-align: right;\">\n",
              "      <th></th>\n",
              "      <th>Data</th>\n",
              "      <th>Ora</th>\n",
              "      <th>C1</th>\n",
              "      <th>C2</th>\n",
              "      <th>C3</th>\n",
              "      <th>C4</th>\n",
              "      <th>C5</th>\n",
              "      <th>date_hour</th>\n",
              "      <th>No. of Visitors</th>\n",
              "      <th>index</th>\n",
              "      <th>cluster</th>\n",
              "      <th>data_a</th>\n",
              "      <th>numero_presenze</th>\n",
              "      <th>layer_id</th>\n",
              "      <th>layer_nome</th>\n",
              "      <th>dettaglio(secondi)</th>\n",
              "      <th>temp</th>\n",
              "      <th>winds</th>\n",
              "      <th>rainfall_mm</th>\n",
              "      <th>snowfall_mm</th>\n",
              "      <th>Holiday</th>\n",
              "      <th>isHoliday</th>\n",
              "      <th>date</th>\n",
              "      <th>hour</th>\n",
              "      <th>day</th>\n",
              "    </tr>\n",
              "  </thead>\n",
              "  <tbody>\n",
              "    <tr>\n",
              "      <th>0</th>\n",
              "      <td>2018-01-01</td>\n",
              "      <td>0</td>\n",
              "      <td>68.7</td>\n",
              "      <td>NaN</td>\n",
              "      <td>76.0</td>\n",
              "      <td>NaN</td>\n",
              "      <td>66.6</td>\n",
              "      <td>2018-01-01 00:00:00</td>\n",
              "      <td>NaN</td>\n",
              "      <td>NaN</td>\n",
              "      <td>NaN</td>\n",
              "      <td>NaN</td>\n",
              "      <td>NaN</td>\n",
              "      <td>NaN</td>\n",
              "      <td>NaN</td>\n",
              "      <td>NaN</td>\n",
              "      <td>1.04</td>\n",
              "      <td>0.366667</td>\n",
              "      <td>-0.010</td>\n",
              "      <td>2.600000</td>\n",
              "      <td>New year's Day</td>\n",
              "      <td>1</td>\n",
              "      <td>2018-01-01</td>\n",
              "      <td>0</td>\n",
              "      <td>0</td>\n",
              "    </tr>\n",
              "    <tr>\n",
              "      <th>1</th>\n",
              "      <td>2018-01-01</td>\n",
              "      <td>1</td>\n",
              "      <td>68.3</td>\n",
              "      <td>NaN</td>\n",
              "      <td>68.2</td>\n",
              "      <td>NaN</td>\n",
              "      <td>65.4</td>\n",
              "      <td>2018-01-01 01:00:00</td>\n",
              "      <td>NaN</td>\n",
              "      <td>NaN</td>\n",
              "      <td>NaN</td>\n",
              "      <td>NaN</td>\n",
              "      <td>NaN</td>\n",
              "      <td>NaN</td>\n",
              "      <td>NaN</td>\n",
              "      <td>NaN</td>\n",
              "      <td>1.09</td>\n",
              "      <td>0.590000</td>\n",
              "      <td>0.009</td>\n",
              "      <td>2.600000</td>\n",
              "      <td>New year's Day</td>\n",
              "      <td>1</td>\n",
              "      <td>2018-01-01</td>\n",
              "      <td>1</td>\n",
              "      <td>0</td>\n",
              "    </tr>\n",
              "    <tr>\n",
              "      <th>2</th>\n",
              "      <td>2018-01-01</td>\n",
              "      <td>2</td>\n",
              "      <td>59.8</td>\n",
              "      <td>NaN</td>\n",
              "      <td>64.4</td>\n",
              "      <td>NaN</td>\n",
              "      <td>64.4</td>\n",
              "      <td>2018-01-01 02:00:00</td>\n",
              "      <td>NaN</td>\n",
              "      <td>NaN</td>\n",
              "      <td>NaN</td>\n",
              "      <td>NaN</td>\n",
              "      <td>NaN</td>\n",
              "      <td>NaN</td>\n",
              "      <td>NaN</td>\n",
              "      <td>NaN</td>\n",
              "      <td>1.05</td>\n",
              "      <td>0.450000</td>\n",
              "      <td>0.008</td>\n",
              "      <td>2.266667</td>\n",
              "      <td>New year's Day</td>\n",
              "      <td>1</td>\n",
              "      <td>2018-01-01</td>\n",
              "      <td>2</td>\n",
              "      <td>0</td>\n",
              "    </tr>\n",
              "    <tr>\n",
              "      <th>3</th>\n",
              "      <td>2018-01-01</td>\n",
              "      <td>3</td>\n",
              "      <td>67.4</td>\n",
              "      <td>NaN</td>\n",
              "      <td>67.5</td>\n",
              "      <td>NaN</td>\n",
              "      <td>61.8</td>\n",
              "      <td>2018-01-01 03:00:00</td>\n",
              "      <td>NaN</td>\n",
              "      <td>NaN</td>\n",
              "      <td>NaN</td>\n",
              "      <td>NaN</td>\n",
              "      <td>NaN</td>\n",
              "      <td>NaN</td>\n",
              "      <td>NaN</td>\n",
              "      <td>NaN</td>\n",
              "      <td>0.89</td>\n",
              "      <td>0.400000</td>\n",
              "      <td>0.006</td>\n",
              "      <td>2.266667</td>\n",
              "      <td>New year's Day</td>\n",
              "      <td>1</td>\n",
              "      <td>2018-01-01</td>\n",
              "      <td>3</td>\n",
              "      <td>0</td>\n",
              "    </tr>\n",
              "    <tr>\n",
              "      <th>4</th>\n",
              "      <td>2018-01-01</td>\n",
              "      <td>4</td>\n",
              "      <td>68.0</td>\n",
              "      <td>NaN</td>\n",
              "      <td>64.5</td>\n",
              "      <td>NaN</td>\n",
              "      <td>60.5</td>\n",
              "      <td>2018-01-01 04:00:00</td>\n",
              "      <td>NaN</td>\n",
              "      <td>NaN</td>\n",
              "      <td>NaN</td>\n",
              "      <td>NaN</td>\n",
              "      <td>NaN</td>\n",
              "      <td>NaN</td>\n",
              "      <td>NaN</td>\n",
              "      <td>NaN</td>\n",
              "      <td>0.73</td>\n",
              "      <td>0.780000</td>\n",
              "      <td>-0.011</td>\n",
              "      <td>2.300000</td>\n",
              "      <td>New year's Day</td>\n",
              "      <td>1</td>\n",
              "      <td>2018-01-01</td>\n",
              "      <td>4</td>\n",
              "      <td>0</td>\n",
              "    </tr>\n",
              "  </tbody>\n",
              "</table>\n",
              "</div>"
            ],
            "text/plain": [
              "         Data  Ora    C1  C2  ...  isHoliday        date  hour day\n",
              "0  2018-01-01    0  68.7 NaN  ...          1  2018-01-01     0   0\n",
              "1  2018-01-01    1  68.3 NaN  ...          1  2018-01-01     1   0\n",
              "2  2018-01-01    2  59.8 NaN  ...          1  2018-01-01     2   0\n",
              "3  2018-01-01    3  67.4 NaN  ...          1  2018-01-01     3   0\n",
              "4  2018-01-01    4  68.0 NaN  ...          1  2018-01-01     4   0\n",
              "\n",
              "[5 rows x 25 columns]"
            ]
          },
          "metadata": {
            "tags": []
          },
          "execution_count": 44
        }
      ]
    },
    {
      "cell_type": "code",
      "metadata": {
        "colab": {
          "base_uri": "https://localhost:8080/"
        },
        "id": "KfpIIDl6cp_K",
        "outputId": "aa9dc12d-a145-4147-80f6-c63aa70ffda9"
      },
      "source": [
        "new_df.columns"
      ],
      "execution_count": null,
      "outputs": [
        {
          "output_type": "execute_result",
          "data": {
            "text/plain": [
              "Index(['Data', 'Ora', 'C1', 'C2', 'C3', 'C4', 'C5', 'date_hour',\n",
              "       'No. of Visitors', 'index', 'cluster', 'data_a', 'numero_presenze',\n",
              "       'layer_id', 'layer_nome', 'dettaglio(secondi)', 'temp', 'winds',\n",
              "       'rainfall_mm', 'snowfall_mm', 'Holiday', 'isHoliday', 'date', 'hour',\n",
              "       'day'],\n",
              "      dtype='object')"
            ]
          },
          "metadata": {
            "tags": []
          },
          "execution_count": 45
        }
      ]
    },
    {
      "cell_type": "code",
      "metadata": {
        "id": "P13nOg-Z7UNL"
      },
      "source": [
        "new_df=new_df.drop(columns=['Data','Ora'])"
      ],
      "execution_count": null,
      "outputs": []
    },
    {
      "cell_type": "code",
      "metadata": {
        "id": "urTRs8Zjkj9r"
      },
      "source": [
        "#Fillig the null values considering means on hourly basis\n",
        "new_df[\"C1\"] = new_df.groupby([\"hour\",'day'])['C1'].transform(lambda x: x.fillna(round(x.mean(),1)))\n",
        "new_df[\"C2\"] = new_df.groupby([\"hour\",'day'])['C2'].transform(lambda x: x.fillna(round(x.mean(),1)))\n",
        "new_df[\"C3\"] = new_df.groupby([\"hour\",'day'])['C3'].transform(lambda x: x.fillna(round(x.mean(),1)))\n",
        "new_df[\"C4\"] = new_df.groupby([\"hour\",'day'])['C4'].transform(lambda x: x.fillna(round(x.mean(),1)))\n",
        "new_df[\"C5\"] = new_df.groupby([\"hour\",'day'])['C5'].transform(lambda x: x.fillna(round(x.mean(),1)))"
      ],
      "execution_count": null,
      "outputs": []
    },
    {
      "cell_type": "code",
      "metadata": {
        "colab": {
          "base_uri": "https://localhost:8080/",
          "height": 214
        },
        "id": "5NH0zhfImGld",
        "outputId": "9365c390-5bce-4ee3-ef27-32fc812f4e69"
      },
      "source": [
        "new_df.head(2)"
      ],
      "execution_count": null,
      "outputs": [
        {
          "output_type": "execute_result",
          "data": {
            "text/html": [
              "<div>\n",
              "<style scoped>\n",
              "    .dataframe tbody tr th:only-of-type {\n",
              "        vertical-align: middle;\n",
              "    }\n",
              "\n",
              "    .dataframe tbody tr th {\n",
              "        vertical-align: top;\n",
              "    }\n",
              "\n",
              "    .dataframe thead th {\n",
              "        text-align: right;\n",
              "    }\n",
              "</style>\n",
              "<table border=\"1\" class=\"dataframe\">\n",
              "  <thead>\n",
              "    <tr style=\"text-align: right;\">\n",
              "      <th></th>\n",
              "      <th>C1</th>\n",
              "      <th>C2</th>\n",
              "      <th>C3</th>\n",
              "      <th>C4</th>\n",
              "      <th>C5</th>\n",
              "      <th>date_hour</th>\n",
              "      <th>No. of Visitors</th>\n",
              "      <th>index</th>\n",
              "      <th>cluster</th>\n",
              "      <th>data_a</th>\n",
              "      <th>numero_presenze</th>\n",
              "      <th>layer_id</th>\n",
              "      <th>layer_nome</th>\n",
              "      <th>dettaglio(secondi)</th>\n",
              "      <th>temp</th>\n",
              "      <th>winds</th>\n",
              "      <th>rainfall_mm</th>\n",
              "      <th>snowfall_mm</th>\n",
              "      <th>Holiday</th>\n",
              "      <th>isHoliday</th>\n",
              "      <th>date</th>\n",
              "      <th>hour</th>\n",
              "      <th>day</th>\n",
              "      <th>Log_Avg</th>\n",
              "    </tr>\n",
              "  </thead>\n",
              "  <tbody>\n",
              "    <tr>\n",
              "      <th>0</th>\n",
              "      <td>68.7</td>\n",
              "      <td>56.6</td>\n",
              "      <td>76.0</td>\n",
              "      <td>58.8</td>\n",
              "      <td>66.6</td>\n",
              "      <td>2018-01-01 00:00:00</td>\n",
              "      <td>NaN</td>\n",
              "      <td>NaN</td>\n",
              "      <td>NaN</td>\n",
              "      <td>NaN</td>\n",
              "      <td>NaN</td>\n",
              "      <td>NaN</td>\n",
              "      <td>NaN</td>\n",
              "      <td>NaN</td>\n",
              "      <td>1.04</td>\n",
              "      <td>0.366667</td>\n",
              "      <td>-0.010</td>\n",
              "      <td>2.6</td>\n",
              "      <td>New year's Day</td>\n",
              "      <td>1</td>\n",
              "      <td>2018-01-01</td>\n",
              "      <td>0</td>\n",
              "      <td>0</td>\n",
              "      <td>70.253908</td>\n",
              "    </tr>\n",
              "    <tr>\n",
              "      <th>1</th>\n",
              "      <td>68.3</td>\n",
              "      <td>53.4</td>\n",
              "      <td>68.2</td>\n",
              "      <td>55.4</td>\n",
              "      <td>65.4</td>\n",
              "      <td>2018-01-01 01:00:00</td>\n",
              "      <td>NaN</td>\n",
              "      <td>NaN</td>\n",
              "      <td>NaN</td>\n",
              "      <td>NaN</td>\n",
              "      <td>NaN</td>\n",
              "      <td>NaN</td>\n",
              "      <td>NaN</td>\n",
              "      <td>NaN</td>\n",
              "      <td>1.09</td>\n",
              "      <td>0.590000</td>\n",
              "      <td>0.009</td>\n",
              "      <td>2.6</td>\n",
              "      <td>New year's Day</td>\n",
              "      <td>1</td>\n",
              "      <td>2018-01-01</td>\n",
              "      <td>1</td>\n",
              "      <td>0</td>\n",
              "      <td>65.415954</td>\n",
              "    </tr>\n",
              "  </tbody>\n",
              "</table>\n",
              "</div>"
            ],
            "text/plain": [
              "     C1    C2    C3    C4    C5  ... isHoliday        date  hour day    Log_Avg\n",
              "0  68.7  56.6  76.0  58.8  66.6  ...         1  2018-01-01     0   0  70.253908\n",
              "1  68.3  53.4  68.2  55.4  65.4  ...         1  2018-01-01     1   0  65.415954\n",
              "\n",
              "[2 rows x 24 columns]"
            ]
          },
          "metadata": {
            "tags": []
          },
          "execution_count": 55
        }
      ]
    },
    {
      "cell_type": "code",
      "metadata": {
        "colab": {
          "base_uri": "https://localhost:8080/"
        },
        "id": "0-OnoNf46L6v",
        "outputId": "548bb3d5-9285-4257-f579-f6deeb52c834"
      },
      "source": [
        "new_df.isnull().sum()"
      ],
      "execution_count": null,
      "outputs": [
        {
          "output_type": "execute_result",
          "data": {
            "text/plain": [
              "C1                        0\n",
              "C2                        0\n",
              "C3                        0\n",
              "C4                        0\n",
              "C5                        0\n",
              "date_hour                 0\n",
              "No. of Visitors       15672\n",
              "index                  8257\n",
              "cluster                8257\n",
              "data_a                 8257\n",
              "numero_presenze        8257\n",
              "layer_id               8257\n",
              "layer_nome             8257\n",
              "dettaglio(secondi)     8257\n",
              "temp                      0\n",
              "winds                 15050\n",
              "rainfall_mm             213\n",
              "snowfall_mm             211\n",
              "Holiday               15929\n",
              "isHoliday                 0\n",
              "date                      0\n",
              "hour                      0\n",
              "day                       0\n",
              "dtype: int64"
            ]
          },
          "metadata": {
            "tags": []
          },
          "execution_count": 49
        }
      ]
    },
    {
      "cell_type": "code",
      "metadata": {
        "id": "dyqqF--a8WZl"
      },
      "source": [
        "#logarithmic average of the values.\n",
        "#Divide each value by 10\n",
        "#Apply anti log\n",
        "#Add all the values\n",
        "#Divide by total number of samples\n",
        "#base 10 log the number and multiply it by 10\n",
        "#df['C1_new']=new_df['C1'].apply(lambda x: 10**(x/10))\n",
        "#df['C2_new']=new_df['C2'].apply(lambda x: 10**(x/10))\n",
        "#df['C3_new']=new_df['C3'].apply(lambda x: 10**(x/10))\n",
        "#df['C4_new']=new_df['C4'].apply(lambda x: 10**(x/10))\n",
        "#df['C5_new']=new_df['C5'].apply(lambda x: 10**(x/10))"
      ],
      "execution_count": null,
      "outputs": []
    },
    {
      "cell_type": "code",
      "metadata": {
        "id": "TuQ5TBNa-T7r"
      },
      "source": [
        "#x1=df['C1_new'].mean()\n",
        "#x2=df['C2_new'].mean()\n",
        "#x3=df['C3_new'].mean()\n",
        "#x4=df['C4_new'].mean()\n",
        "#x5=df['C5_new'].mean()"
      ],
      "execution_count": null,
      "outputs": []
    },
    {
      "cell_type": "code",
      "metadata": {
        "id": "m6tYurb1DljX"
      },
      "source": [
        "import math\n",
        "#c1_log_mean=10*math.log10(x1)\n",
        "#c2_log_mean=10*math.log10(x2)\n",
        "#c3_log_mean=10*math.log10(x3)\n",
        "#c4_log_mean=10*math.log10(x4)\n",
        "#c5_log_mean=10*math.log10(x5)"
      ],
      "execution_count": null,
      "outputs": []
    },
    {
      "cell_type": "code",
      "metadata": {
        "id": "bP-hqtK0GMW7"
      },
      "source": [
        "#new_df['C1'].fillna(round(c1_log_mean,1),inplace=True)\n",
        "#new_df['C2'].fillna(round(c2_log_mean,1),inplace=True)\n",
        "#new_df['C3'].fillna(round(c3_log_mean,1),inplace=True)\n",
        "#new_df['C4'].fillna(round(c4_log_mean,1),inplace=True)\n",
        "#new_df['C5'].fillna(round(c5_log_mean,1),inplace=True)"
      ],
      "execution_count": null,
      "outputs": []
    },
    {
      "cell_type": "code",
      "metadata": {
        "id": "hAkpP_rFHGOO"
      },
      "source": [
        "#logarithmic average of the values.\n",
        "#Divide each value by 10\n",
        "#Apply anti log\n",
        "#Add all the values\n",
        "#Divide by total number of samples\n",
        "#base 10 log the number and multiply it by 10\n",
        "new_df['Log_Avg']=np.log10(((10**(new_df['C1']/10))+(10**(new_df['C2']/10))+(10**(new_df['C3']/10))+(10**(new_df['C4']/10))+(10**(new_df['C5']/10)))/5)*10"
      ],
      "execution_count": null,
      "outputs": []
    },
    {
      "cell_type": "code",
      "metadata": {
        "colab": {
          "base_uri": "https://localhost:8080/",
          "height": 214
        },
        "id": "GM-CPca8IrOD",
        "outputId": "d2513e5b-4ba2-40d0-80d0-4aea0f23bf07"
      },
      "source": [
        "new_df.head(2)"
      ],
      "execution_count": null,
      "outputs": [
        {
          "output_type": "execute_result",
          "data": {
            "text/html": [
              "<div>\n",
              "<style scoped>\n",
              "    .dataframe tbody tr th:only-of-type {\n",
              "        vertical-align: middle;\n",
              "    }\n",
              "\n",
              "    .dataframe tbody tr th {\n",
              "        vertical-align: top;\n",
              "    }\n",
              "\n",
              "    .dataframe thead th {\n",
              "        text-align: right;\n",
              "    }\n",
              "</style>\n",
              "<table border=\"1\" class=\"dataframe\">\n",
              "  <thead>\n",
              "    <tr style=\"text-align: right;\">\n",
              "      <th></th>\n",
              "      <th>C1</th>\n",
              "      <th>C2</th>\n",
              "      <th>C3</th>\n",
              "      <th>C4</th>\n",
              "      <th>C5</th>\n",
              "      <th>date_hour</th>\n",
              "      <th>No. of Visitors</th>\n",
              "      <th>index</th>\n",
              "      <th>cluster</th>\n",
              "      <th>data_a</th>\n",
              "      <th>numero_presenze</th>\n",
              "      <th>layer_id</th>\n",
              "      <th>layer_nome</th>\n",
              "      <th>dettaglio(secondi)</th>\n",
              "      <th>temp</th>\n",
              "      <th>winds</th>\n",
              "      <th>rainfall_mm</th>\n",
              "      <th>snowfall_mm</th>\n",
              "      <th>Holiday</th>\n",
              "      <th>isHoliday</th>\n",
              "      <th>date</th>\n",
              "      <th>hour</th>\n",
              "      <th>day</th>\n",
              "      <th>Log_Avg</th>\n",
              "    </tr>\n",
              "  </thead>\n",
              "  <tbody>\n",
              "    <tr>\n",
              "      <th>0</th>\n",
              "      <td>68.7</td>\n",
              "      <td>56.6</td>\n",
              "      <td>76.0</td>\n",
              "      <td>58.8</td>\n",
              "      <td>66.6</td>\n",
              "      <td>2018-01-01 00:00:00</td>\n",
              "      <td>NaN</td>\n",
              "      <td>NaN</td>\n",
              "      <td>NaN</td>\n",
              "      <td>NaN</td>\n",
              "      <td>NaN</td>\n",
              "      <td>NaN</td>\n",
              "      <td>NaN</td>\n",
              "      <td>NaN</td>\n",
              "      <td>1.04</td>\n",
              "      <td>0.366667</td>\n",
              "      <td>-0.010</td>\n",
              "      <td>2.6</td>\n",
              "      <td>New year's Day</td>\n",
              "      <td>1</td>\n",
              "      <td>2018-01-01</td>\n",
              "      <td>0</td>\n",
              "      <td>0</td>\n",
              "      <td>70.253908</td>\n",
              "    </tr>\n",
              "    <tr>\n",
              "      <th>1</th>\n",
              "      <td>68.3</td>\n",
              "      <td>53.4</td>\n",
              "      <td>68.2</td>\n",
              "      <td>55.4</td>\n",
              "      <td>65.4</td>\n",
              "      <td>2018-01-01 01:00:00</td>\n",
              "      <td>NaN</td>\n",
              "      <td>NaN</td>\n",
              "      <td>NaN</td>\n",
              "      <td>NaN</td>\n",
              "      <td>NaN</td>\n",
              "      <td>NaN</td>\n",
              "      <td>NaN</td>\n",
              "      <td>NaN</td>\n",
              "      <td>1.09</td>\n",
              "      <td>0.590000</td>\n",
              "      <td>0.009</td>\n",
              "      <td>2.6</td>\n",
              "      <td>New year's Day</td>\n",
              "      <td>1</td>\n",
              "      <td>2018-01-01</td>\n",
              "      <td>1</td>\n",
              "      <td>0</td>\n",
              "      <td>65.415954</td>\n",
              "    </tr>\n",
              "  </tbody>\n",
              "</table>\n",
              "</div>"
            ],
            "text/plain": [
              "     C1    C2    C3    C4    C5  ... isHoliday        date  hour day    Log_Avg\n",
              "0  68.7  56.6  76.0  58.8  66.6  ...         1  2018-01-01     0   0  70.253908\n",
              "1  68.3  53.4  68.2  55.4  65.4  ...         1  2018-01-01     1   0  65.415954\n",
              "\n",
              "[2 rows x 24 columns]"
            ]
          },
          "metadata": {
            "tags": []
          },
          "execution_count": 51
        }
      ]
    },
    {
      "cell_type": "code",
      "metadata": {
        "colab": {
          "base_uri": "https://localhost:8080/",
          "height": 350
        },
        "id": "NR_T5nuSajL5",
        "outputId": "572e9f07-7258-4cfe-fb55-1bce3b6d8eec"
      },
      "source": [
        "correlation_mat = new_df.corr()\n",
        "sns.heatmap(correlation_mat, annot = True)\n",
        "plt.show()"
      ],
      "execution_count": null,
      "outputs": [
        {
          "output_type": "display_data",
          "data": {
            "image/png": "[encoded data removed]",
            "text/plain": [
              "<Figure size 432x288 with 2 Axes>"
            ]
          },
          "metadata": {
            "tags": [],
            "needs_background": "light"
          }
        }
      ]
    },
    {
      "cell_type": "code",
      "metadata": {
        "colab": {
          "base_uri": "https://localhost:8080/"
        },
        "id": "IWG3qya7a0uC",
        "outputId": "08559c65-6705-45e6-b421-efa83c1d2a7a"
      },
      "source": [
        "corr_pairs = correlation_mat.unstack()\n",
        "print(corr_pairs)"
      ],
      "execution_count": null,
      "outputs": [
        {
          "output_type": "stream",
          "text": [
            "C1       C1             1.000000\n",
            "         C2             0.750641\n",
            "         C3             0.811255\n",
            "         C4             0.774808\n",
            "         C5             0.704784\n",
            "                          ...   \n",
            "Log_Avg  snowfall_mm    0.099318\n",
            "         isHoliday      0.029025\n",
            "         hour           0.353521\n",
            "         day            0.144505\n",
            "         Log_Avg        1.000000\n",
            "Length: 289, dtype: float64\n"
          ],
          "name": "stdout"
        }
      ]
    },
    {
      "cell_type": "code",
      "metadata": {
        "colab": {
          "base_uri": "https://localhost:8080/"
        },
        "id": "IQJUt8HLa-sS",
        "outputId": "499b72e3-f7c3-49cb-9be2-b1e6e1f26f48"
      },
      "source": [
        "sorted_pairs = corr_pairs.sort_values(kind=\"quicksort\")\n",
        "strong_pairs = sorted_pairs[abs(sorted_pairs) > 0.5]\n",
        "strong_pairs"
      ],
      "execution_count": null,
      "outputs": [
        {
          "output_type": "execute_result",
          "data": {
            "text/plain": [
              "index            numero_presenze   -0.505284\n",
              "numero_presenze  index             -0.505284\n",
              "hour             C5                 0.508634\n",
              "C5               hour               0.508634\n",
              "C3               C5                 0.545041\n",
              "C5               C3                 0.545041\n",
              "C3               C2                 0.664572\n",
              "C2               C3                 0.664572\n",
              "temp             winds              0.680332\n",
              "winds            temp               0.680332\n",
              "C3               C4                 0.703664\n",
              "C4               C3                 0.703664\n",
              "C1               C5                 0.704784\n",
              "C5               C1                 0.704784\n",
              "snowfall_mm      winds              0.707306\n",
              "winds            snowfall_mm        0.707306\n",
              "C1               C2                 0.750641\n",
              "C2               C1                 0.750641\n",
              "C5               C4                 0.770329\n",
              "C4               C5                 0.770329\n",
              "                 C1                 0.774808\n",
              "C1               C4                 0.774808\n",
              "Log_Avg          C5                 0.780197\n",
              "C5               Log_Avg            0.780197\n",
              "C3               C1                 0.811255\n",
              "C1               C3                 0.811255\n",
              "C2               C5                 0.827313\n",
              "C5               C2                 0.827313\n",
              "Log_Avg          C2                 0.845649\n",
              "C2               Log_Avg            0.845649\n",
              "Log_Avg          C4                 0.869904\n",
              "C4               Log_Avg            0.869904\n",
              "Log_Avg          C3                 0.888572\n",
              "C3               Log_Avg            0.888572\n",
              "C2               C4                 0.890685\n",
              "C4               C2                 0.890685\n",
              "C1               Log_Avg            0.930511\n",
              "Log_Avg          C1                 0.930511\n",
              "snowfall_mm      temp               0.983953\n",
              "temp             snowfall_mm        0.983953\n",
              "C1               C1                 1.000000\n",
              "hour             hour               1.000000\n",
              "isHoliday        isHoliday          1.000000\n",
              "snowfall_mm      snowfall_mm        1.000000\n",
              "rainfall_mm      rainfall_mm        1.000000\n",
              "winds            winds              1.000000\n",
              "temp             temp               1.000000\n",
              "numero_presenze  numero_presenze    1.000000\n",
              "index            index              1.000000\n",
              "No. of Visitors  No. of Visitors    1.000000\n",
              "C5               C5                 1.000000\n",
              "C4               C4                 1.000000\n",
              "C3               C3                 1.000000\n",
              "C2               C2                 1.000000\n",
              "day              day                1.000000\n",
              "Log_Avg          Log_Avg            1.000000\n",
              "dtype: float64"
            ]
          },
          "metadata": {
            "tags": []
          },
          "execution_count": 59
        }
      ]
    },
    {
      "cell_type": "markdown",
      "metadata": {
        "id": "Wi-DNIsE4IBm"
      },
      "source": [
        "# Analysing by Dropping Null Values"
      ]
    },
    {
      "cell_type": "code",
      "metadata": {
        "id": "3ilhtOaC5N-x",
        "colab": {
          "base_uri": "https://localhost:8080/"
        },
        "outputId": "40f20b8e-d6bd-492f-d269-fdfcb930adde"
      },
      "source": [
        "new_df['data_a']"
      ],
      "execution_count": 66,
      "outputs": [
        {
          "output_type": "execute_result",
          "data": {
            "text/plain": [
              "0        NaN\n",
              "1        NaN\n",
              "2        NaN\n",
              "3        NaN\n",
              "4        NaN\n",
              "        ... \n",
              "17306    NaN\n",
              "17307    NaN\n",
              "17308    NaN\n",
              "17309    NaN\n",
              "17310    NaN\n",
              "Name: data_a, Length: 17311, dtype: object"
            ]
          },
          "metadata": {
            "tags": []
          },
          "execution_count": 66
        }
      ]
    }
  ]
}