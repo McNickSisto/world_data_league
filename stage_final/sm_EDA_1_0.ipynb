{
 "cells": [
  {
   "cell_type": "code",
   "execution_count": 52,
   "metadata": {
    "id": "C1yAUWr7XXHz"
   },
   "outputs": [],
   "source": [
    "import pandas as pd\n",
    "import numpy as np\n",
    "import matplotlib.pyplot as plt\n",
    "import seaborn as sns"
   ]
  },
  {
   "cell_type": "code",
   "execution_count": 53,
   "metadata": {
    "colab": {
     "base_uri": "https://localhost:8080/"
    },
    "id": "pnBNRQLWiqUh",
    "outputId": "5d9baa47-0313-4d42-8be8-490a4df1fe7f"
   },
   "outputs": [
    {
     "name": "stdout",
     "output_type": "stream",
     "text": [
      "<class 'pandas.core.frame.DataFrame'>\n",
      "RangeIndex: 8760 entries, 0 to 8759\n",
      "Data columns (total 7 columns):\n",
      " #   Column  Non-Null Count  Dtype \n",
      "---  ------  --------------  ----- \n",
      " 0   Data    8760 non-null   object\n",
      " 1   Ora     8760 non-null   object\n",
      " 2   C1      8037 non-null   object\n",
      " 3   C2      7418 non-null   object\n",
      " 4   C3      4351 non-null   object\n",
      " 5   C4      5394 non-null   object\n",
      " 6   C5      8604 non-null   object\n",
      "dtypes: object(7)\n",
      "memory usage: 479.2+ KB\n"
     ]
    }
   ],
   "source": [
    "noise_2018=pd.read_csv('/content/drive/MyDrive/finals/noise_data/san_salvario_2018.csv',skiprows=[0,1,2,3,4,5,6,7],delimiter=';')\n",
    "noise_2018.info()"
   ]
  },
  {
   "cell_type": "code",
   "execution_count": 54,
   "metadata": {
    "colab": {
     "base_uri": "https://localhost:8080/",
     "height": 110
    },
    "id": "SswoKIHSsV73",
    "outputId": "052d9882-297d-4b64-b555-b1f1dd81ce20"
   },
   "outputs": [
    {
     "data": {
      "text/html": [
       "<div>\n",
       "<style scoped>\n",
       "    .dataframe tbody tr th:only-of-type {\n",
       "        vertical-align: middle;\n",
       "    }\n",
       "\n",
       "    .dataframe tbody tr th {\n",
       "        vertical-align: top;\n",
       "    }\n",
       "\n",
       "    .dataframe thead th {\n",
       "        text-align: right;\n",
       "    }\n",
       "</style>\n",
       "<table border=\"1\" class=\"dataframe\">\n",
       "  <thead>\n",
       "    <tr style=\"text-align: right;\">\n",
       "      <th></th>\n",
       "      <th>Data</th>\n",
       "      <th>Ora</th>\n",
       "      <th>C1</th>\n",
       "      <th>C2</th>\n",
       "      <th>C3</th>\n",
       "      <th>C4</th>\n",
       "      <th>C5</th>\n",
       "    </tr>\n",
       "  </thead>\n",
       "  <tbody>\n",
       "    <tr>\n",
       "      <th>0</th>\n",
       "      <td>01-01-2018</td>\n",
       "      <td>00:00</td>\n",
       "      <td>68,7</td>\n",
       "      <td>NaN</td>\n",
       "      <td>76,0</td>\n",
       "      <td>NaN</td>\n",
       "      <td>66,6</td>\n",
       "    </tr>\n",
       "    <tr>\n",
       "      <th>1</th>\n",
       "      <td>01-01-2018</td>\n",
       "      <td>01:00</td>\n",
       "      <td>68,3</td>\n",
       "      <td>NaN</td>\n",
       "      <td>68,2</td>\n",
       "      <td>NaN</td>\n",
       "      <td>65,4</td>\n",
       "    </tr>\n",
       "  </tbody>\n",
       "</table>\n",
       "</div>"
      ],
      "text/plain": [
       "         Data    Ora    C1   C2    C3   C4    C5\n",
       "0  01-01-2018  00:00  68,7  NaN  76,0  NaN  66,6\n",
       "1  01-01-2018  01:00  68,3  NaN  68,2  NaN  65,4"
      ]
     },
     "execution_count": 54,
     "metadata": {
      "tags": []
     },
     "output_type": "execute_result"
    }
   ],
   "source": [
    "noise_2018.head(2)"
   ]
  },
  {
   "cell_type": "code",
   "execution_count": 55,
   "metadata": {
    "colab": {
     "base_uri": "https://localhost:8080/",
     "height": 110
    },
    "id": "XdziqHJTyusj",
    "outputId": "a9838a84-5fc8-41cf-b935-ecd49f4f41a0"
   },
   "outputs": [
    {
     "data": {
      "text/html": [
       "<div>\n",
       "<style scoped>\n",
       "    .dataframe tbody tr th:only-of-type {\n",
       "        vertical-align: middle;\n",
       "    }\n",
       "\n",
       "    .dataframe tbody tr th {\n",
       "        vertical-align: top;\n",
       "    }\n",
       "\n",
       "    .dataframe thead th {\n",
       "        text-align: right;\n",
       "    }\n",
       "</style>\n",
       "<table border=\"1\" class=\"dataframe\">\n",
       "  <thead>\n",
       "    <tr style=\"text-align: right;\">\n",
       "      <th></th>\n",
       "      <th>Data</th>\n",
       "      <th>Ora</th>\n",
       "      <th>C1</th>\n",
       "      <th>C2</th>\n",
       "      <th>C3</th>\n",
       "      <th>C4</th>\n",
       "      <th>C5</th>\n",
       "    </tr>\n",
       "  </thead>\n",
       "  <tbody>\n",
       "    <tr>\n",
       "      <th>0</th>\n",
       "      <td>01-01-2018</td>\n",
       "      <td>00:00</td>\n",
       "      <td>68,7</td>\n",
       "      <td>NaN</td>\n",
       "      <td>76,0</td>\n",
       "      <td>NaN</td>\n",
       "      <td>66,6</td>\n",
       "    </tr>\n",
       "    <tr>\n",
       "      <th>1</th>\n",
       "      <td>01-01-2018</td>\n",
       "      <td>01:00</td>\n",
       "      <td>68,3</td>\n",
       "      <td>NaN</td>\n",
       "      <td>68,2</td>\n",
       "      <td>NaN</td>\n",
       "      <td>65,4</td>\n",
       "    </tr>\n",
       "  </tbody>\n",
       "</table>\n",
       "</div>"
      ],
      "text/plain": [
       "         Data    Ora    C1   C2    C3   C4    C5\n",
       "0  01-01-2018  00:00  68,7  NaN  76,0  NaN  66,6\n",
       "1  01-01-2018  01:00  68,3  NaN  68,2  NaN  65,4"
      ]
     },
     "execution_count": 55,
     "metadata": {
      "tags": []
     },
     "output_type": "execute_result"
    }
   ],
   "source": [
    "noise1=noise_2018.copy()\n",
    "noise1.head(2)"
   ]
  },
  {
   "cell_type": "code",
   "execution_count": 56,
   "metadata": {
    "id": "E0gCDeV1y7-K"
   },
   "outputs": [],
   "source": [
    "noise1['C1']=noise1['C1'].apply(lambda x: str(x).replace(',','.'))\n",
    "noise1['C2']=noise1['C2'].apply(lambda x: str(x).replace(',','.'))\n",
    "noise1['C3']=noise1['C3'].apply(lambda x: str(x).replace(',','.'))\n",
    "noise1['C4']=noise1['C4'].apply(lambda x: str(x).replace(',','.'))\n",
    "noise1['C5']=noise1['C5'].apply(lambda x: str(x).replace(',','.'))"
   ]
  },
  {
   "cell_type": "code",
   "execution_count": 57,
   "metadata": {
    "colab": {
     "base_uri": "https://localhost:8080/",
     "height": 110
    },
    "id": "74NhsjzWXDKE",
    "outputId": "f1019d7a-5e5f-4ae0-8415-5270138efcc2"
   },
   "outputs": [
    {
     "data": {
      "text/html": [
       "<div>\n",
       "<style scoped>\n",
       "    .dataframe tbody tr th:only-of-type {\n",
       "        vertical-align: middle;\n",
       "    }\n",
       "\n",
       "    .dataframe tbody tr th {\n",
       "        vertical-align: top;\n",
       "    }\n",
       "\n",
       "    .dataframe thead th {\n",
       "        text-align: right;\n",
       "    }\n",
       "</style>\n",
       "<table border=\"1\" class=\"dataframe\">\n",
       "  <thead>\n",
       "    <tr style=\"text-align: right;\">\n",
       "      <th></th>\n",
       "      <th>Data</th>\n",
       "      <th>Ora</th>\n",
       "      <th>C1</th>\n",
       "      <th>C2</th>\n",
       "      <th>C3</th>\n",
       "      <th>C4</th>\n",
       "      <th>C5</th>\n",
       "    </tr>\n",
       "  </thead>\n",
       "  <tbody>\n",
       "    <tr>\n",
       "      <th>0</th>\n",
       "      <td>01-01-2018</td>\n",
       "      <td>00:00</td>\n",
       "      <td>68.7</td>\n",
       "      <td>nan</td>\n",
       "      <td>76.0</td>\n",
       "      <td>nan</td>\n",
       "      <td>66.6</td>\n",
       "    </tr>\n",
       "    <tr>\n",
       "      <th>1</th>\n",
       "      <td>01-01-2018</td>\n",
       "      <td>01:00</td>\n",
       "      <td>68.3</td>\n",
       "      <td>nan</td>\n",
       "      <td>68.2</td>\n",
       "      <td>nan</td>\n",
       "      <td>65.4</td>\n",
       "    </tr>\n",
       "  </tbody>\n",
       "</table>\n",
       "</div>"
      ],
      "text/plain": [
       "         Data    Ora    C1   C2    C3   C4    C5\n",
       "0  01-01-2018  00:00  68.7  nan  76.0  nan  66.6\n",
       "1  01-01-2018  01:00  68.3  nan  68.2  nan  65.4"
      ]
     },
     "execution_count": 57,
     "metadata": {
      "tags": []
     },
     "output_type": "execute_result"
    }
   ],
   "source": [
    "noise1.head(2)"
   ]
  },
  {
   "cell_type": "code",
   "execution_count": 58,
   "metadata": {
    "colab": {
     "base_uri": "https://localhost:8080/",
     "height": 110
    },
    "id": "WynyGgbi5icp",
    "outputId": "c6f24c82-636f-4604-c822-3dd945d05995"
   },
   "outputs": [
    {
     "data": {
      "text/html": [
       "<div>\n",
       "<style scoped>\n",
       "    .dataframe tbody tr th:only-of-type {\n",
       "        vertical-align: middle;\n",
       "    }\n",
       "\n",
       "    .dataframe tbody tr th {\n",
       "        vertical-align: top;\n",
       "    }\n",
       "\n",
       "    .dataframe thead th {\n",
       "        text-align: right;\n",
       "    }\n",
       "</style>\n",
       "<table border=\"1\" class=\"dataframe\">\n",
       "  <thead>\n",
       "    <tr style=\"text-align: right;\">\n",
       "      <th></th>\n",
       "      <th>Data</th>\n",
       "      <th>Ora</th>\n",
       "      <th>C1</th>\n",
       "      <th>C2</th>\n",
       "      <th>C3</th>\n",
       "      <th>C4</th>\n",
       "      <th>C5</th>\n",
       "    </tr>\n",
       "  </thead>\n",
       "  <tbody>\n",
       "    <tr>\n",
       "      <th>0</th>\n",
       "      <td>2018-01-01</td>\n",
       "      <td>00:00</td>\n",
       "      <td>68.7</td>\n",
       "      <td>nan</td>\n",
       "      <td>76.0</td>\n",
       "      <td>nan</td>\n",
       "      <td>66.6</td>\n",
       "    </tr>\n",
       "    <tr>\n",
       "      <th>1</th>\n",
       "      <td>2018-01-01</td>\n",
       "      <td>01:00</td>\n",
       "      <td>68.3</td>\n",
       "      <td>nan</td>\n",
       "      <td>68.2</td>\n",
       "      <td>nan</td>\n",
       "      <td>65.4</td>\n",
       "    </tr>\n",
       "  </tbody>\n",
       "</table>\n",
       "</div>"
      ],
      "text/plain": [
       "        Data    Ora    C1   C2    C3   C4    C5\n",
       "0 2018-01-01  00:00  68.7  nan  76.0  nan  66.6\n",
       "1 2018-01-01  01:00  68.3  nan  68.2  nan  65.4"
      ]
     },
     "execution_count": 58,
     "metadata": {
      "tags": []
     },
     "output_type": "execute_result"
    }
   ],
   "source": [
    "noise1['Data']=pd.to_datetime(noise1['Data'])\n",
    "noise1.head(2)"
   ]
  },
  {
   "cell_type": "code",
   "execution_count": 59,
   "metadata": {
    "id": "JdDPEk1yXNPN"
   },
   "outputs": [],
   "source": [
    "noise1['C1']=noise1['C1'].apply(lambda x: float(x))\n",
    "noise1['C2']=noise1['C2'].apply(lambda x: float(x))\n",
    "noise1['C3']=noise1['C3'].apply(lambda x: float(x))\n",
    "noise1['C4']=noise1['C4'].apply(lambda x: float(x))\n",
    "noise1['C5']=noise1['C5'].apply(lambda x: float(x))"
   ]
  },
  {
   "cell_type": "code",
   "execution_count": 60,
   "metadata": {
    "colab": {
     "base_uri": "https://localhost:8080/",
     "height": 286
    },
    "id": "3uth6-7JXnNm",
    "outputId": "49690fe9-b0bf-4dbe-b550-99a18f94e23b"
   },
   "outputs": [
    {
     "data": {
      "text/plain": [
       "<matplotlib.axes._subplots.AxesSubplot at 0x7fc874574ad0>"
      ]
     },
     "execution_count": 60,
     "metadata": {
      "tags": []
     },
     "output_type": "execute_result"
    },
    {
     "data": {
      "image/png": "[encoded data removed]",
      "text/plain": [
       "<Figure size 432x288 with 2 Axes>"
      ]
     },
     "metadata": {
      "needs_background": "light",
      "tags": []
     },
     "output_type": "display_data"
    }
   ],
   "source": [
    "correlation_mat = noise1.corr()\n",
    "sns.heatmap(correlation_mat, annot = True)"
   ]
  },
  {
   "cell_type": "code",
   "execution_count": 61,
   "metadata": {
    "colab": {
     "base_uri": "https://localhost:8080/",
     "height": 304
    },
    "id": "I0xA0m5MY7lV",
    "outputId": "3e6e57e1-4293-4e29-9c23-9a75d128323a"
   },
   "outputs": [
    {
     "data": {
      "text/html": [
       "<div>\n",
       "<style scoped>\n",
       "    .dataframe tbody tr th:only-of-type {\n",
       "        vertical-align: middle;\n",
       "    }\n",
       "\n",
       "    .dataframe tbody tr th {\n",
       "        vertical-align: top;\n",
       "    }\n",
       "\n",
       "    .dataframe thead th {\n",
       "        text-align: right;\n",
       "    }\n",
       "</style>\n",
       "<table border=\"1\" class=\"dataframe\">\n",
       "  <thead>\n",
       "    <tr style=\"text-align: right;\">\n",
       "      <th></th>\n",
       "      <th>Unnamed: 0</th>\n",
       "      <th>C1</th>\n",
       "      <th>C2</th>\n",
       "      <th>C3</th>\n",
       "      <th>C4</th>\n",
       "      <th>C5</th>\n",
       "      <th>date_hour</th>\n",
       "      <th>No. of Visitors</th>\n",
       "      <th>index</th>\n",
       "      <th>cluster</th>\n",
       "      <th>data_a</th>\n",
       "      <th>numero_presenze</th>\n",
       "      <th>layer_id</th>\n",
       "      <th>layer_nome</th>\n",
       "      <th>dettaglio(secondi)</th>\n",
       "      <th>winds</th>\n",
       "      <th>rainfall_mm</th>\n",
       "      <th>snowfall_mm</th>\n",
       "    </tr>\n",
       "  </thead>\n",
       "  <tbody>\n",
       "    <tr>\n",
       "      <th>0</th>\n",
       "      <td>0</td>\n",
       "      <td>68,7</td>\n",
       "      <td>NaN</td>\n",
       "      <td>76,0</td>\n",
       "      <td>NaN</td>\n",
       "      <td>66,6</td>\n",
       "      <td>01-01-18 00:00</td>\n",
       "      <td>NaN</td>\n",
       "      <td>NaN</td>\n",
       "      <td>NaN</td>\n",
       "      <td>NaN</td>\n",
       "      <td>NaN</td>\n",
       "      <td>NaN</td>\n",
       "      <td>NaN</td>\n",
       "      <td>NaN</td>\n",
       "      <td>0.366667</td>\n",
       "      <td>-0.010</td>\n",
       "      <td>2.600000</td>\n",
       "    </tr>\n",
       "    <tr>\n",
       "      <th>1</th>\n",
       "      <td>1</td>\n",
       "      <td>68,3</td>\n",
       "      <td>NaN</td>\n",
       "      <td>68,2</td>\n",
       "      <td>NaN</td>\n",
       "      <td>65,4</td>\n",
       "      <td>01-01-18 01:00</td>\n",
       "      <td>NaN</td>\n",
       "      <td>NaN</td>\n",
       "      <td>NaN</td>\n",
       "      <td>NaN</td>\n",
       "      <td>NaN</td>\n",
       "      <td>NaN</td>\n",
       "      <td>NaN</td>\n",
       "      <td>NaN</td>\n",
       "      <td>0.590000</td>\n",
       "      <td>0.009</td>\n",
       "      <td>2.600000</td>\n",
       "    </tr>\n",
       "    <tr>\n",
       "      <th>2</th>\n",
       "      <td>2</td>\n",
       "      <td>59,8</td>\n",
       "      <td>NaN</td>\n",
       "      <td>64,4</td>\n",
       "      <td>NaN</td>\n",
       "      <td>64,4</td>\n",
       "      <td>01-01-18 02:00</td>\n",
       "      <td>NaN</td>\n",
       "      <td>NaN</td>\n",
       "      <td>NaN</td>\n",
       "      <td>NaN</td>\n",
       "      <td>NaN</td>\n",
       "      <td>NaN</td>\n",
       "      <td>NaN</td>\n",
       "      <td>NaN</td>\n",
       "      <td>0.450000</td>\n",
       "      <td>0.008</td>\n",
       "      <td>2.266667</td>\n",
       "    </tr>\n",
       "    <tr>\n",
       "      <th>3</th>\n",
       "      <td>3</td>\n",
       "      <td>67,4</td>\n",
       "      <td>NaN</td>\n",
       "      <td>67,5</td>\n",
       "      <td>NaN</td>\n",
       "      <td>61,8</td>\n",
       "      <td>01-01-18 03:00</td>\n",
       "      <td>NaN</td>\n",
       "      <td>NaN</td>\n",
       "      <td>NaN</td>\n",
       "      <td>NaN</td>\n",
       "      <td>NaN</td>\n",
       "      <td>NaN</td>\n",
       "      <td>NaN</td>\n",
       "      <td>NaN</td>\n",
       "      <td>0.400000</td>\n",
       "      <td>0.006</td>\n",
       "      <td>2.266667</td>\n",
       "    </tr>\n",
       "    <tr>\n",
       "      <th>4</th>\n",
       "      <td>4</td>\n",
       "      <td>68,0</td>\n",
       "      <td>NaN</td>\n",
       "      <td>64,5</td>\n",
       "      <td>NaN</td>\n",
       "      <td>60,5</td>\n",
       "      <td>01-01-18 04:00</td>\n",
       "      <td>NaN</td>\n",
       "      <td>NaN</td>\n",
       "      <td>NaN</td>\n",
       "      <td>NaN</td>\n",
       "      <td>NaN</td>\n",
       "      <td>NaN</td>\n",
       "      <td>NaN</td>\n",
       "      <td>NaN</td>\n",
       "      <td>0.780000</td>\n",
       "      <td>-0.011</td>\n",
       "      <td>2.300000</td>\n",
       "    </tr>\n",
       "  </tbody>\n",
       "</table>\n",
       "</div>"
      ],
      "text/plain": [
       "   Unnamed: 0    C1   C2  ...     winds rainfall_mm snowfall_mm\n",
       "0           0  68,7  NaN  ...  0.366667      -0.010    2.600000\n",
       "1           1  68,3  NaN  ...  0.590000       0.009    2.600000\n",
       "2           2  59,8  NaN  ...  0.450000       0.008    2.266667\n",
       "3           3  67,4  NaN  ...  0.400000       0.006    2.266667\n",
       "4           4  68,0  NaN  ...  0.780000      -0.011    2.300000\n",
       "\n",
       "[5 rows x 18 columns]"
      ]
     },
     "execution_count": 61,
     "metadata": {
      "tags": []
     },
     "output_type": "execute_result"
    }
   ],
   "source": [
    "df=pd.read_csv('/content/drive/MyDrive/finals/Noise_weather_wifi_sim.csv')\n",
    "df.head()"
   ]
  },
  {
   "cell_type": "code",
   "execution_count": 62,
   "metadata": {
    "colab": {
     "base_uri": "https://localhost:8080/",
     "height": 181
    },
    "id": "yHoKqZ8w3LyN",
    "outputId": "2198bb35-3f7d-4d41-815e-31effbfeec6c"
   },
   "outputs": [
    {
     "data": {
      "text/html": [
       "<div>\n",
       "<style scoped>\n",
       "    .dataframe tbody tr th:only-of-type {\n",
       "        vertical-align: middle;\n",
       "    }\n",
       "\n",
       "    .dataframe tbody tr th {\n",
       "        vertical-align: top;\n",
       "    }\n",
       "\n",
       "    .dataframe thead th {\n",
       "        text-align: right;\n",
       "    }\n",
       "</style>\n",
       "<table border=\"1\" class=\"dataframe\">\n",
       "  <thead>\n",
       "    <tr style=\"text-align: right;\">\n",
       "      <th></th>\n",
       "      <th>Unnamed: 0</th>\n",
       "      <th>C1</th>\n",
       "      <th>C2</th>\n",
       "      <th>C3</th>\n",
       "      <th>C4</th>\n",
       "      <th>C5</th>\n",
       "      <th>date_hour</th>\n",
       "      <th>No. of Visitors</th>\n",
       "      <th>index</th>\n",
       "      <th>cluster</th>\n",
       "      <th>data_a</th>\n",
       "      <th>numero_presenze</th>\n",
       "      <th>layer_id</th>\n",
       "      <th>layer_nome</th>\n",
       "      <th>dettaglio(secondi)</th>\n",
       "      <th>winds</th>\n",
       "      <th>rainfall_mm</th>\n",
       "      <th>snowfall_mm</th>\n",
       "      <th>date</th>\n",
       "      <th>hour</th>\n",
       "    </tr>\n",
       "  </thead>\n",
       "  <tbody>\n",
       "    <tr>\n",
       "      <th>0</th>\n",
       "      <td>0</td>\n",
       "      <td>68,7</td>\n",
       "      <td>NaN</td>\n",
       "      <td>76,0</td>\n",
       "      <td>NaN</td>\n",
       "      <td>66,6</td>\n",
       "      <td>01-01-18 00:00</td>\n",
       "      <td>NaN</td>\n",
       "      <td>NaN</td>\n",
       "      <td>NaN</td>\n",
       "      <td>NaN</td>\n",
       "      <td>NaN</td>\n",
       "      <td>NaN</td>\n",
       "      <td>NaN</td>\n",
       "      <td>NaN</td>\n",
       "      <td>0.366667</td>\n",
       "      <td>-0.010</td>\n",
       "      <td>2.6</td>\n",
       "      <td>2018-01-01</td>\n",
       "      <td>00:00</td>\n",
       "    </tr>\n",
       "    <tr>\n",
       "      <th>1</th>\n",
       "      <td>1</td>\n",
       "      <td>68,3</td>\n",
       "      <td>NaN</td>\n",
       "      <td>68,2</td>\n",
       "      <td>NaN</td>\n",
       "      <td>65,4</td>\n",
       "      <td>01-01-18 01:00</td>\n",
       "      <td>NaN</td>\n",
       "      <td>NaN</td>\n",
       "      <td>NaN</td>\n",
       "      <td>NaN</td>\n",
       "      <td>NaN</td>\n",
       "      <td>NaN</td>\n",
       "      <td>NaN</td>\n",
       "      <td>NaN</td>\n",
       "      <td>0.590000</td>\n",
       "      <td>0.009</td>\n",
       "      <td>2.6</td>\n",
       "      <td>2018-01-01</td>\n",
       "      <td>01:00</td>\n",
       "    </tr>\n",
       "  </tbody>\n",
       "</table>\n",
       "</div>"
      ],
      "text/plain": [
       "   Unnamed: 0    C1   C2    C3  ... rainfall_mm snowfall_mm       date   hour\n",
       "0           0  68,7  NaN  76,0  ...      -0.010         2.6 2018-01-01  00:00\n",
       "1           1  68,3  NaN  68,2  ...       0.009         2.6 2018-01-01  01:00\n",
       "\n",
       "[2 rows x 20 columns]"
      ]
     },
     "execution_count": 62,
     "metadata": {
      "tags": []
     },
     "output_type": "execute_result"
    }
   ],
   "source": [
    "df['date']=df['date_hour'].apply(lambda x: x[:8])\n",
    "df['hour']=df['date_hour'].apply(lambda x:x[9:])\n",
    "df['date']=pd.to_datetime(df['date'])\n",
    "df.head(2)"
   ]
  },
  {
   "cell_type": "code",
   "execution_count": 63,
   "metadata": {
    "colab": {
     "base_uri": "https://localhost:8080/",
     "height": 110
    },
    "id": "OB_qiI6u360z",
    "outputId": "e0f4b7a9-8967-4c10-aff7-e88783ee5026"
   },
   "outputs": [
    {
     "data": {
      "text/html": [
       "<div>\n",
       "<style scoped>\n",
       "    .dataframe tbody tr th:only-of-type {\n",
       "        vertical-align: middle;\n",
       "    }\n",
       "\n",
       "    .dataframe tbody tr th {\n",
       "        vertical-align: top;\n",
       "    }\n",
       "\n",
       "    .dataframe thead th {\n",
       "        text-align: right;\n",
       "    }\n",
       "</style>\n",
       "<table border=\"1\" class=\"dataframe\">\n",
       "  <thead>\n",
       "    <tr style=\"text-align: right;\">\n",
       "      <th></th>\n",
       "      <th>date_hour</th>\n",
       "      <th>No. of Visitors</th>\n",
       "      <th>index</th>\n",
       "      <th>cluster</th>\n",
       "      <th>data_a</th>\n",
       "      <th>numero_presenze</th>\n",
       "      <th>layer_id</th>\n",
       "      <th>layer_nome</th>\n",
       "      <th>dettaglio(secondi)</th>\n",
       "      <th>winds</th>\n",
       "      <th>rainfall_mm</th>\n",
       "      <th>snowfall_mm</th>\n",
       "      <th>date</th>\n",
       "      <th>hour</th>\n",
       "    </tr>\n",
       "  </thead>\n",
       "  <tbody>\n",
       "    <tr>\n",
       "      <th>0</th>\n",
       "      <td>01-01-18 00:00</td>\n",
       "      <td>NaN</td>\n",
       "      <td>NaN</td>\n",
       "      <td>NaN</td>\n",
       "      <td>NaN</td>\n",
       "      <td>NaN</td>\n",
       "      <td>NaN</td>\n",
       "      <td>NaN</td>\n",
       "      <td>NaN</td>\n",
       "      <td>0.366667</td>\n",
       "      <td>-0.010</td>\n",
       "      <td>2.6</td>\n",
       "      <td>2018-01-01</td>\n",
       "      <td>00:00</td>\n",
       "    </tr>\n",
       "    <tr>\n",
       "      <th>1</th>\n",
       "      <td>01-01-18 01:00</td>\n",
       "      <td>NaN</td>\n",
       "      <td>NaN</td>\n",
       "      <td>NaN</td>\n",
       "      <td>NaN</td>\n",
       "      <td>NaN</td>\n",
       "      <td>NaN</td>\n",
       "      <td>NaN</td>\n",
       "      <td>NaN</td>\n",
       "      <td>0.590000</td>\n",
       "      <td>0.009</td>\n",
       "      <td>2.6</td>\n",
       "      <td>2018-01-01</td>\n",
       "      <td>01:00</td>\n",
       "    </tr>\n",
       "  </tbody>\n",
       "</table>\n",
       "</div>"
      ],
      "text/plain": [
       "        date_hour  No. of Visitors  index  ... snowfall_mm       date   hour\n",
       "0  01-01-18 00:00              NaN    NaN  ...         2.6 2018-01-01  00:00\n",
       "1  01-01-18 01:00              NaN    NaN  ...         2.6 2018-01-01  01:00\n",
       "\n",
       "[2 rows x 14 columns]"
      ]
     },
     "execution_count": 63,
     "metadata": {
      "tags": []
     },
     "output_type": "execute_result"
    }
   ],
   "source": [
    "df=df.drop(columns=['C1','C2','C3','C4','C5','Unnamed: 0'])\n",
    "df.head(2)"
   ]
  },
  {
   "cell_type": "code",
   "execution_count": 64,
   "metadata": {
    "colab": {
     "base_uri": "https://localhost:8080/",
     "height": 324
    },
    "id": "QfmEsjXn4Ouy",
    "outputId": "dda5bd4f-e0c1-4243-9217-dab774917930"
   },
   "outputs": [
    {
     "data": {
      "text/html": [
       "<div>\n",
       "<style scoped>\n",
       "    .dataframe tbody tr th:only-of-type {\n",
       "        vertical-align: middle;\n",
       "    }\n",
       "\n",
       "    .dataframe tbody tr th {\n",
       "        vertical-align: top;\n",
       "    }\n",
       "\n",
       "    .dataframe thead th {\n",
       "        text-align: right;\n",
       "    }\n",
       "</style>\n",
       "<table border=\"1\" class=\"dataframe\">\n",
       "  <thead>\n",
       "    <tr style=\"text-align: right;\">\n",
       "      <th></th>\n",
       "      <th>Data</th>\n",
       "      <th>Ora</th>\n",
       "      <th>C1</th>\n",
       "      <th>C2</th>\n",
       "      <th>C3</th>\n",
       "      <th>C4</th>\n",
       "      <th>C5</th>\n",
       "      <th>date_hour</th>\n",
       "      <th>No. of Visitors</th>\n",
       "      <th>index</th>\n",
       "      <th>cluster</th>\n",
       "      <th>data_a</th>\n",
       "      <th>numero_presenze</th>\n",
       "      <th>layer_id</th>\n",
       "      <th>layer_nome</th>\n",
       "      <th>dettaglio(secondi)</th>\n",
       "      <th>winds</th>\n",
       "      <th>rainfall_mm</th>\n",
       "      <th>snowfall_mm</th>\n",
       "      <th>date</th>\n",
       "      <th>hour</th>\n",
       "    </tr>\n",
       "  </thead>\n",
       "  <tbody>\n",
       "    <tr>\n",
       "      <th>0</th>\n",
       "      <td>2018-01-01</td>\n",
       "      <td>00:00</td>\n",
       "      <td>68.7</td>\n",
       "      <td>NaN</td>\n",
       "      <td>76.0</td>\n",
       "      <td>NaN</td>\n",
       "      <td>66.6</td>\n",
       "      <td>01-01-18 00:00</td>\n",
       "      <td>NaN</td>\n",
       "      <td>NaN</td>\n",
       "      <td>NaN</td>\n",
       "      <td>NaN</td>\n",
       "      <td>NaN</td>\n",
       "      <td>NaN</td>\n",
       "      <td>NaN</td>\n",
       "      <td>NaN</td>\n",
       "      <td>0.366667</td>\n",
       "      <td>-0.010</td>\n",
       "      <td>2.600000</td>\n",
       "      <td>2018-01-01</td>\n",
       "      <td>00:00</td>\n",
       "    </tr>\n",
       "    <tr>\n",
       "      <th>1</th>\n",
       "      <td>2018-01-01</td>\n",
       "      <td>01:00</td>\n",
       "      <td>68.3</td>\n",
       "      <td>NaN</td>\n",
       "      <td>68.2</td>\n",
       "      <td>NaN</td>\n",
       "      <td>65.4</td>\n",
       "      <td>01-01-18 01:00</td>\n",
       "      <td>NaN</td>\n",
       "      <td>NaN</td>\n",
       "      <td>NaN</td>\n",
       "      <td>NaN</td>\n",
       "      <td>NaN</td>\n",
       "      <td>NaN</td>\n",
       "      <td>NaN</td>\n",
       "      <td>NaN</td>\n",
       "      <td>0.590000</td>\n",
       "      <td>0.009</td>\n",
       "      <td>2.600000</td>\n",
       "      <td>2018-01-01</td>\n",
       "      <td>01:00</td>\n",
       "    </tr>\n",
       "    <tr>\n",
       "      <th>2</th>\n",
       "      <td>2018-01-01</td>\n",
       "      <td>02:00</td>\n",
       "      <td>59.8</td>\n",
       "      <td>NaN</td>\n",
       "      <td>64.4</td>\n",
       "      <td>NaN</td>\n",
       "      <td>64.4</td>\n",
       "      <td>01-01-18 02:00</td>\n",
       "      <td>NaN</td>\n",
       "      <td>NaN</td>\n",
       "      <td>NaN</td>\n",
       "      <td>NaN</td>\n",
       "      <td>NaN</td>\n",
       "      <td>NaN</td>\n",
       "      <td>NaN</td>\n",
       "      <td>NaN</td>\n",
       "      <td>0.450000</td>\n",
       "      <td>0.008</td>\n",
       "      <td>2.266667</td>\n",
       "      <td>2018-01-01</td>\n",
       "      <td>02:00</td>\n",
       "    </tr>\n",
       "    <tr>\n",
       "      <th>3</th>\n",
       "      <td>2018-01-01</td>\n",
       "      <td>03:00</td>\n",
       "      <td>67.4</td>\n",
       "      <td>NaN</td>\n",
       "      <td>67.5</td>\n",
       "      <td>NaN</td>\n",
       "      <td>61.8</td>\n",
       "      <td>01-01-18 03:00</td>\n",
       "      <td>NaN</td>\n",
       "      <td>NaN</td>\n",
       "      <td>NaN</td>\n",
       "      <td>NaN</td>\n",
       "      <td>NaN</td>\n",
       "      <td>NaN</td>\n",
       "      <td>NaN</td>\n",
       "      <td>NaN</td>\n",
       "      <td>0.400000</td>\n",
       "      <td>0.006</td>\n",
       "      <td>2.266667</td>\n",
       "      <td>2018-01-01</td>\n",
       "      <td>03:00</td>\n",
       "    </tr>\n",
       "    <tr>\n",
       "      <th>4</th>\n",
       "      <td>2018-01-01</td>\n",
       "      <td>04:00</td>\n",
       "      <td>68.0</td>\n",
       "      <td>NaN</td>\n",
       "      <td>64.5</td>\n",
       "      <td>NaN</td>\n",
       "      <td>60.5</td>\n",
       "      <td>01-01-18 04:00</td>\n",
       "      <td>NaN</td>\n",
       "      <td>NaN</td>\n",
       "      <td>NaN</td>\n",
       "      <td>NaN</td>\n",
       "      <td>NaN</td>\n",
       "      <td>NaN</td>\n",
       "      <td>NaN</td>\n",
       "      <td>NaN</td>\n",
       "      <td>0.780000</td>\n",
       "      <td>-0.011</td>\n",
       "      <td>2.300000</td>\n",
       "      <td>2018-01-01</td>\n",
       "      <td>04:00</td>\n",
       "    </tr>\n",
       "  </tbody>\n",
       "</table>\n",
       "</div>"
      ],
      "text/plain": [
       "        Data    Ora    C1  C2  ...  rainfall_mm  snowfall_mm       date   hour\n",
       "0 2018-01-01  00:00  68.7 NaN  ...       -0.010     2.600000 2018-01-01  00:00\n",
       "1 2018-01-01  01:00  68.3 NaN  ...        0.009     2.600000 2018-01-01  01:00\n",
       "2 2018-01-01  02:00  59.8 NaN  ...        0.008     2.266667 2018-01-01  02:00\n",
       "3 2018-01-01  03:00  67.4 NaN  ...        0.006     2.266667 2018-01-01  03:00\n",
       "4 2018-01-01  04:00  68.0 NaN  ...       -0.011     2.300000 2018-01-01  04:00\n",
       "\n",
       "[5 rows x 21 columns]"
      ]
     },
     "execution_count": 64,
     "metadata": {
      "tags": []
     },
     "output_type": "execute_result"
    }
   ],
   "source": [
    "new_df = pd.merge(noise1, df,  how='inner', left_on=['Data','Ora'], right_on = ['date','hour'])\n",
    "new_df.head()"
   ]
  },
  {
   "cell_type": "code",
   "execution_count": 65,
   "metadata": {
    "colab": {
     "base_uri": "https://localhost:8080/"
    },
    "id": "KfpIIDl6cp_K",
    "outputId": "3d0d666c-1642-4e4d-82bb-60eb69a19532"
   },
   "outputs": [
    {
     "data": {
      "text/plain": [
       "Index(['Data', 'Ora', 'C1', 'C2', 'C3', 'C4', 'C5', 'date_hour',\n",
       "       'No. of Visitors', 'index', 'cluster', 'data_a', 'numero_presenze',\n",
       "       'layer_id', 'layer_nome', 'dettaglio(secondi)', 'winds', 'rainfall_mm',\n",
       "       'snowfall_mm', 'date', 'hour'],\n",
       "      dtype='object')"
      ]
     },
     "execution_count": 65,
     "metadata": {
      "tags": []
     },
     "output_type": "execute_result"
    }
   ],
   "source": [
    "new_df.columns"
   ]
  },
  {
   "cell_type": "code",
   "execution_count": 66,
   "metadata": {
    "colab": {
     "base_uri": "https://localhost:8080/",
     "height": 304
    },
    "id": "P13nOg-Z7UNL",
    "outputId": "ba683fc7-579d-48a6-ff76-7f4cf833f3f6"
   },
   "outputs": [
    {
     "data": {
      "text/html": [
       "<div>\n",
       "<style scoped>\n",
       "    .dataframe tbody tr th:only-of-type {\n",
       "        vertical-align: middle;\n",
       "    }\n",
       "\n",
       "    .dataframe tbody tr th {\n",
       "        vertical-align: top;\n",
       "    }\n",
       "\n",
       "    .dataframe thead th {\n",
       "        text-align: right;\n",
       "    }\n",
       "</style>\n",
       "<table border=\"1\" class=\"dataframe\">\n",
       "  <thead>\n",
       "    <tr style=\"text-align: right;\">\n",
       "      <th></th>\n",
       "      <th>C1</th>\n",
       "      <th>C2</th>\n",
       "      <th>C3</th>\n",
       "      <th>C4</th>\n",
       "      <th>C5</th>\n",
       "      <th>date_hour</th>\n",
       "      <th>No. of Visitors</th>\n",
       "      <th>index</th>\n",
       "      <th>cluster</th>\n",
       "      <th>data_a</th>\n",
       "      <th>numero_presenze</th>\n",
       "      <th>layer_id</th>\n",
       "      <th>layer_nome</th>\n",
       "      <th>dettaglio(secondi)</th>\n",
       "      <th>winds</th>\n",
       "      <th>rainfall_mm</th>\n",
       "      <th>snowfall_mm</th>\n",
       "      <th>date</th>\n",
       "      <th>hour</th>\n",
       "    </tr>\n",
       "  </thead>\n",
       "  <tbody>\n",
       "    <tr>\n",
       "      <th>0</th>\n",
       "      <td>68.7</td>\n",
       "      <td>NaN</td>\n",
       "      <td>76.0</td>\n",
       "      <td>NaN</td>\n",
       "      <td>66.6</td>\n",
       "      <td>01-01-18 00:00</td>\n",
       "      <td>NaN</td>\n",
       "      <td>NaN</td>\n",
       "      <td>NaN</td>\n",
       "      <td>NaN</td>\n",
       "      <td>NaN</td>\n",
       "      <td>NaN</td>\n",
       "      <td>NaN</td>\n",
       "      <td>NaN</td>\n",
       "      <td>0.366667</td>\n",
       "      <td>-0.010</td>\n",
       "      <td>2.600000</td>\n",
       "      <td>2018-01-01</td>\n",
       "      <td>00:00</td>\n",
       "    </tr>\n",
       "    <tr>\n",
       "      <th>1</th>\n",
       "      <td>68.3</td>\n",
       "      <td>NaN</td>\n",
       "      <td>68.2</td>\n",
       "      <td>NaN</td>\n",
       "      <td>65.4</td>\n",
       "      <td>01-01-18 01:00</td>\n",
       "      <td>NaN</td>\n",
       "      <td>NaN</td>\n",
       "      <td>NaN</td>\n",
       "      <td>NaN</td>\n",
       "      <td>NaN</td>\n",
       "      <td>NaN</td>\n",
       "      <td>NaN</td>\n",
       "      <td>NaN</td>\n",
       "      <td>0.590000</td>\n",
       "      <td>0.009</td>\n",
       "      <td>2.600000</td>\n",
       "      <td>2018-01-01</td>\n",
       "      <td>01:00</td>\n",
       "    </tr>\n",
       "    <tr>\n",
       "      <th>2</th>\n",
       "      <td>59.8</td>\n",
       "      <td>NaN</td>\n",
       "      <td>64.4</td>\n",
       "      <td>NaN</td>\n",
       "      <td>64.4</td>\n",
       "      <td>01-01-18 02:00</td>\n",
       "      <td>NaN</td>\n",
       "      <td>NaN</td>\n",
       "      <td>NaN</td>\n",
       "      <td>NaN</td>\n",
       "      <td>NaN</td>\n",
       "      <td>NaN</td>\n",
       "      <td>NaN</td>\n",
       "      <td>NaN</td>\n",
       "      <td>0.450000</td>\n",
       "      <td>0.008</td>\n",
       "      <td>2.266667</td>\n",
       "      <td>2018-01-01</td>\n",
       "      <td>02:00</td>\n",
       "    </tr>\n",
       "    <tr>\n",
       "      <th>3</th>\n",
       "      <td>67.4</td>\n",
       "      <td>NaN</td>\n",
       "      <td>67.5</td>\n",
       "      <td>NaN</td>\n",
       "      <td>61.8</td>\n",
       "      <td>01-01-18 03:00</td>\n",
       "      <td>NaN</td>\n",
       "      <td>NaN</td>\n",
       "      <td>NaN</td>\n",
       "      <td>NaN</td>\n",
       "      <td>NaN</td>\n",
       "      <td>NaN</td>\n",
       "      <td>NaN</td>\n",
       "      <td>NaN</td>\n",
       "      <td>0.400000</td>\n",
       "      <td>0.006</td>\n",
       "      <td>2.266667</td>\n",
       "      <td>2018-01-01</td>\n",
       "      <td>03:00</td>\n",
       "    </tr>\n",
       "    <tr>\n",
       "      <th>4</th>\n",
       "      <td>68.0</td>\n",
       "      <td>NaN</td>\n",
       "      <td>64.5</td>\n",
       "      <td>NaN</td>\n",
       "      <td>60.5</td>\n",
       "      <td>01-01-18 04:00</td>\n",
       "      <td>NaN</td>\n",
       "      <td>NaN</td>\n",
       "      <td>NaN</td>\n",
       "      <td>NaN</td>\n",
       "      <td>NaN</td>\n",
       "      <td>NaN</td>\n",
       "      <td>NaN</td>\n",
       "      <td>NaN</td>\n",
       "      <td>0.780000</td>\n",
       "      <td>-0.011</td>\n",
       "      <td>2.300000</td>\n",
       "      <td>2018-01-01</td>\n",
       "      <td>04:00</td>\n",
       "    </tr>\n",
       "  </tbody>\n",
       "</table>\n",
       "</div>"
      ],
      "text/plain": [
       "     C1  C2    C3  C4  ...  rainfall_mm snowfall_mm       date   hour\n",
       "0  68.7 NaN  76.0 NaN  ...       -0.010    2.600000 2018-01-01  00:00\n",
       "1  68.3 NaN  68.2 NaN  ...        0.009    2.600000 2018-01-01  01:00\n",
       "2  59.8 NaN  64.4 NaN  ...        0.008    2.266667 2018-01-01  02:00\n",
       "3  67.4 NaN  67.5 NaN  ...        0.006    2.266667 2018-01-01  03:00\n",
       "4  68.0 NaN  64.5 NaN  ...       -0.011    2.300000 2018-01-01  04:00\n",
       "\n",
       "[5 rows x 19 columns]"
      ]
     },
     "execution_count": 66,
     "metadata": {
      "tags": []
     },
     "output_type": "execute_result"
    }
   ],
   "source": [
    "new_df=new_df.drop(columns=['Data','Ora'])\n",
    "new_df.head()"
   ]
  },
  {
   "cell_type": "code",
   "execution_count": 68,
   "metadata": {
    "id": "urTRs8Zjkj9r"
   },
   "outputs": [],
   "source": [
    "#Fillig the null values considering means on hourly basis\n",
    "new_df[\"C1\"] = new_df.groupby(\"hour\")['C1'].transform(lambda x: x.fillna(round(x.mean(),1)))\n",
    "new_df[\"C2\"] = new_df.groupby(\"hour\")['C2'].transform(lambda x: x.fillna(round(x.mean(),1)))\n",
    "new_df[\"C3\"] = new_df.groupby(\"hour\")['C3'].transform(lambda x: x.fillna(round(x.mean(),1)))\n",
    "new_df[\"C4\"] = new_df.groupby(\"hour\")['C4'].transform(lambda x: x.fillna(round(x.mean(),1)))\n",
    "new_df[\"C5\"] = new_df.groupby(\"hour\")['C5'].transform(lambda x: x.fillna(round(x.mean(),1)))"
   ]
  },
  {
   "cell_type": "code",
   "execution_count": 69,
   "metadata": {
    "colab": {
     "base_uri": "https://localhost:8080/",
     "height": 304
    },
    "id": "5NH0zhfImGld",
    "outputId": "1e3a9284-7db5-485f-ed49-f583b7663dd3"
   },
   "outputs": [
    {
     "data": {
      "text/html": [
       "<div>\n",
       "<style scoped>\n",
       "    .dataframe tbody tr th:only-of-type {\n",
       "        vertical-align: middle;\n",
       "    }\n",
       "\n",
       "    .dataframe tbody tr th {\n",
       "        vertical-align: top;\n",
       "    }\n",
       "\n",
       "    .dataframe thead th {\n",
       "        text-align: right;\n",
       "    }\n",
       "</style>\n",
       "<table border=\"1\" class=\"dataframe\">\n",
       "  <thead>\n",
       "    <tr style=\"text-align: right;\">\n",
       "      <th></th>\n",
       "      <th>C1</th>\n",
       "      <th>C2</th>\n",
       "      <th>C3</th>\n",
       "      <th>C4</th>\n",
       "      <th>C5</th>\n",
       "      <th>date_hour</th>\n",
       "      <th>No. of Visitors</th>\n",
       "      <th>index</th>\n",
       "      <th>cluster</th>\n",
       "      <th>data_a</th>\n",
       "      <th>numero_presenze</th>\n",
       "      <th>layer_id</th>\n",
       "      <th>layer_nome</th>\n",
       "      <th>dettaglio(secondi)</th>\n",
       "      <th>winds</th>\n",
       "      <th>rainfall_mm</th>\n",
       "      <th>snowfall_mm</th>\n",
       "      <th>date</th>\n",
       "      <th>hour</th>\n",
       "    </tr>\n",
       "  </thead>\n",
       "  <tbody>\n",
       "    <tr>\n",
       "      <th>0</th>\n",
       "      <td>68.7</td>\n",
       "      <td>58.8</td>\n",
       "      <td>76.0</td>\n",
       "      <td>61.3</td>\n",
       "      <td>66.6</td>\n",
       "      <td>01-01-18 00:00</td>\n",
       "      <td>NaN</td>\n",
       "      <td>NaN</td>\n",
       "      <td>NaN</td>\n",
       "      <td>NaN</td>\n",
       "      <td>NaN</td>\n",
       "      <td>NaN</td>\n",
       "      <td>NaN</td>\n",
       "      <td>NaN</td>\n",
       "      <td>0.366667</td>\n",
       "      <td>-0.010</td>\n",
       "      <td>2.600000</td>\n",
       "      <td>2018-01-01</td>\n",
       "      <td>00:00</td>\n",
       "    </tr>\n",
       "    <tr>\n",
       "      <th>1</th>\n",
       "      <td>68.3</td>\n",
       "      <td>56.7</td>\n",
       "      <td>68.2</td>\n",
       "      <td>59.6</td>\n",
       "      <td>65.4</td>\n",
       "      <td>01-01-18 01:00</td>\n",
       "      <td>NaN</td>\n",
       "      <td>NaN</td>\n",
       "      <td>NaN</td>\n",
       "      <td>NaN</td>\n",
       "      <td>NaN</td>\n",
       "      <td>NaN</td>\n",
       "      <td>NaN</td>\n",
       "      <td>NaN</td>\n",
       "      <td>0.590000</td>\n",
       "      <td>0.009</td>\n",
       "      <td>2.600000</td>\n",
       "      <td>2018-01-01</td>\n",
       "      <td>01:00</td>\n",
       "    </tr>\n",
       "    <tr>\n",
       "      <th>2</th>\n",
       "      <td>59.8</td>\n",
       "      <td>54.0</td>\n",
       "      <td>64.4</td>\n",
       "      <td>56.9</td>\n",
       "      <td>64.4</td>\n",
       "      <td>01-01-18 02:00</td>\n",
       "      <td>NaN</td>\n",
       "      <td>NaN</td>\n",
       "      <td>NaN</td>\n",
       "      <td>NaN</td>\n",
       "      <td>NaN</td>\n",
       "      <td>NaN</td>\n",
       "      <td>NaN</td>\n",
       "      <td>NaN</td>\n",
       "      <td>0.450000</td>\n",
       "      <td>0.008</td>\n",
       "      <td>2.266667</td>\n",
       "      <td>2018-01-01</td>\n",
       "      <td>02:00</td>\n",
       "    </tr>\n",
       "    <tr>\n",
       "      <th>3</th>\n",
       "      <td>67.4</td>\n",
       "      <td>50.3</td>\n",
       "      <td>67.5</td>\n",
       "      <td>53.0</td>\n",
       "      <td>61.8</td>\n",
       "      <td>01-01-18 03:00</td>\n",
       "      <td>NaN</td>\n",
       "      <td>NaN</td>\n",
       "      <td>NaN</td>\n",
       "      <td>NaN</td>\n",
       "      <td>NaN</td>\n",
       "      <td>NaN</td>\n",
       "      <td>NaN</td>\n",
       "      <td>NaN</td>\n",
       "      <td>0.400000</td>\n",
       "      <td>0.006</td>\n",
       "      <td>2.266667</td>\n",
       "      <td>2018-01-01</td>\n",
       "      <td>03:00</td>\n",
       "    </tr>\n",
       "    <tr>\n",
       "      <th>4</th>\n",
       "      <td>68.0</td>\n",
       "      <td>48.7</td>\n",
       "      <td>64.5</td>\n",
       "      <td>51.1</td>\n",
       "      <td>60.5</td>\n",
       "      <td>01-01-18 04:00</td>\n",
       "      <td>NaN</td>\n",
       "      <td>NaN</td>\n",
       "      <td>NaN</td>\n",
       "      <td>NaN</td>\n",
       "      <td>NaN</td>\n",
       "      <td>NaN</td>\n",
       "      <td>NaN</td>\n",
       "      <td>NaN</td>\n",
       "      <td>0.780000</td>\n",
       "      <td>-0.011</td>\n",
       "      <td>2.300000</td>\n",
       "      <td>2018-01-01</td>\n",
       "      <td>04:00</td>\n",
       "    </tr>\n",
       "  </tbody>\n",
       "</table>\n",
       "</div>"
      ],
      "text/plain": [
       "     C1    C2    C3    C4  ...  rainfall_mm snowfall_mm       date   hour\n",
       "0  68.7  58.8  76.0  61.3  ...       -0.010    2.600000 2018-01-01  00:00\n",
       "1  68.3  56.7  68.2  59.6  ...        0.009    2.600000 2018-01-01  01:00\n",
       "2  59.8  54.0  64.4  56.9  ...        0.008    2.266667 2018-01-01  02:00\n",
       "3  67.4  50.3  67.5  53.0  ...        0.006    2.266667 2018-01-01  03:00\n",
       "4  68.0  48.7  64.5  51.1  ...       -0.011    2.300000 2018-01-01  04:00\n",
       "\n",
       "[5 rows x 19 columns]"
      ]
     },
     "execution_count": 69,
     "metadata": {
      "tags": []
     },
     "output_type": "execute_result"
    }
   ],
   "source": [
    "new_df.head()"
   ]
  },
  {
   "cell_type": "code",
   "execution_count": 70,
   "metadata": {
    "colab": {
     "base_uri": "https://localhost:8080/"
    },
    "id": "0-OnoNf46L6v",
    "outputId": "694b7b89-611c-40c2-9a2c-6ade6c1c956b"
   },
   "outputs": [
    {
     "data": {
      "text/plain": [
       "C1                        0\n",
       "C2                        0\n",
       "C3                        0\n",
       "C4                        0\n",
       "C5                        0\n",
       "date_hour                 0\n",
       "No. of Visitors       15672\n",
       "index                  8257\n",
       "cluster                8257\n",
       "data_a                 8257\n",
       "numero_presenze        8257\n",
       "layer_id               8257\n",
       "layer_nome             8257\n",
       "dettaglio(secondi)     8257\n",
       "winds                 15050\n",
       "rainfall_mm             213\n",
       "snowfall_mm             211\n",
       "date                      0\n",
       "hour                      0\n",
       "dtype: int64"
      ]
     },
     "execution_count": 70,
     "metadata": {
      "tags": []
     },
     "output_type": "execute_result"
    }
   ],
   "source": [
    "new_df.isnull().sum()"
   ]
  },
  {
   "cell_type": "code",
   "execution_count": null,
   "metadata": {
    "id": "dyqqF--a8WZl"
   },
   "outputs": [],
   "source": [
    "#logarithmic average of the values.\n",
    "#Divide each value by 10\n",
    "#Apply anti log\n",
    "#Add all the values\n",
    "#Divide by total number of samples\n",
    "#base 10 log the number and multiply it by 10\n",
    "#df['C1_new']=new_df['C1'].apply(lambda x: 10**(x/10))\n",
    "#df['C2_new']=new_df['C2'].apply(lambda x: 10**(x/10))\n",
    "#df['C3_new']=new_df['C3'].apply(lambda x: 10**(x/10))\n",
    "#df['C4_new']=new_df['C4'].apply(lambda x: 10**(x/10))\n",
    "#df['C5_new']=new_df['C5'].apply(lambda x: 10**(x/10))"
   ]
  },
  {
   "cell_type": "code",
   "execution_count": null,
   "metadata": {
    "id": "TuQ5TBNa-T7r"
   },
   "outputs": [],
   "source": [
    "#x1=df['C1_new'].mean()\n",
    "#x2=df['C2_new'].mean()\n",
    "#x3=df['C3_new'].mean()\n",
    "#x4=df['C4_new'].mean()\n",
    "#x5=df['C5_new'].mean()"
   ]
  },
  {
   "cell_type": "code",
   "execution_count": null,
   "metadata": {
    "id": "m6tYurb1DljX"
   },
   "outputs": [],
   "source": [
    "import math\n",
    "#c1_log_mean=10*math.log10(x1)\n",
    "#c2_log_mean=10*math.log10(x2)\n",
    "#c3_log_mean=10*math.log10(x3)\n",
    "#c4_log_mean=10*math.log10(x4)\n",
    "#c5_log_mean=10*math.log10(x5)"
   ]
  },
  {
   "cell_type": "code",
   "execution_count": null,
   "metadata": {
    "id": "bP-hqtK0GMW7"
   },
   "outputs": [],
   "source": [
    "#new_df['C1'].fillna(round(c1_log_mean,1),inplace=True)\n",
    "#new_df['C2'].fillna(round(c2_log_mean,1),inplace=True)\n",
    "#new_df['C3'].fillna(round(c3_log_mean,1),inplace=True)\n",
    "#new_df['C4'].fillna(round(c4_log_mean,1),inplace=True)\n",
    "#new_df['C5'].fillna(round(c5_log_mean,1),inplace=True)"
   ]
  },
  {
   "cell_type": "code",
   "execution_count": 72,
   "metadata": {
    "id": "hAkpP_rFHGOO"
   },
   "outputs": [],
   "source": [
    "new_df['Log_Avg']=np.log10(((10**(new_df['C1']/10))+(10**(new_df['C2']/10))+(10**(new_df['C3']/10))+(10**(new_df['C4']/10))+(10**(new_df['C5']/10)))/5)*10"
   ]
  },
  {
   "cell_type": "code",
   "execution_count": 73,
   "metadata": {
    "colab": {
     "base_uri": "https://localhost:8080/",
     "height": 181
    },
    "id": "GM-CPca8IrOD",
    "outputId": "e5d1e9b8-e51c-48b7-c8f1-bacd5ef299fd"
   },
   "outputs": [
    {
     "data": {
      "text/html": [
       "<div>\n",
       "<style scoped>\n",
       "    .dataframe tbody tr th:only-of-type {\n",
       "        vertical-align: middle;\n",
       "    }\n",
       "\n",
       "    .dataframe tbody tr th {\n",
       "        vertical-align: top;\n",
       "    }\n",
       "\n",
       "    .dataframe thead th {\n",
       "        text-align: right;\n",
       "    }\n",
       "</style>\n",
       "<table border=\"1\" class=\"dataframe\">\n",
       "  <thead>\n",
       "    <tr style=\"text-align: right;\">\n",
       "      <th></th>\n",
       "      <th>C1</th>\n",
       "      <th>C2</th>\n",
       "      <th>C3</th>\n",
       "      <th>C4</th>\n",
       "      <th>C5</th>\n",
       "      <th>date_hour</th>\n",
       "      <th>No. of Visitors</th>\n",
       "      <th>index</th>\n",
       "      <th>cluster</th>\n",
       "      <th>data_a</th>\n",
       "      <th>numero_presenze</th>\n",
       "      <th>layer_id</th>\n",
       "      <th>layer_nome</th>\n",
       "      <th>dettaglio(secondi)</th>\n",
       "      <th>winds</th>\n",
       "      <th>rainfall_mm</th>\n",
       "      <th>snowfall_mm</th>\n",
       "      <th>date</th>\n",
       "      <th>hour</th>\n",
       "      <th>Log_Avg</th>\n",
       "    </tr>\n",
       "  </thead>\n",
       "  <tbody>\n",
       "    <tr>\n",
       "      <th>0</th>\n",
       "      <td>68.7</td>\n",
       "      <td>58.8</td>\n",
       "      <td>76.0</td>\n",
       "      <td>61.3</td>\n",
       "      <td>66.6</td>\n",
       "      <td>01-01-18 00:00</td>\n",
       "      <td>NaN</td>\n",
       "      <td>NaN</td>\n",
       "      <td>NaN</td>\n",
       "      <td>NaN</td>\n",
       "      <td>NaN</td>\n",
       "      <td>NaN</td>\n",
       "      <td>NaN</td>\n",
       "      <td>NaN</td>\n",
       "      <td>0.366667</td>\n",
       "      <td>-0.010</td>\n",
       "      <td>2.6</td>\n",
       "      <td>2018-01-01</td>\n",
       "      <td>00:00</td>\n",
       "      <td>70.326368</td>\n",
       "    </tr>\n",
       "    <tr>\n",
       "      <th>1</th>\n",
       "      <td>68.3</td>\n",
       "      <td>56.7</td>\n",
       "      <td>68.2</td>\n",
       "      <td>59.6</td>\n",
       "      <td>65.4</td>\n",
       "      <td>01-01-18 01:00</td>\n",
       "      <td>NaN</td>\n",
       "      <td>NaN</td>\n",
       "      <td>NaN</td>\n",
       "      <td>NaN</td>\n",
       "      <td>NaN</td>\n",
       "      <td>NaN</td>\n",
       "      <td>NaN</td>\n",
       "      <td>NaN</td>\n",
       "      <td>0.590000</td>\n",
       "      <td>0.009</td>\n",
       "      <td>2.6</td>\n",
       "      <td>2018-01-01</td>\n",
       "      <td>01:00</td>\n",
       "      <td>65.614563</td>\n",
       "    </tr>\n",
       "  </tbody>\n",
       "</table>\n",
       "</div>"
      ],
      "text/plain": [
       "     C1    C2    C3    C4  ...  snowfall_mm       date   hour    Log_Avg\n",
       "0  68.7  58.8  76.0  61.3  ...          2.6 2018-01-01  00:00  70.326368\n",
       "1  68.3  56.7  68.2  59.6  ...          2.6 2018-01-01  01:00  65.614563\n",
       "\n",
       "[2 rows x 20 columns]"
      ]
     },
     "execution_count": 73,
     "metadata": {
      "tags": []
     },
     "output_type": "execute_result"
    }
   ],
   "source": [
    "new_df.head(2)"
   ]
  },
  {
   "cell_type": "code",
   "execution_count": null,
   "metadata": {
    "id": "wRNSBpySbfO4"
   },
   "outputs": [],
   "source": [
    "new_df.to_csv('Senor_data_converted.csv')"
   ]
  },
  {
   "cell_type": "code",
   "execution_count": 74,
   "metadata": {
    "colab": {
     "base_uri": "https://localhost:8080/",
     "height": 350
    },
    "id": "NR_T5nuSajL5",
    "outputId": "2cf8911c-095a-4f29-b2dd-3bc2fc3444c9"
   },
   "outputs": [
    {
     "data": {
      "image/png": "[encoded data removed]",
      "text/plain": [
       "<Figure size 432x288 with 2 Axes>"
      ]
     },
     "metadata": {
      "needs_background": "light",
      "tags": []
     },
     "output_type": "display_data"
    }
   ],
   "source": [
    "correlation_mat = new_df.corr()\n",
    "sns.heatmap(correlation_mat, annot = True)\n",
    "plt.show()"
   ]
  },
  {
   "cell_type": "code",
   "execution_count": 75,
   "metadata": {
    "colab": {
     "base_uri": "https://localhost:8080/"
    },
    "id": "IWG3qya7a0uC",
    "outputId": "3bdcd97d-ef23-40e8-9a43-895ea08d659d"
   },
   "outputs": [
    {
     "name": "stdout",
     "output_type": "stream",
     "text": [
      "C1       C1                    1.000000\n",
      "         C2                    0.781390\n",
      "         C3                    0.797557\n",
      "         C4                    0.790605\n",
      "         C5                    0.708013\n",
      "                                 ...   \n",
      "Log_Avg  dettaglio(secondi)         NaN\n",
      "         winds                 0.246602\n",
      "         rainfall_mm           0.044708\n",
      "         snowfall_mm           0.106550\n",
      "         Log_Avg               1.000000\n",
      "Length: 169, dtype: float64\n"
     ]
    }
   ],
   "source": [
    "corr_pairs = correlation_mat.unstack()\n",
    "print(corr_pairs)"
   ]
  },
  {
   "cell_type": "code",
   "execution_count": 77,
   "metadata": {
    "colab": {
     "base_uri": "https://localhost:8080/"
    },
    "id": "IQJUt8HLa-sS",
    "outputId": "706b0dc2-0c21-42ed-d4c4-e7e0a6491f86"
   },
   "outputs": [
    {
     "data": {
      "text/plain": [
       "numero_presenze  index             -0.505284\n",
       "index            numero_presenze   -0.505284\n",
       "C3               C5                 0.509629\n",
       "C5               C3                 0.509629\n",
       "C1               No. of Visitors    0.510902\n",
       "No. of Visitors  C1                 0.510902\n",
       "                 Log_Avg            0.527774\n",
       "Log_Avg          No. of Visitors    0.527774\n",
       "C3               No. of Visitors    0.552039\n",
       "No. of Visitors  C3                 0.552039\n",
       "C2               C3                 0.644232\n",
       "C3               C2                 0.644232\n",
       "C4               C3                 0.674359\n",
       "C3               C4                 0.674359\n",
       "snowfall_mm      winds              0.707306\n",
       "winds            snowfall_mm        0.707306\n",
       "C5               C1                 0.708013\n",
       "C1               C5                 0.708013\n",
       "C5               C4                 0.754080\n",
       "C4               C5                 0.754080\n",
       "Log_Avg          C5                 0.766023\n",
       "C5               Log_Avg            0.766023\n",
       "C2               C1                 0.781390\n",
       "C1               C2                 0.781390\n",
       "C4               C1                 0.790605\n",
       "C1               C4                 0.790605\n",
       "                 C3                 0.797557\n",
       "C3               C1                 0.797557\n",
       "C2               C5                 0.826177\n",
       "C5               C2                 0.826177\n",
       "C2               Log_Avg            0.844083\n",
       "Log_Avg          C2                 0.844083\n",
       "                 C4                 0.854190\n",
       "C4               Log_Avg            0.854190\n",
       "C2               C4                 0.876016\n",
       "C4               C2                 0.876016\n",
       "C3               Log_Avg            0.890199\n",
       "Log_Avg          C3                 0.890199\n",
       "C1               Log_Avg            0.925221\n",
       "Log_Avg          C1                 0.925221\n",
       "C1               C1                 1.000000\n",
       "rainfall_mm      rainfall_mm        1.000000\n",
       "winds            winds              1.000000\n",
       "numero_presenze  numero_presenze    1.000000\n",
       "index            index              1.000000\n",
       "No. of Visitors  No. of Visitors    1.000000\n",
       "C5               C5                 1.000000\n",
       "C4               C4                 1.000000\n",
       "C3               C3                 1.000000\n",
       "C2               C2                 1.000000\n",
       "snowfall_mm      snowfall_mm        1.000000\n",
       "Log_Avg          Log_Avg            1.000000\n",
       "dtype: float64"
      ]
     },
     "execution_count": 77,
     "metadata": {
      "tags": []
     },
     "output_type": "execute_result"
    }
   ],
   "source": [
    "sorted_pairs = corr_pairs.sort_values(kind=\"quicksort\")\n",
    "strong_pairs = sorted_pairs[abs(sorted_pairs) > 0.5]\n",
    "strong_pairs"
   ]
  }
 ],
 "metadata": {
  "colab": {
   "collapsed_sections": [],
   "name": "sm_EDA_1.0.ipynb",
   "provenance": []
  },
  "kernelspec": {
   "display_name": "Python 3",
   "language": "python",
   "name": "python3"
  },
  "language_info": {
   "codemirror_mode": {
    "name": "ipython",
    "version": 3
   },
   "file_extension": ".py",
   "mimetype": "text/x-python",
   "name": "python",
   "nbconvert_exporter": "python",
   "pygments_lexer": "ipython3",
   "version": "3.8.6"
  },
  "toc": {
   "base_numbering": 1,
   "nav_menu": {},
   "number_sections": true,
   "sideBar": true,
   "skip_h1_title": false,
   "title_cell": "Table of Contents",
   "title_sidebar": "Contents",
   "toc_cell": false,
   "toc_position": {},
   "toc_section_display": true,
   "toc_window_display": false
  }
 },
 "nbformat": 4,
 "nbformat_minor": 1
}
