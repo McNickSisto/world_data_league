{
 "cells": [
  {
   "cell_type": "markdown",
   "id": "charged-snowboard",
   "metadata": {
    "id": "charged-snowboard"
   },
   "source": [
    "# World Data League 2021\n",
    "## Notebook Template\n",
    "\n",
    "This notebook is one of the mandatory deliverables when you submit your solution (alongside the video pitch). Its structure follows the WDL evaluation criteria and it has dedicated cells where you can add descriptions. Make sure your code is readable as it will be the only technical support the jury will have to evaluate your work.\n",
    "\n",
    "The notebook must:\n",
    "\n",
    "*   💻 have all the code that you want the jury to evaluate\n",
    "*   🧱 follow the predefined structure\n",
    "*   📄 have markdown descriptions where you find necessary\n",
    "*   👀 be saved with all the output that you want the jury to see\n",
    "*   🏃‍♂️ be runnable\n"
   ]
  },
  {
   "cell_type": "markdown",
   "id": "breathing-contamination",
   "metadata": {
    "ExecuteTime": {
     "end_time": "2021-07-03T10:46:52.146959Z",
     "start_time": "2021-07-03T10:46:52.128960Z"
    },
    "id": "breathing-contamination"
   },
   "source": [
    "## Authors\n",
    "- Nicholas Sistovaris\n",
    "- Moritz Geiger\n",
    "- Pravalika Myneni\n",
    "- Sowmya Madela"
   ]
  },
  {
   "cell_type": "markdown",
   "id": "million-florida",
   "metadata": {
    "id": "million-florida"
   },
   "source": [
    "## External links and resources"
   ]
  },
  {
   "cell_type": "markdown",
   "id": "domestic-finland",
   "metadata": {
    "ExecuteTime": {
     "end_time": "2021-07-03T10:56:16.294657Z",
     "start_time": "2021-07-03T10:56:16.286392Z"
    },
    "id": "domestic-finland"
   },
   "source": [
    "All the external data or resources that was not provided by the WDL was acquired through the following links:\n",
    "\n",
    "1. https://noise-planet.org/noisemodelling.html \n",
    "2. https://www.torinocitylab.it/en/asset-to/open-data \n",
    "3. https://www.officeholidays.com/countries/italy/turin/2018 \n",
    "4. https://www.feiertagskalender.ch/index.php?geo=3815&jahr=2018&hl=en\n",
    "5. http://webgis.arpa.piemonte.it/basicviewer_arpa_webapp/index.html?webmap=89aa175451d24ae0a1911e67957d9aec\n",
    "6. http://aperto.comune.torino.it/dataset/zone-statistiche\n",
    "7. https://openweathermap.org/history\n",
    "8. https://developers.google.com/maps/documentation/places/web-service/details \n",
    "9. https://www.cirrusresearch.co.uk/blog/2013/01/noise-data-averaging-how-do-i-average-noise-measurements/"
   ]
  },
  {
   "cell_type": "markdown",
   "id": "british-ecology",
   "metadata": {
    "id": "british-ecology"
   },
   "source": [
    "## Introduction"
   ]
  },
  {
   "cell_type": "markdown",
   "id": "opened-hypothetical",
   "metadata": {
    "id": "opened-hypothetical"
   },
   "source": [
    "**Overview:**\n",
    "\n",
    "\n",
    "_from challenge description_\n",
    "<blockquote>\n",
    "\n",
    "</blockquote>\n",
    "\n"
   ]
  },
  {
   "cell_type": "markdown",
   "id": "sensitive-region",
   "metadata": {
    "id": "sensitive-region"
   },
   "source": [
    "**Research:**\n",
    "\n"
   ]
  },
  {
   "cell_type": "markdown",
   "id": "dated-discovery",
   "metadata": {
    "id": "dated-discovery"
   },
   "source": [
    "## Development\n",
    "Start coding here! 👩‍💻\n",
    "\n",
    "Don't hesitate to create markdown cells to include descriptions of your work where you see fit, as well as commenting your code.\n",
    "\n",
    "We know that you know exactly where to start when it comes to crunching data and building models, but don't forget that WDL is all about social impact...so take that into consideration as well."
   ]
  },
  {
   "cell_type": "markdown",
   "id": "significant-liability",
   "metadata": {
    "id": "significant-liability"
   },
   "source": [
    "### Imports (libraries) 📚"
   ]
  },
  {
   "cell_type": "code",
   "execution_count": 1,
   "id": "creative-marketplace",
   "metadata": {
    "ExecuteTime": {
     "end_time": "2021-07-03T11:17:08.517645Z",
     "start_time": "2021-07-03T11:17:02.250175Z"
    },
    "id": "creative-marketplace"
   },
   "outputs": [],
   "source": [
    "## TABULAR\n",
    "import pandas as pd \n",
    "import numpy as np\n",
    "import matplotlib\n",
    "\n",
    "## GEO\n",
    "import geopandas as gpd\n",
    "import fiona\n",
    "import folium\n",
    "from folium.plugins import MarkerCluster, HeatMap, BeautifyIcon\n",
    "from folium.map import LayerControl, Layer, FeatureGroup\n",
    "from folium.vector_layers import Circle, CircleMarker\n",
    "from shapely.geometry import LineString, Point\n",
    "from shapely import wkt\n",
    "\n",
    "\n",
    "## DATA\n",
    "import os\n",
    "import zipfile\n",
    "from collections import Counter\n",
    "import re\n",
    "from datetime import datetime\n",
    "import requests\n",
    "#from dotenv import load_dotenv, find_dotenv\n",
    "import ast\n",
    "import datetime as dt\n",
    "from io import StringIO, BytesIO\n",
    "\n",
    "\n",
    "## VIS\n",
    "from ipywidgets import interact, interactive, fixed, interact_manual, IntSlider\n",
    "import seaborn as sns\n",
    "import matplotlib.pyplot as plt\n",
    "import statsmodels.tsa\n",
    "import branca\n",
    "import plotly.express as px\n",
    "\n",
    "## TIME SERIES\n",
    "from statsmodels.tsa.seasonal import seasonal_decompose\n",
    "from sklearn.metrics import r2_score, median_absolute_error, mean_absolute_error\n",
    "from sklearn.metrics import median_absolute_error, mean_squared_error, mean_squared_log_error\n",
    "import statsmodels.tsa.api as smt\n",
    "import statsmodels.api as sm\n",
    "from statsmodels.tsa.arima_model import ARIMA\n",
    "from statsmodels.tsa.statespace.sarimax import SARIMAX\n",
    "from pmdarima.arima import auto_arima \n",
    "\n",
    "\n",
    "## MODELLING\n",
    "from sklearn.preprocessing import MinMaxScaler, PolynomialFeatures\n",
    "from sklearn.metrics import r2_score\n",
    "from sklearn.linear_model import LinearRegression, Ridge, Lasso \n",
    "from sklearn.tree import DecisionTreeRegressor\n",
    "from sklearn.ensemble import RandomForestRegressor as rfr\n",
    "\n",
    "## NEURAL NETWORKS\n",
    "from tensorflow import keras\n",
    "from tensorflow.keras import layers\n",
    "from keras.models import Sequential\n",
    "from keras.layers import Dense\n",
    "from keras.layers import LSTM\n",
    "from keras.layers import Dropout"
   ]
  },
  {
   "cell_type": "markdown",
   "id": "third-cylinder",
   "metadata": {
    "id": "third-cylinder"
   },
   "source": [
    "### Importing Dataframes"
   ]
  },
  {
   "cell_type": "markdown",
   "id": "difficult-wedding",
   "metadata": {
    "id": "difficult-wedding"
   },
   "source": [
    "Following a first glance at the dataframes provided by the WDL, we believed that using data from **2018** was our best bet to construct our model on. \n",
    "\n",
    "- First, we wanted to focus on understanding noise and complaints in the pre-covid context. The years 2020 and 2021 would have been unrepresentative of Turin's nightlife.\n",
    "\n",
    "- Secondly, we wanted a feature that would represent the number of people outsides on an hourly basis. The data on No. of Visitors based on WiFi was most complete and representative of the population outside. However, it only had data for October, November & December 2018. This is why we picked 2018 for the rest of our data."
   ]
  },
  {
   "cell_type": "code",
   "execution_count": 2,
   "id": "valuable-theorem",
   "metadata": {
    "colab": {
     "base_uri": "https://localhost:8080/",
     "height": 204
    },
    "id": "valuable-theorem",
    "outputId": "1ffa8c5a-0a95-4bff-95e5-d99ba102a31b"
   },
   "outputs": [
    {
     "data": {
      "text/html": [
       "<div>\n",
       "<style scoped>\n",
       "    .dataframe tbody tr th:only-of-type {\n",
       "        vertical-align: middle;\n",
       "    }\n",
       "\n",
       "    .dataframe tbody tr th {\n",
       "        vertical-align: top;\n",
       "    }\n",
       "\n",
       "    .dataframe thead th {\n",
       "        text-align: right;\n",
       "    }\n",
       "</style>\n",
       "<table border=\"1\" class=\"dataframe\">\n",
       "  <thead>\n",
       "    <tr style=\"text-align: right;\">\n",
       "      <th></th>\n",
       "      <th>code</th>\n",
       "      <th>address</th>\n",
       "      <th>Lat</th>\n",
       "      <th>Long</th>\n",
       "      <th>streaming</th>\n",
       "    </tr>\n",
       "  </thead>\n",
       "  <tbody>\n",
       "    <tr>\n",
       "      <th>0</th>\n",
       "      <td>s_01</td>\n",
       "      <td>Via Saluzzo, 26 Torino</td>\n",
       "      <td>45,059172</td>\n",
       "      <td>7,678986</td>\n",
       "      <td>https://userportal.smartdatanet.it/userportal/...</td>\n",
       "    </tr>\n",
       "    <tr>\n",
       "      <th>1</th>\n",
       "      <td>s_02</td>\n",
       "      <td>Via Principe Tommaso, 18bis Torino</td>\n",
       "      <td>45,057837</td>\n",
       "      <td>7,681555</td>\n",
       "      <td>https://userportal.smartdatanet.it/userportal/...</td>\n",
       "    </tr>\n",
       "    <tr>\n",
       "      <th>2</th>\n",
       "      <td>s_03</td>\n",
       "      <td>Largo Saluzzo Torino</td>\n",
       "      <td>45,058518</td>\n",
       "      <td>7,678854</td>\n",
       "      <td>https://userportal.smartdatanet.it/userportal/...</td>\n",
       "    </tr>\n",
       "    <tr>\n",
       "      <th>3</th>\n",
       "      <td>s_05</td>\n",
       "      <td>Via Principe Tommaso angolo via Baretti Torino</td>\n",
       "      <td>45,057603</td>\n",
       "      <td>7,681348</td>\n",
       "      <td>https://userportal.smartdatanet.it/userportal/...</td>\n",
       "    </tr>\n",
       "    <tr>\n",
       "      <th>4</th>\n",
       "      <td>s_06</td>\n",
       "      <td>Corso Marconi, 27 Torino</td>\n",
       "      <td>45,055554</td>\n",
       "      <td>7,68259</td>\n",
       "      <td>https://userportal.smartdatanet.it/userportal/...</td>\n",
       "    </tr>\n",
       "  </tbody>\n",
       "</table>\n",
       "</div>"
      ],
      "text/plain": [
       "   code                                         address        Lat      Long  \\\n",
       "0  s_01                          Via Saluzzo, 26 Torino  45,059172  7,678986   \n",
       "1  s_02              Via Principe Tommaso, 18bis Torino  45,057837  7,681555   \n",
       "2  s_03                            Largo Saluzzo Torino  45,058518  7,678854   \n",
       "3  s_05  Via Principe Tommaso angolo via Baretti Torino  45,057603  7,681348   \n",
       "4  s_06                        Corso Marconi, 27 Torino  45,055554   7,68259   \n",
       "\n",
       "                                           streaming  \n",
       "0  https://userportal.smartdatanet.it/userportal/...  \n",
       "1  https://userportal.smartdatanet.it/userportal/...  \n",
       "2  https://userportal.smartdatanet.it/userportal/...  \n",
       "3  https://userportal.smartdatanet.it/userportal/...  \n",
       "4  https://userportal.smartdatanet.it/userportal/...  "
      ]
     },
     "execution_count": 2,
     "metadata": {},
     "output_type": "execute_result"
    }
   ],
   "source": [
    "# location of the sensors\n",
    "df_sensors_def = pd.read_csv('https://raw.githubusercontent.com/McNickSisto/world_data_league/main/stage_final/data/noise_sensor_list.csv', sep=';')\n",
    "df_sensors_def"
   ]
  },
  {
   "cell_type": "markdown",
   "id": "unable-pavilion",
   "metadata": {
    "id": "unable-pavilion"
   },
   "source": [
    "**Note** The location of sensors was optimized to cover all\n",
    "significant feature of “Movida” area:\n",
    "one in a very crowded square (S_03, not active in\n",
    "daytime), three in narrow streets with pubs and\n",
    "bars (S_01, S_04, S_05), one in a boulevard for\n",
    "traffic noise measurement (S_06) and the last one\n",
    "in a quieter area with no crowd and low traffic\n",
    "(S_02), for global reference. The choice of points\n",
    "of installation was driven also by the power\n",
    "supply, so light poles, public offices and bike\n",
    "sharing station where preferred.\n",
    "\n",
    "Source: https://wdl-data.fra1.digitaloceanspaces.com/torino/120_Euronoise2018.pdf"
   ]
  },
  {
   "cell_type": "code",
   "execution_count": 3,
   "id": "optional-caribbean",
   "metadata": {
    "colab": {
     "base_uri": "https://localhost:8080/",
     "height": 204
    },
    "id": "optional-caribbean",
    "outputId": "ac5b7617-c435-43e0-83b3-0d33bc989da2",
    "scrolled": false
   },
   "outputs": [
    {
     "data": {
      "text/html": [
       "<div>\n",
       "<style scoped>\n",
       "    .dataframe tbody tr th:only-of-type {\n",
       "        vertical-align: middle;\n",
       "    }\n",
       "\n",
       "    .dataframe tbody tr th {\n",
       "        vertical-align: top;\n",
       "    }\n",
       "\n",
       "    .dataframe thead th {\n",
       "        text-align: right;\n",
       "    }\n",
       "</style>\n",
       "<table border=\"1\" class=\"dataframe\">\n",
       "  <thead>\n",
       "    <tr style=\"text-align: right;\">\n",
       "      <th></th>\n",
       "      <th>Time</th>\n",
       "      <th>No. of Visitors</th>\n",
       "    </tr>\n",
       "  </thead>\n",
       "  <tbody>\n",
       "    <tr>\n",
       "      <th>0</th>\n",
       "      <td>2018-10-24 17:00</td>\n",
       "      <td>47</td>\n",
       "    </tr>\n",
       "    <tr>\n",
       "      <th>1</th>\n",
       "      <td>2018-10-24 18:00</td>\n",
       "      <td>155</td>\n",
       "    </tr>\n",
       "    <tr>\n",
       "      <th>2</th>\n",
       "      <td>2018-10-24 19:00</td>\n",
       "      <td>181</td>\n",
       "    </tr>\n",
       "    <tr>\n",
       "      <th>3</th>\n",
       "      <td>2018-10-24 20:00</td>\n",
       "      <td>211</td>\n",
       "    </tr>\n",
       "    <tr>\n",
       "      <th>4</th>\n",
       "      <td>2018-10-24 21:00</td>\n",
       "      <td>239</td>\n",
       "    </tr>\n",
       "  </tbody>\n",
       "</table>\n",
       "</div>"
      ],
      "text/plain": [
       "               Time  No. of Visitors\n",
       "0  2018-10-24 17:00               47\n",
       "1  2018-10-24 18:00              155\n",
       "2  2018-10-24 19:00              181\n",
       "3  2018-10-24 20:00              211\n",
       "4  2018-10-24 21:00              239"
      ]
     },
     "execution_count": 3,
     "metadata": {},
     "output_type": "execute_result"
    }
   ],
   "source": [
    "df_wifi = pd.read_csv('https://raw.githubusercontent.com/McNickSisto/world_data_league/main/stage_final/data/WIFI%20Count.csv', sep=',')\n",
    "df_wifi.head()"
   ]
  },
  {
   "cell_type": "markdown",
   "id": "composite-entertainment",
   "metadata": {
    "id": "composite-entertainment"
   },
   "source": [
    "**Note** As you can see, from the data above, we can get an idea of the number of people outside at different hours."
   ]
  },
  {
   "cell_type": "code",
   "execution_count": 4,
   "id": "beneficial-ground",
   "metadata": {
    "colab": {
     "base_uri": "https://localhost:8080/",
     "height": 204
    },
    "id": "beneficial-ground",
    "outputId": "a7a29682-065c-4f38-97c2-4e7ce9ac8fa1",
    "scrolled": false
   },
   "outputs": [
    {
     "data": {
      "text/html": [
       "<div>\n",
       "<style scoped>\n",
       "    .dataframe tbody tr th:only-of-type {\n",
       "        vertical-align: middle;\n",
       "    }\n",
       "\n",
       "    .dataframe tbody tr th {\n",
       "        vertical-align: top;\n",
       "    }\n",
       "\n",
       "    .dataframe thead th {\n",
       "        text-align: right;\n",
       "    }\n",
       "</style>\n",
       "<table border=\"1\" class=\"dataframe\">\n",
       "  <thead>\n",
       "    <tr style=\"text-align: right;\">\n",
       "      <th></th>\n",
       "      <th>WKT</th>\n",
       "      <th>ADDRESS</th>\n",
       "      <th>OPEN YEAR</th>\n",
       "      <th>OPEN MONTH</th>\n",
       "      <th>TYPE</th>\n",
       "      <th>Description</th>\n",
       "      <th>Merchandise Type</th>\n",
       "    </tr>\n",
       "  </thead>\n",
       "  <tbody>\n",
       "    <tr>\n",
       "      <th>0</th>\n",
       "      <td>POINT (1396322.217 4990301.69)</td>\n",
       "      <td>VIA CLAUDIO LUIGI BERTHOLLET 24</td>\n",
       "      <td>1977</td>\n",
       "      <td>1</td>\n",
       "      <td>EXTRALIMENTARI</td>\n",
       "      <td>PICCOLE STRUTTURE</td>\n",
       "      <td>Extralimentari</td>\n",
       "    </tr>\n",
       "    <tr>\n",
       "      <th>1</th>\n",
       "      <td>POINT (1396322.217 4990301.69)</td>\n",
       "      <td>VIA CLAUDIO LUIGI BERTHOLLET 24</td>\n",
       "      <td>1985</td>\n",
       "      <td>6</td>\n",
       "      <td>ALIMENTARI</td>\n",
       "      <td>PICCOLE STRUTTURE</td>\n",
       "      <td>Panificio</td>\n",
       "    </tr>\n",
       "    <tr>\n",
       "      <th>2</th>\n",
       "      <td>POINT (1396303.762 4990325.001)</td>\n",
       "      <td>VIA CLAUDIO LUIGI BERTHOLLET 25/F</td>\n",
       "      <td>2017</td>\n",
       "      <td>9</td>\n",
       "      <td>ALTRO</td>\n",
       "      <td>DIA di somministrazione</td>\n",
       "      <td>Nessuna</td>\n",
       "    </tr>\n",
       "    <tr>\n",
       "      <th>3</th>\n",
       "      <td>POINT (1396434.395 4990540.6)</td>\n",
       "      <td>CORSO VITTORIO EMANUELE II 21/A</td>\n",
       "      <td>2013</td>\n",
       "      <td>10</td>\n",
       "      <td>ALTRO</td>\n",
       "      <td>DIA di somministrazione</td>\n",
       "      <td>Nessuna</td>\n",
       "    </tr>\n",
       "    <tr>\n",
       "      <th>4</th>\n",
       "      <td>POINT (1396434.395 4990540.6)</td>\n",
       "      <td>CORSO VITTORIO EMANUELE II 21/A</td>\n",
       "      <td>2009</td>\n",
       "      <td>2</td>\n",
       "      <td>ALTRO</td>\n",
       "      <td>DIA di somministrazione</td>\n",
       "      <td>Nessuna</td>\n",
       "    </tr>\n",
       "  </tbody>\n",
       "</table>\n",
       "</div>"
      ],
      "text/plain": [
       "                               WKT                            ADDRESS  \\\n",
       "0   POINT (1396322.217 4990301.69)    VIA CLAUDIO LUIGI BERTHOLLET 24   \n",
       "1   POINT (1396322.217 4990301.69)    VIA CLAUDIO LUIGI BERTHOLLET 24   \n",
       "2  POINT (1396303.762 4990325.001)  VIA CLAUDIO LUIGI BERTHOLLET 25/F   \n",
       "3    POINT (1396434.395 4990540.6)    CORSO VITTORIO EMANUELE II 21/A   \n",
       "4    POINT (1396434.395 4990540.6)    CORSO VITTORIO EMANUELE II 21/A   \n",
       "\n",
       "   OPEN YEAR  OPEN MONTH            TYPE              Description  \\\n",
       "0       1977           1  EXTRALIMENTARI        PICCOLE STRUTTURE   \n",
       "1       1985           6      ALIMENTARI        PICCOLE STRUTTURE   \n",
       "2       2017           9           ALTRO  DIA di somministrazione   \n",
       "3       2013          10           ALTRO  DIA di somministrazione   \n",
       "4       2009           2           ALTRO  DIA di somministrazione   \n",
       "\n",
       "  Merchandise Type  \n",
       "0   Extralimentari  \n",
       "1        Panificio  \n",
       "2          Nessuna  \n",
       "3          Nessuna  \n",
       "4          Nessuna  "
      ]
     },
     "execution_count": 4,
     "metadata": {},
     "output_type": "execute_result"
    }
   ],
   "source": [
    "df_businesses = pd.read_csv('https://raw.githubusercontent.com/McNickSisto/world_data_league/main/stage_final/data/businesses.csv', sep=';')\n",
    "df_businesses.head()"
   ]
  },
  {
   "cell_type": "markdown",
   "id": "specialized-flashing",
   "metadata": {
    "id": "specialized-flashing"
   },
   "source": [
    "**Note** Location & Description of various businesses "
   ]
  },
  {
   "cell_type": "code",
   "execution_count": 5,
   "id": "tamil-interaction",
   "metadata": {
    "colab": {
     "base_uri": "https://localhost:8080/",
     "height": 204
    },
    "id": "tamil-interaction",
    "outputId": "617317ec-7f13-48f3-dd6d-b62961c07fd5",
    "scrolled": true
   },
   "outputs": [
    {
     "data": {
      "text/html": [
       "<div>\n",
       "<style scoped>\n",
       "    .dataframe tbody tr th:only-of-type {\n",
       "        vertical-align: middle;\n",
       "    }\n",
       "\n",
       "    .dataframe tbody tr th {\n",
       "        vertical-align: top;\n",
       "    }\n",
       "\n",
       "    .dataframe thead th {\n",
       "        text-align: right;\n",
       "    }\n",
       "</style>\n",
       "<table border=\"1\" class=\"dataframe\">\n",
       "  <thead>\n",
       "    <tr style=\"text-align: right;\">\n",
       "      <th></th>\n",
       "      <th>cluster</th>\n",
       "      <th>data_da</th>\n",
       "      <th>data_a</th>\n",
       "      <th>numero_presenze</th>\n",
       "      <th>layer_id</th>\n",
       "      <th>layer_nome</th>\n",
       "      <th>dettaglio(secondi)</th>\n",
       "    </tr>\n",
       "  </thead>\n",
       "  <tbody>\n",
       "    <tr>\n",
       "      <th>0</th>\n",
       "      <td>Presenze</td>\n",
       "      <td>2018-06-10T21:00:00Z</td>\n",
       "      <td>2018-06-10T22:00:00Z</td>\n",
       "      <td>3278</td>\n",
       "      <td>5491d6d2-0c9e-47b7-bfde-c84c632efacc</td>\n",
       "      <td>Area 1</td>\n",
       "      <td>3600</td>\n",
       "    </tr>\n",
       "    <tr>\n",
       "      <th>1</th>\n",
       "      <td>Presenze</td>\n",
       "      <td>2018-06-10T20:00:00Z</td>\n",
       "      <td>2018-06-10T21:00:00Z</td>\n",
       "      <td>3324</td>\n",
       "      <td>5491d6d2-0c9e-47b7-bfde-c84c632efacc</td>\n",
       "      <td>Area 1</td>\n",
       "      <td>3600</td>\n",
       "    </tr>\n",
       "    <tr>\n",
       "      <th>2</th>\n",
       "      <td>Presenze</td>\n",
       "      <td>2018-06-10T19:00:00Z</td>\n",
       "      <td>2018-06-10T20:00:00Z</td>\n",
       "      <td>3318</td>\n",
       "      <td>5491d6d2-0c9e-47b7-bfde-c84c632efacc</td>\n",
       "      <td>Area 1</td>\n",
       "      <td>3600</td>\n",
       "    </tr>\n",
       "    <tr>\n",
       "      <th>3</th>\n",
       "      <td>Presenze</td>\n",
       "      <td>2018-06-10T18:00:00Z</td>\n",
       "      <td>2018-06-10T19:00:00Z</td>\n",
       "      <td>3187</td>\n",
       "      <td>5491d6d2-0c9e-47b7-bfde-c84c632efacc</td>\n",
       "      <td>Area 1</td>\n",
       "      <td>3600</td>\n",
       "    </tr>\n",
       "    <tr>\n",
       "      <th>4</th>\n",
       "      <td>Presenze</td>\n",
       "      <td>2018-06-10T17:00:00Z</td>\n",
       "      <td>2018-06-10T18:00:00Z</td>\n",
       "      <td>2980</td>\n",
       "      <td>5491d6d2-0c9e-47b7-bfde-c84c632efacc</td>\n",
       "      <td>Area 1</td>\n",
       "      <td>3600</td>\n",
       "    </tr>\n",
       "  </tbody>\n",
       "</table>\n",
       "</div>"
      ],
      "text/plain": [
       "    cluster               data_da                data_a  numero_presenze  \\\n",
       "0  Presenze  2018-06-10T21:00:00Z  2018-06-10T22:00:00Z             3278   \n",
       "1  Presenze  2018-06-10T20:00:00Z  2018-06-10T21:00:00Z             3324   \n",
       "2  Presenze  2018-06-10T19:00:00Z  2018-06-10T20:00:00Z             3318   \n",
       "3  Presenze  2018-06-10T18:00:00Z  2018-06-10T19:00:00Z             3187   \n",
       "4  Presenze  2018-06-10T17:00:00Z  2018-06-10T18:00:00Z             2980   \n",
       "\n",
       "                               layer_id layer_nome  dettaglio(secondi)  \n",
       "0  5491d6d2-0c9e-47b7-bfde-c84c632efacc     Area 1                3600  \n",
       "1  5491d6d2-0c9e-47b7-bfde-c84c632efacc     Area 1                3600  \n",
       "2  5491d6d2-0c9e-47b7-bfde-c84c632efacc     Area 1                3600  \n",
       "3  5491d6d2-0c9e-47b7-bfde-c84c632efacc     Area 1                3600  \n",
       "4  5491d6d2-0c9e-47b7-bfde-c84c632efacc     Area 1                3600  "
      ]
     },
     "execution_count": 5,
     "metadata": {},
     "output_type": "execute_result"
    }
   ],
   "source": [
    "df_sim_june = pd.read_csv('https://raw.githubusercontent.com/McNickSisto/world_data_league/main/stage_final/data/sim_count/SIM_count_04_100618.csv', sep=';', encoding='latin-1')\n",
    "df_sim_june.head()"
   ]
  },
  {
   "cell_type": "code",
   "execution_count": 6,
   "id": "handy-serum",
   "metadata": {
    "colab": {
     "base_uri": "https://localhost:8080/",
     "height": 204
    },
    "id": "handy-serum",
    "outputId": "bfbbf16d-a4a8-4c71-b0d0-68ade254119a",
    "scrolled": true
   },
   "outputs": [
    {
     "data": {
      "text/html": [
       "<div>\n",
       "<style scoped>\n",
       "    .dataframe tbody tr th:only-of-type {\n",
       "        vertical-align: middle;\n",
       "    }\n",
       "\n",
       "    .dataframe tbody tr th {\n",
       "        vertical-align: top;\n",
       "    }\n",
       "\n",
       "    .dataframe thead th {\n",
       "        text-align: right;\n",
       "    }\n",
       "</style>\n",
       "<table border=\"1\" class=\"dataframe\">\n",
       "  <thead>\n",
       "    <tr style=\"text-align: right;\">\n",
       "      <th></th>\n",
       "      <th>cluster</th>\n",
       "      <th>data_da</th>\n",
       "      <th>data_a</th>\n",
       "      <th>numero_presenze</th>\n",
       "      <th>layer_id</th>\n",
       "      <th>layer_nome</th>\n",
       "      <th>dettaglio(secondi)</th>\n",
       "    </tr>\n",
       "  </thead>\n",
       "  <tbody>\n",
       "    <tr>\n",
       "      <th>0</th>\n",
       "      <td>Presenze</td>\n",
       "      <td>2018-01-21T22:00:00Z</td>\n",
       "      <td>2018-01-21T23:00:00Z</td>\n",
       "      <td>3026</td>\n",
       "      <td>5491d6d2-0c9e-47b7-bfde-c84c632efacc</td>\n",
       "      <td>Area 1</td>\n",
       "      <td>3600</td>\n",
       "    </tr>\n",
       "    <tr>\n",
       "      <th>1</th>\n",
       "      <td>Presenze</td>\n",
       "      <td>2018-01-21T21:00:00Z</td>\n",
       "      <td>2018-01-21T22:00:00Z</td>\n",
       "      <td>3088</td>\n",
       "      <td>5491d6d2-0c9e-47b7-bfde-c84c632efacc</td>\n",
       "      <td>Area 1</td>\n",
       "      <td>3600</td>\n",
       "    </tr>\n",
       "    <tr>\n",
       "      <th>2</th>\n",
       "      <td>Presenze</td>\n",
       "      <td>2018-01-21T20:00:00Z</td>\n",
       "      <td>2018-01-21T21:00:00Z</td>\n",
       "      <td>3119</td>\n",
       "      <td>5491d6d2-0c9e-47b7-bfde-c84c632efacc</td>\n",
       "      <td>Area 1</td>\n",
       "      <td>3600</td>\n",
       "    </tr>\n",
       "    <tr>\n",
       "      <th>3</th>\n",
       "      <td>Presenze</td>\n",
       "      <td>2018-01-21T19:00:00Z</td>\n",
       "      <td>2018-01-21T20:00:00Z</td>\n",
       "      <td>3114</td>\n",
       "      <td>5491d6d2-0c9e-47b7-bfde-c84c632efacc</td>\n",
       "      <td>Area 1</td>\n",
       "      <td>3600</td>\n",
       "    </tr>\n",
       "    <tr>\n",
       "      <th>4</th>\n",
       "      <td>Presenze</td>\n",
       "      <td>2018-01-21T18:00:00Z</td>\n",
       "      <td>2018-01-21T19:00:00Z</td>\n",
       "      <td>2991</td>\n",
       "      <td>5491d6d2-0c9e-47b7-bfde-c84c632efacc</td>\n",
       "      <td>Area 1</td>\n",
       "      <td>3600</td>\n",
       "    </tr>\n",
       "  </tbody>\n",
       "</table>\n",
       "</div>"
      ],
      "text/plain": [
       "    cluster               data_da                data_a  numero_presenze  \\\n",
       "0  Presenze  2018-01-21T22:00:00Z  2018-01-21T23:00:00Z             3026   \n",
       "1  Presenze  2018-01-21T21:00:00Z  2018-01-21T22:00:00Z             3088   \n",
       "2  Presenze  2018-01-21T20:00:00Z  2018-01-21T21:00:00Z             3119   \n",
       "3  Presenze  2018-01-21T19:00:00Z  2018-01-21T20:00:00Z             3114   \n",
       "4  Presenze  2018-01-21T18:00:00Z  2018-01-21T19:00:00Z             2991   \n",
       "\n",
       "                               layer_id layer_nome  dettaglio(secondi)  \n",
       "0  5491d6d2-0c9e-47b7-bfde-c84c632efacc     Area 1                3600  \n",
       "1  5491d6d2-0c9e-47b7-bfde-c84c632efacc     Area 1                3600  \n",
       "2  5491d6d2-0c9e-47b7-bfde-c84c632efacc     Area 1                3600  \n",
       "3  5491d6d2-0c9e-47b7-bfde-c84c632efacc     Area 1                3600  \n",
       "4  5491d6d2-0c9e-47b7-bfde-c84c632efacc     Area 1                3600  "
      ]
     },
     "execution_count": 6,
     "metadata": {},
     "output_type": "execute_result"
    }
   ],
   "source": [
    "df_sim_jan = pd.read_csv('https://raw.githubusercontent.com/McNickSisto/world_data_league/main/stage_final/data/sim_count/SIM_count_15_210118.csv', sep=';', encoding='latin-1')\n",
    "df_sim_jan.head()"
   ]
  },
  {
   "cell_type": "code",
   "execution_count": 7,
   "id": "national-dominant",
   "metadata": {
    "colab": {
     "base_uri": "https://localhost:8080/",
     "height": 204
    },
    "id": "national-dominant",
    "outputId": "8e71582e-36b9-4695-e252-b6ecbfefdf97",
    "scrolled": true
   },
   "outputs": [
    {
     "data": {
      "text/html": [
       "<div>\n",
       "<style scoped>\n",
       "    .dataframe tbody tr th:only-of-type {\n",
       "        vertical-align: middle;\n",
       "    }\n",
       "\n",
       "    .dataframe tbody tr th {\n",
       "        vertical-align: top;\n",
       "    }\n",
       "\n",
       "    .dataframe thead th {\n",
       "        text-align: right;\n",
       "    }\n",
       "</style>\n",
       "<table border=\"1\" class=\"dataframe\">\n",
       "  <thead>\n",
       "    <tr style=\"text-align: right;\">\n",
       "      <th></th>\n",
       "      <th>cluster</th>\n",
       "      <th>data_da</th>\n",
       "      <th>data_a</th>\n",
       "      <th>numero_presenze</th>\n",
       "      <th>layer_id</th>\n",
       "      <th>layer_nome</th>\n",
       "      <th>dettaglio(secondi)</th>\n",
       "    </tr>\n",
       "  </thead>\n",
       "  <tbody>\n",
       "    <tr>\n",
       "      <th>0</th>\n",
       "      <td>Presenze</td>\n",
       "      <td>2018-03-25T21:00:00Z</td>\n",
       "      <td>2018-03-25T22:00:00Z</td>\n",
       "      <td>3267</td>\n",
       "      <td>5491d6d2-0c9e-47b7-bfde-c84c632efacc</td>\n",
       "      <td>Area 1</td>\n",
       "      <td>3600</td>\n",
       "    </tr>\n",
       "    <tr>\n",
       "      <th>1</th>\n",
       "      <td>Presenze</td>\n",
       "      <td>2018-03-25T20:00:00Z</td>\n",
       "      <td>2018-03-25T21:00:00Z</td>\n",
       "      <td>3373</td>\n",
       "      <td>5491d6d2-0c9e-47b7-bfde-c84c632efacc</td>\n",
       "      <td>Area 1</td>\n",
       "      <td>3600</td>\n",
       "    </tr>\n",
       "    <tr>\n",
       "      <th>2</th>\n",
       "      <td>Presenze</td>\n",
       "      <td>2018-03-25T19:00:00Z</td>\n",
       "      <td>2018-03-25T20:00:00Z</td>\n",
       "      <td>3410</td>\n",
       "      <td>5491d6d2-0c9e-47b7-bfde-c84c632efacc</td>\n",
       "      <td>Area 1</td>\n",
       "      <td>3600</td>\n",
       "    </tr>\n",
       "    <tr>\n",
       "      <th>3</th>\n",
       "      <td>Presenze</td>\n",
       "      <td>2018-03-25T18:00:00Z</td>\n",
       "      <td>2018-03-25T19:00:00Z</td>\n",
       "      <td>3358</td>\n",
       "      <td>5491d6d2-0c9e-47b7-bfde-c84c632efacc</td>\n",
       "      <td>Area 1</td>\n",
       "      <td>3600</td>\n",
       "    </tr>\n",
       "    <tr>\n",
       "      <th>4</th>\n",
       "      <td>Presenze</td>\n",
       "      <td>2018-03-25T17:00:00Z</td>\n",
       "      <td>2018-03-25T18:00:00Z</td>\n",
       "      <td>3229</td>\n",
       "      <td>5491d6d2-0c9e-47b7-bfde-c84c632efacc</td>\n",
       "      <td>Area 1</td>\n",
       "      <td>3600</td>\n",
       "    </tr>\n",
       "  </tbody>\n",
       "</table>\n",
       "</div>"
      ],
      "text/plain": [
       "    cluster               data_da                data_a  numero_presenze  \\\n",
       "0  Presenze  2018-03-25T21:00:00Z  2018-03-25T22:00:00Z             3267   \n",
       "1  Presenze  2018-03-25T20:00:00Z  2018-03-25T21:00:00Z             3373   \n",
       "2  Presenze  2018-03-25T19:00:00Z  2018-03-25T20:00:00Z             3410   \n",
       "3  Presenze  2018-03-25T18:00:00Z  2018-03-25T19:00:00Z             3358   \n",
       "4  Presenze  2018-03-25T17:00:00Z  2018-03-25T18:00:00Z             3229   \n",
       "\n",
       "                               layer_id layer_nome  dettaglio(secondi)  \n",
       "0  5491d6d2-0c9e-47b7-bfde-c84c632efacc     Area 1                3600  \n",
       "1  5491d6d2-0c9e-47b7-bfde-c84c632efacc     Area 1                3600  \n",
       "2  5491d6d2-0c9e-47b7-bfde-c84c632efacc     Area 1                3600  \n",
       "3  5491d6d2-0c9e-47b7-bfde-c84c632efacc     Area 1                3600  \n",
       "4  5491d6d2-0c9e-47b7-bfde-c84c632efacc     Area 1                3600  "
      ]
     },
     "execution_count": 7,
     "metadata": {},
     "output_type": "execute_result"
    }
   ],
   "source": [
    "df_sim_march = pd.read_csv('https://raw.githubusercontent.com/McNickSisto/world_data_league/main/stage_final/data/sim_count/SIM_count_19_250318.csv', sep=';', encoding='latin-1')\n",
    "df_sim_march.head()"
   ]
  },
  {
   "cell_type": "code",
   "execution_count": 8,
   "id": "unauthorized-coordination",
   "metadata": {
    "id": "unauthorized-coordination"
   },
   "outputs": [],
   "source": [
    "df_sim_all = pd.concat([df_sim_jan, df_sim_march, df_sim_june], axis=0)\n",
    "df_sim_all.reset_index(inplace=True)"
   ]
  },
  {
   "cell_type": "markdown",
   "id": "structured-liabilities",
   "metadata": {
    "id": "structured-liabilities"
   },
   "source": [
    "**Note** Another possibility to estimate the number of people outside at certain hours is the SIM card dataframes. What it highlights is the presence of certain SIM card users at different hours of the day. We have access to SIM card data of 2018 for January, March and June."
   ]
  },
  {
   "cell_type": "code",
   "execution_count": 9,
   "id": "chronic-romance",
   "metadata": {
    "colab": {
     "base_uri": "https://localhost:8080/",
     "height": 204
    },
    "id": "chronic-romance",
    "outputId": "ed99a789-d703-4bbd-e13d-784875018cec",
    "scrolled": false
   },
   "outputs": [
    {
     "data": {
      "text/html": [
       "<div>\n",
       "<style scoped>\n",
       "    .dataframe tbody tr th:only-of-type {\n",
       "        vertical-align: middle;\n",
       "    }\n",
       "\n",
       "    .dataframe tbody tr th {\n",
       "        vertical-align: top;\n",
       "    }\n",
       "\n",
       "    .dataframe thead th {\n",
       "        text-align: right;\n",
       "    }\n",
       "</style>\n",
       "<table border=\"1\" class=\"dataframe\">\n",
       "  <thead>\n",
       "    <tr style=\"text-align: right;\">\n",
       "      <th></th>\n",
       "      <th>Data</th>\n",
       "      <th>Ora</th>\n",
       "      <th>C1</th>\n",
       "      <th>C2</th>\n",
       "      <th>C3</th>\n",
       "      <th>C4</th>\n",
       "      <th>C5</th>\n",
       "    </tr>\n",
       "  </thead>\n",
       "  <tbody>\n",
       "    <tr>\n",
       "      <th>0</th>\n",
       "      <td>01-01-2018</td>\n",
       "      <td>00:00</td>\n",
       "      <td>68,7</td>\n",
       "      <td>NaN</td>\n",
       "      <td>76,0</td>\n",
       "      <td>NaN</td>\n",
       "      <td>66,6</td>\n",
       "    </tr>\n",
       "    <tr>\n",
       "      <th>1</th>\n",
       "      <td>01-01-2018</td>\n",
       "      <td>01:00</td>\n",
       "      <td>68,3</td>\n",
       "      <td>NaN</td>\n",
       "      <td>68,2</td>\n",
       "      <td>NaN</td>\n",
       "      <td>65,4</td>\n",
       "    </tr>\n",
       "    <tr>\n",
       "      <th>2</th>\n",
       "      <td>01-01-2018</td>\n",
       "      <td>02:00</td>\n",
       "      <td>59,8</td>\n",
       "      <td>NaN</td>\n",
       "      <td>64,4</td>\n",
       "      <td>NaN</td>\n",
       "      <td>64,4</td>\n",
       "    </tr>\n",
       "    <tr>\n",
       "      <th>3</th>\n",
       "      <td>01-01-2018</td>\n",
       "      <td>03:00</td>\n",
       "      <td>67,4</td>\n",
       "      <td>NaN</td>\n",
       "      <td>67,5</td>\n",
       "      <td>NaN</td>\n",
       "      <td>61,8</td>\n",
       "    </tr>\n",
       "    <tr>\n",
       "      <th>4</th>\n",
       "      <td>01-01-2018</td>\n",
       "      <td>04:00</td>\n",
       "      <td>68,0</td>\n",
       "      <td>NaN</td>\n",
       "      <td>64,5</td>\n",
       "      <td>NaN</td>\n",
       "      <td>60,5</td>\n",
       "    </tr>\n",
       "  </tbody>\n",
       "</table>\n",
       "</div>"
      ],
      "text/plain": [
       "         Data    Ora    C1   C2    C3   C4    C5\n",
       "0  01-01-2018  00:00  68,7  NaN  76,0  NaN  66,6\n",
       "1  01-01-2018  01:00  68,3  NaN  68,2  NaN  65,4\n",
       "2  01-01-2018  02:00  59,8  NaN  64,4  NaN  64,4\n",
       "3  01-01-2018  03:00  67,4  NaN  67,5  NaN  61,8\n",
       "4  01-01-2018  04:00  68,0  NaN  64,5  NaN  60,5"
      ]
     },
     "execution_count": 9,
     "metadata": {},
     "output_type": "execute_result"
    }
   ],
   "source": [
    "df_noise_2018 = pd.read_csv('https://raw.githubusercontent.com/McNickSisto/world_data_league/main/stage_final/data/noise_data/Noise_Data_2018.csv')\n",
    "df_noise_2018=df_noise_2018.drop(columns='Unnamed: 0')\n",
    "df_noise_2018.astype('str')\n",
    "df_noise_2018.head()"
   ]
  },
  {
   "cell_type": "code",
   "execution_count": 10,
   "id": "o0K1gTuL6tOA",
   "metadata": {
    "colab": {
     "base_uri": "https://localhost:8080/",
     "height": 111
    },
    "id": "o0K1gTuL6tOA",
    "outputId": "47d1f6a8-68dd-4f4f-c139-fe4c0e51b264"
   },
   "outputs": [
    {
     "data": {
      "text/html": [
       "<div>\n",
       "<style scoped>\n",
       "    .dataframe tbody tr th:only-of-type {\n",
       "        vertical-align: middle;\n",
       "    }\n",
       "\n",
       "    .dataframe tbody tr th {\n",
       "        vertical-align: top;\n",
       "    }\n",
       "\n",
       "    .dataframe thead th {\n",
       "        text-align: right;\n",
       "    }\n",
       "</style>\n",
       "<table border=\"1\" class=\"dataframe\">\n",
       "  <thead>\n",
       "    <tr style=\"text-align: right;\">\n",
       "      <th></th>\n",
       "      <th>Data</th>\n",
       "      <th>Ora</th>\n",
       "      <th>C1</th>\n",
       "      <th>C2</th>\n",
       "      <th>C3</th>\n",
       "      <th>C4</th>\n",
       "      <th>C5</th>\n",
       "      <th>date_hour</th>\n",
       "    </tr>\n",
       "  </thead>\n",
       "  <tbody>\n",
       "    <tr>\n",
       "      <th>0</th>\n",
       "      <td>01-01-2018</td>\n",
       "      <td>00:00</td>\n",
       "      <td>68,7</td>\n",
       "      <td>NaN</td>\n",
       "      <td>76,0</td>\n",
       "      <td>NaN</td>\n",
       "      <td>66,6</td>\n",
       "      <td>2018-01-01 00:00:00</td>\n",
       "    </tr>\n",
       "    <tr>\n",
       "      <th>1</th>\n",
       "      <td>01-01-2018</td>\n",
       "      <td>01:00</td>\n",
       "      <td>68,3</td>\n",
       "      <td>NaN</td>\n",
       "      <td>68,2</td>\n",
       "      <td>NaN</td>\n",
       "      <td>65,4</td>\n",
       "      <td>2018-01-01 01:00:00</td>\n",
       "    </tr>\n",
       "  </tbody>\n",
       "</table>\n",
       "</div>"
      ],
      "text/plain": [
       "         Data    Ora    C1   C2    C3   C4    C5           date_hour\n",
       "0  01-01-2018  00:00  68,7  NaN  76,0  NaN  66,6 2018-01-01 00:00:00\n",
       "1  01-01-2018  01:00  68,3  NaN  68,2  NaN  65,4 2018-01-01 01:00:00"
      ]
     },
     "execution_count": 10,
     "metadata": {},
     "output_type": "execute_result"
    }
   ],
   "source": [
    "df_noise_2018['date_hour'] = df_noise_2018['Data'] + ' ' + df_noise_2018['Ora']\n",
    "df_noise_2018['date_hour'] = pd.to_datetime(df_noise_2018['date_hour'])\n",
    "df_noise_2018.head(2)"
   ]
  },
  {
   "cell_type": "markdown",
   "id": "confidential-advocacy",
   "metadata": {
    "id": "confidential-advocacy"
   },
   "source": [
    "**Note** The noise data is records of noice measurements using 5 different sensors spread in the San Salvario region on an hourly basis. We will use this data as our target in our time series measurements. "
   ]
  },
  {
   "cell_type": "markdown",
   "id": "dwe6XCjkx0BD",
   "metadata": {
    "id": "dwe6XCjkx0BD"
   },
   "source": [
    "**Preprocessing Noise Data**\n",
    "\n",
    "\n",
    "1.   TypeCasting the data values to required format (COnverting data and Ora to Date and Hour format)\n",
    "2.   Converting the noise readings into decimal format (68,7 to 68.7 etc)\n",
    "3.   TypeCastig the noise values\n",
    "4.   Imputing the null values based on day and hour\n",
    "5.   Considering the logarithmic mean of all noise reading at each day and hour\n",
    "\n",
    "\n",
    "\n"
   ]
  },
  {
   "cell_type": "code",
   "execution_count": 11,
   "id": "uM5A9b9rxsmx",
   "metadata": {
    "colab": {
     "base_uri": "https://localhost:8080/",
     "height": 111
    },
    "id": "uM5A9b9rxsmx",
    "outputId": "1f18b983-37a7-431c-c77a-bd67848f95f5"
   },
   "outputs": [
    {
     "data": {
      "text/html": [
       "<div>\n",
       "<style scoped>\n",
       "    .dataframe tbody tr th:only-of-type {\n",
       "        vertical-align: middle;\n",
       "    }\n",
       "\n",
       "    .dataframe tbody tr th {\n",
       "        vertical-align: top;\n",
       "    }\n",
       "\n",
       "    .dataframe thead th {\n",
       "        text-align: right;\n",
       "    }\n",
       "</style>\n",
       "<table border=\"1\" class=\"dataframe\">\n",
       "  <thead>\n",
       "    <tr style=\"text-align: right;\">\n",
       "      <th></th>\n",
       "      <th>Data</th>\n",
       "      <th>Ora</th>\n",
       "      <th>C1</th>\n",
       "      <th>C2</th>\n",
       "      <th>C3</th>\n",
       "      <th>C4</th>\n",
       "      <th>C5</th>\n",
       "      <th>date_hour</th>\n",
       "    </tr>\n",
       "  </thead>\n",
       "  <tbody>\n",
       "    <tr>\n",
       "      <th>0</th>\n",
       "      <td>2018-01-01</td>\n",
       "      <td>0</td>\n",
       "      <td>68.7</td>\n",
       "      <td>nan</td>\n",
       "      <td>76.0</td>\n",
       "      <td>nan</td>\n",
       "      <td>66.6</td>\n",
       "      <td>2018-01-01 00:00:00</td>\n",
       "    </tr>\n",
       "    <tr>\n",
       "      <th>1</th>\n",
       "      <td>2018-01-01</td>\n",
       "      <td>1</td>\n",
       "      <td>68.3</td>\n",
       "      <td>nan</td>\n",
       "      <td>68.2</td>\n",
       "      <td>nan</td>\n",
       "      <td>65.4</td>\n",
       "      <td>2018-01-01 01:00:00</td>\n",
       "    </tr>\n",
       "  </tbody>\n",
       "</table>\n",
       "</div>"
      ],
      "text/plain": [
       "        Data  Ora    C1   C2    C3   C4    C5           date_hour\n",
       "0 2018-01-01    0  68.7  nan  76.0  nan  66.6 2018-01-01 00:00:00\n",
       "1 2018-01-01    1  68.3  nan  68.2  nan  65.4 2018-01-01 01:00:00"
      ]
     },
     "execution_count": 11,
     "metadata": {},
     "output_type": "execute_result"
    }
   ],
   "source": [
    "#Typecasting the data\n",
    "df_noise_2018['Ora']=pd.to_datetime(df_noise_2018['Ora']).dt.hour        #Changing the hour format\n",
    "df_noise_2018['Data']=pd.to_datetime(df_noise_2018['Data'])     #Changing the date format\n",
    "#Converting the noise readings into decimal format\n",
    "df_noise_2018['C1']=df_noise_2018['C1'].apply(lambda x: str(x).replace(',','.'))\n",
    "df_noise_2018['C2']=df_noise_2018['C2'].apply(lambda x: str(x).replace(',','.'))\n",
    "df_noise_2018['C3']=df_noise_2018['C3'].apply(lambda x: str(x).replace(',','.'))\n",
    "df_noise_2018['C4']=df_noise_2018['C4'].apply(lambda x: str(x).replace(',','.'))\n",
    "df_noise_2018['C5']=df_noise_2018['C5'].apply(lambda x: str(x).replace(',','.'))\n",
    "df_noise_2018.head(2)"
   ]
  },
  {
   "cell_type": "code",
   "execution_count": 12,
   "id": "zTeBNfpez35q",
   "metadata": {
    "id": "zTeBNfpez35q"
   },
   "outputs": [],
   "source": [
    "#Conerting the noise reading to float values\n",
    "df_noise_2018['C1']=df_noise_2018['C1'].apply(lambda x: float(x))\n",
    "df_noise_2018['C2']=df_noise_2018['C2'].apply(lambda x: float(x))\n",
    "df_noise_2018['C3']=df_noise_2018['C3'].apply(lambda x: float(x))\n",
    "df_noise_2018['C4']=df_noise_2018['C4'].apply(lambda x: float(x))\n",
    "df_noise_2018['C5']=df_noise_2018['C5'].apply(lambda x: float(x))"
   ]
  },
  {
   "cell_type": "code",
   "execution_count": 13,
   "id": "1xUNfz540vaH",
   "metadata": {
    "id": "1xUNfz540vaH"
   },
   "outputs": [],
   "source": [
    "#Adding day value like Monday as 0, Tuseday as 1 etc to the noise data based on date\n",
    "df_noise_2018['day']=df_noise_2018['Data'].dt.dayofweek"
   ]
  },
  {
   "cell_type": "markdown",
   "id": "IzH6Hnxs1l1T",
   "metadata": {
    "id": "IzH6Hnxs1l1T"
   },
   "source": [
    "The missing values are filled with respective to particular day and hour. For instance to fill the null value of saturday at 1:00, mean of all the saturdays at 1:00 hour is considered"
   ]
  },
  {
   "cell_type": "code",
   "execution_count": 14,
   "id": "gMXL9cDJ1kkM",
   "metadata": {
    "colab": {
     "base_uri": "https://localhost:8080/"
    },
    "id": "gMXL9cDJ1kkM",
    "outputId": "19c44f5e-cf24-412e-910c-6f002f676bd4"
   },
   "outputs": [
    {
     "data": {
      "text/plain": [
       "Data         0\n",
       "Ora          0\n",
       "C1           0\n",
       "C2           0\n",
       "C3           0\n",
       "C4           0\n",
       "C5           0\n",
       "date_hour    0\n",
       "day          0\n",
       "dtype: int64"
      ]
     },
     "execution_count": 14,
     "metadata": {},
     "output_type": "execute_result"
    }
   ],
   "source": [
    "#Fillig the null values considering means on hourly basis\n",
    "df_noise_2018[\"C1\"] = df_noise_2018.groupby([\"Ora\",'day'])['C1'].transform(lambda x: x.fillna(round(x.mean(),1)))\n",
    "df_noise_2018[\"C2\"] = df_noise_2018.groupby([\"Ora\",'day'])['C2'].transform(lambda x: x.fillna(round(x.mean(),1)))\n",
    "df_noise_2018[\"C3\"] = df_noise_2018.groupby([\"Ora\",'day'])['C3'].transform(lambda x: x.fillna(round(x.mean(),1)))\n",
    "df_noise_2018[\"C4\"] = df_noise_2018.groupby([\"Ora\",'day'])['C4'].transform(lambda x: x.fillna(round(x.mean(),1)))\n",
    "df_noise_2018[\"C5\"] = df_noise_2018.groupby([\"Ora\",'day'])['C5'].transform(lambda x: x.fillna(round(x.mean(),1)))\n",
    "#Let's Check if there are any null values after filling\n",
    "df_noise_2018.isnull().sum()"
   ]
  },
  {
   "cell_type": "markdown",
   "id": "VHZ__5W92k-C",
   "metadata": {
    "id": "VHZ__5W92k-C"
   },
   "source": [
    "Computing logarithimic mean of C1,C2,C3,C4,C5 (all sensors noise readings).\n",
    "\n",
    "**Why logarithmic mean??**\n",
    "Simple averaging can be produced will not represent the level of energy of a record. For example, 45, 46, 48, 43, 78, 79, 71, 33, 55 levels, the simple arithmetic average would be 55.3.\n",
    "\n",
    "But the energy level of noise for 78, 79 and 71 is high compared to other values so this can be solved by considering the logarithmic average.\n",
    "\n",
    "The steps involved in computing the logarithmic average include\n",
    "\n",
    "1.   Divide each value by 10\n",
    "2.   Apply anti log\n",
    "3.   Add all the values\n",
    "4.   Divide by total number of samples\n",
    "5.   base 10 log the number and multiply it by 10\n",
    "\n",
    "\n"
   ]
  },
  {
   "cell_type": "code",
   "execution_count": 15,
   "id": "rFXljx742kCP",
   "metadata": {
    "colab": {
     "base_uri": "https://localhost:8080/",
     "height": 111
    },
    "id": "rFXljx742kCP",
    "outputId": "1f4fa437-e547-4e84-a33c-774bd5d04cca"
   },
   "outputs": [
    {
     "data": {
      "text/html": [
       "<div>\n",
       "<style scoped>\n",
       "    .dataframe tbody tr th:only-of-type {\n",
       "        vertical-align: middle;\n",
       "    }\n",
       "\n",
       "    .dataframe tbody tr th {\n",
       "        vertical-align: top;\n",
       "    }\n",
       "\n",
       "    .dataframe thead th {\n",
       "        text-align: right;\n",
       "    }\n",
       "</style>\n",
       "<table border=\"1\" class=\"dataframe\">\n",
       "  <thead>\n",
       "    <tr style=\"text-align: right;\">\n",
       "      <th></th>\n",
       "      <th>Data</th>\n",
       "      <th>Ora</th>\n",
       "      <th>C1</th>\n",
       "      <th>C2</th>\n",
       "      <th>C3</th>\n",
       "      <th>C4</th>\n",
       "      <th>C5</th>\n",
       "      <th>date_hour</th>\n",
       "      <th>day</th>\n",
       "      <th>Log_Avg</th>\n",
       "    </tr>\n",
       "  </thead>\n",
       "  <tbody>\n",
       "    <tr>\n",
       "      <th>0</th>\n",
       "      <td>2018-01-01</td>\n",
       "      <td>0</td>\n",
       "      <td>68.7</td>\n",
       "      <td>56.6</td>\n",
       "      <td>76.0</td>\n",
       "      <td>58.8</td>\n",
       "      <td>66.6</td>\n",
       "      <td>2018-01-01 00:00:00</td>\n",
       "      <td>0</td>\n",
       "      <td>70.253908</td>\n",
       "    </tr>\n",
       "    <tr>\n",
       "      <th>1</th>\n",
       "      <td>2018-01-01</td>\n",
       "      <td>1</td>\n",
       "      <td>68.3</td>\n",
       "      <td>53.6</td>\n",
       "      <td>68.2</td>\n",
       "      <td>55.7</td>\n",
       "      <td>65.4</td>\n",
       "      <td>2018-01-01 01:00:00</td>\n",
       "      <td>0</td>\n",
       "      <td>65.424707</td>\n",
       "    </tr>\n",
       "  </tbody>\n",
       "</table>\n",
       "</div>"
      ],
      "text/plain": [
       "        Data  Ora    C1    C2    C3    C4    C5           date_hour  day  \\\n",
       "0 2018-01-01    0  68.7  56.6  76.0  58.8  66.6 2018-01-01 00:00:00    0   \n",
       "1 2018-01-01    1  68.3  53.6  68.2  55.7  65.4 2018-01-01 01:00:00    0   \n",
       "\n",
       "     Log_Avg  \n",
       "0  70.253908  \n",
       "1  65.424707  "
      ]
     },
     "execution_count": 15,
     "metadata": {},
     "output_type": "execute_result"
    }
   ],
   "source": [
    "df_noise_2018['Log_Avg']=np.log10(((10**(df_noise_2018['C1']/10))+(10**(df_noise_2018['C2']/10))+(10**(df_noise_2018['C3']/10))+(10**(df_noise_2018['C4']/10))+(10**(df_noise_2018['C5']/10)))/5)*10\n",
    "df_noise_2018.head(2)"
   ]
  },
  {
   "cell_type": "code",
   "execution_count": 16,
   "id": "southern-emphasis",
   "metadata": {
    "colab": {
     "base_uri": "https://localhost:8080/",
     "height": 204
    },
    "id": "southern-emphasis",
    "outputId": "39f9b06a-5eb9-426a-9c12-4c214282d32e"
   },
   "outputs": [
    {
     "data": {
      "text/html": [
       "<div>\n",
       "<style scoped>\n",
       "    .dataframe tbody tr th:only-of-type {\n",
       "        vertical-align: middle;\n",
       "    }\n",
       "\n",
       "    .dataframe tbody tr th {\n",
       "        vertical-align: top;\n",
       "    }\n",
       "\n",
       "    .dataframe thead th {\n",
       "        text-align: right;\n",
       "    }\n",
       "</style>\n",
       "<table border=\"1\" class=\"dataframe\">\n",
       "  <thead>\n",
       "    <tr style=\"text-align: right;\">\n",
       "      <th></th>\n",
       "      <th>Categoria criminologa</th>\n",
       "      <th>Sottocategoria Criminologica</th>\n",
       "      <th>Circoscrizione</th>\n",
       "      <th>Localita</th>\n",
       "      <th>Area Verde</th>\n",
       "      <th>Data</th>\n",
       "      <th>Ora</th>\n",
       "    </tr>\n",
       "  </thead>\n",
       "  <tbody>\n",
       "    <tr>\n",
       "      <th>0</th>\n",
       "      <td>Allarme Sociale</td>\n",
       "      <td>Altro</td>\n",
       "      <td>6.0</td>\n",
       "      <td>BELMONTE/(VIA)                                ...</td>\n",
       "      <td>NaN</td>\n",
       "      <td>01/02/2018</td>\n",
       "      <td>NaN</td>\n",
       "    </tr>\n",
       "    <tr>\n",
       "      <th>1</th>\n",
       "      <td>Allarme Sociale</td>\n",
       "      <td>Altro</td>\n",
       "      <td>6.0</td>\n",
       "      <td>DONATORE DI SANGUE/(PIAZZA DEL)               ...</td>\n",
       "      <td>NaN</td>\n",
       "      <td>12/02/2018</td>\n",
       "      <td>NaN</td>\n",
       "    </tr>\n",
       "    <tr>\n",
       "      <th>2</th>\n",
       "      <td>Allarme Sociale</td>\n",
       "      <td>Altro</td>\n",
       "      <td>4.0</td>\n",
       "      <td>CIBRARIO/LUIGI (VIA)                          ...</td>\n",
       "      <td>NaN</td>\n",
       "      <td>26/02/2018</td>\n",
       "      <td>NaN</td>\n",
       "    </tr>\n",
       "    <tr>\n",
       "      <th>3</th>\n",
       "      <td>Allarme Sociale</td>\n",
       "      <td>Altro</td>\n",
       "      <td>1.0</td>\n",
       "      <td>ROMA/(VIA)                                    ...</td>\n",
       "      <td>NaN</td>\n",
       "      <td>02/03/2018</td>\n",
       "      <td>NaN</td>\n",
       "    </tr>\n",
       "    <tr>\n",
       "      <th>4</th>\n",
       "      <td>Allarme Sociale</td>\n",
       "      <td>Altro</td>\n",
       "      <td>4.0</td>\n",
       "      <td>ZUMAGLIA/(VIA)                                ...</td>\n",
       "      <td>NaN</td>\n",
       "      <td>05/03/2018</td>\n",
       "      <td>NaN</td>\n",
       "    </tr>\n",
       "  </tbody>\n",
       "</table>\n",
       "</div>"
      ],
      "text/plain": [
       "  Categoria criminologa Sottocategoria Criminologica  Circoscrizione  \\\n",
       "0       Allarme Sociale                        Altro             6.0   \n",
       "1       Allarme Sociale                        Altro             6.0   \n",
       "2       Allarme Sociale                        Altro             4.0   \n",
       "3       Allarme Sociale                        Altro             1.0   \n",
       "4       Allarme Sociale                        Altro             4.0   \n",
       "\n",
       "                                            Localita Area Verde        Data  \\\n",
       "0  BELMONTE/(VIA)                                ...        NaN  01/02/2018   \n",
       "1  DONATORE DI SANGUE/(PIAZZA DEL)               ...        NaN  12/02/2018   \n",
       "2  CIBRARIO/LUIGI (VIA)                          ...        NaN  26/02/2018   \n",
       "3  ROMA/(VIA)                                    ...        NaN  02/03/2018   \n",
       "4  ZUMAGLIA/(VIA)                                ...        NaN  05/03/2018   \n",
       "\n",
       "   Ora  \n",
       "0  NaN  \n",
       "1  NaN  \n",
       "2  NaN  \n",
       "3  NaN  \n",
       "4  NaN  "
      ]
     },
     "execution_count": 16,
     "metadata": {},
     "output_type": "execute_result"
    }
   ],
   "source": [
    "df_police_1 = pd.read_excel('https://github.com/McNickSisto/world_data_league/blob/main/stage_final/data/police_complaints/OpenDataContact_Gennaio_Giugno_2018.xlsx?raw=true')\n",
    "df_police_1.head()"
   ]
  },
  {
   "cell_type": "code",
   "execution_count": 17,
   "id": "inclusive-renaissance",
   "metadata": {
    "colab": {
     "base_uri": "https://localhost:8080/",
     "height": 204
    },
    "id": "inclusive-renaissance",
    "outputId": "b1472a19-d98b-4b96-b12c-110d12b23889"
   },
   "outputs": [
    {
     "data": {
      "text/html": [
       "<div>\n",
       "<style scoped>\n",
       "    .dataframe tbody tr th:only-of-type {\n",
       "        vertical-align: middle;\n",
       "    }\n",
       "\n",
       "    .dataframe tbody tr th {\n",
       "        vertical-align: top;\n",
       "    }\n",
       "\n",
       "    .dataframe thead th {\n",
       "        text-align: right;\n",
       "    }\n",
       "</style>\n",
       "<table border=\"1\" class=\"dataframe\">\n",
       "  <thead>\n",
       "    <tr style=\"text-align: right;\">\n",
       "      <th></th>\n",
       "      <th>Categoria criminologa</th>\n",
       "      <th>Sottocategoria Criminologica</th>\n",
       "      <th>Circoscrizione</th>\n",
       "      <th>Localita</th>\n",
       "      <th>Area Verde</th>\n",
       "      <th>Data</th>\n",
       "      <th>Ora</th>\n",
       "    </tr>\n",
       "  </thead>\n",
       "  <tbody>\n",
       "    <tr>\n",
       "      <th>0</th>\n",
       "      <td>Allarme Sociale</td>\n",
       "      <td>Altro</td>\n",
       "      <td>8.0</td>\n",
       "      <td>D'AZEGLIO/MASSIMO (CORSO)                     ...</td>\n",
       "      <td>NaN</td>\n",
       "      <td>16/07/2018</td>\n",
       "      <td>NaN</td>\n",
       "    </tr>\n",
       "    <tr>\n",
       "      <th>1</th>\n",
       "      <td>Allarme Sociale</td>\n",
       "      <td>Altro</td>\n",
       "      <td>1.0</td>\n",
       "      <td>REGINA MARGHERITA/(CORSO)                     ...</td>\n",
       "      <td>NaN</td>\n",
       "      <td>17/07/2018</td>\n",
       "      <td>NaN</td>\n",
       "    </tr>\n",
       "    <tr>\n",
       "      <th>2</th>\n",
       "      <td>Allarme Sociale</td>\n",
       "      <td>Altro</td>\n",
       "      <td>10.0</td>\n",
       "      <td>DUINO/(VIA)                                   ...</td>\n",
       "      <td>NaN</td>\n",
       "      <td>14/09/2018</td>\n",
       "      <td>NaN</td>\n",
       "    </tr>\n",
       "    <tr>\n",
       "      <th>3</th>\n",
       "      <td>Allarme Sociale</td>\n",
       "      <td>Altro</td>\n",
       "      <td>NaN</td>\n",
       "      <td>NaN</td>\n",
       "      <td>NaN</td>\n",
       "      <td>02/10/2018</td>\n",
       "      <td>9.40</td>\n",
       "    </tr>\n",
       "    <tr>\n",
       "      <th>4</th>\n",
       "      <td>Allarme Sociale</td>\n",
       "      <td>Altro</td>\n",
       "      <td>9.0</td>\n",
       "      <td>CARDUCCI/GIOSUE' (PIAZZA)                     ...</td>\n",
       "      <td>NaN</td>\n",
       "      <td>27/11/2018</td>\n",
       "      <td>11.53</td>\n",
       "    </tr>\n",
       "  </tbody>\n",
       "</table>\n",
       "</div>"
      ],
      "text/plain": [
       "  Categoria criminologa Sottocategoria Criminologica  Circoscrizione  \\\n",
       "0       Allarme Sociale                        Altro             8.0   \n",
       "1       Allarme Sociale                        Altro             1.0   \n",
       "2       Allarme Sociale                        Altro            10.0   \n",
       "3       Allarme Sociale                        Altro             NaN   \n",
       "4       Allarme Sociale                        Altro             9.0   \n",
       "\n",
       "                                            Localita Area Verde        Data  \\\n",
       "0  D'AZEGLIO/MASSIMO (CORSO)                     ...        NaN  16/07/2018   \n",
       "1  REGINA MARGHERITA/(CORSO)                     ...        NaN  17/07/2018   \n",
       "2  DUINO/(VIA)                                   ...        NaN  14/09/2018   \n",
       "3                                                NaN        NaN  02/10/2018   \n",
       "4  CARDUCCI/GIOSUE' (PIAZZA)                     ...        NaN  27/11/2018   \n",
       "\n",
       "     Ora  \n",
       "0    NaN  \n",
       "1    NaN  \n",
       "2    NaN  \n",
       "3   9.40  \n",
       "4  11.53  "
      ]
     },
     "execution_count": 17,
     "metadata": {},
     "output_type": "execute_result"
    }
   ],
   "source": [
    "df_police_2 = pd.read_csv('https://raw.githubusercontent.com/McNickSisto/world_data_league/main/stage_final/data/police_complaints/OpenDataContact_Luglio_Dicembre_2018.csv')\n",
    "df_police_2.head()"
   ]
  },
  {
   "cell_type": "code",
   "execution_count": 18,
   "id": "frozen-poland",
   "metadata": {
    "colab": {
     "base_uri": "https://localhost:8080/",
     "height": 204
    },
    "id": "frozen-poland",
    "outputId": "5208ba94-3a63-4185-a793-3e18200008e8"
   },
   "outputs": [
    {
     "data": {
      "text/html": [
       "<div>\n",
       "<style scoped>\n",
       "    .dataframe tbody tr th:only-of-type {\n",
       "        vertical-align: middle;\n",
       "    }\n",
       "\n",
       "    .dataframe tbody tr th {\n",
       "        vertical-align: top;\n",
       "    }\n",
       "\n",
       "    .dataframe thead th {\n",
       "        text-align: right;\n",
       "    }\n",
       "</style>\n",
       "<table border=\"1\" class=\"dataframe\">\n",
       "  <thead>\n",
       "    <tr style=\"text-align: right;\">\n",
       "      <th></th>\n",
       "      <th>Categoria criminologa</th>\n",
       "      <th>Sottocategoria Criminologica</th>\n",
       "      <th>Circoscrizione</th>\n",
       "      <th>Localita</th>\n",
       "      <th>Area Verde</th>\n",
       "      <th>Data</th>\n",
       "      <th>Ora</th>\n",
       "    </tr>\n",
       "  </thead>\n",
       "  <tbody>\n",
       "    <tr>\n",
       "      <th>0</th>\n",
       "      <td>Allarme Sociale</td>\n",
       "      <td>Altro</td>\n",
       "      <td>6.0</td>\n",
       "      <td>BELMONTE/(VIA)                                ...</td>\n",
       "      <td>NaN</td>\n",
       "      <td>01/02/2018</td>\n",
       "      <td>NaN</td>\n",
       "    </tr>\n",
       "    <tr>\n",
       "      <th>1</th>\n",
       "      <td>Allarme Sociale</td>\n",
       "      <td>Altro</td>\n",
       "      <td>6.0</td>\n",
       "      <td>DONATORE DI SANGUE/(PIAZZA DEL)               ...</td>\n",
       "      <td>NaN</td>\n",
       "      <td>12/02/2018</td>\n",
       "      <td>NaN</td>\n",
       "    </tr>\n",
       "    <tr>\n",
       "      <th>2</th>\n",
       "      <td>Allarme Sociale</td>\n",
       "      <td>Altro</td>\n",
       "      <td>4.0</td>\n",
       "      <td>CIBRARIO/LUIGI (VIA)                          ...</td>\n",
       "      <td>NaN</td>\n",
       "      <td>26/02/2018</td>\n",
       "      <td>NaN</td>\n",
       "    </tr>\n",
       "    <tr>\n",
       "      <th>3</th>\n",
       "      <td>Allarme Sociale</td>\n",
       "      <td>Altro</td>\n",
       "      <td>1.0</td>\n",
       "      <td>ROMA/(VIA)                                    ...</td>\n",
       "      <td>NaN</td>\n",
       "      <td>02/03/2018</td>\n",
       "      <td>NaN</td>\n",
       "    </tr>\n",
       "    <tr>\n",
       "      <th>4</th>\n",
       "      <td>Allarme Sociale</td>\n",
       "      <td>Altro</td>\n",
       "      <td>4.0</td>\n",
       "      <td>ZUMAGLIA/(VIA)                                ...</td>\n",
       "      <td>NaN</td>\n",
       "      <td>05/03/2018</td>\n",
       "      <td>NaN</td>\n",
       "    </tr>\n",
       "  </tbody>\n",
       "</table>\n",
       "</div>"
      ],
      "text/plain": [
       "  Categoria criminologa Sottocategoria Criminologica  Circoscrizione  \\\n",
       "0       Allarme Sociale                        Altro             6.0   \n",
       "1       Allarme Sociale                        Altro             6.0   \n",
       "2       Allarme Sociale                        Altro             4.0   \n",
       "3       Allarme Sociale                        Altro             1.0   \n",
       "4       Allarme Sociale                        Altro             4.0   \n",
       "\n",
       "                                            Localita Area Verde        Data  \\\n",
       "0  BELMONTE/(VIA)                                ...        NaN  01/02/2018   \n",
       "1  DONATORE DI SANGUE/(PIAZZA DEL)               ...        NaN  12/02/2018   \n",
       "2  CIBRARIO/LUIGI (VIA)                          ...        NaN  26/02/2018   \n",
       "3  ROMA/(VIA)                                    ...        NaN  02/03/2018   \n",
       "4  ZUMAGLIA/(VIA)                                ...        NaN  05/03/2018   \n",
       "\n",
       "   Ora  \n",
       "0  NaN  \n",
       "1  NaN  \n",
       "2  NaN  \n",
       "3  NaN  \n",
       "4  NaN  "
      ]
     },
     "execution_count": 18,
     "metadata": {},
     "output_type": "execute_result"
    }
   ],
   "source": [
    "df_police = pd.concat([df_police_1,df_police_2])\n",
    "df_police.head()"
   ]
  },
  {
   "cell_type": "code",
   "execution_count": 19,
   "id": "incoming-dairy",
   "metadata": {
    "colab": {
     "base_uri": "https://localhost:8080/",
     "height": 204
    },
    "id": "incoming-dairy",
    "outputId": "67d6995f-7f23-466d-d167-c2a04b145719"
   },
   "outputs": [
    {
     "data": {
      "text/html": [
       "<div>\n",
       "<style scoped>\n",
       "    .dataframe tbody tr th:only-of-type {\n",
       "        vertical-align: middle;\n",
       "    }\n",
       "\n",
       "    .dataframe tbody tr th {\n",
       "        vertical-align: top;\n",
       "    }\n",
       "\n",
       "    .dataframe thead th {\n",
       "        text-align: right;\n",
       "    }\n",
       "</style>\n",
       "<table border=\"1\" class=\"dataframe\">\n",
       "  <thead>\n",
       "    <tr style=\"text-align: right;\">\n",
       "      <th></th>\n",
       "      <th>time</th>\n",
       "      <th>temp</th>\n",
       "      <th>winds</th>\n",
       "      <th>rainfall_mm</th>\n",
       "      <th>snowfall_mm</th>\n",
       "    </tr>\n",
       "  </thead>\n",
       "  <tbody>\n",
       "    <tr>\n",
       "      <th>0</th>\n",
       "      <td>2018-01-01 00:00:00</td>\n",
       "      <td>1.04</td>\n",
       "      <td>0.366667</td>\n",
       "      <td>-0.010</td>\n",
       "      <td>2.600000</td>\n",
       "    </tr>\n",
       "    <tr>\n",
       "      <th>1</th>\n",
       "      <td>2018-01-01 01:00:00</td>\n",
       "      <td>1.09</td>\n",
       "      <td>0.590000</td>\n",
       "      <td>0.009</td>\n",
       "      <td>2.600000</td>\n",
       "    </tr>\n",
       "    <tr>\n",
       "      <th>2</th>\n",
       "      <td>2018-01-01 02:00:00</td>\n",
       "      <td>1.05</td>\n",
       "      <td>0.450000</td>\n",
       "      <td>0.008</td>\n",
       "      <td>2.266667</td>\n",
       "    </tr>\n",
       "    <tr>\n",
       "      <th>3</th>\n",
       "      <td>2018-01-01 03:00:00</td>\n",
       "      <td>0.89</td>\n",
       "      <td>0.400000</td>\n",
       "      <td>0.006</td>\n",
       "      <td>2.266667</td>\n",
       "    </tr>\n",
       "    <tr>\n",
       "      <th>4</th>\n",
       "      <td>2018-01-01 04:00:00</td>\n",
       "      <td>0.73</td>\n",
       "      <td>0.780000</td>\n",
       "      <td>-0.011</td>\n",
       "      <td>2.300000</td>\n",
       "    </tr>\n",
       "  </tbody>\n",
       "</table>\n",
       "</div>"
      ],
      "text/plain": [
       "                  time  temp     winds  rainfall_mm  snowfall_mm\n",
       "0  2018-01-01 00:00:00  1.04  0.366667       -0.010     2.600000\n",
       "1  2018-01-01 01:00:00  1.09  0.590000        0.009     2.600000\n",
       "2  2018-01-01 02:00:00  1.05  0.450000        0.008     2.266667\n",
       "3  2018-01-01 03:00:00  0.89  0.400000        0.006     2.266667\n",
       "4  2018-01-01 04:00:00  0.73  0.780000       -0.011     2.300000"
      ]
     },
     "execution_count": 19,
     "metadata": {},
     "output_type": "execute_result"
    }
   ],
   "source": [
    "df_weather = pd.read_csv(\"https://raw.githubusercontent.com/McNickSisto/world_data_league/main/stage_final/data/all_weather.csv\")\n",
    "df_weather = df_weather.drop(columns = ['Unnamed: 0'])\n",
    "df_weather.head()"
   ]
  },
  {
   "cell_type": "markdown",
   "id": "informed-consortium",
   "metadata": {
    "id": "informed-consortium"
   },
   "source": [
    "<br><br>\n",
    "See details in [Appendix](#Weather Data)"
   ]
  },
  {
   "cell_type": "code",
   "execution_count": 20,
   "id": "central-velvet",
   "metadata": {
    "colab": {
     "base_uri": "https://localhost:8080/",
     "height": 824
    },
    "id": "central-velvet",
    "outputId": "267a65ea-68cf-49b2-d4b5-9f4a5d62b047",
    "scrolled": true
   },
   "outputs": [
    {
     "data": {
      "text/html": [
       "<div>\n",
       "<style scoped>\n",
       "    .dataframe tbody tr th:only-of-type {\n",
       "        vertical-align: middle;\n",
       "    }\n",
       "\n",
       "    .dataframe tbody tr th {\n",
       "        vertical-align: top;\n",
       "    }\n",
       "\n",
       "    .dataframe thead th {\n",
       "        text-align: right;\n",
       "    }\n",
       "</style>\n",
       "<table border=\"1\" class=\"dataframe\">\n",
       "  <thead>\n",
       "    <tr style=\"text-align: right;\">\n",
       "      <th></th>\n",
       "      <th>Date</th>\n",
       "      <th>Day</th>\n",
       "      <th>Holiday</th>\n",
       "    </tr>\n",
       "  </thead>\n",
       "  <tbody>\n",
       "    <tr>\n",
       "      <th>0</th>\n",
       "      <td>01-01-2018</td>\n",
       "      <td>monday</td>\n",
       "      <td>New year's Day</td>\n",
       "    </tr>\n",
       "    <tr>\n",
       "      <th>1</th>\n",
       "      <td>06-01-2018</td>\n",
       "      <td>saturday</td>\n",
       "      <td>La Befana</td>\n",
       "    </tr>\n",
       "    <tr>\n",
       "      <th>2</th>\n",
       "      <td>19-03-2018</td>\n",
       "      <td>monday</td>\n",
       "      <td>Father's day</td>\n",
       "    </tr>\n",
       "    <tr>\n",
       "      <th>3</th>\n",
       "      <td>25-03-2018</td>\n",
       "      <td>sunday</td>\n",
       "      <td>Palm Sunday</td>\n",
       "    </tr>\n",
       "    <tr>\n",
       "      <th>4</th>\n",
       "      <td>01-04-2018</td>\n",
       "      <td>sunday</td>\n",
       "      <td>Easter</td>\n",
       "    </tr>\n",
       "    <tr>\n",
       "      <th>5</th>\n",
       "      <td>02-04-2018</td>\n",
       "      <td>monday</td>\n",
       "      <td>Easter Monday</td>\n",
       "    </tr>\n",
       "    <tr>\n",
       "      <th>6</th>\n",
       "      <td>25-04-2018</td>\n",
       "      <td>wednesday</td>\n",
       "      <td>liberation</td>\n",
       "    </tr>\n",
       "    <tr>\n",
       "      <th>7</th>\n",
       "      <td>01-05-2018</td>\n",
       "      <td>tuesday</td>\n",
       "      <td>Labour day</td>\n",
       "    </tr>\n",
       "    <tr>\n",
       "      <th>8</th>\n",
       "      <td>09-05-2018</td>\n",
       "      <td>wednesday</td>\n",
       "      <td>Europe day</td>\n",
       "    </tr>\n",
       "    <tr>\n",
       "      <th>9</th>\n",
       "      <td>13-05-2018</td>\n",
       "      <td>sunday</td>\n",
       "      <td>mother's day</td>\n",
       "    </tr>\n",
       "    <tr>\n",
       "      <th>10</th>\n",
       "      <td>20-05-2018</td>\n",
       "      <td>sunday</td>\n",
       "      <td>Whitsun</td>\n",
       "    </tr>\n",
       "    <tr>\n",
       "      <th>11</th>\n",
       "      <td>02-06-2018</td>\n",
       "      <td>saturday</td>\n",
       "      <td>republic day</td>\n",
       "    </tr>\n",
       "    <tr>\n",
       "      <th>12</th>\n",
       "      <td>24-06-2018</td>\n",
       "      <td>sunday</td>\n",
       "      <td>St. John's Day</td>\n",
       "    </tr>\n",
       "    <tr>\n",
       "      <th>13</th>\n",
       "      <td>15-07-2018</td>\n",
       "      <td>sunday</td>\n",
       "      <td>Bernhard II of Baden</td>\n",
       "    </tr>\n",
       "    <tr>\n",
       "      <th>14</th>\n",
       "      <td>15-08-2018</td>\n",
       "      <td>wednesday</td>\n",
       "      <td>Ferragosto</td>\n",
       "    </tr>\n",
       "    <tr>\n",
       "      <th>15</th>\n",
       "      <td>21-09-2018</td>\n",
       "      <td>friday</td>\n",
       "      <td>Matthew the Apostle</td>\n",
       "    </tr>\n",
       "    <tr>\n",
       "      <th>16</th>\n",
       "      <td>28-10-2018</td>\n",
       "      <td>sunday</td>\n",
       "      <td>DST end</td>\n",
       "    </tr>\n",
       "    <tr>\n",
       "      <th>17</th>\n",
       "      <td>01-11-2018</td>\n",
       "      <td>thursday</td>\n",
       "      <td>All Saint's Day</td>\n",
       "    </tr>\n",
       "    <tr>\n",
       "      <th>18</th>\n",
       "      <td>02-12-2018</td>\n",
       "      <td>sunday</td>\n",
       "      <td>first advent</td>\n",
       "    </tr>\n",
       "    <tr>\n",
       "      <th>19</th>\n",
       "      <td>08-12-2018</td>\n",
       "      <td>saturday</td>\n",
       "      <td>Immaculate Conception</td>\n",
       "    </tr>\n",
       "    <tr>\n",
       "      <th>20</th>\n",
       "      <td>09-12-2018</td>\n",
       "      <td>sunday</td>\n",
       "      <td>second advent</td>\n",
       "    </tr>\n",
       "    <tr>\n",
       "      <th>21</th>\n",
       "      <td>16-12-2018</td>\n",
       "      <td>sunday</td>\n",
       "      <td>third advent</td>\n",
       "    </tr>\n",
       "    <tr>\n",
       "      <th>22</th>\n",
       "      <td>25-12-2018</td>\n",
       "      <td>tuesday</td>\n",
       "      <td>christmas</td>\n",
       "    </tr>\n",
       "    <tr>\n",
       "      <th>23</th>\n",
       "      <td>26-12-2018</td>\n",
       "      <td>wednesday</td>\n",
       "      <td>St. Stephen's Day</td>\n",
       "    </tr>\n",
       "    <tr>\n",
       "      <th>24</th>\n",
       "      <td>31-12-2018</td>\n",
       "      <td>monday</td>\n",
       "      <td>New year's Eve</td>\n",
       "    </tr>\n",
       "  </tbody>\n",
       "</table>\n",
       "</div>"
      ],
      "text/plain": [
       "          Date        Day                Holiday\n",
       "0   01-01-2018     monday         New year's Day\n",
       "1   06-01-2018   saturday              La Befana\n",
       "2   19-03-2018     monday           Father's day\n",
       "3   25-03-2018     sunday            Palm Sunday\n",
       "4   01-04-2018     sunday                 Easter\n",
       "5   02-04-2018     monday          Easter Monday\n",
       "6   25-04-2018  wednesday             liberation\n",
       "7   01-05-2018    tuesday             Labour day\n",
       "8   09-05-2018  wednesday             Europe day\n",
       "9   13-05-2018     sunday           mother's day\n",
       "10  20-05-2018     sunday                Whitsun\n",
       "11  02-06-2018   saturday           republic day\n",
       "12  24-06-2018     sunday         St. John's Day\n",
       "13  15-07-2018     sunday   Bernhard II of Baden\n",
       "14  15-08-2018  wednesday             Ferragosto\n",
       "15  21-09-2018     friday    Matthew the Apostle\n",
       "16  28-10-2018     sunday                DST end\n",
       "17  01-11-2018   thursday        All Saint's Day\n",
       "18  02-12-2018     sunday           first advent\n",
       "19  08-12-2018   saturday  Immaculate Conception\n",
       "20  09-12-2018     sunday          second advent\n",
       "21  16-12-2018     sunday           third advent\n",
       "22  25-12-2018    tuesday              christmas\n",
       "23  26-12-2018  wednesday      St. Stephen's Day\n",
       "24  31-12-2018     monday         New year's Eve"
      ]
     },
     "execution_count": 20,
     "metadata": {},
     "output_type": "execute_result"
    }
   ],
   "source": [
    "#List of holidays\n",
    "df_holidays = pd.read_csv('https://raw.githubusercontent.com/McNickSisto/world_data_league/main/stage_final/holidays.csv')\n",
    "df_holidays"
   ]
  },
  {
   "cell_type": "code",
   "execution_count": 21,
   "id": "advance-paint",
   "metadata": {
    "colab": {
     "base_uri": "https://localhost:8080/",
     "height": 204
    },
    "id": "advance-paint",
    "outputId": "78857774-570f-4277-8ac3-bb24e6e4363c"
   },
   "outputs": [
    {
     "data": {
      "text/html": [
       "<div>\n",
       "<style scoped>\n",
       "    .dataframe tbody tr th:only-of-type {\n",
       "        vertical-align: middle;\n",
       "    }\n",
       "\n",
       "    .dataframe tbody tr th {\n",
       "        vertical-align: top;\n",
       "    }\n",
       "\n",
       "    .dataframe thead th {\n",
       "        text-align: right;\n",
       "    }\n",
       "</style>\n",
       "<table border=\"1\" class=\"dataframe\">\n",
       "  <thead>\n",
       "    <tr style=\"text-align: right;\">\n",
       "      <th></th>\n",
       "      <th>Date</th>\n",
       "      <th>is_match</th>\n",
       "    </tr>\n",
       "  </thead>\n",
       "  <tbody>\n",
       "    <tr>\n",
       "      <th>0</th>\n",
       "      <td>2018-01-01 00:00:00</td>\n",
       "      <td>0.0</td>\n",
       "    </tr>\n",
       "    <tr>\n",
       "      <th>1</th>\n",
       "      <td>2018-01-01 01:00:00</td>\n",
       "      <td>0.0</td>\n",
       "    </tr>\n",
       "    <tr>\n",
       "      <th>2</th>\n",
       "      <td>2018-01-01 02:00:00</td>\n",
       "      <td>0.0</td>\n",
       "    </tr>\n",
       "    <tr>\n",
       "      <th>3</th>\n",
       "      <td>2018-01-01 03:00:00</td>\n",
       "      <td>0.0</td>\n",
       "    </tr>\n",
       "    <tr>\n",
       "      <th>4</th>\n",
       "      <td>2018-01-01 04:00:00</td>\n",
       "      <td>0.0</td>\n",
       "    </tr>\n",
       "  </tbody>\n",
       "</table>\n",
       "</div>"
      ],
      "text/plain": [
       "                  Date  is_match\n",
       "0  2018-01-01 00:00:00       0.0\n",
       "1  2018-01-01 01:00:00       0.0\n",
       "2  2018-01-01 02:00:00       0.0\n",
       "3  2018-01-01 03:00:00       0.0\n",
       "4  2018-01-01 04:00:00       0.0"
      ]
     },
     "execution_count": 21,
     "metadata": {},
     "output_type": "execute_result"
    }
   ],
   "source": [
    "df_matches = pd.read_csv('https://raw.githubusercontent.com/McNickSisto/world_data_league/main/stage_final/data/matches_2018.csv')\n",
    "df_matches=df_matches.drop(columns='Unnamed: 0')\n",
    "df_matches.head()"
   ]
  },
  {
   "cell_type": "code",
   "execution_count": 22,
   "id": "metropolitan-denmark",
   "metadata": {
    "colab": {
     "base_uri": "https://localhost:8080/",
     "height": 204
    },
    "id": "metropolitan-denmark",
    "outputId": "ca7195f0-4aa3-4dea-decb-9e61e757f275"
   },
   "outputs": [
    {
     "data": {
      "text/html": [
       "<div>\n",
       "<style scoped>\n",
       "    .dataframe tbody tr th:only-of-type {\n",
       "        vertical-align: middle;\n",
       "    }\n",
       "\n",
       "    .dataframe tbody tr th {\n",
       "        vertical-align: top;\n",
       "    }\n",
       "\n",
       "    .dataframe thead th {\n",
       "        text-align: right;\n",
       "    }\n",
       "</style>\n",
       "<table border=\"1\" class=\"dataframe\">\n",
       "  <thead>\n",
       "    <tr style=\"text-align: right;\">\n",
       "      <th></th>\n",
       "      <th>hour</th>\n",
       "      <th>count_close</th>\n",
       "      <th>count_open</th>\n",
       "    </tr>\n",
       "  </thead>\n",
       "  <tbody>\n",
       "    <tr>\n",
       "      <th>0</th>\n",
       "      <td>2018-01-01 00:00:00</td>\n",
       "      <td>66.0</td>\n",
       "      <td>NaN</td>\n",
       "    </tr>\n",
       "    <tr>\n",
       "      <th>1</th>\n",
       "      <td>2018-01-01 01:00:00</td>\n",
       "      <td>6.0</td>\n",
       "      <td>NaN</td>\n",
       "    </tr>\n",
       "    <tr>\n",
       "      <th>2</th>\n",
       "      <td>2018-01-01 02:00:00</td>\n",
       "      <td>12.0</td>\n",
       "      <td>NaN</td>\n",
       "    </tr>\n",
       "    <tr>\n",
       "      <th>3</th>\n",
       "      <td>2018-01-01 03:00:00</td>\n",
       "      <td>6.0</td>\n",
       "      <td>NaN</td>\n",
       "    </tr>\n",
       "    <tr>\n",
       "      <th>4</th>\n",
       "      <td>2018-01-01 04:00:00</td>\n",
       "      <td>NaN</td>\n",
       "      <td>NaN</td>\n",
       "    </tr>\n",
       "  </tbody>\n",
       "</table>\n",
       "</div>"
      ],
      "text/plain": [
       "                  hour  count_close  count_open\n",
       "0  2018-01-01 00:00:00         66.0         NaN\n",
       "1  2018-01-01 01:00:00          6.0         NaN\n",
       "2  2018-01-01 02:00:00         12.0         NaN\n",
       "3  2018-01-01 03:00:00          6.0         NaN\n",
       "4  2018-01-01 04:00:00          NaN         NaN"
      ]
     },
     "execution_count": 22,
     "metadata": {},
     "output_type": "execute_result"
    }
   ],
   "source": [
    "df_opening_hours = pd.read_csv('https://raw.githubusercontent.com/McNickSisto/world_data_league/main/stage_final/data/opening_count_2018.csv')\n",
    "df_opening_hours=df_opening_hours.drop(columns='Unnamed: 0')\n",
    "df_opening_hours.head()"
   ]
  },
  {
   "cell_type": "markdown",
   "id": "traditional-insulin",
   "metadata": {
    "id": "traditional-insulin"
   },
   "source": [
    "### Merging Dataframes"
   ]
  },
  {
   "cell_type": "code",
   "execution_count": 23,
   "id": "considerable-rebecca",
   "metadata": {
    "colab": {
     "base_uri": "https://localhost:8080/",
     "height": 204
    },
    "id": "considerable-rebecca",
    "outputId": "d13c0014-9925-4fe1-aa48-267276e02e02"
   },
   "outputs": [
    {
     "data": {
      "text/html": [
       "<div>\n",
       "<style scoped>\n",
       "    .dataframe tbody tr th:only-of-type {\n",
       "        vertical-align: middle;\n",
       "    }\n",
       "\n",
       "    .dataframe tbody tr th {\n",
       "        vertical-align: top;\n",
       "    }\n",
       "\n",
       "    .dataframe thead th {\n",
       "        text-align: right;\n",
       "    }\n",
       "</style>\n",
       "<table border=\"1\" class=\"dataframe\">\n",
       "  <thead>\n",
       "    <tr style=\"text-align: right;\">\n",
       "      <th></th>\n",
       "      <th>Data</th>\n",
       "      <th>Ora</th>\n",
       "      <th>C1</th>\n",
       "      <th>C2</th>\n",
       "      <th>C3</th>\n",
       "      <th>C4</th>\n",
       "      <th>C5</th>\n",
       "      <th>date_hour</th>\n",
       "      <th>day</th>\n",
       "      <th>Log_Avg</th>\n",
       "    </tr>\n",
       "  </thead>\n",
       "  <tbody>\n",
       "    <tr>\n",
       "      <th>0</th>\n",
       "      <td>2018-01-01</td>\n",
       "      <td>0</td>\n",
       "      <td>68.7</td>\n",
       "      <td>56.6</td>\n",
       "      <td>76.0</td>\n",
       "      <td>58.8</td>\n",
       "      <td>66.6</td>\n",
       "      <td>01-01-18 00:00</td>\n",
       "      <td>0</td>\n",
       "      <td>70.253908</td>\n",
       "    </tr>\n",
       "    <tr>\n",
       "      <th>1</th>\n",
       "      <td>2018-01-01</td>\n",
       "      <td>1</td>\n",
       "      <td>68.3</td>\n",
       "      <td>53.6</td>\n",
       "      <td>68.2</td>\n",
       "      <td>55.7</td>\n",
       "      <td>65.4</td>\n",
       "      <td>01-01-18 01:00</td>\n",
       "      <td>0</td>\n",
       "      <td>65.424707</td>\n",
       "    </tr>\n",
       "    <tr>\n",
       "      <th>2</th>\n",
       "      <td>2018-01-01</td>\n",
       "      <td>2</td>\n",
       "      <td>59.8</td>\n",
       "      <td>51.2</td>\n",
       "      <td>64.4</td>\n",
       "      <td>53.0</td>\n",
       "      <td>64.4</td>\n",
       "      <td>01-01-18 02:00</td>\n",
       "      <td>0</td>\n",
       "      <td>61.332068</td>\n",
       "    </tr>\n",
       "    <tr>\n",
       "      <th>3</th>\n",
       "      <td>2018-01-01</td>\n",
       "      <td>3</td>\n",
       "      <td>67.4</td>\n",
       "      <td>47.5</td>\n",
       "      <td>67.5</td>\n",
       "      <td>48.7</td>\n",
       "      <td>61.8</td>\n",
       "      <td>01-01-18 03:00</td>\n",
       "      <td>0</td>\n",
       "      <td>64.069742</td>\n",
       "    </tr>\n",
       "    <tr>\n",
       "      <th>4</th>\n",
       "      <td>2018-01-01</td>\n",
       "      <td>4</td>\n",
       "      <td>68.0</td>\n",
       "      <td>47.6</td>\n",
       "      <td>64.5</td>\n",
       "      <td>49.0</td>\n",
       "      <td>60.5</td>\n",
       "      <td>01-01-18 04:00</td>\n",
       "      <td>0</td>\n",
       "      <td>63.175181</td>\n",
       "    </tr>\n",
       "  </tbody>\n",
       "</table>\n",
       "</div>"
      ],
      "text/plain": [
       "        Data  Ora    C1    C2    C3    C4    C5       date_hour  day  \\\n",
       "0 2018-01-01    0  68.7  56.6  76.0  58.8  66.6  01-01-18 00:00    0   \n",
       "1 2018-01-01    1  68.3  53.6  68.2  55.7  65.4  01-01-18 01:00    0   \n",
       "2 2018-01-01    2  59.8  51.2  64.4  53.0  64.4  01-01-18 02:00    0   \n",
       "3 2018-01-01    3  67.4  47.5  67.5  48.7  61.8  01-01-18 03:00    0   \n",
       "4 2018-01-01    4  68.0  47.6  64.5  49.0  60.5  01-01-18 04:00    0   \n",
       "\n",
       "     Log_Avg  \n",
       "0  70.253908  \n",
       "1  65.424707  \n",
       "2  61.332068  \n",
       "3  64.069742  \n",
       "4  63.175181  "
      ]
     },
     "execution_count": 23,
     "metadata": {},
     "output_type": "execute_result"
    }
   ],
   "source": [
    "df_noise_2018['date_hour'] = df_noise_2018['date_hour'].dt.strftime(\"%d-%m-%y %H:%M\")\n",
    "df_noise_2018.head()"
   ]
  },
  {
   "cell_type": "code",
   "execution_count": 24,
   "id": "resistant-coating",
   "metadata": {
    "colab": {
     "base_uri": "https://localhost:8080/"
    },
    "id": "resistant-coating",
    "outputId": "fe6b97a8-41d4-47dc-e12d-13968f66a2c9"
   },
   "outputs": [
    {
     "data": {
      "text/plain": [
       "Index(['date_time', 'No. of Visitors'], dtype='object')"
      ]
     },
     "execution_count": 24,
     "metadata": {},
     "output_type": "execute_result"
    }
   ],
   "source": [
    "df_wifi.rename(columns = {'Time': 'date_time'}, inplace=True)\n",
    "df_wifi.columns"
   ]
  },
  {
   "cell_type": "code",
   "execution_count": 25,
   "id": "minimal-somalia",
   "metadata": {
    "id": "minimal-somalia"
   },
   "outputs": [],
   "source": [
    "df_wifi['date_time'] = pd.to_datetime(df_wifi['date_time'])\n",
    "df_wifi['date_time'] = df_wifi['date_time'].dt.strftime(\"%d-%m-%y %H:%M\")"
   ]
  },
  {
   "cell_type": "code",
   "execution_count": 26,
   "id": "strong-palace",
   "metadata": {
    "id": "strong-palace"
   },
   "outputs": [],
   "source": [
    "df_weather['time'] = pd.to_datetime(df_weather['time'])\n",
    "df_weather['time'] = df_weather['time'].dt.strftime(\"%d-%m-%y %H:%M\")"
   ]
  },
  {
   "cell_type": "code",
   "execution_count": 27,
   "id": "sapphire-cradle",
   "metadata": {
    "colab": {
     "base_uri": "https://localhost:8080/"
    },
    "id": "sapphire-cradle",
    "outputId": "48e545bf-04f9-46af-a3ac-8ebedd567a77",
    "scrolled": false
   },
   "outputs": [
    {
     "name": "stderr",
     "output_type": "stream",
     "text": [
      "<ipython-input-27-f581f52621a1>:2: SettingWithCopyWarning: \n",
      "A value is trying to be set on a copy of a slice from a DataFrame\n",
      "\n",
      "See the caveats in the documentation: https://pandas.pydata.org/pandas-docs/stable/user_guide/indexing.html#returning-a-view-versus-a-copy\n",
      "  df_sim_all['data_da'][x] = line[8:10] + line[4:7] + '-' + line[0:4] +' ' + line[11:16]\n"
     ]
    }
   ],
   "source": [
    "for x, line in enumerate(df_sim_all['data_da']):\n",
    "    df_sim_all['data_da'][x] = line[8:10] + line[4:7] + '-' + line[0:4] +' ' + line[11:16]"
   ]
  },
  {
   "cell_type": "code",
   "execution_count": 28,
   "id": "integral-advisory",
   "metadata": {
    "colab": {
     "base_uri": "https://localhost:8080/"
    },
    "id": "integral-advisory",
    "outputId": "d2759001-ef9d-498c-f99d-2ef14275feef"
   },
   "outputs": [
    {
     "data": {
      "text/plain": [
       "Index(['index', 'cluster', 'date_time', 'data_a', 'numero_presenze',\n",
       "       'layer_id', 'layer_nome', 'dettaglio(secondi)'],\n",
       "      dtype='object')"
      ]
     },
     "execution_count": 28,
     "metadata": {},
     "output_type": "execute_result"
    }
   ],
   "source": [
    "df_sim_all.rename(columns= {'data_da' : 'date_time'}, inplace=True)\n",
    "df_sim_all.columns"
   ]
  },
  {
   "cell_type": "code",
   "execution_count": 29,
   "id": "empirical-jumping",
   "metadata": {
    "colab": {
     "base_uri": "https://localhost:8080/",
     "height": 111
    },
    "id": "empirical-jumping",
    "outputId": "23b460db-3abf-4e67-dab0-b38f37515991",
    "scrolled": true
   },
   "outputs": [
    {
     "data": {
      "text/html": [
       "<div>\n",
       "<style scoped>\n",
       "    .dataframe tbody tr th:only-of-type {\n",
       "        vertical-align: middle;\n",
       "    }\n",
       "\n",
       "    .dataframe tbody tr th {\n",
       "        vertical-align: top;\n",
       "    }\n",
       "\n",
       "    .dataframe thead th {\n",
       "        text-align: right;\n",
       "    }\n",
       "</style>\n",
       "<table border=\"1\" class=\"dataframe\">\n",
       "  <thead>\n",
       "    <tr style=\"text-align: right;\">\n",
       "      <th></th>\n",
       "      <th>index</th>\n",
       "      <th>cluster</th>\n",
       "      <th>date_time</th>\n",
       "      <th>data_a</th>\n",
       "      <th>numero_presenze</th>\n",
       "      <th>layer_id</th>\n",
       "      <th>layer_nome</th>\n",
       "      <th>dettaglio(secondi)</th>\n",
       "    </tr>\n",
       "  </thead>\n",
       "  <tbody>\n",
       "    <tr>\n",
       "      <th>0</th>\n",
       "      <td>0</td>\n",
       "      <td>Presenze</td>\n",
       "      <td>21-01-18 22:00</td>\n",
       "      <td>2018-01-21T23:00:00Z</td>\n",
       "      <td>3026</td>\n",
       "      <td>5491d6d2-0c9e-47b7-bfde-c84c632efacc</td>\n",
       "      <td>Area 1</td>\n",
       "      <td>3600</td>\n",
       "    </tr>\n",
       "    <tr>\n",
       "      <th>1</th>\n",
       "      <td>1</td>\n",
       "      <td>Presenze</td>\n",
       "      <td>21-01-18 21:00</td>\n",
       "      <td>2018-01-21T22:00:00Z</td>\n",
       "      <td>3088</td>\n",
       "      <td>5491d6d2-0c9e-47b7-bfde-c84c632efacc</td>\n",
       "      <td>Area 1</td>\n",
       "      <td>3600</td>\n",
       "    </tr>\n",
       "  </tbody>\n",
       "</table>\n",
       "</div>"
      ],
      "text/plain": [
       "   index   cluster       date_time                data_a  numero_presenze  \\\n",
       "0      0  Presenze  21-01-18 22:00  2018-01-21T23:00:00Z             3026   \n",
       "1      1  Presenze  21-01-18 21:00  2018-01-21T22:00:00Z             3088   \n",
       "\n",
       "                               layer_id layer_nome  dettaglio(secondi)  \n",
       "0  5491d6d2-0c9e-47b7-bfde-c84c632efacc     Area 1                3600  \n",
       "1  5491d6d2-0c9e-47b7-bfde-c84c632efacc     Area 1                3600  "
      ]
     },
     "execution_count": 29,
     "metadata": {},
     "output_type": "execute_result"
    }
   ],
   "source": [
    "df_sim_all['date_time'] = pd.to_datetime(df_sim_all['date_time'])\n",
    "df_sim_all['date_time'] = df_sim_all['date_time'].dt.strftime(\"%d-%m-%y %H:%M\")\n",
    "df_sim_all.head(2)"
   ]
  },
  {
   "cell_type": "code",
   "execution_count": 30,
   "id": "xQnVY2aBHzs9",
   "metadata": {
    "colab": {
     "base_uri": "https://localhost:8080/",
     "height": 111
    },
    "id": "xQnVY2aBHzs9",
    "outputId": "ab11e7af-573f-4bba-8d38-5bc4f454505d"
   },
   "outputs": [
    {
     "data": {
      "text/html": [
       "<div>\n",
       "<style scoped>\n",
       "    .dataframe tbody tr th:only-of-type {\n",
       "        vertical-align: middle;\n",
       "    }\n",
       "\n",
       "    .dataframe tbody tr th {\n",
       "        vertical-align: top;\n",
       "    }\n",
       "\n",
       "    .dataframe thead th {\n",
       "        text-align: right;\n",
       "    }\n",
       "</style>\n",
       "<table border=\"1\" class=\"dataframe\">\n",
       "  <thead>\n",
       "    <tr style=\"text-align: right;\">\n",
       "      <th></th>\n",
       "      <th>date_time</th>\n",
       "      <th>count_close</th>\n",
       "      <th>count_open</th>\n",
       "    </tr>\n",
       "  </thead>\n",
       "  <tbody>\n",
       "    <tr>\n",
       "      <th>0</th>\n",
       "      <td>01-01-18 00:00</td>\n",
       "      <td>66.0</td>\n",
       "      <td>NaN</td>\n",
       "    </tr>\n",
       "    <tr>\n",
       "      <th>1</th>\n",
       "      <td>01-01-18 01:00</td>\n",
       "      <td>6.0</td>\n",
       "      <td>NaN</td>\n",
       "    </tr>\n",
       "  </tbody>\n",
       "</table>\n",
       "</div>"
      ],
      "text/plain": [
       "        date_time  count_close  count_open\n",
       "0  01-01-18 00:00         66.0         NaN\n",
       "1  01-01-18 01:00          6.0         NaN"
      ]
     },
     "execution_count": 30,
     "metadata": {},
     "output_type": "execute_result"
    }
   ],
   "source": [
    "df_opening_hours.rename(columns= {'hour' : 'date_time'}, inplace=True)\n",
    "df_opening_hours['date_time'] = pd.to_datetime(df_opening_hours['date_time'])\n",
    "df_opening_hours['date_time'] = df_opening_hours['date_time'].dt.strftime(\"%d-%m-%y %H:%M\")\n",
    "df_opening_hours.head(2)"
   ]
  },
  {
   "cell_type": "code",
   "execution_count": 31,
   "id": "QPX_VrWTITmp",
   "metadata": {
    "colab": {
     "base_uri": "https://localhost:8080/",
     "height": 111
    },
    "id": "QPX_VrWTITmp",
    "outputId": "feb9a35c-1bc3-450d-dc55-afbacee8e055"
   },
   "outputs": [
    {
     "data": {
      "text/html": [
       "<div>\n",
       "<style scoped>\n",
       "    .dataframe tbody tr th:only-of-type {\n",
       "        vertical-align: middle;\n",
       "    }\n",
       "\n",
       "    .dataframe tbody tr th {\n",
       "        vertical-align: top;\n",
       "    }\n",
       "\n",
       "    .dataframe thead th {\n",
       "        text-align: right;\n",
       "    }\n",
       "</style>\n",
       "<table border=\"1\" class=\"dataframe\">\n",
       "  <thead>\n",
       "    <tr style=\"text-align: right;\">\n",
       "      <th></th>\n",
       "      <th>date_time</th>\n",
       "      <th>is_match</th>\n",
       "    </tr>\n",
       "  </thead>\n",
       "  <tbody>\n",
       "    <tr>\n",
       "      <th>0</th>\n",
       "      <td>01-01-18 00:00</td>\n",
       "      <td>0.0</td>\n",
       "    </tr>\n",
       "    <tr>\n",
       "      <th>1</th>\n",
       "      <td>01-01-18 01:00</td>\n",
       "      <td>0.0</td>\n",
       "    </tr>\n",
       "  </tbody>\n",
       "</table>\n",
       "</div>"
      ],
      "text/plain": [
       "        date_time  is_match\n",
       "0  01-01-18 00:00       0.0\n",
       "1  01-01-18 01:00       0.0"
      ]
     },
     "execution_count": 31,
     "metadata": {},
     "output_type": "execute_result"
    }
   ],
   "source": [
    "df_matches.rename(columns= {'Date' : 'date_time'}, inplace=True)\n",
    "df_matches['date_time'] = pd.to_datetime(df_matches['date_time'])\n",
    "df_matches['date_time'] = df_matches['date_time'].dt.strftime(\"%d-%m-%y %H:%M\")\n",
    "df_matches.head(2)"
   ]
  },
  {
   "cell_type": "markdown",
   "id": "southern-grenada",
   "metadata": {
    "id": "southern-grenada"
   },
   "source": [
    "Merging noise, wifi, sim,weather,... police complaints"
   ]
  },
  {
   "cell_type": "code",
   "execution_count": 69,
   "id": "missing-iraqi",
   "metadata": {
    "colab": {
     "base_uri": "https://localhost:8080/",
     "height": 111
    },
    "id": "missing-iraqi",
    "outputId": "96dab8eb-cc91-4606-8392-6fdaa035b6f5",
    "scrolled": false
   },
   "outputs": [
    {
     "data": {
      "text/html": [
       "<div>\n",
       "<style scoped>\n",
       "    .dataframe tbody tr th:only-of-type {\n",
       "        vertical-align: middle;\n",
       "    }\n",
       "\n",
       "    .dataframe tbody tr th {\n",
       "        vertical-align: top;\n",
       "    }\n",
       "\n",
       "    .dataframe thead th {\n",
       "        text-align: right;\n",
       "    }\n",
       "</style>\n",
       "<table border=\"1\" class=\"dataframe\">\n",
       "  <thead>\n",
       "    <tr style=\"text-align: right;\">\n",
       "      <th></th>\n",
       "      <th>Data</th>\n",
       "      <th>Ora</th>\n",
       "      <th>C1</th>\n",
       "      <th>C2</th>\n",
       "      <th>C3</th>\n",
       "      <th>C4</th>\n",
       "      <th>C5</th>\n",
       "      <th>date_hour</th>\n",
       "      <th>day</th>\n",
       "      <th>Log_Avg</th>\n",
       "      <th>date_time</th>\n",
       "      <th>No. of Visitors</th>\n",
       "    </tr>\n",
       "  </thead>\n",
       "  <tbody>\n",
       "    <tr>\n",
       "      <th>0</th>\n",
       "      <td>2018-01-01</td>\n",
       "      <td>0</td>\n",
       "      <td>68.7</td>\n",
       "      <td>56.6</td>\n",
       "      <td>76.0</td>\n",
       "      <td>58.8</td>\n",
       "      <td>66.6</td>\n",
       "      <td>01-01-18 00:00</td>\n",
       "      <td>0</td>\n",
       "      <td>70.253908</td>\n",
       "      <td>NaN</td>\n",
       "      <td>NaN</td>\n",
       "    </tr>\n",
       "    <tr>\n",
       "      <th>1</th>\n",
       "      <td>2018-01-01</td>\n",
       "      <td>1</td>\n",
       "      <td>68.3</td>\n",
       "      <td>53.6</td>\n",
       "      <td>68.2</td>\n",
       "      <td>55.7</td>\n",
       "      <td>65.4</td>\n",
       "      <td>01-01-18 01:00</td>\n",
       "      <td>0</td>\n",
       "      <td>65.424707</td>\n",
       "      <td>NaN</td>\n",
       "      <td>NaN</td>\n",
       "    </tr>\n",
       "  </tbody>\n",
       "</table>\n",
       "</div>"
      ],
      "text/plain": [
       "        Data  Ora    C1    C2    C3    C4    C5       date_hour  day  \\\n",
       "0 2018-01-01    0  68.7  56.6  76.0  58.8  66.6  01-01-18 00:00    0   \n",
       "1 2018-01-01    1  68.3  53.6  68.2  55.7  65.4  01-01-18 01:00    0   \n",
       "\n",
       "     Log_Avg date_time  No. of Visitors  \n",
       "0  70.253908       NaN              NaN  \n",
       "1  65.424707       NaN              NaN  "
      ]
     },
     "execution_count": 69,
     "metadata": {},
     "output_type": "execute_result"
    }
   ],
   "source": [
    "df_final = df_noise_2018.merge(df_wifi, left_on= 'date_hour', right_on= 'date_time', how='left')\n",
    "df_final.head(2)"
   ]
  },
  {
   "cell_type": "code",
   "execution_count": 70,
   "id": "touched-liberal",
   "metadata": {},
   "outputs": [
    {
     "data": {
      "text/plain": [
       "29-09-18 17:00    1\n",
       "18-12-18 21:00    1\n",
       "06-01-18 17:00    1\n",
       "21-02-18 18:00    1\n",
       "16-10-18 10:00    1\n",
       "                 ..\n",
       "28-01-18 03:00    1\n",
       "24-06-18 03:00    1\n",
       "08-03-18 05:00    1\n",
       "21-01-18 00:00    1\n",
       "07-12-18 03:00    1\n",
       "Name: date_hour, Length: 8760, dtype: int64"
      ]
     },
     "execution_count": 70,
     "metadata": {},
     "output_type": "execute_result"
    }
   ],
   "source": [
    "df_final['date_hour'].value_counts()"
   ]
  },
  {
   "cell_type": "code",
   "execution_count": 73,
   "id": "adaptive-means",
   "metadata": {
    "colab": {
     "base_uri": "https://localhost:8080/",
     "height": 111
    },
    "id": "adaptive-means",
    "outputId": "1f0b82ae-c8e4-4e0a-f54a-6dfa063d5c7b",
    "scrolled": true
   },
   "outputs": [
    {
     "data": {
      "text/html": [
       "<div>\n",
       "<style scoped>\n",
       "    .dataframe tbody tr th:only-of-type {\n",
       "        vertical-align: middle;\n",
       "    }\n",
       "\n",
       "    .dataframe tbody tr th {\n",
       "        vertical-align: top;\n",
       "    }\n",
       "\n",
       "    .dataframe thead th {\n",
       "        text-align: right;\n",
       "    }\n",
       "</style>\n",
       "<table border=\"1\" class=\"dataframe\">\n",
       "  <thead>\n",
       "    <tr style=\"text-align: right;\">\n",
       "      <th></th>\n",
       "      <th>Data</th>\n",
       "      <th>Ora</th>\n",
       "      <th>C1</th>\n",
       "      <th>C2</th>\n",
       "      <th>C3</th>\n",
       "      <th>C4</th>\n",
       "      <th>C5</th>\n",
       "      <th>date_hour</th>\n",
       "      <th>day</th>\n",
       "      <th>Log_Avg</th>\n",
       "      <th>date_time_x</th>\n",
       "      <th>No. of Visitors</th>\n",
       "      <th>index</th>\n",
       "      <th>cluster</th>\n",
       "      <th>date_time_y</th>\n",
       "      <th>data_a</th>\n",
       "      <th>numero_presenze</th>\n",
       "      <th>layer_id</th>\n",
       "      <th>layer_nome</th>\n",
       "      <th>dettaglio(secondi)</th>\n",
       "    </tr>\n",
       "  </thead>\n",
       "  <tbody>\n",
       "    <tr>\n",
       "      <th>0</th>\n",
       "      <td>2018-01-01</td>\n",
       "      <td>0</td>\n",
       "      <td>68.7</td>\n",
       "      <td>56.6</td>\n",
       "      <td>76.0</td>\n",
       "      <td>58.8</td>\n",
       "      <td>66.6</td>\n",
       "      <td>01-01-18 00:00</td>\n",
       "      <td>0</td>\n",
       "      <td>70.253908</td>\n",
       "      <td>NaN</td>\n",
       "      <td>NaN</td>\n",
       "      <td>NaN</td>\n",
       "      <td>NaN</td>\n",
       "      <td>NaN</td>\n",
       "      <td>NaN</td>\n",
       "      <td>NaN</td>\n",
       "      <td>NaN</td>\n",
       "      <td>NaN</td>\n",
       "      <td>NaN</td>\n",
       "    </tr>\n",
       "    <tr>\n",
       "      <th>1</th>\n",
       "      <td>2018-01-01</td>\n",
       "      <td>1</td>\n",
       "      <td>68.3</td>\n",
       "      <td>53.6</td>\n",
       "      <td>68.2</td>\n",
       "      <td>55.7</td>\n",
       "      <td>65.4</td>\n",
       "      <td>01-01-18 01:00</td>\n",
       "      <td>0</td>\n",
       "      <td>65.424707</td>\n",
       "      <td>NaN</td>\n",
       "      <td>NaN</td>\n",
       "      <td>NaN</td>\n",
       "      <td>NaN</td>\n",
       "      <td>NaN</td>\n",
       "      <td>NaN</td>\n",
       "      <td>NaN</td>\n",
       "      <td>NaN</td>\n",
       "      <td>NaN</td>\n",
       "      <td>NaN</td>\n",
       "    </tr>\n",
       "  </tbody>\n",
       "</table>\n",
       "</div>"
      ],
      "text/plain": [
       "        Data  Ora    C1    C2    C3    C4    C5       date_hour  day  \\\n",
       "0 2018-01-01    0  68.7  56.6  76.0  58.8  66.6  01-01-18 00:00    0   \n",
       "1 2018-01-01    1  68.3  53.6  68.2  55.7  65.4  01-01-18 01:00    0   \n",
       "\n",
       "     Log_Avg date_time_x  No. of Visitors  index cluster date_time_y data_a  \\\n",
       "0  70.253908         NaN              NaN    NaN     NaN         NaN    NaN   \n",
       "1  65.424707         NaN              NaN    NaN     NaN         NaN    NaN   \n",
       "\n",
       "   numero_presenze layer_id layer_nome  dettaglio(secondi)  \n",
       "0              NaN      NaN        NaN                 NaN  \n",
       "1              NaN      NaN        NaN                 NaN  "
      ]
     },
     "execution_count": 73,
     "metadata": {},
     "output_type": "execute_result"
    }
   ],
   "source": [
    "df_final_1 = df_final.merge(df_sim_all, left_on= 'date_hour', right_on= 'date_time', how='left')\n",
    "df_final_1.head(2)"
   ]
  },
  {
   "cell_type": "code",
   "execution_count": 75,
   "id": "electronic-chosen",
   "metadata": {},
   "outputs": [
    {
     "data": {
      "text/html": [
       "<div>\n",
       "<style scoped>\n",
       "    .dataframe tbody tr th:only-of-type {\n",
       "        vertical-align: middle;\n",
       "    }\n",
       "\n",
       "    .dataframe tbody tr th {\n",
       "        vertical-align: top;\n",
       "    }\n",
       "\n",
       "    .dataframe thead th {\n",
       "        text-align: right;\n",
       "    }\n",
       "</style>\n",
       "<table border=\"1\" class=\"dataframe\">\n",
       "  <thead>\n",
       "    <tr style=\"text-align: right;\">\n",
       "      <th></th>\n",
       "      <th>index</th>\n",
       "      <th>cluster</th>\n",
       "      <th>date_time</th>\n",
       "      <th>data_a</th>\n",
       "      <th>numero_presenze</th>\n",
       "      <th>layer_id</th>\n",
       "      <th>layer_nome</th>\n",
       "      <th>dettaglio(secondi)</th>\n",
       "    </tr>\n",
       "  </thead>\n",
       "  <tbody>\n",
       "    <tr>\n",
       "      <th>0</th>\n",
       "      <td>0</td>\n",
       "      <td>Presenze</td>\n",
       "      <td>21-01-18 22:00</td>\n",
       "      <td>2018-01-21T23:00:00Z</td>\n",
       "      <td>3026</td>\n",
       "      <td>5491d6d2-0c9e-47b7-bfde-c84c632efacc</td>\n",
       "      <td>Area 1</td>\n",
       "      <td>3600</td>\n",
       "    </tr>\n",
       "    <tr>\n",
       "      <th>1</th>\n",
       "      <td>1</td>\n",
       "      <td>Presenze</td>\n",
       "      <td>21-01-18 21:00</td>\n",
       "      <td>2018-01-21T22:00:00Z</td>\n",
       "      <td>3088</td>\n",
       "      <td>5491d6d2-0c9e-47b7-bfde-c84c632efacc</td>\n",
       "      <td>Area 1</td>\n",
       "      <td>3600</td>\n",
       "    </tr>\n",
       "    <tr>\n",
       "      <th>2</th>\n",
       "      <td>2</td>\n",
       "      <td>Presenze</td>\n",
       "      <td>21-01-18 20:00</td>\n",
       "      <td>2018-01-21T21:00:00Z</td>\n",
       "      <td>3119</td>\n",
       "      <td>5491d6d2-0c9e-47b7-bfde-c84c632efacc</td>\n",
       "      <td>Area 1</td>\n",
       "      <td>3600</td>\n",
       "    </tr>\n",
       "    <tr>\n",
       "      <th>3</th>\n",
       "      <td>3</td>\n",
       "      <td>Presenze</td>\n",
       "      <td>21-01-18 19:00</td>\n",
       "      <td>2018-01-21T20:00:00Z</td>\n",
       "      <td>3114</td>\n",
       "      <td>5491d6d2-0c9e-47b7-bfde-c84c632efacc</td>\n",
       "      <td>Area 1</td>\n",
       "      <td>3600</td>\n",
       "    </tr>\n",
       "    <tr>\n",
       "      <th>4</th>\n",
       "      <td>4</td>\n",
       "      <td>Presenze</td>\n",
       "      <td>21-01-18 18:00</td>\n",
       "      <td>2018-01-21T19:00:00Z</td>\n",
       "      <td>2991</td>\n",
       "      <td>5491d6d2-0c9e-47b7-bfde-c84c632efacc</td>\n",
       "      <td>Area 1</td>\n",
       "      <td>3600</td>\n",
       "    </tr>\n",
       "    <tr>\n",
       "      <th>...</th>\n",
       "      <td>...</td>\n",
       "      <td>...</td>\n",
       "      <td>...</td>\n",
       "      <td>...</td>\n",
       "      <td>...</td>\n",
       "      <td>...</td>\n",
       "      <td>...</td>\n",
       "      <td>...</td>\n",
       "    </tr>\n",
       "    <tr>\n",
       "      <th>9049</th>\n",
       "      <td>3019</td>\n",
       "      <td>Visitatori Stranieri</td>\n",
       "      <td>06-04-18 02:00</td>\n",
       "      <td>2018-06-04T03:00:00Z</td>\n",
       "      <td>168</td>\n",
       "      <td>5491d6d2-0c9e-47b7-bfde-c84c632efacc</td>\n",
       "      <td>Area 1</td>\n",
       "      <td>3600</td>\n",
       "    </tr>\n",
       "    <tr>\n",
       "      <th>9050</th>\n",
       "      <td>3020</td>\n",
       "      <td>Visitatori Stranieri</td>\n",
       "      <td>06-04-18 01:00</td>\n",
       "      <td>2018-06-04T02:00:00Z</td>\n",
       "      <td>174</td>\n",
       "      <td>5491d6d2-0c9e-47b7-bfde-c84c632efacc</td>\n",
       "      <td>Area 1</td>\n",
       "      <td>3600</td>\n",
       "    </tr>\n",
       "    <tr>\n",
       "      <th>9051</th>\n",
       "      <td>3021</td>\n",
       "      <td>Visitatori Stranieri</td>\n",
       "      <td>06-04-18 00:00</td>\n",
       "      <td>2018-06-04T01:00:00Z</td>\n",
       "      <td>181</td>\n",
       "      <td>5491d6d2-0c9e-47b7-bfde-c84c632efacc</td>\n",
       "      <td>Area 1</td>\n",
       "      <td>3600</td>\n",
       "    </tr>\n",
       "    <tr>\n",
       "      <th>9052</th>\n",
       "      <td>3022</td>\n",
       "      <td>Visitatori Stranieri</td>\n",
       "      <td>06-03-18 23:00</td>\n",
       "      <td>2018-06-04T00:00:00Z</td>\n",
       "      <td>191</td>\n",
       "      <td>5491d6d2-0c9e-47b7-bfde-c84c632efacc</td>\n",
       "      <td>Area 1</td>\n",
       "      <td>3600</td>\n",
       "    </tr>\n",
       "    <tr>\n",
       "      <th>9053</th>\n",
       "      <td>3023</td>\n",
       "      <td>Visitatori Stranieri</td>\n",
       "      <td>06-03-18 22:00</td>\n",
       "      <td>2018-06-03T23:00:00Z</td>\n",
       "      <td>200</td>\n",
       "      <td>5491d6d2-0c9e-47b7-bfde-c84c632efacc</td>\n",
       "      <td>Area 1</td>\n",
       "      <td>3600</td>\n",
       "    </tr>\n",
       "  </tbody>\n",
       "</table>\n",
       "<p>9054 rows × 8 columns</p>\n",
       "</div>"
      ],
      "text/plain": [
       "      index               cluster       date_time                data_a  \\\n",
       "0         0              Presenze  21-01-18 22:00  2018-01-21T23:00:00Z   \n",
       "1         1              Presenze  21-01-18 21:00  2018-01-21T22:00:00Z   \n",
       "2         2              Presenze  21-01-18 20:00  2018-01-21T21:00:00Z   \n",
       "3         3              Presenze  21-01-18 19:00  2018-01-21T20:00:00Z   \n",
       "4         4              Presenze  21-01-18 18:00  2018-01-21T19:00:00Z   \n",
       "...     ...                   ...             ...                   ...   \n",
       "9049   3019  Visitatori Stranieri  06-04-18 02:00  2018-06-04T03:00:00Z   \n",
       "9050   3020  Visitatori Stranieri  06-04-18 01:00  2018-06-04T02:00:00Z   \n",
       "9051   3021  Visitatori Stranieri  06-04-18 00:00  2018-06-04T01:00:00Z   \n",
       "9052   3022  Visitatori Stranieri  06-03-18 23:00  2018-06-04T00:00:00Z   \n",
       "9053   3023  Visitatori Stranieri  06-03-18 22:00  2018-06-03T23:00:00Z   \n",
       "\n",
       "      numero_presenze                              layer_id layer_nome  \\\n",
       "0                3026  5491d6d2-0c9e-47b7-bfde-c84c632efacc     Area 1   \n",
       "1                3088  5491d6d2-0c9e-47b7-bfde-c84c632efacc     Area 1   \n",
       "2                3119  5491d6d2-0c9e-47b7-bfde-c84c632efacc     Area 1   \n",
       "3                3114  5491d6d2-0c9e-47b7-bfde-c84c632efacc     Area 1   \n",
       "4                2991  5491d6d2-0c9e-47b7-bfde-c84c632efacc     Area 1   \n",
       "...               ...                                   ...        ...   \n",
       "9049              168  5491d6d2-0c9e-47b7-bfde-c84c632efacc     Area 1   \n",
       "9050              174  5491d6d2-0c9e-47b7-bfde-c84c632efacc     Area 1   \n",
       "9051              181  5491d6d2-0c9e-47b7-bfde-c84c632efacc     Area 1   \n",
       "9052              191  5491d6d2-0c9e-47b7-bfde-c84c632efacc     Area 1   \n",
       "9053              200  5491d6d2-0c9e-47b7-bfde-c84c632efacc     Area 1   \n",
       "\n",
       "      dettaglio(secondi)  \n",
       "0                   3600  \n",
       "1                   3600  \n",
       "2                   3600  \n",
       "3                   3600  \n",
       "4                   3600  \n",
       "...                  ...  \n",
       "9049                3600  \n",
       "9050                3600  \n",
       "9051                3600  \n",
       "9052                3600  \n",
       "9053                3600  \n",
       "\n",
       "[9054 rows x 8 columns]"
      ]
     },
     "execution_count": 75,
     "metadata": {},
     "output_type": "execute_result"
    }
   ],
   "source": [
    "df_sim_all"
   ]
  },
  {
   "cell_type": "code",
   "execution_count": 80,
   "id": "limiting-arizona",
   "metadata": {
    "scrolled": true
   },
   "outputs": [
    {
     "data": {
      "text/html": [
       "<div>\n",
       "<style scoped>\n",
       "    .dataframe tbody tr th:only-of-type {\n",
       "        vertical-align: middle;\n",
       "    }\n",
       "\n",
       "    .dataframe tbody tr th {\n",
       "        vertical-align: top;\n",
       "    }\n",
       "\n",
       "    .dataframe thead th {\n",
       "        text-align: right;\n",
       "    }\n",
       "</style>\n",
       "<table border=\"1\" class=\"dataframe\">\n",
       "  <thead>\n",
       "    <tr style=\"text-align: right;\">\n",
       "      <th></th>\n",
       "      <th>index</th>\n",
       "      <th>numero_presenze</th>\n",
       "      <th>dettaglio(secondi)</th>\n",
       "    </tr>\n",
       "    <tr>\n",
       "      <th>date_time</th>\n",
       "      <th></th>\n",
       "      <th></th>\n",
       "      <th></th>\n",
       "    </tr>\n",
       "  </thead>\n",
       "  <tbody>\n",
       "    <tr>\n",
       "      <th>06-03-18 22:00</th>\n",
       "      <td>28710</td>\n",
       "      <td>20458</td>\n",
       "      <td>64800</td>\n",
       "    </tr>\n",
       "    <tr>\n",
       "      <th>06-03-18 23:00</th>\n",
       "      <td>28692</td>\n",
       "      <td>19806</td>\n",
       "      <td>64800</td>\n",
       "    </tr>\n",
       "    <tr>\n",
       "      <th>06-04-18 00:00</th>\n",
       "      <td>28674</td>\n",
       "      <td>19115</td>\n",
       "      <td>64800</td>\n",
       "    </tr>\n",
       "    <tr>\n",
       "      <th>06-04-18 01:00</th>\n",
       "      <td>28656</td>\n",
       "      <td>18563</td>\n",
       "      <td>64800</td>\n",
       "    </tr>\n",
       "    <tr>\n",
       "      <th>06-04-18 02:00</th>\n",
       "      <td>28638</td>\n",
       "      <td>18065</td>\n",
       "      <td>64800</td>\n",
       "    </tr>\n",
       "    <tr>\n",
       "      <th>...</th>\n",
       "      <td>...</td>\n",
       "      <td>...</td>\n",
       "      <td>...</td>\n",
       "    </tr>\n",
       "    <tr>\n",
       "      <th>25-03-18 17:00</th>\n",
       "      <td>25623</td>\n",
       "      <td>19373</td>\n",
       "      <td>64800</td>\n",
       "    </tr>\n",
       "    <tr>\n",
       "      <th>25-03-18 18:00</th>\n",
       "      <td>25605</td>\n",
       "      <td>20147</td>\n",
       "      <td>64800</td>\n",
       "    </tr>\n",
       "    <tr>\n",
       "      <th>25-03-18 19:00</th>\n",
       "      <td>25587</td>\n",
       "      <td>20458</td>\n",
       "      <td>64800</td>\n",
       "    </tr>\n",
       "    <tr>\n",
       "      <th>25-03-18 20:00</th>\n",
       "      <td>25569</td>\n",
       "      <td>20237</td>\n",
       "      <td>64800</td>\n",
       "    </tr>\n",
       "    <tr>\n",
       "      <th>25-03-18 21:00</th>\n",
       "      <td>25551</td>\n",
       "      <td>19600</td>\n",
       "      <td>64800</td>\n",
       "    </tr>\n",
       "  </tbody>\n",
       "</table>\n",
       "<p>503 rows × 3 columns</p>\n",
       "</div>"
      ],
      "text/plain": [
       "                index  numero_presenze  dettaglio(secondi)\n",
       "date_time                                                 \n",
       "06-03-18 22:00  28710            20458               64800\n",
       "06-03-18 23:00  28692            19806               64800\n",
       "06-04-18 00:00  28674            19115               64800\n",
       "06-04-18 01:00  28656            18563               64800\n",
       "06-04-18 02:00  28638            18065               64800\n",
       "...               ...              ...                 ...\n",
       "25-03-18 17:00  25623            19373               64800\n",
       "25-03-18 18:00  25605            20147               64800\n",
       "25-03-18 19:00  25587            20458               64800\n",
       "25-03-18 20:00  25569            20237               64800\n",
       "25-03-18 21:00  25551            19600               64800\n",
       "\n",
       "[503 rows x 3 columns]"
      ]
     },
     "execution_count": 80,
     "metadata": {},
     "output_type": "execute_result"
    }
   ],
   "source": [
    "df_sim_all.groupby(by='date_time').sum() #remove deplicates"
   ]
  },
  {
   "cell_type": "code",
   "execution_count": 74,
   "id": "destroyed-multimedia",
   "metadata": {},
   "outputs": [
    {
     "data": {
      "text/plain": [
       "22-03-18 05:00    18\n",
       "06-08-18 02:00    18\n",
       "06-06-18 15:00    18\n",
       "15-01-18 17:00    18\n",
       "06-06-18 06:00    18\n",
       "                  ..\n",
       "20-10-18 16:00     1\n",
       "07-04-18 07:00     1\n",
       "30-11-18 22:00     1\n",
       "28-04-18 12:00     1\n",
       "07-12-18 03:00     1\n",
       "Name: date_hour, Length: 8760, dtype: int64"
      ]
     },
     "execution_count": 74,
     "metadata": {},
     "output_type": "execute_result"
    }
   ],
   "source": [
    "df_final_1['date_hour'].value_counts()"
   ]
  },
  {
   "cell_type": "code",
   "execution_count": 34,
   "id": "acknowledged-pillow",
   "metadata": {
    "colab": {
     "base_uri": "https://localhost:8080/",
     "height": 196
    },
    "id": "acknowledged-pillow",
    "outputId": "2df3891a-05df-4347-a0f6-1b50117f6fca",
    "scrolled": true
   },
   "outputs": [
    {
     "data": {
      "text/html": [
       "<div>\n",
       "<style scoped>\n",
       "    .dataframe tbody tr th:only-of-type {\n",
       "        vertical-align: middle;\n",
       "    }\n",
       "\n",
       "    .dataframe tbody tr th {\n",
       "        vertical-align: top;\n",
       "    }\n",
       "\n",
       "    .dataframe thead th {\n",
       "        text-align: right;\n",
       "    }\n",
       "</style>\n",
       "<table border=\"1\" class=\"dataframe\">\n",
       "  <thead>\n",
       "    <tr style=\"text-align: right;\">\n",
       "      <th></th>\n",
       "      <th>Data</th>\n",
       "      <th>Ora</th>\n",
       "      <th>C1</th>\n",
       "      <th>C2</th>\n",
       "      <th>C3</th>\n",
       "      <th>C4</th>\n",
       "      <th>C5</th>\n",
       "      <th>date_hour</th>\n",
       "      <th>day</th>\n",
       "      <th>Log_Avg</th>\n",
       "      <th>...</th>\n",
       "      <th>data_a</th>\n",
       "      <th>numero_presenze</th>\n",
       "      <th>layer_id</th>\n",
       "      <th>layer_nome</th>\n",
       "      <th>dettaglio(secondi)</th>\n",
       "      <th>time</th>\n",
       "      <th>temp</th>\n",
       "      <th>winds</th>\n",
       "      <th>rainfall_mm</th>\n",
       "      <th>snowfall_mm</th>\n",
       "    </tr>\n",
       "  </thead>\n",
       "  <tbody>\n",
       "    <tr>\n",
       "      <th>0</th>\n",
       "      <td>2018-01-01</td>\n",
       "      <td>0</td>\n",
       "      <td>68.7</td>\n",
       "      <td>56.6</td>\n",
       "      <td>76.0</td>\n",
       "      <td>58.8</td>\n",
       "      <td>66.6</td>\n",
       "      <td>01-01-18 00:00</td>\n",
       "      <td>0</td>\n",
       "      <td>70.253908</td>\n",
       "      <td>...</td>\n",
       "      <td>NaN</td>\n",
       "      <td>NaN</td>\n",
       "      <td>NaN</td>\n",
       "      <td>NaN</td>\n",
       "      <td>NaN</td>\n",
       "      <td>01-01-18 00:00</td>\n",
       "      <td>1.04</td>\n",
       "      <td>0.366667</td>\n",
       "      <td>-0.010</td>\n",
       "      <td>2.6</td>\n",
       "    </tr>\n",
       "    <tr>\n",
       "      <th>1</th>\n",
       "      <td>2018-01-01</td>\n",
       "      <td>1</td>\n",
       "      <td>68.3</td>\n",
       "      <td>53.6</td>\n",
       "      <td>68.2</td>\n",
       "      <td>55.7</td>\n",
       "      <td>65.4</td>\n",
       "      <td>01-01-18 01:00</td>\n",
       "      <td>0</td>\n",
       "      <td>65.424707</td>\n",
       "      <td>...</td>\n",
       "      <td>NaN</td>\n",
       "      <td>NaN</td>\n",
       "      <td>NaN</td>\n",
       "      <td>NaN</td>\n",
       "      <td>NaN</td>\n",
       "      <td>01-01-18 01:00</td>\n",
       "      <td>1.09</td>\n",
       "      <td>0.590000</td>\n",
       "      <td>0.009</td>\n",
       "      <td>2.6</td>\n",
       "    </tr>\n",
       "  </tbody>\n",
       "</table>\n",
       "<p>2 rows × 25 columns</p>\n",
       "</div>"
      ],
      "text/plain": [
       "        Data  Ora    C1    C2    C3    C4    C5       date_hour  day  \\\n",
       "0 2018-01-01    0  68.7  56.6  76.0  58.8  66.6  01-01-18 00:00    0   \n",
       "1 2018-01-01    1  68.3  53.6  68.2  55.7  65.4  01-01-18 01:00    0   \n",
       "\n",
       "     Log_Avg  ... data_a  numero_presenze  layer_id layer_nome  \\\n",
       "0  70.253908  ...    NaN              NaN       NaN        NaN   \n",
       "1  65.424707  ...    NaN              NaN       NaN        NaN   \n",
       "\n",
       "  dettaglio(secondi)            time  temp     winds rainfall_mm  snowfall_mm  \n",
       "0                NaN  01-01-18 00:00  1.04  0.366667      -0.010          2.6  \n",
       "1                NaN  01-01-18 01:00  1.09  0.590000       0.009          2.6  \n",
       "\n",
       "[2 rows x 25 columns]"
      ]
     },
     "execution_count": 34,
     "metadata": {},
     "output_type": "execute_result"
    }
   ],
   "source": [
    "df_final_2 = df_final_1.merge(df_weather, left_on= 'date_hour', right_on= 'time', how='left')\n",
    "df_final_2.head(2)"
   ]
  },
  {
   "cell_type": "code",
   "execution_count": 55,
   "id": "downtown-sandwich",
   "metadata": {},
   "outputs": [
    {
     "data": {
      "text/plain": [
       "22-03-18 05:00    18\n",
       "06-08-18 02:00    18\n",
       "06-06-18 15:00    18\n",
       "15-01-18 17:00    18\n",
       "06-06-18 06:00    18\n",
       "                  ..\n",
       "20-10-18 16:00     1\n",
       "07-04-18 07:00     1\n",
       "30-11-18 22:00     1\n",
       "28-04-18 12:00     1\n",
       "07-12-18 03:00     1\n",
       "Name: date_hour, Length: 8760, dtype: int64"
      ]
     },
     "execution_count": 55,
     "metadata": {},
     "output_type": "execute_result"
    }
   ],
   "source": [
    "df_final_2['date_hour'].value_counts()"
   ]
  },
  {
   "cell_type": "code",
   "execution_count": 35,
   "id": "u23jnrrGJKz6",
   "metadata": {
    "colab": {
     "base_uri": "https://localhost:8080/",
     "height": 250
    },
    "id": "u23jnrrGJKz6",
    "outputId": "ab411189-d643-470a-c26c-d4146452edf7"
   },
   "outputs": [
    {
     "data": {
      "text/html": [
       "<div>\n",
       "<style scoped>\n",
       "    .dataframe tbody tr th:only-of-type {\n",
       "        vertical-align: middle;\n",
       "    }\n",
       "\n",
       "    .dataframe tbody tr th {\n",
       "        vertical-align: top;\n",
       "    }\n",
       "\n",
       "    .dataframe thead th {\n",
       "        text-align: right;\n",
       "    }\n",
       "</style>\n",
       "<table border=\"1\" class=\"dataframe\">\n",
       "  <thead>\n",
       "    <tr style=\"text-align: right;\">\n",
       "      <th></th>\n",
       "      <th>Data</th>\n",
       "      <th>Ora</th>\n",
       "      <th>C1</th>\n",
       "      <th>C2</th>\n",
       "      <th>C3</th>\n",
       "      <th>C4</th>\n",
       "      <th>C5</th>\n",
       "      <th>date_hour</th>\n",
       "      <th>day</th>\n",
       "      <th>Log_Avg</th>\n",
       "      <th>...</th>\n",
       "      <th>layer_id</th>\n",
       "      <th>layer_nome</th>\n",
       "      <th>dettaglio(secondi)</th>\n",
       "      <th>time</th>\n",
       "      <th>temp</th>\n",
       "      <th>winds</th>\n",
       "      <th>rainfall_mm</th>\n",
       "      <th>snowfall_mm</th>\n",
       "      <th>date_time</th>\n",
       "      <th>is_match</th>\n",
       "    </tr>\n",
       "  </thead>\n",
       "  <tbody>\n",
       "    <tr>\n",
       "      <th>0</th>\n",
       "      <td>2018-01-01</td>\n",
       "      <td>0</td>\n",
       "      <td>68.7</td>\n",
       "      <td>56.6</td>\n",
       "      <td>76.0</td>\n",
       "      <td>58.8</td>\n",
       "      <td>66.6</td>\n",
       "      <td>01-01-18 00:00</td>\n",
       "      <td>0</td>\n",
       "      <td>70.253908</td>\n",
       "      <td>...</td>\n",
       "      <td>NaN</td>\n",
       "      <td>NaN</td>\n",
       "      <td>NaN</td>\n",
       "      <td>01-01-18 00:00</td>\n",
       "      <td>1.04</td>\n",
       "      <td>0.366667</td>\n",
       "      <td>-0.010</td>\n",
       "      <td>2.6</td>\n",
       "      <td>01-01-18 00:00</td>\n",
       "      <td>0.0</td>\n",
       "    </tr>\n",
       "    <tr>\n",
       "      <th>1</th>\n",
       "      <td>2018-01-01</td>\n",
       "      <td>1</td>\n",
       "      <td>68.3</td>\n",
       "      <td>53.6</td>\n",
       "      <td>68.2</td>\n",
       "      <td>55.7</td>\n",
       "      <td>65.4</td>\n",
       "      <td>01-01-18 01:00</td>\n",
       "      <td>0</td>\n",
       "      <td>65.424707</td>\n",
       "      <td>...</td>\n",
       "      <td>NaN</td>\n",
       "      <td>NaN</td>\n",
       "      <td>NaN</td>\n",
       "      <td>01-01-18 01:00</td>\n",
       "      <td>1.09</td>\n",
       "      <td>0.590000</td>\n",
       "      <td>0.009</td>\n",
       "      <td>2.6</td>\n",
       "      <td>01-01-18 01:00</td>\n",
       "      <td>0.0</td>\n",
       "    </tr>\n",
       "  </tbody>\n",
       "</table>\n",
       "<p>2 rows × 27 columns</p>\n",
       "</div>"
      ],
      "text/plain": [
       "        Data  Ora    C1    C2    C3    C4    C5       date_hour  day  \\\n",
       "0 2018-01-01    0  68.7  56.6  76.0  58.8  66.6  01-01-18 00:00    0   \n",
       "1 2018-01-01    1  68.3  53.6  68.2  55.7  65.4  01-01-18 01:00    0   \n",
       "\n",
       "     Log_Avg  ... layer_id  layer_nome  dettaglio(secondi)            time  \\\n",
       "0  70.253908  ...      NaN         NaN                 NaN  01-01-18 00:00   \n",
       "1  65.424707  ...      NaN         NaN                 NaN  01-01-18 01:00   \n",
       "\n",
       "   temp     winds  rainfall_mm snowfall_mm       date_time  is_match  \n",
       "0  1.04  0.366667       -0.010         2.6  01-01-18 00:00       0.0  \n",
       "1  1.09  0.590000        0.009         2.6  01-01-18 01:00       0.0  \n",
       "\n",
       "[2 rows x 27 columns]"
      ]
     },
     "execution_count": 35,
     "metadata": {},
     "output_type": "execute_result"
    }
   ],
   "source": [
    "df_final_3 = df_final_2.merge(df_matches, left_on= 'date_hour', right_on= 'date_time', how='left')\n",
    "df_final_3.head(2)"
   ]
  },
  {
   "cell_type": "code",
   "execution_count": 36,
   "id": "tN5o69N-JTdt",
   "metadata": {
    "id": "tN5o69N-JTdt"
   },
   "outputs": [],
   "source": [
    "df_final_4 = df_final_3.merge(df_opening_hours, left_on= 'date_hour', right_on= 'date_time', how='left')"
   ]
  },
  {
   "cell_type": "code",
   "execution_count": 37,
   "id": "settled-vulnerability",
   "metadata": {
    "colab": {
     "base_uri": "https://localhost:8080/"
    },
    "id": "settled-vulnerability",
    "outputId": "301d53a8-b550-455b-d118-3a5e08e1da6f"
   },
   "outputs": [
    {
     "data": {
      "text/plain": [
       "Index(['Data', 'Ora', 'C1', 'C2', 'C3', 'C4', 'C5', 'date_hour', 'day',\n",
       "       'Log_Avg', 'date_time_x', 'No. of Visitors', 'index', 'cluster',\n",
       "       'date_time_y', 'data_a', 'numero_presenze', 'layer_id', 'layer_nome',\n",
       "       'dettaglio(secondi)', 'time', 'temp', 'winds', 'rainfall_mm',\n",
       "       'snowfall_mm', 'date_time_x', 'is_match', 'date_time_y', 'count_close',\n",
       "       'count_open'],\n",
       "      dtype='object')"
      ]
     },
     "execution_count": 37,
     "metadata": {},
     "output_type": "execute_result"
    }
   ],
   "source": [
    "df_final_4.columns"
   ]
  },
  {
   "cell_type": "code",
   "execution_count": 38,
   "id": "biblical-chinese",
   "metadata": {
    "id": "biblical-chinese"
   },
   "outputs": [],
   "source": [
    "df_final_5 = df_final_4.drop(columns = ['date_time_x','date_time_y', 'time'] )"
   ]
  },
  {
   "cell_type": "code",
   "execution_count": 39,
   "id": "typical-headline",
   "metadata": {
    "colab": {
     "base_uri": "https://localhost:8080/"
    },
    "id": "typical-headline",
    "outputId": "1cd84393-f1ac-4ac9-d785-0c6cd9d7d777"
   },
   "outputs": [
    {
     "name": "stderr",
     "output_type": "stream",
     "text": [
      "<ipython-input-39-e5f096bb7765>:1: SettingWithCopyWarning: \n",
      "A value is trying to be set on a copy of a slice from a DataFrame.\n",
      "Try using .loc[row_indexer,col_indexer] = value instead\n",
      "\n",
      "See the caveats in the documentation: https://pandas.pydata.org/pandas-docs/stable/user_guide/indexing.html#returning-a-view-versus-a-copy\n",
      "  df_final_5['date_hour'] = pd.to_datetime(df_final_5['date_hour'])\n",
      "<ipython-input-39-e5f096bb7765>:2: SettingWithCopyWarning: \n",
      "A value is trying to be set on a copy of a slice from a DataFrame.\n",
      "Try using .loc[row_indexer,col_indexer] = value instead\n",
      "\n",
      "See the caveats in the documentation: https://pandas.pydata.org/pandas-docs/stable/user_guide/indexing.html#returning-a-view-versus-a-copy\n",
      "  df_final_5['date'] = df_final_5['date_hour'].dt.strftime(\"%d-%m-%y\")\n"
     ]
    }
   ],
   "source": [
    "df_final_5['date_hour'] = pd.to_datetime(df_final_5['date_hour'])\n",
    "df_final_5['date'] = df_final_5['date_hour'].dt.strftime(\"%d-%m-%y\")"
   ]
  },
  {
   "cell_type": "code",
   "execution_count": 40,
   "id": "decimal-functionality",
   "metadata": {
    "colab": {
     "base_uri": "https://localhost:8080/",
     "height": 216
    },
    "id": "decimal-functionality",
    "outputId": "9c7fe96b-67af-495a-86cf-802e6d7867cb"
   },
   "outputs": [
    {
     "data": {
      "text/html": [
       "<div>\n",
       "<style scoped>\n",
       "    .dataframe tbody tr th:only-of-type {\n",
       "        vertical-align: middle;\n",
       "    }\n",
       "\n",
       "    .dataframe tbody tr th {\n",
       "        vertical-align: top;\n",
       "    }\n",
       "\n",
       "    .dataframe thead th {\n",
       "        text-align: right;\n",
       "    }\n",
       "</style>\n",
       "<table border=\"1\" class=\"dataframe\">\n",
       "  <thead>\n",
       "    <tr style=\"text-align: right;\">\n",
       "      <th></th>\n",
       "      <th>Data</th>\n",
       "      <th>Ora</th>\n",
       "      <th>C1</th>\n",
       "      <th>C2</th>\n",
       "      <th>C3</th>\n",
       "      <th>C4</th>\n",
       "      <th>C5</th>\n",
       "      <th>date_hour</th>\n",
       "      <th>day</th>\n",
       "      <th>Log_Avg</th>\n",
       "      <th>...</th>\n",
       "      <th>layer_nome</th>\n",
       "      <th>dettaglio(secondi)</th>\n",
       "      <th>temp</th>\n",
       "      <th>winds</th>\n",
       "      <th>rainfall_mm</th>\n",
       "      <th>snowfall_mm</th>\n",
       "      <th>is_match</th>\n",
       "      <th>count_close</th>\n",
       "      <th>count_open</th>\n",
       "      <th>date</th>\n",
       "    </tr>\n",
       "  </thead>\n",
       "  <tbody>\n",
       "    <tr>\n",
       "      <th>0</th>\n",
       "      <td>2018-01-01</td>\n",
       "      <td>0</td>\n",
       "      <td>68.7</td>\n",
       "      <td>56.6</td>\n",
       "      <td>76.0</td>\n",
       "      <td>58.8</td>\n",
       "      <td>66.6</td>\n",
       "      <td>2018-01-01 00:00:00</td>\n",
       "      <td>0</td>\n",
       "      <td>70.253908</td>\n",
       "      <td>...</td>\n",
       "      <td>NaN</td>\n",
       "      <td>NaN</td>\n",
       "      <td>1.04</td>\n",
       "      <td>0.366667</td>\n",
       "      <td>-0.010</td>\n",
       "      <td>2.6</td>\n",
       "      <td>0.0</td>\n",
       "      <td>66.0</td>\n",
       "      <td>NaN</td>\n",
       "      <td>01-01-18</td>\n",
       "    </tr>\n",
       "    <tr>\n",
       "      <th>1</th>\n",
       "      <td>2018-01-01</td>\n",
       "      <td>1</td>\n",
       "      <td>68.3</td>\n",
       "      <td>53.6</td>\n",
       "      <td>68.2</td>\n",
       "      <td>55.7</td>\n",
       "      <td>65.4</td>\n",
       "      <td>2018-01-01 01:00:00</td>\n",
       "      <td>0</td>\n",
       "      <td>65.424707</td>\n",
       "      <td>...</td>\n",
       "      <td>NaN</td>\n",
       "      <td>NaN</td>\n",
       "      <td>1.09</td>\n",
       "      <td>0.590000</td>\n",
       "      <td>0.009</td>\n",
       "      <td>2.6</td>\n",
       "      <td>0.0</td>\n",
       "      <td>6.0</td>\n",
       "      <td>NaN</td>\n",
       "      <td>01-01-18</td>\n",
       "    </tr>\n",
       "  </tbody>\n",
       "</table>\n",
       "<p>2 rows × 26 columns</p>\n",
       "</div>"
      ],
      "text/plain": [
       "        Data  Ora    C1    C2    C3    C4    C5           date_hour  day  \\\n",
       "0 2018-01-01    0  68.7  56.6  76.0  58.8  66.6 2018-01-01 00:00:00    0   \n",
       "1 2018-01-01    1  68.3  53.6  68.2  55.7  65.4 2018-01-01 01:00:00    0   \n",
       "\n",
       "     Log_Avg  ...  layer_nome  dettaglio(secondi)  temp     winds  \\\n",
       "0  70.253908  ...         NaN                 NaN  1.04  0.366667   \n",
       "1  65.424707  ...         NaN                 NaN  1.09  0.590000   \n",
       "\n",
       "   rainfall_mm snowfall_mm is_match  count_close  count_open      date  \n",
       "0       -0.010         2.6      0.0         66.0         NaN  01-01-18  \n",
       "1        0.009         2.6      0.0          6.0         NaN  01-01-18  \n",
       "\n",
       "[2 rows x 26 columns]"
      ]
     },
     "execution_count": 40,
     "metadata": {},
     "output_type": "execute_result"
    }
   ],
   "source": [
    "df_final_5.head(2)"
   ]
  },
  {
   "cell_type": "code",
   "execution_count": 41,
   "id": "prepared-weather",
   "metadata": {
    "colab": {
     "base_uri": "https://localhost:8080/",
     "height": 1000
    },
    "id": "prepared-weather",
    "outputId": "9c4f8aea-72f1-4b4d-ec23-18025c0e0d6e"
   },
   "outputs": [
    {
     "data": {
      "text/html": [
       "<div>\n",
       "<style scoped>\n",
       "    .dataframe tbody tr th:only-of-type {\n",
       "        vertical-align: middle;\n",
       "    }\n",
       "\n",
       "    .dataframe tbody tr th {\n",
       "        vertical-align: top;\n",
       "    }\n",
       "\n",
       "    .dataframe thead th {\n",
       "        text-align: right;\n",
       "    }\n",
       "</style>\n",
       "<table border=\"1\" class=\"dataframe\">\n",
       "  <thead>\n",
       "    <tr style=\"text-align: right;\">\n",
       "      <th></th>\n",
       "      <th>Data</th>\n",
       "      <th>Ora</th>\n",
       "      <th>C1</th>\n",
       "      <th>C2</th>\n",
       "      <th>C3</th>\n",
       "      <th>C4</th>\n",
       "      <th>C5</th>\n",
       "      <th>date_hour</th>\n",
       "      <th>day</th>\n",
       "      <th>Log_Avg</th>\n",
       "      <th>...</th>\n",
       "      <th>rainfall_mm</th>\n",
       "      <th>snowfall_mm</th>\n",
       "      <th>is_match</th>\n",
       "      <th>count_close</th>\n",
       "      <th>count_open</th>\n",
       "      <th>date</th>\n",
       "      <th>Date</th>\n",
       "      <th>Day</th>\n",
       "      <th>Holiday</th>\n",
       "      <th>isHoliday</th>\n",
       "    </tr>\n",
       "  </thead>\n",
       "  <tbody>\n",
       "    <tr>\n",
       "      <th>0</th>\n",
       "      <td>2018-01-01</td>\n",
       "      <td>0</td>\n",
       "      <td>68.7</td>\n",
       "      <td>56.6</td>\n",
       "      <td>76.0</td>\n",
       "      <td>58.8</td>\n",
       "      <td>66.6</td>\n",
       "      <td>2018-01-01 00:00:00</td>\n",
       "      <td>0</td>\n",
       "      <td>70.253908</td>\n",
       "      <td>...</td>\n",
       "      <td>-0.010</td>\n",
       "      <td>2.600000</td>\n",
       "      <td>0.0</td>\n",
       "      <td>66.0</td>\n",
       "      <td>NaN</td>\n",
       "      <td>01-01-18</td>\n",
       "      <td>NaN</td>\n",
       "      <td>NaN</td>\n",
       "      <td>NaN</td>\n",
       "      <td>0</td>\n",
       "    </tr>\n",
       "    <tr>\n",
       "      <th>1</th>\n",
       "      <td>2018-01-01</td>\n",
       "      <td>1</td>\n",
       "      <td>68.3</td>\n",
       "      <td>53.6</td>\n",
       "      <td>68.2</td>\n",
       "      <td>55.7</td>\n",
       "      <td>65.4</td>\n",
       "      <td>2018-01-01 01:00:00</td>\n",
       "      <td>0</td>\n",
       "      <td>65.424707</td>\n",
       "      <td>...</td>\n",
       "      <td>0.009</td>\n",
       "      <td>2.600000</td>\n",
       "      <td>0.0</td>\n",
       "      <td>6.0</td>\n",
       "      <td>NaN</td>\n",
       "      <td>01-01-18</td>\n",
       "      <td>NaN</td>\n",
       "      <td>NaN</td>\n",
       "      <td>NaN</td>\n",
       "      <td>0</td>\n",
       "    </tr>\n",
       "    <tr>\n",
       "      <th>2</th>\n",
       "      <td>2018-01-01</td>\n",
       "      <td>2</td>\n",
       "      <td>59.8</td>\n",
       "      <td>51.2</td>\n",
       "      <td>64.4</td>\n",
       "      <td>53.0</td>\n",
       "      <td>64.4</td>\n",
       "      <td>2018-01-01 02:00:00</td>\n",
       "      <td>0</td>\n",
       "      <td>61.332068</td>\n",
       "      <td>...</td>\n",
       "      <td>0.008</td>\n",
       "      <td>2.266667</td>\n",
       "      <td>0.0</td>\n",
       "      <td>12.0</td>\n",
       "      <td>NaN</td>\n",
       "      <td>01-01-18</td>\n",
       "      <td>NaN</td>\n",
       "      <td>NaN</td>\n",
       "      <td>NaN</td>\n",
       "      <td>0</td>\n",
       "    </tr>\n",
       "    <tr>\n",
       "      <th>3</th>\n",
       "      <td>2018-01-01</td>\n",
       "      <td>3</td>\n",
       "      <td>67.4</td>\n",
       "      <td>47.5</td>\n",
       "      <td>67.5</td>\n",
       "      <td>48.7</td>\n",
       "      <td>61.8</td>\n",
       "      <td>2018-01-01 03:00:00</td>\n",
       "      <td>0</td>\n",
       "      <td>64.069742</td>\n",
       "      <td>...</td>\n",
       "      <td>0.006</td>\n",
       "      <td>2.266667</td>\n",
       "      <td>0.0</td>\n",
       "      <td>6.0</td>\n",
       "      <td>NaN</td>\n",
       "      <td>01-01-18</td>\n",
       "      <td>NaN</td>\n",
       "      <td>NaN</td>\n",
       "      <td>NaN</td>\n",
       "      <td>0</td>\n",
       "    </tr>\n",
       "    <tr>\n",
       "      <th>4</th>\n",
       "      <td>2018-01-01</td>\n",
       "      <td>4</td>\n",
       "      <td>68.0</td>\n",
       "      <td>47.6</td>\n",
       "      <td>64.5</td>\n",
       "      <td>49.0</td>\n",
       "      <td>60.5</td>\n",
       "      <td>2018-01-01 04:00:00</td>\n",
       "      <td>0</td>\n",
       "      <td>63.175181</td>\n",
       "      <td>...</td>\n",
       "      <td>-0.011</td>\n",
       "      <td>2.300000</td>\n",
       "      <td>0.0</td>\n",
       "      <td>NaN</td>\n",
       "      <td>NaN</td>\n",
       "      <td>01-01-18</td>\n",
       "      <td>NaN</td>\n",
       "      <td>NaN</td>\n",
       "      <td>NaN</td>\n",
       "      <td>0</td>\n",
       "    </tr>\n",
       "    <tr>\n",
       "      <th>5</th>\n",
       "      <td>2018-01-01</td>\n",
       "      <td>5</td>\n",
       "      <td>55.4</td>\n",
       "      <td>48.3</td>\n",
       "      <td>56.7</td>\n",
       "      <td>50.3</td>\n",
       "      <td>59.5</td>\n",
       "      <td>2018-01-01 05:00:00</td>\n",
       "      <td>0</td>\n",
       "      <td>55.752994</td>\n",
       "      <td>...</td>\n",
       "      <td>-0.014</td>\n",
       "      <td>2.133333</td>\n",
       "      <td>0.0</td>\n",
       "      <td>NaN</td>\n",
       "      <td>NaN</td>\n",
       "      <td>01-01-18</td>\n",
       "      <td>NaN</td>\n",
       "      <td>NaN</td>\n",
       "      <td>NaN</td>\n",
       "      <td>0</td>\n",
       "    </tr>\n",
       "    <tr>\n",
       "      <th>6</th>\n",
       "      <td>2018-01-01</td>\n",
       "      <td>6</td>\n",
       "      <td>57.5</td>\n",
       "      <td>52.2</td>\n",
       "      <td>53.2</td>\n",
       "      <td>55.4</td>\n",
       "      <td>58.2</td>\n",
       "      <td>2018-01-01 06:00:00</td>\n",
       "      <td>0</td>\n",
       "      <td>55.898737</td>\n",
       "      <td>...</td>\n",
       "      <td>-0.011</td>\n",
       "      <td>2.166667</td>\n",
       "      <td>0.0</td>\n",
       "      <td>NaN</td>\n",
       "      <td>6.0</td>\n",
       "      <td>01-01-18</td>\n",
       "      <td>NaN</td>\n",
       "      <td>NaN</td>\n",
       "      <td>NaN</td>\n",
       "      <td>0</td>\n",
       "    </tr>\n",
       "    <tr>\n",
       "      <th>7</th>\n",
       "      <td>2018-01-01</td>\n",
       "      <td>7</td>\n",
       "      <td>51.8</td>\n",
       "      <td>59.2</td>\n",
       "      <td>66.3</td>\n",
       "      <td>62.0</td>\n",
       "      <td>57.0</td>\n",
       "      <td>2018-01-01 07:00:00</td>\n",
       "      <td>0</td>\n",
       "      <td>61.664298</td>\n",
       "      <td>...</td>\n",
       "      <td>-0.014</td>\n",
       "      <td>2.333333</td>\n",
       "      <td>0.0</td>\n",
       "      <td>NaN</td>\n",
       "      <td>18.0</td>\n",
       "      <td>01-01-18</td>\n",
       "      <td>NaN</td>\n",
       "      <td>NaN</td>\n",
       "      <td>NaN</td>\n",
       "      <td>0</td>\n",
       "    </tr>\n",
       "    <tr>\n",
       "      <th>8</th>\n",
       "      <td>2018-01-01</td>\n",
       "      <td>8</td>\n",
       "      <td>63.0</td>\n",
       "      <td>61.5</td>\n",
       "      <td>63.4</td>\n",
       "      <td>63.3</td>\n",
       "      <td>55.8</td>\n",
       "      <td>2018-01-01 08:00:00</td>\n",
       "      <td>0</td>\n",
       "      <td>62.102496</td>\n",
       "      <td>...</td>\n",
       "      <td>-0.012</td>\n",
       "      <td>2.000000</td>\n",
       "      <td>0.0</td>\n",
       "      <td>NaN</td>\n",
       "      <td>12.0</td>\n",
       "      <td>01-01-18</td>\n",
       "      <td>NaN</td>\n",
       "      <td>NaN</td>\n",
       "      <td>NaN</td>\n",
       "      <td>0</td>\n",
       "    </tr>\n",
       "    <tr>\n",
       "      <th>9</th>\n",
       "      <td>2018-01-01</td>\n",
       "      <td>9</td>\n",
       "      <td>53.8</td>\n",
       "      <td>61.0</td>\n",
       "      <td>64.7</td>\n",
       "      <td>63.8</td>\n",
       "      <td>56.5</td>\n",
       "      <td>2018-01-01 09:00:00</td>\n",
       "      <td>0</td>\n",
       "      <td>61.640871</td>\n",
       "      <td>...</td>\n",
       "      <td>-0.012</td>\n",
       "      <td>2.433333</td>\n",
       "      <td>0.0</td>\n",
       "      <td>NaN</td>\n",
       "      <td>NaN</td>\n",
       "      <td>01-01-18</td>\n",
       "      <td>NaN</td>\n",
       "      <td>NaN</td>\n",
       "      <td>NaN</td>\n",
       "      <td>0</td>\n",
       "    </tr>\n",
       "    <tr>\n",
       "      <th>10</th>\n",
       "      <td>2018-01-01</td>\n",
       "      <td>10</td>\n",
       "      <td>57.9</td>\n",
       "      <td>60.6</td>\n",
       "      <td>64.8</td>\n",
       "      <td>62.7</td>\n",
       "      <td>58.1</td>\n",
       "      <td>2018-01-01 10:00:00</td>\n",
       "      <td>0</td>\n",
       "      <td>61.639030</td>\n",
       "      <td>...</td>\n",
       "      <td>-0.012</td>\n",
       "      <td>3.333333</td>\n",
       "      <td>0.0</td>\n",
       "      <td>NaN</td>\n",
       "      <td>NaN</td>\n",
       "      <td>01-01-18</td>\n",
       "      <td>NaN</td>\n",
       "      <td>NaN</td>\n",
       "      <td>NaN</td>\n",
       "      <td>0</td>\n",
       "    </tr>\n",
       "    <tr>\n",
       "      <th>11</th>\n",
       "      <td>2018-01-01</td>\n",
       "      <td>11</td>\n",
       "      <td>59.4</td>\n",
       "      <td>60.8</td>\n",
       "      <td>66.1</td>\n",
       "      <td>62.5</td>\n",
       "      <td>60.7</td>\n",
       "      <td>2018-01-01 11:00:00</td>\n",
       "      <td>0</td>\n",
       "      <td>62.600813</td>\n",
       "      <td>...</td>\n",
       "      <td>-0.013</td>\n",
       "      <td>4.666667</td>\n",
       "      <td>0.0</td>\n",
       "      <td>NaN</td>\n",
       "      <td>6.0</td>\n",
       "      <td>01-01-18</td>\n",
       "      <td>NaN</td>\n",
       "      <td>NaN</td>\n",
       "      <td>NaN</td>\n",
       "      <td>0</td>\n",
       "    </tr>\n",
       "    <tr>\n",
       "      <th>12</th>\n",
       "      <td>2018-01-01</td>\n",
       "      <td>12</td>\n",
       "      <td>58.9</td>\n",
       "      <td>60.9</td>\n",
       "      <td>63.8</td>\n",
       "      <td>62.5</td>\n",
       "      <td>62.0</td>\n",
       "      <td>2018-01-01 12:00:00</td>\n",
       "      <td>0</td>\n",
       "      <td>61.913684</td>\n",
       "      <td>...</td>\n",
       "      <td>-0.008</td>\n",
       "      <td>6.333333</td>\n",
       "      <td>0.0</td>\n",
       "      <td>NaN</td>\n",
       "      <td>72.0</td>\n",
       "      <td>01-01-18</td>\n",
       "      <td>NaN</td>\n",
       "      <td>NaN</td>\n",
       "      <td>NaN</td>\n",
       "      <td>0</td>\n",
       "    </tr>\n",
       "    <tr>\n",
       "      <th>13</th>\n",
       "      <td>2018-01-01</td>\n",
       "      <td>13</td>\n",
       "      <td>58.5</td>\n",
       "      <td>60.5</td>\n",
       "      <td>60.7</td>\n",
       "      <td>61.7</td>\n",
       "      <td>61.4</td>\n",
       "      <td>2018-01-01 13:00:00</td>\n",
       "      <td>0</td>\n",
       "      <td>60.692502</td>\n",
       "      <td>...</td>\n",
       "      <td>-0.009</td>\n",
       "      <td>6.166667</td>\n",
       "      <td>0.0</td>\n",
       "      <td>NaN</td>\n",
       "      <td>NaN</td>\n",
       "      <td>01-01-18</td>\n",
       "      <td>NaN</td>\n",
       "      <td>NaN</td>\n",
       "      <td>NaN</td>\n",
       "      <td>0</td>\n",
       "    </tr>\n",
       "    <tr>\n",
       "      <th>14</th>\n",
       "      <td>2018-01-01</td>\n",
       "      <td>14</td>\n",
       "      <td>57.7</td>\n",
       "      <td>61.0</td>\n",
       "      <td>61.5</td>\n",
       "      <td>61.8</td>\n",
       "      <td>59.6</td>\n",
       "      <td>2018-01-01 14:00:00</td>\n",
       "      <td>0</td>\n",
       "      <td>60.558276</td>\n",
       "      <td>...</td>\n",
       "      <td>-0.009</td>\n",
       "      <td>5.366667</td>\n",
       "      <td>0.0</td>\n",
       "      <td>24.0</td>\n",
       "      <td>NaN</td>\n",
       "      <td>01-01-18</td>\n",
       "      <td>NaN</td>\n",
       "      <td>NaN</td>\n",
       "      <td>NaN</td>\n",
       "      <td>0</td>\n",
       "    </tr>\n",
       "    <tr>\n",
       "      <th>15</th>\n",
       "      <td>2018-01-01</td>\n",
       "      <td>15</td>\n",
       "      <td>57.5</td>\n",
       "      <td>61.0</td>\n",
       "      <td>61.7</td>\n",
       "      <td>62.2</td>\n",
       "      <td>61.0</td>\n",
       "      <td>2018-01-01 15:00:00</td>\n",
       "      <td>0</td>\n",
       "      <td>60.947427</td>\n",
       "      <td>...</td>\n",
       "      <td>-0.010</td>\n",
       "      <td>4.566667</td>\n",
       "      <td>0.0</td>\n",
       "      <td>48.0</td>\n",
       "      <td>NaN</td>\n",
       "      <td>01-01-18</td>\n",
       "      <td>NaN</td>\n",
       "      <td>NaN</td>\n",
       "      <td>NaN</td>\n",
       "      <td>0</td>\n",
       "    </tr>\n",
       "    <tr>\n",
       "      <th>16</th>\n",
       "      <td>2018-01-01</td>\n",
       "      <td>16</td>\n",
       "      <td>64.2</td>\n",
       "      <td>61.1</td>\n",
       "      <td>60.9</td>\n",
       "      <td>62.4</td>\n",
       "      <td>62.2</td>\n",
       "      <td>2018-01-01 16:00:00</td>\n",
       "      <td>0</td>\n",
       "      <td>62.328017</td>\n",
       "      <td>...</td>\n",
       "      <td>-0.009</td>\n",
       "      <td>3.833333</td>\n",
       "      <td>0.0</td>\n",
       "      <td>NaN</td>\n",
       "      <td>NaN</td>\n",
       "      <td>01-01-18</td>\n",
       "      <td>NaN</td>\n",
       "      <td>NaN</td>\n",
       "      <td>NaN</td>\n",
       "      <td>0</td>\n",
       "    </tr>\n",
       "    <tr>\n",
       "      <th>17</th>\n",
       "      <td>2018-01-01</td>\n",
       "      <td>17</td>\n",
       "      <td>60.4</td>\n",
       "      <td>60.4</td>\n",
       "      <td>61.1</td>\n",
       "      <td>61.7</td>\n",
       "      <td>62.4</td>\n",
       "      <td>2018-01-01 17:00:00</td>\n",
       "      <td>0</td>\n",
       "      <td>61.269826</td>\n",
       "      <td>...</td>\n",
       "      <td>-0.011</td>\n",
       "      <td>4.066667</td>\n",
       "      <td>0.0</td>\n",
       "      <td>NaN</td>\n",
       "      <td>6.0</td>\n",
       "      <td>01-01-18</td>\n",
       "      <td>NaN</td>\n",
       "      <td>NaN</td>\n",
       "      <td>NaN</td>\n",
       "      <td>0</td>\n",
       "    </tr>\n",
       "    <tr>\n",
       "      <th>18</th>\n",
       "      <td>2018-01-01</td>\n",
       "      <td>18</td>\n",
       "      <td>60.7</td>\n",
       "      <td>60.9</td>\n",
       "      <td>64.0</td>\n",
       "      <td>62.2</td>\n",
       "      <td>61.7</td>\n",
       "      <td>2018-01-01 18:00:00</td>\n",
       "      <td>0</td>\n",
       "      <td>62.071359</td>\n",
       "      <td>...</td>\n",
       "      <td>-0.015</td>\n",
       "      <td>4.133333</td>\n",
       "      <td>0.0</td>\n",
       "      <td>6.0</td>\n",
       "      <td>18.0</td>\n",
       "      <td>01-01-18</td>\n",
       "      <td>NaN</td>\n",
       "      <td>NaN</td>\n",
       "      <td>NaN</td>\n",
       "      <td>0</td>\n",
       "    </tr>\n",
       "    <tr>\n",
       "      <th>19</th>\n",
       "      <td>2018-01-01</td>\n",
       "      <td>19</td>\n",
       "      <td>60.0</td>\n",
       "      <td>60.6</td>\n",
       "      <td>61.2</td>\n",
       "      <td>62.1</td>\n",
       "      <td>62.2</td>\n",
       "      <td>2018-01-01 19:00:00</td>\n",
       "      <td>0</td>\n",
       "      <td>61.301927</td>\n",
       "      <td>...</td>\n",
       "      <td>-0.019</td>\n",
       "      <td>3.733333</td>\n",
       "      <td>0.0</td>\n",
       "      <td>6.0</td>\n",
       "      <td>84.0</td>\n",
       "      <td>01-01-18</td>\n",
       "      <td>NaN</td>\n",
       "      <td>NaN</td>\n",
       "      <td>NaN</td>\n",
       "      <td>0</td>\n",
       "    </tr>\n",
       "    <tr>\n",
       "      <th>20</th>\n",
       "      <td>2018-01-01</td>\n",
       "      <td>20</td>\n",
       "      <td>59.4</td>\n",
       "      <td>59.1</td>\n",
       "      <td>59.4</td>\n",
       "      <td>61.5</td>\n",
       "      <td>60.8</td>\n",
       "      <td>2018-01-01 20:00:00</td>\n",
       "      <td>0</td>\n",
       "      <td>60.144835</td>\n",
       "      <td>...</td>\n",
       "      <td>-0.015</td>\n",
       "      <td>3.433333</td>\n",
       "      <td>0.0</td>\n",
       "      <td>NaN</td>\n",
       "      <td>6.0</td>\n",
       "      <td>01-01-18</td>\n",
       "      <td>NaN</td>\n",
       "      <td>NaN</td>\n",
       "      <td>NaN</td>\n",
       "      <td>0</td>\n",
       "    </tr>\n",
       "    <tr>\n",
       "      <th>21</th>\n",
       "      <td>2018-01-01</td>\n",
       "      <td>21</td>\n",
       "      <td>57.8</td>\n",
       "      <td>57.8</td>\n",
       "      <td>57.9</td>\n",
       "      <td>60.3</td>\n",
       "      <td>59.6</td>\n",
       "      <td>2018-01-01 21:00:00</td>\n",
       "      <td>0</td>\n",
       "      <td>58.814125</td>\n",
       "      <td>...</td>\n",
       "      <td>-0.016</td>\n",
       "      <td>3.100000</td>\n",
       "      <td>0.0</td>\n",
       "      <td>6.0</td>\n",
       "      <td>NaN</td>\n",
       "      <td>01-01-18</td>\n",
       "      <td>NaN</td>\n",
       "      <td>NaN</td>\n",
       "      <td>NaN</td>\n",
       "      <td>0</td>\n",
       "    </tr>\n",
       "    <tr>\n",
       "      <th>22</th>\n",
       "      <td>2018-01-01</td>\n",
       "      <td>22</td>\n",
       "      <td>58.2</td>\n",
       "      <td>57.4</td>\n",
       "      <td>57.7</td>\n",
       "      <td>59.5</td>\n",
       "      <td>59.0</td>\n",
       "      <td>2018-01-01 22:00:00</td>\n",
       "      <td>0</td>\n",
       "      <td>58.431901</td>\n",
       "      <td>...</td>\n",
       "      <td>-0.017</td>\n",
       "      <td>3.033333</td>\n",
       "      <td>0.0</td>\n",
       "      <td>6.0</td>\n",
       "      <td>6.0</td>\n",
       "      <td>01-01-18</td>\n",
       "      <td>NaN</td>\n",
       "      <td>NaN</td>\n",
       "      <td>NaN</td>\n",
       "      <td>0</td>\n",
       "    </tr>\n",
       "    <tr>\n",
       "      <th>23</th>\n",
       "      <td>2018-01-01</td>\n",
       "      <td>23</td>\n",
       "      <td>56.5</td>\n",
       "      <td>57.9</td>\n",
       "      <td>57.5</td>\n",
       "      <td>59.3</td>\n",
       "      <td>59.0</td>\n",
       "      <td>2018-01-01 23:00:00</td>\n",
       "      <td>0</td>\n",
       "      <td>58.157220</td>\n",
       "      <td>...</td>\n",
       "      <td>-0.019</td>\n",
       "      <td>3.133333</td>\n",
       "      <td>0.0</td>\n",
       "      <td>66.0</td>\n",
       "      <td>NaN</td>\n",
       "      <td>01-01-18</td>\n",
       "      <td>NaN</td>\n",
       "      <td>NaN</td>\n",
       "      <td>NaN</td>\n",
       "      <td>0</td>\n",
       "    </tr>\n",
       "    <tr>\n",
       "      <th>24</th>\n",
       "      <td>2018-02-01</td>\n",
       "      <td>0</td>\n",
       "      <td>55.5</td>\n",
       "      <td>57.9</td>\n",
       "      <td>56.2</td>\n",
       "      <td>60.2</td>\n",
       "      <td>56.4</td>\n",
       "      <td>2018-01-02 00:00:00</td>\n",
       "      <td>3</td>\n",
       "      <td>57.592027</td>\n",
       "      <td>...</td>\n",
       "      <td>NaN</td>\n",
       "      <td>NaN</td>\n",
       "      <td>0.0</td>\n",
       "      <td>60.0</td>\n",
       "      <td>NaN</td>\n",
       "      <td>02-01-18</td>\n",
       "      <td>NaN</td>\n",
       "      <td>NaN</td>\n",
       "      <td>NaN</td>\n",
       "      <td>0</td>\n",
       "    </tr>\n",
       "    <tr>\n",
       "      <th>25</th>\n",
       "      <td>2018-02-01</td>\n",
       "      <td>1</td>\n",
       "      <td>59.2</td>\n",
       "      <td>55.2</td>\n",
       "      <td>54.7</td>\n",
       "      <td>57.4</td>\n",
       "      <td>52.7</td>\n",
       "      <td>2018-01-02 01:00:00</td>\n",
       "      <td>3</td>\n",
       "      <td>56.422202</td>\n",
       "      <td>...</td>\n",
       "      <td>NaN</td>\n",
       "      <td>NaN</td>\n",
       "      <td>0.0</td>\n",
       "      <td>12.0</td>\n",
       "      <td>NaN</td>\n",
       "      <td>02-01-18</td>\n",
       "      <td>NaN</td>\n",
       "      <td>NaN</td>\n",
       "      <td>NaN</td>\n",
       "      <td>0</td>\n",
       "    </tr>\n",
       "    <tr>\n",
       "      <th>26</th>\n",
       "      <td>2018-02-01</td>\n",
       "      <td>2</td>\n",
       "      <td>46.8</td>\n",
       "      <td>52.5</td>\n",
       "      <td>51.0</td>\n",
       "      <td>54.9</td>\n",
       "      <td>51.9</td>\n",
       "      <td>2018-01-02 02:00:00</td>\n",
       "      <td>3</td>\n",
       "      <td>52.124511</td>\n",
       "      <td>...</td>\n",
       "      <td>NaN</td>\n",
       "      <td>NaN</td>\n",
       "      <td>0.0</td>\n",
       "      <td>12.0</td>\n",
       "      <td>NaN</td>\n",
       "      <td>02-01-18</td>\n",
       "      <td>NaN</td>\n",
       "      <td>NaN</td>\n",
       "      <td>NaN</td>\n",
       "      <td>0</td>\n",
       "    </tr>\n",
       "    <tr>\n",
       "      <th>27</th>\n",
       "      <td>2018-02-01</td>\n",
       "      <td>3</td>\n",
       "      <td>47.2</td>\n",
       "      <td>48.4</td>\n",
       "      <td>51.1</td>\n",
       "      <td>50.6</td>\n",
       "      <td>48.7</td>\n",
       "      <td>2018-01-02 03:00:00</td>\n",
       "      <td>3</td>\n",
       "      <td>49.439248</td>\n",
       "      <td>...</td>\n",
       "      <td>NaN</td>\n",
       "      <td>NaN</td>\n",
       "      <td>0.0</td>\n",
       "      <td>6.0</td>\n",
       "      <td>NaN</td>\n",
       "      <td>02-01-18</td>\n",
       "      <td>NaN</td>\n",
       "      <td>NaN</td>\n",
       "      <td>NaN</td>\n",
       "      <td>0</td>\n",
       "    </tr>\n",
       "    <tr>\n",
       "      <th>28</th>\n",
       "      <td>2018-02-01</td>\n",
       "      <td>4</td>\n",
       "      <td>47.5</td>\n",
       "      <td>47.9</td>\n",
       "      <td>51.3</td>\n",
       "      <td>49.6</td>\n",
       "      <td>51.0</td>\n",
       "      <td>2018-01-02 04:00:00</td>\n",
       "      <td>3</td>\n",
       "      <td>49.730202</td>\n",
       "      <td>...</td>\n",
       "      <td>NaN</td>\n",
       "      <td>NaN</td>\n",
       "      <td>0.0</td>\n",
       "      <td>6.0</td>\n",
       "      <td>NaN</td>\n",
       "      <td>02-01-18</td>\n",
       "      <td>NaN</td>\n",
       "      <td>NaN</td>\n",
       "      <td>NaN</td>\n",
       "      <td>0</td>\n",
       "    </tr>\n",
       "    <tr>\n",
       "      <th>29</th>\n",
       "      <td>2018-02-01</td>\n",
       "      <td>5</td>\n",
       "      <td>47.9</td>\n",
       "      <td>49.0</td>\n",
       "      <td>50.9</td>\n",
       "      <td>50.8</td>\n",
       "      <td>56.1</td>\n",
       "      <td>2018-01-02 05:00:00</td>\n",
       "      <td>3</td>\n",
       "      <td>51.996049</td>\n",
       "      <td>...</td>\n",
       "      <td>NaN</td>\n",
       "      <td>NaN</td>\n",
       "      <td>0.0</td>\n",
       "      <td>NaN</td>\n",
       "      <td>NaN</td>\n",
       "      <td>02-01-18</td>\n",
       "      <td>NaN</td>\n",
       "      <td>NaN</td>\n",
       "      <td>NaN</td>\n",
       "      <td>0</td>\n",
       "    </tr>\n",
       "  </tbody>\n",
       "</table>\n",
       "<p>30 rows × 30 columns</p>\n",
       "</div>"
      ],
      "text/plain": [
       "         Data  Ora    C1    C2    C3    C4    C5           date_hour  day  \\\n",
       "0  2018-01-01    0  68.7  56.6  76.0  58.8  66.6 2018-01-01 00:00:00    0   \n",
       "1  2018-01-01    1  68.3  53.6  68.2  55.7  65.4 2018-01-01 01:00:00    0   \n",
       "2  2018-01-01    2  59.8  51.2  64.4  53.0  64.4 2018-01-01 02:00:00    0   \n",
       "3  2018-01-01    3  67.4  47.5  67.5  48.7  61.8 2018-01-01 03:00:00    0   \n",
       "4  2018-01-01    4  68.0  47.6  64.5  49.0  60.5 2018-01-01 04:00:00    0   \n",
       "5  2018-01-01    5  55.4  48.3  56.7  50.3  59.5 2018-01-01 05:00:00    0   \n",
       "6  2018-01-01    6  57.5  52.2  53.2  55.4  58.2 2018-01-01 06:00:00    0   \n",
       "7  2018-01-01    7  51.8  59.2  66.3  62.0  57.0 2018-01-01 07:00:00    0   \n",
       "8  2018-01-01    8  63.0  61.5  63.4  63.3  55.8 2018-01-01 08:00:00    0   \n",
       "9  2018-01-01    9  53.8  61.0  64.7  63.8  56.5 2018-01-01 09:00:00    0   \n",
       "10 2018-01-01   10  57.9  60.6  64.8  62.7  58.1 2018-01-01 10:00:00    0   \n",
       "11 2018-01-01   11  59.4  60.8  66.1  62.5  60.7 2018-01-01 11:00:00    0   \n",
       "12 2018-01-01   12  58.9  60.9  63.8  62.5  62.0 2018-01-01 12:00:00    0   \n",
       "13 2018-01-01   13  58.5  60.5  60.7  61.7  61.4 2018-01-01 13:00:00    0   \n",
       "14 2018-01-01   14  57.7  61.0  61.5  61.8  59.6 2018-01-01 14:00:00    0   \n",
       "15 2018-01-01   15  57.5  61.0  61.7  62.2  61.0 2018-01-01 15:00:00    0   \n",
       "16 2018-01-01   16  64.2  61.1  60.9  62.4  62.2 2018-01-01 16:00:00    0   \n",
       "17 2018-01-01   17  60.4  60.4  61.1  61.7  62.4 2018-01-01 17:00:00    0   \n",
       "18 2018-01-01   18  60.7  60.9  64.0  62.2  61.7 2018-01-01 18:00:00    0   \n",
       "19 2018-01-01   19  60.0  60.6  61.2  62.1  62.2 2018-01-01 19:00:00    0   \n",
       "20 2018-01-01   20  59.4  59.1  59.4  61.5  60.8 2018-01-01 20:00:00    0   \n",
       "21 2018-01-01   21  57.8  57.8  57.9  60.3  59.6 2018-01-01 21:00:00    0   \n",
       "22 2018-01-01   22  58.2  57.4  57.7  59.5  59.0 2018-01-01 22:00:00    0   \n",
       "23 2018-01-01   23  56.5  57.9  57.5  59.3  59.0 2018-01-01 23:00:00    0   \n",
       "24 2018-02-01    0  55.5  57.9  56.2  60.2  56.4 2018-01-02 00:00:00    3   \n",
       "25 2018-02-01    1  59.2  55.2  54.7  57.4  52.7 2018-01-02 01:00:00    3   \n",
       "26 2018-02-01    2  46.8  52.5  51.0  54.9  51.9 2018-01-02 02:00:00    3   \n",
       "27 2018-02-01    3  47.2  48.4  51.1  50.6  48.7 2018-01-02 03:00:00    3   \n",
       "28 2018-02-01    4  47.5  47.9  51.3  49.6  51.0 2018-01-02 04:00:00    3   \n",
       "29 2018-02-01    5  47.9  49.0  50.9  50.8  56.1 2018-01-02 05:00:00    3   \n",
       "\n",
       "      Log_Avg  ...  rainfall_mm  snowfall_mm is_match count_close  count_open  \\\n",
       "0   70.253908  ...       -0.010     2.600000      0.0        66.0         NaN   \n",
       "1   65.424707  ...        0.009     2.600000      0.0         6.0         NaN   \n",
       "2   61.332068  ...        0.008     2.266667      0.0        12.0         NaN   \n",
       "3   64.069742  ...        0.006     2.266667      0.0         6.0         NaN   \n",
       "4   63.175181  ...       -0.011     2.300000      0.0         NaN         NaN   \n",
       "5   55.752994  ...       -0.014     2.133333      0.0         NaN         NaN   \n",
       "6   55.898737  ...       -0.011     2.166667      0.0         NaN         6.0   \n",
       "7   61.664298  ...       -0.014     2.333333      0.0         NaN        18.0   \n",
       "8   62.102496  ...       -0.012     2.000000      0.0         NaN        12.0   \n",
       "9   61.640871  ...       -0.012     2.433333      0.0         NaN         NaN   \n",
       "10  61.639030  ...       -0.012     3.333333      0.0         NaN         NaN   \n",
       "11  62.600813  ...       -0.013     4.666667      0.0         NaN         6.0   \n",
       "12  61.913684  ...       -0.008     6.333333      0.0         NaN        72.0   \n",
       "13  60.692502  ...       -0.009     6.166667      0.0         NaN         NaN   \n",
       "14  60.558276  ...       -0.009     5.366667      0.0        24.0         NaN   \n",
       "15  60.947427  ...       -0.010     4.566667      0.0        48.0         NaN   \n",
       "16  62.328017  ...       -0.009     3.833333      0.0         NaN         NaN   \n",
       "17  61.269826  ...       -0.011     4.066667      0.0         NaN         6.0   \n",
       "18  62.071359  ...       -0.015     4.133333      0.0         6.0        18.0   \n",
       "19  61.301927  ...       -0.019     3.733333      0.0         6.0        84.0   \n",
       "20  60.144835  ...       -0.015     3.433333      0.0         NaN         6.0   \n",
       "21  58.814125  ...       -0.016     3.100000      0.0         6.0         NaN   \n",
       "22  58.431901  ...       -0.017     3.033333      0.0         6.0         6.0   \n",
       "23  58.157220  ...       -0.019     3.133333      0.0        66.0         NaN   \n",
       "24  57.592027  ...          NaN          NaN      0.0        60.0         NaN   \n",
       "25  56.422202  ...          NaN          NaN      0.0        12.0         NaN   \n",
       "26  52.124511  ...          NaN          NaN      0.0        12.0         NaN   \n",
       "27  49.439248  ...          NaN          NaN      0.0         6.0         NaN   \n",
       "28  49.730202  ...          NaN          NaN      0.0         6.0         NaN   \n",
       "29  51.996049  ...          NaN          NaN      0.0         NaN         NaN   \n",
       "\n",
       "        date Date  Day  Holiday  isHoliday  \n",
       "0   01-01-18  NaN  NaN      NaN          0  \n",
       "1   01-01-18  NaN  NaN      NaN          0  \n",
       "2   01-01-18  NaN  NaN      NaN          0  \n",
       "3   01-01-18  NaN  NaN      NaN          0  \n",
       "4   01-01-18  NaN  NaN      NaN          0  \n",
       "5   01-01-18  NaN  NaN      NaN          0  \n",
       "6   01-01-18  NaN  NaN      NaN          0  \n",
       "7   01-01-18  NaN  NaN      NaN          0  \n",
       "8   01-01-18  NaN  NaN      NaN          0  \n",
       "9   01-01-18  NaN  NaN      NaN          0  \n",
       "10  01-01-18  NaN  NaN      NaN          0  \n",
       "11  01-01-18  NaN  NaN      NaN          0  \n",
       "12  01-01-18  NaN  NaN      NaN          0  \n",
       "13  01-01-18  NaN  NaN      NaN          0  \n",
       "14  01-01-18  NaN  NaN      NaN          0  \n",
       "15  01-01-18  NaN  NaN      NaN          0  \n",
       "16  01-01-18  NaN  NaN      NaN          0  \n",
       "17  01-01-18  NaN  NaN      NaN          0  \n",
       "18  01-01-18  NaN  NaN      NaN          0  \n",
       "19  01-01-18  NaN  NaN      NaN          0  \n",
       "20  01-01-18  NaN  NaN      NaN          0  \n",
       "21  01-01-18  NaN  NaN      NaN          0  \n",
       "22  01-01-18  NaN  NaN      NaN          0  \n",
       "23  01-01-18  NaN  NaN      NaN          0  \n",
       "24  02-01-18  NaN  NaN      NaN          0  \n",
       "25  02-01-18  NaN  NaN      NaN          0  \n",
       "26  02-01-18  NaN  NaN      NaN          0  \n",
       "27  02-01-18  NaN  NaN      NaN          0  \n",
       "28  02-01-18  NaN  NaN      NaN          0  \n",
       "29  02-01-18  NaN  NaN      NaN          0  \n",
       "\n",
       "[30 rows x 30 columns]"
      ]
     },
     "execution_count": 41,
     "metadata": {},
     "output_type": "execute_result"
    }
   ],
   "source": [
    "df_finalized = df_final_5.merge(df_holidays, left_on='date', right_on = 'Date', how =\"left\")\n",
    "df_finalized['isHoliday'] = df_finalized['Holiday'].apply(lambda x: 0 if pd.isnull(x)==True else 1)\n",
    "df_finalized.head(30)"
   ]
  },
  {
   "cell_type": "code",
   "execution_count": 42,
   "id": "OIXafvuTNL7W",
   "metadata": {
    "colab": {
     "base_uri": "https://localhost:8080/"
    },
    "id": "OIXafvuTNL7W",
    "outputId": "23c93d55-b10e-4cc7-e701-8a9fa368ba01"
   },
   "outputs": [
    {
     "data": {
      "text/plain": [
       "Index(['Data', 'Ora', 'C1', 'C2', 'C3', 'C4', 'C5', 'date_hour', 'day',\n",
       "       'Log_Avg', 'No. of Visitors', 'index', 'cluster', 'data_a',\n",
       "       'numero_presenze', 'layer_id', 'layer_nome', 'dettaglio(secondi)',\n",
       "       'temp', 'winds', 'rainfall_mm', 'snowfall_mm', 'is_match',\n",
       "       'count_close', 'count_open', 'date', 'Date', 'Day', 'Holiday',\n",
       "       'isHoliday'],\n",
       "      dtype='object')"
      ]
     },
     "execution_count": 42,
     "metadata": {},
     "output_type": "execute_result"
    }
   ],
   "source": [
    "df_finalized.columns"
   ]
  },
  {
   "cell_type": "code",
   "execution_count": 43,
   "id": "bridal-grove",
   "metadata": {
    "id": "bridal-grove"
   },
   "outputs": [],
   "source": [
    "df_finalized = df_finalized.drop(columns= ['Data','Date'])"
   ]
  },
  {
   "cell_type": "code",
   "execution_count": 44,
   "id": "large-cancer",
   "metadata": {
    "colab": {
     "base_uri": "https://localhost:8080/",
     "height": 411
    },
    "id": "large-cancer",
    "outputId": "97b83b48-6554-445b-bd94-eb242783aca1",
    "scrolled": false
   },
   "outputs": [
    {
     "data": {
      "text/html": [
       "<div>\n",
       "<style scoped>\n",
       "    .dataframe tbody tr th:only-of-type {\n",
       "        vertical-align: middle;\n",
       "    }\n",
       "\n",
       "    .dataframe tbody tr th {\n",
       "        vertical-align: top;\n",
       "    }\n",
       "\n",
       "    .dataframe thead th {\n",
       "        text-align: right;\n",
       "    }\n",
       "</style>\n",
       "<table border=\"1\" class=\"dataframe\">\n",
       "  <thead>\n",
       "    <tr style=\"text-align: right;\">\n",
       "      <th></th>\n",
       "      <th>Ora</th>\n",
       "      <th>C1</th>\n",
       "      <th>C2</th>\n",
       "      <th>C3</th>\n",
       "      <th>C4</th>\n",
       "      <th>C5</th>\n",
       "      <th>date_hour</th>\n",
       "      <th>day</th>\n",
       "      <th>Log_Avg</th>\n",
       "      <th>No. of Visitors</th>\n",
       "      <th>...</th>\n",
       "      <th>winds</th>\n",
       "      <th>rainfall_mm</th>\n",
       "      <th>snowfall_mm</th>\n",
       "      <th>is_match</th>\n",
       "      <th>count_close</th>\n",
       "      <th>count_open</th>\n",
       "      <th>date</th>\n",
       "      <th>Day</th>\n",
       "      <th>Holiday</th>\n",
       "      <th>isHoliday</th>\n",
       "    </tr>\n",
       "  </thead>\n",
       "  <tbody>\n",
       "    <tr>\n",
       "      <th>0</th>\n",
       "      <td>0</td>\n",
       "      <td>68.7</td>\n",
       "      <td>56.6</td>\n",
       "      <td>76.0</td>\n",
       "      <td>58.8</td>\n",
       "      <td>66.6</td>\n",
       "      <td>2018-01-01 00:00:00</td>\n",
       "      <td>0</td>\n",
       "      <td>70.253908</td>\n",
       "      <td>NaN</td>\n",
       "      <td>...</td>\n",
       "      <td>0.366667</td>\n",
       "      <td>-0.010</td>\n",
       "      <td>2.600000</td>\n",
       "      <td>0.0</td>\n",
       "      <td>66.0</td>\n",
       "      <td>NaN</td>\n",
       "      <td>01-01-18</td>\n",
       "      <td>NaN</td>\n",
       "      <td>NaN</td>\n",
       "      <td>0</td>\n",
       "    </tr>\n",
       "    <tr>\n",
       "      <th>1</th>\n",
       "      <td>1</td>\n",
       "      <td>68.3</td>\n",
       "      <td>53.6</td>\n",
       "      <td>68.2</td>\n",
       "      <td>55.7</td>\n",
       "      <td>65.4</td>\n",
       "      <td>2018-01-01 01:00:00</td>\n",
       "      <td>0</td>\n",
       "      <td>65.424707</td>\n",
       "      <td>NaN</td>\n",
       "      <td>...</td>\n",
       "      <td>0.590000</td>\n",
       "      <td>0.009</td>\n",
       "      <td>2.600000</td>\n",
       "      <td>0.0</td>\n",
       "      <td>6.0</td>\n",
       "      <td>NaN</td>\n",
       "      <td>01-01-18</td>\n",
       "      <td>NaN</td>\n",
       "      <td>NaN</td>\n",
       "      <td>0</td>\n",
       "    </tr>\n",
       "    <tr>\n",
       "      <th>2</th>\n",
       "      <td>2</td>\n",
       "      <td>59.8</td>\n",
       "      <td>51.2</td>\n",
       "      <td>64.4</td>\n",
       "      <td>53.0</td>\n",
       "      <td>64.4</td>\n",
       "      <td>2018-01-01 02:00:00</td>\n",
       "      <td>0</td>\n",
       "      <td>61.332068</td>\n",
       "      <td>NaN</td>\n",
       "      <td>...</td>\n",
       "      <td>0.450000</td>\n",
       "      <td>0.008</td>\n",
       "      <td>2.266667</td>\n",
       "      <td>0.0</td>\n",
       "      <td>12.0</td>\n",
       "      <td>NaN</td>\n",
       "      <td>01-01-18</td>\n",
       "      <td>NaN</td>\n",
       "      <td>NaN</td>\n",
       "      <td>0</td>\n",
       "    </tr>\n",
       "    <tr>\n",
       "      <th>3</th>\n",
       "      <td>3</td>\n",
       "      <td>67.4</td>\n",
       "      <td>47.5</td>\n",
       "      <td>67.5</td>\n",
       "      <td>48.7</td>\n",
       "      <td>61.8</td>\n",
       "      <td>2018-01-01 03:00:00</td>\n",
       "      <td>0</td>\n",
       "      <td>64.069742</td>\n",
       "      <td>NaN</td>\n",
       "      <td>...</td>\n",
       "      <td>0.400000</td>\n",
       "      <td>0.006</td>\n",
       "      <td>2.266667</td>\n",
       "      <td>0.0</td>\n",
       "      <td>6.0</td>\n",
       "      <td>NaN</td>\n",
       "      <td>01-01-18</td>\n",
       "      <td>NaN</td>\n",
       "      <td>NaN</td>\n",
       "      <td>0</td>\n",
       "    </tr>\n",
       "    <tr>\n",
       "      <th>4</th>\n",
       "      <td>4</td>\n",
       "      <td>68.0</td>\n",
       "      <td>47.6</td>\n",
       "      <td>64.5</td>\n",
       "      <td>49.0</td>\n",
       "      <td>60.5</td>\n",
       "      <td>2018-01-01 04:00:00</td>\n",
       "      <td>0</td>\n",
       "      <td>63.175181</td>\n",
       "      <td>NaN</td>\n",
       "      <td>...</td>\n",
       "      <td>0.780000</td>\n",
       "      <td>-0.011</td>\n",
       "      <td>2.300000</td>\n",
       "      <td>0.0</td>\n",
       "      <td>NaN</td>\n",
       "      <td>NaN</td>\n",
       "      <td>01-01-18</td>\n",
       "      <td>NaN</td>\n",
       "      <td>NaN</td>\n",
       "      <td>0</td>\n",
       "    </tr>\n",
       "  </tbody>\n",
       "</table>\n",
       "<p>5 rows × 28 columns</p>\n",
       "</div>"
      ],
      "text/plain": [
       "   Ora    C1    C2    C3    C4    C5           date_hour  day    Log_Avg  \\\n",
       "0    0  68.7  56.6  76.0  58.8  66.6 2018-01-01 00:00:00    0  70.253908   \n",
       "1    1  68.3  53.6  68.2  55.7  65.4 2018-01-01 01:00:00    0  65.424707   \n",
       "2    2  59.8  51.2  64.4  53.0  64.4 2018-01-01 02:00:00    0  61.332068   \n",
       "3    3  67.4  47.5  67.5  48.7  61.8 2018-01-01 03:00:00    0  64.069742   \n",
       "4    4  68.0  47.6  64.5  49.0  60.5 2018-01-01 04:00:00    0  63.175181   \n",
       "\n",
       "   No. of Visitors  ...     winds rainfall_mm snowfall_mm  is_match  \\\n",
       "0              NaN  ...  0.366667      -0.010    2.600000       0.0   \n",
       "1              NaN  ...  0.590000       0.009    2.600000       0.0   \n",
       "2              NaN  ...  0.450000       0.008    2.266667       0.0   \n",
       "3              NaN  ...  0.400000       0.006    2.266667       0.0   \n",
       "4              NaN  ...  0.780000      -0.011    2.300000       0.0   \n",
       "\n",
       "  count_close count_open      date  Day  Holiday  isHoliday  \n",
       "0        66.0        NaN  01-01-18  NaN      NaN          0  \n",
       "1         6.0        NaN  01-01-18  NaN      NaN          0  \n",
       "2        12.0        NaN  01-01-18  NaN      NaN          0  \n",
       "3         6.0        NaN  01-01-18  NaN      NaN          0  \n",
       "4         NaN        NaN  01-01-18  NaN      NaN          0  \n",
       "\n",
       "[5 rows x 28 columns]"
      ]
     },
     "execution_count": 44,
     "metadata": {},
     "output_type": "execute_result"
    }
   ],
   "source": [
    "df_finalized.head()"
   ]
  },
  {
   "cell_type": "code",
   "execution_count": 45,
   "id": "charitable-personal",
   "metadata": {
    "colab": {
     "base_uri": "https://localhost:8080/"
    },
    "id": "charitable-personal",
    "outputId": "a5a2245b-4435-4418-bbec-4723288c1320"
   },
   "outputs": [
    {
     "name": "stdout",
     "output_type": "stream",
     "text": [
      "<class 'pandas.core.frame.DataFrame'>\n",
      "Int64Index: 17311 entries, 0 to 17310\n",
      "Data columns (total 28 columns):\n",
      " #   Column              Non-Null Count  Dtype         \n",
      "---  ------              --------------  -----         \n",
      " 0   Ora                 17311 non-null  int64         \n",
      " 1   C1                  17311 non-null  float64       \n",
      " 2   C2                  17311 non-null  float64       \n",
      " 3   C3                  17311 non-null  float64       \n",
      " 4   C4                  17311 non-null  float64       \n",
      " 5   C5                  17311 non-null  float64       \n",
      " 6   date_hour           17311 non-null  datetime64[ns]\n",
      " 7   day                 17311 non-null  int64         \n",
      " 8   Log_Avg             17311 non-null  float64       \n",
      " 9   No. of Visitors     1639 non-null   float64       \n",
      " 10  index               9054 non-null   float64       \n",
      " 11  cluster             9054 non-null   object        \n",
      " 12  data_a              9054 non-null   object        \n",
      " 13  numero_presenze     9054 non-null   float64       \n",
      " 14  layer_id            9054 non-null   object        \n",
      " 15  layer_nome          9054 non-null   object        \n",
      " 16  dettaglio(secondi)  9054 non-null   float64       \n",
      " 17  temp                17311 non-null  float64       \n",
      " 18  winds               2261 non-null   float64       \n",
      " 19  rainfall_mm         17098 non-null  float64       \n",
      " 20  snowfall_mm         17100 non-null  float64       \n",
      " 21  is_match            17288 non-null  float64       \n",
      " 22  count_close         8430 non-null   float64       \n",
      " 23  count_open          7313 non-null   float64       \n",
      " 24  date                17311 non-null  object        \n",
      " 25  Day                 0 non-null      object        \n",
      " 26  Holiday             0 non-null      object        \n",
      " 27  isHoliday           17311 non-null  int64         \n",
      "dtypes: datetime64[ns](1), float64(17), int64(3), object(7)\n",
      "memory usage: 3.8+ MB\n"
     ]
    }
   ],
   "source": [
    "df_finalized.info()"
   ]
  },
  {
   "cell_type": "code",
   "execution_count": 46,
   "id": "stable-grocery",
   "metadata": {
    "id": "stable-grocery"
   },
   "outputs": [],
   "source": [
    "#df_finalized.to_csv('Noise_weather_wifi_sim_holidays.csv')"
   ]
  },
  {
   "cell_type": "markdown",
   "id": "-q6MYiz6BvWu",
   "metadata": {
    "id": "-q6MYiz6BvWu"
   },
   "source": [
    "### Correlation Analysis"
   ]
  },
  {
   "cell_type": "code",
   "execution_count": 47,
   "id": "civilian-fourth",
   "metadata": {
    "colab": {
     "base_uri": "https://localhost:8080/",
     "height": 0
    },
    "id": "civilian-fourth",
    "outputId": "1ecbca8d-2238-4956-ffb6-026987c9f5d8"
   },
   "outputs": [
    {
     "data": {
      "image/png": "[encoded data removed]",
      "text/plain": [
       "<Figure size 1368x1080 with 2 Axes>"
      ]
     },
     "metadata": {
      "needs_background": "light"
     },
     "output_type": "display_data"
    }
   ],
   "source": [
    "correlation_mat = df_finalized.corr()\n",
    "f = plt.figure(figsize=(19, 15))\n",
    "sns.heatmap(correlation_mat, annot = True)\n",
    "plt.show()"
   ]
  },
  {
   "cell_type": "code",
   "execution_count": 48,
   "id": "supported-aluminum",
   "metadata": {
    "colab": {
     "base_uri": "https://localhost:8080/"
    },
    "id": "supported-aluminum",
    "outputId": "19dba049-1537-4590-cd92-5b32f3a1c485"
   },
   "outputs": [
    {
     "ename": "NameError",
     "evalue": "name 'corr_pairs' is not defined",
     "output_type": "error",
     "traceback": [
      "\u001b[0;31m---------------------------------------------------------------------------\u001b[0m",
      "\u001b[0;31mNameError\u001b[0m                                 Traceback (most recent call last)",
      "\u001b[0;32m<ipython-input-48-979922d75d09>\u001b[0m in \u001b[0;36m<module>\u001b[0;34m\u001b[0m\n\u001b[0;32m----> 1\u001b[0;31m \u001b[0msorted_pairs\u001b[0m \u001b[0;34m=\u001b[0m \u001b[0mcorr_pairs\u001b[0m\u001b[0;34m.\u001b[0m\u001b[0msort_values\u001b[0m\u001b[0;34m(\u001b[0m\u001b[0mkind\u001b[0m\u001b[0;34m=\u001b[0m\u001b[0;34m\"quicksort\"\u001b[0m\u001b[0;34m)\u001b[0m\u001b[0;34m\u001b[0m\u001b[0;34m\u001b[0m\u001b[0m\n\u001b[0m\u001b[1;32m      2\u001b[0m \u001b[0mstrong_pairs\u001b[0m \u001b[0;34m=\u001b[0m \u001b[0msorted_pairs\u001b[0m\u001b[0;34m[\u001b[0m\u001b[0mabs\u001b[0m\u001b[0;34m(\u001b[0m\u001b[0msorted_pairs\u001b[0m\u001b[0;34m)\u001b[0m \u001b[0;34m>\u001b[0m \u001b[0;36m0.7\u001b[0m\u001b[0;34m]\u001b[0m\u001b[0;34m\u001b[0m\u001b[0;34m\u001b[0m\u001b[0m\n\u001b[1;32m      3\u001b[0m \u001b[0mstrong_pairs\u001b[0m\u001b[0;34m\u001b[0m\u001b[0;34m\u001b[0m\u001b[0m\n",
      "\u001b[0;31mNameError\u001b[0m: name 'corr_pairs' is not defined"
     ]
    }
   ],
   "source": [
    "sorted_pairs = corr_pairs.sort_values(kind=\"quicksort\")\n",
    "strong_pairs = sorted_pairs[abs(sorted_pairs) > 0.7]\n",
    "strong_pairs"
   ]
  },
  {
   "cell_type": "markdown",
   "id": "tropical-guest",
   "metadata": {
    "id": "tropical-guest"
   },
   "source": [
    "### Data Exploration"
   ]
  },
  {
   "cell_type": "code",
   "execution_count": null,
   "id": "legitimate-interest",
   "metadata": {
    "colab": {
     "base_uri": "https://localhost:8080/",
     "height": 419
    },
    "id": "legitimate-interest",
    "outputId": "38a28a5c-a8d3-44e7-c7af-6c6a40819d8e"
   },
   "outputs": [],
   "source": [
    "df_police[df_police['Ora'].isna()] #many complaints do not have hours associated with them "
   ]
  },
  {
   "cell_type": "code",
   "execution_count": null,
   "id": "extra-thong",
   "metadata": {
    "id": "extra-thong"
   },
   "outputs": [],
   "source": [
    "noise_2018=pd.read_csv('raw_data/noise_data/san_salvario_2018.csv',\n",
    "                       skiprows=8,\n",
    "                       delimiter=';',\n",
    "                      decimal=',',\n",
    "#                       parse_dates=[['Data', 'Ora']],\n",
    "                      )\n",
    "\n",
    "# # workaround for hour concat issue\n",
    "noise_2018['Data'] = pd.to_datetime(noise_2018['Data'], format='%d-%m-%Y', errors='coerce')\n",
    "noise_2018['date_hour'] = noise_2018.apply(lambda x: pd.to_datetime(str(x.Data) + ' ' + str(x.Ora), errors='coerce'), axis=1)\n",
    "noise_2018 = noise_2018.drop(columns=['Data', 'Ora'])\n",
    "\n",
    "\n",
    "noise_2018.info()"
   ]
  },
  {
   "cell_type": "code",
   "execution_count": null,
   "id": "killing-instrument",
   "metadata": {
    "colab": {
     "base_uri": "https://localhost:8080/",
     "height": 542
    },
    "id": "killing-instrument",
    "outputId": "0324f5a3-b0f9-40bb-9127-c22b1895c317"
   },
   "outputs": [],
   "source": [
    "# plot matches with sensor data\n",
    "match = pd.read_csv('raw_data/football/matches_2018.csv', index_col=0).set_index('Date')\n",
    "match['is_match'] = match.is_match.apply(lambda x: x+80 if x == 1 else x)\n",
    "fig = px.line(noise_2018.set_index('date_hour'))\n",
    "fig.add_scatter(x=match.index, \n",
    "                y=match['is_match'], \n",
    "                mode='markers',\n",
    "                name='football match'\n",
    "               )\n"
   ]
  },
  {
   "cell_type": "markdown",
   "id": "agreed-webster",
   "metadata": {
    "id": "agreed-webster"
   },
   "source": [
    "### Modelling"
   ]
  },
  {
   "cell_type": "markdown",
   "id": "varying-constant",
   "metadata": {
    "heading_collapsed": true,
    "id": "varying-constant"
   },
   "source": [
    "#### ARIMA"
   ]
  },
  {
   "cell_type": "code",
   "execution_count": null,
   "id": "hungarian-bearing",
   "metadata": {
    "hidden": true,
    "id": "hungarian-bearing"
   },
   "outputs": [],
   "source": [
    "data=pd.read_csv('https://raw.githubusercontent.com/McNickSisto/world_data_league/main/stage_final/data/Imputed_Data_Final.csv')\n",
    "data=data.drop(columns='Unnamed: 0')\n",
    "data.head(4)"
   ]
  },
  {
   "cell_type": "code",
   "execution_count": null,
   "id": "swedish-silicon",
   "metadata": {
    "hidden": true,
    "id": "swedish-silicon"
   },
   "outputs": [],
   "source": [
    "data_i = data.set_index('date_hour')\n",
    "data_i.head(2)"
   ]
  },
  {
   "cell_type": "code",
   "execution_count": null,
   "id": "respiratory-strength",
   "metadata": {
    "hidden": true,
    "id": "respiratory-strength"
   },
   "outputs": [],
   "source": [
    "df=data_i['Log_Avg']\n",
    "df.head(2)"
   ]
  },
  {
   "cell_type": "code",
   "execution_count": null,
   "id": "adapted-kernel",
   "metadata": {
    "hidden": true,
    "id": "adapted-kernel"
   },
   "outputs": [],
   "source": [
    "df.plot(figsize=(20,5))"
   ]
  },
  {
   "cell_type": "code",
   "execution_count": null,
   "id": "breathing-photographer",
   "metadata": {
    "hidden": true,
    "id": "breathing-photographer"
   },
   "outputs": [],
   "source": [
    "additive = seasonal_decompose(df,freq=52, model='additive',extrapolate_trend='freq')"
   ]
  },
  {
   "cell_type": "code",
   "execution_count": null,
   "id": "joined-interim",
   "metadata": {
    "hidden": true,
    "id": "joined-interim"
   },
   "outputs": [],
   "source": [
    "additive_df = pd.concat([additive.seasonal, additive.trend, additive.resid, additive.observed], axis=1)\n",
    "additive_df.columns = ['seasonal', 'trend', 'resid', 'actual_values']\n",
    "additive_df.head()"
   ]
  },
  {
   "cell_type": "code",
   "execution_count": null,
   "id": "foster-billion",
   "metadata": {
    "hidden": true,
    "id": "foster-billion"
   },
   "outputs": [],
   "source": [
    "plt.rcParams.update({'figure.figsize': (20,10)})\n",
    "additive.plot().suptitle('Additive Decompose')\n",
    "#The Trend,residuals are interesting, showing periods of high variability."
   ]
  },
  {
   "cell_type": "code",
   "execution_count": null,
   "id": "attempted-robin",
   "metadata": {
    "hidden": true,
    "id": "attempted-robin"
   },
   "outputs": [],
   "source": [
    "trend = additive.trend\n",
    "from statsmodels.tsa.stattools import adfuller\n",
    "result = adfuller(trend.values)\n",
    "print('ADF Statistic: %f' % result[0])\n",
    "print('p-value: %f' % result[1])"
   ]
  },
  {
   "cell_type": "code",
   "execution_count": null,
   "id": "proper-alaska",
   "metadata": {
    "hidden": true,
    "id": "proper-alaska"
   },
   "outputs": [],
   "source": [
    "from statsmodels.graphics.tsaplots import plot_acf, plot_pacf\n",
    "# Original Series\n",
    "fig, axes = plt.subplots(3, 2, sharex=True)\n",
    "axes[0, 0].plot(trend.values); axes[0, 0].set_title('Original Series')\n",
    "plot_acf(trend.values, ax=axes[0, 1]).suptitle('Original Series', fontsize=0)\n",
    "# 1st Differencing\n",
    "diff1 = trend.diff().dropna()\n",
    "axes[1, 0].plot(diff1.values)\n",
    "axes[1, 0].set_title('1st Order Differencing')\n",
    "plot_acf(diff1.values, ax=axes[1, 1]).suptitle('1st Order Differencing', fontsize=0)\n",
    "# 2nd Differencing\n",
    "diff2 = trend.diff().diff().dropna()\n",
    "axes[2, 0].plot(diff2.values)\n",
    "axes[2, 0].set_title('2nd Order Differencing')\n",
    "plot_acf(diff2.values, ax=axes[2, 1]).suptitle('2nd Order Differencing', fontsize=0)"
   ]
  },
  {
   "cell_type": "code",
   "execution_count": null,
   "id": "average-cooling",
   "metadata": {
    "hidden": true,
    "id": "average-cooling"
   },
   "outputs": [],
   "source": [
    "plt.rcParams.update({'figure.figsize':(9,3), 'figure.dpi':120})\n",
    "size = 100\n",
    "fig, axes = plt.subplots(1, 2, sharex=True)\n",
    "axes[0].plot(diff1.values[:size])\n",
    "axes[0].set_title('1st Order Differencing')\n",
    "axes[1].set(ylim=(0,5))\n",
    "plot_pacf(diff1.values[:size], lags=50, ax=axes[1]).suptitle('1st Order Differencing', fontsize=0)"
   ]
  },
  {
   "cell_type": "code",
   "execution_count": null,
   "id": "associate-humidity",
   "metadata": {
    "hidden": true,
    "id": "associate-humidity"
   },
   "outputs": [],
   "source": [
    "from statsmodels.tsa.arima_model import ARIMA\n",
    "train = trend[:3000]\n",
    "test  = trend[3000:]\n",
    "# order = (p=1, d=1, q=1)\n",
    "model = ARIMA(train, order=(1, 1, 1))  \n",
    "model = model.fit(disp=0)  \n",
    "print(model.summary())"
   ]
  },
  {
   "cell_type": "code",
   "execution_count": null,
   "id": "overhead-depth",
   "metadata": {
    "hidden": true,
    "id": "overhead-depth"
   },
   "outputs": [],
   "source": [
    "# Plot residual errors\n",
    "residuals = pd.DataFrame(model.resid)\n",
    "fig, ax = plt.subplots(1,2)\n",
    "residuals.plot(title=\"Residuals\", ax=ax[0])\n",
    "residuals.plot(kind='kde', title='Density', ax=ax[1])"
   ]
  },
  {
   "cell_type": "code",
   "execution_count": null,
   "id": "included-coverage",
   "metadata": {
    "hidden": true,
    "id": "included-coverage"
   },
   "outputs": [],
   "source": [
    "fc, se, conf = model.forecast(14311, alpha=0.05)\n",
    "# Make as pandas series\n",
    "fc_series = pd.Series(fc, index=test.index)\n",
    "lower_series = pd.Series(conf[:, 0], index=test.index)\n",
    "upper_series = pd.Series(conf[:, 1], index=test.index)\n",
    "# Plot\n",
    "plt.figure(figsize=(12,5), dpi=100)\n",
    "plt.plot(train, label='training')\n",
    "plt.plot(test, label='actual')\n",
    "plt.plot(fc_series, label='forecast')\n",
    "plt.fill_between(lower_series.index, lower_series, upper_series, \n",
    "                 color='k', alpha=.15)\n",
    "plt.title('Forecast vs Actuals')\n",
    "plt.legend(loc='upper left', fontsize=8)"
   ]
  },
  {
   "cell_type": "markdown",
   "id": "adult-jason",
   "metadata": {
    "heading_collapsed": true,
    "id": "adult-jason"
   },
   "source": [
    "#### Moving Average"
   ]
  },
  {
   "cell_type": "code",
   "execution_count": null,
   "id": "working-alloy",
   "metadata": {
    "hidden": true,
    "id": "working-alloy"
   },
   "outputs": [],
   "source": [
    "df.head(2)"
   ]
  },
  {
   "cell_type": "markdown",
   "id": "average-fitting",
   "metadata": {
    "hidden": true,
    "id": "average-fitting"
   },
   "source": [
    "Moving Average Smoothing is a technique applied to time series to remove the fine-grained variation between time steps. The hope of smoothing is to remove noise and better expose the signal of the underlying causal processes."
   ]
  },
  {
   "cell_type": "code",
   "execution_count": null,
   "id": "electrical-peter",
   "metadata": {
    "hidden": true,
    "id": "electrical-peter"
   },
   "outputs": [],
   "source": [
    "plt.rcParams[\"figure.figsize\"] = (20,6)\n",
    "df.plot()\n",
    "pyplot.show()"
   ]
  },
  {
   "cell_type": "code",
   "execution_count": null,
   "id": "royal-attachment",
   "metadata": {
    "hidden": true,
    "id": "royal-attachment"
   },
   "outputs": [],
   "source": [
    "# Tail-rolling average transform\n",
    "rolling = df.rolling(window=3)\n",
    "rolling_mean = rolling.mean()\n",
    "rolling_mean.dropna(inplace= True)\n",
    "print(rolling_mean.head())\n",
    "# plot original and transformed dataset\n",
    "df.plot()\n",
    "rolling_mean.plot(color='lightgreen')\n",
    "pyplot.show()"
   ]
  },
  {
   "cell_type": "code",
   "execution_count": null,
   "id": "valuable-madonna",
   "metadata": {
    "hidden": true,
    "id": "valuable-madonna"
   },
   "outputs": [],
   "source": [
    "from pandas import read_csv\n",
    "from numpy import mean\n",
    "from sklearn.metrics import mean_squared_error\n",
    "from matplotlib import pyplot\n",
    "# prepare situation\n",
    "X = df.values\n",
    "window = 3\n",
    "history = [X[i] for i in range(window)]\n",
    "test = [X[i] for i in range(window, len(X))]\n",
    "predictions = list()\n",
    "# walk forward over time steps in test\n",
    "for t in range(len(test)):\n",
    "\tlength = len(history)\n",
    "\tyhat = mean([history[i] for i in range(length-window,length)])\n",
    "\tobs = test[t]\n",
    "\tpredictions.append(yhat)\n",
    "\thistory.append(obs)\n",
    "\t#print('predicted=%f, expected=%f' % (yhat, obs))\n",
    "error = mean_squared_error(test, predictions)\n",
    "print('Test MSE: %.3f' % error)\n",
    "# plot\n",
    "pyplot.plot(test)\n",
    "pyplot.plot(predictions, color='lightcoral')\n",
    "pyplot.show()\n",
    "# zoom plot\n",
    "pyplot.plot(test[0:100])\n",
    "pyplot.plot(predictions[0:100], color='lightcoral')\n",
    "pyplot.show()"
   ]
  },
  {
   "cell_type": "markdown",
   "id": "simplified-gateway",
   "metadata": {
    "heading_collapsed": true,
    "id": "simplified-gateway"
   },
   "source": [
    "## Conclusions\n",
    "\n",
    "### Scalability and Impact\n",
    "Tell us how applicable and scalable your solution is if you were to implement it in a city. Identify possible limitations and measure the potential social impact of your solution."
   ]
  },
  {
   "cell_type": "markdown",
   "id": "heated-thread",
   "metadata": {
    "hidden": true,
    "id": "heated-thread"
   },
   "source": [
    "### Future Work\n",
    "Now picture the following scenario: imagine you could have access to any type of data that could help you solve this challenge even better. What would that data be and how would it improve your solution? 🚀"
   ]
  },
  {
   "cell_type": "markdown",
   "id": "british-contamination",
   "metadata": {
    "id": "british-contamination"
   },
   "source": [
    "# Appendix "
   ]
  },
  {
   "cell_type": "markdown",
   "id": "eligible-transformation",
   "metadata": {
    "id": "eligible-transformation"
   },
   "source": [
    "## Weather Data"
   ]
  },
  {
   "cell_type": "markdown",
   "id": "potential-affiliation",
   "metadata": {
    "heading_collapsed": true,
    "id": "potential-affiliation"
   },
   "source": [
    "### Data"
   ]
  },
  {
   "cell_type": "code",
   "execution_count": null,
   "id": "cognitive-width",
   "metadata": {
    "hidden": true,
    "id": "cognitive-width"
   },
   "outputs": [],
   "source": [
    "weather = pd.read_csv('raw_data/weather/weather_1.csv',\n",
    "#                       nrows=1000, #rm later\n",
    "                      sep=';',\n",
    "#                       decimal=',',\n",
    "                      skiprows=4,\n",
    "#                       parse_dates=[[0, 1]],\n",
    "#                       dayfirst=True,\n",
    "                      header=0,\n",
    "                      names=['date', 'hour', 'rainfall_mm', 'snowfall_mm'],\n",
    "                     )\n",
    "\n",
    "# workaround for hour concat issue\n",
    "weather['date'] = pd.to_datetime(weather['date'], format='%d-%m-%Y', errors='coerce')\n",
    "weather['date_hour'] = weather.apply(lambda x: pd.to_datetime(str(x.date) + ' ' + str(x.hour), errors='coerce'), axis=1)\n",
    "\n",
    "# workaround for decimal issue\n",
    "weather['rainfall_mm'] = weather.rainfall_mm.apply(lambda x: str(x).replace(',','.'))\n",
    "weather['snowfall_mm'] = weather.snowfall_mm.apply(lambda x: str(x).replace(',','.'))"
   ]
  },
  {
   "cell_type": "code",
   "execution_count": null,
   "id": "reasonable-darkness",
   "metadata": {
    "hidden": true,
    "id": "reasonable-darkness"
   },
   "outputs": [],
   "source": [
    "weather2 = pd.read_csv('raw_data/weather/weather_2.csv', \n",
    "                 sep=';', \n",
    "                 skiprows=4, \n",
    "                 header=0, \n",
    "#                  decimal=',',\n",
    "#                 converters={2:lambda x: x.replace(',', '.')},\n",
    "#                 parse_dates=[[0, 1]],\n",
    "                names=['date', 'hour', 'winds'],\n",
    "                na_values={2:'',\n",
    "                            3:''},\n",
    "                dayfirst=True,\n",
    "                )\n",
    "# workaround for hour concat issue\n",
    "weather2['date'] = pd.to_datetime(weather2['date'], format='%d-%m-%Y', errors='coerce')\n",
    "weather2['date_hour'] = weather2.apply(lambda x: pd.to_datetime(str(x.date) + ' ' + str(x.hour), errors='coerce'), axis=1)\n",
    "\n",
    "weather2['winds'] = weather2.winds.apply(lambda x: str(x).replace(',','.'))"
   ]
  },
  {
   "cell_type": "code",
   "execution_count": null,
   "id": "technological-meaning",
   "metadata": {
    "hidden": true,
    "id": "technological-meaning"
   },
   "outputs": [],
   "source": [
    "# weather['date_hour'] = pd.to_datetime(weather['date_hour'], errors='coerce')\n",
    "weather_1 = weather.dropna(subset=['date_hour'])\n",
    "\n",
    "# weather2['date_hour'] = pd.to_datetime(weather2['date_hour'], errors='coerce')\n",
    "weather_2 = weather2.dropna(subset=['date_hour'])"
   ]
  },
  {
   "cell_type": "code",
   "execution_count": null,
   "id": "italian-maldives",
   "metadata": {
    "hidden": true,
    "id": "italian-maldives"
   },
   "outputs": [],
   "source": [
    "merged_weather = weather_2.merge(weather_1,\n",
    "                                right_on='date_hour',\n",
    "                                left_on='date_hour',\n",
    "                                )"
   ]
  },
  {
   "cell_type": "code",
   "execution_count": null,
   "id": "marked-morrison",
   "metadata": {
    "hidden": true,
    "id": "marked-morrison"
   },
   "outputs": [],
   "source": [
    "merged_weather.sort_values(by='date_hour').tail()"
   ]
  },
  {
   "cell_type": "code",
   "execution_count": null,
   "id": "expected-broadway",
   "metadata": {
    "hidden": true,
    "id": "expected-broadway"
   },
   "outputs": [],
   "source": [
    "merged_weather['hourly_date'] = merged_weather.date_hour.apply(lambda x: x.floor('h'))"
   ]
  },
  {
   "cell_type": "code",
   "execution_count": null,
   "id": "scientific-behavior",
   "metadata": {
    "hidden": true,
    "id": "scientific-behavior"
   },
   "outputs": [],
   "source": [
    "merged_weather = merged_weather.astype({'winds': float,\n",
    "                      'rainfall_mm':float,\n",
    "                      'snowfall_mm':float})"
   ]
  },
  {
   "cell_type": "code",
   "execution_count": null,
   "id": "passive-sphere",
   "metadata": {
    "hidden": true,
    "id": "passive-sphere"
   },
   "outputs": [],
   "source": [
    "hourly_weather = merged_weather.groupby('hourly_date').mean()"
   ]
  },
  {
   "cell_type": "code",
   "execution_count": null,
   "id": "perceived-nerve",
   "metadata": {
    "hidden": true,
    "id": "perceived-nerve"
   },
   "outputs": [],
   "source": [
    "hourly_weather.info()"
   ]
  },
  {
   "cell_type": "code",
   "execution_count": null,
   "id": "approximate-doctor",
   "metadata": {
    "hidden": true,
    "id": "approximate-doctor"
   },
   "outputs": [],
   "source": [
    "hourly_weather.to_csv('hourly_weather.csv')"
   ]
  },
  {
   "cell_type": "code",
   "execution_count": null,
   "id": "abstract-luxury",
   "metadata": {
    "hidden": true,
    "id": "abstract-luxury"
   },
   "outputs": [],
   "source": [
    "hourly_weather.head()"
   ]
  },
  {
   "cell_type": "markdown",
   "id": "alert-effects",
   "metadata": {
    "heading_collapsed": true,
    "id": "alert-effects"
   },
   "source": [
    "### Open Weather Map"
   ]
  },
  {
   "cell_type": "code",
   "execution_count": null,
   "id": "distinct-repository",
   "metadata": {
    "hidden": true,
    "id": "distinct-repository"
   },
   "outputs": [],
   "source": [
    "# API KEY\n",
    "load_dotenv(find_dotenv())\n",
    "OWM_API = os.environ.get(\"OWM_API\")"
   ]
  },
  {
   "cell_type": "code",
   "execution_count": null,
   "id": "fluid-height",
   "metadata": {
    "hidden": true,
    "id": "fluid-height"
   },
   "outputs": [],
   "source": [
    "# init time range\n",
    "range_2019 = pd.DataFrame(pd.date_range('2016-06-01', '2021-06-12', freq='h'), columns=['hour'])\n",
    "range_2019.tail().hour"
   ]
  },
  {
   "cell_type": "code",
   "execution_count": null,
   "id": "human-soldier",
   "metadata": {
    "hidden": true,
    "id": "human-soldier"
   },
   "outputs": [],
   "source": [
    "req = 'http://history.openweathermap.org/data/2.5/history/wdl'\n",
    "start = range_2019.hour.min().value\n",
    "inter = range_2019.hour.max().value\n",
    "end = range_2019.hour.max().value\n",
    "# tail1 = tail.min().value\n",
    "# tail2 = tail.max().value\n",
    "params = {\n",
    "    'id':'3165524', # ID of Turin\n",
    "    'type':'hour',\n",
    "    'start':str(start)[:10], # unix time\n",
    "    'end':str(end)[:10],\n",
    "    'appid': OWM_API\n",
    "}\n",
    "\n",
    "r = requests.get(req, params=params)\n",
    "\n",
    "\n",
    "# with open('data/weather.txt', 'w') as outfile:\n",
    "#     json.dump(r.json(), outfile)\n",
    "    \n",
    "weather = r.json()\n",
    "lst = weather.get('list')\n",
    "dct = {x.get('dt'):x.get('weather')[0].get('main') for x in lst}\n",
    "weather_df = pd.DataFrame.from_dict(dct, \n",
    "                                    orient='index', \n",
    "                                    columns=['weather']).reset_index().rename(columns={'index':'time'})\n",
    "weather_df['rain'] = weather_df.weather == 'Rain'"
   ]
  },
  {
   "cell_type": "code",
   "execution_count": null,
   "id": "light-tractor",
   "metadata": {
    "hidden": true,
    "id": "light-tractor"
   },
   "outputs": [],
   "source": [
    "lst = weather.get('list')\n",
    "dct = {x.get('dt'):x.get('main').get('temp') for x in lst}"
   ]
  },
  {
   "cell_type": "code",
   "execution_count": null,
   "id": "indoor-kenya",
   "metadata": {
    "hidden": true,
    "id": "indoor-kenya"
   },
   "outputs": [],
   "source": [
    "weather_df = pd.DataFrame.from_dict(dct, \n",
    "                                    orient='index', \n",
    "                                    columns=['temp']).reset_index().rename(columns={'index':'time'})\n",
    "weather_df['temp'] = weather_df.temp-273.15\n",
    "weather_df['time'] = pd.to_datetime(weather_df.time, unit='s')"
   ]
  },
  {
   "cell_type": "code",
   "execution_count": null,
   "id": "respective-quebec",
   "metadata": {
    "hidden": true,
    "id": "respective-quebec"
   },
   "outputs": [],
   "source": [
    "weather_df.info()"
   ]
  },
  {
   "cell_type": "code",
   "execution_count": null,
   "id": "warming-candle",
   "metadata": {
    "hidden": true,
    "id": "warming-candle"
   },
   "outputs": [],
   "source": [
    "merge_all = weather_df.merge(hourly_weather, left_on='time', right_index=True)"
   ]
  },
  {
   "cell_type": "code",
   "execution_count": null,
   "id": "worldwide-biology",
   "metadata": {
    "hidden": true,
    "id": "worldwide-biology",
    "scrolled": true
   },
   "outputs": [],
   "source": [
    "merge_all.to_csv('all_weather.csv')"
   ]
  },
  {
   "cell_type": "code",
   "execution_count": null,
   "id": "competitive-future",
   "metadata": {
    "hidden": true,
    "id": "competitive-future"
   },
   "outputs": [],
   "source": [
    "merge_all"
   ]
  },
  {
   "cell_type": "markdown",
   "id": "revised-antenna",
   "metadata": {
    "heading_collapsed": true,
    "id": "revised-antenna"
   },
   "source": [
    "## Matches Data"
   ]
  },
  {
   "cell_type": "code",
   "execution_count": null,
   "id": "dedicated-europe",
   "metadata": {
    "hidden": true,
    "id": "dedicated-europe"
   },
   "outputs": [],
   "source": [
    "# API KEY\n",
    "load_dotenv(find_dotenv())\n",
    "FOOTBALL = os.environ.get(\"FOOTBALL\")"
   ]
  },
  {
   "cell_type": "code",
   "execution_count": null,
   "id": "plastic-routine",
   "metadata": {
    "hidden": true,
    "id": "plastic-routine"
   },
   "outputs": [],
   "source": [
    "# headers = {'X-Auth-Token': FOOTBALL}\n",
    "# url = 'https://api.football-data.org/v2/matches'\n",
    "# params = {'dateFrom': '2018-04-14',\n",
    "#          'dateTo': '2018-04-16'}\n",
    "# r = requests.get(url, headers=headers, params=params)\n",
    "# r.json()"
   ]
  },
  {
   "cell_type": "code",
   "execution_count": null,
   "id": "peripheral-charles",
   "metadata": {
    "hidden": true,
    "id": "peripheral-charles"
   },
   "outputs": [],
   "source": [
    "root = 'raw_data/football/'\n",
    "dfs = []\n",
    "for i in os.listdir(root):\n",
    "    if '.csv' in i:\n",
    "        df = pd.read_csv(root+i)\n",
    "        dfs.append(df)"
   ]
  },
  {
   "cell_type": "code",
   "execution_count": null,
   "id": "assisted-airport",
   "metadata": {
    "hidden": true,
    "id": "assisted-airport"
   },
   "outputs": [],
   "source": [
    "# filter all by juve\n",
    "juve1 = dfs[0][(dfs[0]['HomeTeam'] == 'Juventus') \\\n",
    "              | (dfs[0]['AwayTeam'] == 'Juventus')]['Date']\n",
    "juve1 = pd.to_datetime(juve1, format='%d/%m/%Y')\n",
    "\n",
    "juve2 = dfs[1][(dfs[1]['Home Team'] == 'Juventus') \\\n",
    "               | (dfs[1]['Away Team'] == 'Juventus')]['Date']\n",
    "juve2 = pd.to_datetime(juve2.apply(lambda x: x[:10]), format=\"%d/%m/%Y\")\n",
    "\n",
    "juve3 = dfs[2][(dfs[2]['HomeTeam'] == 'Juventus') \\\n",
    "              | (dfs[2]['AwayTeam'] == 'Juventus')]['Date']\n",
    "juve3 = pd.to_datetime(juve3, format='%d/%m/%y')\n",
    "\n",
    "juve4 = dfs[3][(dfs[3]['Home Team'] == 'Juventus') \\\n",
    "               | (dfs[3]['Away Team'] == 'Juventus')]['Date']\n",
    "juve4 = pd.to_datetime(juve4.apply(lambda x: x[:10]), format=\"%d/%m/%Y\")"
   ]
  },
  {
   "cell_type": "code",
   "execution_count": null,
   "id": "pressed-legislature",
   "metadata": {
    "hidden": true,
    "id": "pressed-legislature"
   },
   "outputs": [],
   "source": [
    "# concat all dates\n",
    "all_concat = pd.DataFrame(pd.concat([juve1, juve2, juve3, juve4]))\n",
    "# all_concat['Date'] = pd.to_datetime(all_concat.Date)\n",
    "all_concat['is_match'] = 1"
   ]
  },
  {
   "cell_type": "code",
   "execution_count": null,
   "id": "irish-booking",
   "metadata": {
    "hidden": true,
    "id": "irish-booking"
   },
   "outputs": [],
   "source": [
    "all_concat.sort_values(by='Date')"
   ]
  },
  {
   "cell_type": "code",
   "execution_count": null,
   "id": "intelligent-wyoming",
   "metadata": {
    "hidden": true,
    "id": "intelligent-wyoming"
   },
   "outputs": [],
   "source": [
    "# get all 2018 matches\n",
    "all_concat_2018 = all_concat[(all_concat.Date > '01-01-2018') \\\n",
    "                            & (all_concat.Date < '2018-12-31')]"
   ]
  },
  {
   "cell_type": "code",
   "execution_count": null,
   "id": "accredited-cartoon",
   "metadata": {
    "hidden": true,
    "id": "accredited-cartoon"
   },
   "outputs": [],
   "source": [
    "# put in 2018 time series\n",
    "r = pd.date_range('2018-01-01', '2018-12-31', freq='h')\n",
    "matches = all_concat_2018.set_index('Date').reindex(r).rename_axis('Date').reset_index()"
   ]
  },
  {
   "cell_type": "code",
   "execution_count": null,
   "id": "later-programming",
   "metadata": {
    "hidden": true,
    "id": "later-programming"
   },
   "outputs": [],
   "source": [
    "matches.head()"
   ]
  },
  {
   "cell_type": "code",
   "execution_count": null,
   "id": "spare-london",
   "metadata": {
    "hidden": true,
    "id": "spare-london"
   },
   "outputs": [],
   "source": [
    "matches.to_csv('raw_data/football/matches_2018.csv')"
   ]
  },
  {
   "cell_type": "markdown",
   "id": "straight-uzbekistan",
   "metadata": {
    "heading_collapsed": true,
    "id": "straight-uzbekistan"
   },
   "source": [
    "## Opening Hours Data"
   ]
  },
  {
   "cell_type": "markdown",
   "id": "adopted-glenn",
   "metadata": {
    "hidden": true,
    "id": "adopted-glenn"
   },
   "source": [
    "This part is a bit messy, so we will explain: \n",
    "We used the ```nearbysearch``` [Link](https://developers.google.com/maps/documentation/places/web-service/search#PlaceSearchRequests) to get all the ```bars``` and ```restaurants``` business hours. \n",
    "\n",
    "Then we fetch the unique id ```reference``` from the list of businesses and run it through the ```place_details``` API [Link](https://developers.google.com/maps/documentation/places/web-service/details)\n",
    "\n",
    "From there we extract all the ```open``` (time-)elements and ```close``` (time-)elements and stack them in a dataframe divided by days of the week (0-6). \n",
    "\n",
    "In the end we merge the findings with an empty time series of 2018 with an 'hourly' sequence. \n"
   ]
  },
  {
   "cell_type": "code",
   "execution_count": null,
   "id": "understanding-opera",
   "metadata": {
    "hidden": true,
    "id": "understanding-opera"
   },
   "outputs": [],
   "source": [
    "# API KEY\n",
    "load_dotenv(find_dotenv())\n",
    "GOOGLE = os.environ.get(\"GOOGLE\")"
   ]
  },
  {
   "cell_type": "code",
   "execution_count": null,
   "id": "varying-engineer",
   "metadata": {
    "hidden": true,
    "id": "varying-engineer"
   },
   "outputs": [],
   "source": [
    "# first find all bars\n",
    "\n",
    "url = 'https://maps.googleapis.com/maps/api/place/nearbysearch/json'\n",
    "params = {            \n",
    "            'location':'45.05917,7.67899', #sensor\n",
    "            'radius':'200',\n",
    "            'type':'restaurant',\n",
    "            'key':GOOGLE,\n",
    "            'next_page_token':'Aap_uED24ODLIlOhPdAHG7xFrCg_OrsQ_jAruvTm3QSG4Qbnp5Q85Aa4K7ar-QgnGI7Xnl1epc9YIEj17piMfVpFUxQysBwi8XTzdWbtl6IBGKTKQwV_kxhaAUWr8JG6XVo-BVKHd8NJUwiTP-_uQvkKxc5vLZ4-v6T8ZBuS42zw5DE1L2KgNPCbm86EsPhPYOj8L1MXTRdEm_GhmQSdOt8nDxG4gKkbxiXvmHNTmuBLavqN-VrbpkRBBoVZz_t2P53_ShPgndMEwlt55EYlZHCYK2gHymy9WJjMjKn3VzS6CfcTQJ-TjgsxsrRjSqNXV4T5i2qusSJ__gsam11RBY8XRADB31i-ec_wYCh1529gNKKy9tdQbidVaQjAI72wQ-7yzTZXGzxpz8ob_DHkdVdyJLxijWoHqsXY7oQM-W3Db0u08SHwaooMyb3Da9Ij'\n",
    "         } \n",
    "\n",
    "r = requests.get(url, params=params)\n",
    "r.json()"
   ]
  },
  {
   "cell_type": "code",
   "execution_count": null,
   "id": "christian-coaching",
   "metadata": {
    "hidden": true,
    "id": "christian-coaching"
   },
   "outputs": [],
   "source": [
    "results = r.json().get('results')\n",
    "results2 = r.json().get('results')\n",
    "results3 = r.json().get('results')\n",
    "results4 = r.json().get('results')\n",
    "results5 = r.json().get('results')\n",
    "results6 = r.json().get('results')"
   ]
  },
  {
   "cell_type": "code",
   "execution_count": null,
   "id": "beginning-decrease",
   "metadata": {
    "hidden": true,
    "id": "beginning-decrease"
   },
   "outputs": [],
   "source": [
    "bars = results + results2 + results3 + results4 + results5 + results6\n",
    "restaurants = results + results2 + results3 + results4 + results5 + results6\n",
    "len(restaurants)"
   ]
  },
  {
   "cell_type": "code",
   "execution_count": null,
   "id": "known-consciousness",
   "metadata": {
    "hidden": true,
    "id": "known-consciousness"
   },
   "outputs": [],
   "source": [
    "# get specific opening hrs from fetched bars/restaurants\n",
    "url = 'https://maps.googleapis.com/maps/api/place/details/json'\n",
    "params = {\n",
    "    'key':GOOGLE,\n",
    "    'fields':'opening_hours'\n",
    "         }\n",
    "opening_hrs = []\n",
    "for bar in restaurants:\n",
    "    reference = bar.get('reference')\n",
    "    params['place_id'] = reference\n",
    "    r = requests.get(url, params=params)\n",
    "    opening_hrs.append(r)"
   ]
  },
  {
   "cell_type": "code",
   "execution_count": null,
   "id": "champion-people",
   "metadata": {
    "hidden": true,
    "id": "champion-people"
   },
   "outputs": [],
   "source": [
    "contents_hrs = [r.json() for r in opening_hrs]\n",
    "periods = []\n",
    "for x in contents_hrs:\n",
    "    try:\n",
    "        hr = x.get('result').get('opening_hours').get('periods')\n",
    "        periods.append(hr)\n",
    "    except:\n",
    "        pass"
   ]
  },
  {
   "cell_type": "code",
   "execution_count": null,
   "id": "exact-scroll",
   "metadata": {
    "hidden": true,
    "id": "exact-scroll"
   },
   "outputs": [],
   "source": [
    "# remove 24h open bars\n",
    "new = [x for x in periods if len(x) > 1]"
   ]
  },
  {
   "cell_type": "code",
   "execution_count": null,
   "id": "detailed-agent",
   "metadata": {
    "hidden": true,
    "id": "detailed-agent"
   },
   "outputs": [],
   "source": [
    "closing = []\n",
    "for x in new:\n",
    "    for i in x:\n",
    "        _close = i.get('close')\n",
    "        closing.append(_close)\n",
    "opening = []\n",
    "for x in new:\n",
    "    for i in x:\n",
    "        _open = i.get('open')\n",
    "        opening.append(_open)"
   ]
  },
  {
   "cell_type": "code",
   "execution_count": null,
   "id": "impressed-bandwidth",
   "metadata": {
    "hidden": true,
    "id": "impressed-bandwidth"
   },
   "outputs": [],
   "source": [
    "opening_times_rest = pd.DataFrame(opening)\n",
    "closing_times_rest = pd.DataFrame(closing)\n",
    "closing_times_rest['time'] = pd.to_datetime(closing_times_rest['time'], format='%H%M')\n",
    "opening_times_rest['time'] = pd.to_datetime(opening_times_rest['time'], format='%H%M')\n",
    "closing_times_rest['day'] = closing_times_rest.day.apply(lambda x: x-1 if x != 0 else 6)\n",
    "opening_times_rest['day'] = opening_times_rest.day.apply(lambda x: x-1 if x != 0 else 6)"
   ]
  },
  {
   "cell_type": "code",
   "execution_count": null,
   "id": "introductory-outreach",
   "metadata": {
    "hidden": true,
    "id": "introductory-outreach"
   },
   "outputs": [],
   "source": [
    "# create unique day_hr identifier\n",
    "closing_times_rest['day_time'] = closing_times_rest.apply(lambda x: str(x.day) + '_' + str(x.time.hour), axis=1)\n",
    "opening_times_rest['day_time'] = opening_times_rest.apply(lambda x: str(x.day) + '_' + str(x.time.hour), axis=1)"
   ]
  },
  {
   "cell_type": "code",
   "execution_count": null,
   "id": "seventh-practitioner",
   "metadata": {
    "hidden": true,
    "id": "seventh-practitioner"
   },
   "outputs": [],
   "source": [
    "# put results in dataframe\n",
    "opening_times = pd.DataFrame(opening)\n",
    "closing_times = pd.DataFrame(closing)\n",
    "closing_times['time'] = pd.to_datetime(closing_times['time'], format='%H%M')\n",
    "opening_times['time'] = pd.to_datetime(opening_times['time'], format='%H%M')\n",
    "closing_times['day'] = closing_times.day.apply(lambda x: x-1 if x != 0 else 6)\n",
    "opening_times['day'] = opening_times.day.apply(lambda x: x-1 if x != 0 else 6)"
   ]
  },
  {
   "cell_type": "code",
   "execution_count": null,
   "id": "wireless-silly",
   "metadata": {
    "hidden": true,
    "id": "wireless-silly"
   },
   "outputs": [],
   "source": [
    "# create unique day_hr identifier\n",
    "closing_times['day_time'] = closing_times.apply(lambda x: str(x.day) + '_' + str(x.time.hour), axis=1)\n",
    "opening_times['day_time'] = opening_times.apply(lambda x: str(x.day) + '_' + str(x.time.hour), axis=1)"
   ]
  },
  {
   "cell_type": "code",
   "execution_count": null,
   "id": "unable-sarah",
   "metadata": {
    "hidden": true,
    "id": "unable-sarah"
   },
   "outputs": [],
   "source": [
    "closing_all = pd.concat([closing_times_rest, closing_times])\n",
    "opening_all = pd.concat([opening_times_rest, opening_times])"
   ]
  },
  {
   "cell_type": "code",
   "execution_count": null,
   "id": "removable-arrest",
   "metadata": {
    "hidden": true,
    "id": "removable-arrest"
   },
   "outputs": [],
   "source": [
    "# count all apperances of openings and closings per weekday\n",
    "agg_close = closing_all.groupby('day_time').agg({'day':'count'}).rename(columns={'day':'count_close'})\n",
    "agg_open = opening_all.groupby('day_time').agg({'day':'count'}).rename(columns={'day':'count_open'})\n",
    "agg_joint = agg_close.join(agg_open, how='outer')"
   ]
  },
  {
   "cell_type": "code",
   "execution_count": null,
   "id": "homeless-wrist",
   "metadata": {
    "hidden": true,
    "id": "homeless-wrist"
   },
   "outputs": [],
   "source": [
    "# init range 2018\n",
    "range_2018 = pd.DataFrame(pd.date_range('2018-01-01', '2018-12-31', freq='h'), columns=['hour'])\n",
    "range_2018['day_time'] =  range_2018.apply(lambda x: str(x.hour.weekday()) + '_' + str(x.hour.hour), axis=1)"
   ]
  },
  {
   "cell_type": "code",
   "execution_count": null,
   "id": "every-techno",
   "metadata": {
    "hidden": true,
    "id": "every-techno"
   },
   "outputs": [],
   "source": [
    "# join both\n",
    "\n",
    "opening_count_2018 = range_2018.merge(agg_joint, \n",
    "                                    on='day_time',\n",
    "                                    how='left').drop(columns='day_time')"
   ]
  },
  {
   "cell_type": "code",
   "execution_count": null,
   "id": "threatened-knife",
   "metadata": {
    "hidden": true,
    "id": "threatened-knife"
   },
   "outputs": [],
   "source": [
    "opening_times"
   ]
  },
  {
   "cell_type": "code",
   "execution_count": null,
   "id": "welcome-henry",
   "metadata": {
    "hidden": true,
    "id": "welcome-henry"
   },
   "outputs": [],
   "source": [
    "opening_count_2018.sort_values(by='count_open')"
   ]
  },
  {
   "cell_type": "code",
   "execution_count": null,
   "id": "qualified-drawing",
   "metadata": {
    "hidden": true,
    "id": "qualified-drawing"
   },
   "outputs": [],
   "source": [
    "opening_count_2018.to_csv('raw_data/opening_count_2018.csv')"
   ]
  },
  {
   "cell_type": "code",
   "execution_count": null,
   "id": "No9kMhk9EJwP",
   "metadata": {
    "hidden": true,
    "id": "No9kMhk9EJwP"
   },
   "outputs": [],
   "source": []
  },
  {
   "cell_type": "code",
   "execution_count": null,
   "id": "stsg_9K2EJsn",
   "metadata": {
    "hidden": true,
    "id": "stsg_9K2EJsn"
   },
   "outputs": [],
   "source": []
  },
  {
   "cell_type": "code",
   "execution_count": null,
   "id": "XPj_thXYEJqJ",
   "metadata": {
    "hidden": true,
    "id": "XPj_thXYEJqJ"
   },
   "outputs": [],
   "source": []
  },
  {
   "cell_type": "code",
   "execution_count": null,
   "id": "CYWIw5YREJmK",
   "metadata": {
    "hidden": true,
    "id": "CYWIw5YREJmK"
   },
   "outputs": [],
   "source": []
  },
  {
   "cell_type": "markdown",
   "id": "QC3Oa3f8EKIA",
   "metadata": {
    "id": "QC3Oa3f8EKIA"
   },
   "source": [
    "# Modelling "
   ]
  },
  {
   "cell_type": "markdown",
   "id": "hzV8NHNzFP0_",
   "metadata": {
    "id": "hzV8NHNzFP0_"
   },
   "source": [
    "##Preprocessing the final dataframe"
   ]
  },
  {
   "cell_type": "code",
   "execution_count": null,
   "id": "PKsXqfBzEJjz",
   "metadata": {
    "id": "PKsXqfBzEJjz"
   },
   "outputs": [],
   "source": [
    "df_merged = pd.read_csv('https://raw.githubusercontent.com/McNickSisto/world_data_league/main/stage_final/data/Noise_weather_wifi_sim_holidays_opencount_complaints_logvalues.csv')\n",
    "df_merged = df_merged.drop(columns=['Unnamed: 0'])"
   ]
  },
  {
   "cell_type": "markdown",
   "id": "1KGsP999EU1o",
   "metadata": {
    "id": "1KGsP999EU1o"
   },
   "source": [
    "For now let us consider log_avg (logarithmic average of C1, C2, C3, C4, C5), temp, rainfall, snowfall, isholiday, complaints_no, count_close, count_open"
   ]
  },
  {
   "cell_type": "code",
   "execution_count": null,
   "id": "Z5VNKOoAERkd",
   "metadata": {
    "id": "Z5VNKOoAERkd"
   },
   "outputs": [],
   "source": [
    "df_reg_1 = df_merged[['date_hour', 'temp', 'winds', 'rainfall_mm', 'snowfall_mm', 'isHoliday', 'date', 'hour', 'day', 'Log_Avg', 'Complaints_no', 'count_close']]\n",
    "df_reg_1 = df_reg_1.fillna(value={'count_close' : 0, 'winds' : 0, 'snowfall_mm':0 , 'rainfall_mm' : 0})\n",
    "df_reg_1['date_hour'] = pd.to_datetime(df_reg_1['date_hour'])\n",
    "df_reg_1 =  df_reg_1.set_index('date_hour')"
   ]
  },
  {
   "cell_type": "code",
   "execution_count": null,
   "id": "unTP5eSCEYv-",
   "metadata": {
    "id": "unTP5eSCEYv-"
   },
   "outputs": [],
   "source": [
    "cor = df_reg_1.corr()\n",
    "cor['Log_Avg'].sort_values()"
   ]
  },
  {
   "cell_type": "code",
   "execution_count": null,
   "id": "a2uC9LKNEfvQ",
   "metadata": {
    "id": "a2uC9LKNEfvQ"
   },
   "outputs": [],
   "source": [
    "df_close = df_reg_1.copy()"
   ]
  },
  {
   "cell_type": "markdown",
   "id": "-p_e7VDHErMM",
   "metadata": {
    "id": "-p_e7VDHErMM"
   },
   "source": [
    "## Getting Log_Avg values of previous times"
   ]
  },
  {
   "cell_type": "code",
   "execution_count": null,
   "id": "d0LBqf6OEqEO",
   "metadata": {
    "id": "d0LBqf6OEqEO"
   },
   "outputs": [],
   "source": [
    "def create_regressor_attributes(df, attribute, list_of_prev_t_instants) :\n",
    "    \n",
    "    list_of_prev_t_instants.sort()\n",
    "    start = list_of_prev_t_instants[-1] \n",
    "    end = len(df)\n",
    "    df['datetime'] = df.index\n",
    "    df.reset_index(drop=True)\n",
    "\n",
    "    df_copy = df[start:end]\n",
    "    df_copy.reset_index(inplace=True, drop=True)\n",
    "\n",
    "    for attribute in attribute :\n",
    "            foobar = pd.DataFrame()\n",
    "\n",
    "            for prev_t in list_of_prev_t_instants :\n",
    "                new_col = pd.DataFrame(df[attribute].iloc[(start - prev_t) : (end - prev_t)])\n",
    "                new_col.reset_index(drop=True, inplace=True)\n",
    "                new_col.rename(columns={attribute : '{}_(t-{})'.format(attribute, prev_t)}, inplace=True)\n",
    "                foobar = pd.concat([foobar, new_col], sort=False, axis=1)\n",
    "\n",
    "            df_copy = pd.concat([df_copy, foobar], sort=False, axis=1)\n",
    "            \n",
    "    df_copy.set_index(['datetime'], drop=True, inplace=True)\n",
    "    return df_copy"
   ]
  },
  {
   "cell_type": "code",
   "execution_count": null,
   "id": "bMnL7sPxE21U",
   "metadata": {
    "id": "bMnL7sPxE21U"
   },
   "outputs": [],
   "source": [
    "list_of_attributes = ['Log_Avg']\n",
    "\n",
    "list_of_prev_t_instants = []\n",
    "for i in range(24,361,24): #we can change this list as list of times with most impact\n",
    "    list_of_prev_t_instants.append(i)\n",
    "\n",
    "list_of_prev_t_instants"
   ]
  },
  {
   "cell_type": "code",
   "execution_count": null,
   "id": "ZxG_eYydFFNO",
   "metadata": {
    "id": "ZxG_eYydFFNO"
   },
   "outputs": [],
   "source": [
    "df_new = create_regressor_attributes(df_close, list_of_attributes, list_of_prev_t_instants)\n",
    "df_new.head()"
   ]
  },
  {
   "cell_type": "code",
   "execution_count": null,
   "id": "bYnpFFE4FIjA",
   "metadata": {
    "id": "bYnpFFE4FIjA"
   },
   "outputs": [],
   "source": [
    "df_new.corr()['Log_Avg'].sort_values()"
   ]
  },
  {
   "cell_type": "markdown",
   "id": "t8K_w6xTFeoO",
   "metadata": {
    "id": "t8K_w6xTFeoO"
   },
   "source": [
    "Probably we should do some more preprocessing. Currently I am sticking to just the modelling. Later on we can change it accordingly"
   ]
  },
  {
   "cell_type": "code",
   "execution_count": null,
   "id": "TmfC_8fEFJTb",
   "metadata": {
    "id": "TmfC_8fEFJTb"
   },
   "outputs": [],
   "source": [
    "df_new_1 = df_new[['Log_Avg', 'Log_Avg_(t-24)',\n",
    "       'Log_Avg_(t-48)', 'Log_Avg_(t-72)', 'Log_Avg_(t-96)', 'Log_Avg_(t-120)',\n",
    "       'Log_Avg_(t-144)', 'Log_Avg_(t-168)', 'Log_Avg_(t-192)','Log_Avg_(t-216)', 'Log_Avg_(t-240)',\n",
    "       'temp', 'winds', 'rainfall_mm', 'snowfall_mm', 'isHoliday', \n",
    "       'hour', 'day',  'Complaints_no', 'count_close']]"
   ]
  },
  {
   "cell_type": "markdown",
   "id": "kafyEnYTFlMq",
   "metadata": {
    "id": "kafyEnYTFlMq"
   },
   "source": [
    "##Spliting the dataset into train, validation and test sets"
   ]
  },
  {
   "cell_type": "code",
   "execution_count": null,
   "id": "rwhv84W5FsX0",
   "metadata": {
    "id": "rwhv84W5FsX0"
   },
   "outputs": [],
   "source": [
    "test_set_size = 0.05\n",
    "valid_set_size= 0.05\n",
    "\n",
    "df_copy = df_new_1.reset_index(drop=True)\n",
    "\n",
    "df_test = df_copy.iloc[ int(np.floor(len(df_copy)*(1-test_set_size))) : ]\n",
    "df_train_plus_valid = df_copy.iloc[ : int(np.floor(len(df_copy)*(1-test_set_size))) ]\n",
    "\n",
    "df_train = df_train_plus_valid.iloc[ : int(np.floor(len(df_train_plus_valid)*(1-valid_set_size))) ]\n",
    "df_valid = df_train_plus_valid.iloc[ int(np.floor(len(df_train_plus_valid)*(1-valid_set_size))) : ]\n",
    "\n",
    "\n",
    "X_train, y_train = df_train.iloc[:, 1:], df_train.iloc[:, 0]\n",
    "X_valid, y_valid = df_valid.iloc[:, 1:], df_valid.iloc[:, 0]\n",
    "X_test, y_test = df_test.iloc[:, 1:], df_test.iloc[:, 0]\n",
    "\n",
    "print('Shape of training inputs, training target:', X_train.shape, y_train.shape)\n",
    "print('Shape of validation inputs, validation target:', X_valid.shape, y_valid.shape)\n",
    "print('Shape of test inputs, test target:', X_test.shape, y_test.shape)"
   ]
  },
  {
   "cell_type": "markdown",
   "id": "ko82GCOGFuY_",
   "metadata": {
    "id": "ko82GCOGFuY_"
   },
   "source": [
    "## Implementing a minmaxscaler ## we can skip this"
   ]
  },
  {
   "cell_type": "code",
   "execution_count": null,
   "id": "q2fHLfvKFseY",
   "metadata": {
    "id": "q2fHLfvKFseY"
   },
   "outputs": [],
   "source": [
    "Target_scaler = MinMaxScaler(feature_range=(0.01, 0.99)) \n",
    "Feature_scaler = MinMaxScaler(feature_range=(0.01, 0.99))\n",
    "\n",
    "X_train_scaled = Feature_scaler.fit_transform(np.array(X_train))\n",
    "X_valid_scaled = Feature_scaler.fit_transform(np.array(X_valid))\n",
    "X_test_scaled = Feature_scaler.fit_transform(np.array(X_test))\n",
    "\n",
    "y_train_scaled = Target_scaler.fit_transform(np.array(y_train).reshape(-1,1))\n",
    "y_valid_scaled = Target_scaler.fit_transform(np.array(y_valid).reshape(-1,1))\n",
    "y_test_scaled = Target_scaler.fit_transform(np.array(y_test).reshape(-1,1))"
   ]
  },
  {
   "cell_type": "markdown",
   "id": "5w-9SITIF-NV",
   "metadata": {
    "id": "5w-9SITIF-NV"
   },
   "source": [
    "## Modelling"
   ]
  },
  {
   "cell_type": "markdown",
   "id": "xSwRq3NwGH2-",
   "metadata": {
    "id": "xSwRq3NwGH2-"
   },
   "source": [
    "currently adding all the model, based on the score we can use the top model and move the rest to appendix or delete them"
   ]
  },
  {
   "cell_type": "markdown",
   "id": "UPxCqhPXGE5B",
   "metadata": {
    "id": "UPxCqhPXGE5B"
   },
   "source": [
    "### Linear Regression"
   ]
  },
  {
   "cell_type": "code",
   "execution_count": null,
   "id": "2RD60asFGbdD",
   "metadata": {
    "id": "2RD60asFGbdD"
   },
   "outputs": [],
   "source": [
    "Lin_reg = LinearRegression()\n",
    "Lin_reg.fit(X_train_scaled, y_train_scaled)\n",
    "y_pred = Lin_reg.predict(X_test_scaled)\n",
    "y_pred_rescaled = Target_scaler.inverse_transform(y_pred)\n",
    "\n",
    "y_test_rescaled =  Target_scaler.inverse_transform(y_test_scaled)\n",
    "score = r2_score(y_test_rescaled, y_pred_rescaled)\n",
    "print('R-squared score for the test set: ', round(score,4))\n"
   ]
  },
  {
   "cell_type": "markdown",
   "id": "sN7IOr8VGebY",
   "metadata": {
    "id": "sN7IOr8VGebY"
   },
   "source": [
    "### Ridge Regression"
   ]
  },
  {
   "cell_type": "code",
   "execution_count": null,
   "id": "nST3_HQFGhQ3",
   "metadata": {
    "id": "nST3_HQFGhQ3"
   },
   "outputs": [],
   "source": [
    "ridge = Ridge(alpha=0.5)\n",
    "ridge.fit(X_train_scaled, y_train_scaled)\n",
    "y_pred = ridge.predict(X_test_scaled)\n",
    "y_pred_rescaled = Target_scaler.inverse_transform(y_pred)\n",
    "\n",
    "y_test_rescaled =  Target_scaler.inverse_transform(y_test_scaled)\n",
    "score = r2_score(y_test_rescaled, y_pred_rescaled)\n",
    "print('R-squared score for the test set: ', round(score,4))\n"
   ]
  },
  {
   "cell_type": "markdown",
   "id": "_AcrPXrcGj94",
   "metadata": {
    "id": "_AcrPXrcGj94"
   },
   "source": [
    "### Lasso Regression"
   ]
  },
  {
   "cell_type": "code",
   "execution_count": null,
   "id": "-4vCE08tGpBZ",
   "metadata": {
    "id": "-4vCE08tGpBZ"
   },
   "outputs": [],
   "source": [
    "\n",
    "Lasso = Lasso(alpha=0.2, fit_intercept=True, normalize=False, precompute=False, max_iter=1000,\n",
    "              tol=0.0001, warm_start=False, positive=False, random_state=None, selection='cyclic')\n",
    "Lasso.fit(X_train_scaled, y_train_scaled)\n",
    "y_pred = Lasso.predict(X_test_scaled)\n",
    "y_pred_rescaled = Target_scaler.inverse_transform(y_pred.reshape(-1,1))\n",
    "\n",
    "y_test_rescaled =  Target_scaler.inverse_transform(y_test_scaled)\n",
    "score = r2_score(y_test_rescaled, y_pred_rescaled)\n",
    "print('R-squared score for the test set: ', round(score,4))\n"
   ]
  },
  {
   "cell_type": "markdown",
   "id": "6tvHMxatGsWr",
   "metadata": {
    "id": "6tvHMxatGsWr"
   },
   "source": [
    "### Decision Tree regression"
   ]
  },
  {
   "cell_type": "code",
   "execution_count": null,
   "id": "lCOFoeAnGrq3",
   "metadata": {
    "id": "lCOFoeAnGrq3"
   },
   "outputs": [],
   "source": [
    "tree_model = DecisionTreeRegressor()\n",
    "tree_model.fit(X_train_scaled, y_train_scaled)\n",
    "y_pred = tree_model.predict(X_test_scaled)\n",
    "y_pred_rescaled = Target_scaler.inverse_transform(y_pred.reshape(-1,1))\n",
    "\n",
    "y_test_rescaled =  Target_scaler.inverse_transform(y_test_scaled)\n",
    "score = r2_score(y_test_rescaled, y_pred_rescaled)\n",
    "print('R-squared score for the test set: ', round(score,4))"
   ]
  },
  {
   "cell_type": "markdown",
   "id": "Y5Z6mLjyGw6a",
   "metadata": {
    "id": "Y5Z6mLjyGw6a"
   },
   "source": [
    "### Random Forest Regressor"
   ]
  },
  {
   "cell_type": "code",
   "execution_count": null,
   "id": "mI4PsdRxG0w_",
   "metadata": {
    "id": "mI4PsdRxG0w_"
   },
   "outputs": [],
   "source": [
    "Rfr = rfr(n_estimators = 100, criterion = 'mse',\n",
    "                              random_state = 1,\n",
    "                              n_jobs = -1)\n",
    "Rfr.fit(X_train_scaled, y_train_scaled)\n",
    "y_pred = Rfr.predict(X_test_scaled)\n",
    "y_pred_rescaled = Target_scaler.inverse_transform(y_pred.reshape(-1,1))\n",
    "\n",
    "y_test_rescaled =  Target_scaler.inverse_transform(y_test_scaled)\n",
    "score = r2_score(y_test_rescaled, y_pred_rescaled)\n",
    "print('R-squared score for the test set: ', round(score,4))\n"
   ]
  },
  {
   "cell_type": "markdown",
   "id": "2lPtLE_IG3so",
   "metadata": {
    "id": "2lPtLE_IG3so"
   },
   "source": [
    "###Polynomial Regression"
   ]
  },
  {
   "cell_type": "code",
   "execution_count": null,
   "id": "cBq3R7I2G3Oy",
   "metadata": {
    "id": "cBq3R7I2G3Oy"
   },
   "outputs": [],
   "source": [
    "pol = PolynomialFeatures (degree = 2)\n",
    "x_pol = pol.fit_transform(X_train)\n",
    "Pol_reg = LinearRegression()\n",
    "Pol_reg.fit(X_train_scaled, y_train_scaled)\n",
    "y_pred = Pol_reg.predict(X_test_scaled)\n",
    "y_pred_rescaled = Target_scaler.inverse_transform(y_pred.reshape(-1,1))\n",
    "\n",
    "y_test_rescaled =  Target_scaler.inverse_transform(y_test_scaled)\n",
    "score = r2_score(y_test_rescaled, y_pred_rescaled)\n",
    "print('R-squared score for the test set: ', round(score,4))"
   ]
  },
  {
   "cell_type": "markdown",
   "id": "2HqGpvrbG8lK",
   "metadata": {
    "id": "2HqGpvrbG8lK"
   },
   "source": [
    "### Basic Neural Network"
   ]
  },
  {
   "cell_type": "code",
   "execution_count": null,
   "id": "NlFFvUA5G74r",
   "metadata": {
    "id": "NlFFvUA5G74r"
   },
   "outputs": [],
   "source": [
    "model_nn = keras.Sequential([\n",
    "  # the hidden layer\n",
    "   layers.Dense(64, activation='sigmoid'),\n",
    "    # the linear output layer \n",
    "    layers.Dense(units=1, input_shape=[X_train_scaled.shape[1]])\n",
    "])\n",
    "model_nn.compile(loss= 'mean_squared_error', optimizer='adam')\n",
    "history_nn = model_nn.fit(X_train_scaled, y_train_scaled, epochs=50)\n",
    "\n",
    "y_pred = model_nn.predict(X_test_scaled)\n",
    "y_pred_rescaled = Target_scaler.inverse_transform(y_pred.reshape(-1,1))\n",
    "\n",
    "y_test_rescaled =  Target_scaler.inverse_transform(y_test_scaled)\n",
    "score = r2_score(y_test_rescaled, y_pred_rescaled)\n",
    "print('R-squared score for the test set: ', round(score,4))"
   ]
  },
  {
   "cell_type": "markdown",
   "id": "Q9umzCpBHOqa",
   "metadata": {
    "id": "Q9umzCpBHOqa"
   },
   "source": [
    "###LSTM RNN"
   ]
  },
  {
   "cell_type": "markdown",
   "id": "DWv6GoMwHTBB",
   "metadata": {
    "id": "DWv6GoMwHTBB"
   },
   "source": [
    "#### Preprocessing for LSTM RNN"
   ]
  },
  {
   "cell_type": "code",
   "execution_count": null,
   "id": "9XiL2FRTHObO",
   "metadata": {
    "id": "9XiL2FRTHObO"
   },
   "outputs": [],
   "source": [
    "X_train_lstm = np.reshape(X_train_scaled,(X_train_scaled.shape[0], X_train_scaled.shape[1],1) )\n",
    "y_train_lstm = np.reshape(y_train_scaled, (y_train_scaled.shape[0]))\n",
    "\n",
    "X_valid_lstm = np.reshape(X_valid_scaled,(X_valid_scaled.shape[0], X_valid_scaled.shape[1],1) )\n",
    "y_valid_lstm = np.reshape(y_valid_scaled, (y_valid_scaled.shape[0]))\n",
    "\n",
    "X_test_lstm = np.reshape(X_test_scaled,(X_test_scaled.shape[0], X_test_scaled.shape[1],1) )\n",
    "y_test_lstm = np.reshape(y_test_scaled, (y_test_scaled.shape[0]))\n"
   ]
  },
  {
   "cell_type": "code",
   "execution_count": null,
   "id": "_Q9jrOz6HX5s",
   "metadata": {
    "id": "_Q9jrOz6HX5s"
   },
   "outputs": [],
   "source": [
    "model = Sequential()\n",
    "model.add(LSTM(units=50, return_sequences=True, input_shape=(X_train_lstm.shape[1], 1)))\n",
    "\n",
    "model.add(LSTM(units=50, return_sequences=True))\n",
    "model.add(Dropout(0.2))\n",
    "\n",
    "model.add(LSTM(units=50, return_sequences=True))\n",
    "model.add(Dropout(0.2))\n",
    "\n",
    "model.add(LSTM(units=50))\n",
    "model.add(Dropout(0.2))\n",
    "\n",
    "model.add(Dense(units = 1))\n",
    "\n",
    "model.compile(loss='mean_squared_error', optimizer='adam')\n",
    "model.summary()"
   ]
  },
  {
   "cell_type": "code",
   "execution_count": null,
   "id": "4tFZ46huHcFy",
   "metadata": {
    "id": "4tFZ46huHcFy"
   },
   "outputs": [],
   "source": [
    "model.fit(x=X_train_lstm, y=y_train_lstm, batch_size=5, epochs=30, verbose=1, validation_data=(X_valid_lstm, y_valid_lstm), shuffle=True)"
   ]
  },
  {
   "cell_type": "code",
   "execution_count": null,
   "id": "Hw2JpMTwHxAr",
   "metadata": {
    "id": "Hw2JpMTwHxAr"
   },
   "outputs": [],
   "source": [
    "loss_per_epoch = model.history.history['loss']\n",
    "val_loss_per_epoch = model.history.history['val_loss']"
   ]
  },
  {
   "cell_type": "code",
   "execution_count": null,
   "id": "wEM3vNsbHzgR",
   "metadata": {
    "id": "wEM3vNsbHzgR"
   },
   "outputs": [],
   "source": [
    "y_pred = model.predict(X_test_lstm)\n",
    "y_pred_rescaled = Target_scaler.inverse_transform(y_pred)\n",
    "y_test_rescaled =  Target_scaler.inverse_transform(y_test_scaled)\n",
    "score = r2_score(y_test_rescaled, y_pred_rescaled)"
   ]
  },
  {
   "cell_type": "markdown",
   "id": "OeYwaPHvHfzT",
   "metadata": {
    "id": "OeYwaPHvHfzT"
   },
   "source": [
    "#### Plotting loss values ##can skip this if we are not using LSTM "
   ]
  },
  {
   "cell_type": "code",
   "execution_count": null,
   "id": "CWfbtkLeHej1",
   "metadata": {
    "id": "CWfbtkLeHej1"
   },
   "outputs": [],
   "source": [
    "import matplotlib.pyplot as plt\n",
    "plt.figure(figsize=(12,5))\n",
    "plt.plot(loss_per_epoch);\n",
    "plt.plot(val_loss_per_epoch);\n",
    "plt.title(\"LSTM model loss in MSE\");\n",
    "plt.ylabel(\"loss\");\n",
    "plt.xlabel(\"Epochs\");\n",
    "plt.legend(['train', 'val']);"
   ]
  },
  {
   "cell_type": "code",
   "execution_count": null,
   "id": "bQ3JXrUTH1V2",
   "metadata": {
    "id": "bQ3JXrUTH1V2"
   },
   "outputs": [],
   "source": [
    "y_axis = list(df_new_1.index)[-854:]\n",
    "y_actual = pd.DataFrame(y_test_rescaled, columns=['Actual'])\n",
    "y_hat = pd.DataFrame(y_pred_rescaled, columns=['Predicted'])\n",
    "positions = [0,100,200,300,400,500,600,700,800]\n",
    "selected_labels = []\n",
    "for i in positions:\n",
    "  selected_labels.append(y_axis[i])\n",
    "\n",
    "plt.figure(figsize=(18, 10))\n",
    "plt.plot(y_actual, linestyle='solid', color='r')\n",
    "plt.plot(y_hat, linestyle='dashed', color='b')\n",
    "plt.xticks(positions, selected_labels)\n",
    "plt.legend(['Actual','Predicted'], loc='best', prop={'size': 14})\n",
    "plt.title('SSTA in test', weight='bold', fontsize=16)\n",
    "plt.grid(color = 'y', linewidth='0.5')\n",
    "plt.show()"
   ]
  },
  {
   "cell_type": "code",
   "execution_count": null,
   "id": "QFlyLJqUHyub",
   "metadata": {
    "id": "QFlyLJqUHyub"
   },
   "outputs": [],
   "source": []
  }
 ],
 "metadata": {
  "colab": {
   "collapsed_sections": [
    "traditional-insulin",
    "designing-pickup",
    "tropical-guest",
    "agreed-webster",
    "varying-constant",
    "adult-jason",
    "heated-thread",
    "potential-affiliation",
    "alert-effects"
   ],
   "name": "final_notebook_3_0.ipynb",
   "provenance": []
  },
  "kernelspec": {
   "display_name": "Python 3",
   "language": "python",
   "name": "python3"
  },
  "language_info": {
   "codemirror_mode": {
    "name": "ipython",
    "version": 3
   },
   "file_extension": ".py",
   "mimetype": "text/x-python",
   "name": "python",
   "nbconvert_exporter": "python",
   "pygments_lexer": "ipython3",
   "version": "3.8.6"
  },
  "toc": {
   "base_numbering": 1,
   "nav_menu": {},
   "number_sections": true,
   "sideBar": true,
   "skip_h1_title": false,
   "title_cell": "Table of Contents",
   "title_sidebar": "Contents",
   "toc_cell": false,
   "toc_position": {},
   "toc_section_display": true,
   "toc_window_display": false
  }
 },
 "nbformat": 4,
 "nbformat_minor": 5
}
