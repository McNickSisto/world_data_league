{
 "cells": [
  {
   "cell_type": "markdown",
   "id": "broken-radical",
   "metadata": {
    "id": "broken-radical"
   },
   "source": [
    "# Final Challenge: Noise Pollution"
   ]
  },
  {
   "cell_type": "code",
   "execution_count": 1,
   "id": "warming-reservation",
   "metadata": {
    "id": "warming-reservation",
    "scrolled": true
   },
   "outputs": [],
   "source": [
    "import pandas as pd\n",
    "import requests\n",
    "from io import BytesIO"
   ]
  },
  {
   "cell_type": "markdown",
   "id": "southeast-speaking",
   "metadata": {
    "id": "southeast-speaking"
   },
   "source": [
    "## Context"
   ]
  },
  {
   "cell_type": "markdown",
   "id": "significant-street",
   "metadata": {
    "id": "significant-street"
   },
   "source": [
    "1. Introduction\n",
    "In the last two decades changes in individuals’\n",
    "behaviors, modifications of cities rhythms and\n",
    "investments of Municipalities to revitalize\n",
    "historical city centers led to increasing open-air\n",
    "nightlife activities.\n",
    "This is true especially in Italy (like others\n",
    "Mediterranean and university cities), where a large\n",
    "number of young people usually meet in\n",
    "residential historic districts, attracted by a high\n",
    "density of restaurants, bars, pubs, and clubs, and\n",
    "spent all night for several days each week chatting\n",
    "and drinking. Often the center of nightlife changes\n",
    "in a few years, following new trends and new\n",
    "commercial initiatives, renewing the need for both\n",
    "citizens and the public administration to find a\n",
    "good balance between amusement, security, and\n",
    "quality of public spaces.\n",
    "Municipalities are called to face this dynamic\n",
    "phenomenon and its negative externalities, firstly\n",
    "leisure noise, where sources are mostly people\n",
    "with their behaviors in an urban open space.\n",
    "\n",
    "In this paper, the approach of the City of Torino to\n",
    "this complex challenge in the San Salvario district\n",
    "is described, from the deployment of an ad hoc\n",
    "sound monitoring network, the collection, and\n",
    "analysis of data, the evaluation of indicators for\n",
    "communication activities to the implementation\n",
    "and monitoring of reduction actions. \n",
    "\n",
    "2. San Salvario District area\n",
    "The area of interest is part of the historic district of\n",
    "San Salvario, located near the central railway\n",
    "station and bounded by Vittorio Emanuele II\n",
    "(North), Nizza (West), Madama Cristina (East) and\n",
    "Marconi (South) boulevards.\n",
    "This residential area is characterized by the grid\n",
    "plan typical of the old neighborhoods of Torino;\n",
    "with about 470 four/five floors buildings with an\n",
    "internal court; about 7300 people live in the area\n",
    "with a surface of 0,26 km2\n",
    ".\n",
    "The district hosts a daily big open market and\n",
    "offers various commercial activities. Home to an\n",
    "increasing immigrants' community, the district is\n",
    "an example of cultural integration. \n",
    "\n",
    "2.1 Nightlife “Movida” and noise issues\n",
    "Starting from the 90s, the nightlife grew in this\n",
    "city district thanks to a lot of pubs, low-cost bars,\n",
    "restaurants, liquor stores and wine cellars,\n",
    "boutiques and multi-ethnic shops that have been\n",
    "opened. These activities stay open until late and\n",
    "have completely reshaped the map of city\n",
    "entertainment, known as “Movida” [from Spanish:\n",
    "movement, happening].\n",
    "The nightlife hot spots in San Salvario are in Largo\n",
    "Saluzzo and Via Baretti, where crowds gradually\n",
    "increase, from the areas in front of bars until\n",
    "occupying all public spaces, thus causing huge\n",
    "side effects: noise (chatting, shouting, quarrels),\n",
    "traffic blockages, irregular parking, obstruction of\n",
    "driveways, rubbish on the ground, etc.\n",
    "The City Administration conducted some spot\n",
    "monitoring campaigns on noise levels in summer\n",
    "time; those measurements revealed that the legal\n",
    "zonal limits (50 dB(A) Leq night (22-06) and 55 dB(A)\n",
    "Leq 1hour on the façades) where overpassed during\n",
    "the weekend nights, with Leq night form 58 dB(A) up\n",
    "to 72 dB(A) and Leq 1hour from 64 dB(A) up to 75\n",
    "dB(A) between 11 PM and 3 AM.\n",
    "These campaigns pointed a high variability of\n",
    "noise levels in the area when a lot of people meet\n",
    "in narrow streets; they also showed how difficult\n",
    "could be controlling noise levels in open urban\n",
    "spaces.\n",
    "At the same time, citizens asked for more\n",
    "information and actions to face the noise problems\n",
    "caused by “Movida” and they conducted by\n",
    "themselves extra surveys on noise levels and noise\n",
    "effects [8].\n",
    "To promote an integrated approach to the\n",
    "management of “Movida”, the Municipality\n",
    "decided to strengthen its knowledge of noise levels\n",
    "in San Salvario district and started the design and\n",
    "implementation of an ad hoc noise monitoring\n",
    "network. \n",
    "\n",
    "The location of sensors was optimized to cover all\n",
    "significant feature of “Movida” area (Figure 3):\n",
    "one in a very crowded square (S_03, not active in\n",
    "daytime), three in narrow streets with pubs and\n",
    "bars (S_01, S_04, S_05), one in a boulevard for\n",
    "traffic noise measurement (S_06) and the last one\n",
    "in a quieter area with no crowd and low traffic\n",
    "(S_02), for global reference. The choice of points\n",
    "of installation was driven also by the power\n",
    "supply, so light poles, public offices and bike\n",
    "sharing station where preferred. \n"
   ]
  },
  {
   "cell_type": "markdown",
   "id": "minus-notice",
   "metadata": {
    "id": "minus-notice"
   },
   "source": [
    "Previous Initiatives:\n",
    "4.2 City Ordinances for noise reduction\n",
    "In Summer 2017, two City Ordinances entered in\n",
    "force, with the aim to limit noise pollution of\n",
    "“Movida” in the central area, San Salvario district\n",
    "included.\n",
    "The first one, Ordinance n. 46, limits alcohol\n",
    "takeaway selling, as many people reach the area of\n",
    "“Movida” and buy alcohol in bottles at a low\n",
    "price, spending all night wandering or sitting in the\n",
    "streets, chatting and shouting. So, takeaway selling\n",
    "alcohol in bottles was forbidden after 8 PM and for\n",
    "all night, establishing the same rules for bars,\n",
    "shop, and store. This Ordinance stayed in force\n",
    "from 8th June until 30th September.\n",
    "The second one, Ordinance n. 60, limits serving\n",
    "food and beverage in terraces or outside bars and\n",
    "shop, as many people stay outside these venues\n",
    "enjoying mild weather, or smoking, or because of\n",
    "overcrowding, disturbing inhabitants with an\n",
    "increasing din. Serving food and beverage was\n",
    "forbidden after 1:30 AM (from Monday to\n",
    "Thursday), after 2 AM (Friday) or after 3 AM\n",
    "(Saturday, Sunday and feast day). Furthermore, a\n",
    "compulsory presence of stewards was introduced,\n",
    "to limit bad behaviours of customers. This\n",
    "Ordinance stayed in force from 8th July until 30th\n",
    "July.\n",
    "Data collected allowed the assessment of effects\n",
    "induced to the new regulations on Lnights levels,\n",
    "proving that both Ordinances led to a noise\n",
    "reduction, with a cumulative benefit of more than\n",
    "3 dB(A) (Table 2).\n",
    "Table 2. Leisure noise improvements in summer 2017,\n",
    "S_03 point\n",
    "Lnight\n",
    "Ordinance\n",
    "n. 42 8\n",
    "th\n",
    "June30th September\n",
    "Ordinance\n",
    "n.60 8th-30th\n",
    "July\n",
    "1\n",
    "st October31th December\n",
    "2016 69.8 70.4 68.9\n",
    "2017 67.7 66.9 68.4\n",
    "∆ -2.1 -3.5 -0.5"
   ]
  },
  {
   "cell_type": "code",
   "execution_count": 3,
   "id": "legal-thought",
   "metadata": {
    "colab": {
     "base_uri": "https://localhost:8080/",
     "height": 203
    },
    "id": "legal-thought",
    "outputId": "cc293cfe-e27d-4d44-c8a2-c780201f76a8",
    "scrolled": false
   },
   "outputs": [
    {
     "ename": "FileNotFoundError",
     "evalue": "[Errno 2] No such file or directory: '/content/drive/MyDrive/finals/noise_sensor_list.csv'",
     "output_type": "error",
     "traceback": [
      "\u001b[0;31m---------------------------------------------------------------------------\u001b[0m",
      "\u001b[0;31mFileNotFoundError\u001b[0m                         Traceback (most recent call last)",
      "\u001b[0;32m<ipython-input-3-2630ab569c03>\u001b[0m in \u001b[0;36m<module>\u001b[0;34m\u001b[0m\n\u001b[0;32m----> 1\u001b[0;31m \u001b[0mdf_sensors_def\u001b[0m \u001b[0;34m=\u001b[0m \u001b[0mpd\u001b[0m\u001b[0;34m.\u001b[0m\u001b[0mread_csv\u001b[0m\u001b[0;34m(\u001b[0m\u001b[0;34m'/content/drive/MyDrive/finals/noise_sensor_list.csv'\u001b[0m\u001b[0;34m,\u001b[0m \u001b[0msep\u001b[0m\u001b[0;34m=\u001b[0m\u001b[0;34m';'\u001b[0m\u001b[0;34m)\u001b[0m\u001b[0;34m\u001b[0m\u001b[0;34m\u001b[0m\u001b[0m\n\u001b[0m\u001b[1;32m      2\u001b[0m \u001b[0mdf_sensors_def\u001b[0m\u001b[0;34m\u001b[0m\u001b[0;34m\u001b[0m\u001b[0m\n",
      "\u001b[0;32m~/.pyenv/versions/3.8.6/envs/lewagon/lib/python3.8/site-packages/pandas/io/parsers.py\u001b[0m in \u001b[0;36mread_csv\u001b[0;34m(filepath_or_buffer, sep, delimiter, header, names, index_col, usecols, squeeze, prefix, mangle_dupe_cols, dtype, engine, converters, true_values, false_values, skipinitialspace, skiprows, skipfooter, nrows, na_values, keep_default_na, na_filter, verbose, skip_blank_lines, parse_dates, infer_datetime_format, keep_date_col, date_parser, dayfirst, cache_dates, iterator, chunksize, compression, thousands, decimal, lineterminator, quotechar, quoting, doublequote, escapechar, comment, encoding, dialect, error_bad_lines, warn_bad_lines, delim_whitespace, low_memory, memory_map, float_precision, storage_options)\u001b[0m\n\u001b[1;32m    603\u001b[0m     \u001b[0mkwds\u001b[0m\u001b[0;34m.\u001b[0m\u001b[0mupdate\u001b[0m\u001b[0;34m(\u001b[0m\u001b[0mkwds_defaults\u001b[0m\u001b[0;34m)\u001b[0m\u001b[0;34m\u001b[0m\u001b[0;34m\u001b[0m\u001b[0m\n\u001b[1;32m    604\u001b[0m \u001b[0;34m\u001b[0m\u001b[0m\n\u001b[0;32m--> 605\u001b[0;31m     \u001b[0;32mreturn\u001b[0m \u001b[0m_read\u001b[0m\u001b[0;34m(\u001b[0m\u001b[0mfilepath_or_buffer\u001b[0m\u001b[0;34m,\u001b[0m \u001b[0mkwds\u001b[0m\u001b[0;34m)\u001b[0m\u001b[0;34m\u001b[0m\u001b[0;34m\u001b[0m\u001b[0m\n\u001b[0m\u001b[1;32m    606\u001b[0m \u001b[0;34m\u001b[0m\u001b[0m\n\u001b[1;32m    607\u001b[0m \u001b[0;34m\u001b[0m\u001b[0m\n",
      "\u001b[0;32m~/.pyenv/versions/3.8.6/envs/lewagon/lib/python3.8/site-packages/pandas/io/parsers.py\u001b[0m in \u001b[0;36m_read\u001b[0;34m(filepath_or_buffer, kwds)\u001b[0m\n\u001b[1;32m    455\u001b[0m \u001b[0;34m\u001b[0m\u001b[0m\n\u001b[1;32m    456\u001b[0m     \u001b[0;31m# Create the parser.\u001b[0m\u001b[0;34m\u001b[0m\u001b[0;34m\u001b[0m\u001b[0;34m\u001b[0m\u001b[0m\n\u001b[0;32m--> 457\u001b[0;31m     \u001b[0mparser\u001b[0m \u001b[0;34m=\u001b[0m \u001b[0mTextFileReader\u001b[0m\u001b[0;34m(\u001b[0m\u001b[0mfilepath_or_buffer\u001b[0m\u001b[0;34m,\u001b[0m \u001b[0;34m**\u001b[0m\u001b[0mkwds\u001b[0m\u001b[0;34m)\u001b[0m\u001b[0;34m\u001b[0m\u001b[0;34m\u001b[0m\u001b[0m\n\u001b[0m\u001b[1;32m    458\u001b[0m \u001b[0;34m\u001b[0m\u001b[0m\n\u001b[1;32m    459\u001b[0m     \u001b[0;32mif\u001b[0m \u001b[0mchunksize\u001b[0m \u001b[0;32mor\u001b[0m \u001b[0miterator\u001b[0m\u001b[0;34m:\u001b[0m\u001b[0;34m\u001b[0m\u001b[0;34m\u001b[0m\u001b[0m\n",
      "\u001b[0;32m~/.pyenv/versions/3.8.6/envs/lewagon/lib/python3.8/site-packages/pandas/io/parsers.py\u001b[0m in \u001b[0;36m__init__\u001b[0;34m(self, f, engine, **kwds)\u001b[0m\n\u001b[1;32m    812\u001b[0m             \u001b[0mself\u001b[0m\u001b[0;34m.\u001b[0m\u001b[0moptions\u001b[0m\u001b[0;34m[\u001b[0m\u001b[0;34m\"has_index_names\"\u001b[0m\u001b[0;34m]\u001b[0m \u001b[0;34m=\u001b[0m \u001b[0mkwds\u001b[0m\u001b[0;34m[\u001b[0m\u001b[0;34m\"has_index_names\"\u001b[0m\u001b[0;34m]\u001b[0m\u001b[0;34m\u001b[0m\u001b[0;34m\u001b[0m\u001b[0m\n\u001b[1;32m    813\u001b[0m \u001b[0;34m\u001b[0m\u001b[0m\n\u001b[0;32m--> 814\u001b[0;31m         \u001b[0mself\u001b[0m\u001b[0;34m.\u001b[0m\u001b[0m_engine\u001b[0m \u001b[0;34m=\u001b[0m \u001b[0mself\u001b[0m\u001b[0;34m.\u001b[0m\u001b[0m_make_engine\u001b[0m\u001b[0;34m(\u001b[0m\u001b[0mself\u001b[0m\u001b[0;34m.\u001b[0m\u001b[0mengine\u001b[0m\u001b[0;34m)\u001b[0m\u001b[0;34m\u001b[0m\u001b[0;34m\u001b[0m\u001b[0m\n\u001b[0m\u001b[1;32m    815\u001b[0m \u001b[0;34m\u001b[0m\u001b[0m\n\u001b[1;32m    816\u001b[0m     \u001b[0;32mdef\u001b[0m \u001b[0mclose\u001b[0m\u001b[0;34m(\u001b[0m\u001b[0mself\u001b[0m\u001b[0;34m)\u001b[0m\u001b[0;34m:\u001b[0m\u001b[0;34m\u001b[0m\u001b[0;34m\u001b[0m\u001b[0m\n",
      "\u001b[0;32m~/.pyenv/versions/3.8.6/envs/lewagon/lib/python3.8/site-packages/pandas/io/parsers.py\u001b[0m in \u001b[0;36m_make_engine\u001b[0;34m(self, engine)\u001b[0m\n\u001b[1;32m   1043\u001b[0m             )\n\u001b[1;32m   1044\u001b[0m         \u001b[0;31m# error: Too many arguments for \"ParserBase\"\u001b[0m\u001b[0;34m\u001b[0m\u001b[0;34m\u001b[0m\u001b[0;34m\u001b[0m\u001b[0m\n\u001b[0;32m-> 1045\u001b[0;31m         \u001b[0;32mreturn\u001b[0m \u001b[0mmapping\u001b[0m\u001b[0;34m[\u001b[0m\u001b[0mengine\u001b[0m\u001b[0;34m]\u001b[0m\u001b[0;34m(\u001b[0m\u001b[0mself\u001b[0m\u001b[0;34m.\u001b[0m\u001b[0mf\u001b[0m\u001b[0;34m,\u001b[0m \u001b[0;34m**\u001b[0m\u001b[0mself\u001b[0m\u001b[0;34m.\u001b[0m\u001b[0moptions\u001b[0m\u001b[0;34m)\u001b[0m  \u001b[0;31m# type: ignore[call-arg]\u001b[0m\u001b[0;34m\u001b[0m\u001b[0;34m\u001b[0m\u001b[0m\n\u001b[0m\u001b[1;32m   1046\u001b[0m \u001b[0;34m\u001b[0m\u001b[0m\n\u001b[1;32m   1047\u001b[0m     \u001b[0;32mdef\u001b[0m \u001b[0m_failover_to_python\u001b[0m\u001b[0;34m(\u001b[0m\u001b[0mself\u001b[0m\u001b[0;34m)\u001b[0m\u001b[0;34m:\u001b[0m\u001b[0;34m\u001b[0m\u001b[0;34m\u001b[0m\u001b[0m\n",
      "\u001b[0;32m~/.pyenv/versions/3.8.6/envs/lewagon/lib/python3.8/site-packages/pandas/io/parsers.py\u001b[0m in \u001b[0;36m__init__\u001b[0;34m(self, src, **kwds)\u001b[0m\n\u001b[1;32m   1860\u001b[0m \u001b[0;34m\u001b[0m\u001b[0m\n\u001b[1;32m   1861\u001b[0m         \u001b[0;31m# open handles\u001b[0m\u001b[0;34m\u001b[0m\u001b[0;34m\u001b[0m\u001b[0;34m\u001b[0m\u001b[0m\n\u001b[0;32m-> 1862\u001b[0;31m         \u001b[0mself\u001b[0m\u001b[0;34m.\u001b[0m\u001b[0m_open_handles\u001b[0m\u001b[0;34m(\u001b[0m\u001b[0msrc\u001b[0m\u001b[0;34m,\u001b[0m \u001b[0mkwds\u001b[0m\u001b[0;34m)\u001b[0m\u001b[0;34m\u001b[0m\u001b[0;34m\u001b[0m\u001b[0m\n\u001b[0m\u001b[1;32m   1863\u001b[0m         \u001b[0;32massert\u001b[0m \u001b[0mself\u001b[0m\u001b[0;34m.\u001b[0m\u001b[0mhandles\u001b[0m \u001b[0;32mis\u001b[0m \u001b[0;32mnot\u001b[0m \u001b[0;32mNone\u001b[0m\u001b[0;34m\u001b[0m\u001b[0;34m\u001b[0m\u001b[0m\n\u001b[1;32m   1864\u001b[0m         \u001b[0;32mfor\u001b[0m \u001b[0mkey\u001b[0m \u001b[0;32min\u001b[0m \u001b[0;34m(\u001b[0m\u001b[0;34m\"storage_options\"\u001b[0m\u001b[0;34m,\u001b[0m \u001b[0;34m\"encoding\"\u001b[0m\u001b[0;34m,\u001b[0m \u001b[0;34m\"memory_map\"\u001b[0m\u001b[0;34m,\u001b[0m \u001b[0;34m\"compression\"\u001b[0m\u001b[0;34m)\u001b[0m\u001b[0;34m:\u001b[0m\u001b[0;34m\u001b[0m\u001b[0;34m\u001b[0m\u001b[0m\n",
      "\u001b[0;32m~/.pyenv/versions/3.8.6/envs/lewagon/lib/python3.8/site-packages/pandas/io/parsers.py\u001b[0m in \u001b[0;36m_open_handles\u001b[0;34m(self, src, kwds)\u001b[0m\n\u001b[1;32m   1355\u001b[0m         \u001b[0mLet\u001b[0m \u001b[0mthe\u001b[0m \u001b[0mreaders\u001b[0m \u001b[0mopen\u001b[0m \u001b[0mIOHanldes\u001b[0m \u001b[0mafter\u001b[0m \u001b[0mthey\u001b[0m \u001b[0mare\u001b[0m \u001b[0mdone\u001b[0m \u001b[0;32mwith\u001b[0m \u001b[0mtheir\u001b[0m \u001b[0mpotential\u001b[0m \u001b[0mraises\u001b[0m\u001b[0;34m.\u001b[0m\u001b[0;34m\u001b[0m\u001b[0;34m\u001b[0m\u001b[0m\n\u001b[1;32m   1356\u001b[0m         \"\"\"\n\u001b[0;32m-> 1357\u001b[0;31m         self.handles = get_handle(\n\u001b[0m\u001b[1;32m   1358\u001b[0m             \u001b[0msrc\u001b[0m\u001b[0;34m,\u001b[0m\u001b[0;34m\u001b[0m\u001b[0;34m\u001b[0m\u001b[0m\n\u001b[1;32m   1359\u001b[0m             \u001b[0;34m\"r\"\u001b[0m\u001b[0;34m,\u001b[0m\u001b[0;34m\u001b[0m\u001b[0;34m\u001b[0m\u001b[0m\n",
      "\u001b[0;32m~/.pyenv/versions/3.8.6/envs/lewagon/lib/python3.8/site-packages/pandas/io/common.py\u001b[0m in \u001b[0;36mget_handle\u001b[0;34m(path_or_buf, mode, encoding, compression, memory_map, is_text, errors, storage_options)\u001b[0m\n\u001b[1;32m    637\u001b[0m         \u001b[0;32mif\u001b[0m \u001b[0mioargs\u001b[0m\u001b[0;34m.\u001b[0m\u001b[0mencoding\u001b[0m \u001b[0;32mand\u001b[0m \u001b[0;34m\"b\"\u001b[0m \u001b[0;32mnot\u001b[0m \u001b[0;32min\u001b[0m \u001b[0mioargs\u001b[0m\u001b[0;34m.\u001b[0m\u001b[0mmode\u001b[0m\u001b[0;34m:\u001b[0m\u001b[0;34m\u001b[0m\u001b[0;34m\u001b[0m\u001b[0m\n\u001b[1;32m    638\u001b[0m             \u001b[0;31m# Encoding\u001b[0m\u001b[0;34m\u001b[0m\u001b[0;34m\u001b[0m\u001b[0;34m\u001b[0m\u001b[0m\n\u001b[0;32m--> 639\u001b[0;31m             handle = open(\n\u001b[0m\u001b[1;32m    640\u001b[0m                 \u001b[0mhandle\u001b[0m\u001b[0;34m,\u001b[0m\u001b[0;34m\u001b[0m\u001b[0;34m\u001b[0m\u001b[0m\n\u001b[1;32m    641\u001b[0m                 \u001b[0mioargs\u001b[0m\u001b[0;34m.\u001b[0m\u001b[0mmode\u001b[0m\u001b[0;34m,\u001b[0m\u001b[0;34m\u001b[0m\u001b[0;34m\u001b[0m\u001b[0m\n",
      "\u001b[0;31mFileNotFoundError\u001b[0m: [Errno 2] No such file or directory: '/content/drive/MyDrive/finals/noise_sensor_list.csv'"
     ]
    }
   ],
   "source": [
    "df_sensors_def = pd.read_csv('/content/drive/MyDrive/finals/noise_sensor_list.csv', sep=';')\n",
    "df_sensors_def"
   ]
  },
  {
   "cell_type": "code",
   "execution_count": null,
   "id": "preliminary-export",
   "metadata": {
    "colab": {
     "base_uri": "https://localhost:8080/",
     "height": 203
    },
    "id": "preliminary-export",
    "outputId": "938f4d9a-8ffb-4f40-98b0-c57a407871a9",
    "scrolled": true
   },
   "outputs": [],
   "source": [
    "df_wifi = pd.read_csv('/content/drive/MyDrive/finals/WIFI Count.csv', sep=',')\n",
    "df_wifi.head()"
   ]
  },
  {
   "cell_type": "code",
   "execution_count": null,
   "id": "lovely-athletics",
   "metadata": {
    "colab": {
     "base_uri": "https://localhost:8080/",
     "height": 203
    },
    "id": "lovely-athletics",
    "outputId": "65990a3f-3743-4f18-beb1-dca86b1c9711",
    "scrolled": true
   },
   "outputs": [],
   "source": [
    "df_businesses = pd.read_csv('/content/drive/MyDrive/finals/businesses.csv', sep=';')\n",
    "df_businesses.head()"
   ]
  },
  {
   "cell_type": "code",
   "execution_count": null,
   "id": "compact-clearing",
   "metadata": {
    "colab": {
     "base_uri": "https://localhost:8080/",
     "height": 203
    },
    "id": "compact-clearing",
    "outputId": "9f737a0c-bb24-46a7-d92e-1c6466cfb117"
   },
   "outputs": [],
   "source": [
    "df_sim_june = pd.read_csv('/content/drive/MyDrive/finals/sim_count/SIM_count_04_100618.csv', sep=';', encoding='latin-1')\n",
    "df_sim_june.head()"
   ]
  },
  {
   "cell_type": "code",
   "execution_count": null,
   "id": "broadband-cooking",
   "metadata": {
    "colab": {
     "base_uri": "https://localhost:8080/",
     "height": 203
    },
    "id": "broadband-cooking",
    "outputId": "afee09a8-77d1-4d25-9b13-ec92727d2c0a"
   },
   "outputs": [],
   "source": [
    "df_sim_jan = pd.read_csv('/content/drive/MyDrive/finals/sim_count/SIM_count_15_210118.csv', sep=';', encoding='latin-1')\n",
    "df_sim_jan.head()"
   ]
  },
  {
   "cell_type": "code",
   "execution_count": null,
   "id": "bigger-island",
   "metadata": {
    "colab": {
     "base_uri": "https://localhost:8080/",
     "height": 203
    },
    "id": "bigger-island",
    "outputId": "e6b60357-653c-484d-e8fa-04e52416c794",
    "scrolled": true
   },
   "outputs": [],
   "source": [
    "df_sim_march = pd.read_csv('/content/drive/MyDrive/finals/sim_count/SIM_count_19_250318.csv', sep=';', encoding='latin-1')\n",
    "df_sim_march.head()"
   ]
  },
  {
   "cell_type": "code",
   "execution_count": null,
   "id": "built-crisis",
   "metadata": {
    "colab": {
     "base_uri": "https://localhost:8080/",
     "height": 203
    },
    "id": "built-crisis",
    "outputId": "089d5dad-b8ac-453c-fe7c-fceb9d9d43fb",
    "scrolled": false
   },
   "outputs": [],
   "source": [
    "df_noise_2018 = pd.read_csv('/content/drive/MyDrive/finals/noise_data/san_salvario_2018.csv', skiprows= [0,1,2,3,4,5,6,7], sep =';')\n",
    "df_noise_2018.head()"
   ]
  },
  {
   "cell_type": "code",
   "execution_count": null,
   "id": "intelligent-poker",
   "metadata": {
    "id": "intelligent-poker"
   },
   "outputs": [],
   "source": [
    "df_noise_2018['date_hour'] = df_noise_2018['Data'] + ' ' + df_noise_2018['Ora']\n",
    "df_noise_2018.drop(columns= ['Data', 'Ora'], inplace= True)"
   ]
  },
  {
   "cell_type": "code",
   "execution_count": null,
   "id": "abroad-mileage",
   "metadata": {
    "colab": {
     "base_uri": "https://localhost:8080/",
     "height": 203
    },
    "id": "abroad-mileage",
    "outputId": "db829e7c-040a-41d6-939f-3dddedce3737"
   },
   "outputs": [],
   "source": [
    "df_police_1 = pd.read_excel('/content/drive/MyDrive/finals/police_complaints/OpenDataContact_Gennaio_Giugno_2018.xlsx')\n",
    "df_police_1.head()"
   ]
  },
  {
   "cell_type": "code",
   "execution_count": null,
   "id": "civic-metallic",
   "metadata": {
    "colab": {
     "base_uri": "https://localhost:8080/",
     "height": 203
    },
    "id": "civic-metallic",
    "outputId": "347bd708-864c-4f18-9059-6fb5b16a6ec2"
   },
   "outputs": [],
   "source": [
    "df_police_2 = pd.read_csv('/content/drive/MyDrive/finals/police_complaints/OpenDataContact_Luglio_Dicembre_2018.csv')\n",
    "df_police_2.head()"
   ]
  },
  {
   "cell_type": "code",
   "execution_count": null,
   "id": "environmental-ready",
   "metadata": {
    "colab": {
     "base_uri": "https://localhost:8080/",
     "height": 203
    },
    "id": "environmental-ready",
    "outputId": "d7a0a4e5-7188-44eb-fba6-326923dd79ad"
   },
   "outputs": [],
   "source": [
    "df_police = pd.concat([df_police_1,df_police_2])\n",
    "df_police.head()"
   ]
  },
  {
   "cell_type": "markdown",
   "id": "combined-accessory",
   "metadata": {
    "id": "combined-accessory"
   },
   "source": [
    "### Merging Dataframe"
   ]
  },
  {
   "cell_type": "code",
   "execution_count": null,
   "id": "beautiful-trace",
   "metadata": {
    "colab": {
     "base_uri": "https://localhost:8080/",
     "height": 203
    },
    "id": "beautiful-trace",
    "outputId": "58cc5a07-f64d-49cb-cb34-95e9195c9667"
   },
   "outputs": [],
   "source": [
    "df_noise_2018.head()"
   ]
  },
  {
   "cell_type": "code",
   "execution_count": null,
   "id": "contained-joshua",
   "metadata": {
    "id": "contained-joshua"
   },
   "outputs": [],
   "source": [
    "df_wifi.rename(columns = {'Time': 'date_time'}, inplace=True)"
   ]
  },
  {
   "cell_type": "code",
   "execution_count": null,
   "id": "technical-fetish",
   "metadata": {
    "id": "technical-fetish"
   },
   "outputs": [],
   "source": [
    "df_sim_all = pd.concat([df_sim_jan, df_sim_march, df_sim_june], axis=0)\n",
    "df_sim_all.reset_index(inplace=True)"
   ]
  },
  {
   "cell_type": "code",
   "execution_count": null,
   "id": "shaped-charles",
   "metadata": {
    "colab": {
     "base_uri": "https://localhost:8080/"
    },
    "id": "shaped-charles",
    "outputId": "0a7b54ad-b30c-40ed-fa97-b2baab797931",
    "scrolled": false
   },
   "outputs": [],
   "source": [
    "for x, line in enumerate(df_sim_all['data_da']):\n",
    "    df_sim_all['data_da'][x] = line[8:10] + line[4:7] + '-' + line[0:4] +' ' + line[11:16]"
   ]
  },
  {
   "cell_type": "code",
   "execution_count": null,
   "id": "quantitative-anatomy",
   "metadata": {
    "id": "quantitative-anatomy",
    "scrolled": false
   },
   "outputs": [],
   "source": [
    "df_sim_all.rename(columns= {'data_da' : 'date_time'}, inplace=True)"
   ]
  },
  {
   "cell_type": "code",
   "execution_count": null,
   "id": "deluxe-mother",
   "metadata": {
    "colab": {
     "base_uri": "https://localhost:8080/",
     "height": 203
    },
    "id": "deluxe-mother",
    "outputId": "1ea9eb7f-31fb-4cbc-ae8b-8c3dd331f71e",
    "scrolled": true
   },
   "outputs": [],
   "source": [
    "df_sim_all.head()"
   ]
  },
  {
   "cell_type": "code",
   "execution_count": null,
   "id": "intense-firmware",
   "metadata": {
    "id": "intense-firmware"
   },
   "outputs": [],
   "source": [
    "df_police[df_police['Ora'].isna()] #many complaints do not have hours associated with them "
   ]
  },
  {
   "cell_type": "code",
   "execution_count": null,
   "id": "7k6bGAuRQJAW",
   "metadata": {
    "colab": {
     "base_uri": "https://localhost:8080/"
    },
    "id": "7k6bGAuRQJAW",
    "outputId": "0aab5db0-d605-4644-9022-b6a22c90ce64"
   },
   "outputs": [],
   "source": [
    "df_police['Ora'].mean()"
   ]
  },
  {
   "cell_type": "code",
   "execution_count": null,
   "id": "rN9QyLIePVWH",
   "metadata": {
    "id": "rN9QyLIePVWH"
   },
   "outputs": [],
   "source": [
    "#Replacing NaN values in time with zero hour\n",
    "df_police['Ora'] = df_police['Ora'].apply(lambda   x: '11.00' if pd.isna(x) else x )\n",
    "df_police['Ora'] = df_police['Ora'].apply(lambda x: str(x).replace('.',':'))"
   ]
  },
  {
   "cell_type": "code",
   "execution_count": null,
   "id": "infectious-series",
   "metadata": {
    "id": "infectious-series",
    "scrolled": true
   },
   "outputs": [],
   "source": [
    "df_police['date_time'] = df_police['Data'] + ' ' + df_police['Ora'].astype('str')\n",
    "df_police['date_time'] = pd.to_datetime(df_police['date_time'])\n",
    "df_police['date_time'] = df_police['date_time'].dt.strftime(\"%d-%m-%y %H:%M\")"
   ]
  },
  {
   "cell_type": "code",
   "execution_count": null,
   "id": "ZkzlJfRCK8iN",
   "metadata": {
    "colab": {
     "base_uri": "https://localhost:8080/",
     "height": 341
    },
    "id": "ZkzlJfRCK8iN",
    "outputId": "a80021b7-1188-4437-b2ac-e9184b03e01a"
   },
   "outputs": [],
   "source": [
    "df_police.head()"
   ]
  },
  {
   "cell_type": "code",
   "execution_count": null,
   "id": "amQwaJoUUpW5",
   "metadata": {
    "colab": {
     "base_uri": "https://localhost:8080/",
     "height": 203
    },
    "id": "amQwaJoUUpW5",
    "outputId": "557c0722-eb4a-4ce6-f8a0-f2a5bee016ee"
   },
   "outputs": [],
   "source": [
    "df_weather = pd.read_csv(\"/content/drive/MyDrive/finals/hourly_weather.csv\")\n",
    "df_weather.head()"
   ]
  },
  {
   "cell_type": "markdown",
   "id": "B1oswp-VVQYg",
   "metadata": {
    "id": "B1oswp-VVQYg"
   },
   "source": [
    "## Merging All dataframes\n"
   ]
  },
  {
   "cell_type": "markdown",
   "id": "2jEDExuWVciZ",
   "metadata": {
    "id": "2jEDExuWVciZ"
   },
   "source": [
    "Merging noise, wifi, sim,weather,... police"
   ]
  },
  {
   "cell_type": "code",
   "execution_count": null,
   "id": "xJWUqBOEbD5m",
   "metadata": {
    "id": "xJWUqBOEbD5m"
   },
   "outputs": [],
   "source": [
    "df_noise_2018['date_hour'] = pd.to_datetime(df_noise_2018['date_hour'])\n",
    "df_noise_2018['date_hour'] = df_noise_2018['date_hour'].dt.strftime(\"%d-%m-%y %H:%M\")"
   ]
  },
  {
   "cell_type": "code",
   "execution_count": null,
   "id": "drEoZ3NPawW4",
   "metadata": {
    "id": "drEoZ3NPawW4"
   },
   "outputs": [],
   "source": [
    " df_wifi['Time'] = pd.to_datetime(df_wifi['Time'])\n",
    " df_wifi['Time'] = df_wifi['Time'].dt.strftime(\"%d-%m-%y %H:%M\")"
   ]
  },
  {
   "cell_type": "code",
   "execution_count": null,
   "id": "SADiTD-eVPsV",
   "metadata": {
    "colab": {
     "base_uri": "https://localhost:8080/",
     "height": 417
    },
    "id": "SADiTD-eVPsV",
    "outputId": "bc73e2ea-e568-48d2-c2f5-aba7a33848f4"
   },
   "outputs": [],
   "source": [
    "df_final = df_noise_2018.merge(df_wifi, left_on= 'date_hour', right_on= 'Time', how='left')\n",
    "df_final"
   ]
  },
  {
   "cell_type": "code",
   "execution_count": null,
   "id": "fr5kci-Xbvu9",
   "metadata": {
    "id": "fr5kci-Xbvu9"
   },
   "outputs": [],
   "source": [
    "df_sim_all['date_time'] = pd.to_datetime(df_sim_all['date_time'])\n",
    "df_sim_all['date_time'] = df_sim_all['date_time'].dt.strftime(\"%d-%m-%y %H:%M\")"
   ]
  },
  {
   "cell_type": "code",
   "execution_count": null,
   "id": "ZHbVkSfQVPpa",
   "metadata": {
    "colab": {
     "base_uri": "https://localhost:8080/",
     "height": 790
    },
    "id": "ZHbVkSfQVPpa",
    "outputId": "8affeaac-5f0f-4c1c-924a-8e6f71c938dc"
   },
   "outputs": [],
   "source": [
    "df_final_1 = df_final.merge(df_sim_all, left_on= 'date_hour', right_on= 'date_time', how='left')\n",
    "df_final_1"
   ]
  },
  {
   "cell_type": "code",
   "execution_count": null,
   "id": "5EGCRT6kb-zd",
   "metadata": {
    "id": "5EGCRT6kb-zd"
   },
   "outputs": [],
   "source": [
    "df_weather['hourly_date'] = pd.to_datetime(df_weather['hourly_date'])\n",
    "df_weather['hourly_date'] = df_weather['hourly_date'].dt.strftime(\"%d-%m-%y %H:%M\")"
   ]
  },
  {
   "cell_type": "code",
   "execution_count": null,
   "id": "9blL0oq4ZMBa",
   "metadata": {
    "colab": {
     "base_uri": "https://localhost:8080/",
     "height": 790
    },
    "id": "9blL0oq4ZMBa",
    "outputId": "25847b50-ca42-410a-edce-9fec5e1b342f"
   },
   "outputs": [],
   "source": [
    "df_final_2 = df_final_1.merge(df_weather, left_on= 'date_hour', right_on= 'hourly_date', how='left')\n",
    "df_final_2"
   ]
  },
  {
   "cell_type": "code",
   "execution_count": null,
   "id": "zhydpBNGZ-nS",
   "metadata": {
    "colab": {
     "base_uri": "https://localhost:8080/"
    },
    "id": "zhydpBNGZ-nS",
    "outputId": "5aa09a74-0cdd-4199-fff6-dd2cd74e85a1"
   },
   "outputs": [],
   "source": [
    "df_final_2.columns"
   ]
  },
  {
   "cell_type": "code",
   "execution_count": null,
   "id": "o-6b7uqsaCuz",
   "metadata": {
    "id": "o-6b7uqsaCuz"
   },
   "outputs": [],
   "source": [
    "df_finalized = df_final_2.drop(columns = ['Time', 'date_time', 'hourly_date'] )"
   ]
  },
  {
   "cell_type": "code",
   "execution_count": null,
   "id": "bCRWRm9HaX5V",
   "metadata": {
    "colab": {
     "base_uri": "https://localhost:8080/",
     "height": 417
    },
    "id": "bCRWRm9HaX5V",
    "outputId": "4ea84110-b879-43ff-9d40-7f97b02ee254"
   },
   "outputs": [],
   "source": [
    "df_finalized"
   ]
  },
  {
   "cell_type": "markdown",
   "id": "hs3nvMnjZ13Y",
   "metadata": {
    "id": "hs3nvMnjZ13Y"
   },
   "source": [
    "### About the df_finalized"
   ]
  },
  {
   "cell_type": "code",
   "execution_count": null,
   "id": "3LN_51vrZnZY",
   "metadata": {
    "colab": {
     "base_uri": "https://localhost:8080/"
    },
    "id": "3LN_51vrZnZY",
    "outputId": "48d5502c-e8dc-44e5-96d2-a94953427076"
   },
   "outputs": [],
   "source": [
    "df_finalized.info()"
   ]
  },
  {
   "cell_type": "code",
   "execution_count": null,
   "id": "mrAmpu_NaiPY",
   "metadata": {
    "id": "mrAmpu_NaiPY"
   },
   "outputs": [],
   "source": []
  }
 ],
 "metadata": {
  "colab": {
   "collapsed_sections": [],
   "name": "pm_datasets.ipynb",
   "provenance": []
  },
  "kernelspec": {
   "display_name": "Python 3",
   "language": "python",
   "name": "python3"
  },
  "language_info": {
   "codemirror_mode": {
    "name": "ipython",
    "version": 3
   },
   "file_extension": ".py",
   "mimetype": "text/x-python",
   "name": "python",
   "nbconvert_exporter": "python",
   "pygments_lexer": "ipython3",
   "version": "3.8.6"
  },
  "toc": {
   "base_numbering": 1,
   "nav_menu": {},
   "number_sections": true,
   "sideBar": true,
   "skip_h1_title": false,
   "title_cell": "Table of Contents",
   "title_sidebar": "Contents",
   "toc_cell": false,
   "toc_position": {},
   "toc_section_display": true,
   "toc_window_display": false
  }
 },
 "nbformat": 4,
 "nbformat_minor": 5
}
