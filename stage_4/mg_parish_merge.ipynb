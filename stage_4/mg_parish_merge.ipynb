{
 "cells": [
  {
   "cell_type": "markdown",
   "id": "612cf05b",
   "metadata": {},
   "source": [
    "# Imports"
   ]
  },
  {
   "cell_type": "code",
   "execution_count": 1,
   "id": "09f70ba7",
   "metadata": {},
   "outputs": [],
   "source": [
    "import geopandas as gpd\n",
    "import pandas as pd\n",
    "import fiona\n",
    "import os\n",
    "import matplotlib.pyplot as plt\n",
    "import folium\n",
    "from zipfile import ZipFile\n",
    "from folium.plugins import MarkerCluster, HeatMap, BeautifyIcon\n",
    "from folium.map import LayerControl, Layer, FeatureGroup\n",
    "import seaborn as sns\n",
    "from shapely.geometry import Point, LineString, MultiPoint\n",
    "import requests\n",
    "from io import BytesIO, StringIO\n",
    "import contextily as ctx\n",
    "from IPython.display import HTML, display, IFrame\n",
    "import osmnx as ox\n",
    "import osmium\n",
    "from osm_runner import Runner\n",
    "import regex as re\n",
    "import unicodedata\n"
   ]
  },
  {
   "cell_type": "markdown",
   "id": "006f15c1",
   "metadata": {},
   "source": [
    "# Data"
   ]
  },
  {
   "cell_type": "code",
   "execution_count": 4,
   "id": "8a0b95fe",
   "metadata": {},
   "outputs": [
    {
     "data": {
      "text/plain": [
       "((128, 14),\n",
       " Green_Zone_name               object\n",
       " no_of_museums                  int64\n",
       " no_of_parking_lots             int64\n",
       " no_of_tourist_attractions      int64\n",
       " gz_daily_avg_demand          float64\n",
       " Resident                       int64\n",
       " daily_avg_people             float64\n",
       " no_of_buildings                int64\n",
       " no_of_families                 int64\n",
       " no_of_people_resident          int64\n",
       " perc_senior_pop              float64\n",
       " perc_pop_until_19_yo         float64\n",
       " POINT_X                      float64\n",
       " POINT_Y                      float64\n",
       " dtype: object)"
      ]
     },
     "execution_count": 4,
     "metadata": {},
     "output_type": "execute_result"
    }
   ],
   "source": [
    "# get green areas\n",
    "green_areas = pd.read_csv('https://raw.githubusercontent.com/SowmyaMadala/WDL-Stage4/main/Data/Attracting%20Population/WDL_Green_Areas_Dataset_V1.txt', \n",
    "                          sep =\"|\", \n",
    "                          encoding =\"latin-1\").rename(columns = {'Number of Museums in influence area' : 'no_of_museums',\n",
    "                                                                 'Number of parking lots in influence area' : 'no_of_parking_lots',\n",
    "                                                                'Number of tourist attractions in influence area': 'no_of_tourist_attractions', \n",
    "                                                                'Green Zones Daily Average Demand':'gz_daily_avg_demand',\n",
    "                                                                'Daily average of people in influence area': 'daily_avg_people',\n",
    "                                                                'Number of buildings in influence area' : 'no_of_buildings',\n",
    "                                                                'Number of families in influence area': 'no_of_families',\n",
    "                                                                'Number of people resident in influence area' : 'no_of_people_resident'\n",
    "                                                                })\n",
    "\n",
    "green_areas.shape, green_areas.dtypes"
   ]
  },
  {
   "cell_type": "code",
   "execution_count": 5,
   "id": "a930aeca",
   "metadata": {},
   "outputs": [
    {
     "data": {
      "text/plain": [
       "(3223, 9)"
      ]
     },
     "execution_count": 5,
     "metadata": {},
     "output_type": "execute_result"
    }
   ],
   "source": [
    "# get parish code poly\n",
    "url = 'http://mapas.dgterritorio.pt/ATOM-download/CAOP-Cont/Cont_AAD_CAOP2020.zip'\n",
    "path = 'map_data/Cont_AAD_CAOP2020'\n",
    "parishes = gpd.read_file(path)\n",
    "parishes.shape"
   ]
  },
  {
   "cell_type": "markdown",
   "id": "a98c97ff",
   "metadata": {},
   "source": [
    "# Get Polygons"
   ]
  },
  {
   "cell_type": "code",
   "execution_count": null,
   "id": "8cdc5e03",
   "metadata": {},
   "outputs": [],
   "source": [
    "# make latlng readable for OSM request\n",
    "res_green_areas['latlng'] = res_green_areas.apply(lambda x: (x.POINT_Y, x.POINT_X), axis=1)\n",
    "\n",
    "def get_parks(df):\n",
    "    suggestions = pd.DataFrame()\n",
    "    tags = {'leisure':True}\n",
    "    for c, row in df.iterrows():\n",
    "        center_point = row.latlng\n",
    "        park = ox.geometries.geometries_from_point(center_point, \n",
    "                                                           tags=tags, \n",
    "                                                           dist=50)\n",
    "        park['match'] = c # relate the findings to the dfs index (id)\n",
    "        suggestions = pd.concat([suggestions, park])\n",
    "        \n",
    "    return suggestions\n",
    "\n",
    "parks = get_parks(res_green_areas)"
   ]
  },
  {
   "cell_type": "markdown",
   "id": "05f23716",
   "metadata": {},
   "source": [
    "# Merging"
   ]
  },
  {
   "cell_type": "code",
   "execution_count": null,
   "id": "b5acb80f",
   "metadata": {},
   "outputs": [],
   "source": []
  }
 ],
 "metadata": {
  "kernelspec": {
   "display_name": "Python 3",
   "language": "python",
   "name": "python3"
  },
  "language_info": {
   "codemirror_mode": {
    "name": "ipython",
    "version": 3
   },
   "file_extension": ".py",
   "mimetype": "text/x-python",
   "name": "python",
   "nbconvert_exporter": "python",
   "pygments_lexer": "ipython3",
   "version": "3.8.6"
  },
  "toc": {
   "base_numbering": 1,
   "nav_menu": {},
   "number_sections": true,
   "sideBar": true,
   "skip_h1_title": false,
   "title_cell": "Table of Contents",
   "title_sidebar": "Contents",
   "toc_cell": false,
   "toc_position": {},
   "toc_section_display": true,
   "toc_window_display": false
  }
 },
 "nbformat": 4,
 "nbformat_minor": 5
}
