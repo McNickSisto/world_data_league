{
 "cells": [
  {
   "cell_type": "markdown",
   "metadata": {
    "colab_type": "text",
    "id": "view-in-github"
   },
   "source": [
    "<a href=\"https://colab.research.google.com/github/McNickSisto/world_data_league/blob/activities/stage_4/mg_green_vis.ipynb\" target=\"_parent\"><img src=\"https://colab.research.google.com/assets/colab-badge.svg\" alt=\"Open In Colab\"/></a>"
   ]
  },
  {
   "cell_type": "code",
   "execution_count": null,
   "metadata": {},
   "outputs": [],
   "source": []
  },
  {
   "cell_type": "markdown",
   "metadata": {
    "id": "mS4o9zUb5g_K"
   },
   "source": [
    "# Intro"
   ]
  },
  {
   "cell_type": "markdown",
   "metadata": {
    "id": "sRtejeGf5XKz"
   },
   "source": [
    "## Challenge Goals: \n",
    "Attracting people to green spaces in metropolitan areas is one of the most recent challenges for big cities. Encouraging people to spend more time in green spaces is one of the priority goals of municipal governments. It is fundamental to understand how various dimensions are linked to the search for green space in large Metropolitan Areas, such as in the metropolitan area of Porto and Lisbon. How can socio-demographic dimensions, tourist attraction, and people’s mobility level non-resident in the influence area of the green spaces explain the demand for these spaces?\n",
    "\n",
    "## Outcome The challenge is composed of two outcomes:\n",
    "\n",
    "Create a model that predicts the daily average demand of a green space and which factors contribute the most to the prediction—example of these factors: socio-demographic, touristic attraction points, mobility and others.\n",
    "\n",
    "Based on the previous outcome, suggest action points that can be taken by the city hall to increase the usage of the green spaces in the city.\n",
    "\n",
    "## Some info on the Data\n",
    "Hello! The data refers to pre-pandemic period and the metrics represent daily average values. I think the size/area of each green space could be found after some research on the Web \n",
    "\n"
   ]
  },
  {
   "cell_type": "markdown",
   "metadata": {
    "id": "-TLr0NB05RUZ"
   },
   "source": [
    "# Imports"
   ]
  },
  {
   "cell_type": "code",
   "execution_count": 1,
   "metadata": {
    "ExecuteTime": {
     "end_time": "2021-05-24T08:13:51.324753Z",
     "start_time": "2021-05-24T08:13:17.594377Z"
    },
    "colab": {
     "base_uri": "https://localhost:8080/",
     "height": 1000
    },
    "id": "hnW-pEpj7Gwb",
    "outputId": "ee93dec0-82b2-4c8a-ed1e-d73017ff4786"
   },
   "outputs": [
    {
     "name": "stdout",
     "output_type": "stream",
     "text": [
      "\u001b[33mWARNING: You are using pip version 21.1; however, version 21.1.2 is available.\n",
      "You should consider upgrading via the '/Users/moritzgeiger/.pyenv/versions/3.8.6/envs/lewagon/bin/python3.8 -m pip install --upgrade pip' command.\u001b[0m\n",
      "\u001b[33mWARNING: You are using pip version 21.1; however, version 21.1.2 is available.\n",
      "You should consider upgrading via the '/Users/moritzgeiger/.pyenv/versions/3.8.6/envs/lewagon/bin/python3.8 -m pip install --upgrade pip' command.\u001b[0m\n",
      "Requirement already satisfied: osm-runner in /Users/moritzgeiger/.pyenv/versions/3.8.6/envs/lewagon/lib/python3.8/site-packages (0.0.3)\n",
      "Requirement already satisfied: arcgis in /Users/moritzgeiger/.pyenv/versions/3.8.6/envs/lewagon/lib/python3.8/site-packages (from osm-runner) (1.8.5.post3)\n",
      "Requirement already satisfied: requests in /Users/moritzgeiger/.pyenv/versions/3.8.6/envs/lewagon/lib/python3.8/site-packages (from osm-runner) (2.25.1)\n",
      "Requirement already satisfied: pandas in /Users/moritzgeiger/.pyenv/versions/3.8.6/envs/lewagon/lib/python3.8/site-packages (from osm-runner) (1.2.4)\n",
      "Requirement already satisfied: numpy>=1.16.2 in /Users/moritzgeiger/.pyenv/versions/3.8.6/envs/lewagon/lib/python3.8/site-packages (from arcgis->osm-runner) (1.19.2)\n",
      "Requirement already satisfied: pyshp>=2 in /Users/moritzgeiger/.pyenv/versions/3.8.6/envs/lewagon/lib/python3.8/site-packages (from arcgis->osm-runner) (2.1.3)\n",
      "Requirement already satisfied: widgetsnbextension>=3 in /Users/moritzgeiger/.pyenv/versions/3.8.6/envs/lewagon/lib/python3.8/site-packages (from arcgis->osm-runner) (3.5.1)\n",
      "Requirement already satisfied: requests-toolbelt in /Users/moritzgeiger/.pyenv/versions/3.8.6/envs/lewagon/lib/python3.8/site-packages (from arcgis->osm-runner) (0.9.1)\n",
      "Requirement already satisfied: lerc in /Users/moritzgeiger/.pyenv/versions/3.8.6/envs/lewagon/lib/python3.8/site-packages (from arcgis->osm-runner) (0.1.0)\n",
      "Requirement already satisfied: jupyterlab in /Users/moritzgeiger/.pyenv/versions/3.8.6/envs/lewagon/lib/python3.8/site-packages (from arcgis->osm-runner) (3.0.14)\n",
      "Requirement already satisfied: requests-oauthlib in /Users/moritzgeiger/.pyenv/versions/3.8.6/envs/lewagon/lib/python3.8/site-packages (from arcgis->osm-runner) (1.3.0)\n",
      "Requirement already satisfied: requests-ntlm in /Users/moritzgeiger/.pyenv/versions/3.8.6/envs/lewagon/lib/python3.8/site-packages (from arcgis->osm-runner) (1.1.0)\n",
      "Requirement already satisfied: keyring>=19 in /Users/moritzgeiger/.pyenv/versions/3.8.6/envs/lewagon/lib/python3.8/site-packages (from arcgis->osm-runner) (23.0.1)\n",
      "Requirement already satisfied: ipywidgets>=7 in /Users/moritzgeiger/.pyenv/versions/3.8.6/envs/lewagon/lib/python3.8/site-packages (from arcgis->osm-runner) (7.6.3)\n",
      "Requirement already satisfied: python-certifi-win32 in /Users/moritzgeiger/.pyenv/versions/3.8.6/envs/lewagon/lib/python3.8/site-packages (from arcgis->osm-runner) (1.6)\n",
      "Requirement already satisfied: six in /Users/moritzgeiger/.pyenv/versions/3.8.6/envs/lewagon/lib/python3.8/site-packages (from arcgis->osm-runner) (1.15.0)\n",
      "Requirement already satisfied: matplotlib in /Users/moritzgeiger/.pyenv/versions/3.8.6/envs/lewagon/lib/python3.8/site-packages (from arcgis->osm-runner) (3.4.1)\n",
      "Requirement already satisfied: ujson>=3 in /Users/moritzgeiger/.pyenv/versions/3.8.6/envs/lewagon/lib/python3.8/site-packages (from arcgis->osm-runner) (4.0.2)\n",
      "Requirement already satisfied: nbformat>=4.2.0 in /Users/moritzgeiger/.pyenv/versions/3.8.6/envs/lewagon/lib/python3.8/site-packages (from ipywidgets>=7->arcgis->osm-runner) (5.1.3)\n",
      "Requirement already satisfied: traitlets>=4.3.1 in /Users/moritzgeiger/.pyenv/versions/3.8.6/envs/lewagon/lib/python3.8/site-packages (from ipywidgets>=7->arcgis->osm-runner) (5.0.5)\n",
      "Requirement already satisfied: jupyterlab-widgets>=1.0.0 in /Users/moritzgeiger/.pyenv/versions/3.8.6/envs/lewagon/lib/python3.8/site-packages (from ipywidgets>=7->arcgis->osm-runner) (1.0.0)\n",
      "Requirement already satisfied: ipython>=4.0.0 in /Users/moritzgeiger/.pyenv/versions/3.8.6/envs/lewagon/lib/python3.8/site-packages (from ipywidgets>=7->arcgis->osm-runner) (7.22.0)\n",
      "Requirement already satisfied: ipykernel>=4.5.1 in /Users/moritzgeiger/.pyenv/versions/3.8.6/envs/lewagon/lib/python3.8/site-packages (from ipywidgets>=7->arcgis->osm-runner) (5.5.3)\n",
      "Requirement already satisfied: jupyter-client in /Users/moritzgeiger/.pyenv/versions/3.8.6/envs/lewagon/lib/python3.8/site-packages (from ipykernel>=4.5.1->ipywidgets>=7->arcgis->osm-runner) (6.1.12)\n",
      "Requirement already satisfied: appnope in /Users/moritzgeiger/.pyenv/versions/3.8.6/envs/lewagon/lib/python3.8/site-packages (from ipykernel>=4.5.1->ipywidgets>=7->arcgis->osm-runner) (0.1.2)\n",
      "Requirement already satisfied: tornado>=4.2 in /Users/moritzgeiger/.pyenv/versions/3.8.6/envs/lewagon/lib/python3.8/site-packages (from ipykernel>=4.5.1->ipywidgets>=7->arcgis->osm-runner) (6.1)\n",
      "Requirement already satisfied: decorator in /Users/moritzgeiger/.pyenv/versions/3.8.6/envs/lewagon/lib/python3.8/site-packages (from ipython>=4.0.0->ipywidgets>=7->arcgis->osm-runner) (4.4.2)\n",
      "Requirement already satisfied: pexpect>4.3 in /Users/moritzgeiger/.pyenv/versions/3.8.6/envs/lewagon/lib/python3.8/site-packages (from ipython>=4.0.0->ipywidgets>=7->arcgis->osm-runner) (4.8.0)\n",
      "Requirement already satisfied: setuptools>=18.5 in /Users/moritzgeiger/.pyenv/versions/3.8.6/envs/lewagon/lib/python3.8/site-packages (from ipython>=4.0.0->ipywidgets>=7->arcgis->osm-runner) (49.2.1)\n",
      "Requirement already satisfied: jedi>=0.16 in /Users/moritzgeiger/.pyenv/versions/3.8.6/envs/lewagon/lib/python3.8/site-packages (from ipython>=4.0.0->ipywidgets>=7->arcgis->osm-runner) (0.18.0)\n",
      "Requirement already satisfied: prompt-toolkit!=3.0.0,!=3.0.1,<3.1.0,>=2.0.0 in /Users/moritzgeiger/.pyenv/versions/3.8.6/envs/lewagon/lib/python3.8/site-packages (from ipython>=4.0.0->ipywidgets>=7->arcgis->osm-runner) (3.0.18)\n",
      "Requirement already satisfied: pygments in /Users/moritzgeiger/.pyenv/versions/3.8.6/envs/lewagon/lib/python3.8/site-packages (from ipython>=4.0.0->ipywidgets>=7->arcgis->osm-runner) (2.8.1)\n",
      "Requirement already satisfied: backcall in /Users/moritzgeiger/.pyenv/versions/3.8.6/envs/lewagon/lib/python3.8/site-packages (from ipython>=4.0.0->ipywidgets>=7->arcgis->osm-runner) (0.2.0)\n",
      "Requirement already satisfied: pickleshare in /Users/moritzgeiger/.pyenv/versions/3.8.6/envs/lewagon/lib/python3.8/site-packages (from ipython>=4.0.0->ipywidgets>=7->arcgis->osm-runner) (0.7.5)\n",
      "Requirement already satisfied: parso<0.9.0,>=0.8.0 in /Users/moritzgeiger/.pyenv/versions/3.8.6/envs/lewagon/lib/python3.8/site-packages (from jedi>=0.16->ipython>=4.0.0->ipywidgets>=7->arcgis->osm-runner) (0.8.2)\n",
      "Requirement already satisfied: importlib-metadata>=3.6 in /Users/moritzgeiger/.pyenv/versions/3.8.6/envs/lewagon/lib/python3.8/site-packages (from keyring>=19->arcgis->osm-runner) (4.0.1)\n",
      "Requirement already satisfied: zipp>=0.5 in /Users/moritzgeiger/.pyenv/versions/3.8.6/envs/lewagon/lib/python3.8/site-packages (from importlib-metadata>=3.6->keyring>=19->arcgis->osm-runner) (3.4.1)\n",
      "Requirement already satisfied: jupyter-core in /Users/moritzgeiger/.pyenv/versions/3.8.6/envs/lewagon/lib/python3.8/site-packages (from nbformat>=4.2.0->ipywidgets>=7->arcgis->osm-runner) (4.7.1)\n",
      "Requirement already satisfied: jsonschema!=2.5.0,>=2.4 in /Users/moritzgeiger/.pyenv/versions/3.8.6/envs/lewagon/lib/python3.8/site-packages (from nbformat>=4.2.0->ipywidgets>=7->arcgis->osm-runner) (3.2.0)\n",
      "Requirement already satisfied: ipython-genutils in /Users/moritzgeiger/.pyenv/versions/3.8.6/envs/lewagon/lib/python3.8/site-packages (from nbformat>=4.2.0->ipywidgets>=7->arcgis->osm-runner) (0.2.0)\n",
      "Requirement already satisfied: attrs>=17.4.0 in /Users/moritzgeiger/.pyenv/versions/3.8.6/envs/lewagon/lib/python3.8/site-packages (from jsonschema!=2.5.0,>=2.4->nbformat>=4.2.0->ipywidgets>=7->arcgis->osm-runner) (20.3.0)\n",
      "Requirement already satisfied: pyrsistent>=0.14.0 in /Users/moritzgeiger/.pyenv/versions/3.8.6/envs/lewagon/lib/python3.8/site-packages (from jsonschema!=2.5.0,>=2.4->nbformat>=4.2.0->ipywidgets>=7->arcgis->osm-runner) (0.17.3)\n",
      "Requirement already satisfied: python-dateutil>=2.7.3 in /Users/moritzgeiger/.pyenv/versions/3.8.6/envs/lewagon/lib/python3.8/site-packages (from pandas->osm-runner) (2.8.1)\n",
      "Requirement already satisfied: pytz>=2017.3 in /Users/moritzgeiger/.pyenv/versions/3.8.6/envs/lewagon/lib/python3.8/site-packages (from pandas->osm-runner) (2021.1)\n",
      "Requirement already satisfied: ptyprocess>=0.5 in /Users/moritzgeiger/.pyenv/versions/3.8.6/envs/lewagon/lib/python3.8/site-packages (from pexpect>4.3->ipython>=4.0.0->ipywidgets>=7->arcgis->osm-runner) (0.7.0)\n",
      "Requirement already satisfied: wcwidth in /Users/moritzgeiger/.pyenv/versions/3.8.6/envs/lewagon/lib/python3.8/site-packages (from prompt-toolkit!=3.0.0,!=3.0.1,<3.1.0,>=2.0.0->ipython>=4.0.0->ipywidgets>=7->arcgis->osm-runner) (0.2.5)\n",
      "Requirement already satisfied: notebook>=4.4.1 in /Users/moritzgeiger/.pyenv/versions/3.8.6/envs/lewagon/lib/python3.8/site-packages (from widgetsnbextension>=3->arcgis->osm-runner) (6.3.0)\n"
     ]
    },
    {
     "name": "stdout",
     "output_type": "stream",
     "text": [
      "Requirement already satisfied: pyzmq>=17 in /Users/moritzgeiger/.pyenv/versions/3.8.6/envs/lewagon/lib/python3.8/site-packages (from notebook>=4.4.1->widgetsnbextension>=3->arcgis->osm-runner) (22.0.3)\n",
      "Requirement already satisfied: nbconvert in /Users/moritzgeiger/.pyenv/versions/3.8.6/envs/lewagon/lib/python3.8/site-packages (from notebook>=4.4.1->widgetsnbextension>=3->arcgis->osm-runner) (6.0.7)\n",
      "Requirement already satisfied: Send2Trash>=1.5.0 in /Users/moritzgeiger/.pyenv/versions/3.8.6/envs/lewagon/lib/python3.8/site-packages (from notebook>=4.4.1->widgetsnbextension>=3->arcgis->osm-runner) (1.5.0)\n",
      "Requirement already satisfied: terminado>=0.8.3 in /Users/moritzgeiger/.pyenv/versions/3.8.6/envs/lewagon/lib/python3.8/site-packages (from notebook>=4.4.1->widgetsnbextension>=3->arcgis->osm-runner) (0.9.4)\n",
      "Requirement already satisfied: prometheus-client in /Users/moritzgeiger/.pyenv/versions/3.8.6/envs/lewagon/lib/python3.8/site-packages (from notebook>=4.4.1->widgetsnbextension>=3->arcgis->osm-runner) (0.10.1)\n",
      "Requirement already satisfied: jinja2 in /Users/moritzgeiger/.pyenv/versions/3.8.6/envs/lewagon/lib/python3.8/site-packages (from notebook>=4.4.1->widgetsnbextension>=3->arcgis->osm-runner) (2.11.3)\n",
      "Requirement already satisfied: argon2-cffi in /Users/moritzgeiger/.pyenv/versions/3.8.6/envs/lewagon/lib/python3.8/site-packages (from notebook>=4.4.1->widgetsnbextension>=3->arcgis->osm-runner) (20.1.0)\n",
      "Requirement already satisfied: cffi>=1.0.0 in /Users/moritzgeiger/.pyenv/versions/3.8.6/envs/lewagon/lib/python3.8/site-packages (from argon2-cffi->notebook>=4.4.1->widgetsnbextension>=3->arcgis->osm-runner) (1.14.5)\n",
      "Requirement already satisfied: pycparser in /Users/moritzgeiger/.pyenv/versions/3.8.6/envs/lewagon/lib/python3.8/site-packages (from cffi>=1.0.0->argon2-cffi->notebook>=4.4.1->widgetsnbextension>=3->arcgis->osm-runner) (2.20)\n",
      "Requirement already satisfied: MarkupSafe>=0.23 in /Users/moritzgeiger/.pyenv/versions/3.8.6/envs/lewagon/lib/python3.8/site-packages (from jinja2->notebook>=4.4.1->widgetsnbextension>=3->arcgis->osm-runner) (1.1.1)\n",
      "Requirement already satisfied: packaging in /Users/moritzgeiger/.pyenv/versions/3.8.6/envs/lewagon/lib/python3.8/site-packages (from jupyterlab->arcgis->osm-runner) (20.9)\n",
      "Requirement already satisfied: jupyter-packaging~=0.7 in /Users/moritzgeiger/.pyenv/versions/3.8.6/envs/lewagon/lib/python3.8/site-packages (from jupyterlab->arcgis->osm-runner) (0.9.2)\n",
      "Requirement already satisfied: nbclassic~=0.2 in /Users/moritzgeiger/.pyenv/versions/3.8.6/envs/lewagon/lib/python3.8/site-packages (from jupyterlab->arcgis->osm-runner) (0.2.7)\n",
      "Requirement already satisfied: jupyter-server~=1.4 in /Users/moritzgeiger/.pyenv/versions/3.8.6/envs/lewagon/lib/python3.8/site-packages (from jupyterlab->arcgis->osm-runner) (1.6.2)\n",
      "Requirement already satisfied: jupyterlab-server~=2.3 in /Users/moritzgeiger/.pyenv/versions/3.8.6/envs/lewagon/lib/python3.8/site-packages (from jupyterlab->arcgis->osm-runner) (2.4.0)\n",
      "Requirement already satisfied: tomlkit in /Users/moritzgeiger/.pyenv/versions/3.8.6/envs/lewagon/lib/python3.8/site-packages (from jupyter-packaging~=0.7->jupyterlab->arcgis->osm-runner) (0.7.0)\n",
      "Requirement already satisfied: deprecation in /Users/moritzgeiger/.pyenv/versions/3.8.6/envs/lewagon/lib/python3.8/site-packages (from jupyter-packaging~=0.7->jupyterlab->arcgis->osm-runner) (2.1.0)\n",
      "Requirement already satisfied: wheel in /Users/moritzgeiger/.pyenv/versions/3.8.6/envs/lewagon/lib/python3.8/site-packages (from jupyter-packaging~=0.7->jupyterlab->arcgis->osm-runner) (0.36.2)\n",
      "Requirement already satisfied: anyio>=2.0.2 in /Users/moritzgeiger/.pyenv/versions/3.8.6/envs/lewagon/lib/python3.8/site-packages (from jupyter-server~=1.4->jupyterlab->arcgis->osm-runner) (2.2.0)\n",
      "Requirement already satisfied: idna>=2.8 in /Users/moritzgeiger/.pyenv/versions/3.8.6/envs/lewagon/lib/python3.8/site-packages (from anyio>=2.0.2->jupyter-server~=1.4->jupyterlab->arcgis->osm-runner) (2.10)\n",
      "Requirement already satisfied: sniffio>=1.1 in /Users/moritzgeiger/.pyenv/versions/3.8.6/envs/lewagon/lib/python3.8/site-packages (from anyio>=2.0.2->jupyter-server~=1.4->jupyterlab->arcgis->osm-runner) (1.2.0)\n",
      "Requirement already satisfied: babel in /Users/moritzgeiger/.pyenv/versions/3.8.6/envs/lewagon/lib/python3.8/site-packages (from jupyterlab-server~=2.3->jupyterlab->arcgis->osm-runner) (2.9.0)\n",
      "Requirement already satisfied: json5 in /Users/moritzgeiger/.pyenv/versions/3.8.6/envs/lewagon/lib/python3.8/site-packages (from jupyterlab-server~=2.3->jupyterlab->arcgis->osm-runner) (0.9.5)\n",
      "Requirement already satisfied: pyparsing>=2.2.1 in /Users/moritzgeiger/.pyenv/versions/3.8.6/envs/lewagon/lib/python3.8/site-packages (from matplotlib->arcgis->osm-runner) (2.4.7)\n",
      "Requirement already satisfied: cycler>=0.10 in /Users/moritzgeiger/.pyenv/versions/3.8.6/envs/lewagon/lib/python3.8/site-packages (from matplotlib->arcgis->osm-runner) (0.10.0)\n",
      "Requirement already satisfied: pillow>=6.2.0 in /Users/moritzgeiger/.pyenv/versions/3.8.6/envs/lewagon/lib/python3.8/site-packages (from matplotlib->arcgis->osm-runner) (8.2.0)\n",
      "Requirement already satisfied: kiwisolver>=1.0.1 in /Users/moritzgeiger/.pyenv/versions/3.8.6/envs/lewagon/lib/python3.8/site-packages (from matplotlib->arcgis->osm-runner) (1.3.1)\n",
      "Requirement already satisfied: pandocfilters>=1.4.1 in /Users/moritzgeiger/.pyenv/versions/3.8.6/envs/lewagon/lib/python3.8/site-packages (from nbconvert->notebook>=4.4.1->widgetsnbextension>=3->arcgis->osm-runner) (1.4.3)\n",
      "Requirement already satisfied: testpath in /Users/moritzgeiger/.pyenv/versions/3.8.6/envs/lewagon/lib/python3.8/site-packages (from nbconvert->notebook>=4.4.1->widgetsnbextension>=3->arcgis->osm-runner) (0.4.4)\n",
      "Requirement already satisfied: nbclient<0.6.0,>=0.5.0 in /Users/moritzgeiger/.pyenv/versions/3.8.6/envs/lewagon/lib/python3.8/site-packages (from nbconvert->notebook>=4.4.1->widgetsnbextension>=3->arcgis->osm-runner) (0.5.3)\n",
      "Requirement already satisfied: mistune<2,>=0.8.1 in /Users/moritzgeiger/.pyenv/versions/3.8.6/envs/lewagon/lib/python3.8/site-packages (from nbconvert->notebook>=4.4.1->widgetsnbextension>=3->arcgis->osm-runner) (0.8.4)\n",
      "Requirement already satisfied: entrypoints>=0.2.2 in /Users/moritzgeiger/.pyenv/versions/3.8.6/envs/lewagon/lib/python3.8/site-packages (from nbconvert->notebook>=4.4.1->widgetsnbextension>=3->arcgis->osm-runner) (0.3)\n",
      "Requirement already satisfied: bleach in /Users/moritzgeiger/.pyenv/versions/3.8.6/envs/lewagon/lib/python3.8/site-packages (from nbconvert->notebook>=4.4.1->widgetsnbextension>=3->arcgis->osm-runner) (3.3.0)\n",
      "Requirement already satisfied: jupyterlab-pygments in /Users/moritzgeiger/.pyenv/versions/3.8.6/envs/lewagon/lib/python3.8/site-packages (from nbconvert->notebook>=4.4.1->widgetsnbextension>=3->arcgis->osm-runner) (0.1.2)\n",
      "Requirement already satisfied: defusedxml in /Users/moritzgeiger/.pyenv/versions/3.8.6/envs/lewagon/lib/python3.8/site-packages (from nbconvert->notebook>=4.4.1->widgetsnbextension>=3->arcgis->osm-runner) (0.7.1)\n",
      "Requirement already satisfied: nest-asyncio in /Users/moritzgeiger/.pyenv/versions/3.8.6/envs/lewagon/lib/python3.8/site-packages (from nbclient<0.6.0,>=0.5.0->nbconvert->notebook>=4.4.1->widgetsnbextension>=3->arcgis->osm-runner) (1.5.1)\n",
      "Requirement already satisfied: async-generator in /Users/moritzgeiger/.pyenv/versions/3.8.6/envs/lewagon/lib/python3.8/site-packages (from nbclient<0.6.0,>=0.5.0->nbconvert->notebook>=4.4.1->widgetsnbextension>=3->arcgis->osm-runner) (1.10)\n",
      "Requirement already satisfied: webencodings in /Users/moritzgeiger/.pyenv/versions/3.8.6/envs/lewagon/lib/python3.8/site-packages (from bleach->nbconvert->notebook>=4.4.1->widgetsnbextension>=3->arcgis->osm-runner) (0.5.1)\n",
      "Requirement already satisfied: wrapt>=1.10.4 in /Users/moritzgeiger/.pyenv/versions/3.8.6/envs/lewagon/lib/python3.8/site-packages (from python-certifi-win32->arcgis->osm-runner) (1.12.1)\n",
      "Requirement already satisfied: setuptools-scm in /Users/moritzgeiger/.pyenv/versions/3.8.6/envs/lewagon/lib/python3.8/site-packages (from python-certifi-win32->arcgis->osm-runner) (6.0.1)\n",
      "Requirement already satisfied: certifi in /Users/moritzgeiger/.pyenv/versions/3.8.6/envs/lewagon/lib/python3.8/site-packages (from python-certifi-win32->arcgis->osm-runner) (2020.12.5)\n",
      "Requirement already satisfied: chardet<5,>=3.0.2 in /Users/moritzgeiger/.pyenv/versions/3.8.6/envs/lewagon/lib/python3.8/site-packages (from requests->osm-runner) (4.0.0)\n",
      "Requirement already satisfied: urllib3<1.27,>=1.21.1 in /Users/moritzgeiger/.pyenv/versions/3.8.6/envs/lewagon/lib/python3.8/site-packages (from requests->osm-runner) (1.26.4)\n"
     ]
    },
    {
     "name": "stdout",
     "output_type": "stream",
     "text": [
      "Requirement already satisfied: ntlm-auth>=1.0.2 in /Users/moritzgeiger/.pyenv/versions/3.8.6/envs/lewagon/lib/python3.8/site-packages (from requests-ntlm->arcgis->osm-runner) (1.5.0)\n",
      "Requirement already satisfied: cryptography>=1.3 in /Users/moritzgeiger/.pyenv/versions/3.8.6/envs/lewagon/lib/python3.8/site-packages (from requests-ntlm->arcgis->osm-runner) (3.4.7)\n",
      "Requirement already satisfied: oauthlib>=3.0.0 in /Users/moritzgeiger/.pyenv/versions/3.8.6/envs/lewagon/lib/python3.8/site-packages (from requests-oauthlib->arcgis->osm-runner) (3.1.0)\n",
      "\u001b[33mWARNING: You are using pip version 21.1; however, version 21.1.2 is available.\n",
      "You should consider upgrading via the '/Users/moritzgeiger/.pyenv/versions/3.8.6/envs/lewagon/bin/python3.8 -m pip install --upgrade pip' command.\u001b[0m\n"
     ]
    }
   ],
   "source": [
    "! pip install geopandas --quiet\n",
    "! pip install contextily --quiet\n",
    "# ! pip install osmnx --quiet\n",
    "# ! pip install osmium --quiet\n",
    "! pip install osm-runner"
   ]
  },
  {
   "cell_type": "code",
   "execution_count": 2,
   "metadata": {
    "ExecuteTime": {
     "end_time": "2021-05-24T08:13:54.711680Z",
     "start_time": "2021-05-24T08:13:51.327959Z"
    },
    "colab": {
     "base_uri": "https://localhost:8080/",
     "height": 360
    },
    "id": "uRXwo33O5nHx",
    "outputId": "41a89dd3-1f6a-421b-fe13-bc8fa922b2a7"
   },
   "outputs": [],
   "source": [
    "import geopandas as gpd\n",
    "import pandas as pd\n",
    "import fiona\n",
    "import os\n",
    "import matplotlib.pyplot as plt\n",
    "import folium\n",
    "from zipfile import ZipFile\n",
    "from folium.plugins import MarkerCluster, HeatMap, BeautifyIcon\n",
    "from folium.map import LayerControl, Layer, FeatureGroup\n",
    "import seaborn as sns\n",
    "from shapely.geometry import Point, LineString, MultiPoint\n",
    "import requests\n",
    "from io import BytesIO, StringIO\n",
    "import contextily as ctx\n",
    "from IPython.display import HTML, display, IFrame\n",
    "import osmnx as ox\n",
    "import osmium\n",
    "from osm_runner import Runner\n",
    "import regex as re\n",
    "import unicodedata\n"
   ]
  },
  {
   "cell_type": "code",
   "execution_count": 3,
   "metadata": {
    "ExecuteTime": {
     "end_time": "2021-05-24T08:13:54.719749Z",
     "start_time": "2021-05-24T08:13:54.715427Z"
    },
    "colab": {
     "base_uri": "https://localhost:8080/"
    },
    "id": "qIFNZ1Gq6bWu",
    "outputId": "446ecd60-dae7-4e9f-a872-1164137a9a46"
   },
   "outputs": [],
   "source": [
    "# from google.colab import drive\n",
    "# drive.mount('/gdrive')"
   ]
  },
  {
   "cell_type": "markdown",
   "metadata": {
    "id": "unhis5R07DMZ"
   },
   "source": [
    "# Data"
   ]
  },
  {
   "cell_type": "code",
   "execution_count": 4,
   "metadata": {
    "ExecuteTime": {
     "end_time": "2021-05-24T08:13:55.070748Z",
     "start_time": "2021-05-24T08:13:54.725403Z"
    },
    "colab": {
     "base_uri": "https://localhost:8080/"
    },
    "id": "RqHH72Wc6bZS",
    "outputId": "a43a7469-9530-45d6-bc75-5dbe9358fe9d"
   },
   "outputs": [
    {
     "data": {
      "text/plain": [
       "((128, 14),\n",
       " Green_Zone_name               object\n",
       " no_of_museums                  int64\n",
       " no_of_parking_lots             int64\n",
       " no_of_tourist_attractions      int64\n",
       " gz_daily_avg_demand          float64\n",
       " Resident                       int64\n",
       " daily_avg_people             float64\n",
       " no_of_buildings                int64\n",
       " no_of_families                 int64\n",
       " no_of_people_resident          int64\n",
       " perc_senior_pop              float64\n",
       " perc_pop_until_19_yo         float64\n",
       " POINT_X                      float64\n",
       " POINT_Y                      float64\n",
       " dtype: object)"
      ]
     },
     "execution_count": 4,
     "metadata": {},
     "output_type": "execute_result"
    }
   ],
   "source": [
    "green_areas = pd.read_csv('https://raw.githubusercontent.com/SowmyaMadala/WDL-Stage4/main/Data/Attracting%20Population/WDL_Green_Areas_Dataset_V1.txt', \n",
    "                          sep =\"|\", \n",
    "                          encoding =\"latin-1\").rename(columns = {'Number of Museums in influence area' : 'no_of_museums',\n",
    "                                                                 'Number of parking lots in influence area' : 'no_of_parking_lots',\n",
    "                                                                'Number of tourist attractions in influence area': 'no_of_tourist_attractions', \n",
    "                                                                'Green Zones Daily Average Demand':'gz_daily_avg_demand',\n",
    "                                                                'Daily average of people in influence area': 'daily_avg_people',\n",
    "                                                                'Number of buildings in influence area' : 'no_of_buildings',\n",
    "                                                                'Number of families in influence area': 'no_of_families',\n",
    "                                                                'Number of people resident in influence area' : 'no_of_people_resident'\n",
    "                                                                })\n",
    "\n",
    "green_areas.shape, green_areas.dtypes"
   ]
  },
  {
   "cell_type": "code",
   "execution_count": 5,
   "metadata": {
    "ExecuteTime": {
     "end_time": "2021-05-24T08:13:55.098910Z",
     "start_time": "2021-05-24T08:13:55.073538Z"
    },
    "colab": {
     "base_uri": "https://localhost:8080/",
     "height": 400
    },
    "id": "X5ViyNh96bcI",
    "outputId": "8fc680ba-855d-4f92-f07d-9291a86301ba"
   },
   "outputs": [
    {
     "data": {
      "text/html": [
       "<div>\n",
       "<style scoped>\n",
       "    .dataframe tbody tr th:only-of-type {\n",
       "        vertical-align: middle;\n",
       "    }\n",
       "\n",
       "    .dataframe tbody tr th {\n",
       "        vertical-align: top;\n",
       "    }\n",
       "\n",
       "    .dataframe thead th {\n",
       "        text-align: right;\n",
       "    }\n",
       "</style>\n",
       "<table border=\"1\" class=\"dataframe\">\n",
       "  <thead>\n",
       "    <tr style=\"text-align: right;\">\n",
       "      <th></th>\n",
       "      <th>Green_Zone_name</th>\n",
       "      <th>no_of_museums</th>\n",
       "      <th>no_of_parking_lots</th>\n",
       "      <th>no_of_tourist_attractions</th>\n",
       "      <th>gz_daily_avg_demand</th>\n",
       "      <th>Resident</th>\n",
       "      <th>daily_avg_people</th>\n",
       "      <th>no_of_buildings</th>\n",
       "      <th>no_of_families</th>\n",
       "      <th>no_of_people_resident</th>\n",
       "      <th>perc_senior_pop</th>\n",
       "      <th>perc_pop_until_19_yo</th>\n",
       "      <th>POINT_X</th>\n",
       "      <th>POINT_Y</th>\n",
       "    </tr>\n",
       "  </thead>\n",
       "  <tbody>\n",
       "    <tr>\n",
       "      <th>0</th>\n",
       "      <td>ESPAÇO JOGO E RECREIO HOMEM DO LEME</td>\n",
       "      <td>5</td>\n",
       "      <td>28</td>\n",
       "      <td>30</td>\n",
       "      <td>3.728677</td>\n",
       "      <td>1</td>\n",
       "      <td>17780.803014</td>\n",
       "      <td>4783</td>\n",
       "      <td>15352</td>\n",
       "      <td>38012</td>\n",
       "      <td>0.195123</td>\n",
       "      <td>0.196017</td>\n",
       "      <td>-8.68415</td>\n",
       "      <td>41.16001</td>\n",
       "    </tr>\n",
       "    <tr>\n",
       "      <th>1</th>\n",
       "      <td>ESPAÇO JOGO E RECREIO HOMEM DO LEME</td>\n",
       "      <td>5</td>\n",
       "      <td>28</td>\n",
       "      <td>30</td>\n",
       "      <td>3.728677</td>\n",
       "      <td>0</td>\n",
       "      <td>45787.629298</td>\n",
       "      <td>4783</td>\n",
       "      <td>15352</td>\n",
       "      <td>38012</td>\n",
       "      <td>0.195123</td>\n",
       "      <td>0.196017</td>\n",
       "      <td>-8.68415</td>\n",
       "      <td>41.16001</td>\n",
       "    </tr>\n",
       "    <tr>\n",
       "      <th>2</th>\n",
       "      <td>JARDIM AFONSO DE ALBUQUERQUE</td>\n",
       "      <td>93</td>\n",
       "      <td>129</td>\n",
       "      <td>78</td>\n",
       "      <td>10.259113</td>\n",
       "      <td>0</td>\n",
       "      <td>42877.741202</td>\n",
       "      <td>1775</td>\n",
       "      <td>17185</td>\n",
       "      <td>41163</td>\n",
       "      <td>0.161747</td>\n",
       "      <td>0.204917</td>\n",
       "      <td>-9.19949</td>\n",
       "      <td>38.69674</td>\n",
       "    </tr>\n",
       "    <tr>\n",
       "      <th>3</th>\n",
       "      <td>JARDIM AFONSO DE ALBUQUERQUE</td>\n",
       "      <td>93</td>\n",
       "      <td>129</td>\n",
       "      <td>78</td>\n",
       "      <td>10.259113</td>\n",
       "      <td>1</td>\n",
       "      <td>17497.825376</td>\n",
       "      <td>1775</td>\n",
       "      <td>17185</td>\n",
       "      <td>41163</td>\n",
       "      <td>0.161747</td>\n",
       "      <td>0.204917</td>\n",
       "      <td>-9.19949</td>\n",
       "      <td>38.69674</td>\n",
       "    </tr>\n",
       "    <tr>\n",
       "      <th>4</th>\n",
       "      <td>JARDIM ALAMEDA CIDADE UNIVERSITÁRIA</td>\n",
       "      <td>8</td>\n",
       "      <td>23</td>\n",
       "      <td>4</td>\n",
       "      <td>47.347816</td>\n",
       "      <td>0</td>\n",
       "      <td>42877.741202</td>\n",
       "      <td>1775</td>\n",
       "      <td>17185</td>\n",
       "      <td>41163</td>\n",
       "      <td>0.161747</td>\n",
       "      <td>0.204917</td>\n",
       "      <td>-9.15757</td>\n",
       "      <td>38.75294</td>\n",
       "    </tr>\n",
       "  </tbody>\n",
       "</table>\n",
       "</div>"
      ],
      "text/plain": [
       "                       Green_Zone_name  no_of_museums  no_of_parking_lots  \\\n",
       "0  ESPAÇO JOGO E RECREIO HOMEM DO LEME              5                  28   \n",
       "1  ESPAÇO JOGO E RECREIO HOMEM DO LEME              5                  28   \n",
       "2         JARDIM AFONSO DE ALBUQUERQUE             93                 129   \n",
       "3         JARDIM AFONSO DE ALBUQUERQUE             93                 129   \n",
       "4  JARDIM ALAMEDA CIDADE UNIVERSITÁRIA              8                  23   \n",
       "\n",
       "   no_of_tourist_attractions  gz_daily_avg_demand  Resident  daily_avg_people  \\\n",
       "0                         30             3.728677         1      17780.803014   \n",
       "1                         30             3.728677         0      45787.629298   \n",
       "2                         78            10.259113         0      42877.741202   \n",
       "3                         78            10.259113         1      17497.825376   \n",
       "4                          4            47.347816         0      42877.741202   \n",
       "\n",
       "   no_of_buildings  no_of_families  no_of_people_resident  perc_senior_pop  \\\n",
       "0             4783           15352                  38012         0.195123   \n",
       "1             4783           15352                  38012         0.195123   \n",
       "2             1775           17185                  41163         0.161747   \n",
       "3             1775           17185                  41163         0.161747   \n",
       "4             1775           17185                  41163         0.161747   \n",
       "\n",
       "   perc_pop_until_19_yo  POINT_X   POINT_Y  \n",
       "0              0.196017 -8.68415  41.16001  \n",
       "1              0.196017 -8.68415  41.16001  \n",
       "2              0.204917 -9.19949  38.69674  \n",
       "3              0.204917 -9.19949  38.69674  \n",
       "4              0.204917 -9.15757  38.75294  "
      ]
     },
     "execution_count": 5,
     "metadata": {},
     "output_type": "execute_result"
    }
   ],
   "source": [
    "green_areas.head()"
   ]
  },
  {
   "cell_type": "markdown",
   "metadata": {},
   "source": [
    "# Prelim Analysis"
   ]
  },
  {
   "cell_type": "code",
   "execution_count": 11,
   "metadata": {
    "ExecuteTime": {
     "end_time": "2021-05-24T08:13:55.113067Z",
     "start_time": "2021-05-24T08:13:55.102539Z"
    },
    "id": "X9aE1eMO9hPn"
   },
   "outputs": [],
   "source": [
    "# Add relative demand for green spaces by population of influence area\n",
    "green_areas['avg_rel_demand'] = green_areas.gz_daily_avg_demand / green_areas.daily_avg_people"
   ]
  },
  {
   "cell_type": "code",
   "execution_count": 12,
   "metadata": {},
   "outputs": [
    {
     "data": {
      "text/plain": [
       "(64, 16)"
      ]
     },
     "execution_count": 12,
     "metadata": {},
     "output_type": "execute_result"
    }
   ],
   "source": [
    "res_green_areas.shape"
   ]
  },
  {
   "cell_type": "code",
   "execution_count": 10,
   "metadata": {
    "ExecuteTime": {
     "end_time": "2021-05-24T08:13:55.634829Z",
     "start_time": "2021-05-24T08:13:55.115983Z"
    },
    "colab": {
     "base_uri": "https://localhost:8080/",
     "height": 562
    },
    "id": "SC8DZ4ip6bfA",
    "outputId": "3468640c-af39-4b06-d837-7694736c7c3d"
   },
   "outputs": [
    {
     "data": {
      "image/png": "[encoded data removed]",
      "text/plain": [
       "<Figure size 1080x360 with 1 Axes>"
      ]
     },
     "metadata": {
      "needs_background": "light"
     },
     "output_type": "display_data"
    }
   ],
   "source": [
    "# plot top relative avg. daily demands for green areas for residents (!)\n",
    "res_green_areas = green_areas[green_areas.Resident == 1]\n",
    "res_green_areas = res_green_areas.sort_values(by='avg_rel_demand', ascending=False)\n",
    "plt.figure(figsize=(15,5))\n",
    "sns.barplot(x='Green_Zone_name', \n",
    "            y='avg_rel_demand', \n",
    "            data=res_green_areas.head(30),\n",
    "            ci=None)\n",
    "plt.xticks(rotation=90)\n",
    "plt.title('Avg. Relative Demand for Green Spaces Top 30')\n",
    "plt.grid()\n",
    "plt.show()"
   ]
  },
  {
   "cell_type": "code",
   "execution_count": 13,
   "metadata": {
    "ExecuteTime": {
     "end_time": "2021-05-24T08:13:55.644090Z",
     "start_time": "2021-05-24T08:13:55.640341Z"
    },
    "id": "KcLiCfr2BatO"
   },
   "outputs": [
    {
     "data": {
      "image/png": "[encoded data removed]",
      "text/plain": [
       "<Figure size 1152x648 with 1 Axes>"
      ]
     },
     "metadata": {
      "needs_background": "light"
     },
     "output_type": "display_data"
    }
   ],
   "source": [
    "# make geo df and plot\n",
    "geo_green = gpd.GeoDataFrame(green_areas, geometry=gpd.points_from_xy(green_areas.POINT_X, green_areas.POINT_Y))\n",
    "geo_green.crs = \"EPSG:3857\"\n",
    "geo_green = geo_green.to_crs(epsg=3857)\n",
    "fig = plt.figure(figsize=(16,9))\n",
    "ax = plt.subplot()\n",
    "geo_green.plot(color='r', alpha=.3, ax=ax)\n",
    "ctx.add_basemap(ax = ax, source=ctx.providers.Stamen.Toner, zoom=13)"
   ]
  },
  {
   "cell_type": "code",
   "execution_count": 9,
   "metadata": {
    "ExecuteTime": {
     "end_time": "2021-05-24T08:13:55.826006Z",
     "start_time": "2021-05-24T08:13:55.648091Z"
    },
    "colab": {
     "base_uri": "https://localhost:8080/",
     "height": 815,
     "referenced_widgets": [
      "b93805d95a304c09b462e27c71ab4671"
     ]
    },
    "id": "YpA2LIWmBav3",
    "outputId": "93950edc-b5b9-47bb-cf0f-5a97ab59e70d"
   },
   "outputs": [
    {
     "ename": "NameError",
     "evalue": "name 'res_green_areas' is not defined",
     "output_type": "error",
     "traceback": [
      "\u001b[0;31m---------------------------------------------------------------------------\u001b[0m",
      "\u001b[0;31mNameError\u001b[0m                                 Traceback (most recent call last)",
      "\u001b[0;32m<ipython-input-9-28bd52e50ab5>\u001b[0m in \u001b[0;36m<module>\u001b[0;34m\u001b[0m\n\u001b[1;32m     30\u001b[0m     \u001b[0;32mreturn\u001b[0m \u001b[0mdisplay\u001b[0m\u001b[0;34m(\u001b[0m\u001b[0membed\u001b[0m\u001b[0;34m)\u001b[0m\u001b[0;34m\u001b[0m\u001b[0;34m\u001b[0m\u001b[0m\n\u001b[1;32m     31\u001b[0m \u001b[0;34m\u001b[0m\u001b[0m\n\u001b[0;32m---> 32\u001b[0;31m \u001b[0mmapa\u001b[0m\u001b[0;34m(\u001b[0m\u001b[0;34m)\u001b[0m\u001b[0;34m\u001b[0m\u001b[0;34m\u001b[0m\u001b[0m\n\u001b[0m\u001b[1;32m     33\u001b[0m \u001b[0;34m\u001b[0m\u001b[0m\n\u001b[1;32m     34\u001b[0m \u001b[0;31m# interact(mapa, la=IntSlider(min=5, max=21, step=1, value=8))\u001b[0m\u001b[0;34m\u001b[0m\u001b[0;34m\u001b[0m\u001b[0;34m\u001b[0m\u001b[0m\n",
      "\u001b[0;32m<ipython-input-9-28bd52e50ab5>\u001b[0m in \u001b[0;36mmapa\u001b[0;34m(la)\u001b[0m\n\u001b[1;32m      5\u001b[0m     \u001b[0;31m# marker_cluster = MarkerCluster(name='greenspaces')\u001b[0m\u001b[0;34m\u001b[0m\u001b[0;34m\u001b[0m\u001b[0;34m\u001b[0m\u001b[0m\n\u001b[1;32m      6\u001b[0m \u001b[0;34m\u001b[0m\u001b[0m\n\u001b[0;32m----> 7\u001b[0;31m     \u001b[0;32mfor\u001b[0m \u001b[0mc\u001b[0m\u001b[0;34m,\u001b[0m \u001b[0mrow\u001b[0m \u001b[0;32min\u001b[0m \u001b[0mres_green_areas\u001b[0m\u001b[0;34m.\u001b[0m\u001b[0miterrows\u001b[0m\u001b[0;34m(\u001b[0m\u001b[0;34m)\u001b[0m\u001b[0;34m:\u001b[0m\u001b[0;34m\u001b[0m\u001b[0;34m\u001b[0m\u001b[0m\n\u001b[0m\u001b[1;32m      8\u001b[0m         \u001b[0mx\u001b[0m \u001b[0;34m=\u001b[0m \u001b[0mrow\u001b[0m\u001b[0;34m.\u001b[0m\u001b[0mPOINT_X\u001b[0m\u001b[0;34m\u001b[0m\u001b[0;34m\u001b[0m\u001b[0m\n\u001b[1;32m      9\u001b[0m         \u001b[0my\u001b[0m \u001b[0;34m=\u001b[0m \u001b[0mrow\u001b[0m\u001b[0;34m.\u001b[0m\u001b[0mPOINT_Y\u001b[0m\u001b[0;34m\u001b[0m\u001b[0;34m\u001b[0m\u001b[0m\n",
      "\u001b[0;31mNameError\u001b[0m: name 'res_green_areas' is not defined"
     ]
    }
   ],
   "source": [
    "from ipywidgets import interact, interactive, fixed, interact_manual, IntSlider\n",
    "def mapa(la=True):\n",
    "    m = folium.Map([40.16001, -8.68415], zoom_start=7)\n",
    "\n",
    "    # marker_cluster = MarkerCluster(name='greenspaces')\n",
    "\n",
    "    for c, row in res_green_areas.iterrows():\n",
    "        x = row.POINT_X\n",
    "        y = row.POINT_Y\n",
    "        tooltip = row.Green_Zone_name\n",
    "        radius = row.avg_rel_demand*300\n",
    "        folium.CircleMarker((y,x), \n",
    "                      tooltip=tooltip,\n",
    "                      popup=tooltip,\n",
    "                      radius=radius, \n",
    "                      fill=True,\n",
    "                      weight=0,\n",
    "                      fill_opacity=.4,\n",
    "                      fill_color='#FF0000'\n",
    "                      ).add_to(m)\n",
    "\n",
    "    # marker_cluster.add_to(m)\n",
    "    html = m._repr_html_()\n",
    "    width, height = (400,500) # width and height of the displayed iFrame, in pixels\n",
    "    srcdoc = html.replace('\"', '&quot;')\n",
    "    embed = HTML(f'<iframe srcdoc=\"{srcdoc}\" '\n",
    "                 f'style=\"width: {width}px; height: {height}px; display:block; width: 100%; margin: 0 auto; '\n",
    "                 f'border: none\"></iframe>')\n",
    "\n",
    "    return display(embed)\n",
    "\n",
    "mapa()\n",
    "\n",
    "# interact(mapa, la=IntSlider(min=5, max=21, step=1, value=8))"
   ]
  },
  {
   "cell_type": "markdown",
   "metadata": {
    "id": "8lX9RRmpPjmu"
   },
   "source": [
    "**Interpretation**<br>\n",
    "It is visible that the most visited parks are very close to commercial centers and supermarkets. \n",
    "- JRD. CP. VINTE E QUATRO DE AGOSTO\n",
    "- JARDIM DO CAMPO PEQUENO"
   ]
  },
  {
   "cell_type": "markdown",
   "metadata": {},
   "source": [
    "# Merge Parishes"
   ]
  },
  {
   "cell_type": "code",
   "execution_count": null,
   "metadata": {
    "ExecuteTime": {
     "end_time": "2021-05-24T08:13:56.272022Z",
     "start_time": "2021-05-24T08:13:55.829778Z"
    }
   },
   "outputs": [],
   "source": [
    "# get parish code poly\n",
    "url = 'http://mapas.dgterritorio.pt/ATOM-download/CAOP-Cont/Cont_AAD_CAOP2020.zip'\n",
    "path = 'map_data/Cont_AAD_CAOP2020'\n",
    "parishes = gpd.read_file(path)\n",
    "parishes.shape"
   ]
  },
  {
   "cell_type": "code",
   "execution_count": null,
   "metadata": {
    "ExecuteTime": {
     "end_time": "2021-05-24T08:13:56.275508Z",
     "start_time": "2021-05-24T08:13:17.636Z"
    }
   },
   "outputs": [],
   "source": [
    "# turn green areas into geo df\n",
    "res_green_areas['latlng'] = res_green_areas.apply(lambda x: (x.POINT_Y, x.POINT_X), axis=1)\n",
    "res_green_areas['geometry'] = res_green_areas.apply(lambda x: Point(x.POINT_X, x.POINT_Y), axis=1)\n",
    "geo_green_areas = gpd.GeoDataFrame(res_green_areas.drop(columns=['POINT_X', 'POINT_Y']))\n",
    "# set crs EPSG=4326 (WGS84 latitude-longitude projection)\n",
    "geo_green_areas = geo_green_areas.set_crs(\"EPSG:4326\")\n",
    "# transform the parishes to the same projection\n",
    "parishes_proj = parishes.copy()[['Dicofre', 'geometry']]\n",
    "parishes_proj = parishes_proj.to_crs(\"EPSG:4326\")\n",
    "\n",
    "# perform the join\n",
    "green_areas_dic = gpd.sjoin(geo_green_areas, \n",
    "                  parishes_proj, \n",
    "                  how='left', \n",
    "                  op='within',\n",
    "                 ).drop(columns=['index_right'])"
   ]
  },
  {
   "cell_type": "code",
   "execution_count": null,
   "metadata": {
    "ExecuteTime": {
     "end_time": "2021-05-24T08:13:56.277210Z",
     "start_time": "2021-05-24T08:13:17.639Z"
    }
   },
   "outputs": [],
   "source": [
    "ax = parishes_proj.plot(figsize=(5,8))\n",
    "green_areas_dic.plot(ax=ax, c='r')"
   ]
  },
  {
   "cell_type": "code",
   "execution_count": null,
   "metadata": {
    "ExecuteTime": {
     "end_time": "2021-05-24T08:13:56.281266Z",
     "start_time": "2021-05-24T08:13:17.642Z"
    }
   },
   "outputs": [],
   "source": [
    "# green_areas_dic"
   ]
  },
  {
   "cell_type": "markdown",
   "metadata": {
    "id": "PJhmBbfqMRdd"
   },
   "source": [
    "# OSM features"
   ]
  },
  {
   "cell_type": "markdown",
   "metadata": {},
   "source": [
    "## Find polygons of parks"
   ]
  },
  {
   "cell_type": "code",
   "execution_count": null,
   "metadata": {
    "ExecuteTime": {
     "end_time": "2021-05-24T08:13:56.283105Z",
     "start_time": "2021-05-24T08:13:17.646Z"
    }
   },
   "outputs": [],
   "source": [
    "# make latlng readable for OSM request\n",
    "\n",
    "def get_parks(df):\n",
    "    suggestions = pd.DataFrame()\n",
    "    tags = {'leisure':True}\n",
    "    for c, row in df.iterrows():\n",
    "        center_point = row.latlng\n",
    "        park = ox.geometries.geometries_from_point(center_point, \n",
    "                                                           tags=tags, \n",
    "                                                           dist=50)\n",
    "        park['match'] = c # relate the findings to the dfs index (id)\n",
    "        suggestions = pd.concat([suggestions, park])\n",
    "        \n",
    "    return suggestions\n",
    "\n",
    "parks = get_parks(green_areas_dic)\n",
    "# group the findings by the first finding\n",
    "by_match = parks.groupby('match').first() # the first one seems to be the park\n",
    "by_match.head(4)"
   ]
  },
  {
   "cell_type": "code",
   "execution_count": null,
   "metadata": {
    "ExecuteTime": {
     "end_time": "2021-05-24T08:13:56.284773Z",
     "start_time": "2021-05-24T08:13:17.652Z"
    }
   },
   "outputs": [],
   "source": [
    "# Moving the old Points to another column\n",
    "green_areas_dic['Points'] = green_areas_dic.geometry\n",
    "green_areas_dic = green_areas_dic.drop(columns=['geometry'])"
   ]
  },
  {
   "cell_type": "code",
   "execution_count": null,
   "metadata": {
    "ExecuteTime": {
     "end_time": "2021-05-24T08:13:56.286796Z",
     "start_time": "2021-05-24T08:13:17.655Z"
    }
   },
   "outputs": [],
   "source": [
    "# merge the df with the matched 'parks' from the OSM request\n",
    "green_areas_dic = green_areas_dic.copy().merge(by_match['geometry'], \n",
    "                                        how='left', \n",
    "                                        left_index=True, # the indexes were still the same\n",
    "                                        right_index=True).sort_index()\n"
   ]
  },
  {
   "cell_type": "code",
   "execution_count": null,
   "metadata": {
    "ExecuteTime": {
     "end_time": "2021-05-24T08:13:56.288067Z",
     "start_time": "2021-05-24T08:13:17.658Z"
    }
   },
   "outputs": [],
   "source": [
    "# green_areas_dic"
   ]
  },
  {
   "cell_type": "code",
   "execution_count": null,
   "metadata": {
    "ExecuteTime": {
     "end_time": "2021-05-24T08:13:56.290614Z",
     "start_time": "2021-05-24T08:13:17.663Z"
    }
   },
   "outputs": [],
   "source": [
    "# replace not found polys with buffered points\n",
    "green_areas_dic['geometry'] = green_areas_dic.apply(lambda x: x.Points.buffer(.0007) if x.geometry == None else x.geometry, axis=1)\n"
   ]
  },
  {
   "cell_type": "code",
   "execution_count": null,
   "metadata": {
    "ExecuteTime": {
     "end_time": "2021-05-24T08:13:56.294330Z",
     "start_time": "2021-05-24T08:13:17.669Z"
    }
   },
   "outputs": [],
   "source": [
    "green_areas_dic"
   ]
  },
  {
   "cell_type": "markdown",
   "metadata": {},
   "source": [
    "# Map"
   ]
  },
  {
   "cell_type": "code",
   "execution_count": null,
   "metadata": {
    "ExecuteTime": {
     "end_time": "2021-05-24T08:13:56.297161Z",
     "start_time": "2021-05-24T08:13:17.675Z"
    },
    "scrolled": false
   },
   "outputs": [],
   "source": [
    "# downsize parishes to relevant districts\n",
    "lp_parish = parishes[(parishes.Distrito == 'Lisboa') | (parishes.Distrito == 'Porto')]\n",
    "\n",
    "m = folium.Map([38.71, -9.2], zoom_start=9)\n",
    "\n",
    "parks_lay = FeatureGroup(name='Parks')\n",
    "\n",
    "for c, row in green_areas_dic.iterrows():\n",
    "    try:  # folium has issues with some Points\n",
    "        if row.geometry.type == 'Point':\n",
    "            folium.Choropleth(row.geometry.buffer(.0007)).add_to(parks_lay)\n",
    "        else:\n",
    "            folium.Choropleth(row.geometry).add_to(parks_lay)\n",
    "    except:\n",
    "        pass\n",
    "\n",
    "parks_lay.add_to(m)\n",
    "    \n",
    "parishes_map = folium.Choropleth(lp_parish, \n",
    "#                              fill_color='g',\n",
    "                             fill_opacity=0,\n",
    "                             name='parishes').add_to(m)\n",
    "\n",
    "LayerControl().add_to(m)\n",
    "\n",
    "m"
   ]
  },
  {
   "cell_type": "code",
   "execution_count": null,
   "metadata": {
    "ExecuteTime": {
     "end_time": "2021-05-24T08:13:56.300955Z",
     "start_time": "2021-05-24T08:13:17.678Z"
    }
   },
   "outputs": [],
   "source": [
    "green_areas_dic.drop(columns=['Points', 'latlng']).to_file(\"map_data/parks_parishes.geojson\", driver='GeoJSON')"
   ]
  },
  {
   "cell_type": "code",
   "execution_count": null,
   "metadata": {},
   "outputs": [],
   "source": []
  },
  {
   "cell_type": "markdown",
   "metadata": {},
   "source": [
    "# Add socio data"
   ]
  },
  {
   "cell_type": "code",
   "execution_count": null,
   "metadata": {
    "ExecuteTime": {
     "end_time": "2021-05-24T08:13:56.306168Z",
     "start_time": "2021-05-24T08:13:17.682Z"
    }
   },
   "outputs": [],
   "source": [
    "# load crime data\n",
    "crimes = pd.read_csv('data/criminal_stats.csv', sep=';', index_col=0)\n",
    "crimes['id'] = crimes.index.map(lambda x: x.split(':')[0])\n",
    "crimes.index = crimes.index.map(lambda x: x.split(':')[1])"
   ]
  },
  {
   "cell_type": "code",
   "execution_count": null,
   "metadata": {
    "ExecuteTime": {
     "end_time": "2021-05-24T08:13:56.308472Z",
     "start_time": "2021-05-24T08:13:17.685Z"
    }
   },
   "outputs": [],
   "source": [
    "crimes"
   ]
  },
  {
   "cell_type": "code",
   "execution_count": null,
   "metadata": {
    "ExecuteTime": {
     "end_time": "2021-05-24T08:13:56.311466Z",
     "start_time": "2021-05-24T08:13:17.689Z"
    }
   },
   "outputs": [],
   "source": [
    "parishes"
   ]
  },
  {
   "cell_type": "markdown",
   "metadata": {},
   "source": [
    "# Find amenities (handed to sisto)"
   ]
  },
  {
   "cell_type": "code",
   "execution_count": null,
   "metadata": {
    "ExecuteTime": {
     "end_time": "2021-05-24T08:13:56.313262Z",
     "start_time": "2021-05-24T08:13:17.692Z"
    },
    "id": "XVnl0zhUswE7"
   },
   "outputs": [],
   "source": [
    "def get_amenities(df):\n",
    "    # create dataframes for each request (outside/inside)\n",
    "    insides_init = pd.DataFrame\n",
    "    outsides_init = pd.DataFrame\n",
    "    tags = {'amenity': True,\n",
    "            'leisure': True,\n",
    "            'tourism': True\n",
    "           }\n",
    "    for c, row in df.head().iterrows(): # first .head(), later all\n",
    "        # check for outside of park amenities\n",
    "        # https://osmnx.readthedocs.io/en/stable/osmnx.html#osmnx.geometries.geometries_from_place\n",
    "        poly = {c:row.geometry.exterior.coords.xy}\n",
    "        outsides = ox.geometries.geometries_from_place(query=poly, # format is wrong?!\n",
    "                                                       tags=tags, \n",
    "                                                       buffer_dist=100)\n",
    "        \n",
    "        # assign key (index of green zone) for later merging\n",
    "        outsides['match'] = c\n",
    "        outsides_init = pd.concat([outsides_init, outsides])\n",
    "        \n",
    "        # check for inside park amenities\n",
    "        insides = osmnx.geometries.geometries_from_polygon(poly, # format is wrong?!\n",
    "                                                           tags=tags)\n",
    "        insides['match'] = c\n",
    "        insides_init = pd.concat([insides_init, insides])\n",
    "        \n",
    "    return outsides, insides\n",
    "        "
   ]
  },
  {
   "cell_type": "code",
   "execution_count": null,
   "metadata": {
    "ExecuteTime": {
     "end_time": "2021-05-24T08:13:56.314710Z",
     "start_time": "2021-05-24T08:13:17.695Z"
    },
    "id": "QIHnN34aswHd"
   },
   "outputs": [],
   "source": [
    "outsides, insides = get_amenities(geo_res_green_areas)"
   ]
  },
  {
   "cell_type": "code",
   "execution_count": null,
   "metadata": {},
   "outputs": [],
   "source": []
  },
  {
   "cell_type": "code",
   "execution_count": null,
   "metadata": {
    "ExecuteTime": {
     "end_time": "2021-05-24T08:13:56.316182Z",
     "start_time": "2021-05-24T08:13:17.702Z"
    },
    "id": "CqPygS_T8yg8"
   },
   "outputs": [],
   "source": [
    "# focus on residents (the data suggests that we should look there)\n",
    "## non residential factors could be blowing the scope (touristic influences)\n",
    "\n",
    "'''\n",
    "- bus stops\n",
    "- cafes/restaurants\n",
    "- supermarkets/shops\n",
    "- amount of park benches\n",
    "- trash bins\n",
    "- big streets\n",
    "- dog areas\n",
    "- dog ownership in the sorrounding\n",
    "- skate park / sport activities\n",
    "- amount of trees\n",
    "'''"
   ]
  },
  {
   "cell_type": "markdown",
   "metadata": {
    "id": "fldYubBBUaJY"
   },
   "source": [
    "- Split data set for old and young ppl\n",
    "  - not all old ppl want skate parks\n",
    "  "
   ]
  },
  {
   "cell_type": "code",
   "execution_count": null,
   "metadata": {
    "id": "I5WJgw0JJir5"
   },
   "outputs": [],
   "source": []
  }
 ],
 "metadata": {
  "colab": {
   "collapsed_sections": [],
   "include_colab_link": true,
   "name": "mg_green_vis.ipynb",
   "provenance": []
  },
  "kernelspec": {
   "display_name": "Python 3",
   "language": "python",
   "name": "python3"
  },
  "language_info": {
   "codemirror_mode": {
    "name": "ipython",
    "version": 3
   },
   "file_extension": ".py",
   "mimetype": "text/x-python",
   "name": "python",
   "nbconvert_exporter": "python",
   "pygments_lexer": "ipython3",
   "version": "3.8.6"
  },
  "toc": {
   "base_numbering": 1,
   "nav_menu": {},
   "number_sections": true,
   "sideBar": true,
   "skip_h1_title": false,
   "title_cell": "Table of Contents",
   "title_sidebar": "Contents",
   "toc_cell": false,
   "toc_position": {},
   "toc_section_display": true,
   "toc_window_display": false
  }
 },
 "nbformat": 4,
 "nbformat_minor": 1
}
