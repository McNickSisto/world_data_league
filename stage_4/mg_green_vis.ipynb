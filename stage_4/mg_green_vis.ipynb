{
  "nbformat": 4,
  "nbformat_minor": 0,
  "metadata": {
    "colab": {
      "name": "mg_green_vis.ipynb",
      "provenance": [],
      "collapsed_sections": [],
      "include_colab_link": true
    },
    "kernelspec": {
      "display_name": "Python 3",
      "language": "python",
      "name": "python3"
    },
    "language_info": {
      "codemirror_mode": {
        "name": "ipython",
        "version": 3
      },
      "file_extension": ".py",
      "mimetype": "text/x-python",
      "name": "python",
      "nbconvert_exporter": "python",
      "pygments_lexer": "ipython3",
      "version": "3.8.6"
    },
    "toc": {
      "base_numbering": 1,
      "nav_menu": {},
      "number_sections": true,
      "sideBar": true,
      "skip_h1_title": false,
      "title_cell": "Table of Contents",
      "title_sidebar": "Contents",
      "toc_cell": false,
      "toc_position": {},
      "toc_section_display": true,
      "toc_window_display": false
    }
  },
  "cells": [
    {
      "cell_type": "markdown",
      "metadata": {
        "id": "view-in-github",
        "colab_type": "text"
      },
      "source": [
        "<a href=\"https://colab.research.google.com/github/McNickSisto/world_data_league/blob/activities/stage_4/mg_green_vis.ipynb\" target=\"_parent\"><img src=\"https://colab.research.google.com/assets/colab-badge.svg\" alt=\"Open In Colab\"/></a>"
      ]
    },
    {
      "cell_type": "markdown",
      "metadata": {
        "id": "mS4o9zUb5g_K"
      },
      "source": [
        "# Intro"
      ]
    },
    {
      "cell_type": "markdown",
      "metadata": {
        "id": "sRtejeGf5XKz"
      },
      "source": [
        "## Challenge Goals: \n",
        "Attracting people to green spaces in metropolitan areas is one of the most recent challenges for big cities. Encouraging people to spend more time in green spaces is one of the priority goals of municipal governments. It is fundamental to understand how various dimensions are linked to the search for green space in large Metropolitan Areas, such as in the metropolitan area of Porto and Lisbon. How can socio-demographic dimensions, tourist attraction, and people’s mobility level non-resident in the influence area of the green spaces explain the demand for these spaces?\n",
        "\n",
        "## Outcome The challenge is composed of two outcomes:\n",
        "\n",
        "Create a model that predicts the daily average demand of a green space and which factors contribute the most to the prediction—example of these factors: socio-demographic, touristic attraction points, mobility and others.\n",
        "\n",
        "Based on the previous outcome, suggest action points that can be taken by the city hall to increase the usage of the green spaces in the city.\n",
        "\n",
        "## Some info on the Data\n",
        "Hello! The data refers to pre-pandemic period and the metrics represent daily average values. I think the size/area of each green space could be found after some research on the Web \n",
        "\n"
      ]
    },
    {
      "cell_type": "markdown",
      "metadata": {
        "id": "-TLr0NB05RUZ"
      },
      "source": [
        "# Imports"
      ]
    },
    {
      "cell_type": "code",
      "metadata": {
        "ExecuteTime": {
          "end_time": "2021-05-18T12:07:59.768776Z",
          "start_time": "2021-05-18T12:07:57.052482Z"
        },
        "colab": {
          "base_uri": "https://localhost:8080/",
          "height": 1000
        },
        "id": "hnW-pEpj7Gwb",
        "outputId": "ee93dec0-82b2-4c8a-ed1e-d73017ff4786"
      },
      "source": [
        "! pip install geopandas --quiet\n",
        "! pip install contextily --quiet\n",
        "# ! pip install osmnx --quiet\n",
        "# ! pip install osmium --quiet\n",
        "! pip install osm-runner"
      ],
      "execution_count": 16,
      "outputs": [
        {
          "output_type": "stream",
          "text": [
            "Collecting osm-runner\n",
            "  Downloading https://files.pythonhosted.org/packages/50/0a/d71628b2039717d1102f09f0318cf100a1d1f3e22cacc244edf80db7f522/osm_runner-0.0.3-py3-none-any.whl\n",
            "Requirement already satisfied: requests in /usr/local/lib/python3.7/dist-packages (from osm-runner) (2.25.1)\n",
            "Requirement already satisfied: pandas in /usr/local/lib/python3.7/dist-packages (from osm-runner) (1.1.5)\n",
            "Collecting arcgis\n",
            "\u001b[?25l  Downloading https://files.pythonhosted.org/packages/a3/42/f612a2b678893e018ac521d9e131ae589230c9209d5b50dd19496f921a18/arcgis-1.8.5.post3.tar.gz (3.2MB)\n",
            "\u001b[K     |████████████████████████████████| 3.2MB 29.3MB/s \n",
            "\u001b[?25hRequirement already satisfied: urllib3<1.27,>=1.21.1 in /usr/local/lib/python3.7/dist-packages (from requests->osm-runner) (1.24.3)\n",
            "Requirement already satisfied: chardet<5,>=3.0.2 in /usr/local/lib/python3.7/dist-packages (from requests->osm-runner) (3.0.4)\n",
            "Requirement already satisfied: certifi>=2017.4.17 in /usr/local/lib/python3.7/dist-packages (from requests->osm-runner) (2020.12.5)\n",
            "Requirement already satisfied: idna<3,>=2.5 in /usr/local/lib/python3.7/dist-packages (from requests->osm-runner) (2.10)\n",
            "Requirement already satisfied: pytz>=2017.2 in /usr/local/lib/python3.7/dist-packages (from pandas->osm-runner) (2018.9)\n",
            "Requirement already satisfied: python-dateutil>=2.7.3 in /usr/local/lib/python3.7/dist-packages (from pandas->osm-runner) (2.8.1)\n",
            "Requirement already satisfied: numpy>=1.15.4 in /usr/local/lib/python3.7/dist-packages (from pandas->osm-runner) (1.19.5)\n",
            "Requirement already satisfied: six in /usr/local/lib/python3.7/dist-packages (from arcgis->osm-runner) (1.15.0)\n",
            "Requirement already satisfied: ipywidgets>=7 in /usr/local/lib/python3.7/dist-packages (from arcgis->osm-runner) (7.6.3)\n",
            "Requirement already satisfied: widgetsnbextension>=3 in /usr/local/lib/python3.7/dist-packages (from arcgis->osm-runner) (3.5.1)\n",
            "Requirement already satisfied: matplotlib in /usr/local/lib/python3.7/dist-packages (from arcgis->osm-runner) (3.4.2)\n",
            "Collecting keyring>=19\n",
            "  Using cached https://files.pythonhosted.org/packages/26/f9/41230ac47f738f1ba66676dc8d3b30ca5b1f9eb0230fc204bcd9836c4ae9/keyring-23.0.1-py3-none-any.whl\n",
            "Collecting lerc\n",
            "  Using cached https://files.pythonhosted.org/packages/f2/20/73c8fa29a4ba8f8cbdb037369e6b61ac9253664a8aa0912b52169192447f/lerc-0.1.0.tar.gz\n",
            "Collecting ujson>=3\n",
            "  Using cached https://files.pythonhosted.org/packages/17/4e/50e8e4cf5f00b537095711c2c86ac4d7191aed2b4fffd5a19f06898f6929/ujson-4.0.2-cp37-cp37m-manylinux1_x86_64.whl\n",
            "Collecting jupyterlab\n",
            "  Using cached https://files.pythonhosted.org/packages/72/e7/20a304e3b2137387f131d0f10031554700aec8206d633e3fb1b231d72843/jupyterlab-3.0.15-py3-none-any.whl\n",
            "Collecting python-certifi-win32\n",
            "  Using cached https://files.pythonhosted.org/packages/c1/43/916ef701ae481e04ed87af26fd54fa3906d44239f32d7f43be2fcbf54896/python_certifi_win32-1.6-py2.py3-none-any.whl\n",
            "Collecting pyshp>=2\n",
            "  Using cached https://files.pythonhosted.org/packages/38/85/fbf87e7aa55103e0d06af756bdbc15cf821fa580414c23142d60a35d4f85/pyshp-2.1.3.tar.gz\n",
            "Requirement already satisfied: requests-oauthlib in /usr/local/lib/python3.7/dist-packages (from arcgis->osm-runner) (1.3.0)\n",
            "Collecting requests_toolbelt\n",
            "  Using cached https://files.pythonhosted.org/packages/60/ef/7681134338fc097acef8d9b2f8abe0458e4d87559c689a8c306d0957ece5/requests_toolbelt-0.9.1-py2.py3-none-any.whl\n",
            "Collecting requests_ntlm\n",
            "  Using cached https://files.pythonhosted.org/packages/03/4b/8b9a1afde8072c4d5710d9fa91433d504325821b038e00237dc8d6d833dc/requests_ntlm-1.1.0-py2.py3-none-any.whl\n",
            "Requirement already satisfied: ipython>=4.0.0; python_version >= \"3.3\" in /usr/local/lib/python3.7/dist-packages (from ipywidgets>=7->arcgis->osm-runner) (5.5.0)\n",
            "Requirement already satisfied: jupyterlab-widgets>=1.0.0; python_version >= \"3.6\" in /usr/local/lib/python3.7/dist-packages (from ipywidgets>=7->arcgis->osm-runner) (1.0.0)\n",
            "Requirement already satisfied: nbformat>=4.2.0 in /usr/local/lib/python3.7/dist-packages (from ipywidgets>=7->arcgis->osm-runner) (5.1.3)\n",
            "Requirement already satisfied: traitlets>=4.3.1 in /usr/local/lib/python3.7/dist-packages (from ipywidgets>=7->arcgis->osm-runner) (5.0.5)\n",
            "Requirement already satisfied: ipykernel>=4.5.1 in /usr/local/lib/python3.7/dist-packages (from ipywidgets>=7->arcgis->osm-runner) (4.10.1)\n",
            "Requirement already satisfied: notebook>=4.4.1 in /usr/local/lib/python3.7/dist-packages (from widgetsnbextension>=3->arcgis->osm-runner) (5.3.1)\n",
            "Requirement already satisfied: cycler>=0.10 in /usr/local/lib/python3.7/dist-packages (from matplotlib->arcgis->osm-runner) (0.10.0)\n",
            "Requirement already satisfied: pyparsing>=2.2.1 in /usr/local/lib/python3.7/dist-packages (from matplotlib->arcgis->osm-runner) (2.4.7)\n",
            "Requirement already satisfied: kiwisolver>=1.0.1 in /usr/local/lib/python3.7/dist-packages (from matplotlib->arcgis->osm-runner) (1.3.1)\n",
            "Requirement already satisfied: pillow>=6.2.0 in /usr/local/lib/python3.7/dist-packages (from matplotlib->arcgis->osm-runner) (7.1.2)\n",
            "Collecting SecretStorage>=3.2; sys_platform == \"linux\"\n",
            "  Using cached https://files.pythonhosted.org/packages/d9/1e/29cd69fdac7391aa51510dfd42aa70b4e6a826c8cd019ee2a8ab9ec0777f/SecretStorage-3.3.1-py3-none-any.whl\n",
            "Requirement already satisfied: importlib-metadata>=3.6 in /usr/local/lib/python3.7/dist-packages (from keyring>=19->arcgis->osm-runner) (4.0.1)\n",
            "Collecting jeepney>=0.4.2; sys_platform == \"linux\"\n",
            "  Using cached https://files.pythonhosted.org/packages/51/b0/a6ea72741aaac3f37fb96d195e4ee576a103c4c04e279bc6b446a70960e1/jeepney-0.6.0-py3-none-any.whl\n",
            "Requirement already satisfied: jinja2>=2.1 in /usr/local/lib/python3.7/dist-packages (from jupyterlab->arcgis->osm-runner) (2.11.3)\n",
            "Collecting jupyter-server~=1.4\n",
            "  Using cached https://files.pythonhosted.org/packages/97/ca/d6f503c2f594f43d0d467f7ec34337541eb847a03c1f605e1be6cc4196d9/jupyter_server-1.7.0-py3-none-any.whl\n",
            "Collecting tornado>=6.1.0\n",
            "  Using cached https://files.pythonhosted.org/packages/91/a8/9c5902233fa3c2e6a889cbd164333ddda5009669f494e3fadbeee2c03af5/tornado-6.1-cp37-cp37m-manylinux2010_x86_64.whl\n",
            "Requirement already satisfied: packaging in /usr/local/lib/python3.7/dist-packages (from jupyterlab->arcgis->osm-runner) (20.9)\n",
            "Collecting nbclassic~=0.2\n",
            "  Using cached https://files.pythonhosted.org/packages/c7/ec/a56d6775abaab99c224a977dc907ff458986edaad8116ab75b6081867131/nbclassic-0.2.8-py3-none-any.whl\n",
            "Collecting jupyterlab-server~=2.3\n",
            "  Using cached https://files.pythonhosted.org/packages/21/b4/6fe756fdf5e9883fee458ebe88fd1a3534584e5cee40df4adb97418f29ea/jupyterlab_server-2.5.2-py3-none-any.whl\n",
            "Requirement already satisfied: jupyter-core in /usr/local/lib/python3.7/dist-packages (from jupyterlab->arcgis->osm-runner) (4.7.1)\n",
            "Collecting setuptools-scm\n",
            "  Using cached https://files.pythonhosted.org/packages/c4/d5/e50358c82026f44cd8810c8165002746cd3f8b78865f6bcf5d7f0fe4f652/setuptools_scm-6.0.1-py3-none-any.whl\n",
            "Requirement already satisfied: wrapt>=1.10.4 in /usr/local/lib/python3.7/dist-packages (from python-certifi-win32->arcgis->osm-runner) (1.12.1)\n",
            "Requirement already satisfied: oauthlib>=3.0.0 in /usr/local/lib/python3.7/dist-packages (from requests-oauthlib->arcgis->osm-runner) (3.1.0)\n",
            "Collecting ntlm-auth>=1.0.2\n",
            "  Using cached https://files.pythonhosted.org/packages/ff/84/97c550164b54942b0e908c31ef09d9469f3ba4cd7332a671e2125732f63b/ntlm_auth-1.5.0-py2.py3-none-any.whl\n",
            "Collecting cryptography>=1.3\n",
            "  Using cached https://files.pythonhosted.org/packages/b2/26/7af637e6a7e87258b963f1731c5982fb31cd507f0d90d91836e446955d02/cryptography-3.4.7-cp36-abi3-manylinux2014_x86_64.whl\n",
            "Requirement already satisfied: pickleshare in /usr/local/lib/python3.7/dist-packages (from ipython>=4.0.0; python_version >= \"3.3\"->ipywidgets>=7->arcgis->osm-runner) (0.7.5)\n",
            "Requirement already satisfied: setuptools>=18.5 in /usr/local/lib/python3.7/dist-packages (from ipython>=4.0.0; python_version >= \"3.3\"->ipywidgets>=7->arcgis->osm-runner) (56.1.0)\n",
            "Requirement already satisfied: decorator in /usr/local/lib/python3.7/dist-packages (from ipython>=4.0.0; python_version >= \"3.3\"->ipywidgets>=7->arcgis->osm-runner) (4.4.2)\n",
            "Requirement already satisfied: pygments in /usr/local/lib/python3.7/dist-packages (from ipython>=4.0.0; python_version >= \"3.3\"->ipywidgets>=7->arcgis->osm-runner) (2.6.1)\n",
            "Requirement already satisfied: prompt-toolkit<2.0.0,>=1.0.4 in /usr/local/lib/python3.7/dist-packages (from ipython>=4.0.0; python_version >= \"3.3\"->ipywidgets>=7->arcgis->osm-runner) (1.0.18)\n",
            "Requirement already satisfied: pexpect; sys_platform != \"win32\" in /usr/local/lib/python3.7/dist-packages (from ipython>=4.0.0; python_version >= \"3.3\"->ipywidgets>=7->arcgis->osm-runner) (4.8.0)\n",
            "Requirement already satisfied: simplegeneric>0.8 in /usr/local/lib/python3.7/dist-packages (from ipython>=4.0.0; python_version >= \"3.3\"->ipywidgets>=7->arcgis->osm-runner) (0.8.1)\n",
            "Requirement already satisfied: ipython-genutils in /usr/local/lib/python3.7/dist-packages (from nbformat>=4.2.0->ipywidgets>=7->arcgis->osm-runner) (0.2.0)\n",
            "Requirement already satisfied: jsonschema!=2.5.0,>=2.4 in /usr/local/lib/python3.7/dist-packages (from nbformat>=4.2.0->ipywidgets>=7->arcgis->osm-runner) (2.6.0)\n",
            "Requirement already satisfied: jupyter-client in /usr/local/lib/python3.7/dist-packages (from ipykernel>=4.5.1->ipywidgets>=7->arcgis->osm-runner) (5.3.5)\n",
            "Requirement already satisfied: Send2Trash in /usr/local/lib/python3.7/dist-packages (from notebook>=4.4.1->widgetsnbextension>=3->arcgis->osm-runner) (1.5.0)\n",
            "Requirement already satisfied: nbconvert in /usr/local/lib/python3.7/dist-packages (from notebook>=4.4.1->widgetsnbextension>=3->arcgis->osm-runner) (5.6.1)\n",
            "Requirement already satisfied: terminado>=0.8.1 in /usr/local/lib/python3.7/dist-packages (from notebook>=4.4.1->widgetsnbextension>=3->arcgis->osm-runner) (0.9.5)\n",
            "Requirement already satisfied: typing-extensions>=3.6.4; python_version < \"3.8\" in /usr/local/lib/python3.7/dist-packages (from importlib-metadata>=3.6->keyring>=19->arcgis->osm-runner) (3.7.4.3)\n",
            "Requirement already satisfied: zipp>=0.5 in /usr/local/lib/python3.7/dist-packages (from importlib-metadata>=3.6->keyring>=19->arcgis->osm-runner) (3.4.1)\n",
            "Requirement already satisfied: MarkupSafe>=0.23 in /usr/local/lib/python3.7/dist-packages (from jinja2>=2.1->jupyterlab->arcgis->osm-runner) (2.0.0)\n",
            "Requirement already satisfied: prometheus-client in /usr/local/lib/python3.7/dist-packages (from jupyter-server~=1.4->jupyterlab->arcgis->osm-runner) (0.10.1)\n",
            "Requirement already satisfied: pyzmq>=17 in /usr/local/lib/python3.7/dist-packages (from jupyter-server~=1.4->jupyterlab->arcgis->osm-runner) (22.0.3)\n",
            "Requirement already satisfied: argon2-cffi in /usr/local/lib/python3.7/dist-packages (from jupyter-server~=1.4->jupyterlab->arcgis->osm-runner) (20.1.0)\n",
            "Collecting anyio<4,>=3.0.1; python_version >= \"3.7\"\n",
            "  Using cached https://files.pythonhosted.org/packages/23/75/8d31e0de8c87cb17aecde237def16383569737ae9e15d99ac54eafc61f78/anyio-3.0.1-py3-none-any.whl\n",
            "Collecting websocket-client\n",
            "  Using cached https://files.pythonhosted.org/packages/ba/d1/501076b54481412df1bc4cdd1fe479f66e17857c63ec5981bedcdc2ca793/websocket_client-1.0.0-py2.py3-none-any.whl\n",
            "Collecting json5\n",
            "  Using cached https://files.pythonhosted.org/packages/2b/81/22bf51a5bc60dde18bb6164fd597f18ee683de8670e141364d9c432dd3cf/json5-0.9.5-py2.py3-none-any.whl\n",
            "Requirement already satisfied: babel in /usr/local/lib/python3.7/dist-packages (from jupyterlab-server~=2.3->jupyterlab->arcgis->osm-runner) (2.9.1)\n",
            "Requirement already satisfied: cffi>=1.12 in /usr/local/lib/python3.7/dist-packages (from cryptography>=1.3->requests_ntlm->arcgis->osm-runner) (1.14.5)\n",
            "Requirement already satisfied: wcwidth in /usr/local/lib/python3.7/dist-packages (from prompt-toolkit<2.0.0,>=1.0.4->ipython>=4.0.0; python_version >= \"3.3\"->ipywidgets>=7->arcgis->osm-runner) (0.2.5)\n",
            "Requirement already satisfied: ptyprocess>=0.5 in /usr/local/lib/python3.7/dist-packages (from pexpect; sys_platform != \"win32\"->ipython>=4.0.0; python_version >= \"3.3\"->ipywidgets>=7->arcgis->osm-runner) (0.7.0)\n",
            "Requirement already satisfied: pandocfilters>=1.4.1 in /usr/local/lib/python3.7/dist-packages (from nbconvert->notebook>=4.4.1->widgetsnbextension>=3->arcgis->osm-runner) (1.4.3)\n",
            "Requirement already satisfied: defusedxml in /usr/local/lib/python3.7/dist-packages (from nbconvert->notebook>=4.4.1->widgetsnbextension>=3->arcgis->osm-runner) (0.7.1)\n",
            "Requirement already satisfied: entrypoints>=0.2.2 in /usr/local/lib/python3.7/dist-packages (from nbconvert->notebook>=4.4.1->widgetsnbextension>=3->arcgis->osm-runner) (0.3)\n",
            "Requirement already satisfied: testpath in /usr/local/lib/python3.7/dist-packages (from nbconvert->notebook>=4.4.1->widgetsnbextension>=3->arcgis->osm-runner) (0.4.4)\n",
            "Requirement already satisfied: mistune<2,>=0.8.1 in /usr/local/lib/python3.7/dist-packages (from nbconvert->notebook>=4.4.1->widgetsnbextension>=3->arcgis->osm-runner) (0.8.4)\n",
            "Requirement already satisfied: bleach in /usr/local/lib/python3.7/dist-packages (from nbconvert->notebook>=4.4.1->widgetsnbextension>=3->arcgis->osm-runner) (3.3.0)\n",
            "Collecting sniffio>=1.1\n",
            "  Using cached https://files.pythonhosted.org/packages/52/b0/7b2e028b63d092804b6794595871f936aafa5e9322dcaaad50ebf67445b3/sniffio-1.2.0-py3-none-any.whl\n",
            "Requirement already satisfied: pycparser in /usr/local/lib/python3.7/dist-packages (from cffi>=1.12->cryptography>=1.3->requests_ntlm->arcgis->osm-runner) (2.20)\n",
            "Requirement already satisfied: webencodings in /usr/local/lib/python3.7/dist-packages (from bleach->nbconvert->notebook>=4.4.1->widgetsnbextension>=3->arcgis->osm-runner) (0.5.1)\n",
            "Building wheels for collected packages: arcgis, lerc, pyshp\n",
            "  Building wheel for arcgis (setup.py) ... \u001b[?25l\u001b[?25hdone\n",
            "  Created wheel for arcgis: filename=arcgis-1.8.5.post3-py2.py3-none-any.whl size=3598424 sha256=18140a44095d4c528fa5053b45eed82b89bacf3f1ef909c4de005da4881bba33\n",
            "  Stored in directory: /root/.cache/pip/wheels/89/8a/95/9adcde37c32f4c90dc00e5e89d935bbf0ea56df79cb2b97bbb\n",
            "  Building wheel for lerc (setup.py) ... \u001b[?25l\u001b[?25hdone\n",
            "  Created wheel for lerc: filename=lerc-0.1.0-cp37-none-any.whl size=571698 sha256=d41519a1e81da58f0401ecdc96875197c4306dbe63aec476f9530d30bc46b912\n",
            "  Stored in directory: /root/.cache/pip/wheels/91/25/fc/0975ce9d050d66a246aa3cd51b04af4ef94a8ad96ccda87f86\n",
            "  Building wheel for pyshp (setup.py) ... \u001b[?25l\u001b[?25hdone\n",
            "  Created wheel for pyshp: filename=pyshp-2.1.3-cp37-none-any.whl size=37264 sha256=2c6640d147417cf13200c3bd29afd94caf9af245b7a2cfce5c670765afeedebd\n",
            "  Stored in directory: /root/.cache/pip/wheels/76/2b/d4/53e6b9a0fb0a9f9f29664cf82605af8bc81d5ab44d987896dd\n",
            "Successfully built arcgis lerc pyshp\n",
            "\u001b[31mERROR: google-colab 1.0.0 has requirement requests~=2.23.0, but you'll have requests 2.25.1 which is incompatible.\u001b[0m\n",
            "\u001b[31mERROR: google-colab 1.0.0 has requirement tornado~=5.1.0; python_version >= \"3.0\", but you'll have tornado 6.1 which is incompatible.\u001b[0m\n",
            "\u001b[31mERROR: jupyter-server 1.7.0 has requirement jupyter-client>=6.1.1, but you'll have jupyter-client 5.3.5 which is incompatible.\u001b[0m\n",
            "\u001b[31mERROR: jupyterlab-server 2.5.2 has requirement jsonschema>=3.0.1, but you'll have jsonschema 2.6.0 which is incompatible.\u001b[0m\n",
            "Installing collected packages: jeepney, cryptography, SecretStorage, keyring, lerc, ujson, tornado, sniffio, anyio, websocket-client, jupyter-server, nbclassic, json5, jupyterlab-server, jupyterlab, setuptools-scm, python-certifi-win32, pyshp, requests-toolbelt, ntlm-auth, requests-ntlm, arcgis, osm-runner\n",
            "  Found existing installation: tornado 5.1.1\n",
            "    Uninstalling tornado-5.1.1:\n",
            "      Successfully uninstalled tornado-5.1.1\n",
            "Successfully installed SecretStorage-3.3.1 anyio-3.0.1 arcgis-1.8.5.post3 cryptography-3.4.7 jeepney-0.6.0 json5-0.9.5 jupyter-server-1.7.0 jupyterlab-3.0.15 jupyterlab-server-2.5.2 keyring-23.0.1 lerc-0.1.0 nbclassic-0.2.8 ntlm-auth-1.5.0 osm-runner-0.0.3 pyshp-2.1.3 python-certifi-win32-1.6 requests-ntlm-1.1.0 requests-toolbelt-0.9.1 setuptools-scm-6.0.1 sniffio-1.2.0 tornado-6.1 ujson-4.0.2 websocket-client-1.0.0\n"
          ],
          "name": "stdout"
        },
        {
          "output_type": "display_data",
          "data": {
            "application/vnd.colab-display-data+json": {
              "pip_warning": {
                "packages": [
                  "tornado"
                ]
              }
            }
          },
          "metadata": {
            "tags": []
          }
        }
      ]
    },
    {
      "cell_type": "code",
      "metadata": {
        "ExecuteTime": {
          "end_time": "2021-05-18T12:22:18.805669Z",
          "start_time": "2021-05-18T12:22:18.799252Z"
        },
        "id": "uRXwo33O5nHx",
        "colab": {
          "base_uri": "https://localhost:8080/",
          "height": 360
        },
        "outputId": "41a89dd3-1f6a-421b-fe13-bc8fa922b2a7"
      },
      "source": [
        "import geopandas as gpd\n",
        "import pandas as pd\n",
        "import fiona\n",
        "import os\n",
        "import matplotlib.pyplot as plt\n",
        "import folium\n",
        "from zipfile import ZipFile\n",
        "from folium.plugins import MarkerCluster, HeatMap, BeautifyIcon\n",
        "from folium.map import LayerControl, Layer, FeatureGroup\n",
        "import seaborn as sns\n",
        "from shapely.geometry import Point, LineString, MultiPoint\n",
        "import requests\n",
        "from io import BytesIO, StringIO\n",
        "import contextily as ctx\n",
        "from IPython.display import HTML, display, IFrame\n",
        "import osmnx as ox\n",
        "import osmium\n",
        "from osm_runner import Runner"
      ],
      "execution_count": 17,
      "outputs": [
        {
          "output_type": "error",
          "ename": "AttributeError",
          "evalue": "ignored",
          "traceback": [
            "\u001b[0;31m---------------------------------------------------------------------------\u001b[0m",
            "\u001b[0;31mAttributeError\u001b[0m                            Traceback (most recent call last)",
            "\u001b[0;32m<ipython-input-17-37800577d75f>\u001b[0m in \u001b[0;36m<module>\u001b[0;34m()\u001b[0m\n\u001b[1;32m     16\u001b[0m \u001b[0;32mimport\u001b[0m \u001b[0mosmnx\u001b[0m \u001b[0;32mas\u001b[0m \u001b[0mox\u001b[0m\u001b[0;34m\u001b[0m\u001b[0;34m\u001b[0m\u001b[0m\n\u001b[1;32m     17\u001b[0m \u001b[0;32mimport\u001b[0m \u001b[0mosmium\u001b[0m\u001b[0;34m\u001b[0m\u001b[0;34m\u001b[0m\u001b[0m\n\u001b[0;32m---> 18\u001b[0;31m \u001b[0;32mfrom\u001b[0m \u001b[0mosm_runner\u001b[0m \u001b[0;32mimport\u001b[0m \u001b[0mRunner\u001b[0m\u001b[0;34m\u001b[0m\u001b[0;34m\u001b[0m\u001b[0m\n\u001b[0m",
            "\u001b[0;32m/usr/local/lib/python3.7/dist-packages/osm_runner/__init__.py\u001b[0m in \u001b[0;36m<module>\u001b[0;34m()\u001b[0m\n\u001b[0;32m----> 1\u001b[0;31m \u001b[0;32mfrom\u001b[0m \u001b[0;34m.\u001b[0m\u001b[0mrunner\u001b[0m \u001b[0;32mimport\u001b[0m \u001b[0;34m*\u001b[0m\u001b[0;34m\u001b[0m\u001b[0;34m\u001b[0m\u001b[0m\n\u001b[0m",
            "\u001b[0;32m/usr/local/lib/python3.7/dist-packages/osm_runner/runner.py\u001b[0m in \u001b[0;36m<module>\u001b[0;34m()\u001b[0m\n\u001b[0;32m----> 1\u001b[0;31m \u001b[0;32mfrom\u001b[0m \u001b[0marcgis\u001b[0m\u001b[0;34m.\u001b[0m\u001b[0mgeometry\u001b[0m \u001b[0;32mimport\u001b[0m \u001b[0mPoint\u001b[0m\u001b[0;34m,\u001b[0m \u001b[0mPolyline\u001b[0m\u001b[0;34m,\u001b[0m \u001b[0mPolygon\u001b[0m\u001b[0;34m\u001b[0m\u001b[0;34m\u001b[0m\u001b[0m\n\u001b[0m\u001b[1;32m      2\u001b[0m \u001b[0;32mfrom\u001b[0m \u001b[0marcgis\u001b[0m\u001b[0;34m.\u001b[0m\u001b[0mfeatures\u001b[0m \u001b[0;32mimport\u001b[0m \u001b[0mGeoAccessor\u001b[0m\u001b[0;34m\u001b[0m\u001b[0;34m\u001b[0m\u001b[0m\n\u001b[1;32m      3\u001b[0m \u001b[0;34m\u001b[0m\u001b[0m\n\u001b[1;32m      4\u001b[0m \u001b[0;32mfrom\u001b[0m \u001b[0mdatetime\u001b[0m \u001b[0;32mimport\u001b[0m \u001b[0mdate\u001b[0m\u001b[0;34m\u001b[0m\u001b[0;34m\u001b[0m\u001b[0m\n\u001b[1;32m      5\u001b[0m \u001b[0;32mimport\u001b[0m \u001b[0mpandas\u001b[0m \u001b[0;32mas\u001b[0m \u001b[0mpd\u001b[0m\u001b[0;34m\u001b[0m\u001b[0;34m\u001b[0m\u001b[0m\n",
            "\u001b[0;32m/usr/local/lib/python3.7/dist-packages/arcgis/__init__.py\u001b[0m in \u001b[0;36m<module>\u001b[0;34m()\u001b[0m\n\u001b[1;32m      2\u001b[0m \u001b[0;34m\u001b[0m\u001b[0m\n\u001b[1;32m      3\u001b[0m \u001b[0;32mfrom\u001b[0m \u001b[0;34m.\u001b[0m \u001b[0;32mimport\u001b[0m \u001b[0menv\u001b[0m\u001b[0;34m\u001b[0m\u001b[0;34m\u001b[0m\u001b[0m\n\u001b[0;32m----> 4\u001b[0;31m \u001b[0;32mfrom\u001b[0m \u001b[0;34m.\u001b[0m \u001b[0;32mimport\u001b[0m \u001b[0;34m(\u001b[0m\u001b[0mfeatures\u001b[0m\u001b[0;34m,\u001b[0m \u001b[0mgeoanalytics\u001b[0m\u001b[0;34m,\u001b[0m \u001b[0mgeocoding\u001b[0m\u001b[0;34m,\u001b[0m \u001b[0mgeometry\u001b[0m\u001b[0;34m)\u001b[0m\u001b[0;34m\u001b[0m\u001b[0;34m\u001b[0m\u001b[0m\n\u001b[0m\u001b[1;32m      5\u001b[0m \u001b[0;32mfrom\u001b[0m \u001b[0;34m.\u001b[0m \u001b[0;32mimport\u001b[0m \u001b[0;34m(\u001b[0m\u001b[0mgeoprocessing\u001b[0m\u001b[0;34m,\u001b[0m \u001b[0mnetwork\u001b[0m\u001b[0;34m,\u001b[0m \u001b[0mraster\u001b[0m\u001b[0;34m,\u001b[0m \u001b[0mrealtime\u001b[0m\u001b[0;34m,\u001b[0m \u001b[0mschematics\u001b[0m\u001b[0;34m)\u001b[0m\u001b[0;34m\u001b[0m\u001b[0;34m\u001b[0m\u001b[0m\n\u001b[1;32m      6\u001b[0m \u001b[0;32mimport\u001b[0m \u001b[0mos\u001b[0m\u001b[0;34m\u001b[0m\u001b[0;34m\u001b[0m\u001b[0m\n",
            "\u001b[0;32m/usr/local/lib/python3.7/dist-packages/arcgis/features/__init__.py\u001b[0m in \u001b[0;36m<module>\u001b[0;34m()\u001b[0m\n\u001b[1;32m     26\u001b[0m \u001b[0;34m\u001b[0m\u001b[0m\n\u001b[1;32m     27\u001b[0m \u001b[0;32mfrom\u001b[0m \u001b[0;34m.\u001b[0m \u001b[0;32mimport\u001b[0m \u001b[0manalyze_patterns\u001b[0m\u001b[0;34m\u001b[0m\u001b[0;34m\u001b[0m\u001b[0m\n\u001b[0;32m---> 28\u001b[0;31m \u001b[0;32mfrom\u001b[0m \u001b[0;34m.\u001b[0m \u001b[0;32mimport\u001b[0m \u001b[0menrich_data\u001b[0m\u001b[0;34m\u001b[0m\u001b[0;34m\u001b[0m\u001b[0m\n\u001b[0m\u001b[1;32m     29\u001b[0m \u001b[0;32mfrom\u001b[0m \u001b[0;34m.\u001b[0m \u001b[0;32mimport\u001b[0m \u001b[0mfind_locations\u001b[0m\u001b[0;34m\u001b[0m\u001b[0;34m\u001b[0m\u001b[0m\n\u001b[1;32m     30\u001b[0m \u001b[0;32mfrom\u001b[0m \u001b[0;34m.\u001b[0m \u001b[0;32mimport\u001b[0m \u001b[0mmanage_data\u001b[0m\u001b[0;34m\u001b[0m\u001b[0;34m\u001b[0m\u001b[0m\n",
            "\u001b[0;32m/usr/local/lib/python3.7/dist-packages/arcgis/features/enrich_data.py\u001b[0m in \u001b[0;36m<module>\u001b[0;34m()\u001b[0m\n\u001b[1;32m      8\u001b[0m \u001b[0;34m\u001b[0m\u001b[0m\n\u001b[1;32m      9\u001b[0m \u001b[0;32mimport\u001b[0m \u001b[0marcgis\u001b[0m \u001b[0;32mas\u001b[0m \u001b[0m_arcgis\u001b[0m\u001b[0;34m\u001b[0m\u001b[0;34m\u001b[0m\u001b[0m\n\u001b[0;32m---> 10\u001b[0;31m \u001b[0;32mimport\u001b[0m \u001b[0marcgis\u001b[0m\u001b[0;34m.\u001b[0m\u001b[0mnetwork\u001b[0m \u001b[0;32mas\u001b[0m \u001b[0mnetwork\u001b[0m\u001b[0;34m\u001b[0m\u001b[0;34m\u001b[0m\u001b[0m\n\u001b[0m\u001b[1;32m     11\u001b[0m \u001b[0;32mfrom\u001b[0m \u001b[0;34m.\u001b[0m\u001b[0;34m.\u001b[0m\u001b[0m_impl\u001b[0m\u001b[0;34m.\u001b[0m\u001b[0mcommon\u001b[0m\u001b[0;34m.\u001b[0m\u001b[0m_utils\u001b[0m \u001b[0;32mimport\u001b[0m \u001b[0minspect_function_inputs\u001b[0m\u001b[0;34m\u001b[0m\u001b[0;34m\u001b[0m\u001b[0m\n\u001b[1;32m     12\u001b[0m \u001b[0;31m#--------------------------------------------------------------------------\u001b[0m\u001b[0;34m\u001b[0m\u001b[0;34m\u001b[0m\u001b[0;34m\u001b[0m\u001b[0m\n",
            "\u001b[0;32m/usr/local/lib/python3.7/dist-packages/arcgis/network/__init__.py\u001b[0m in \u001b[0;36m<module>\u001b[0;34m()\u001b[0m\n\u001b[1;32m      5\u001b[0m \"\"\"\n\u001b[1;32m      6\u001b[0m \u001b[0;34m\u001b[0m\u001b[0m\n\u001b[0;32m----> 7\u001b[0;31m \u001b[0;32mfrom\u001b[0m \u001b[0;34m.\u001b[0m\u001b[0m_layer\u001b[0m \u001b[0;32mimport\u001b[0m \u001b[0mNetworkLayer\u001b[0m\u001b[0;34m,\u001b[0m \u001b[0mNetworkDataset\u001b[0m\u001b[0;34m,\u001b[0m \u001b[0mClosestFacilityLayer\u001b[0m\u001b[0;34m,\u001b[0m \u001b[0mServiceAreaLayer\u001b[0m\u001b[0;34m,\u001b[0m \u001b[0mRouteLayer\u001b[0m\u001b[0;34m,\u001b[0m \u001b[0mNAJob\u001b[0m\u001b[0;34m,\u001b[0m \u001b[0mODCostMatrixLayer\u001b[0m\u001b[0;34m\u001b[0m\u001b[0;34m\u001b[0m\u001b[0m\n\u001b[0m\u001b[1;32m      8\u001b[0m \u001b[0;34m\u001b[0m\u001b[0m\n\u001b[1;32m      9\u001b[0m \u001b[0;32mfrom\u001b[0m \u001b[0;34m.\u001b[0m \u001b[0;32mimport\u001b[0m \u001b[0manalysis\u001b[0m\u001b[0;34m\u001b[0m\u001b[0;34m\u001b[0m\u001b[0m\n",
            "\u001b[0;32m/usr/local/lib/python3.7/dist-packages/arcgis/network/_layer.py\u001b[0m in \u001b[0;36m<module>\u001b[0;34m()\u001b[0m\n\u001b[1;32m      6\u001b[0m \u001b[0;32mfrom\u001b[0m \u001b[0marcgis\u001b[0m\u001b[0;34m.\u001b[0m\u001b[0mfeatures\u001b[0m \u001b[0;32mimport\u001b[0m \u001b[0mFeatureLayer\u001b[0m\u001b[0;34m,\u001b[0m \u001b[0mFeatureLayerCollection\u001b[0m\u001b[0;34m,\u001b[0m \u001b[0mTable\u001b[0m\u001b[0;34m\u001b[0m\u001b[0;34m\u001b[0m\u001b[0m\n\u001b[1;32m      7\u001b[0m \u001b[0;34m\u001b[0m\u001b[0m\n\u001b[0;32m----> 8\u001b[0;31m \u001b[0;32mfrom\u001b[0m \u001b[0marcgis\u001b[0m\u001b[0;34m.\u001b[0m\u001b[0mmapping\u001b[0m \u001b[0;32mimport\u001b[0m \u001b[0mMapImageLayer\u001b[0m\u001b[0;34m\u001b[0m\u001b[0;34m\u001b[0m\u001b[0m\n\u001b[0m\u001b[1;32m      9\u001b[0m \u001b[0;32mtry\u001b[0m\u001b[0;34m:\u001b[0m\u001b[0;34m\u001b[0m\u001b[0;34m\u001b[0m\u001b[0m\n\u001b[1;32m     10\u001b[0m \u001b[0;34m\u001b[0m\u001b[0m\n",
            "\u001b[0;32m/usr/local/lib/python3.7/dist-packages/arcgis/mapping/__init__.py\u001b[0m in \u001b[0;36m<module>\u001b[0;34m()\u001b[0m\n\u001b[1;32m      6\u001b[0m \"\"\"\n\u001b[1;32m      7\u001b[0m \u001b[0;34m\u001b[0m\u001b[0m\n\u001b[0;32m----> 8\u001b[0;31m \u001b[0;32mfrom\u001b[0m \u001b[0;34m.\u001b[0m\u001b[0m_types\u001b[0m \u001b[0;32mimport\u001b[0m \u001b[0mWebMap\u001b[0m\u001b[0;34m,\u001b[0m \u001b[0mWebScene\u001b[0m\u001b[0;34m,\u001b[0m \u001b[0mMapImageLayer\u001b[0m\u001b[0;34m,\u001b[0m \u001b[0mMapImageLayerManager\u001b[0m\u001b[0;34m,\u001b[0m \u001b[0mVectorTileLayer\u001b[0m\u001b[0;34m,\u001b[0m \u001b[0mOfflineMapAreaManager\u001b[0m\u001b[0;34m,\u001b[0m \u001b[0mPackagingJob\u001b[0m\u001b[0;34m\u001b[0m\u001b[0;34m\u001b[0m\u001b[0m\n\u001b[0m\u001b[1;32m      9\u001b[0m \u001b[0;32mfrom\u001b[0m \u001b[0;34m.\u001b[0m\u001b[0m_types\u001b[0m \u001b[0;32mimport\u001b[0m \u001b[0mSceneLayer\u001b[0m\u001b[0;34m\u001b[0m\u001b[0;34m\u001b[0m\u001b[0m\n\u001b[1;32m     10\u001b[0m \u001b[0;32mfrom\u001b[0m \u001b[0marcgis\u001b[0m\u001b[0;34m.\u001b[0m\u001b[0mmapping\u001b[0m\u001b[0;34m.\u001b[0m\u001b[0m_scenelyrs\u001b[0m \u001b[0;32mimport\u001b[0m \u001b[0mObject3DLayer\u001b[0m\u001b[0;34m,\u001b[0m \u001b[0mIntegratedMeshLayer\u001b[0m\u001b[0;34m,\u001b[0m \u001b[0mPoint3DLayer\u001b[0m\u001b[0;34m\u001b[0m\u001b[0;34m\u001b[0m\u001b[0m\n",
            "\u001b[0;32m/usr/local/lib/python3.7/dist-packages/arcgis/mapping/_types.py\u001b[0m in \u001b[0;36m<module>\u001b[0;34m()\u001b[0m\n\u001b[1;32m     23\u001b[0m \u001b[0;32mtry\u001b[0m\u001b[0;34m:\u001b[0m\u001b[0;34m\u001b[0m\u001b[0;34m\u001b[0m\u001b[0m\n\u001b[1;32m     24\u001b[0m     \u001b[0;32mfrom\u001b[0m \u001b[0mtraitlets\u001b[0m \u001b[0;32mimport\u001b[0m \u001b[0mHasTraits\u001b[0m\u001b[0;34m,\u001b[0m \u001b[0mobserve\u001b[0m\u001b[0;34m\u001b[0m\u001b[0;34m\u001b[0m\u001b[0m\n\u001b[0;32m---> 25\u001b[0;31m     \u001b[0;32mfrom\u001b[0m \u001b[0marcgis\u001b[0m\u001b[0;34m.\u001b[0m\u001b[0mwidgets\u001b[0m\u001b[0;34m.\u001b[0m\u001b[0m_mapview\u001b[0m\u001b[0;34m.\u001b[0m\u001b[0m_traitlets_extension\u001b[0m \u001b[0;32mimport\u001b[0m \u001b[0mObservableDict\u001b[0m\u001b[0;34m\u001b[0m\u001b[0;34m\u001b[0m\u001b[0m\n\u001b[0m\u001b[1;32m     26\u001b[0m \u001b[0;32mexcept\u001b[0m \u001b[0mImportError\u001b[0m\u001b[0;34m:\u001b[0m\u001b[0;34m\u001b[0m\u001b[0;34m\u001b[0m\u001b[0m\n\u001b[1;32m     27\u001b[0m     \u001b[0;32mclass\u001b[0m \u001b[0mHasTraits\u001b[0m\u001b[0;34m:\u001b[0m\u001b[0;34m\u001b[0m\u001b[0;34m\u001b[0m\u001b[0m\n",
            "\u001b[0;32m/usr/local/lib/python3.7/dist-packages/arcgis/widgets/__init__.py\u001b[0m in \u001b[0;36m<module>\u001b[0;34m()\u001b[0m\n\u001b[1;32m      1\u001b[0m \u001b[0;32mtry\u001b[0m\u001b[0;34m:\u001b[0m\u001b[0;34m\u001b[0m\u001b[0;34m\u001b[0m\u001b[0m\n\u001b[0;32m----> 2\u001b[0;31m     \u001b[0;32mfrom\u001b[0m \u001b[0marcgis\u001b[0m\u001b[0;34m.\u001b[0m\u001b[0mwidgets\u001b[0m\u001b[0;34m.\u001b[0m\u001b[0m_mapview\u001b[0m \u001b[0;32mimport\u001b[0m \u001b[0mMapView\u001b[0m\u001b[0;34m\u001b[0m\u001b[0;34m\u001b[0m\u001b[0m\n\u001b[0m\u001b[1;32m      3\u001b[0m \u001b[0;32mexcept\u001b[0m \u001b[0mImportError\u001b[0m \u001b[0;32mas\u001b[0m \u001b[0me\u001b[0m\u001b[0;34m:\u001b[0m\u001b[0;34m\u001b[0m\u001b[0;34m\u001b[0m\u001b[0m\n\u001b[1;32m      4\u001b[0m     \u001b[0;32mimport\u001b[0m \u001b[0mlogging\u001b[0m\u001b[0;34m\u001b[0m\u001b[0;34m\u001b[0m\u001b[0m\n\u001b[1;32m      5\u001b[0m     \u001b[0mlog\u001b[0m \u001b[0;34m=\u001b[0m \u001b[0mlogging\u001b[0m\u001b[0;34m.\u001b[0m\u001b[0mgetLogger\u001b[0m\u001b[0;34m(\u001b[0m\u001b[0;34m)\u001b[0m\u001b[0;34m\u001b[0m\u001b[0;34m\u001b[0m\u001b[0m\n",
            "\u001b[0;32m/usr/local/lib/python3.7/dist-packages/arcgis/widgets/_mapview/__init__.py\u001b[0m in \u001b[0;36m<module>\u001b[0;34m()\u001b[0m\n\u001b[0;32m----> 1\u001b[0;31m \u001b[0;32mfrom\u001b[0m \u001b[0marcgis\u001b[0m\u001b[0;34m.\u001b[0m\u001b[0mwidgets\u001b[0m\u001b[0;34m.\u001b[0m\u001b[0m_mapview\u001b[0m\u001b[0;34m.\u001b[0m\u001b[0m_mapview\u001b[0m \u001b[0;32mimport\u001b[0m \u001b[0mMapView\u001b[0m\u001b[0;34m\u001b[0m\u001b[0;34m\u001b[0m\u001b[0m\n\u001b[0m",
            "\u001b[0;32m/usr/local/lib/python3.7/dist-packages/arcgis/widgets/_mapview/_mapview.py\u001b[0m in \u001b[0;36m<module>\u001b[0;34m()\u001b[0m\n\u001b[1;32m     28\u001b[0m \u001b[0;32mfrom\u001b[0m \u001b[0marcgis\u001b[0m\u001b[0;34m.\u001b[0m\u001b[0mwidgets\u001b[0m\u001b[0;34m.\u001b[0m\u001b[0m_mapview\u001b[0m\u001b[0;34m.\u001b[0m\u001b[0m_webscene_utils\u001b[0m \u001b[0;32mimport\u001b[0m \u001b[0mDEFAULT_WEBSCENE_TEXT_PROPERTY\u001b[0m\u001b[0;34m\u001b[0m\u001b[0;34m\u001b[0m\u001b[0m\n\u001b[1;32m     29\u001b[0m \u001b[0;32mfrom\u001b[0m \u001b[0marcgis\u001b[0m\u001b[0;34m.\u001b[0m\u001b[0mwidgets\u001b[0m\u001b[0;34m.\u001b[0m\u001b[0m_mapview\u001b[0m\u001b[0;34m.\u001b[0m\u001b[0m_loading_icon_str\u001b[0m \u001b[0;32mimport\u001b[0m \u001b[0m_loading_icon_str\u001b[0m\u001b[0;34m\u001b[0m\u001b[0;34m\u001b[0m\u001b[0m\n\u001b[0;32m---> 30\u001b[0;31m \u001b[0;32mfrom\u001b[0m \u001b[0marcgis\u001b[0m\u001b[0;34m.\u001b[0m\u001b[0mwidgets\u001b[0m\u001b[0;34m.\u001b[0m\u001b[0m_mapview\u001b[0m\u001b[0;34m.\u001b[0m\u001b[0m_raster\u001b[0m \u001b[0;32mimport\u001b[0m \u001b[0mLocalRasterOverlayManager\u001b[0m\u001b[0;34m\u001b[0m\u001b[0;34m\u001b[0m\u001b[0m\n\u001b[0m\u001b[1;32m     31\u001b[0m \u001b[0;32mfrom\u001b[0m \u001b[0marcgis\u001b[0m\u001b[0;34m.\u001b[0m\u001b[0mwidgets\u001b[0m\u001b[0;34m.\u001b[0m\u001b[0m_mapview\u001b[0m\u001b[0;34m.\u001b[0m\u001b[0m_raster\u001b[0m\u001b[0;34m.\u001b[0m\u001b[0m_numpy_utils\u001b[0m \u001b[0;32mimport\u001b[0m \u001b[0;34m*\u001b[0m\u001b[0;34m\u001b[0m\u001b[0;34m\u001b[0m\u001b[0m\n\u001b[1;32m     32\u001b[0m \u001b[0;32mfrom\u001b[0m \u001b[0marcgis\u001b[0m \u001b[0;32mimport\u001b[0m \u001b[0m__version__\u001b[0m \u001b[0;32mas\u001b[0m \u001b[0mpy_api_version\u001b[0m\u001b[0;34m\u001b[0m\u001b[0;34m\u001b[0m\u001b[0m\n",
            "\u001b[0;32m/usr/local/lib/python3.7/dist-packages/arcgis/widgets/_mapview/_raster/__init__.py\u001b[0m in \u001b[0;36m<module>\u001b[0;34m()\u001b[0m\n\u001b[0;32m----> 1\u001b[0;31m \u001b[0;32mfrom\u001b[0m \u001b[0marcgis\u001b[0m\u001b[0;34m.\u001b[0m\u001b[0mwidgets\u001b[0m\u001b[0;34m.\u001b[0m\u001b[0m_mapview\u001b[0m\u001b[0;34m.\u001b[0m\u001b[0m_raster\u001b[0m\u001b[0;34m.\u001b[0m\u001b[0mlocal_raster_overlay_manager\u001b[0m\u001b[0;31m \u001b[0m\u001b[0;31m\\\u001b[0m\u001b[0;34m\u001b[0m\u001b[0;34m\u001b[0m\u001b[0m\n\u001b[0m\u001b[1;32m      2\u001b[0m     \u001b[0;32mimport\u001b[0m \u001b[0mLocalRasterOverlayManager\u001b[0m\u001b[0;34m,\u001b[0m \u001b[0mRasterOverlay\u001b[0m\u001b[0;34m\u001b[0m\u001b[0;34m\u001b[0m\u001b[0m\n",
            "\u001b[0;32m/usr/local/lib/python3.7/dist-packages/arcgis/widgets/_mapview/_raster/local_raster_overlay_manager.py\u001b[0m in \u001b[0;36m<module>\u001b[0;34m()\u001b[0m\n\u001b[1;32m      5\u001b[0m \u001b[0;32mfrom\u001b[0m \u001b[0marcgis\u001b[0m\u001b[0;34m.\u001b[0m\u001b[0mwidgets\u001b[0m\u001b[0;34m.\u001b[0m\u001b[0m_mapview\u001b[0m\u001b[0;34m.\u001b[0m\u001b[0m_raster\u001b[0m \u001b[0;32mimport\u001b[0m \u001b[0;34m*\u001b[0m\u001b[0;34m\u001b[0m\u001b[0;34m\u001b[0m\u001b[0m\n\u001b[1;32m      6\u001b[0m \u001b[0;32mfrom\u001b[0m \u001b[0marcgis\u001b[0m\u001b[0;34m.\u001b[0m\u001b[0mwidgets\u001b[0m\u001b[0;34m.\u001b[0m\u001b[0m_mapview\u001b[0m\u001b[0;34m.\u001b[0m\u001b[0m_raster\u001b[0m\u001b[0;34m.\u001b[0m\u001b[0m_numpy_utils\u001b[0m \u001b[0;32mimport\u001b[0m \u001b[0;34m*\u001b[0m\u001b[0;34m\u001b[0m\u001b[0;34m\u001b[0m\u001b[0m\n\u001b[0;32m----> 7\u001b[0;31m \u001b[0;32mfrom\u001b[0m \u001b[0marcgis\u001b[0m\u001b[0;34m.\u001b[0m\u001b[0mwidgets\u001b[0m\u001b[0;34m.\u001b[0m\u001b[0m_mapview\u001b[0m\u001b[0;34m.\u001b[0m\u001b[0m_raster\u001b[0m\u001b[0;34m.\u001b[0m\u001b[0m_jupyter_utils\u001b[0m \u001b[0;32mimport\u001b[0m \u001b[0;34m*\u001b[0m\u001b[0;34m\u001b[0m\u001b[0;34m\u001b[0m\u001b[0m\n\u001b[0m\u001b[1;32m      8\u001b[0m \u001b[0;34m\u001b[0m\u001b[0m\n\u001b[1;32m      9\u001b[0m \u001b[0;32mclass\u001b[0m \u001b[0mRasterOverlay\u001b[0m\u001b[0;34m:\u001b[0m\u001b[0;34m\u001b[0m\u001b[0;34m\u001b[0m\u001b[0m\n",
            "\u001b[0;32m/usr/local/lib/python3.7/dist-packages/arcgis/widgets/_mapview/_raster/_jupyter_utils.py\u001b[0m in \u001b[0;36m<module>\u001b[0;34m()\u001b[0m\n\u001b[1;32m      7\u001b[0m \u001b[0;34m\u001b[0m\u001b[0m\n\u001b[1;32m      8\u001b[0m \u001b[0;32mimport\u001b[0m \u001b[0mipykernel\u001b[0m\u001b[0;34m\u001b[0m\u001b[0;34m\u001b[0m\u001b[0m\n\u001b[0;32m----> 9\u001b[0;31m \u001b[0;32mfrom\u001b[0m \u001b[0mnotebook\u001b[0m\u001b[0;34m.\u001b[0m\u001b[0mnotebookapp\u001b[0m \u001b[0;32mimport\u001b[0m \u001b[0mlist_running_servers\u001b[0m\u001b[0;34m\u001b[0m\u001b[0;34m\u001b[0m\u001b[0m\n\u001b[0m\u001b[1;32m     10\u001b[0m \u001b[0;32mfrom\u001b[0m \u001b[0mIPython\u001b[0m\u001b[0;34m.\u001b[0m\u001b[0mdisplay\u001b[0m \u001b[0;32mimport\u001b[0m \u001b[0mHTML\u001b[0m\u001b[0;34m,\u001b[0m \u001b[0mdisplay\u001b[0m\u001b[0;34m\u001b[0m\u001b[0;34m\u001b[0m\u001b[0m\n\u001b[1;32m     11\u001b[0m \u001b[0;34m\u001b[0m\u001b[0m\n",
            "\u001b[0;32m/usr/local/lib/python3.7/dist-packages/notebook/notebookapp.py\u001b[0m in \u001b[0;36m<module>\u001b[0;34m()\u001b[0m\n\u001b[1;32m     57\u001b[0m     \u001b[0;32mraise\u001b[0m \u001b[0mImportError\u001b[0m\u001b[0;34m(\u001b[0m\u001b[0m_\u001b[0m\u001b[0;34m(\u001b[0m\u001b[0;34m\"The Jupyter Notebook requires tornado >= 4.0, but you have %s\"\u001b[0m\u001b[0;34m)\u001b[0m \u001b[0;34m%\u001b[0m \u001b[0mtornado\u001b[0m\u001b[0;34m.\u001b[0m\u001b[0mversion\u001b[0m\u001b[0;34m)\u001b[0m\u001b[0;34m\u001b[0m\u001b[0;34m\u001b[0m\u001b[0m\n\u001b[1;32m     58\u001b[0m \u001b[0;34m\u001b[0m\u001b[0m\n\u001b[0;32m---> 59\u001b[0;31m \u001b[0;32mfrom\u001b[0m \u001b[0mtornado\u001b[0m \u001b[0;32mimport\u001b[0m \u001b[0mhttpserver\u001b[0m\u001b[0;34m\u001b[0m\u001b[0;34m\u001b[0m\u001b[0m\n\u001b[0m\u001b[1;32m     60\u001b[0m \u001b[0;32mfrom\u001b[0m \u001b[0mtornado\u001b[0m \u001b[0;32mimport\u001b[0m \u001b[0mweb\u001b[0m\u001b[0;34m\u001b[0m\u001b[0;34m\u001b[0m\u001b[0m\n\u001b[1;32m     61\u001b[0m \u001b[0;32mfrom\u001b[0m \u001b[0mtornado\u001b[0m\u001b[0;34m.\u001b[0m\u001b[0mhttputil\u001b[0m \u001b[0;32mimport\u001b[0m \u001b[0murl_concat\u001b[0m\u001b[0;34m\u001b[0m\u001b[0;34m\u001b[0m\u001b[0m\n",
            "\u001b[0;32m/usr/local/lib/python3.7/dist-packages/tornado/httpserver.py\u001b[0m in \u001b[0;36m<module>\u001b[0;34m()\u001b[0m\n\u001b[1;32m     30\u001b[0m \u001b[0;34m\u001b[0m\u001b[0m\n\u001b[1;32m     31\u001b[0m \u001b[0;32mfrom\u001b[0m \u001b[0mtornado\u001b[0m\u001b[0;34m.\u001b[0m\u001b[0mescape\u001b[0m \u001b[0;32mimport\u001b[0m \u001b[0mnative_str\u001b[0m\u001b[0;34m\u001b[0m\u001b[0;34m\u001b[0m\u001b[0m\n\u001b[0;32m---> 32\u001b[0;31m \u001b[0;32mfrom\u001b[0m \u001b[0mtornado\u001b[0m\u001b[0;34m.\u001b[0m\u001b[0mhttp1connection\u001b[0m \u001b[0;32mimport\u001b[0m \u001b[0mHTTP1ServerConnection\u001b[0m\u001b[0;34m,\u001b[0m \u001b[0mHTTP1ConnectionParameters\u001b[0m\u001b[0;34m\u001b[0m\u001b[0;34m\u001b[0m\u001b[0m\n\u001b[0m\u001b[1;32m     33\u001b[0m \u001b[0;32mfrom\u001b[0m \u001b[0mtornado\u001b[0m \u001b[0;32mimport\u001b[0m \u001b[0mhttputil\u001b[0m\u001b[0;34m\u001b[0m\u001b[0;34m\u001b[0m\u001b[0m\n\u001b[1;32m     34\u001b[0m \u001b[0;32mfrom\u001b[0m \u001b[0mtornado\u001b[0m \u001b[0;32mimport\u001b[0m \u001b[0miostream\u001b[0m\u001b[0;34m\u001b[0m\u001b[0;34m\u001b[0m\u001b[0m\n",
            "\u001b[0;32m/usr/local/lib/python3.7/dist-packages/tornado/http1connection.py\u001b[0m in \u001b[0;36m<module>\u001b[0;34m()\u001b[0m\n\u001b[1;32m     32\u001b[0m \u001b[0;32mfrom\u001b[0m \u001b[0mtornado\u001b[0m \u001b[0;32mimport\u001b[0m \u001b[0mgen\u001b[0m\u001b[0;34m\u001b[0m\u001b[0;34m\u001b[0m\u001b[0m\n\u001b[1;32m     33\u001b[0m \u001b[0;32mfrom\u001b[0m \u001b[0mtornado\u001b[0m \u001b[0;32mimport\u001b[0m \u001b[0mhttputil\u001b[0m\u001b[0;34m\u001b[0m\u001b[0;34m\u001b[0m\u001b[0m\n\u001b[0;32m---> 34\u001b[0;31m \u001b[0;32mfrom\u001b[0m \u001b[0mtornado\u001b[0m \u001b[0;32mimport\u001b[0m \u001b[0miostream\u001b[0m\u001b[0;34m\u001b[0m\u001b[0;34m\u001b[0m\u001b[0m\n\u001b[0m\u001b[1;32m     35\u001b[0m \u001b[0;32mfrom\u001b[0m \u001b[0mtornado\u001b[0m\u001b[0;34m.\u001b[0m\u001b[0mlog\u001b[0m \u001b[0;32mimport\u001b[0m \u001b[0mgen_log\u001b[0m\u001b[0;34m,\u001b[0m \u001b[0mapp_log\u001b[0m\u001b[0;34m\u001b[0m\u001b[0;34m\u001b[0m\u001b[0m\n\u001b[1;32m     36\u001b[0m \u001b[0;32mfrom\u001b[0m \u001b[0mtornado\u001b[0m\u001b[0;34m.\u001b[0m\u001b[0mutil\u001b[0m \u001b[0;32mimport\u001b[0m \u001b[0mGzipDecompressor\u001b[0m\u001b[0;34m\u001b[0m\u001b[0;34m\u001b[0m\u001b[0m\n",
            "\u001b[0;32m/usr/local/lib/python3.7/dist-packages/tornado/iostream.py\u001b[0m in \u001b[0;36m<module>\u001b[0;34m()\u001b[0m\n\u001b[1;32m    208\u001b[0m \u001b[0;34m\u001b[0m\u001b[0m\n\u001b[1;32m    209\u001b[0m \u001b[0;34m\u001b[0m\u001b[0m\n\u001b[0;32m--> 210\u001b[0;31m \u001b[0;32mclass\u001b[0m \u001b[0mBaseIOStream\u001b[0m\u001b[0;34m(\u001b[0m\u001b[0mobject\u001b[0m\u001b[0;34m)\u001b[0m\u001b[0;34m:\u001b[0m\u001b[0;34m\u001b[0m\u001b[0;34m\u001b[0m\u001b[0m\n\u001b[0m\u001b[1;32m    211\u001b[0m     \"\"\"A utility class to write to and read from a non-blocking file or socket.\n\u001b[1;32m    212\u001b[0m \u001b[0;34m\u001b[0m\u001b[0m\n",
            "\u001b[0;32m/usr/local/lib/python3.7/dist-packages/tornado/iostream.py\u001b[0m in \u001b[0;36mBaseIOStream\u001b[0;34m()\u001b[0m\n\u001b[1;32m    284\u001b[0m         \u001b[0mself\u001b[0m\u001b[0;34m.\u001b[0m\u001b[0m_closed\u001b[0m \u001b[0;34m=\u001b[0m \u001b[0;32mFalse\u001b[0m\u001b[0;34m\u001b[0m\u001b[0;34m\u001b[0m\u001b[0m\n\u001b[1;32m    285\u001b[0m \u001b[0;34m\u001b[0m\u001b[0m\n\u001b[0;32m--> 286\u001b[0;31m     \u001b[0;32mdef\u001b[0m \u001b[0mfileno\u001b[0m\u001b[0;34m(\u001b[0m\u001b[0mself\u001b[0m\u001b[0;34m)\u001b[0m \u001b[0;34m->\u001b[0m \u001b[0mUnion\u001b[0m\u001b[0;34m[\u001b[0m\u001b[0mint\u001b[0m\u001b[0;34m,\u001b[0m \u001b[0mioloop\u001b[0m\u001b[0;34m.\u001b[0m\u001b[0m_Selectable\u001b[0m\u001b[0;34m]\u001b[0m\u001b[0;34m:\u001b[0m\u001b[0;34m\u001b[0m\u001b[0;34m\u001b[0m\u001b[0m\n\u001b[0m\u001b[1;32m    287\u001b[0m         \u001b[0;34m\"\"\"Returns the file descriptor for this stream.\"\"\"\u001b[0m\u001b[0;34m\u001b[0m\u001b[0;34m\u001b[0m\u001b[0m\n\u001b[1;32m    288\u001b[0m         \u001b[0;32mraise\u001b[0m \u001b[0mNotImplementedError\u001b[0m\u001b[0;34m(\u001b[0m\u001b[0;34m)\u001b[0m\u001b[0;34m\u001b[0m\u001b[0;34m\u001b[0m\u001b[0m\n",
            "\u001b[0;31mAttributeError\u001b[0m: module 'tornado.ioloop' has no attribute '_Selectable'"
          ]
        }
      ]
    },
    {
      "cell_type": "code",
      "metadata": {
        "id": "qIFNZ1Gq6bWu",
        "colab": {
          "base_uri": "https://localhost:8080/"
        },
        "outputId": "446ecd60-dae7-4e9f-a872-1164137a9a46"
      },
      "source": [
        "from google.colab import drive\n",
        "drive.mount('/gdrive')"
      ],
      "execution_count": 8,
      "outputs": [
        {
          "output_type": "stream",
          "text": [
            "Mounted at /gdrive\n"
          ],
          "name": "stdout"
        }
      ]
    },
    {
      "cell_type": "code",
      "metadata": {
        "colab": {
          "base_uri": "https://localhost:8080/"
        },
        "id": "RwtNdCpPtumO",
        "outputId": "a28889cc-f35a-4f36-8c73-163e355f0dd7"
      },
      "source": [
        "from google.colab import drive\n",
        "drive.mount('/content/drive')"
      ],
      "execution_count": 9,
      "outputs": [
        {
          "output_type": "stream",
          "text": [
            "Mounted at /content/drive\n"
          ],
          "name": "stdout"
        }
      ]
    },
    {
      "cell_type": "markdown",
      "metadata": {
        "id": "unhis5R07DMZ"
      },
      "source": [
        "# Data"
      ]
    },
    {
      "cell_type": "code",
      "metadata": {
        "ExecuteTime": {
          "end_time": "2021-05-18T12:08:00.881517Z",
          "start_time": "2021-05-18T12:08:00.469512Z"
        },
        "colab": {
          "base_uri": "https://localhost:8080/"
        },
        "id": "RqHH72Wc6bZS",
        "outputId": "a43a7469-9530-45d6-bc75-5dbe9358fe9d"
      },
      "source": [
        "green_areas = pd.read_csv('https://raw.githubusercontent.com/SowmyaMadala/WDL-Stage4/main/Data/Attracting%20Population/WDL_Green_Areas_Dataset_V1.txt', \n",
        "                          sep =\"|\", \n",
        "                          encoding =\"latin-1\").rename(columns = {'Number of Museums in influence area' : 'no_of_museums',\n",
        "                                                                 'Number of parking lots in influence area' : 'no_of_parking_lots',\n",
        "                                                                'Number of tourist attractions in influence area': 'no_of_tourist_attractions', \n",
        "                                                                'Green Zones Daily Average Demand':'gz_daily_avg_demand',\n",
        "                                                                'Daily average of people in influence area': 'daily_avg_people',\n",
        "                                                                'Number of buildings in influence area' : 'no_of_buildings',\n",
        "                                                                'Number of families in influence area': 'no_of_families',\n",
        "                                                                'Number of people resident in influence area' : 'no_of_people_resident'\n",
        "                                                                })\n",
        "\n",
        "green_areas.shape, green_areas.dtypes"
      ],
      "execution_count": null,
      "outputs": [
        {
          "output_type": "execute_result",
          "data": {
            "text/plain": [
              "((128, 14),\n",
              " Green_Zone_name               object\n",
              " no_of_museums                  int64\n",
              " no_of_parking_lots             int64\n",
              " no_of_tourist_attractions      int64\n",
              " gz_daily_avg_demand          float64\n",
              " Resident                       int64\n",
              " daily_avg_people             float64\n",
              " no_of_buildings                int64\n",
              " no_of_families                 int64\n",
              " no_of_people_resident          int64\n",
              " perc_senior_pop              float64\n",
              " perc_pop_until_19_yo         float64\n",
              " POINT_X                      float64\n",
              " POINT_Y                      float64\n",
              " dtype: object)"
            ]
          },
          "metadata": {
            "tags": []
          },
          "execution_count": 13
        }
      ]
    },
    {
      "cell_type": "code",
      "metadata": {
        "ExecuteTime": {
          "end_time": "2021-05-18T12:08:00.896154Z",
          "start_time": "2021-05-18T12:08:00.883709Z"
        },
        "colab": {
          "base_uri": "https://localhost:8080/",
          "height": 400
        },
        "id": "X5ViyNh96bcI",
        "outputId": "8fc680ba-855d-4f92-f07d-9291a86301ba"
      },
      "source": [
        "green_areas.head()"
      ],
      "execution_count": null,
      "outputs": [
        {
          "output_type": "execute_result",
          "data": {
            "text/html": [
              "<div>\n",
              "<style scoped>\n",
              "    .dataframe tbody tr th:only-of-type {\n",
              "        vertical-align: middle;\n",
              "    }\n",
              "\n",
              "    .dataframe tbody tr th {\n",
              "        vertical-align: top;\n",
              "    }\n",
              "\n",
              "    .dataframe thead th {\n",
              "        text-align: right;\n",
              "    }\n",
              "</style>\n",
              "<table border=\"1\" class=\"dataframe\">\n",
              "  <thead>\n",
              "    <tr style=\"text-align: right;\">\n",
              "      <th></th>\n",
              "      <th>Green_Zone_name</th>\n",
              "      <th>no_of_museums</th>\n",
              "      <th>no_of_parking_lots</th>\n",
              "      <th>no_of_tourist_attractions</th>\n",
              "      <th>gz_daily_avg_demand</th>\n",
              "      <th>Resident</th>\n",
              "      <th>daily_avg_people</th>\n",
              "      <th>no_of_buildings</th>\n",
              "      <th>no_of_families</th>\n",
              "      <th>no_of_people_resident</th>\n",
              "      <th>perc_senior_pop</th>\n",
              "      <th>perc_pop_until_19_yo</th>\n",
              "      <th>POINT_X</th>\n",
              "      <th>POINT_Y</th>\n",
              "    </tr>\n",
              "  </thead>\n",
              "  <tbody>\n",
              "    <tr>\n",
              "      <th>0</th>\n",
              "      <td>ESPAÇO JOGO E RECREIO HOMEM DO LEME</td>\n",
              "      <td>5</td>\n",
              "      <td>28</td>\n",
              "      <td>30</td>\n",
              "      <td>3.728677</td>\n",
              "      <td>1</td>\n",
              "      <td>17780.803014</td>\n",
              "      <td>4783</td>\n",
              "      <td>15352</td>\n",
              "      <td>38012</td>\n",
              "      <td>0.195123</td>\n",
              "      <td>0.196017</td>\n",
              "      <td>-8.68415</td>\n",
              "      <td>41.16001</td>\n",
              "    </tr>\n",
              "    <tr>\n",
              "      <th>1</th>\n",
              "      <td>ESPAÇO JOGO E RECREIO HOMEM DO LEME</td>\n",
              "      <td>5</td>\n",
              "      <td>28</td>\n",
              "      <td>30</td>\n",
              "      <td>3.728677</td>\n",
              "      <td>0</td>\n",
              "      <td>45787.629298</td>\n",
              "      <td>4783</td>\n",
              "      <td>15352</td>\n",
              "      <td>38012</td>\n",
              "      <td>0.195123</td>\n",
              "      <td>0.196017</td>\n",
              "      <td>-8.68415</td>\n",
              "      <td>41.16001</td>\n",
              "    </tr>\n",
              "    <tr>\n",
              "      <th>2</th>\n",
              "      <td>JARDIM AFONSO DE ALBUQUERQUE</td>\n",
              "      <td>93</td>\n",
              "      <td>129</td>\n",
              "      <td>78</td>\n",
              "      <td>10.259113</td>\n",
              "      <td>0</td>\n",
              "      <td>42877.741202</td>\n",
              "      <td>1775</td>\n",
              "      <td>17185</td>\n",
              "      <td>41163</td>\n",
              "      <td>0.161747</td>\n",
              "      <td>0.204917</td>\n",
              "      <td>-9.19949</td>\n",
              "      <td>38.69674</td>\n",
              "    </tr>\n",
              "    <tr>\n",
              "      <th>3</th>\n",
              "      <td>JARDIM AFONSO DE ALBUQUERQUE</td>\n",
              "      <td>93</td>\n",
              "      <td>129</td>\n",
              "      <td>78</td>\n",
              "      <td>10.259113</td>\n",
              "      <td>1</td>\n",
              "      <td>17497.825376</td>\n",
              "      <td>1775</td>\n",
              "      <td>17185</td>\n",
              "      <td>41163</td>\n",
              "      <td>0.161747</td>\n",
              "      <td>0.204917</td>\n",
              "      <td>-9.19949</td>\n",
              "      <td>38.69674</td>\n",
              "    </tr>\n",
              "    <tr>\n",
              "      <th>4</th>\n",
              "      <td>JARDIM ALAMEDA CIDADE UNIVERSITÁRIA</td>\n",
              "      <td>8</td>\n",
              "      <td>23</td>\n",
              "      <td>4</td>\n",
              "      <td>47.347816</td>\n",
              "      <td>0</td>\n",
              "      <td>42877.741202</td>\n",
              "      <td>1775</td>\n",
              "      <td>17185</td>\n",
              "      <td>41163</td>\n",
              "      <td>0.161747</td>\n",
              "      <td>0.204917</td>\n",
              "      <td>-9.15757</td>\n",
              "      <td>38.75294</td>\n",
              "    </tr>\n",
              "  </tbody>\n",
              "</table>\n",
              "</div>"
            ],
            "text/plain": [
              "                       Green_Zone_name  no_of_museums  no_of_parking_lots  \\\n",
              "0  ESPAÇO JOGO E RECREIO HOMEM DO LEME              5                  28   \n",
              "1  ESPAÇO JOGO E RECREIO HOMEM DO LEME              5                  28   \n",
              "2         JARDIM AFONSO DE ALBUQUERQUE             93                 129   \n",
              "3         JARDIM AFONSO DE ALBUQUERQUE             93                 129   \n",
              "4  JARDIM ALAMEDA CIDADE UNIVERSITÁRIA              8                  23   \n",
              "\n",
              "   no_of_tourist_attractions  gz_daily_avg_demand  Resident  daily_avg_people  \\\n",
              "0                         30             3.728677         1      17780.803014   \n",
              "1                         30             3.728677         0      45787.629298   \n",
              "2                         78            10.259113         0      42877.741202   \n",
              "3                         78            10.259113         1      17497.825376   \n",
              "4                          4            47.347816         0      42877.741202   \n",
              "\n",
              "   no_of_buildings  no_of_families  no_of_people_resident  perc_senior_pop  \\\n",
              "0             4783           15352                  38012         0.195123   \n",
              "1             4783           15352                  38012         0.195123   \n",
              "2             1775           17185                  41163         0.161747   \n",
              "3             1775           17185                  41163         0.161747   \n",
              "4             1775           17185                  41163         0.161747   \n",
              "\n",
              "   perc_pop_until_19_yo  POINT_X   POINT_Y  \n",
              "0              0.196017 -8.68415  41.16001  \n",
              "1              0.196017 -8.68415  41.16001  \n",
              "2              0.204917 -9.19949  38.69674  \n",
              "3              0.204917 -9.19949  38.69674  \n",
              "4              0.204917 -9.15757  38.75294  "
            ]
          },
          "metadata": {
            "tags": []
          },
          "execution_count": 14
        }
      ]
    },
    {
      "cell_type": "code",
      "metadata": {
        "ExecuteTime": {
          "end_time": "2021-05-18T12:08:01.847481Z",
          "start_time": "2021-05-18T12:08:01.841493Z"
        },
        "id": "X9aE1eMO9hPn"
      },
      "source": [
        "# Add relative demand for green spaces by population of influence area\n",
        "green_areas['avg_rel_demand'] = green_areas.gz_daily_avg_demand / green_areas.daily_avg_people"
      ],
      "execution_count": null,
      "outputs": []
    },
    {
      "cell_type": "code",
      "metadata": {
        "ExecuteTime": {
          "end_time": "2021-05-18T12:08:02.275121Z",
          "start_time": "2021-05-18T12:08:01.956705Z"
        },
        "colab": {
          "base_uri": "https://localhost:8080/",
          "height": 562
        },
        "id": "SC8DZ4ip6bfA",
        "outputId": "3468640c-af39-4b06-d837-7694736c7c3d"
      },
      "source": [
        "# plot top relative avg. daily demands for green areas for residents (!)\n",
        "res_green_areas = green_areas[green_areas.Resident == 1]\n",
        "res_green_areas = res_green_areas.sort_values(by='avg_rel_demand', ascending=False)\n",
        "plt.figure(figsize=(15,5))\n",
        "sns.barplot(x='Green_Zone_name', \n",
        "            y='avg_rel_demand', \n",
        "            data=res_green_areas.head(30),\n",
        "            ci=None)\n",
        "plt.xticks(rotation=90)\n",
        "plt.title('Avg. Relative Demand for Green Spaces Top 30')\n",
        "plt.grid()\n",
        "plt.show()"
      ],
      "execution_count": null,
      "outputs": [
        {
          "output_type": "display_data",
          "data": {
            "image/png": "[encoded data removed]",
            "text/plain": [
              "<Figure size 1080x360 with 1 Axes>"
            ]
          },
          "metadata": {
            "tags": [],
            "needs_background": "light"
          }
        }
      ]
    },
    {
      "cell_type": "code",
      "metadata": {
        "ExecuteTime": {
          "end_time": "2021-05-18T12:08:02.277704Z",
          "start_time": "2021-05-18T12:08:02.276276Z"
        },
        "id": "KcLiCfr2BatO"
      },
      "source": [
        "# # make geo df and plot\n",
        "# geo_green = gpd.GeoDataFrame(green_areas, geometry=gpd.points_from_xy(green_areas.POINT_X, green_areas.POINT_Y))\n",
        "# geo_green.crs = \"EPSG:3857\"\n",
        "# geo_green = geo_green.to_crs(epsg=3857)\n",
        "# fig = plt.figure(figsize=(16,9))\n",
        "# ax = plt.subplot()\n",
        "# geo_green.plot(color='r', alpha=.3, ax=ax)\n",
        "# ctx.add_basemap(ax = ax, source=ctx.providers.Stamen.Toner, zoom=13)"
      ],
      "execution_count": null,
      "outputs": []
    },
    {
      "cell_type": "code",
      "metadata": {
        "ExecuteTime": {
          "end_time": "2021-05-18T12:37:02.797205Z",
          "start_time": "2021-05-18T12:37:02.689606Z"
        },
        "colab": {
          "base_uri": "https://localhost:8080/",
          "height": 815,
          "referenced_widgets": [
            "b93805d95a304c09b462e27c71ab4671"
          ]
        },
        "id": "YpA2LIWmBav3",
        "outputId": "93950edc-b5b9-47bb-cf0f-5a97ab59e70d"
      },
      "source": [
        "from ipywidgets import interact, interactive, fixed, interact_manual, IntSlider\n",
        "def mapa(la):\n",
        "    m = folium.Map([40.16001, -8.68415], zoom_start=7)\n",
        "\n",
        "    # marker_cluster = MarkerCluster(name='greenspaces')\n",
        "\n",
        "    for c, row in res_green_areas.iterrows():\n",
        "        x = row.POINT_X\n",
        "        y = row.POINT_Y\n",
        "        tooltip = row.Green_Zone_name\n",
        "        radius = row.avg_rel_demand*300\n",
        "        folium.CircleMarker((y,x), \n",
        "                      tooltip=tooltip,\n",
        "                      popup=tooltip,\n",
        "                      radius=radius, \n",
        "                      fill=True,\n",
        "                      weight=0,\n",
        "                      fill_opacity=.4,\n",
        "                      fill_color='#FF0000'\n",
        "                      ).add_to(m)\n",
        "\n",
        "    # marker_cluster.add_to(m)\n",
        "    html = m._repr_html_()\n",
        "    width, height = (400,500) # width and height of the displayed iFrame, in pixels\n",
        "    srcdoc = html.replace('\"', '&quot;')\n",
        "    embed = HTML(f'<iframe srcdoc=\"{srcdoc}\" '\n",
        "                 f'style=\"width: {width}px; height: {height}px; display:block; width: 100%; margin: 0 auto; '\n",
        "                 f'border: none\"></iframe>')\n",
        "\n",
        "    return display(embed)\n",
        "\n",
        "# interact(mapa, la=IntSlider(min=5, max=21, step=1, value=8))"
      ],
      "execution_count": null,
      "outputs": [
        {
          "output_type": "display_data",
          "data": {
            "application/vnd.jupyter.widget-view+json": {
              "model_id": "b93805d95a304c09b462e27c71ab4671",
              "version_major": 2,
              "version_minor": 0
            },
            "text/plain": [
              "interactive(children=(IntSlider(value=8, description='la', max=21, min=5), Output()), _dom_classes=('widget-in…"
            ]
          },
          "metadata": {
            "tags": []
          }
        },
        {
          "output_type": "execute_result",
          "data": {
            "text/plain": [
              "<function __main__.mapa(la)>"
            ]
          },
          "metadata": {
            "tags": []
          },
          "execution_count": 42
        }
      ]
    },
    {
      "cell_type": "markdown",
      "metadata": {
        "id": "8lX9RRmpPjmu"
      },
      "source": [
        "**Interpretation**<br>\n",
        "It is visible that the most visited parks are very close to commercial centers and supermarkets. \n",
        "- JRD. CP. VINTE E QUATRO DE AGOSTO\n",
        "- JARDIM DO CAMPO PEQUENO"
      ]
    },
    {
      "cell_type": "markdown",
      "metadata": {
        "id": "PJhmBbfqMRdd"
      },
      "source": [
        "# OSM features"
      ]
    },
    {
      "cell_type": "code",
      "metadata": {
        "id": "STKtHXvat3V6"
      },
      "source": [
        "DRIVE = '/MyDrive/sisto'"
      ],
      "execution_count": 10,
      "outputs": []
    },
    {
      "cell_type": "code",
      "metadata": {
        "id": "XB9UMqaBsv80"
      },
      "source": [
        "%%bash\n",
        "wget https://download.bbbike.org/osm/extract/planet_-9.89,38.265_-8.309,39.136.osm.pbf \\\n",
        "    --quiet -O /content/drive/MyDrive/sisto/map_data/Lisbon.osm.pbf"
      ],
      "execution_count": 13,
      "outputs": []
    },
    {
      "cell_type": "code",
      "metadata": {
        "colab": {
          "base_uri": "https://localhost:8080/"
        },
        "id": "Iak8XCMTsv_p",
        "outputId": "7abaa279-55fb-4327-a3d7-3c9612f02acb"
      },
      "source": [
        "!ogrinfo /content/drive/MyDrive/sisto/map_data/Lisbon.osm.pbf"
      ],
      "execution_count": 14,
      "outputs": [
        {
          "output_type": "stream",
          "text": [
            "FAILURE:\n",
            "Unable to open datasource `/content/drive/MyDrive/sisto/map_data/Lisbon.osm.pbf' with the following drivers.\n",
            "  -> PCIDSK\n",
            "  -> netCDF\n",
            "  -> JP2OpenJPEG\n",
            "  -> PDF\n",
            "  -> ESRI Shapefile\n",
            "  -> MapInfo File\n",
            "  -> UK .NTF\n",
            "  -> OGR_SDTS\n",
            "  -> S57\n",
            "  -> DGN\n",
            "  -> OGR_VRT\n",
            "  -> REC\n",
            "  -> Memory\n",
            "  -> BNA\n",
            "  -> CSV\n",
            "  -> NAS\n",
            "  -> GML\n",
            "  -> GPX\n",
            "  -> LIBKML\n",
            "  -> KML\n",
            "  -> GeoJSON\n",
            "  -> Interlis 1\n",
            "  -> Interlis 2\n",
            "  -> OGR_GMT\n",
            "  -> GPKG\n",
            "  -> SQLite\n",
            "  -> OGR_DODS\n",
            "  -> ODBC\n",
            "  -> WAsP\n",
            "  -> PGeo\n",
            "  -> MSSQLSpatial\n",
            "  -> OGR_OGDI\n",
            "  -> PostgreSQL\n",
            "  -> MySQL\n",
            "  -> OpenFileGDB\n",
            "  -> XPlane\n",
            "  -> DXF\n",
            "  -> CAD\n",
            "  -> Geoconcept\n",
            "  -> GeoRSS\n",
            "  -> GPSTrackMaker\n",
            "  -> VFK\n",
            "  -> PGDUMP\n",
            "  -> OSM\n",
            "  -> GPSBabel\n",
            "  -> SUA\n",
            "  -> OpenAir\n",
            "  -> OGR_PDS\n",
            "  -> WFS\n",
            "  -> SOSI\n",
            "  -> HTF\n",
            "  -> AeronavFAA\n",
            "  -> Geomedia\n",
            "  -> EDIGEO\n",
            "  -> GFT\n",
            "  -> SVG\n",
            "  -> CouchDB\n",
            "  -> Cloudant\n",
            "  -> Idrisi\n",
            "  -> ARCGEN\n",
            "  -> SEGUKOOA\n",
            "  -> SEGY\n",
            "  -> XLS\n",
            "  -> ODS\n",
            "  -> XLSX\n",
            "  -> ElasticSearch\n",
            "  -> Walk\n",
            "  -> Carto\n",
            "  -> AmigoCloud\n",
            "  -> SXF\n",
            "  -> Selafin\n",
            "  -> JML\n",
            "  -> PLSCENES\n",
            "  -> CSW\n",
            "  -> VDV\n",
            "  -> GMLAS\n",
            "  -> TIGER\n",
            "  -> AVCBin\n",
            "  -> AVCE00\n",
            "  -> HTTP\n"
          ],
          "name": "stdout"
        }
      ]
    },
    {
      "cell_type": "code",
      "metadata": {
        "id": "dfQ0Xn-sswCa"
      },
      "source": [
        ""
      ],
      "execution_count": null,
      "outputs": []
    },
    {
      "cell_type": "code",
      "metadata": {
        "id": "XVnl0zhUswE7"
      },
      "source": [
        ""
      ],
      "execution_count": null,
      "outputs": []
    },
    {
      "cell_type": "code",
      "metadata": {
        "id": "QIHnN34aswHd"
      },
      "source": [
        ""
      ],
      "execution_count": null,
      "outputs": []
    },
    {
      "cell_type": "code",
      "metadata": {
        "id": "CqPygS_T8yg8"
      },
      "source": [
        "# focus on residents (the data suggests that we should look there)\n",
        "## non residential factors could be blowing the scope (touristic influences)\n",
        "\n",
        "'''\n",
        "- bus stops\n",
        "- cafes/restaurants\n",
        "- supermarkets/shops\n",
        "- amount of park benches\n",
        "- trash bins\n",
        "- big streets\n",
        "- dog areas\n",
        "- dog ownership in the sorrounding\n",
        "- skate park / sport activities\n",
        "- amount of trees\n",
        "'''"
      ],
      "execution_count": null,
      "outputs": []
    },
    {
      "cell_type": "markdown",
      "metadata": {
        "id": "fldYubBBUaJY"
      },
      "source": [
        "- Split data set for old and young ppl\n",
        "  - not all old ppl want skate parks\n",
        "  "
      ]
    },
    {
      "cell_type": "code",
      "metadata": {
        "id": "I5WJgw0JJir5"
      },
      "source": [
        ""
      ],
      "execution_count": null,
      "outputs": []
    }
  ]
}