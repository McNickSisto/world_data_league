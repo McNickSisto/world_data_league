{
 "cells": [
  {
   "cell_type": "markdown",
   "metadata": {
    "id": "TEK41IvMvQPg"
   },
   "source": [
    "# Data Part"
   ]
  },
  {
   "cell_type": "code",
   "execution_count": 1,
   "metadata": {
    "colab": {
     "base_uri": "https://localhost:8080/"
    },
    "id": "dxcLIMl_u_QF",
    "outputId": "1fa3897f-32c2-4b28-9088-944238159648"
   },
   "outputs": [
    {
     "name": "stdout",
     "output_type": "stream",
     "text": [
      "Reading package lists... Done\n",
      "Building dependency tree       \n",
      "Reading state information... Done\n",
      "gdal-bin is already the newest version (2.2.3+dfsg-2).\n",
      "python-gdal is already the newest version (2.2.3+dfsg-2).\n",
      "The following package was automatically installed and is no longer required:\n",
      "  libnvidia-common-460\n",
      "Use 'apt autoremove' to remove it.\n",
      "The following additional packages will be installed:\n",
      "  python3-numpy\n",
      "Suggested packages:\n",
      "  python-numpy-doc python3-nose python3-numpy-dbg\n",
      "The following NEW packages will be installed:\n",
      "  python3-gdal python3-numpy\n",
      "0 upgraded, 2 newly installed, 0 to remove and 34 not upgraded.\n",
      "Need to get 2,288 kB of archives.\n",
      "After this operation, 13.2 MB of additional disk space will be used.\n",
      "Get:1 http://archive.ubuntu.com/ubuntu bionic/main amd64 python3-numpy amd64 1:1.13.3-2ubuntu1 [1,943 kB]\n",
      "Get:2 http://archive.ubuntu.com/ubuntu bionic/universe amd64 python3-gdal amd64 2.2.3+dfsg-2 [346 kB]\n",
      "Fetched 2,288 kB in 1s (2,338 kB/s)\n",
      "Selecting previously unselected package python3-numpy.\n",
      "(Reading database ... 160706 files and directories currently installed.)\n",
      "Preparing to unpack .../python3-numpy_1%3a1.13.3-2ubuntu1_amd64.deb ...\n",
      "Unpacking python3-numpy (1:1.13.3-2ubuntu1) ...\n",
      "Selecting previously unselected package python3-gdal.\n",
      "Preparing to unpack .../python3-gdal_2.2.3+dfsg-2_amd64.deb ...\n",
      "Unpacking python3-gdal (2.2.3+dfsg-2) ...\n",
      "Setting up python3-numpy (1:1.13.3-2ubuntu1) ...\n",
      "Setting up python3-gdal (2.2.3+dfsg-2) ...\n",
      "Processing triggers for man-db (2.8.3-2ubuntu0.1) ...\n",
      "Reading package lists... Done\n",
      "Building dependency tree       \n",
      "Reading state information... Done\n",
      "The following package was automatically installed and is no longer required:\n",
      "  libnvidia-common-460\n",
      "Use 'apt autoremove' to remove it.\n",
      "The following additional packages will be installed:\n",
      "  libspatialindex-c4v5 libspatialindex-dev libspatialindex4v5\n",
      "  python3-pkg-resources\n",
      "Suggested packages:\n",
      "  python3-setuptools\n",
      "The following NEW packages will be installed:\n",
      "  libspatialindex-c4v5 libspatialindex-dev libspatialindex4v5\n",
      "  python3-pkg-resources python3-rtree\n",
      "0 upgraded, 5 newly installed, 0 to remove and 34 not upgraded.\n",
      "Need to get 671 kB of archives.\n",
      "After this operation, 3,948 kB of additional disk space will be used.\n",
      "Get:1 http://archive.ubuntu.com/ubuntu bionic/universe amd64 libspatialindex4v5 amd64 1.8.5-5 [219 kB]\n",
      "Get:2 http://archive.ubuntu.com/ubuntu bionic/universe amd64 libspatialindex-c4v5 amd64 1.8.5-5 [51.7 kB]\n",
      "Get:3 http://archive.ubuntu.com/ubuntu bionic/main amd64 python3-pkg-resources all 39.0.1-2 [98.8 kB]\n",
      "Get:4 http://archive.ubuntu.com/ubuntu bionic/universe amd64 libspatialindex-dev amd64 1.8.5-5 [285 kB]\n",
      "Get:5 http://archive.ubuntu.com/ubuntu bionic/universe amd64 python3-rtree all 0.8.3+ds-1 [16.9 kB]\n",
      "Fetched 671 kB in 1s (832 kB/s)\n",
      "Selecting previously unselected package libspatialindex4v5:amd64.\n",
      "(Reading database ... 161116 files and directories currently installed.)\n",
      "Preparing to unpack .../libspatialindex4v5_1.8.5-5_amd64.deb ...\n",
      "Unpacking libspatialindex4v5:amd64 (1.8.5-5) ...\n",
      "Selecting previously unselected package libspatialindex-c4v5:amd64.\n",
      "Preparing to unpack .../libspatialindex-c4v5_1.8.5-5_amd64.deb ...\n",
      "Unpacking libspatialindex-c4v5:amd64 (1.8.5-5) ...\n",
      "Selecting previously unselected package python3-pkg-resources.\n",
      "Preparing to unpack .../python3-pkg-resources_39.0.1-2_all.deb ...\n",
      "Unpacking python3-pkg-resources (39.0.1-2) ...\n",
      "Selecting previously unselected package libspatialindex-dev:amd64.\n",
      "Preparing to unpack .../libspatialindex-dev_1.8.5-5_amd64.deb ...\n",
      "Unpacking libspatialindex-dev:amd64 (1.8.5-5) ...\n",
      "Selecting previously unselected package python3-rtree.\n",
      "Preparing to unpack .../python3-rtree_0.8.3+ds-1_all.deb ...\n",
      "Unpacking python3-rtree (0.8.3+ds-1) ...\n",
      "Setting up libspatialindex4v5:amd64 (1.8.5-5) ...\n",
      "Setting up python3-pkg-resources (39.0.1-2) ...\n",
      "Setting up libspatialindex-c4v5:amd64 (1.8.5-5) ...\n",
      "Setting up libspatialindex-dev:amd64 (1.8.5-5) ...\n",
      "Setting up python3-rtree (0.8.3+ds-1) ...\n",
      "Processing triggers for libc-bin (2.27-3ubuntu1.2) ...\n",
      "/sbin/ldconfig.real: /usr/local/lib/python3.7/dist-packages/ideep4py/lib/libmkldnn.so.0 is not a symbolic link\n",
      "\n",
      "Collecting git+git://github.com/geopandas/geopandas.git\n",
      "  Cloning git://github.com/geopandas/geopandas.git to /tmp/pip-req-build-hr8dz5ji\n",
      "  Running command git clone -q git://github.com/geopandas/geopandas.git /tmp/pip-req-build-hr8dz5ji\n",
      "Requirement already satisfied: pandas>=0.24.0 in /usr/local/lib/python3.7/dist-packages (from geopandas==0.9.0+25.gdd2ed8e) (1.1.5)\n",
      "Requirement already satisfied: shapely>=1.6 in /usr/local/lib/python3.7/dist-packages (from geopandas==0.9.0+25.gdd2ed8e) (1.7.1)\n",
      "Collecting fiona>=1.8\n",
      "\u001b[?25l  Downloading https://files.pythonhosted.org/packages/ea/2a/404b22883298a3efe9c6ef8d67acbf2c38443fa366ee9cd4cd34e17626ea/Fiona-1.8.19-cp37-cp37m-manylinux1_x86_64.whl (15.3MB)\n",
      "\u001b[K     |████████████████████████████████| 15.3MB 275kB/s \n",
      "\u001b[?25hCollecting pyproj>=2.2.0\n",
      "\u001b[?25l  Downloading https://files.pythonhosted.org/packages/11/1d/1c54c672c2faf08d28fe78e15d664c048f786225bef95ad87b6c435cf69e/pyproj-3.1.0-cp37-cp37m-manylinux2010_x86_64.whl (6.6MB)\n",
      "\u001b[K     |████████████████████████████████| 6.6MB 36.9MB/s \n",
      "\u001b[?25hRequirement already satisfied: pytz>=2017.2 in /usr/local/lib/python3.7/dist-packages (from pandas>=0.24.0->geopandas==0.9.0+25.gdd2ed8e) (2018.9)\n",
      "Requirement already satisfied: python-dateutil>=2.7.3 in /usr/local/lib/python3.7/dist-packages (from pandas>=0.24.0->geopandas==0.9.0+25.gdd2ed8e) (2.8.1)\n",
      "Requirement already satisfied: numpy>=1.15.4 in /usr/local/lib/python3.7/dist-packages (from pandas>=0.24.0->geopandas==0.9.0+25.gdd2ed8e) (1.19.5)\n",
      "Collecting munch\n",
      "  Downloading https://files.pythonhosted.org/packages/cc/ab/85d8da5c9a45e072301beb37ad7f833cd344e04c817d97e0cc75681d248f/munch-2.5.0-py2.py3-none-any.whl\n",
      "Collecting cligj>=0.5\n",
      "  Downloading https://files.pythonhosted.org/packages/42/1e/947eadf10d6804bf276eb8a038bd5307996dceaaa41cfd21b7a15ec62f5d/cligj-0.7.1-py3-none-any.whl\n",
      "Collecting click-plugins>=1.0\n",
      "  Downloading https://files.pythonhosted.org/packages/e9/da/824b92d9942f4e472702488857914bdd50f73021efea15b4cad9aca8ecef/click_plugins-1.1.1-py2.py3-none-any.whl\n",
      "Requirement already satisfied: click<8,>=4.0 in /usr/local/lib/python3.7/dist-packages (from fiona>=1.8->geopandas==0.9.0+25.gdd2ed8e) (7.1.2)\n",
      "Requirement already satisfied: certifi in /usr/local/lib/python3.7/dist-packages (from fiona>=1.8->geopandas==0.9.0+25.gdd2ed8e) (2020.12.5)\n",
      "Requirement already satisfied: six>=1.7 in /usr/local/lib/python3.7/dist-packages (from fiona>=1.8->geopandas==0.9.0+25.gdd2ed8e) (1.15.0)\n",
      "Requirement already satisfied: attrs>=17 in /usr/local/lib/python3.7/dist-packages (from fiona>=1.8->geopandas==0.9.0+25.gdd2ed8e) (21.2.0)\n",
      "Building wheels for collected packages: geopandas\n",
      "  Building wheel for geopandas (setup.py) ... \u001b[?25l\u001b[?25hdone\n",
      "  Created wheel for geopandas: filename=geopandas-0.9.0+25.gdd2ed8e-py2.py3-none-any.whl size=995296 sha256=a9adbb22f9c3ac930ddc8bdb67a1b6f9a49ad37dec7d8a284c4b4a20da14d113\n",
      "  Stored in directory: /tmp/pip-ephem-wheel-cache-79orxfig/wheels/91/24/71/376c9c67192694168352afcccc2d264248f7e2cc6192997186\n",
      "Successfully built geopandas\n",
      "Installing collected packages: munch, cligj, click-plugins, fiona, pyproj, geopandas\n",
      "Successfully installed click-plugins-1.1.1 cligj-0.7.1 fiona-1.8.19 geopandas-0.9.0+25.gdd2ed8e munch-2.5.0 pyproj-3.1.0\n",
      "Requirement already satisfied: descartes in /usr/local/lib/python3.7/dist-packages (1.1.0)\n",
      "Requirement already satisfied: matplotlib in /usr/local/lib/python3.7/dist-packages (from descartes) (3.2.2)\n",
      "Requirement already satisfied: kiwisolver>=1.0.1 in /usr/local/lib/python3.7/dist-packages (from matplotlib->descartes) (1.3.1)\n",
      "Requirement already satisfied: pyparsing!=2.0.4,!=2.1.2,!=2.1.6,>=2.0.1 in /usr/local/lib/python3.7/dist-packages (from matplotlib->descartes) (2.4.7)\n",
      "Requirement already satisfied: python-dateutil>=2.1 in /usr/local/lib/python3.7/dist-packages (from matplotlib->descartes) (2.8.1)\n",
      "Requirement already satisfied: numpy>=1.11 in /usr/local/lib/python3.7/dist-packages (from matplotlib->descartes) (1.19.5)\n",
      "Requirement already satisfied: cycler>=0.10 in /usr/local/lib/python3.7/dist-packages (from matplotlib->descartes) (0.10.0)\n",
      "Requirement already satisfied: six>=1.5 in /usr/local/lib/python3.7/dist-packages (from python-dateutil>=2.1->matplotlib->descartes) (1.15.0)\n",
      "Requirement already satisfied: folium in /usr/local/lib/python3.7/dist-packages (0.8.3)\n",
      "Requirement already satisfied: jinja2 in /usr/local/lib/python3.7/dist-packages (from folium) (2.11.3)\n",
      "Requirement already satisfied: branca>=0.3.0 in /usr/local/lib/python3.7/dist-packages (from folium) (0.4.2)\n",
      "Requirement already satisfied: numpy in /usr/local/lib/python3.7/dist-packages (from folium) (1.19.5)\n",
      "Requirement already satisfied: requests in /usr/local/lib/python3.7/dist-packages (from folium) (2.23.0)\n",
      "Requirement already satisfied: six in /usr/local/lib/python3.7/dist-packages (from folium) (1.15.0)\n",
      "Requirement already satisfied: MarkupSafe>=0.23 in /usr/local/lib/python3.7/dist-packages (from jinja2->folium) (2.0.1)\n",
      "Requirement already satisfied: idna<3,>=2.5 in /usr/local/lib/python3.7/dist-packages (from requests->folium) (2.10)\n",
      "Requirement already satisfied: certifi>=2017.4.17 in /usr/local/lib/python3.7/dist-packages (from requests->folium) (2020.12.5)\n",
      "Requirement already satisfied: chardet<4,>=3.0.2 in /usr/local/lib/python3.7/dist-packages (from requests->folium) (3.0.4)\n",
      "Requirement already satisfied: urllib3!=1.25.0,!=1.25.1,<1.26,>=1.21.1 in /usr/local/lib/python3.7/dist-packages (from requests->folium) (1.24.3)\n",
      "Collecting plotly_express\n",
      "  Downloading https://files.pythonhosted.org/packages/d4/d6/8a2906f51e073a4be80cab35cfa10e7a34853e60f3ed5304ac470852a08d/plotly_express-0.4.1-py2.py3-none-any.whl\n",
      "Requirement already satisfied: pandas>=0.20.0 in /usr/local/lib/python3.7/dist-packages (from plotly_express) (1.1.5)\n",
      "Requirement already satisfied: statsmodels>=0.9.0 in /usr/local/lib/python3.7/dist-packages (from plotly_express) (0.10.2)\n",
      "Requirement already satisfied: numpy>=1.11 in /usr/local/lib/python3.7/dist-packages (from plotly_express) (1.19.5)\n",
      "Requirement already satisfied: scipy>=0.18 in /usr/local/lib/python3.7/dist-packages (from plotly_express) (1.4.1)\n",
      "Requirement already satisfied: patsy>=0.5 in /usr/local/lib/python3.7/dist-packages (from plotly_express) (0.5.1)\n",
      "Requirement already satisfied: plotly>=4.1.0 in /usr/local/lib/python3.7/dist-packages (from plotly_express) (4.4.1)\n",
      "Requirement already satisfied: python-dateutil>=2.7.3 in /usr/local/lib/python3.7/dist-packages (from pandas>=0.20.0->plotly_express) (2.8.1)\n",
      "Requirement already satisfied: pytz>=2017.2 in /usr/local/lib/python3.7/dist-packages (from pandas>=0.20.0->plotly_express) (2018.9)\n",
      "Requirement already satisfied: six in /usr/local/lib/python3.7/dist-packages (from patsy>=0.5->plotly_express) (1.15.0)\n",
      "Requirement already satisfied: retrying>=1.3.3 in /usr/local/lib/python3.7/dist-packages (from plotly>=4.1.0->plotly_express) (1.3.3)\n",
      "Installing collected packages: plotly-express\n",
      "Successfully installed plotly-express-0.4.1\n",
      "CPU times: user 501 ms, sys: 116 ms, total: 617 ms\n",
      "Wall time: 43.6 s\n"
     ]
    }
   ],
   "source": [
    "%%time \n",
    "\n",
    "# Important library for many geopython libraries\n",
    "!apt install gdal-bin python-gdal python3-gdal \n",
    "# Install rtree - Geopandas requirment\n",
    "!apt install python3-rtree \n",
    "# Install Geopandas\n",
    "!pip install git+git://github.com/geopandas/geopandas.git\n",
    "# Install descartes - Geopandas requirment\n",
    "!pip install descartes \n",
    "# Install Folium for Geographic data visualization\n",
    "!pip install folium\n",
    "# Install plotlyExpress\n",
    "!pip install plotly_express"
   ]
  },
  {
   "cell_type": "code",
   "execution_count": 2,
   "metadata": {
    "id": "Cjc8MI2jvN7G"
   },
   "outputs": [],
   "source": [
    "import pandas as pd\n",
    "import numpy as np\n",
    "import geopandas as gpd\n",
    "from shapely.geometry import Point\n",
    "import matplotlib\n",
    "import matplotlib.pyplot as plt \n",
    "import folium\n",
    "import plotly_express as px\n",
    "import seaborn as sns"
   ]
  },
  {
   "cell_type": "code",
   "execution_count": 3,
   "metadata": {
    "id": "1ZzhkSjCvbu3"
   },
   "outputs": [],
   "source": [
    "parish_data=gpd.read_file('/content/parks_parishes.geojson')\n",
    "parish_poly=parish_data[['Green_Zone_name','Dicofre','geometry']]\n",
    "green_areas = pd.read_csv('https://raw.githubusercontent.com/SowmyaMadala/WDL-Stage4/main/Data/Attracting%20Population/WDL_Green_Areas_Dataset_V1.txt' ,sep =\"|\", encoding =\"latin-1\").rename(columns = {'Number of Museums in influence area' : 'no_of_museums',\n",
    "                                                                                                                                  'Number of parking lots in influence area' : 'no_of_parking_lots',\n",
    "                                                                                                                                   'Number of tourist attractions in influence area': 'no_of_tourist_attractions', \n",
    "                                                                                                                                   'Green Zones Daily Average Demand':'gz_daily_avg_demand',\n",
    "                                                                                                                                    'Daily average of people in influence area': 'daily_avg_people',\n",
    "                                                                                                                                    'Number of buildings in influence area' : 'no_of_buildings',\n",
    "                                                                                                                                    'Number of families in influence area': 'no_of_families',\n",
    "                                                                                                                                    'Number of people resident in influence area' : 'no_of_people_resident'})\n",
    "resident  = green_areas.loc[green_areas['Resident']==1]\n",
    "resident = resident.rename(columns= {'daily_avg_people': 'daily_avg_people_resident'})\n",
    "non_resident  = green_areas.loc[green_areas['Resident']==0]\n",
    "non_resident = non_resident.rename(columns= {'daily_avg_people': 'daily_avg_people_non_resident'})\n",
    "combined_data = pd.merge(resident, non_resident[['Green_Zone_name', 'daily_avg_people_non_resident']], how = \"inner\", on = ['Green_Zone_name']).drop(columns=['Resident'])\n",
    "total_avg_people=combined_data['daily_avg_people_non_resident']+combined_data['daily_avg_people_resident']\n",
    "combined_data['total_daily_avg_people']=total_avg_people\n",
    "gz_daily_demand_resident=(combined_data['daily_avg_people_resident']/combined_data['total_daily_avg_people'])*combined_data['gz_daily_avg_demand']\n",
    "combined_data['gz_daily_avg_demand_res']=gz_daily_demand_resident\n",
    "combined_data=pd.merge(left=combined_data,right=parish_poly,how='inner',on='Green_Zone_name')\n",
    "socio_data=pd.read_csv('https://raw.githubusercontent.com/SowmyaMadala/WDL-Stage4/main/merged_2020.csv')"
   ]
  },
  {
   "cell_type": "code",
   "execution_count": 4,
   "metadata": {
    "colab": {
     "base_uri": "https://localhost:8080/",
     "height": 264
    },
    "id": "JaNTQI_IwMtE",
    "outputId": "37c06410-478c-4c68-a899-37a969e62656"
   },
   "outputs": [
    {
     "data": {
      "text/html": [
       "<div>\n",
       "<style scoped>\n",
       "    .dataframe tbody tr th:only-of-type {\n",
       "        vertical-align: middle;\n",
       "    }\n",
       "\n",
       "    .dataframe tbody tr th {\n",
       "        vertical-align: top;\n",
       "    }\n",
       "\n",
       "    .dataframe thead th {\n",
       "        text-align: right;\n",
       "    }\n",
       "</style>\n",
       "<table border=\"1\" class=\"dataframe\">\n",
       "  <thead>\n",
       "    <tr style=\"text-align: right;\">\n",
       "      <th></th>\n",
       "      <th>Green_Zone_name</th>\n",
       "      <th>no_of_museums</th>\n",
       "      <th>no_of_parking_lots</th>\n",
       "      <th>no_of_tourist_attractions</th>\n",
       "      <th>gz_daily_avg_demand</th>\n",
       "      <th>daily_avg_people_resident</th>\n",
       "      <th>no_of_buildings</th>\n",
       "      <th>no_of_families</th>\n",
       "      <th>no_of_people_resident</th>\n",
       "      <th>perc_senior_pop</th>\n",
       "      <th>perc_pop_until_19_yo</th>\n",
       "      <th>POINT_X</th>\n",
       "      <th>POINT_Y</th>\n",
       "      <th>daily_avg_people_non_resident</th>\n",
       "      <th>total_daily_avg_people</th>\n",
       "      <th>gz_daily_avg_demand_res</th>\n",
       "      <th>Dicofre</th>\n",
       "      <th>geometry</th>\n",
       "      <th>ParishCode</th>\n",
       "      <th>Parish</th>\n",
       "      <th>MF</th>\n",
       "      <th>M</th>\n",
       "      <th>F</th>\n",
       "      <th>MedianRent_per_m2</th>\n",
       "      <th>Area(Km2)</th>\n",
       "      <th>Average_monthly_rental_charges</th>\n",
       "    </tr>\n",
       "  </thead>\n",
       "  <tbody>\n",
       "    <tr>\n",
       "      <th>0</th>\n",
       "      <td>ESPAÇO JOGO E RECREIO HOMEM DO LEME</td>\n",
       "      <td>5</td>\n",
       "      <td>28</td>\n",
       "      <td>30</td>\n",
       "      <td>3.728677</td>\n",
       "      <td>17780.803014</td>\n",
       "      <td>4783</td>\n",
       "      <td>15352</td>\n",
       "      <td>38012</td>\n",
       "      <td>0.195123</td>\n",
       "      <td>0.196017</td>\n",
       "      <td>-8.68415</td>\n",
       "      <td>41.16001</td>\n",
       "      <td>45787.629298</td>\n",
       "      <td>63568.432312</td>\n",
       "      <td>1.042953</td>\n",
       "      <td>131216</td>\n",
       "      <td>POLYGON ((-8.68544 41.16198, -8.68570 41.16189...</td>\n",
       "      <td>131216</td>\n",
       "      <td>União das freguesias de Aldoar, Foz do Douro e...</td>\n",
       "      <td>244</td>\n",
       "      <td>118</td>\n",
       "      <td>126</td>\n",
       "      <td>9.03</td>\n",
       "      <td>6.27</td>\n",
       "      <td>387.96</td>\n",
       "    </tr>\n",
       "    <tr>\n",
       "      <th>1</th>\n",
       "      <td>JARDIM AFONSO DE ALBUQUERQUE</td>\n",
       "      <td>93</td>\n",
       "      <td>129</td>\n",
       "      <td>78</td>\n",
       "      <td>10.259113</td>\n",
       "      <td>17497.825376</td>\n",
       "      <td>1775</td>\n",
       "      <td>17185</td>\n",
       "      <td>41163</td>\n",
       "      <td>0.161747</td>\n",
       "      <td>0.204917</td>\n",
       "      <td>-9.19949</td>\n",
       "      <td>38.69674</td>\n",
       "      <td>42877.741202</td>\n",
       "      <td>60375.566578</td>\n",
       "      <td>2.973259</td>\n",
       "      <td>110658</td>\n",
       "      <td>POLYGON ((-9.20107 38.69706, -9.19972 38.69729...</td>\n",
       "      <td>110658</td>\n",
       "      <td>Belém</td>\n",
       "      <td>173</td>\n",
       "      <td>91</td>\n",
       "      <td>82</td>\n",
       "      <td>11.21</td>\n",
       "      <td>7.12</td>\n",
       "      <td>431.90</td>\n",
       "    </tr>\n",
       "  </tbody>\n",
       "</table>\n",
       "</div>"
      ],
      "text/plain": [
       "                       Green_Zone_name  ...  Average_monthly_rental_charges\n",
       "0  ESPAÇO JOGO E RECREIO HOMEM DO LEME  ...                          387.96\n",
       "1         JARDIM AFONSO DE ALBUQUERQUE  ...                          431.90\n",
       "\n",
       "[2 rows x 26 columns]"
      ]
     },
     "execution_count": 4,
     "metadata": {
      "tags": []
     },
     "output_type": "execute_result"
    }
   ],
   "source": [
    "combined_data['Dicofre'] = combined_data.Dicofre.astype(int)\n",
    "merged=pd.merge(left=combined_data,right=socio_data,how='inner',left_on='Dicofre',right_on='ParishCode')\n",
    "merged.head(2)"
   ]
  },
  {
   "cell_type": "code",
   "execution_count": 6,
   "metadata": {
    "id": "ZoWBFQiUwkg5"
   },
   "outputs": [],
   "source": [
    "#f, ax = plt.subplots(figsize=(20, 20))\n",
    "corr_mat=merged.corr()\n",
    "#sns.heatmap(corr_mat,annot=True)\n",
    "#plt.show()"
   ]
  },
  {
   "cell_type": "code",
   "execution_count": 7,
   "metadata": {
    "colab": {
     "base_uri": "https://localhost:8080/"
    },
    "id": "VMafhkLowzqZ",
    "outputId": "a8534be6-6c80-49db-edf9-d4d87d9aa410"
   },
   "outputs": [
    {
     "data": {
      "text/plain": [
       "gz_daily_avg_demand_res           1.000000\n",
       "gz_daily_avg_demand               0.838656\n",
       "perc_pop_until_19_yo              0.193711\n",
       "no_of_museums                     0.191531\n",
       "no_of_parking_lots                0.141607\n",
       "no_of_tourist_attractions         0.117483\n",
       "POINT_X                           0.088850\n",
       "Average_monthly_rental_charges    0.079055\n",
       "POINT_Y                           0.076456\n",
       "Dicofre                           0.075378\n",
       "ParishCode                        0.075378\n",
       "no_of_buildings                   0.015653\n",
       "MedianRent_per_m2                 0.001857\n",
       "M                                -0.001206\n",
       "MF                               -0.004031\n",
       "F                                -0.006730\n",
       "daily_avg_people_resident        -0.035889\n",
       "Area(Km2)                        -0.124422\n",
       "total_daily_avg_people           -0.141815\n",
       "daily_avg_people_non_resident    -0.154157\n",
       "no_of_people_resident            -0.160842\n",
       "perc_senior_pop                  -0.165820\n",
       "no_of_families                   -0.171329\n",
       "Name: gz_daily_avg_demand_res, dtype: float64"
      ]
     },
     "execution_count": 7,
     "metadata": {
      "tags": []
     },
     "output_type": "execute_result"
    }
   ],
   "source": [
    "corr_mat['gz_daily_avg_demand_res'].sort_values(ascending=False)"
   ]
  },
  {
   "cell_type": "markdown",
   "metadata": {
    "id": "M5jofW0HxBWQ"
   },
   "source": [
    "It is found that among all the attributes green space demand is mostly correlated to perc_pop_until_19_yo, no_of_museums, no_of_parking_lots, no_of_tourist_attractions.\n",
    "So let's try building a model that helps in predicting the green space based on these attributes"
   ]
  },
  {
   "cell_type": "code",
   "execution_count": 8,
   "metadata": {
    "colab": {
     "base_uri": "https://localhost:8080/",
     "height": 167
    },
    "id": "Nl3ZUnIQtzoY",
    "outputId": "d212163b-742f-4c60-a5de-05248825707c"
   },
   "outputs": [
    {
     "data": {
      "text/html": [
       "<div>\n",
       "<style scoped>\n",
       "    .dataframe tbody tr th:only-of-type {\n",
       "        vertical-align: middle;\n",
       "    }\n",
       "\n",
       "    .dataframe tbody tr th {\n",
       "        vertical-align: top;\n",
       "    }\n",
       "\n",
       "    .dataframe thead th {\n",
       "        text-align: right;\n",
       "    }\n",
       "</style>\n",
       "<table border=\"1\" class=\"dataframe\">\n",
       "  <thead>\n",
       "    <tr style=\"text-align: right;\">\n",
       "      <th></th>\n",
       "      <th>no_of_tourist_attractions</th>\n",
       "      <th>perc_pop_until_19_yo</th>\n",
       "      <th>no_of_museums</th>\n",
       "      <th>no_of_parking_lots</th>\n",
       "      <th>gz_daily_avg_demand_res</th>\n",
       "    </tr>\n",
       "  </thead>\n",
       "  <tbody>\n",
       "    <tr>\n",
       "      <th>0</th>\n",
       "      <td>30</td>\n",
       "      <td>0.196017</td>\n",
       "      <td>5</td>\n",
       "      <td>28</td>\n",
       "      <td>1.042953</td>\n",
       "    </tr>\n",
       "    <tr>\n",
       "      <th>1</th>\n",
       "      <td>78</td>\n",
       "      <td>0.204917</td>\n",
       "      <td>93</td>\n",
       "      <td>129</td>\n",
       "      <td>2.973259</td>\n",
       "    </tr>\n",
       "    <tr>\n",
       "      <th>2</th>\n",
       "      <td>4</td>\n",
       "      <td>0.204917</td>\n",
       "      <td>8</td>\n",
       "      <td>23</td>\n",
       "      <td>13.722170</td>\n",
       "    </tr>\n",
       "    <tr>\n",
       "      <th>3</th>\n",
       "      <td>93</td>\n",
       "      <td>0.252080</td>\n",
       "      <td>107</td>\n",
       "      <td>191</td>\n",
       "      <td>201.023191</td>\n",
       "    </tr>\n",
       "  </tbody>\n",
       "</table>\n",
       "</div>"
      ],
      "text/plain": [
       "   no_of_tourist_attractions  ...  gz_daily_avg_demand_res\n",
       "0                         30  ...                 1.042953\n",
       "1                         78  ...                 2.973259\n",
       "2                          4  ...                13.722170\n",
       "3                         93  ...               201.023191\n",
       "\n",
       "[4 rows x 5 columns]"
      ]
     },
     "execution_count": 8,
     "metadata": {
      "tags": []
     },
     "output_type": "execute_result"
    }
   ],
   "source": [
    "reg_data=merged[['no_of_tourist_attractions','perc_pop_until_19_yo','no_of_museums','no_of_parking_lots','gz_daily_avg_demand_res']]\n",
    "reg_data.head(4)"
   ]
  },
  {
   "cell_type": "markdown",
   "metadata": {
    "id": "oydTUol84MaA"
   },
   "source": [
    "# Models"
   ]
  },
  {
   "cell_type": "code",
   "execution_count": 33,
   "metadata": {
    "id": "vbc7I5eyyVNe"
   },
   "outputs": [],
   "source": [
    "from sklearn.model_selection import train_test_split\n",
    "from sklearn.metrics import mean_squared_error, r2_score\n",
    "X=reg_data.drop(columns='gz_daily_avg_demand_res')\n",
    "y=reg_data['gz_daily_avg_demand_res']"
   ]
  },
  {
   "cell_type": "code",
   "execution_count": 10,
   "metadata": {
    "id": "QIGNuHF8y8bT"
   },
   "outputs": [],
   "source": [
    "X_train, X_test, y_train, y_test = train_test_split(X, y, test_size=0.2, random_state=123)"
   ]
  },
  {
   "cell_type": "markdown",
   "metadata": {
    "id": "U1CnzZbazn4K"
   },
   "source": [
    "**Standardisation:**\n",
    "\n",
    "All features are numeric so we do not need to worry about converting categorical data with techniques such as one-hot encoding. Standardisation rescales our attributes so they have a mean of 0 and standard deviation of 1. It assumes that the distribution is Gaussian (it works better if it is), alternatively normalisation can be used to rescale between the range of 0 and 1"
   ]
  },
  {
   "cell_type": "code",
   "execution_count": 11,
   "metadata": {
    "id": "aLYJKMHnznIY"
   },
   "outputs": [],
   "source": [
    "from sklearn.preprocessing import StandardScaler\n",
    "scaler = StandardScaler()\n",
    "train_scaled = scaler.fit_transform(X_train)\n",
    "test_scaled = scaler.transform(X_test)"
   ]
  },
  {
   "cell_type": "markdown",
   "metadata": {
    "id": "5tatbJcSz8QU"
   },
   "source": [
    "**Linear Regression**"
   ]
  },
  {
   "cell_type": "code",
   "execution_count": 12,
   "metadata": {
    "colab": {
     "base_uri": "https://localhost:8080/"
    },
    "id": "tKg9GHaX0B4y",
    "outputId": "64ffc0a3-1bbb-48c7-d638-53e0a356ba82"
   },
   "outputs": [
    {
     "data": {
      "text/plain": [
       "LinearRegression(copy_X=True, fit_intercept=True, n_jobs=None, normalize=False)"
      ]
     },
     "execution_count": 12,
     "metadata": {
      "tags": []
     },
     "output_type": "execute_result"
    }
   ],
   "source": [
    "from sklearn.linear_model import LinearRegression\n",
    "model1 = LinearRegression()\n",
    "model1.fit(train_scaled, y_train)"
   ]
  },
  {
   "cell_type": "code",
   "execution_count": 13,
   "metadata": {
    "colab": {
     "base_uri": "https://localhost:8080/"
    },
    "id": "0mOGB95H0UHw",
    "outputId": "d95dea95-ed2b-40a0-a2bb-c225098b4576"
   },
   "outputs": [
    {
     "name": "stdout",
     "output_type": "stream",
     "text": [
      "mse =  28624.371743932756  & mae =  89.32144986671192  & rmse =  169.18738647999962\n"
     ]
    }
   ],
   "source": [
    "from sklearn.metrics import mean_squared_error\n",
    "from sklearn.metrics import mean_absolute_error\n",
    "from math import sqrt\n",
    "mse = mean_squared_error(y_train, model1.predict(train_scaled))\n",
    "mae = mean_absolute_error(y_train, model1.predict(train_scaled))\n",
    "print(\"mse = \",mse,\" & mae = \",mae,\" & rmse = \", sqrt(mse))"
   ]
  },
  {
   "cell_type": "markdown",
   "metadata": {
    "id": "IN3sp5r50nRz"
   },
   "source": [
    "The easier metric to understand is the mean absolute error, this means that on average our prediction was 89.3 away from the true prediction. Mean squared error, and consequently root mean squared error (RMSE), results in predictions further and further from the true value are punished more."
   ]
  },
  {
   "cell_type": "code",
   "execution_count": 14,
   "metadata": {
    "colab": {
     "base_uri": "https://localhost:8080/"
    },
    "id": "U4jO9zY30s6f",
    "outputId": "53845d90-c3a9-4ccb-e073-f0684f0a53d7"
   },
   "outputs": [
    {
     "name": "stdout",
     "output_type": "stream",
     "text": [
      "mse =  27780.914191569023  & mae =  121.36934160594096  & rmse =  166.67607564245392\n"
     ]
    }
   ],
   "source": [
    "#We can calculate the same on the test data to understand how we the model is generalised.\n",
    "test_mse = mean_squared_error(y_test, model1.predict(test_scaled))\n",
    "test_mae = mean_absolute_error(y_test, model1.predict(test_scaled))\n",
    "print(\"mse = \",test_mse,\" & mae = \",test_mae,\" & rmse = \", sqrt(test_mse))"
   ]
  },
  {
   "cell_type": "code",
   "execution_count": 15,
   "metadata": {
    "colab": {
     "base_uri": "https://localhost:8080/"
    },
    "id": "PAAadhek1Lj4",
    "outputId": "97520d41-9204-401f-b2c2-5ca8c1ccbfb0"
   },
   "outputs": [
    {
     "data": {
      "text/plain": [
       "LinearRegression(copy_X=True, fit_intercept=True, n_jobs=None, normalize=False)"
      ]
     },
     "execution_count": 15,
     "metadata": {
      "tags": []
     },
     "output_type": "execute_result"
    }
   ],
   "source": [
    "#Lets try training the model without standardizing\n",
    "from sklearn.linear_model import LinearRegression\n",
    "model2 = LinearRegression()\n",
    "model2.fit(X_train, y_train)"
   ]
  },
  {
   "cell_type": "code",
   "execution_count": 16,
   "metadata": {
    "colab": {
     "base_uri": "https://localhost:8080/"
    },
    "id": "XVpDQfQk1fxL",
    "outputId": "0491dd89-d990-43a0-a555-636bbbabef5b"
   },
   "outputs": [
    {
     "name": "stdout",
     "output_type": "stream",
     "text": [
      "mse =  28624.37174393277  & mae =  89.32144986670971  & rmse =  169.18738647999965\n"
     ]
    }
   ],
   "source": [
    "mse = mean_squared_error(y_train, model2.predict(X_train))\n",
    "mae = mean_absolute_error(y_train, model2.predict(X_train))\n",
    "print(\"mse = \",mse,\" & mae = \",mae,\" & rmse = \", sqrt(mse))"
   ]
  },
  {
   "cell_type": "code",
   "execution_count": 17,
   "metadata": {
    "colab": {
     "base_uri": "https://localhost:8080/"
    },
    "id": "OJeq0QFZ1zy-",
    "outputId": "b6203744-72ee-42bb-aa48-d5864379aa7d"
   },
   "outputs": [
    {
     "name": "stdout",
     "output_type": "stream",
     "text": [
      "mse =  27780.914191569642  & mae =  121.36934160594531  & rmse =  166.67607564245577\n"
     ]
    }
   ],
   "source": [
    "#We can calculate the same on the test data to understand how we the model is generalised.\n",
    "test_mse = mean_squared_error(y_test, model2.predict(X_test))\n",
    "test_mae = mean_absolute_error(y_test, model2.predict(X_test))\n",
    "print(\"mse = \",test_mse,\" & mae = \",test_mae,\" & rmse = \", sqrt(test_mse))"
   ]
  },
  {
   "cell_type": "markdown",
   "metadata": {
    "id": "42MyGlfr2ilo"
   },
   "source": [
    "**Decision Trees & Random Forests**"
   ]
  },
  {
   "cell_type": "code",
   "execution_count": 18,
   "metadata": {
    "colab": {
     "base_uri": "https://localhost:8080/"
    },
    "id": "0jOt_1O82fCq",
    "outputId": "cb0027cf-09c5-4b2b-bbfd-d4328487212c"
   },
   "outputs": [
    {
     "data": {
      "text/plain": [
       "RandomForestRegressor(bootstrap=True, ccp_alpha=0.0, criterion='mse',\n",
       "                      max_depth=None, max_features='auto', max_leaf_nodes=None,\n",
       "                      max_samples=None, min_impurity_decrease=0.0,\n",
       "                      min_impurity_split=None, min_samples_leaf=1,\n",
       "                      min_samples_split=2, min_weight_fraction_leaf=0.0,\n",
       "                      n_estimators=100, n_jobs=None, oob_score=False,\n",
       "                      random_state=None, verbose=0, warm_start=False)"
      ]
     },
     "execution_count": 18,
     "metadata": {
      "tags": []
     },
     "output_type": "execute_result"
    }
   ],
   "source": [
    "from sklearn.tree import DecisionTreeRegressor\n",
    "from sklearn.ensemble import RandomForestRegressor\n",
    "tree_model = DecisionTreeRegressor()\n",
    "rf_model = RandomForestRegressor()\n",
    "tree_model.fit(train_scaled, y_train)\n",
    "rf_model.fit(train_scaled, y_train)"
   ]
  },
  {
   "cell_type": "code",
   "execution_count": 19,
   "metadata": {
    "id": "knUpvgHL2zn_"
   },
   "outputs": [],
   "source": [
    "tree_mse = mean_squared_error(y_train, tree_model.predict(train_scaled))\n",
    "tree_mae = mean_absolute_error(y_train, tree_model.predict(train_scaled))\n",
    "rf_mse = mean_squared_error(y_train, rf_model.predict(train_scaled))\n",
    "rf_mae = mean_absolute_error(y_train, rf_model.predict(train_scaled))"
   ]
  },
  {
   "cell_type": "code",
   "execution_count": 20,
   "metadata": {
    "colab": {
     "base_uri": "https://localhost:8080/"
    },
    "id": "qouQ52UV236o",
    "outputId": "8eac209f-7151-4de8-8e71-73e6911ec707"
   },
   "outputs": [
    {
     "name": "stdout",
     "output_type": "stream",
     "text": [
      "Decision Tree training mse =  9.475344854482621  & mae =  0.6489425536802201  & rmse =  3.0782048103533692\n",
      "Random Forest training mse =  5492.892774487181  & mae =  34.83818605868552  & rmse =  74.11405247648506\n"
     ]
    }
   ],
   "source": [
    "print(\"Decision Tree training mse = \",tree_mse,\" & mae = \",tree_mae,\" & rmse = \", sqrt(tree_mse))\n",
    "print(\"Random Forest training mse = \",rf_mse,\" & mae = \",rf_mae,\" & rmse = \", sqrt(rf_mse))"
   ]
  },
  {
   "cell_type": "markdown",
   "metadata": {
    "id": "x_55WE123LJJ"
   },
   "source": [
    "The easier metric to understand is the mean absolute error, this means that our predictions were perfect for the decision tree model but on average 32.39 away from the true prediction with the random forest model. Mean squared error, and consequently root mean squared error (RMSE), results in predictions further and further from the true value are punished more."
   ]
  },
  {
   "cell_type": "code",
   "execution_count": 21,
   "metadata": {
    "id": "BKCD4Vlb3gCV"
   },
   "outputs": [],
   "source": [
    "tree_test_mse = mean_squared_error(y_test, tree_model.predict(test_scaled))\n",
    "tree_test_mae = mean_absolute_error(y_test, tree_model.predict(test_scaled))\n",
    "rf_test_mse = mean_squared_error(y_test, rf_model.predict(test_scaled))\n",
    "rf_test_mae = mean_absolute_error(y_test, rf_model.predict(test_scaled))"
   ]
  },
  {
   "cell_type": "code",
   "execution_count": 22,
   "metadata": {
    "colab": {
     "base_uri": "https://localhost:8080/"
    },
    "id": "r7IY5h1q3hwN",
    "outputId": "59e11c5b-7ca0-4575-a8e6-8a9316e42686"
   },
   "outputs": [
    {
     "name": "stdout",
     "output_type": "stream",
     "text": [
      "Decision Tree test mse =  26424.30110527852  & mae =  64.70354817429086  & rmse =  162.55553237364308\n",
      "Random Forest test mse =  36801.22084387096  & mae =  117.48785251900392  & rmse =  191.83644295042316\n"
     ]
    }
   ],
   "source": [
    "print(\"Decision Tree test mse = \",tree_test_mse,\" & mae = \",tree_test_mae,\" & rmse = \", sqrt(tree_test_mse))\n",
    "print(\"Random Forest test mse = \",rf_test_mse,\" & mae = \",rf_test_mae,\" & rmse = \", sqrt(rf_test_mse))"
   ]
  },
  {
   "cell_type": "markdown",
   "metadata": {
    "id": "TdcwBvTS4IMi"
   },
   "source": [
    "**K Nearest Neighbors**\n",
    "\n",
    "K-Nearest Neighbor (KNN) makes a prediction for a new observation by searching for the most similar training observations and pooling their values."
   ]
  },
  {
   "cell_type": "code",
   "execution_count": 23,
   "metadata": {
    "colab": {
     "base_uri": "https://localhost:8080/"
    },
    "id": "2uYBY9Az4n6k",
    "outputId": "8c4f0509-59ad-4533-bf81-84c03c5b6c8c"
   },
   "outputs": [
    {
     "data": {
      "text/plain": [
       "KNeighborsRegressor(algorithm='auto', leaf_size=30, metric='minkowski',\n",
       "                    metric_params=None, n_jobs=None, n_neighbors=5, p=2,\n",
       "                    weights='uniform')"
      ]
     },
     "execution_count": 23,
     "metadata": {
      "tags": []
     },
     "output_type": "execute_result"
    }
   ],
   "source": [
    "from sklearn.neighbors import KNeighborsRegressor\n",
    "knnmodel = KNeighborsRegressor()\n",
    "knnmodel.fit(train_scaled, y_train)"
   ]
  },
  {
   "cell_type": "code",
   "execution_count": 24,
   "metadata": {
    "colab": {
     "base_uri": "https://localhost:8080/"
    },
    "id": "XdlTdtJL4y-N",
    "outputId": "0ea41e3b-223e-487a-c1ce-34d51c5f9e7e"
   },
   "outputs": [
    {
     "name": "stdout",
     "output_type": "stream",
     "text": [
      "mse =  18004.51011991257  & mae =  59.02812122838639  & rmse =  134.1808858217614\n"
     ]
    }
   ],
   "source": [
    "#Evaluating model on train dataset\n",
    "mse = mean_squared_error(y_train, knnmodel.predict(train_scaled))\n",
    "mae = mean_absolute_error(y_train, knnmodel.predict(train_scaled))\n",
    "print(\"mse = \",mse,\" & mae = \",mae,\" & rmse = \", sqrt(mse))"
   ]
  },
  {
   "cell_type": "code",
   "execution_count": 25,
   "metadata": {
    "colab": {
     "base_uri": "https://localhost:8080/"
    },
    "id": "ezbe3gZV48TJ",
    "outputId": "f4f60bc9-c050-4d8f-9fb8-9b7eb2fa3ed7"
   },
   "outputs": [
    {
     "name": "stdout",
     "output_type": "stream",
     "text": [
      "mse =  35690.13760014362  & mae =  106.92658727095515  & rmse =  188.9183357965648\n"
     ]
    }
   ],
   "source": [
    "#Evaluating model on test dataset\n",
    "test_mse = mean_squared_error(y_test, knnmodel.predict(test_scaled))\n",
    "test_mae = mean_absolute_error(y_test, knnmodel.predict(test_scaled))\n",
    "print(\"mse = \",test_mse,\" & mae = \",test_mae,\" & rmse = \", sqrt(test_mse))"
   ]
  },
  {
   "cell_type": "markdown",
   "metadata": {
    "id": "Y8HECfJs7xFk"
   },
   "source": [
    "**Ridge Regression**"
   ]
  },
  {
   "cell_type": "code",
   "execution_count": 26,
   "metadata": {
    "colab": {
     "base_uri": "https://localhost:8080/"
    },
    "id": "MLBE82dW8phN",
    "outputId": "595ef737-daac-4536-a753-811a6fcfda7c"
   },
   "outputs": [
    {
     "data": {
      "text/plain": [
       "Ridge(alpha=0, copy_X=True, fit_intercept=True, max_iter=None, normalize=False,\n",
       "      random_state=None, solver='auto', tol=0.001)"
      ]
     },
     "execution_count": 26,
     "metadata": {
      "tags": []
     },
     "output_type": "execute_result"
    }
   ],
   "source": [
    "from sklearn.linear_model import LinearRegression, Ridge\n",
    "ridge_reg = Ridge(alpha=0)\n",
    "ridge_reg.fit(train_scaled, y_train)"
   ]
  },
  {
   "cell_type": "code",
   "execution_count": 27,
   "metadata": {
    "colab": {
     "base_uri": "https://localhost:8080/"
    },
    "id": "raCCGc259Dc5",
    "outputId": "508f6883-c0f6-4315-d435-579c4874b582"
   },
   "outputs": [
    {
     "name": "stdout",
     "output_type": "stream",
     "text": [
      "mse =  28624.371743932756  & mae =  89.32144986671194  & rmse =  169.18738647999962\n"
     ]
    }
   ],
   "source": [
    "#Evaluating model on train dataset\n",
    "mse = mean_squared_error(y_train, ridge_reg.predict(train_scaled))\n",
    "mae = mean_absolute_error(y_train, ridge_reg.predict(train_scaled))\n",
    "print(\"mse = \",mse,\" & mae = \",mae,\" & rmse = \", sqrt(mse))"
   ]
  },
  {
   "cell_type": "code",
   "execution_count": 28,
   "metadata": {
    "colab": {
     "base_uri": "https://localhost:8080/"
    },
    "id": "mPJ5lrVd9L1O",
    "outputId": "8c0cb2f1-5436-4885-da22-0f50d1310039"
   },
   "outputs": [
    {
     "name": "stdout",
     "output_type": "stream",
     "text": [
      "mse =  27780.914191569027  & mae =  121.36934160594097  & rmse =  166.67607564245395\n"
     ]
    }
   ],
   "source": [
    "#Evaluating model on test dataset\n",
    "test_mse = mean_squared_error(y_test, ridge_reg.predict(test_scaled))\n",
    "test_mae = mean_absolute_error(y_test, ridge_reg.predict(test_scaled))\n",
    "print(\"mse = \",test_mse,\" & mae = \",test_mae,\" & rmse = \", sqrt(test_mse))"
   ]
  },
  {
   "cell_type": "markdown",
   "metadata": {
    "id": "C3SHlXaY99nQ"
   },
   "source": [
    "**Bayesian Regression**"
   ]
  },
  {
   "cell_type": "code",
   "execution_count": 29,
   "metadata": {
    "colab": {
     "base_uri": "https://localhost:8080/"
    },
    "id": "JFgD9DSp-DL8",
    "outputId": "b92fea0c-56a0-4bc2-97ea-8e382bc25c0d"
   },
   "outputs": [
    {
     "data": {
      "text/plain": [
       "BayesianRidge(alpha_1=1e-06, alpha_2=1e-06, alpha_init=None,\n",
       "              compute_score=False, copy_X=True, fit_intercept=True,\n",
       "              lambda_1=1e-06, lambda_2=1e-06, lambda_init=None, n_iter=300,\n",
       "              normalize=False, tol=0.001, verbose=False)"
      ]
     },
     "execution_count": 29,
     "metadata": {
      "tags": []
     },
     "output_type": "execute_result"
    }
   ],
   "source": [
    "from sklearn.linear_model import BayesianRidge\n",
    "bayesian_model = BayesianRidge()\n",
    "bayesian_model.fit(train_scaled, y_train)"
   ]
  },
  {
   "cell_type": "code",
   "execution_count": 30,
   "metadata": {
    "colab": {
     "base_uri": "https://localhost:8080/"
    },
    "id": "3tz0odWW-fRs",
    "outputId": "8707badd-8485-4139-de41-ca3d3192e772"
   },
   "outputs": [
    {
     "name": "stdout",
     "output_type": "stream",
     "text": [
      "mse =  30372.330927217234  & mae =  95.95048509103077  & rmse =  174.27659317079053\n"
     ]
    }
   ],
   "source": [
    "#Evaluating model on train dataset\n",
    "mse = mean_squared_error(y_train, bayesian_model.predict(train_scaled))\n",
    "mae = mean_absolute_error(y_train, bayesian_model.predict(train_scaled))\n",
    "print(\"mse = \",mse,\" & mae = \",mae,\" & rmse = \", sqrt(mse))"
   ]
  },
  {
   "cell_type": "code",
   "execution_count": 31,
   "metadata": {
    "colab": {
     "base_uri": "https://localhost:8080/"
    },
    "id": "M9se_2qU-nAH",
    "outputId": "0141bd16-5b9c-493c-8129-b20524be27c9"
   },
   "outputs": [
    {
     "name": "stdout",
     "output_type": "stream",
     "text": [
      "mse =  25590.61734600241  & mae =  99.56190534978082  & rmse =  159.97067651917465\n"
     ]
    }
   ],
   "source": [
    "#Evaluating model on test dataset\n",
    "test_mse = mean_squared_error(y_test, bayesian_model.predict(test_scaled))\n",
    "test_mae = mean_absolute_error(y_test, bayesian_model.predict(test_scaled))\n",
    "print(\"mse = \",test_mse,\" & mae = \",test_mae,\" & rmse = \", sqrt(test_mse))"
   ]
  },
  {
   "cell_type": "markdown",
   "metadata": {
    "id": "iacSofdYJYJY"
   },
   "source": [
    "**Polynomial Regression**"
   ]
  },
  {
   "cell_type": "code",
   "execution_count": 34,
   "metadata": {
    "colab": {
     "base_uri": "https://localhost:8080/"
    },
    "id": "DEagKoeyJWmv",
    "outputId": "750b10f1-0957-4f17-87b1-3ae4d9ecccde"
   },
   "outputs": [
    {
     "name": "stdout",
     "output_type": "stream",
     "text": [
      "200.5711829202867\n",
      "-0.5765065298523371\n"
     ]
    }
   ],
   "source": [
    "from sklearn.preprocessing import PolynomialFeatures\n",
    "polynomial_features= PolynomialFeatures(degree=2)\n",
    "x_poly = polynomial_features.fit_transform(X_train)\n",
    "x_poly_test = polynomial_features.fit_transform(X_test)\n",
    "model = LinearRegression()\n",
    "model.fit(x_poly, y_train)\n",
    "y_poly_pred = model.predict(x_poly_test)\n",
    "rmse = np.sqrt(mean_squared_error(y_test,y_poly_pred))\n",
    "r2 = r2_score(y_test,y_poly_pred)\n",
    "print(rmse)\n",
    "print(r2)"
   ]
  },
  {
   "cell_type": "markdown",
   "metadata": {
    "id": "mmabUc4yJn3D"
   },
   "source": [
    "**Principal Component regression**"
   ]
  },
  {
   "cell_type": "code",
   "execution_count": 36,
   "metadata": {
    "colab": {
     "base_uri": "https://localhost:8080/",
     "height": 276
    },
    "id": "Rp4lIdMvJsrN",
    "outputId": "0498547d-5b05-4faa-e400-4795c1d1f138"
   },
   "outputs": [
    {
     "data": {
      "image/png": "[encoded data removed]",
      "text/plain": [
       "<Figure size 720x216 with 2 Axes>"
      ]
     },
     "metadata": {
      "needs_background": "light",
      "tags": []
     },
     "output_type": "display_data"
    },
    {
     "name": "stdout",
     "output_type": "stream",
     "text": [
      "PCR r-squared -0.005\n",
      "PLS r-squared -0.027\n",
      "PCR r-squared with 2 components 0.036\n"
     ]
    }
   ],
   "source": [
    "from sklearn.decomposition import PCA\n",
    "from sklearn.pipeline import make_pipeline\n",
    "from sklearn.preprocessing import StandardScaler\n",
    "from sklearn.cross_decomposition import PLSRegression\n",
    "pca = PCA(n_components=2).fit(X)\n",
    "pcr = make_pipeline(StandardScaler(), PCA(n_components=1), LinearRegression())\n",
    "pcr.fit(X_train, y_train)\n",
    "pca = pcr.named_steps['pca']  # retrieve the PCA step of the pipeline\n",
    "\n",
    "pls = PLSRegression(n_components=1)\n",
    "pls.fit(X_train, y_train)\n",
    "fig, axes = plt.subplots(1, 2, figsize=(10, 3))\n",
    "axes[0].scatter(pca.transform(X_test), y_test, alpha=.3, label='ground truth')\n",
    "axes[0].scatter(pca.transform(X_test), pcr.predict(X_test), alpha=.3,\n",
    "                label='predictions')\n",
    "axes[0].set(xlabel='Projected data onto first PCA component',\n",
    "            ylabel='y', title='PCR / PCA')\n",
    "axes[0].legend()\n",
    "axes[1].scatter(pls.transform(X_test), y_test, alpha=.3, label='ground truth')\n",
    "axes[1].scatter(pls.transform(X_test), pls.predict(X_test), alpha=.3,\n",
    "                label='predictions')\n",
    "axes[1].set(xlabel='Projected data onto first PLS component',\n",
    "            ylabel='y', title='PLS')\n",
    "axes[1].legend()\n",
    "plt.tight_layout()\n",
    "plt.show()\n",
    "print(f\"PCR r-squared {pcr.score(X_test, y_test):.3f}\")\n",
    "print(f\"PLS r-squared {pls.score(X_test, y_test):.3f}\")\n",
    "pca_2 = make_pipeline(PCA(n_components=2), LinearRegression())\n",
    "pca_2.fit(X_train, y_train)\n",
    "print(f\"PCR r-squared with 2 components {pca_2.score(X_test, y_test):.3f}\")\n"
   ]
  },
  {
   "cell_type": "markdown",
   "metadata": {
    "id": "hAVC_6bBJxML"
   },
   "source": [
    "**Partial Least Squares Regression**"
   ]
  },
  {
   "cell_type": "code",
   "execution_count": 35,
   "metadata": {
    "colab": {
     "base_uri": "https://localhost:8080/"
    },
    "id": "AS8HLFfjJ1At",
    "outputId": "806827e6-84e7-4fe4-cecf-feb59631ef1f"
   },
   "outputs": [
    {
     "name": "stdout",
     "output_type": "stream",
     "text": [
      "-1.6803228310828016\n"
     ]
    }
   ],
   "source": [
    "from sklearn import tree\n",
    "dec = tree.DecisionTreeRegressor(max_depth=1)\n",
    "dec.fit(X_train,y_train)\n",
    "#y1_dec=dec.predict(X_train)\n",
    "#y1_dec=list(y1_dec)\n",
    "y2_dec=dec.predict(X_test)\n",
    "#y2_dec=list(y2_dec)\n",
    "print(r2_score(y2_dec,y_test))"
   ]
  },
  {
   "cell_type": "code",
   "execution_count": null,
   "metadata": {
    "id": "YZrzsO2NE-ua"
   },
   "outputs": [],
   "source": []
  },
  {
   "cell_type": "code",
   "execution_count": null,
   "metadata": {
    "id": "a6mQc3-PE-fE"
   },
   "outputs": [],
   "source": []
  },
  {
   "cell_type": "markdown",
   "metadata": {
    "id": "GPDCMeBLFLom"
   },
   "source": [
    "###Input fields Sample"
   ]
  },
  {
   "cell_type": "code",
   "execution_count": null,
   "metadata": {
    "id": "M9LT0ww5FPxT"
   },
   "outputs": [],
   "source": [
    "#@title determining \"Demand for green space\"\n",
    "  #@title User Input\n",
    "user_input_idroute =  1#@param {type:\"integer\"}\n",
    "user_input_linkid =  1#@param {type:\"integer\"}\n",
    "user_input_region_of_origin = \"R1 - AM Lisboa\" #@param [\"R1 - AM Lisboa\", \"R2 - AM Porto\"]\n",
    "user_input_district_of_origin = 'Aveiro' #@param ['Aveiro', 'Lisboa', 'Porto', 'Setúbal']\n",
    "user_input_county_of_origin = 'Amadora' #@param ['Amadora', 'Vila Franca de Xira', 'Gondomar', 'Lisboa', 'Odivelas', 'Setúbal', 'Palmela', 'Santa Maria da Feira', 'Alcochete', 'Sesimbra', 'Oeiras', 'Porto', 'Maia', 'Cascais', 'Matosinhos', 'Sintra', 'Barreiro', 'Montijo', 'Almada', 'Loures', 'Mafra', 'Seixal']"
   ]
  }
 ],
 "metadata": {
  "colab": {
   "collapsed_sections": [],
   "name": "sm_pm_Models.ipynb",
   "provenance": []
  },
  "kernelspec": {
   "display_name": "Python 3",
   "language": "python",
   "name": "python3"
  },
  "language_info": {
   "codemirror_mode": {
    "name": "ipython",
    "version": 3
   },
   "file_extension": ".py",
   "mimetype": "text/x-python",
   "name": "python",
   "nbconvert_exporter": "python",
   "pygments_lexer": "ipython3",
   "version": "3.8.6"
  },
  "toc": {
   "base_numbering": 1,
   "nav_menu": {},
   "number_sections": true,
   "sideBar": true,
   "skip_h1_title": false,
   "title_cell": "Table of Contents",
   "title_sidebar": "Contents",
   "toc_cell": false,
   "toc_position": {},
   "toc_section_display": true,
   "toc_window_display": false
  }
 },
 "nbformat": 4,
 "nbformat_minor": 1
}
