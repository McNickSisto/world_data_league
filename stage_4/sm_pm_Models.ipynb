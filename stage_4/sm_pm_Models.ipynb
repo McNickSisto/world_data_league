{
  "nbformat": 4,
  "nbformat_minor": 0,
  "metadata": {
    "colab": {
      "name": "sm_pm_Models.ipynb",
      "provenance": [],
      "collapsed_sections": [
        "TEK41IvMvQPg"
      ]
    },
    "kernelspec": {
      "name": "python3",
      "display_name": "Python 3"
    },
    "language_info": {
      "name": "python"
    }
  },
  "cells": [
    {
      "cell_type": "markdown",
      "metadata": {
        "id": "TEK41IvMvQPg"
      },
      "source": [
        "# Data Part"
      ]
    },
    {
      "cell_type": "code",
      "metadata": {
        "colab": {
          "base_uri": "https://localhost:8080/"
        },
        "id": "dxcLIMl_u_QF",
        "outputId": "a325200d-01ee-4bc6-cb7a-c3fcda4dc75f"
      },
      "source": [
        "%%time \n",
        "\n",
        "# Important library for many geopython libraries\n",
        "!apt install gdal-bin python-gdal python3-gdal \n",
        "# Install rtree - Geopandas requirment\n",
        "!apt install python3-rtree \n",
        "# Install Geopandas\n",
        "!pip install git+git://github.com/geopandas/geopandas.git\n",
        "# Install descartes - Geopandas requirment\n",
        "!pip install descartes \n",
        "# Install Folium for Geographic data visualization\n",
        "!pip install folium\n",
        "# Install plotlyExpress\n",
        "!pip install plotly_express"
      ],
      "execution_count": 1,
      "outputs": [
        {
          "output_type": "stream",
          "text": [
            "Reading package lists... Done\n",
            "Building dependency tree       \n",
            "Reading state information... Done\n",
            "gdal-bin is already the newest version (2.2.3+dfsg-2).\n",
            "python-gdal is already the newest version (2.2.3+dfsg-2).\n",
            "The following package was automatically installed and is no longer required:\n",
            "  libnvidia-common-460\n",
            "Use 'apt autoremove' to remove it.\n",
            "The following additional packages will be installed:\n",
            "  python3-numpy\n",
            "Suggested packages:\n",
            "  python-numpy-doc python3-nose python3-numpy-dbg\n",
            "The following NEW packages will be installed:\n",
            "  python3-gdal python3-numpy\n",
            "0 upgraded, 2 newly installed, 0 to remove and 34 not upgraded.\n",
            "Need to get 2,288 kB of archives.\n",
            "After this operation, 13.2 MB of additional disk space will be used.\n",
            "Get:1 http://archive.ubuntu.com/ubuntu bionic/main amd64 python3-numpy amd64 1:1.13.3-2ubuntu1 [1,943 kB]\n",
            "Get:2 http://archive.ubuntu.com/ubuntu bionic/universe amd64 python3-gdal amd64 2.2.3+dfsg-2 [346 kB]\n",
            "Fetched 2,288 kB in 1s (2,829 kB/s)\n",
            "Selecting previously unselected package python3-numpy.\n",
            "(Reading database ... 160706 files and directories currently installed.)\n",
            "Preparing to unpack .../python3-numpy_1%3a1.13.3-2ubuntu1_amd64.deb ...\n",
            "Unpacking python3-numpy (1:1.13.3-2ubuntu1) ...\n",
            "Selecting previously unselected package python3-gdal.\n",
            "Preparing to unpack .../python3-gdal_2.2.3+dfsg-2_amd64.deb ...\n",
            "Unpacking python3-gdal (2.2.3+dfsg-2) ...\n",
            "Setting up python3-numpy (1:1.13.3-2ubuntu1) ...\n",
            "Setting up python3-gdal (2.2.3+dfsg-2) ...\n",
            "Processing triggers for man-db (2.8.3-2ubuntu0.1) ...\n",
            "Reading package lists... Done\n",
            "Building dependency tree       \n",
            "Reading state information... Done\n",
            "The following package was automatically installed and is no longer required:\n",
            "  libnvidia-common-460\n",
            "Use 'apt autoremove' to remove it.\n",
            "The following additional packages will be installed:\n",
            "  libspatialindex-c4v5 libspatialindex-dev libspatialindex4v5\n",
            "  python3-pkg-resources\n",
            "Suggested packages:\n",
            "  python3-setuptools\n",
            "The following NEW packages will be installed:\n",
            "  libspatialindex-c4v5 libspatialindex-dev libspatialindex4v5\n",
            "  python3-pkg-resources python3-rtree\n",
            "0 upgraded, 5 newly installed, 0 to remove and 34 not upgraded.\n",
            "Need to get 671 kB of archives.\n",
            "After this operation, 3,948 kB of additional disk space will be used.\n",
            "Get:1 http://archive.ubuntu.com/ubuntu bionic/universe amd64 libspatialindex4v5 amd64 1.8.5-5 [219 kB]\n",
            "Get:2 http://archive.ubuntu.com/ubuntu bionic/universe amd64 libspatialindex-c4v5 amd64 1.8.5-5 [51.7 kB]\n",
            "Get:3 http://archive.ubuntu.com/ubuntu bionic/main amd64 python3-pkg-resources all 39.0.1-2 [98.8 kB]\n",
            "Get:4 http://archive.ubuntu.com/ubuntu bionic/universe amd64 libspatialindex-dev amd64 1.8.5-5 [285 kB]\n",
            "Get:5 http://archive.ubuntu.com/ubuntu bionic/universe amd64 python3-rtree all 0.8.3+ds-1 [16.9 kB]\n",
            "Fetched 671 kB in 1s (999 kB/s)\n",
            "Selecting previously unselected package libspatialindex4v5:amd64.\n",
            "(Reading database ... 161116 files and directories currently installed.)\n",
            "Preparing to unpack .../libspatialindex4v5_1.8.5-5_amd64.deb ...\n",
            "Unpacking libspatialindex4v5:amd64 (1.8.5-5) ...\n",
            "Selecting previously unselected package libspatialindex-c4v5:amd64.\n",
            "Preparing to unpack .../libspatialindex-c4v5_1.8.5-5_amd64.deb ...\n",
            "Unpacking libspatialindex-c4v5:amd64 (1.8.5-5) ...\n",
            "Selecting previously unselected package python3-pkg-resources.\n",
            "Preparing to unpack .../python3-pkg-resources_39.0.1-2_all.deb ...\n",
            "Unpacking python3-pkg-resources (39.0.1-2) ...\n",
            "Selecting previously unselected package libspatialindex-dev:amd64.\n",
            "Preparing to unpack .../libspatialindex-dev_1.8.5-5_amd64.deb ...\n",
            "Unpacking libspatialindex-dev:amd64 (1.8.5-5) ...\n",
            "Selecting previously unselected package python3-rtree.\n",
            "Preparing to unpack .../python3-rtree_0.8.3+ds-1_all.deb ...\n",
            "Unpacking python3-rtree (0.8.3+ds-1) ...\n",
            "Setting up libspatialindex4v5:amd64 (1.8.5-5) ...\n",
            "Setting up python3-pkg-resources (39.0.1-2) ...\n",
            "Setting up libspatialindex-c4v5:amd64 (1.8.5-5) ...\n",
            "Setting up libspatialindex-dev:amd64 (1.8.5-5) ...\n",
            "Setting up python3-rtree (0.8.3+ds-1) ...\n",
            "Processing triggers for libc-bin (2.27-3ubuntu1.2) ...\n",
            "/sbin/ldconfig.real: /usr/local/lib/python3.7/dist-packages/ideep4py/lib/libmkldnn.so.0 is not a symbolic link\n",
            "\n",
            "Collecting git+git://github.com/geopandas/geopandas.git\n",
            "  Cloning git://github.com/geopandas/geopandas.git to /tmp/pip-req-build-6fm1gwol\n",
            "  Running command git clone -q git://github.com/geopandas/geopandas.git /tmp/pip-req-build-6fm1gwol\n",
            "Requirement already satisfied: pandas>=0.24.0 in /usr/local/lib/python3.7/dist-packages (from geopandas==0.9.0+25.gdd2ed8e) (1.1.5)\n",
            "Requirement already satisfied: shapely>=1.6 in /usr/local/lib/python3.7/dist-packages (from geopandas==0.9.0+25.gdd2ed8e) (1.7.1)\n",
            "Collecting fiona>=1.8\n",
            "\u001b[?25l  Downloading https://files.pythonhosted.org/packages/ea/2a/404b22883298a3efe9c6ef8d67acbf2c38443fa366ee9cd4cd34e17626ea/Fiona-1.8.19-cp37-cp37m-manylinux1_x86_64.whl (15.3MB)\n",
            "\u001b[K     |████████████████████████████████| 15.3MB 279kB/s \n",
            "\u001b[?25hCollecting pyproj>=2.2.0\n",
            "\u001b[?25l  Downloading https://files.pythonhosted.org/packages/11/1d/1c54c672c2faf08d28fe78e15d664c048f786225bef95ad87b6c435cf69e/pyproj-3.1.0-cp37-cp37m-manylinux2010_x86_64.whl (6.6MB)\n",
            "\u001b[K     |████████████████████████████████| 6.6MB 31.8MB/s \n",
            "\u001b[?25hRequirement already satisfied: python-dateutil>=2.7.3 in /usr/local/lib/python3.7/dist-packages (from pandas>=0.24.0->geopandas==0.9.0+25.gdd2ed8e) (2.8.1)\n",
            "Requirement already satisfied: numpy>=1.15.4 in /usr/local/lib/python3.7/dist-packages (from pandas>=0.24.0->geopandas==0.9.0+25.gdd2ed8e) (1.19.5)\n",
            "Requirement already satisfied: pytz>=2017.2 in /usr/local/lib/python3.7/dist-packages (from pandas>=0.24.0->geopandas==0.9.0+25.gdd2ed8e) (2018.9)\n",
            "Collecting click-plugins>=1.0\n",
            "  Downloading https://files.pythonhosted.org/packages/e9/da/824b92d9942f4e472702488857914bdd50f73021efea15b4cad9aca8ecef/click_plugins-1.1.1-py2.py3-none-any.whl\n",
            "Collecting click<8,>=4.0\n",
            "\u001b[?25l  Downloading https://files.pythonhosted.org/packages/d2/3d/fa76db83bf75c4f8d338c2fd15c8d33fdd7ad23a9b5e57eb6c5de26b430e/click-7.1.2-py2.py3-none-any.whl (82kB)\n",
            "\u001b[K     |████████████████████████████████| 92kB 13.0MB/s \n",
            "\u001b[?25hRequirement already satisfied: six>=1.7 in /usr/local/lib/python3.7/dist-packages (from fiona>=1.8->geopandas==0.9.0+25.gdd2ed8e) (1.15.0)\n",
            "Collecting munch\n",
            "  Downloading https://files.pythonhosted.org/packages/cc/ab/85d8da5c9a45e072301beb37ad7f833cd344e04c817d97e0cc75681d248f/munch-2.5.0-py2.py3-none-any.whl\n",
            "Collecting cligj>=0.5\n",
            "  Downloading https://files.pythonhosted.org/packages/42/1e/947eadf10d6804bf276eb8a038bd5307996dceaaa41cfd21b7a15ec62f5d/cligj-0.7.1-py3-none-any.whl\n",
            "Requirement already satisfied: certifi in /usr/local/lib/python3.7/dist-packages (from fiona>=1.8->geopandas==0.9.0+25.gdd2ed8e) (2020.12.5)\n",
            "Requirement already satisfied: attrs>=17 in /usr/local/lib/python3.7/dist-packages (from fiona>=1.8->geopandas==0.9.0+25.gdd2ed8e) (21.2.0)\n",
            "Building wheels for collected packages: geopandas\n",
            "  Building wheel for geopandas (setup.py) ... \u001b[?25l\u001b[?25hdone\n",
            "  Created wheel for geopandas: filename=geopandas-0.9.0+25.gdd2ed8e-py2.py3-none-any.whl size=995296 sha256=47500cbf1bae2ca36176c9369a0823293decc32d27a91a73d9c787f53e09b95c\n",
            "  Stored in directory: /tmp/pip-ephem-wheel-cache-ggv5jbzy/wheels/91/24/71/376c9c67192694168352afcccc2d264248f7e2cc6192997186\n",
            "Successfully built geopandas\n",
            "Installing collected packages: click, click-plugins, munch, cligj, fiona, pyproj, geopandas\n",
            "  Found existing installation: click 8.0.0\n",
            "    Uninstalling click-8.0.0:\n",
            "      Successfully uninstalled click-8.0.0\n",
            "Successfully installed click-7.1.2 click-plugins-1.1.1 cligj-0.7.1 fiona-1.8.19 geopandas-0.9.0+25.gdd2ed8e munch-2.5.0 pyproj-3.1.0\n",
            "Requirement already satisfied: descartes in /usr/local/lib/python3.7/dist-packages (1.1.0)\n",
            "Requirement already satisfied: matplotlib in /usr/local/lib/python3.7/dist-packages (from descartes) (3.2.2)\n",
            "Requirement already satisfied: numpy>=1.11 in /usr/local/lib/python3.7/dist-packages (from matplotlib->descartes) (1.19.5)\n",
            "Requirement already satisfied: pyparsing!=2.0.4,!=2.1.2,!=2.1.6,>=2.0.1 in /usr/local/lib/python3.7/dist-packages (from matplotlib->descartes) (2.4.7)\n",
            "Requirement already satisfied: python-dateutil>=2.1 in /usr/local/lib/python3.7/dist-packages (from matplotlib->descartes) (2.8.1)\n",
            "Requirement already satisfied: cycler>=0.10 in /usr/local/lib/python3.7/dist-packages (from matplotlib->descartes) (0.10.0)\n",
            "Requirement already satisfied: kiwisolver>=1.0.1 in /usr/local/lib/python3.7/dist-packages (from matplotlib->descartes) (1.3.1)\n",
            "Requirement already satisfied: six>=1.5 in /usr/local/lib/python3.7/dist-packages (from python-dateutil>=2.1->matplotlib->descartes) (1.15.0)\n",
            "Requirement already satisfied: folium in /usr/local/lib/python3.7/dist-packages (0.8.3)\n",
            "Requirement already satisfied: jinja2 in /usr/local/lib/python3.7/dist-packages (from folium) (2.11.3)\n",
            "Requirement already satisfied: requests in /usr/local/lib/python3.7/dist-packages (from folium) (2.23.0)\n",
            "Requirement already satisfied: numpy in /usr/local/lib/python3.7/dist-packages (from folium) (1.19.5)\n",
            "Requirement already satisfied: branca>=0.3.0 in /usr/local/lib/python3.7/dist-packages (from folium) (0.4.2)\n",
            "Requirement already satisfied: six in /usr/local/lib/python3.7/dist-packages (from folium) (1.15.0)\n",
            "Requirement already satisfied: MarkupSafe>=0.23 in /usr/local/lib/python3.7/dist-packages (from jinja2->folium) (2.0.0)\n",
            "Requirement already satisfied: urllib3!=1.25.0,!=1.25.1,<1.26,>=1.21.1 in /usr/local/lib/python3.7/dist-packages (from requests->folium) (1.24.3)\n",
            "Requirement already satisfied: idna<3,>=2.5 in /usr/local/lib/python3.7/dist-packages (from requests->folium) (2.10)\n",
            "Requirement already satisfied: certifi>=2017.4.17 in /usr/local/lib/python3.7/dist-packages (from requests->folium) (2020.12.5)\n",
            "Requirement already satisfied: chardet<4,>=3.0.2 in /usr/local/lib/python3.7/dist-packages (from requests->folium) (3.0.4)\n",
            "Collecting plotly_express\n",
            "  Downloading https://files.pythonhosted.org/packages/d4/d6/8a2906f51e073a4be80cab35cfa10e7a34853e60f3ed5304ac470852a08d/plotly_express-0.4.1-py2.py3-none-any.whl\n",
            "Requirement already satisfied: pandas>=0.20.0 in /usr/local/lib/python3.7/dist-packages (from plotly_express) (1.1.5)\n",
            "Requirement already satisfied: numpy>=1.11 in /usr/local/lib/python3.7/dist-packages (from plotly_express) (1.19.5)\n",
            "Requirement already satisfied: patsy>=0.5 in /usr/local/lib/python3.7/dist-packages (from plotly_express) (0.5.1)\n",
            "Requirement already satisfied: scipy>=0.18 in /usr/local/lib/python3.7/dist-packages (from plotly_express) (1.4.1)\n",
            "Requirement already satisfied: plotly>=4.1.0 in /usr/local/lib/python3.7/dist-packages (from plotly_express) (4.4.1)\n",
            "Requirement already satisfied: statsmodels>=0.9.0 in /usr/local/lib/python3.7/dist-packages (from plotly_express) (0.10.2)\n",
            "Requirement already satisfied: pytz>=2017.2 in /usr/local/lib/python3.7/dist-packages (from pandas>=0.20.0->plotly_express) (2018.9)\n",
            "Requirement already satisfied: python-dateutil>=2.7.3 in /usr/local/lib/python3.7/dist-packages (from pandas>=0.20.0->plotly_express) (2.8.1)\n",
            "Requirement already satisfied: six in /usr/local/lib/python3.7/dist-packages (from patsy>=0.5->plotly_express) (1.15.0)\n",
            "Requirement already satisfied: retrying>=1.3.3 in /usr/local/lib/python3.7/dist-packages (from plotly>=4.1.0->plotly_express) (1.3.3)\n",
            "Installing collected packages: plotly-express\n",
            "Successfully installed plotly-express-0.4.1\n",
            "CPU times: user 339 ms, sys: 71.2 ms, total: 410 ms\n",
            "Wall time: 35.5 s\n"
          ],
          "name": "stdout"
        }
      ]
    },
    {
      "cell_type": "code",
      "metadata": {
        "id": "Cjc8MI2jvN7G"
      },
      "source": [
        "import pandas as pd\n",
        "import numpy as np\n",
        "import geopandas as gpd\n",
        "from shapely.geometry import Point\n",
        "import matplotlib\n",
        "import matplotlib.pyplot as plt \n",
        "import folium\n",
        "import plotly_express as px\n",
        "import seaborn as sns"
      ],
      "execution_count": 3,
      "outputs": []
    },
    {
      "cell_type": "code",
      "metadata": {
        "id": "1ZzhkSjCvbu3"
      },
      "source": [
        "parish_data=gpd.read_file('/content/parks_parishes.geojson')\n",
        "parish_poly=parish_data[['Green_Zone_name','Dicofre','geometry']]\n",
        "green_areas = pd.read_csv('https://raw.githubusercontent.com/SowmyaMadala/WDL-Stage4/main/Data/Attracting%20Population/WDL_Green_Areas_Dataset_V1.txt' ,sep =\"|\", encoding =\"latin-1\").rename(columns = {'Number of Museums in influence area' : 'no_of_museums',\n",
        "                                                                                                                                  'Number of parking lots in influence area' : 'no_of_parking_lots',\n",
        "                                                                                                                                   'Number of tourist attractions in influence area': 'no_of_tourist_attractions', \n",
        "                                                                                                                                   'Green Zones Daily Average Demand':'gz_daily_avg_demand',\n",
        "                                                                                                                                    'Daily average of people in influence area': 'daily_avg_people',\n",
        "                                                                                                                                    'Number of buildings in influence area' : 'no_of_buildings',\n",
        "                                                                                                                                    'Number of families in influence area': 'no_of_families',\n",
        "                                                                                                                                    'Number of people resident in influence area' : 'no_of_people_resident'})\n",
        "resident  = green_areas.loc[green_areas['Resident']==1]\n",
        "resident = resident.rename(columns= {'daily_avg_people': 'daily_avg_people_resident'})\n",
        "non_resident  = green_areas.loc[green_areas['Resident']==0]\n",
        "non_resident = non_resident.rename(columns= {'daily_avg_people': 'daily_avg_people_non_resident'})\n",
        "combined_data = pd.merge(resident, non_resident[['Green_Zone_name', 'daily_avg_people_non_resident']], how = \"inner\", on = ['Green_Zone_name']).drop(columns=['Resident'])\n",
        "total_avg_people=combined_data['daily_avg_people_non_resident']+combined_data['daily_avg_people_resident']\n",
        "combined_data['total_daily_avg_people']=total_avg_people\n",
        "gz_daily_demand_resident=(combined_data['daily_avg_people_resident']/combined_data['total_daily_avg_people'])*combined_data['gz_daily_avg_demand']\n",
        "combined_data['gz_daily_avg_demand_res']=gz_daily_demand_resident\n",
        "combined_data=pd.merge(left=combined_data,right=parish_poly,how='inner',on='Green_Zone_name')\n",
        "socio_data=pd.read_csv('https://raw.githubusercontent.com/SowmyaMadala/WDL-Stage4/main/merged_2020.csv')"
      ],
      "execution_count": 4,
      "outputs": []
    },
    {
      "cell_type": "code",
      "metadata": {
        "colab": {
          "base_uri": "https://localhost:8080/",
          "height": 261
        },
        "id": "JaNTQI_IwMtE",
        "outputId": "ae3a089a-7f7e-4075-bb2b-8b56228fc57e"
      },
      "source": [
        "combined_data['Dicofre'] = combined_data.Dicofre.astype(int)\n",
        "merged=pd.merge(left=combined_data,right=socio_data,how='inner',left_on='Dicofre',right_on='ParishCode')\n",
        "merged.head(2)"
      ],
      "execution_count": 7,
      "outputs": [
        {
          "output_type": "execute_result",
          "data": {
            "text/html": [
              "<div>\n",
              "<style scoped>\n",
              "    .dataframe tbody tr th:only-of-type {\n",
              "        vertical-align: middle;\n",
              "    }\n",
              "\n",
              "    .dataframe tbody tr th {\n",
              "        vertical-align: top;\n",
              "    }\n",
              "\n",
              "    .dataframe thead th {\n",
              "        text-align: right;\n",
              "    }\n",
              "</style>\n",
              "<table border=\"1\" class=\"dataframe\">\n",
              "  <thead>\n",
              "    <tr style=\"text-align: right;\">\n",
              "      <th></th>\n",
              "      <th>Green_Zone_name</th>\n",
              "      <th>no_of_museums</th>\n",
              "      <th>no_of_parking_lots</th>\n",
              "      <th>no_of_tourist_attractions</th>\n",
              "      <th>gz_daily_avg_demand</th>\n",
              "      <th>daily_avg_people_resident</th>\n",
              "      <th>no_of_buildings</th>\n",
              "      <th>no_of_families</th>\n",
              "      <th>no_of_people_resident</th>\n",
              "      <th>perc_senior_pop</th>\n",
              "      <th>perc_pop_until_19_yo</th>\n",
              "      <th>POINT_X</th>\n",
              "      <th>POINT_Y</th>\n",
              "      <th>daily_avg_people_non_resident</th>\n",
              "      <th>total_daily_avg_people</th>\n",
              "      <th>gz_daily_avg_demand_res</th>\n",
              "      <th>Dicofre</th>\n",
              "      <th>geometry</th>\n",
              "      <th>ParishCode</th>\n",
              "      <th>Parish</th>\n",
              "      <th>MF</th>\n",
              "      <th>M</th>\n",
              "      <th>F</th>\n",
              "      <th>MedianRent_per_m2</th>\n",
              "      <th>Area(Km2)</th>\n",
              "      <th>Average_monthly_rental_charges</th>\n",
              "    </tr>\n",
              "  </thead>\n",
              "  <tbody>\n",
              "    <tr>\n",
              "      <th>0</th>\n",
              "      <td>ESPAÇO JOGO E RECREIO HOMEM DO LEME</td>\n",
              "      <td>5</td>\n",
              "      <td>28</td>\n",
              "      <td>30</td>\n",
              "      <td>3.728677</td>\n",
              "      <td>17780.803014</td>\n",
              "      <td>4783</td>\n",
              "      <td>15352</td>\n",
              "      <td>38012</td>\n",
              "      <td>0.195123</td>\n",
              "      <td>0.196017</td>\n",
              "      <td>-8.68415</td>\n",
              "      <td>41.16001</td>\n",
              "      <td>45787.629298</td>\n",
              "      <td>63568.432312</td>\n",
              "      <td>1.042953</td>\n",
              "      <td>131216</td>\n",
              "      <td>POLYGON ((-8.68544 41.16198, -8.68570 41.16189...</td>\n",
              "      <td>131216</td>\n",
              "      <td>União das freguesias de Aldoar, Foz do Douro e...</td>\n",
              "      <td>244</td>\n",
              "      <td>118</td>\n",
              "      <td>126</td>\n",
              "      <td>9.03</td>\n",
              "      <td>6.27</td>\n",
              "      <td>387.96</td>\n",
              "    </tr>\n",
              "    <tr>\n",
              "      <th>1</th>\n",
              "      <td>JARDIM AFONSO DE ALBUQUERQUE</td>\n",
              "      <td>93</td>\n",
              "      <td>129</td>\n",
              "      <td>78</td>\n",
              "      <td>10.259113</td>\n",
              "      <td>17497.825376</td>\n",
              "      <td>1775</td>\n",
              "      <td>17185</td>\n",
              "      <td>41163</td>\n",
              "      <td>0.161747</td>\n",
              "      <td>0.204917</td>\n",
              "      <td>-9.19949</td>\n",
              "      <td>38.69674</td>\n",
              "      <td>42877.741202</td>\n",
              "      <td>60375.566578</td>\n",
              "      <td>2.973259</td>\n",
              "      <td>110658</td>\n",
              "      <td>POLYGON ((-9.20107 38.69706, -9.19972 38.69729...</td>\n",
              "      <td>110658</td>\n",
              "      <td>Belém</td>\n",
              "      <td>173</td>\n",
              "      <td>91</td>\n",
              "      <td>82</td>\n",
              "      <td>11.21</td>\n",
              "      <td>7.12</td>\n",
              "      <td>431.90</td>\n",
              "    </tr>\n",
              "  </tbody>\n",
              "</table>\n",
              "</div>"
            ],
            "text/plain": [
              "                       Green_Zone_name  ...  Average_monthly_rental_charges\n",
              "0  ESPAÇO JOGO E RECREIO HOMEM DO LEME  ...                          387.96\n",
              "1         JARDIM AFONSO DE ALBUQUERQUE  ...                          431.90\n",
              "\n",
              "[2 rows x 26 columns]"
            ]
          },
          "metadata": {
            "tags": []
          },
          "execution_count": 7
        }
      ]
    },
    {
      "cell_type": "code",
      "metadata": {
        "id": "ZoWBFQiUwkg5"
      },
      "source": [
        "#f, ax = plt.subplots(figsize=(20, 20))\n",
        "corr_mat=merged.corr()\n",
        "#sns.heatmap(corr_mat,annot=True)\n",
        "#plt.show()"
      ],
      "execution_count": 9,
      "outputs": []
    },
    {
      "cell_type": "code",
      "metadata": {
        "colab": {
          "base_uri": "https://localhost:8080/"
        },
        "id": "VMafhkLowzqZ",
        "outputId": "66bb8d75-1d9f-4ad2-b296-ce344a1b5fa0"
      },
      "source": [
        "corr_mat['gz_daily_avg_demand_res'].sort_values(ascending=False)"
      ],
      "execution_count": 11,
      "outputs": [
        {
          "output_type": "execute_result",
          "data": {
            "text/plain": [
              "gz_daily_avg_demand_res           1.000000\n",
              "gz_daily_avg_demand               0.838656\n",
              "perc_pop_until_19_yo              0.193711\n",
              "no_of_museums                     0.191531\n",
              "no_of_parking_lots                0.141607\n",
              "no_of_tourist_attractions         0.117483\n",
              "POINT_X                           0.088850\n",
              "Average_monthly_rental_charges    0.079055\n",
              "POINT_Y                           0.076456\n",
              "Dicofre                           0.075378\n",
              "ParishCode                        0.075378\n",
              "no_of_buildings                   0.015653\n",
              "MedianRent_per_m2                 0.001857\n",
              "M                                -0.001206\n",
              "MF                               -0.004031\n",
              "F                                -0.006730\n",
              "daily_avg_people_resident        -0.035889\n",
              "Area(Km2)                        -0.124422\n",
              "total_daily_avg_people           -0.141815\n",
              "daily_avg_people_non_resident    -0.154157\n",
              "no_of_people_resident            -0.160842\n",
              "perc_senior_pop                  -0.165820\n",
              "no_of_families                   -0.171329\n",
              "Name: gz_daily_avg_demand_res, dtype: float64"
            ]
          },
          "metadata": {
            "tags": []
          },
          "execution_count": 11
        }
      ]
    },
    {
      "cell_type": "markdown",
      "metadata": {
        "id": "M5jofW0HxBWQ"
      },
      "source": [
        "It is found that among all the attributes green space demand is mostly correlated to perc_pop_until_19_yo, no_of_museums, no_of_parking_lots, no_of_tourist_attractions.\n",
        "So let's try building a model that helps in predicting the green space based on these attributes"
      ]
    },
    {
      "cell_type": "code",
      "metadata": {
        "colab": {
          "base_uri": "https://localhost:8080/",
          "height": 166
        },
        "id": "Nl3ZUnIQtzoY",
        "outputId": "b1369b72-c59b-49ad-eef3-94aed7d2d4c9"
      },
      "source": [
        "reg_data=merged[['no_of_tourist_attractions','perc_pop_until_19_yo','no_of_museums','no_of_parking_lots','gz_daily_avg_demand_res']]\n",
        "reg_data.head(4)"
      ],
      "execution_count": 16,
      "outputs": [
        {
          "output_type": "execute_result",
          "data": {
            "text/html": [
              "<div>\n",
              "<style scoped>\n",
              "    .dataframe tbody tr th:only-of-type {\n",
              "        vertical-align: middle;\n",
              "    }\n",
              "\n",
              "    .dataframe tbody tr th {\n",
              "        vertical-align: top;\n",
              "    }\n",
              "\n",
              "    .dataframe thead th {\n",
              "        text-align: right;\n",
              "    }\n",
              "</style>\n",
              "<table border=\"1\" class=\"dataframe\">\n",
              "  <thead>\n",
              "    <tr style=\"text-align: right;\">\n",
              "      <th></th>\n",
              "      <th>no_of_tourist_attractions</th>\n",
              "      <th>perc_pop_until_19_yo</th>\n",
              "      <th>no_of_museums</th>\n",
              "      <th>no_of_parking_lots</th>\n",
              "      <th>gz_daily_avg_demand_res</th>\n",
              "    </tr>\n",
              "  </thead>\n",
              "  <tbody>\n",
              "    <tr>\n",
              "      <th>0</th>\n",
              "      <td>30</td>\n",
              "      <td>0.196017</td>\n",
              "      <td>5</td>\n",
              "      <td>28</td>\n",
              "      <td>1.042953</td>\n",
              "    </tr>\n",
              "    <tr>\n",
              "      <th>1</th>\n",
              "      <td>78</td>\n",
              "      <td>0.204917</td>\n",
              "      <td>93</td>\n",
              "      <td>129</td>\n",
              "      <td>2.973259</td>\n",
              "    </tr>\n",
              "    <tr>\n",
              "      <th>2</th>\n",
              "      <td>4</td>\n",
              "      <td>0.204917</td>\n",
              "      <td>8</td>\n",
              "      <td>23</td>\n",
              "      <td>13.722170</td>\n",
              "    </tr>\n",
              "    <tr>\n",
              "      <th>3</th>\n",
              "      <td>93</td>\n",
              "      <td>0.252080</td>\n",
              "      <td>107</td>\n",
              "      <td>191</td>\n",
              "      <td>201.023191</td>\n",
              "    </tr>\n",
              "  </tbody>\n",
              "</table>\n",
              "</div>"
            ],
            "text/plain": [
              "   no_of_tourist_attractions  ...  gz_daily_avg_demand_res\n",
              "0                         30  ...                 1.042953\n",
              "1                         78  ...                 2.973259\n",
              "2                          4  ...                13.722170\n",
              "3                         93  ...               201.023191\n",
              "\n",
              "[4 rows x 5 columns]"
            ]
          },
          "metadata": {
            "tags": []
          },
          "execution_count": 16
        }
      ]
    },
    {
      "cell_type": "markdown",
      "metadata": {
        "id": "oydTUol84MaA"
      },
      "source": [
        "# Models"
      ]
    },
    {
      "cell_type": "code",
      "metadata": {
        "id": "vbc7I5eyyVNe"
      },
      "source": [
        "from sklearn.model_selection import train_test_split\n",
        "X=reg_data.drop(columns='gz_daily_avg_demand_res')\n",
        "y=reg_data['gz_daily_avg_demand_res']"
      ],
      "execution_count": 17,
      "outputs": []
    },
    {
      "cell_type": "code",
      "metadata": {
        "id": "QIGNuHF8y8bT"
      },
      "source": [
        "X_train, X_test, y_train, y_test = train_test_split(X, y, test_size=0.2, random_state=123)"
      ],
      "execution_count": 20,
      "outputs": []
    },
    {
      "cell_type": "markdown",
      "metadata": {
        "id": "U1CnzZbazn4K"
      },
      "source": [
        "**Standardisation:**\n",
        "\n",
        "All features are numeric so we do not need to worry about converting categorical data with techniques such as one-hot encoding. Standardisation rescales our attributes so they have a mean of 0 and standard deviation of 1. It assumes that the distribution is Gaussian (it works better if it is), alternatively normalisation can be used to rescale between the range of 0 and 1"
      ]
    },
    {
      "cell_type": "code",
      "metadata": {
        "id": "aLYJKMHnznIY"
      },
      "source": [
        "from sklearn.preprocessing import StandardScaler\n",
        "scaler = StandardScaler()\n",
        "train_scaled = scaler.fit_transform(X_train)\n",
        "test_scaled = scaler.transform(X_test)"
      ],
      "execution_count": 22,
      "outputs": []
    },
    {
      "cell_type": "markdown",
      "metadata": {
        "id": "5tatbJcSz8QU"
      },
      "source": [
        "**Linear Regression**"
      ]
    },
    {
      "cell_type": "code",
      "metadata": {
        "colab": {
          "base_uri": "https://localhost:8080/"
        },
        "id": "tKg9GHaX0B4y",
        "outputId": "8116580e-34f7-4225-b3dc-d5972d649435"
      },
      "source": [
        "from sklearn.linear_model import LinearRegression\n",
        "model1 = LinearRegression()\n",
        "model1.fit(train_scaled, y_train)"
      ],
      "execution_count": 23,
      "outputs": [
        {
          "output_type": "execute_result",
          "data": {
            "text/plain": [
              "LinearRegression(copy_X=True, fit_intercept=True, n_jobs=None, normalize=False)"
            ]
          },
          "metadata": {
            "tags": []
          },
          "execution_count": 23
        }
      ]
    },
    {
      "cell_type": "code",
      "metadata": {
        "colab": {
          "base_uri": "https://localhost:8080/"
        },
        "id": "0mOGB95H0UHw",
        "outputId": "219b0079-43c2-4dfa-ebe8-b5c03d369ffd"
      },
      "source": [
        "from sklearn.metrics import mean_squared_error\n",
        "from sklearn.metrics import mean_absolute_error\n",
        "from math import sqrt\n",
        "mse = mean_squared_error(y_train, model1.predict(train_scaled))\n",
        "mae = mean_absolute_error(y_train, model1.predict(train_scaled))\n",
        "print(\"mse = \",mse,\" & mae = \",mae,\" & rmse = \", sqrt(mse))"
      ],
      "execution_count": 24,
      "outputs": [
        {
          "output_type": "stream",
          "text": [
            "mse =  28624.371743932756  & mae =  89.32144986671192  & rmse =  169.18738647999962\n"
          ],
          "name": "stdout"
        }
      ]
    },
    {
      "cell_type": "markdown",
      "metadata": {
        "id": "IN3sp5r50nRz"
      },
      "source": [
        "The easier metric to understand is the mean absolute error, this means that on average our prediction was 89.3 away from the true prediction. Mean squared error, and consequently root mean squared error (RMSE), results in predictions further and further from the true value are punished more."
      ]
    },
    {
      "cell_type": "code",
      "metadata": {
        "colab": {
          "base_uri": "https://localhost:8080/"
        },
        "id": "U4jO9zY30s6f",
        "outputId": "2665b868-9052-4c31-88f6-cc0840356a41"
      },
      "source": [
        "#We can calculate the same on the test data to understand how we the model is generalised.\n",
        "test_mse = mean_squared_error(y_test, model1.predict(test_scaled))\n",
        "test_mae = mean_absolute_error(y_test, model1.predict(test_scaled))\n",
        "print(\"mse = \",test_mse,\" & mae = \",test_mae,\" & rmse = \", sqrt(test_mse))"
      ],
      "execution_count": 25,
      "outputs": [
        {
          "output_type": "stream",
          "text": [
            "mse =  27780.914191569023  & mae =  121.36934160594096  & rmse =  166.67607564245392\n"
          ],
          "name": "stdout"
        }
      ]
    },
    {
      "cell_type": "code",
      "metadata": {
        "colab": {
          "base_uri": "https://localhost:8080/"
        },
        "id": "PAAadhek1Lj4",
        "outputId": "9b5905a1-0086-4cfc-ebd0-5a54a71b9c01"
      },
      "source": [
        "#Lets try training the model without standardizing\n",
        "from sklearn.linear_model import LinearRegression\n",
        "model2 = LinearRegression()\n",
        "model2.fit(X_train, y_train)"
      ],
      "execution_count": 26,
      "outputs": [
        {
          "output_type": "execute_result",
          "data": {
            "text/plain": [
              "LinearRegression(copy_X=True, fit_intercept=True, n_jobs=None, normalize=False)"
            ]
          },
          "metadata": {
            "tags": []
          },
          "execution_count": 26
        }
      ]
    },
    {
      "cell_type": "code",
      "metadata": {
        "colab": {
          "base_uri": "https://localhost:8080/"
        },
        "id": "XVpDQfQk1fxL",
        "outputId": "697d6f61-f155-43ec-e427-53e9f98cc474"
      },
      "source": [
        "mse = mean_squared_error(y_train, model2.predict(X_train))\n",
        "mae = mean_absolute_error(y_train, model2.predict(X_train))\n",
        "print(\"mse = \",mse,\" & mae = \",mae,\" & rmse = \", sqrt(mse))"
      ],
      "execution_count": 28,
      "outputs": [
        {
          "output_type": "stream",
          "text": [
            "mse =  28624.37174393277  & mae =  89.32144986670971  & rmse =  169.18738647999965\n"
          ],
          "name": "stdout"
        }
      ]
    },
    {
      "cell_type": "code",
      "metadata": {
        "colab": {
          "base_uri": "https://localhost:8080/"
        },
        "id": "OJeq0QFZ1zy-",
        "outputId": "ba3a05ee-6f4d-403c-9cfc-e7f6a67de8b6"
      },
      "source": [
        "#We can calculate the same on the test data to understand how we the model is generalised.\n",
        "test_mse = mean_squared_error(y_test, model2.predict(X_test))\n",
        "test_mae = mean_absolute_error(y_test, model2.predict(X_test))\n",
        "print(\"mse = \",test_mse,\" & mae = \",test_mae,\" & rmse = \", sqrt(test_mse))"
      ],
      "execution_count": 29,
      "outputs": [
        {
          "output_type": "stream",
          "text": [
            "mse =  27780.914191569642  & mae =  121.36934160594531  & rmse =  166.67607564245577\n"
          ],
          "name": "stdout"
        }
      ]
    },
    {
      "cell_type": "markdown",
      "metadata": {
        "id": "42MyGlfr2ilo"
      },
      "source": [
        "**Decision Trees & Random Forests**"
      ]
    },
    {
      "cell_type": "code",
      "metadata": {
        "colab": {
          "base_uri": "https://localhost:8080/"
        },
        "id": "0jOt_1O82fCq",
        "outputId": "dcf998bd-a656-4ad0-b099-a9b95c94361c"
      },
      "source": [
        "from sklearn.tree import DecisionTreeRegressor\n",
        "from sklearn.ensemble import RandomForestRegressor\n",
        "tree_model = DecisionTreeRegressor()\n",
        "rf_model = RandomForestRegressor()\n",
        "tree_model.fit(train_scaled, y_train)\n",
        "rf_model.fit(train_scaled, y_train)"
      ],
      "execution_count": 30,
      "outputs": [
        {
          "output_type": "execute_result",
          "data": {
            "text/plain": [
              "RandomForestRegressor(bootstrap=True, ccp_alpha=0.0, criterion='mse',\n",
              "                      max_depth=None, max_features='auto', max_leaf_nodes=None,\n",
              "                      max_samples=None, min_impurity_decrease=0.0,\n",
              "                      min_impurity_split=None, min_samples_leaf=1,\n",
              "                      min_samples_split=2, min_weight_fraction_leaf=0.0,\n",
              "                      n_estimators=100, n_jobs=None, oob_score=False,\n",
              "                      random_state=None, verbose=0, warm_start=False)"
            ]
          },
          "metadata": {
            "tags": []
          },
          "execution_count": 30
        }
      ]
    },
    {
      "cell_type": "code",
      "metadata": {
        "id": "knUpvgHL2zn_"
      },
      "source": [
        "tree_mse = mean_squared_error(y_train, tree_model.predict(train_scaled))\n",
        "tree_mae = mean_absolute_error(y_train, tree_model.predict(train_scaled))\n",
        "rf_mse = mean_squared_error(y_train, rf_model.predict(train_scaled))\n",
        "rf_mae = mean_absolute_error(y_train, rf_model.predict(train_scaled))"
      ],
      "execution_count": 31,
      "outputs": []
    },
    {
      "cell_type": "code",
      "metadata": {
        "colab": {
          "base_uri": "https://localhost:8080/"
        },
        "id": "qouQ52UV236o",
        "outputId": "55730c3b-b0c3-476e-f6bf-ece488aa67d1"
      },
      "source": [
        "print(\"Decision Tree training mse = \",tree_mse,\" & mae = \",tree_mae,\" & rmse = \", sqrt(tree_mse))\n",
        "print(\"Random Forest training mse = \",rf_mse,\" & mae = \",rf_mae,\" & rmse = \", sqrt(rf_mse))"
      ],
      "execution_count": 32,
      "outputs": [
        {
          "output_type": "stream",
          "text": [
            "Decision Tree training mse =  9.475344854482621  & mae =  0.6489425536802201  & rmse =  3.0782048103533692\n",
            "Random Forest training mse =  4544.735467878245  & mae =  32.39350990834998  & rmse =  67.41465321336486\n"
          ],
          "name": "stdout"
        }
      ]
    },
    {
      "cell_type": "markdown",
      "metadata": {
        "id": "x_55WE123LJJ"
      },
      "source": [
        "The easier metric to understand is the mean absolute error, this means that our predictions were perfect for the decision tree model but on average 32.39 away from the true prediction with the random forest model. Mean squared error, and consequently root mean squared error (RMSE), results in predictions further and further from the true value are punished more."
      ]
    },
    {
      "cell_type": "code",
      "metadata": {
        "id": "BKCD4Vlb3gCV"
      },
      "source": [
        "tree_test_mse = mean_squared_error(y_test, tree_model.predict(test_scaled))\n",
        "tree_test_mae = mean_absolute_error(y_test, tree_model.predict(test_scaled))\n",
        "rf_test_mse = mean_squared_error(y_test, rf_model.predict(test_scaled))\n",
        "rf_test_mae = mean_absolute_error(y_test, rf_model.predict(test_scaled))"
      ],
      "execution_count": 33,
      "outputs": []
    },
    {
      "cell_type": "code",
      "metadata": {
        "colab": {
          "base_uri": "https://localhost:8080/"
        },
        "id": "r7IY5h1q3hwN",
        "outputId": "04a331e5-4081-4ffe-91bd-444d4a5d417e"
      },
      "source": [
        "print(\"Decision Tree test mse = \",tree_test_mse,\" & mae = \",tree_test_mae,\" & rmse = \", sqrt(tree_test_mse))\n",
        "print(\"Random Forest test mse = \",rf_test_mse,\" & mae = \",rf_test_mae,\" & rmse = \", sqrt(rf_test_mse))"
      ],
      "execution_count": 34,
      "outputs": [
        {
          "output_type": "stream",
          "text": [
            "Decision Tree test mse =  16687.96467519425  & mae =  55.08438257702843  & rmse =  129.18190537066036\n",
            "Random Forest test mse =  31391.17493436242  & mae =  102.92307485549514  & rmse =  177.1755483534972\n"
          ],
          "name": "stdout"
        }
      ]
    },
    {
      "cell_type": "markdown",
      "metadata": {
        "id": "TdcwBvTS4IMi"
      },
      "source": [
        "**K Nearest Neighbors**\n",
        "\n",
        "K-Nearest Neighbor (KNN) makes a prediction for a new observation by searching for the most similar training observations and pooling their values."
      ]
    },
    {
      "cell_type": "code",
      "metadata": {
        "colab": {
          "base_uri": "https://localhost:8080/"
        },
        "id": "2uYBY9Az4n6k",
        "outputId": "58eb6af9-7998-4ca3-f8de-a7576c6da6fa"
      },
      "source": [
        "from sklearn.neighbors import KNeighborsRegressor\n",
        "knnmodel = KNeighborsRegressor()\n",
        "knnmodel.fit(train_scaled, y_train)"
      ],
      "execution_count": 35,
      "outputs": [
        {
          "output_type": "execute_result",
          "data": {
            "text/plain": [
              "KNeighborsRegressor(algorithm='auto', leaf_size=30, metric='minkowski',\n",
              "                    metric_params=None, n_jobs=None, n_neighbors=5, p=2,\n",
              "                    weights='uniform')"
            ]
          },
          "metadata": {
            "tags": []
          },
          "execution_count": 35
        }
      ]
    },
    {
      "cell_type": "code",
      "metadata": {
        "colab": {
          "base_uri": "https://localhost:8080/"
        },
        "id": "XdlTdtJL4y-N",
        "outputId": "9448a8cc-a8ca-4814-8ed5-3c395ffe7fb8"
      },
      "source": [
        "#Evaluating model on train dataset\n",
        "mse = mean_squared_error(y_train, knnmodel.predict(train_scaled))\n",
        "mae = mean_absolute_error(y_train, knnmodel.predict(train_scaled))\n",
        "print(\"mse = \",mse,\" & mae = \",mae,\" & rmse = \", sqrt(mse))"
      ],
      "execution_count": 37,
      "outputs": [
        {
          "output_type": "stream",
          "text": [
            "mse =  18004.51011991257  & mae =  59.02812122838639  & rmse =  134.1808858217614\n"
          ],
          "name": "stdout"
        }
      ]
    },
    {
      "cell_type": "code",
      "metadata": {
        "colab": {
          "base_uri": "https://localhost:8080/"
        },
        "id": "ezbe3gZV48TJ",
        "outputId": "25b22ace-1805-4b9f-f59e-bdbd069f25ad"
      },
      "source": [
        "#Evaluating model on test dataset\n",
        "test_mse = mean_squared_error(y_test, knnmodel.predict(test_scaled))\n",
        "test_mae = mean_absolute_error(y_test, knnmodel.predict(test_scaled))\n",
        "print(\"mse = \",test_mse,\" & mae = \",test_mae,\" & rmse = \", sqrt(test_mse))"
      ],
      "execution_count": 38,
      "outputs": [
        {
          "output_type": "stream",
          "text": [
            "mse =  35690.13760014362  & mae =  106.92658727095515  & rmse =  188.9183357965648\n"
          ],
          "name": "stdout"
        }
      ]
    },
    {
      "cell_type": "markdown",
      "metadata": {
        "id": "Y8HECfJs7xFk"
      },
      "source": [
        "**Ridge Regression**"
      ]
    },
    {
      "cell_type": "code",
      "metadata": {
        "colab": {
          "base_uri": "https://localhost:8080/"
        },
        "id": "MLBE82dW8phN",
        "outputId": "79c1b238-f85d-45d7-d347-8ba135f28311"
      },
      "source": [
        "from sklearn.linear_model import LinearRegression, Ridge\n",
        "ridge_reg = Ridge(alpha=0)\n",
        "ridge_reg.fit(train_scaled, y_train)"
      ],
      "execution_count": 44,
      "outputs": [
        {
          "output_type": "execute_result",
          "data": {
            "text/plain": [
              "Ridge(alpha=0, copy_X=True, fit_intercept=True, max_iter=None, normalize=False,\n",
              "      random_state=None, solver='auto', tol=0.001)"
            ]
          },
          "metadata": {
            "tags": []
          },
          "execution_count": 44
        }
      ]
    },
    {
      "cell_type": "code",
      "metadata": {
        "colab": {
          "base_uri": "https://localhost:8080/"
        },
        "id": "raCCGc259Dc5",
        "outputId": "7233c7da-2221-47db-9c47-252d7da81dd8"
      },
      "source": [
        "#Evaluating model on train dataset\n",
        "mse = mean_squared_error(y_train, ridge_reg.predict(train_scaled))\n",
        "mae = mean_absolute_error(y_train, ridge_reg.predict(train_scaled))\n",
        "print(\"mse = \",mse,\" & mae = \",mae,\" & rmse = \", sqrt(mse))"
      ],
      "execution_count": 45,
      "outputs": [
        {
          "output_type": "stream",
          "text": [
            "mse =  28624.371743932756  & mae =  89.32144986671194  & rmse =  169.18738647999962\n"
          ],
          "name": "stdout"
        }
      ]
    },
    {
      "cell_type": "code",
      "metadata": {
        "colab": {
          "base_uri": "https://localhost:8080/"
        },
        "id": "mPJ5lrVd9L1O",
        "outputId": "b23f1c01-2098-46be-f8d9-14be8df1e6d3"
      },
      "source": [
        "#Evaluating model on test dataset\n",
        "test_mse = mean_squared_error(y_test, ridge_reg.predict(test_scaled))\n",
        "test_mae = mean_absolute_error(y_test, ridge_reg.predict(test_scaled))\n",
        "print(\"mse = \",test_mse,\" & mae = \",test_mae,\" & rmse = \", sqrt(test_mse))"
      ],
      "execution_count": 48,
      "outputs": [
        {
          "output_type": "stream",
          "text": [
            "mse =  27780.914191569027  & mae =  121.36934160594097  & rmse =  166.67607564245395\n"
          ],
          "name": "stdout"
        }
      ]
    },
    {
      "cell_type": "markdown",
      "metadata": {
        "id": "C3SHlXaY99nQ"
      },
      "source": [
        "**Bayesian Regression**"
      ]
    },
    {
      "cell_type": "code",
      "metadata": {
        "colab": {
          "base_uri": "https://localhost:8080/"
        },
        "id": "JFgD9DSp-DL8",
        "outputId": "96e84ca0-a7c2-4f8a-e535-dc8f86c6617a"
      },
      "source": [
        "from sklearn.linear_model import BayesianRidge\n",
        "bayesian_model = BayesianRidge()\n",
        "bayesian_model.fit(train_scaled, y_train)"
      ],
      "execution_count": 49,
      "outputs": [
        {
          "output_type": "execute_result",
          "data": {
            "text/plain": [
              "BayesianRidge(alpha_1=1e-06, alpha_2=1e-06, alpha_init=None,\n",
              "              compute_score=False, copy_X=True, fit_intercept=True,\n",
              "              lambda_1=1e-06, lambda_2=1e-06, lambda_init=None, n_iter=300,\n",
              "              normalize=False, tol=0.001, verbose=False)"
            ]
          },
          "metadata": {
            "tags": []
          },
          "execution_count": 49
        }
      ]
    },
    {
      "cell_type": "code",
      "metadata": {
        "colab": {
          "base_uri": "https://localhost:8080/"
        },
        "id": "3tz0odWW-fRs",
        "outputId": "b880ff6c-576c-4c26-fef8-47707dae676f"
      },
      "source": [
        "#Evaluating model on train dataset\n",
        "mse = mean_squared_error(y_train, bayesian_model.predict(train_scaled))\n",
        "mae = mean_absolute_error(y_train, bayesian_model.predict(train_scaled))\n",
        "print(\"mse = \",mse,\" & mae = \",mae,\" & rmse = \", sqrt(mse))"
      ],
      "execution_count": 50,
      "outputs": [
        {
          "output_type": "stream",
          "text": [
            "mse =  30372.330927217234  & mae =  95.95048509103077  & rmse =  174.27659317079053\n"
          ],
          "name": "stdout"
        }
      ]
    },
    {
      "cell_type": "code",
      "metadata": {
        "colab": {
          "base_uri": "https://localhost:8080/"
        },
        "id": "M9se_2qU-nAH",
        "outputId": "bc4c2ea3-0716-46b5-bd77-0d8509b59c74"
      },
      "source": [
        "#Evaluating model on test dataset\n",
        "test_mse = mean_squared_error(y_test, bayesian_model.predict(test_scaled))\n",
        "test_mae = mean_absolute_error(y_test, bayesian_model.predict(test_scaled))\n",
        "print(\"mse = \",test_mse,\" & mae = \",test_mae,\" & rmse = \", sqrt(test_mse))"
      ],
      "execution_count": 51,
      "outputs": [
        {
          "output_type": "stream",
          "text": [
            "mse =  25590.61734600241  & mae =  99.56190534978082  & rmse =  159.97067651917465\n"
          ],
          "name": "stdout"
        }
      ]
    }
  ]
}