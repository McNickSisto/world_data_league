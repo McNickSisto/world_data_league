{
 "cells": [
  {
   "cell_type": "markdown",
   "id": "b3d3afaf",
   "metadata": {},
   "source": [
    "# Imports"
   ]
  },
  {
   "cell_type": "code",
   "execution_count": 43,
   "id": "4b0af9c6",
   "metadata": {
    "ExecuteTime": {
     "end_time": "2021-05-16T07:27:51.122664Z",
     "start_time": "2021-05-16T07:27:51.115525Z"
    }
   },
   "outputs": [],
   "source": [
    "import geopandas as gpd\n",
    "import pandas as pd\n",
    "import fiona\n",
    "import os\n",
    "import matplotlib.pyplot as plt\n",
    "import folium\n",
    "from zipfile import ZipFile\n",
    "from folium.plugins import MarkerCluster, HeatMap, BeautifyIcon\n",
    "from folium.map import LayerControl, Layer, FeatureGroup\n",
    "import seaborn as sns\n",
    "from shapely.geometry import Point, LineString, MultiPoint\n"
   ]
  },
  {
   "cell_type": "markdown",
   "id": "d40cc9f2",
   "metadata": {},
   "source": [
    "# Challenge description"
   ]
  },
  {
   "cell_type": "markdown",
   "id": "af15da23",
   "metadata": {},
   "source": [
    "**Goals**<br>\n",
    "Reducing the outdoor advertising visual impact in cities, minimising the reduction of the\n",
    "audience of the outdoor ad sector. Improving the visual environment of cities and the\n",
    "sustainability of the outdoor advertising activity.\n",
    "A more careful organisation of outdoor advertising panels in cities will help achieve the\n",
    "11th UN Sustainable Goal - Sustainable Cities and Communities, not only because it\n",
    "increases the visual quality of streets and roads but also allows to increase the focus on\n",
    "the message and the announcement that the panel intends to transmit.\n",
    "<br>\n",
    "**Outcome**<br>\n",
    "Create a model that optimises the number and location of the outdoor advertising\n",
    "positions in order to minimize the visual impact in urban environments. Consider also a\n",
    "better dimensioning and integration of outdoor advertising positions in cities."
   ]
  },
  {
   "cell_type": "markdown",
   "id": "e040bb4b",
   "metadata": {},
   "source": [
    "# Data"
   ]
  },
  {
   "cell_type": "code",
   "execution_count": 5,
   "id": "33511e2c",
   "metadata": {
    "ExecuteTime": {
     "end_time": "2021-05-16T06:56:32.668436Z",
     "start_time": "2021-05-16T06:56:31.945138Z"
    }
   },
   "outputs": [],
   "source": [
    "# IMPORT AND PAD COLUMN NAMES\n",
    "geo = gpd.read_file('data/outdoor_inventory').rename(columns={'Max_Visibi':'Max_Visibility_Distance', 'Average_Da':'Average_Daily_Views'})\n"
   ]
  },
  {
   "cell_type": "code",
   "execution_count": 7,
   "id": "aed51dab",
   "metadata": {
    "ExecuteTime": {
     "end_time": "2021-05-16T06:56:57.335843Z",
     "start_time": "2021-05-16T06:56:57.287751Z"
    }
   },
   "outputs": [
    {
     "data": {
      "text/html": [
       "<div>\n",
       "<style scoped>\n",
       "    .dataframe tbody tr th:only-of-type {\n",
       "        vertical-align: middle;\n",
       "    }\n",
       "\n",
       "    .dataframe tbody tr th {\n",
       "        vertical-align: top;\n",
       "    }\n",
       "\n",
       "    .dataframe thead th {\n",
       "        text-align: right;\n",
       "    }\n",
       "</style>\n",
       "<table border=\"1\" class=\"dataframe\">\n",
       "  <thead>\n",
       "    <tr style=\"text-align: right;\">\n",
       "      <th></th>\n",
       "      <th>PanelID</th>\n",
       "      <th>X</th>\n",
       "      <th>Y</th>\n",
       "      <th>Max_Visibility_Distance</th>\n",
       "      <th>Average_Daily_Views</th>\n",
       "      <th>geometry</th>\n",
       "    </tr>\n",
       "  </thead>\n",
       "  <tbody>\n",
       "    <tr>\n",
       "      <th>0</th>\n",
       "      <td>26144</td>\n",
       "      <td>-8.473975</td>\n",
       "      <td>40.900768</td>\n",
       "      <td>69</td>\n",
       "      <td>31.0</td>\n",
       "      <td>POINT (-8.47397 40.90077)</td>\n",
       "    </tr>\n",
       "    <tr>\n",
       "      <th>1</th>\n",
       "      <td>11714</td>\n",
       "      <td>-9.315949</td>\n",
       "      <td>38.958125</td>\n",
       "      <td>69</td>\n",
       "      <td>31.0</td>\n",
       "      <td>POINT (-9.31595 38.95813)</td>\n",
       "    </tr>\n",
       "    <tr>\n",
       "      <th>2</th>\n",
       "      <td>26109</td>\n",
       "      <td>-8.510079</td>\n",
       "      <td>40.871821</td>\n",
       "      <td>69</td>\n",
       "      <td>32.0</td>\n",
       "      <td>POINT (-8.51008 40.87182)</td>\n",
       "    </tr>\n",
       "    <tr>\n",
       "      <th>3</th>\n",
       "      <td>32555</td>\n",
       "      <td>-8.479751</td>\n",
       "      <td>40.837695</td>\n",
       "      <td>69</td>\n",
       "      <td>32.0</td>\n",
       "      <td>POINT (-8.47975 40.83769)</td>\n",
       "    </tr>\n",
       "    <tr>\n",
       "      <th>4</th>\n",
       "      <td>5291</td>\n",
       "      <td>-8.429870</td>\n",
       "      <td>40.268692</td>\n",
       "      <td>69</td>\n",
       "      <td>32.0</td>\n",
       "      <td>POINT (-8.42987 40.26869)</td>\n",
       "    </tr>\n",
       "  </tbody>\n",
       "</table>\n",
       "</div>"
      ],
      "text/plain": [
       "   PanelID         X          Y  Max_Visibility_Distance  Average_Daily_Views  \\\n",
       "0    26144 -8.473975  40.900768                       69                 31.0   \n",
       "1    11714 -9.315949  38.958125                       69                 31.0   \n",
       "2    26109 -8.510079  40.871821                       69                 32.0   \n",
       "3    32555 -8.479751  40.837695                       69                 32.0   \n",
       "4     5291 -8.429870  40.268692                       69                 32.0   \n",
       "\n",
       "                    geometry  \n",
       "0  POINT (-8.47397 40.90077)  \n",
       "1  POINT (-9.31595 38.95813)  \n",
       "2  POINT (-8.51008 40.87182)  \n",
       "3  POINT (-8.47975 40.83769)  \n",
       "4  POINT (-8.42987 40.26869)  "
      ]
     },
     "execution_count": 7,
     "metadata": {},
     "output_type": "execute_result"
    }
   ],
   "source": [
    "geo.head()"
   ]
  },
  {
   "cell_type": "code",
   "execution_count": 8,
   "id": "60fc0185",
   "metadata": {
    "ExecuteTime": {
     "end_time": "2021-05-16T06:57:10.715970Z",
     "start_time": "2021-05-16T06:57:10.670606Z"
    }
   },
   "outputs": [
    {
     "data": {
      "text/html": [
       "<div>\n",
       "<style scoped>\n",
       "    .dataframe tbody tr th:only-of-type {\n",
       "        vertical-align: middle;\n",
       "    }\n",
       "\n",
       "    .dataframe tbody tr th {\n",
       "        vertical-align: top;\n",
       "    }\n",
       "\n",
       "    .dataframe thead th {\n",
       "        text-align: right;\n",
       "    }\n",
       "</style>\n",
       "<table border=\"1\" class=\"dataframe\">\n",
       "  <thead>\n",
       "    <tr style=\"text-align: right;\">\n",
       "      <th></th>\n",
       "      <th>PanelID</th>\n",
       "      <th>X</th>\n",
       "      <th>Y</th>\n",
       "      <th>Max_Visibility_Distance</th>\n",
       "      <th>Average_Daily_Views</th>\n",
       "    </tr>\n",
       "  </thead>\n",
       "  <tbody>\n",
       "    <tr>\n",
       "      <th>count</th>\n",
       "      <td>30375.000000</td>\n",
       "      <td>30375.000000</td>\n",
       "      <td>30375.000000</td>\n",
       "      <td>30375.000000</td>\n",
       "      <td>30375.000000</td>\n",
       "    </tr>\n",
       "    <tr>\n",
       "      <th>mean</th>\n",
       "      <td>20152.920230</td>\n",
       "      <td>-8.846455</td>\n",
       "      <td>39.632174</td>\n",
       "      <td>77.181267</td>\n",
       "      <td>7302.318656</td>\n",
       "    </tr>\n",
       "    <tr>\n",
       "      <th>std</th>\n",
       "      <td>12684.266981</td>\n",
       "      <td>0.388097</td>\n",
       "      <td>1.293727</td>\n",
       "      <td>22.593576</td>\n",
       "      <td>6112.093208</td>\n",
       "    </tr>\n",
       "    <tr>\n",
       "      <th>min</th>\n",
       "      <td>3.000000</td>\n",
       "      <td>-9.475810</td>\n",
       "      <td>37.012431</td>\n",
       "      <td>61.000000</td>\n",
       "      <td>31.000000</td>\n",
       "    </tr>\n",
       "    <tr>\n",
       "      <th>25%</th>\n",
       "      <td>10662.500000</td>\n",
       "      <td>-9.162180</td>\n",
       "      <td>38.717190</td>\n",
       "      <td>69.000000</td>\n",
       "      <td>3221.000000</td>\n",
       "    </tr>\n",
       "    <tr>\n",
       "      <th>50%</th>\n",
       "      <td>19913.000000</td>\n",
       "      <td>-8.898694</td>\n",
       "      <td>38.788461</td>\n",
       "      <td>69.000000</td>\n",
       "      <td>5923.000000</td>\n",
       "    </tr>\n",
       "    <tr>\n",
       "      <th>75%</th>\n",
       "      <td>27761.500000</td>\n",
       "      <td>-8.585569</td>\n",
       "      <td>41.148252</td>\n",
       "      <td>69.000000</td>\n",
       "      <td>9621.000000</td>\n",
       "    </tr>\n",
       "    <tr>\n",
       "      <th>max</th>\n",
       "      <td>49326.000000</td>\n",
       "      <td>-7.129245</td>\n",
       "      <td>42.106631</td>\n",
       "      <td>180.000000</td>\n",
       "      <td>81532.000000</td>\n",
       "    </tr>\n",
       "  </tbody>\n",
       "</table>\n",
       "</div>"
      ],
      "text/plain": [
       "            PanelID             X             Y  Max_Visibility_Distance  \\\n",
       "count  30375.000000  30375.000000  30375.000000             30375.000000   \n",
       "mean   20152.920230     -8.846455     39.632174                77.181267   \n",
       "std    12684.266981      0.388097      1.293727                22.593576   \n",
       "min        3.000000     -9.475810     37.012431                61.000000   \n",
       "25%    10662.500000     -9.162180     38.717190                69.000000   \n",
       "50%    19913.000000     -8.898694     38.788461                69.000000   \n",
       "75%    27761.500000     -8.585569     41.148252                69.000000   \n",
       "max    49326.000000     -7.129245     42.106631               180.000000   \n",
       "\n",
       "       Average_Daily_Views  \n",
       "count         30375.000000  \n",
       "mean           7302.318656  \n",
       "std            6112.093208  \n",
       "min              31.000000  \n",
       "25%            3221.000000  \n",
       "50%            5923.000000  \n",
       "75%            9621.000000  \n",
       "max           81532.000000  "
      ]
     },
     "execution_count": 8,
     "metadata": {},
     "output_type": "execute_result"
    }
   ],
   "source": [
    "geo.describe()"
   ]
  },
  {
   "cell_type": "code",
   "execution_count": 37,
   "id": "f33c003e",
   "metadata": {
    "ExecuteTime": {
     "end_time": "2021-05-16T07:19:07.610733Z",
     "start_time": "2021-05-16T07:19:07.604749Z"
    }
   },
   "outputs": [
    {
     "data": {
      "text/plain": [
       "621"
      ]
     },
     "execution_count": 37,
     "metadata": {},
     "output_type": "execute_result"
    }
   ],
   "source": [
    "geo.Max_Visibility_Distance.idxmin()"
   ]
  },
  {
   "cell_type": "code",
   "execution_count": 41,
   "id": "809b7c9c",
   "metadata": {
    "ExecuteTime": {
     "end_time": "2021-05-16T07:26:43.980537Z",
     "start_time": "2021-05-16T07:26:40.544668Z"
    }
   },
   "outputs": [
    {
     "name": "stdout",
     "output_type": "stream",
     "text": [
      "Activate layers to see outliers\n"
     ]
    }
   ],
   "source": [
    "m = folium.Map([39.632174, -8.846455])\n",
    "\n",
    "# ALL ADS\n",
    "marker_cluster = MarkerCluster(name = 'all_ads')\n",
    "\n",
    "for c, row in geo.iterrows():\n",
    "    tooltip = row.PanelID\n",
    "    popup = f'Average_Daily_Views: \\n{row.Average_Daily_Views}'\n",
    "    folium.Marker([row.Y, row.X], tooltip=tooltip, popup=popup).add_to(marker_cluster)\n",
    "    \n",
    "marker_cluster.add_to(m)\n",
    "\n",
    "# OUTLIERS\n",
    "outs = FeatureGroup(name='Outliers', show=False)\n",
    "# min vis dist\n",
    "min_vis = geo.Max_Visibility_Distance.idxmin()\n",
    "folium.Marker((geo.loc[min_vis, 'Y'], geo.loc[min_vis, 'X']), \n",
    "              tooltip=f'Minimum visibility {geo.loc[min_vis, \"Max_Visibility_Distance\"]}').add_to(outs)\n",
    "\n",
    "# min views\n",
    "min_view = geo.Average_Daily_Views.idxmax()\n",
    "folium.Marker((geo.loc[min_view, 'Y'], geo.loc[min_view, 'X']), \n",
    "              tooltip=f'Minimum views {geo.loc[min_view, \"Average_Daily_Views\"]}').add_to(outs)\n",
    "# max views\n",
    "max_view = geo.Average_Daily_Views.idxmin()\n",
    "folium.Marker((geo.loc[max_view, 'Y'], geo.loc[max_view, 'X']), \n",
    "              tooltip=f'Max views {geo.loc[max_view, \"Max_Visibility_Distance\"]}').add_to(outs)\n",
    "\n",
    "outs.add_to(m)\n",
    "\n",
    "LayerControl().add_to(m)\n",
    "\n",
    "m\n",
    "print('Activate layers to see outliers')"
   ]
  },
  {
   "cell_type": "code",
   "execution_count": 27,
   "id": "e60424e2",
   "metadata": {
    "ExecuteTime": {
     "end_time": "2021-05-16T07:05:36.251007Z",
     "start_time": "2021-05-16T07:05:36.111936Z"
    }
   },
   "outputs": [
    {
     "data": {
      "text/plain": [
       "<AxesSubplot:xlabel='Max_Visibility_Distance', ylabel='Count'>"
      ]
     },
     "execution_count": 27,
     "metadata": {},
     "output_type": "execute_result"
    },
    {
     "data": {
      "image/png": "[encoded data removed]",
      "text/plain": [
       "<Figure size 432x288 with 1 Axes>"
      ]
     },
     "metadata": {
      "needs_background": "light"
     },
     "output_type": "display_data"
    }
   ],
   "source": [
    "sns.histplot(geo.Max_Visibility_Distance)"
   ]
  },
  {
   "cell_type": "code",
   "execution_count": 26,
   "id": "a09d963a",
   "metadata": {
    "ExecuteTime": {
     "end_time": "2021-05-16T07:05:29.637542Z",
     "start_time": "2021-05-16T07:05:29.330238Z"
    }
   },
   "outputs": [
    {
     "data": {
      "text/plain": [
       "<AxesSubplot:xlabel='Average_Daily_Views', ylabel='Count'>"
      ]
     },
     "execution_count": 26,
     "metadata": {},
     "output_type": "execute_result"
    },
    {
     "data": {
      "image/png": "[encoded data removed]",
      "text/plain": [
       "<Figure size 432x288 with 1 Axes>"
      ]
     },
     "metadata": {
      "needs_background": "light"
     },
     "output_type": "display_data"
    }
   ],
   "source": [
    "sns.histplot(geo.Average_Daily_Views)"
   ]
  },
  {
   "cell_type": "code",
   "execution_count": 32,
   "id": "96f08081",
   "metadata": {
    "ExecuteTime": {
     "end_time": "2021-05-16T07:11:16.029975Z",
     "start_time": "2021-05-16T07:11:16.008288Z"
    }
   },
   "outputs": [
    {
     "data": {
      "text/plain": [
       "PanelID                    0\n",
       "X                          0\n",
       "Y                          0\n",
       "Max_Visibility_Distance    0\n",
       "Average_Daily_Views        0\n",
       "geometry                   0\n",
       "dtype: int64"
      ]
     },
     "execution_count": 32,
     "metadata": {},
     "output_type": "execute_result"
    }
   ],
   "source": [
    "geo.isna().sum()"
   ]
  },
  {
   "cell_type": "markdown",
   "id": "e682ce58",
   "metadata": {},
   "source": [
    "**Findings**:<br>\n",
    "\n",
    "- 30k rows spread over all Portugal\n",
    "- Data seems clean, no nan"
   ]
  },
  {
   "cell_type": "markdown",
   "id": "2cccd642",
   "metadata": {},
   "source": [
    "# Suggestions"
   ]
  },
  {
   "cell_type": "markdown",
   "id": "a29da327",
   "metadata": {},
   "source": [
    "- Devide dataset:\n",
    "    - Only highway ads\n",
    "    - Only Lisbon data\n",
    "    - Only ads with low visibility range (inside cities, close to pedestrian areas)"
   ]
  },
  {
   "cell_type": "code",
   "execution_count": 47,
   "id": "82ab9a13",
   "metadata": {
    "ExecuteTime": {
     "end_time": "2021-05-16T07:28:14.671871Z",
     "start_time": "2021-05-16T07:28:14.370895Z"
    }
   },
   "outputs": [
    {
     "data": {
      "text/plain": [
       "(15821, 6)"
      ]
     },
     "execution_count": 47,
     "metadata": {},
     "output_type": "execute_result"
    }
   ],
   "source": [
    "## Filtering only lisbon data at 38.72526068747401, -9.142352617846093\n",
    "circle_lisbon = Point(-9.142352617846093, 38.72526068747401).buffer(1)\n",
    "geo_lis = geo[geo.geometry.within(circle_lisbon)]\n",
    "geo_lis.shape"
   ]
  },
  {
   "cell_type": "markdown",
   "id": "4747b652",
   "metadata": {
    "ExecuteTime": {
     "end_time": "2021-05-16T07:27:58.101050Z",
     "start_time": "2021-05-16T07:27:57.973341Z"
    }
   },
   "source": [
    "**Lisbon Data**:\n",
    "- represents half of all data"
   ]
  },
  {
   "cell_type": "code",
   "execution_count": null,
   "id": "066d5104",
   "metadata": {
    "ExecuteTime": {
     "start_time": "2021-05-16T07:29:46.731Z"
    }
   },
   "outputs": [],
   "source": [
    "m = folium.Map([38.7252, -9.142])\n",
    "\n",
    "# ALL ADS\n",
    "marker_cluster = MarkerCluster(name = 'Lis_ads')\n",
    "\n",
    "for c, row in geo_lis.iterrows():\n",
    "    tooltip = row.PanelID\n",
    "    popup = f'Average_Daily_Views: \\n{row.Average_Daily_Views}'\n",
    "    folium.Marker([row.Y, row.X], tooltip=tooltip, popup=popup).add_to(marker_cluster)\n",
    "    \n",
    "marker_cluster.add_to(m)\n",
    "m"
   ]
  },
  {
   "cell_type": "code",
   "execution_count": null,
   "id": "c6b8e339",
   "metadata": {},
   "outputs": [],
   "source": []
  },
  {
   "cell_type": "code",
   "execution_count": null,
   "id": "831f623f",
   "metadata": {},
   "outputs": [],
   "source": []
  }
 ],
 "metadata": {
  "kernelspec": {
   "display_name": "Python 3",
   "language": "python",
   "name": "python3"
  },
  "language_info": {
   "codemirror_mode": {
    "name": "ipython",
    "version": 3
   },
   "file_extension": ".py",
   "mimetype": "text/x-python",
   "name": "python",
   "nbconvert_exporter": "python",
   "pygments_lexer": "ipython3",
   "version": "3.8.6"
  },
  "toc": {
   "base_numbering": 1,
   "nav_menu": {},
   "number_sections": true,
   "sideBar": true,
   "skip_h1_title": false,
   "title_cell": "Table of Contents",
   "title_sidebar": "Contents",
   "toc_cell": false,
   "toc_position": {},
   "toc_section_display": true,
   "toc_window_display": false
  }
 },
 "nbformat": 4,
 "nbformat_minor": 5
}
