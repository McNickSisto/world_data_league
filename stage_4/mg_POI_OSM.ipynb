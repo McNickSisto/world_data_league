{
 "cells": [
  {
   "cell_type": "code",
   "execution_count": 234,
   "id": "stock-diploma",
   "metadata": {
    "ExecuteTime": {
     "end_time": "2021-05-25T08:40:49.297566Z",
     "start_time": "2021-05-25T08:40:49.284782Z"
    }
   },
   "outputs": [
    {
     "name": "stdout",
     "output_type": "stream",
     "text": [
      "pandas 1.2.4\n",
      "geopandas 0.9.0\n"
     ]
    }
   ],
   "source": [
    "import requests\n",
    "import numpy as np\n",
    "import pandas as pd\n",
    "import matplotlib.pyplot as plt\n",
    "import osmnx as ox\n",
    "import geopandas as gpd\n",
    "import osmium\n",
    "from shapely.geometry import Polygon\n",
    "import json\n",
    "import fiona\n",
    "import os\n",
    "from shapely.geometry import shape \n",
    "import contextily as ctx\n",
    "from sklearn.preprocessing import OneHotEncoder\n",
    "from shapely.geometry import Point, Polygon\n",
    "import folium\n",
    "from zipfile import ZipFile\n",
    "from folium.plugins import MarkerCluster, HeatMap, BeautifyIcon\n",
    "from folium.map import LayerControl, Layer, FeatureGroup\n",
    "import seaborn as sns\n",
    "from shapely.geometry import Point, LineString, MultiPoint\n",
    "import requests\n",
    "from io import BytesIO, StringIO\n",
    "import contextily as ctx\n",
    "from IPython.display import HTML, display, IFrame\n",
    "import osmnx as ox\n",
    "import osmium\n",
    "from osm_runner import Runner\n",
    "import regex as re\n",
    "import unicodedata\n",
    "from ipywidgets import interact, interactive, fixed, interact_manual, IntSlider\n",
    "import osmnx as ox\n",
    "import osmium\n",
    "\n",
    "\n",
    "\n",
    "\n",
    "for module in [pd, gpd]:\n",
    "    print(module.__name__, module.__version__)"
   ]
  },
  {
   "cell_type": "code",
   "execution_count": 235,
   "id": "quarterly-median",
   "metadata": {
    "ExecuteTime": {
     "end_time": "2021-05-25T08:40:49.434814Z",
     "start_time": "2021-05-25T08:40:49.430133Z"
    }
   },
   "outputs": [],
   "source": [
    "pd.set_option('display.max_columns', None)"
   ]
  },
  {
   "cell_type": "markdown",
   "id": "thermal-aaron",
   "metadata": {
    "ExecuteTime": {
     "end_time": "2021-05-19T15:38:49.584789Z",
     "start_time": "2021-05-19T15:38:49.580706Z"
    }
   },
   "source": [
    "# Loading Data "
   ]
  },
  {
   "cell_type": "markdown",
   "id": "aa2c4a9c",
   "metadata": {},
   "source": [
    "## Challenge Data"
   ]
  },
  {
   "cell_type": "code",
   "execution_count": 236,
   "id": "157e948d",
   "metadata": {
    "ExecuteTime": {
     "end_time": "2021-05-25T08:40:50.273737Z",
     "start_time": "2021-05-25T08:40:49.866238Z"
    }
   },
   "outputs": [
    {
     "data": {
      "text/plain": [
       "((128, 14),\n",
       " Green_Zone_name               object\n",
       " no_of_museums                  int64\n",
       " no_of_parking_lots             int64\n",
       " no_of_tourist_attractions      int64\n",
       " gz_daily_avg_demand          float64\n",
       " Resident                       int64\n",
       " daily_avg_people             float64\n",
       " no_of_buildings                int64\n",
       " no_of_families                 int64\n",
       " no_of_people_resident          int64\n",
       " perc_senior_pop              float64\n",
       " perc_pop_until_19_yo         float64\n",
       " POINT_X                      float64\n",
       " POINT_Y                      float64\n",
       " dtype: object)"
      ]
     },
     "execution_count": 236,
     "metadata": {},
     "output_type": "execute_result"
    }
   ],
   "source": [
    "green_areas = pd.read_csv('https://raw.githubusercontent.com/SowmyaMadala/WDL-Stage4/main/Data/Attracting%20Population/WDL_Green_Areas_Dataset_V1.txt', \n",
    "                          sep =\"|\", \n",
    "                          encoding =\"latin-1\").rename(columns = {'Number of Museums in influence area' : 'no_of_museums',\n",
    "                                                                 'Number of parking lots in influence area' : 'no_of_parking_lots',\n",
    "                                                                'Number of tourist attractions in influence area': 'no_of_tourist_attractions', \n",
    "                                                                'Green Zones Daily Average Demand':'gz_daily_avg_demand',\n",
    "                                                                'Daily average of people in influence area': 'daily_avg_people',\n",
    "                                                                'Number of buildings in influence area' : 'no_of_buildings',\n",
    "                                                                'Number of families in influence area': 'no_of_families',\n",
    "                                                                'Number of people resident in influence area' : 'no_of_people_resident'\n",
    "                                                                })\n",
    "\n",
    "green_areas.shape, green_areas.dtypes\n"
   ]
  },
  {
   "cell_type": "code",
   "execution_count": 237,
   "id": "b9bd77de",
   "metadata": {
    "ExecuteTime": {
     "end_time": "2021-05-25T08:40:50.342235Z",
     "start_time": "2021-05-25T08:40:50.277673Z"
    }
   },
   "outputs": [
    {
     "name": "stderr",
     "output_type": "stream",
     "text": [
      "<ipython-input-237-01c984405eca>:3: SettingWithCopyWarning: \n",
      "A value is trying to be set on a copy of a slice from a DataFrame.\n",
      "Try using .loc[row_indexer,col_indexer] = value instead\n",
      "\n",
      "See the caveats in the documentation: https://pandas.pydata.org/pandas-docs/stable/user_guide/indexing.html#returning-a-view-versus-a-copy\n",
      "  res_green_areas['latlng'] = res_green_areas.apply(lambda x: (x.POINT_Y, x.POINT_X), axis=1)\n",
      "<ipython-input-237-01c984405eca>:4: SettingWithCopyWarning: \n",
      "A value is trying to be set on a copy of a slice from a DataFrame.\n",
      "Try using .loc[row_indexer,col_indexer] = value instead\n",
      "\n",
      "See the caveats in the documentation: https://pandas.pydata.org/pandas-docs/stable/user_guide/indexing.html#returning-a-view-versus-a-copy\n",
      "  res_green_areas['geometry'] = res_green_areas.apply(lambda x: Point(x.POINT_X, x.POINT_Y), axis=1)\n"
     ]
    }
   ],
   "source": [
    "# turn green areas into geo df\n",
    "res_green_areas = green_areas[green_areas.Resident == 1] # only residential data\n",
    "res_green_areas['latlng'] = res_green_areas.apply(lambda x: (x.POINT_Y, x.POINT_X), axis=1)\n",
    "res_green_areas['geometry'] = res_green_areas.apply(lambda x: Point(x.POINT_X, x.POINT_Y), axis=1)\n",
    "geo_green_areas = gpd.GeoDataFrame(res_green_areas.drop(columns=['POINT_X', 'POINT_Y'])).reset_index()\n",
    "# set crs EPSG=4326 (WGS84 latitude-longitude projection)\n",
    "geo_green_areas = geo_green_areas.set_crs(\"EPSG:4326\")"
   ]
  },
  {
   "cell_type": "markdown",
   "id": "894093fc",
   "metadata": {},
   "source": [
    "## Parish data"
   ]
  },
  {
   "cell_type": "code",
   "execution_count": 238,
   "id": "e5346b17",
   "metadata": {
    "ExecuteTime": {
     "end_time": "2021-05-25T08:40:51.026971Z",
     "start_time": "2021-05-25T08:40:50.343930Z"
    }
   },
   "outputs": [
    {
     "name": "stderr",
     "output_type": "stream",
     "text": [
      "/Users/moritzgeiger/.pyenv/versions/3.8.6/envs/lewagon/lib/python3.8/site-packages/ipykernel/ipkernel.py:283: DeprecationWarning: `should_run_async` will not call `transform_cell` automatically in the future. Please pass the result to `transformed_cell` argument and any exception that happen during thetransform in `preprocessing_exc_tuple` in IPython 7.17 and above.\n",
      "  and should_run_async(code)\n"
     ]
    },
    {
     "data": {
      "text/plain": [
       "(3223, 9)"
      ]
     },
     "execution_count": 238,
     "metadata": {},
     "output_type": "execute_result"
    }
   ],
   "source": [
    "# get parish code poly\n",
    "# url = 'http://mapas.dgterritorio.pt/ATOM-download/CAOP-Cont/Cont_AAD_CAOP2020.zip'\n",
    "path = 'map_data/Cont_AAD_CAOP2020'\n",
    "parishes = gpd.read_file(path)\n",
    "parishes.shape"
   ]
  },
  {
   "cell_type": "code",
   "execution_count": 239,
   "id": "e5dda9ad",
   "metadata": {
    "ExecuteTime": {
     "end_time": "2021-05-25T08:40:54.093933Z",
     "start_time": "2021-05-25T08:40:51.028110Z"
    }
   },
   "outputs": [],
   "source": [
    "# transform the parishes to the same projection\n",
    "parishes_proj = parishes.copy()[['Dicofre', 'geometry']]\n",
    "parishes_proj = parishes_proj.to_crs(\"EPSG:4326\")\n",
    "\n",
    "# perform the join\n",
    "green_areas_dic = gpd.sjoin(geo_green_areas, \n",
    "                  parishes_proj, \n",
    "                  how='left', \n",
    "                  op='within',\n",
    "                 ).drop(columns=['index_right'])"
   ]
  },
  {
   "cell_type": "code",
   "execution_count": 240,
   "id": "e342c40a",
   "metadata": {
    "ExecuteTime": {
     "end_time": "2021-05-25T08:40:54.097153Z",
     "start_time": "2021-05-25T08:40:54.095472Z"
    }
   },
   "outputs": [
    {
     "name": "stderr",
     "output_type": "stream",
     "text": [
      "/Users/moritzgeiger/.pyenv/versions/3.8.6/envs/lewagon/lib/python3.8/site-packages/ipykernel/ipkernel.py:283: DeprecationWarning: `should_run_async` will not call `transform_cell` automatically in the future. Please pass the result to `transformed_cell` argument and any exception that happen during thetransform in `preprocessing_exc_tuple` in IPython 7.17 and above.\n",
      "  and should_run_async(code)\n"
     ]
    }
   ],
   "source": [
    "# green_areas_dic"
   ]
  },
  {
   "cell_type": "code",
   "execution_count": 241,
   "id": "58248e4f",
   "metadata": {
    "ExecuteTime": {
     "end_time": "2021-05-25T08:40:54.251688Z",
     "start_time": "2021-05-25T08:40:54.098285Z"
    }
   },
   "outputs": [
    {
     "data": {
      "text/plain": [
       "Text(0.5, 1.0, 'Distribution of Dicofres in the set')"
      ]
     },
     "execution_count": 241,
     "metadata": {},
     "output_type": "execute_result"
    },
    {
     "data": {
      "image/png": "[encoded data removed]",
      "text/plain": [
       "<Figure size 720x360 with 1 Axes>"
      ]
     },
     "metadata": {
      "needs_background": "light"
     },
     "output_type": "display_data"
    }
   ],
   "source": [
    "green_areas_dic.Dicofre.value_counts().plot(kind='bar',\n",
    "                                           figsize=(10,5))\n",
    "plt.title('Distribution of Dicofres in the set')"
   ]
  },
  {
   "cell_type": "markdown",
   "id": "376831f2",
   "metadata": {},
   "source": [
    "# Get OSM green spaces shapes"
   ]
  },
  {
   "cell_type": "code",
   "execution_count": 247,
   "id": "3152621b",
   "metadata": {
    "ExecuteTime": {
     "end_time": "2021-05-25T08:41:24.880124Z",
     "start_time": "2021-05-25T08:41:24.875659Z"
    }
   },
   "outputs": [
    {
     "name": "stderr",
     "output_type": "stream",
     "text": [
      "/Users/moritzgeiger/.pyenv/versions/3.8.6/envs/lewagon/lib/python3.8/site-packages/ipykernel/ipkernel.py:283: DeprecationWarning: `should_run_async` will not call `transform_cell` automatically in the future. Please pass the result to `transformed_cell` argument and any exception that happen during thetransform in `preprocessing_exc_tuple` in IPython 7.17 and above.\n",
      "  and should_run_async(code)\n"
     ]
    }
   ],
   "source": [
    "def get_amenities(df,\n",
    "                  tags = {'amenity': False,\n",
    "                            'leisure': True,\n",
    "                            'tourism': False,\n",
    "                            'natural': False,\n",
    "                            'shop': False\n",
    "                           }, \n",
    "                  shapes=False):\n",
    "    \"\"\"\n",
    "    1. returns shapes of parks as Polygons\n",
    "    2. returns all queried amenities inside a shape (Polygon) from OSM\n",
    "    \"\"\"\n",
    "    # create empty list\n",
    "    ins = []\n",
    "    \n",
    "    # iterate through df\n",
    "\n",
    "        \n",
    "    if shapes:\n",
    "        for c, row in df.iterrows(): # first .head(), later all\n",
    "            # check for inside of park amenities\n",
    "            geom = row.geometry\n",
    "            print(row.Green_Zone_name)\n",
    "            # check for inside padded park amenities\n",
    "            insides = ox.geometries.geometries_from_polygon(row.geometry,\n",
    "                                                               tags=tags)\n",
    "            insides['match'] = row['index']\n",
    "\n",
    "            ins.append(insides)\n",
    "    else:\n",
    "        for c, row in df.iterrows(): # first .head(), later all\n",
    "            # check for inside of park amenities\n",
    "            print(row.Green_Zone_name)\n",
    "        \n",
    "            # https://osmnx.readthedocs.io/en/stable/osmnx.html#osmnx.geometries.geometries_from_place\n",
    "            parks = ox.geometries.geometries_from_point(center_point=row.latlng, \n",
    "                                                           tags=tags, \n",
    "                                                           dist=100)\n",
    "\n",
    "            parks['match'] = row['index']\n",
    "            ins.append(parks)\n",
    "\n",
    "    \n",
    "    \n",
    "    must = ['geometry',\n",
    "            'name', \n",
    "            'match']\n",
    "    \n",
    "    opt = [k for k,v in tags.items() if v]\n",
    "    \n",
    "    columns = must + opt\n",
    "    concat = pd.concat(ins)[columns]\n",
    "    \n",
    "    return concat"
   ]
  },
  {
   "cell_type": "code",
   "execution_count": 243,
   "id": "cc221c04",
   "metadata": {
    "ExecuteTime": {
     "end_time": "2021-05-25T08:41:24.805824Z",
     "start_time": "2021-05-25T08:40:54.258706Z"
    },
    "scrolled": true
   },
   "outputs": [
    {
     "name": "stdout",
     "output_type": "stream",
     "text": [
      "ESPAÇO JOGO E RECREIO HOMEM DO LEME\n",
      "JARDIM AFONSO DE ALBUQUERQUE\n",
      "JARDIM ALAMEDA CIDADE UNIVERSITÁRIA\n",
      "JARDIM ALAMEDA DOM AFONSO HENRIQUES\n",
      "JARDIM AMÁLIA RODRIGUES\n",
      "JARDIM AMÉLIA CARVALHEIRA\n",
      "JARDIM ANTÓNIO NOBRE\n",
      "JARDIM AVELAR BROTERO\n",
      "JARDIM BASÍLIO TELES\n",
      "JARDIM BENTO MARTINS\n",
      "JARDIM BOTÂNICO LISBOA\n",
      "JARDIM BOTÂNICO PORTO\n",
      "JARDIM BRAAMCAMP FREIRE\n",
      "JARDIM CONSTANTINO\n",
      "JARDIM DA BOAVISTA\n",
      "JARDIM DA CORUJEIRA\n",
      "JARDIM DA LUZ\n",
      "JARDIM DA RIBEIRA DAS NAUS\n",
      "JARDIM DAS AMOREIRAS\n",
      "JARDIM DE BUCELAS\n",
      "JARDIM DE LOPES DE MENDONÇA\n",
      "JARDIM DE SANTOS\n",
      "JARDIM DE TEÓFILO BRAGA\n",
      "JARDIM DO ARCO DO CEGO\n",
      "JARDIM DO CAMPO GRANDE\n",
      "JARDIM DO CAMPO PEQUENO\n",
      "JARDIM DO PALÁCIO DA BOLSA\n",
      "JARDIM DO PALÁCIO DE BEAU-SÉJOUR\n",
      "JARDIM DO PALÁCIO DE CRISTAL\n",
      "JARDIM DO PRÍNCIPE REAL\n",
      "JARDIM DOM LUÍS I\n",
      "JARDIM FERNANDO PESSA\n",
      "JARDIM FRANCISCO CALDEIRA CABRAL\n",
      "JARDIM FRANCISCO SÁ CARNEIRO\n",
      "JARDIM FUNDAÇÃO CALOUSTE GULBENKIAN\n",
      "JARDIM GARCIA DORTA\n",
      "JARDIM IRMÃ LÚCIA\n",
      "JARDIM JOÃO FREDERICO LUDOVICE\n",
      "JARDIM LISBOA ANTIGA\n",
      "JARDIM NOVE DE ABRIL\n",
      "JARDIM PAULO VALLADA\n",
      "JARDIM PROF. ANTÓNIO SOUSA FRANCO\n",
      "JRD. CP. VINTE E QUATRO DE AGOSTO\n",
      "MATA DE BENFICA\n",
      "PARQUE DA CIDADE DE LOURES\n",
      "PARQUE DE SÃO ROQUE\n",
      "PARQUE DOS ANJOS\n",
      "PARQUE EDUARDO VII\n",
      "PARQUE INFANTIL CONDE DE BONFIM\n",
      "PARQUE INFANTIL DO IPO\n",
      "PARQUE INFANTIL PRAÇA DE LONDRES\n",
      "PARQUE JOSÉ FONTANA\n",
      "PARQUE RECREATIVO ALTO DA SERAFINA\n",
      "PARQUE URBANO DA QUINTA DA GRANJA\n",
      "PARQUE URBANO DA QUINTA NOVA\n",
      "PARQUE URBANO DO CASTELINHO\n",
      "PARQUE URBANO DO SILVADO\n",
      "PQ. INFA. JARD. MARQUÊS DE MARIALA\n",
      "PQ. INFA. JARDIM GOMES DE AMORIM\n",
      "PQ. INFANTIL AV. MARQUÊS DE TOMAR\n",
      "PQ. INFANTIL HOSPITAL DE SANTA MARIA\n",
      "PRAÇA NOVE DE ABRIL\n",
      "QUINTA DAS CONCHAS\n",
      "QUINTA DOS LILÁSES\n"
     ]
    }
   ],
   "source": [
    "parks = get_amenities(green_areas_dic, tags = {'leisure': True})"
   ]
  },
  {
   "cell_type": "code",
   "execution_count": 244,
   "id": "3aa5ca8d",
   "metadata": {
    "ExecuteTime": {
     "end_time": "2021-05-25T08:41:24.810125Z",
     "start_time": "2021-05-25T08:41:24.806863Z"
    }
   },
   "outputs": [
    {
     "name": "stderr",
     "output_type": "stream",
     "text": [
      "/Users/moritzgeiger/.pyenv/versions/3.8.6/envs/lewagon/lib/python3.8/site-packages/ipykernel/ipkernel.py:283: DeprecationWarning: `should_run_async` will not call `transform_cell` automatically in the future. Please pass the result to `transformed_cell` argument and any exception that happen during thetransform in `preprocessing_exc_tuple` in IPython 7.17 and above.\n",
      "  and should_run_async(code)\n"
     ]
    },
    {
     "data": {
      "text/plain": [
       "57     23\n",
       "23     11\n",
       "125     8\n",
       "81      8\n",
       "75      8\n",
       "       ..\n",
       "31      1\n",
       "29      1\n",
       "13      1\n",
       "5       1\n",
       "109     1\n",
       "Name: match, Length: 61, dtype: int64"
      ]
     },
     "execution_count": 244,
     "metadata": {},
     "output_type": "execute_result"
    }
   ],
   "source": [
    "parks.match.value_counts()"
   ]
  },
  {
   "cell_type": "code",
   "execution_count": 245,
   "id": "0910e0be",
   "metadata": {
    "ExecuteTime": {
     "end_time": "2021-05-25T08:41:24.848223Z",
     "start_time": "2021-05-25T08:41:24.811954Z"
    }
   },
   "outputs": [],
   "source": [
    "# group the findings by the first finding\n",
    "by_match = parks.groupby('match').first() # the first one seems to be the park\n",
    "# Moving the old Points to another column\n",
    "green_areas_dic['Points'] = green_areas_dic.geometry\n",
    "green_areas_dic = green_areas_dic.drop(columns=['geometry'])\n",
    "# merge the df with the matched 'parks' from the OSM request\n",
    "green_areas_shape = green_areas_dic.copy().merge(by_match['geometry'], \n",
    "                                        how='left', \n",
    "                                        left_on='index', # the indexes were still the same\n",
    "                                        right_index=True).sort_index()"
   ]
  },
  {
   "cell_type": "code",
   "execution_count": 246,
   "id": "0d35ed8f",
   "metadata": {
    "ExecuteTime": {
     "end_time": "2021-05-25T08:41:24.874660Z",
     "start_time": "2021-05-25T08:41:24.849559Z"
    }
   },
   "outputs": [
    {
     "data": {
      "text/html": [
       "<div>\n",
       "<style scoped>\n",
       "    .dataframe tbody tr th:only-of-type {\n",
       "        vertical-align: middle;\n",
       "    }\n",
       "\n",
       "    .dataframe tbody tr th {\n",
       "        vertical-align: top;\n",
       "    }\n",
       "\n",
       "    .dataframe thead th {\n",
       "        text-align: right;\n",
       "    }\n",
       "</style>\n",
       "<table border=\"1\" class=\"dataframe\">\n",
       "  <thead>\n",
       "    <tr style=\"text-align: right;\">\n",
       "      <th></th>\n",
       "      <th>index</th>\n",
       "      <th>Green_Zone_name</th>\n",
       "      <th>no_of_museums</th>\n",
       "      <th>no_of_parking_lots</th>\n",
       "      <th>no_of_tourist_attractions</th>\n",
       "      <th>gz_daily_avg_demand</th>\n",
       "      <th>Resident</th>\n",
       "      <th>daily_avg_people</th>\n",
       "      <th>no_of_buildings</th>\n",
       "      <th>no_of_families</th>\n",
       "      <th>no_of_people_resident</th>\n",
       "      <th>perc_senior_pop</th>\n",
       "      <th>perc_pop_until_19_yo</th>\n",
       "      <th>latlng</th>\n",
       "      <th>Dicofre</th>\n",
       "      <th>Points</th>\n",
       "      <th>geometry</th>\n",
       "    </tr>\n",
       "  </thead>\n",
       "  <tbody>\n",
       "    <tr>\n",
       "      <th>0</th>\n",
       "      <td>0</td>\n",
       "      <td>ESPAÇO JOGO E RECREIO HOMEM DO LEME</td>\n",
       "      <td>5</td>\n",
       "      <td>28</td>\n",
       "      <td>30</td>\n",
       "      <td>3.728677</td>\n",
       "      <td>1</td>\n",
       "      <td>17780.803014</td>\n",
       "      <td>4783</td>\n",
       "      <td>15352</td>\n",
       "      <td>38012</td>\n",
       "      <td>0.195123</td>\n",
       "      <td>0.196017</td>\n",
       "      <td>(41.16001, -8.68415)</td>\n",
       "      <td>131216</td>\n",
       "      <td>POINT (-8.68415 41.16001)</td>\n",
       "      <td>POLYGON ((-8.68544 41.16198, -8.68570 41.16189...</td>\n",
       "    </tr>\n",
       "    <tr>\n",
       "      <th>1</th>\n",
       "      <td>3</td>\n",
       "      <td>JARDIM AFONSO DE ALBUQUERQUE</td>\n",
       "      <td>93</td>\n",
       "      <td>129</td>\n",
       "      <td>78</td>\n",
       "      <td>10.259113</td>\n",
       "      <td>1</td>\n",
       "      <td>17497.825376</td>\n",
       "      <td>1775</td>\n",
       "      <td>17185</td>\n",
       "      <td>41163</td>\n",
       "      <td>0.161747</td>\n",
       "      <td>0.204917</td>\n",
       "      <td>(38.69674, -9.19949)</td>\n",
       "      <td>110658</td>\n",
       "      <td>POINT (-9.19949 38.69674)</td>\n",
       "      <td>POLYGON ((-9.20107 38.69706, -9.19972 38.69729...</td>\n",
       "    </tr>\n",
       "    <tr>\n",
       "      <th>2</th>\n",
       "      <td>5</td>\n",
       "      <td>JARDIM ALAMEDA CIDADE UNIVERSITÁRIA</td>\n",
       "      <td>8</td>\n",
       "      <td>23</td>\n",
       "      <td>4</td>\n",
       "      <td>47.347816</td>\n",
       "      <td>1</td>\n",
       "      <td>17497.825376</td>\n",
       "      <td>1775</td>\n",
       "      <td>17185</td>\n",
       "      <td>41163</td>\n",
       "      <td>0.161747</td>\n",
       "      <td>0.204917</td>\n",
       "      <td>(38.75294, -9.15757)</td>\n",
       "      <td>110654</td>\n",
       "      <td>POINT (-9.15757 38.75294)</td>\n",
       "      <td>MULTIPOLYGON (((-9.15553 38.75406, -9.15551 38...</td>\n",
       "    </tr>\n",
       "  </tbody>\n",
       "</table>\n",
       "</div>"
      ],
      "text/plain": [
       "   index                      Green_Zone_name  no_of_museums  \\\n",
       "0      0  ESPAÇO JOGO E RECREIO HOMEM DO LEME              5   \n",
       "1      3         JARDIM AFONSO DE ALBUQUERQUE             93   \n",
       "2      5  JARDIM ALAMEDA CIDADE UNIVERSITÁRIA              8   \n",
       "\n",
       "   no_of_parking_lots  no_of_tourist_attractions  gz_daily_avg_demand  \\\n",
       "0                  28                         30             3.728677   \n",
       "1                 129                         78            10.259113   \n",
       "2                  23                          4            47.347816   \n",
       "\n",
       "   Resident  daily_avg_people  no_of_buildings  no_of_families  \\\n",
       "0         1      17780.803014             4783           15352   \n",
       "1         1      17497.825376             1775           17185   \n",
       "2         1      17497.825376             1775           17185   \n",
       "\n",
       "   no_of_people_resident  perc_senior_pop  perc_pop_until_19_yo  \\\n",
       "0                  38012         0.195123              0.196017   \n",
       "1                  41163         0.161747              0.204917   \n",
       "2                  41163         0.161747              0.204917   \n",
       "\n",
       "                 latlng Dicofre                     Points  \\\n",
       "0  (41.16001, -8.68415)  131216  POINT (-8.68415 41.16001)   \n",
       "1  (38.69674, -9.19949)  110658  POINT (-9.19949 38.69674)   \n",
       "2  (38.75294, -9.15757)  110654  POINT (-9.15757 38.75294)   \n",
       "\n",
       "                                            geometry  \n",
       "0  POLYGON ((-8.68544 41.16198, -8.68570 41.16189...  \n",
       "1  POLYGON ((-9.20107 38.69706, -9.19972 38.69729...  \n",
       "2  MULTIPOLYGON (((-9.15553 38.75406, -9.15551 38...  "
      ]
     },
     "execution_count": 246,
     "metadata": {},
     "output_type": "execute_result"
    }
   ],
   "source": [
    "green_areas_shape.head(3)"
   ]
  },
  {
   "cell_type": "markdown",
   "id": "eef686ee",
   "metadata": {},
   "source": [
    "# Get OSM amenities"
   ]
  },
  {
   "cell_type": "code",
   "execution_count": 248,
   "id": "ae7573d5",
   "metadata": {
    "ExecuteTime": {
     "end_time": "2021-05-25T08:41:24.996089Z",
     "start_time": "2021-05-25T08:41:24.881238Z"
    }
   },
   "outputs": [
    {
     "name": "stderr",
     "output_type": "stream",
     "text": [
      "<ipython-input-248-fdc4967997c6>:3: UserWarning: Geometry is in a geographic CRS. Results from 'buffer' are likely incorrect. Use 'GeoSeries.to_crs()' to re-project geometries to a projected CRS before this operation.\n",
      "\n",
      "  green_areas_buff['geometry'] = green_areas_buff.geometry.to_crs(epsg=4326).buffer(.001)\n"
     ]
    }
   ],
   "source": [
    "# buffer green areas to get their sorrounding\n",
    "green_areas_buff = green_areas_shape.copy().set_crs(epsg=4326)\n",
    "green_areas_buff['geometry'] = green_areas_buff.geometry.to_crs(epsg=4326).buffer(.001)"
   ]
  },
  {
   "cell_type": "code",
   "execution_count": null,
   "id": "1d441455",
   "metadata": {
    "ExecuteTime": {
     "start_time": "2021-05-25T08:41:24.601Z"
    }
   },
   "outputs": [
    {
     "name": "stdout",
     "output_type": "stream",
     "text": [
      "ESPAÇO JOGO E RECREIO HOMEM DO LEME\n",
      "JARDIM AFONSO DE ALBUQUERQUE\n",
      "JARDIM ALAMEDA CIDADE UNIVERSITÁRIA\n",
      "JARDIM ALAMEDA DOM AFONSO HENRIQUES\n",
      "JARDIM AMÁLIA RODRIGUES\n",
      "JARDIM AMÉLIA CARVALHEIRA\n",
      "JARDIM ANTÓNIO NOBRE\n"
     ]
    }
   ],
   "source": [
    "# fetch amenities\n",
    "all_amenities = get_amenities(green_areas_buff,\n",
    "                             tags = {'amenity': True,\n",
    "                                    'leisure': True,\n",
    "                                    'tourism': True,\n",
    "                                    'natural': True,\n",
    "                                    'shop': True\n",
    "                                   }, \n",
    "                                   shapes=True)"
   ]
  },
  {
   "cell_type": "code",
   "execution_count": 208,
   "id": "828662d4",
   "metadata": {
    "ExecuteTime": {
     "end_time": "2021-05-25T08:32:17.949744Z",
     "start_time": "2021-05-25T08:32:17.947066Z"
    }
   },
   "outputs": [],
   "source": [
    "# all_amenities"
   ]
  },
  {
   "cell_type": "code",
   "execution_count": 219,
   "id": "105e4fd9",
   "metadata": {
    "ExecuteTime": {
     "end_time": "2021-05-25T08:35:15.444168Z",
     "start_time": "2021-05-25T08:35:15.435530Z"
    }
   },
   "outputs": [
    {
     "name": "stderr",
     "output_type": "stream",
     "text": [
      "/Users/moritzgeiger/.pyenv/versions/3.8.6/envs/lewagon/lib/python3.8/site-packages/ipykernel/ipkernel.py:283: DeprecationWarning: `should_run_async` will not call `transform_cell` automatically in the future. Please pass the result to `transformed_cell` argument and any exception that happen during thetransform in `preprocessing_exc_tuple` in IPython 7.17 and above.\n",
      "  and should_run_async(code)\n"
     ]
    },
    {
     "data": {
      "text/plain": [
       "9    228\n",
       "7     71\n",
       "3     31\n",
       "5     30\n",
       "0     25\n",
       "Name: match, dtype: int64"
      ]
     },
     "execution_count": 219,
     "metadata": {},
     "output_type": "execute_result"
    }
   ],
   "source": [
    "all_amenities.match.value_counts()"
   ]
  },
  {
   "cell_type": "code",
   "execution_count": 220,
   "id": "b91b994a",
   "metadata": {
    "ExecuteTime": {
     "end_time": "2021-05-25T08:35:15.882803Z",
     "start_time": "2021-05-25T08:35:15.815528Z"
    }
   },
   "outputs": [],
   "source": [
    "# the polygons of the actual green spaces are also in the data set\n",
    "prks = all_amenities[(all_amenities['leisure'] == 'park') | (all_amenities['leisure'] == 'garden')]\n",
    "all_amenities = all_amenities.drop(prks.index) # remove the used shapes for the parks"
   ]
  },
  {
   "cell_type": "markdown",
   "id": "2883323c",
   "metadata": {},
   "source": [
    "# Transforming OSM features"
   ]
  },
  {
   "cell_type": "code",
   "execution_count": 221,
   "id": "918d3d89",
   "metadata": {
    "ExecuteTime": {
     "end_time": "2021-05-25T08:35:17.639116Z",
     "start_time": "2021-05-25T08:35:17.397981Z"
    }
   },
   "outputs": [
    {
     "name": "stdout",
     "output_type": "stream",
     "text": [
      "done: 0\n",
      "done: 1\n",
      "done: 2\n",
      "done: 3\n",
      "done: 4\n",
      "done: 5\n",
      "done: 6\n",
      "done: 7\n",
      "done: 8\n",
      "done: 9\n",
      "done: 10\n",
      "done: 11\n",
      "done: 12\n",
      "done: 13\n",
      "done: 14\n",
      "done: 15\n",
      "done: 16\n",
      "done: 17\n",
      "done: 19\n",
      "done: 20\n",
      "done: 21\n",
      "done: 22\n",
      "done: 24\n",
      "done: 25\n",
      "done: 29\n",
      "done: 0\n",
      "done: 1\n",
      "done: 2\n",
      "done: 3\n",
      "done: 4\n",
      "done: 5\n",
      "done: 6\n",
      "done: 7\n",
      "done: 8\n",
      "done: 9\n",
      "done: 10\n",
      "done: 11\n",
      "done: 12\n",
      "done: 13\n",
      "done: 14\n",
      "done: 15\n",
      "done: 16\n",
      "done: 17\n",
      "done: 19\n",
      "done: 20\n",
      "done: 21\n",
      "done: 22\n",
      "done: 24\n",
      "done: 25\n",
      "done: 29\n",
      "done: 32\n",
      "done: 33\n",
      "done: 34\n",
      "done: 35\n",
      "done: 38\n",
      "done: 39\n",
      "done: 0\n",
      "done: 1\n",
      "done: 2\n",
      "done: 3\n",
      "done: 4\n",
      "done: 5\n",
      "done: 6\n",
      "done: 7\n",
      "done: 8\n",
      "done: 9\n",
      "done: 10\n",
      "done: 11\n",
      "done: 12\n",
      "done: 13\n",
      "done: 14\n",
      "done: 15\n",
      "done: 16\n",
      "done: 17\n",
      "done: 19\n",
      "done: 20\n",
      "done: 21\n",
      "done: 22\n",
      "done: 24\n",
      "done: 25\n",
      "done: 29\n",
      "done: 32\n",
      "done: 33\n",
      "done: 34\n",
      "done: 35\n",
      "done: 38\n",
      "done: 0\n",
      "done: 1\n",
      "done: 2\n",
      "done: 3\n",
      "done: 4\n",
      "done: 5\n",
      "done: 6\n",
      "done: 7\n",
      "done: 8\n",
      "done: 9\n",
      "done: 10\n",
      "done: 11\n",
      "done: 12\n",
      "done: 13\n",
      "done: 14\n",
      "done: 15\n",
      "done: 16\n",
      "done: 17\n",
      "done: 19\n",
      "done: 20\n",
      "done: 21\n",
      "done: 22\n",
      "done: 24\n",
      "done: 25\n",
      "done: 29\n",
      "done: 32\n",
      "done: 33\n",
      "done: 34\n",
      "done: 35\n",
      "done: 38\n",
      "done: 39\n",
      "done: 40\n",
      "done: 41\n",
      "done: 42\n",
      "done: 43\n",
      "done: 44\n",
      "done: 45\n",
      "done: 46\n",
      "done: 47\n",
      "done: 48\n",
      "done: 49\n",
      "done: 50\n",
      "done: 51\n",
      "done: 52\n",
      "done: 53\n",
      "done: 54\n",
      "done: 55\n",
      "done: 56\n",
      "done: 57\n",
      "done: 58\n",
      "done: 59\n",
      "done: 60\n",
      "done: 61\n",
      "done: 62\n",
      "done: 63\n",
      "done: 64\n",
      "done: 65\n",
      "done: 66\n",
      "done: 67\n",
      "done: 68\n",
      "done: 69\n",
      "done: 70\n",
      "done: 71\n",
      "done: 73\n",
      "done: 74\n",
      "done: 77\n",
      "done: 78\n",
      "done: 79\n",
      "done: 80\n",
      "done: 81\n",
      "done: 82\n",
      "done: 0\n",
      "done: 1\n",
      "done: 2\n",
      "done: 3\n",
      "done: 4\n",
      "done: 5\n",
      "done: 6\n",
      "done: 7\n",
      "done: 8\n",
      "done: 9\n",
      "done: 10\n",
      "done: 11\n",
      "done: 12\n",
      "done: 13\n",
      "done: 14\n",
      "done: 15\n",
      "done: 16\n",
      "done: 17\n",
      "done: 19\n",
      "done: 20\n",
      "done: 21\n",
      "done: 22\n",
      "done: 24\n",
      "done: 25\n",
      "done: 29\n",
      "done: 32\n",
      "done: 33\n",
      "done: 34\n",
      "done: 35\n",
      "done: 38\n",
      "done: 39\n",
      "done: 40\n",
      "done: 41\n",
      "done: 42\n",
      "done: 43\n",
      "done: 44\n",
      "done: 45\n",
      "done: 46\n",
      "done: 47\n",
      "done: 48\n",
      "done: 49\n",
      "done: 50\n",
      "done: 51\n",
      "done: 52\n",
      "done: 53\n",
      "done: 54\n",
      "done: 55\n",
      "done: 56\n",
      "done: 57\n",
      "done: 58\n",
      "done: 59\n",
      "done: 60\n",
      "done: 61\n",
      "done: 62\n",
      "done: 63\n",
      "done: 64\n",
      "done: 65\n",
      "done: 66\n",
      "done: 67\n",
      "done: 68\n",
      "done: 69\n",
      "done: 70\n",
      "done: 71\n",
      "done: 73\n",
      "done: 74\n",
      "done: 77\n",
      "done: 78\n",
      "done: 79\n",
      "done: 80\n",
      "done: 81\n",
      "done: 82\n",
      "done: 83\n",
      "done: 84\n",
      "done: 85\n",
      "done: 86\n",
      "done: 87\n",
      "done: 88\n",
      "done: 89\n",
      "done: 90\n",
      "done: 91\n",
      "done: 92\n",
      "done: 93\n",
      "done: 94\n",
      "done: 95\n",
      "done: 96\n",
      "done: 97\n",
      "done: 98\n",
      "done: 99\n",
      "done: 100\n",
      "done: 101\n",
      "done: 102\n",
      "done: 103\n",
      "done: 104\n",
      "done: 105\n",
      "done: 106\n",
      "done: 107\n",
      "done: 108\n",
      "done: 109\n",
      "done: 110\n",
      "done: 111\n",
      "done: 112\n",
      "done: 113\n",
      "done: 114\n",
      "done: 115\n",
      "done: 116\n",
      "done: 117\n",
      "done: 118\n",
      "done: 119\n",
      "done: 120\n",
      "done: 121\n",
      "done: 122\n",
      "done: 123\n",
      "done: 124\n",
      "done: 125\n",
      "done: 126\n",
      "done: 127\n",
      "done: 128\n",
      "done: 129\n",
      "done: 130\n",
      "done: 131\n",
      "done: 132\n",
      "done: 133\n",
      "done: 134\n",
      "done: 135\n",
      "done: 136\n",
      "done: 137\n",
      "done: 138\n",
      "done: 139\n",
      "done: 140\n",
      "done: 141\n",
      "done: 142\n",
      "done: 143\n",
      "done: 144\n",
      "done: 145\n",
      "done: 146\n",
      "done: 147\n",
      "done: 148\n",
      "done: 149\n",
      "done: 150\n",
      "done: 151\n",
      "done: 152\n",
      "done: 153\n",
      "done: 154\n",
      "done: 155\n",
      "done: 156\n",
      "done: 157\n",
      "done: 158\n",
      "done: 159\n",
      "done: 160\n",
      "done: 161\n",
      "done: 162\n",
      "done: 163\n",
      "done: 164\n",
      "done: 165\n",
      "done: 166\n",
      "done: 167\n",
      "done: 168\n",
      "done: 169\n",
      "done: 170\n",
      "done: 171\n",
      "done: 172\n",
      "done: 173\n",
      "done: 175\n",
      "done: 176\n",
      "done: 177\n",
      "done: 178\n",
      "done: 179\n",
      "done: 180\n",
      "done: 181\n",
      "done: 182\n",
      "done: 183\n",
      "done: 184\n",
      "done: 186\n",
      "done: 187\n",
      "done: 188\n",
      "done: 189\n",
      "done: 190\n",
      "done: 191\n",
      "done: 192\n",
      "done: 193\n",
      "done: 194\n",
      "done: 195\n",
      "done: 196\n",
      "done: 197\n",
      "done: 198\n",
      "done: 199\n",
      "done: 200\n",
      "done: 201\n",
      "done: 202\n",
      "done: 203\n",
      "done: 204\n",
      "done: 205\n",
      "done: 206\n",
      "done: 207\n",
      "done: 208\n",
      "done: 209\n",
      "done: 210\n",
      "done: 211\n",
      "done: 212\n",
      "done: 213\n",
      "done: 214\n",
      "done: 215\n",
      "done: 216\n",
      "done: 217\n",
      "done: 218\n",
      "done: 219\n",
      "done: 220\n",
      "done: 221\n",
      "done: 222\n",
      "done: 223\n",
      "done: 225\n",
      "done: 226\n",
      "done: 227\n",
      "done: 228\n",
      "done: 229\n",
      "done: 230\n",
      "done: 231\n",
      "done: 232\n",
      "done: 233\n",
      "done: 234\n",
      "done: 235\n",
      "done: 236\n",
      "done: 237\n",
      "done: 238\n",
      "done: 239\n",
      "done: 240\n",
      "done: 241\n",
      "done: 243\n"
     ]
    }
   ],
   "source": [
    "# reducing geo_df columns, only leavin one valid column\n",
    "def new_desc(geo):\n",
    "    geo['desc'] = None\n",
    "    lst_cols = ['amenity',\n",
    "                'leisure',\n",
    "                'tourism',\n",
    "                'natural',\n",
    "                'shop',\n",
    "                'geometry',\n",
    "                'name', \n",
    "                'match']\n",
    "    for c, row in geo.iterrows():\n",
    "        # listing all appearing POIs in one cell with a concat name\n",
    "        trues = [f'{i}_{row[i]}' for i in lst_cols if row[i] == row[i]]\n",
    "        if len(trues) > 0:\n",
    "            geo.at[c, 'desc'] = trues[0]\n",
    "        else: \n",
    "            geo.at[c, 'desc'] = None\n",
    "        print(f'done: {c}')\n",
    "        \n",
    "    \n",
    "    geo = geo[['geometry', 'desc', 'match']]\n",
    "    geo = geo.dropna(subset=['desc'])\n",
    "    geo= geo.reset_index(drop=True)\n",
    "    \n",
    "    return geo\n",
    "\n",
    "desc_geo = new_desc(all_amenities.copy())"
   ]
  },
  {
   "cell_type": "code",
   "execution_count": 222,
   "id": "4811cbd3",
   "metadata": {
    "ExecuteTime": {
     "end_time": "2021-05-25T08:35:20.671919Z",
     "start_time": "2021-05-25T08:35:20.627756Z"
    }
   },
   "outputs": [
    {
     "name": "stderr",
     "output_type": "stream",
     "text": [
      "/Users/moritzgeiger/.pyenv/versions/3.8.6/envs/lewagon/lib/python3.8/site-packages/ipykernel/ipkernel.py:283: DeprecationWarning: `should_run_async` will not call `transform_cell` automatically in the future. Please pass the result to `transformed_cell` argument and any exception that happen during thetransform in `preprocessing_exc_tuple` in IPython 7.17 and above.\n",
      "  and should_run_async(code)\n"
     ]
    },
    {
     "data": {
      "text/html": [
       "<div>\n",
       "<style scoped>\n",
       "    .dataframe tbody tr th:only-of-type {\n",
       "        vertical-align: middle;\n",
       "    }\n",
       "\n",
       "    .dataframe tbody tr th {\n",
       "        vertical-align: top;\n",
       "    }\n",
       "\n",
       "    .dataframe thead th {\n",
       "        text-align: right;\n",
       "    }\n",
       "</style>\n",
       "<table border=\"1\" class=\"dataframe\">\n",
       "  <thead>\n",
       "    <tr style=\"text-align: right;\">\n",
       "      <th></th>\n",
       "      <th>geometry</th>\n",
       "      <th>desc</th>\n",
       "      <th>match</th>\n",
       "    </tr>\n",
       "  </thead>\n",
       "  <tbody>\n",
       "    <tr>\n",
       "      <th>326</th>\n",
       "      <td>POLYGON ((-9.15045 38.72969, -9.15024 38.72980...</td>\n",
       "      <td>amenity_public_building</td>\n",
       "      <td>9</td>\n",
       "    </tr>\n",
       "    <tr>\n",
       "      <th>283</th>\n",
       "      <td>POINT (-9.15485 38.72958)</td>\n",
       "      <td>tourism_artwork</td>\n",
       "      <td>9</td>\n",
       "    </tr>\n",
       "    <tr>\n",
       "      <th>261</th>\n",
       "      <td>POINT (-9.15620 38.72783)</td>\n",
       "      <td>amenity_restaurant</td>\n",
       "      <td>9</td>\n",
       "    </tr>\n",
       "    <tr>\n",
       "      <th>376</th>\n",
       "      <td>LINESTRING (-9.15332 38.72965, -9.15273 38.72898)</td>\n",
       "      <td>natural_tree_row</td>\n",
       "      <td>9</td>\n",
       "    </tr>\n",
       "    <tr>\n",
       "      <th>97</th>\n",
       "      <td>POINT (-9.12987 38.73734)</td>\n",
       "      <td>amenity_vending_machine</td>\n",
       "      <td>7</td>\n",
       "    </tr>\n",
       "  </tbody>\n",
       "</table>\n",
       "</div>"
      ],
      "text/plain": [
       "                                              geometry  \\\n",
       "326  POLYGON ((-9.15045 38.72969, -9.15024 38.72980...   \n",
       "283                          POINT (-9.15485 38.72958)   \n",
       "261                          POINT (-9.15620 38.72783)   \n",
       "376  LINESTRING (-9.15332 38.72965, -9.15273 38.72898)   \n",
       "97                           POINT (-9.12987 38.73734)   \n",
       "\n",
       "                        desc  match  \n",
       "326  amenity_public_building      9  \n",
       "283          tourism_artwork      9  \n",
       "261       amenity_restaurant      9  \n",
       "376         natural_tree_row      9  \n",
       "97   amenity_vending_machine      7  "
      ]
     },
     "execution_count": 222,
     "metadata": {},
     "output_type": "execute_result"
    }
   ],
   "source": [
    "desc_geo.sample(5)\n",
    "# sowing all POIs in one column with a defined name"
   ]
  },
  {
   "cell_type": "code",
   "execution_count": 223,
   "id": "1fdf64f2",
   "metadata": {
    "ExecuteTime": {
     "end_time": "2021-05-25T08:35:21.579115Z",
     "start_time": "2021-05-25T08:35:21.511296Z"
    }
   },
   "outputs": [
    {
     "name": "stderr",
     "output_type": "stream",
     "text": [
      "/Users/moritzgeiger/.pyenv/versions/3.8.6/envs/lewagon/lib/python3.8/site-packages/ipykernel/ipkernel.py:283: DeprecationWarning: `should_run_async` will not call `transform_cell` automatically in the future. Please pass the result to `transformed_cell` argument and any exception that happen during thetransform in `preprocessing_exc_tuple` in IPython 7.17 and above.\n",
      "  and should_run_async(code)\n"
     ]
    }
   ],
   "source": [
    "# encoding all unique values\n",
    "encoder = OneHotEncoder()\n",
    "enc_df = encoder.fit_transform(desc_geo[['desc']])\n",
    "enc_gdf_points = gpd.GeoDataFrame(enc_df.toarray(), columns=encoder.categories_)\n",
    "enc_gdf_points = enc_gdf_points.join(desc_geo[['geometry', 'match']])\n",
    "columns = enc_gdf_points.columns"
   ]
  },
  {
   "cell_type": "code",
   "execution_count": 224,
   "id": "292a3cda",
   "metadata": {
    "ExecuteTime": {
     "end_time": "2021-05-25T08:35:22.892063Z",
     "start_time": "2021-05-25T08:35:22.828069Z"
    }
   },
   "outputs": [
    {
     "name": "stderr",
     "output_type": "stream",
     "text": [
      "/Users/moritzgeiger/.pyenv/versions/3.8.6/envs/lewagon/lib/python3.8/site-packages/ipykernel/ipkernel.py:283: DeprecationWarning: `should_run_async` will not call `transform_cell` automatically in the future. Please pass the result to `transformed_cell` argument and any exception that happen during thetransform in `preprocessing_exc_tuple` in IPython 7.17 and above.\n",
      "  and should_run_async(code)\n"
     ]
    },
    {
     "data": {
      "text/plain": [
       "(385, 49)"
      ]
     },
     "execution_count": 224,
     "metadata": {},
     "output_type": "execute_result"
    }
   ],
   "source": [
    "rename = {i:f'feat_{i[0]}' for i in columns if type(i)==tuple}\n",
    "enc_gdf_points = enc_gdf_points.rename(columns=rename)\n",
    "# enc_gdf_points = enc_gdf_points.set_crs(epsg=4326)\n",
    "enc_gdf_points = enc_gdf_points.rename(columns={'geometry':'points_feats'})\n",
    "enc_gdf_points.shape # 284 columns!"
   ]
  },
  {
   "cell_type": "code",
   "execution_count": 225,
   "id": "3d332f04",
   "metadata": {
    "ExecuteTime": {
     "end_time": "2021-05-25T08:35:23.970775Z",
     "start_time": "2021-05-25T08:35:23.961384Z"
    }
   },
   "outputs": [
    {
     "data": {
      "text/plain": [
       "9    228\n",
       "7     71\n",
       "3     31\n",
       "5     30\n",
       "0     25\n",
       "Name: match, dtype: int64"
      ]
     },
     "execution_count": 225,
     "metadata": {},
     "output_type": "execute_result"
    }
   ],
   "source": [
    "enc_gdf_points.match.value_counts()"
   ]
  },
  {
   "cell_type": "code",
   "execution_count": 226,
   "id": "f5eb1965",
   "metadata": {
    "ExecuteTime": {
     "end_time": "2021-05-25T08:35:25.190816Z",
     "start_time": "2021-05-25T08:35:25.128942Z"
    }
   },
   "outputs": [
    {
     "data": {
      "text/html": [
       "<div>\n",
       "<style scoped>\n",
       "    .dataframe tbody tr th:only-of-type {\n",
       "        vertical-align: middle;\n",
       "    }\n",
       "\n",
       "    .dataframe tbody tr th {\n",
       "        vertical-align: top;\n",
       "    }\n",
       "\n",
       "    .dataframe thead th {\n",
       "        text-align: right;\n",
       "    }\n",
       "</style>\n",
       "<table border=\"1\" class=\"dataframe\">\n",
       "  <thead>\n",
       "    <tr style=\"text-align: right;\">\n",
       "      <th></th>\n",
       "      <th>feat_amenity_bank</th>\n",
       "      <th>feat_amenity_bar</th>\n",
       "      <th>feat_amenity_bench</th>\n",
       "      <th>feat_amenity_biergarten</th>\n",
       "      <th>feat_amenity_cafe</th>\n",
       "      <th>feat_amenity_car_rental</th>\n",
       "      <th>feat_amenity_charging_station</th>\n",
       "      <th>feat_amenity_drinking_water</th>\n",
       "      <th>feat_amenity_fast_food</th>\n",
       "      <th>feat_amenity_fountain</th>\n",
       "      <th>feat_amenity_motorcycle_parking</th>\n",
       "      <th>feat_amenity_parking</th>\n",
       "      <th>feat_amenity_parking_entrance</th>\n",
       "      <th>feat_amenity_pharmacy</th>\n",
       "      <th>feat_amenity_post_box</th>\n",
       "      <th>feat_amenity_public_building</th>\n",
       "      <th>feat_amenity_recycling</th>\n",
       "      <th>feat_amenity_restaurant</th>\n",
       "      <th>feat_amenity_shelter</th>\n",
       "      <th>feat_amenity_stripclub</th>\n",
       "      <th>feat_amenity_theatre</th>\n",
       "      <th>feat_amenity_toilets</th>\n",
       "      <th>feat_amenity_university</th>\n",
       "      <th>feat_amenity_vending_machine</th>\n",
       "      <th>feat_amenity_waste_basket</th>\n",
       "      <th>feat_leisure_fitness_centre</th>\n",
       "      <th>feat_leisure_fitness_station</th>\n",
       "      <th>feat_leisure_pitch</th>\n",
       "      <th>feat_leisure_playground</th>\n",
       "      <th>feat_leisure_sports_centre</th>\n",
       "      <th>feat_leisure_swimming_pool</th>\n",
       "      <th>feat_natural_tree</th>\n",
       "      <th>feat_natural_tree_row</th>\n",
       "      <th>feat_natural_water</th>\n",
       "      <th>feat_shop_alcohol</th>\n",
       "      <th>feat_shop_bakery</th>\n",
       "      <th>feat_shop_car</th>\n",
       "      <th>feat_shop_car_repair</th>\n",
       "      <th>feat_shop_newsagent</th>\n",
       "      <th>feat_shop_supermarket</th>\n",
       "      <th>feat_shop_ticket</th>\n",
       "      <th>feat_tourism_artwork</th>\n",
       "      <th>feat_tourism_attraction</th>\n",
       "      <th>feat_tourism_hostel</th>\n",
       "      <th>feat_tourism_hotel</th>\n",
       "      <th>feat_tourism_information</th>\n",
       "      <th>feat_tourism_viewpoint</th>\n",
       "      <th>points_feats</th>\n",
       "      <th>match</th>\n",
       "    </tr>\n",
       "  </thead>\n",
       "  <tbody>\n",
       "    <tr>\n",
       "      <th>0</th>\n",
       "      <td>0.0</td>\n",
       "      <td>0.0</td>\n",
       "      <td>0.0</td>\n",
       "      <td>0.0</td>\n",
       "      <td>0.0</td>\n",
       "      <td>0.0</td>\n",
       "      <td>0.0</td>\n",
       "      <td>0.0</td>\n",
       "      <td>0.0</td>\n",
       "      <td>0.0</td>\n",
       "      <td>0.0</td>\n",
       "      <td>0.0</td>\n",
       "      <td>0.0</td>\n",
       "      <td>0.0</td>\n",
       "      <td>0.0</td>\n",
       "      <td>0.0</td>\n",
       "      <td>0.0</td>\n",
       "      <td>1.0</td>\n",
       "      <td>0.0</td>\n",
       "      <td>0.0</td>\n",
       "      <td>0.0</td>\n",
       "      <td>0.0</td>\n",
       "      <td>0.0</td>\n",
       "      <td>0.0</td>\n",
       "      <td>0.0</td>\n",
       "      <td>0.0</td>\n",
       "      <td>0.0</td>\n",
       "      <td>0.0</td>\n",
       "      <td>0.0</td>\n",
       "      <td>0.0</td>\n",
       "      <td>0.0</td>\n",
       "      <td>0.0</td>\n",
       "      <td>0.0</td>\n",
       "      <td>0.0</td>\n",
       "      <td>0.0</td>\n",
       "      <td>0.0</td>\n",
       "      <td>0.0</td>\n",
       "      <td>0.0</td>\n",
       "      <td>0.0</td>\n",
       "      <td>0.0</td>\n",
       "      <td>0.0</td>\n",
       "      <td>0.0</td>\n",
       "      <td>0.0</td>\n",
       "      <td>0.0</td>\n",
       "      <td>0.0</td>\n",
       "      <td>0.0</td>\n",
       "      <td>0.0</td>\n",
       "      <td>POINT (-8.68344 41.15919)</td>\n",
       "      <td>0</td>\n",
       "    </tr>\n",
       "    <tr>\n",
       "      <th>1</th>\n",
       "      <td>1.0</td>\n",
       "      <td>0.0</td>\n",
       "      <td>0.0</td>\n",
       "      <td>0.0</td>\n",
       "      <td>0.0</td>\n",
       "      <td>0.0</td>\n",
       "      <td>0.0</td>\n",
       "      <td>0.0</td>\n",
       "      <td>0.0</td>\n",
       "      <td>0.0</td>\n",
       "      <td>0.0</td>\n",
       "      <td>0.0</td>\n",
       "      <td>0.0</td>\n",
       "      <td>0.0</td>\n",
       "      <td>0.0</td>\n",
       "      <td>0.0</td>\n",
       "      <td>0.0</td>\n",
       "      <td>0.0</td>\n",
       "      <td>0.0</td>\n",
       "      <td>0.0</td>\n",
       "      <td>0.0</td>\n",
       "      <td>0.0</td>\n",
       "      <td>0.0</td>\n",
       "      <td>0.0</td>\n",
       "      <td>0.0</td>\n",
       "      <td>0.0</td>\n",
       "      <td>0.0</td>\n",
       "      <td>0.0</td>\n",
       "      <td>0.0</td>\n",
       "      <td>0.0</td>\n",
       "      <td>0.0</td>\n",
       "      <td>0.0</td>\n",
       "      <td>0.0</td>\n",
       "      <td>0.0</td>\n",
       "      <td>0.0</td>\n",
       "      <td>0.0</td>\n",
       "      <td>0.0</td>\n",
       "      <td>0.0</td>\n",
       "      <td>0.0</td>\n",
       "      <td>0.0</td>\n",
       "      <td>0.0</td>\n",
       "      <td>0.0</td>\n",
       "      <td>0.0</td>\n",
       "      <td>0.0</td>\n",
       "      <td>0.0</td>\n",
       "      <td>0.0</td>\n",
       "      <td>0.0</td>\n",
       "      <td>POINT (-8.68342 41.15916)</td>\n",
       "      <td>0</td>\n",
       "    </tr>\n",
       "    <tr>\n",
       "      <th>2</th>\n",
       "      <td>0.0</td>\n",
       "      <td>0.0</td>\n",
       "      <td>0.0</td>\n",
       "      <td>0.0</td>\n",
       "      <td>0.0</td>\n",
       "      <td>0.0</td>\n",
       "      <td>0.0</td>\n",
       "      <td>0.0</td>\n",
       "      <td>0.0</td>\n",
       "      <td>0.0</td>\n",
       "      <td>0.0</td>\n",
       "      <td>1.0</td>\n",
       "      <td>0.0</td>\n",
       "      <td>0.0</td>\n",
       "      <td>0.0</td>\n",
       "      <td>0.0</td>\n",
       "      <td>0.0</td>\n",
       "      <td>0.0</td>\n",
       "      <td>0.0</td>\n",
       "      <td>0.0</td>\n",
       "      <td>0.0</td>\n",
       "      <td>0.0</td>\n",
       "      <td>0.0</td>\n",
       "      <td>0.0</td>\n",
       "      <td>0.0</td>\n",
       "      <td>0.0</td>\n",
       "      <td>0.0</td>\n",
       "      <td>0.0</td>\n",
       "      <td>0.0</td>\n",
       "      <td>0.0</td>\n",
       "      <td>0.0</td>\n",
       "      <td>0.0</td>\n",
       "      <td>0.0</td>\n",
       "      <td>0.0</td>\n",
       "      <td>0.0</td>\n",
       "      <td>0.0</td>\n",
       "      <td>0.0</td>\n",
       "      <td>0.0</td>\n",
       "      <td>0.0</td>\n",
       "      <td>0.0</td>\n",
       "      <td>0.0</td>\n",
       "      <td>0.0</td>\n",
       "      <td>0.0</td>\n",
       "      <td>0.0</td>\n",
       "      <td>0.0</td>\n",
       "      <td>0.0</td>\n",
       "      <td>0.0</td>\n",
       "      <td>POINT (-8.68499 41.16074)</td>\n",
       "      <td>0</td>\n",
       "    </tr>\n",
       "    <tr>\n",
       "      <th>3</th>\n",
       "      <td>0.0</td>\n",
       "      <td>0.0</td>\n",
       "      <td>0.0</td>\n",
       "      <td>0.0</td>\n",
       "      <td>0.0</td>\n",
       "      <td>0.0</td>\n",
       "      <td>0.0</td>\n",
       "      <td>0.0</td>\n",
       "      <td>0.0</td>\n",
       "      <td>0.0</td>\n",
       "      <td>0.0</td>\n",
       "      <td>0.0</td>\n",
       "      <td>1.0</td>\n",
       "      <td>0.0</td>\n",
       "      <td>0.0</td>\n",
       "      <td>0.0</td>\n",
       "      <td>0.0</td>\n",
       "      <td>0.0</td>\n",
       "      <td>0.0</td>\n",
       "      <td>0.0</td>\n",
       "      <td>0.0</td>\n",
       "      <td>0.0</td>\n",
       "      <td>0.0</td>\n",
       "      <td>0.0</td>\n",
       "      <td>0.0</td>\n",
       "      <td>0.0</td>\n",
       "      <td>0.0</td>\n",
       "      <td>0.0</td>\n",
       "      <td>0.0</td>\n",
       "      <td>0.0</td>\n",
       "      <td>0.0</td>\n",
       "      <td>0.0</td>\n",
       "      <td>0.0</td>\n",
       "      <td>0.0</td>\n",
       "      <td>0.0</td>\n",
       "      <td>0.0</td>\n",
       "      <td>0.0</td>\n",
       "      <td>0.0</td>\n",
       "      <td>0.0</td>\n",
       "      <td>0.0</td>\n",
       "      <td>0.0</td>\n",
       "      <td>0.0</td>\n",
       "      <td>0.0</td>\n",
       "      <td>0.0</td>\n",
       "      <td>0.0</td>\n",
       "      <td>0.0</td>\n",
       "      <td>0.0</td>\n",
       "      <td>POINT (-8.68428 41.16142)</td>\n",
       "      <td>0</td>\n",
       "    </tr>\n",
       "    <tr>\n",
       "      <th>4</th>\n",
       "      <td>0.0</td>\n",
       "      <td>0.0</td>\n",
       "      <td>0.0</td>\n",
       "      <td>0.0</td>\n",
       "      <td>0.0</td>\n",
       "      <td>0.0</td>\n",
       "      <td>0.0</td>\n",
       "      <td>0.0</td>\n",
       "      <td>0.0</td>\n",
       "      <td>0.0</td>\n",
       "      <td>0.0</td>\n",
       "      <td>0.0</td>\n",
       "      <td>1.0</td>\n",
       "      <td>0.0</td>\n",
       "      <td>0.0</td>\n",
       "      <td>0.0</td>\n",
       "      <td>0.0</td>\n",
       "      <td>0.0</td>\n",
       "      <td>0.0</td>\n",
       "      <td>0.0</td>\n",
       "      <td>0.0</td>\n",
       "      <td>0.0</td>\n",
       "      <td>0.0</td>\n",
       "      <td>0.0</td>\n",
       "      <td>0.0</td>\n",
       "      <td>0.0</td>\n",
       "      <td>0.0</td>\n",
       "      <td>0.0</td>\n",
       "      <td>0.0</td>\n",
       "      <td>0.0</td>\n",
       "      <td>0.0</td>\n",
       "      <td>0.0</td>\n",
       "      <td>0.0</td>\n",
       "      <td>0.0</td>\n",
       "      <td>0.0</td>\n",
       "      <td>0.0</td>\n",
       "      <td>0.0</td>\n",
       "      <td>0.0</td>\n",
       "      <td>0.0</td>\n",
       "      <td>0.0</td>\n",
       "      <td>0.0</td>\n",
       "      <td>0.0</td>\n",
       "      <td>0.0</td>\n",
       "      <td>0.0</td>\n",
       "      <td>0.0</td>\n",
       "      <td>0.0</td>\n",
       "      <td>0.0</td>\n",
       "      <td>POINT (-8.68533 41.16039)</td>\n",
       "      <td>0</td>\n",
       "    </tr>\n",
       "  </tbody>\n",
       "</table>\n",
       "</div>"
      ],
      "text/plain": [
       "   feat_amenity_bank  feat_amenity_bar  feat_amenity_bench  \\\n",
       "0                0.0               0.0                 0.0   \n",
       "1                1.0               0.0                 0.0   \n",
       "2                0.0               0.0                 0.0   \n",
       "3                0.0               0.0                 0.0   \n",
       "4                0.0               0.0                 0.0   \n",
       "\n",
       "   feat_amenity_biergarten  feat_amenity_cafe  feat_amenity_car_rental  \\\n",
       "0                      0.0                0.0                      0.0   \n",
       "1                      0.0                0.0                      0.0   \n",
       "2                      0.0                0.0                      0.0   \n",
       "3                      0.0                0.0                      0.0   \n",
       "4                      0.0                0.0                      0.0   \n",
       "\n",
       "   feat_amenity_charging_station  feat_amenity_drinking_water  \\\n",
       "0                            0.0                          0.0   \n",
       "1                            0.0                          0.0   \n",
       "2                            0.0                          0.0   \n",
       "3                            0.0                          0.0   \n",
       "4                            0.0                          0.0   \n",
       "\n",
       "   feat_amenity_fast_food  feat_amenity_fountain  \\\n",
       "0                     0.0                    0.0   \n",
       "1                     0.0                    0.0   \n",
       "2                     0.0                    0.0   \n",
       "3                     0.0                    0.0   \n",
       "4                     0.0                    0.0   \n",
       "\n",
       "   feat_amenity_motorcycle_parking  feat_amenity_parking  \\\n",
       "0                              0.0                   0.0   \n",
       "1                              0.0                   0.0   \n",
       "2                              0.0                   1.0   \n",
       "3                              0.0                   0.0   \n",
       "4                              0.0                   0.0   \n",
       "\n",
       "   feat_amenity_parking_entrance  feat_amenity_pharmacy  \\\n",
       "0                            0.0                    0.0   \n",
       "1                            0.0                    0.0   \n",
       "2                            0.0                    0.0   \n",
       "3                            1.0                    0.0   \n",
       "4                            1.0                    0.0   \n",
       "\n",
       "   feat_amenity_post_box  feat_amenity_public_building  \\\n",
       "0                    0.0                           0.0   \n",
       "1                    0.0                           0.0   \n",
       "2                    0.0                           0.0   \n",
       "3                    0.0                           0.0   \n",
       "4                    0.0                           0.0   \n",
       "\n",
       "   feat_amenity_recycling  feat_amenity_restaurant  feat_amenity_shelter  \\\n",
       "0                     0.0                      1.0                   0.0   \n",
       "1                     0.0                      0.0                   0.0   \n",
       "2                     0.0                      0.0                   0.0   \n",
       "3                     0.0                      0.0                   0.0   \n",
       "4                     0.0                      0.0                   0.0   \n",
       "\n",
       "   feat_amenity_stripclub  feat_amenity_theatre  feat_amenity_toilets  \\\n",
       "0                     0.0                   0.0                   0.0   \n",
       "1                     0.0                   0.0                   0.0   \n",
       "2                     0.0                   0.0                   0.0   \n",
       "3                     0.0                   0.0                   0.0   \n",
       "4                     0.0                   0.0                   0.0   \n",
       "\n",
       "   feat_amenity_university  feat_amenity_vending_machine  \\\n",
       "0                      0.0                           0.0   \n",
       "1                      0.0                           0.0   \n",
       "2                      0.0                           0.0   \n",
       "3                      0.0                           0.0   \n",
       "4                      0.0                           0.0   \n",
       "\n",
       "   feat_amenity_waste_basket  feat_leisure_fitness_centre  \\\n",
       "0                        0.0                          0.0   \n",
       "1                        0.0                          0.0   \n",
       "2                        0.0                          0.0   \n",
       "3                        0.0                          0.0   \n",
       "4                        0.0                          0.0   \n",
       "\n",
       "   feat_leisure_fitness_station  feat_leisure_pitch  feat_leisure_playground  \\\n",
       "0                           0.0                 0.0                      0.0   \n",
       "1                           0.0                 0.0                      0.0   \n",
       "2                           0.0                 0.0                      0.0   \n",
       "3                           0.0                 0.0                      0.0   \n",
       "4                           0.0                 0.0                      0.0   \n",
       "\n",
       "   feat_leisure_sports_centre  feat_leisure_swimming_pool  feat_natural_tree  \\\n",
       "0                         0.0                         0.0                0.0   \n",
       "1                         0.0                         0.0                0.0   \n",
       "2                         0.0                         0.0                0.0   \n",
       "3                         0.0                         0.0                0.0   \n",
       "4                         0.0                         0.0                0.0   \n",
       "\n",
       "   feat_natural_tree_row  feat_natural_water  feat_shop_alcohol  \\\n",
       "0                    0.0                 0.0                0.0   \n",
       "1                    0.0                 0.0                0.0   \n",
       "2                    0.0                 0.0                0.0   \n",
       "3                    0.0                 0.0                0.0   \n",
       "4                    0.0                 0.0                0.0   \n",
       "\n",
       "   feat_shop_bakery  feat_shop_car  feat_shop_car_repair  feat_shop_newsagent  \\\n",
       "0               0.0            0.0                   0.0                  0.0   \n",
       "1               0.0            0.0                   0.0                  0.0   \n",
       "2               0.0            0.0                   0.0                  0.0   \n",
       "3               0.0            0.0                   0.0                  0.0   \n",
       "4               0.0            0.0                   0.0                  0.0   \n",
       "\n",
       "   feat_shop_supermarket  feat_shop_ticket  feat_tourism_artwork  \\\n",
       "0                    0.0               0.0                   0.0   \n",
       "1                    0.0               0.0                   0.0   \n",
       "2                    0.0               0.0                   0.0   \n",
       "3                    0.0               0.0                   0.0   \n",
       "4                    0.0               0.0                   0.0   \n",
       "\n",
       "   feat_tourism_attraction  feat_tourism_hostel  feat_tourism_hotel  \\\n",
       "0                      0.0                  0.0                 0.0   \n",
       "1                      0.0                  0.0                 0.0   \n",
       "2                      0.0                  0.0                 0.0   \n",
       "3                      0.0                  0.0                 0.0   \n",
       "4                      0.0                  0.0                 0.0   \n",
       "\n",
       "   feat_tourism_information  feat_tourism_viewpoint  \\\n",
       "0                       0.0                     0.0   \n",
       "1                       0.0                     0.0   \n",
       "2                       0.0                     0.0   \n",
       "3                       0.0                     0.0   \n",
       "4                       0.0                     0.0   \n",
       "\n",
       "                points_feats  match  \n",
       "0  POINT (-8.68344 41.15919)      0  \n",
       "1  POINT (-8.68342 41.15916)      0  \n",
       "2  POINT (-8.68499 41.16074)      0  \n",
       "3  POINT (-8.68428 41.16142)      0  \n",
       "4  POINT (-8.68533 41.16039)      0  "
      ]
     },
     "execution_count": 226,
     "metadata": {},
     "output_type": "execute_result"
    }
   ],
   "source": [
    "enc_gdf_points.head()"
   ]
  },
  {
   "cell_type": "markdown",
   "id": "0d6ab267",
   "metadata": {},
   "source": [
    "# Join OSM and green zones"
   ]
  },
  {
   "cell_type": "code",
   "execution_count": 227,
   "id": "35fbe8a4",
   "metadata": {
    "ExecuteTime": {
     "end_time": "2021-05-25T08:35:28.000895Z",
     "start_time": "2021-05-25T08:35:27.957292Z"
    }
   },
   "outputs": [
    {
     "name": "stderr",
     "output_type": "stream",
     "text": [
      "/Users/moritzgeiger/.pyenv/versions/3.8.6/envs/lewagon/lib/python3.8/site-packages/ipykernel/ipkernel.py:283: DeprecationWarning: `should_run_async` will not call `transform_cell` automatically in the future. Please pass the result to `transformed_cell` argument and any exception that happen during thetransform in `preprocessing_exc_tuple` in IPython 7.17 and above.\n",
      "  and should_run_async(code)\n"
     ]
    }
   ],
   "source": [
    "enc_gdf_points = enc_gdf_points.merge(green_areas_buff, left_on='match', right_index=True)"
   ]
  },
  {
   "cell_type": "code",
   "execution_count": 228,
   "id": "8a9a0247",
   "metadata": {
    "ExecuteTime": {
     "end_time": "2021-05-25T08:35:28.605046Z",
     "start_time": "2021-05-25T08:35:28.598222Z"
    },
    "scrolled": false
   },
   "outputs": [],
   "source": [
    "# prepare aggregation dict\n",
    "columns_points = enc_gdf_points.columns\n",
    "green_cols = green_areas_buff.columns\n",
    "\n",
    "agg_feat = {i:'sum' for i in columns_points if 'feat_' in i} # summing equal features\n",
    "agg_green = {i:'first' for i in green_cols if i != 'match'} # index to be grouped by\n",
    "agg = dict(agg_feat)\n",
    "agg.update(agg_green)\n",
    "agg['points_feats'] = lambda x: list(x) # listing their relative geometries"
   ]
  },
  {
   "cell_type": "code",
   "execution_count": 229,
   "id": "0d69845d",
   "metadata": {
    "ExecuteTime": {
     "end_time": "2021-05-25T08:35:29.131046Z",
     "start_time": "2021-05-25T08:35:29.073747Z"
    },
    "scrolled": false
   },
   "outputs": [
    {
     "data": {
      "text/plain": [
       "((5, 65),\n",
       " Index(['feat_shop_bakery', 'feat_shop_car', 'feat_shop_car_repair',\n",
       "        'feat_shop_newsagent', 'feat_shop_supermarket', 'feat_shop_ticket',\n",
       "        'feat_tourism_artwork', 'feat_tourism_attraction',\n",
       "        'feat_tourism_hostel', 'feat_tourism_hotel', 'feat_tourism_information',\n",
       "        'feat_tourism_viewpoint', 'index', 'Green_Zone_name', 'no_of_museums',\n",
       "        'no_of_parking_lots', 'no_of_tourist_attractions',\n",
       "        'gz_daily_avg_demand', 'Resident', 'daily_avg_people',\n",
       "        'no_of_buildings', 'no_of_families', 'no_of_people_resident',\n",
       "        'perc_senior_pop', 'perc_pop_until_19_yo', 'latlng', 'Dicofre',\n",
       "        'Points', 'geometry', 'points_feats'],\n",
       "       dtype='object'))"
      ]
     },
     "execution_count": 229,
     "metadata": {},
     "output_type": "execute_result"
    }
   ],
   "source": [
    "# regrouping by green_areas index => caught all the points\n",
    "grouped_gpd = enc_gdf_points.groupby('match').agg(agg)\n",
    "# grouped_gpd = grouped_gpd.rename(columns={'geometry':'points_feats', 'desc':'desc_points'})\n",
    "# grouped_gpd = grouped_gpd.merge(green_areas_buff[['index', 'geometry']], # get back green spaces geometries\n",
    "#                                 left_index=True, # the 'match' is the previous index of green spaces\n",
    "#                                 right_on='index')\n",
    "grouped_gpd.shape, grouped_gpd.columns[-30:]"
   ]
  },
  {
   "cell_type": "code",
   "execution_count": 230,
   "id": "fbe18812",
   "metadata": {
    "ExecuteTime": {
     "end_time": "2021-05-25T08:35:43.219763Z",
     "start_time": "2021-05-25T08:35:43.212504Z"
    }
   },
   "outputs": [
    {
     "name": "stderr",
     "output_type": "stream",
     "text": [
      "/Users/moritzgeiger/.pyenv/versions/3.8.6/envs/lewagon/lib/python3.8/site-packages/ipykernel/ipkernel.py:283: DeprecationWarning: `should_run_async` will not call `transform_cell` automatically in the future. Please pass the result to `transformed_cell` argument and any exception that happen during thetransform in `preprocessing_exc_tuple` in IPython 7.17 and above.\n",
      "  and should_run_async(code)\n"
     ]
    }
   ],
   "source": [
    "geo_grouped_gpd = gpd.GeoDataFrame(grouped_gpd)\n",
    "geo_grouped_gpd.crs"
   ]
  },
  {
   "cell_type": "markdown",
   "id": "d96d70a1",
   "metadata": {},
   "source": [
    "# Map"
   ]
  },
  {
   "cell_type": "code",
   "execution_count": 232,
   "id": "7f34de71",
   "metadata": {
    "ExecuteTime": {
     "end_time": "2021-05-25T08:35:59.818038Z",
     "start_time": "2021-05-25T08:35:55.762670Z"
    }
   },
   "outputs": [
    {
     "name": "stderr",
     "output_type": "stream",
     "text": [
      "/Users/moritzgeiger/.pyenv/versions/3.8.6/envs/lewagon/lib/python3.8/site-packages/ipykernel/ipkernel.py:283: DeprecationWarning: `should_run_async` will not call `transform_cell` automatically in the future. Please pass the result to `transformed_cell` argument and any exception that happen during thetransform in `preprocessing_exc_tuple` in IPython 7.17 and above.\n",
      "  and should_run_async(code)\n"
     ]
    },
    {
     "data": {
      "application/vnd.jupyter.widget-view+json": {
       "model_id": "b7778c8501c943479782d2eab7cccf2b",
       "version_major": 2,
       "version_minor": 0
      },
      "text/plain": [
       "interactive(children=(Dropdown(description='start', options=(('Lisbon', [38.7369, -9.13737]), ('Porto', [41.15…"
      ]
     },
     "metadata": {},
     "output_type": "display_data"
    },
    {
     "data": {
      "text/plain": [
       "<function __main__.mapa(start)>"
      ]
     },
     "execution_count": 232,
     "metadata": {},
     "output_type": "execute_result"
    }
   ],
   "source": [
    "starts = [('Lisbon',[38.73690, -9.13737]), ('Porto',[41.15976, -8.62850])]\n",
    "def mapa(start):\n",
    "    m = folium.Map(start, zoom_start=13)\n",
    "\n",
    "    # init layers\n",
    "    park_lay = FeatureGroup(name='Parks')\n",
    "    poi_lay = FeatureGroup(name='POIs')\n",
    "    parish_lay = FeatureGroup(name='Parishes')\n",
    "\n",
    "    # map rel parish\n",
    "    lp_parish = parishes[(parishes.Distrito == 'Lisboa') | (parishes.Distrito == 'Porto')]\n",
    "    parishes_map = folium.Choropleth(lp_parish,\n",
    "                                   fill_opacity=0).add_to(parish_lay)\n",
    "\n",
    "    # iterating through head\n",
    "    for c, row in grouped_gpd.iterrows():    \n",
    "        cols = [col for col in row.keys() if 'feat_' in col] # getting named cols\n",
    "        names = [col for col, val in row[cols].items() if val > 0] # for tooltip\n",
    "        # parks\n",
    "        try:\n",
    "            tooltip_p = row.Green_Zone_name\n",
    "            park = folium.Choropleth(row.geometry, \n",
    "                                fill_color='#FF0000',\n",
    "                                fill_opacity=.3,\n",
    "                                tooltip=tooltip_p, # still doesnt work\n",
    "                                highlight=True).add_to(park_lay)\n",
    "        except Exception as la:\n",
    "            print(la)\n",
    "\n",
    "        # POIs \n",
    "        try:\n",
    "            for i, poi in enumerate(row.points_feats):\n",
    "                tooltip_poi = names[i]\n",
    "    #             print(tooltip_poi)\n",
    "                folium.Choropleth(poi, \n",
    "                                tooltip=tooltip_poi, \n",
    "                                 fill_opacity=.5).add_to(poi_lay)\n",
    "        except:\n",
    "            pass\n",
    "\n",
    "    # adding all layers\n",
    "    park_lay.add_to(m)\n",
    "    poi_lay.add_to(m)\n",
    "    parish_lay.add_to(m)\n",
    "\n",
    "    LayerControl().add_to(m)\n",
    "\n",
    "    return m\n",
    "\n",
    "interact(mapa, start=starts)"
   ]
  },
  {
   "cell_type": "markdown",
   "id": "b563383a",
   "metadata": {},
   "source": [
    "# Saving df"
   ]
  },
  {
   "cell_type": "code",
   "execution_count": null,
   "id": "63cecef4",
   "metadata": {},
   "outputs": [],
   "source": [
    "df_fin = pd.DataFrame(grouped_gpd.drop(columns=['geometry', 'points_feats', 'index', 'latlng']))\n",
    "df_fin.to_csv('data/green_areas_dico.csv')"
   ]
  },
  {
   "cell_type": "code",
   "execution_count": null,
   "id": "fe3cc63d",
   "metadata": {},
   "outputs": [],
   "source": [
    "# reload\n",
    "dl_construct = 'https://drive.google.com/uc?export=download&id='\n",
    "file_id1 = '1viY2xYcFe_m29i0TOATZOSAAsjnaf1Iy'\n",
    "csv = requests.get(f'{dl_construct}{file_id1}').content\n",
    "# url = 'https://drive.google.com/file/d/1viY2xYcFe_m29i0TOATZOSAAsjnaf1Iy/view?usp=sharing'\n",
    "# csv = requests.get(url).content\n",
    "mem = BytesIO(csv)\n",
    "# check\n",
    "pd.read_csv(mem, \n",
    "            index_col=0,\n",
    "           ).head()"
   ]
  }
 ],
 "metadata": {
  "kernelspec": {
   "display_name": "Python 3",
   "language": "python",
   "name": "python3"
  },
  "language_info": {
   "codemirror_mode": {
    "name": "ipython",
    "version": 3
   },
   "file_extension": ".py",
   "mimetype": "text/x-python",
   "name": "python",
   "nbconvert_exporter": "python",
   "pygments_lexer": "ipython3",
   "version": "3.8.6"
  },
  "toc": {
   "base_numbering": 1,
   "nav_menu": {},
   "number_sections": true,
   "sideBar": true,
   "skip_h1_title": false,
   "title_cell": "Table of Contents",
   "title_sidebar": "Contents",
   "toc_cell": false,
   "toc_position": {},
   "toc_section_display": true,
   "toc_window_display": false
  }
 },
 "nbformat": 4,
 "nbformat_minor": 5
}
